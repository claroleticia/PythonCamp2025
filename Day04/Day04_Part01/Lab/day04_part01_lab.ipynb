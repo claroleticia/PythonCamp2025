{
 "cells": [
  {
   "cell_type": "markdown",
   "id": "b2e460a6-7112-41f2-9cf5-57bc990b9380",
   "metadata": {},
   "source": [
    "# Lab: NumPy and Pandas"
   ]
  },
  {
   "cell_type": "markdown",
   "id": "3d406095-01c1-412d-8319-a4b5e28218e7",
   "metadata": {},
   "source": [
    "### 1. Pandas"
   ]
  },
  {
   "cell_type": "markdown",
   "id": "fbf43a23-fc8f-4681-aeee-44fa824ac78e",
   "metadata": {},
   "source": [
    "* Read in file `life_expectancy_data.csv`"
   ]
  },
  {
   "cell_type": "code",
   "execution_count": 1,
   "id": "a144a019-2b52-4619-8957-3c38e276b4ec",
   "metadata": {},
   "outputs": [],
   "source": [
    "# YOUR CODE HERE"
   ]
  },
  {
   "cell_type": "markdown",
   "id": "b395eee1-08e3-4f50-938a-0f7ac6a86614",
   "metadata": {},
   "source": [
    "* Rename columns "
   ]
  },
  {
   "cell_type": "markdown",
   "id": "0bb539b5-ec45-4926-ad74-2496be7fe925",
   "metadata": {},
   "source": [
    "1. Make them all lower case, remove all hyphens, whitespace, and slashes.\n",
    "2. Make \"Income composition of resources\" --> \"composition\", and \"BMI\" --> \"avg_bmi\".\n",
    "3. Change the name of \"under-five deaths\" to something else of your choosing."
   ]
  },
  {
   "cell_type": "code",
   "execution_count": 2,
   "id": "f79836d4-52ae-4982-a3ca-f6834b1a7c42",
   "metadata": {},
   "outputs": [],
   "source": [
    "# YOUR CODE HERE"
   ]
  },
  {
   "cell_type": "markdown",
   "id": "c0caeb20-523c-48eb-b1ab-29763dd88be0",
   "metadata": {},
   "source": [
    "* Feature engineering"
   ]
  },
  {
   "cell_type": "markdown",
   "id": "e9e05f2c-a7cf-41c9-bab6-0c49cb98a33b",
   "metadata": {},
   "source": [
    "1. Combine the two \"thinness\" variables somehow\n",
    "2. Transform the GDP and Population variables somehow\n",
    "3. Make country and status variables into dummies. Give them a prefix of 'dum' to keep track of them\n",
    "4. Combine GDP and one of the expenditure variables into a new variable"
   ]
  },
  {
   "cell_type": "code",
   "execution_count": 7,
   "id": "6de4d2f8-adce-4b75-b324-0d695e143ac4",
   "metadata": {},
   "outputs": [],
   "source": [
    "# YOUR CODE HERE"
   ]
  },
  {
   "cell_type": "code",
   "execution_count": 3,
   "id": "5dde3dee-601b-4b03-a69a-139f36bd97e2",
   "metadata": {},
   "outputs": [],
   "source": [
    "# to access all your dummy cols\n",
    "le_df[[col for col in le_df if col.startswith('dum')]]"
   ]
  },
  {
   "cell_type": "markdown",
   "id": "9d04628c-e92f-49ec-9c9a-a0a6cc6196f3",
   "metadata": {},
   "source": [
    "* Summarize data"
   ]
  },
  {
   "cell_type": "markdown",
   "id": "ba767d60-f99a-4663-b80e-b74291ce6c9a",
   "metadata": {},
   "source": [
    "1. How many observations are there for developing countries?\n",
    "2. Drop all observations with missing values. How many rows were there before and how many are there now?\n",
    "3. How old is the oldest observation?"
   ]
  },
  {
   "cell_type": "code",
   "execution_count": null,
   "id": "2194df56-2b45-4b49-a662-7916ced2d4f8",
   "metadata": {},
   "outputs": [],
   "source": [
    "# YOUR CODE HERE"
   ]
  },
  {
   "cell_type": "markdown",
   "id": "21890740-563e-4bc1-ba18-815306c9f182",
   "metadata": {},
   "source": [
    "* Generate outputs"
   ]
  },
  {
   "cell_type": "markdown",
   "id": "3f5fe0bb-56d2-4ae8-a60b-94a22602a5e9",
   "metadata": {},
   "source": [
    "1. Export the new dataset as a CSV in your lab folder.\n",
    "2. Keep the following columns in a new dataset called `le2`: all your engineered features plus Life Expectancy, Schooling, GDP, total expenditures, and BMI. Drop everything else."
   ]
  },
  {
   "cell_type": "code",
   "execution_count": 133,
   "id": "0a62d3b9-a95d-4420-b388-7cac9eb009bd",
   "metadata": {},
   "outputs": [],
   "source": [
    "# YOUR CODE HERE"
   ]
  },
  {
   "cell_type": "markdown",
   "id": "4ab363dc-644a-4be7-8a2d-6c5df1528022",
   "metadata": {},
   "source": [
    "### 2. NumPy"
   ]
  },
  {
   "cell_type": "markdown",
   "id": "20a8c7cb-ec22-43f3-b26b-629072200f8b",
   "metadata": {},
   "source": [
    "* Define the following NumPy arrays:\n",
    "    1. `X`, containing the `schooling` and `gdp` variables in `le2`\n",
    "    2. `y`, containing only the life expectancy variable"
   ]
  },
  {
   "cell_type": "code",
   "execution_count": 4,
   "id": "e20dd362-ef20-4292-9ebf-2746b5859e67",
   "metadata": {},
   "outputs": [],
   "source": [
    "# YOUR CODE HERE"
   ]
  },
  {
   "cell_type": "markdown",
   "id": "49693a52-fe6b-4144-9a9e-d7ab6d6cdaa1",
   "metadata": {},
   "source": [
    "* Regression by hand\n",
    "    1. Using linear algebra operations, perform OLS to estimate $\\beta = (X^TX)^{-1}X^TY$. What is the coefficient estimate for the effect of schooling on life expectancy?"
   ]
  },
  {
   "cell_type": "code",
   "execution_count": 5,
   "id": "e62e394b-2592-49be-846a-c1d12b065d46",
   "metadata": {},
   "outputs": [],
   "source": [
    "# YOUR CODE HERE"
   ]
  },
  {
   "cell_type": "markdown",
   "id": "6945f596-93b2-49bd-8d01-0147c342b274",
   "metadata": {},
   "source": [
    "### 3. Random Forest"
   ]
  },
  {
   "cell_type": "markdown",
   "id": "03efb621-31f7-4d46-8c27-62542eb40fb4",
   "metadata": {},
   "source": [
    "* Train a random forest classifier to predict whether a country is \"developed\" in a given year based on all the other features, including life expectancy."
   ]
  },
  {
   "cell_type": "code",
   "execution_count": 6,
   "id": "c1ad9eb6-3d27-4f26-a3b7-45ddb2558ea2",
   "metadata": {},
   "outputs": [],
   "source": [
    "# YOUR CODE HERE"
   ]
  },
  {
   "cell_type": "markdown",
   "id": "a6417d3c-b998-4a34-9546-3a13929ba1b7",
   "metadata": {},
   "source": [
    "* **Bonus:** Can you figure out how to extract feature importance from the classifier?"
   ]
  }
 ],
 "metadata": {
  "kernelspec": {
   "display_name": "Python 3 (ipykernel)",
   "language": "python",
   "name": "python3"
  },
  "language_info": {
   "codemirror_mode": {
    "name": "ipython",
    "version": 3
   },
   "file_extension": ".py",
   "mimetype": "text/x-python",
   "name": "python",
   "nbconvert_exporter": "python",
   "pygments_lexer": "ipython3",
   "version": "3.12.4"
  }
 },
 "nbformat": 4,
 "nbformat_minor": 5
}
