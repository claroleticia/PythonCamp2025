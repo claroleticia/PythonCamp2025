{
  "cells": [
    {
      "cell_type": "markdown",
      "metadata": {},
      "source": [
        "# CLASS 00 — Installation\n",
        "\n",
        "**Notebook:** `installation_guide.ipynb`  \n",
        "**Goal:** Get set up with Git/GitHub and a local copy of the class repository so you can pull materials and submit work.\n"
      ]
    },
    {
      "cell_type": "markdown",
      "metadata": {},
      "source": [
        "## Part 1: Git & GitHub\n",
        "\n",
        "### What are these?\n",
        "- **Git**: a version control system to track and manage changes to code/projects.\n",
        "- **GitHub**: a website that hosts Git repositories (where our course repo lives).\n",
        "\n",
        "You’ll **fork** the class repo (make your copy), **clone** it to your computer, and keep it synced with the instructor’s repo.\n"
      ]
    },
    {
      "cell_type": "markdown",
      "metadata": {},
      "source": [
        "## Step 0 — Prereqs \n",
        "1. Create or sign in to a GitHub account: <https://github.com>\n",
        "2. Install Git:\n",
        "   - **macOS (Homebrew):**\n",
        "     ```bash\n",
        "     brew install git\n",
        "     ```\n",
        "   - **Windows:** Download “Git for Windows” from <https://git-scm.com/download/win> and install.\n",
        "   - **Linux (Debian/Ubuntu):**\n",
        "     ```bash\n",
        "     sudo apt-get update && sudo apt-get install -y git\n",
        "     ```\n",
        "3. Verify installation:\n",
        "   ```bash\n",
        "   git --version\n",
        "   ```\n",
        "\n",
        "> Optional but recommended (sets your commit identity):\n",
        "```bash\n",
        "git config --global user.name \"Your Name\"\n",
        "git config --global user.email \"your_email@example.com\"\n",
        "```\n"
      ]
    },
    {
      "cell_type": "markdown",
      "metadata": {},
      "source": [
        "## Step 1 — Fork the class repository (on GitHub)\n",
        "1. Go to the class repo (instructor’s original):\n",
        "   ```\n",
        "   https://github.com/instructor-name/PythonCamp2025\n",
        "   ```\n",
        "2. Click **Fork** (top-right) → You’ll land on **your** fork:\n",
        "   ```\n",
        "   https://github.com/<YOUR_GITHUB_USERNAME>/PythonCamp2025\n",
        "   ```\n"
      ]
    },
    {
      "cell_type": "markdown",
      "metadata": {},
      "source": [
        "## Step 2 — Clone **your fork** (to your computer)\n",
        "1. On **your fork’s** page, click the green **Code** button → copy the HTTPS URL.\n",
        "2. In Terminal/Command Prompt, `cd` to where you want the folder (Desktop is fine), then:\n",
        "   ```bash\n",
        "   cd Desktop\n",
        "   git clone https://github.com/<YOUR_GITHUB_USERNAME>/PythonCamp2025.git\n",
        "   cd PythonCamp2025\n",
        "   ```\n",
        "3. Confirm you’re inside the repo:\n",
        "   ```bash\n",
        "   git status\n",
        "   ```\n",
        "   You should see something like: `On branch main` and `nothing to commit, working tree clean`.\n",
        "\n",
        "**Tip:** Example prompts you might see:\n",
        "- macOS: `(base) Your-Mac ~ %`\n",
        "- Windows PowerShell: `PS C:\\Users\\you>`\n",
        "\n",
        "### 👏 Nice work! You have it in your computer!"
      ]
    },
    {
      "cell_type": "markdown",
      "metadata": {},
      "source": [
        "## Step 3 — Set up remotes (origin & upstream)\n",
        "Your repo knows where to push/pull from using **remotes**.\n",
        "\n",
        "- **origin** = **your** fork (`<YOUR_GITHUB_USERNAME>/PythonCamp2025`)\n",
        "- **upstream** = the **instructor’s** repo (`instructor-name/PythonCamp2025`)\n",
        "\n",
        "1. Check current remotes:\n",
        "   ```bash\n",
        "   git remote -v\n",
        "   ```\n",
        "   You should see **origin** pointing to your fork.\n",
        "2. Add the **upstream** remote (instructor’s repo):\n",
        "   ```bash\n",
        "   git remote add upstream https://github.com/instructor-name/PythonCamp2025.git\n",
        "   ```\n",
        "3. Verify:\n",
        "   ```bash\n",
        "   git remote -v\n",
        "   ```\n",
        "   You should see both:\n",
        "   ```\n",
        "   origin   https://github.com/<YOUR_GITHUB_USERNAME>/PythonCamp2025.git (fetch)\n",
        "   origin   https://github.com/<YOUR_GITHUB_USERNAME>/PythonCamp2025.git (push)\n",
        "   upstream https://github.com/instructor-name/PythonCamp2025.git      (fetch)\n",
        "   upstream https://github.com/instructor-name/PythonCamp2025.git      (push)\n",
        "   ```\n"
      ]
    },
    {
      "cell_type": "markdown",
      "metadata": {},
      "source": [
        "## Step 4 — Your daily workflow (edit → add → commit → push)\n",
        "When you work on exercises/labs/HW:\n",
        "\n",
        "1. See what changed:\n",
        "   ```bash\n",
        "   git status\n",
        "   ```\n",
        "2. Stage everything (or pick specific files):\n",
        "   ```bash\n",
        "   git add --all\n",
        "   # or: git add path/to/file.ipynb\n",
        "   ```\n",
        "3. Commit with a short, informative message:\n",
        "   ```bash\n",
        "   git commit -m \"Finish HW1 Q1–Q3\"\n",
        "   ```\n",
        "4. Push to **your fork** on GitHub:\n",
        "   ```bash\n",
        "   git push origin main\n",
        "   ```\n"
      ]
    },
    {
      "cell_type": "markdown",
      "metadata": {},
      "source": [
        "## Step 5 — Keep your fork up to date (pull instructor changes)\n",
        "When the instructor posts new materials:\n",
        "\n",
        "```bash\n",
        "# Make sure you're on main\n",
        "git checkout main\n",
        "\n",
        "# Get the latest changes from the instructor\n",
        "git fetch upstream\n",
        "\n",
        "# Merge them into your local main\n",
        "git merge upstream/main\n",
        "\n",
        "# Push your updated main back to your fork (optional but recommended)\n",
        "git push origin main\n",
        "```\n",
        "\n",
        "> Shortcut (equivalent, if you haven’t modified merge settings):\n",
        "```bash\n",
        "git pull upstream main\n",
        "```\n"
      ]
    },
    {
      "cell_type": "markdown",
      "metadata": {},
      "source": [
        "## Step 6 — If merge conflicts happen (don’t panic)\n",
        "1. Git will list files with conflicts in your Terminal.\n",
        "2. Open each conflicted file in an editor and look for markers:\n",
        "   ```\n",
        "   <<<<<<< HEAD\n",
        "   …your version…\n",
        "   =======\n",
        "   …upstream (instructor) version…\n",
        "   >>>>>>> upstream/main\n",
        "   ```\n",
        "3. Decide what to keep, delete the markers, save the file.\n",
        "4. Finish the merge:\n",
        "   ```bash\n",
        "   git add path/to/conflicted_file\n",
        "   git commit -m \"Resolve merge conflicts\"\n",
        "   git push origin main\n",
        "   ```\n",
        "5. If needed, re-run:\n",
        "   ```bash\n",
        "   git merge upstream/main\n",
        "   ```\n"
      ]
    },
    {
      "cell_type": "markdown",
      "metadata": {},
      "source": [
        "## Common hiccups & quick fixes\n",
        "\n",
        "- **Not logged in on GitHub.com**  \n",
        "  You might not see **Fork** or can’t access a private repo. Log in, then reload.\n",
        "\n",
        "- **“Permission denied (publickey)” when cloning/pushing**  \n",
        "  You likely copied the SSH URL without SSH keys set up. Use the **HTTPS** URL instead:\n",
        "  ```\n",
        "  https://github.com/<YOUR_GITHUB_USERNAME>/PythonCamp2025.git\n",
        "  ```\n",
        "\n",
        "- **“fatal: not a git repository”**  \n",
        "  Make sure you’re inside the `PythonCamp2025` folder (`cd PythonCamp2025`) before running Git commands.\n",
        "\n",
        "- **“Updates were rejected because the remote contains work that you do not have locally”**  \n",
        "  Pull first, then push:\n",
        "  ```bash\n",
        "  git pull origin main --rebase\n",
        "  # resolve any conflicts, then\n",
        "  git push origin main\n",
        "  ```\n",
        "\n",
        "- **Wrong branch name**  \n",
        "  We use `main`. If you’re on something else, switch:\n",
        "  ```bash\n",
        "  git checkout main\n",
        "  ```\n"
      ]
    },
    {
      "cell_type": "markdown",
      "metadata": {},
      "source": [
        "## (Optional) GitHub Desktop\n",
        "Prefer a GUI? You can fork on the website and then **Open with GitHub Desktop** to clone, commit, and push with buttons. \n",
        "You’ll still need to add `upstream` once via the app’s Repository settings or via Terminal.\n"
      ]
    },
    {
      "cell_type": "markdown",
      "metadata": {},
      "source": [
        "### You’re set!\n",
        "You now have:\n",
        "- A GitHub account\n",
        "- A local clone of **your fork**\n",
        "- `origin` (your fork) and `upstream` (instructor’s repo) configured\n",
        "- A workflow to **pull updates** and **push your work**\n",
        "\n",
        "### 👏 Well done!\n"
      ]
    },
    {
      "cell_type": "markdown",
      "id": "e5cc4e23",
      "metadata": {},
      "source": [
        "## Part 2: Python\n",
        "\n",
        "**Goal:** Install Python 3, test your setup, and choose an IDE."
      ]
    },
    {
      "cell_type": "markdown",
      "id": "dc999683",
      "metadata": {},
      "source": [
        "## Step 1 — Install Python 3\n",
        "⚠️ **Make sure you install Python 3 (not Python 2).**\n",
        "\n",
        "You can install Python in several ways depending on your system and how you plan to use it. Each has pros and cons:\n",
        "\n",
        "- **The straightforward way:** Download from the official website  \n",
        "  <https://www.python.org/downloads/>\n",
        "\n",
        "- **Using Homebrew (macOS):**  \n",
        "  <https://mac.install.guide/python/brew>\n",
        "\n",
        "- **Using Pyenv (recommended if you want multiple versions):**  \n",
        "  <https://github.com/pyenv/pyenv?tab=readme-ov-file>  \n",
        "  <https://realpython.com/intro-to-pyenv/#why-use-pyenv>\n",
        "\n",
        "- **Using Anaconda (popular in data science, good for managing environments):**  \n",
        "  <https://www.anaconda.com/>  \n",
        "  <https://www.bairesdev.com/blog/anaconda-vs-python-programming/>\n",
        "\n",
        "👉 Read about the pros/cons of each to choose what works best for you.\n"
      ]
    },
    {
      "cell_type": "markdown",
      "id": "4207c30a",
      "metadata": {},
      "source": [
        "## Step 2 — Test your installation\n",
        "Once installed, test in your **Terminal / Command Prompt**:\n",
        "\n",
        "```bash\n",
        "python -V\n",
        "```\n",
        "Example output:\n",
        "```\n",
        "Python 3.12.4\n",
        "```\n",
        "\n",
        "### Syntax test\n",
        "Run this inside Python:\n",
        "\n",
        "```python\n",
        "print \"Hello world\"\n",
        "```\n",
        "Should give an error (that’s Python 2 syntax):\n",
        "```\n",
        "SyntaxError: Missing parentheses in call to 'print'. Did you mean print(...)?\n",
        "```\n",
        "\n",
        "Now try the correct Python 3 syntax:\n",
        "```python\n",
        "print(\"Hello world\")\n",
        "```\n",
        "Expected output:\n",
        "```\n",
        "Hello world\n",
        "```\n"
      ]
    },
    {
      "cell_type": "markdown",
      "id": "86499ecf",
      "metadata": {},
      "source": [
        "## Step 3 — Choose an IDE\n",
        "You’ll need an **IDE (Integrated Development Environment)** to write and run Python code. Popular options:\n",
        "\n",
        "- **VS Code** (👉 Used by many developers, very customizable, my lectures will be given in this IDE): <https://code.visualstudio.com/>\n",
        "- **Jupyter Notebook** (it can be used on its own): <https://jupyter.org/>\n",
        "- **Spyder** (similar look/feel to RStudio): <https://www.spyder-ide.org/>\n",
        "- **PyCharm** (professional IDE): <https://www.jetbrains.com/pycharm/>\n",
        "\n",
        "\n",
        "💡 Recommendation: Start with **VS Code** for class, but explore others depending on your workflow.\n"
      ]
    },
    {
      "cell_type": "markdown",
      "id": "13b9b5f9",
      "metadata": {},
      "source": [
        "## 🎉 You’re ready for camp!\n",
        "At this point, you should have:\n",
        "- Python 3 installed\n",
        "- Confirmed it runs correctly\n",
        "- Picked an IDE to use\n",
        "\n"
      ]
    }
  ],
  "metadata": {
    "kernelspec": {
      "display_name": "Python 3",
      "language": "python",
      "name": "python3"
    },
    "language_info": {
      "name": "python",
      "version": "3.x"
    }
  },
  "nbformat": 4,
  "nbformat_minor": 5
}
