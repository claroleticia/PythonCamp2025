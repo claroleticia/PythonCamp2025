{
 "cells": [
  {
   "cell_type": "markdown",
   "metadata": {
    "editable": true,
    "slideshow": {
     "slide_type": "slide"
    },
    "tags": []
   },
   "source": [
    "# Regular Expressions and Naive Bayes Classification"
   ]
  },
  {
   "cell_type": "markdown",
   "metadata": {
    "editable": true,
    "slideshow": {
     "slide_type": "slide"
    },
    "tags": []
   },
   "source": [
    "### 1. Regular Expressions"
   ]
  },
  {
   "cell_type": "markdown",
   "metadata": {
    "editable": true,
    "slideshow": {
     "slide_type": "fragment"
    },
    "tags": []
   },
   "source": [
    "- Regular expressions are useful for extracting information from text.\n",
    "- Set of “rules” to identify or match a particular sequence of characters.\n",
    "- Most text in utf-8 or utf-16: letters, digits, punctuation and symbols\n",
    "- In Python, mainly through library `re`"
   ]
  },
  {
   "cell_type": "code",
   "execution_count": 1,
   "metadata": {
    "editable": true,
    "slideshow": {
     "slide_type": "fragment"
    },
    "tags": []
   },
   "outputs": [],
   "source": [
    "# Set Directory\n",
    "import os\n",
    "# os.getcwd()\n",
    "# os.chdir('/Users/almavelazquez/Documents/GitHub/PythonCamp2024/Day06/Lecture')"
   ]
  },
  {
   "cell_type": "code",
   "execution_count": 2,
   "metadata": {
    "editable": true,
    "slideshow": {
     "slide_type": "fragment"
    },
    "tags": []
   },
   "outputs": [],
   "source": [
    "# For regular expressions\n",
    "import re "
   ]
  },
  {
   "cell_type": "markdown",
   "metadata": {
    "editable": true,
    "slideshow": {
     "slide_type": "subslide"
    },
    "tags": []
   },
   "source": [
    "* As a demonstration, we will work with Obama's 2008 concession speech from New Hampshire primary.\n",
    "* Read in the sample text, and remember:\n",
    "    * `readlines` makes a list of each line break in file"
   ]
  },
  {
   "cell_type": "code",
   "execution_count": 3,
   "metadata": {
    "editable": true,
    "slideshow": {
     "slide_type": "fragment"
    },
    "tags": []
   },
   "outputs": [],
   "source": [
    "with open(\"obama-nh.txt\", \"r\") as f:\n",
    "  text = f.readlines()"
   ]
  },
  {
   "cell_type": "markdown",
   "metadata": {
    "editable": true,
    "slideshow": {
     "slide_type": "fragment"
    },
    "tags": []
   },
   "source": [
    "* Let's take a look at how this file is structured "
   ]
  },
  {
   "cell_type": "code",
   "execution_count": 53,
   "metadata": {
    "editable": true,
    "slideshow": {
     "slide_type": "fragment"
    },
    "tags": []
   },
   "outputs": [
    {
     "name": "stdout",
     "output_type": "stream",
     "text": [
      "I want to congratulate Senator Clinton on a hard-fought victory here in\n",
      "\n",
      "New Hampshire.\n",
      "\n",
      "\n",
      "\n",
      "['I want to congratulate Senator Clinton on a hard-fought victory here in\\n', 'New Hampshire.\\n', '\\n']\n"
     ]
    }
   ],
   "source": [
    "print(text[0])\n",
    "print(text[1])\n",
    "print(text[2])\n",
    "\n",
    "print(text[0:3])"
   ]
  },
  {
   "cell_type": "markdown",
   "metadata": {
    "editable": true,
    "slideshow": {
     "slide_type": "subslide"
    },
    "tags": []
   },
   "source": [
    "* We can also join all lines into one string"
   ]
  },
  {
   "cell_type": "code",
   "execution_count": null,
   "metadata": {
    "editable": true,
    "slideshow": {
     "slide_type": "fragment"
    },
    "tags": []
   },
   "outputs": [
    {
     "data": {
      "text/plain": [
       "\"I want to congratulate Senator Clinton on a hard-fought victory here in\\nNew Hampshire.\\n\\nA few weeks ago, no one imagined that we'd have accomplished what we did\\nhere tonight. For most of this campaign, we were far behind, and we\\nalways knew our climb would be steep. But in record numbers, you came\\nout and spoke up for change. And with your voices and your votes, you\\nmade it clear that at this moment - in this election - there is\\nsomething happening in America.\\n\\nThere is something happening when men and women in Des Moines and\\nDavenport; in Lebanon and Concord come out in the snows of January to\\nwait in lines that stretch block after block because they believe in\\nwhat this country can be.\\n\\nThere is something happening when Americans who are young in age and in\\nspirit - who have never before participated in politics - turn out in\\nnumbers we've never seen because they know in their hearts that this\\ntime must be different.\\n\\nThere is something happening when people vote not just for the party\\nthey belong to but the hopes they hold in common - that whether we are\\nrich or poor; black or white; Latino or Asian; whether we hail from Iowa\\nor New Hampshire, Nevada or South Carolina, we are ready to take this\\ncountry in a fundamentally new direction. That is what's happening in\\nAmerica right now. Change is what's happening in America.\\n\\nYou can be the new majority who can lead this nation out of a long\\npolitical darkness - Democrats, Independents and Republicans who are\\ntired of the division and distraction that has clouded Washington; who\\nknow that we can disagree without being disagreeable; who understand\\nthat if we mobilize our voices to challenge the money and influence\\nthat's stood in our way and challenge ourselves to reach for something\\nbetter, there's no problem we can't solve - no destiny we cannot\\nfulfill.\\n\\nOur new American majority can end the outrage of unaffordable,\\nunavailable health care in our time. We can bring doctors and patients;\\nworkers and businesses, Democrats and Republicans together; and we can\\ntell the drug and insurance industry that while they'll get a seat at\\nthe table, they don't get to buy every chair. Not this time. Not\\nnow. Our new majority can end the tax breaks for corporations that ship\\nour jobs overseas and put a middle-class tax cut into the pockets of the\\nworking Americans who deserve it.\\n\\nWe can stop sending our children to schools with corridors of shame and\\nstart putting them on a pathway to success. We can stop talking about\\nhow great teachers are and start rewarding them for their greatness. We\\ncan do this with our new majority.\\n\\nWe can harness the ingenuity of farmers and scientists; citizens and\\nentrepreneurs to free this nation from the tyranny of oil and save our\\nplanet from a point of no return. And when I am President, we will end\\nthis war in Iraq and bring our troops home; we will finish the job\\nagainst al Qaeda in Afghanistan; we will care for our veterans; we will\\nrestore our moral standing in the world; and we will never use 9/11 as a\\nway to scare up votes, because it is not a tactic to win an election, it\\nis a challenge that should unite America and the world against the\\ncommon threats of the twenty-first century: terrorism and nuclear\\nweapons; climate change and poverty; genocide and disease.\\n\\nAll of the candidates in this race share these goals. All have good\\nideas. And all are patriots who serve this country honorably.\\n\\nBut the reason our campaign has always been different is because it's\\nnot just about what I will do as President, it's also about what you,\\nthe people who love this country, can do to change it.\\n\\nThat's why tonight belongs to you.\\n\\nIt belongs to the organizers and the volunteers and the staff who\\nbelieved in our improbable journey and rallied so many others to join.\\n\\nWe know the battle ahead will be long, but always remember that no\\nmatter what obstacles stand in our way, nothing can withstand the power\\nof millions of voices calling for change. We have been told we cannot do\\nthis by a chorus of cynics who will only grow louder and more dissonant\\nin the weeks to come.\\n\\nWe've been asked to pause for a reality check. We've been warned against\\noffering the people of this nation false hope.\\n\\nBut in the unlikely story that is America, there has never been anything\\nfalse about hope. For when we have faced down impossible odds; when\\nwe've been told that we're not ready, or that we shouldn't try, or that\\nwe can't, generations of Americans have responded with a simple creed\\nthat sums up the spirit of a people.\\n\\nYes we can.\\n\\nIt was a creed written into the founding documents that declared the\\ndestiny of a nation.\\n\\nYes we can.\\n\\nIt was whispered by slaves and abolitionists as they blazed a trail\\ntoward freedom through the darkest of nights.\\n\\nYes we can.\\n\\nIt was sung by immigrants as they struck out from distant shores and\\npioneers who pushed westward against an unforgiving wilderness.\\n\\nYes we can.\\n\\nIt was the call of workers who organized; women who reached for the\\nballot; a President who chose the moon as our new frontier; and a King\\nwho took us to the mountaintop and pointed the way to the Promised Land.\\n\\nYes we can to justice and equality. Yes we can to opportunity and\\nprosperity. Yes we can heal this nation. Yes we can repair this\\nworld. Yes we can.\\n\\nAnd so tomorrow, as we take this campaign South and West; as we learn\\nthat the struggles of the textile worker in Spartanburg are not so\\ndifferent than the plight of the dishwasher in Las Vegas; that the hopes\\nof the little girl who goes to a crumbling school in Dillon are the same\\nas the dreams of the boy who learns on the streets of LA; we will\\nremember that there is something happening in America; that we are not\\nas divided as our politics suggests; that we are one people; we are one\\nnation; and together, we will begin the next great chapter in America's\\nstory with three words that will ring from coast to coast; from sea to\\nshining sea - Yes. We. Can.\\n\\\\Backslash\\n\""
      ]
     },
     "execution_count": 49,
     "metadata": {},
     "output_type": "execute_result"
    }
   ],
   "source": [
    "alltext = ''.join(text) "
   ]
  },
  {
   "cell_type": "markdown",
   "metadata": {
    "editable": true,
    "slideshow": {
     "slide_type": "fragment"
    },
    "tags": []
   },
   "source": [
    "* What could we have done at the outset instead?"
   ]
  },
  {
   "cell_type": "code",
   "execution_count": 51,
   "metadata": {
    "editable": true,
    "slideshow": {
     "slide_type": "fragment"
    },
    "tags": []
   },
   "outputs": [
    {
     "name": "stdout",
     "output_type": "stream",
     "text": [
      "I want to congratulate Senator Clinton on a hard-fought victory here in\n",
      "New Hampshire.\n",
      "\n",
      "A few weeks ago, no one imagined that we'd have accomplished what we did\n",
      "here tonight. For most of this campaign, we were far behind, and we\n",
      "always knew our climb would be steep. But in record numbers, you came\n",
      "out and spoke up for change. And with your voices and your votes, you\n",
      "made it clear that at this moment - in this election - there is\n",
      "something happening in America.\n",
      "\n",
      "There is something happening when men and women in Des Moines and\n",
      "Davenport; in Lebanon and Concord come out in the snows of January to\n",
      "wait in lines that stretch block after block because they believe in\n",
      "what this country can be.\n",
      "\n",
      "There is something happening when Americans who are young in age and in\n",
      "spirit - who have never before participated in politics - turn out in\n",
      "numbers we've never seen because they know in their hearts that this\n",
      "time must be different.\n",
      "\n",
      "There is something happening when people vote not just for the party\n",
      "they belong to but the hopes they hold in common - that whether we are\n",
      "rich or poor; black or white; Latino or Asian; whether we hail from Iowa\n",
      "or New Hampshire, Nevada or South Carolina, we are ready to take this\n",
      "country in a fundamentally new direction. That is what's happening in\n",
      "America right now. Change is what's happening in America.\n",
      "\n",
      "You can be the new majority who can lead this nation out of a long\n",
      "political darkness - Democrats, Independents and Republicans who are\n",
      "tired of the division and distraction that has clouded Washington; who\n",
      "know that we can disagree without being disagreeable; who understand\n",
      "that if we mobilize our voices to challenge the money and influence\n",
      "that's stood in our way and challenge ourselves to reach for something\n",
      "better, there's no problem we can't solve - no destiny we cannot\n",
      "fulfill.\n",
      "\n",
      "Our new American majority can end the outrage of unaffordable,\n",
      "unavailable health care in our time. We can bring doctors and patients;\n",
      "workers and businesses, Democrats and Republicans together; and we can\n",
      "tell the drug and insurance industry that while they'll get a seat at\n",
      "the table, they don't get to buy every chair. Not this time. Not\n",
      "now. Our new majority can end the tax breaks for corporations that ship\n",
      "our jobs overseas and put a middle-class tax cut into the pockets of the\n",
      "working Americans who deserve it.\n",
      "\n",
      "We can stop sending our children to schools with corridors of shame and\n",
      "start putting them on a pathway to success. We can stop talking about\n",
      "how great teachers are and start rewarding them for their greatness. We\n",
      "can do this with our new majority.\n",
      "\n",
      "We can harness the ingenuity of farmers and scientists; citizens and\n",
      "entrepreneurs to free this nation from the tyranny of oil and save our\n",
      "planet from a point of no return. And when I am President, we will end\n",
      "this war in Iraq and bring our troops home; we will finish the job\n",
      "against al Qaeda in Afghanistan; we will care for our veterans; we will\n",
      "restore our moral standing in the world; and we will never use 9/11 as a\n",
      "way to scare up votes, because it is not a tactic to win an election, it\n",
      "is a challenge that should unite America and the world against the\n",
      "common threats of the twenty-first century: terrorism and nuclear\n",
      "weapons; climate change and poverty; genocide and disease.\n",
      "\n",
      "All of the candidates in this race share these goals. All have good\n",
      "ideas. And all are patriots who serve this country honorably.\n",
      "\n",
      "But the reason our campaign has always been different is because it's\n",
      "not just about what I will do as President, it's also about what you,\n",
      "the people who love this country, can do to change it.\n",
      "\n",
      "That's why tonight belongs to you.\n",
      "\n",
      "It belongs to the organizers and the volunteers and the staff who\n",
      "believed in our improbable journey and rallied so many others to join.\n",
      "\n",
      "We know the battle ahead will be long, but always remember that no\n",
      "matter what obstacles stand in our way, nothing can withstand the power\n",
      "of millions of voices calling for change. We have been told we cannot do\n",
      "this by a chorus of cynics who will only grow louder and more dissonant\n",
      "in the weeks to come.\n",
      "\n",
      "We've been asked to pause for a reality check. We've been warned against\n",
      "offering the people of this nation false hope.\n",
      "\n",
      "But in the unlikely story that is America, there has never been anything\n",
      "false about hope. For when we have faced down impossible odds; when\n",
      "we've been told that we're not ready, or that we shouldn't try, or that\n",
      "we can't, generations of Americans have responded with a simple creed\n",
      "that sums up the spirit of a people.\n",
      "\n",
      "Yes we can.\n",
      "\n",
      "It was a creed written into the founding documents that declared the\n",
      "destiny of a nation.\n",
      "\n",
      "Yes we can.\n",
      "\n",
      "It was whispered by slaves and abolitionists as they blazed a trail\n",
      "toward freedom through the darkest of nights.\n",
      "\n",
      "Yes we can.\n",
      "\n",
      "It was sung by immigrants as they struck out from distant shores and\n",
      "pioneers who pushed westward against an unforgiving wilderness.\n",
      "\n",
      "Yes we can.\n",
      "\n",
      "It was the call of workers who organized; women who reached for the\n",
      "ballot; a President who chose the moon as our new frontier; and a King\n",
      "who took us to the mountaintop and pointed the way to the Promised Land.\n",
      "\n",
      "Yes we can to justice and equality. Yes we can to opportunity and\n",
      "prosperity. Yes we can heal this nation. Yes we can repair this\n",
      "world. Yes we can.\n",
      "\n",
      "And so tomorrow, as we take this campaign South and West; as we learn\n",
      "that the struggles of the textile worker in Spartanburg are not so\n",
      "different than the plight of the dishwasher in Las Vegas; that the hopes\n",
      "of the little girl who goes to a crumbling school in Dillon are the same\n",
      "as the dreams of the boy who learns on the streets of LA; we will\n",
      "remember that there is something happening in America; that we are not\n",
      "as divided as our politics suggests; that we are one people; we are one\n",
      "nation; and together, we will begin the next great chapter in America's\n",
      "story with three words that will ring from coast to coast; from sea to\n",
      "shining sea - Yes. We. Can.\n",
      "\\Backslash\n",
      "\n"
     ]
    }
   ],
   "source": [
    "with open(\"obama-nh.txt\", \"r\") as f:\n",
    "  alltext = f.read()\n",
    "  print(alltext)"
   ]
  },
  {
   "cell_type": "markdown",
   "metadata": {
    "editable": true,
    "jp-MarkdownHeadingCollapsed": true,
    "slideshow": {
     "slide_type": "slide"
    },
    "tags": []
   },
   "source": [
    "#### 1.1 Useful functions from the `re` module:"
   ]
  },
  {
   "cell_type": "markdown",
   "metadata": {
    "editable": true,
    "slideshow": {
     "slide_type": "fragment"
    },
    "tags": []
   },
   "source": [
    "- `re.findall`: Return all non-overlapping matches of pattern \n",
    "            in string, as a list of strings\n",
    "- `re.split`: Split string by the occurrences of pattern.\n",
    "- `re.match`: Search the beginning of the string for a\n",
    "          regular expression and return the first occurrence.\n",
    "          Returns a match object.\n",
    "- `re.search`: Like re.match, but will check all lines of the input string. (first match)\n",
    "- `re.compile`: Compile a regular expression pattern into a regular \n",
    "            expression object, which can be used for matching using\n",
    "            match(), search() and other methods\n",
    "\n",
    "Source: https://docs.python.org/3/library/re.html"
   ]
  },
  {
   "cell_type": "markdown",
   "metadata": {
    "editable": true,
    "slideshow": {
     "slide_type": "subslide"
    },
    "tags": []
   },
   "source": [
    "Let's run some examples!"
   ]
  },
  {
   "cell_type": "markdown",
   "metadata": {
    "editable": true,
    "slideshow": {
     "slide_type": "fragment"
    },
    "tags": []
   },
   "source": [
    "* Both lines find all instances of \"Yes we can\""
   ]
  },
  {
   "cell_type": "code",
   "execution_count": 7,
   "metadata": {
    "editable": true,
    "slideshow": {
     "slide_type": "fragment"
    },
    "tags": []
   },
   "outputs": [
    {
     "data": {
      "text/plain": [
       "['Yes we can',\n",
       " 'Yes we can',\n",
       " 'Yes we can',\n",
       " 'Yes we can',\n",
       " 'Yes we can',\n",
       " 'Yes we can',\n",
       " 'Yes we can',\n",
       " 'Yes we can',\n",
       " 'Yes we can']"
      ]
     },
     "execution_count": 7,
     "metadata": {},
     "output_type": "execute_result"
    }
   ],
   "source": [
    "# re.findall(pattern = \"Yes we can\", string= alltext) \n",
    "re.findall(\"Yes we can\", alltext) "
   ]
  },
  {
   "cell_type": "markdown",
   "metadata": {
    "editable": true,
    "slideshow": {
     "slide_type": "subslide"
    },
    "tags": []
   },
   "source": [
    "* Here we find all instances of \"American\""
   ]
  },
  {
   "cell_type": "code",
   "execution_count": 8,
   "metadata": {
    "editable": true,
    "slideshow": {
     "slide_type": "fragment"
    },
    "tags": []
   },
   "outputs": [
    {
     "data": {
      "text/plain": [
       "['American', 'American', 'American', 'American']"
      ]
     },
     "execution_count": 8,
     "metadata": {},
     "output_type": "execute_result"
    }
   ],
   "source": [
    "re.findall(\"American\", alltext)"
   ]
  },
  {
   "cell_type": "markdown",
   "metadata": {
    "editable": true,
    "slideshow": {
     "slide_type": "fragment"
    },
    "tags": []
   },
   "source": [
    "* ...And of all breaklines"
   ]
  },
  {
   "cell_type": "code",
   "execution_count": 9,
   "metadata": {
    "editable": true,
    "slideshow": {
     "slide_type": "fragment"
    },
    "tags": []
   },
   "outputs": [
    {
     "data": {
      "text/plain": [
       "['\\n', '\\n', '\\n', '\\n']"
      ]
     },
     "execution_count": 9,
     "metadata": {},
     "output_type": "execute_result"
    }
   ],
   "source": [
    "re.findall(\"\\n\", alltext)[0:4] #...but only print 4"
   ]
  },
  {
   "cell_type": "markdown",
   "metadata": {
    "editable": true,
    "slideshow": {
     "slide_type": "subslide"
    },
    "tags": []
   },
   "source": [
    "* Example of `re.split()`"
   ]
  },
  {
   "cell_type": "code",
   "execution_count": 10,
   "metadata": {
    "editable": true,
    "slideshow": {
     "slide_type": "fragment"
    },
    "tags": []
   },
   "outputs": [
    {
     "data": {
      "text/plain": [
       "[\" in\\nspirit - who have never before participated in politics - turn out in\\nnumbers we've never seen because they know in their hearts that this\\ntime must be different.\\n\\nThere is something happening when people vote not just for the party\\nthey belong to but the hopes they hold in common - that whether we are\\nrich or poor; black or white; Latino or Asian; whether we hail from Iowa\\nor New Hampshire, Nevada or South Carolina, we are ready to take this\\ncountry in a fundamentally new direction. That is what's happening in\\nAmerica right now. Change is what's happening in America.\\n\\nYou can be the new majority who can lead this nation out of a long\\npolitical darkness - Democrats, Independents \",\n",
       " ' Republicans who are\\ntired of the division ',\n",
       " ' distraction that has clouded Washington; who\\nknow that we can disagree without being disagreeable; who underst',\n",
       " '\\nthat if we mobilize our voices to challenge the money ',\n",
       " \" influence\\nthat's stood in our way \"]"
      ]
     },
     "execution_count": 10,
     "metadata": {},
     "output_type": "execute_result"
    }
   ],
   "source": [
    "re.split(\"and\", alltext)[7:12]"
   ]
  },
  {
   "cell_type": "markdown",
   "metadata": {
    "editable": true,
    "slideshow": {
     "slide_type": "subslide"
    },
    "tags": []
   },
   "source": [
    "#### 1.2 Backslash Characters"
   ]
  },
  {
   "cell_type": "markdown",
   "metadata": {
    "editable": true,
    "slideshow": {
     "slide_type": "fragment"
    },
    "tags": []
   },
   "source": [
    "* Regular expressions use the backslash character `\\` to indicte special forms, or to allow special characters to be used without invoking their special meaning. \n",
    "* This collides with Python's usage of the same character for the same purpose in string literals "
   ]
  },
  {
   "cell_type": "markdown",
   "metadata": {
    "editable": true,
    "slideshow": {
     "slide_type": "subslide"
    },
    "tags": []
   },
   "source": [
    "* How do we find the literal character `\\` in our file?\n",
    "* First 2 will give errors"
   ]
  },
  {
   "cell_type": "code",
   "execution_count": null,
   "metadata": {
    "editable": true,
    "slideshow": {
     "slide_type": "fragment"
    },
    "tags": []
   },
   "outputs": [
    {
     "data": {
      "text/plain": [
       "['\\\\']"
      ]
     },
     "execution_count": 11,
     "metadata": {},
     "output_type": "execute_result"
    }
   ],
   "source": [
    "# re.findall(\"\\\", alltext)\n",
    "# re.findall(\"\\\\\", alltext)\n",
    "re.findall(\"\\\\\\\\\", alltext) \n",
    "# regrex engine sees a single backslash as an escape character, so to match a single backslash, we need to escape it with another backslash.   \n",
    "# regrex engine sees \\\\, which means a single backslash.\n",
    "# output is a string representation of a single backslash"
   ]
  },
  {
   "cell_type": "markdown",
   "metadata": {
    "editable": true,
    "slideshow": {
     "slide_type": "subslide"
    },
    "tags": []
   },
   "source": [
    "##### Instead of typing 4 backslashes every time we need to find one..."
   ]
  },
  {
   "cell_type": "markdown",
   "metadata": {
    "editable": true,
    "slideshow": {
     "slide_type": "fragment"
    },
    "tags": []
   },
   "source": [
    "* Another way to address this is to use Python's *raw string notation* for regular expression patterns.\n",
    "* This looks like this`r\"\"`\n",
    "* Backslashes are not handled in any special way in a string prefixed with `r`.  "
   ]
  },
  {
   "cell_type": "markdown",
   "metadata": {
    "editable": true,
    "slideshow": {
     "slide_type": "fragment"
    },
    "tags": []
   },
   "source": [
    "##### So equivalently:"
   ]
  },
  {
   "cell_type": "code",
   "execution_count": 12,
   "metadata": {
    "editable": true,
    "slideshow": {
     "slide_type": "fragment"
    },
    "tags": []
   },
   "outputs": [
    {
     "data": {
      "text/plain": [
       "['\\\\']"
      ]
     },
     "execution_count": 12,
     "metadata": {},
     "output_type": "execute_result"
    }
   ],
   "source": [
    "re.findall(r\"\\\\\", alltext)"
   ]
  },
  {
   "cell_type": "markdown",
   "metadata": {
    "editable": true,
    "slideshow": {
     "slide_type": "subslide"
    },
    "tags": []
   },
   "source": [
    "##### We can also see it in action here:"
   ]
  },
  {
   "cell_type": "markdown",
   "metadata": {
    "editable": true,
    "slideshow": {
     "slide_type": "fragment"
    },
    "tags": []
   },
   "source": [
    "* Prints an actual linebreak"
   ]
  },
  {
   "cell_type": "code",
   "execution_count": 13,
   "metadata": {
    "editable": true,
    "slideshow": {
     "slide_type": "fragment"
    },
    "tags": []
   },
   "outputs": [
    {
     "name": "stdout",
     "output_type": "stream",
     "text": [
      "\n",
      "\n"
     ]
    }
   ],
   "source": [
    "print(\"\\n\")"
   ]
  },
  {
   "cell_type": "markdown",
   "metadata": {
    "editable": true,
    "slideshow": {
     "slide_type": "fragment"
    },
    "tags": []
   },
   "source": [
    "* Prints the character \"\\n\""
   ]
  },
  {
   "cell_type": "code",
   "execution_count": 14,
   "metadata": {
    "editable": true,
    "slideshow": {
     "slide_type": "fragment"
    },
    "tags": []
   },
   "outputs": [
    {
     "name": "stdout",
     "output_type": "stream",
     "text": [
      "\\n\n"
     ]
    }
   ],
   "source": [
    "print(r\"\\n\")"
   ]
  },
  {
   "cell_type": "markdown",
   "metadata": {
    "editable": true,
    "slideshow": {
     "slide_type": "fragment"
    },
    "tags": []
   },
   "source": [
    "* Also prints the character \"\\n\""
   ]
  },
  {
   "cell_type": "code",
   "execution_count": 15,
   "metadata": {
    "editable": true,
    "slideshow": {
     "slide_type": "fragment"
    },
    "tags": []
   },
   "outputs": [
    {
     "name": "stdout",
     "output_type": "stream",
     "text": [
      "\\n\n"
     ]
    }
   ],
   "source": [
    "print(\"\\\\n\")"
   ]
  },
  {
   "cell_type": "markdown",
   "metadata": {
    "editable": true,
    "jp-MarkdownHeadingCollapsed": true,
    "slideshow": {
     "slide_type": "slide"
    },
    "tags": []
   },
   "source": [
    "#### 1.3 Basic special characters"
   ]
  },
  {
   "cell_type": "markdown",
   "metadata": {
    "editable": true,
    "slideshow": {
     "slide_type": "fragment"
    },
    "tags": []
   },
   "source": [
    "* `\\d`: any decimal digit, equivalent to [0-9]"
   ]
  },
  {
   "cell_type": "code",
   "execution_count": 16,
   "metadata": {
    "editable": true,
    "slideshow": {
     "slide_type": "fragment"
    },
    "tags": []
   },
   "outputs": [
    {
     "data": {
      "text/plain": [
       "['9', '1', '1']"
      ]
     },
     "execution_count": 16,
     "metadata": {},
     "output_type": "execute_result"
    }
   ],
   "source": [
    "re.findall(r\"\\d\", alltext) "
   ]
  },
  {
   "cell_type": "markdown",
   "metadata": {
    "editable": true,
    "slideshow": {
     "slide_type": "fragment"
    },
    "tags": []
   },
   "source": [
    "* `\\D`: any character that is NOT a decimal digit, equivalent to ^[0-9]"
   ]
  },
  {
   "cell_type": "code",
   "execution_count": null,
   "metadata": {
    "editable": true,
    "slideshow": {
     "slide_type": "fragment"
    },
    "tags": []
   },
   "outputs": [
    {
     "data": {
      "text/plain": [
       "['I',\n",
       " ' ',\n",
       " 'w',\n",
       " 'a',\n",
       " 'n',\n",
       " 't',\n",
       " ' ',\n",
       " 't',\n",
       " 'o',\n",
       " ' ',\n",
       " 'c',\n",
       " 'o',\n",
       " 'n',\n",
       " 'g',\n",
       " 'r',\n",
       " 'a',\n",
       " 't',\n",
       " 'u',\n",
       " 'l',\n",
       " 'a',\n",
       " 't',\n",
       " 'e',\n",
       " ' ',\n",
       " 'S',\n",
       " 'e',\n",
       " 'n',\n",
       " 'a',\n",
       " 't',\n",
       " 'o',\n",
       " 'r',\n",
       " ' ',\n",
       " 'C',\n",
       " 'l',\n",
       " 'i',\n",
       " 'n',\n",
       " 't',\n",
       " 'o',\n",
       " 'n',\n",
       " ' ',\n",
       " 'o',\n",
       " 'n',\n",
       " ' ',\n",
       " 'a',\n",
       " ' ',\n",
       " 'h',\n",
       " 'a',\n",
       " 'r',\n",
       " 'd',\n",
       " '-',\n",
       " 'f',\n",
       " 'o',\n",
       " 'u',\n",
       " 'g',\n",
       " 'h',\n",
       " 't',\n",
       " ' ',\n",
       " 'v',\n",
       " 'i',\n",
       " 'c',\n",
       " 't',\n",
       " 'o',\n",
       " 'r',\n",
       " 'y',\n",
       " ' ',\n",
       " 'h',\n",
       " 'e',\n",
       " 'r',\n",
       " 'e',\n",
       " ' ',\n",
       " 'i',\n",
       " 'n',\n",
       " '\\n',\n",
       " 'N',\n",
       " 'e',\n",
       " 'w',\n",
       " ' ',\n",
       " 'H',\n",
       " 'a',\n",
       " 'm',\n",
       " 'p',\n",
       " 's',\n",
       " 'h',\n",
       " 'i',\n",
       " 'r',\n",
       " 'e',\n",
       " '.',\n",
       " '\\n',\n",
       " '\\n',\n",
       " 'A',\n",
       " ' ',\n",
       " 'f',\n",
       " 'e',\n",
       " 'w',\n",
       " ' ',\n",
       " 'w',\n",
       " 'e',\n",
       " 'e',\n",
       " 'k',\n",
       " 's',\n",
       " ' ',\n",
       " 'a',\n",
       " 'g',\n",
       " 'o',\n",
       " ',',\n",
       " ' ',\n",
       " 'n',\n",
       " 'o',\n",
       " ' ',\n",
       " 'o',\n",
       " 'n',\n",
       " 'e',\n",
       " ' ',\n",
       " 'i',\n",
       " 'm',\n",
       " 'a',\n",
       " 'g',\n",
       " 'i',\n",
       " 'n',\n",
       " 'e',\n",
       " 'd',\n",
       " ' ',\n",
       " 't',\n",
       " 'h',\n",
       " 'a',\n",
       " 't',\n",
       " ' ',\n",
       " 'w',\n",
       " 'e',\n",
       " \"'\",\n",
       " 'd',\n",
       " ' ',\n",
       " 'h',\n",
       " 'a',\n",
       " 'v',\n",
       " 'e',\n",
       " ' ',\n",
       " 'a',\n",
       " 'c',\n",
       " 'c',\n",
       " 'o',\n",
       " 'm',\n",
       " 'p',\n",
       " 'l',\n",
       " 'i',\n",
       " 's',\n",
       " 'h',\n",
       " 'e',\n",
       " 'd',\n",
       " ' ',\n",
       " 'w',\n",
       " 'h',\n",
       " 'a',\n",
       " 't',\n",
       " ' ',\n",
       " 'w',\n",
       " 'e',\n",
       " ' ',\n",
       " 'd',\n",
       " 'i',\n",
       " 'd',\n",
       " '\\n',\n",
       " 'h',\n",
       " 'e',\n",
       " 'r',\n",
       " 'e',\n",
       " ' ',\n",
       " 't',\n",
       " 'o',\n",
       " 'n',\n",
       " 'i',\n",
       " 'g',\n",
       " 'h',\n",
       " 't',\n",
       " '.',\n",
       " ' ',\n",
       " 'F',\n",
       " 'o',\n",
       " 'r',\n",
       " ' ',\n",
       " 'm',\n",
       " 'o',\n",
       " 's',\n",
       " 't',\n",
       " ' ',\n",
       " 'o',\n",
       " 'f',\n",
       " ' ',\n",
       " 't',\n",
       " 'h',\n",
       " 'i',\n",
       " 's',\n",
       " ' ',\n",
       " 'c',\n",
       " 'a',\n",
       " 'm',\n",
       " 'p',\n",
       " 'a',\n",
       " 'i',\n",
       " 'g',\n",
       " 'n',\n",
       " ',',\n",
       " ' ',\n",
       " 'w',\n",
       " 'e',\n",
       " ' ',\n",
       " 'w',\n",
       " 'e',\n",
       " 'r',\n",
       " 'e',\n",
       " ' ',\n",
       " 'f',\n",
       " 'a',\n",
       " 'r',\n",
       " ' ',\n",
       " 'b',\n",
       " 'e',\n",
       " 'h',\n",
       " 'i',\n",
       " 'n',\n",
       " 'd',\n",
       " ',',\n",
       " ' ',\n",
       " 'a',\n",
       " 'n',\n",
       " 'd',\n",
       " ' ',\n",
       " 'w',\n",
       " 'e',\n",
       " '\\n',\n",
       " 'a',\n",
       " 'l',\n",
       " 'w',\n",
       " 'a',\n",
       " 'y',\n",
       " 's',\n",
       " ' ',\n",
       " 'k',\n",
       " 'n',\n",
       " 'e',\n",
       " 'w',\n",
       " ' ',\n",
       " 'o',\n",
       " 'u',\n",
       " 'r',\n",
       " ' ',\n",
       " 'c',\n",
       " 'l',\n",
       " 'i',\n",
       " 'm',\n",
       " 'b',\n",
       " ' ',\n",
       " 'w',\n",
       " 'o',\n",
       " 'u',\n",
       " 'l',\n",
       " 'd',\n",
       " ' ',\n",
       " 'b',\n",
       " 'e',\n",
       " ' ',\n",
       " 's',\n",
       " 't',\n",
       " 'e',\n",
       " 'e',\n",
       " 'p',\n",
       " '.',\n",
       " ' ',\n",
       " 'B',\n",
       " 'u',\n",
       " 't',\n",
       " ' ',\n",
       " 'i',\n",
       " 'n',\n",
       " ' ',\n",
       " 'r',\n",
       " 'e',\n",
       " 'c',\n",
       " 'o',\n",
       " 'r',\n",
       " 'd',\n",
       " ' ',\n",
       " 'n',\n",
       " 'u',\n",
       " 'm',\n",
       " 'b',\n",
       " 'e',\n",
       " 'r',\n",
       " 's',\n",
       " ',',\n",
       " ' ',\n",
       " 'y',\n",
       " 'o',\n",
       " 'u',\n",
       " ' ',\n",
       " 'c',\n",
       " 'a',\n",
       " 'm',\n",
       " 'e',\n",
       " '\\n',\n",
       " 'o',\n",
       " 'u',\n",
       " 't',\n",
       " ' ',\n",
       " 'a',\n",
       " 'n',\n",
       " 'd',\n",
       " ' ',\n",
       " 's',\n",
       " 'p',\n",
       " 'o',\n",
       " 'k',\n",
       " 'e',\n",
       " ' ',\n",
       " 'u',\n",
       " 'p',\n",
       " ' ',\n",
       " 'f',\n",
       " 'o',\n",
       " 'r',\n",
       " ' ',\n",
       " 'c',\n",
       " 'h',\n",
       " 'a',\n",
       " 'n',\n",
       " 'g',\n",
       " 'e',\n",
       " '.',\n",
       " ' ',\n",
       " 'A',\n",
       " 'n',\n",
       " 'd',\n",
       " ' ',\n",
       " 'w',\n",
       " 'i',\n",
       " 't',\n",
       " 'h',\n",
       " ' ',\n",
       " 'y',\n",
       " 'o',\n",
       " 'u',\n",
       " 'r',\n",
       " ' ',\n",
       " 'v',\n",
       " 'o',\n",
       " 'i',\n",
       " 'c',\n",
       " 'e',\n",
       " 's',\n",
       " ' ',\n",
       " 'a',\n",
       " 'n',\n",
       " 'd',\n",
       " ' ',\n",
       " 'y',\n",
       " 'o',\n",
       " 'u',\n",
       " 'r',\n",
       " ' ',\n",
       " 'v',\n",
       " 'o',\n",
       " 't',\n",
       " 'e',\n",
       " 's',\n",
       " ',',\n",
       " ' ',\n",
       " 'y',\n",
       " 'o',\n",
       " 'u',\n",
       " '\\n',\n",
       " 'm',\n",
       " 'a',\n",
       " 'd',\n",
       " 'e',\n",
       " ' ',\n",
       " 'i',\n",
       " 't',\n",
       " ' ',\n",
       " 'c',\n",
       " 'l',\n",
       " 'e',\n",
       " 'a',\n",
       " 'r',\n",
       " ' ',\n",
       " 't',\n",
       " 'h',\n",
       " 'a',\n",
       " 't',\n",
       " ' ',\n",
       " 'a',\n",
       " 't',\n",
       " ' ',\n",
       " 't',\n",
       " 'h',\n",
       " 'i',\n",
       " 's',\n",
       " ' ',\n",
       " 'm',\n",
       " 'o',\n",
       " 'm',\n",
       " 'e',\n",
       " 'n',\n",
       " 't',\n",
       " ' ',\n",
       " '-',\n",
       " ' ',\n",
       " 'i',\n",
       " 'n',\n",
       " ' ',\n",
       " 't',\n",
       " 'h',\n",
       " 'i',\n",
       " 's',\n",
       " ' ',\n",
       " 'e',\n",
       " 'l',\n",
       " 'e',\n",
       " 'c',\n",
       " 't',\n",
       " 'i',\n",
       " 'o',\n",
       " 'n',\n",
       " ' ',\n",
       " '-',\n",
       " ' ',\n",
       " 't',\n",
       " 'h',\n",
       " 'e',\n",
       " 'r',\n",
       " 'e',\n",
       " ' ',\n",
       " 'i',\n",
       " 's',\n",
       " '\\n',\n",
       " 's',\n",
       " 'o',\n",
       " 'm',\n",
       " 'e',\n",
       " 't',\n",
       " 'h',\n",
       " 'i',\n",
       " 'n',\n",
       " 'g',\n",
       " ' ',\n",
       " 'h',\n",
       " 'a',\n",
       " 'p',\n",
       " 'p',\n",
       " 'e',\n",
       " 'n',\n",
       " 'i',\n",
       " 'n',\n",
       " 'g',\n",
       " ' ',\n",
       " 'i',\n",
       " 'n',\n",
       " ' ',\n",
       " 'A',\n",
       " 'm',\n",
       " 'e',\n",
       " 'r',\n",
       " 'i',\n",
       " 'c',\n",
       " 'a',\n",
       " '.',\n",
       " '\\n',\n",
       " '\\n',\n",
       " 'T',\n",
       " 'h',\n",
       " 'e',\n",
       " 'r',\n",
       " 'e',\n",
       " ' ',\n",
       " 'i',\n",
       " 's',\n",
       " ' ',\n",
       " 's',\n",
       " 'o',\n",
       " 'm',\n",
       " 'e',\n",
       " 't',\n",
       " 'h',\n",
       " 'i',\n",
       " 'n',\n",
       " 'g',\n",
       " ' ',\n",
       " 'h',\n",
       " 'a',\n",
       " 'p',\n",
       " 'p',\n",
       " 'e',\n",
       " 'n',\n",
       " 'i',\n",
       " 'n',\n",
       " 'g',\n",
       " ' ',\n",
       " 'w',\n",
       " 'h',\n",
       " 'e',\n",
       " 'n',\n",
       " ' ',\n",
       " 'm',\n",
       " 'e',\n",
       " 'n',\n",
       " ' ',\n",
       " 'a',\n",
       " 'n',\n",
       " 'd',\n",
       " ' ',\n",
       " 'w',\n",
       " 'o',\n",
       " 'm',\n",
       " 'e',\n",
       " 'n',\n",
       " ' ',\n",
       " 'i',\n",
       " 'n',\n",
       " ' ',\n",
       " 'D',\n",
       " 'e',\n",
       " 's',\n",
       " ' ',\n",
       " 'M',\n",
       " 'o',\n",
       " 'i',\n",
       " 'n',\n",
       " 'e',\n",
       " 's',\n",
       " ' ',\n",
       " 'a',\n",
       " 'n',\n",
       " 'd',\n",
       " '\\n',\n",
       " 'D',\n",
       " 'a',\n",
       " 'v',\n",
       " 'e',\n",
       " 'n',\n",
       " 'p',\n",
       " 'o',\n",
       " 'r',\n",
       " 't',\n",
       " ';',\n",
       " ' ',\n",
       " 'i',\n",
       " 'n',\n",
       " ' ',\n",
       " 'L',\n",
       " 'e',\n",
       " 'b',\n",
       " 'a',\n",
       " 'n',\n",
       " 'o',\n",
       " 'n',\n",
       " ' ',\n",
       " 'a',\n",
       " 'n',\n",
       " 'd',\n",
       " ' ',\n",
       " 'C',\n",
       " 'o',\n",
       " 'n',\n",
       " 'c',\n",
       " 'o',\n",
       " 'r',\n",
       " 'd',\n",
       " ' ',\n",
       " 'c',\n",
       " 'o',\n",
       " 'm',\n",
       " 'e',\n",
       " ' ',\n",
       " 'o',\n",
       " 'u',\n",
       " 't',\n",
       " ' ',\n",
       " 'i',\n",
       " 'n',\n",
       " ' ',\n",
       " 't',\n",
       " 'h',\n",
       " 'e',\n",
       " ' ',\n",
       " 's',\n",
       " 'n',\n",
       " 'o',\n",
       " 'w',\n",
       " 's',\n",
       " ' ',\n",
       " 'o',\n",
       " 'f',\n",
       " ' ',\n",
       " 'J',\n",
       " 'a',\n",
       " 'n',\n",
       " 'u',\n",
       " 'a',\n",
       " 'r',\n",
       " 'y',\n",
       " ' ',\n",
       " 't',\n",
       " 'o',\n",
       " '\\n',\n",
       " 'w',\n",
       " 'a',\n",
       " 'i',\n",
       " 't',\n",
       " ' ',\n",
       " 'i',\n",
       " 'n',\n",
       " ' ',\n",
       " 'l',\n",
       " 'i',\n",
       " 'n',\n",
       " 'e',\n",
       " 's',\n",
       " ' ',\n",
       " 't',\n",
       " 'h',\n",
       " 'a',\n",
       " 't',\n",
       " ' ',\n",
       " 's',\n",
       " 't',\n",
       " 'r',\n",
       " 'e',\n",
       " 't',\n",
       " 'c',\n",
       " 'h',\n",
       " ' ',\n",
       " 'b',\n",
       " 'l',\n",
       " 'o',\n",
       " 'c',\n",
       " 'k',\n",
       " ' ',\n",
       " 'a',\n",
       " 'f',\n",
       " 't',\n",
       " 'e',\n",
       " 'r',\n",
       " ' ',\n",
       " 'b',\n",
       " 'l',\n",
       " 'o',\n",
       " 'c',\n",
       " 'k',\n",
       " ' ',\n",
       " 'b',\n",
       " 'e',\n",
       " 'c',\n",
       " 'a',\n",
       " 'u',\n",
       " 's',\n",
       " 'e',\n",
       " ' ',\n",
       " 't',\n",
       " 'h',\n",
       " 'e',\n",
       " 'y',\n",
       " ' ',\n",
       " 'b',\n",
       " 'e',\n",
       " 'l',\n",
       " 'i',\n",
       " 'e',\n",
       " 'v',\n",
       " 'e',\n",
       " ' ',\n",
       " 'i',\n",
       " 'n',\n",
       " '\\n',\n",
       " 'w',\n",
       " 'h',\n",
       " 'a',\n",
       " 't',\n",
       " ' ',\n",
       " 't',\n",
       " 'h',\n",
       " 'i',\n",
       " 's',\n",
       " ' ',\n",
       " 'c',\n",
       " 'o',\n",
       " 'u',\n",
       " 'n',\n",
       " 't',\n",
       " 'r',\n",
       " 'y',\n",
       " ' ',\n",
       " 'c',\n",
       " 'a',\n",
       " 'n',\n",
       " ' ',\n",
       " 'b',\n",
       " 'e',\n",
       " '.',\n",
       " '\\n',\n",
       " '\\n',\n",
       " 'T',\n",
       " 'h',\n",
       " 'e',\n",
       " 'r',\n",
       " 'e',\n",
       " ' ',\n",
       " 'i',\n",
       " 's',\n",
       " ' ',\n",
       " 's',\n",
       " 'o',\n",
       " 'm',\n",
       " 'e',\n",
       " 't',\n",
       " 'h',\n",
       " 'i',\n",
       " 'n',\n",
       " 'g',\n",
       " ' ',\n",
       " 'h',\n",
       " 'a',\n",
       " 'p',\n",
       " 'p',\n",
       " 'e',\n",
       " 'n',\n",
       " 'i',\n",
       " 'n',\n",
       " 'g',\n",
       " ' ',\n",
       " 'w',\n",
       " 'h',\n",
       " 'e',\n",
       " 'n',\n",
       " ' ',\n",
       " 'A',\n",
       " 'm',\n",
       " 'e',\n",
       " 'r',\n",
       " 'i',\n",
       " 'c',\n",
       " 'a',\n",
       " 'n',\n",
       " 's',\n",
       " ' ',\n",
       " 'w',\n",
       " 'h',\n",
       " 'o',\n",
       " ' ',\n",
       " 'a',\n",
       " 'r',\n",
       " 'e',\n",
       " ' ',\n",
       " 'y',\n",
       " 'o',\n",
       " 'u',\n",
       " 'n',\n",
       " 'g',\n",
       " ' ',\n",
       " 'i',\n",
       " 'n',\n",
       " ' ',\n",
       " 'a',\n",
       " 'g',\n",
       " 'e',\n",
       " ' ',\n",
       " 'a',\n",
       " 'n',\n",
       " 'd',\n",
       " ' ',\n",
       " 'i',\n",
       " 'n',\n",
       " '\\n',\n",
       " 's',\n",
       " 'p',\n",
       " 'i',\n",
       " 'r',\n",
       " 'i',\n",
       " 't',\n",
       " ' ',\n",
       " '-',\n",
       " ' ',\n",
       " 'w',\n",
       " 'h',\n",
       " 'o',\n",
       " ' ',\n",
       " 'h',\n",
       " 'a',\n",
       " 'v',\n",
       " 'e',\n",
       " ' ',\n",
       " 'n',\n",
       " 'e',\n",
       " 'v',\n",
       " 'e',\n",
       " 'r',\n",
       " ' ',\n",
       " 'b',\n",
       " 'e',\n",
       " 'f',\n",
       " 'o',\n",
       " 'r',\n",
       " 'e',\n",
       " ' ',\n",
       " 'p',\n",
       " 'a',\n",
       " 'r',\n",
       " 't',\n",
       " 'i',\n",
       " 'c',\n",
       " 'i',\n",
       " 'p',\n",
       " 'a',\n",
       " 't',\n",
       " 'e',\n",
       " 'd',\n",
       " ' ',\n",
       " 'i',\n",
       " 'n',\n",
       " ' ',\n",
       " 'p',\n",
       " 'o',\n",
       " 'l',\n",
       " 'i',\n",
       " 't',\n",
       " 'i',\n",
       " 'c',\n",
       " 's',\n",
       " ' ',\n",
       " '-',\n",
       " ' ',\n",
       " 't',\n",
       " 'u',\n",
       " 'r',\n",
       " 'n',\n",
       " ' ',\n",
       " 'o',\n",
       " 'u',\n",
       " 't',\n",
       " ' ',\n",
       " 'i',\n",
       " 'n',\n",
       " '\\n',\n",
       " 'n',\n",
       " 'u',\n",
       " 'm',\n",
       " 'b',\n",
       " 'e',\n",
       " 'r',\n",
       " 's',\n",
       " ' ',\n",
       " 'w',\n",
       " 'e',\n",
       " \"'\",\n",
       " 'v',\n",
       " 'e',\n",
       " ' ',\n",
       " 'n',\n",
       " 'e',\n",
       " 'v',\n",
       " 'e',\n",
       " 'r',\n",
       " ' ',\n",
       " 's',\n",
       " 'e',\n",
       " 'e',\n",
       " 'n',\n",
       " ' ',\n",
       " 'b',\n",
       " 'e',\n",
       " 'c',\n",
       " 'a',\n",
       " 'u',\n",
       " 's',\n",
       " 'e',\n",
       " ' ',\n",
       " 't',\n",
       " 'h',\n",
       " 'e',\n",
       " 'y',\n",
       " ' ',\n",
       " 'k',\n",
       " 'n',\n",
       " 'o',\n",
       " 'w',\n",
       " ' ',\n",
       " 'i',\n",
       " 'n',\n",
       " ' ',\n",
       " 't',\n",
       " 'h',\n",
       " 'e',\n",
       " 'i',\n",
       " 'r',\n",
       " ' ',\n",
       " 'h',\n",
       " 'e',\n",
       " 'a',\n",
       " 'r',\n",
       " 't',\n",
       " 's',\n",
       " ' ',\n",
       " 't',\n",
       " 'h',\n",
       " 'a',\n",
       " 't',\n",
       " ' ',\n",
       " 't',\n",
       " 'h',\n",
       " 'i',\n",
       " 's',\n",
       " '\\n',\n",
       " 't',\n",
       " 'i',\n",
       " 'm',\n",
       " 'e',\n",
       " ' ',\n",
       " 'm',\n",
       " 'u',\n",
       " 's',\n",
       " 't',\n",
       " ' ',\n",
       " 'b',\n",
       " 'e',\n",
       " ' ',\n",
       " 'd',\n",
       " 'i',\n",
       " 'f',\n",
       " 'f',\n",
       " 'e',\n",
       " 'r',\n",
       " 'e',\n",
       " 'n',\n",
       " 't',\n",
       " '.',\n",
       " '\\n',\n",
       " '\\n',\n",
       " 'T',\n",
       " 'h',\n",
       " 'e',\n",
       " 'r',\n",
       " 'e',\n",
       " ' ',\n",
       " 'i',\n",
       " 's',\n",
       " ' ',\n",
       " 's',\n",
       " 'o',\n",
       " 'm',\n",
       " 'e',\n",
       " 't',\n",
       " 'h',\n",
       " 'i',\n",
       " 'n',\n",
       " 'g',\n",
       " ' ',\n",
       " 'h',\n",
       " 'a',\n",
       " 'p',\n",
       " 'p',\n",
       " 'e',\n",
       " 'n',\n",
       " 'i',\n",
       " 'n',\n",
       " 'g',\n",
       " ' ',\n",
       " 'w',\n",
       " 'h',\n",
       " 'e',\n",
       " 'n',\n",
       " ' ',\n",
       " 'p',\n",
       " 'e',\n",
       " 'o',\n",
       " 'p',\n",
       " 'l',\n",
       " 'e',\n",
       " ' ',\n",
       " 'v',\n",
       " 'o',\n",
       " 't',\n",
       " 'e',\n",
       " ' ',\n",
       " 'n',\n",
       " 'o',\n",
       " 't',\n",
       " ' ',\n",
       " 'j',\n",
       " 'u',\n",
       " 's',\n",
       " 't',\n",
       " ' ',\n",
       " 'f',\n",
       " 'o',\n",
       " 'r',\n",
       " ' ',\n",
       " 't',\n",
       " 'h',\n",
       " 'e',\n",
       " ' ',\n",
       " 'p',\n",
       " 'a',\n",
       " 'r',\n",
       " ...]"
      ]
     },
     "execution_count": 54,
     "metadata": {},
     "output_type": "execute_result"
    }
   ],
   "source": [
    "# re.findall(r\"\\D\", alltext) "
   ]
  },
  {
   "cell_type": "markdown",
   "metadata": {
    "editable": true,
    "slideshow": {
     "slide_type": "subslide"
    },
    "tags": []
   },
   "source": [
    "* `[]` can be used to indicate *a set* of characters\n",
    "* Line below returns all instances of *each* of the characters in `[]`"
   ]
  },
  {
   "cell_type": "code",
   "execution_count": null,
   "metadata": {
    "editable": true,
    "slideshow": {
     "slide_type": "fragment"
    },
    "tags": []
   },
   "outputs": [
    {
     "data": {
      "text/plain": [
       "['a', 'r', 'a', 'a', 'a', 'r', 'a', 'a', 'r', 'r']"
      ]
     },
     "execution_count": 18,
     "metadata": {},
     "output_type": "execute_result"
    }
   ],
   "source": [
    "re.findall(\"[ar]\", alltext)[0:10]  # pull out all a, r"
   ]
  },
  {
   "cell_type": "markdown",
   "metadata": {
    "editable": true,
    "slideshow": {
     "slide_type": "fragment"
    },
    "tags": []
   },
   "source": [
    "* All instances of the form \"char1 to char2\" in `[char1-char2]`"
   ]
  },
  {
   "cell_type": "code",
   "execution_count": 19,
   "metadata": {
    "editable": true,
    "slideshow": {
     "slide_type": "fragment"
    },
    "tags": []
   },
   "outputs": [
    {
     "data": {
      "text/plain": [
       "['a', 'c', 'a', 'a', 'a', 'a', 'a', 'd', 'c', 'a']"
      ]
     },
     "execution_count": 19,
     "metadata": {},
     "output_type": "execute_result"
    }
   ],
   "source": [
    "re.findall(\"[a-d]\", alltext)[0:10] "
   ]
  },
  {
   "cell_type": "markdown",
   "metadata": {
    "editable": true,
    "slideshow": {
     "slide_type": "subslide"
    },
    "tags": []
   },
   "source": [
    "* Returns all characters, `^`: *except* for those of the form \"char 1 to char 2\" in [^char1-char2]"
   ]
  },
  {
   "cell_type": "code",
   "execution_count": 20,
   "metadata": {
    "editable": true,
    "slideshow": {
     "slide_type": "fragment"
    },
    "tags": []
   },
   "outputs": [
    {
     "data": {
      "text/plain": [
       "['I',\n",
       " ' ',\n",
       " ' ',\n",
       " ' ',\n",
       " ' ',\n",
       " 'S',\n",
       " ' ',\n",
       " 'C',\n",
       " ' ',\n",
       " ' ',\n",
       " ' ',\n",
       " '-',\n",
       " ' ',\n",
       " ' ',\n",
       " ' ',\n",
       " '\\n',\n",
       " 'N',\n",
       " ' ',\n",
       " 'H',\n",
       " '.']"
      ]
     },
     "execution_count": 20,
     "metadata": {},
     "output_type": "execute_result"
    }
   ],
   "source": [
    "re.findall(\"[^a-z]\", alltext)[0:20] "
   ]
  },
  {
   "cell_type": "markdown",
   "metadata": {
    "editable": true,
    "slideshow": {
     "slide_type": "subslide"
    },
    "tags": []
   },
   "source": [
    "* All characters and digits (alphanumeric)"
   ]
  },
  {
   "cell_type": "code",
   "execution_count": 21,
   "metadata": {
    "editable": true,
    "slideshow": {
     "slide_type": "fragment"
    },
    "tags": []
   },
   "outputs": [
    {
     "data": {
      "text/plain": [
       "['I',\n",
       " 'w',\n",
       " 'a',\n",
       " 'n',\n",
       " 't',\n",
       " 't',\n",
       " 'o',\n",
       " 'c',\n",
       " 'o',\n",
       " 'n',\n",
       " 'g',\n",
       " 'r',\n",
       " 'a',\n",
       " 't',\n",
       " 'u',\n",
       " 'l',\n",
       " 'a',\n",
       " 't',\n",
       " 'e']"
      ]
     },
     "execution_count": 21,
     "metadata": {},
     "output_type": "execute_result"
    }
   ],
   "source": [
    "re.findall(\"[a-zA-Z0-9]\", alltext)[0:19]"
   ]
  },
  {
   "cell_type": "markdown",
   "metadata": {
    "editable": true,
    "slideshow": {
     "slide_type": "subslide"
    },
    "tags": []
   },
   "source": [
    "* `\\w`: Any alphanumeric, one word character"
   ]
  },
  {
   "cell_type": "code",
   "execution_count": null,
   "metadata": {
    "editable": true,
    "slideshow": {
     "slide_type": "fragment"
    },
    "tags": []
   },
   "outputs": [
    {
     "data": {
      "text/plain": [
       "['I',\n",
       " 'w',\n",
       " 'a',\n",
       " 'n',\n",
       " 't',\n",
       " 't',\n",
       " 'o',\n",
       " 'c',\n",
       " 'o',\n",
       " 'n',\n",
       " 'g',\n",
       " 'r',\n",
       " 'a',\n",
       " 't',\n",
       " 'u',\n",
       " 'l',\n",
       " 'a',\n",
       " 't',\n",
       " 'e']"
      ]
     },
     "execution_count": 22,
     "metadata": {},
     "output_type": "execute_result"
    }
   ],
   "source": [
    "re.findall(r\"\\w\", alltext)[0:19] # includes _"
   ]
  },
  {
   "cell_type": "markdown",
   "metadata": {
    "editable": true,
    "slideshow": {
     "slide_type": "subslide"
    },
    "tags": []
   },
   "source": [
    "*  `\\W`: non-alphanumeric, the inverse of `\\w`"
   ]
  },
  {
   "cell_type": "code",
   "execution_count": null,
   "metadata": {
    "editable": true,
    "slideshow": {
     "slide_type": "fragment"
    },
    "tags": []
   },
   "outputs": [
    {
     "data": {
      "text/plain": [
       "[' ', ' ', ' ', ' ', ' ', ' ', ' ', ' ', '-', ' ', ' ', ' ', '\\n', ' ', '.']"
      ]
     },
     "execution_count": 23,
     "metadata": {},
     "output_type": "execute_result"
    }
   ],
   "source": [
    "re.findall(r\"\\W\", alltext)[0:15] # same as re.findall(r\"[^a-zA-Z0-9_]\", alltext)"
   ]
  },
  {
   "cell_type": "markdown",
   "metadata": {
    "editable": true,
    "slideshow": {
     "slide_type": "fragment"
    },
    "tags": []
   },
   "source": [
    "* `\\s`: whitespace"
   ]
  },
  {
   "cell_type": "code",
   "execution_count": 24,
   "metadata": {
    "editable": true,
    "slideshow": {
     "slide_type": "fragment"
    },
    "tags": []
   },
   "outputs": [
    {
     "data": {
      "text/plain": [
       "[' ', ' ', ' ', ' ', ' ']"
      ]
     },
     "execution_count": 24,
     "metadata": {},
     "output_type": "execute_result"
    }
   ],
   "source": [
    "re.findall(r\"\\s\", alltext)[0:5]"
   ]
  },
  {
   "cell_type": "markdown",
   "metadata": {
    "editable": true,
    "slideshow": {
     "slide_type": "fragment"
    },
    "tags": []
   },
   "source": [
    "* `\\S`: *non*-whitespace characters"
   ]
  },
  {
   "cell_type": "code",
   "execution_count": 25,
   "metadata": {
    "editable": true,
    "slideshow": {
     "slide_type": "fragment"
    },
    "tags": []
   },
   "outputs": [
    {
     "data": {
      "text/plain": [
       "['I', 'w', 'a', 'n', 't', 't', 'o']"
      ]
     },
     "execution_count": 25,
     "metadata": {},
     "output_type": "execute_result"
    }
   ],
   "source": [
    "re.findall(r\"\\S\", alltext)[0:7]"
   ]
  },
  {
   "cell_type": "markdown",
   "metadata": {
    "editable": true,
    "slideshow": {
     "slide_type": "subslide"
    },
    "tags": []
   },
   "source": [
    "* `.` any character (include white spaces, except a newline)"
   ]
  },
  {
   "cell_type": "code",
   "execution_count": 26,
   "metadata": {
    "editable": true,
    "scrolled": true,
    "slideshow": {
     "slide_type": "fragment"
    },
    "tags": []
   },
   "outputs": [
    {
     "data": {
      "text/plain": [
       "['I', ' ', 'w', 'a', 'n', 't', ' ', 't', 'o', ' ']"
      ]
     },
     "execution_count": 26,
     "metadata": {},
     "output_type": "execute_result"
    }
   ],
   "source": [
    "re.findall(\".\", alltext)[0:10]"
   ]
  },
  {
   "cell_type": "markdown",
   "metadata": {
    "editable": true,
    "slideshow": {
     "slide_type": "fragment"
    },
    "tags": []
   },
   "source": [
    " * `\\` is an escape character (`.` has a special use)"
   ]
  },
  {
   "cell_type": "code",
   "execution_count": 27,
   "metadata": {
    "editable": true,
    "slideshow": {
     "slide_type": "fragment"
    },
    "tags": []
   },
   "outputs": [
    {
     "data": {
      "text/plain": [
       "['.', '.', '.', '.', '.', '.', '.', '.', '.', '.']"
      ]
     },
     "execution_count": 27,
     "metadata": {},
     "output_type": "execute_result"
    }
   ],
   "source": [
    "re.findall(r\"\\.\", alltext)[0:10]"
   ]
  },
  {
   "cell_type": "markdown",
   "metadata": {
    "editable": true,
    "slideshow": {
     "slide_type": "subslide"
    },
    "tags": []
   },
   "source": [
    "* `?`: Makes the preceding expression optional; match 0 or 1 repetitions of the preceding expression"
   ]
  },
  {
   "cell_type": "code",
   "execution_count": 28,
   "metadata": {
    "editable": true,
    "slideshow": {
     "slide_type": "fragment"
    },
    "tags": []
   },
   "outputs": [
    {
     "data": {
      "text/plain": [
       "['A', 'A', 'Am', 'Am', 'A']"
      ]
     },
     "execution_count": 28,
     "metadata": {},
     "output_type": "execute_result"
    }
   ],
   "source": [
    "re.findall(\"Am?\", alltext)[0:5] # This would match A or Am where m is optional"
   ]
  },
  {
   "cell_type": "markdown",
   "metadata": {
    "editable": true,
    "slideshow": {
     "slide_type": "fragment"
    },
    "tags": []
   },
   "source": [
    "* `+`: match 1 or more repetitions of the preceding expression"
   ]
  },
  {
   "cell_type": "code",
   "execution_count": 29,
   "metadata": {
    "editable": true,
    "slideshow": {
     "slide_type": "fragment"
    },
    "tags": []
   },
   "outputs": [
    {
     "data": {
      "text/plain": [
       "['9', '11']"
      ]
     },
     "execution_count": 29,
     "metadata": {},
     "output_type": "execute_result"
    }
   ],
   "source": [
    "re.findall(r\"\\d+\", alltext)\n",
    "# re.findall(\"am+\", alltext)"
   ]
  },
  {
   "cell_type": "markdown",
   "metadata": {
    "editable": true,
    "slideshow": {
     "slide_type": "fragment"
    },
    "tags": []
   },
   "source": [
    "* `*`: match 0 or more repetitions of the preceding expression"
   ]
  },
  {
   "cell_type": "code",
   "execution_count": 30,
   "metadata": {
    "editable": true,
    "slideshow": {
     "slide_type": "fragment"
    },
    "tags": []
   },
   "outputs": [
    {
     "data": {
      "text/plain": [
       "['a', 'a', 'a', 'a', 'a', 'a', 'am', 'a']"
      ]
     },
     "execution_count": 30,
     "metadata": {},
     "output_type": "execute_result"
    }
   ],
   "source": [
    "re.findall(\"am*\", alltext)[0:8] # match a, am, or a followed by any number of m's "
   ]
  },
  {
   "cell_type": "markdown",
   "metadata": {
    "editable": true,
    "slideshow": {
     "slide_type": "subslide"
    },
    "tags": []
   },
   "source": [
    "* Get any word that starts with America"
   ]
  },
  {
   "cell_type": "code",
   "execution_count": 31,
   "metadata": {
    "editable": true,
    "slideshow": {
     "slide_type": "fragment"
    },
    "tags": []
   },
   "outputs": [
    {
     "data": {
      "text/plain": [
       "['America',\n",
       " 'Americans',\n",
       " 'America',\n",
       " 'America',\n",
       " 'American',\n",
       " 'Americans',\n",
       " 'America',\n",
       " 'America',\n",
       " 'Americans',\n",
       " 'America',\n",
       " 'America']"
      ]
     },
     "execution_count": 31,
     "metadata": {},
     "output_type": "execute_result"
    }
   ],
   "source": [
    "re.findall(r\"America[a-z]*\", alltext) "
   ]
  },
  {
   "cell_type": "markdown",
   "metadata": {
    "editable": true,
    "slideshow": {
     "slide_type": "subslide"
    },
    "tags": []
   },
   "source": [
    "* `{m}` specifies exactly m copies of the previous expression should be matched"
   ]
  },
  {
   "cell_type": "code",
   "execution_count": 32,
   "metadata": {
    "editable": true,
    "slideshow": {
     "slide_type": "fragment"
    },
    "tags": []
   },
   "outputs": [
    {
     "data": {
      "text/plain": [
       "['11']"
      ]
     },
     "execution_count": 32,
     "metadata": {},
     "output_type": "execute_result"
    }
   ],
   "source": [
    "# {x} exactly x times (numbers with exact number of digits)\n",
    "re.findall(r\"\\d{2}\", alltext) "
   ]
  },
  {
   "cell_type": "markdown",
   "metadata": {
    "editable": true,
    "slideshow": {
     "slide_type": "fragment"
    },
    "tags": []
   },
   "source": [
    "* `{m,n}` matches from m to n repetitions of the preceding expression, while attempting to match as many repetitions as possible"
   ]
  },
  {
   "cell_type": "code",
   "execution_count": 33,
   "metadata": {
    "editable": true,
    "slideshow": {
     "slide_type": "fragment"
    },
    "tags": []
   },
   "outputs": [
    {
     "data": {
      "text/plain": [
       "['oo', 'oo', 'oo', 'oo', 'oo', 'oo', 'oo', 'oo']"
      ]
     },
     "execution_count": 33,
     "metadata": {},
     "output_type": "execute_result"
    }
   ],
   "source": [
    "re.findall(\"o{2,3}\", alltext) "
   ]
  },
  {
   "cell_type": "markdown",
   "metadata": {
    "editable": true,
    "slideshow": {
     "slide_type": "subslide"
    },
    "tags": []
   },
   "source": [
    "- There are so many more special characters\n",
    "- Regex can be super powerful and complicated \n",
    "- Use parenthese to group things together when using operators like `+`, `*`, `?`, `^`"
   ]
  },
  {
   "cell_type": "markdown",
   "metadata": {
    "editable": true,
    "slideshow": {
     "slide_type": "fragment"
    },
    "tags": []
   },
   "source": [
    "##### Short Exercise: \n",
    "How would we grab 10/10 and 19/18 as they appear in the text using `re.findall()`? "
   ]
  },
  {
   "cell_type": "code",
   "execution_count": 34,
   "metadata": {
    "editable": true,
    "slideshow": {
     "slide_type": "fragment"
    },
    "tags": []
   },
   "outputs": [],
   "source": [
    "x = \"Hi 10/10 hello 19/18 asdf 7/6 and 1/10 or 10/1 \""
   ]
  },
  {
   "cell_type": "markdown",
   "metadata": {
    "editable": true,
    "slideshow": {
     "slide_type": "fragment"
    },
    "tags": []
   },
   "source": [
    "<br>\n",
    "<br>\n",
    "<br>\n",
    "<br>\n",
    "<br>\n",
    "<br>\n",
    "<br>\n",
    "<br>\n",
    "<br>\n",
    "<br>\n",
    "<br>\n",
    "<br>"
   ]
  },
  {
   "cell_type": "markdown",
   "metadata": {
    "editable": true,
    "slideshow": {
     "slide_type": "subslide"
    },
    "tags": []
   },
   "source": [
    "##### Answer"
   ]
  },
  {
   "cell_type": "code",
   "execution_count": 35,
   "metadata": {
    "editable": true,
    "slideshow": {
     "slide_type": "fragment"
    },
    "tags": []
   },
   "outputs": [
    {
     "data": {
      "text/plain": [
       "['10/10', '19/18']"
      ]
     },
     "execution_count": 35,
     "metadata": {},
     "output_type": "execute_result"
    }
   ],
   "source": [
    "re.findall(r\"\\d{2}/\\d{2}\", x) "
   ]
  },
  {
   "cell_type": "markdown",
   "metadata": {
    "editable": true,
    "slideshow": {
     "slide_type": "slide"
    },
    "tags": []
   },
   "source": [
    "#### 1.4 `re.split()`"
   ]
  },
  {
   "cell_type": "markdown",
   "metadata": {
    "editable": true,
    "slideshow": {
     "slide_type": "fragment"
    },
    "tags": []
   },
   "source": [
    "##### Split string by the occurrences of pattern. "
   ]
  },
  {
   "cell_type": "code",
   "execution_count": 36,
   "metadata": {
    "editable": true,
    "slideshow": {
     "slide_type": "fragment"
    },
    "tags": []
   },
   "outputs": [
    {
     "data": {
      "text/plain": [
       "['I want to congratulate Senat',\n",
       " ' Clinton on a hard-fought vict',\n",
       " \"y here in\\nNew Hampshire.\\n\\nA few weeks ago, no one imagined that we'd have accomplished what we did\\nhere tonight. F\",\n",
       " ' most of this campaign, we were far behind, and we\\nalways knew our climb would be steep. But in rec']"
      ]
     },
     "execution_count": 36,
     "metadata": {},
     "output_type": "execute_result"
    }
   ],
   "source": [
    "# splits at 'or', deletes 'or'\n",
    "re.split(\"or\", alltext)[0:4]"
   ]
  },
  {
   "cell_type": "code",
   "execution_count": null,
   "metadata": {
    "editable": true,
    "slideshow": {
     "slide_type": "subslide"
    },
    "tags": []
   },
   "outputs": [
    {
     "data": {
      "text/plain": [
       "[\"I want to congratulate Senator Clinton on a hard-fought victory here in\\nNew Hampshire.\\n\\nA few weeks ago, no one imagined that we'd have accomplished what we did\\nhere tonight. For most of this campaign, we were far behind, and we\\nalways knew our climb would be steep. But in record numbers, you came\\nout and spoke up for change. And with your voices and your votes, you\\nmade it clear that at this moment - in this election - there is\\nsomething happening in \",\n",
       " '.\\n\\nThere is something happening when men and women in Des Moines and\\nDavenport; in Lebanon and Concord come out in the snows of January to\\nwait in lines that stretch block after block because they believe in\\nwhat this country can be.\\n\\nThere is something happening when ',\n",
       " \"ns who are young in age and in\\nspirit - who have never before participated in politics - turn out in\\nnumbers we've never seen because they know in their hearts that this\\ntime must be different.\\n\\nThere is something happening when people vote not just for the party\\nthey belong to but the hopes they hold in common - that whether we are\\nrich or poor; black or white; Latino or Asian; whether we hail from Iowa\\nor New Hampshire, Nevada or South Carolina, we are ready to take this\\ncountry in a fundamentally new direction. That is what's happening in\\n\"]"
      ]
     },
     "execution_count": 37,
     "metadata": {},
     "output_type": "execute_result"
    }
   ],
   "source": [
    "re.split(\"America*\", alltext)[0:3] # Americ, America, Americaa, ..."
   ]
  },
  {
   "cell_type": "markdown",
   "metadata": {
    "editable": true,
    "slideshow": {
     "slide_type": "slide"
    },
    "tags": []
   },
   "source": [
    "#### 1.5 `re.compile()`"
   ]
  },
  {
   "cell_type": "markdown",
   "metadata": {
    "editable": true,
    "slideshow": {
     "slide_type": "fragment"
    },
    "tags": []
   },
   "source": [
    "##### Compile a regular expression pattern into a RE object, which can then be used for matching using the `match()` and `search()` methods. "
   ]
  },
  {
   "cell_type": "code",
   "execution_count": 38,
   "metadata": {
    "editable": true,
    "slideshow": {
     "slide_type": "fragment"
    },
    "tags": []
   },
   "outputs": [],
   "source": [
    "keyword = re.compile(\"America[a-z]*\")"
   ]
  },
  {
   "cell_type": "code",
   "execution_count": 39,
   "metadata": {
    "editable": true,
    "slideshow": {
     "slide_type": "subslide"
    },
    "tags": []
   },
   "outputs": [
    {
     "name": "stdout",
     "output_type": "stream",
     "text": [
      "something happening in America.\n",
      "\n",
      "There is something happening when Americans who are young in age and in\n",
      "\n",
      "America right now. Change is what's happening in America.\n",
      "\n",
      "Our new American majority can end the outrage of unaffordable,\n",
      "\n",
      "working Americans who deserve it.\n",
      "\n",
      "is a challenge that should unite America and the world against the\n",
      "\n",
      "But in the unlikely story that is America, there has never been anything\n",
      "\n",
      "we can't, generations of Americans have responded with a simple creed\n",
      "\n",
      "remember that there is something happening in America; that we are not\n",
      "\n",
      "nation; and together, we will begin the next great chapter in America's\n",
      "\n"
     ]
    }
   ],
   "source": [
    "# search file for keyword in line by line version\n",
    "for l in text: \n",
    "    if keyword.search(l): # reuse the RE here\n",
    "        print(l)"
   ]
  },
  {
   "cell_type": "markdown",
   "metadata": {
    "editable": true,
    "slideshow": {
     "slide_type": "subslide"
    },
    "tags": []
   },
   "source": [
    "* Create a regex object"
   ]
  },
  {
   "cell_type": "code",
   "execution_count": 40,
   "metadata": {
    "editable": true,
    "slideshow": {
     "slide_type": "fragment"
    },
    "tags": []
   },
   "outputs": [],
   "source": [
    "pattern = re.compile(r'\\d+')"
   ]
  },
  {
   "cell_type": "code",
   "execution_count": 41,
   "metadata": {
    "editable": true,
    "slideshow": {
     "slide_type": "fragment"
    },
    "tags": []
   },
   "outputs": [
    {
     "data": {
      "text/plain": [
       "['9', '11']"
      ]
     },
     "execution_count": 41,
     "metadata": {},
     "output_type": "execute_result"
    }
   ],
   "source": [
    "pattern.findall(alltext) # equivalent to the earlier but longer version using RE"
   ]
  },
  {
   "cell_type": "code",
   "execution_count": 57,
   "metadata": {
    "editable": true,
    "slideshow": {
     "slide_type": "fragment"
    },
    "tags": []
   },
   "outputs": [
    {
     "data": {
      "text/plain": [
       "[\"I want to congratulate Senator Clinton on a hard-fought victory here in\\nNew Hampshire.\\n\\nA few weeks ago, no one imagined that we'd have accomplished what we did\\nhere tonight. For most of this campaign, we were far behind, and we\\nalways knew our climb would be steep. But in record numbers, you came\\nout and spoke up for change. And with your voices and your votes, you\\nmade it clear that at this moment - in this election - there is\\nsomething happening in America.\\n\\nThere is something happening when men and women in Des Moines and\\nDavenport; in Lebanon and Concord come out in the snows of January to\\nwait in lines that stretch block after block because they believe in\\nwhat this country can be.\\n\\nThere is something happening when Americans who are young in age and in\\nspirit - who have never before participated in politics - turn out in\\nnumbers we've never seen because they know in their hearts that this\\ntime must be different.\\n\\nThere is something happening when people vote not just for the party\\nthey belong to but the hopes they hold in common - that whether we are\\nrich or poor; black or white; Latino or Asian; whether we hail from Iowa\\nor New Hampshire, Nevada or South Carolina, we are ready to take this\\ncountry in a fundamentally new direction. That is what's happening in\\nAmerica right now. Change is what's happening in America.\\n\\nYou can be the new majority who can lead this nation out of a long\\npolitical darkness - Democrats, Independents and Republicans who are\\ntired of the division and distraction that has clouded Washington; who\\nknow that we can disagree without being disagreeable; who understand\\nthat if we mobilize our voices to challenge the money and influence\\nthat's stood in our way and challenge ourselves to reach for something\\nbetter, there's no problem we can't solve - no destiny we cannot\\nfulfill.\\n\\nOur new American majority can end the outrage of unaffordable,\\nunavailable health care in our time. We can bring doctors and patients;\\nworkers and businesses, Democrats and Republicans together; and we can\\ntell the drug and insurance industry that while they'll get a seat at\\nthe table, they don't get to buy every chair. Not this time. Not\\nnow. Our new majority can end the tax breaks for corporations that ship\\nour jobs overseas and put a middle-class tax cut into the pockets of the\\nworking Americans who deserve it.\\n\\nWe can stop sending our children to schools with corridors of shame and\\nstart putting them on a pathway to success. We can stop talking about\\nhow great teachers are and start rewarding them for their greatness. We\\ncan do this with our new majority.\\n\\nWe can harness the ingenuity of farmers and scientists; citizens and\\nentrepreneurs to free this nation from the tyranny of oil and save our\\nplanet from a point of no return. And when I am President, we will end\\nthis war in Iraq and bring our troops home; we will finish the job\\nagainst al Qaeda in Afghanistan; we will care for our veterans; we will\\nrestore our moral standing in the world; and we will never use \",\n",
       " '/',\n",
       " \" as a\\nway to scare up votes, because it is not a tactic to win an election, it\\nis a challenge that should unite America and the world against the\\ncommon threats of the twenty-first century: terrorism and nuclear\\nweapons; climate change and poverty; genocide and disease.\\n\\nAll of the candidates in this race share these goals. All have good\\nideas. And all are patriots who serve this country honorably.\\n\\nBut the reason our campaign has always been different is because it's\\nnot just about what I will do as President, it's also about what you,\\nthe people who love this country, can do to change it.\\n\\nThat's why tonight belongs to you.\\n\\nIt belongs to the organizers and the volunteers and the staff who\\nbelieved in our improbable journey and rallied so many others to join.\\n\\nWe know the battle ahead will be long, but always remember that no\\nmatter what obstacles stand in our way, nothing can withstand the power\\nof millions of voices calling for change. We have been told we cannot do\\nthis by a chorus of cynics who will only grow louder and more dissonant\\nin the weeks to come.\\n\\nWe've been asked to pause for a reality check. We've been warned against\\noffering the people of this nation false hope.\\n\\nBut in the unlikely story that is America, there has never been anything\\nfalse about hope. For when we have faced down impossible odds; when\\nwe've been told that we're not ready, or that we shouldn't try, or that\\nwe can't, generations of Americans have responded with a simple creed\\nthat sums up the spirit of a people.\\n\\nYes we can.\\n\\nIt was a creed written into the founding documents that declared the\\ndestiny of a nation.\\n\\nYes we can.\\n\\nIt was whispered by slaves and abolitionists as they blazed a trail\\ntoward freedom through the darkest of nights.\\n\\nYes we can.\\n\\nIt was sung by immigrants as they struck out from distant shores and\\npioneers who pushed westward against an unforgiving wilderness.\\n\\nYes we can.\\n\\nIt was the call of workers who organized; women who reached for the\\nballot; a President who chose the moon as our new frontier; and a King\\nwho took us to the mountaintop and pointed the way to the Promised Land.\\n\\nYes we can to justice and equality. Yes we can to opportunity and\\nprosperity. Yes we can heal this nation. Yes we can repair this\\nworld. Yes we can.\\n\\nAnd so tomorrow, as we take this campaign South and West; as we learn\\nthat the struggles of the textile worker in Spartanburg are not so\\ndifferent than the plight of the dishwasher in Las Vegas; that the hopes\\nof the little girl who goes to a crumbling school in Dillon are the same\\nas the dreams of the boy who learns on the streets of LA; we will\\nremember that there is something happening in America; that we are not\\nas divided as our politics suggests; that we are one people; we are one\\nnation; and together, we will begin the next great chapter in America's\\nstory with three words that will ring from coast to coast; from sea to\\nshining sea - Yes. We. Can.\\n\\\\Backslash\\n\"]"
      ]
     },
     "execution_count": 57,
     "metadata": {},
     "output_type": "execute_result"
    }
   ],
   "source": [
    "pattern.split(alltext)"
   ]
  },
  {
   "cell_type": "markdown",
   "metadata": {
    "editable": true,
    "jp-MarkdownHeadingCollapsed": true,
    "slideshow": {
     "slide_type": "slide"
    },
    "tags": []
   },
   "source": [
    "#### 1.6 `re.MULTILINE` or `re.M`"
   ]
  },
  {
   "cell_type": "markdown",
   "metadata": {
    "editable": true,
    "slideshow": {
     "slide_type": "fragment"
    },
    "tags": []
   },
   "source": [
    "\n",
    "\n",
    "##### When specified, it helps to search across lines in a single string. "
   ]
  },
  {
   "cell_type": "code",
   "execution_count": 43,
   "metadata": {
    "editable": true,
    "slideshow": {
     "slide_type": "fragment"
    },
    "tags": []
   },
   "outputs": [
    {
     "name": "stdout",
     "output_type": "stream",
     "text": [
      "python\n",
      "is\n",
      "fun\n"
     ]
    }
   ],
   "source": [
    "mline = \"python\\nis\\nfun\"\n",
    "print(mline)"
   ]
  },
  {
   "cell_type": "markdown",
   "metadata": {
    "editable": true,
    "slideshow": {
     "slide_type": "subslide"
    },
    "tags": []
   },
   "source": [
    "I want to search for \"fun\" in the third line, where it starts with an \"f\"\n",
    "\n",
    "- We can use `^` to search the start of a string\n",
    "- Be careful, `^` when used in `[]` means negating characters\n",
    "- `$` can be used to match the end of a string"
   ]
  },
  {
   "cell_type": "code",
   "execution_count": null,
   "metadata": {
    "editable": true,
    "slideshow": {
     "slide_type": "fragment"
    },
    "tags": []
   },
   "outputs": [
    {
     "data": {
      "text/plain": [
       "[]"
      ]
     },
     "execution_count": 44,
     "metadata": {},
     "output_type": "execute_result"
    }
   ],
   "source": [
    "re.findall(r\"^f\\w*\", mline) # ^ match only start of string, \\w: word characters ([a-zA-Z0-9_]"
   ]
  },
  {
   "cell_type": "code",
   "execution_count": 45,
   "metadata": {
    "editable": true,
    "slideshow": {
     "slide_type": "fragment"
    },
    "tags": []
   },
   "outputs": [
    {
     "data": {
      "text/plain": [
       "['fun']"
      ]
     },
     "execution_count": 45,
     "metadata": {},
     "output_type": "execute_result"
    }
   ],
   "source": [
    "# re.findall(\"^f\\w*\", mline, re.M)\n",
    "re.findall(r\"^f\\w*\", mline, re.MULTILINE)"
   ]
  },
  {
   "cell_type": "markdown",
   "metadata": {
    "editable": true,
    "slideshow": {
     "slide_type": "slide"
    },
    "tags": []
   },
   "source": [
    "#### Short Exercise: \n",
    "\n",
    "What does the following code search for? "
   ]
  },
  {
   "cell_type": "code",
   "execution_count": 46,
   "metadata": {
    "editable": true,
    "slideshow": {
     "slide_type": "fragment"
    },
    "tags": []
   },
   "outputs": [
    {
     "data": {
      "text/plain": [
       "['New Hampshire.',\n",
       " 'something happening in America.',\n",
       " 'what this country can be.',\n",
       " 'time must be different.',\n",
       " \"America right now. Change is what's happening in America.\",\n",
       " 'fulfill.',\n",
       " 'working Americans who deserve it.',\n",
       " 'can do this with our new majority.',\n",
       " 'weapons; climate change and poverty; genocide and disease.',\n",
       " 'ideas. And all are patriots who serve this country honorably.',\n",
       " 'the people who love this country, can do to change it.',\n",
       " \"That's why tonight belongs to you.\",\n",
       " 'believed in our improbable journey and rallied so many others to join.',\n",
       " 'in the weeks to come.',\n",
       " 'offering the people of this nation false hope.']"
      ]
     },
     "execution_count": 46,
     "metadata": {},
     "output_type": "execute_result"
    }
   ],
   "source": [
    "re.findall(r\"^.*\\.$\", alltext, re.MULTILINE)[0:15]"
   ]
  },
  {
   "cell_type": "markdown",
   "metadata": {
    "editable": true,
    "slideshow": {
     "slide_type": "slide"
    },
    "tags": []
   },
   "source": [
    "### 2. Naive Bayes Classification"
   ]
  },
  {
   "cell_type": "markdown",
   "metadata": {
    "editable": true,
    "slideshow": {
     "slide_type": "fragment"
    },
    "tags": []
   },
   "source": [
    "* A conditional probability model that assigns probabilities for each class $k$ to an observation based on its $n$ features or $p(C_k|x_1, ...x_n)$.\n",
    "* The central assumption: all $n$ features are independent of each other, conditional on the class/category $C_k$.\n",
    "* Algorithm relies on Bayes' Theorem + a decision rule $$p(C_k|\\mathbf{x}) = \\dfrac{p(C_k)p(\\mathbf{x}|C_k)}{p(\\mathbf{x})}$$"
   ]
  },
  {
   "cell_type": "markdown",
   "metadata": {
    "editable": true,
    "slideshow": {
     "slide_type": "fragment"
    },
    "tags": []
   },
   "source": [
    "Read more about it: https://en.wikipedia.org/wiki/Naive_Bayes_classifier"
   ]
  },
  {
   "cell_type": "markdown",
   "metadata": {
    "editable": true,
    "slideshow": {
     "slide_type": "subslide"
    },
    "tags": []
   },
   "source": [
    "##### Why/When Naive Bayes"
   ]
  },
  {
   "cell_type": "markdown",
   "metadata": {
    "editable": true,
    "slideshow": {
     "slide_type": "fragment"
    },
    "tags": []
   },
   "source": [
    "* Great first classifier to try, relatively fast, requires less data than other classifiers, and can be very accurate provided assumptions hold\n",
    "* Popular in text classification problems"
   ]
  },
  {
   "cell_type": "markdown",
   "metadata": {
    "editable": true,
    "slideshow": {
     "slide_type": "fragment"
    },
    "tags": []
   },
   "source": [
    "More resources: https://www.analyticsvidhya.com/blog/2017/09/naive-bayes-explained/"
   ]
  },
  {
   "cell_type": "markdown",
   "metadata": {
    "editable": true,
    "slideshow": {
     "slide_type": "subslide"
    },
    "tags": []
   },
   "source": [
    "#### 2.1 Installation and Import Libraries"
   ]
  },
  {
   "cell_type": "code",
   "execution_count": 47,
   "metadata": {
    "editable": true,
    "slideshow": {
     "slide_type": "fragment"
    },
    "tags": []
   },
   "outputs": [],
   "source": [
    "# !pip3 install nltk"
   ]
  },
  {
   "cell_type": "code",
   "execution_count": null,
   "metadata": {
    "editable": true,
    "slideshow": {
     "slide_type": "fragment"
    },
    "tags": []
   },
   "outputs": [
    {
     "name": "stderr",
     "output_type": "stream",
     "text": [
      "[nltk_data] Downloading package names to /Users/riverjeon/nltk_data...\n",
      "[nltk_data]   Unzipping corpora/names.zip.\n"
     ]
    }
   ],
   "source": [
    "import nltk\n",
    "nltk.download('names') \n",
    "from nltk.corpus import names\n",
    "import random"
   ]
  },
  {
   "cell_type": "markdown",
   "metadata": {
    "editable": true,
    "slideshow": {
     "slide_type": "fragment"
    },
    "tags": []
   },
   "source": [
    "Docs for this library: https://www.nltk.org/api/nltk.classify.naivebayes.html"
   ]
  },
  {
   "cell_type": "markdown",
   "metadata": {
    "editable": true,
    "slideshow": {
     "slide_type": "subslide"
    },
    "tags": []
   },
   "source": [
    "* Create a list of tuples with names"
   ]
  },
  {
   "cell_type": "code",
   "execution_count": null,
   "metadata": {
    "editable": true,
    "slideshow": {
     "slide_type": "fragment"
    },
    "tags": []
   },
   "outputs": [],
   "source": [
    "names = ([(name, 'male') for name in names.words('male.txt')] +\n",
    "        [(name, 'female') for name in names.words('female.txt')])\n",
    "\n",
    "# .words(fileid) reads the given file (male.txt or female.txt) and returns a Python list of words"
   ]
  },
  {
   "cell_type": "code",
   "execution_count": 62,
   "metadata": {
    "editable": true,
    "slideshow": {
     "slide_type": "subslide"
    },
    "tags": []
   },
   "outputs": [
    {
     "data": {
      "text/plain": [
       "[('Aamir', 'male'),\n",
       " ('Aaron', 'male'),\n",
       " ('Abbey', 'male'),\n",
       " ('Abbie', 'male'),\n",
       " ('Abbot', 'male'),\n",
       " ('Abbott', 'male'),\n",
       " ('Abby', 'male'),\n",
       " ('Abdel', 'male'),\n",
       " ('Abdul', 'male'),\n",
       " ('Abdulkarim', 'male'),\n",
       " ('Abdullah', 'male'),\n",
       " ('Abe', 'male'),\n",
       " ('Abel', 'male'),\n",
       " ('Abelard', 'male'),\n",
       " ('Abner', 'male'),\n",
       " ('Abraham', 'male'),\n",
       " ('Abram', 'male'),\n",
       " ('Ace', 'male'),\n",
       " ('Adair', 'male'),\n",
       " ('Adam', 'male')]"
      ]
     },
     "execution_count": 62,
     "metadata": {},
     "output_type": "execute_result"
    }
   ],
   "source": [
    "names[0:20]"
   ]
  },
  {
   "cell_type": "markdown",
   "metadata": {
    "editable": true,
    "slideshow": {
     "slide_type": "subslide"
    },
    "tags": []
   },
   "source": [
    "##### Now, we shuffle"
   ]
  },
  {
   "cell_type": "code",
   "execution_count": 63,
   "metadata": {
    "editable": true,
    "slideshow": {
     "slide_type": "fragment"
    },
    "tags": []
   },
   "outputs": [
    {
     "data": {
      "text/plain": [
       "[('Del', 'female'),\n",
       " ('Lorrin', 'female'),\n",
       " ('Daren', 'male'),\n",
       " ('Sky', 'male'),\n",
       " ('Adger', 'male')]"
      ]
     },
     "execution_count": 63,
     "metadata": {},
     "output_type": "execute_result"
    }
   ],
   "source": [
    "random.shuffle(names)\n",
    "names[0:5]"
   ]
  },
  {
   "cell_type": "markdown",
   "metadata": {
    "editable": true,
    "slideshow": {
     "slide_type": "subslide"
    },
    "tags": []
   },
   "source": [
    "#### 2.2 Split Training and Test Sets"
   ]
  },
  {
   "cell_type": "code",
   "execution_count": null,
   "metadata": {
    "editable": true,
    "slideshow": {
     "slide_type": "fragment"
    },
    "tags": []
   },
   "outputs": [
    {
     "name": "stdout",
     "output_type": "stream",
     "text": [
      "[('Del', 'female'), ('Lorrin', 'female'), ('Daren', 'male'), ('Sky', 'male'), ('Adger', 'male'), ('Dafna', 'female'), ('William', 'male'), ('Edsel', 'male'), ('Iris', 'female'), ('Belle', 'female'), ('Keene', 'male'), ('Alaine', 'female'), ('Marcelle', 'female'), ('Kathy', 'female'), ('Hansel', 'male'), ('Austin', 'male'), ('Temp', 'male'), ('Gretal', 'female'), ('Gwennie', 'female'), ('Seth', 'male'), ('Melisent', 'female'), ('Ayn', 'female'), ('Christabelle', 'female'), ('Emalia', 'female'), ('Matilda', 'female'), ('Skipton', 'male'), ('Allyce', 'female'), ('Tammy', 'male'), ('Codie', 'female'), ('Hoyt', 'male'), ('Tessie', 'female'), ('Orella', 'female'), ('Tera', 'female'), ('Malia', 'female'), ('Pearl', 'female'), ('Rafa', 'female'), ('Carilyn', 'female'), ('Von', 'male'), ('Erastus', 'male'), ('Cass', 'male'), ('Lindy', 'male'), ('Karina', 'female'), ('Mersey', 'female'), ('Dorelle', 'female'), ('Blayne', 'male'), ('Rodie', 'female'), ('Lester', 'male'), ('Troy', 'male'), ('Stephani', 'female'), ('Lauren', 'female'), ('Dewitt', 'male'), ('Brynne', 'female'), ('Michel', 'female'), ('Alice', 'female'), ('Avril', 'female'), ('Gail', 'male'), ('Glen', 'male'), ('Dione', 'female'), ('Teodorico', 'male'), ('Cary', 'male'), ('Raymundo', 'male'), ('Christos', 'male'), ('Phyllis', 'female'), ('Delaney', 'female'), ('Sheilakathryn', 'female'), ('Blancha', 'female'), ('Giffie', 'male'), ('Dulcinea', 'female'), ('Stacy', 'male'), ('Blake', 'male'), ('Wilburn', 'male'), ('Ephrayim', 'male'), ('Nevil', 'male'), ('Perry', 'male'), ('Florencia', 'female'), ('Wilt', 'male'), ('Emanuel', 'male'), ('Jolie', 'female'), ('Dorcas', 'female'), ('Paton', 'male'), ('Harrietta', 'female'), ('Jacquette', 'female'), ('Willetta', 'female'), ('Abraham', 'male'), ('Mildrid', 'female'), ('Esther', 'female'), ('Kay', 'female'), ('Glenn', 'male'), ('Mark', 'male'), ('Bernardine', 'female'), ('Wolfy', 'male'), ('Marna', 'female'), ('Fernande', 'female'), ('Alexina', 'female'), ('Ravil', 'male'), ('Krystyna', 'female'), ('Baird', 'male'), ('Melony', 'female'), ('Fredia', 'female'), ('Reinhard', 'male'), ('Trudie', 'female'), ('Renae', 'female'), ('Dieter', 'male'), ('Tracy', 'female'), ('Andriana', 'female'), ('Shirleen', 'female'), ('Jazmin', 'female'), ('Kassi', 'female'), ('Mickie', 'female'), ('Garrett', 'male'), ('Westbrook', 'male'), ('Hobart', 'male'), ('Casi', 'female'), ('Shannon', 'male'), ('Leonelle', 'female'), ('Samuella', 'female'), ('Libbey', 'female'), ('Burta', 'female'), ('Matty', 'male'), ('Claretta', 'female'), ('Harrison', 'male'), ('Sonja', 'female'), ('Meade', 'male'), ('Sashenka', 'female'), ('Gomer', 'male'), ('Latisha', 'female'), ('Seana', 'female'), ('Milissent', 'female'), ('Brewer', 'male'), ('Corrine', 'female'), ('Kiri', 'female'), ('Herschel', 'male'), ('Netti', 'female'), ('Row', 'female'), ('Deloria', 'female'), ('Drea', 'female'), ('Stephie', 'female'), ('Cicily', 'female'), ('Aldis', 'male'), ('Ingaberg', 'female'), ('Fanny', 'female'), ('Margaretta', 'female'), ('Glynnis', 'female'), ('Rufe', 'male'), ('Godwin', 'male'), ('Haley', 'female'), ('Cecilla', 'female'), ('Jordanna', 'female'), ('Lilian', 'female'), ('Lilllie', 'female'), ('Everett', 'male'), ('Mathilde', 'female'), ('Quincy', 'male'), ('Lauretta', 'female'), ('Hanna', 'female'), ('Elana', 'female'), ('Shelly', 'female'), ('Filipe', 'male'), ('Lloyd', 'male'), ('Allissa', 'female'), ('Rollin', 'male'), ('Cherida', 'female'), ('Kirsti', 'female'), ('Jen', 'female'), ('Napoleon', 'male'), ('Clotilda', 'female'), ('Korie', 'female'), ('Cynthie', 'female'), ('Ameline', 'female'), ('Ibrahim', 'male'), ('Fiorenze', 'female'), ('Bette-Ann', 'female'), ('Audrey', 'female'), ('Grant', 'male'), ('Brigit', 'female'), ('Evette', 'female'), ('Lacey', 'female'), ('Hewett', 'male'), ('Lydie', 'female'), ('Elihu', 'male'), ('Timmy', 'male'), ('Kass', 'female'), ('Raina', 'female'), ('Keeley', 'female'), ('Elias', 'male'), ('Melamie', 'female'), ('Fernando', 'male'), ('Madelon', 'female'), ('Shanna', 'female'), ('Clay', 'male'), ('Dulcy', 'female'), ('Anthia', 'female'), ('Rachelle', 'female'), ('Adnan', 'male'), ('Oralia', 'female'), ('Stig', 'male'), ('Juana', 'female'), ('Hillel', 'male'), ('Meredithe', 'female'), ('Cindelyn', 'female'), ('Debee', 'female'), ('Ainslie', 'female'), ('Krystalle', 'female'), ('Anestassia', 'female'), ('Pen', 'male'), ('Tish', 'female'), ('Douglis', 'male'), ('Stan', 'male'), ('Esme', 'male'), ('Clem', 'female'), ('Ez', 'male'), ('Ilse', 'female'), ('Pincas', 'male'), ('Xenia', 'female'), ('Marlo', 'male'), ('Noami', 'female'), ('Albrecht', 'male'), ('Frans', 'male'), ('Blake', 'female'), ('Naoma', 'female'), ('Thomasina', 'female'), ('Corinne', 'female'), ('Debbie', 'female'), ('Phineas', 'male'), ('Davina', 'female'), ('Barbie', 'female'), ('Denys', 'female'), ('Hildegaard', 'female'), ('Dorise', 'female'), ('Marion', 'female'), ('Mordecai', 'male'), ('Jacynth', 'female'), ('Patrice', 'female'), ('Hyman', 'male'), ('Mari', 'female'), ('Merla', 'female'), ('Len', 'male'), ('Jerry', 'male'), ('Quincey', 'male'), ('Johny', 'male'), ('Bernete', 'female'), ('Yolane', 'female'), ('Emil', 'male'), ('Patrica', 'female'), ('Melba', 'female'), ('Carlo', 'male'), ('Chelsey', 'female'), ('Collins', 'male'), ('Rubetta', 'female'), ('Catherina', 'female'), ('Jean-Luc', 'male'), ('Veronique', 'female'), ('Ardis', 'female'), ('Wilone', 'female'), ('Deedee', 'female'), ('Edmund', 'male'), ('Conni', 'female'), ('Amberly', 'female'), ('Renaldo', 'male'), ('Rosanne', 'female'), ('Romola', 'female'), ('Maxine', 'female'), ('Lauri', 'female'), ('Prent', 'male'), ('Nelia', 'female'), ('Tucker', 'male'), ('Hiram', 'male'), ('Hellene', 'female'), ('Loleta', 'female'), ('Christal', 'female'), ('Waleed', 'male'), ('Ilka', 'female'), ('Steward', 'male'), ('Jordan', 'female'), ('Nana', 'female'), ('Janet', 'female'), ('Laurance', 'male'), ('Legra', 'female'), ('Bobbette', 'female'), ('Cletus', 'male'), ('Noel', 'male'), ('Teador', 'male'), ('Raynard', 'male'), ('Luther', 'male'), ('Frayda', 'female'), ('George', 'female'), ('Berthe', 'female'), ('Duke', 'male'), ('Danyette', 'female'), ('Marilin', 'female'), ('Nerissa', 'female'), ('Sherry', 'female'), ('Fidelia', 'female'), ('Cris', 'female'), ('Madge', 'female'), ('Fianna', 'female'), ('Carleen', 'female'), ('Godfry', 'male'), ('Edie', 'female'), ('Bancroft', 'male'), ('Rodolfo', 'male'), ('Uta', 'female'), ('Lorene', 'female'), ('Marley', 'female'), ('Robena', 'female'), ('Mellisent', 'female'), ('Eben', 'male'), ('Lou', 'male'), ('Jeth', 'male'), ('Robb', 'male'), ('Katheryn', 'female'), ('Cheslie', 'female'), ('Bridgett', 'female'), ('Serge', 'male'), ('Mariam', 'female'), ('Aigneis', 'female'), ('Marcelline', 'female'), ('Suzann', 'female'), ('Timmie', 'female'), ('Luanna', 'female'), ('Kerry', 'male'), ('Vittoria', 'female'), ('Dyane', 'female'), ('Allen', 'male'), ('Shawn', 'female'), ('Luke', 'male'), ('Adria', 'female'), ('Apollo', 'male'), ('Garvey', 'male'), ('Nitin', 'female'), ('Rosette', 'female'), ('Jilli', 'female'), ('Damien', 'male'), ('Iolande', 'female'), ('Elisa', 'female'), ('Beauregard', 'male'), ('Harrie', 'female'), ('Bill', 'male'), ('Abby', 'female'), ('Mariann', 'female'), ('Bartholomew', 'male'), ('Jourdan', 'female'), ('Horacio', 'male'), ('Millicent', 'female'), ('Phyllys', 'female'), ('Amelia', 'female'), ('Lula', 'female'), ('Kaitlin', 'female'), ('Noelyn', 'female'), ('Gracia', 'female'), ('Elsa', 'female'), ('Demetris', 'male'), ('Adair', 'male'), ('Dena', 'female'), ('Westleigh', 'male'), ('Suzanne', 'female'), ('Sophey', 'female'), ('Cati', 'female'), ('Murdock', 'male'), ('Allan', 'male'), ('Clare', 'female'), ('Robby', 'female'), ('Noni', 'female'), ('Patty', 'female'), ('Sven', 'male'), ('Allison', 'female'), ('Glynda', 'female'), ('Blare', 'male'), ('Cherise', 'female'), ('Gregory', 'male'), ('Jobye', 'female'), ('Jewelle', 'female'), ('Dalia', 'female'), ('Godart', 'male'), ('Guinna', 'female'), ('Newton', 'male'), ('Milka', 'female'), ('Haley', 'male'), ('Donnamarie', 'female'), ('Jaquelyn', 'female'), ('Prescott', 'male'), ('Miles', 'male'), ('Mollie', 'female'), ('Corly', 'female'), ('Dionne', 'female'), ('Jobie', 'female'), ('Carlos', 'male'), ('Joslyn', 'female'), ('Salome', 'female'), ('Selina', 'female'), ('Gertrudis', 'female'), ('Francisco', 'male'), ('Herold', 'male'), ('Lucas', 'male'), ('Leda', 'female'), ('Lynde', 'female'), ('Teddie', 'female'), ('Annelise', 'female'), ('Debor', 'female'), ('Rosmunda', 'female'), ('Farra', 'female'), ('Kit', 'female'), ('Julie', 'female'), ('Myrle', 'female'), ('Deva', 'female'), ('Karrie', 'female'), ('Stinky', 'male'), ('Ardene', 'female'), ('Thibaud', 'male'), ('Hamlen', 'male'), ('Rees', 'male'), ('Betteanne', 'female'), ('Lora', 'female'), ('Florie', 'female'), ('Nevile', 'male'), ('Quintin', 'male'), ('Barron', 'male'), ('Heddi', 'female'), ('Salvador', 'male'), ('Selena', 'female'), ('Tabbitha', 'female'), ('Lin', 'male'), ('Ede', 'female'), ('Hillery', 'male'), ('Derrin', 'male'), ('Aloise', 'female'), ('Franky', 'female'), ('Jerry', 'female'), ('Carmina', 'female'), ('Marlyn', 'female'), ('Josephus', 'male'), ('Roni', 'male'), ('Melva', 'female'), ('Nicola', 'female'), ('Stefa', 'female'), ('Harriett', 'female'), ('Calypso', 'female'), ('Zeus', 'male'), ('Sena', 'female'), ('Greg', 'male'), ('Fayina', 'female'), ('Zacharias', 'male'), ('Jennie', 'female'), ('Sebastiano', 'male'), ('Jess', 'male'), ('Alyss', 'female'), ('Jody', 'female'), ('Jereme', 'male'), ('Lazare', 'male'), ('Rosemaria', 'female'), ('Atlanta', 'female'), ('Rosamund', 'female'), ('Dimitrou', 'male'), ('Melissa', 'female'), ('Marci', 'female'), ('Jillane', 'female'), ('Kelcy', 'female'), ('Lamb', 'female'), ('Emmie', 'female'), ('Junie', 'female'), ('Laverna', 'female'), ('Annamari', 'female'), ('Sancho', 'male'), ('Nannie', 'female'), ('Ariel', 'male'), ('Geoff', 'male'), ('Christan', 'female'), ('Rori', 'female'), ('Neddy', 'male'), ('Francis', 'male'), ('Barrie', 'male'), ('Mead', 'female'), ('Doralia', 'female'), ('Lindi', 'female'), ('Lonna', 'female'), ('Hatty', 'female'), ('Aridatha', 'female'), ('Micheline', 'female'), ('Danya', 'female'), ('Randee', 'female'), ('Kassandra', 'female'), ('Tally', 'male'), ('Leiah', 'female'), ('Martina', 'female'), ('Griffin', 'male'), ('Sholom', 'male'), ('Tommy', 'male'), ('Malory', 'female'), ('Gordie', 'male'), ('Rayna', 'female'), ('Dirk', 'male'), ('Annabel', 'female'), ('Blakelee', 'female'), ('Maryangelyn', 'female'), ('Haydon', 'male'), ('Thane', 'male'), ('Obadiah', 'male'), ('Valeria', 'female'), ('Adelina', 'female'), ('Melvin', 'male'), ('Kat', 'female'), ('Henrietta', 'female'), ('Jodi', 'male'), ('Darrel', 'male'), ('Joya', 'female'), ('Doralynn', 'female'), ('Heddie', 'female'), ('Aleta', 'female'), ('Estrella', 'female'), ('Sigrid', 'female'), ('Pail', 'male'), ('Margie', 'female'), ('Albertine', 'female'), ('Shaylah', 'female'), ('Emelita', 'female'), ('Euphemia', 'female'), ('Dominica', 'female'), ('Trent', 'male'), ('Laurie', 'male'), ('Sallyann', 'female'), ('Ruddie', 'male'), ('Elmira', 'female'), ('Isador', 'female'), ('Andromeda', 'female'), ('Kelvin', 'male'), ('Elliot', 'male'), ('Oscar', 'male'), ('Elmore', 'male'), ('Mindy', 'female'), ('Cecil', 'female'), ('Adelice', 'female'), ('Nilson', 'male'), ('Kellina', 'female'), ('Lillian', 'female'), ('Donetta', 'female'), ('Carolina', 'female'), ('Ryann', 'female'), ('Mady', 'female'), ('Gizela', 'female'), ('Nels', 'male'), ('Suzetta', 'female'), ('Kylila', 'female'), ('Gillie', 'female'), ('Francene', 'female'), ('Mamie', 'female'), ('Hyacinth', 'female'), ('Luise', 'female'), ('Anton', 'male'), ('Kessia', 'female'), ('Penny', 'female'), ('Levy', 'male'), ('Anna-Maria', 'female'), ('Blanch', 'female'), ('Levin', 'male'), ('Humbert', 'male'), ('Hedda', 'female'), ('Cissie', 'female'), ('Gavrielle', 'female'), ('Ruthanne', 'female'), ('Isadore', 'male'), ('Christie', 'male'), ('Rozamond', 'female'), ('Stevena', 'female'), ('Cami', 'female'), ('Colin', 'male'), ('Fraser', 'male'), ('Quigman', 'male'), ('Alyce', 'female'), ('Annalena', 'female'), ('Henrie', 'male'), ('Doroteya', 'female'), ('Georgeta', 'female'), ('Sherri', 'female'), ('Doll', 'female'), ('Gerrit', 'male'), ('Benton', 'male'), ('Charleen', 'female'), ('Ashish', 'male'), ('Tiena', 'female'), ('Tully', 'male'), ('Carrie', 'female'), ('Ninette', 'female'), ('Alli', 'female'), ('Dawn', 'female'), ('Carree', 'female'), ('Wolfie', 'male'), ('Daffy', 'female'), ('Hyacinthie', 'female'), ('Merrily', 'female'), ('Lynnett', 'female'), ('Zalman', 'male'), ('Eudora', 'female'), ('Hari', 'male'), ('Joelie', 'female'), ('Merissa', 'female'), ('Geoffry', 'male'), ('Web', 'male'), ('Miriam', 'female'), ('Rae', 'female'), ('Galina', 'female'), ('Geo', 'male'), ('Emelda', 'female'), ('Tommi', 'female'), ('Wyndham', 'male'), ('Hammad', 'male'), ('Catlee', 'female'), ('Aimil', 'female'), ('Willy', 'male'), ('Marissa', 'female'), ('Crawford', 'male'), ('Melvyn', 'male'), ('Sinead', 'female'), ('Barnabe', 'male'), ('Locke', 'male'), ('Barbra', 'female'), ('Shel', 'female'), ('Jakob', 'male'), ('Mauricio', 'male'), ('Catherin', 'female'), ('Erich', 'male'), ('Jonis', 'female'), ('Ricard', 'male'), ('Cody', 'female'), ('Atlante', 'female'), ('Minnie', 'female'), ('Odette', 'female'), ('Riane', 'female'), ('Mathew', 'male'), ('Claudio', 'male'), ('Teri', 'female'), ('Norrie', 'female'), ('Paulo', 'male'), ('Deloris', 'female'), ('Bogdan', 'male'), ('Querida', 'female'), ('Geof', 'male'), ('Nada', 'female'), ('Sarajane', 'female'), ('Keely', 'female'), ('Sergei', 'male'), ('Kellia', 'female'), ('Hy', 'male'), ('Florina', 'female'), ('Delila', 'female'), ('Pate', 'male'), ('Rora', 'female'), ('Cassie', 'female'), ('Humphrey', 'male'), ('Kelci', 'female'), ('Brett', 'female'), ('Derrol', 'male'), ('Milicent', 'female'), ('Teresina', 'female'), ('Irwin', 'male'), ('Rosabel', 'female'), ('Mohan', 'male'), ('Raphaela', 'female'), ('Kris', 'female'), ('Derron', 'male'), ('Rosalyn', 'female'), ('Kaylil', 'female'), ('Joellen', 'female'), ('Amalita', 'female'), ('Beckie', 'female'), ('Carolyne', 'female'), ('Roman', 'male'), ('Cyndi', 'female'), ('Caryl', 'male'), ('Chev', 'male'), ('Deerdre', 'female'), ('Ami', 'female'), ('Alethea', 'female'), ('Grace', 'male'), ('Kendre', 'female'), ('Grace', 'female'), ('Emogene', 'female'), ('Kristen', 'female'), ('Vincents', 'male'), ('Tessa', 'female'), ('Kaia', 'female'), ('Shaun', 'male'), ('Marry', 'female'), ('Dyanna', 'female'), ('Selby', 'male'), ('Reube', 'male'), ('Burl', 'male'), ('Marigold', 'female'), ('Nadine', 'female'), ('Gigi', 'female'), ('Deny', 'female'), ('Dynah', 'female'), ('Kimberly', 'female'), ('Guillema', 'female'), ('Pier', 'female'), ('Judith', 'female'), ('Mallissa', 'female'), ('Sibel', 'female'), ('Maribelle', 'female'), ('Nicoline', 'female'), ('Ford', 'male'), ('Maiga', 'female'), ('Sol', 'male'), ('Shadow', 'male'), ('Nona', 'female'), ('Isabella', 'female'), ('Mack', 'male'), ('Connolly', 'male'), ('Stephen', 'male'), ('Ware', 'male'), ('Mario', 'male'), ('Ulick', 'male'), ('Annalee', 'female'), ('West', 'male'), ('Rogers', 'male'), ('Craig', 'male'), ('Pam', 'female'), ('Michail', 'male'), ('Ame', 'female'), ('Carolann', 'female'), ('Virginie', 'female'), ('Jillie', 'female'), ('Valentine', 'female'), ('Audre', 'female'), ('Perceval', 'male'), ('Blithe', 'female'), ('Marylou', 'female'), ('Kevyn', 'female'), ('Jessa', 'female'), ('Willey', 'male'), ('Shimon', 'male'), ('Ted', 'female'), ('Kam', 'male'), ('Marten', 'male'), ('Vivyanne', 'female'), ('Darwin', 'male'), ('Marty', 'female'), ('Carri', 'female'), ('Marthena', 'female'), ('Sara', 'female'), ('Kial', 'female'), ('Josi', 'female'), ('Monte', 'male'), ('Fredra', 'female'), ('Sherlock', 'male'), ('Etienne', 'male'), ('Kally', 'female'), ('Ralina', 'female'), ('Zonnya', 'female'), ('Olin', 'male'), ('Trixy', 'female'), ('Deborah', 'female'), ('Othella', 'female'), ('Morgan', 'female'), ('Damita', 'female'), ('Nancey', 'female'), ('Monica', 'female'), ('Oberon', 'male'), ('Kassie', 'female'), ('Wit', 'male'), ('Maddi', 'female'), ('Parsifal', 'male'), ('Bucky', 'male'), ('Nari', 'female'), ('Tynan', 'male'), ('Sting', 'male'), ('Catharina', 'female'), ('Courtney', 'female'), ('Sal', 'male'), ('Chrystal', 'female'), ('Leela', 'female'), ('Peggie', 'female'), ('Joly', 'female'), ('Zsazsa', 'female'), ('Sheffie', 'male'), ('Berri', 'female'), ('Dorothy', 'female'), ('Shira', 'female'), ('Bambi', 'female'), ('Jordan', 'male'), ('Boris', 'male'), ('Henri', 'male'), ('Matthiew', 'male'), ('Elvis', 'male'), ('Hally', 'female'), ('Shaine', 'female'), ('Bartlett', 'male'), ('Blaine', 'male'), ('Edwin', 'male'), ('Felipa', 'female'), ('Helga', 'female'), ('Irita', 'female'), ('Northrup', 'male'), ('Nickolas', 'male'), ('Gennie', 'female'), ('Traver', 'male'), ('Oneida', 'female'), ('Georgia', 'female'), ('Pennie', 'male'), ('Deanne', 'female'), ('Clint', 'male'), ('Modesta', 'female'), ('Maddie', 'male'), ('Rabbi', 'male'), ('Brian', 'male'), ('Tristan', 'male'), ('Ginni', 'female'), ('Rosalind', 'female'), ('Jackqueline', 'female'), ('Felecia', 'female'), ('Rose', 'female'), ('Almeta', 'female'), ('Maury', 'male'), ('Etheline', 'female'), ('Zippy', 'male'), ('Donelle', 'female'), ('Kathryne', 'female'), ('Julio', 'male'), ('Devon', 'male'), ('Tedman', 'male'), ('Kirsteni', 'female'), ('Morna', 'female'), ('Fabrianne', 'female'), ('Kai', 'female'), ('Marwin', 'male'), ('Jed', 'male'), ('Tamarra', 'female'), ('Meris', 'female'), ('Kim', 'male'), ('Becca', 'female'), ('Patsy', 'male'), ('Cam', 'male'), ('Dulce', 'female'), ('Ichabod', 'male'), ('Belvia', 'female'), ('Amalee', 'female'), ('Ines', 'female'), ('Caterina', 'female'), ('Dionis', 'female'), ('Fannie', 'female'), ('Trenton', 'male'), ('Penrod', 'male'), ('Rochette', 'female'), ('Minetta', 'female'), ('Charisse', 'female'), ('Ernest', 'male'), ('Timothy', 'male'), ('Ivie', 'female'), ('Valeda', 'female'), ('Doretta', 'female'), ('Glenine', 'female'), ('Joanie', 'female'), ('Roda', 'female'), ('Emera', 'female'), ('Sofie', 'female'), ('Gena', 'female'), ('Ivonne', 'female'), ('Beitris', 'female'), ('Chrisy', 'male'), ('Lorilee', 'female'), ('Mala', 'female'), ('Andie', 'male'), ('Maureene', 'female'), ('Godard', 'male'), ('Berti', 'female'), ('Tess', 'female'), ('Analiese', 'female'), ('Bronson', 'male'), ('Anja', 'female'), ('Daisey', 'female'), ('Zacharia', 'male'), ('Chelsie', 'female'), ('Wally', 'female'), ('Manuel', 'male'), ('Art', 'male'), ('Janus', 'male'), ('Mireille', 'female'), ('Selestina', 'female'), ('Zara', 'female'), ('Elbert', 'male'), ('Lucienne', 'female'), ('Quill', 'male'), ('Rab', 'male'), ('Tedda', 'female'), ('Honoria', 'female'), ('Allie', 'female'), ('Janaya', 'female'), ('Martynne', 'female'), ('Christorpher', 'male'), ('Vergil', 'male'), ('Allegra', 'female'), ('Rayshell', 'female'), ('Letty', 'female'), ('Krissy', 'female'), ('Robbert', 'male'), ('Marrilee', 'female'), ('Gabriela', 'female'), ('Henry', 'male'), ('Evangelia', 'female'), ('Dimitry', 'male'), ('Amie', 'female'), ('Aura', 'female'), ('Salem', 'male'), ('Madella', 'female'), ('Denna', 'female'), ('Gladi', 'female'), ('Camellia', 'female'), ('Hilary', 'female'), ('Sean', 'male'), ('Engracia', 'female'), ('Ardelis', 'female'), ('Odilia', 'female'), ('Taryn', 'female'), ('Welch', 'male'), ('Dwain', 'male'), ('Germain', 'female'), ('Socrates', 'male'), ('Ace', 'male'), ('Julieta', 'female'), ('Claresta', 'female'), ('Marilyn', 'female'), ('Rosemarie', 'female'), ('Eloisa', 'female'), ('Cyrill', 'male'), ('Martie', 'female'), ('Fionna', 'female'), ('Jenda', 'female'), ('Persis', 'female'), ('Meara', 'female'), ('Laureen', 'female'), ('Lia', 'female'), ('Junina', 'female'), ('Tabina', 'female'), ('Britaney', 'female'), ('Imelda', 'female'), ('Charmine', 'female'), ('Trever', 'male'), ('Ansel', 'male'), ('Cindi', 'female'), ('Eduard', 'male'), ('Jordy', 'male'), ('Michale', 'male'), ('Mahala', 'female'), ('Trista', 'female'), ('Maia', 'female'), ('Rosana', 'female'), ('Cathyleen', 'female'), ('Binnie', 'female'), ('Willi', 'male'), ('Ulric', 'male'), ('Mellisa', 'female'), ('Eunice', 'female'), ('Linn', 'female'), ('Sheena', 'female'), ('Malena', 'female'), ('Ian', 'male'), ('Madelaine', 'female'), ('Louella', 'female'), ('Waldon', 'male'), ('Waverly', 'male'), ('Prudi', 'female'), ('Sofia', 'female'), ('Mikhail', 'male'), ('Faun', 'female'), ('Goldy', 'female'), ('Gilda', 'female'), ('Lynnet', 'female'), ('Dov', 'male'), ('Lanna', 'female'), ('Desdemona', 'female'), ('Joleen', 'female'), ('Lisha', 'female'), ('Almire', 'female'), ('Berna', 'female'), ('Celestyna', 'female'), ('Thorny', 'male'), ('Joey', 'male'), ('Dorelia', 'female'), ('Millie', 'female'), ('Sherwood', 'male'), ('Earl', 'male'), ('Pepillo', 'male'), ('Chiquita', 'female'), ('Daria', 'female'), ('Anjanette', 'female'), ('Wolfram', 'male'), ('Kelley', 'female'), ('Huntington', 'male'), ('Amata', 'female'), ('Demetre', 'male'), ('Sybyl', 'female'), ('Ranna', 'female'), ('Wyatt', 'male'), ('Lawerence', 'male'), ('Bethanne', 'female'), ('Gideon', 'male'), ('Janenna', 'female'), ('Jerold', 'male'), ('Fletcher', 'male'), ('Mika', 'male'), ('Daryn', 'female'), ('Merril', 'male'), ('Bev', 'female'), ('Harvie', 'male'), ('Esmerelda', 'female'), ('Mag', 'female'), ('Phillipp', 'male'), ('Bell', 'female'), ('Mayor', 'male'), ('Wilfrid', 'male'), ('Maryann', 'female'), ('Bharat', 'male'), ('Bessy', 'female'), ('Dannie', 'male'), ('Isaac', 'male'), ('Hersch', 'male'), ('Crysta', 'female'), ('Davoud', 'male'), ('Ianthe', 'female'), ('Piper', 'female'), ('Ilise', 'female'), ('Carroll', 'female'), ('Ebonee', 'female'), ('Andrei', 'female'), ('Harland', 'male'), ('Sonny', 'female'), ('Dino', 'male'), ('Vite', 'male'), ('Eleanora', 'female'), ('Agna', 'female'), ('Phillida', 'female'), ('Dorita', 'female'), ('Demetris', 'female'), ('Gavra', 'female'), ('Margaretha', 'female'), ('Hal', 'male'), ('Adore', 'female'), ('Fallon', 'female'), ('Lory', 'female'), ('Bruno', 'male'), ('Jessey', 'male'), ('Winn', 'male'), ('Augusto', 'male'), ('Bobby', 'male'), ('Sisely', 'female'), ('Kelli', 'female'), ('Erasmus', 'male'), ('Jeralee', 'female'), ('Randall', 'male'), ('Keri', 'female'), ('Lyn', 'female'), ('Rebe', 'female'), ('Arline', 'female'), ('Modestine', 'female'), ('Adlai', 'male'), ('Trudi', 'female'), ('Leoline', 'female'), ('Alicia', 'female'), ('Higgins', 'male'), ('Germana', 'female'), ('Jaquith', 'female'), ('Esme', 'female'), ('Calla', 'female'), ('Verla', 'female'), ('Izabel', 'female'), ('Francesmary', 'female'), ('Tymothy', 'male'), ('Margurite', 'female'), ('Danica', 'female'), ('Gertrude', 'female'), ('Oralie', 'female'), ('Tova', 'female'), ('Beilul', 'female'), ('Zachery', 'male'), ('Thornton', 'male'), ('Faunie', 'female'), ('Rodi', 'female'), ('Keefe', 'male'), ('Eugine', 'female'), ('Farand', 'female'), ('Anson', 'male'), ('Josie', 'female'), ('Consolata', 'female'), ('Alene', 'female'), ('Tomas', 'male'), ('Nanine', 'female'), ('Katleen', 'female'), ('Cameo', 'female'), ('Regan', 'male'), ('Hazel', 'female'), ('Gusti', 'female'), ('Byron', 'male'), ('Prisca', 'female'), ('Delphina', 'female'), ('Alyssa', 'female'), ('Morly', 'male'), ('Celle', 'female'), ('Claus', 'male'), ('Grazia', 'female'), ('Valdemar', 'male'), ('Billie', 'female'), ('Blair', 'female'), ('Karine', 'female'), ('Nicky', 'male'), ('Benoite', 'female'), ('Fergus', 'male'), ('Mary', 'female'), ('Perri', 'female'), ('Roscoe', 'male'), ('Marti', 'female'), ('Bogart', 'male'), ('Hermia', 'female'), ('Englebert', 'male'), ('Cooper', 'male'), ('Marisa', 'female'), ('Hayden', 'male'), ('Biff', 'male'), ('Dinny', 'female'), ('Dyson', 'male'), ('Nettle', 'female'), ('Jake', 'male'), ('Antony', 'male'), ('Bessie', 'female'), ('Paige', 'male'), ('Sally', 'female'), ('Hanni', 'female'), ('Chris', 'male'), ('Mahmud', 'male'), ('Darcie', 'female'), ('Magdalena', 'female'), ('Jennette', 'female'), ('Ericha', 'female'), ('Myranda', 'female'), ('Dorisa', 'female'), ('Leena', 'female'), ('Constantinos', 'male'), ('Luce', 'male'), ('Davine', 'female'), ('Ophelie', 'female'), ('Karil', 'female'), ('Deina', 'female'), ('Engelbert', 'male'), ('Major', 'male'), ('Rosa', 'female'), ('Leslie', 'female'), ('Vinita', 'female'), ('Chriss', 'female'), ('Cherlyn', 'female'), ('Brenda', 'female'), ('Devonne', 'female'), ('Merrill', 'male'), ('Alisun', 'female'), ('Karon', 'female'), ('Lynne', 'female'), ('Curtis', 'male'), ('Roxane', 'female'), ('Fania', 'female'), ('Sandra', 'female'), ('Belia', 'female'), ('Laryssa', 'female'), ('Carleigh', 'male'), ('Osmond', 'male'), ('Elaine', 'female'), ('Misha', 'female'), ('Dorotea', 'female'), ('Arlyne', 'female'), ('Wojciech', 'male'), ('Susy', 'female'), ('Keenan', 'male'), ('Vassili', 'male'), ('Laurent', 'male'), ('Rudolf', 'male'), ('Rebekah', 'female'), ('Angelico', 'male'), ('Georgianna', 'female'), ('Hesther', 'female'), ('Clary', 'female'), ('Monroe', 'male'), ('Lurlene', 'female'), ('Laurette', 'female'), ('Lorain', 'female'), ('Gabriell', 'male'), ('Bertine', 'female'), ('Rhiamon', 'female'), ('Neel', 'male'), ('Lee', 'male'), ('Roanna', 'female'), ('Nanon', 'female'), ('Tabitha', 'female'), ('Ginny', 'female'), ('Ellene', 'female'), ('Slade', 'male'), ('Melita', 'female'), ('Delphinia', 'female'), ('Neila', 'female'), ('Kania', 'female'), ('Ramsay', 'male'), ('Forester', 'male'), ('Halimeda', 'female'), ('Thomasine', 'female'), ('Curt', 'male'), ('Winonah', 'female'), ('Alanna', 'female'), ('Bettie', 'female'), ('Audi', 'female'), ('Joete', 'female'), ('Shirlee', 'female'), ('Leigh', 'female'), ('Sisile', 'female'), ('Thatcher', 'male'), ('Flynn', 'male'), ('Dionis', 'male'), ('Toby', 'female'), ('Tamar', 'female'), ('Kalil', 'male'), ('Shayne', 'male'), ('Thad', 'male'), ('Coralyn', 'female'), ('Emelina', 'female'), ('Samuela', 'female'), ('Brigid', 'female'), ('Karole', 'female'), ('Sargent', 'male'), ('Danie', 'male'), ('Cosetta', 'female'), ('Tobie', 'female'), ('Bellamy', 'female'), ('Deeann', 'female'), ('Carlyn', 'female'), ('Yardley', 'male'), ('Tarrance', 'male'), ('Mandy', 'female'), ('Halvard', 'male'), ('Vonni', 'female'), ('Kourtney', 'female'), ('Maryellen', 'female'), ('Simonette', 'female'), ('Gearard', 'male'), ('Ilene', 'female'), ('Tracy', 'male'), ('Victoria', 'female'), ('Hilton', 'male'), ('Gale ', 'female'), ('Jade', 'female'), ('Casandra', 'female'), ('Ximenes', 'male'), ('Clive', 'male'), ('Revkah', 'female'), ('Berty', 'female'), ('Delcine', 'female'), ('Darbie', 'female'), ('Margette', 'female'), ('Suki', 'female'), ('Manfred', 'male'), ('Cheri', 'female'), ('Nancie', 'female'), ('Nicolette', 'female'), ('Cecil', 'male'), ('Lilith', 'female'), ('Dolores', 'female'), ('Cappella', 'female'), ('Carly', 'female'), ('Anatoly', 'male'), ('Bobbie', 'female'), ('Janeta', 'female'), ('Edy', 'female'), ('Marget', 'female'), ('Lise', 'female'), ('Marthe', 'female'), ('Spenser', 'male'), ('Klaus', 'male'), ('Ursula', 'female'), ('Abe', 'male'), ('Town', 'male'), ('Hudson', 'male'), ('Bernetta', 'female'), ('Milly', 'female'), ('Jorrie', 'female'), ('Correy', 'female'), ('Siouxie', 'female'), ('Lilias', 'female'), ('Fletch', 'male'), ('Huntlee', 'male'), ('Kenn', 'male'), ('Nicki', 'female'), ('Frederico', 'male'), ('Moises', 'male'), ('Koressa', 'female'), ('Pansy', 'female'), ('Rene', 'male'), ('Annaliese', 'female'), ('Allah', 'male'), ('Steffi', 'female'), ('Urbano', 'male'), ('Katharina', 'female'), ('Emmeline', 'female'), ('Kalindi', 'female'), ('Torey', 'male'), ('Pace', 'male'), ('Roz', 'female'), ('Neysa', 'female'), ('Arleen', 'female'), ('Shelby', 'female'), ('Cyndy', 'female'), ('Sinclair', 'male'), ('Mel', 'male'), ('Win', 'male'), ('Jon', 'male'), ('Lura', 'female'), ('Carlie', 'female'), ('Raleigh', 'male'), ('Kerianne', 'female'), ('Jacquenetta', 'female'), ('Morissa', 'female'), ('Arnoldo', 'male'), ('Tulley', 'male'), ('Luciana', 'female'), ('Samantha', 'female'), ('Averyl', 'female'), ('Tudor', 'male'), ('Chrysler', 'female'), ('Glenda', 'female'), ('Sidney', 'male'), ('Kaleb', 'male'), ('Jack', 'male'), ('Ev', 'male'), ('Augustine', 'male'), ('Ellie', 'female'), ('Skipp', 'male'), ('Elka', 'female'), ('Orelee', 'female'), ('Ferinand', 'male'), ('Sivert', 'male'), ('Dennie', 'male'), ('Ben', 'male'), ('Gary', 'male'), ('Havivah', 'female'), ('Blanca', 'female'), ('Nelie', 'female'), ('Jeffrey', 'male'), ('Pauletta', 'female'), ('Tiphany', 'female'), ('Vilhelm', 'male'), ('Roderich', 'male'), ('Hamil', 'male'), ('Bartolomei', 'male'), ('Markus', 'male'), ('Osbert', 'male'), ('Son', 'male'), ('Brigida', 'female'), ('Marlo', 'female'), ('Hakeem', 'male'), ('Frances', 'female'), ('Nannette', 'female'), ('Lenore', 'female'), ('Dimitri', 'male'), ('Batsheva', 'female'), ('Weylin', 'male'), ('Alix', 'female'), ('Travers', 'male'), ('Alpa', 'female'), ('Alfonso', 'male'), ('Piet', 'male'), ('Sidoney', 'female'), ('Agustin', 'male'), ('Barbey', 'female'), ('Francois', 'male'), ('Randa', 'female'), ('Dmitri', 'male'), ('Cherianne', 'female'), ('Hermina', 'female'), ('Di', 'female'), ('Alex', 'male'), ('Osgood', 'male'), ('Rolph', 'male'), ('Emilee', 'female'), ('Ricky', 'female'), ('Quentin', 'female'), ('Benni', 'female'), ('Ferd', 'male'), ('Sallyanne', 'female'), ('Abbi', 'female'), ('Purcell', 'male'), ('Corrinne', 'female'), ('Hernando', 'male'), ('Tandi', 'female'), ('Leia', 'female'), ('Trina', 'female'), ('Issi', 'female'), ('Joaquin', 'male'), ('Grata', 'female'), ('Nert', 'female'), ('Mattie', 'female'), ('Harlan', 'male'), ('Avrit', 'female'), ('Eveleen', 'female'), ('Nidia', 'female'), ('Hildagarde', 'female'), ('Cariotta', 'female'), ('Bidget', 'female'), ('Tiffi', 'female'), ('Norwood', 'male'), ('Norton', 'male'), ('Bartel', 'male'), ('Sonia', 'female'), ('Bret', 'male'), ('Butler', 'male'), ('Gale', 'male'), ('Armando', 'male'), ('Ollie', 'female'), ('Stepha', 'female'), ('Benjamen', 'male'), ('Susanetta', 'female'), ('Sheelagh', 'female'), ('Weber', 'male'), ('Emilio', 'male'), ('Tella', 'female'), ('Tremayne', 'male'), ('Margareta', 'female'), ('Nyssa', 'female'), ('Cassandre', 'female'), ('Vivia', 'female'), ('Harvard', 'male'), ('Franklyn', 'male'), ('Faydra', 'female'), ('Demetria', 'female'), ('Viviene', 'female'), ('Kaiser', 'male'), ('Milt', 'male'), ('Janene', 'female'), ('Griselda', 'female'), ('Bertie', 'male'), ('Thomasa', 'female'), ('Inger', 'female'), ('Antonio', 'male'), ('Oralla', 'female'), ('Sammie', 'male'), ('Irina', 'female'), ('Laurice', 'female'), ('Cory', 'male'), ('Hyacinthe', 'female'), ('Vivianna', 'female'), ('Kenyon', 'male'), ('Gerty', 'female'), ('Bennett', 'male'), ('Darren', 'male'), ('Stoddard', 'female'), ('Constance', 'female'), ('Robyn', 'female'), ('Carol', 'female'), ('Evelyn', 'female'), ('Friedrick', 'male'), ('Tybi', 'female'), ('Say', 'male'), ('Ilysa', 'female'), ('Giffy', 'male'), ('Kimberlyn', 'female'), ('Wilmette', 'female'), ('Georgy', 'male'), ('Nanni', 'female'), ('Elyse', 'female'), ('Melisa', 'female'), ('Gabi', 'female'), ('Ottilie', 'female'), ('Donella', 'female'), ('Annabelle', 'female'), ('Jewel', 'female'), ('Arlene', 'female'), ('Maurie', 'male'), ('Nicolea', 'female'), ('Friedrich', 'male'), ('Sarge', 'male'), ('Sibylle', 'female'), ('Maye', 'female'), ('Linda', 'female'), ('Haily', 'female'), ('Robbie', 'male'), ('Ivan', 'male'), ('Carlen', 'female'), ('Avivah', 'female'), ('Merilee', 'female'), ('Lela', 'female'), ('Stafford', 'male'), ('Hans-Peter', 'male'), ('Tanner', 'male'), ('Caty', 'female'), ('Bernie', 'male'), ('Tarrah', 'female'), ('Cristine', 'female'), ('Chet', 'male'), ('Tanny', 'male'), ('Prasad', 'male'), ('Mohammad', 'male'), ('Alyda', 'female'), ('Janot', 'female'), ('Saw', 'male'), ('Nonna', 'female'), ('Lionello', 'male'), ('Dale', 'female'), ('Barbabra', 'female'), ('Rosy', 'female'), ('Concordia', 'female'), ('Jennings', 'male'), ('Max', 'male'), ('Joao', 'male'), ('Sophi', 'female'), ('Sayre', 'male'), ('Deane', 'female'), ('Annamaria', 'female'), ('Blair', 'male'), ('Saraann', 'female'), ('Charity', 'female'), ('Vanda', 'female'), ('Latia', 'female'), ('Dominic', 'male'), ('Cortney', 'female'), ('Cristionna', 'female'), ('Rob', 'male'), ('Douggie', 'male'), ('Linoel', 'male'), ('Marcella', 'female'), ('Tucky', 'male'), ('Charissa', 'female'), ('Teddy', 'female'), ('Philly', 'female'), ('Bradford', 'male'), ('Eduardo', 'male'), ('Callie', 'female'), ('Barb', 'female'), ('Sydel', 'female'), ('Roderic', 'male'), ('Jean-Pierre', 'male'), ('Tiler', 'male'), ('Hanan', 'male'), ('Donia', 'female'), ('Emmett', 'male'), ('Graehme', 'male'), ('Julia', 'female'), ('Miguelita', 'female'), ('Otha', 'female'), ('Gennifer', 'female'), ('Letisha', 'female'), ('Cleva', 'female'), ('Hedi', 'female'), ('Cordy', 'female'), ('Jolee', 'female'), ('Parrnell', 'male'), ('Benedetta', 'female'), ('Bee', 'female'), ('Rosalie', 'female'), ('Karie', 'female'), ('Waylen', 'male'), ('Joycelin', 'female'), ('Wilma', 'female'), ('Malinde', 'female'), ('Jelene', 'female'), ('Agata', 'female'), ('Renaud', 'male'), ('Ardra', 'female'), ('Fara', 'female'), ('Stevana', 'female'), ('Noellyn', 'female'), ('Alvina', 'female'), ('Lurleen', 'female'), ('Guthrey', 'male'), ('Pietro', 'male'), ('Lissa', 'female'), ('Jackelyn', 'female'), ('Giles', 'male'), ('Ted', 'male'), ('Erena', 'female'), ('Franni', 'female'), ('Gardener', 'male'), ('Venkat', 'male'), ('Grayce', 'female'), ('Lindsey', 'female'), ('Carma', 'female'), ('Corenda', 'female'), ('Ericka', 'female'), ('La', 'female'), ('Adella', 'female'), ('Eve', 'female'), ('Janaye', 'female'), ('Aldric', 'male'), ('Prudy', 'female'), ('Leelah', 'female'), ('Sansone', 'male'), ('Mercedes', 'female'), ('Trula', 'female'), ('Danielle', 'female'), ('Hamel', 'male'), ('Fancie', 'female'), ('Emylee', 'female'), ('Moya', 'female'), ('Kirby', 'male'), ('Diena', 'female'), ('Ronni', 'female'), ('Whitman', 'male'), ('Rhoda', 'female'), ('Heinrich', 'male'), ('Ned', 'male'), ('Brana', 'female'), ('Ambrosi', 'male'), ('Dahlia', 'female'), ('Kendal', 'male'), ('Tiffani', 'female'), ('Sabra', 'female'), ('Ermentrude', 'female'), ('Nedi', 'female'), ('Kandace', 'female'), ('Garvy', 'male'), ('Regan', 'female'), ('Regina', 'female'), ('Dorit', 'female'), ('Marj', 'female'), ('Carroll', 'male'), ('Artie', 'male'), ('Dayna', 'female'), ('Nananne', 'female'), ('Renie', 'female'), ('Prentice', 'male'), ('Roxine', 'female'), ('Sandor', 'male'), ('Zary', 'male'), ('Enya', 'female'), ('Tressa', 'female'), ('Stormi', 'female'), ('Mikey', 'male'), ('Benedict', 'male'), ('Kory', 'male'), ('Iormina', 'female'), ('Uriel', 'male'), ('Ruella', 'female'), ('Trevor', 'male'), ('Tracey', 'female'), ('Babette', 'female'), ('Park', 'male'), ('Kelcie', 'female'), ('Shelli', 'female'), ('Lila', 'female'), ('Darell', 'female'), ('Reginauld', 'male'), ('Loralee', 'female'), ('Murielle', 'female'), ('Wendie', 'female'), ('Immanuel', 'male'), ('Saxe', 'male'), ('Gloria', 'female'), ('Brena', 'female'), ('Bernadina', 'female'), ('Halie', 'female'), ('Astrix', 'female'), ('Moselle', 'female'), ('Kathlin', 'female'), ('Margarita', 'female'), ('Estrellita', 'female'), ('Silvano', 'male'), ('Meredith', 'male'), ('Caron', 'female'), ('Diahann', 'female'), ('Edgardo', 'male'), ('Carlin', 'male'), ('Rosalia', 'female'), ('Fleming', 'male'), ('Tildi', 'female'), ('Janifer', 'female'), ('Yvette', 'female'), ('Una', 'female'), ('Shela', 'female'), ('Lorita', 'female'), ('Langston', 'male'), ('Gayla', 'female'), ('Aleks', 'male'), ('Margit', 'female'), ('Joela', 'female'), ('Norris', 'male'), ('Henderson', 'male'), ('Worth', 'male'), ('Elnar', 'male'), ('Brandy', 'male'), ('Stephanus', 'male'), ('Onlea', 'female'), ('Crissie', 'female'), ('Annadiane', 'female'), ('Betty', 'female'), ('Silvana', 'female'), ('Richard', 'male'), ('Alane', 'female'), ('Rhodia', 'female'), ('Horace', 'male'), ('Lucky', 'female'), ('Aurilia', 'female'), ('Matelda', 'female'), ('Kip', 'female'), ('Theresina', 'female'), ('Miran', 'female'), ('Cynthia', 'female'), ('Lizzy', 'female'), ('Ella', 'female'), ('Chelsy', 'female'), ('Ambrosia', 'female'), ('Chester', 'male'), ('Shirley', 'female'), ('Webster', 'male'), ('Riannon', 'female'), ('Hollyanne', 'female'), ('Britani', 'female'), ('Wayne', 'male'), ('Sibbie', 'female'), ('Dori', 'female'), ('Marven', 'male'), ('Joyous', 'female'), ('Blondell', 'female'), ('Alf', 'male'), ('Salomon', 'male'), ('Joelly', 'female'), ('Essy', 'female'), ('Marrissa', 'female'), ('Rissa', 'female'), ('Dorthy', 'female'), ('Errol', 'male'), ('Chloe', 'female'), ('Kyrstin', 'female'), ('Lowell', 'male'), ('Diego', 'male'), ('Orville', 'male'), ('Alonzo', 'male'), ('Flore', 'female'), ('Lazarus', 'male'), ('Vaughn', 'male'), ('Mitchael', 'male'), ('Diane', 'female'), ('Herbert', 'male'), ('Ezra', 'male'), ('Walker', 'male'), ('Margery', 'female'), ('Rebekkah', 'female'), ('Merwin', 'male'), ('Amber', 'female'), ('Zita', 'female'), ('Tray', 'male'), ('Tisha', 'female'), ('Leontine', 'female'), ('Wanda', 'female'), ('Willard', 'male'), ('Gertrud', 'female'), ('Maggie', 'female'), ('Morgan', 'male'), ('Claribel', 'female'), ('Cammy', 'male'), ('Sharron', 'female'), ('Lemar', 'male'), ('Cat', 'female'), ('Kaleena', 'female'), ('Phil', 'male'), ('Christyna', 'female'), ('Pamela', 'female'), ('Judye', 'female'), ('Willyt', 'female'), ('Tobie', 'male'), ('Roth', 'male'), ('Iain', 'male'), ('Inga', 'female'), ('Pepito', 'male'), ('Jonell', 'female'), ('Pinchas', 'male'), ('Frederik', 'male'), ('Merv', 'male'), ('Elladine', 'female'), ('Jermayne', 'male'), ('Tadd', 'male'), ('Wesley', 'male'), ('Guy', 'male'), ('Sunny', 'male'), ('Dyana', 'female'), ('Thedrick', 'male'), ('Genovera', 'female'), ('Marve', 'male'), ('Nevins', 'male'), ('Glyn', 'female'), ('Caralie', 'female'), ('Martin', 'male'), ('Paulina', 'female'), ('Lissie', 'female'), ('Ferguson', 'male'), ('Louie', 'male'), ('Dehlia', 'female'), ('Blinny', 'female'), ('Nelli', 'female'), ('Christ', 'male'), ('Cacilia', 'female'), ('Karyn', 'female'), ('Gilles', 'male'), ('Laraine', 'female'), ('Aleda', 'female'), ('Susie', 'female'), ('Dasi', 'female'), ('Hollie', 'female'), ('Katee', 'female'), ('June', 'female'), ('Selma', 'female'), ('Algernon', 'male'), ('Marne', 'female'), ('Janella', 'female'), ('Madlen', 'female'), ('Reggie', 'female'), ('May', 'female'), ('Tedmund', 'male'), ('Elicia', 'female'), ('Andra', 'female'), ('Warden', 'male'), ('Marta', 'female'), ('Robbi', 'female'), ('Michaeline', 'female'), ('Demetrius', 'male'), ('Milzie', 'female'), ('Idaline', 'female'), ('Stevy', 'male'), ('Sherye', 'female'), ('Iggie', 'male'), ('Alyson', 'female'), ('Thornie', 'male'), ('Marcellus', 'male'), ('Parnell', 'male'), ('Zia', 'female'), ('Georgena', 'female'), ('Aamir', 'male'), ('Molly', 'female'), ('Ema', 'female'), ('Dyan', 'female'), ('Johannah', 'female'), ('Denni', 'female'), ('Gabey', 'female'), ('Ulrick', 'male'), ('Charis', 'female'), ('Doreen', 'female'), ('Carley', 'female'), ('Dave', 'male'), ('Chelsea', 'female'), ('Franny', 'female'), ('Lemmie', 'male'), ('Ruthann', 'female'), ('Clemmie', 'female'), ('Armond', 'male'), ('Rheta', 'female'), ('Tawsha', 'female'), ('Abby', 'male'), ('Reed', 'male'), ('Lavinia', 'female'), ('Janos', 'male'), ('Karia', 'female'), ('Edeline', 'female'), ('Howard', 'male'), ('Bryan', 'male'), ('Brittany', 'female'), ('Grover', 'male'), ('Evie', 'female'), ('Alicea', 'female'), (\"E'Lane\", 'female'), ('Merle', 'female'), ('Jae', 'male'), ('Andi', 'female'), ('Danila', 'female'), ('Alessandro', 'male'), ('Coletta', 'female'), ('Oswald', 'male'), ('Zebadiah', 'male'), ('Hartley', 'male'), ('Nathanael', 'male'), ('Jeremie', 'male'), ('Herta', 'female'), ('Ignaz', 'male'), ('Viviyan', 'female'), ('Pauli', 'female'), ('Amandi', 'female'), ('Masha', 'female'), ('Rosario', 'female'), ('Petronille', 'female'), ('Terri', 'male'), ('Kristel', 'female'), ('Vida', 'female'), ('Nicolas', 'male'), ('Jolene', 'female'), ('Codee', 'female'), ('Angeline', 'female'), ('Philomena', 'female'), ('Rourke', 'male'), ('Angie', 'male'), ('Tina', 'female'), ('Thom', 'male'), ('Cherilyn', 'female'), ('Emlyn', 'female'), ('Marietta', 'male'), ('Winona', 'female'), ('Waylin', 'male'), ('Becky', 'female'), ('Damara', 'female'), ('Lamont', 'male'), ('Aurie', 'female'), ('Elberta', 'female'), ('Janka', 'female'), ('Coleen', 'female'), ('Phaedra', 'female'), ('Fleur', 'female'), ('Tarrant', 'male'), ('Marieann', 'female'), ('Fae', 'female'), ('Ferdie', 'male'), ('Ernaline', 'female'), ('Warde', 'male'), ('Lotti', 'female'), ('Velvet', 'female'), ('Dallas', 'female'), ('Hiro', 'male'), ('Noach', 'male'), ('Brock', 'male'), ('Kelly', 'female'), ('Eva', 'female'), ('Scotty', 'male'), ('Aviva', 'female'), ('Quigly', 'male'), ('Leonid', 'male'), ('Sawyer', 'male'), ('Rica', 'female'), ('Wildon', 'male'), ('Broddy', 'male'), ('Amelita', 'female'), ('Chandra', 'female'), ('Hermy', 'male'), ('Rikki', 'female'), ('Helge', 'female'), ('Melina', 'female'), ('Dorthea', 'female'), ('Alain', 'male'), ('Fenelia', 'female'), ('Merill', 'male'), ('Cheryl', 'female'), ('Corey', 'female'), ('Devi', 'female'), ('Constanta', 'female'), ('Shana', 'female'), ('Zahara', 'female'), ('Jacquelin', 'female'), ('Kara', 'female'), ('Waldo', 'male'), ('Ron', 'male'), ('Dorothea', 'female'), ('Berta', 'female'), ('Ileane', 'female'), ('Vivienne', 'female'), ('Sibylla', 'female'), ('Si', 'male'), ('Barris', 'male'), ('Jessie', 'female'), ('Munmro', 'male'), ('Lianna', 'female'), ('Gloriana', 'female'), ('Wilmar', 'male'), ('Gavriel', 'male'), ('Hadleigh', 'male'), ('Garey', 'male'), ('Colleen', 'female'), ('Moreen', 'female'), ('Marylynne', 'female'), ('Dael', 'female'), ('Caresa', 'female'), ('Perrine', 'female'), ('Ulysses', 'male'), ('Marcia', 'female'), ('Carli', 'female'), ('Carlene', 'female'), ('Dottie', 'female'), ('Nariko', 'female'), ('Junia', 'female'), ('Shanan', 'male'), ('Saundra', 'female'), ('Addis', 'female'), ('Giffard', 'male'), ('Zeke', 'male'), ('Edouard', 'male'), ('Eveline', 'female'), ('Dacia', 'female'), ('Clayton', 'male'), ('Sosanna', 'female'), ('Rodrick', 'male'), ('Hillard', 'male'), ('Kurtis', 'male'), ('Durante', 'male'), ('Eartha', 'female'), ('Alyse', 'female'), ('Allsun', 'female'), ('Lusa', 'female'), ('Adriana', 'female'), ('Ekaterina', 'female'), ('Ansell', 'male'), ('Joyan', 'female'), ('Laure', 'female'), ('Orelle', 'female'), ('Trude', 'female'), ('Koo', 'female'), ('Lenora', 'female'), ('Sampson', 'male'), ('Carmella', 'female'), ('Dona', 'female'), ('Dawson', 'male'), ('Nessa', 'female'), ('Kaspar', 'male'), ('Sallie', 'female'), ('Sidonia', 'female'), ('Alan', 'male'), ('Darci', 'female'), ('Nola', 'female'), ('Mignonne', 'female'), ('Collette', 'female'), ('Prasun', 'male'), ('Cathe', 'female'), ('Monah', 'female'), ('Elijah', 'male'), ('Florinda', 'female'), ('Titus', 'male'), ('Nessi', 'female'), ('Anya', 'female'), ('Russell', 'male'), ('Wenonah', 'female'), ('Missy', 'female'), ('Emilie', 'female'), ('Emile', 'male'), ('Torie', 'female'), ('Faustina', 'female'), ('Cordula', 'female'), ('Shawnee', 'female'), ('Wynne', 'female'), ('Nathalie', 'female'), ('Gabbie', 'female'), ('Ewan', 'male'), ('Larine', 'female'), ('Robinetta', 'female'), ('Ciara', 'female'), ('Fiann', 'female'), ('Nicoli', 'female'), ('Charmane', 'female'), ('Cordey', 'female'), ('Oona', 'female'), ('Fay', 'female'), ('Florrie', 'female'), ('Milton', 'male'), ('Reuben', 'male'), ('Rolf', 'male'), ('Ambrose', 'male'), ('Zacherie', 'male'), ('Shaw', 'male'), ('Chip', 'male'), ('Jenica', 'female'), ('Vail', 'male'), ('Katie', 'female'), ('Mateo', 'male'), ('Ginnifer', 'female'), ('Gilligan', 'female'), ('Maris', 'female'), ('Mendie', 'male'), ('Orbadiah', 'male'), ('Anastasie', 'female'), ('Burnaby', 'male'), ('Wilow', 'female'), ('Marybelle', 'female'), ('Angelia', 'female'), ('Josepha', 'female'), ('Hewet', 'male'), ('Fitz', 'male'), ('Binny', 'female'), ('Roderick', 'male'), ('Darleen', 'female'), ('Roselyn', 'female'), ('Audry', 'female'), ('Junette', 'female'), ('Cesya', 'female'), ('Christiano', 'male'), ('Kelsey', 'female'), ('Reena', 'female'), ('Winston', 'male'), ('Leonie', 'female'), ('Bartie', 'male'), ('Marline', 'female'), ('Sanford', 'male'), ('Felix', 'male'), ('Rita', 'female'), ('Scarlett', 'female'), ('Gregorio', 'male'), ('Corina', 'female'), ('Mair', 'female'), ('Dari', 'female'), ('Rodger', 'male'), ('Rubi', 'female'), ('Welsh', 'male'), ('Christalle', 'female'), ('Lyndsey', 'female'), ('Jordain', 'female'), ('Lisbeth', 'female'), ('Meridith', 'female'), ('Minni', 'female'), ('Tamas', 'male'), ('Coraline', 'female'), ('Gleda', 'female'), ('Arly', 'female'), ('Elinore', 'female'), ('Niki', 'female'), ('Alexei', 'male'), ('Piotr', 'male'), ('Zack', 'male'), ('Faye', 'female'), ('Katrinka', 'female'), ('Ginger', 'male'), ('Laila', 'female'), ('Alanah', 'female'), ('Torrence', 'male'), ('Cobby', 'male'), ('Rani', 'female'), ('Pearce', 'male'), ('Annice', 'female'), ('Audy', 'female'), ('Ajai', 'male'), ('Amery', 'male'), ('Janice', 'female'), ('Hodge', 'male'), ('Pia', 'female'), ('Rickie', 'female'), ('Sheila', 'female'), ('Karlene', 'female'), ('Nichols', 'male'), ('David', 'male'), ('Abagail', 'female'), ('Chanderjit', 'male'), ('Matthieu', 'male'), ('Wandie', 'female'), ('Dane', 'male'), ('Niles', 'male'), ('Harold', 'male'), ('Dee', 'female'), ('Shepherd', 'male'), ('Kendall', 'male'), ('Candis', 'female'), ('Mayda', 'female'), ('Gera', 'female'), ('Maud', 'female'), ('Moshe', 'male'), ('Vern', 'male'), ('Maisie', 'female'), ('Sharai', 'female'), ('Sim', 'male'), ('Giavani', 'male'), ('Filide', 'female'), ('Sheryl', 'female'), ('Emilia', 'female'), ('Margi', 'female'), ('Bartolemo', 'male'), ('Charo', 'female'), ('Brent', 'male'), ('Bayard', 'male'), ('Clarabelle', 'female'), ('Fonsie', 'male'), ('Nikita', 'male'), ('Fernanda', 'female'), ('Ingemar', 'male'), ('Ephrem', 'male'), ('Matti', 'female'), ('Buddy', 'male'), ('Roberto', 'male'), ('Theresa', 'female'), ('Malva', 'female'), ('Bonnie', 'female'), ('Jerrie', 'female'), ('Ingunna', 'female'), ('Stanford', 'male'), ('Mitch', 'male'), ('Kissie', 'female'), ('Gilbertina', 'female'), ('Anatollo', 'male'), ('Dolli', 'female'), ('Rafael', 'male'), ('Tod', 'male'), ('Hinda', 'female'), ('Eddy', 'female'), ('Alston', 'male'), ('Cornelle', 'female'), ('Elvina', 'female'), ('Marmaduke', 'male'), ('Gasper', 'male'), ('Pacifica', 'female'), ('Kellyann', 'female'), ('Sherill', 'female'), ('Henrie', 'female'), ('Kath', 'female'), ('Anallese', 'female'), ('Kizzie', 'female'), ('Jimmy', 'male'), ('Kellie', 'female'), ('Felicdad', 'female'), ('Keslie', 'female'), ('Vannie', 'female'), ('Lenette', 'female'), ('Rochelle', 'female'), ('Sergent', 'male'), ('Vilma', 'female'), ('Gae', 'female'), ('Cybil', 'female'), ('Nolan', 'male'), ('Lance', 'male'), ('Rowe', 'female'), ('Layton', 'male'), ('Sabine', 'female'), ('Golda', 'female'), ('Butch', 'male'), ('Pietra', 'female'), ('Isidora', 'female'), ('Horst', 'male'), ('Martita', 'female'), ('Sully', 'male'), ('Emyle', 'female'), ('Luce', 'female'), ('Wain', 'male'), ('Amaleta', 'female'), ('Shannah', 'female'), ('Charlotta', 'female'), ('Minny', 'female'), ('Adrianna', 'female'), ('Kordula', 'female'), ('Jemmy', 'female'), ('Donny', 'female'), ('Mina', 'female'), ('Nev', 'male'), ('Conroy', 'male'), ('Marlin', 'male'), ('Godfree', 'male'), ('Nadiya', 'female'), ('Ahmad', 'male'), ('Grissel', 'female'), ('Ragnhild', 'female'), ('Devinne', 'female'), ('Leeann', 'female'), ('Valina', 'female'), ('Maggee', 'female'), ('Helli', 'female'), ('Veronika', 'female'), ('Valry', 'female'), ('Marika', 'female'), ('Rollins', 'male'), ('Julita', 'female'), ('Harri', 'female'), ('Catarina', 'female'), ('Ninetta', 'female'), ('Marjie', 'female'), ('Anastassia', 'female'), ('Tallie', 'female'), ('Sterne', 'male'), ('Isabel', 'female'), ('Seymour', 'male'), ('Cloe', 'female'), ('Idell', 'female'), ('Bianka', 'female'), ('Marchelle', 'female'), ('Vivi', 'female'), ('Yigal', 'male'), ('Nedda', 'female'), ('Dot', 'female'), ('Felice', 'female'), ('Sylvia', 'female'), ('Emmet', 'male'), ('Tate', 'female'), ('Rana', 'female'), ('Melody', 'female'), ('Reba', 'female'), ('Ardine', 'female'), ('Coleman', 'male'), ('Bud', 'male'), ('Thaine', 'male'), ('Analise', 'female'), ('Isabelita', 'female'), ('Kendrick', 'male'), ('Candide', 'female'), ('Martica', 'female'), ('Reggis', 'male'), ('Natale', 'male'), ('Sal', 'female'), ('Dani', 'female'), ('Harlene', 'female'), ('Doralyn', 'female'), ('Hadley', 'male'), ('Everard', 'male'), ('Danit', 'female'), ('Tedrick', 'male'), ('Giorgia', 'female'), ('Graeme', 'male'), ('Sheelah', 'female'), ('Fred', 'female'), ('Leese', 'female'), ('Glynis', 'female'), ('Therine', 'female'), ('Rodrique', 'male'), ('Madel', 'female'), ('Dodie', 'female'), ('Kandy', 'female'), ('Dom', 'male'), ('Henryetta', 'female'), ('Laird', 'male'), ('Ripley', 'male'), ('Wynn', 'female'), ('Andie', 'female'), ('Olle', 'male'), ('Lenard', 'male'), ('Freddi', 'female'), ('Briney', 'female'), ('Leonora', 'female'), ('Armstrong', 'male'), ('Cassey', 'female'), ('Elisha', 'male'), ('Kalle', 'male'), ('Ninon', 'female'), ('Emmalyn', 'female'), ('Harlie', 'female'), ('George', 'male'), ('Vaughan', 'male'), ('Jean-Francois', 'male'), ('Teryl', 'female'), ('Linzy', 'female'), ('Lenna', 'female'), ('Brad', 'male'), ('Britta', 'female'), ('Roosevelt', 'male'), ('Courtney', 'male'), ('Mike', 'male'), ('Theadora', 'female'), ('Hope', 'female'), ('Jerrome', 'male'), ('Josh', 'male'), ('Jacquelyn', 'female'), ('Chaddie', 'male'), ('Tony', 'male'), ('Norry', 'female'), ('Rubie', 'female'), ('Cordelia', 'female'), ('Goldia', 'female'), ('Oleg', 'male'), ('Griffith', 'male'), ('Monique', 'female'), ('Irene', 'female'), ('Gertie', 'female'), ('Cathryn', 'female'), ('Nil', 'female'), ('Sax', 'male'), ('Bonny', 'female'), ('Ediva', 'female'), ('Ronnie', 'female'), ('Aili', 'female'), ('Aubree', 'female'), ('Jeramie', 'male'), ('Gabbey', 'female'), ('Maddalena', 'female'), ('Roderigo', 'male'), ('Burke', 'male'), ('Sayer', 'male'), ('Elane', 'female'), ('Giselle', 'female'), ('Cecile', 'female'), ('Leandra', 'female'), ('Dasie', 'female'), ('Lucio', 'male'), ('Sharity', 'female'), ('Rusty', 'male'), ('Catina', 'female'), ('Libbie', 'female'), ('Rina', 'female'), ('Neilla', 'female'), ('Rutger', 'male'), ('Wendel', 'male'), ('Xever', 'male'), ('Lottie', 'female'), ('Gwenore', 'female'), ('Gerold', 'male'), ('Ariadne', 'female'), ('Franky', 'male'), ('Martie', 'male'), ('Morse', 'male'), ('Rebbecca', 'female'), ('Charil', 'female'), ('Katalin', 'female'), ('Mara', 'female'), ('Priscella', 'female'), ('Jerrold', 'male'), ('Felicle', 'female'), ('Corky', 'male'), ('Jorie', 'female'), ('Aloysius', 'male'), ('Jorge', 'male'), ('Kate', 'female'), ('Waldemar', 'male'), ('Etti', 'female'), ('Leslie', 'male'), ('Melitta', 'female'), ('Caleb', 'male'), ('Marja', 'female'), ('Scott', 'male'), ('Steffie', 'female'), ('Shannen', 'female'), ('Florance', 'female'), ('Heathcliff', 'male'), ('Vick', 'male'), ('Cassi', 'female'), ('Jodie', 'male'), ('Gert', 'female'), ('Winni', 'female'), ('Jasmine', 'female'), ('Vijay', 'male'), ('Benny', 'female'), ('Heda', 'female'), ('Cynthea', 'female'), ('Kali', 'female'), ('Goldarina', 'female'), ('Valentia', 'female'), ('Suzie', 'female'), ('Gaylene', 'female'), ('Leroy', 'male'), ('Freda', 'female'), ('Raul', 'male'), ('Rodge', 'male'), ('Chryste', 'female'), ('Marianne', 'female'), ('Candi', 'female'), ('Federica', 'female'), ('Pearline', 'female'), ('Kirstyn', 'female'), ('Correna', 'female'), ('Kittie', 'female'), ('Ninnette', 'female'), ('Annabal', 'female'), ('Beatriz', 'female'), ('Charlie', 'male'), ('Goldie', 'female'), ('Chaunce', 'male'), ('Richmond', 'male'), ('Alia', 'female'), ('Marillin', 'female'), ('Trixi', 'female'), ('Hermann', 'male'), ('Elle', 'female'), ('Tobit', 'male'), ('Therese', 'female'), ('Lex', 'male'), ('Flora', 'female'), ('Bertrand', 'male'), ('Linnea', 'female'), ('Murray', 'male'), ('Barbe', 'female'), ('Virgilio', 'male'), ('Robenia', 'female'), ('Zonda', 'female'), ('Gamaliel', 'male'), ('Laurene', 'female'), ('Erda', 'female'), ('Gabie', 'female'), ('Weslie', 'male'), ('Candra', 'female'), ('Ari', 'male'), ('Erinna', 'female'), ('Rolland', 'male'), ('Lynnell', 'female'), ('Vivian', 'female'), ('Avi', 'male'), ('Ferdinande', 'female'), ('Timmi', 'female'), ('Henrique', 'male'), ('Violet', 'female'), ('Ally', 'female'), ('Hildy', 'female'), ('Maynard', 'male'), ('Jacob', 'male'), ('Laurella', 'female'), ('Minette', 'female'), ('Marni', 'female'), ('Elna', 'female'), ('Hailey', 'male'), ('Manya', 'female'), ('Uriah', 'male'), ('Tomiko', 'female'), ('Emalee', 'female'), ('Brunhilde', 'female'), ('Teodoor', 'male'), ('Katusha', 'female'), ('Carmelita', 'female'), ('Lurette', 'female'), ('Deirdre', 'female'), ('Sylvie', 'female'), ('Dana', 'female'), ('Torey', 'female'), ('Cassandry', 'female'), ('Dylan', 'male'), ('Halli', 'female'), ('Garrott', 'male'), ('Ardys', 'female'), ('Laurena', 'female'), ('Emory', 'male'), ('Andy', 'female'), ('Beatrice', 'female'), ('Xaviera', 'female'), ('Jami', 'female'), ('Leigh', 'male'), ('Jacintha', 'female'), ('Enriqueta', 'female'), ('Erl', 'male'), ('Stanwood', 'male'), ('Shari', 'female'), ('Pip', 'male'), ('Raquela', 'female'), ('Joice', 'female'), ('Kalila', 'female'), ('Julie', 'male'), ('Corrie', 'female'), ('Willi', 'female'), ('Eddi', 'female'), ('Alphonso', 'male'), ('Cissy', 'female'), ('Oren', 'male'), ('Maegan', 'female'), ('Weider', 'male'), ('Vinod', 'male'), ('Coral', 'female'), ('Rudolfo', 'male'), ('Antonius', 'male'), ('Anica', 'female'), ('Estell', 'female'), ('Caryl', 'female'), ('Berry', 'female'), ('Sanderson', 'male'), ('Shelby', 'male'), ('Pablo', 'male'), ('Simmonds', 'male'), ('Siegfried', 'male'), ('Karla', 'female'), ('Val', 'male'), ('Fifine', 'female'), ('Nicol', 'female'), ('Reagan', 'male'), ('Zackariah', 'male'), ('Dorothee', 'female'), ('Ania', 'female'), ('Oran', 'male'), ('Jean-Marc', 'male'), ('Gelya', 'female'), ('Beryle', 'female'), ('Bennie', 'female'), ('Freemon', 'male'), ('Christophe', 'male'), ('Ulla', 'female'), ('Silas', 'male'), ('Arther', 'male'), ('Joey', 'female'), ('Redmond', 'male'), ('Hildagard', 'female'), ('Lea', 'female'), ('Esta', 'female'), ('Isa', 'female'), ('Claire', 'female'), ('Eustace', 'male'), ('Charlotte', 'female'), ('Robinett', 'female'), ('Ritch', 'male'), ('Conny', 'female'), ('Orson', 'male'), ('Jaimie', 'female'), ('Karry', 'female'), ('Jenni', 'female'), ('Hallam', 'male'), ('Jo-Ann', 'female'), ('Elwood', 'male'), ('Letitia', 'female'), ('Archy', 'male'), ('Bree', 'female'), ('Daphene', 'female'), ('Gerda', 'female'), ('Ellette', 'female'), ('Ernestine', 'female'), ('Dorian', 'male'), ('Yalonda', 'female'), ('Terrill', 'male'), ('Amalea', 'female'), ('Witty', 'male'), ('Vitia', 'female'), ('Laurie', 'female'), ('Annadiana', 'female'), ('Onida', 'female'), ('Cacilie', 'female'), ('Corrie', 'male'), ('Marlene', 'female'), ('Travis', 'male'), ('Gussie', 'female'), ('Pamelina', 'female'), ('Ardelia', 'female'), ('Trace', 'female'), ('Diannne', 'female'), ('Janeczka', 'female'), ('Ludwig', 'male'), ('Tonia', 'female'), ('Aleece', 'female'), ('Hubert', 'male'), ('Felicia', 'female'), ('Darryl', 'male'), ('Willmott', 'male'), ('Agnella', 'female'), ('Dennis', 'male'), ('Carol-Jean', 'female'), ('Hermine', 'female'), ('Gabriellia', 'female'), ('Chrissa', 'female'), ('Tirrell', 'male'), ('Kira', 'female'), ('Neda', 'female'), ('Nita', 'female'), ('Zea', 'female'), ('Celestine', 'female'), ('Osborn', 'male'), ('Emmye', 'female'), ('Trey', 'male'), ('Valentina', 'female'), ('Carolee', 'female'), ('Riley', 'male'), ('Cal', 'male'), ('Barde', 'male'), ('Aloisia', 'female'), ('Brita', 'female'), ('Lesly', 'female'), ('Urbain', 'male'), ('Dusty', 'female'), ('Elayne', 'female'), ('Caitrin', 'female'), ('Madalyn', 'female'), ('Angelina', 'female'), ('Saundra', 'male'), ('Ranice', 'female'), ('Radcliffe', 'male'), ('Chevy', 'male'), ('Ole', 'male'), ('Bertram', 'male'), ('Sonnnie', 'female'), ('Becka', 'female'), ('Ingelbert', 'male'), ('Pavla', 'female'), ('Cate', 'female'), ('Garnette', 'female'), ('Rivalee', 'female'), ('Terrianne', 'female'), ('Charyl', 'female'), ('Jeanna', 'female'), ('Mireielle', 'female'), ('Herrmann', 'male'), ('Thorndike', 'male'), ('Christie', 'female'), ('Delbert', 'male'), ('Johanna', 'female'), ('Natasha', 'female'), ('Harcourt', 'male'), ('Ingamar', 'male'), ('Torr', 'male'), ('Enrique', 'male'), ('Zondra', 'female'), ('Essa', 'female'), ('Vivianne', 'female'), ('Garold', 'male'), ('Joletta', 'female'), ('Wallas', 'male'), ('Phebe', 'female'), ('Essie', 'female'), ('Bartholemy', 'male'), ('Garcia', 'male'), ('Constantine', 'female'), ('Tammie', 'female'), ('Hans', 'male'), ('Raj', 'male'), ('Codi', 'female'), ('Roobbie', 'female'), ('Ashlen', 'female'), ('Orren', 'male'), ('Eadith', 'female'), ('Myke', 'male'), ('Maxy', 'female'), ('Micheal', 'male'), ('Portia', 'female'), ('Louisa', 'female'), ('Donald', 'male'), ('Tobe', 'male'), ('Didi', 'female'), ('Bernardina', 'female'), ('Haskell', 'male'), ('Teane', 'female'), ('Waring', 'male'), ('Zared', 'male'), ('Reginald', 'male'), ('Ozzie', 'male'), ('Roselle', 'female'), ('Rosalinde', 'female'), ('Esmeralda', 'female'), ('Aylmer', 'male'), ('Angelo', 'male'), ('Tove', 'female'), ('Witold', 'male'), ('Franz', 'male'), ('Bob', 'male'), ('Ronnie', 'male'), ('Martyn', 'male'), ('Clementia', 'female'), ('Fedora', 'female'), ('Pascale', 'male'), ('Kora', 'female'), ('Velma', 'female'), ('Fawn', 'female'), ('Madelene', 'female'), ('Edmond', 'male'), ('Adolph', 'male'), ('Yetta', 'female'), ('Dudley', 'male'), ('Antonella', 'female'), ('Benjy', 'male'), ('Sheri', 'female'), ('Dannie', 'female'), ('Bobina', 'female'), ('Robin', 'female'), ('Blondelle', 'female'), ('Vito', 'male'), ('Neille', 'female'), ('Avraham', 'male'), ('Leanor', 'female'), ('Flory', 'female'), ('Karel', 'female'), ('Doris', 'female'), ('Dorey', 'female'), ('Binky', 'male'), ('Dalton', 'male'), ('Friedric', 'male'), ('Simona', 'female'), ('Hart', 'male'), ('Kevin', 'male'), ('Lindsy', 'female'), ('Tamiko', 'female'), ('Trenna', 'female'), ('Leland', 'male'), ('Colly', 'female'), ('Sukey', 'female'), ('Annemarie', 'female'), ('Marya', 'female'), ('Honor', 'female'), ('Faustine', 'female'), ('Marcel', 'male'), ('Garland', 'female'), ('Wynny', 'female'), ('Hetti', 'female'), ('Ag', 'female'), ('Amara', 'female'), ('Samara', 'female'), ('Alfonzo', 'male'), ('Ida', 'female'), ('Mikael', 'male'), ('Jo', 'male'), ('Christy', 'male'), ('Bentley', 'male'), ('Sande', 'female'), ('Brunhilda', 'female'), ('Alisa', 'female'), ('Lola', 'female'), ('Nora', 'female'), ('Helmuth', 'male'), ('Shandra', 'female'), ('Kenna', 'female'), ('Finn', 'male'), ('Wittie', 'male'), ('Terri', 'female'), ('Teressa', 'female'), ('Rhett', 'male'), ('Sarene', 'female'), ('Gunilla', 'female'), ('Iolanthe', 'female'), ('Connie', 'female'), ('Gretna', 'female'), ('Skye', 'male'), ('Baillie', 'male'), ('Wileen', 'female'), ('Ethelbert', 'male'), ('Dell', 'male'), ('Tillie', 'female'), ('Izak', 'male'), ('Northrop', 'male'), ('Fonzie', 'male'), ('Shilpa', 'female'), ('Cliff', 'male'), ('Cristina', 'female'), ('Merell', 'male'), ('Naomi', 'female'), ('Sissie', 'female'), ('Elizabeth', 'female'), ('Lynette', 'female'), ('Rufus', 'male'), ('Zaria', 'female'), ('Peta', 'female'), ('Hugh', 'male'), ('Abbey', 'female'), ('Jermain', 'male'), ('Lawrence', 'male'), ('Kirbee', 'female'), ('Marion', 'male'), ('Jilleen', 'female'), ('Clement', 'male'), ('Allianora', 'female'), ('Aziz', 'male'), ('Gill', 'female'), ('Diamond', 'female'), ('Moria', 'female'), ('Orelie', 'female'), ('Gwen', 'female'), ('Carmel', 'female'), ('Nicolle', 'female'), ('Etty', 'female'), ('Riki', 'female'), ('Maxi', 'female'), ('Hall', 'male'), ('Christa', 'female'), ('Herb', 'male'), ('Merrielle', 'female'), ('Theodor', 'male'), ('Lou', 'female'), ('Myriam', 'female'), ('Flori', 'female'), ('Averell', 'male'), ('Annora', 'female'), ('Reynard', 'male'), ('Teresita', 'female'), ('Stacie', 'female'), ('Elvera', 'female'), ('Yank', 'male'), ('Vonnie', 'female'), ('Niall', 'male'), ('Gipsy', 'female'), ('Emmy', 'female'), ('Phil', 'female'), ('Liuka', 'female'), ('Bliss', 'female'), ('Nell', 'female'), ('Estella', 'female'), ('Averill', 'male'), ('Lazlo', 'male'), ('Myrta', 'female'), ('Carlita', 'female'), ('Hortensia', 'female'), ('Sharona', 'female'), ('Tymon', 'male'), ('Aub', 'male'), ('Lucie', 'female'), ('Fawnia', 'female'), ('Mackenzie', 'male'), ('Merci', 'female'), ('Nadya', 'female'), ('Nadia', 'female'), ('Gerald', 'male'), ('Jacquenette', 'female'), ('Diane-Marie', 'female'), ('Trish', 'female'), ('Olive', 'female'), ('Elyn', 'female'), ('Morrie', 'male'), ('Mela', 'female'), ('Berk', 'male'), ('Shlomo', 'male'), ('Lara', 'female'), ('Kia', 'female'), ('Nikos', 'male'), ('Elsinore', 'female'), ('Aggi', 'female'), ('Heath', 'female'), ('Thomas', 'male'), ('Huntley', 'male'), ('Arielle', 'female'), ('Quintilla', 'female'), ('Guenevere', 'female'), ('Bruce', 'male'), ('Annecorinne', 'female'), ('Woody', 'male'), ('Knox', 'male'), ('Candida', 'female'), ('Dulcine', 'female'), ('Vinnie', 'male'), ('Cybel', 'female'), ('Vanna', 'female'), ('Teddie', 'male'), ('Jude', 'male'), ('Godfrey', 'male'), ('Yankee', 'male'), ('Sutherland', 'male'), ('Edin', 'female'), ('Beryl', 'female'), ('Inigo', 'male'), ('Olympe', 'female'), ('Rakel', 'female'), ('Sascha', 'male'), ('Xymenes', 'male'), ('Lorette', 'female'), ('Prunella', 'female'), ('Garwood', 'male'), ('Chariot', 'male'), ('Lane', 'female'), ('Corilla', 'female'), ('Juliann', 'female'), ('Kayle', 'female'), ('Murial', 'female'), ('Serene', 'female'), ('Shannan', 'male'), ('Jeraldine', 'female'), ('Saba', 'female'), ('Cosmo', 'male'), ('Annalyse', 'female'), ('Lorettalorna', 'female'), ('Ambur', 'female'), ('Aldwin', 'male'), ('Carlynn', 'female'), ('Priscilla', 'female'), ('Mavis', 'female'), ('Sam', 'male'), ('Perl', 'female'), ('Lothar', 'male'), ('Paco', 'male'), ('Upton', 'male'), ('Umeko', 'female'), ('Karol', 'female'), ('Laina', 'female'), ('Crystie', 'female'), ('Rubina', 'female'), ('Lida', 'female'), ('Sindee', 'female'), ('Rey', 'male'), ('Robinson', 'male'), ('Merralee', 'female'), ('Manda', 'female'), ('Talia', 'female'), ('Raphael', 'male'), ('Englebart', 'male'), ('Xerxes', 'male'), ('Stirling', 'male'), ('Gates', 'female'), ('Broddie', 'male'), ('Amelina', 'female'), ('Scotti', 'male'), ('Schroeder', 'male'), ('Kerstin', 'female'), ('Nester', 'male'), ('Arturo', 'male'), ('Fawna', 'female'), ('Mirabel', 'female'), ('Ariela', 'female'), ('Jayne', 'female'), ('Adam', 'male'), ('Lynelle', 'female'), ('Bjorn', 'male'), ('Lotte', 'female'), ('Saunderson', 'male'), ('Alexandrina', 'female'), ('Meryl', 'female'), ('Alberta', 'female'), ('Lind', 'female'), ('Teena', 'female'), ('Lonee', 'female'), ('Vonny', 'female'), ('Nicky', 'female'), ('Ulrika', 'female'), ('Anabel', 'female'), ('Tad', 'male'), ('Jobina', 'female'), ('Brenna', 'female'), ('Dexter', 'male'), ('Case', 'male'), ('Marian', 'female'), ('Liz', 'female'), ('Berkeley', 'male'), ('Sibyl', 'male'), ('LeeAnn', 'female'), ('Audrie', 'female'), ('Juanita', 'male'), ('Vernice', 'female'), ('Demosthenis', 'male'), ('Megen', 'female'), ('Mikel', 'male'), ('Sam', 'female'), ('Dominique', 'female'), ('Debby', 'female'), ('Hill', 'male'), ('Ki', 'female'), ('Glenna', 'female'), ('Harlin', 'male'), ('Worden', 'male'), ('Becki', 'female'), ('Elizabet', 'female'), ('Lyndon', 'male'), ('Ninnetta', 'female'), ('Cinnamon', 'female'), ('Abbott', 'male'), ('Malkah', 'female'), ('Olympia', 'female'), ('Doralynne', 'female'), ('Magda', 'female'), ('Daryl', 'female'), ('Ignacius', 'male'), ('Ara', 'female'), ('Yanaton', 'male'), ('Johann', 'male'), ('Elly', 'female'), ('Zechariah', 'male'), ('Glennis', 'female'), ('Hettie', 'female'), ('Mead', 'male'), ('Celesta', 'female'), ('Tansy', 'female'), ('Nikolai', 'male'), ('Vin', 'male'), ('Brinkley', 'male'), ('Sada', 'female'), ('Vale', 'female'), ('Nickie', 'female'), ('Iago', 'male'), ('Hewe', 'male'), ('Starlene', 'female'), ('Adriane', 'female'), ('Karel', 'male'), ('Calli', 'female'), ('Krystal', 'female'), ('Eryn', 'female'), ('Irvin', 'male'), ('Angel', 'male'), ('Nerty', 'female'), ('Dru', 'male'), ('Pierce', 'male'), ('Olga', 'female'), ('Wilhelm', 'male'), ('Petronilla', 'female'), ('Aryn', 'female'), ('Irma', 'female'), ('Lark', 'female'), ('Veradis', 'female'), ('Joane', 'female'), ('Madlin', 'female'), ('Gisele', 'female'), ('Ingram', 'male'), ('Carolyn', 'female'), ('Vitoria', 'female'), ('Sheilah', 'female'), ('Rik', 'male'), ('Jennifer', 'female'), ('Thurstan', 'male'), ('Pascal', 'male'), ('Floyd', 'male'), ('Kristine', 'female'), ('Spiro', 'male'), ('Bryn', 'female'), ('Chrysa', 'female'), ('Claudius', 'male'), ('Blisse', 'female'), ('Eric', 'male'), ('Helaine', 'female'), ('Barrett', 'male'), ('Paule', 'female'), ('Rajeev', 'male'), ('Ambrosius', 'male'), ('Batholomew', 'male'), ('Townie', 'male'), ('Mason', 'male'), ('Ricky', 'male'), ('Georg', 'male'), ('Jonathan', 'male'), ('Lorenzo', 'male'), ('Hilarie', 'female'), ('Trip', 'male'), ('Ashlie', 'female'), ('Tim', 'male'), ('Kelsy', 'female'), ('Tonnie', 'male'), ('Lanni', 'female'), ('Dasha', 'female'), ('Kasey', 'female'), ('Moira', 'female'), ('Shalna', 'female'), ('Nelson', 'male'), ('Jorey', 'female'), ('Hamilton', 'male'), ('Brit', 'female'), ('Donnajean', 'female'), ('Dwane', 'male'), ('Corabel', 'female'), ('Suzy', 'female'), ('Sammy', 'female'), ('Rosalynd', 'female'), ('Jeniece', 'female'), ('Mohamad', 'male'), ('Nelle', 'female'), ('Rand', 'male'), ('Shamus', 'male'), ('Eilis', 'female'), ('Tommie', 'male'), ('Augie', 'male'), ('Josy', 'female'), ('Tiffy', 'female'), ('Chandler', 'male'), ('Allina', 'female'), ('Ikey', 'female'), ('Aditya', 'male'), ('Kalinda', 'female'), ('Shurlock', 'male'), ('Natty', 'female'), ('Winfred', 'male'), ('Loretta', 'female'), ('Gerhard', 'male'), ('Ebba', 'female'), ('Tori', 'female'), ('Pavel', 'male'), ('Rea', 'female'), ('James', 'male'), ('Ciel', 'female'), ('Larry', 'male'), ('Ransom', 'male'), ('Ursa', 'female'), ('Scarlet', 'female'), ('Guthry', 'male'), ('Ash', 'male'), ('Andonis', 'male'), ('Ulises', 'male'), ('Whittaker', 'male'), ('Trev', 'male'), ('Gisella', 'female'), ('Arlie', 'female'), ('Daniella', 'female'), ('Georgetta', 'female'), ('Ardath', 'female'), ('Libby', 'female'), ('Mariska', 'female'), ('Mira', 'female'), ('Bunni', 'female'), ('Wait', 'male'), ('Chandal', 'female'), ('Caro', 'female'), ('Laney', 'female'), ('Shea', 'female'), ('Hamlet', 'male'), ('Patti', 'female'), ('Cain', 'male'), ('Darcey', 'female'), ('Chadwick', 'male'), ('Abagael', 'female'), ('Sarita', 'female'), ('Owen', 'male'), ('Kynthia', 'female'), ('Otto', 'male'), ('Hirsch', 'male'), ('Caroline', 'female'), ('Reilly', 'male'), ('Valaria', 'female'), ('Rikki', 'male'), ('Harris', 'male'), ('Aline', 'female'), ('Margalo', 'female'), ('Chantal', 'female'), ('Gretchen', 'male'), ('Gladys', 'female'), ('Stearn', 'male'), ('Jobi', 'female'), ('Daune', 'female'), ('Gloriane', 'female'), ('Cortese', 'male'), ('Hartwell', 'male'), ('Mose', 'male'), ('Marga', 'female'), ('Stanley', 'male'), ('Armand', 'male'), ('Maribeth', 'female'), ('Tresa', 'female'), ('Han', 'male'), ('Connor', 'male'), ('Betta', 'female'), ('Joseph', 'male'), ('Odille', 'female'), ('Desiri', 'female'), ('Dianna', 'female'), ('Wendall', 'male'), ('Frederich', 'male'), ('Nikki', 'male'), ('Gretchen', 'female'), ('Churchill', 'male'), ('Laetitia', 'female'), ('Welby', 'male'), ('Fons', 'male'), ('Annabell', 'female'), ('Kristyn', 'female'), ('Austine', 'female'), ('Malcah', 'female'), ('Pammi', 'female'), ('Anjela', 'female'), ('Anni', 'female'), ('Cassandra', 'female'), ('Claire', 'male'), ('Welbie', 'male'), ('Randolf', 'male'), ('Valida', 'female'), ('Bel', 'female'), ('Sheba', 'female'), ('Stefan', 'male'), ('Chrissy', 'male'), ('Meade', 'female'), ('Clarinda', 'female'), ('Aleen', 'female'), ('Rad', 'male'), ('Shelia', 'female'), ('Sherwin', 'male'), ('Antonietta', 'female'), ('Karna', 'female'), ('Archibold', 'male'), ('Jenna', 'female'), ('Janna', 'female'), ('Denyse', 'female'), ('Chancey', 'male'), ('Acacia', 'female'), ('Freddy', 'female'), ('Jenette', 'female'), ('Scot', 'male'), ('Reggy', 'male'), ('Althea', 'female'), ('Tabbie', 'male'), ('Tara', 'female'), ('Ignazio', 'male'), ('Mick', 'male'), ('Domenic', 'male'), ('Sara-Ann', 'female'), ('Ladonna', 'female'), ('Reuven', 'male'), ('Florette', 'female'), ('Adaline', 'female'), ('Gianna', 'female'), ('Xavier', 'male'), ('Gwendolyn', 'female'), ('Morgana', 'female'), ('Jemmie', 'female'), ('Carmita', 'female'), ('Clea', 'female'), ('Bobine', 'female'), ('Toddie', 'male'), ('Tiffanie', 'female'), ('Gerhardt', 'male'), ('Ham', 'male'), ('Norah', 'female'), ('Catriona', 'female'), ('Alica', 'female'), ('Jerrylee', 'female'), ('Ronny', 'male'), ('Dennie', 'female'), ('Norri', 'female'), ('Flin', 'male'), ('Dwayne', 'male'), ('Guillaume', 'male'), ('Rochella', 'female'), ('Janey', 'female'), ('Bernie', 'female'), ('Stella', 'female'), ('Tatiania', 'female'), ('Krystle', 'female'), ('Ramon', 'male'), ('Letti', 'female'), ('Caritta', 'female'), ('Othelia', 'female'), ('Jacquie', 'female'), ('Bishop', 'male'), ('Constantia', 'female'), ('Bailie', 'male'), ('Corbin', 'male'), ('Bonni', 'female'), ('Starlin', 'female'), ('Thaddeus', 'male'), ('Cornie', 'female'), ('Benson', 'male'), ('Ahmed', 'male'), ('Alfonse', 'male'), ('Briggs', 'male'), ('Morganica', 'female'), ('Lorraine', 'female'), ('Wilden', 'male'), ('Sigfried', 'male'), ('Vivie', 'female'), ('Towney', 'male'), ('Justis', 'male'), ('Marcie', 'female'), ('Orelia', 'female'), ('Osbourne', 'male'), ('Gracie', 'female'), ('Hillary', 'male'), ('Kennedy', 'male'), ('Garrot', 'male'), ('Norine', 'female'), ('Graham', 'male'), ('Raymund', 'male'), ('Sabrina', 'female'), ('Madelina', 'female'), ('Wyn', 'male'), ('Koral', 'female'), ('Barbabas', 'male'), ('Herby', 'male'), ('Margo', 'female'), ('Berkie', 'male'), ('Amargo', 'female'), ('Garry', 'male'), ('Shalom', 'male'), ('Waiter', 'male'), ('Valaree', 'female'), ('Harry', 'male'), ('Hayward', 'male'), ('Darius', 'male'), ('Karalynn', 'female'), ('Arnold', 'male'), ('Nicholle', 'female'), ('Hewitt', 'male'), ('Barby', 'female'), ('Sallee', 'female'), ('Caresse', 'female'), ('Tania', 'female'), ('Maudie', 'female'), ('Dasya', 'female'), ('Gershom', 'male'), ('Tallie', 'male'), ('Jock', 'male'), ('Greggory', 'male'), ('Arlette', 'female'), ('Twila', 'female'), ('Stacy', 'female'), ('Dollie', 'female'), ('Noland', 'male'), ('Flossie', 'female'), ('Arlen', 'female'), ('Waine', 'male'), ('Ernie', 'male'), ('Barth', 'male'), ('Floria', 'female'), ('Marketa', 'female'), ('Laurel', 'female'), ('Johnathan', 'male'), ('Dodi', 'female'), ('Arlo', 'male'), ('Seamus', 'male'), ('Lauren', 'male'), ('Karisa', 'female'), ('Flinn', 'male'), ('Natalya', 'female'), ('Carrissa', 'female'), ('Tyson', 'male'), ('Gilberto', 'male'), ('Edgar', 'male'), ('Renard', 'male'), ('Viv', 'female'), ('Salvatore', 'male'), ('Sparky', 'male'), ('Roch', 'female'), ('Beverlie', 'female'), ('Hendrika', 'female'), ('Imogen', 'female'), ('Marie-Jeanne', 'female'), ('Cristy', 'female'), ('Almeda', 'female'), ('Beverly', 'female'), ('Romain', 'male'), ('Amabelle', 'female'), ('Jillana', 'female'), ('Coreen', 'female'), ('Giffer', 'male'), ('Tally', 'female'), ('Danelle', 'female'), ('Nalani', 'female'), ('Inglebert', 'male'), ('Martha', 'female'), ('Marco', 'male'), ('Aila', 'female'), ('Debbi', 'female'), ('Alysia', 'female'), ('Devon', 'female'), ('Bealle', 'male'), ('Scarface', 'male'), ('Zollie', 'male'), ('Rosene', 'female'), ('Lucian', 'male'), ('Leanora', 'female'), ('Frankie', 'female'), ('Dolley', 'female'), ('Lynna', 'female'), ('Katharyn', 'female'), ('Rheba', 'female'), ('Lorne', 'male'), ('Cher', 'female'), ('Anatola', 'female'), ('Johnnie', 'male'), ('Daniel', 'female'), ('Buster', 'male'), ('Bettine', 'female'), ('Oliy', 'female'), ('Malissia', 'female'), ('Verney', 'male'), ('Tommy', 'female'), ('Putnam', 'male'), ('Erik', 'male'), ('Clemente', 'male'), ('TeresaAnne', 'female'), ('Smith', 'male'), ('Celina', 'female'), ('Kaile', 'female'), ('Doralin', 'female'), ('Octavius', 'male'), ('Leisha', 'female'), ('Tedra', 'female'), ('Wilek', 'male'), ('Rick', 'male'), ('Lira', 'female'), ('Hanford', 'male'), ('Ebeneser', 'male'), ('Pooh', 'male'), ('Susannah', 'female'), ('Stu', 'male'), ('Durand', 'male'), ('Nesta', 'female'), ('Sibyl', 'female'), ('Winnie', 'male'), ('Klara', 'female'), ('Hogan', 'male'), ('Kiele', 'female'), ('Leonerd', 'male'), ('Floris', 'female'), ('Dell', 'female'), ('Chevalier', 'male'), ('Lauree', 'female'), ('Gil', 'male'), ('Kacie', 'female'), ('Janine', 'female'), ('Marcus', 'male'), ('Clementina', 'female'), ('Amanda', 'female'), ('Barry', 'male'), ('Billy', 'male'), ('Dosi', 'female'), ('Fortuna', 'female'), ('Osborne', 'male'), ('Micki', 'female'), ('Rutledge', 'male'), ('Reeba', 'female'), ('Morlee', 'female'), ('Elwira', 'female'), ('Axel', 'male'), ('Tyrone', 'male'), ('Linnie', 'female'), ('Artur', 'male'), ('Liza', 'female'), ('King', 'male'), ('Michal', 'female'), ('Marsha', 'female'), ('Maible', 'female'), ('Elnore', 'female'), ('Pearle', 'female'), ('Pierrette', 'female'), ('Gale', 'female'), ('Carmelina', 'female'), ('Yuri', 'male'), ('Martainn', 'male'), ('Kalie', 'female'), ('Clair', 'male'), ('Albina', 'female'), ('Avrom', 'male'), ('Tomlin', 'male'), ('Daffi', 'female'), ('Sabina', 'female'), ('Deryl', 'male'), ('Kaja', 'female'), ('Fey', 'female'), ('Jermaine', 'male'), ('Briny', 'female'), ('Jaleh', 'female'), ('Adena', 'female'), ('Lucila', 'female'), ('Carlton', 'male'), ('Juditha', 'female'), ('Theophyllus', 'male'), ('Klarrisa', 'female'), ('Herculie', 'male'), ('Lulita', 'female'), ('Ralph', 'male'), ('Norean', 'female'), ('Nolie', 'female'), ('Brittan', 'female'), ('Brianna', 'female'), ('Octavia', 'female'), ('Hanny', 'female'), ('Belinda', 'female'), ('Arianne', 'female'), ('Meggan', 'female'), ('Farah', 'female'), ('Corry', 'female'), ('Veriee', 'female'), ('Fazeel', 'male'), ('Peggi', 'female'), ('Arvie', 'male'), ('Rycca', 'female'), ('Paloma', 'female'), ('Charleton', 'male'), ('Celine', 'female'), ('Verile', 'female'), ('Cally', 'female'), ('Drake', 'male'), ('Jessamine', 'female'), ('Quinn', 'female'), ('Loree', 'female'), ('Dickey', 'male'), ('Carline', 'female'), ('Dabney', 'male'), ('Evan', 'male'), ('Bryn', 'male'), ('Bobinette', 'female'), ('Elvira', 'female'), ('Gladis', 'female'), ('Valentine', 'male'), ('Cherye', 'female'), ('Samuel', 'male'), ('Barnett', 'male'), ('Mervin', 'male'), ('Christiane', 'female'), ('Benita', 'female'), ('Hagan', 'male'), ('Andrey', 'male'), ('Elsi', 'female'), ('Patrik', 'male'), ('Nero', 'male'), ('Orly', 'female'), ('Jarvis', 'male'), ('Dea', 'female'), ('Noemi', 'female'), ('Tadeas', 'male'), ('Barbara', 'female'), ('Rebecka', 'female'), ('Roze', 'female'), ('Willem', 'male'), ('Natalee', 'female'), ('Ramesh', 'male'), ('Cathi', 'female'), ('Rachel', 'female'), ('Crissy', 'female'), ('Tildy', 'female'), ('Violante', 'female'), ('Kissiah', 'female'), ('Lon', 'male'), ('Margaux', 'female'), ('Charmion', 'female'), ('Mairead', 'female'), ('Nara', 'female'), ('Lionel', 'male'), ('Tallia', 'female'), ('Konstance', 'female'), ('Tomkin', 'male'), ('Mellie', 'female'), ('Dix', 'female'), ('Raf', 'female'), ('Sammy', 'male'), ('Nomi', 'female'), ('Myrna', 'female'), ('Wolf', 'male'), ('Ester', 'female'), ('Desmond', 'male'), ('Mauritz', 'male'), ('Sinclare', 'male'), ('Cristen', 'female'), ('Ashton', 'male'), ('Shelley', 'male'), ('Marius', 'male'), ('Odelia', 'female'), ('Christy', 'female'), ('Ailene', 'female'), ('Reinhold', 'male'), ('Dorrie', 'female'), ('Christian', 'male'), ('Mavra', 'female'), ('Anissa', 'female'), ('Derek', 'male'), ('Griswold', 'male'), ('Corie', 'female'), ('Leonard', 'male'), ('Tobi', 'female'), ('Laura', 'female'), ('Isadora', 'female'), ('Rice', 'male'), ('Clemmie', 'male'), ('Janith', 'female'), ('Yehudit', 'female'), ('Aliza', 'female'), ('Samuele', 'male'), ('Johnna', 'female'), ('Bethina', 'female'), ('Ed', 'male'), ('Neville', 'male'), ('Zelig', 'male'), ('Mureil', 'female'), ('Lynett', 'female'), ('Yvonne', 'female'), ('Alfie', 'male'), ('Genia', 'female'), ('Nissa', 'female'), ('Sunshine', 'female'), ('Dora', 'female'), ('Daphna', 'female'), ('Sloan', 'male'), ('Jaynell', 'female'), ('Corabella', 'female'), ('Gusella', 'female'), ('Parke', 'male'), ('Marglerite', 'female'), ('Er', 'male'), ('Abbey', 'male'), ('Ainsley', 'female'), ('Tierney', 'female'), ('Catharine', 'female'), ('Kristian', 'male'), ('Ferdinanda', 'female'), ('Nahum', 'male'), ('Lolita', 'female'), ('Alleen', 'female'), ('Nikkie', 'female'), ('Jaine', 'female'), ('Adel', 'female'), ('Lovell', 'male'), ('Catie', 'female'), ('Jolyn', 'female'), ('Ransell', 'male'), ('Lavinie', 'female'), ('Luciano', 'male'), ('Angy', 'female'), ('Janeen', 'female'), ('Oswell', 'male'), ('Stefano', 'male'), ('Jodie', 'female'), ('Marylin', 'female'), ('Ellen', 'female'), ('Sharon', 'female'), ('Blythe', 'female'), ('Fredrika', 'female'), ('Kimmy', 'female'), ('Shalne', 'female'), ('Annetta', 'female'), ('Faythe', 'female'), ('Philis', 'female'), ('Calida', 'female'), ('Fern', 'female'), ('Clarette', 'female'), ('Hannibal', 'male'), ('Austina', 'female'), ('Sigfrid', 'male'), ('Jana', 'female'), ('Fredelia', 'female'), ('Wallis', 'female'), ('Odell', 'male'), ('Zandra', 'female'), ('Elsy', 'female'), ('Partha', 'male'), ('Lucilia', 'female'), ('Nunzio', 'male'), ('Tamara', 'female'), ('Teresa', 'female'), ('Mathias', 'male'), ('Jotham', 'male'), ('Leeanne', 'female'), ('Aeriela', 'female'), ('Dian', 'female'), ('Tilly', 'female'), ('Joan', 'female'), ('Judson', 'male'), ('Diana', 'female'), ('Etta', 'female'), ('Min', 'female'), ('Leilah', 'female'), ('Anetta', 'female'), ('Breena', 'female'), ('Jean-Lou', 'male'), ('Beverlee', 'female'), ('Simonne', 'female'), ('Nancy', 'female'), ('Luci', 'female'), ('Hiralal', 'male'), ('Wandis', 'female'), ('Bride', 'female'), ('Jenifer', 'female'), ('Bari', 'female'), ('Lishe', 'female'), ('Kendra', 'female'), ('Stevie', 'male'), ('Issy', 'female'), ('Monty', 'male'), ('Elie', 'female'), ('Bess', 'female'), ('John-Patrick', 'male'), ('Inge', 'female'), ('Gus', 'female'), ('Ronald', 'male'), ('Tessy', 'female'), ('Pasquale', 'male'), ('Georgette', 'female'), ('Briana', 'female'), ('Reese', 'male'), ('Otes', 'male'), ('Brandy', 'female'), ('Angela', 'female'), ('Josiah', 'male'), ('Carie', 'female'), ('Rivi', 'female'), ('Raychel', 'female'), ('Vernor', 'male'), ('Ingmar', 'male'), ('Bertha', 'female'), ('Trisha', 'female'), ('Jessica', 'female'), ('Jasmin', 'female'), ('Kevina', 'female'), ('Elric', 'male'), ('Pammy', 'female'), ('Ofilia', 'female'), ('Gilly', 'female'), ('Cherri', 'female'), ('Kiah', 'female'), ('Sutton', 'male'), ('Dulciana', 'female'), ('Stanton', 'male'), ('Deanna', 'female'), ('Romonda', 'female'), ('Gerry', 'female'), ('Augustus', 'male'), ('Carlie', 'male'), ('Tyne', 'female'), ('Licha', 'female'), ('Conan', 'male'), ('Elvin', 'male'), ('Gerrilee', 'female'), ('Cloris', 'female'), ('Philippa', 'female'), ('Reza', 'male'), ('Washington', 'male'), ('Mellissa', 'female'), ('Salvidor', 'male'), ('Hervey', 'male'), ('Evonne', 'female'), ('Mischa', 'male'), ('Arabella', 'female'), ('Ricardo', 'male'), ('Enoch', 'male'), ('Giacomo', 'male'), ('Shane', 'male'), ('Julietta', 'female'), ('Horatia', 'female'), ('Foster', 'male'), ('Vikkie', 'female'), ('Valera', 'female'), ('Zaneta', 'female'), ('Kerri', 'female'), ('Abra', 'female'), ('Corena', 'female'), ('Ginelle', 'female'), ('Tracee', 'female'), ('Gallagher', 'male'), ('Broderick', 'male'), ('Zitella', 'female'), ('Flemming', 'male'), ('Rena', 'female'), ('Terina', 'female'), ('Korney', 'female'), ('Ilana', 'female'), ('Clarisse', 'female'), ('Emili', 'female'), ('Terrye', 'female'), ('Anneliese', 'female'), ('Bren', 'female'), ('Forster', 'male'), ('Darin', 'male'), ('Clancy', 'male'), ('Chad', 'female'), ('Farrah', 'female'), ('Vince', 'male'), ('Bartholomeo', 'male'), ('Nani', 'female'), ('Corby', 'male'), ('Karsten', 'male'), ('Chloette', 'female'), ('Mariquilla', 'female'), ('Markos', 'male'), ('Janis', 'female'), ('Lavena', 'female'), ('Roland', 'male'), ('Steffane', 'female'), ('Jedediah', 'male'), ('Opalina', 'female'), ('Cyb', 'female'), ('Fox', 'male'), ('Mitchell', 'male'), ('Maison', 'male'), ('Derk', 'male'), ('Lazar', 'male'), ('Alfredo', 'male'), ('Barnabas', 'male'), ('Ephraim', 'male'), ('Selia', 'female'), ('Retha', 'female'), ('Sherline', 'female'), ('Giordano', 'male'), ('Zebulen', 'male'), ('Aphrodite', 'female'), ('Tricia', 'female'), ('Berget', 'female'), ('Latrena', 'female'), ('Cleveland', 'male'), ('Maddy', 'female'), ('Timothea', 'female'), ('Gunner', 'male'), ('Vina', 'female'), ('Norene', 'female'), ('Wakefield', 'male'), ('Aubrey', 'female'), ('Fortune', 'female'), ('Kelcey', 'female'), ('Marin', 'female'), ('Angus', 'male'), ('Menard', 'male'), ('Sherlocke', 'male'), ('Christian', 'female'), ('Jared', 'male'), ('Gardner', 'male'), ('Aristotle', 'male'), ('Clark', 'male'), ('Davon', 'male'), ('Jervis', 'male'), ('Huey', 'male'), ('Phillipe', 'male'), ('Alejandro', 'male'), ('Daisi', 'female'), ('Deidre', 'female'), ('Glenn', 'female'), ('Aurore', 'female'), ('Wylma', 'female'), ('Annalise', 'female'), ('Joshuah', 'male'), ('Schuyler', 'male'), ('Damaris', 'female'), ('Anitra', 'female'), ('Shawn', 'male'), ('Dana', 'male'), ('Ricca', 'female'), ('Deeanne', 'female'), ('Toma', 'female'), ('Andy', 'male'), ('Happy', 'female'), ('Penni', 'female'), ('Heinz', 'male'), ('Roice', 'male'), ('Elonore', 'female'), ('Zorine', 'female'), ('Eleonora', 'female'), ('Lesley', 'female'), ('Athene', 'female'), ('Isa', 'male'), ('Wilmer', 'male'), ('Cybal', 'female'), ('Dorolice', 'female'), ('Bennie', 'male'), ('Guthrie', 'male'), ('Ronalda', 'female'), ('Pearla', 'female'), ('Devan', 'female'), ('Star', 'female'), ('Bekki', 'female'), ('Ketti', 'female'), ('Jessi', 'female'), ('Bird', 'female'), ('Thebault', 'male'), ('Skyler', 'male'), ('Aubine', 'female'), ('Agnola', 'female'), ('Alys', 'female'), ('Jere', 'female'), ('Kitti', 'female'), ('Lacee', 'female'), ('Kimberley', 'female'), ('Jephthah', 'male'), ('Berny', 'female'), ('Genna', 'female'), ('Hedvig', 'female'), ('Rutter', 'male'), ('Nixie', 'female'), ('Gayleen', 'female'), ('Renelle', 'female'), ('Alejandra', 'female'), ('Magna', 'female'), ('Anne-Corinne', 'female'), ('Cobb', 'male'), ('Alysa', 'female'), ('Hyacinthia', 'female'), ('Betsy', 'female'), ('Erhart', 'male'), ('Melesa', 'female'), ('Timmy', 'female'), ('Eba', 'female'), ('Andrej', 'male'), ('Jenine', 'female'), ('Brier', 'female'), ('Koren', 'female'), ('Antoinette', 'female'), ('Luigi', 'male'), ('Geneva', 'female'), ('Libbi', 'female'), ('Tobias', 'male'), ('Berchtold', 'male'), ('Chloris', 'female'), ('Sunny', 'female'), ('Suellen', 'female'), ('Charita', 'female'), ('Alton', 'male'), ('Zach', 'male'), ('Dyna', 'female'), ('Celene', 'female'), ('Cat', 'male'), ('Lucita', 'female'), ('Mic', 'male'), ('Linnell', 'female'), ('Gwyneth', 'female'), ('Heidi', 'female'), ('Marlee', 'female'), ('Cherrita', 'female'), ('Thedric', 'male'), ('Britte', 'female'), ('Irvine', 'male'), ('Hunt', 'male'), ('Gibb', 'male'), ('Grier', 'female'), ('Ailee', 'female'), ('Ana', 'female'), ('Rockwell', 'male'), ('Kaylee', 'female'), ('Spiros', 'male'), ('Leone', 'female'), ('Dania', 'female'), ('Brianne', 'female'), ('Xylina', 'female'), ('Harrold', 'male'), ('Hermione', 'female'), ('Chane', 'male'), ('Mufi', 'female'), ('Ender', 'male'), ('Shell', 'male'), ('Jasper', 'male'), ('Hephzibah', 'female'), ('Lyndy', 'female'), ('Derick', 'male'), ('Penn', 'male'), ('Muriel', 'female'), ('Bobby', 'female'), ('Lucina', 'female'), ('Ram', 'male'), ('Mustafa', 'male'), ('Gay', 'female'), ('Eugenia', 'female'), ('Luana', 'female'), ('Ellsworth', 'male'), ('Diandra', 'female'), ('Wrennie', 'female'), ('Arne', 'male'), ('Leann', 'female'), ('Nova', 'female'), ('Tiana', 'female'), ('Marilee', 'female'), ('Rosaleen', 'female'), ('Athena', 'female'), ('Wright', 'male'), ('Eugen', 'male'), ('Peri', 'female'), ('Elwin', 'male'), ('Christiana', 'female'), ('Tore', 'male'), ('Lezlie', 'female'), ('Theresa-Marie', 'female'), ('Nestor', 'male'), ('Dacey', 'female'), ('Neal', 'male'), ('Leesa', 'female'), ('Chastity', 'female'), ('Helyn', 'female'), ('Joceline', 'female'), ('Lisandra', 'female'), ('Haywood', 'male'), ('Phylis', 'female'), ('Elita', 'female'), ('August', 'male'), ('Jaymee', 'female'), ('Spud', 'male'), ('Jojo', 'female'), ('Konstanze', 'female'), ('Al', 'male'), ('Marje', 'female'), ('Hugo', 'male'), ('Ward', 'male'), ('Elise', 'female'), ('Jacinta', 'female'), ('Mae', 'female'), ('Hank', 'male'), ('Manon', 'female'), ('Kermit', 'male'), ('Alexandra', 'female'), ('Lorrie', 'female'), ('Kattie', 'female'), ('Gere', 'male'), ('Micah', 'male'), ('Jesse', 'female'), ('Dacy', 'female'), ('Myrtia', 'female'), ('Sandie', 'female'), ('Nickie', 'male'), ('Sherie', 'female'), ('Caitlin', 'female'), ('Goddart', 'male'), ('Lucia', 'female'), ('Thaddus', 'male'), ('Orion', 'male'), ('Adriaens', 'female'), ('Mandi', 'female'), ('Woochang', 'male'), ('Marsh', 'male'), ('Virgina', 'female'), ('Louisette', 'female'), ('Cherry', 'female'), ('Corny', 'female'), ('Janean', 'female'), ('Robin', 'male'), ('Ermina', 'female'), ('Merry', 'female'), ('Ivette', 'female'), ('Sheridan', 'male'), ('Hadrian', 'male'), ('Karylin', 'female'), ('Brigitte', 'female'), ('Brooke', 'male'), ('Herminia', 'female'), ('Shandee', 'female'), ('Jimmie', 'male'), ('Remy', 'female'), ('Joye', 'female'), ('Charlton', 'male'), ('Lynnea', 'female'), ('Emery', 'male'), ('Cathy', 'female'), ('Marleah', 'female'), ('Buffy', 'female'), ('Elke', 'female'), ('Daisy', 'female'), ('Ibby', 'female'), ('Brittney', 'female'), ('Maurine', 'female'), ('Ellis', 'male'), ('Rupert', 'male'), ('Gaston', 'male'), ('Gill', 'male'), ('Joell', 'female'), ('Beowulf', 'male'), ('Carmen', 'female'), ('Darcy', 'male'), ('Dillon', 'male'), ('Hew', 'male'), ('Toinette', 'female'), ('Randal', 'male'), ('Rollo', 'male'), ('Allyson', 'female'), ('Aida', 'female'), ('Cameron', 'male'), ('Joab', 'male'), ('Petr', 'male'), ('Hilary', 'male'), ('Adina', 'female'), ('Sonya', 'female'), ('Tessi', 'female'), ('Fredericka', 'female'), ('Brea', 'female'), ('Nettie', 'female'), ('Brynna', 'female'), ('Glad', 'female'), ('Wynn', 'male'), ('Petunia', 'female'), ('Tobey', 'female'), ('Remus', 'male'), ('Allis', 'female'), ('Rosamond', 'female'), ('Sarina', 'female'), ('Eileen', 'female'), ('Trixie', 'female'), ('Dimitrios', 'male'), ('Lilly', 'female'), ('Carole', 'female'), ('Janel', 'female'), ('Reine', 'female'), ('Michal', 'male'), ('Bartolomeo', 'male'), ('Quinta', 'female'), ('Dinah', 'female'), ('Mirabelle', 'female'), ('Florentia', 'female'), ('Sarette', 'female'), ('Milo', 'male'), ('Karleen', 'female'), ('Will', 'male'), ('Jeanette', 'female'), ('Edythe', 'female'), ('Tiffie', 'female'), ('Maire', 'female'), ('Peyter', 'male'), ('Maren', 'female'), ('Merrie', 'female'), ('Phillis', 'female'), ('Lem', 'male'), ('Ivett', 'female'), ('Ruby', 'male'), ('Crista', 'female'), ('Bria', 'female'), ('Gwendolen', 'female'), ('Shandie', 'female'), ('Agamemnon', 'male'), ('Ernesto', 'male'), ('Wally', 'male'), ('Sibby', 'female'), ('Sterling', 'male'), ('Anne', 'female'), ('Cristie', 'female'), ('Jessalyn', 'female'), ('Shaylyn', 'female'), ('Berkley', 'male'), ('Loren', 'male'), ('Darrick', 'male'), ('Zora', 'female'), ('Praneetf', 'male'), ('Lorenza', 'female'), ('Maurene', 'female'), ('Jens', 'male'), ('Gay', 'male'), ('Peirce', 'male'), ('Fancy', 'female'), ('Philbert', 'male'), ('Gunther', 'male'), ('Frazier', 'male'), ('Inez', 'female'), ('Trace', 'male'), ('Giovanni', 'male'), ('JoAnne', 'female'), ('Stephan', 'male'), ('Juline', 'female'), ('Stephanie', 'female'), ('Raye', 'female'), ('Tana', 'female'), ('Myrtice', 'female'), ('Adolphus', 'male'), ('Odessa', 'female'), ('Amalie', 'female'), ('Katine', 'female'), ('Barty', 'male'), ('Hamish', 'male'), ('Andee', 'female'), ('Mame', 'female'), ('Niven', 'male'), ('Isadore', 'female'), ('Tybalt', 'male'), ('Carlena', 'female'), ('Rock', 'male'), ('Pierette', 'female'), ('Valenka', 'female'), ('Howie', 'male'), ('Matthaeus', 'male'), ('Em', 'female'), ('Maddie', 'female'), ('Clinton', 'male'), ('Anais', 'female'), ('Adi', 'female'), ('Kiersten', 'female'), ('Conchita', 'female'), ('Kati', 'female'), ('Duffie', 'male'), ('Dawna', 'female'), ('Windham', 'male'), ('Ofelia', 'female'), ('Job', 'male'), ('Rich', 'male'), ('Harman', 'male'), ('Gratiana', 'female'), ('Tarah', 'female'), ('Cleopatra', 'female'), ('Ralf', 'male'), ('Jacenta', 'female'), ('Reggie', 'male'), ('Thea', 'female'), ('Nicholas', 'male'), ('Reeva', 'female'), ('Jamie', 'male'), ('Haleigh', 'female'), ('Amandy', 'female'), ('Theodore', 'male'), ('Natalia', 'female'), ('Cornelia', 'female'), ('Bernelle', 'female'), ('Donnie', 'female'), ('Abdullah', 'male'), ('Ximenez', 'male'), ('Harriette', 'female'), ('Omar', 'male'), ('Hymie', 'male'), ('Wendeline', 'female'), ('Claudine', 'female'), ('Olimpia', 'female'), ('Delcina', 'female'), ('Cherish', 'female'), ('Sasha', 'male'), ('Carita', 'female'), ('Carmelle', 'female'), ('Judith', 'male'), ('Danny', 'female'), ('Noble', 'male'), ('Elsbeth', 'female'), ('Joy', 'female'), ('Karlen', 'female'), ('Nan', 'female'), ('Rebecca', 'female'), ('Abel', 'male'), ('Katya', 'female'), ('Ken', 'male'), ('Luella', 'female'), ('Kacey', 'female'), ('Hallie', 'female'), ('Elwina', 'female'), ('Jackie', 'female'), ('Nertie', 'female'), ('Stew', 'male'), ('Mab', 'female'), ('Tami', 'female'), ('Lawton', 'male'), ('Alejandrina', 'female'), ('Nathaniel', 'male'), ('Gerry', 'male'), ('Cynthy', 'female'), ('Ritchie', 'male'), ('Frank', 'female'), ('Freeman', 'male'), ('Ira', 'female'), ('Fowler', 'male'), ('Juli', 'female'), ('Silvanus', 'male'), ('Rog', 'male'), ('Jodi', 'female'), ('Dion', 'female'), ('Jaime', 'female'), ('Janelle', 'female'), ('Vasilis', 'male'), ('Zarla', 'female'), ('Wheeler', 'male'), ('Reggi', 'female'), ('Anstice', 'female'), ('Antin', 'male'), ('Jeremy', 'male'), ('Cybelle', 'female'), ('Vally', 'female'), ('Janessa', 'female'), ('Benedicta', 'female'), ('Shayna', 'female'), ('Alford', 'male'), ('Angie', 'female'), ('Catlin', 'female'), ('Caren', 'female'), ('Clarie', 'female'), ('Donovan', 'male'), ('Robbyn', 'female'), ('Wendell', 'male'), ('Granville', 'male'), ('Carmela', 'female'), ('Ursuline', 'female'), ('Carmine', 'male'), ('Flem', 'male'), ('Kippie', 'female'), ('Dacie', 'female'), ('Corliss', 'female'), ('Heywood', 'male'), ('Valene', 'female'), ('Percival', 'male'), ('Bellanca', 'female'), ('Matilde', 'female'), ('Leanna', 'female'), ('Dulsea', 'female'), ('Dorian', 'female'), ('Justina', 'female'), ('Jessie', 'male'), ('Virginia', 'female'), ('Addie', 'male'), ('Gwyn', 'female'), ('Anatol', 'male'), ('Demetra', 'female'), ('Paten', 'male'), ('Berenice', 'female'), ('Modestia', 'female'), ('Penelope', 'female'), ('Quinlan', 'male'), ('Iseabal', 'female'), ('Melinda', 'female'), ('Alecia', 'female'), ('Ashley', 'female'), ('Carola', 'female'), ('Sandro', 'male'), ('Camella', 'female'), ('Shara', 'female'), ('Hollis', 'male'), ('Coriss', 'female'), ('Nance', 'female'), ('Jacinthe', 'female'), ('Flossy', 'female'), ('Conrad', 'male'), ('Emmalynne', 'female'), ('Moll', 'female'), ('Nanice', 'female'), ('Franciska', 'female'), ('Anthony', 'male'), ('Lyndell', 'female'), ('Karilynn', 'female'), ('Brandice', 'female'), ('Aile', 'female'), ('Vania', 'female'), ('Lilli', 'female'), ('Karalee', 'female'), ('Blinnie', 'female'), ('Wald', 'male'), ('Aurlie', 'female'), ('Roanne', 'female'), ('Arlana', 'female'), ('Bea', 'female'), ('Rozalin', 'female'), ('Quinn', 'male'), ('Dinnie', 'female'), ('Edna', 'female'), ('Cobbie', 'male'), ('Danny', 'male'), ('Traci', 'female'), ('Galen', 'male'), ('Orel', 'female'), ('Sue', 'female'), ('Angelika', 'female'), ('Charmain', 'female'), ('Ada', 'female'), ('Sophia', 'female'), ('Flower', 'female'), ('Petey', 'male'), ('Cole', 'male'), ('Teodoro', 'male'), ('Rudolph', 'male'), ('Helen', 'female'), ('Opaline', 'female'), ('Meggie', 'female'), ('Tine', 'female'), ('Hilliary', 'female'), ('Uri', 'male'), ('Chelton', 'male'), ('Berni', 'female'), ('Kaari', 'female'), ('Kathryn', 'female'), ('Emily', 'female'), ('Opal', 'female'), ('Selig', 'male'), ('Jeanelle', 'female'), ('Ike', 'male'), ('Alasdair', 'male'), ('Carrol', 'female'), ('Viola', 'female'), ('Maressa', 'female'), ('Theda', 'female'), ('Alida', 'female'), ('Normand', 'male'), ('Rona', 'female'), ('Teriann', 'female'), ('Ruthe', 'female'), ('Agneta', 'female'), ('Aurea', 'female'), ('Anet', 'female'), ('Brynn', 'female'), ('Walter', 'male'), ('Marjorie', 'female'), ('Liam', 'male'), ('Gav', 'male'), ('Arnie', 'male'), ('Virge', 'male'), ('Suzi', 'female'), ('Klarika', 'female'), ('Bernice', 'female'), ('Paige', 'female'), ('Hazel', 'male'), ('Inci', 'female'), ('Florence', 'female'), ('Avram', 'male'), ('Basil', 'male'), ('Hillary', 'female'), ('Pembroke', 'male'), ('Urson', 'male'), ('Kaitlynn', 'female'), ('Mable', 'female'), ('Jandy', 'female'), ('Kathi', 'female'), ('Kariotta', 'female'), ('Annabella', 'female'), ('Ashely', 'female'), ('Tracie', 'male'), ('Datha', 'female'), ('Abbot', 'male'), ('Sharna', 'female'), ('Edi', 'female'), ('Shanie', 'female'), ('Brook', 'male'), ('Merrel', 'male'), ('Rochester', 'male'), ('Clifton', 'male'), ('Mayer', 'male'), ('Chad', 'male'), ('Hana', 'female'), ('Anallise', 'female'), ('Mabel', 'female'), ('Kylynn', 'female'), ('Vasily', 'male'), ('Nathan', 'male'), ('Nena', 'female'), ('Christabella', 'female'), ('Cookie', 'female'), ('Atalanta', 'female'), ('Kayla', 'female'), ('Shem', 'male'), ('Wini', 'female'), ('Arel', 'male'), ('Iggy', 'male'), ('Bartholomeus', 'male'), ('Carolan', 'female'), ('Bamby', 'female'), ('Douglass', 'male'), ('Debora', 'female'), ('Sergio', 'male'), ('Willie', 'male'), ('Kaycee', 'female'), ('Pepe', 'male'), ('Sayers', 'male'), ('Lazaro', 'male'), ('Kerry', 'female'), ('Marlowe', 'male'), ('Wynton', 'male'), ('Virgie', 'male'), ('Vinni', 'female'), ('Chas', 'male'), ('Marcela', 'female'), ('Corri', 'female'), ('Sergeant', 'male'), ('Willis', 'male'), ('Nydia', 'female'), ('Pandora', 'female'), ('Micaela', 'female'), ('Brandon', 'male'), ('Caldwell', 'male'), ('Eolanda', 'female'), ('Hedwig', 'female'), ('Shelagh', 'female'), ('Sharia', 'female'), ('Rhona', 'female'), ('Forrester', 'male'), ('Casie', 'female'), ('Allyn', 'male'), ('Jo', 'female'), ('Candie', 'female'), ('Berrie', 'female'), ('Bengt', 'male'), ('Elva', 'female'), ('Sheffy', 'male'), ('Lonni', 'female'), ('Tedi', 'female'), ('Jessalin', 'female'), ('Justin', 'male'), ('Celinda', 'female'), ('Adeline', 'female'), ('Katina', 'female'), ('Cilka', 'female'), ('Jamima', 'female'), ('Dulci', 'female'), ('Che', 'male'), ('Stormy', 'female'), ('Roxanna', 'female'), ('Fritz', 'male'), ('Jania', 'female'), ('Kissee', 'female'), ('Moishe', 'male'), ('Corine', 'female'), ('Tommie', 'female'), ('Lane', 'male'), ('Chen', 'male'), ('Stacia', 'female'), ('Cherie', 'female'), ('Ingrid', 'female'), ('Taite', 'male'), ('Robinia', 'female'), ('Sharla', 'female'), ('Cristabel', 'female'), ('Herman', 'male'), ('Chadd', 'male'), ('Enrika', 'female'), ('Ruthie', 'female'), ('Loreen', 'female'), ('Madonna', 'female'), ('Rudy', 'male'), ('Abigael', 'female'), ('Wenona', 'female'), ('Kriste', 'female'), ('Sheeree', 'female'), ('Lynda', 'female'), ('Misty', 'female'), ('Zorro', 'male'), ('Francis', 'female'), ('Hildegarde', 'female'), ('Stesha', 'female'), ('Vernen', 'male'), ('Shane', 'female'), ('Milli', 'female'), ('Dolly', 'female'), ('Audrye', 'female'), ('Claudelle', 'female'), ('Maddy', 'male'), ('Gunter', 'male'), ('Sheela', 'female'), ('Solomon', 'male'), ('Rustie', 'male'), ('Kimmie', 'female'), ('Charlena', 'female'), ('Ambrosio', 'male'), ('Gordon', 'male'), ('Karrah', 'female'), ('Mitra', 'female'), ('Lizette', 'female'), ('Cara', 'female'), ('Tory', 'female'), ('Elli', 'female'), ('Corinna', 'female'), ('Pierson', 'male'), ('Halley', 'female'), ('Odelle', 'female'), ('John-David', 'male'), ('Braden', 'male'), ('Lorine', 'female'), ('Carlee', 'female'), ('Gustaf', 'male'), ('Tildie', 'female'), ('Shoshie', 'female'), ('Tate', 'male'), ('Harmonia', 'female'), ('Winifield', 'male'), ('Jacques', 'male'), ('Aindrea', 'female'), ('Kala', 'female'), ('Zane', 'male'), ('Aidan', 'female'), ('Heath', 'male'), ('Daffie', 'female'), ('Hedy', 'female'), ('Noell', 'female'), ('Love', 'female'), ('Meggi', 'female'), ('Ethelyn', 'female'), ('Nata', 'female'), ('Gwenn', 'female'), ('Giuseppe', 'male'), ('Lee', 'female'), ('Inesita', 'female'), ('Woodrow', 'male'), ('Shea', 'male'), ('Ismail', 'male'), ('Madelle', 'female'), ('Tiffany', 'female'), ('Dotty', 'female'), ('Vanya', 'female'), ('Nela', 'female'), ('Latashia', 'female'), ('Petronia', 'female'), ('Daffy', 'male'), ('Angil', 'female'), ('Igor', 'male'), ('Isobel', 'female'), ('Cristi', 'female'), ('Isis', 'female'), ('Jenn', 'female'), ('Odele', 'female'), ('Winnie', 'female'), ('Savina', 'female'), ('Christean', 'female'), ('Adrien', 'male'), ('Tabbie', 'female'), ('Randi', 'female'), ('Matteo', 'male'), ('Mariel', 'female'), ('Ardella', 'female'), ('Karee', 'female'), ('Carla', 'female'), ('Nolana', 'female'), ('Peg', 'female'), ('Margot', 'female'), ('Arliene', 'female'), ('Desmund', 'male'), ('Dulcea', 'female'), ('Carlin', 'female'), ('Gabe', 'male'), ('Forest', 'male'), ('Frannie', 'female'), ('Abelard', 'male'), ('Fulvia', 'female'), ('Jewell', 'female'), ('Bryce', 'male'), ('Averil', 'male'), ('Ugo', 'male'), ('Elora', 'female'), ('Ramsey', 'male'), ('Joshua', 'male'), ('Cabrina', 'female'), ('Bary', 'male'), ('Jemima', 'female'), ('Kelsey', 'male'), ('Krishna', 'male'), ('Gabriell', 'female'), ('Jay', 'male'), ('Cyrus', 'male'), ('Ashleigh', 'female'), ('Duncan', 'male'), ('Rhetta', 'female'), ('Natassia', 'female'), ('Luis', 'male'), ('Layne', 'female'), ('Belva', 'female'), ('Brody', 'male'), ('Hynda', 'female'), ('Sher', 'female'), ('Nike', 'female'), ('Brodie', 'male'), ('Corrina', 'female'), ('Mommy', 'female'), ('Christabel', 'female'), ('Phillip', 'male'), ('Laural', 'female'), ('Antonetta', 'female'), ('Skip', 'male'), ('Garth', 'male'), ('Plato', 'male'), ('Michael', 'male'), ('Daveen', 'female'), ('Calhoun', 'male'), ('Shena', 'female'), ('Missie', 'female'), ('Fabrice', 'female'), ('Erminie', 'female'), ('Porter', 'male'), ('Vibhu', 'male'), ('Lavina', 'female'), ('Zolly', 'male'), ('Flor', 'female'), ('Eadie', 'female'), ('Almeria', 'female'), ('Cindie', 'female'), ('Clarita', 'female'), ('Madelin', 'female'), ('Loralie', 'female'), ('Yelena', 'female'), ('Aron', 'male'), ('Fina', 'female'), ('Mollee', 'female'), ('Lidia', 'female'), ('Nerita', 'female'), ('Rafaelia', 'female'), ('Joellyn', 'female'), ('Jan', 'male'), ('Reyna', 'female'), ('Baxter', 'male'), ('Rozelle', 'female'), ('Nealy', 'male'), ('Bernard', 'male'), ('Clem', 'male'), ('Jeanine', 'female'), ('Roseline', 'female'), ('Thia', 'female'), ('Andree', 'female'), ('Pavia', 'female'), ('Sheff', 'male'), ('Xena', 'female'), ('Pyotr', 'male'), ('Bette', 'female'), ('Agretha', 'female'), ('Ajay', 'male'), ('Ava', 'female'), ('Thadeus', 'male'), ('Tonya', 'female'), ('Sonni', 'female'), ('Marie-Ann', 'female'), ('Bambie', 'female'), ('Lambert', 'male'), ('Darby', 'male'), ('Bryant', 'male'), ('Joanna', 'female'), ('Talyah', 'female'), ('Jannel', 'female'), ('Krysta', 'female'), ('Luelle', 'female'), ('Shay', 'female'), ('Jonny', 'male'), ('Darby', 'female'), ('Mac', 'male'), ('Hale', 'male'), ('Bert', 'female'), ('Rozanne', 'female'), ('Roy', 'male'), ('Arabele', 'female'), ('Jean-Christophe', 'male'), ('Benjamin', 'male'), ('Kyle', 'male'), ('Wood', 'male'), ('Neala', 'female'), ('Ajay', 'female'), ('Louise', 'female'), ('Jaclin', 'female'), ('Dayle', 'female'), ('Marinna', 'female'), ('Percy', 'male'), ('Lucine', 'female'), ('Nellie', 'female'), ('Evanne', 'female'), ('Millisent', 'female'), ('Wenda', 'female'), ('Ruben', 'male'), ('Byram', 'male'), ('Nikolia', 'female'), ('Toni', 'female'), ('Alastair', 'male'), ('Uli', 'male'), ('Michaelina', 'female'), ('Sapphire', 'female'), ('Cody', 'male'), ('Bertina', 'female'), ('Cordie', 'female'), ('Cybill', 'female'), ('Torrance', 'male'), ('Quintus', 'male'), ('Guglielma', 'female'), ('Adara', 'female'), ('Delora', 'female'), ('Jerrie', 'male'), ('Pat', 'female'), ('Margarete', 'female'), ('Farrand', 'female'), ('Arabela', 'female'), ('Gusta', 'female'), ('Alexine', 'female'), ('Odie', 'male'), ('Betteann', 'female'), ('Olva', 'female'), ('Timmie', 'male'), ('Britt', 'female'), ('Karlee', 'female'), ('Toddy', 'male'), ('Ewart', 'male'), ('Leonardo', 'male'), ('Cecilia', 'female'), ('Chelsae', 'female'), ('Tiphanie', 'female'), ('Lari', 'female'), ('Patricio', 'male'), ('Wolfgang', 'male'), ('Nick', 'male'), ('Arvind', 'male'), ('Alphonse', 'male'), ('Zebedee', 'male'), ('Aurora', 'female'), ('Susi', 'female'), ('Tyrus', 'male'), ('Margalit', 'female'), ('Rasla', 'female'), ('Merlin', 'male'), ('Orazio', 'male'), ('Istvan', 'male'), ('Thain', 'male'), ('Arabelle', 'female'), ('Ulrich', 'male'), ('Johnny', 'male'), ('Renee', 'female'), ('Marcelo', 'male'), ('Liora', 'female'), ('Skelly', 'male'), ('Kenton', 'male'), ('Danita', 'female'), ('Tawnya', 'female'), ('Marybeth', 'female'), ('Oreste', 'female'), ('Sophie', 'female'), ('Clemence', 'female'), ('Selie', 'female'), ('Marlena', 'female'), ('Lorrayne', 'female'), ('Korry', 'female'), ('Antonie', 'female'), ('Ranique', 'female'), ('Marko', 'male'), ('Antonin', 'male'), ('Kori', 'female'), ('Laurianne', 'female'), ('Mariana', 'female'), ('Freddie', 'male'), ('Tomi', 'female'), ('Maxfield', 'male'), ('Emmey', 'female'), ('Anette', 'female'), ('Pattie', 'male'), ('Terry', 'female'), ('Renate', 'female'), ('Thaxter', 'male'), ('Yovonnda', 'female'), ('Warren', 'male'), ('Aeriel', 'female'), ('Adoree', 'female'), ('Lilyan', 'female'), ('Chrissy', 'female'), ('Bethany', 'female'), ('Angel', 'female'), ('Nanny', 'female'), ('Charley', 'male'), ('Lukas', 'male'), ('Georgeanne', 'female'), ('Issie', 'female'), ('Derrek', 'male'), ('Othilie', 'female'), ('Aubrey', 'male'), ('Ettie', 'female'), ('Mirelle', 'female'), ('Mia', 'female'), ('Briteny', 'female'), ('Norina', 'female'), ('Vaclav', 'male'), ('Cecily', 'female'), ('Rosita', 'female'), ('Brooke', 'female'), ('Helaina', 'female'), ('Hannie', 'female'), ('Terri-Jo', 'female'), ('Kermie', 'male'), ('Theo', 'female'), ('Delores', 'female'), ('Dalenna', 'female'), ('Andrus', 'male'), ('Husein', 'male'), ('Alwin', 'male'), ('Johnette', 'female'), ('Dustin', 'male'), ('Sibley', 'female'), ('Karmen', 'female'), ('Kristi', 'female'), ('Twyla', 'female'), ('Shepperd', 'male'), ('Liane', 'female'), ('Muire', 'female'), ('Ervin', 'male'), ('Allin', 'male'), ('Brooks', 'female'), ('Nicolina', 'female'), ('Adolphe', 'male'), ('Judd', 'male'), ('Nealon', 'male'), ('Christine', 'female'), ('Broderic', 'male'), ('Rhody', 'female'), ('Winne', 'female'), ('Gerome', 'male'), ('Shirline', 'female'), ('Zelma', 'female'), ('Duffy', 'male'), ('Almira', 'female'), ('Melosa', 'female'), ('Roxy', 'female'), ('Tamera', 'female'), ('Dugan', 'male'), ('Joline', 'female'), ('Lotta', 'female'), ('Ailyn', 'female'), ('Else', 'female'), ('Harriet', 'female'), ('Fran', 'female'), ('Riva', 'female'), ('Aube', 'male'), ('Leonhard', 'male'), ('Clementine', 'female'), ('Editha', 'female'), ('Carmine', 'female'), ('Germaine', 'male'), ('Danella', 'female'), ('Melanie', 'female'), ('Aharon', 'male'), ('Tome', 'male'), ('Ray', 'female'), ('Astra', 'female'), ('Fayette', 'female'), ('Milena', 'female'), ('Loni', 'female'), ('Sebastian', 'male'), ('Genny', 'female'), ('Shelden', 'male'), ('Jesselyn', 'female'), ('Lori', 'female'), ('Danika', 'female'), ('Caroljean', 'female'), ('Romy', 'female'), ('Erin', 'male'), ('Jefferey', 'male'), ('Jameson', 'male'), ('Storey', 'female'), ('Auria', 'female'), ('Kin', 'male'), ('Doug', 'male'), ('Janina', 'female'), ('Mariellen', 'female'), ('Rhonda', 'female'), ('Lemmy', 'male'), ('Dedra', 'female'), ('Dulcia', 'female'), ('Terry', 'male'), ('Nathanial', 'male'), ('Mellicent', 'female'), ('Gui', 'female'), ('Charin', 'female'), ('Zeb', 'male'), ('Tabatha', 'female'), ('Somerset', 'male'), ('Patin', 'male'), ('Moe', 'male'), ('Jeannette', 'female'), ('Annissa', 'female'), ('Evangelin', 'female'), ('Maybelle', 'female'), ('Shirlene', 'female'), ('Alister', 'male'), ('Jerald', 'male'), ('Mmarianne', 'female'), ('Osbourn', 'male'), ('Elwyn', 'male'), ('Felisha', 'female'), ('Minerva', 'female'), ('Annalisa', 'female'), ('Megan', 'female'), ('Lorna', 'female'), ('Kimberli', 'female'), ('Caryn', 'female'), ('Aubry', 'female'), ('Clara', 'female'), ('Sharline', 'female'), ('Nanette', 'female'), ('Suzan', 'female'), ('Mignon', 'female'), ('Benn', 'male'), ('Eleni', 'female'), ('Julienne', 'female'), ('Dew', 'female'), ('Marguerite', 'female'), ('Katti', 'female'), ('Theo', 'male'), ('Ulberto', 'male'), ('Judie', 'female'), ('Anthea', 'female'), ('Gilbert', 'male'), ('Raynor', 'male'), ('Doria', 'female'), ('Harley', 'female'), ('Fionnula', 'female'), ('Georgianne', 'female'), ('Lisabeth', 'female'), ('Morley', 'male'), ('Verene', 'female'), ('Lindsey', 'male'), ('Nevin', 'male'), ('Elena', 'female'), ('Christi', 'female'), ('Bridie', 'female'), ('Darth', 'male'), ('Kellsie', 'female'), ('Ursulina', 'female'), ('Laurence', 'male'), ('Westbrooke', 'male'), ('Kingston', 'male'), ('Kizzee', 'female'), ('Netta', 'female'), ('Shepard', 'male'), ('Debi', 'female'), ('Loise', 'female'), ('Wallie', 'female'), ('Marjy', 'female'), ('Erna', 'female'), ('Dwight', 'male'), ('Eldon', 'male'), ('Lian', 'female'), ('Miguel', 'male'), ('Bjorne', 'male'), ('Kit', 'male'), ('Jordana', 'female'), ('Nico', 'male'), ('Madison', 'male'), ('Shaine', 'male'), ('Willy', 'female'), ('Stanleigh', 'male'), ('Elmer', 'male'), ('Darya', 'female'), ('Lana', 'female'), ('Eddy', 'male'), ('Jeannie', 'female'), ('Gilli', 'female'), ('Griff', 'male'), ('Candace', 'female'), ('Bernardo', 'male'), ('Susette', 'female'), ('Pryce', 'male'), ('Siobhan', 'female'), ('Sherilyn', 'female'), ('Forrest', 'male'), ('Towny', 'male'), ('Gerard', 'male'), ('Rawley', 'male'), ('Francesco', 'male'), ('Edyth', 'female'), ('Pennie', 'female'), ('Fifi', 'female'), ('Staci', 'female'), ('Ange', 'female'), ('Marshall', 'male'), ('Caria', 'female'), ('Ariel', 'female'), ('Kinna', 'female'), ('Sebastien', 'male'), ('Tuckie', 'male'), ('Cecelia', 'female'), ('Giraldo', 'male'), ('Esma', 'female'), ('Korrie', 'female'), ('Charmaine', 'female'), ('Enrico', 'male'), ('Corella', 'female'), ('Zorana', 'female'), ('Candy', 'female'), ('Tammara', 'female'), ('Kessiah', 'female'), ('Holley', 'female'), ('Ferdinand', 'male'), ('Caspar', 'male'), ('Lockwood', 'male'), ('Josee', 'female'), ('Lindsay', 'female'), ('Bradley', 'male'), ('Geraldo', 'male'), ('Davidde', 'male'), ('Orton', 'male'), ('Selinda', 'female'), ('Auberta', 'female'), ('Barnebas', 'male'), ('Alvira', 'female'), ('Thibaut', 'male'), ('Zabrina', 'female'), ('Lesley', 'male'), ('Ondrea', 'female'), ('Maurice', 'male'), ('Alison', 'female'), ('Hamnet', 'male'), ('Gredel', 'female'), ('Durward', 'male'), ('Margeaux', 'female'), ('Jasmina', 'female'), ('Erny', 'male'), ('Yancey', 'male'), ('Kristopher', 'male'), ('Anurag', 'male'), ('Imogene', 'female'), ('Elisabeth', 'female'), ('Allyn', 'female'), ('Claudetta', 'female'), ('Clarine', 'female'), ('Bradly', 'male'), ('Babara', 'female'), ('Jory', 'male'), ('Chris', 'female'), ('Giacinta', 'female'), ('Yule', 'male'), ('Sandi', 'female'), ('Vicki', 'female'), ('Dominique', 'male'), ('Claudette', 'female'), ('Alexis', 'female'), ('Andria', 'female'), ('Maurise', 'male'), ('Maryanna', 'female'), ('Sullivan', 'male'), ('Tersina', 'female'), ('Jennee', 'female'), ('Gilburt', 'male'), ('Rex', 'male'), ('Phillie', 'female'), ('Vinny', 'male'), ('Giana', 'female'), ('Devina', 'female'), ('Isaiah', 'male'), ('Sollie', 'male'), ('Garwin', 'male'), ('Nanete', 'female'), ('Laurens', 'male'), ('Sharra', 'female'), ('Matthew', 'male'), ('Lindie', 'female'), ('Winnah', 'female'), ('Dore', 'female'), ('Rozina', 'female'), ('Kari', 'female'), ('Hanson', 'male'), ('Siddhartha', 'male'), ('Corey', 'male'), ('Corrianne', 'female'), ('Magnum', 'male'), ('Jean', 'male'), ('Trescha', 'female'), ('Chaddy', 'male'), ('Clinten', 'male'), ('Herve', 'male'), ('Rebeka', 'female'), ('Gianina', 'female'), ('Wiatt', 'male'), ('Winny', 'male'), ('Agatha', 'female'), ('Greer', 'female'), ('Rhianna', 'female'), ('Gene', 'female'), ('Rasia', 'female'), ('Andrea', 'female'), ('Freddy', 'male'), ('Barrie', 'female'), ('Rorie', 'female'), ('Archie', 'male'), ('Adorne', 'female'), ('Olag', 'male'), ('Davita', 'female'), ('Kraig', 'male'), ('Wilie', 'female'), ('Arron', 'male'), ('Rory', 'male'), ('Johannes', 'male'), ('Bartlet', 'male'), ('Torrin', 'male'), ('Abbe', 'female'), ('Brandise', 'female'), ('Fabian', 'male'), ('Fairfax', 'male'), ('Gustavo', 'male'), ('Mitzi', 'female'), ('Lilla', 'female'), ('Annmarie', 'female'), ('Arvy', 'male'), ('Courtenay', 'female'), ('Alic', 'male'), ('Lyndsie', 'female'), ('Val', 'female'), ('Madeline', 'female'), ('Kitty', 'female'), ('Harli', 'female'), ('Merola', 'female'), ('Joyce', 'female'), ('Krista', 'female'), ('Gordan', 'male'), ('Sherrie', 'female'), ('Spencer', 'male'), ('Slim', 'male'), ('Judy', 'male'), ('Camala', 'female'), ('Hercules', 'male'), ('Fidelity', 'female'), ('Jerri', 'male'), ('Reeta', 'female'), ('Helene', 'female'), ('Kaye', 'female'), ('Sile', 'female'), ('Sherwynd', 'male'), ('Sissy', 'female'), ('Lianne', 'female'), ('Jaquelin', 'female'), ('Ikey', 'male'), ('Dove', 'female'), ('Red', 'male'), ('Merry', 'male'), ('Gardiner', 'male'), ('Catrina', 'female'), ('Bethena', 'female'), ('Natalina', 'female'), ('Prissie', 'female'), ('Tia', 'female'), ('Sophronia', 'female'), ('Jim', 'male'), ('Calley', 'female'), ('Rey', 'female'), ('Clarice', 'female'), ('Jo-Anne', 'female'), ('Kaila', 'female'), ('Coralie', 'female'), ('Lynn', 'male'), ('Carlye', 'female'), ('Wadsworth', 'male'), ('Janetta', 'female'), ('Ricki', 'female'), ('Ethelda', 'female'), ('Myles', 'male'), ('Wyatan', 'male'), ('Cindee', 'female'), ('Elissa', 'female'), ('Alis', 'female'), ('Fredi', 'female'), ('Adrien', 'female'), ('Camille', 'female'), ('Evey', 'female'), ('Tab', 'male'), ('Derrick', 'male'), ('Lydia', 'female'), ('Gonzalo', 'male'), ('Geraldine', 'female'), ('Emmit', 'male'), ('Lilas', 'female'), ('Patrice', 'male'), ('Jerome', 'male'), ('Gabriel', 'female'), ('Jilly', 'female'), ('Dianne', 'female'), ('Nanci', 'female'), ('Beret', 'female'), ('Claybourne', 'male'), ('Nonie', 'female'), ('Matias', 'male'), ('Lindy', 'female'), ('Bonnee', 'female'), ('Jenilee', 'female'), ('Joyann', 'female'), ('Sybil', 'female'), ('Devin', 'female'), ('Kingsly', 'male'), ('Conney', 'female'), ('Kaster', 'female'), ('Lily', 'female'), ('Meier', 'male'), ('Cori', 'female'), ('Ann-Marie', 'female'), ('Quiggly', 'male'), ('Ethelin', 'female'), ('Clareta', 'female'), ('Natalie', 'female'), ('Arleta', 'female'), ('Rici', 'female'), ('Olwen', 'female'), ('Luna', 'female'), ('Yance', 'male'), ('Dory', 'female'), ('Cinda', 'female'), ('Marlane', 'female'), ('Myna', 'female'), ('Hendrick', 'male'), ('Leoine', 'female'), ('Barret', 'male'), ('Deni', 'female'), ('Tony', 'female'), ('Mortimer', 'male'), ('Connie', 'male'), ('Jef', 'male'), ('Timothee', 'male'), ('Ellyn', 'female'), ('Rozella', 'female'), ('Dita', 'female'), ('Catha', 'female'), ('Logan', 'male'), ('Harmony', 'female'), ('Agnese', 'female'), ('Andre', 'male'), ('Gayle', 'female'), ('Munroe', 'male'), ('Archon', 'male'), ('Elfie', 'female'), ('Emlynn', 'female'), ('Anna-Diane', 'female'), ('Shellie', 'female'), ('Derby', 'male'), ('Cindy', 'female'), ('Sonnie', 'male'), ('Julianna', 'female'), ('Mechelle', 'female'), ('Meredith', 'female'), ('Stephi', 'female'), ('Cammi', 'female'), ('Valerye', 'female'), ('Lion', 'male'), ('Kakalina', 'female'), ('Filmore', 'male'), ('Burt', 'male'), ('Rabi', 'male'), ('Vladamir', 'male'), ('Tharen', 'male'), ('Dido', 'female'), ('Jillene', 'female'), ('Bard', 'male'), ('Joby', 'female'), ('Sandye', 'female'), ('Saul', 'male'), ('Waite', 'male'), ('Quinton', 'male'), ('Zachariah', 'male'), ('Chicky', 'female'), ('Georgina', 'female'), ('Ezechiel', 'male'), ('Tani', 'female'), ('Lorri', 'female'), ('Othello', 'male'), ('Erina', 'female'), ('Sauncho', 'male'), ('Francyne', 'female'), ('Marie', 'female'), ('Yolande', 'female'), ('Bertie', 'female'), ('Brice', 'male'), ('Raven', 'female'), ('Neddie', 'male'), ('Trix', 'female'), ('Collete', 'female'), ('Pet', 'female'), ('Adams', 'male'), ('Charlene', 'female'), ('Marcio', 'male'), ('Ricki', 'male'), ('Johnathon', 'male'), ('Darla', 'female'), ('Jacquetta', 'female'), ('Josef', 'male'), ('Roselia', 'female'), ('Fanchette', 'female'), ('Mozelle', 'female'), ('Carmelia', 'female'), ('Shelba', 'female'), ('Moore', 'male'), ('Jorry', 'female'), ('Lamar', 'male'), ('Grete', 'female'), ('Eirena', 'female'), ('Salmon', 'male'), ('Tamarah', 'female'), ('Elinor', 'female'), ('Jonathon', 'male'), ('Daryl', 'male'), ('Emma', 'female'), ('Lisette', 'female'), ('Gabbi', 'female'), ('Ronny', 'female'), ('Devora', 'female'), ('Janela', 'female'), ('Elisha', 'female'), ('Gabrielle', 'female'), ('Zenia', 'female'), ('Reta', 'female'), ('Sumner', 'male'), ('Ammamaria', 'female'), ('Rolando', 'male'), ('Audra', 'female'), ('Trudey', 'female'), ('Joella', 'female'), ('Morty', 'male'), ('Sari', 'female'), ('Ethyl', 'female'), ('Ruth', 'female'), ('Reynolds', 'male'), ('Leland', 'female'), ('Sheldon', 'male'), ('Gretta', 'female'), ('Cornela', 'female'), ('Marjory', 'female'), ('Jesus', 'male'), ('Jacki', 'female'), ('Effie', 'female'), ('Elnora', 'female'), ('Madona', 'female'), ('Niki', 'male'), ('Novelia', 'female'), ('Ruddy', 'male'), ('Kyla', 'female'), ('Maxwell', 'male'), ('Barri', 'male'), ('Lonnie', 'female'), ('Kanya', 'female'), ('Koralle', 'female'), ('Alexander', 'male'), ('Zoe', 'female'), ('Lew', 'male'), ('Ventura', 'female'), ('Blinni', 'female'), ('Odella', 'female'), ('Wainwright', 'male'), ('Winthrop', 'male'), ('Merrili', 'female'), ('Beale', 'male'), ('Katheleen', 'female'), ('Elyssa', 'female'), ('Graig', 'male'), ('Fredric', 'male'), ('Cherice', 'female'), ('Elysia', 'female'), ('Kerrin', 'female'), ('Pete', 'male'), ('Eada', 'female'), ('Charmian', 'female'), ('Marquita', 'female'), ('Brady', 'male'), ('Anny', 'female'), ('Keil', 'male'), ('Ashli', 'female'), ('Maurise', 'female'), ('Penelopa', 'female'), ('Chickie', 'female'), ('Renado', 'male'), ('Chalmers', 'male'), ('Meaghan', 'female'), ('Rahel', 'female'), ('Philippine', 'female'), ('Olympie', 'female'), ('Kirstie', 'female'), ('Starla', 'female'), ('Kristan', 'female'), ('Myrilla', 'female'), ('Leshia', 'female'), ('Hannibal', 'female'), ('Larina', 'female'), ('Paula', 'female'), ('Alessandra', 'female'), ('Delphine', 'female'), ('Brigitta', 'female'), ('Lonny', 'male'), ('Lorianna', 'female'), ('Tomasina', 'female'), ('Mildred', 'female'), ('Carlisle', 'female'), ('Deane', 'male'), ('Demeter', 'female'), ('Emanuela', 'female'), ('Hayley', 'female'), ('Adrea', 'female'), ('Simon', 'male'), ('Noreen', 'female'), ('Leorah', 'female'), ('Jacinda', 'female'), ('Lucien', 'male'), ('Guillermo', 'male'), ('Pincus', 'male'), ('Elaina', 'female'), ('Gustave', 'male'), ('Antonia', 'female'), ('Julina', 'female'), ('Norma', 'female'), ('Gillian', 'female'), ('Aurelea', 'female'), ('Marita', 'female'), ('Beatrix', 'female'), ('Leta', 'female'), ('Clio', 'female'), ('Christof', 'male'), ('Thekla', 'female'), ('Vickie', 'female'), ('Max', 'female'), ('Camile', 'female'), ('Roseanne', 'female'), ('Miranda', 'female'), ('Warner', 'male'), ('Tonie', 'female'), ('Tammi', 'female'), ('Augusta', 'female'), ('Palmer', 'male'), ('Celestia', 'female'), ('Tootsie', 'female'), ('Clifford', 'male'), ('Deb', 'female'), ('Clare', 'male'), ('Karlyn', 'female'), ('Marcello', 'male'), ('Reiko', 'female'), ('Melisenda', 'female'), ('Shelley', 'female'), ('Nissy', 'female'), ('Mattie', 'male'), ('Dan', 'male'), ('Camel', 'female'), ('Lanita', 'female'), ('Xenos', 'male'), ('Tait', 'male'), ('Ansley', 'female'), ('Taffy', 'female'), ('Anselm', 'male'), ('Aggy', 'female'), ('Wade', 'male'), ('Malka', 'female'), ('Kirstin', 'female'), ('Rafaelita', 'female'), ('Darcy', 'female'), ('Delly', 'female'), ('Lorne', 'female'), ('Ophelia', 'female'), ('Mirabella', 'female'), ('Hassan', 'male'), ('Glen', 'female'), ('Christoph', 'male'), ('Teodora', 'female'), ('Tammie', 'male'), ('Olivette', 'female'), ('Pammie', 'female'), ('Peter', 'male'), ('Joelle', 'female'), ('Syd', 'male'), ('Lancelot', 'male'), ('Tarra', 'female'), ('Danni', 'female'), ('Fonz', 'male'), ('Jethro', 'male'), ('Liliane', 'female'), ('Venus', 'female'), ('Lina', 'female'), ('Gerrard', 'male'), ('Jehu', 'male'), ('Delilah', 'female'), ('Egbert', 'male'), ('Sibelle', 'female'), ('Ilyse', 'female'), ('Trudy', 'female'), ('Jeri', 'female'), ('Lettie', 'female'), ('Louis', 'male'), ('Ellynn', 'female'), ('Coretta', 'female'), ('Jean-Paul', 'male'), ('Kelsi', 'female'), ('Ahmet', 'male'), ('Sidnee', 'male'), ('Konstantin', 'male'), ('Ramona', 'female'), ('Sileas', 'female'), ('Kathie', 'female'), ('Nollie', 'female'), ('Lib', 'female'), ('Brook', 'female'), ('Eustacia', 'female'), ('Richie', 'male'), ('Chuck', 'male'), ('Wiley', 'male'), ('Joana', 'female'), ('Wallace', 'male'), ('Aleksandrs', 'male'), ('Abdel', 'male'), ('Perry', 'female'), ('Davey', 'male'), ('Salman', 'male'), ('Ignatius', 'male'), ('Adolfo', 'male'), ('Marsiella', 'female'), ('Don', 'male'), ('Emeline', 'female'), ('Hakim', 'male'), ('Muffin', 'female'), ('Stanfield', 'male'), ('Corene', 'female'), ('Jacklyn', 'female'), ('Edward', 'male'), ('Zorina', 'female'), ('Bianca', 'female'), ('Noam', 'male'), ('Lemuel', 'male'), ('Cesar', 'male'), ('Fernandina', 'female'), ('Paolina', 'female'), ('Turner', 'male'), ('Clarey', 'female'), ('Skylar', 'male'), ('Sanson', 'male'), ('Pippa', 'female'), ('Mareah', 'female'), ('Andriette', 'female'), ('Kimmi', 'female'), ('Ernst', 'male'), ('Dyann', 'female'), ('Margy', 'female'), ('Florenza', 'female'), ('Erika', 'female'), ('Montague', 'male'), ('Stavros', 'male'), ('Sandy', 'male'), ('Melisande', 'female'), ('Javier', 'male'), ('Kyle', 'female'), ('Linea', 'female'), ('Kent', 'male'), ('Vassily', 'male'), ('Feliza', 'female'), ('Powell', 'male'), ('Oralle', 'female'), ('Oralee', 'female'), ('Marlie', 'female'), ('Evelyn', 'male'), ('Kimbra', 'female'), ('Dotti', 'female'), ('Kerrill', 'female'), ('Ginevra', 'female'), ('Carlotta', 'female'), ('Birdie', 'female'), ('Damon', 'male'), ('Leon', 'male'), ('Israel', 'male'), ('Malvina', 'female'), ('Jacky', 'female'), ('Ann-Mari', 'female'), ('Simone', 'female'), ('Bernhard', 'male'), ('Ingeberg', 'female'), ('Elisabet', 'female'), ('Abigale', 'female'), ('Honey', 'female'), ('Silvie', 'female'), ('Ilsa', 'female'), ('Ali', 'male'), ('Walt', 'male'), ('Evvy', 'female'), ('Walden', 'male'), ('Aldrich', 'male'), ('Beatrisa', 'female'), ('France', 'female'), ('Yolanthe', 'female'), ('Whitney', 'female'), ('Wells', 'male'), ('Roger', 'male'), ('Wendy', 'female'), ('Lynnette', 'female'), ('Rodina', 'female'), ('Theresita', 'female'), ('Jobey', 'female'), ('Royce', 'male'), ('Gonzales', 'male'), ('Taber', 'male'), ('Rudyard', 'male'), ('Venita', 'female'), ('Lethia', 'female'), ('Jonas', 'male'), ('Clarance', 'male'), ('Padraig', 'male'), ('Cathrine', 'female'), ('Tandy', 'female'), ('Rainer', 'male'), ('Alden', 'male'), ('Tiebold', 'male'), ('Ave', 'male'), ('Mathilda', 'female'), ('Myra', 'female'), ('Evvie', 'female'), ('Raoul', 'male'), ('Rowland', 'male'), ('Gerhardine', 'female'), ('Janeva', 'female'), ('Jeannine', 'female'), ('Redford', 'male'), ('Sidonnie', 'female'), ('Austen', 'male'), ('Danell', 'female'), ('Jule', 'male'), ('Alberto', 'male'), ('Shauna', 'female'), ('Sly', 'male'), ('Jenny', 'female'), ('Noelani', 'female'), ('Juan', 'male'), ('Melli', 'female'), ('Vic', 'male'), ('Daniela', 'female'), ('Sharl', 'female'), ('Diann', 'female'), ('Gwenni', 'female'), ('Horatio', 'male'), ('Quintana', 'female'), ('Lynn', 'female'), ('Dorena', 'female'), ('Thorstein', 'male'), ('Kassia', 'female'), ('Queada', 'female'), ('Dante', 'male'), ('Quint', 'male'), ('Regen', 'male'), ('Evania', 'female'), ('Adriena', 'female'), ('Taddeo', 'male'), ('Flossi', 'female'), ('Gweneth', 'female'), ('Aaron', 'male'), ('Hamlin', 'male'), ('Julius', 'male'), ('Haleigh', 'male'), ('Arvin', 'male'), ('Earle', 'male'), ('Krissie', 'female'), ('Spence', 'male'), ('Viviana', 'female'), ('Geraldina', 'female'), ('Ursola', 'female'), ('Todd', 'male'), ('Marlow', 'male'), ('Oprah', 'female'), ('Judas', 'male'), ('Kerrie', 'female'), ('Celestyn', 'female'), ('Dale', 'male'), ('Mallorie', 'female'), ('Daphne', 'female'), ('Andreas', 'male'), ('Caesar', 'male'), ('Zelda', 'female'), ('Skipper', 'male'), ('Maxie', 'male'), ('Goddard', 'male'), ('Meyer', 'male'), ('Cammy', 'female'), ('Izaak', 'male'), ('Wilburt', 'male'), ('Barnard', 'male'), ('Nikki', 'female'), ('Amabel', 'female'), ('Yehudi', 'male'), ('Goose', 'male'), ('Cary', 'female'), ('Kristien', 'female'), ('Meridel', 'female'), ('Gene', 'male'), ('Vanessa', 'female'), ('Giancarlo', 'male'), ('Nerte', 'female'), ('Emmery', 'male'), ('Helena', 'female'), ('Moses', 'male'), ('Felita', 'female'), ('Rodrigo', 'male'), ('Marielle', 'female'), ('Alexa', 'female'), ('Jacquelynn', 'female'), ('Erica', 'female'), ('Bart', 'male'), ('Drew', 'male'), ('Sylvan', 'male'), ('Hasheem', 'male'), ('Zed', 'male'), ('Sheril', 'female'), ('Donielle', 'female'), ('Jacklin', 'female'), ('Creighton', 'male'), ('Saree', 'female'), ('Bettye', 'female'), ('Natala', 'female'), ('Leona', 'female'), ('Emelyne', 'female'), ('Raimund', 'male'), ('Brendan', 'male'), ('Orlando', 'male'), ('Ric', 'male'), ('Nickey', 'male'), ('Mace', 'male'), ('Gaynor', 'female'), ('Gerri', 'female'), ('Montgomery', 'male'), ('Eolande', 'female'), ('Frederica', 'female'), ('Wes', 'male'), ('Vachel', 'male'), ('Myrlene', 'female'), ('Caprice', 'female'), ('Kenneth', 'male'), ('Avie', 'female'), ('Barbaraanne', 'female'), ('Andreana', 'female'), ('Rosabella', 'female'), ('Jolynn', 'female'), ('Doloritas', 'female'), ('Lisa', 'female'), ('Hersh', 'male'), ('Terence', 'male'), ('Mada', 'female'), ('Irving', 'male'), ('Danyelle', 'female'), ('Mohammed', 'male'), ('Zacharie', 'male'), ('Aram', 'male'), ('Ortensia', 'female'), ('Randolph', 'male'), ('See', 'male'), ('Regine', 'female'), ('Sybille', 'female'), ('Sydney', 'male'), ('Holly-Anne', 'female'), ('Van', 'female'), ('Aubert', 'male'), ('Kingsley', 'male'), ('Auguste', 'female'), ('Ragnar', 'male'), ('Claude', 'female'), ('Judy', 'female'), ('Dean', 'male'), ('Catlaina', 'female'), ('Shurlocke', 'male'), ('Sydney', 'female'), ('Prince', 'male'), ('Tammy', 'female'), ('Charline', 'female'), ('Malynda', 'female'), ('Thorpe', 'male'), ('Noe', 'male'), ('Dorie', 'female'), ('Cornelius', 'male'), ('Susan', 'female'), ('Aleck', 'male'), ('Pieter', 'male'), ('Andrew', 'male'), ('Bear', 'male'), ('Clarissa', 'female'), ('Randie', 'male'), ('Babs', 'female'), ('Darda', 'female'), ('Piggy', 'male'), ('Marcille', 'female'), ('Michele', 'male'), ('Shandy', 'female'), ('Ursala', 'female'), ('Elisabetta', 'female'), ('Dory', 'male'), ('Kirby', 'female'), ('Nils', 'male'), ('Francisca', 'female'), ('Elenore', 'female'), ('Marty', 'male'), ('Hali', 'female'), ('Olia', 'female'), ('Angelique', 'female'), ('Garret', 'male'), ('Camilla', 'female'), ('Maude', 'female'), ('Cayla', 'female'), ('Elfreda', 'female'), ('Remington', 'male'), ('Adrick', 'male'), ('Joselyn', 'female'), ('Gail', 'female'), ('Waly', 'female'), ('Frank', 'male'), ('Nady', 'female'), ('Olivie', 'female'), ('Tim', 'female'), ('Sander', 'male'), ('Kare', 'female'), ('Patience', 'female'), ('Dietrich', 'male'), ('Micky', 'female'), ('Rowena', 'female'), ('Rochell', 'female'), ('Carter', 'male'), ('Juliette', 'female'), ('Isabeau', 'female'), ('Cris', 'male'), ('Yard', 'male'), ('Jud', 'male'), ('Manish', 'male'), ('Ashby', 'male'), ('Brewster', 'male'), ('Mallory', 'female'), ('Bridgette', 'female'), ('Berte', 'female'), ('Nathalia', 'female'), ('Cindra', 'female'), ('Ezekiel', 'male'), ('Tilda', 'female'), ('Annnora', 'female'), ('Karolina', 'female'), ('Clarisa', 'female'), ('Rozalie', 'female'), ('Wang', 'male'), ('Harriott', 'female'), ('Darlene', 'female'), ('Brear', 'female'), ('Sayres', 'male'), ('Lorrie', 'male'), ('Caroleen', 'female'), ('Geoffrey', 'male'), ('Emmaline', 'female'), ('Hertha', 'female'), ('Carey', 'female'), ('Ilona', 'female'), ('Filbert', 'male'), ('Albatros', 'male'), ('Lauralee', 'female'), ('Konrad', 'male'), ('Willabella', 'female'), ('Lucretia', 'female'), ('Rosie', 'female'), ('Ruperta', 'female'), ('Madalena', 'female'), ('Timotheus', 'male'), ('Sheppard', 'male'), ('Aina', 'female'), ('Urban', 'male'), ('Adiana', 'female'), ('Olaf', 'male'), ('Carlynne', 'female'), ('Claudina', 'female'), ('Nerti', 'female'), ('Eli', 'male'), ('Bo', 'female'), ('Danna', 'female'), ('Tom', 'male'), ('Sigmund', 'male'), ('Gian', 'male'), ('Elianore', 'female'), ('Benjie', 'male'), ('Ailey', 'female'), ('Eula', 'female'), ('Kathrine', 'female'), ('Gina', 'female'), ('Sturgis', 'male'), ('Norbert', 'male'), ('Kaitlyn', 'female'), ('Lorry', 'female'), ('Minda', 'female'), ('Wilhelmina', 'female'), ('Merilyn', 'female'), ('Keren', 'female'), ('Chery', 'female'), ('Lin', 'female'), ('Sybilla', 'female'), ('Gustavus', 'male'), ('Vinny', 'female'), ('Ileana', 'female'), ('Merrick', 'male'), ('Deonne', 'female'), ('Jillayne', 'female'), ('Aveline', 'female'), ('Illa', 'female'), ('Vikky', 'female'), ('Karoly', 'female'), ('Jeremias', 'male'), ('Kippy', 'female'), ('Lorinda', 'female'), ('Saudra', 'female'), ('Shanon', 'female'), ('Anthe', 'female'), ('Con', 'female'), ('Tyler', 'male'), ('Imojean', 'female'), ('Dyanne', 'female'), ('Shorty', 'male'), ('Adrienne', 'female'), ('Kalman', 'male'), ('Srinivas', 'male'), ('Paulette', 'female'), ('Morena', 'female'), ('Kirsten', 'female'), ('Denice', 'female'), ('Esau', 'male'), ('Kikelia', 'female'), ('Merl', 'female'), ('Cicely', 'female'), ('Chauncey', 'male'), ('Richy', 'male'), ('Audie', 'female'), ('Avis', 'female'), ('Ollie', 'male'), ('Eberhard', 'male'), ('Layla', 'female'), ('Mimi', 'female'), ('Edie', 'male'), ('Gaspar', 'male'), ('Goober', 'male'), ('Dick', 'male'), ('Marv', 'male'), ('Vere', 'female'), ('Glori', 'female'), ('Ambros', 'male'), ('Miquela', 'female'), ('Iona', 'female'), ('Modesty', 'female'), ('Rania', 'female'), ('Jonah', 'male'), ('Bill', 'female'), ('Enrichetta', 'female'), ('Michelina', 'female'), ('Efram', 'male'), ('Allene', 'female'), ('Eliza', 'female'), ('Urbanus', 'male'), ('Stearne', 'male'), ('Hershel', 'male'), ('Woodman', 'male'), ('Dedie', 'female'), ('Aggie', 'female'), ('Beau', 'female'), ('Erek', 'male'), ('Elianora', 'female'), ('Mylo', 'male'), ('Garv', 'male'), ('Desirae', 'female'), ('Josey', 'female'), ('Meggy', 'female'), ('Randy', 'female'), ('Meredeth', 'male'), ('Jaquenette', 'female'), ('Wilbert', 'male'), ('Susanne', 'female'), ('Lindsay', 'male'), ('Felipe', 'male'), ('Biddy', 'female'), ('Ross', 'male'), ('Alta', 'female'), ('Mortie', 'male'), ('Hermon', 'male'), ('Bobbie', 'male'), ('Truman', 'male'), ('Rivkah', 'female'), ('Dorolisa', 'female'), ('Michell', 'female'), ('Pierre', 'male'), ('Ula', 'female'), ('Tamra', 'female'), ('Terese', 'female'), ('Tito', 'male'), ('Orin', 'male'), ('Casia', 'female'), ('Tatiana', 'female'), ('Zena', 'female'), ('Glory', 'female'), ('Frederick', 'male'), ('Sorcha', 'female'), ('Anselma', 'female'), ('Cob', 'male'), ('Gustie', 'female'), ('Stace', 'female'), ('Harley', 'male'), ('Violette', 'female'), ('Petra', 'female'), ('Jyoti', 'female'), ('Shantee', 'female'), ('Benetta', 'female'), ('Danette', 'female'), ('Angelita', 'female'), ('Fawne', 'female'), ('Noel', 'female'), ('Buck', 'male'), ('Isahella', 'female'), ('Yoshiko', 'female'), ('Lind', 'male'), ('Holly', 'female'), ('Katerine', 'female'), ('Barny', 'male'), ('Lillis', 'female'), ('Theobald', 'male'), ('Jill', 'female'), ('Mendel', 'male'), ('Clarke', 'male'), ('Herrick', 'male'), ('Katharine', 'female'), ('Francoise', 'female'), ('Cass', 'female'), ('Cosette', 'female'), ('Tuesday', 'female'), ('Nate', 'male'), ('Joni', 'female'), ('Virgil', 'male'), ('Ginger', 'female'), ('Antone', 'male'), ('Nathanil', 'male'), ('Udale', 'male'), ('Olenka', 'female'), ('Marnia', 'female'), ('Stern', 'male'), ('Evy', 'female'), ('Norman', 'male'), ('Margaret', 'female'), ('Hector', 'male'), ('Sloane', 'male'), ('Lucinda', 'female'), ('Maryrose', 'female'), ('Noah', 'male'), ('Mora', 'female'), ('Theada', 'female'), ('Valli', 'female'), ('Katy', 'female'), ('Greta', 'female'), ('Werner', 'male'), ('Jeniffer', 'female'), ('Sharie', 'female'), ('Nikoletta', 'female'), ('Ashley', 'male'), ('Lorelei', 'female'), ('Harvey', 'male'), ('Poul', 'male'), ('Thacher', 'male'), ('Silva', 'female'), ('Kee', 'female'), ('Laverne', 'female'), ('Sadella', 'female'), ('Georgine', 'female'), ('Davin', 'male'), ('Heide', 'female'), ('Colbert', 'male'), ('Davie', 'male'), ('Susann', 'female'), ('Reina', 'female'), ('Carlina', 'female'), ('Jodee', 'female'), ('Osmund', 'male'), ('Cam', 'female'), ('Zilvia', 'female'), ('Pepita', 'female'), ('Terrence', 'male'), ('Georgie', 'male'), ('Stephine', 'female'), ('Layney', 'female'), ('Valma', 'female'), ('Bab', 'female'), ('Donal', 'male'), ('Tobiah', 'male'), ('Georges', 'male'), ('Nelsen', 'male'), ('Dorry', 'female'), ('Helen-Elizabeth', 'female'), ('Kostas', 'male'), ('Nancee', 'female'), ('Rachele', 'female'), ('Gavin', 'male'), ('Lelah', 'female'), ('Kathe', 'female'), ('Gerta', 'female'), ('Sayre', 'female'), ('Pegeen', 'female'), ('Ira', 'male'), ('Boniface', 'male'), ('Alena', 'female'), ('Marina', 'female'), ('Lurline', 'female'), ('Shayla', 'female'), ('Jemie', 'female'), ('Hattie', 'female'), ('Rudd', 'male'), ('Merna', 'female'), ('Colette', 'female'), ('Rickey', 'male'), ('Glennie', 'female'), ('Prentiss', 'male'), ('Dede', 'female'), ('Gino', 'male'), ('Susanna', 'female'), ('Mercy', 'female'), ('Amalia', 'female'), ('Avery', 'male'), ('Lynea', 'female'), ('Lenny', 'male'), ('Pris', 'female'), ('Loralyn', 'female'), ('Jocelin', 'female'), ('Shelton', 'male'), ('Robinette', 'female'), ('Charlott', 'female'), ('Scotty', 'female'), ('Babita', 'female'), ('Torrey', 'male'), ('Leodora', 'female'), ('Wilton', 'male'), ('Townsend', 'male'), ('Kip', 'male'), ('Windy', 'female'), ('Sherman', 'male'), ('Ofella', 'female'), ('Kore', 'female'), ('Saxon', 'male'), ('Mattias', 'male'), ('Easton', 'male'), ('Arden', 'female'), ('Harald', 'male'), ('Haven', 'male'), ('Ludvig', 'male'), ('Kary', 'female'), ('Tedie', 'male'), ('Olivier', 'male'), ('Linus', 'male'), ('Esmaria', 'female'), ('Corissa', 'female'), ('Monika', 'female'), ('Garnet', 'female'), ('Stormie', 'female'), ('Leyla', 'female'), ('Kincaid', 'male'), ('Gabriel', 'male'), ('Lesli', 'female'), ('Evangeline', 'female'), ('Wren', 'female'), ('Angelle', 'female'), ('Shannon', 'female'), ('Karoline', 'female'), ('Zak', 'male'), ('Shirah', 'female'), ('Maggy', 'female'), ('Liorah', 'female'), ('Yolanda', 'female'), ('Selene', 'female'), ('Renel', 'female'), ('Gregor', 'male'), ('Leanne', 'female'), ('Jason', 'male'), ('Hyatt', 'male'), ('Helise', 'female'), ('Scottie', 'male'), ('Maritsa', 'female'), ('Doti', 'female'), ('Collin', 'male'), ('Margarethe', 'female'), ('Hyacintha', 'female'), ('Arlyn', 'female'), ('Davida', 'female'), ('Stefanie', 'female'), ('Meta', 'female'), ('Lucille', 'female'), ('Webb', 'male'), ('Edita', 'female'), ('Joe', 'male'), ('Jamey', 'male'), ('Madelena', 'female'), ('Peria', 'female'), ('Berke', 'male'), ('Michelle', 'female'), ('Maurits', 'male'), ('Albertina', 'female'), ('Eydie', 'female'), ('Drew', 'female'), ('Netty', 'female'), ('Yacov', 'male'), ('Tiphani', 'female'), ('Stuart', 'male'), ('Alayne', 'female'), ('Suzette', 'female'), ('Robbie', 'female'), ('Elsie', 'female'), ('Terencio', 'male'), ('Hashim', 'male'), ('Dolora', 'female'), ('Ignacio', 'male'), ('Gabriello', 'male'), ('Gaby', 'female'), ('Estel', 'female'), ('Clarence', 'male'), ('Jeni', 'female'), ('Rutherford', 'male'), ('Robinet', 'female'), ('Austin', 'female'), ('Benito', 'male'), ('Wash', 'male'), ('Bernadette', 'female'), ('Rosella', 'female'), ('Selle', 'female'), ('Calvin', 'male'), ('Annie', 'female'), ('Jeb', 'male'), ('Jose', 'male'), ('Neall', 'male'), ('Elsey', 'female'), ('Pru', 'female'), ('Preston', 'male'), ('Jarrett', 'male'), ('Katherina', 'female'), ('Darrin', 'male'), ('Levi', 'male'), ('Felicity', 'female'), ('Vin', 'female'), ('Maure', 'female'), ('Bailey', 'male'), ('Amadeus', 'male'), ('Marietta', 'female'), ('Sharyl', 'female'), ('Perla', 'female'), ('Izzi', 'female'), ('Ray', 'male'), ('Daisie', 'female'), ('Jefferson', 'male'), ('Sig', 'male'), ('Mariejeanne', 'female'), ('Clo', 'female'), ('Mart', 'male'), ('Giorgi', 'male'), ('Nevsa', 'female'), ('Aprilette', 'female'), ('Sacha', 'female'), ('Alix', 'male'), ('Giraud', 'male'), ('Martguerita', 'female'), ('Feodora', 'female'), ('Gerianna', 'female'), ('Maridel', 'female'), ('Verena', 'female'), ('Lev', 'male'), ('French', 'male'), ('Shaughn', 'male'), ('Benny', 'male'), ('Isaak', 'male'), ('Dorene', 'female'), ('Antonina', 'female'), ('Lynnelle', 'female'), ('Grove', 'male'), ('Myrah', 'female'), ('Aldus', 'male'), ('Josselyn', 'female'), ('Marianna', 'female'), ('Jessika', 'female'), ('Cleland', 'male'), ('Lilah', 'female'), ('Christel', 'female'), ('Marylee', 'female'), ('Dorri', 'female'), ('Erminia', 'female'), ('Kassey', 'female'), ('Cristopher', 'male'), ('Indira', 'female'), ('Salli', 'female'), ('Georgie', 'female'), ('Jacqui', 'female'), ('Lorie', 'female'), ('Winny', 'female'), ('Oriana', 'female'), ('Llewellyn', 'male'), ('Cathie', 'female'), ('Merrile', 'female'), ('Waverley', 'male'), ('Kellen', 'male'), ('Bernadine', 'female'), ('Enid', 'female'), ('Nissie', 'female'), ('Reg', 'male'), ('Aeriell', 'female'), ('Rozanna', 'female'), ('Kettie', 'female'), ('Emmy', 'male'), ('Constantine', 'male'), ('Bryon', 'male'), ('Geri', 'female'), ('Randie', 'female'), ('Merrill', 'female'), ('Benedikta', 'female'), ('Lilia', 'female'), ('Casper', 'male'), ('Marney', 'female'), ('Wye', 'male'), ('Corette', 'female'), ('Swen', 'male'), ('Juanita', 'female'), ('Cleo', 'female'), ('Rodd', 'male'), ('Elden', 'male'), ('Darice', 'female'), ('Chanda', 'female'), ('Bebe', 'female'), ('Emelia', 'female'), ('Rudiger', 'male'), ('Tre', 'male'), ('Aguste', 'male'), ('Kathlene', 'female'), ('Loraine', 'female'), ('Mirilla', 'female'), ('Jeremiah', 'male'), ('Nicole', 'female'), ('Agace', 'female'), ('Randy', 'male'), ('Roddy', 'male'), ('Pooh', 'female'), ('Ibbie', 'female'), ('Kalina', 'female'), ('Rodolph', 'male'), ('Lelia', 'female'), ('Lewis', 'male'), ('Siward', 'male'), ('Benji', 'male'), ('Weston', 'male'), ('Darsie', 'female'), ('Lebbie', 'female'), ('Silvain', 'male'), ('Brunella', 'female'), ('Bellina', 'female'), ('Ashly', 'female'), ('Grady', 'male'), ('Lena', 'female'), ('Augustin', 'male'), ('Meagan', 'female'), ('Gilberte', 'female'), ('Stacey', 'female'), ('Asia', 'female'), ('Veronike', 'female'), ('Darelle', 'female'), ('Shamit', 'female'), ('Talbot', 'male'), ('Marcellina', 'female'), ('Sharlene', 'female'), ('Darb', 'female'), ('Jerzy', 'male'), ('Florida', 'female'), ('Chase', 'male'), ('Wilson', 'male'), ('Frankie', 'male'), ('Anatole', 'male'), ('Elliott', 'male'), ('Starr', 'female'), ('Jocelyn', 'female'), ('Raine', 'female'), ('Genni', 'female'), ('Barton', 'male'), ('Rory', 'female'), ('Saunders', 'male'), ('Maynord', 'male'), ('Jerrilee', 'female'), ('Rubin', 'male'), ('Sascha', 'female'), ('Renato', 'male'), ('Billie', 'male'), ('Obadias', 'male'), ('Tobin', 'male'), ('Emlynne', 'female'), ('Latrina', 'female'), ('Gregg', 'male'), ('Westley', 'male'), ('Wylie', 'male'), ('Barbara-Anne', 'female'), ('Giff', 'male'), ('Quintina', 'female'), ('Hagen', 'male'), ('Keriann', 'female'), ('Lysandra', 'female'), ('Vi', 'female'), ('Shaylynn', 'female'), ('Bathsheba', 'female'), ('Terrie', 'female'), ('Merridie', 'female'), ('Jessy', 'female'), ('Lolande', 'female'), ('Myron', 'male'), ('Rayner', 'male'), ('Jimbo', 'male'), ('Andrea', 'male'), ('Wilfred', 'male'), ('Amelie', 'female'), ('Ike', 'female'), ('Truda', 'female'), ('Germaine', 'female'), ('Lorena', 'female'), ('Magdalene', 'female'), ('Theressa', 'female'), ('Geralda', 'female'), ('Cherin', 'female'), ('Rhodie', 'female'), ('Felice', 'male'), ('Aurel', 'female'), ('Dareen', 'female'), ('Weidar', 'male'), ('Willamina', 'female'), ('Melodee', 'female'), ('Barn', 'male'), ('Archibald', 'male'), ('Violetta', 'female'), ('Jany', 'female'), ('Philipa', 'female'), ('Micheil', 'male'), ('Torre', 'male'), ('Smitty', 'male'), ('Sue-elle', 'female'), ('Paddy', 'male'), ('Minta', 'female'), ('Brietta', 'female'), ('Finley', 'male'), ('Margret', 'female'), ('Peggy', 'female'), ('Joelynn', 'female'), ('Jackson', 'male'), ('Pattie', 'female'), ('Emiline', 'female'), ('Kenny', 'male'), ('Steffen', 'male'), ('Melany', 'female'), ('Kelley', 'male'), ('Jean', 'female'), ('Endora', 'female'), ('Susana', 'female'), ('Devin', 'male'), ('Glynn', 'male'), ('Mona', 'female'), ('Patty', 'male'), ('Ethan', 'male'), ('Jo Ann', 'female'), ('Ronica', 'female'), ('Bert', 'male'), ('Wallie', 'male'), ('Shurwood', 'male'), ('Raquel', 'female'), ('Jessamyn', 'female'), ('Davide', 'male'), ('Morton', 'male'), ('Zarah', 'female'), ('Lizbeth', 'female'), ('Fanni', 'female'), ('Ros', 'female'), ('Channa', 'female'), ('Florri', 'female'), ('Abbie', 'female'), ('Clari', 'female'), ('Bunny', 'female'), ('Van', 'male'), ('Xylia', 'female'), ('Blakeley', 'female'), ('Stanly', 'male'), ('Anne-Marie', 'female'), ('Kalli', 'female'), ('Carson', 'male'), ('Dorree', 'female'), ('Sephira', 'female'), ('Faina', 'female'), ('Nessie', 'female'), ('Les', 'male'), ('Marena', 'female'), ('Frieda', 'female'), ('Gabriele', 'male'), ('Hasty', 'male'), ('Roxana', 'female'), ('Whitaker', 'male'), ('Simeon', 'male'), ('Gussy', 'female'), ('Delinda', 'female'), ('Alfreda', 'female'), ('Merline', 'female'), ('Dewey', 'male'), ('Jerrine', 'female'), ('Arlena', 'female'), ('Marabel', 'female'), ('Ferdy', 'male'), ('Lonnie', 'male'), ('Zorah', 'female'), ('Dorice', 'female'), ('Melantha', 'female'), ('Ishmael', 'male'), ('Mercie', 'female'), ('Del', 'male'), ('Sandy', 'female'), ('Tobye', 'female'), ('Carl', 'male'), ('Thurston', 'male'), ('Paola', 'female'), ('Anita', 'female'), ('Alex', 'female'), ('Stillman', 'male'), ('Myrtle', 'female'), ('Vera', 'female'), ('Sarah', 'female'), ('Beverie', 'female'), ('Zsa Zsa', 'female'), ('Kathye', 'female'), ('Inessa', 'female'), ('Zachary', 'male'), ('Constantina', 'female'), ('Harwell', 'male'), ('Paula-Grace', 'female'), ('Ivor', 'male'), ('Thorsten', 'male'), ('Garp', 'male'), ('John', 'male'), ('Meir', 'male'), ('Hetty', 'female'), ('Randell', 'male'), ('Lyda', 'female'), ('Gerladina', 'female'), ('Silvia', 'female'), ('Sybila', 'female'), ('Gen', 'female'), ('Hebert', 'male'), ('Paulita', 'female'), ('Dulcie', 'female'), ('Maggi', 'female'), ('Hailee', 'female'), ('Kurt', 'male'), ('Annmaria', 'female'), ('Jane', 'female'), ('Rafe', 'male'), ('Corabelle', 'female'), ('Dody', 'female'), ('Olivia', 'female'), ('Jeane', 'female'), ('Tarzan', 'male'), ('Bryna', 'female'), ('Melicent', 'female'), ('Freddie', 'female'), ('Misti', 'female'), ('Blaire', 'female'), ('Linet', 'female'), ('Veda', 'female'), ('Shir', 'female'), ('Freida', 'female'), ('Claudie', 'female'), ('Ola', 'female'), ('Talya', 'female'), ('Yale', 'male'), ('Whitney', 'male'), ('Pauline', 'female'), ('Jena', 'female'), ('Jabez', 'male'), ('Penny', 'male'), ('Carolynn', 'female'), ('Bobette', 'female'), ('Niels', 'male'), ('Nelly', 'female'), ('Tybie', 'female'), ('Adah', 'female'), ('Ardeen', 'female'), ('Idalina', 'female'), ('Hulda', 'female'), ('Fremont', 'male'), ('Valery', 'female'), ('Ehud', 'male'), ('Fidel', 'male'), ('Jannelle', 'female'), ('Nonnah', 'female'), ('Hilbert', 'male'), ('Waylan', 'male'), ('Helsa', 'female'), ('Friederike', 'female'), ('Baron', 'male'), ('Alexia', 'female'), ('Consuelo', 'female'), ('Richardo', 'male'), ('Kylen', 'female'), ('Melisse', 'female'), ('Gita', 'female'), ('Douglas', 'male'), ('Eliot', 'male'), ('Skippy', 'male'), ('Winfield', 'male'), ('Zerk', 'male'), ('Shoshanna', 'female'), ('Hurley', 'male'), ('Wayland', 'male'), ('Moina', 'female'), ('Livia', 'female'), ('Arda', 'female'), ('Renata', 'female'), ('Meg', 'female'), ('Eddie', 'male'), ('Marchall', 'male'), ('Cy', 'male'), ('Brandais', 'female'), ('Felicio', 'male'), ('Winton', 'male'), ('Aurelia', 'female'), ('Sawyere', 'male'), ('Tremain', 'male'), ('Romeo', 'male'), ('Agathe', 'female'), ('Clovis', 'female'), ('Gertruda', 'female'), ('Casey', 'male'), ('Myrtie', 'female'), ('Isidore', 'male'), ('Harriot', 'female'), ('Melania', 'female'), ('Loren', 'female'), ('Rinaldo', 'male'), ('Malorie', 'female'), ('Roseann', 'female'), ('Kiley', 'female'), ('Staford', 'male'), ('Tasha', 'female'), ('Dimitris', 'male'), ('Annabela', 'female'), ('Neile', 'female'), ('Burgess', 'male'), ('Henriette', 'female'), ('Doro', 'female'), ('Russ', 'male'), ('Lyn', 'male'), ('Pat', 'male'), ('Carmon', 'female'), ('Nat', 'male'), ('Gustav', 'male'), ('Roana', 'female'), ('Parry', 'male'), ('Engelbart', 'male'), ('Katinka', 'female'), ('Terrance', 'male'), ('Tull', 'male'), ('Siana', 'female'), ('Easter', 'female'), ('Karim', 'male'), ('Terrell', 'male'), ('Marit', 'female'), ('Danice', 'female'), ('Carina', 'female'), ('Dela', 'female'), ('Jess', 'female'), ('Otis', 'male'), ('Sadie', 'female'), ('Cyrillus', 'male'), ('Thatch', 'male'), ('Marcelia', 'female'), ('Normie', 'male'), ('Bernadene', 'female'), ('Ruperto', 'male'), ('Jesse', 'male'), ('Marijo', 'female'), ('Tabbatha', 'female'), ('Petrina', 'female'), ('Millicent', 'male'), ('Vernon', 'male'), ('Chan', 'male'), ('Kirbie', 'female'), ('Franklin', 'male'), ('Randi', 'male'), ('Guinevere', 'female'), ('Verna', 'female'), ('Jillian', 'female'), ('Tabor', 'male'), ('Umberto', 'male'), ('Merle', 'male'), ('Brett', 'male'), ('Flo', 'female'), ('Sianna', 'female'), ('Carolin', 'female'), ('Kameko', 'female'), ('Alley', 'male'), ('Romona', 'female'), ('Randene', 'female'), ('Barbee', 'female'), ('Philip', 'male'), ('Samaria', 'female'), ('Lanny', 'male'), ('Geeta', 'female'), ('Jude', 'female'), ('Kamilah', 'female'), ('Ali', 'female'), ('Matt', 'male'), ('Roselin', 'female'), ('Ulrike', 'female'), ('Alvin', 'male'), ('Rodolphe', 'male'), ('Tann', 'male'), ('Clerissa', 'female'), ('Timi', 'female'), ('Antoine', 'male'), ('Isabelle', 'female'), ('Florella', 'female'), ('Maureen', 'female'), ('Melessa', 'female'), ('Page', 'male'), ('Donni', 'female'), ('Charlean', 'female'), ('Hannah', 'female'), ('Dani', 'male'), ('Shell', 'female'), ('Andri', 'male'), ('Robert', 'male'), ('Barnie', 'male'), ('Rosabelle', 'female'), ('Malina', 'female'), ('Demetri', 'male'), ('Stephana', 'female'), ('Darcee', 'female'), ('Lolly', 'female'), ('Wilber', 'male'), ('Jeromy', 'male'), ('Dallas', 'male'), ('Christin', 'female'), ('Rhea', 'female'), ('Neil', 'male'), ('Erma', 'female'), ('Roseanna', 'female'), ('Rodney', 'male'), ('Phyllida', 'female'), ('Kacy', 'female'), ('Amos', 'male'), ('Korella', 'female'), ('Augustine', 'female'), ('Magdalen', 'female'), ('Christofer', 'male'), ('Idalia', 'female'), ('Skell', 'male'), ('Kaylyn', 'female'), ('Talbert', 'male'), ('Tabb', 'male'), ('Barry', 'female'), ('Rene', 'female'), ('Lainey', 'female'), ('Spense', 'male'), ('Tye', 'male'), ('Willie', 'female'), ('Serena', 'female'), ('Kimberlee', 'female'), ('Viki', 'female'), ('Prue', 'female'), ('Rahul', 'male'), ('Gwenette', 'female'), ('Temple', 'male'), ('Roarke', 'male'), ('Sylvester', 'male'), ('Mehetabel', 'female'), ('Valerie', 'female'), ('Meira', 'female'), ('Jaime', 'male'), ('Katerina', 'female'), ('Jehanna', 'female'), ('Gisela', 'female'), ('Loella', 'female'), ('Ealasaid', 'female'), ('Cresa', 'female'), ('Donna', 'female'), ('Cordelie', 'female'), ('Kevan', 'male'), ('Dorris', 'female'), ('Thorn', 'male'), ('Dorette', 'female'), ('Tabby', 'female'), ('Alexis', 'male'), ('Julissa', 'female'), ('Worthy', 'male'), ('Michele', 'female'), ('Catherine', 'female'), ('Erhard', 'male'), ('Page', 'female'), ('Carena', 'female'), ('Genvieve', 'female'), ('Hadria', 'female'), ('Ronda', 'female'), ('Cathrin', 'female'), ('Gael', 'female'), ('Jeffery', 'male'), ('Adela', 'female'), ('Mahmoud', 'male'), ('Hendrik', 'male'), ('Teddy', 'male'), ('Nataline', 'female'), ('Albert', 'male'), ('Alvinia', 'female'), ('Fiona', 'female'), ('Stefania', 'female'), ('Lona', 'female'), ('Seline', 'female'), ('Barclay', 'male'), ('Ceil', 'female'), ('Fitzgerald', 'male'), ('Secunda', 'female'), ('Shoshana', 'female'), ('Allys', 'female'), ('Joanne', 'female'), ('Darrell', 'male'), ('Guenna', 'female'), ('Seka', 'female'), ('Mort', 'male'), ('Heloise', 'female'), ('Maximilien', 'male'), ('Elspeth', 'female'), ('Eliott', 'male'), ('Michaela', 'female'), ('Forbes', 'male'), ('Donnie', 'male'), ('Josefa', 'female'), ('Virgie', 'female'), ('Lissi', 'female'), ('Cory', 'female'), ('Mohamed', 'male'), ('Hastings', 'male'), ('Stephannie', 'female'), ('Goldi', 'female'), ('Betsey', 'female'), ('Rebeca', 'female'), ('Murdoch', 'male'), ('Adolf', 'male'), ('Kathleen', 'female'), ('Aguinaldo', 'male'), ('Ariana', 'female'), ('Gwenora', 'female'), ('Brant', 'male'), ('Robbin', 'female'), ('Chantalle', 'female'), ('Francesca', 'female'), ('Debra', 'female'), ('Billy', 'female'), ('Marshal', 'male'), ('Leonidas', 'male'), ('Gwenneth', 'female'), ('Celestina', 'female'), ('Phylys', 'female'), ('Matty', 'female'), ('Fleurette', 'female'), ('Harmon', 'male'), ('Amandie', 'female'), ('Oliver', 'male'), ('Appolonia', 'female'), ('Sibeal', 'female'), ('Judah', 'male'), ('Adey', 'female'), ('Genevieve', 'female'), ('Fayre', 'female'), ('Vasili', 'male'), ('Neron', 'male'), ('Loria', 'female'), ('Glorianna', 'female'), ('Sheree', 'female'), ('Caressa', 'female'), ('Karola', 'female'), ('Fatima', 'female'), ('Rosina', 'female'), ('Mahesh', 'male'), ('Kesley', 'female'), ('Toby', 'male'), ('Eleanor', 'female'), ('Britney', 'female'), ('Eden', 'female'), ('Quentin', 'male'), ('Daryle', 'male'), ('Silvan', 'male'), ('Lizabeth', 'female'), ('Donica', 'female'), ('Vincent', 'male'), ('Jacqueline', 'female'), ('Ferne', 'female'), ('Alina', 'female'), ('Andros', 'male'), ('Lanie', 'female'), ('Gray', 'female'), ('Fabio', 'male'), ('Pippy', 'female'), ('Melinde', 'female'), ('Roby', 'female'), ('Jammie', 'female'), ('Karin', 'female'), ('Darian', 'male'), ('Adelle', 'female'), ('Consuela', 'female'), ('Jayme', 'female'), ('Phaidra', 'female'), ('Maria', 'female'), ('Lanny', 'female'), ('Ainslee', 'female'), ('Shumeet', 'male'), ('Lita', 'female'), ('Katha', 'female'), ('Chrissie', 'female'), ('Stacee', 'female'), ('Christen', 'female'), ('Celisse', 'female'), ('Gerti', 'female'), ('Ebony', 'female'), ('Shina', 'female'), ('Alidia', 'female'), ('Teddi', 'female'), ('Lenka', 'female'), ('Julee', 'female'), ('Karlie', 'female'), ('Estelle', 'female'), ('Lorianne', 'female'), ('Hilliard', 'male'), ('Trevar', 'male'), ('Templeton', 'male'), ('Lyssa', 'female'), ('Vinnie', 'female'), ('Ailina', 'female'), ('Tannie', 'male'), ('Kayley', 'female'), ('Maxie', 'female'), ('Averil', 'female'), ('Cornellis', 'male'), ('Tobe', 'female'), ('Sarena', 'female'), ('Denny', 'female'), ('Emmanuel', 'male'), ('Beth', 'female'), ('Davy', 'male'), ('Dougie', 'male'), ('Zebulon', 'male'), ('Meryl', 'male'), ('Midge', 'female'), ('Rennie', 'female'), ('Marilu', 'male'), ('Michaella', 'female'), ('Olly', 'female'), ('Gretel', 'female'), ('Husain', 'male'), ('Lisetta', 'female'), ('Daile', 'female'), ('Emmalynn', 'female'), ('Chiarra', 'female'), ('Yettie', 'female'), ('Voltaire', 'male'), ('Sharleen', 'female'), ('Fyodor', 'male'), ('Farley', 'male'), ('Andres', 'male'), ('Kimmo', 'male'), ('Raynell', 'female'), ('Maryl', 'female'), ('Karissa', 'female'), ('Miguela', 'female'), ('Poppy', 'female'), ('Marris', 'female'), ('Thelma', 'female'), ('Lani', 'female'), ('Walton', 'male'), ('Emerson', 'male'), ('Damian', 'male'), ('Martino', 'male'), ('Leigha', 'female'), ('Sella', 'female'), ('Ramonda', 'female'), ('Blondie', 'female'), ('Goldina', 'female'), ('Stillmann', 'male'), ('Agnesse', 'female'), ('Shayne', 'female'), ('Ioana', 'female'), ('Leontyne', 'female'), ('Ardyce', 'female'), ('Matthus', 'male'), ('Roslyn', 'female'), ('Phip', 'male'), ('Jonie', 'female'), ('Jaclyn', 'female'), ('Arlinda', 'female'), ('Nisse', 'female'), ('Cari', 'female'), ('Lust', 'female'), ('Phoebe', 'female'), ('Bonita', 'female'), ('Joann', 'female'), ('Magdaia', 'female'), ('Solly', 'male'), ('Kym', 'female'), ('Torry', 'male'), ('Muffin', 'male'), ('Kane', 'male'), ('Zola', 'female'), ('Pansie', 'female'), ('Alla', 'female'), ('Adrian', 'male'), ('Dina', 'female'), ('Katuscha', 'female'), ('Conway', 'male'), ('Clair', 'female'), ('Brandie', 'female'), ('Mariya', 'female'), ('Kristal', 'female'), ('Hercule', 'male'), ('Rubia', 'female'), ('Filip', 'male'), ('Cherilynn', 'female'), ('Vivyan', 'female'), ('Barnaby', 'male'), ('Evangelina', 'female'), ('Natka', 'female'), ('Bennet', 'male'), ('Mugsy', 'male'), ('Rozele', 'female'), ('Aretha', 'female'), ('Marylinda', 'female'), ('Sid', 'male'), ('Roxanne', 'female'), ('Jada', 'female'), ('Patsy', 'female'), ('Tuck', 'male'), ('Erinn', 'female'), ('Gaven', 'male'), ('Mariette', 'female'), ('Filia', 'female'), ('Aloysia', 'female'), ('Brandi', 'female'), ('Odelinda', 'female'), ('Moyna', 'female'), ('Alonso', 'male'), ('Simone', 'male'), ('Maya', 'female'), ('Nonah', 'female'), ('Gussi', 'female'), ('Carey', 'male'), ('Clemmy', 'female'), ('Lennie', 'male'), ('Norm', 'male'), ('Parwane', 'female'), ('Denny', 'male'), ('Tedd', 'male'), ('Hezekiah', 'male'), ('Emmalee', 'female'), ('Irena', 'female'), ('Beck', 'male'), ('Duane', 'male'), ('Chrystel', 'female'), ('Leif', 'male'), ('Taylor', 'male'), ('Darline', 'female'), ('Magnus', 'male'), ('Ivory', 'female'), ('Vance', 'male'), ('Hewie', 'male'), ('Charla', 'female'), ('Denise', 'female'), ('Kata', 'female'), ('Dryke', 'male'), ('Elton', 'male'), ('Deena', 'female'), ('Godiva', 'female'), ('Margarette', 'female'), ('Jefry', 'male'), ('Elfrieda', 'female'), ('Bernd', 'male'), ('Betti', 'female'), ('Tanney', 'male'), ('Stafani', 'female'), ('Ernesta', 'female'), ('Bernette', 'female'), ('Whit', 'male'), ('Barbi', 'female'), ('Carry', 'female'), ('Jackie', 'male'), ('Ardenia', 'female'), ('Dunc', 'male'), ('Izzy', 'male'), ('Salomo', 'male'), ('Birgit', 'female'), ('Mattheus', 'male'), ('Eleanore', 'female'), ('Mella', 'female'), ('Lois', 'female'), ('Niccolo', 'male'), ('Moise', 'male'), ('Verne', 'male'), ('Carolie', 'female'), ('Adele', 'female'), ('Dorella', 'female'), ('Madelyn', 'female'), ('Nadean', 'female'), ('Staffard', 'male'), ('Saunder', 'male'), ('Dode', 'female'), ('Marji', 'female'), ('Aleecia', 'female'), ('Eugene', 'male'), ('Muhammad', 'male'), ('Winna', 'female'), ('Tiertza', 'female'), ('Gillan', 'female'), ('Skippie', 'male'), ('Winifred', 'female'), ('Henrieta', 'female'), ('Tiebout', 'male'), ('Elbertine', 'female'), ('Mitchel', 'male'), ('Royal', 'male'), ('Cathleen', 'female'), ('Theodoric', 'male'), ('Marleen', 'female'), ('Curtice', 'male'), ('Ilyssa', 'female'), ('Constancia', 'female'), ('Steve', 'male'), ('Phedra', 'female'), ('Gratia', 'female'), ('Anabella', 'female'), ('Leola', 'female'), ('Cammie', 'female'), ('Shelbi', 'female'), ('Waneta', 'female'), ('Chance', 'male'), ('Vikki', 'female'), ('Edithe', 'female'), ('Cathlene', 'female'), ('Abbie', 'male'), ('Claudia', 'female'), ('Eda', 'female'), ('Amy', 'female'), ('Marvin', 'male'), ('Wallache', 'male'), ('Hunter', 'male'), ('Alameda', 'female'), ('Georgiamay', 'female'), ('Parker', 'male'), ('Nisa', 'female'), ('Hilde', 'female'), ('Rosaline', 'female'), ('Cheston', 'male'), ('Morry', 'male'), ('Jody', 'male'), ('Rosalinda', 'female'), ('Sheffield', 'male'), ('Vale', 'male'), ('Tamma', 'female'), ('Yonina', 'female'), ('Juliana', 'female'), ('Desiree', 'female'), ('Blondy', 'female'), ('Sibella', 'female'), ('Kareem', 'male'), ('Willdon', 'male'), ('Stanislaw', 'male'), ('Morgen', 'female'), ('Carine', 'female'), ('Georgiana', 'female'), ('Ronna', 'female'), ('Abner', 'male'), ('Bridget', 'female'), ('Holly', 'male'), ('Lynsey', 'female'), ('Dwaine', 'male'), ('Ann', 'female'), ('Tremaine', 'male'), ('Reid', 'male'), ('Nigel', 'male'), ('Meghan', 'female'), ('Cal', 'female'), ('Thorvald', 'male'), ('Verine', 'female'), ('Rosanna', 'female'), ('Elroy', 'male'), ('Maryanne', 'female'), ('Nealson', 'male'), ('Lorilyn', 'female'), ('Devondra', 'female'), ('Adelind', 'female'), ('Dixie', 'female'), ('Jinny', 'female'), ('Arie', 'male'), ('Donn', 'male'), ('Jocelyne', 'female'), ('Gabriella', 'female'), ('Jan', 'female'), ('Nichole', 'female'), ('Yancy', 'male'), ('Daniele', 'female'), ('Wallis', 'male'), ('Evelina', 'female'), ('Melly', 'female'), ('Maurita', 'female'), ('Edwina', 'female'), ('Esteban', 'male'), ('Cristin', 'female'), ('Barthel', 'male'), ('Geri', 'male'), ('Nichol', 'female'), ('Roddie', 'male'), ('Viva', 'female'), ('Corwin', 'male'), ('Wilhelmine', 'female'), ('Tam', 'male'), ('Colene', 'female'), ('Marcy', 'female'), ('Bay', 'male'), ('Juliet', 'female'), ('Kipp', 'female'), ('Herbie', 'male'), ('Georgia', 'male'), ('Dalila', 'female'), ('Dickie', 'male'), ('Tasia', 'female'), ('Luisa', 'female'), ('Rudie', 'male'), ('Henka', 'female'), ('Aldo', 'male'), ('Fanya', 'female'), ('Reece', 'male'), ('Rod', 'male'), ('Bella', 'female'), ('Mariele', 'female'), ('Lay', 'male'), ('Gabrila', 'female'), ('Raymond', 'male'), ('Roberta', 'female'), ('Kristos', 'male'), ('Belita', 'female'), ('Samson', 'male'), ('Tailor', 'male'), ('Wake', 'male'), ('Britni', 'female'), ('Karita', 'female'), ('Quent', 'male'), ('Marge', 'female'), ('Theodora', 'female'), ('Meghann', 'female'), ('Melisandra', 'female'), ('Andrzej', 'male'), ('Aimee', 'female'), ('Fredrick', 'male'), ('Zuzana', 'female'), ('Carlyle', 'male'), ('Karlotte', 'female'), ('Homer', 'male'), ('Evita', 'female'), ('Ruthi', 'female'), ('Kimball', 'male'), ('Florry', 'female'), ('Augustina', 'female'), ('Estele', 'female'), ('Liana', 'female'), ('Dolorita', 'female'), ('Eulalie', 'female'), ('Delmar', 'male'), ('Giovanne', 'male'), ('Vita', 'female'), ('Debera', 'female'), ('Joachim', 'male'), ('Bearnard', 'male'), ('Lucius', 'male'), ('Ulrica', 'female'), ('Guillemette', 'female'), ('Leah', 'female'), ('Bernita', 'female'), ('Juergen', 'male'), ('Taddeus', 'male'), ('Sarine', 'female'), ('Larisa', 'female'), ('Hussein', 'male'), ('Clayborne', 'male'), ('Ginnie', 'female'), ('Ely', 'male'), ('Sela', 'female'), ('Ruby', 'female'), ('Rosetta', 'female'), ('Denis', 'male'), ('Renault', 'male'), ('Elga', 'female'), ('Flipper', 'male'), ('Matthias', 'male'), ('Mirella', 'female'), ('Thaddius', 'male'), ('Cinderella', 'female'), ('Concettina', 'female'), ('Genevra', 'female'), ('Colline', 'female'), ('Minna', 'female'), ('Patrick', 'male'), ('Tomasine', 'female'), ('Garfield', 'male'), ('Valencia', 'female'), ('Marcile', 'female'), ('Leighton', 'male'), ('Michel', 'male'), ('Anna-Diana', 'female'), ('Shaun', 'female'), ('Florian', 'male'), ('Harmonie', 'female'), ('Eddie', 'female'), ('Ronen', 'male'), ('Nichole', 'male'), ('Guido', 'male'), ('Odin', 'male'), ('Andromache', 'female'), ('Martelle', 'female'), ('Solange', 'female'), ('Walther', 'male'), ('Ardith', 'female'), ('Abigail', 'female'), ('Abram', 'male'), ('Rafaela', 'female'), ('Juliane', 'female'), ('Sasha', 'female'), ('Heida', 'female'), ('Alexi', 'female'), ('Ty', 'male'), ('Katherine', 'female'), ('Shanda', 'female'), ('Ceciley', 'female'), ('Merrilee', 'female'), ('Gershon', 'male'), ('Erwin', 'male'), ('Suzzy', 'female'), ('Tracie', 'female'), ('Bevvy', 'female'), ('Quillan', 'male'), ('Celia', 'female'), ('Ryan', 'male'), ('Jemimah', 'female'), ('Eran', 'female'), ('Lefty', 'male'), ('Edee', 'female'), ('Manny', 'male'), ('Prudence', 'female'), ('Sula', 'female'), ('Torin', 'male'), ('Mel', 'female'), ('Ina', 'female'), ('Patric', 'male'), ('Alvera', 'female'), ('Rube', 'male'), ('Charlot', 'female'), ('Cassondra', 'female'), ('Price', 'male'), ('Kylie', 'female'), ('Adrianne', 'female'), ('Aubrette', 'female'), ('Morlee', 'male'), ('Garvin', 'male'), ('Melloney', 'female'), ('Yaakov', 'male'), ('Jeffie', 'male'), ('Brande', 'female'), ('Ertha', 'female'), ('Adrian', 'female'), ('Marlon', 'male'), ('Cathee', 'female'), ('Sydelle', 'female'), ('Marys', 'female'), ('Electra', 'female'), ('Willa', 'female'), ('Morris', 'male'), ('Udall', 'male'), ('Hestia', 'female'), ('Shawna', 'female'), ('Terza', 'female'), ('Sonny', 'male'), ('Ethelred', 'male'), ('Ellissa', 'female'), ('Vena', 'female'), ('Mandie', 'female'), ('Leora', 'female'), ('Riccardo', 'male'), ('Othilia', 'female'), ('Astrid', 'female'), ('Kamillah', 'female'), ('Guendolen', 'female'), ('Udell', 'male'), ('Apostolos', 'male'), ('Federico', 'male'), ('Sapphira', 'female'), ('Vlad', 'male'), ('Karly', 'female'), ('Lesya', 'female'), ('Bela', 'male'), ('Cyril', 'male'), ('Siffre', 'male'), ('Standford', 'male'), ('Julianne', 'female'), ('Cassaundra', 'female'), ('Orsa', 'female'), ('Nadeen', 'female'), ('Ethelind', 'female'), ('Linell', 'female'), ('Maura', 'female'), ('Alissa', 'female'), ('Kelwin', 'male'), ('Dannye', 'female'), ('Willow', 'female'), ('Noella', 'female'), ('Devonna', 'female'), ('Jenelle', 'female'), ('Lissy', 'female'), ('Beulah', 'female'), ('Gilberta', 'female'), ('Angelica', 'female'), ('Ethel', 'female'), ('Wilona', 'female'), ('Meriel', 'female'), ('Rickie', 'male'), ('Bunnie', 'female'), ('Breanne', 'female'), ('Jobyna', 'female'), ('Jeana', 'female'), ('Chaim', 'male'), ('Vilhelmina', 'female'), ('Fred', 'male'), ('Ronnica', 'female'), ('Darryl', 'female'), ('Ivy', 'female'), ('Katrine', 'female'), ('Lacy', 'female'), ('Maribel', 'female'), ('Ashlee', 'female'), ('Tan', 'male'), ('Daloris', 'female'), ('Shanta', 'female'), ('Lulu', 'female'), ('Renell', 'female'), ('Kara-Lynn', 'female'), ('Polly', 'female'), ('Rosemonde', 'female'), ('Faith', 'female'), ('Gus', 'male'), ('Dario', 'male'), ('Fidela', 'female'), ('Malinda', 'female'), ('Hannis', 'female'), ('Hilda', 'female'), ('Tanya', 'female'), ('Mei', 'female'), ('Anders', 'male'), ('Rustin', 'male'), ('Yetty', 'female'), ('Hayes', 'male'), ('Angele', 'female'), ('Lawson', 'male'), ('Malissa', 'female'), ('Abdulkarim', 'male'), ('Morten', 'male'), ('Eyde', 'female'), ('Wat', 'male'), ('Leonore', 'female'), ('Marc', 'male'), ('Jeanne', 'female'), ('Brooks', 'male'), ('Shaina', 'female'), ('Amory', 'male'), ('Collie', 'female'), ('Sioux', 'female'), ('Ephram', 'male'), ('Frederic', 'male'), ('Pollyanna', 'female'), ('Garfinkel', 'male'), ('Enrica', 'female'), ('Desaree', 'female'), ('Gifford', 'male'), ('Tiff', 'female'), ('Agnes', 'female'), ('Sondra', 'female'), ('Lyndel', 'female'), ('Lauryn', 'female'), ('Grethel', 'female'), ('Winslow', 'male'), ('Merlina', 'female'), ('Salomone', 'male'), ('Durant', 'male'), ('Rivy', 'female'), ('Antoni', 'male'), ('Cele', 'female'), ('Ingaborg', 'female'), ('Leopold', 'male'), ('Ardyth', 'female'), ('Fanchon', 'female'), ('Sean', 'female'), ('Gypsy', 'female'), ('Caril', 'female'), ('Thalia', 'female'), ('Auroora', 'female'), ('Dierdre', 'female'), ('Boyce', 'male'), ('Dunstan', 'male'), ('Keelia', 'female'), ('Christina', 'female'), ('Keith', 'male'), ('Marla', 'female'), ('Nessy', 'female'), ('Daveta', 'female'), ('Paolo', 'male'), ('Hatti', 'female'), ('Jaquenetta', 'female'), ('Fan', 'female'), ('Pamella', 'female'), ('Malanie', 'female'), ('Jeffry', 'male'), ('Justin', 'female'), ('Risa', 'female'), ('Josefina', 'female'), ('Amalle', 'female'), ('Katey', 'female'), ('Way', 'male'), ('Maryjane', 'female'), ('Janette', 'female'), ('Adelaide', 'female'), ('Georgeanna', 'female'), ('Kristy', 'female'), ('Leila', 'female'), ('Baldwin', 'male'), ('Sib', 'female'), ('Aileen', 'female'), ('Shirl', 'female'), ('Sonnie', 'female'), ('Neale', 'male'), ('Chere', 'female'), ('Kelly', 'male'), ('Jeanie', 'female'), ('Neely', 'female'), ('Gerianne', 'female'), ('Adolpho', 'male'), ('Yves', 'male'), ('Madeleine', 'female'), ('Verina', 'female'), ('Alec', 'male'), ('Christopher', 'male'), ('Kelila', 'female'), ('Celeste', 'female'), ('Karena', 'female'), ('Bobbi', 'female'), ('Holli', 'female'), ('Wilbur', 'male'), ('Lyndsay', 'female'), ('Tabby', 'male'), ('Arlina', 'female'), ('Robina', 'female'), ('Ingeborg', 'female'), ('Thayne', 'male'), ('Jackquelin', 'female'), ('Suzanna', 'female'), ('Fayth', 'female'), ('Pauly', 'female'), ('Lanette', 'female'), ('Bryana', 'female'), ('Ariella', 'female'), ('Ermengarde', 'female'), ('Claude', 'male'), ('Linnet', 'female'), ('Doyle', 'male'), ('Linette', 'female'), ('Heidie', 'female'), ('Casey', 'female'), ('Lil', 'female'), ('Bing', 'male'), ('Josephina', 'female'), ('Mirna', 'female'), ('Harv', 'male'), ('Carissa', 'female'), ('Spike', 'male'), ('Patricia', 'female'), ('Basia', 'female'), ('Woodie', 'male'), ('Klee', 'male'), ('Aime', 'female'), ('Jere', 'male'), ('Titos', 'male'), ('Eloise', 'female'), ('Francine', 'female'), ('Shani', 'female'), ('Giovanna', 'female'), ('Thor', 'male'), ('Costa', 'male'), ('Winnifred', 'female'), ('Crystal', 'female'), ('Arlee', 'female'), ('Camila', 'female'), ('Kailey', 'female'), ('Roxie', 'female'), ('Charles', 'male'), ('Fanechka', 'female'), ('Addie', 'female'), ('Jessee', 'male'), ('Flint', 'male'), ('Ora', 'female'), ('Yoshi', 'female'), ('Vanny', 'female'), ('Britt', 'male'), ('Silvester', 'male'), ('Alfie', 'female'), ('Mickey', 'male'), ('Dee Dee', 'female'), ('Theodosia', 'female'), ('Horatius', 'male'), ('Viole', 'female'), ('Annette', 'female'), ('Whitby', 'male'), ('Veronica', 'female'), ('Barbette', 'female'), ('Clemens', 'male'), ('Alisha', 'female'), ('Moyra', 'female'), ('Kellen', 'female'), ('Torrie', 'female'), ('Euclid', 'male'), ('Marcos', 'male'), ('Dion', 'male'), ('Lorelle', 'female'), ('Allie', 'male'), ('Verge', 'male'), ('Mabelle', 'female'), ('Heather', 'female'), ('Dagmar', 'female'), ('Judi', 'female'), ('Annamarie', 'female'), ('Phelia', 'female'), ('Carlota', 'female'), ('Cassy', 'female'), ('Barr', 'male'), ('Darien', 'male'), ('Rocky', 'male'), ('Kris', 'male'), ('Cyrille', 'male'), ('Teodor', 'male'), ('Kristin', 'female'), ('Gwendolin', 'female'), ('Giralda', 'female'), ('Celinka', 'female'), ('Gerri', 'male'), ('Worthington', 'male'), ('Lucy', 'female'), ('Sheila-Kathryn', 'female'), ('Alaa', 'male'), ('Janie', 'female'), ('Kalvin', 'male'), ('Adora', 'female'), ('Sussi', 'female'), ('April', 'female'), ('Jennica', 'female'), ('Johan', 'male'), ('Jerrilyn', 'female'), ('Brina', 'female'), ('Kirk', 'male'), ('Malcolm', 'male'), ('Haskel', 'male'), ('Otho', 'male'), ('Elene', 'female'), ('Idelle', 'female'), ('Anett', 'female'), ('Lizzie', 'female'), ('Anastasia', 'female'), ('Delia', 'female'), ('Elysee', 'female'), ('Garcon', 'male'), ('Fulton', 'male'), ('Petronella', 'female'), ('Donny', 'male'), ('Brenn', 'female'), ('Leticia', 'female'), ('Eugenie', 'female'), ('Cora', 'female'), ('Erick', 'male'), ('Hester', 'female'), ('Karl', 'male'), ('Tandie', 'female'), ('Marice', 'female'), ('Abdul', 'male'), ('Edith', 'female'), ('Kristina', 'female'), ('Paddie', 'male'), ('Shep', 'male'), ('Joscelin', 'female'), ('Stephenie', 'female'), ('Puff', 'male'), ('Winford', 'male'), ('Constancy', 'female'), ('Zulema', 'female'), ('Erin', 'female'), ('Anne-Mar', 'female'), ('Dionysus', 'male'), ('Elbertina', 'female'), ('Arleyne', 'female'), ('Ozzy', 'male'), ('Orrin', 'male'), ('Antonino', 'male'), ('Vicky', 'female'), ('Joli', 'female'), ('Ree', 'female'), ('Henrik', 'male'), ('Gusty', 'female'), ('Odysseus', 'male'), ('Larissa', 'female'), ('Leo', 'male'), ('Beaufort', 'male'), ('Russel', 'male'), ('Beau', 'male'), ('Lincoln', 'male'), ('Gwynne', 'female'), ('Boyd', 'male'), ('Tatum', 'female'), ('Callida', 'female'), ('Gerrie', 'female'), ('Clayborn', 'male'), ('Arabel', 'female'), ('Lyle', 'male'), ('Morganne', 'female'), ('Moss', 'male'), ('Eleonore', 'female'), ('Micky', 'male'), ('Vanni', 'female'), ('Valentin', 'male'), ('Mahalia', 'female'), ('Vallie', 'female'), ('Levon', 'male'), ('Noelle', 'female'), ('Rhianon', 'female'), ('Molli', 'female'), ('Clyde', 'male'), ('Inna', 'female'), ('Oral', 'male'), ('Ravi', 'male'), ('Julian', 'male'), ('Amity', 'female'), ('Jamie', 'female'), ('Sanders', 'male'), ('Anabelle', 'female'), ('Shay', 'male'), ('Anna', 'female'), ('Sibilla', 'female'), ('Patrizia', 'female'), ('Davis', 'male'), ('Nat', 'female'), ('Jermaine', 'female'), ('Jeff', 'male'), ('Maximilian', 'male'), ('Hamid', 'male'), ('Joannes', 'female'), ('Jori', 'female'), ('Thomasin', 'female'), ('Justine', 'female'), ('Arthur', 'male'), ('Doe', 'female'), ('Wynnie', 'female'), ('Daniel', 'male'), ('Salim', 'male'), ('Ignace', 'male'), ('Ossie', 'male'), ('Queenie', 'female'), ('Perle', 'female'), ('Hortense', 'female'), ('Philippe', 'female'), ('Belicia', 'female'), ('Giorgio', 'male'), ('Waylon', 'male'), ('Terrel', 'male'), ('Baily', 'male'), ('Binni', 'female'), ('Kim', 'female'), ('Davidson', 'male'), ('Silvio', 'male'), ('Candice', 'female'), ('Florice', 'female'), ('Rahal', 'female'), ('Isador', 'male'), ('JoAnn', 'female'), ('Roshelle', 'female'), ('Karlotta', 'female'), ('Wendi', 'female'), ('Zedekiah', 'male'), ('Obie', 'male'), ('Ebenezer', 'male'), ('Marysa', 'female'), ('Gunvor', 'female'), ('Paul', 'male'), ('Evaleen', 'female'), ('Dorine', 'female'), ('Rickard', 'male'), ('Maisey', 'female'), ('Karyl', 'female'), ('Filippa', 'female'), ('Odetta', 'female'), ('Alana', 'female'), ('Carsten', 'male'), ('Patel', 'male'), ('Walsh', 'male'), ('Gayle', 'male'), ('Stewart', 'male'), ('Leonanie', 'female'), ('Elysha', 'female'), ('Gwenny', 'female'), ('Halette', 'female'), ('Karen', 'female'), ('Melonie', 'female'), ('Vivien', 'female'), ('Rachael', 'female'), ('Eimile', 'female'), ('Dara', 'female'), ('Birgitta', 'female'), ('Murphy', 'male'), ('Yevette', 'female'), ('Gilbertine', 'female'), ('Lars', 'male'), ('Paulie', 'female'), ('Bendite', 'female'), ('Alfred', 'male'), ('Pepi', 'female'), ('Victor', 'male'), ('Dominick', 'male'), ('Marnie', 'female'), ('Tracey', 'male'), ('Lauraine', 'female'), ('Celie', 'female'), ('Lotty', 'female'), ('Pen', 'female'), ('Willette', 'female'), ('Maryjo', 'female'), ('Joel', 'male'), ('Emmott', 'male'), ('Letta', 'female'), ('Rosemary', 'female'), ('Della', 'female'), ('Fran', 'male'), ('Steven', 'male'), ('Yoko', 'female'), ('Rianon', 'female'), ('Rem', 'male'), ('Nina', 'female'), ('Josephine', 'female'), ('Bo', 'male'), ('Jennine', 'female'), ('Maxim', 'male'), ('Nerta', 'female'), ('Mickie', 'male'), ('Billi', 'female'), ('Bettina', 'female'), ('Lenee', 'female'), ('Kamila', 'female'), ('Farica', 'female'), ('Canada', 'female'), ('Terra', 'female'), ('Jennilee', 'female'), ('Orsola', 'female'), ('Reynold', 'male'), ('Lacie', 'female'), ('Ruthy', 'female'), ('Alma', 'female'), ('Storm', 'female'), ('Cherey', 'female'), ('Barney', 'male'), ('Mikako', 'female'), ('Brandea', 'female'), ('Carin', 'female'), ('Peyton', 'male'), ('Ardelle', 'female'), ('Emmi', 'female'), ('Bubba', 'male'), ('Jordon', 'male'), ('Ellwood', 'male'), ('Cristal', 'female'), ('Elfrida', 'female'), ('Idette', 'female'), ('Tabbi', 'female'), ('Tibold', 'male'), ('Aurelie', 'female'), ('Dianemarie', 'female'), ('Darsey', 'female'), ('Aubrie', 'female'), ('Burton', 'male'), ('Jules', 'male'), ('Constantin', 'male'), ('Vladimir', 'male'), ('Mufinella', 'female'), ('Domenico', 'male'), ('Pedro', 'male'), ('Katrina', 'female'), ('Katlin', 'female'), ('Rolfe', 'male'), ('Roxi', 'female'), ('Ketty', 'female'), ('Melodie', 'female'), ('Blanche', 'female'), ('Debbra', 'female'), ('Ranee', 'female'), ('Deana', 'female')]\n"
     ]
    }
   ],
   "source": [
    "len(names) # N total observations\n",
    "# print(names)"
   ]
  },
  {
   "cell_type": "markdown",
   "metadata": {
    "editable": true,
    "slideshow": {
     "slide_type": "fragment"
    },
    "tags": []
   },
   "source": [
    "* Define training and test set sizes"
   ]
  },
  {
   "cell_type": "code",
   "execution_count": 65,
   "metadata": {
    "editable": true,
    "slideshow": {
     "slide_type": "fragment"
    },
    "tags": []
   },
   "outputs": [],
   "source": [
    "train_size = 5000"
   ]
  },
  {
   "cell_type": "markdown",
   "metadata": {
    "editable": true,
    "slideshow": {
     "slide_type": "fragment"
    },
    "tags": []
   },
   "source": [
    "* Split train and test objects"
   ]
  },
  {
   "cell_type": "code",
   "execution_count": 66,
   "metadata": {
    "editable": true,
    "slideshow": {
     "slide_type": "fragment"
    },
    "tags": []
   },
   "outputs": [],
   "source": [
    "train_names = names[:train_size]\n",
    "test_names = names[train_size:]"
   ]
  },
  {
   "cell_type": "markdown",
   "metadata": {
    "editable": true,
    "slideshow": {
     "slide_type": "subslide"
    },
    "tags": []
   },
   "source": [
    "#### 2.3 Define Features"
   ]
  },
  {
   "cell_type": "markdown",
   "metadata": {
    "editable": true,
    "slideshow": {
     "slide_type": "fragment"
    },
    "tags": []
   },
   "source": [
    "* A simple feature: get the last letter of the name"
   ]
  },
  {
   "cell_type": "code",
   "execution_count": 67,
   "metadata": {
    "editable": true,
    "slideshow": {
     "slide_type": "fragment"
    },
    "tags": []
   },
   "outputs": [],
   "source": [
    "def g_features1(name):\n",
    "  return {'last_letter': name[-1]}"
   ]
  },
  {
   "cell_type": "markdown",
   "metadata": {
    "editable": true,
    "slideshow": {
     "slide_type": "fragment"
    },
    "tags": []
   },
   "source": [
    "Tips: Python functions can return multiple values"
   ]
  },
  {
   "cell_type": "code",
   "execution_count": 68,
   "metadata": {
    "editable": true,
    "slideshow": {
     "slide_type": "fragment"
    },
    "tags": []
   },
   "outputs": [
    {
     "data": {
      "text/plain": [
       "(5, 10)"
      ]
     },
     "execution_count": 68,
     "metadata": {},
     "output_type": "execute_result"
    }
   ],
   "source": [
    "# Quick break — some syntax:\n",
    "def return_two():\n",
    "  return 5, 10\n",
    "\n",
    "# When a method returns two values, we can use this format: \n",
    "x, y = return_two()\n",
    "x, y"
   ]
  },
  {
   "cell_type": "markdown",
   "metadata": {
    "editable": true,
    "slideshow": {
     "slide_type": "subslide"
    },
    "tags": []
   },
   "source": [
    "#### 2.4 Data Preparation"
   ]
  },
  {
   "cell_type": "markdown",
   "metadata": {
    "editable": true,
    "slideshow": {
     "slide_type": "fragment"
    },
    "tags": []
   },
   "source": [
    "Loop over names, and return tuple of dictionary and label"
   ]
  },
  {
   "cell_type": "code",
   "execution_count": 274,
   "metadata": {
    "editable": true,
    "slideshow": {
     "slide_type": "fragment"
    },
    "tags": []
   },
   "outputs": [
    {
     "data": {
      "text/plain": [
       "({'last_letter': 'l'}, 'female')"
      ]
     },
     "execution_count": 274,
     "metadata": {},
     "output_type": "execute_result"
    }
   ],
   "source": [
    "def g_features1(name):\n",
    "  return {'last_letter': name[-1]}\n",
    "\n",
    "# print(train_names[:3]) # [('Del', 'female'), ('Lorrin', 'female'), ('Daren', 'male')]\n",
    "\n",
    "train_set = [(g_features1(n), g) for (n, g) in train_names] # predicting based on the last letter of the name\n",
    "test_set = [(g_features1(n), g) for (n,g) in test_names]\n",
    "\n",
    "train_set[0]"
   ]
  },
  {
   "cell_type": "markdown",
   "metadata": {
    "editable": true,
    "slideshow": {
     "slide_type": "subslide"
    },
    "tags": []
   },
   "source": [
    "#### 2.5 Train the Classifier"
   ]
  },
  {
   "cell_type": "markdown",
   "metadata": {
    "editable": true,
    "slideshow": {
     "slide_type": "fragment"
    },
    "tags": []
   },
   "source": [
    "##### Run the naive Bayes classifier for the train set"
   ]
  },
  {
   "cell_type": "code",
   "execution_count": 275,
   "metadata": {
    "editable": true,
    "slideshow": {
     "slide_type": "fragment"
    },
    "tags": []
   },
   "outputs": [],
   "source": [
    "classifier = nltk.NaiveBayesClassifier.train(train_set)"
   ]
  },
  {
   "cell_type": "markdown",
   "metadata": {
    "editable": true,
    "slideshow": {
     "slide_type": "subslide"
    },
    "tags": []
   },
   "source": [
    "#### 2.6 Test your Classifier"
   ]
  },
  {
   "cell_type": "markdown",
   "metadata": {
    "editable": true,
    "slideshow": {
     "slide_type": "fragment"
    },
    "tags": []
   },
   "source": [
    "* Apply the classifier to some names"
   ]
  },
  {
   "cell_type": "code",
   "execution_count": 276,
   "metadata": {
    "editable": true,
    "slideshow": {
     "slide_type": "fragment"
    },
    "tags": []
   },
   "outputs": [
    {
     "data": {
      "text/plain": [
       "'male'"
      ]
     },
     "execution_count": 276,
     "metadata": {},
     "output_type": "execute_result"
    }
   ],
   "source": [
    "classifier.classify(g_features1('Soyeon'))"
   ]
  },
  {
   "cell_type": "code",
   "execution_count": 277,
   "metadata": {
    "editable": true,
    "slideshow": {
     "slide_type": "fragment"
    },
    "tags": []
   },
   "outputs": [
    {
     "data": {
      "text/plain": [
       "'female'"
      ]
     },
     "execution_count": 277,
     "metadata": {},
     "output_type": "execute_result"
    }
   ],
   "source": [
    "classifier.classify(g_features1('Leticia'))"
   ]
  },
  {
   "cell_type": "code",
   "execution_count": 278,
   "metadata": {
    "editable": true,
    "slideshow": {
     "slide_type": "fragment"
    },
    "tags": []
   },
   "outputs": [
    {
     "data": {
      "text/plain": [
       "'male'"
      ]
     },
     "execution_count": 278,
     "metadata": {},
     "output_type": "execute_result"
    }
   ],
   "source": [
    "classifier.classify(g_features1('Jacob'))"
   ]
  },
  {
   "cell_type": "markdown",
   "metadata": {
    "editable": true,
    "slideshow": {
     "slide_type": "subslide"
    },
    "tags": []
   },
   "source": [
    "* Get probabilities"
   ]
  },
  {
   "cell_type": "code",
   "execution_count": 279,
   "metadata": {
    "editable": true,
    "slideshow": {
     "slide_type": "fragment"
    },
    "tags": []
   },
   "outputs": [
    {
     "data": {
      "text/plain": [
       "0.4556629520076205"
      ]
     },
     "execution_count": 279,
     "metadata": {},
     "output_type": "execute_result"
    }
   ],
   "source": [
    "classifier.prob_classify(g_features1('Soyeon')).prob(\"female\")"
   ]
  },
  {
   "cell_type": "code",
   "execution_count": 280,
   "metadata": {
    "editable": true,
    "slideshow": {
     "slide_type": "fragment"
    },
    "tags": []
   },
   "outputs": [
    {
     "data": {
      "text/plain": [
       "0.019007603449529075"
      ]
     },
     "execution_count": 280,
     "metadata": {},
     "output_type": "execute_result"
    }
   ],
   "source": [
    "classifier.prob_classify(g_features1('Leticia')).prob(\"male\")"
   ]
  },
  {
   "cell_type": "markdown",
   "metadata": {
    "editable": true,
    "slideshow": {
     "slide_type": "subslide"
    },
    "tags": []
   },
   "source": [
    "##### We can check the overall accuracy with our test set. \n",
    "\n",
    "More on accuracy, F1, precision, recall: https://towardsdatascience.com/accuracy-precision-recall-or-f1-331fb37c5cb9"
   ]
  },
  {
   "cell_type": "code",
   "execution_count": 281,
   "metadata": {
    "editable": true,
    "slideshow": {
     "slide_type": "fragment"
    },
    "tags": []
   },
   "outputs": [
    {
     "name": "stdout",
     "output_type": "stream",
     "text": [
      "0.7595108695652174\n"
     ]
    }
   ],
   "source": [
    "print(nltk.classify.accuracy(classifier, test_set))"
   ]
  },
  {
   "cell_type": "markdown",
   "metadata": {
    "editable": true,
    "slideshow": {
     "slide_type": "subslide"
    },
    "tags": []
   },
   "source": [
    "#### 2.7 Feature Attribution"
   ]
  },
  {
   "cell_type": "markdown",
   "metadata": {
    "editable": true,
    "slideshow": {
     "slide_type": "fragment"
    },
    "tags": []
   },
   "source": [
    "* Lets see what is driving this"
   ]
  },
  {
   "cell_type": "code",
   "execution_count": 282,
   "metadata": {
    "editable": true,
    "slideshow": {
     "slide_type": "fragment"
    },
    "tags": []
   },
   "outputs": [
    {
     "name": "stdout",
     "output_type": "stream",
     "text": [
      "Most Informative Features\n",
      "             last_letter = 'k'              male : female =     30.5 : 1.0\n",
      "             last_letter = 'a'            female : male   =     30.1 : 1.0\n",
      "             last_letter = 'f'              male : female =     17.7 : 1.0\n",
      "             last_letter = 'p'              male : female =     13.1 : 1.0\n",
      "             last_letter = 'm'              male : female =     10.6 : 1.0\n"
     ]
    }
   ],
   "source": [
    "classifier.show_most_informative_features(5)"
   ]
  },
  {
   "cell_type": "markdown",
   "metadata": {
    "editable": true,
    "slideshow": {
     "slide_type": "subslide"
    },
    "tags": []
   },
   "source": [
    "Let's be smarter and add more features!"
   ]
  },
  {
   "cell_type": "code",
   "execution_count": 333,
   "metadata": {
    "editable": true,
    "slideshow": {
     "slide_type": "fragment"
    },
    "tags": []
   },
   "outputs": [],
   "source": [
    "# What all are we including now?\n",
    "def g_features2(name):\n",
    "  features = {}\n",
    "  features[\"firstletter\"] = name[0].lower()\n",
    "  features[\"lastletter\"] = name[-1].lower()\n",
    "  for letter in 'abcdefghijklmnopqrstuvwxyz':\n",
    "      features[\"count(%s)\" % letter] = name.lower().count(letter)\n",
    "      features[\"has(%s)\" % letter] = (letter in name.lower())\n",
    "  return features"
   ]
  },
  {
   "cell_type": "code",
   "execution_count": 334,
   "metadata": {
    "editable": true,
    "scrolled": true,
    "slideshow": {
     "slide_type": "fragment"
    },
    "tags": []
   },
   "outputs": [
    {
     "data": {
      "text/plain": [
       "{'firstletter': 's',\n",
       " 'lastletter': 'n',\n",
       " 'count(a)': 0,\n",
       " 'has(a)': False,\n",
       " 'count(b)': 0,\n",
       " 'has(b)': False,\n",
       " 'count(c)': 0,\n",
       " 'has(c)': False,\n",
       " 'count(d)': 0,\n",
       " 'has(d)': False,\n",
       " 'count(e)': 1,\n",
       " 'has(e)': True,\n",
       " 'count(f)': 0,\n",
       " 'has(f)': False,\n",
       " 'count(g)': 0,\n",
       " 'has(g)': False,\n",
       " 'count(h)': 0,\n",
       " 'has(h)': False,\n",
       " 'count(i)': 0,\n",
       " 'has(i)': False,\n",
       " 'count(j)': 0,\n",
       " 'has(j)': False,\n",
       " 'count(k)': 0,\n",
       " 'has(k)': False,\n",
       " 'count(l)': 0,\n",
       " 'has(l)': False,\n",
       " 'count(m)': 0,\n",
       " 'has(m)': False,\n",
       " 'count(n)': 1,\n",
       " 'has(n)': True,\n",
       " 'count(o)': 2,\n",
       " 'has(o)': True,\n",
       " 'count(p)': 0,\n",
       " 'has(p)': False,\n",
       " 'count(q)': 0,\n",
       " 'has(q)': False,\n",
       " 'count(r)': 0,\n",
       " 'has(r)': False,\n",
       " 'count(s)': 1,\n",
       " 'has(s)': True,\n",
       " 'count(t)': 0,\n",
       " 'has(t)': False,\n",
       " 'count(u)': 0,\n",
       " 'has(u)': False,\n",
       " 'count(v)': 0,\n",
       " 'has(v)': False,\n",
       " 'count(w)': 0,\n",
       " 'has(w)': False,\n",
       " 'count(x)': 0,\n",
       " 'has(x)': False,\n",
       " 'count(y)': 1,\n",
       " 'has(y)': True,\n",
       " 'count(z)': 0,\n",
       " 'has(z)': False}"
      ]
     },
     "execution_count": 334,
     "metadata": {},
     "output_type": "execute_result"
    }
   ],
   "source": [
    "g_features2('Soyeon')"
   ]
  },
  {
   "cell_type": "markdown",
   "metadata": {
    "editable": true,
    "slideshow": {
     "slide_type": "subslide"
    },
    "tags": []
   },
   "source": [
    "* Run for train set"
   ]
  },
  {
   "cell_type": "code",
   "execution_count": 335,
   "metadata": {
    "editable": true,
    "slideshow": {
     "slide_type": "fragment"
    },
    "tags": []
   },
   "outputs": [],
   "source": [
    "train_set = [(g_features2(n), g) for (n,g) in train_names]"
   ]
  },
  {
   "cell_type": "markdown",
   "metadata": {
    "editable": true,
    "slideshow": {
     "slide_type": "fragment"
    },
    "tags": []
   },
   "source": [
    "* Run for test set"
   ]
  },
  {
   "cell_type": "code",
   "execution_count": 336,
   "metadata": {
    "editable": true,
    "slideshow": {
     "slide_type": "fragment"
    },
    "tags": []
   },
   "outputs": [],
   "source": [
    "test_set = [(g_features2(n), g) for (n,g) in test_names]"
   ]
  },
  {
   "cell_type": "markdown",
   "metadata": {
    "editable": true,
    "slideshow": {
     "slide_type": "fragment"
    },
    "tags": []
   },
   "source": [
    "* Run new classifier"
   ]
  },
  {
   "cell_type": "code",
   "execution_count": 337,
   "metadata": {
    "editable": true,
    "slideshow": {
     "slide_type": "fragment"
    },
    "tags": []
   },
   "outputs": [],
   "source": [
    "classifier_new = nltk.NaiveBayesClassifier.train(train_set)"
   ]
  },
  {
   "cell_type": "markdown",
   "metadata": {
    "editable": true,
    "slideshow": {
     "slide_type": "fragment"
    },
    "tags": []
   },
   "source": [
    "* Check the overall accuracy with test set"
   ]
  },
  {
   "cell_type": "code",
   "execution_count": 338,
   "metadata": {
    "editable": true,
    "slideshow": {
     "slide_type": "fragment"
    },
    "tags": []
   },
   "outputs": [
    {
     "name": "stdout",
     "output_type": "stream",
     "text": [
      "0.7707201086956522\n"
     ]
    }
   ],
   "source": [
    "print(nltk.classify.accuracy(classifier_new, test_set))"
   ]
  },
  {
   "cell_type": "markdown",
   "metadata": {
    "editable": true,
    "slideshow": {
     "slide_type": "subslide"
    },
    "tags": []
   },
   "source": [
    "* Lets see what is driving this"
   ]
  },
  {
   "cell_type": "code",
   "execution_count": 339,
   "metadata": {
    "editable": true,
    "slideshow": {
     "slide_type": "fragment"
    },
    "tags": []
   },
   "outputs": [
    {
     "name": "stdout",
     "output_type": "stream",
     "text": [
      "Most Informative Features\n",
      "              lastletter = 'k'              male : female =     30.5 : 1.0\n",
      "              lastletter = 'a'            female : male   =     30.1 : 1.0\n",
      "              lastletter = 'f'              male : female =     17.7 : 1.0\n",
      "              lastletter = 'p'              male : female =     13.1 : 1.0\n",
      "              lastletter = 'm'              male : female =     10.6 : 1.0\n",
      "              lastletter = 'o'              male : female =      9.8 : 1.0\n",
      "              lastletter = 'd'              male : female =      8.3 : 1.0\n",
      "              lastletter = 'r'              male : female =      6.8 : 1.0\n",
      "              lastletter = 'v'              male : female =      6.5 : 1.0\n",
      "              lastletter = 'b'              male : female =      6.3 : 1.0\n",
      "                count(v) = 2              female : male   =      6.0 : 1.0\n",
      "              lastletter = 'u'              male : female =      5.8 : 1.0\n",
      "              lastletter = 'g'              male : female =      5.4 : 1.0\n",
      "             firstletter = 'w'              male : female =      5.3 : 1.0\n",
      "              lastletter = 'w'              male : female =      5.1 : 1.0\n",
      "                count(w) = 1                male : female =      4.7 : 1.0\n",
      "                  has(w) = True             male : female =      4.7 : 1.0\n",
      "                count(o) = 2                male : female =      4.1 : 1.0\n",
      "              lastletter = 'i'            female : male   =      4.1 : 1.0\n",
      "                count(u) = 2                male : female =      3.7 : 1.0\n"
     ]
    }
   ],
   "source": [
    "classifier_new.show_most_informative_features(20)"
   ]
  },
  {
   "cell_type": "code",
   "execution_count": null,
   "metadata": {},
   "outputs": [
    {
     "data": {
      "text/plain": [
       "0.07012806399520419"
      ]
     },
     "execution_count": 360,
     "metadata": {},
     "output_type": "execute_result"
    }
   ],
   "source": [
    "classifier_new.prob_classify(g_features2('Soyeon')).prob(\"female\") # haha"
   ]
  },
  {
   "cell_type": "markdown",
   "metadata": {
    "editable": true,
    "slideshow": {
     "slide_type": "subslide"
    },
    "tags": []
   },
   "source": [
    "* Worse? Better? How can we refine?\n",
    "* Lets look at the errors from this model and see if we can do better"
   ]
  },
  {
   "cell_type": "code",
   "execution_count": null,
   "metadata": {
    "editable": true,
    "slideshow": {
     "slide_type": "fragment"
    },
    "tags": []
   },
   "outputs": [],
   "source": [
    "errors = []\n",
    "for (name, label) in test_names:\n",
    "  guess = classifier.classify(g_features2(name)) # predicts male, female\n",
    "  if guess != label:\n",
    "    prob = classifier.prob_classify(g_features2(name)).prob(guess)\n",
    "    # prob_classify returns a probability distribution over the classes, e.g., {'male': 0.85, 'female': 0.15}\n",
    "    errors.append((label, guess, prob, name))"
   ]
  },
  {
   "cell_type": "code",
   "execution_count": 361,
   "metadata": {
    "editable": true,
    "slideshow": {
     "slide_type": "fragment"
    },
    "tags": []
   },
   "outputs": [
    {
     "name": "stdout",
     "output_type": "stream",
     "text": [
      "correct=female guess=neg prob=0.51 name=Abbe\n",
      "correct=female guess=neg prob=0.51 name=Abbie\n",
      "correct=female guess=neg prob=0.51 name=Abigail\n",
      "correct=female guess=neg prob=0.51 name=Abigale\n",
      "correct=female guess=neg prob=0.51 name=Adah\n",
      "correct=female guess=neg prob=0.51 name=Addie\n",
      "correct=female guess=neg prob=0.51 name=Adela\n",
      "correct=female guess=neg prob=0.51 name=Adelaide\n",
      "correct=female guess=neg prob=0.51 name=Adele\n",
      "correct=female guess=neg prob=0.51 name=Adelind\n",
      "correct=female guess=neg prob=0.51 name=Adelle\n",
      "correct=female guess=neg prob=0.51 name=Adey\n",
      "correct=female guess=neg prob=0.51 name=Adiana\n",
      "correct=female guess=neg prob=0.51 name=Adora\n",
      "correct=female guess=neg prob=0.51 name=Adorne\n",
      "correct=female guess=neg prob=0.51 name=Adrea\n",
      "correct=female guess=neg prob=0.51 name=Adrian\n",
      "correct=female guess=neg prob=0.51 name=Adrianne\n",
      "correct=female guess=neg prob=0.51 name=Adrien\n",
      "correct=female guess=neg prob=0.51 name=Adriena\n",
      "correct=female guess=neg prob=0.51 name=Adrienne\n",
      "correct=female guess=neg prob=0.51 name=Aeriell\n",
      "correct=female guess=neg prob=0.51 name=Agace\n",
      "correct=female guess=neg prob=0.51 name=Agatha\n",
      "correct=female guess=neg prob=0.51 name=Agathe\n",
      "correct=female guess=neg prob=0.51 name=Aggie\n",
      "correct=female guess=neg prob=0.51 name=Aggy\n",
      "correct=female guess=neg prob=0.51 name=Agnes\n",
      "correct=female guess=neg prob=0.51 name=Agnese\n",
      "correct=female guess=neg prob=0.51 name=Agnesse\n",
      "correct=female guess=neg prob=0.51 name=Aileen\n",
      "correct=female guess=neg prob=0.51 name=Ailey\n",
      "correct=female guess=neg prob=0.51 name=Ailina\n",
      "correct=female guess=neg prob=0.51 name=Aime\n",
      "correct=female guess=neg prob=0.51 name=Aimee\n",
      "correct=female guess=neg prob=0.51 name=Aina\n",
      "correct=female guess=neg prob=0.51 name=Ainslee\n",
      "correct=female guess=neg prob=0.51 name=Alameda\n",
      "correct=female guess=neg prob=0.51 name=Alana\n",
      "correct=female guess=neg prob=0.51 name=Alayne\n",
      "correct=female guess=neg prob=0.51 name=Albertina\n",
      "correct=female guess=neg prob=0.51 name=Aleecia\n",
      "correct=female guess=neg prob=0.51 name=Alena\n",
      "correct=female guess=neg prob=0.51 name=Alessandra\n",
      "correct=female guess=neg prob=0.51 name=Alex\n",
      "correct=female guess=neg prob=0.51 name=Alexa\n",
      "correct=female guess=neg prob=0.51 name=Alexi\n",
      "correct=female guess=neg prob=0.51 name=Alexia\n",
      "correct=female guess=neg prob=0.51 name=Alexis\n",
      "correct=female guess=neg prob=0.51 name=Alfie\n",
      "correct=female guess=neg prob=0.51 name=Alfreda\n",
      "correct=female guess=neg prob=0.51 name=Ali\n",
      "correct=female guess=neg prob=0.51 name=Alidia\n",
      "correct=female guess=neg prob=0.51 name=Alina\n",
      "correct=female guess=neg prob=0.51 name=Alis\n",
      "correct=female guess=neg prob=0.51 name=Alisha\n",
      "correct=female guess=neg prob=0.51 name=Alison\n",
      "correct=female guess=neg prob=0.51 name=Alissa\n",
      "correct=female guess=neg prob=0.51 name=Alla\n",
      "correct=female guess=neg prob=0.51 name=Allene\n",
      "correct=female guess=neg prob=0.51 name=Allyn\n",
      "correct=female guess=neg prob=0.51 name=Allys\n",
      "correct=female guess=neg prob=0.51 name=Alma\n",
      "correct=female guess=neg prob=0.51 name=Aloysia\n",
      "correct=female guess=neg prob=0.51 name=Alta\n",
      "correct=female guess=neg prob=0.51 name=Alvera\n",
      "correct=female guess=neg prob=0.51 name=Alvinia\n",
      "correct=female guess=neg prob=0.51 name=Alvira\n",
      "correct=female guess=neg prob=0.51 name=Amabel\n",
      "correct=female guess=neg prob=0.51 name=Amalia\n",
      "correct=female guess=neg prob=0.51 name=Amalle\n",
      "correct=female guess=neg prob=0.51 name=Amandie\n",
      "correct=female guess=neg prob=0.51 name=Amelie\n",
      "correct=female guess=neg prob=0.51 name=Amity\n",
      "correct=female guess=neg prob=0.51 name=Ammamaria\n",
      "correct=female guess=neg prob=0.51 name=Amy\n",
      "correct=female guess=neg prob=0.51 name=Anabella\n",
      "correct=female guess=neg prob=0.51 name=Anabelle\n",
      "correct=female guess=neg prob=0.51 name=Anastasia\n",
      "correct=female guess=neg prob=0.51 name=Andrea\n",
      "correct=female guess=neg prob=0.51 name=Andreana\n",
      "correct=female guess=neg prob=0.51 name=Andria\n",
      "correct=female guess=neg prob=0.51 name=Andriette\n",
      "correct=female guess=neg prob=0.51 name=Andromache\n",
      "correct=female guess=neg prob=0.51 name=Anett\n",
      "correct=female guess=neg prob=0.51 name=Ange\n",
      "correct=female guess=neg prob=0.51 name=Angele\n",
      "correct=female guess=neg prob=0.51 name=Angelica\n",
      "correct=female guess=neg prob=0.51 name=Angelique\n",
      "correct=female guess=neg prob=0.51 name=Angelita\n",
      "correct=female guess=neg prob=0.51 name=Angelle\n",
      "correct=female guess=neg prob=0.51 name=Anita\n",
      "correct=female guess=neg prob=0.51 name=Ann\n",
      "correct=female guess=neg prob=0.51 name=Ann-Mari\n",
      "correct=female guess=neg prob=0.51 name=Ann-Marie\n",
      "correct=female guess=neg prob=0.51 name=Anna\n",
      "correct=female guess=neg prob=0.51 name=Anna-Diana\n",
      "correct=female guess=neg prob=0.51 name=Anna-Diane\n",
      "correct=female guess=neg prob=0.51 name=Annabela\n",
      "correct=female guess=neg prob=0.51 name=Annamarie\n",
      "correct=female guess=neg prob=0.51 name=Anne-Mar\n",
      "correct=female guess=neg prob=0.51 name=Anne-Marie\n",
      "correct=female guess=neg prob=0.51 name=Annette\n",
      "correct=female guess=neg prob=0.51 name=Annie\n",
      "correct=female guess=neg prob=0.51 name=Annmaria\n",
      "correct=female guess=neg prob=0.51 name=Annmarie\n",
      "correct=female guess=neg prob=0.51 name=Annnora\n",
      "correct=female guess=neg prob=0.51 name=Anny\n",
      "correct=female guess=neg prob=0.51 name=Anselma\n",
      "correct=female guess=neg prob=0.51 name=Ansley\n",
      "correct=female guess=neg prob=0.51 name=Anthe\n",
      "correct=female guess=neg prob=0.51 name=Antonia\n",
      "correct=female guess=neg prob=0.51 name=Antonina\n",
      "correct=female guess=neg prob=0.51 name=Appolonia\n",
      "correct=female guess=neg prob=0.51 name=April\n",
      "correct=female guess=neg prob=0.51 name=Aprilette\n",
      "correct=female guess=neg prob=0.51 name=Arabel\n",
      "correct=female guess=neg prob=0.51 name=Arda\n",
      "correct=female guess=neg prob=0.51 name=Ardeen\n",
      "correct=female guess=neg prob=0.51 name=Ardelle\n",
      "correct=female guess=neg prob=0.51 name=Arden\n",
      "correct=female guess=neg prob=0.51 name=Ardenia\n",
      "correct=female guess=neg prob=0.51 name=Ardith\n",
      "correct=female guess=neg prob=0.51 name=Ardyce\n",
      "correct=female guess=neg prob=0.51 name=Ardyth\n",
      "correct=female guess=neg prob=0.51 name=Aretha\n",
      "correct=female guess=neg prob=0.51 name=Ariana\n",
      "correct=female guess=neg prob=0.51 name=Ariel\n",
      "correct=female guess=neg prob=0.51 name=Ariella\n",
      "correct=female guess=neg prob=0.51 name=Arlee\n",
      "correct=female guess=neg prob=0.51 name=Arlena\n",
      "correct=female guess=neg prob=0.51 name=Arleta\n",
      "correct=female guess=neg prob=0.51 name=Arleyne\n",
      "correct=female guess=neg prob=0.51 name=Arlina\n",
      "correct=female guess=neg prob=0.51 name=Arlinda\n",
      "correct=female guess=neg prob=0.51 name=Arlyn\n",
      "correct=female guess=neg prob=0.51 name=Ashlee\n",
      "correct=female guess=neg prob=0.51 name=Ashli\n",
      "correct=female guess=neg prob=0.51 name=Ashly\n",
      "correct=female guess=neg prob=0.51 name=Asia\n",
      "correct=female guess=neg prob=0.51 name=Astrid\n",
      "correct=female guess=neg prob=0.51 name=Auberta\n",
      "correct=female guess=neg prob=0.51 name=Aubrette\n",
      "correct=female guess=neg prob=0.51 name=Aubrie\n",
      "correct=female guess=neg prob=0.51 name=Audie\n",
      "correct=female guess=neg prob=0.51 name=Audra\n",
      "correct=female guess=neg prob=0.51 name=Augusta\n",
      "correct=female guess=neg prob=0.51 name=Auguste\n",
      "correct=female guess=neg prob=0.51 name=Augustina\n",
      "correct=female guess=neg prob=0.51 name=Augustine\n",
      "correct=female guess=neg prob=0.51 name=Aurel\n",
      "correct=female guess=neg prob=0.51 name=Aurelea\n",
      "correct=female guess=neg prob=0.51 name=Aurelia\n",
      "correct=female guess=neg prob=0.51 name=Aurelie\n",
      "correct=female guess=neg prob=0.51 name=Auroora\n",
      "correct=female guess=neg prob=0.51 name=Austin\n",
      "correct=female guess=neg prob=0.51 name=Aveline\n",
      "correct=female guess=neg prob=0.51 name=Averil\n",
      "correct=female guess=neg prob=0.51 name=Avie\n",
      "correct=female guess=neg prob=0.51 name=Avis\n",
      "correct=female guess=neg prob=0.51 name=Bab\n",
      "correct=female guess=neg prob=0.51 name=Babara\n",
      "correct=female guess=neg prob=0.51 name=Babita\n",
      "correct=female guess=neg prob=0.51 name=Babs\n",
      "correct=female guess=neg prob=0.51 name=Barbara-Anne\n",
      "correct=female guess=neg prob=0.51 name=Barbaraanne\n",
      "correct=female guess=neg prob=0.51 name=Barbee\n",
      "correct=female guess=neg prob=0.51 name=Barbette\n",
      "correct=female guess=neg prob=0.51 name=Barbi\n",
      "correct=female guess=neg prob=0.51 name=Barrie\n",
      "correct=female guess=neg prob=0.51 name=Barry\n",
      "correct=female guess=neg prob=0.51 name=Basia\n",
      "correct=female guess=neg prob=0.51 name=Bathsheba\n",
      "correct=female guess=neg prob=0.51 name=Beatrisa\n",
      "correct=female guess=neg prob=0.51 name=Beatrix\n",
      "correct=female guess=neg prob=0.51 name=Beau\n",
      "correct=female guess=neg prob=0.51 name=Bebe\n",
      "correct=female guess=neg prob=0.51 name=Belicia\n",
      "correct=female guess=neg prob=0.51 name=Belita\n",
      "correct=female guess=neg prob=0.51 name=Bella\n",
      "correct=female guess=neg prob=0.51 name=Bellina\n",
      "correct=female guess=neg prob=0.51 name=Bendite\n",
      "correct=female guess=neg prob=0.51 name=Benedikta\n",
      "correct=female guess=neg prob=0.51 name=Benetta\n",
      "correct=female guess=neg prob=0.51 name=Beret\n",
      "correct=female guess=neg prob=0.51 name=Bernadene\n",
      "correct=female guess=neg prob=0.51 name=Bernadette\n",
      "correct=female guess=neg prob=0.51 name=Bernadine\n",
      "correct=female guess=neg prob=0.51 name=Bernette\n",
      "correct=female guess=neg prob=0.51 name=Bernita\n",
      "correct=female guess=neg prob=0.51 name=Berte\n",
      "correct=female guess=neg prob=0.51 name=Bertie\n",
      "correct=female guess=neg prob=0.51 name=Beth\n",
      "correct=female guess=neg prob=0.51 name=Bethena\n",
      "correct=female guess=neg prob=0.51 name=Betsey\n",
      "correct=female guess=neg prob=0.51 name=Betti\n",
      "correct=female guess=neg prob=0.51 name=Bettina\n",
      "correct=female guess=neg prob=0.51 name=Bettye\n",
      "correct=female guess=neg prob=0.51 name=Beulah\n",
      "correct=female guess=neg prob=0.51 name=Beverie\n",
      "correct=female guess=neg prob=0.51 name=Bevvy\n",
      "correct=female guess=neg prob=0.51 name=Bianca\n",
      "correct=female guess=neg prob=0.51 name=Biddy\n",
      "correct=female guess=neg prob=0.51 name=Bill\n",
      "correct=female guess=neg prob=0.51 name=Billi\n",
      "correct=female guess=neg prob=0.51 name=Billy\n",
      "correct=female guess=neg prob=0.51 name=Binni\n",
      "correct=female guess=neg prob=0.51 name=Birdie\n",
      "correct=female guess=neg prob=0.51 name=Birgit\n",
      "correct=female guess=neg prob=0.51 name=Birgitta\n",
      "correct=female guess=neg prob=0.51 name=Blaire\n",
      "correct=female guess=neg prob=0.51 name=Blakeley\n",
      "correct=female guess=neg prob=0.51 name=Blanche\n",
      "correct=female guess=neg prob=0.51 name=Blinni\n",
      "correct=female guess=neg prob=0.51 name=Blondie\n",
      "correct=female guess=neg prob=0.51 name=Blondy\n",
      "correct=female guess=neg prob=0.51 name=Bo\n",
      "correct=female guess=neg prob=0.51 name=Bobbi\n",
      "correct=female guess=neg prob=0.51 name=Bobette\n",
      "correct=female guess=neg prob=0.51 name=Bonita\n",
      "correct=female guess=neg prob=0.51 name=Bonnee\n",
      "correct=female guess=neg prob=0.51 name=Brandais\n",
      "correct=female guess=neg prob=0.51 name=Brande\n",
      "correct=female guess=neg prob=0.51 name=Brandea\n",
      "correct=female guess=neg prob=0.51 name=Brandi\n",
      "correct=female guess=neg prob=0.51 name=Brandie\n",
      "correct=female guess=neg prob=0.51 name=Brandise\n",
      "correct=female guess=neg prob=0.51 name=Breanne\n",
      "correct=female guess=neg prob=0.51 name=Brear\n",
      "correct=female guess=neg prob=0.51 name=Brenn\n",
      "correct=female guess=neg prob=0.51 name=Bridget\n",
      "correct=female guess=neg prob=0.51 name=Bridgette\n",
      "correct=female guess=neg prob=0.51 name=Brietta\n",
      "correct=female guess=neg prob=0.51 name=Brigitta\n",
      "correct=female guess=neg prob=0.51 name=Brina\n",
      "correct=female guess=neg prob=0.51 name=Britney\n",
      "correct=female guess=neg prob=0.51 name=Britni\n",
      "correct=female guess=neg prob=0.51 name=Brook\n",
      "correct=female guess=neg prob=0.51 name=Brunella\n",
      "correct=female guess=neg prob=0.51 name=Bryana\n",
      "correct=female guess=neg prob=0.51 name=Bryna\n",
      "correct=female guess=neg prob=0.51 name=Bunnie\n",
      "correct=female guess=neg prob=0.51 name=Bunny\n",
      "correct=female guess=neg prob=0.51 name=Cal\n",
      "correct=female guess=neg prob=0.51 name=Calley\n",
      "correct=female guess=neg prob=0.51 name=Callida\n",
      "correct=female guess=neg prob=0.51 name=Cam\n",
      "correct=female guess=neg prob=0.51 name=Camala\n",
      "correct=female guess=neg prob=0.51 name=Camel\n",
      "correct=female guess=neg prob=0.51 name=Camila\n",
      "correct=female guess=neg prob=0.51 name=Camile\n",
      "correct=female guess=neg prob=0.51 name=Camilla\n",
      "correct=female guess=neg prob=0.51 name=Camille\n",
      "correct=female guess=neg prob=0.51 name=Cammi\n",
      "correct=female guess=neg prob=0.51 name=Cammie\n",
      "correct=female guess=neg prob=0.51 name=Cammy\n",
      "correct=female guess=neg prob=0.51 name=Canada\n",
      "correct=female guess=neg prob=0.51 name=Candace\n",
      "correct=female guess=neg prob=0.51 name=Candice\n",
      "correct=female guess=neg prob=0.51 name=Candy\n",
      "correct=female guess=neg prob=0.51 name=Caprice\n",
      "correct=female guess=neg prob=0.51 name=Carena\n",
      "correct=female guess=neg prob=0.51 name=Caressa\n",
      "correct=female guess=neg prob=0.51 name=Carey\n",
      "correct=female guess=neg prob=0.51 name=Cari\n",
      "correct=female guess=neg prob=0.51 name=Caria\n",
      "correct=female guess=neg prob=0.51 name=Caril\n",
      "correct=female guess=neg prob=0.51 name=Carin\n",
      "correct=female guess=neg prob=0.51 name=Carina\n",
      "correct=female guess=neg prob=0.51 name=Carine\n",
      "correct=female guess=neg prob=0.51 name=Carissa\n",
      "correct=female guess=neg prob=0.51 name=Carlina\n",
      "correct=female guess=neg prob=0.51 name=Carlisle\n",
      "correct=female guess=neg prob=0.51 name=Carlota\n",
      "correct=female guess=neg prob=0.51 name=Carlotta\n",
      "correct=female guess=neg prob=0.51 name=Carlye\n",
      "correct=female guess=neg prob=0.51 name=Carlynne\n",
      "correct=female guess=neg prob=0.51 name=Carmelia\n",
      "correct=female guess=neg prob=0.51 name=Carmon\n",
      "correct=female guess=neg prob=0.51 name=Caroleen\n",
      "correct=female guess=neg prob=0.51 name=Carolie\n",
      "correct=female guess=neg prob=0.51 name=Carolin\n",
      "correct=female guess=neg prob=0.51 name=Carolynn\n",
      "correct=female guess=neg prob=0.51 name=Carry\n",
      "correct=female guess=neg prob=0.51 name=Cary\n",
      "correct=female guess=neg prob=0.51 name=Casey\n",
      "correct=female guess=neg prob=0.51 name=Casia\n",
      "correct=female guess=neg prob=0.51 name=Cass\n",
      "correct=female guess=neg prob=0.51 name=Cassaundra\n",
      "correct=female guess=neg prob=0.51 name=Cassondra\n",
      "correct=female guess=neg prob=0.51 name=Cassy\n",
      "correct=female guess=neg prob=0.51 name=Catha\n",
      "correct=female guess=neg prob=0.51 name=Cathee\n",
      "correct=female guess=neg prob=0.51 name=Catherine\n",
      "correct=female guess=neg prob=0.51 name=Cathie\n",
      "correct=female guess=neg prob=0.51 name=Cathleen\n",
      "correct=female guess=neg prob=0.51 name=Cathlene\n",
      "correct=female guess=neg prob=0.51 name=Cathrin\n",
      "correct=female guess=neg prob=0.51 name=Cathrine\n",
      "correct=female guess=neg prob=0.51 name=Catlaina\n",
      "correct=female guess=neg prob=0.51 name=Catrina\n",
      "correct=female guess=neg prob=0.51 name=Cayla\n",
      "correct=female guess=neg prob=0.51 name=Cecelia\n",
      "correct=female guess=neg prob=0.51 name=Ceciley\n",
      "correct=female guess=neg prob=0.51 name=Ceil\n",
      "correct=female guess=neg prob=0.51 name=Cele\n",
      "correct=female guess=neg prob=0.51 name=Celeste\n",
      "correct=female guess=neg prob=0.51 name=Celestia\n",
      "correct=female guess=neg prob=0.51 name=Celestina\n",
      "correct=female guess=neg prob=0.51 name=Celestyn\n",
      "correct=female guess=neg prob=0.51 name=Celia\n",
      "correct=female guess=neg prob=0.51 name=Celie\n",
      "correct=female guess=neg prob=0.51 name=Celinka\n",
      "correct=female guess=neg prob=0.51 name=Celisse\n",
      "correct=female guess=neg prob=0.51 name=Chanda\n",
      "correct=female guess=neg prob=0.51 name=Channa\n",
      "correct=female guess=neg prob=0.51 name=Chantalle\n",
      "correct=female guess=neg prob=0.51 name=Charla\n",
      "correct=female guess=neg prob=0.51 name=Charlean\n",
      "correct=female guess=neg prob=0.51 name=Charlene\n",
      "correct=female guess=neg prob=0.51 name=Charline\n",
      "correct=female guess=neg prob=0.51 name=Charlot\n",
      "correct=female guess=neg prob=0.51 name=Charlott\n",
      "correct=female guess=neg prob=0.51 name=Charmaine\n",
      "correct=female guess=neg prob=0.51 name=Charmian\n",
      "correct=female guess=neg prob=0.51 name=Chere\n",
      "correct=female guess=neg prob=0.51 name=Cherey\n",
      "correct=female guess=neg prob=0.51 name=Cherice\n",
      "correct=female guess=neg prob=0.51 name=Cherilynn\n",
      "correct=female guess=neg prob=0.51 name=Cherin\n",
      "correct=female guess=neg prob=0.51 name=Chery\n",
      "correct=female guess=neg prob=0.51 name=Chiarra\n",
      "correct=female guess=neg prob=0.51 name=Chickie\n",
      "correct=female guess=neg prob=0.51 name=Chicky\n",
      "correct=female guess=neg prob=0.51 name=Chris\n",
      "correct=female guess=neg prob=0.51 name=Chrissie\n",
      "correct=female guess=neg prob=0.51 name=Christel\n",
      "correct=female guess=neg prob=0.51 name=Christen\n",
      "correct=female guess=neg prob=0.51 name=Christin\n",
      "correct=female guess=neg prob=0.51 name=Christina\n",
      "correct=female guess=neg prob=0.51 name=Chrystel\n",
      "correct=female guess=neg prob=0.51 name=Cicely\n",
      "correct=female guess=neg prob=0.51 name=Cinda\n",
      "correct=female guess=neg prob=0.51 name=Cindee\n",
      "correct=female guess=neg prob=0.51 name=Cinderella\n",
      "correct=female guess=neg prob=0.51 name=Cindra\n",
      "correct=female guess=neg prob=0.51 name=Cindy\n",
      "correct=female guess=neg prob=0.51 name=Clair\n",
      "correct=female guess=neg prob=0.51 name=Clareta\n",
      "correct=female guess=neg prob=0.51 name=Clarey\n",
      "correct=female guess=neg prob=0.51 name=Clari\n",
      "correct=female guess=neg prob=0.51 name=Clarice\n",
      "correct=female guess=neg prob=0.51 name=Clarine\n",
      "correct=female guess=neg prob=0.51 name=Clarisa\n",
      "correct=female guess=neg prob=0.51 name=Clarissa\n",
      "correct=female guess=neg prob=0.51 name=Claude\n",
      "correct=female guess=neg prob=0.51 name=Claudetta\n",
      "correct=female guess=neg prob=0.51 name=Claudette\n",
      "correct=female guess=neg prob=0.51 name=Claudia\n",
      "correct=female guess=neg prob=0.51 name=Claudie\n",
      "correct=female guess=neg prob=0.51 name=Claudina\n",
      "correct=female guess=neg prob=0.51 name=Clemmy\n",
      "correct=female guess=neg prob=0.51 name=Cleo\n",
      "correct=female guess=neg prob=0.51 name=Clerissa\n",
      "correct=female guess=neg prob=0.51 name=Clio\n",
      "correct=female guess=neg prob=0.51 name=Clo\n",
      "correct=female guess=neg prob=0.51 name=Clovis\n",
      "correct=female guess=neg prob=0.51 name=Colene\n",
      "correct=female guess=neg prob=0.51 name=Colette\n",
      "correct=female guess=neg prob=0.51 name=Collete\n",
      "correct=female guess=neg prob=0.51 name=Collie\n",
      "correct=female guess=neg prob=0.51 name=Colline\n",
      "correct=female guess=neg prob=0.51 name=Con\n",
      "correct=female guess=neg prob=0.51 name=Concettina\n",
      "correct=female guess=neg prob=0.51 name=Conney\n",
      "correct=female guess=neg prob=0.51 name=Constancia\n",
      "correct=female guess=neg prob=0.51 name=Constancy\n",
      "correct=female guess=neg prob=0.51 name=Constantina\n",
      "correct=female guess=neg prob=0.51 name=Consuela\n",
      "correct=female guess=neg prob=0.51 name=Consuelo\n",
      "correct=female guess=neg prob=0.51 name=Cora\n",
      "correct=female guess=neg prob=0.51 name=Corabelle\n",
      "correct=female guess=neg prob=0.51 name=Coralie\n",
      "correct=female guess=neg prob=0.51 name=Cordelie\n",
      "correct=female guess=neg prob=0.51 name=Corella\n",
      "correct=female guess=neg prob=0.51 name=Corene\n",
      "correct=female guess=neg prob=0.51 name=Coretta\n",
      "correct=female guess=neg prob=0.51 name=Corette\n",
      "correct=female guess=neg prob=0.51 name=Cori\n",
      "correct=female guess=neg prob=0.51 name=Corissa\n",
      "correct=female guess=neg prob=0.51 name=Cornela\n",
      "correct=female guess=neg prob=0.51 name=Corrianne\n",
      "correct=female guess=neg prob=0.51 name=Cory\n",
      "correct=female guess=neg prob=0.51 name=Cosette\n",
      "correct=female guess=neg prob=0.51 name=Courtenay\n",
      "correct=female guess=neg prob=0.51 name=Cresa\n",
      "correct=female guess=neg prob=0.51 name=Cristal\n",
      "correct=female guess=neg prob=0.51 name=Cristin\n",
      "correct=female guess=neg prob=0.51 name=Crystal\n",
      "correct=female guess=neg prob=0.51 name=Dagmar\n",
      "correct=female guess=neg prob=0.51 name=Daile\n",
      "correct=female guess=neg prob=0.51 name=Daisie\n",
      "correct=female guess=neg prob=0.51 name=Dalila\n",
      "correct=female guess=neg prob=0.51 name=Daloris\n",
      "correct=female guess=neg prob=0.51 name=Danell\n",
      "correct=female guess=neg prob=0.51 name=Danette\n",
      "correct=female guess=neg prob=0.51 name=Danice\n",
      "correct=female guess=neg prob=0.51 name=Daniela\n",
      "correct=female guess=neg prob=0.51 name=Daniele\n",
      "correct=female guess=neg prob=0.51 name=Danna\n",
      "correct=female guess=neg prob=0.51 name=Danni\n",
      "correct=female guess=neg prob=0.51 name=Dannye\n",
      "correct=female guess=neg prob=0.51 name=Danyelle\n",
      "correct=female guess=neg prob=0.51 name=Daphne\n",
      "correct=female guess=neg prob=0.51 name=Dara\n",
      "correct=female guess=neg prob=0.51 name=Darb\n",
      "correct=female guess=neg prob=0.51 name=Darcee\n",
      "correct=female guess=neg prob=0.51 name=Darcy\n",
      "correct=female guess=neg prob=0.51 name=Darda\n",
      "correct=female guess=neg prob=0.51 name=Dareen\n",
      "correct=female guess=neg prob=0.51 name=Darelle\n",
      "correct=female guess=neg prob=0.51 name=Darice\n",
      "correct=female guess=neg prob=0.51 name=Darla\n",
      "correct=female guess=neg prob=0.51 name=Darlene\n",
      "correct=female guess=neg prob=0.51 name=Darline\n",
      "correct=female guess=neg prob=0.51 name=Darryl\n",
      "correct=female guess=neg prob=0.51 name=Darsey\n",
      "correct=female guess=neg prob=0.51 name=Darsie\n",
      "correct=female guess=neg prob=0.51 name=Darya\n",
      "correct=female guess=neg prob=0.51 name=Daveta\n",
      "correct=female guess=neg prob=0.51 name=Davida\n",
      "correct=female guess=neg prob=0.51 name=Davita\n",
      "correct=female guess=neg prob=0.51 name=Deana\n",
      "correct=female guess=neg prob=0.51 name=Deb\n",
      "correct=female guess=neg prob=0.51 name=Debbra\n",
      "correct=female guess=neg prob=0.51 name=Debera\n",
      "correct=female guess=neg prob=0.51 name=Debra\n",
      "correct=female guess=neg prob=0.51 name=Dede\n",
      "correct=female guess=neg prob=0.51 name=Dedie\n",
      "correct=female guess=neg prob=0.51 name=Dee Dee\n",
      "correct=female guess=neg prob=0.51 name=Deena\n",
      "correct=female guess=neg prob=0.51 name=Dela\n",
      "correct=female guess=neg prob=0.51 name=Delia\n",
      "correct=female guess=neg prob=0.51 name=Delilah\n",
      "correct=female guess=neg prob=0.51 name=Delinda\n",
      "correct=female guess=neg prob=0.51 name=Della\n",
      "correct=female guess=neg prob=0.51 name=Delly\n",
      "correct=female guess=neg prob=0.51 name=Delphine\n",
      "correct=female guess=neg prob=0.51 name=Demeter\n",
      "correct=female guess=neg prob=0.51 name=Deni\n",
      "correct=female guess=neg prob=0.51 name=Denice\n",
      "correct=female guess=neg prob=0.51 name=Denise\n",
      "correct=female guess=neg prob=0.51 name=Denny\n",
      "correct=female guess=neg prob=0.51 name=Deonne\n",
      "correct=female guess=neg prob=0.51 name=Desaree\n",
      "correct=female guess=neg prob=0.51 name=Desirae\n",
      "correct=female guess=neg prob=0.51 name=Desiree\n",
      "correct=female guess=neg prob=0.51 name=Devin\n",
      "correct=female guess=neg prob=0.51 name=Devina\n",
      "correct=female guess=neg prob=0.51 name=Devondra\n",
      "correct=female guess=neg prob=0.51 name=Devonna\n",
      "correct=female guess=neg prob=0.51 name=Devora\n",
      "correct=female guess=neg prob=0.51 name=Dianemarie\n",
      "correct=female guess=neg prob=0.51 name=Diann\n",
      "correct=female guess=neg prob=0.51 name=Dianne\n",
      "correct=female guess=neg prob=0.51 name=Dido\n",
      "correct=female guess=neg prob=0.51 name=Dierdre\n",
      "correct=female guess=neg prob=0.51 name=Dina\n",
      "correct=female guess=neg prob=0.51 name=Dita\n",
      "correct=female guess=neg prob=0.51 name=Dixie\n",
      "correct=female guess=neg prob=0.51 name=Dode\n",
      "correct=female guess=neg prob=0.51 name=Dody\n",
      "correct=female guess=neg prob=0.51 name=Doe\n",
      "correct=female guess=neg prob=0.51 name=Dolora\n",
      "correct=female guess=neg prob=0.51 name=Dolorita\n",
      "correct=female guess=neg prob=0.51 name=Doloritas\n",
      "correct=female guess=neg prob=0.51 name=Donica\n",
      "correct=female guess=neg prob=0.51 name=Donielle\n",
      "correct=female guess=neg prob=0.51 name=Donna\n",
      "correct=female guess=neg prob=0.51 name=Donni\n",
      "correct=female guess=neg prob=0.51 name=Dore\n",
      "correct=female guess=neg prob=0.51 name=Dorella\n",
      "correct=female guess=neg prob=0.51 name=Dorena\n",
      "correct=female guess=neg prob=0.51 name=Dorene\n",
      "correct=female guess=neg prob=0.51 name=Dorette\n",
      "correct=female guess=neg prob=0.51 name=Dorice\n",
      "correct=female guess=neg prob=0.51 name=Dorie\n",
      "correct=female guess=neg prob=0.51 name=Dorine\n",
      "correct=female guess=neg prob=0.51 name=Doro\n",
      "correct=female guess=neg prob=0.51 name=Dorolisa\n",
      "correct=female guess=neg prob=0.51 name=Dorree\n",
      "correct=female guess=neg prob=0.51 name=Dorri\n",
      "correct=female guess=neg prob=0.51 name=Dorris\n",
      "correct=female guess=neg prob=0.51 name=Dorry\n",
      "correct=female guess=neg prob=0.51 name=Dory\n",
      "correct=female guess=neg prob=0.51 name=Doti\n",
      "correct=female guess=neg prob=0.51 name=Dotti\n",
      "correct=female guess=neg prob=0.51 name=Dove\n",
      "correct=female guess=neg prob=0.51 name=Drew\n",
      "correct=female guess=neg prob=0.51 name=Dulcie\n",
      "correct=female guess=neg prob=0.51 name=Dyann\n",
      "correct=female guess=neg prob=0.51 name=Dyanne\n",
      "correct=female guess=neg prob=0.51 name=Eada\n",
      "correct=female guess=neg prob=0.51 name=Ealasaid\n",
      "correct=female guess=neg prob=0.51 name=Easter\n",
      "correct=female guess=neg prob=0.51 name=Ebony\n",
      "correct=female guess=neg prob=0.51 name=Eda\n",
      "correct=female guess=neg prob=0.51 name=Eddie\n",
      "correct=female guess=neg prob=0.51 name=Edee\n",
      "correct=female guess=neg prob=0.51 name=Eden\n",
      "correct=female guess=neg prob=0.51 name=Edita\n",
      "correct=female guess=neg prob=0.51 name=Edith\n",
      "correct=female guess=neg prob=0.51 name=Edithe\n",
      "correct=female guess=neg prob=0.51 name=Edwina\n",
      "correct=female guess=neg prob=0.51 name=Edyth\n",
      "correct=female guess=neg prob=0.51 name=Effie\n",
      "correct=female guess=neg prob=0.51 name=Eimile\n",
      "correct=female guess=neg prob=0.51 name=Eirena\n",
      "correct=female guess=neg prob=0.51 name=Elaina\n",
      "correct=female guess=neg prob=0.51 name=Elbertina\n",
      "correct=female guess=neg prob=0.51 name=Elbertine\n",
      "correct=female guess=neg prob=0.51 name=Eleanor\n",
      "correct=female guess=neg prob=0.51 name=Eleanore\n",
      "correct=female guess=neg prob=0.51 name=Electra\n",
      "correct=female guess=neg prob=0.51 name=Elene\n",
      "correct=female guess=neg prob=0.51 name=Elenore\n",
      "correct=female guess=neg prob=0.51 name=Eleonore\n",
      "correct=female guess=neg prob=0.51 name=Elfie\n",
      "correct=female guess=neg prob=0.51 name=Elfreda\n",
      "correct=female guess=neg prob=0.51 name=Elfrida\n",
      "correct=female guess=neg prob=0.51 name=Elfrieda\n",
      "correct=female guess=neg prob=0.51 name=Elga\n",
      "correct=female guess=neg prob=0.51 name=Elianora\n",
      "correct=female guess=neg prob=0.51 name=Elianore\n",
      "correct=female guess=neg prob=0.51 name=Elinor\n",
      "correct=female guess=neg prob=0.51 name=Elisabet\n",
      "correct=female guess=neg prob=0.51 name=Elisabeth\n",
      "correct=female guess=neg prob=0.51 name=Elisabetta\n",
      "correct=female guess=neg prob=0.51 name=Elisha\n",
      "correct=female guess=neg prob=0.51 name=Elissa\n",
      "correct=female guess=neg prob=0.51 name=Eliza\n",
      "correct=female guess=neg prob=0.51 name=Ellissa\n",
      "correct=female guess=neg prob=0.51 name=Ellyn\n",
      "correct=female guess=neg prob=0.51 name=Ellynn\n",
      "correct=female guess=neg prob=0.51 name=Elnora\n",
      "correct=female guess=neg prob=0.51 name=Eloise\n",
      "correct=female guess=neg prob=0.51 name=Elsey\n",
      "correct=female guess=neg prob=0.51 name=Elsie\n",
      "correct=female guess=neg prob=0.51 name=Elspeth\n",
      "correct=female guess=neg prob=0.51 name=Elysee\n",
      "correct=female guess=neg prob=0.51 name=Elysha\n",
      "correct=female guess=neg prob=0.51 name=Elysia\n",
      "correct=female guess=neg prob=0.51 name=Elyssa\n",
      "correct=female guess=neg prob=0.51 name=Emanuela\n",
      "correct=female guess=neg prob=0.51 name=Emelia\n",
      "correct=female guess=neg prob=0.51 name=Emeline\n",
      "correct=female guess=neg prob=0.51 name=Emelyne\n",
      "correct=female guess=neg prob=0.51 name=Emiline\n",
      "correct=female guess=neg prob=0.51 name=Emlynn\n",
      "correct=female guess=neg prob=0.51 name=Emlynne\n",
      "correct=female guess=neg prob=0.51 name=Emma\n",
      "correct=female guess=neg prob=0.51 name=Emmalee\n",
      "correct=female guess=neg prob=0.51 name=Emmaline\n",
      "correct=female guess=neg prob=0.51 name=Emmalynn\n",
      "correct=female guess=neg prob=0.51 name=Emmi\n",
      "correct=female guess=neg prob=0.51 name=Endora\n",
      "correct=female guess=neg prob=0.51 name=Enid\n",
      "correct=female guess=neg prob=0.51 name=Enrica\n",
      "correct=female guess=neg prob=0.51 name=Enrichetta\n",
      "correct=female guess=neg prob=0.51 name=Eolande\n",
      "correct=female guess=neg prob=0.51 name=Eran\n",
      "correct=female guess=neg prob=0.51 name=Erica\n",
      "correct=female guess=neg prob=0.51 name=Erika\n",
      "correct=female guess=neg prob=0.51 name=Erin\n",
      "correct=female guess=neg prob=0.51 name=Erina\n",
      "correct=female guess=neg prob=0.51 name=Erinn\n",
      "correct=female guess=neg prob=0.51 name=Erma\n",
      "correct=female guess=neg prob=0.51 name=Ermengarde\n",
      "correct=female guess=neg prob=0.51 name=Erminia\n",
      "correct=female guess=neg prob=0.51 name=Ernesta\n",
      "correct=female guess=neg prob=0.51 name=Ertha\n",
      "correct=female guess=neg prob=0.51 name=Esma\n",
      "correct=female guess=neg prob=0.51 name=Esmaria\n",
      "correct=female guess=neg prob=0.51 name=Estel\n",
      "correct=female guess=neg prob=0.51 name=Estele\n",
      "correct=female guess=neg prob=0.51 name=Estelle\n",
      "correct=female guess=neg prob=0.51 name=Ethel\n",
      "correct=female guess=neg prob=0.51 name=Ethelda\n",
      "correct=female guess=neg prob=0.51 name=Ethelin\n",
      "correct=female guess=neg prob=0.51 name=Ethelind\n",
      "correct=female guess=neg prob=0.51 name=Ethyl\n",
      "correct=female guess=neg prob=0.51 name=Eugenie\n",
      "correct=female guess=neg prob=0.51 name=Eula\n",
      "correct=female guess=neg prob=0.51 name=Eulalie\n",
      "correct=female guess=neg prob=0.51 name=Eustacia\n",
      "correct=female guess=neg prob=0.51 name=Evaleen\n",
      "correct=female guess=neg prob=0.51 name=Evangelina\n",
      "correct=female guess=neg prob=0.51 name=Evangeline\n",
      "correct=female guess=neg prob=0.51 name=Evania\n",
      "correct=female guess=neg prob=0.51 name=Evelina\n",
      "correct=female guess=neg prob=0.51 name=Evey\n",
      "correct=female guess=neg prob=0.51 name=Evita\n",
      "correct=female guess=neg prob=0.51 name=Evvie\n",
      "correct=female guess=neg prob=0.51 name=Evvy\n",
      "correct=female guess=neg prob=0.51 name=Evy\n",
      "correct=female guess=neg prob=0.51 name=Eyde\n",
      "correct=female guess=neg prob=0.51 name=Eydie\n",
      "correct=female guess=neg prob=0.51 name=Faina\n",
      "correct=female guess=neg prob=0.51 name=Faith\n",
      "correct=female guess=neg prob=0.51 name=Fan\n",
      "correct=female guess=neg prob=0.51 name=Fanchette\n",
      "correct=female guess=neg prob=0.51 name=Fanchon\n",
      "correct=female guess=neg prob=0.51 name=Fanechka\n",
      "correct=female guess=neg prob=0.51 name=Fanni\n",
      "correct=female guess=neg prob=0.51 name=Fanya\n",
      "correct=female guess=neg prob=0.51 name=Farica\n",
      "correct=female guess=neg prob=0.51 name=Fatima\n",
      "correct=female guess=neg prob=0.51 name=Fawne\n",
      "correct=female guess=neg prob=0.51 name=Fayre\n",
      "correct=female guess=neg prob=0.51 name=Fayth\n",
      "correct=female guess=neg prob=0.51 name=Felicity\n",
      "correct=female guess=neg prob=0.51 name=Felita\n",
      "correct=female guess=neg prob=0.51 name=Feliza\n",
      "correct=female guess=neg prob=0.51 name=Feodora\n",
      "correct=female guess=neg prob=0.51 name=Fernandina\n",
      "correct=female guess=neg prob=0.51 name=Ferne\n",
      "correct=female guess=neg prob=0.51 name=Fidela\n",
      "correct=female guess=neg prob=0.51 name=Fidelity\n",
      "correct=female guess=neg prob=0.51 name=Fifi\n",
      "correct=female guess=neg prob=0.51 name=Filia\n",
      "correct=female guess=neg prob=0.51 name=Filippa\n",
      "correct=female guess=neg prob=0.51 name=Fiona\n",
      "correct=female guess=neg prob=0.51 name=Fleurette\n",
      "correct=female guess=neg prob=0.51 name=Flo\n",
      "correct=female guess=neg prob=0.51 name=Florella\n",
      "correct=female guess=neg prob=0.51 name=Florenza\n",
      "correct=female guess=neg prob=0.51 name=Florice\n",
      "correct=female guess=neg prob=0.51 name=Florida\n",
      "correct=female guess=neg prob=0.51 name=Florri\n",
      "correct=female guess=neg prob=0.51 name=Florry\n",
      "correct=female guess=neg prob=0.51 name=Flossi\n",
      "correct=female guess=neg prob=0.51 name=France\n",
      "correct=female guess=neg prob=0.51 name=Francesca\n",
      "correct=female guess=neg prob=0.51 name=Francine\n",
      "correct=female guess=neg prob=0.51 name=Francisca\n",
      "correct=female guess=neg prob=0.51 name=Francoise\n",
      "correct=female guess=neg prob=0.51 name=Francyne\n",
      "correct=female guess=neg prob=0.51 name=Freddie\n",
      "correct=female guess=neg prob=0.51 name=Frederica\n",
      "correct=female guess=neg prob=0.51 name=Fredi\n",
      "correct=female guess=neg prob=0.51 name=Freida\n",
      "correct=female guess=neg prob=0.51 name=Frieda\n",
      "correct=female guess=neg prob=0.51 name=Friederike\n",
      "correct=female guess=neg prob=0.51 name=Gabbi\n",
      "correct=female guess=neg prob=0.51 name=Gabriel\n",
      "correct=female guess=neg prob=0.51 name=Gabriella\n",
      "correct=female guess=neg prob=0.51 name=Gabrielle\n",
      "correct=female guess=neg prob=0.51 name=Gabrila\n",
      "correct=female guess=neg prob=0.51 name=Gaby\n",
      "correct=female guess=neg prob=0.51 name=Gael\n",
      "correct=female guess=neg prob=0.51 name=Gail\n",
      "correct=female guess=neg prob=0.51 name=Garnet\n",
      "correct=female guess=neg prob=0.51 name=Gayle\n",
      "correct=female guess=neg prob=0.51 name=Gaynor\n",
      "correct=female guess=neg prob=0.51 name=Geeta\n",
      "correct=female guess=neg prob=0.51 name=Gen\n",
      "correct=female guess=neg prob=0.51 name=Gene\n",
      "correct=female guess=neg prob=0.51 name=Genevieve\n",
      "correct=female guess=neg prob=0.51 name=Genevra\n",
      "correct=female guess=neg prob=0.51 name=Genni\n",
      "correct=female guess=neg prob=0.51 name=Genvieve\n",
      "correct=female guess=neg prob=0.51 name=Georgeanna\n",
      "correct=female guess=neg prob=0.51 name=Georgiamay\n",
      "correct=female guess=neg prob=0.51 name=Georgiana\n",
      "correct=female guess=neg prob=0.51 name=Georgie\n",
      "correct=female guess=neg prob=0.51 name=Georgina\n",
      "correct=female guess=neg prob=0.51 name=Georgine\n",
      "correct=female guess=neg prob=0.51 name=Geralda\n",
      "correct=female guess=neg prob=0.51 name=Geraldina\n",
      "correct=female guess=neg prob=0.51 name=Geraldine\n",
      "correct=female guess=neg prob=0.51 name=Gerhardine\n",
      "correct=female guess=neg prob=0.51 name=Geri\n",
      "correct=female guess=neg prob=0.51 name=Gerianna\n",
      "correct=female guess=neg prob=0.51 name=Gerianne\n",
      "correct=female guess=neg prob=0.51 name=Gerladina\n",
      "correct=female guess=neg prob=0.51 name=Germaine\n",
      "correct=female guess=neg prob=0.51 name=Gerri\n",
      "correct=female guess=neg prob=0.51 name=Gerrie\n",
      "correct=female guess=neg prob=0.51 name=Gerta\n",
      "correct=female guess=neg prob=0.51 name=Gerti\n",
      "correct=female guess=neg prob=0.51 name=Gertruda\n",
      "correct=female guess=neg prob=0.51 name=Giacinta\n",
      "correct=female guess=neg prob=0.51 name=Giana\n",
      "correct=female guess=neg prob=0.51 name=Gianina\n",
      "correct=female guess=neg prob=0.51 name=Gilberta\n",
      "correct=female guess=neg prob=0.51 name=Gilberte\n",
      "correct=female guess=neg prob=0.51 name=Gilbertine\n",
      "correct=female guess=neg prob=0.51 name=Gillan\n",
      "correct=female guess=neg prob=0.51 name=Gilli\n",
      "correct=female guess=neg prob=0.51 name=Gillian\n",
      "correct=female guess=neg prob=0.51 name=Gina\n",
      "correct=female guess=neg prob=0.51 name=Ginevra\n",
      "correct=female guess=neg prob=0.51 name=Ginger\n",
      "correct=female guess=neg prob=0.51 name=Ginnie\n",
      "correct=female guess=neg prob=0.51 name=Giovanna\n",
      "correct=female guess=neg prob=0.51 name=Giralda\n",
      "correct=female guess=neg prob=0.51 name=Gisela\n",
      "correct=female guess=neg prob=0.51 name=Gita\n",
      "correct=female guess=neg prob=0.51 name=Glen\n",
      "correct=female guess=neg prob=0.51 name=Glennie\n",
      "correct=female guess=neg prob=0.51 name=Glori\n",
      "correct=female guess=neg prob=0.51 name=Glorianna\n",
      "correct=female guess=neg prob=0.51 name=Glory\n",
      "correct=female guess=neg prob=0.51 name=Godiva\n",
      "correct=female guess=neg prob=0.51 name=Goldi\n",
      "correct=female guess=neg prob=0.51 name=Goldina\n",
      "correct=female guess=neg prob=0.51 name=Gratia\n",
      "correct=female guess=neg prob=0.51 name=Gray\n",
      "correct=female guess=neg prob=0.51 name=Gredel\n",
      "correct=female guess=neg prob=0.51 name=Greer\n",
      "correct=female guess=neg prob=0.51 name=Greta\n",
      "correct=female guess=neg prob=0.51 name=Grete\n",
      "correct=female guess=neg prob=0.51 name=Gretel\n",
      "correct=female guess=neg prob=0.51 name=Grethel\n",
      "correct=female guess=neg prob=0.51 name=Gretta\n",
      "correct=female guess=neg prob=0.51 name=Guendolen\n",
      "correct=female guess=neg prob=0.51 name=Guenna\n",
      "correct=female guess=neg prob=0.51 name=Guillemette\n",
      "correct=female guess=neg prob=0.51 name=Guinevere\n",
      "correct=female guess=neg prob=0.51 name=Gunvor\n",
      "correct=female guess=neg prob=0.51 name=Gussi\n",
      "correct=female guess=neg prob=0.51 name=Gussy\n",
      "correct=female guess=neg prob=0.51 name=Gustie\n",
      "correct=female guess=neg prob=0.51 name=Gusty\n",
      "correct=female guess=neg prob=0.51 name=Gwendolin\n",
      "correct=female guess=neg prob=0.51 name=Gweneth\n",
      "correct=female guess=neg prob=0.51 name=Gwenette\n",
      "correct=female guess=neg prob=0.51 name=Gwenneth\n",
      "correct=female guess=neg prob=0.51 name=Gwenni\n",
      "correct=female guess=neg prob=0.51 name=Gwenny\n",
      "correct=female guess=neg prob=0.51 name=Gwenora\n",
      "correct=female guess=neg prob=0.51 name=Gwynne\n",
      "correct=female guess=neg prob=0.51 name=Gypsy\n",
      "correct=female guess=neg prob=0.51 name=Hadria\n",
      "correct=female guess=neg prob=0.51 name=Hailee\n",
      "correct=female guess=neg prob=0.51 name=Halette\n",
      "correct=female guess=neg prob=0.51 name=Hali\n",
      "correct=female guess=neg prob=0.51 name=Hannah\n",
      "correct=female guess=neg prob=0.51 name=Hannibal\n",
      "correct=female guess=neg prob=0.51 name=Hannis\n",
      "correct=female guess=neg prob=0.51 name=Harli\n",
      "correct=female guess=neg prob=0.51 name=Harmonie\n",
      "correct=female guess=neg prob=0.51 name=Harmony\n",
      "correct=female guess=neg prob=0.51 name=Harriot\n",
      "correct=female guess=neg prob=0.51 name=Harriott\n",
      "correct=female guess=neg prob=0.51 name=Hatti\n",
      "correct=female guess=neg prob=0.51 name=Hattie\n",
      "correct=female guess=neg prob=0.51 name=Hayley\n",
      "correct=female guess=neg prob=0.51 name=Heather\n",
      "correct=female guess=neg prob=0.51 name=Heida\n",
      "correct=female guess=neg prob=0.51 name=Heide\n",
      "correct=female guess=neg prob=0.51 name=Heidie\n",
      "correct=female guess=neg prob=0.51 name=Helen-Elizabeth\n",
      "correct=female guess=neg prob=0.51 name=Helena\n",
      "correct=female guess=neg prob=0.51 name=Helene\n",
      "correct=female guess=neg prob=0.51 name=Helise\n",
      "correct=female guess=neg prob=0.51 name=Heloise\n",
      "correct=female guess=neg prob=0.51 name=Helsa\n",
      "correct=female guess=neg prob=0.51 name=Henka\n",
      "correct=female guess=neg prob=0.51 name=Henrieta\n",
      "correct=female guess=neg prob=0.51 name=Henriette\n",
      "correct=female guess=neg prob=0.51 name=Hertha\n",
      "correct=female guess=neg prob=0.51 name=Hester\n",
      "correct=female guess=neg prob=0.51 name=Hestia\n",
      "correct=female guess=neg prob=0.51 name=Hetty\n",
      "correct=female guess=neg prob=0.51 name=Hilda\n",
      "correct=female guess=neg prob=0.51 name=Hilde\n",
      "correct=female guess=neg prob=0.51 name=Holley\n",
      "correct=female guess=neg prob=0.51 name=Holli\n",
      "correct=female guess=neg prob=0.51 name=Holly\n",
      "correct=female guess=neg prob=0.51 name=Holly-Anne\n",
      "correct=female guess=neg prob=0.51 name=Honey\n",
      "correct=female guess=neg prob=0.51 name=Hortense\n",
      "correct=female guess=neg prob=0.51 name=Hulda\n",
      "correct=female guess=neg prob=0.51 name=Hyacintha\n",
      "correct=female guess=neg prob=0.51 name=Ibbie\n",
      "correct=female guess=neg prob=0.51 name=Idalia\n",
      "correct=female guess=neg prob=0.51 name=Idalina\n",
      "correct=female guess=neg prob=0.51 name=Idelle\n",
      "correct=female guess=neg prob=0.51 name=Idette\n",
      "correct=female guess=neg prob=0.51 name=Ike\n",
      "correct=female guess=neg prob=0.51 name=Ileana\n",
      "correct=female guess=neg prob=0.51 name=Illa\n",
      "correct=female guess=neg prob=0.51 name=Ilona\n",
      "correct=female guess=neg prob=0.51 name=Ilsa\n",
      "correct=female guess=neg prob=0.51 name=Ilyse\n",
      "correct=female guess=neg prob=0.51 name=Ilyssa\n",
      "correct=female guess=neg prob=0.51 name=Imogene\n",
      "correct=female guess=neg prob=0.51 name=Imojean\n",
      "correct=female guess=neg prob=0.51 name=Ina\n",
      "correct=female guess=neg prob=0.51 name=Indira\n",
      "correct=female guess=neg prob=0.51 name=Inessa\n",
      "correct=female guess=neg prob=0.51 name=Ingaborg\n",
      "correct=female guess=neg prob=0.51 name=Ingeberg\n",
      "correct=female guess=neg prob=0.51 name=Ingeborg\n",
      "correct=female guess=neg prob=0.51 name=Inna\n",
      "correct=female guess=neg prob=0.51 name=Ioana\n",
      "correct=female guess=neg prob=0.51 name=Iona\n",
      "correct=female guess=neg prob=0.51 name=Irena\n",
      "correct=female guess=neg prob=0.51 name=Isabeau\n",
      "correct=female guess=neg prob=0.51 name=Isabelle\n",
      "correct=female guess=neg prob=0.51 name=Isahella\n",
      "correct=female guess=neg prob=0.51 name=Ivory\n",
      "correct=female guess=neg prob=0.51 name=Ivy\n",
      "correct=female guess=neg prob=0.51 name=Izzi\n",
      "correct=female guess=neg prob=0.51 name=Jacinda\n",
      "correct=female guess=neg prob=0.51 name=Jacki\n",
      "correct=female guess=neg prob=0.51 name=Jacklin\n",
      "correct=female guess=neg prob=0.51 name=Jacklyn\n",
      "correct=female guess=neg prob=0.51 name=Jackquelin\n",
      "correct=female guess=neg prob=0.51 name=Jacky\n",
      "correct=female guess=neg prob=0.51 name=Jaclyn\n",
      "correct=female guess=neg prob=0.51 name=Jacqueline\n",
      "correct=female guess=neg prob=0.51 name=Jacquelynn\n",
      "correct=female guess=neg prob=0.51 name=Jacquetta\n",
      "correct=female guess=neg prob=0.51 name=Jacqui\n",
      "correct=female guess=neg prob=0.51 name=Jada\n",
      "correct=female guess=neg prob=0.51 name=Jamie\n",
      "correct=female guess=neg prob=0.51 name=Jammie\n",
      "correct=female guess=neg prob=0.51 name=Jan\n",
      "correct=female guess=neg prob=0.51 name=Jane\n",
      "correct=female guess=neg prob=0.51 name=Janela\n",
      "correct=female guess=neg prob=0.51 name=Janetta\n",
      "correct=female guess=neg prob=0.51 name=Janette\n",
      "correct=female guess=neg prob=0.51 name=Janeva\n",
      "correct=female guess=neg prob=0.51 name=Janie\n",
      "correct=female guess=neg prob=0.51 name=Jannelle\n",
      "correct=female guess=neg prob=0.51 name=Jany\n",
      "correct=female guess=neg prob=0.51 name=Jaquelin\n",
      "correct=female guess=neg prob=0.51 name=Jaquenetta\n",
      "correct=female guess=neg prob=0.51 name=Jaquenette\n",
      "correct=female guess=neg prob=0.51 name=Jasmina\n",
      "correct=female guess=neg prob=0.51 name=Jayme\n",
      "correct=female guess=neg prob=0.51 name=Jean\n",
      "correct=female guess=neg prob=0.51 name=Jeana\n",
      "correct=female guess=neg prob=0.51 name=Jeane\n",
      "correct=female guess=neg prob=0.51 name=Jeanie\n",
      "correct=female guess=neg prob=0.51 name=Jeanne\n",
      "correct=female guess=neg prob=0.51 name=Jeannie\n",
      "correct=female guess=neg prob=0.51 name=Jeannine\n",
      "correct=female guess=neg prob=0.51 name=Jehanna\n",
      "correct=female guess=neg prob=0.51 name=Jemie\n",
      "correct=female guess=neg prob=0.51 name=Jemimah\n",
      "correct=female guess=neg prob=0.51 name=Jena\n",
      "correct=female guess=neg prob=0.51 name=Jenelle\n",
      "correct=female guess=neg prob=0.51 name=Jeni\n",
      "correct=female guess=neg prob=0.51 name=Jeniffer\n",
      "correct=female guess=neg prob=0.51 name=Jenilee\n",
      "correct=female guess=neg prob=0.51 name=Jennee\n",
      "correct=female guess=neg prob=0.51 name=Jennica\n",
      "correct=female guess=neg prob=0.51 name=Jennilee\n",
      "correct=female guess=neg prob=0.51 name=Jennine\n",
      "correct=female guess=neg prob=0.51 name=Jenny\n",
      "correct=female guess=neg prob=0.51 name=Jeri\n",
      "correct=female guess=neg prob=0.51 name=Jermaine\n",
      "correct=female guess=neg prob=0.51 name=Jerrilee\n",
      "correct=female guess=neg prob=0.51 name=Jerrilyn\n",
      "correct=female guess=neg prob=0.51 name=Jerrine\n",
      "correct=female guess=neg prob=0.51 name=Jess\n",
      "correct=female guess=neg prob=0.51 name=Jessamyn\n",
      "correct=female guess=neg prob=0.51 name=Jessika\n",
      "correct=female guess=neg prob=0.51 name=Jessy\n",
      "correct=female guess=neg prob=0.51 name=Jill\n",
      "correct=female guess=neg prob=0.51 name=Jillayne\n",
      "correct=female guess=neg prob=0.51 name=Jillene\n",
      "correct=female guess=neg prob=0.51 name=Jillian\n",
      "correct=female guess=neg prob=0.51 name=Jilly\n",
      "correct=female guess=neg prob=0.51 name=Jinny\n",
      "correct=female guess=neg prob=0.51 name=Jo Ann\n",
      "correct=female guess=neg prob=0.51 name=Jo-Anne\n",
      "correct=female guess=neg prob=0.51 name=JoAnn\n",
      "correct=female guess=neg prob=0.51 name=Joana\n",
      "correct=female guess=neg prob=0.51 name=Joann\n",
      "correct=female guess=neg prob=0.51 name=Joanne\n",
      "correct=female guess=neg prob=0.51 name=Joannes\n",
      "correct=female guess=neg prob=0.51 name=Jobey\n",
      "correct=female guess=neg prob=0.51 name=Joby\n",
      "correct=female guess=neg prob=0.51 name=Jobyna\n",
      "correct=female guess=neg prob=0.51 name=Jocelin\n",
      "correct=female guess=neg prob=0.51 name=Jocelyn\n",
      "correct=female guess=neg prob=0.51 name=Jocelyne\n",
      "correct=female guess=neg prob=0.51 name=Jodee\n",
      "correct=female guess=neg prob=0.51 name=Joella\n",
      "correct=female guess=neg prob=0.51 name=Joelle\n",
      "correct=female guess=neg prob=0.51 name=Joelynn\n",
      "correct=female guess=neg prob=0.51 name=Joli\n",
      "correct=female guess=neg prob=0.51 name=Jolynn\n",
      "correct=female guess=neg prob=0.51 name=Joni\n",
      "correct=female guess=neg prob=0.51 name=Jonie\n",
      "correct=female guess=neg prob=0.51 name=Jordana\n",
      "correct=female guess=neg prob=0.51 name=Jori\n",
      "correct=female guess=neg prob=0.51 name=Jorry\n",
      "correct=female guess=neg prob=0.51 name=Joscelin\n",
      "correct=female guess=neg prob=0.51 name=Josee\n",
      "correct=female guess=neg prob=0.51 name=Josefa\n",
      "correct=female guess=neg prob=0.51 name=Josefina\n",
      "correct=female guess=neg prob=0.51 name=Joselyn\n",
      "correct=female guess=neg prob=0.51 name=Josephina\n",
      "correct=female guess=neg prob=0.51 name=Josephine\n",
      "correct=female guess=neg prob=0.51 name=Josey\n",
      "correct=female guess=neg prob=0.51 name=Josselyn\n",
      "correct=female guess=neg prob=0.51 name=Joyann\n",
      "correct=female guess=neg prob=0.51 name=Joyce\n",
      "correct=female guess=neg prob=0.51 name=Juanita\n",
      "correct=female guess=neg prob=0.51 name=Jude\n",
      "correct=female guess=neg prob=0.51 name=Judi\n",
      "correct=female guess=neg prob=0.51 name=Judy\n",
      "correct=female guess=neg prob=0.51 name=Julee\n",
      "correct=female guess=neg prob=0.51 name=Juliana\n",
      "correct=female guess=neg prob=0.51 name=Juliane\n",
      "correct=female guess=neg prob=0.51 name=Julianna\n",
      "correct=female guess=neg prob=0.51 name=Julianne\n",
      "correct=female guess=neg prob=0.51 name=Juliet\n",
      "correct=female guess=neg prob=0.51 name=Juliette\n",
      "correct=female guess=neg prob=0.51 name=Julina\n",
      "correct=female guess=neg prob=0.51 name=Julissa\n",
      "correct=female guess=neg prob=0.51 name=Justin\n",
      "correct=female guess=neg prob=0.51 name=Justine\n",
      "correct=female guess=neg prob=0.51 name=Jyoti\n",
      "correct=female guess=neg prob=0.51 name=Kacy\n",
      "correct=female guess=neg prob=0.51 name=Kaila\n",
      "correct=female guess=neg prob=0.51 name=Kailey\n",
      "correct=female guess=neg prob=0.51 name=Kaitlyn\n",
      "correct=female guess=neg prob=0.51 name=Kakalina\n",
      "correct=female guess=neg prob=0.51 name=Kalina\n",
      "correct=female guess=neg prob=0.51 name=Kalli\n",
      "correct=female guess=neg prob=0.51 name=Kameko\n",
      "correct=female guess=neg prob=0.51 name=Kamila\n",
      "correct=female guess=neg prob=0.51 name=Kamilah\n",
      "correct=female guess=neg prob=0.51 name=Kamillah\n",
      "correct=female guess=neg prob=0.51 name=Kanya\n",
      "correct=female guess=neg prob=0.51 name=Kara-Lynn\n",
      "correct=female guess=neg prob=0.51 name=Kare\n",
      "correct=female guess=neg prob=0.51 name=Karen\n",
      "correct=female guess=neg prob=0.51 name=Karena\n",
      "correct=female guess=neg prob=0.51 name=Kari\n",
      "correct=female guess=neg prob=0.51 name=Karin\n",
      "correct=female guess=neg prob=0.51 name=Karissa\n",
      "correct=female guess=neg prob=0.51 name=Karita\n",
      "correct=female guess=neg prob=0.51 name=Karlie\n",
      "correct=female guess=neg prob=0.51 name=Karlotta\n",
      "correct=female guess=neg prob=0.51 name=Karlotte\n",
      "correct=female guess=neg prob=0.51 name=Karly\n",
      "correct=female guess=neg prob=0.51 name=Karlyn\n",
      "correct=female guess=neg prob=0.51 name=Karola\n",
      "correct=female guess=neg prob=0.51 name=Karolina\n",
      "correct=female guess=neg prob=0.51 name=Karoline\n",
      "correct=female guess=neg prob=0.51 name=Karoly\n",
      "correct=female guess=neg prob=0.51 name=Kary\n",
      "correct=female guess=neg prob=0.51 name=Karyl\n",
      "correct=female guess=neg prob=0.51 name=Kassey\n",
      "correct=female guess=neg prob=0.51 name=Kassia\n",
      "correct=female guess=neg prob=0.51 name=Kaster\n",
      "correct=female guess=neg prob=0.51 name=Kata\n",
      "correct=female guess=neg prob=0.51 name=Katerina\n",
      "correct=female guess=neg prob=0.51 name=Katerine\n",
      "correct=female guess=neg prob=0.51 name=Katey\n",
      "correct=female guess=neg prob=0.51 name=Katha\n",
      "correct=female guess=neg prob=0.51 name=Katharine\n",
      "correct=female guess=neg prob=0.51 name=Kathe\n",
      "correct=female guess=neg prob=0.51 name=Katheleen\n",
      "correct=female guess=neg prob=0.51 name=Katherina\n",
      "correct=female guess=neg prob=0.51 name=Katherine\n",
      "correct=female guess=neg prob=0.51 name=Kathie\n",
      "correct=female guess=neg prob=0.51 name=Kathleen\n",
      "correct=female guess=neg prob=0.51 name=Kathlene\n",
      "correct=female guess=neg prob=0.51 name=Kathrine\n",
      "correct=female guess=neg prob=0.51 name=Kathye\n",
      "correct=female guess=neg prob=0.51 name=Katinka\n",
      "correct=female guess=neg prob=0.51 name=Katlin\n",
      "correct=female guess=neg prob=0.51 name=Katrina\n",
      "correct=female guess=neg prob=0.51 name=Katrine\n",
      "correct=female guess=neg prob=0.51 name=Katuscha\n",
      "correct=female guess=neg prob=0.51 name=Katy\n",
      "correct=female guess=neg prob=0.51 name=Kaye\n",
      "correct=female guess=neg prob=0.51 name=Kayley\n",
      "correct=female guess=neg prob=0.51 name=Kaylyn\n",
      "correct=female guess=neg prob=0.51 name=Kee\n",
      "correct=female guess=neg prob=0.51 name=Keelia\n",
      "correct=female guess=neg prob=0.51 name=Kelila\n",
      "correct=female guess=neg prob=0.51 name=Kellen\n",
      "correct=female guess=neg prob=0.51 name=Kelsi\n",
      "correct=female guess=neg prob=0.51 name=Keren\n",
      "correct=female guess=neg prob=0.51 name=Keriann\n",
      "correct=female guess=neg prob=0.51 name=Kerrie\n",
      "correct=female guess=neg prob=0.51 name=Kerrill\n",
      "correct=female guess=neg prob=0.51 name=Kerrin\n",
      "correct=female guess=neg prob=0.51 name=Kesley\n",
      "correct=female guess=neg prob=0.51 name=Kessiah\n",
      "correct=female guess=neg prob=0.51 name=Kettie\n",
      "correct=female guess=neg prob=0.51 name=Ketty\n",
      "correct=female guess=neg prob=0.51 name=Kikelia\n",
      "correct=female guess=neg prob=0.51 name=Kiley\n",
      "correct=female guess=neg prob=0.51 name=Kim\n",
      "correct=female guess=neg prob=0.51 name=Kimberlee\n",
      "correct=female guess=neg prob=0.51 name=Kimbra\n",
      "correct=female guess=neg prob=0.51 name=Kimmi\n",
      "correct=female guess=neg prob=0.51 name=Kinna\n",
      "correct=female guess=neg prob=0.51 name=Kipp\n",
      "correct=female guess=neg prob=0.51 name=Kippy\n",
      "correct=female guess=neg prob=0.51 name=Kirbie\n",
      "correct=female guess=neg prob=0.51 name=Kirby\n",
      "correct=female guess=neg prob=0.51 name=Kirsten\n",
      "correct=female guess=neg prob=0.51 name=Kirstie\n",
      "correct=female guess=neg prob=0.51 name=Kirstin\n",
      "correct=female guess=neg prob=0.51 name=Kitty\n",
      "correct=female guess=neg prob=0.51 name=Koralle\n",
      "correct=female guess=neg prob=0.51 name=Kore\n",
      "correct=female guess=neg prob=0.51 name=Korella\n",
      "correct=female guess=neg prob=0.51 name=Korrie\n",
      "correct=female guess=neg prob=0.51 name=Krissie\n",
      "correct=female guess=neg prob=0.51 name=Krista\n",
      "correct=female guess=neg prob=0.51 name=Kristal\n",
      "correct=female guess=neg prob=0.51 name=Kristan\n",
      "correct=female guess=neg prob=0.51 name=Kristien\n",
      "correct=female guess=neg prob=0.51 name=Kristin\n",
      "correct=female guess=neg prob=0.51 name=Kristina\n",
      "correct=female guess=neg prob=0.51 name=Kristy\n",
      "correct=female guess=neg prob=0.51 name=Kyla\n",
      "correct=female guess=neg prob=0.51 name=Kyle\n",
      "correct=female guess=neg prob=0.51 name=Kylen\n",
      "correct=female guess=neg prob=0.51 name=Kylie\n",
      "correct=female guess=neg prob=0.51 name=Kym\n",
      "correct=female guess=neg prob=0.51 name=Lacie\n",
      "correct=female guess=neg prob=0.51 name=Lacy\n",
      "correct=female guess=neg prob=0.51 name=Lainey\n",
      "correct=female guess=neg prob=0.51 name=Lana\n",
      "correct=female guess=neg prob=0.51 name=Lanette\n",
      "correct=female guess=neg prob=0.51 name=Lani\n",
      "correct=female guess=neg prob=0.51 name=Lanie\n",
      "correct=female guess=neg prob=0.51 name=Lanita\n",
      "correct=female guess=neg prob=0.51 name=Lanny\n",
      "correct=female guess=neg prob=0.51 name=Larina\n",
      "correct=female guess=neg prob=0.51 name=Larisa\n",
      "correct=female guess=neg prob=0.51 name=Larissa\n",
      "correct=female guess=neg prob=0.51 name=Latrina\n",
      "correct=female guess=neg prob=0.51 name=Lauraine\n",
      "correct=female guess=neg prob=0.51 name=Lauralee\n",
      "correct=female guess=neg prob=0.51 name=Lauryn\n",
      "correct=female guess=neg prob=0.51 name=Laverne\n",
      "correct=female guess=neg prob=0.51 name=Layla\n",
      "correct=female guess=neg prob=0.51 name=Layney\n",
      "correct=female guess=neg prob=0.51 name=Leah\n",
      "correct=female guess=neg prob=0.51 name=Leanne\n",
      "correct=female guess=neg prob=0.51 name=Lebbie\n",
      "correct=female guess=neg prob=0.51 name=Leigha\n",
      "correct=female guess=neg prob=0.51 name=Leila\n",
      "correct=female guess=neg prob=0.51 name=Lelah\n",
      "correct=female guess=neg prob=0.51 name=Leland\n",
      "correct=female guess=neg prob=0.51 name=Lelia\n",
      "correct=female guess=neg prob=0.51 name=Lena\n",
      "correct=female guess=neg prob=0.51 name=Lenee\n",
      "correct=female guess=neg prob=0.51 name=Lenka\n",
      "correct=female guess=neg prob=0.51 name=Leodora\n",
      "correct=female guess=neg prob=0.51 name=Leoine\n",
      "correct=female guess=neg prob=0.51 name=Leola\n",
      "correct=female guess=neg prob=0.51 name=Leona\n",
      "correct=female guess=neg prob=0.51 name=Leonanie\n",
      "correct=female guess=neg prob=0.51 name=Leonore\n",
      "correct=female guess=neg prob=0.51 name=Leontyne\n",
      "correct=female guess=neg prob=0.51 name=Leora\n",
      "correct=female guess=neg prob=0.51 name=Leorah\n",
      "correct=female guess=neg prob=0.51 name=Leshia\n",
      "correct=female guess=neg prob=0.51 name=Lesli\n",
      "correct=female guess=neg prob=0.51 name=Lesya\n",
      "correct=female guess=neg prob=0.51 name=Leta\n",
      "correct=female guess=neg prob=0.51 name=Lethia\n",
      "correct=female guess=neg prob=0.51 name=Leticia\n",
      "correct=female guess=neg prob=0.51 name=Letta\n",
      "correct=female guess=neg prob=0.51 name=Lettie\n",
      "correct=female guess=neg prob=0.51 name=Leyla\n",
      "correct=female guess=neg prob=0.51 name=Liana\n",
      "correct=female guess=neg prob=0.51 name=Lianne\n",
      "correct=female guess=neg prob=0.51 name=Lib\n",
      "correct=female guess=neg prob=0.51 name=Lil\n",
      "correct=female guess=neg prob=0.51 name=Lilah\n",
      "correct=female guess=neg prob=0.51 name=Lilas\n",
      "correct=female guess=neg prob=0.51 name=Lilia\n",
      "correct=female guess=neg prob=0.51 name=Liliane\n",
      "correct=female guess=neg prob=0.51 name=Lilla\n",
      "correct=female guess=neg prob=0.51 name=Lillis\n",
      "correct=female guess=neg prob=0.51 name=Lily\n",
      "correct=female guess=neg prob=0.51 name=Lin\n",
      "correct=female guess=neg prob=0.51 name=Lina\n",
      "correct=female guess=neg prob=0.51 name=Lindie\n",
      "correct=female guess=neg prob=0.51 name=Lindsay\n",
      "correct=female guess=neg prob=0.51 name=Lindy\n",
      "correct=female guess=neg prob=0.51 name=Linea\n",
      "correct=female guess=neg prob=0.51 name=Linell\n",
      "correct=female guess=neg prob=0.51 name=Linet\n",
      "correct=female guess=neg prob=0.51 name=Linette\n",
      "correct=female guess=neg prob=0.51 name=Linnet\n",
      "correct=female guess=neg prob=0.51 name=Liorah\n",
      "correct=female guess=neg prob=0.51 name=Lisa\n",
      "correct=female guess=neg prob=0.51 name=Lisetta\n",
      "correct=female guess=neg prob=0.51 name=Lisette\n",
      "correct=female guess=neg prob=0.51 name=Lissi\n",
      "correct=female guess=neg prob=0.51 name=Lissy\n",
      "correct=female guess=neg prob=0.51 name=Lita\n",
      "correct=female guess=neg prob=0.51 name=Livia\n",
      "correct=female guess=neg prob=0.51 name=Lizabeth\n",
      "correct=female guess=neg prob=0.51 name=Lizbeth\n",
      "correct=female guess=neg prob=0.51 name=Lizzie\n",
      "correct=female guess=neg prob=0.51 name=Loella\n",
      "correct=female guess=neg prob=0.51 name=Lois\n",
      "correct=female guess=neg prob=0.51 name=Lolande\n",
      "correct=female guess=neg prob=0.51 name=Lolly\n",
      "correct=female guess=neg prob=0.51 name=Lona\n",
      "correct=female guess=neg prob=0.51 name=Lonnie\n",
      "correct=female guess=neg prob=0.51 name=Loraine\n",
      "correct=female guess=neg prob=0.51 name=Loralyn\n",
      "correct=female guess=neg prob=0.51 name=Lorelei\n",
      "correct=female guess=neg prob=0.51 name=Lorelle\n",
      "correct=female guess=neg prob=0.51 name=Loren\n",
      "correct=female guess=neg prob=0.51 name=Lorena\n",
      "correct=female guess=neg prob=0.51 name=Loria\n",
      "correct=female guess=neg prob=0.51 name=Lorianna\n",
      "correct=female guess=neg prob=0.51 name=Lorianne\n",
      "correct=female guess=neg prob=0.51 name=Lorie\n",
      "correct=female guess=neg prob=0.51 name=Lorilyn\n",
      "correct=female guess=neg prob=0.51 name=Lorinda\n",
      "correct=female guess=neg prob=0.51 name=Lorne\n",
      "correct=female guess=neg prob=0.51 name=Lorri\n",
      "correct=female guess=neg prob=0.51 name=Lorry\n",
      "correct=female guess=neg prob=0.51 name=Lotty\n",
      "correct=female guess=neg prob=0.51 name=Lucille\n",
      "correct=female guess=neg prob=0.51 name=Lucinda\n",
      "correct=female guess=neg prob=0.51 name=Lucretia\n",
      "correct=female guess=neg prob=0.51 name=Lucy\n",
      "correct=female guess=neg prob=0.51 name=Luisa\n",
      "correct=female guess=neg prob=0.51 name=Lulu\n",
      "correct=female guess=neg prob=0.51 name=Luna\n",
      "correct=female guess=neg prob=0.51 name=Lurline\n",
      "correct=female guess=neg prob=0.51 name=Lust\n",
      "correct=female guess=neg prob=0.51 name=Lyda\n",
      "correct=female guess=neg prob=0.51 name=Lydia\n",
      "correct=female guess=neg prob=0.51 name=Lyndel\n",
      "correct=female guess=neg prob=0.51 name=Lyndsay\n",
      "correct=female guess=neg prob=0.51 name=Lyndsie\n",
      "correct=female guess=neg prob=0.51 name=Lynea\n",
      "correct=female guess=neg prob=0.51 name=Lynn\n",
      "correct=female guess=neg prob=0.51 name=Lynnelle\n",
      "correct=female guess=neg prob=0.51 name=Lynnette\n",
      "correct=female guess=neg prob=0.51 name=Lynsey\n",
      "correct=female guess=neg prob=0.51 name=Lysandra\n",
      "correct=female guess=neg prob=0.51 name=Lyssa\n",
      "correct=female guess=neg prob=0.51 name=Mabelle\n",
      "correct=female guess=neg prob=0.51 name=Mada\n",
      "correct=female guess=neg prob=0.51 name=Madalena\n",
      "correct=female guess=neg prob=0.51 name=Madeleine\n",
      "correct=female guess=neg prob=0.51 name=Madelena\n",
      "correct=female guess=neg prob=0.51 name=Madeline\n",
      "correct=female guess=neg prob=0.51 name=Madelyn\n",
      "correct=female guess=neg prob=0.51 name=Madona\n",
      "correct=female guess=neg prob=0.51 name=Magdaia\n",
      "correct=female guess=neg prob=0.51 name=Magdalen\n",
      "correct=female guess=neg prob=0.51 name=Magdalene\n",
      "correct=female guess=neg prob=0.51 name=Maggi\n",
      "correct=female guess=neg prob=0.51 name=Maggy\n",
      "correct=female guess=neg prob=0.51 name=Mahalia\n",
      "correct=female guess=neg prob=0.51 name=Maisey\n",
      "correct=female guess=neg prob=0.51 name=Malanie\n",
      "correct=female guess=neg prob=0.51 name=Malina\n",
      "correct=female guess=neg prob=0.51 name=Malinda\n",
      "correct=female guess=neg prob=0.51 name=Malissa\n",
      "correct=female guess=neg prob=0.51 name=Malka\n",
      "correct=female guess=neg prob=0.51 name=Mallorie\n",
      "correct=female guess=neg prob=0.51 name=Mallory\n",
      "correct=female guess=neg prob=0.51 name=Malorie\n",
      "correct=female guess=neg prob=0.51 name=Malvina\n",
      "correct=female guess=neg prob=0.51 name=Malynda\n",
      "correct=female guess=neg prob=0.51 name=Mandie\n",
      "correct=female guess=neg prob=0.51 name=Marabel\n",
      "correct=female guess=neg prob=0.51 name=Marcelia\n",
      "correct=female guess=neg prob=0.51 name=Marcellina\n",
      "correct=female guess=neg prob=0.51 name=Marcile\n",
      "correct=female guess=neg prob=0.51 name=Marcille\n",
      "correct=female guess=neg prob=0.51 name=Marcy\n",
      "correct=female guess=neg prob=0.51 name=Mareah\n",
      "correct=female guess=neg prob=0.51 name=Marena\n",
      "correct=female guess=neg prob=0.51 name=Margaret\n",
      "correct=female guess=neg prob=0.51 name=Margarethe\n",
      "correct=female guess=neg prob=0.51 name=Margarette\n",
      "correct=female guess=neg prob=0.51 name=Marge\n",
      "correct=female guess=neg prob=0.51 name=Margeaux\n",
      "correct=female guess=neg prob=0.51 name=Margret\n",
      "correct=female guess=neg prob=0.51 name=Margy\n",
      "correct=female guess=neg prob=0.51 name=Maria\n",
      "correct=female guess=neg prob=0.51 name=Marianna\n",
      "correct=female guess=neg prob=0.51 name=Maribel\n",
      "correct=female guess=neg prob=0.51 name=Marice\n",
      "correct=female guess=neg prob=0.51 name=Maridel\n",
      "correct=female guess=neg prob=0.51 name=Marie\n",
      "correct=female guess=neg prob=0.51 name=Mariejeanne\n",
      "correct=female guess=neg prob=0.51 name=Mariele\n",
      "correct=female guess=neg prob=0.51 name=Marielle\n",
      "correct=female guess=neg prob=0.51 name=Marietta\n",
      "correct=female guess=neg prob=0.51 name=Mariette\n",
      "correct=female guess=neg prob=0.51 name=Marijo\n",
      "correct=female guess=neg prob=0.51 name=Marina\n",
      "correct=female guess=neg prob=0.51 name=Marit\n",
      "correct=female guess=neg prob=0.51 name=Marita\n",
      "correct=female guess=neg prob=0.51 name=Maritsa\n",
      "correct=female guess=neg prob=0.51 name=Mariya\n",
      "correct=female guess=neg prob=0.51 name=Marji\n",
      "correct=female guess=neg prob=0.51 name=Marjory\n",
      "correct=female guess=neg prob=0.51 name=Marla\n",
      "correct=female guess=neg prob=0.51 name=Marlane\n",
      "correct=female guess=neg prob=0.51 name=Marleen\n",
      "correct=female guess=neg prob=0.51 name=Marlie\n",
      "correct=female guess=neg prob=0.51 name=Marney\n",
      "correct=female guess=neg prob=0.51 name=Marnia\n",
      "correct=female guess=neg prob=0.51 name=Marnie\n",
      "correct=female guess=neg prob=0.51 name=Marquita\n",
      "correct=female guess=neg prob=0.51 name=Marris\n",
      "correct=female guess=neg prob=0.51 name=Marsiella\n",
      "correct=female guess=neg prob=0.51 name=Martelle\n",
      "correct=female guess=neg prob=0.51 name=Martguerita\n",
      "correct=female guess=neg prob=0.51 name=Maryanna\n",
      "correct=female guess=neg prob=0.51 name=Maryanne\n",
      "correct=female guess=neg prob=0.51 name=Maryjane\n",
      "correct=female guess=neg prob=0.51 name=Maryjo\n",
      "correct=female guess=neg prob=0.51 name=Maryl\n",
      "correct=female guess=neg prob=0.51 name=Marylee\n",
      "correct=female guess=neg prob=0.51 name=Marylinda\n",
      "correct=female guess=neg prob=0.51 name=Maryrose\n",
      "correct=female guess=neg prob=0.51 name=Marys\n",
      "correct=female guess=neg prob=0.51 name=Marysa\n",
      "correct=female guess=neg prob=0.51 name=Mathilda\n",
      "correct=female guess=neg prob=0.51 name=Matty\n",
      "correct=female guess=neg prob=0.51 name=Maude\n",
      "correct=female guess=neg prob=0.51 name=Maura\n",
      "correct=female guess=neg prob=0.51 name=Maure\n",
      "correct=female guess=neg prob=0.51 name=Maureen\n",
      "correct=female guess=neg prob=0.51 name=Maurise\n",
      "correct=female guess=neg prob=0.51 name=Maurita\n",
      "correct=female guess=neg prob=0.51 name=Max\n",
      "correct=female guess=neg prob=0.51 name=Maxie\n",
      "correct=female guess=neg prob=0.51 name=Maya\n",
      "correct=female guess=neg prob=0.51 name=Meagan\n",
      "correct=female guess=neg prob=0.51 name=Meaghan\n",
      "correct=female guess=neg prob=0.51 name=Mechelle\n",
      "correct=female guess=neg prob=0.51 name=Meg\n",
      "correct=female guess=neg prob=0.51 name=Meggy\n",
      "correct=female guess=neg prob=0.51 name=Meghan\n",
      "correct=female guess=neg prob=0.51 name=Meghann\n",
      "correct=female guess=neg prob=0.51 name=Mehetabel\n",
      "correct=female guess=neg prob=0.51 name=Mei\n",
      "correct=female guess=neg prob=0.51 name=Meira\n",
      "correct=female guess=neg prob=0.51 name=Mel\n",
      "correct=female guess=neg prob=0.51 name=Melania\n",
      "correct=female guess=neg prob=0.51 name=Melantha\n",
      "correct=female guess=neg prob=0.51 name=Melany\n",
      "correct=female guess=neg prob=0.51 name=Melessa\n",
      "correct=female guess=neg prob=0.51 name=Melicent\n",
      "correct=female guess=neg prob=0.51 name=Melinde\n",
      "correct=female guess=neg prob=0.51 name=Melisande\n",
      "correct=female guess=neg prob=0.51 name=Melisandra\n",
      "correct=female guess=neg prob=0.51 name=Melisenda\n",
      "correct=female guess=neg prob=0.51 name=Melisse\n",
      "correct=female guess=neg prob=0.51 name=Mella\n",
      "correct=female guess=neg prob=0.51 name=Melli\n",
      "correct=female guess=neg prob=0.51 name=Melloney\n",
      "correct=female guess=neg prob=0.51 name=Melly\n",
      "correct=female guess=neg prob=0.51 name=Melodee\n",
      "correct=female guess=neg prob=0.51 name=Melodie\n",
      "correct=female guess=neg prob=0.51 name=Melonie\n",
      "correct=female guess=neg prob=0.51 name=Mercie\n",
      "correct=female guess=neg prob=0.51 name=Mercy\n",
      "correct=female guess=neg prob=0.51 name=Meredith\n",
      "correct=female guess=neg prob=0.51 name=Meridel\n",
      "correct=female guess=neg prob=0.51 name=Meriel\n",
      "correct=female guess=neg prob=0.51 name=Merilyn\n",
      "correct=female guess=neg prob=0.51 name=Merl\n",
      "correct=female guess=neg prob=0.51 name=Merlina\n",
      "correct=female guess=neg prob=0.51 name=Merline\n",
      "correct=female guess=neg prob=0.51 name=Merna\n",
      "correct=female guess=neg prob=0.51 name=Merola\n",
      "correct=female guess=neg prob=0.51 name=Merridie\n",
      "correct=female guess=neg prob=0.51 name=Merrile\n",
      "correct=female guess=neg prob=0.51 name=Merrilee\n",
      "correct=female guess=neg prob=0.51 name=Merrili\n",
      "correct=female guess=neg prob=0.51 name=Merrill\n",
      "correct=female guess=neg prob=0.51 name=Meta\n",
      "correct=female guess=neg prob=0.51 name=Michaela\n",
      "correct=female guess=neg prob=0.51 name=Michaella\n",
      "correct=female guess=neg prob=0.51 name=Michele\n",
      "correct=female guess=neg prob=0.51 name=Michelina\n",
      "correct=female guess=neg prob=0.51 name=Michell\n",
      "correct=female guess=neg prob=0.51 name=Michelle\n",
      "correct=female guess=neg prob=0.51 name=Micky\n",
      "correct=female guess=neg prob=0.51 name=Midge\n",
      "correct=female guess=neg prob=0.51 name=Miguela\n",
      "correct=female guess=neg prob=0.51 name=Mikako\n",
      "correct=female guess=neg prob=0.51 name=Mildred\n",
      "correct=female guess=neg prob=0.51 name=Mimi\n",
      "correct=female guess=neg prob=0.51 name=Minda\n",
      "correct=female guess=neg prob=0.51 name=Minna\n",
      "correct=female guess=neg prob=0.51 name=Minta\n",
      "correct=female guess=neg prob=0.51 name=Miquela\n",
      "correct=female guess=neg prob=0.51 name=Mirabella\n",
      "correct=female guess=neg prob=0.51 name=Miranda\n",
      "correct=female guess=neg prob=0.51 name=Mirella\n",
      "correct=female guess=neg prob=0.51 name=Mirilla\n",
      "correct=female guess=neg prob=0.51 name=Mirna\n",
      "correct=female guess=neg prob=0.51 name=Misti\n",
      "correct=female guess=neg prob=0.51 name=Mitzi\n",
      "correct=female guess=neg prob=0.51 name=Modesty\n",
      "correct=female guess=neg prob=0.51 name=Moina\n",
      "correct=female guess=neg prob=0.51 name=Molli\n",
      "correct=female guess=neg prob=0.51 name=Mona\n",
      "correct=female guess=neg prob=0.51 name=Monika\n",
      "correct=female guess=neg prob=0.51 name=Mora\n",
      "correct=female guess=neg prob=0.51 name=Morena\n",
      "correct=female guess=neg prob=0.51 name=Morganne\n",
      "correct=female guess=neg prob=0.51 name=Morgen\n",
      "correct=female guess=neg prob=0.51 name=Moyna\n",
      "correct=female guess=neg prob=0.51 name=Moyra\n",
      "correct=female guess=neg prob=0.51 name=Mozelle\n",
      "correct=female guess=neg prob=0.51 name=Muffin\n",
      "correct=female guess=neg prob=0.51 name=Mufinella\n",
      "correct=female guess=neg prob=0.51 name=Myna\n",
      "correct=female guess=neg prob=0.51 name=Myra\n",
      "correct=female guess=neg prob=0.51 name=Myrah\n",
      "correct=female guess=neg prob=0.51 name=Myrilla\n",
      "correct=female guess=neg prob=0.51 name=Myrlene\n",
      "correct=female guess=neg prob=0.51 name=Myrtie\n",
      "correct=female guess=neg prob=0.51 name=Myrtle\n",
      "correct=female guess=neg prob=0.51 name=Nadean\n",
      "correct=female guess=neg prob=0.51 name=Nadeen\n",
      "correct=female guess=neg prob=0.51 name=Nady\n",
      "correct=female guess=neg prob=0.51 name=Nancee\n",
      "correct=female guess=neg prob=0.51 name=Nanci\n",
      "correct=female guess=neg prob=0.51 name=Nanete\n",
      "correct=female guess=neg prob=0.51 name=Nat\n",
      "correct=female guess=neg prob=0.51 name=Natala\n",
      "correct=female guess=neg prob=0.51 name=Natalie\n",
      "correct=female guess=neg prob=0.51 name=Natalina\n",
      "correct=female guess=neg prob=0.51 name=Nataline\n",
      "correct=female guess=neg prob=0.51 name=Nathalia\n",
      "correct=female guess=neg prob=0.51 name=Natka\n",
      "correct=female guess=neg prob=0.51 name=Neely\n",
      "correct=female guess=neg prob=0.51 name=Neile\n",
      "correct=female guess=neg prob=0.51 name=Nelly\n",
      "correct=female guess=neg prob=0.51 name=Nerta\n",
      "correct=female guess=neg prob=0.51 name=Nerte\n",
      "correct=female guess=neg prob=0.51 name=Nerti\n",
      "correct=female guess=neg prob=0.51 name=Nessie\n",
      "correct=female guess=neg prob=0.51 name=Nessy\n",
      "correct=female guess=neg prob=0.51 name=Netty\n",
      "correct=female guess=neg prob=0.51 name=Nevsa\n",
      "correct=female guess=neg prob=0.51 name=Nichol\n",
      "correct=female guess=neg prob=0.51 name=Nichole\n",
      "correct=female guess=neg prob=0.51 name=Nicole\n",
      "correct=female guess=neg prob=0.51 name=Nikki\n",
      "correct=female guess=neg prob=0.51 name=Nikoletta\n",
      "correct=female guess=neg prob=0.51 name=Nina\n",
      "correct=female guess=neg prob=0.51 name=Nisa\n",
      "correct=female guess=neg prob=0.51 name=Nisse\n",
      "correct=female guess=neg prob=0.51 name=Nissie\n",
      "correct=female guess=neg prob=0.51 name=Nissy\n",
      "correct=female guess=neg prob=0.51 name=Noel\n",
      "correct=female guess=neg prob=0.51 name=Noelani\n",
      "correct=female guess=neg prob=0.51 name=Noella\n",
      "correct=female guess=neg prob=0.51 name=Noelle\n",
      "correct=female guess=neg prob=0.51 name=Nollie\n",
      "correct=female guess=neg prob=0.51 name=Nonah\n",
      "correct=female guess=neg prob=0.51 name=Nonie\n",
      "correct=female guess=neg prob=0.51 name=Nonnah\n",
      "correct=female guess=neg prob=0.51 name=Noreen\n",
      "correct=female guess=neg prob=0.51 name=Norma\n",
      "correct=female guess=neg prob=0.51 name=Novelia\n",
      "correct=female guess=neg prob=0.51 name=Odelinda\n",
      "correct=female guess=neg prob=0.51 name=Odella\n",
      "correct=female guess=neg prob=0.51 name=Odetta\n",
      "correct=female guess=neg prob=0.51 name=Ofella\n",
      "correct=female guess=neg prob=0.51 name=Ola\n",
      "correct=female guess=neg prob=0.51 name=Olenka\n",
      "correct=female guess=neg prob=0.51 name=Olia\n",
      "correct=female guess=neg prob=0.51 name=Olivette\n",
      "correct=female guess=neg prob=0.51 name=Olivia\n",
      "correct=female guess=neg prob=0.51 name=Olivie\n",
      "correct=female guess=neg prob=0.51 name=Olly\n",
      "correct=female guess=neg prob=0.51 name=Olwen\n",
      "correct=female guess=neg prob=0.51 name=Olympie\n",
      "correct=female guess=neg prob=0.51 name=Ondrea\n",
      "correct=female guess=neg prob=0.51 name=Ophelia\n",
      "correct=female guess=neg prob=0.51 name=Oprah\n",
      "correct=female guess=neg prob=0.51 name=Ora\n",
      "correct=female guess=neg prob=0.51 name=Oralee\n",
      "correct=female guess=neg prob=0.51 name=Oralle\n",
      "correct=female guess=neg prob=0.51 name=Oriana\n",
      "correct=female guess=neg prob=0.51 name=Orsa\n",
      "correct=female guess=neg prob=0.51 name=Orsola\n",
      "correct=female guess=neg prob=0.51 name=Ortensia\n",
      "correct=female guess=neg prob=0.51 name=Othilia\n",
      "correct=female guess=neg prob=0.51 name=Page\n",
      "correct=female guess=neg prob=0.51 name=Pamella\n",
      "correct=female guess=neg prob=0.51 name=Pammie\n",
      "correct=female guess=neg prob=0.51 name=Pansie\n",
      "correct=female guess=neg prob=0.51 name=Paola\n",
      "correct=female guess=neg prob=0.51 name=Paolina\n",
      "correct=female guess=neg prob=0.51 name=Parwane\n",
      "correct=female guess=neg prob=0.51 name=Patience\n",
      "correct=female guess=neg prob=0.51 name=Patricia\n",
      "correct=female guess=neg prob=0.51 name=Patrizia\n",
      "correct=female guess=neg prob=0.51 name=Patsy\n",
      "correct=female guess=neg prob=0.51 name=Pattie\n",
      "correct=female guess=neg prob=0.51 name=Paula\n",
      "correct=female guess=neg prob=0.51 name=Paula-Grace\n",
      "correct=female guess=neg prob=0.51 name=Paulette\n",
      "correct=female guess=neg prob=0.51 name=Paulie\n",
      "correct=female guess=neg prob=0.51 name=Pauline\n",
      "correct=female guess=neg prob=0.51 name=Paulita\n",
      "correct=female guess=neg prob=0.51 name=Pauly\n",
      "correct=female guess=neg prob=0.51 name=Pegeen\n",
      "correct=female guess=neg prob=0.51 name=Peggy\n",
      "correct=female guess=neg prob=0.51 name=Pen\n",
      "correct=female guess=neg prob=0.51 name=Penelopa\n",
      "correct=female guess=neg prob=0.51 name=Pennie\n",
      "correct=female guess=neg prob=0.51 name=Pepi\n",
      "correct=female guess=neg prob=0.51 name=Pepita\n",
      "correct=female guess=neg prob=0.51 name=Peria\n",
      "correct=female guess=neg prob=0.51 name=Perla\n",
      "correct=female guess=neg prob=0.51 name=Perle\n",
      "correct=female guess=neg prob=0.51 name=Perry\n",
      "correct=female guess=neg prob=0.51 name=Pet\n",
      "correct=female guess=neg prob=0.51 name=Petra\n",
      "correct=female guess=neg prob=0.51 name=Petrina\n",
      "correct=female guess=neg prob=0.51 name=Petronella\n",
      "correct=female guess=neg prob=0.51 name=Phaidra\n",
      "correct=female guess=neg prob=0.51 name=Phedra\n",
      "correct=female guess=neg prob=0.51 name=Phelia\n",
      "correct=female guess=neg prob=0.51 name=Philipa\n",
      "correct=female guess=neg prob=0.51 name=Philippe\n",
      "correct=female guess=neg prob=0.51 name=Philippine\n",
      "correct=female guess=neg prob=0.51 name=Phillie\n",
      "correct=female guess=neg prob=0.51 name=Phoebe\n",
      "correct=female guess=neg prob=0.51 name=Phyllida\n",
      "correct=female guess=neg prob=0.51 name=Phylys\n",
      "correct=female guess=neg prob=0.51 name=Pippa\n",
      "correct=female guess=neg prob=0.51 name=Pippy\n",
      "correct=female guess=neg prob=0.51 name=Polly\n",
      "correct=female guess=neg prob=0.51 name=Pollyanna\n",
      "correct=female guess=neg prob=0.51 name=Pooh\n",
      "correct=female guess=neg prob=0.51 name=Poppy\n",
      "correct=female guess=neg prob=0.51 name=Pris\n",
      "correct=female guess=neg prob=0.51 name=Prissie\n",
      "correct=female guess=neg prob=0.51 name=Pru\n",
      "correct=female guess=neg prob=0.51 name=Prudence\n",
      "correct=female guess=neg prob=0.51 name=Prue\n",
      "correct=female guess=neg prob=0.51 name=Queada\n",
      "correct=female guess=neg prob=0.51 name=Queenie\n",
      "correct=female guess=neg prob=0.51 name=Quintana\n",
      "correct=female guess=neg prob=0.51 name=Quintina\n",
      "correct=female guess=neg prob=0.51 name=Rachael\n",
      "correct=female guess=neg prob=0.51 name=Rachele\n",
      "correct=female guess=neg prob=0.51 name=Rafaela\n",
      "correct=female guess=neg prob=0.51 name=Rafaelita\n",
      "correct=female guess=neg prob=0.51 name=Rahal\n",
      "correct=female guess=neg prob=0.51 name=Rahel\n",
      "correct=female guess=neg prob=0.51 name=Raine\n",
      "correct=female guess=neg prob=0.51 name=Ramona\n",
      "correct=female guess=neg prob=0.51 name=Ramonda\n",
      "correct=female guess=neg prob=0.51 name=Randene\n",
      "correct=female guess=neg prob=0.51 name=Randie\n",
      "correct=female guess=neg prob=0.51 name=Randy\n",
      "correct=female guess=neg prob=0.51 name=Ranee\n",
      "correct=female guess=neg prob=0.51 name=Rania\n",
      "correct=female guess=neg prob=0.51 name=Raquel\n",
      "correct=female guess=neg prob=0.51 name=Rasia\n",
      "correct=female guess=neg prob=0.51 name=Raven\n",
      "correct=female guess=neg prob=0.51 name=Raynell\n",
      "correct=female guess=neg prob=0.51 name=Rebeca\n",
      "correct=female guess=neg prob=0.51 name=Rebeka\n",
      "correct=female guess=neg prob=0.51 name=Ree\n",
      "correct=female guess=neg prob=0.51 name=Reeta\n",
      "correct=female guess=neg prob=0.51 name=Regine\n",
      "correct=female guess=neg prob=0.51 name=Reiko\n",
      "correct=female guess=neg prob=0.51 name=Reina\n",
      "correct=female guess=neg prob=0.51 name=Renata\n",
      "correct=female guess=neg prob=0.51 name=Rene\n",
      "correct=female guess=neg prob=0.51 name=Renel\n",
      "correct=female guess=neg prob=0.51 name=Renell\n",
      "correct=female guess=neg prob=0.51 name=Rennie\n",
      "correct=female guess=neg prob=0.51 name=Reta\n",
      "correct=female guess=neg prob=0.51 name=Rey\n",
      "correct=female guess=neg prob=0.51 name=Rhea\n",
      "correct=female guess=neg prob=0.51 name=Rhianna\n",
      "correct=female guess=neg prob=0.51 name=Rhianon\n",
      "correct=female guess=neg prob=0.51 name=Rhodie\n",
      "correct=female guess=neg prob=0.51 name=Rianon\n",
      "correct=female guess=neg prob=0.51 name=Rici\n",
      "correct=female guess=neg prob=0.51 name=Ricki\n",
      "correct=female guess=neg prob=0.51 name=Risa\n",
      "correct=female guess=neg prob=0.51 name=Rivkah\n",
      "correct=female guess=neg prob=0.51 name=Rivy\n",
      "correct=female guess=neg prob=0.51 name=Roana\n",
      "correct=female guess=neg prob=0.51 name=Robbie\n",
      "correct=female guess=neg prob=0.51 name=Robbin\n",
      "correct=female guess=neg prob=0.51 name=Roberta\n",
      "correct=female guess=neg prob=0.51 name=Robina\n",
      "correct=female guess=neg prob=0.51 name=Robinet\n",
      "correct=female guess=neg prob=0.51 name=Robinette\n",
      "correct=female guess=neg prob=0.51 name=Roby\n",
      "correct=female guess=neg prob=0.51 name=Rochell\n",
      "correct=female guess=neg prob=0.51 name=Rodina\n",
      "correct=female guess=neg prob=0.51 name=Romona\n",
      "correct=female guess=neg prob=0.51 name=Ronda\n",
      "correct=female guess=neg prob=0.51 name=Ronica\n",
      "correct=female guess=neg prob=0.51 name=Ronna\n",
      "correct=female guess=neg prob=0.51 name=Ronnica\n",
      "correct=female guess=neg prob=0.51 name=Ronny\n",
      "correct=female guess=neg prob=0.51 name=Rorie\n",
      "correct=female guess=neg prob=0.51 name=Rory\n",
      "correct=female guess=neg prob=0.51 name=Ros\n",
      "correct=female guess=neg prob=0.51 name=Rosabella\n",
      "correct=female guess=neg prob=0.51 name=Rosabelle\n",
      "correct=female guess=neg prob=0.51 name=Rosalinda\n",
      "correct=female guess=neg prob=0.51 name=Rosaline\n",
      "correct=female guess=neg prob=0.51 name=Rosanna\n",
      "correct=female guess=neg prob=0.51 name=Roseann\n",
      "correct=female guess=neg prob=0.51 name=Roseanna\n",
      "correct=female guess=neg prob=0.51 name=Roseanne\n",
      "correct=female guess=neg prob=0.51 name=Roselia\n",
      "correct=female guess=neg prob=0.51 name=Roselin\n",
      "correct=female guess=neg prob=0.51 name=Rosella\n",
      "correct=female guess=neg prob=0.51 name=Rosemary\n",
      "correct=female guess=neg prob=0.51 name=Rosemonde\n",
      "correct=female guess=neg prob=0.51 name=Rosetta\n",
      "correct=female guess=neg prob=0.51 name=Roshelle\n",
      "correct=female guess=neg prob=0.51 name=Rosie\n",
      "correct=female guess=neg prob=0.51 name=Rosina\n",
      "correct=female guess=neg prob=0.51 name=Roslyn\n",
      "correct=female guess=neg prob=0.51 name=Rowena\n",
      "correct=female guess=neg prob=0.51 name=Roxana\n",
      "correct=female guess=neg prob=0.51 name=Roxanne\n",
      "correct=female guess=neg prob=0.51 name=Roxi\n",
      "correct=female guess=neg prob=0.51 name=Roxie\n",
      "correct=female guess=neg prob=0.51 name=Rozalie\n",
      "correct=female guess=neg prob=0.51 name=Rozanna\n",
      "correct=female guess=neg prob=0.51 name=Rozele\n",
      "correct=female guess=neg prob=0.51 name=Rozella\n",
      "correct=female guess=neg prob=0.51 name=Rozina\n",
      "correct=female guess=neg prob=0.51 name=Rubia\n",
      "correct=female guess=neg prob=0.51 name=Ruby\n",
      "correct=female guess=neg prob=0.51 name=Ruperta\n",
      "correct=female guess=neg prob=0.51 name=Ruth\n",
      "correct=female guess=neg prob=0.51 name=Ruthi\n",
      "correct=female guess=neg prob=0.51 name=Ruthy\n",
      "correct=female guess=neg prob=0.51 name=Sacha\n",
      "correct=female guess=neg prob=0.51 name=Sadella\n",
      "correct=female guess=neg prob=0.51 name=Sadie\n",
      "correct=female guess=neg prob=0.51 name=Salli\n",
      "correct=female guess=neg prob=0.51 name=Samaria\n",
      "correct=female guess=neg prob=0.51 name=Sandi\n",
      "correct=female guess=neg prob=0.51 name=Sandy\n",
      "correct=female guess=neg prob=0.51 name=Sandye\n",
      "correct=female guess=neg prob=0.51 name=Sapphira\n",
      "correct=female guess=neg prob=0.51 name=Sarah\n",
      "correct=female guess=neg prob=0.51 name=Saree\n",
      "correct=female guess=neg prob=0.51 name=Sarena\n",
      "correct=female guess=neg prob=0.51 name=Sari\n",
      "correct=female guess=neg prob=0.51 name=Sarine\n",
      "correct=female guess=neg prob=0.51 name=Sascha\n",
      "correct=female guess=neg prob=0.51 name=Sasha\n",
      "correct=female guess=neg prob=0.51 name=Saudra\n",
      "correct=female guess=neg prob=0.51 name=Sayre\n",
      "correct=female guess=neg prob=0.51 name=Scotty\n",
      "correct=female guess=neg prob=0.51 name=Sean\n",
      "correct=female guess=neg prob=0.51 name=Secunda\n",
      "correct=female guess=neg prob=0.51 name=Seka\n",
      "correct=female guess=neg prob=0.51 name=Sela\n",
      "correct=female guess=neg prob=0.51 name=Selene\n",
      "correct=female guess=neg prob=0.51 name=Selinda\n",
      "correct=female guess=neg prob=0.51 name=Seline\n",
      "correct=female guess=neg prob=0.51 name=Sella\n",
      "correct=female guess=neg prob=0.51 name=Selle\n",
      "correct=female guess=neg prob=0.51 name=Sephira\n",
      "correct=female guess=neg prob=0.51 name=Serena\n",
      "correct=female guess=neg prob=0.51 name=Shaina\n",
      "correct=female guess=neg prob=0.51 name=Shamit\n",
      "correct=female guess=neg prob=0.51 name=Shanda\n",
      "correct=female guess=neg prob=0.51 name=Shandy\n",
      "correct=female guess=neg prob=0.51 name=Shani\n",
      "correct=female guess=neg prob=0.51 name=Shannon\n",
      "correct=female guess=neg prob=0.51 name=Shanon\n",
      "correct=female guess=neg prob=0.51 name=Shanta\n",
      "correct=female guess=neg prob=0.51 name=Shantee\n",
      "correct=female guess=neg prob=0.51 name=Sharie\n",
      "correct=female guess=neg prob=0.51 name=Sharl\n",
      "correct=female guess=neg prob=0.51 name=Sharleen\n",
      "correct=female guess=neg prob=0.51 name=Sharlene\n",
      "correct=female guess=neg prob=0.51 name=Sharra\n",
      "correct=female guess=neg prob=0.51 name=Sharyl\n",
      "correct=female guess=neg prob=0.51 name=Shaun\n",
      "correct=female guess=neg prob=0.51 name=Shauna\n",
      "correct=female guess=neg prob=0.51 name=Shawna\n",
      "correct=female guess=neg prob=0.51 name=Shayla\n",
      "correct=female guess=neg prob=0.51 name=Shaylynn\n",
      "correct=female guess=neg prob=0.51 name=Shayne\n",
      "correct=female guess=neg prob=0.51 name=Sheila-Kathryn\n",
      "correct=female guess=neg prob=0.51 name=Shelba\n",
      "correct=female guess=neg prob=0.51 name=Shelbi\n",
      "correct=female guess=neg prob=0.51 name=Shell\n",
      "correct=female guess=neg prob=0.51 name=Shelley\n",
      "correct=female guess=neg prob=0.51 name=Shellie\n",
      "correct=female guess=neg prob=0.51 name=Sheree\n",
      "correct=female guess=neg prob=0.51 name=Sheril\n",
      "correct=female guess=neg prob=0.51 name=Sherilyn\n",
      "correct=female guess=neg prob=0.51 name=Sherrie\n",
      "correct=female guess=neg prob=0.51 name=Shina\n",
      "correct=female guess=neg prob=0.51 name=Shir\n",
      "correct=female guess=neg prob=0.51 name=Shirah\n",
      "correct=female guess=neg prob=0.51 name=Shirl\n",
      "correct=female guess=neg prob=0.51 name=Shoshana\n",
      "correct=female guess=neg prob=0.51 name=Shoshanna\n",
      "correct=female guess=neg prob=0.51 name=Siana\n",
      "correct=female guess=neg prob=0.51 name=Sianna\n",
      "correct=female guess=neg prob=0.51 name=Sib\n",
      "correct=female guess=neg prob=0.51 name=Sibeal\n",
      "correct=female guess=neg prob=0.51 name=Sibella\n",
      "correct=female guess=neg prob=0.51 name=Sibelle\n",
      "correct=female guess=neg prob=0.51 name=Sibilla\n",
      "correct=female guess=neg prob=0.51 name=Sidonnie\n",
      "correct=female guess=neg prob=0.51 name=Sile\n",
      "correct=female guess=neg prob=0.51 name=Sileas\n",
      "correct=female guess=neg prob=0.51 name=Silva\n",
      "correct=female guess=neg prob=0.51 name=Silvia\n",
      "correct=female guess=neg prob=0.51 name=Silvie\n",
      "correct=female guess=neg prob=0.51 name=Simone\n",
      "correct=female guess=neg prob=0.51 name=Siobhan\n",
      "correct=female guess=neg prob=0.51 name=Sioux\n",
      "correct=female guess=neg prob=0.51 name=Sissy\n",
      "correct=female guess=neg prob=0.51 name=Solange\n",
      "correct=female guess=neg prob=0.51 name=Sondra\n",
      "correct=female guess=neg prob=0.51 name=Sonnie\n",
      "correct=female guess=neg prob=0.51 name=Sophronia\n",
      "correct=female guess=neg prob=0.51 name=Sorcha\n",
      "correct=female guess=neg prob=0.51 name=Stace\n",
      "correct=female guess=neg prob=0.51 name=Stacee\n",
      "correct=female guess=neg prob=0.51 name=Stacey\n",
      "correct=female guess=neg prob=0.51 name=Staci\n",
      "correct=female guess=neg prob=0.51 name=Stafani\n",
      "correct=female guess=neg prob=0.51 name=Starla\n",
      "correct=female guess=neg prob=0.51 name=Starr\n",
      "correct=female guess=neg prob=0.51 name=Stefania\n",
      "correct=female guess=neg prob=0.51 name=Stefanie\n",
      "correct=female guess=neg prob=0.51 name=Stephana\n",
      "correct=female guess=neg prob=0.51 name=Stephannie\n",
      "correct=female guess=neg prob=0.51 name=Stephenie\n",
      "correct=female guess=neg prob=0.51 name=Stephi\n",
      "correct=female guess=neg prob=0.51 name=Stephine\n",
      "correct=female guess=neg prob=0.51 name=Storm\n",
      "correct=female guess=neg prob=0.51 name=Stormie\n",
      "correct=female guess=neg prob=0.51 name=Sue-elle\n",
      "correct=female guess=neg prob=0.51 name=Sula\n",
      "correct=female guess=neg prob=0.51 name=Susan\n",
      "correct=female guess=neg prob=0.51 name=Susana\n",
      "correct=female guess=neg prob=0.51 name=Susann\n",
      "correct=female guess=neg prob=0.51 name=Susanna\n",
      "correct=female guess=neg prob=0.51 name=Susanne\n",
      "correct=female guess=neg prob=0.51 name=Susette\n",
      "correct=female guess=neg prob=0.51 name=Sussi\n",
      "correct=female guess=neg prob=0.51 name=Suzanna\n",
      "correct=female guess=neg prob=0.51 name=Suzette\n",
      "correct=female guess=neg prob=0.51 name=Suzzy\n",
      "correct=female guess=neg prob=0.51 name=Sybil\n",
      "correct=female guess=neg prob=0.51 name=Sybila\n",
      "correct=female guess=neg prob=0.51 name=Sybilla\n",
      "correct=female guess=neg prob=0.51 name=Sybille\n",
      "correct=female guess=neg prob=0.51 name=Sydelle\n",
      "correct=female guess=neg prob=0.51 name=Sydney\n",
      "correct=female guess=neg prob=0.51 name=Tabbatha\n",
      "correct=female guess=neg prob=0.51 name=Tabbi\n",
      "correct=female guess=neg prob=0.51 name=Tabby\n",
      "correct=female guess=neg prob=0.51 name=Taffy\n",
      "correct=female guess=neg prob=0.51 name=Talya\n",
      "correct=female guess=neg prob=0.51 name=Tamarah\n",
      "correct=female guess=neg prob=0.51 name=Tamma\n",
      "correct=female guess=neg prob=0.51 name=Tammara\n",
      "correct=female guess=neg prob=0.51 name=Tammi\n",
      "correct=female guess=neg prob=0.51 name=Tammy\n",
      "correct=female guess=neg prob=0.51 name=Tamra\n",
      "correct=female guess=neg prob=0.51 name=Tandie\n",
      "correct=female guess=neg prob=0.51 name=Tandy\n",
      "correct=female guess=neg prob=0.51 name=Tani\n",
      "correct=female guess=neg prob=0.51 name=Tanya\n",
      "correct=female guess=neg prob=0.51 name=Tarra\n",
      "correct=female guess=neg prob=0.51 name=Tasha\n",
      "correct=female guess=neg prob=0.51 name=Tasia\n",
      "correct=female guess=neg prob=0.51 name=Tatiana\n",
      "correct=female guess=neg prob=0.51 name=Tatum\n",
      "correct=female guess=neg prob=0.51 name=Teddi\n",
      "correct=female guess=neg prob=0.51 name=Teodora\n",
      "correct=female guess=neg prob=0.51 name=Terese\n",
      "correct=female guess=neg prob=0.51 name=Terra\n",
      "correct=female guess=neg prob=0.51 name=Terrie\n",
      "correct=female guess=neg prob=0.51 name=Tersina\n",
      "correct=female guess=neg prob=0.51 name=Terza\n",
      "correct=female guess=neg prob=0.51 name=Thalia\n",
      "correct=female guess=neg prob=0.51 name=Theada\n",
      "correct=female guess=neg prob=0.51 name=Thekla\n",
      "correct=female guess=neg prob=0.51 name=Thelma\n",
      "correct=female guess=neg prob=0.51 name=Theodora\n",
      "correct=female guess=neg prob=0.51 name=Theodosia\n",
      "correct=female guess=neg prob=0.51 name=Theresita\n",
      "correct=female guess=neg prob=0.51 name=Theressa\n",
      "correct=female guess=neg prob=0.51 name=Thomasin\n",
      "correct=female guess=neg prob=0.51 name=Tia\n",
      "correct=female guess=neg prob=0.51 name=Tiertza\n",
      "correct=female guess=neg prob=0.51 name=Tiff\n",
      "correct=female guess=neg prob=0.51 name=Tilda\n",
      "correct=female guess=neg prob=0.51 name=Tim\n",
      "correct=female guess=neg prob=0.51 name=Timi\n",
      "correct=female guess=neg prob=0.51 name=Tiphani\n",
      "correct=female guess=neg prob=0.51 name=Tobe\n",
      "correct=female guess=neg prob=0.51 name=Tobye\n",
      "correct=female guess=neg prob=0.51 name=Tomasina\n",
      "correct=female guess=neg prob=0.51 name=Tomasine\n",
      "correct=female guess=neg prob=0.51 name=Tonie\n",
      "correct=female guess=neg prob=0.51 name=Tony\n",
      "correct=female guess=neg prob=0.51 name=Tootsie\n",
      "correct=female guess=neg prob=0.51 name=Torrie\n",
      "correct=female guess=neg prob=0.51 name=Tracie\n",
      "correct=female guess=neg prob=0.51 name=Trescha\n",
      "correct=female guess=neg prob=0.51 name=Trix\n",
      "correct=female guess=neg prob=0.51 name=Truda\n",
      "correct=female guess=neg prob=0.51 name=Trudey\n",
      "correct=female guess=neg prob=0.51 name=Trudy\n",
      "correct=female guess=neg prob=0.51 name=Tuesday\n",
      "correct=female guess=neg prob=0.51 name=Tybie\n",
      "correct=female guess=neg prob=0.51 name=Ula\n",
      "correct=female guess=neg prob=0.51 name=Ulrica\n",
      "correct=female guess=neg prob=0.51 name=Ulrike\n",
      "correct=female guess=neg prob=0.51 name=Ursala\n",
      "correct=female guess=neg prob=0.51 name=Ursola\n",
      "correct=female guess=neg prob=0.51 name=Val\n",
      "correct=female guess=neg prob=0.51 name=Valencia\n",
      "correct=female guess=neg prob=0.51 name=Valerie\n",
      "correct=female guess=neg prob=0.51 name=Valery\n",
      "correct=female guess=neg prob=0.51 name=Valerye\n",
      "correct=female guess=neg prob=0.51 name=Valli\n",
      "correct=female guess=neg prob=0.51 name=Vallie\n",
      "correct=female guess=neg prob=0.51 name=Valma\n",
      "correct=female guess=neg prob=0.51 name=Van\n",
      "correct=female guess=neg prob=0.51 name=Vanessa\n",
      "correct=female guess=neg prob=0.51 name=Vanni\n",
      "correct=female guess=neg prob=0.51 name=Vanny\n",
      "correct=female guess=neg prob=0.51 name=Veda\n",
      "correct=female guess=neg prob=0.51 name=Vena\n",
      "correct=female guess=neg prob=0.51 name=Venita\n",
      "correct=female guess=neg prob=0.51 name=Ventura\n",
      "correct=female guess=neg prob=0.51 name=Venus\n",
      "correct=female guess=neg prob=0.51 name=Vera\n",
      "correct=female guess=neg prob=0.51 name=Vere\n",
      "correct=female guess=neg prob=0.51 name=Verena\n",
      "correct=female guess=neg prob=0.51 name=Verina\n",
      "correct=female guess=neg prob=0.51 name=Verine\n",
      "correct=female guess=neg prob=0.51 name=Verna\n",
      "correct=female guess=neg prob=0.51 name=Veronica\n",
      "correct=female guess=neg prob=0.51 name=Veronike\n",
      "correct=female guess=neg prob=0.51 name=Vi\n",
      "correct=female guess=neg prob=0.51 name=Vicki\n",
      "correct=female guess=neg prob=0.51 name=Vickie\n",
      "correct=female guess=neg prob=0.51 name=Vicky\n",
      "correct=female guess=neg prob=0.51 name=Viki\n",
      "correct=female guess=neg prob=0.51 name=Vikki\n",
      "correct=female guess=neg prob=0.51 name=Vikky\n",
      "correct=female guess=neg prob=0.51 name=Vilhelmina\n",
      "correct=female guess=neg prob=0.51 name=Vin\n",
      "correct=female guess=neg prob=0.51 name=Vinnie\n",
      "correct=female guess=neg prob=0.51 name=Vinny\n",
      "correct=female guess=neg prob=0.51 name=Viole\n",
      "correct=female guess=neg prob=0.51 name=Violetta\n",
      "correct=female guess=neg prob=0.51 name=Violette\n",
      "correct=female guess=neg prob=0.51 name=Virgie\n",
      "correct=female guess=neg prob=0.51 name=Vita\n",
      "correct=female guess=neg prob=0.51 name=Viva\n",
      "correct=female guess=neg prob=0.51 name=Viviana\n",
      "correct=female guess=neg prob=0.51 name=Vivien\n",
      "correct=female guess=neg prob=0.51 name=Vivyan\n",
      "correct=female guess=neg prob=0.51 name=Waly\n",
      "correct=female guess=neg prob=0.51 name=Waneta\n",
      "correct=female guess=neg prob=0.51 name=Wendi\n",
      "correct=female guess=neg prob=0.51 name=Wendy\n",
      "correct=female guess=neg prob=0.51 name=Whitney\n",
      "correct=female guess=neg prob=0.51 name=Wilhelmina\n",
      "correct=female guess=neg prob=0.51 name=Wilhelmine\n",
      "correct=female guess=neg prob=0.51 name=Wilie\n",
      "correct=female guess=neg prob=0.51 name=Willa\n",
      "correct=female guess=neg prob=0.51 name=Willabella\n",
      "correct=female guess=neg prob=0.51 name=Willamina\n",
      "correct=female guess=neg prob=0.51 name=Willette\n",
      "correct=female guess=neg prob=0.51 name=Willie\n",
      "correct=female guess=neg prob=0.51 name=Willow\n",
      "correct=female guess=neg prob=0.51 name=Willy\n",
      "correct=female guess=neg prob=0.51 name=Wilona\n",
      "correct=female guess=neg prob=0.51 name=Windy\n",
      "correct=female guess=neg prob=0.51 name=Winifred\n",
      "correct=female guess=neg prob=0.51 name=Winna\n",
      "correct=female guess=neg prob=0.51 name=Winnah\n",
      "correct=female guess=neg prob=0.51 name=Winnifred\n",
      "correct=female guess=neg prob=0.51 name=Winny\n",
      "correct=female guess=neg prob=0.51 name=Wren\n",
      "correct=female guess=neg prob=0.51 name=Wynnie\n",
      "correct=female guess=neg prob=0.51 name=Xylia\n",
      "correct=female guess=neg prob=0.51 name=Yettie\n",
      "correct=female guess=neg prob=0.51 name=Yetty\n",
      "correct=female guess=neg prob=0.51 name=Yevette\n",
      "correct=female guess=neg prob=0.51 name=Yoko\n",
      "correct=female guess=neg prob=0.51 name=Yolanda\n",
      "correct=female guess=neg prob=0.51 name=Yolande\n",
      "correct=female guess=neg prob=0.51 name=Yolanthe\n",
      "correct=female guess=neg prob=0.51 name=Yonina\n",
      "correct=female guess=neg prob=0.51 name=Yoshi\n",
      "correct=female guess=neg prob=0.51 name=Yoshiko\n",
      "correct=female guess=neg prob=0.51 name=Zabrina\n",
      "correct=female guess=neg prob=0.51 name=Zarah\n",
      "correct=female guess=neg prob=0.51 name=Zelda\n",
      "correct=female guess=neg prob=0.51 name=Zena\n",
      "correct=female guess=neg prob=0.51 name=Zenia\n",
      "correct=female guess=neg prob=0.51 name=Zilvia\n",
      "correct=female guess=neg prob=0.51 name=Zoe\n",
      "correct=female guess=neg prob=0.51 name=Zola\n",
      "correct=female guess=neg prob=0.51 name=Zorah\n",
      "correct=female guess=neg prob=0.51 name=Zorana\n",
      "correct=female guess=neg prob=0.51 name=Zorina\n",
      "correct=female guess=neg prob=0.51 name=Zsa Zsa\n",
      "correct=female guess=neg prob=0.51 name=Zulema\n",
      "correct=female guess=neg prob=0.51 name=Zuzana\n",
      "correct=male guess=neg prob=0.51 name=Aaron\n",
      "correct=male guess=neg prob=0.51 name=Abbie\n",
      "correct=male guess=neg prob=0.51 name=Abdel\n",
      "correct=male guess=neg prob=0.51 name=Abdul\n",
      "correct=male guess=neg prob=0.51 name=Abdulkarim\n",
      "correct=male guess=neg prob=0.51 name=Abner\n",
      "correct=male guess=neg prob=0.51 name=Abram\n",
      "correct=male guess=neg prob=0.51 name=Adams\n",
      "correct=male guess=neg prob=0.51 name=Adolf\n",
      "correct=male guess=neg prob=0.51 name=Adolfo\n",
      "correct=male guess=neg prob=0.51 name=Adolpho\n",
      "correct=male guess=neg prob=0.51 name=Adrian\n",
      "correct=male guess=neg prob=0.51 name=Adrick\n",
      "correct=male guess=neg prob=0.51 name=Aguinaldo\n",
      "correct=male guess=neg prob=0.51 name=Aguste\n",
      "correct=male guess=neg prob=0.51 name=Ahmet\n",
      "correct=male guess=neg prob=0.51 name=Alaa\n",
      "correct=male guess=neg prob=0.51 name=Albatros\n",
      "correct=male guess=neg prob=0.51 name=Albert\n",
      "correct=male guess=neg prob=0.51 name=Alberto\n",
      "correct=male guess=neg prob=0.51 name=Alden\n",
      "correct=male guess=neg prob=0.51 name=Aldo\n",
      "correct=male guess=neg prob=0.51 name=Aldrich\n",
      "correct=male guess=neg prob=0.51 name=Aldus\n",
      "correct=male guess=neg prob=0.51 name=Alec\n",
      "correct=male guess=neg prob=0.51 name=Aleck\n",
      "correct=male guess=neg prob=0.51 name=Aleksandrs\n",
      "correct=male guess=neg prob=0.51 name=Alexander\n",
      "correct=male guess=neg prob=0.51 name=Alexis\n",
      "correct=male guess=neg prob=0.51 name=Alfred\n",
      "correct=male guess=neg prob=0.51 name=Ali\n",
      "correct=male guess=neg prob=0.51 name=Alic\n",
      "correct=male guess=neg prob=0.51 name=Alix\n",
      "correct=male guess=neg prob=0.51 name=Alley\n",
      "correct=male guess=neg prob=0.51 name=Allie\n",
      "correct=male guess=neg prob=0.51 name=Alonso\n",
      "correct=male guess=neg prob=0.51 name=Alvin\n",
      "correct=male guess=neg prob=0.51 name=Amadeus\n",
      "correct=male guess=neg prob=0.51 name=Ambros\n",
      "correct=male guess=neg prob=0.51 name=Amory\n",
      "correct=male guess=neg prob=0.51 name=Amos\n",
      "correct=male guess=neg prob=0.51 name=Anatole\n",
      "correct=male guess=neg prob=0.51 name=Anders\n",
      "correct=male guess=neg prob=0.51 name=Andre\n",
      "correct=male guess=neg prob=0.51 name=Andrea\n",
      "correct=male guess=neg prob=0.51 name=Andreas\n",
      "correct=male guess=neg prob=0.51 name=Andres\n",
      "correct=male guess=neg prob=0.51 name=Andrew\n",
      "correct=male guess=neg prob=0.51 name=Andri\n",
      "correct=male guess=neg prob=0.51 name=Andros\n",
      "correct=male guess=neg prob=0.51 name=Andrzej\n",
      "correct=male guess=neg prob=0.51 name=Anselm\n",
      "correct=male guess=neg prob=0.51 name=Antoine\n",
      "correct=male guess=neg prob=0.51 name=Antone\n",
      "correct=male guess=neg prob=0.51 name=Antoni\n",
      "correct=male guess=neg prob=0.51 name=Antonino\n",
      "correct=male guess=neg prob=0.51 name=Anurag\n",
      "correct=male guess=neg prob=0.51 name=Apostolos\n",
      "correct=male guess=neg prob=0.51 name=Aram\n",
      "correct=male guess=neg prob=0.51 name=Archibald\n",
      "correct=male guess=neg prob=0.51 name=Archie\n",
      "correct=male guess=neg prob=0.51 name=Archon\n",
      "correct=male guess=neg prob=0.51 name=Arie\n",
      "correct=male guess=neg prob=0.51 name=Arron\n",
      "correct=male guess=neg prob=0.51 name=Arthur\n",
      "correct=male guess=neg prob=0.51 name=Arvin\n",
      "correct=male guess=neg prob=0.51 name=Arvy\n",
      "correct=male guess=neg prob=0.51 name=Ashby\n",
      "correct=male guess=neg prob=0.51 name=Ashley\n",
      "correct=male guess=neg prob=0.51 name=Aubert\n",
      "correct=male guess=neg prob=0.51 name=Augustin\n",
      "correct=male guess=neg prob=0.51 name=Austen\n",
      "correct=male guess=neg prob=0.51 name=Ave\n",
      "correct=male guess=neg prob=0.51 name=Avery\n",
      "correct=male guess=neg prob=0.51 name=Bailey\n",
      "correct=male guess=neg prob=0.51 name=Baily\n",
      "correct=male guess=neg prob=0.51 name=Baldwin\n",
      "correct=male guess=neg prob=0.51 name=Barclay\n",
      "correct=male guess=neg prob=0.51 name=Bard\n",
      "correct=male guess=neg prob=0.51 name=Barn\n",
      "correct=male guess=neg prob=0.51 name=Barnaby\n",
      "correct=male guess=neg prob=0.51 name=Barnard\n",
      "correct=male guess=neg prob=0.51 name=Barnebas\n",
      "correct=male guess=neg prob=0.51 name=Barney\n",
      "correct=male guess=neg prob=0.51 name=Barnie\n",
      "correct=male guess=neg prob=0.51 name=Barny\n",
      "correct=male guess=neg prob=0.51 name=Baron\n",
      "correct=male guess=neg prob=0.51 name=Barr\n",
      "correct=male guess=neg prob=0.51 name=Barret\n",
      "correct=male guess=neg prob=0.51 name=Barri\n",
      "correct=male guess=neg prob=0.51 name=Bart\n",
      "correct=male guess=neg prob=0.51 name=Barthel\n",
      "correct=male guess=neg prob=0.51 name=Bartlet\n",
      "correct=male guess=neg prob=0.51 name=Barton\n",
      "correct=male guess=neg prob=0.51 name=Bay\n",
      "correct=male guess=neg prob=0.51 name=Beale\n",
      "correct=male guess=neg prob=0.51 name=Bear\n",
      "correct=male guess=neg prob=0.51 name=Bearnard\n",
      "correct=male guess=neg prob=0.51 name=Beau\n",
      "correct=male guess=neg prob=0.51 name=Beaufort\n",
      "correct=male guess=neg prob=0.51 name=Beck\n",
      "correct=male guess=neg prob=0.51 name=Bela\n",
      "correct=male guess=neg prob=0.51 name=Benito\n",
      "correct=male guess=neg prob=0.51 name=Benji\n",
      "correct=male guess=neg prob=0.51 name=Benjie\n",
      "correct=male guess=neg prob=0.51 name=Bennet\n",
      "correct=male guess=neg prob=0.51 name=Benny\n",
      "correct=male guess=neg prob=0.51 name=Berke\n",
      "correct=male guess=neg prob=0.51 name=Bernardo\n",
      "correct=male guess=neg prob=0.51 name=Bernd\n",
      "correct=male guess=neg prob=0.51 name=Bernhard\n",
      "correct=male guess=neg prob=0.51 name=Bert\n",
      "correct=male guess=neg prob=0.51 name=Billie\n",
      "correct=male guess=neg prob=0.51 name=Bing\n",
      "correct=male guess=neg prob=0.51 name=Bjorne\n",
      "correct=male guess=neg prob=0.51 name=Bo\n",
      "correct=male guess=neg prob=0.51 name=Bobbie\n",
      "correct=male guess=neg prob=0.51 name=Boniface\n",
      "correct=male guess=neg prob=0.51 name=Boyce\n",
      "correct=male guess=neg prob=0.51 name=Boyd\n",
      "correct=male guess=neg prob=0.51 name=Bradley\n",
      "correct=male guess=neg prob=0.51 name=Bradly\n",
      "correct=male guess=neg prob=0.51 name=Brady\n",
      "correct=male guess=neg prob=0.51 name=Brant\n",
      "correct=male guess=neg prob=0.51 name=Brendan\n",
      "correct=male guess=neg prob=0.51 name=Brett\n",
      "correct=male guess=neg prob=0.51 name=Brewster\n",
      "correct=male guess=neg prob=0.51 name=Brice\n",
      "correct=male guess=neg prob=0.51 name=Britt\n",
      "correct=male guess=neg prob=0.51 name=Brooks\n",
      "correct=male guess=neg prob=0.51 name=Bryon\n",
      "correct=male guess=neg prob=0.51 name=Bubba\n",
      "correct=male guess=neg prob=0.51 name=Buck\n",
      "correct=male guess=neg prob=0.51 name=Burgess\n",
      "correct=male guess=neg prob=0.51 name=Burt\n",
      "correct=male guess=neg prob=0.51 name=Burton\n",
      "correct=male guess=neg prob=0.51 name=Caesar\n",
      "correct=male guess=neg prob=0.51 name=Calvin\n",
      "correct=male guess=neg prob=0.51 name=Carey\n",
      "correct=male guess=neg prob=0.51 name=Carl\n",
      "correct=male guess=neg prob=0.51 name=Carlyle\n",
      "correct=male guess=neg prob=0.51 name=Carson\n",
      "correct=male guess=neg prob=0.51 name=Carsten\n",
      "correct=male guess=neg prob=0.51 name=Carter\n",
      "correct=male guess=neg prob=0.51 name=Casey\n",
      "correct=male guess=neg prob=0.51 name=Caspar\n",
      "correct=male guess=neg prob=0.51 name=Casper\n",
      "correct=male guess=neg prob=0.51 name=Cesar\n",
      "correct=male guess=neg prob=0.51 name=Chaddy\n",
      "correct=male guess=neg prob=0.51 name=Chaim\n",
      "correct=male guess=neg prob=0.51 name=Chalmers\n",
      "correct=male guess=neg prob=0.51 name=Chan\n",
      "correct=male guess=neg prob=0.51 name=Chance\n",
      "correct=male guess=neg prob=0.51 name=Charles\n",
      "correct=male guess=neg prob=0.51 name=Chase\n",
      "correct=male guess=neg prob=0.51 name=Chauncey\n",
      "correct=male guess=neg prob=0.51 name=Cheston\n",
      "correct=male guess=neg prob=0.51 name=Christof\n",
      "correct=male guess=neg prob=0.51 name=Christofer\n",
      "correct=male guess=neg prob=0.51 name=Christoph\n",
      "correct=male guess=neg prob=0.51 name=Christopher\n",
      "correct=male guess=neg prob=0.51 name=Chuck\n",
      "correct=male guess=neg prob=0.51 name=Clarance\n",
      "correct=male guess=neg prob=0.51 name=Clare\n",
      "correct=male guess=neg prob=0.51 name=Clarence\n",
      "correct=male guess=neg prob=0.51 name=Clarke\n",
      "correct=male guess=neg prob=0.51 name=Claude\n",
      "correct=male guess=neg prob=0.51 name=Clayborn\n",
      "correct=male guess=neg prob=0.51 name=Clayborne\n",
      "correct=male guess=neg prob=0.51 name=Claybourne\n",
      "correct=male guess=neg prob=0.51 name=Cleland\n",
      "correct=male guess=neg prob=0.51 name=Clemens\n",
      "correct=male guess=neg prob=0.51 name=Clifford\n",
      "correct=male guess=neg prob=0.51 name=Clinten\n",
      "correct=male guess=neg prob=0.51 name=Clyde\n",
      "correct=male guess=neg prob=0.51 name=Cob\n",
      "correct=male guess=neg prob=0.51 name=Colbert\n",
      "correct=male guess=neg prob=0.51 name=Collin\n",
      "correct=male guess=neg prob=0.51 name=Connie\n",
      "correct=male guess=neg prob=0.51 name=Constantin\n",
      "correct=male guess=neg prob=0.51 name=Constantine\n",
      "correct=male guess=neg prob=0.51 name=Conway\n",
      "correct=male guess=neg prob=0.51 name=Corey\n",
      "correct=male guess=neg prob=0.51 name=Cornelius\n",
      "correct=male guess=neg prob=0.51 name=Cornellis\n",
      "correct=male guess=neg prob=0.51 name=Corwin\n",
      "correct=male guess=neg prob=0.51 name=Costa\n",
      "correct=male guess=neg prob=0.51 name=Creighton\n",
      "correct=male guess=neg prob=0.51 name=Cris\n",
      "correct=male guess=neg prob=0.51 name=Cristopher\n",
      "correct=male guess=neg prob=0.51 name=Curtice\n",
      "correct=male guess=neg prob=0.51 name=Cy\n",
      "correct=male guess=neg prob=0.51 name=Cyril\n",
      "correct=male guess=neg prob=0.51 name=Cyrille\n",
      "correct=male guess=neg prob=0.51 name=Cyrillus\n",
      "correct=male guess=neg prob=0.51 name=Dale\n",
      "correct=male guess=neg prob=0.51 name=Dallas\n",
      "correct=male guess=neg prob=0.51 name=Damian\n",
      "correct=male guess=neg prob=0.51 name=Damon\n",
      "correct=male guess=neg prob=0.51 name=Dan\n",
      "correct=male guess=neg prob=0.51 name=Dani\n",
      "correct=male guess=neg prob=0.51 name=Daniel\n",
      "correct=male guess=neg prob=0.51 name=Dante\n",
      "correct=male guess=neg prob=0.51 name=Darian\n",
      "correct=male guess=neg prob=0.51 name=Darien\n",
      "correct=male guess=neg prob=0.51 name=Dario\n",
      "correct=male guess=neg prob=0.51 name=Darrell\n",
      "correct=male guess=neg prob=0.51 name=Darrin\n",
      "correct=male guess=neg prob=0.51 name=Daryl\n",
      "correct=male guess=neg prob=0.51 name=Daryle\n",
      "correct=male guess=neg prob=0.51 name=Davey\n",
      "correct=male guess=neg prob=0.51 name=Davidde\n",
      "correct=male guess=neg prob=0.51 name=Davide\n",
      "correct=male guess=neg prob=0.51 name=Davidson\n",
      "correct=male guess=neg prob=0.51 name=Davie\n",
      "correct=male guess=neg prob=0.51 name=Davin\n",
      "correct=male guess=neg prob=0.51 name=Davis\n",
      "correct=male guess=neg prob=0.51 name=Davy\n",
      "correct=male guess=neg prob=0.51 name=Dean\n",
      "correct=male guess=neg prob=0.51 name=Deane\n",
      "correct=male guess=neg prob=0.51 name=Del\n",
      "correct=male guess=neg prob=0.51 name=Delmar\n",
      "correct=male guess=neg prob=0.51 name=Demetri\n",
      "correct=male guess=neg prob=0.51 name=Denis\n",
      "correct=male guess=neg prob=0.51 name=Denny\n",
      "correct=male guess=neg prob=0.51 name=Derby\n",
      "correct=male guess=neg prob=0.51 name=Derrick\n",
      "correct=male guess=neg prob=0.51 name=Devin\n",
      "correct=male guess=neg prob=0.51 name=Dewey\n",
      "correct=male guess=neg prob=0.51 name=Dick\n",
      "correct=male guess=neg prob=0.51 name=Dickie\n",
      "correct=male guess=neg prob=0.51 name=Dietrich\n",
      "correct=male guess=neg prob=0.51 name=Dimitris\n",
      "correct=male guess=neg prob=0.51 name=Dion\n",
      "correct=male guess=neg prob=0.51 name=Dionysus\n",
      "correct=male guess=neg prob=0.51 name=Domenico\n",
      "correct=male guess=neg prob=0.51 name=Dominick\n",
      "correct=male guess=neg prob=0.51 name=Dominique\n",
      "correct=male guess=neg prob=0.51 name=Don\n",
      "correct=male guess=neg prob=0.51 name=Donal\n",
      "correct=male guess=neg prob=0.51 name=Donn\n",
      "correct=male guess=neg prob=0.51 name=Donnie\n",
      "correct=male guess=neg prob=0.51 name=Donny\n",
      "correct=male guess=neg prob=0.51 name=Dory\n",
      "correct=male guess=neg prob=0.51 name=Dougie\n",
      "correct=male guess=neg prob=0.51 name=Douglas\n",
      "correct=male guess=neg prob=0.51 name=Doyle\n",
      "correct=male guess=neg prob=0.51 name=Drew\n",
      "correct=male guess=neg prob=0.51 name=Dryke\n",
      "correct=male guess=neg prob=0.51 name=Duane\n",
      "correct=male guess=neg prob=0.51 name=Dunc\n",
      "correct=male guess=neg prob=0.51 name=Dunstan\n",
      "correct=male guess=neg prob=0.51 name=Durant\n",
      "correct=male guess=neg prob=0.51 name=Durward\n",
      "correct=male guess=neg prob=0.51 name=Dwaine\n",
      "correct=male guess=neg prob=0.51 name=Earle\n",
      "correct=male guess=neg prob=0.51 name=Easton\n",
      "correct=male guess=neg prob=0.51 name=Ebenezer\n",
      "correct=male guess=neg prob=0.51 name=Eberhard\n",
      "correct=male guess=neg prob=0.51 name=Eddie\n",
      "correct=male guess=neg prob=0.51 name=Eddy\n",
      "correct=male guess=neg prob=0.51 name=Edie\n",
      "correct=male guess=neg prob=0.51 name=Edward\n",
      "correct=male guess=neg prob=0.51 name=Efram\n",
      "correct=male guess=neg prob=0.51 name=Egbert\n",
      "correct=male guess=neg prob=0.51 name=Ehud\n",
      "correct=male guess=neg prob=0.51 name=Elden\n",
      "correct=male guess=neg prob=0.51 name=Eli\n",
      "correct=male guess=neg prob=0.51 name=Eliot\n",
      "correct=male guess=neg prob=0.51 name=Eliott\n",
      "correct=male guess=neg prob=0.51 name=Elliott\n",
      "correct=male guess=neg prob=0.51 name=Ellwood\n",
      "correct=male guess=neg prob=0.51 name=Elmer\n",
      "correct=male guess=neg prob=0.51 name=Elroy\n",
      "correct=male guess=neg prob=0.51 name=Elton\n",
      "correct=male guess=neg prob=0.51 name=Ely\n",
      "correct=male guess=neg prob=0.51 name=Emerson\n",
      "correct=male guess=neg prob=0.51 name=Emmanuel\n",
      "correct=male guess=neg prob=0.51 name=Emmery\n",
      "correct=male guess=neg prob=0.51 name=Emmit\n",
      "correct=male guess=neg prob=0.51 name=Emmott\n",
      "correct=male guess=neg prob=0.51 name=Emmy\n",
      "correct=male guess=neg prob=0.51 name=Engelbart\n",
      "correct=male guess=neg prob=0.51 name=Enrico\n",
      "correct=male guess=neg prob=0.51 name=Ephram\n",
      "correct=male guess=neg prob=0.51 name=Erek\n",
      "correct=male guess=neg prob=0.51 name=Erhard\n",
      "correct=male guess=neg prob=0.51 name=Erick\n",
      "correct=male guess=neg prob=0.51 name=Ernst\n",
      "correct=male guess=neg prob=0.51 name=Erny\n",
      "correct=male guess=neg prob=0.51 name=Erwin\n",
      "correct=male guess=neg prob=0.51 name=Esau\n",
      "correct=male guess=neg prob=0.51 name=Esteban\n",
      "correct=male guess=neg prob=0.51 name=Ethan\n",
      "correct=male guess=neg prob=0.51 name=Ethelred\n",
      "correct=male guess=neg prob=0.51 name=Euclid\n",
      "correct=male guess=neg prob=0.51 name=Eugene\n",
      "correct=male guess=neg prob=0.51 name=Evelyn\n",
      "correct=male guess=neg prob=0.51 name=Ezechiel\n",
      "correct=male guess=neg prob=0.51 name=Ezekiel\n",
      "correct=male guess=neg prob=0.51 name=Fabian\n",
      "correct=male guess=neg prob=0.51 name=Fabio\n",
      "correct=male guess=neg prob=0.51 name=Fairfax\n",
      "correct=male guess=neg prob=0.51 name=Farley\n",
      "correct=male guess=neg prob=0.51 name=Federico\n",
      "correct=male guess=neg prob=0.51 name=Felice\n",
      "correct=male guess=neg prob=0.51 name=Felicio\n",
      "correct=male guess=neg prob=0.51 name=Felipe\n",
      "correct=male guess=neg prob=0.51 name=Ferdinand\n",
      "correct=male guess=neg prob=0.51 name=Ferdy\n",
      "correct=male guess=neg prob=0.51 name=Fidel\n",
      "correct=male guess=neg prob=0.51 name=Filbert\n",
      "correct=male guess=neg prob=0.51 name=Filip\n",
      "correct=male guess=neg prob=0.51 name=Filmore\n",
      "correct=male guess=neg prob=0.51 name=Finley\n",
      "correct=male guess=neg prob=0.51 name=Fitzgerald\n",
      "correct=male guess=neg prob=0.51 name=Flint\n",
      "correct=male guess=neg prob=0.51 name=Flipper\n",
      "correct=male guess=neg prob=0.51 name=Florian\n",
      "correct=male guess=neg prob=0.51 name=Fonz\n",
      "correct=male guess=neg prob=0.51 name=Forbes\n",
      "correct=male guess=neg prob=0.51 name=Forrest\n",
      "correct=male guess=neg prob=0.51 name=Fran\n",
      "correct=male guess=neg prob=0.51 name=Francesco\n",
      "correct=male guess=neg prob=0.51 name=Frank\n",
      "correct=male guess=neg prob=0.51 name=Frankie\n",
      "correct=male guess=neg prob=0.51 name=Franklin\n",
      "correct=male guess=neg prob=0.51 name=Fred\n",
      "correct=male guess=neg prob=0.51 name=Freddy\n",
      "correct=male guess=neg prob=0.51 name=Frederic\n",
      "correct=male guess=neg prob=0.51 name=Frederick\n",
      "correct=male guess=neg prob=0.51 name=Fredric\n",
      "correct=male guess=neg prob=0.51 name=Fredrick\n",
      "correct=male guess=neg prob=0.51 name=Fremont\n",
      "correct=male guess=neg prob=0.51 name=French\n",
      "correct=male guess=neg prob=0.51 name=Fulton\n",
      "correct=male guess=neg prob=0.51 name=Fyodor\n",
      "correct=male guess=neg prob=0.51 name=Gabriel\n",
      "correct=male guess=neg prob=0.51 name=Gabriele\n",
      "correct=male guess=neg prob=0.51 name=Gabriello\n",
      "correct=male guess=neg prob=0.51 name=Garcon\n",
      "correct=male guess=neg prob=0.51 name=Gardiner\n",
      "correct=male guess=neg prob=0.51 name=Garfield\n",
      "correct=male guess=neg prob=0.51 name=Garfinkel\n",
      "correct=male guess=neg prob=0.51 name=Garp\n",
      "correct=male guess=neg prob=0.51 name=Garret\n",
      "correct=male guess=neg prob=0.51 name=Garv\n",
      "correct=male guess=neg prob=0.51 name=Garvin\n",
      "correct=male guess=neg prob=0.51 name=Garwin\n",
      "correct=male guess=neg prob=0.51 name=Gaspar\n",
      "correct=male guess=neg prob=0.51 name=Gaven\n",
      "correct=male guess=neg prob=0.51 name=Gavin\n",
      "correct=male guess=neg prob=0.51 name=Gayle\n",
      "correct=male guess=neg prob=0.51 name=Gene\n",
      "correct=male guess=neg prob=0.51 name=Geoffrey\n",
      "correct=male guess=neg prob=0.51 name=Georges\n",
      "correct=male guess=neg prob=0.51 name=Georgia\n",
      "correct=male guess=neg prob=0.51 name=Georgie\n",
      "correct=male guess=neg prob=0.51 name=Geraldo\n",
      "correct=male guess=neg prob=0.51 name=Gerard\n",
      "correct=male guess=neg prob=0.51 name=Geri\n",
      "correct=male guess=neg prob=0.51 name=Gerrard\n",
      "correct=male guess=neg prob=0.51 name=Gerri\n",
      "correct=male guess=neg prob=0.51 name=Gershon\n",
      "correct=male guess=neg prob=0.51 name=Gian\n",
      "correct=male guess=neg prob=0.51 name=Giancarlo\n",
      "correct=male guess=neg prob=0.51 name=Giff\n",
      "correct=male guess=neg prob=0.51 name=Gifford\n",
      "correct=male guess=neg prob=0.51 name=Gilburt\n",
      "correct=male guess=neg prob=0.51 name=Gino\n",
      "correct=male guess=neg prob=0.51 name=Giorgi\n",
      "correct=male guess=neg prob=0.51 name=Giorgio\n",
      "correct=male guess=neg prob=0.51 name=Giovanne\n",
      "correct=male guess=neg prob=0.51 name=Giraldo\n",
      "correct=male guess=neg prob=0.51 name=Giraud\n",
      "correct=male guess=neg prob=0.51 name=Glynn\n",
      "correct=male guess=neg prob=0.51 name=Goddard\n",
      "correct=male guess=neg prob=0.51 name=Gonzales\n",
      "correct=male guess=neg prob=0.51 name=Gonzalo\n",
      "correct=male guess=neg prob=0.51 name=Goober\n",
      "correct=male guess=neg prob=0.51 name=Goose\n",
      "correct=male guess=neg prob=0.51 name=Gordan\n",
      "correct=male guess=neg prob=0.51 name=Grady\n",
      "correct=male guess=neg prob=0.51 name=Graig\n",
      "correct=male guess=neg prob=0.51 name=Gregg\n",
      "correct=male guess=neg prob=0.51 name=Gregor\n",
      "correct=male guess=neg prob=0.51 name=Griff\n",
      "correct=male guess=neg prob=0.51 name=Grove\n",
      "correct=male guess=neg prob=0.51 name=Guido\n",
      "correct=male guess=neg prob=0.51 name=Guillermo\n",
      "correct=male guess=neg prob=0.51 name=Gus\n",
      "correct=male guess=neg prob=0.51 name=Gustav\n",
      "correct=male guess=neg prob=0.51 name=Gustave\n",
      "correct=male guess=neg prob=0.51 name=Gustavo\n",
      "correct=male guess=neg prob=0.51 name=Gustavus\n",
      "correct=male guess=neg prob=0.51 name=Hagen\n",
      "correct=male guess=neg prob=0.51 name=Hakim\n",
      "correct=male guess=neg prob=0.51 name=Haleigh\n",
      "correct=male guess=neg prob=0.51 name=Hamid\n",
      "correct=male guess=neg prob=0.51 name=Hamlin\n",
      "correct=male guess=neg prob=0.51 name=Hamnet\n",
      "correct=male guess=neg prob=0.51 name=Hanson\n",
      "correct=male guess=neg prob=0.51 name=Harald\n",
      "correct=male guess=neg prob=0.51 name=Harley\n",
      "correct=male guess=neg prob=0.51 name=Harmon\n",
      "correct=male guess=neg prob=0.51 name=Harv\n",
      "correct=male guess=neg prob=0.51 name=Harvey\n",
      "correct=male guess=neg prob=0.51 name=Harwell\n",
      "correct=male guess=neg prob=0.51 name=Hasheem\n",
      "correct=male guess=neg prob=0.51 name=Hashim\n",
      "correct=male guess=neg prob=0.51 name=Haskel\n",
      "correct=male guess=neg prob=0.51 name=Hassan\n",
      "correct=male guess=neg prob=0.51 name=Hastings\n",
      "correct=male guess=neg prob=0.51 name=Hasty\n",
      "correct=male guess=neg prob=0.51 name=Haven\n",
      "correct=male guess=neg prob=0.51 name=Hayes\n",
      "correct=male guess=neg prob=0.51 name=Hebert\n",
      "correct=male guess=neg prob=0.51 name=Hector\n",
      "correct=male guess=neg prob=0.51 name=Hendrick\n",
      "correct=male guess=neg prob=0.51 name=Hendrik\n",
      "correct=male guess=neg prob=0.51 name=Henrik\n",
      "correct=male guess=neg prob=0.51 name=Herbie\n",
      "correct=male guess=neg prob=0.51 name=Hercule\n",
      "correct=male guess=neg prob=0.51 name=Hercules\n",
      "correct=male guess=neg prob=0.51 name=Hermon\n",
      "correct=male guess=neg prob=0.51 name=Herrick\n",
      "correct=male guess=neg prob=0.51 name=Hersh\n",
      "correct=male guess=neg prob=0.51 name=Hershel\n",
      "correct=male guess=neg prob=0.51 name=Herve\n",
      "correct=male guess=neg prob=0.51 name=Hewie\n",
      "correct=male guess=neg prob=0.51 name=Hezekiah\n",
      "correct=male guess=neg prob=0.51 name=Hilbert\n",
      "correct=male guess=neg prob=0.51 name=Hilliard\n",
      "correct=male guess=neg prob=0.51 name=Holly\n",
      "correct=male guess=neg prob=0.51 name=Homer\n",
      "correct=male guess=neg prob=0.51 name=Horatio\n",
      "correct=male guess=neg prob=0.51 name=Horatius\n",
      "correct=male guess=neg prob=0.51 name=Hunter\n",
      "correct=male guess=neg prob=0.51 name=Hurley\n",
      "correct=male guess=neg prob=0.51 name=Husain\n",
      "correct=male guess=neg prob=0.51 name=Hussein\n",
      "correct=male guess=neg prob=0.51 name=Hyatt\n",
      "correct=male guess=neg prob=0.51 name=Ignace\n",
      "correct=male guess=neg prob=0.51 name=Ignacio\n",
      "correct=male guess=neg prob=0.51 name=Ignatius\n",
      "correct=male guess=neg prob=0.51 name=Ikey\n",
      "correct=male guess=neg prob=0.51 name=Ira\n",
      "correct=male guess=neg prob=0.51 name=Irving\n",
      "correct=male guess=neg prob=0.51 name=Isaak\n",
      "correct=male guess=neg prob=0.51 name=Isador\n",
      "correct=male guess=neg prob=0.51 name=Isaiah\n",
      "correct=male guess=neg prob=0.51 name=Ishmael\n",
      "correct=male guess=neg prob=0.51 name=Isidore\n",
      "correct=male guess=neg prob=0.51 name=Israel\n",
      "correct=male guess=neg prob=0.51 name=Ivor\n",
      "correct=male guess=neg prob=0.51 name=Izaak\n",
      "correct=male guess=neg prob=0.51 name=Izzy\n",
      "correct=male guess=neg prob=0.51 name=Jabez\n",
      "correct=male guess=neg prob=0.51 name=Jackie\n",
      "correct=male guess=neg prob=0.51 name=Jackson\n",
      "correct=male guess=neg prob=0.51 name=Jaime\n",
      "correct=male guess=neg prob=0.51 name=Jamey\n",
      "correct=male guess=neg prob=0.51 name=Jarrett\n",
      "correct=male guess=neg prob=0.51 name=Jason\n",
      "correct=male guess=neg prob=0.51 name=Javier\n",
      "correct=male guess=neg prob=0.51 name=Jean\n",
      "correct=male guess=neg prob=0.51 name=Jean-Paul\n",
      "correct=male guess=neg prob=0.51 name=Jeb\n",
      "correct=male guess=neg prob=0.51 name=Jef\n",
      "correct=male guess=neg prob=0.51 name=Jeff\n",
      "correct=male guess=neg prob=0.51 name=Jefferson\n",
      "correct=male guess=neg prob=0.51 name=Jeffery\n",
      "correct=male guess=neg prob=0.51 name=Jeffie\n",
      "correct=male guess=neg prob=0.51 name=Jeffry\n",
      "correct=male guess=neg prob=0.51 name=Jefry\n",
      "correct=male guess=neg prob=0.51 name=Jehu\n",
      "correct=male guess=neg prob=0.51 name=Jere\n",
      "correct=male guess=neg prob=0.51 name=Jeremiah\n",
      "correct=male guess=neg prob=0.51 name=Jeremias\n",
      "correct=male guess=neg prob=0.51 name=Jerome\n",
      "correct=male guess=neg prob=0.51 name=Jeromy\n",
      "correct=male guess=neg prob=0.51 name=Jerri\n",
      "correct=male guess=neg prob=0.51 name=Jerzy\n",
      "correct=male guess=neg prob=0.51 name=Jesse\n",
      "correct=male guess=neg prob=0.51 name=Jessee\n",
      "correct=male guess=neg prob=0.51 name=Jesus\n",
      "correct=male guess=neg prob=0.51 name=Jethro\n",
      "correct=male guess=neg prob=0.51 name=Jim\n",
      "correct=male guess=neg prob=0.51 name=Jimbo\n",
      "correct=male guess=neg prob=0.51 name=Joachim\n",
      "correct=male guess=neg prob=0.51 name=Jody\n",
      "correct=male guess=neg prob=0.51 name=Joe\n",
      "correct=male guess=neg prob=0.51 name=Joel\n",
      "correct=male guess=neg prob=0.51 name=Johan\n",
      "correct=male guess=neg prob=0.51 name=Johannes\n",
      "correct=male guess=neg prob=0.51 name=John\n",
      "correct=male guess=neg prob=0.51 name=Johnathon\n",
      "correct=male guess=neg prob=0.51 name=Jonah\n",
      "correct=male guess=neg prob=0.51 name=Jonas\n",
      "correct=male guess=neg prob=0.51 name=Jonathon\n",
      "correct=male guess=neg prob=0.51 name=Jordon\n",
      "correct=male guess=neg prob=0.51 name=Jory\n",
      "correct=male guess=neg prob=0.51 name=Jose\n",
      "correct=male guess=neg prob=0.51 name=Josef\n",
      "correct=male guess=neg prob=0.51 name=Juan\n",
      "correct=male guess=neg prob=0.51 name=Jud\n",
      "correct=male guess=neg prob=0.51 name=Judah\n",
      "correct=male guess=neg prob=0.51 name=Judas\n",
      "correct=male guess=neg prob=0.51 name=Judy\n",
      "correct=male guess=neg prob=0.51 name=Juergen\n",
      "correct=male guess=neg prob=0.51 name=Jule\n",
      "correct=male guess=neg prob=0.51 name=Jules\n",
      "correct=male guess=neg prob=0.51 name=Julian\n",
      "correct=male guess=neg prob=0.51 name=Julius\n",
      "correct=male guess=neg prob=0.51 name=Kalman\n",
      "correct=male guess=neg prob=0.51 name=Kalvin\n",
      "correct=male guess=neg prob=0.51 name=Kane\n",
      "correct=male guess=neg prob=0.51 name=Kareem\n",
      "correct=male guess=neg prob=0.51 name=Karim\n",
      "correct=male guess=neg prob=0.51 name=Karl\n",
      "correct=male guess=neg prob=0.51 name=Keil\n",
      "correct=male guess=neg prob=0.51 name=Keith\n",
      "correct=male guess=neg prob=0.51 name=Kellen\n",
      "correct=male guess=neg prob=0.51 name=Kelley\n",
      "correct=male guess=neg prob=0.51 name=Kelly\n",
      "correct=male guess=neg prob=0.51 name=Kelwin\n",
      "correct=male guess=neg prob=0.51 name=Kenneth\n",
      "correct=male guess=neg prob=0.51 name=Kenny\n",
      "correct=male guess=neg prob=0.51 name=Kent\n",
      "correct=male guess=neg prob=0.51 name=Kevan\n",
      "correct=male guess=neg prob=0.51 name=Kimball\n",
      "correct=male guess=neg prob=0.51 name=Kimmo\n",
      "correct=male guess=neg prob=0.51 name=Kincaid\n",
      "correct=male guess=neg prob=0.51 name=Kingsley\n",
      "correct=male guess=neg prob=0.51 name=Kingsly\n",
      "correct=male guess=neg prob=0.51 name=Kip\n",
      "correct=male guess=neg prob=0.51 name=Kirk\n",
      "correct=male guess=neg prob=0.51 name=Kit\n",
      "correct=male guess=neg prob=0.51 name=Klee\n",
      "correct=male guess=neg prob=0.51 name=Konrad\n",
      "correct=male guess=neg prob=0.51 name=Konstantin\n",
      "correct=male guess=neg prob=0.51 name=Kostas\n",
      "correct=male guess=neg prob=0.51 name=Kraig\n",
      "correct=male guess=neg prob=0.51 name=Kris\n",
      "correct=male guess=neg prob=0.51 name=Kristopher\n",
      "correct=male guess=neg prob=0.51 name=Kristos\n",
      "correct=male guess=neg prob=0.51 name=Kurt\n",
      "correct=male guess=neg prob=0.51 name=Lamar\n",
      "correct=male guess=neg prob=0.51 name=Lancelot\n",
      "correct=male guess=neg prob=0.51 name=Lanny\n",
      "correct=male guess=neg prob=0.51 name=Lars\n",
      "correct=male guess=neg prob=0.51 name=Laurens\n",
      "correct=male guess=neg prob=0.51 name=Lawson\n",
      "correct=male guess=neg prob=0.51 name=Lay\n",
      "correct=male guess=neg prob=0.51 name=Lefty\n",
      "correct=male guess=neg prob=0.51 name=Leif\n",
      "correct=male guess=neg prob=0.51 name=Leighton\n",
      "correct=male guess=neg prob=0.51 name=Lemuel\n",
      "correct=male guess=neg prob=0.51 name=Lennie\n",
      "correct=male guess=neg prob=0.51 name=Lenny\n",
      "correct=male guess=neg prob=0.51 name=Leo\n",
      "correct=male guess=neg prob=0.51 name=Leon\n",
      "correct=male guess=neg prob=0.51 name=Leonidas\n",
      "correct=male guess=neg prob=0.51 name=Leopold\n",
      "correct=male guess=neg prob=0.51 name=Les\n",
      "correct=male guess=neg prob=0.51 name=Lesley\n",
      "correct=male guess=neg prob=0.51 name=Lev\n",
      "correct=male guess=neg prob=0.51 name=Levi\n",
      "correct=male guess=neg prob=0.51 name=Levon\n",
      "correct=male guess=neg prob=0.51 name=Lew\n",
      "correct=male guess=neg prob=0.51 name=Lewis\n",
      "correct=male guess=neg prob=0.51 name=Lincoln\n",
      "correct=male guess=neg prob=0.51 name=Lind\n",
      "correct=male guess=neg prob=0.51 name=Lindsay\n",
      "correct=male guess=neg prob=0.51 name=Linus\n",
      "correct=male guess=neg prob=0.51 name=Lion\n",
      "correct=male guess=neg prob=0.51 name=Llewellyn\n",
      "correct=male guess=neg prob=0.51 name=Lockwood\n",
      "correct=male guess=neg prob=0.51 name=Logan\n",
      "correct=male guess=neg prob=0.51 name=Lonnie\n",
      "correct=male guess=neg prob=0.51 name=Lonny\n",
      "correct=male guess=neg prob=0.51 name=Lorrie\n",
      "correct=male guess=neg prob=0.51 name=Louis\n",
      "correct=male guess=neg prob=0.51 name=Lucien\n",
      "correct=male guess=neg prob=0.51 name=Lucius\n",
      "correct=male guess=neg prob=0.51 name=Ludvig\n",
      "correct=male guess=neg prob=0.51 name=Lyle\n",
      "correct=male guess=neg prob=0.51 name=Lyn\n",
      "correct=male guess=neg prob=0.51 name=Lynn\n",
      "correct=male guess=neg prob=0.51 name=Mace\n",
      "correct=male guess=neg prob=0.51 name=Madison\n",
      "correct=male guess=neg prob=0.51 name=Magnum\n",
      "correct=male guess=neg prob=0.51 name=Magnus\n",
      "correct=male guess=neg prob=0.51 name=Mahesh\n",
      "correct=male guess=neg prob=0.51 name=Mahmoud\n",
      "correct=male guess=neg prob=0.51 name=Malcolm\n",
      "correct=male guess=neg prob=0.51 name=Manish\n",
      "correct=male guess=neg prob=0.51 name=Manny\n",
      "correct=male guess=neg prob=0.51 name=Marc\n",
      "correct=male guess=neg prob=0.51 name=Marcello\n",
      "correct=male guess=neg prob=0.51 name=Marchall\n",
      "correct=male guess=neg prob=0.51 name=Marcio\n",
      "correct=male guess=neg prob=0.51 name=Marcos\n",
      "correct=male guess=neg prob=0.51 name=Marilu\n",
      "correct=male guess=neg prob=0.51 name=Marlon\n",
      "correct=male guess=neg prob=0.51 name=Marlow\n",
      "correct=male guess=neg prob=0.51 name=Marshal\n",
      "correct=male guess=neg prob=0.51 name=Marshall\n",
      "correct=male guess=neg prob=0.51 name=Mart\n",
      "correct=male guess=neg prob=0.51 name=Martino\n",
      "correct=male guess=neg prob=0.51 name=Marty\n",
      "correct=male guess=neg prob=0.51 name=Marv\n",
      "correct=male guess=neg prob=0.51 name=Marvin\n",
      "correct=male guess=neg prob=0.51 name=Matias\n",
      "correct=male guess=neg prob=0.51 name=Matt\n",
      "correct=male guess=neg prob=0.51 name=Mattheus\n",
      "correct=male guess=neg prob=0.51 name=Matthew\n",
      "correct=male guess=neg prob=0.51 name=Matthias\n",
      "correct=male guess=neg prob=0.51 name=Matthus\n",
      "correct=male guess=neg prob=0.51 name=Mattias\n",
      "correct=male guess=neg prob=0.51 name=Mattie\n",
      "correct=male guess=neg prob=0.51 name=Maurice\n",
      "correct=male guess=neg prob=0.51 name=Maurise\n",
      "correct=male guess=neg prob=0.51 name=Maurits\n",
      "correct=male guess=neg prob=0.51 name=Maxie\n",
      "correct=male guess=neg prob=0.51 name=Maxim\n",
      "correct=male guess=neg prob=0.51 name=Maximilian\n",
      "correct=male guess=neg prob=0.51 name=Maximilien\n",
      "correct=male guess=neg prob=0.51 name=Maxwell\n",
      "correct=male guess=neg prob=0.51 name=Maynord\n",
      "correct=male guess=neg prob=0.51 name=Meier\n",
      "correct=male guess=neg prob=0.51 name=Meir\n",
      "correct=male guess=neg prob=0.51 name=Mendel\n",
      "correct=male guess=neg prob=0.51 name=Meredeth\n",
      "correct=male guess=neg prob=0.51 name=Merle\n",
      "correct=male guess=neg prob=0.51 name=Merrick\n",
      "correct=male guess=neg prob=0.51 name=Merry\n",
      "correct=male guess=neg prob=0.51 name=Meryl\n",
      "correct=male guess=neg prob=0.51 name=Meyer\n",
      "correct=male guess=neg prob=0.51 name=Micheil\n",
      "correct=male guess=neg prob=0.51 name=Michel\n",
      "correct=male guess=neg prob=0.51 name=Michele\n",
      "correct=male guess=neg prob=0.51 name=Mickey\n",
      "correct=male guess=neg prob=0.51 name=Mickie\n",
      "correct=male guess=neg prob=0.51 name=Micky\n",
      "correct=male guess=neg prob=0.51 name=Millicent\n",
      "correct=male guess=neg prob=0.51 name=Mitchel\n",
      "correct=male guess=neg prob=0.51 name=Mohamed\n",
      "correct=male guess=neg prob=0.51 name=Mohammed\n",
      "correct=male guess=neg prob=0.51 name=Moise\n",
      "correct=male guess=neg prob=0.51 name=Montague\n",
      "correct=male guess=neg prob=0.51 name=Montgomery\n",
      "correct=male guess=neg prob=0.51 name=Moore\n",
      "correct=male guess=neg prob=0.51 name=Morlee\n",
      "correct=male guess=neg prob=0.51 name=Morris\n",
      "correct=male guess=neg prob=0.51 name=Morry\n",
      "correct=male guess=neg prob=0.51 name=Mort\n",
      "correct=male guess=neg prob=0.51 name=Morten\n",
      "correct=male guess=neg prob=0.51 name=Mortie\n",
      "correct=male guess=neg prob=0.51 name=Mortimer\n",
      "correct=male guess=neg prob=0.51 name=Morton\n",
      "correct=male guess=neg prob=0.51 name=Morty\n",
      "correct=male guess=neg prob=0.51 name=Moses\n",
      "correct=male guess=neg prob=0.51 name=Moss\n",
      "correct=male guess=neg prob=0.51 name=Muffin\n",
      "correct=male guess=neg prob=0.51 name=Mugsy\n",
      "correct=male guess=neg prob=0.51 name=Muhammad\n",
      "correct=male guess=neg prob=0.51 name=Munroe\n",
      "correct=male guess=neg prob=0.51 name=Murdoch\n",
      "correct=male guess=neg prob=0.51 name=Murphy\n",
      "correct=male guess=neg prob=0.51 name=Myles\n",
      "correct=male guess=neg prob=0.51 name=Mylo\n",
      "correct=male guess=neg prob=0.51 name=Myron\n",
      "correct=male guess=neg prob=0.51 name=Nat\n",
      "correct=male guess=neg prob=0.51 name=Nate\n",
      "correct=male guess=neg prob=0.51 name=Nathanil\n",
      "correct=male guess=neg prob=0.51 name=Neale\n",
      "correct=male guess=neg prob=0.51 name=Neall\n",
      "correct=male guess=neg prob=0.51 name=Nealson\n",
      "correct=male guess=neg prob=0.51 name=Neddie\n",
      "correct=male guess=neg prob=0.51 name=Neil\n",
      "correct=male guess=neg prob=0.51 name=Nelsen\n",
      "correct=male guess=neg prob=0.51 name=Neron\n",
      "correct=male guess=neg prob=0.51 name=Niccolo\n",
      "correct=male guess=neg prob=0.51 name=Nichole\n",
      "correct=male guess=neg prob=0.51 name=Nickey\n",
      "correct=male guess=neg prob=0.51 name=Nico\n",
      "correct=male guess=neg prob=0.51 name=Niels\n",
      "correct=male guess=neg prob=0.51 name=Nigel\n",
      "correct=male guess=neg prob=0.51 name=Niki\n",
      "correct=male guess=neg prob=0.51 name=Nils\n",
      "correct=male guess=neg prob=0.51 name=Noah\n",
      "correct=male guess=neg prob=0.51 name=Noam\n",
      "correct=male guess=neg prob=0.51 name=Noe\n",
      "correct=male guess=neg prob=0.51 name=Norbert\n",
      "correct=male guess=neg prob=0.51 name=Norm\n",
      "correct=male guess=neg prob=0.51 name=Norman\n",
      "correct=male guess=neg prob=0.51 name=Normie\n",
      "correct=male guess=neg prob=0.51 name=Obadias\n",
      "correct=male guess=neg prob=0.51 name=Obie\n",
      "correct=male guess=neg prob=0.51 name=Odin\n",
      "correct=male guess=neg prob=0.51 name=Odysseus\n",
      "correct=male guess=neg prob=0.51 name=Olaf\n",
      "correct=male guess=neg prob=0.51 name=Olag\n",
      "correct=male guess=neg prob=0.51 name=Oliver\n",
      "correct=male guess=neg prob=0.51 name=Olivier\n",
      "correct=male guess=neg prob=0.51 name=Ollie\n",
      "correct=male guess=neg prob=0.51 name=Oral\n",
      "correct=male guess=neg prob=0.51 name=Orin\n",
      "correct=male guess=neg prob=0.51 name=Orlando\n",
      "correct=male guess=neg prob=0.51 name=Orrin\n",
      "correct=male guess=neg prob=0.51 name=Orton\n",
      "correct=male guess=neg prob=0.51 name=Osmund\n",
      "correct=male guess=neg prob=0.51 name=Ossie\n",
      "correct=male guess=neg prob=0.51 name=Othello\n",
      "correct=male guess=neg prob=0.51 name=Otho\n",
      "correct=male guess=neg prob=0.51 name=Otis\n",
      "correct=male guess=neg prob=0.51 name=Ozzy\n",
      "correct=male guess=neg prob=0.51 name=Paddie\n",
      "correct=male guess=neg prob=0.51 name=Paddy\n",
      "correct=male guess=neg prob=0.51 name=Padraig\n",
      "correct=male guess=neg prob=0.51 name=Page\n",
      "correct=male guess=neg prob=0.51 name=Palmer\n",
      "correct=male guess=neg prob=0.51 name=Paolo\n",
      "correct=male guess=neg prob=0.51 name=Parker\n",
      "correct=male guess=neg prob=0.51 name=Parry\n",
      "correct=male guess=neg prob=0.51 name=Pat\n",
      "correct=male guess=neg prob=0.51 name=Patel\n",
      "correct=male guess=neg prob=0.51 name=Patric\n",
      "correct=male guess=neg prob=0.51 name=Patrice\n",
      "correct=male guess=neg prob=0.51 name=Patrick\n",
      "correct=male guess=neg prob=0.51 name=Patty\n",
      "correct=male guess=neg prob=0.51 name=Paul\n",
      "correct=male guess=neg prob=0.51 name=Pedro\n",
      "correct=male guess=neg prob=0.51 name=Penny\n",
      "correct=male guess=neg prob=0.51 name=Pete\n",
      "correct=male guess=neg prob=0.51 name=Peter\n",
      "correct=male guess=neg prob=0.51 name=Peyton\n",
      "correct=male guess=neg prob=0.51 name=Philip\n",
      "correct=male guess=neg prob=0.51 name=Phip\n",
      "correct=male guess=neg prob=0.51 name=Pierre\n",
      "correct=male guess=neg prob=0.51 name=Pieter\n",
      "correct=male guess=neg prob=0.51 name=Piggy\n",
      "correct=male guess=neg prob=0.51 name=Pincus\n",
      "correct=male guess=neg prob=0.51 name=Poul\n",
      "correct=male guess=neg prob=0.51 name=Powell\n",
      "correct=male guess=neg prob=0.51 name=Prentiss\n",
      "correct=male guess=neg prob=0.51 name=Preston\n",
      "correct=male guess=neg prob=0.51 name=Price\n",
      "correct=male guess=neg prob=0.51 name=Prince\n",
      "correct=male guess=neg prob=0.51 name=Pryce\n",
      "correct=male guess=neg prob=0.51 name=Puff\n",
      "correct=male guess=neg prob=0.51 name=Quent\n",
      "correct=male guess=neg prob=0.51 name=Quentin\n",
      "correct=male guess=neg prob=0.51 name=Quiggly\n",
      "correct=male guess=neg prob=0.51 name=Quillan\n",
      "correct=male guess=neg prob=0.51 name=Quint\n",
      "correct=male guess=neg prob=0.51 name=Quinton\n",
      "correct=male guess=neg prob=0.51 name=Rabi\n",
      "correct=male guess=neg prob=0.51 name=Rafe\n",
      "correct=male guess=neg prob=0.51 name=Ragnar\n",
      "correct=male guess=neg prob=0.51 name=Rahul\n",
      "correct=male guess=neg prob=0.51 name=Raimund\n",
      "correct=male guess=neg prob=0.51 name=Rainer\n",
      "correct=male guess=neg prob=0.51 name=Randell\n",
      "correct=male guess=neg prob=0.51 name=Randi\n",
      "correct=male guess=neg prob=0.51 name=Randie\n",
      "correct=male guess=neg prob=0.51 name=Randolph\n",
      "correct=male guess=neg prob=0.51 name=Randy\n",
      "correct=male guess=neg prob=0.51 name=Raoul\n",
      "correct=male guess=neg prob=0.51 name=Ravi\n",
      "correct=male guess=neg prob=0.51 name=Rawley\n",
      "correct=male guess=neg prob=0.51 name=Ray\n",
      "correct=male guess=neg prob=0.51 name=Raymond\n",
      "correct=male guess=neg prob=0.51 name=Rayner\n",
      "correct=male guess=neg prob=0.51 name=Red\n",
      "correct=male guess=neg prob=0.51 name=Redford\n",
      "correct=male guess=neg prob=0.51 name=Reece\n",
      "correct=male guess=neg prob=0.51 name=Reg\n",
      "correct=male guess=neg prob=0.51 name=Regen\n",
      "correct=male guess=neg prob=0.51 name=Reid\n",
      "correct=male guess=neg prob=0.51 name=Rem\n",
      "correct=male guess=neg prob=0.51 name=Remington\n",
      "correct=male guess=neg prob=0.51 name=Renado\n",
      "correct=male guess=neg prob=0.51 name=Renato\n",
      "correct=male guess=neg prob=0.51 name=Renault\n",
      "correct=male guess=neg prob=0.51 name=Rex\n",
      "correct=male guess=neg prob=0.51 name=Reynold\n",
      "correct=male guess=neg prob=0.51 name=Reynolds\n",
      "correct=male guess=neg prob=0.51 name=Ric\n",
      "correct=male guess=neg prob=0.51 name=Riccardo\n",
      "correct=male guess=neg prob=0.51 name=Richardo\n",
      "correct=male guess=neg prob=0.51 name=Richie\n",
      "correct=male guess=neg prob=0.51 name=Richy\n",
      "correct=male guess=neg prob=0.51 name=Rickard\n",
      "correct=male guess=neg prob=0.51 name=Rickey\n",
      "correct=male guess=neg prob=0.51 name=Ricki\n",
      "correct=male guess=neg prob=0.51 name=Rickie\n",
      "correct=male guess=neg prob=0.51 name=Rinaldo\n",
      "correct=male guess=neg prob=0.51 name=Roarke\n",
      "correct=male guess=neg prob=0.51 name=Robert\n",
      "correct=male guess=neg prob=0.51 name=Rocky\n",
      "correct=male guess=neg prob=0.51 name=Rod\n",
      "correct=male guess=neg prob=0.51 name=Rodd\n",
      "correct=male guess=neg prob=0.51 name=Roddie\n",
      "correct=male guess=neg prob=0.51 name=Roddy\n",
      "correct=male guess=neg prob=0.51 name=Rodney\n",
      "correct=male guess=neg prob=0.51 name=Rodolph\n",
      "correct=male guess=neg prob=0.51 name=Rodolphe\n",
      "correct=male guess=neg prob=0.51 name=Rodrigo\n",
      "correct=male guess=neg prob=0.51 name=Roger\n",
      "correct=male guess=neg prob=0.51 name=Rolando\n",
      "correct=male guess=neg prob=0.51 name=Rolfe\n",
      "correct=male guess=neg prob=0.51 name=Romeo\n",
      "correct=male guess=neg prob=0.51 name=Ronen\n",
      "correct=male guess=neg prob=0.51 name=Rory\n",
      "correct=male guess=neg prob=0.51 name=Ross\n",
      "correct=male guess=neg prob=0.51 name=Rowland\n",
      "correct=male guess=neg prob=0.51 name=Royal\n",
      "correct=male guess=neg prob=0.51 name=Royce\n",
      "correct=male guess=neg prob=0.51 name=Rube\n",
      "correct=male guess=neg prob=0.51 name=Rubin\n",
      "correct=male guess=neg prob=0.51 name=Rudd\n",
      "correct=male guess=neg prob=0.51 name=Ruddy\n",
      "correct=male guess=neg prob=0.51 name=Rudie\n",
      "correct=male guess=neg prob=0.51 name=Rudiger\n",
      "correct=male guess=neg prob=0.51 name=Rudyard\n",
      "correct=male guess=neg prob=0.51 name=Ruperto\n",
      "correct=male guess=neg prob=0.51 name=Russ\n",
      "correct=male guess=neg prob=0.51 name=Russel\n",
      "correct=male guess=neg prob=0.51 name=Rustin\n",
      "correct=male guess=neg prob=0.51 name=Rutherford\n",
      "correct=male guess=neg prob=0.51 name=Ryan\n",
      "correct=male guess=neg prob=0.51 name=Salim\n",
      "correct=male guess=neg prob=0.51 name=Salman\n",
      "correct=male guess=neg prob=0.51 name=Salmon\n",
      "correct=male guess=neg prob=0.51 name=Salomo\n",
      "correct=male guess=neg prob=0.51 name=Salomone\n",
      "correct=male guess=neg prob=0.51 name=Samson\n",
      "correct=male guess=neg prob=0.51 name=Sander\n",
      "correct=male guess=neg prob=0.51 name=Sanders\n",
      "correct=male guess=neg prob=0.51 name=Sandy\n",
      "correct=male guess=neg prob=0.51 name=Sanson\n",
      "correct=male guess=neg prob=0.51 name=Saul\n",
      "correct=male guess=neg prob=0.51 name=Sauncho\n",
      "correct=male guess=neg prob=0.51 name=Saunder\n",
      "correct=male guess=neg prob=0.51 name=Saunders\n",
      "correct=male guess=neg prob=0.51 name=Sawyere\n",
      "correct=male guess=neg prob=0.51 name=Saxon\n",
      "correct=male guess=neg prob=0.51 name=Sayres\n",
      "correct=male guess=neg prob=0.51 name=Scottie\n",
      "correct=male guess=neg prob=0.51 name=Sebastien\n",
      "correct=male guess=neg prob=0.51 name=See\n",
      "correct=male guess=neg prob=0.51 name=Shaine\n",
      "correct=male guess=neg prob=0.51 name=Shaughn\n",
      "correct=male guess=neg prob=0.51 name=Shay\n",
      "correct=male guess=neg prob=0.51 name=Sheffield\n",
      "correct=male guess=neg prob=0.51 name=Sheldon\n",
      "correct=male guess=neg prob=0.51 name=Shelton\n",
      "correct=male guess=neg prob=0.51 name=Shep\n",
      "correct=male guess=neg prob=0.51 name=Sheppard\n",
      "correct=male guess=neg prob=0.51 name=Sherman\n",
      "correct=male guess=neg prob=0.51 name=Sherwynd\n",
      "correct=male guess=neg prob=0.51 name=Shorty\n",
      "correct=male guess=neg prob=0.51 name=Shumeet\n",
      "correct=male guess=neg prob=0.51 name=Shurlocke\n",
      "correct=male guess=neg prob=0.51 name=Shurwood\n",
      "correct=male guess=neg prob=0.51 name=Sid\n",
      "correct=male guess=neg prob=0.51 name=Siddhartha\n",
      "correct=male guess=neg prob=0.51 name=Sidnee\n",
      "correct=male guess=neg prob=0.51 name=Siffre\n",
      "correct=male guess=neg prob=0.51 name=Sig\n",
      "correct=male guess=neg prob=0.51 name=Sigmund\n",
      "correct=male guess=neg prob=0.51 name=Silvain\n",
      "correct=male guess=neg prob=0.51 name=Silvan\n",
      "correct=male guess=neg prob=0.51 name=Silvester\n",
      "correct=male guess=neg prob=0.51 name=Silvio\n",
      "correct=male guess=neg prob=0.51 name=Simeon\n",
      "correct=male guess=neg prob=0.51 name=Simon\n",
      "correct=male guess=neg prob=0.51 name=Simone\n",
      "correct=male guess=neg prob=0.51 name=Siward\n",
      "correct=male guess=neg prob=0.51 name=Skell\n",
      "correct=male guess=neg prob=0.51 name=Skipper\n",
      "correct=male guess=neg prob=0.51 name=Skippie\n",
      "correct=male guess=neg prob=0.51 name=Skippy\n",
      "correct=male guess=neg prob=0.51 name=Skylar\n",
      "correct=male guess=neg prob=0.51 name=Slim\n",
      "correct=male guess=neg prob=0.51 name=Sloane\n",
      "correct=male guess=neg prob=0.51 name=Sly\n",
      "correct=male guess=neg prob=0.51 name=Smitty\n",
      "correct=male guess=neg prob=0.51 name=Sollie\n",
      "correct=male guess=neg prob=0.51 name=Solly\n",
      "correct=male guess=neg prob=0.51 name=Sonnie\n",
      "correct=male guess=neg prob=0.51 name=Sonny\n",
      "correct=male guess=neg prob=0.51 name=Spence\n",
      "correct=male guess=neg prob=0.51 name=Spencer\n",
      "correct=male guess=neg prob=0.51 name=Spense\n",
      "correct=male guess=neg prob=0.51 name=Spike\n",
      "correct=male guess=neg prob=0.51 name=Srinivas\n",
      "correct=male guess=neg prob=0.51 name=Staffard\n",
      "correct=male guess=neg prob=0.51 name=Staford\n",
      "correct=male guess=neg prob=0.51 name=Standford\n",
      "correct=male guess=neg prob=0.51 name=Stanfield\n",
      "correct=male guess=neg prob=0.51 name=Stanislaw\n",
      "correct=male guess=neg prob=0.51 name=Stanleigh\n",
      "correct=male guess=neg prob=0.51 name=Stanly\n",
      "correct=male guess=neg prob=0.51 name=Stavros\n",
      "correct=male guess=neg prob=0.51 name=Stearne\n",
      "correct=male guess=neg prob=0.51 name=Steffen\n",
      "correct=male guess=neg prob=0.51 name=Stern\n",
      "correct=male guess=neg prob=0.51 name=Steve\n",
      "correct=male guess=neg prob=0.51 name=Steven\n",
      "correct=male guess=neg prob=0.51 name=Stewart\n",
      "correct=male guess=neg prob=0.51 name=Stillman\n",
      "correct=male guess=neg prob=0.51 name=Stillmann\n",
      "correct=male guess=neg prob=0.51 name=Stuart\n",
      "correct=male guess=neg prob=0.51 name=Sturgis\n",
      "correct=male guess=neg prob=0.51 name=Sullivan\n",
      "correct=male guess=neg prob=0.51 name=Sumner\n",
      "correct=male guess=neg prob=0.51 name=Swen\n",
      "correct=male guess=neg prob=0.51 name=Syd\n",
      "correct=male guess=neg prob=0.51 name=Sydney\n",
      "correct=male guess=neg prob=0.51 name=Sylvan\n",
      "correct=male guess=neg prob=0.51 name=Sylvester\n",
      "correct=male guess=neg prob=0.51 name=Tab\n",
      "correct=male guess=neg prob=0.51 name=Tabb\n",
      "correct=male guess=neg prob=0.51 name=Tabby\n",
      "correct=male guess=neg prob=0.51 name=Taber\n",
      "correct=male guess=neg prob=0.51 name=Tabor\n",
      "correct=male guess=neg prob=0.51 name=Taddeo\n",
      "correct=male guess=neg prob=0.51 name=Taddeus\n",
      "correct=male guess=neg prob=0.51 name=Tailor\n",
      "correct=male guess=neg prob=0.51 name=Tait\n",
      "correct=male guess=neg prob=0.51 name=Talbert\n",
      "correct=male guess=neg prob=0.51 name=Talbot\n",
      "correct=male guess=neg prob=0.51 name=Tam\n",
      "correct=male guess=neg prob=0.51 name=Tammie\n",
      "correct=male guess=neg prob=0.51 name=Tan\n",
      "correct=male guess=neg prob=0.51 name=Tann\n",
      "correct=male guess=neg prob=0.51 name=Tanney\n",
      "correct=male guess=neg prob=0.51 name=Tannie\n",
      "correct=male guess=neg prob=0.51 name=Tarzan\n",
      "correct=male guess=neg prob=0.51 name=Taylor\n",
      "correct=male guess=neg prob=0.51 name=Tedd\n",
      "correct=male guess=neg prob=0.51 name=Teddy\n",
      "correct=male guess=neg prob=0.51 name=Tedie\n",
      "correct=male guess=neg prob=0.51 name=Temple\n",
      "correct=male guess=neg prob=0.51 name=Templeton\n",
      "correct=male guess=neg prob=0.51 name=Teodor\n",
      "correct=male guess=neg prob=0.51 name=Terence\n",
      "correct=male guess=neg prob=0.51 name=Terencio\n",
      "correct=male guess=neg prob=0.51 name=Terrance\n",
      "correct=male guess=neg prob=0.51 name=Terrel\n",
      "correct=male guess=neg prob=0.51 name=Terrell\n",
      "correct=male guess=neg prob=0.51 name=Terrence\n",
      "correct=male guess=neg prob=0.51 name=Thacher\n",
      "correct=male guess=neg prob=0.51 name=Thaddius\n",
      "correct=male guess=neg prob=0.51 name=Tharen\n",
      "correct=male guess=neg prob=0.51 name=Thatch\n",
      "correct=male guess=neg prob=0.51 name=Thayne\n",
      "correct=male guess=neg prob=0.51 name=Theobald\n",
      "correct=male guess=neg prob=0.51 name=Theodoric\n",
      "correct=male guess=neg prob=0.51 name=Thibaut\n",
      "correct=male guess=neg prob=0.51 name=Thor\n",
      "correct=male guess=neg prob=0.51 name=Thorn\n",
      "correct=male guess=neg prob=0.51 name=Thorpe\n",
      "correct=male guess=neg prob=0.51 name=Thorstein\n",
      "correct=male guess=neg prob=0.51 name=Thorsten\n",
      "correct=male guess=neg prob=0.51 name=Thorvald\n",
      "correct=male guess=neg prob=0.51 name=Thurston\n",
      "correct=male guess=neg prob=0.51 name=Tibold\n",
      "correct=male guess=neg prob=0.51 name=Tiebold\n",
      "correct=male guess=neg prob=0.51 name=Tiebout\n",
      "correct=male guess=neg prob=0.51 name=Timothee\n",
      "correct=male guess=neg prob=0.51 name=Timotheus\n",
      "correct=male guess=neg prob=0.51 name=Tito\n",
      "correct=male guess=neg prob=0.51 name=Titos\n",
      "correct=male guess=neg prob=0.51 name=Tobiah\n",
      "correct=male guess=neg prob=0.51 name=Tobin\n",
      "correct=male guess=neg prob=0.51 name=Toby\n",
      "correct=male guess=neg prob=0.51 name=Todd\n",
      "correct=male guess=neg prob=0.51 name=Tom\n",
      "correct=male guess=neg prob=0.51 name=Torin\n",
      "correct=male guess=neg prob=0.51 name=Torre\n",
      "correct=male guess=neg prob=0.51 name=Torrey\n",
      "correct=male guess=neg prob=0.51 name=Torrin\n",
      "correct=male guess=neg prob=0.51 name=Torry\n",
      "correct=male guess=neg prob=0.51 name=Townsend\n",
      "correct=male guess=neg prob=0.51 name=Towny\n",
      "correct=male guess=neg prob=0.51 name=Tracey\n",
      "correct=male guess=neg prob=0.51 name=Tre\n",
      "correct=male guess=neg prob=0.51 name=Tremain\n",
      "correct=male guess=neg prob=0.51 name=Tremaine\n",
      "correct=male guess=neg prob=0.51 name=Trevar\n",
      "correct=male guess=neg prob=0.51 name=Truman\n",
      "correct=male guess=neg prob=0.51 name=Tuck\n",
      "correct=male guess=neg prob=0.51 name=Tuckie\n",
      "correct=male guess=neg prob=0.51 name=Tull\n",
      "correct=male guess=neg prob=0.51 name=Turner\n",
      "correct=male guess=neg prob=0.51 name=Ty\n",
      "correct=male guess=neg prob=0.51 name=Tye\n",
      "correct=male guess=neg prob=0.51 name=Tyler\n",
      "correct=male guess=neg prob=0.51 name=Udale\n",
      "correct=male guess=neg prob=0.51 name=Udall\n",
      "correct=male guess=neg prob=0.51 name=Udell\n",
      "correct=male guess=neg prob=0.51 name=Umberto\n",
      "correct=male guess=neg prob=0.51 name=Urban\n",
      "correct=male guess=neg prob=0.51 name=Urbanus\n",
      "correct=male guess=neg prob=0.51 name=Vachel\n",
      "correct=male guess=neg prob=0.51 name=Vale\n",
      "correct=male guess=neg prob=0.51 name=Valentin\n",
      "correct=male guess=neg prob=0.51 name=Van\n",
      "correct=male guess=neg prob=0.51 name=Vance\n",
      "correct=male guess=neg prob=0.51 name=Vasili\n",
      "correct=male guess=neg prob=0.51 name=Vassily\n",
      "correct=male guess=neg prob=0.51 name=Verge\n",
      "correct=male guess=neg prob=0.51 name=Verne\n",
      "correct=male guess=neg prob=0.51 name=Vernon\n",
      "correct=male guess=neg prob=0.51 name=Vic\n",
      "correct=male guess=neg prob=0.51 name=Victor\n",
      "correct=male guess=neg prob=0.51 name=Vincent\n",
      "correct=male guess=neg prob=0.51 name=Vinny\n",
      "correct=male guess=neg prob=0.51 name=Virgil\n",
      "correct=male guess=neg prob=0.51 name=Vlad\n",
      "correct=male guess=neg prob=0.51 name=Vladamir\n",
      "correct=male guess=neg prob=0.51 name=Vladimir\n",
      "correct=male guess=neg prob=0.51 name=Voltaire\n",
      "correct=male guess=neg prob=0.51 name=Wade\n",
      "correct=male guess=neg prob=0.51 name=Wadsworth\n",
      "correct=male guess=neg prob=0.51 name=Wainwright\n",
      "correct=male guess=neg prob=0.51 name=Waite\n",
      "correct=male guess=neg prob=0.51 name=Wake\n",
      "correct=male guess=neg prob=0.51 name=Walden\n",
      "correct=male guess=neg prob=0.51 name=Wallace\n",
      "correct=male guess=neg prob=0.51 name=Wallache\n",
      "correct=male guess=neg prob=0.51 name=Wallie\n",
      "correct=male guess=neg prob=0.51 name=Wallis\n",
      "correct=male guess=neg prob=0.51 name=Walsh\n",
      "correct=male guess=neg prob=0.51 name=Walt\n",
      "correct=male guess=neg prob=0.51 name=Walther\n",
      "correct=male guess=neg prob=0.51 name=Walton\n",
      "correct=male guess=neg prob=0.51 name=Wang\n",
      "correct=male guess=neg prob=0.51 name=Warner\n",
      "correct=male guess=neg prob=0.51 name=Wash\n",
      "correct=male guess=neg prob=0.51 name=Wat\n",
      "correct=male guess=neg prob=0.51 name=Waverley\n",
      "correct=male guess=neg prob=0.51 name=Way\n",
      "correct=male guess=neg prob=0.51 name=Waylan\n",
      "correct=male guess=neg prob=0.51 name=Wayland\n",
      "correct=male guess=neg prob=0.51 name=Waylon\n",
      "correct=male guess=neg prob=0.51 name=Webb\n",
      "correct=male guess=neg prob=0.51 name=Weidar\n",
      "correct=male guess=neg prob=0.51 name=Wells\n",
      "correct=male guess=neg prob=0.51 name=Werner\n",
      "correct=male guess=neg prob=0.51 name=Wes\n",
      "correct=male guess=neg prob=0.51 name=Westley\n",
      "correct=male guess=neg prob=0.51 name=Weston\n",
      "correct=male guess=neg prob=0.51 name=Whit\n",
      "correct=male guess=neg prob=0.51 name=Whitaker\n",
      "correct=male guess=neg prob=0.51 name=Whitby\n",
      "correct=male guess=neg prob=0.51 name=Whitney\n",
      "correct=male guess=neg prob=0.51 name=Wiatt\n",
      "correct=male guess=neg prob=0.51 name=Wilber\n",
      "correct=male guess=neg prob=0.51 name=Wilbert\n",
      "correct=male guess=neg prob=0.51 name=Wilbur\n",
      "correct=male guess=neg prob=0.51 name=Wilburt\n",
      "correct=male guess=neg prob=0.51 name=Wiley\n",
      "correct=male guess=neg prob=0.51 name=Wilfred\n",
      "correct=male guess=neg prob=0.51 name=Willdon\n",
      "correct=male guess=neg prob=0.51 name=Wilson\n",
      "correct=male guess=neg prob=0.51 name=Wilton\n",
      "correct=male guess=neg prob=0.51 name=Winfield\n",
      "correct=male guess=neg prob=0.51 name=Winford\n",
      "correct=male guess=neg prob=0.51 name=Winny\n",
      "correct=male guess=neg prob=0.51 name=Winslow\n",
      "correct=male guess=neg prob=0.51 name=Winthrop\n",
      "correct=male guess=neg prob=0.51 name=Winton\n",
      "correct=male guess=neg prob=0.51 name=Woodie\n",
      "correct=male guess=neg prob=0.51 name=Woodman\n",
      "correct=male guess=neg prob=0.51 name=Worthington\n",
      "correct=male guess=neg prob=0.51 name=Worthy\n",
      "correct=male guess=neg prob=0.51 name=Wyatan\n",
      "correct=male guess=neg prob=0.51 name=Wye\n",
      "correct=male guess=neg prob=0.51 name=Wylie\n",
      "correct=male guess=neg prob=0.51 name=Xenos\n",
      "correct=male guess=neg prob=0.51 name=Yaakov\n",
      "correct=male guess=neg prob=0.51 name=Yacov\n",
      "correct=male guess=neg prob=0.51 name=Yale\n",
      "correct=male guess=neg prob=0.51 name=Yance\n",
      "correct=male guess=neg prob=0.51 name=Yancey\n",
      "correct=male guess=neg prob=0.51 name=Yancy\n",
      "correct=male guess=neg prob=0.51 name=Yard\n",
      "correct=male guess=neg prob=0.51 name=Yehudi\n",
      "correct=male guess=neg prob=0.51 name=Yule\n",
      "correct=male guess=neg prob=0.51 name=Yves\n",
      "correct=male guess=neg prob=0.51 name=Zachariah\n",
      "correct=male guess=neg prob=0.51 name=Zacharie\n",
      "correct=male guess=neg prob=0.51 name=Zachary\n",
      "correct=male guess=neg prob=0.51 name=Zak\n",
      "correct=male guess=neg prob=0.51 name=Zebulon\n",
      "correct=male guess=neg prob=0.51 name=Zed\n",
      "correct=male guess=neg prob=0.51 name=Zedekiah\n",
      "correct=male guess=neg prob=0.51 name=Zerk\n"
     ]
    }
   ],
   "source": [
    "for (label, guess, prob, name) in sorted(errors):\n",
    "  print('correct={} guess={} prob={:.2f} name={}'.format(label, guess, prob, name))"
   ]
  },
  {
   "cell_type": "markdown",
   "metadata": {
    "editable": true,
    "slideshow": {
     "slide_type": "fragment"
    },
    "tags": []
   },
   "source": [
    "What could we do to improve it? (Lab Assignment)"
   ]
  },
  {
   "cell_type": "markdown",
   "metadata": {
    "editable": true,
    "slideshow": {
     "slide_type": "subslide"
    },
    "tags": []
   },
   "source": [
    "##### Now lets look at some bigger documents\n",
    "* This may take a while to download."
   ]
  },
  {
   "cell_type": "code",
   "execution_count": 362,
   "metadata": {
    "editable": true,
    "slideshow": {
     "slide_type": "fragment"
    },
    "tags": []
   },
   "outputs": [
    {
     "name": "stderr",
     "output_type": "stream",
     "text": [
      "[nltk_data] Downloading package movie_reviews to\n",
      "[nltk_data]     /Users/riverjeon/nltk_data...\n",
      "[nltk_data]   Package movie_reviews is already up-to-date!\n"
     ]
    },
    {
     "data": {
      "text/plain": [
       "True"
      ]
     },
     "execution_count": 362,
     "metadata": {},
     "output_type": "execute_result"
    }
   ],
   "source": [
    "from nltk.corpus import movie_reviews\n",
    "nltk.download('movie_reviews')"
   ]
  },
  {
   "cell_type": "code",
   "execution_count": null,
   "metadata": {
    "editable": true,
    "slideshow": {
     "slide_type": "fragment"
    },
    "tags": []
   },
   "outputs": [
    {
     "name": "stdout",
     "output_type": "stream",
     "text": [
      "['pos/cv000_29590.txt', 'pos/cv001_18431.txt', 'pos/cv002_15918.txt']\n"
     ]
    }
   ],
   "source": [
    "# list of tuples\n",
    "# ([words], label)\n",
    "documents = [(list(movie_reviews.words(fileid)), category) # movie_reviews.words('neg/cv000_29416.txt'), returns the tokenized words of the review file\n",
    "              for category in movie_reviews.categories() # categories are 'pos' and 'neg'\n",
    "              for fileid in movie_reviews.fileids(category)]  # For each category, it loops over all the file IDs belonging to that category.\n",
    "\n",
    "print(movie_reviews.fileids('pos')[:3])\n"
   ]
  },
  {
   "cell_type": "code",
   "execution_count": 384,
   "metadata": {
    "editable": true,
    "slideshow": {
     "slide_type": "fragment"
    },
    "tags": []
   },
   "outputs": [
    {
     "name": "stdout",
     "output_type": "stream",
     "text": [
      "<class 'list'>\n",
      "(['capsule', ':', 'five', 'friends', 'at', 'a', 'stag', 'party', 'are', 'involved', 'in', 'the', 'accidental', 'killing', 'of', 'a', 'prostitute', '.', 'the', 'cover', '-', 'up', 'attempt', 'becomes', 'a', 'monster', 'that', 'eats', 'up', 'the', 'friends', ',', 'two', 'wives', 'and', 'several', 'innocent', 'bystanders', '.', 'this', 'was', 'a', 'real', 'audience', 'pleaser', 'at', 'toronto', ',', 'but', 'it', 'did', 'not', 'do', 'much', 'for', 'me', '.', ',', 'low', '0', '(', '-', '4', 'to', '+', '4', ')', '-', 'directed', 'by', 'peter', 'berg', 'who', 'acted', 'in', 'the', 'last', 'seduction', 'and', 'copland', '.', '-', 'five', 'buddies', 'go', 'on', 'a', 'stag', 'outing', 'to', 'las', 'vegas', 'while', 'cameron', 'diaz', 'works', 'through', 'the', 'logistics', 'of', 'her', 'upcoming', 'wedding', 'to', 'one', 'of', 'them', '.', 'one', 'of', 'the', 'buddies', 'accidentally', 'kills', 'a', 'prostitute', '.', '-', 'several', 'people', 'with', 'no', 'moral', 'compass', '.', 'they', 'started', 'out', 'with', 'a', 'simple', ',', 'innocent', 'little', 'cocaine', 'party', '(', '!', ')', 'and', 'by', 'accident', 'look', 'what', 'happened', '.', 'they', 'have', 'one', 'moral', 'person', 'among', 'them', '(', 'daniel', 'stern', ')', ',', 'and', 'one', 'totally', 'amoral', 'person', '(', 'christian', 'slater', ')', '.', 'it', 'is', 'more', 'selfish', 'to', 'let', 'the', 'amoral', 'lead', ',', 'so', 'they', 'do', '.', '-', 'this', 'film', 'is', 'strange', ',', 'but', 'not', 'really', 'funny', 'or', 'biting', '.', 'black', 'comedy', 'should', 'actually', 'be', 'funny', 'as', 'well', 'as', 'strange', '.', 'there', 'should', 'be', 'some', 'element', 'of', 'satire', '.', 'the', 'satire', 'is', 'missing', 'here', '.', 'i', 'did', 'not', 'find', 'myself', 'laughing', 'here', 'either', '.', 'what', 'we', 'have', 'is', 'a', 'strange', 'crime', 'tale', '.', '-', 'one', 'just', 'does', 'not', 'care', 'what', 'happens', 'to', 'these', 'people', '.', '-', 'the', 'same', 'idea', 'of', 'people', 'just', 'getting', 'themselves', 'in', 'deeper', 'and', 'deeper', 'has', 'been', 'done', 'frequently', '.', 'if', 'this', 'film', 'is', 'popular', 'it', 'is', 'just', 'bringing', 'a', 'familiar', 'plot', 'to', 'a', 'new', 'generation', '.', '-', 'it', 'begins', 'like', 'diner', '(', 'particularly', 'with', 'daniel', 'stern', ')', 'and', 'ends', 'up', 'like', 'an', 'extended', 'horror', '/', 'crime', 'comic', 'book', '.', '-', 'there', 'are', 'several', 'logical', 'holes', 'in', 'script', '.', 'if', 'a', 'security', 'man', 'goes', 'to', 'investigate', 'a', 'complaint', 'and', 'disappears', ',', 'wouldn', \"'\", 't', 'the', 'guests', 'he', 'was', 'investigating', 'be', 'the', 'first', 'suspects', '?', 'someone', 'framed', 'for', 'a', 'crime', 'in', 'the', 'way', 'shown', 'would', 'be', 'judged', 'innocent', 'after', 'minimal', 'forensic', 'detective', 'work', '.', '(', 'i', 'am', 'desperately', 'trying', 'to', 'avoid', 'making', 'this', 'a', 'spoiler', '.', ')', '-', 'popular', 'and', 'situation', 'ethics', 'get', 'a', 'real', 'slamming', '.', '-', 'some', 'acting', 'of', 'grief', 'is', 'hammy', 'and', 'overdone', '.', 'more', 'yelling', 'than', 'humor', '.'], 'neg')\n",
      "<class 'tuple'>\n"
     ]
    },
    {
     "data": {
      "text/plain": [
       "'neg'"
      ]
     },
     "execution_count": 384,
     "metadata": {},
     "output_type": "execute_result"
    }
   ],
   "source": [
    "print(type(documents))\n",
    "print(documents[0])\n",
    "\n",
    "print(type(documents[0]))\n",
    "# documents[0][0]\n",
    "documents[0][1] # only neg & pos\n"
   ]
  },
  {
   "cell_type": "code",
   "execution_count": 365,
   "metadata": {
    "editable": true,
    "slideshow": {
     "slide_type": "subslide"
    },
    "tags": []
   },
   "outputs": [],
   "source": [
    "random.shuffle(documents)"
   ]
  },
  {
   "cell_type": "markdown",
   "metadata": {
    "editable": true,
    "slideshow": {
     "slide_type": "fragment"
    },
    "tags": []
   },
   "source": [
    "* Dictionary of words and number of instances"
   ]
  },
  {
   "cell_type": "code",
   "execution_count": 366,
   "metadata": {
    "editable": true,
    "slideshow": {
     "slide_type": "fragment"
    },
    "tags": []
   },
   "outputs": [
    {
     "data": {
      "text/plain": [
       "39768"
      ]
     },
     "execution_count": 366,
     "metadata": {},
     "output_type": "execute_result"
    }
   ],
   "source": [
    "all_words = nltk.FreqDist(w.lower() for w in movie_reviews.words())\n",
    "len(all_words)"
   ]
  },
  {
   "cell_type": "code",
   "execution_count": 367,
   "metadata": {
    "editable": true,
    "slideshow": {
     "slide_type": "fragment"
    },
    "tags": []
   },
   "outputs": [
    {
     "data": {
      "text/plain": [
       "FreqDist({',': 77717, 'the': 76529, '.': 65876, 'a': 38106, 'and': 35576, 'of': 34123, 'to': 31937, \"'\": 30585, 'is': 25195, 'in': 21822, ...})"
      ]
     },
     "execution_count": 367,
     "metadata": {},
     "output_type": "execute_result"
    }
   ],
   "source": [
    "all_words"
   ]
  },
  {
   "cell_type": "markdown",
   "metadata": {
    "editable": true,
    "slideshow": {
     "slide_type": "subslide"
    },
    "tags": []
   },
   "source": [
    "* Check the frequency of `,`"
   ]
  },
  {
   "cell_type": "code",
   "execution_count": 368,
   "metadata": {
    "editable": true,
    "slideshow": {
     "slide_type": "fragment"
    },
    "tags": []
   },
   "outputs": [
    {
     "data": {
      "text/plain": [
       "77717"
      ]
     },
     "execution_count": 368,
     "metadata": {},
     "output_type": "execute_result"
    }
   ],
   "source": [
    "all_words[',']"
   ]
  },
  {
   "cell_type": "code",
   "execution_count": 387,
   "metadata": {
    "editable": true,
    "slideshow": {
     "slide_type": "fragment"
    },
    "tags": []
   },
   "outputs": [],
   "source": [
    "word_features = [k for k in all_words.keys() if all_words[k] > 5]"
   ]
  },
  {
   "cell_type": "code",
   "execution_count": 370,
   "metadata": {
    "editable": true,
    "slideshow": {
     "slide_type": "fragment"
    },
    "tags": []
   },
   "outputs": [
    {
     "data": {
      "text/plain": [
       "13214"
      ]
     },
     "execution_count": 370,
     "metadata": {},
     "output_type": "execute_result"
    }
   ],
   "source": [
    "len(word_features)"
   ]
  },
  {
   "cell_type": "markdown",
   "metadata": {
    "editable": true,
    "slideshow": {
     "slide_type": "subslide"
    },
    "tags": []
   },
   "source": [
    "* Define function to get document features"
   ]
  },
  {
   "cell_type": "code",
   "execution_count": null,
   "metadata": {
    "editable": true,
    "slideshow": {
     "slide_type": "fragment"
    },
    "tags": []
   },
   "outputs": [],
   "source": [
    "def document_features(document):\n",
    "  document_words = set(document)\n",
    "  features = {}\n",
    "  for word in word_features: # word_features is a list of words that appear more than 5 times in the corpus\n",
    "      features['contains(%s)' % word] = (word in document_words)\n",
    "  return features"
   ]
  },
  {
   "cell_type": "code",
   "execution_count": 388,
   "metadata": {
    "editable": true,
    "slideshow": {
     "slide_type": "fragment"
    },
    "tags": []
   },
   "outputs": [
    {
     "data": {
      "text/plain": [
       "{'contains(plot)': False,\n",
       " 'contains(:)': False,\n",
       " 'contains(two)': False,\n",
       " 'contains(teen)': False,\n",
       " 'contains(couples)': False,\n",
       " 'contains(go)': False,\n",
       " 'contains(to)': False,\n",
       " 'contains(a)': True,\n",
       " 'contains(church)': False,\n",
       " 'contains(party)': False,\n",
       " 'contains(,)': False,\n",
       " 'contains(drink)': False,\n",
       " 'contains(and)': False,\n",
       " 'contains(then)': False,\n",
       " 'contains(drive)': False,\n",
       " 'contains(.)': False,\n",
       " 'contains(they)': False,\n",
       " 'contains(get)': False,\n",
       " 'contains(into)': False,\n",
       " 'contains(an)': False,\n",
       " 'contains(accident)': False,\n",
       " 'contains(one)': False,\n",
       " 'contains(of)': False,\n",
       " 'contains(the)': False,\n",
       " 'contains(guys)': False,\n",
       " 'contains(dies)': False,\n",
       " 'contains(but)': False,\n",
       " 'contains(his)': False,\n",
       " 'contains(girlfriend)': False,\n",
       " 'contains(continues)': False,\n",
       " 'contains(see)': False,\n",
       " 'contains(him)': False,\n",
       " 'contains(in)': False,\n",
       " 'contains(her)': False,\n",
       " 'contains(life)': False,\n",
       " 'contains(has)': False,\n",
       " 'contains(nightmares)': False,\n",
       " 'contains(what)': False,\n",
       " \"contains(')\": False,\n",
       " 'contains(s)': False,\n",
       " 'contains(deal)': False,\n",
       " 'contains(?)': False,\n",
       " 'contains(watch)': False,\n",
       " 'contains(movie)': True,\n",
       " 'contains(\")': False,\n",
       " 'contains(sorta)': False,\n",
       " 'contains(find)': False,\n",
       " 'contains(out)': False,\n",
       " 'contains(critique)': False,\n",
       " 'contains(mind)': False,\n",
       " 'contains(-)': False,\n",
       " 'contains(fuck)': False,\n",
       " 'contains(for)': False,\n",
       " 'contains(generation)': False,\n",
       " 'contains(that)': False,\n",
       " 'contains(touches)': False,\n",
       " 'contains(on)': False,\n",
       " 'contains(very)': False,\n",
       " 'contains(cool)': False,\n",
       " 'contains(idea)': False,\n",
       " 'contains(presents)': False,\n",
       " 'contains(it)': False,\n",
       " 'contains(bad)': False,\n",
       " 'contains(package)': False,\n",
       " 'contains(which)': False,\n",
       " 'contains(is)': True,\n",
       " 'contains(makes)': False,\n",
       " 'contains(this)': False,\n",
       " 'contains(review)': False,\n",
       " 'contains(even)': False,\n",
       " 'contains(harder)': False,\n",
       " 'contains(write)': False,\n",
       " 'contains(since)': False,\n",
       " 'contains(i)': False,\n",
       " 'contains(generally)': False,\n",
       " 'contains(applaud)': False,\n",
       " 'contains(films)': False,\n",
       " 'contains(attempt)': False,\n",
       " 'contains(break)': False,\n",
       " 'contains(mold)': False,\n",
       " 'contains(mess)': False,\n",
       " 'contains(with)': False,\n",
       " 'contains(your)': False,\n",
       " 'contains(head)': False,\n",
       " 'contains(such)': False,\n",
       " 'contains(()': False,\n",
       " 'contains(lost)': False,\n",
       " 'contains(highway)': False,\n",
       " 'contains(&)': False,\n",
       " 'contains(memento)': False,\n",
       " 'contains())': False,\n",
       " 'contains(there)': False,\n",
       " 'contains(are)': False,\n",
       " 'contains(good)': False,\n",
       " 'contains(ways)': False,\n",
       " 'contains(making)': False,\n",
       " 'contains(all)': False,\n",
       " 'contains(types)': False,\n",
       " 'contains(these)': False,\n",
       " 'contains(folks)': False,\n",
       " 'contains(just)': False,\n",
       " 'contains(didn)': False,\n",
       " 'contains(t)': False,\n",
       " 'contains(correctly)': False,\n",
       " 'contains(seem)': False,\n",
       " 'contains(have)': False,\n",
       " 'contains(taken)': False,\n",
       " 'contains(pretty)': False,\n",
       " 'contains(neat)': False,\n",
       " 'contains(concept)': False,\n",
       " 'contains(executed)': False,\n",
       " 'contains(terribly)': False,\n",
       " 'contains(so)': False,\n",
       " 'contains(problems)': False,\n",
       " 'contains(well)': False,\n",
       " 'contains(its)': False,\n",
       " 'contains(main)': False,\n",
       " 'contains(problem)': False,\n",
       " 'contains(simply)': False,\n",
       " 'contains(too)': False,\n",
       " 'contains(jumbled)': False,\n",
       " 'contains(starts)': False,\n",
       " 'contains(off)': False,\n",
       " 'contains(normal)': False,\n",
       " 'contains(fantasy)': False,\n",
       " 'contains(world)': False,\n",
       " 'contains(you)': False,\n",
       " 'contains(as)': False,\n",
       " 'contains(audience)': False,\n",
       " 'contains(member)': False,\n",
       " 'contains(no)': False,\n",
       " 'contains(going)': False,\n",
       " 'contains(dreams)': False,\n",
       " 'contains(characters)': False,\n",
       " 'contains(coming)': False,\n",
       " 'contains(back)': False,\n",
       " 'contains(from)': False,\n",
       " 'contains(dead)': False,\n",
       " 'contains(others)': False,\n",
       " 'contains(who)': False,\n",
       " 'contains(look)': False,\n",
       " 'contains(like)': False,\n",
       " 'contains(strange)': False,\n",
       " 'contains(chase)': False,\n",
       " 'contains(scenes)': False,\n",
       " 'contains(tons)': False,\n",
       " 'contains(weird)': False,\n",
       " 'contains(things)': False,\n",
       " 'contains(happen)': False,\n",
       " 'contains(most)': False,\n",
       " 'contains(not)': False,\n",
       " 'contains(explained)': False,\n",
       " 'contains(now)': False,\n",
       " 'contains(personally)': False,\n",
       " 'contains(don)': False,\n",
       " 'contains(trying)': False,\n",
       " 'contains(unravel)': False,\n",
       " 'contains(film)': False,\n",
       " 'contains(every)': False,\n",
       " 'contains(when)': False,\n",
       " 'contains(does)': False,\n",
       " 'contains(give)': False,\n",
       " 'contains(me)': False,\n",
       " 'contains(same)': False,\n",
       " 'contains(clue)': False,\n",
       " 'contains(over)': False,\n",
       " 'contains(again)': False,\n",
       " 'contains(kind)': False,\n",
       " 'contains(fed)': False,\n",
       " 'contains(up)': False,\n",
       " 'contains(after)': False,\n",
       " 'contains(while)': False,\n",
       " 'contains(biggest)': False,\n",
       " 'contains(obviously)': False,\n",
       " 'contains(got)': False,\n",
       " 'contains(big)': False,\n",
       " 'contains(secret)': False,\n",
       " 'contains(hide)': False,\n",
       " 'contains(seems)': False,\n",
       " 'contains(want)': False,\n",
       " 'contains(completely)': False,\n",
       " 'contains(until)': False,\n",
       " 'contains(final)': False,\n",
       " 'contains(five)': False,\n",
       " 'contains(minutes)': False,\n",
       " 'contains(do)': False,\n",
       " 'contains(make)': False,\n",
       " 'contains(entertaining)': False,\n",
       " 'contains(thrilling)': False,\n",
       " 'contains(or)': False,\n",
       " 'contains(engaging)': False,\n",
       " 'contains(meantime)': False,\n",
       " 'contains(really)': False,\n",
       " 'contains(sad)': False,\n",
       " 'contains(part)': False,\n",
       " 'contains(arrow)': False,\n",
       " 'contains(both)': False,\n",
       " 'contains(dig)': False,\n",
       " 'contains(flicks)': False,\n",
       " 'contains(we)': False,\n",
       " 'contains(actually)': False,\n",
       " 'contains(figured)': False,\n",
       " 'contains(by)': False,\n",
       " 'contains(half)': False,\n",
       " 'contains(way)': False,\n",
       " 'contains(point)': False,\n",
       " 'contains(strangeness)': False,\n",
       " 'contains(did)': False,\n",
       " 'contains(start)': False,\n",
       " 'contains(little)': False,\n",
       " 'contains(bit)': False,\n",
       " 'contains(sense)': False,\n",
       " 'contains(still)': False,\n",
       " 'contains(more)': False,\n",
       " 'contains(guess)': False,\n",
       " 'contains(bottom)': False,\n",
       " 'contains(line)': False,\n",
       " 'contains(movies)': False,\n",
       " 'contains(should)': False,\n",
       " 'contains(always)': False,\n",
       " 'contains(sure)': False,\n",
       " 'contains(before)': False,\n",
       " 'contains(given)': False,\n",
       " 'contains(enter)': False,\n",
       " 'contains(understanding)': False,\n",
       " 'contains(mean)': False,\n",
       " 'contains(showing)': False,\n",
       " 'contains(melissa)': False,\n",
       " 'contains(sagemiller)': False,\n",
       " 'contains(running)': False,\n",
       " 'contains(away)': False,\n",
       " 'contains(visions)': False,\n",
       " 'contains(about)': False,\n",
       " 'contains(20)': False,\n",
       " 'contains(throughout)': False,\n",
       " 'contains(plain)': False,\n",
       " 'contains(lazy)': False,\n",
       " 'contains(!)': False,\n",
       " 'contains(okay)': False,\n",
       " 'contains(people)': False,\n",
       " 'contains(chasing)': False,\n",
       " 'contains(know)': False,\n",
       " 'contains(need)': False,\n",
       " 'contains(how)': False,\n",
       " 'contains(giving)': False,\n",
       " 'contains(us)': False,\n",
       " 'contains(different)': False,\n",
       " 'contains(offering)': False,\n",
       " 'contains(further)': False,\n",
       " 'contains(insight)': False,\n",
       " 'contains(down)': False,\n",
       " 'contains(apparently)': False,\n",
       " 'contains(studio)': False,\n",
       " 'contains(took)': False,\n",
       " 'contains(director)': False,\n",
       " 'contains(themselves)': False,\n",
       " 'contains(shows)': False,\n",
       " 'contains(might)': False,\n",
       " 'contains(ve)': False,\n",
       " 'contains(been)': False,\n",
       " 'contains(decent)': False,\n",
       " 'contains(here)': False,\n",
       " 'contains(somewhere)': False,\n",
       " 'contains(suits)': False,\n",
       " 'contains(decided)': False,\n",
       " 'contains(turning)': False,\n",
       " 'contains(music)': False,\n",
       " 'contains(video)': False,\n",
       " 'contains(edge)': False,\n",
       " 'contains(would)': False,\n",
       " 'contains(actors)': False,\n",
       " 'contains(although)': False,\n",
       " 'contains(wes)': False,\n",
       " 'contains(bentley)': False,\n",
       " 'contains(seemed)': False,\n",
       " 'contains(be)': False,\n",
       " 'contains(playing)': False,\n",
       " 'contains(exact)': False,\n",
       " 'contains(character)': False,\n",
       " 'contains(he)': False,\n",
       " 'contains(american)': False,\n",
       " 'contains(beauty)': False,\n",
       " 'contains(only)': False,\n",
       " 'contains(new)': False,\n",
       " 'contains(neighborhood)': False,\n",
       " 'contains(my)': False,\n",
       " 'contains(kudos)': False,\n",
       " 'contains(holds)': False,\n",
       " 'contains(own)': False,\n",
       " 'contains(entire)': False,\n",
       " 'contains(feeling)': False,\n",
       " 'contains(overall)': False,\n",
       " 'contains(doesn)': False,\n",
       " 'contains(stick)': False,\n",
       " 'contains(because)': False,\n",
       " 'contains(entertain)': False,\n",
       " 'contains(confusing)': False,\n",
       " 'contains(rarely)': False,\n",
       " 'contains(feels)': False,\n",
       " 'contains(redundant)': False,\n",
       " 'contains(runtime)': False,\n",
       " 'contains(despite)': False,\n",
       " 'contains(ending)': False,\n",
       " 'contains(explanation)': False,\n",
       " 'contains(came)': False,\n",
       " 'contains(oh)': False,\n",
       " 'contains(horror)': False,\n",
       " 'contains(slasher)': False,\n",
       " 'contains(flick)': False,\n",
       " 'contains(someone)': False,\n",
       " 'contains(assuming)': False,\n",
       " 'contains(genre)': False,\n",
       " 'contains(hot)': False,\n",
       " 'contains(kids)': False,\n",
       " 'contains(also)': False,\n",
       " 'contains(wrapped)': False,\n",
       " 'contains(production)': False,\n",
       " 'contains(years)': False,\n",
       " 'contains(ago)': False,\n",
       " 'contains(sitting)': False,\n",
       " 'contains(shelves)': False,\n",
       " 'contains(ever)': False,\n",
       " 'contains(whatever)': False,\n",
       " 'contains(skip)': False,\n",
       " 'contains(where)': False,\n",
       " 'contains(joblo)': False,\n",
       " 'contains(nightmare)': False,\n",
       " 'contains(elm)': False,\n",
       " 'contains(street)': False,\n",
       " 'contains(3)': False,\n",
       " 'contains(7)': False,\n",
       " 'contains(/)': False,\n",
       " 'contains(10)': False,\n",
       " 'contains(blair)': False,\n",
       " 'contains(witch)': False,\n",
       " 'contains(2)': False,\n",
       " 'contains(crow)': False,\n",
       " 'contains(9)': False,\n",
       " 'contains(salvation)': False,\n",
       " 'contains(4)': False,\n",
       " 'contains(stir)': False,\n",
       " 'contains(echoes)': False,\n",
       " 'contains(8)': False,\n",
       " 'contains(happy)': False,\n",
       " 'contains(bastard)': False,\n",
       " 'contains(quick)': False,\n",
       " 'contains(damn)': False,\n",
       " 'contains(bug)': False,\n",
       " 'contains(starring)': False,\n",
       " 'contains(jamie)': False,\n",
       " 'contains(lee)': False,\n",
       " 'contains(curtis)': False,\n",
       " 'contains(another)': False,\n",
       " 'contains(baldwin)': False,\n",
       " 'contains(brother)': False,\n",
       " 'contains(william)': False,\n",
       " 'contains(time)': False,\n",
       " 'contains(story)': False,\n",
       " 'contains(regarding)': False,\n",
       " 'contains(crew)': False,\n",
       " 'contains(comes)': False,\n",
       " 'contains(across)': False,\n",
       " 'contains(deserted)': False,\n",
       " 'contains(russian)': False,\n",
       " 'contains(tech)': False,\n",
       " 'contains(ship)': False,\n",
       " 'contains(kick)': False,\n",
       " 'contains(power)': False,\n",
       " 'contains(within)': False,\n",
       " 'contains(gore)': False,\n",
       " 'contains(bringing)': False,\n",
       " 'contains(few)': False,\n",
       " 'contains(action)': False,\n",
       " 'contains(sequences)': False,\n",
       " 'contains(virus)': False,\n",
       " 'contains(empty)': False,\n",
       " 'contains(flash)': False,\n",
       " 'contains(substance)': False,\n",
       " 'contains(why)': False,\n",
       " 'contains(was)': False,\n",
       " 'contains(middle)': False,\n",
       " 'contains(nowhere)': False,\n",
       " 'contains(origin)': False,\n",
       " 'contains(pink)': False,\n",
       " 'contains(flashy)': False,\n",
       " 'contains(thing)': False,\n",
       " 'contains(hit)': False,\n",
       " 'contains(mir)': False,\n",
       " 'contains(course)': False,\n",
       " 'contains(donald)': False,\n",
       " 'contains(sutherland)': False,\n",
       " 'contains(stumbling)': False,\n",
       " 'contains(around)': False,\n",
       " 'contains(hey)': False,\n",
       " 'contains(let)': False,\n",
       " 'contains(some)': False,\n",
       " 'contains(robots)': False,\n",
       " 'contains(acting)': False,\n",
       " 'contains(below)': False,\n",
       " 'contains(average)': False,\n",
       " 'contains(likes)': False,\n",
       " 'contains(re)': False,\n",
       " 'contains(likely)': False,\n",
       " 'contains(work)': False,\n",
       " 'contains(halloween)': False,\n",
       " 'contains(h20)': False,\n",
       " 'contains(wasted)': False,\n",
       " 'contains(real)': False,\n",
       " 'contains(star)': False,\n",
       " 'contains(stan)': False,\n",
       " 'contains(robot)': False,\n",
       " 'contains(design)': False,\n",
       " 'contains(cgi)': False,\n",
       " 'contains(occasional)': False,\n",
       " 'contains(shot)': False,\n",
       " 'contains(picking)': False,\n",
       " 'contains(brain)': False,\n",
       " 'contains(if)': False,\n",
       " 'contains(body)': False,\n",
       " 'contains(parts)': False,\n",
       " 'contains(turn)': False,\n",
       " 'contains(otherwise)': False,\n",
       " 'contains(much)': False,\n",
       " 'contains(jaded)': False,\n",
       " 'contains(viewer)': False,\n",
       " 'contains(thankful)': False,\n",
       " 'contains(invention)': False,\n",
       " 'contains(based)': False,\n",
       " 'contains(late)': False,\n",
       " 'contains(1960)': False,\n",
       " 'contains(television)': False,\n",
       " 'contains(show)': False,\n",
       " 'contains(name)': False,\n",
       " 'contains(mod)': False,\n",
       " 'contains(squad)': False,\n",
       " 'contains(tells)': False,\n",
       " 'contains(tale)': False,\n",
       " 'contains(three)': False,\n",
       " 'contains(reformed)': False,\n",
       " 'contains(criminals)': False,\n",
       " 'contains(under)': False,\n",
       " 'contains(employ)': False,\n",
       " 'contains(police)': False,\n",
       " 'contains(undercover)': False,\n",
       " 'contains(however)': False,\n",
       " 'contains(wrong)': False,\n",
       " 'contains(evidence)': False,\n",
       " 'contains(gets)': False,\n",
       " 'contains(stolen)': False,\n",
       " 'contains(immediately)': False,\n",
       " 'contains(suspicion)': False,\n",
       " 'contains(ads)': False,\n",
       " 'contains(cuts)': False,\n",
       " 'contains(claire)': False,\n",
       " 'contains(nice)': False,\n",
       " 'contains(hair)': False,\n",
       " 'contains(cute)': False,\n",
       " 'contains(outfits)': False,\n",
       " 'contains(car)': False,\n",
       " 'contains(chases)': False,\n",
       " 'contains(stuff)': False,\n",
       " 'contains(blowing)': False,\n",
       " 'contains(sounds)': False,\n",
       " 'contains(first)': False,\n",
       " 'contains(fifteen)': False,\n",
       " 'contains(quickly)': False,\n",
       " 'contains(becomes)': False,\n",
       " 'contains(apparent)': False,\n",
       " 'contains(certainly)': False,\n",
       " 'contains(slick)': False,\n",
       " 'contains(looking)': False,\n",
       " 'contains(complete)': False,\n",
       " 'contains(costumes)': False,\n",
       " 'contains(isn)': False,\n",
       " 'contains(enough)': False,\n",
       " 'contains(best)': False,\n",
       " 'contains(described)': False,\n",
       " 'contains(cross)': False,\n",
       " 'contains(between)': False,\n",
       " 'contains(hour)': False,\n",
       " 'contains(long)': False,\n",
       " 'contains(cop)': False,\n",
       " 'contains(stretched)': False,\n",
       " 'contains(span)': False,\n",
       " 'contains(single)': False,\n",
       " 'contains(clich)': False,\n",
       " 'contains(matter)': False,\n",
       " 'contains(elements)': False,\n",
       " 'contains(recycled)': False,\n",
       " 'contains(everything)': False,\n",
       " 'contains(already)': False,\n",
       " 'contains(seen)': False,\n",
       " 'contains(nothing)': False,\n",
       " 'contains(spectacular)': False,\n",
       " 'contains(sometimes)': False,\n",
       " 'contains(bordering)': False,\n",
       " 'contains(wooden)': False,\n",
       " 'contains(danes)': False,\n",
       " 'contains(omar)': False,\n",
       " 'contains(epps)': False,\n",
       " 'contains(deliver)': False,\n",
       " 'contains(their)': False,\n",
       " 'contains(lines)': False,\n",
       " 'contains(bored)': False,\n",
       " 'contains(onto)': False,\n",
       " 'contains(escape)': False,\n",
       " 'contains(relatively)': False,\n",
       " 'contains(unscathed)': False,\n",
       " 'contains(giovanni)': False,\n",
       " 'contains(ribisi)': False,\n",
       " 'contains(plays)': False,\n",
       " 'contains(resident)': False,\n",
       " 'contains(crazy)': False,\n",
       " 'contains(man)': False,\n",
       " 'contains(ultimately)': False,\n",
       " 'contains(being)': False,\n",
       " 'contains(worth)': False,\n",
       " 'contains(watching)': False,\n",
       " 'contains(unfortunately)': False,\n",
       " 'contains(save)': False,\n",
       " 'contains(convoluted)': False,\n",
       " 'contains(apart)': False,\n",
       " 'contains(screen)': False,\n",
       " 'contains(young)': False,\n",
       " 'contains(cast)': False,\n",
       " 'contains(clothes)': False,\n",
       " 'contains(hip)': False,\n",
       " 'contains(soundtrack)': False,\n",
       " 'contains(appears)': False,\n",
       " 'contains(geared)': False,\n",
       " 'contains(towards)': False,\n",
       " 'contains(teenage)': False,\n",
       " 'contains(mindset)': False,\n",
       " 'contains(r)': False,\n",
       " 'contains(rating)': False,\n",
       " 'contains(content)': False,\n",
       " 'contains(justify)': False,\n",
       " 'contains(juvenile)': False,\n",
       " 'contains(older)': False,\n",
       " 'contains(information)': False,\n",
       " 'contains(literally)': False,\n",
       " 'contains(spoon)': False,\n",
       " 'contains(hard)': False,\n",
       " 'contains(instead)': False,\n",
       " 'contains(telling)': False,\n",
       " 'contains(dialogue)': False,\n",
       " 'contains(poorly)': False,\n",
       " 'contains(written)': False,\n",
       " 'contains(extremely)': False,\n",
       " 'contains(predictable)': False,\n",
       " 'contains(progresses)': False,\n",
       " 'contains(won)': False,\n",
       " 'contains(care)': False,\n",
       " 'contains(heroes)': False,\n",
       " 'contains(any)': False,\n",
       " 'contains(jeopardy)': False,\n",
       " 'contains(ll)': False,\n",
       " 'contains(aren)': False,\n",
       " 'contains(nobody)': False,\n",
       " 'contains(remembers)': False,\n",
       " 'contains(questionable)': False,\n",
       " 'contains(wisdom)': False,\n",
       " 'contains(especially)': False,\n",
       " 'contains(considers)': False,\n",
       " 'contains(target)': False,\n",
       " 'contains(fact)': False,\n",
       " 'contains(number)': False,\n",
       " 'contains(memorable)': False,\n",
       " 'contains(can)': False,\n",
       " 'contains(counted)': False,\n",
       " 'contains(hand)': False,\n",
       " 'contains(missing)': False,\n",
       " 'contains(finger)': False,\n",
       " 'contains(times)': False,\n",
       " 'contains(checked)': False,\n",
       " 'contains(six)': False,\n",
       " 'contains(clear)': False,\n",
       " 'contains(indication)': False,\n",
       " 'contains(them)': False,\n",
       " 'contains(than)': False,\n",
       " 'contains(cash)': False,\n",
       " 'contains(spending)': False,\n",
       " 'contains(dollar)': False,\n",
       " 'contains(judging)': False,\n",
       " 'contains(rash)': False,\n",
       " 'contains(awful)': False,\n",
       " 'contains(seeing)': False,\n",
       " 'contains(avoid)': False,\n",
       " 'contains(at)': False,\n",
       " 'contains(costs)': False,\n",
       " 'contains(quest)': False,\n",
       " 'contains(camelot)': False,\n",
       " 'contains(warner)': False,\n",
       " 'contains(bros)': False,\n",
       " 'contains(feature)': False,\n",
       " 'contains(length)': False,\n",
       " 'contains(fully)': False,\n",
       " 'contains(animated)': False,\n",
       " 'contains(steal)': False,\n",
       " 'contains(clout)': False,\n",
       " 'contains(disney)': False,\n",
       " 'contains(cartoon)': False,\n",
       " 'contains(empire)': False,\n",
       " 'contains(mouse)': False,\n",
       " 'contains(reason)': False,\n",
       " 'contains(worried)': False,\n",
       " 'contains(other)': False,\n",
       " 'contains(recent)': False,\n",
       " 'contains(throne)': False,\n",
       " 'contains(last)': False,\n",
       " 'contains(fall)': False,\n",
       " 'contains(promising)': False,\n",
       " 'contains(flawed)': False,\n",
       " 'contains(20th)': False,\n",
       " 'contains(century)': False,\n",
       " 'contains(fox)': False,\n",
       " 'contains(anastasia)': False,\n",
       " 'contains(hercules)': False,\n",
       " 'contains(lively)': False,\n",
       " 'contains(colorful)': False,\n",
       " 'contains(had)': False,\n",
       " 'contains(beat)': False,\n",
       " 'contains(hands)': False,\n",
       " 'contains(crown)': False,\n",
       " 'contains(1997)': False,\n",
       " 'contains(piece)': False,\n",
       " 'contains(animation)': False,\n",
       " 'contains(year)': False,\n",
       " 'contains(contest)': False,\n",
       " 'contains(arrival)': False,\n",
       " 'contains(magic)': False,\n",
       " 'contains(kingdom)': False,\n",
       " 'contains(mediocre)': False,\n",
       " 'contains(--)': False,\n",
       " 'contains(d)': False,\n",
       " 'contains(pocahontas)': False,\n",
       " 'contains(those)': False,\n",
       " 'contains(keeping)': False,\n",
       " 'contains(score)': False,\n",
       " 'contains(nearly)': False,\n",
       " 'contains(dull)': False,\n",
       " 'contains(revolves)': False,\n",
       " 'contains(adventures)': False,\n",
       " 'contains(free)': False,\n",
       " 'contains(spirited)': False,\n",
       " 'contains(voiced)': False,\n",
       " 'contains(early)': False,\n",
       " 'contains(daughter)': False,\n",
       " 'contains(knight)': False,\n",
       " 'contains(king)': False,\n",
       " 'contains(arthur)': False,\n",
       " 'contains(round)': False,\n",
       " 'contains(table)': False,\n",
       " 'contains(dream)': False,\n",
       " 'contains(follow)': False,\n",
       " 'contains(father)': False,\n",
       " 'contains(footsteps)': False,\n",
       " 'contains(she)': False,\n",
       " 'contains(chance)': False,\n",
       " 'contains(evil)': False,\n",
       " 'contains(gary)': False,\n",
       " 'contains(oldman)': False,\n",
       " 'contains(ex)': False,\n",
       " 'contains(gone)': False,\n",
       " 'contains(steals)': False,\n",
       " 'contains(magical)': False,\n",
       " 'contains(sword)': False,\n",
       " 'contains(accidentally)': False,\n",
       " 'contains(loses)': False,\n",
       " 'contains(dangerous)': False,\n",
       " 'contains(trapped)': False,\n",
       " 'contains(forest)': False,\n",
       " 'contains(help)': False,\n",
       " 'contains(hunky)': False,\n",
       " 'contains(blind)': False,\n",
       " 'contains(garrett)': False,\n",
       " 'contains(carey)': False,\n",
       " 'contains(elwes)': False,\n",
       " 'contains(headed)': False,\n",
       " 'contains(dragon)': False,\n",
       " 'contains(eric)': False,\n",
       " 'contains(idle)': False,\n",
       " 'contains(arguing)': False,\n",
       " 'contains(itself)': False,\n",
       " 'contains(able)': False,\n",
       " 'contains(medieval)': False,\n",
       " 'contains(sexist)': False,\n",
       " 'contains(prove)': False,\n",
       " 'contains(fighter)': False,\n",
       " 'contains(side)': False,\n",
       " 'contains(pure)': False,\n",
       " 'contains(essential)': False,\n",
       " 'contains(element)': False,\n",
       " 'contains(expected)': False,\n",
       " 'contains(climb)': False,\n",
       " 'contains(high)': False,\n",
       " 'contains(ranks)': False,\n",
       " 'contains(something)': False,\n",
       " 'contains(saturday)': False,\n",
       " 'contains(morning)': False,\n",
       " 'contains(instantly)': False,\n",
       " 'contains(forgettable)': False,\n",
       " 'contains(songs)': False,\n",
       " 'contains(integrated)': False,\n",
       " 'contains(footage)': False,\n",
       " 'contains(compare)': False,\n",
       " 'contains(run)': False,\n",
       " 'contains(angry)': False,\n",
       " 'contains(ogre)': False,\n",
       " 'contains(battle)': False,\n",
       " 'contains(rest)': False,\n",
       " 'contains(case)': False,\n",
       " 'contains(none)': False,\n",
       " 'contains(remotely)': False,\n",
       " 'contains(interesting)': False,\n",
       " 'contains(race)': False,\n",
       " 'contains(bland)': False,\n",
       " 'contains(end)': False,\n",
       " 'contains(tie)': False,\n",
       " 'contains(win)': False,\n",
       " 'contains(comedy)': False,\n",
       " 'contains(shtick)': False,\n",
       " 'contains(awfully)': False,\n",
       " 'contains(least)': False,\n",
       " 'contains(signs)': False,\n",
       " 'contains(pulse)': False,\n",
       " 'contains(fans)': False,\n",
       " 'contains(90s)': False,\n",
       " 'contains(will)': False,\n",
       " 'contains(thrilled)': False,\n",
       " 'contains(white)': False,\n",
       " 'contains(bronson)': False,\n",
       " 'contains(sharing)': False,\n",
       " 'contains(nicely)': False,\n",
       " 'contains(realized)': False,\n",
       " 'contains(though)': False,\n",
       " 'contains(m)': False,\n",
       " 'contains(loss)': False,\n",
       " 'contains(recall)': False,\n",
       " 'contains(specific)': False,\n",
       " 'contains(providing)': False,\n",
       " 'contains(voice)': False,\n",
       " 'contains(talent)': False,\n",
       " 'contains(enthusiastic)': False,\n",
       " 'contains(paired)': False,\n",
       " 'contains(singers)': False,\n",
       " 'contains(sound)': False,\n",
       " 'contains(musical)': False,\n",
       " 'contains(moments)': False,\n",
       " 'contains(jane)': False,\n",
       " 'contains(seymour)': False,\n",
       " 'contains(celine)': False,\n",
       " 'contains(must)': False,\n",
       " 'contains(strain)': False,\n",
       " 'contains(through)': False,\n",
       " 'contains(aside)': False,\n",
       " 'contains(children)': False,\n",
       " 'contains(probably)': False,\n",
       " 'contains(adults)': False,\n",
       " 'contains(error)': False,\n",
       " 'contains(lack)': False,\n",
       " 'contains(personality)': False,\n",
       " 'contains(learn)': False,\n",
       " 'contains(goes)': False,\n",
       " 'contains(synopsis)': False,\n",
       " 'contains(mentally)': False,\n",
       " 'contains(unstable)': False,\n",
       " 'contains(saves)': False,\n",
       " 'contains(boy)': False,\n",
       " 'contains(potentially)': False,\n",
       " 'contains(fatal)': False,\n",
       " 'contains(falls)': False,\n",
       " 'contains(love)': False,\n",
       " 'contains(mother)': False,\n",
       " 'contains(fledgling)': False,\n",
       " 'contains(unsuccessfully)': False,\n",
       " 'contains(attempting)': False,\n",
       " 'contains(gain)': False,\n",
       " 'contains(woman)': False,\n",
       " 'contains(favor)': False,\n",
       " 'contains(takes)': False,\n",
       " 'contains(pictures)': False,\n",
       " 'contains(kills)': False,\n",
       " 'contains(comments)': False,\n",
       " 'contains(stalked)': False,\n",
       " 'contains(yet)': False,\n",
       " 'contains(seemingly)': False,\n",
       " 'contains(endless)': False,\n",
       " 'contains(string)': False,\n",
       " 'contains(getting)': False,\n",
       " 'contains(revenge)': False,\n",
       " 'contains(type)': False,\n",
       " 'contains(stable)': False,\n",
       " 'contains(category)': False,\n",
       " 'contains(1990s)': False,\n",
       " 'contains(industry)': False,\n",
       " 'contains(theatrical)': False,\n",
       " 'contains(direct)': False,\n",
       " 'contains(may)': False,\n",
       " 'contains(due)': False,\n",
       " 'contains(typically)': False,\n",
       " 'contains(produce)': False,\n",
       " 'contains(special)': False,\n",
       " 'contains(effects)': False,\n",
       " 'contains(stars)': False,\n",
       " 'contains(serve)': False,\n",
       " 'contains(vehicles)': False,\n",
       " 'contains(nudity)': False,\n",
       " 'contains(allowing)': False,\n",
       " 'contains(frequent)': False,\n",
       " 'contains(night)': False,\n",
       " 'contains(cable)': False,\n",
       " 'contains(slightly)': False,\n",
       " 'contains(norm)': False,\n",
       " 'contains(respect)': False,\n",
       " 'contains(psycho)': False,\n",
       " 'contains(never)': False,\n",
       " 'contains(affair)': False,\n",
       " 'contains(;)': False,\n",
       " 'contains(contrary)': False,\n",
       " 'contains(rejected)': False,\n",
       " 'contains(rather)': False,\n",
       " 'contains(lover)': False,\n",
       " 'contains(wife)': False,\n",
       " 'contains(husband)': False,\n",
       " 'contains(entry)': False,\n",
       " 'contains(doomed)': False,\n",
       " 'contains(collect)': False,\n",
       " 'contains(dust)': False,\n",
       " 'contains(viewed)': False,\n",
       " 'contains(midnight)': False,\n",
       " 'contains(provide)': False,\n",
       " 'contains(suspense)': False,\n",
       " 'contains(sets)': False,\n",
       " 'contains(opening)': False,\n",
       " 'contains(credits)': False,\n",
       " 'contains(instance)': False,\n",
       " 'contains(serious)': False,\n",
       " 'contains(sounding)': False,\n",
       " 'contains(narrator)': False,\n",
       " 'contains(ponders)': False,\n",
       " 'contains(cause)': False,\n",
       " 'contains(implied)': False,\n",
       " 'contains(men)': False,\n",
       " 'contains(shown)': False,\n",
       " 'contains(actor)': False,\n",
       " 'contains(jay)': False,\n",
       " 'contains(underwood)': False,\n",
       " 'contains(states)': False,\n",
       " 'contains(daryl)': False,\n",
       " 'contains(stalker)': False,\n",
       " 'contains(brooke)': False,\n",
       " 'contains(daniels)': False,\n",
       " 'contains(meant)': False,\n",
       " 'contains(called)': False,\n",
       " 'contains(required)': False,\n",
       " 'contains(proceeds)': False,\n",
       " 'contains(begins)': False,\n",
       " 'contains(obvious)': False,\n",
       " 'contains(sequence)': False,\n",
       " 'contains(contrived)': False,\n",
       " 'contains(quite)': False,\n",
       " 'contains(brings)': False,\n",
       " 'contains(victim)': False,\n",
       " 'contains(together)': False,\n",
       " 'contains(follows)': False,\n",
       " 'contains(tries)': False,\n",
       " 'contains(woo)': False,\n",
       " 'contains(plans)': False,\n",
       " 'contains(become)': False,\n",
       " 'contains(desperate)': False,\n",
       " 'contains(elaborate)': False,\n",
       " 'contains(include)': False,\n",
       " 'contains(cliche)': False,\n",
       " 'contains(murdered)': False,\n",
       " 'contains(pet)': False,\n",
       " 'contains(require)': False,\n",
       " 'contains(found)': False,\n",
       " 'contains(exception)': False,\n",
       " 'contains(cat)': False,\n",
       " 'contains(shower)': False,\n",
       " 'contains(events)': False,\n",
       " 'contains(lead)': False,\n",
       " 'contains(inevitable)': False,\n",
       " 'contains(showdown)': False,\n",
       " 'contains(survives)': False,\n",
       " 'contains(invariably)': False,\n",
       " 'contains(conclusion)': False,\n",
       " 'contains(turkey)': False,\n",
       " 'contains(uniformly)': False,\n",
       " 'contains(adequate)': False,\n",
       " 'contains(anything)': False,\n",
       " 'contains(home)': False,\n",
       " 'contains(either)': False,\n",
       " 'contains(turns)': False,\n",
       " 'contains(toward)': False,\n",
       " 'contains(melodrama)': False,\n",
       " 'contains(words)': False,\n",
       " 'contains(manages)': False,\n",
       " 'contains(creepy)': False,\n",
       " 'contains(pass)': False,\n",
       " 'contains(demands)': False,\n",
       " 'contains(close)': False,\n",
       " 'contains(played)': False,\n",
       " 'contains(bond)': False,\n",
       " 'contains(chick)': False,\n",
       " 'contains(living)': False,\n",
       " 'contains(equally)': False,\n",
       " 'contains(title)': False,\n",
       " 'contains(ditzy)': False,\n",
       " 'contains(strong)': False,\n",
       " 'contains(independent)': False,\n",
       " 'contains(business)': False,\n",
       " 'contains(owner)': False,\n",
       " 'contains(needs)': False,\n",
       " 'contains(proceed)': False,\n",
       " 'contains(example)': False,\n",
       " 'contains(ensure)': False,\n",
       " 'contains(use)': False,\n",
       " 'contains(excuse)': False,\n",
       " 'contains(decides)': False,\n",
       " 'contains(return)': False,\n",
       " 'contains(left)': False,\n",
       " 'contains(place)': False,\n",
       " 'contains(house)': False,\n",
       " 'contains(leave)': False,\n",
       " 'contains(door)': False,\n",
       " 'contains(answers)': False,\n",
       " 'contains(opens)': False,\n",
       " 'contains(wanders)': False,\n",
       " 'contains(returns)': False,\n",
       " 'contains(enters)': False,\n",
       " 'contains(our)': False,\n",
       " 'contains(heroine)': False,\n",
       " 'contains(danger)': False,\n",
       " 'contains(somehow)': False,\n",
       " 'contains(front)': False,\n",
       " 'contains(right)': False,\n",
       " 'contains(oblivious)': False,\n",
       " 'contains(presence)': False,\n",
       " 'contains(inside)': False,\n",
       " 'contains(whole)': False,\n",
       " 'contains(episode)': False,\n",
       " 'contains(places)': False,\n",
       " 'contains(incredible)': False,\n",
       " 'contains(suspension)': False,\n",
       " 'contains(disbelief)': False,\n",
       " 'contains(questions)': False,\n",
       " 'contains(intelligence)': False,\n",
       " 'contains(receives)': False,\n",
       " 'contains(highly)': False,\n",
       " 'contains(derivative)': False,\n",
       " 'contains(somewhat)': False,\n",
       " 'contains(boring)': False,\n",
       " 'contains(cannot)': False,\n",
       " 'contains(watched)': False,\n",
       " 'contains(rated)': False,\n",
       " 'contains(mostly)': False,\n",
       " 'contains(several)': False,\n",
       " 'contains(murder)': False,\n",
       " 'contains(brief)': False,\n",
       " 'contains(strip)': False,\n",
       " 'contains(bar)': False,\n",
       " 'contains(offensive)': False,\n",
       " 'contains(many)': False,\n",
       " 'contains(thrillers)': False,\n",
       " 'contains(mood)': False,\n",
       " 'contains(stake)': False,\n",
       " 'contains(else)': False,\n",
       " 'contains(capsule)': False,\n",
       " 'contains(planet)': False,\n",
       " 'contains(mars)': False,\n",
       " 'contains(taking)': False,\n",
       " 'contains(custody)': False,\n",
       " 'contains(accused)': False,\n",
       " 'contains(murderer)': False,\n",
       " 'contains(face)': False,\n",
       " 'contains(menace)': False,\n",
       " 'contains(lot)': False,\n",
       " 'contains(fighting)': False,\n",
       " 'contains(john)': False,\n",
       " 'contains(carpenter)': False,\n",
       " 'contains(reprises)': False,\n",
       " 'contains(ideas)': False,\n",
       " 'contains(previous)': False,\n",
       " 'contains(assault)': False,\n",
       " 'contains(precinct)': False,\n",
       " 'contains(13)': False,\n",
       " 'contains(homage)': False,\n",
       " 'contains(himself)': False,\n",
       " 'contains(0)': False,\n",
       " 'contains(+)': False,\n",
       " 'contains(believes)': False,\n",
       " 'contains(fight)': False,\n",
       " 'contains(horrible)': True,\n",
       " 'contains(writer)': False,\n",
       " 'contains(supposedly)': False,\n",
       " 'contains(expert)': False,\n",
       " 'contains(mistake)': False,\n",
       " 'contains(ghosts)': False,\n",
       " ...}"
      ]
     },
     "execution_count": 388,
     "metadata": {},
     "output_type": "execute_result"
    }
   ],
   "source": [
    "document_features(['This', 'is', 'a', 'horrible', 'movie'])"
   ]
  },
  {
   "cell_type": "code",
   "execution_count": 389,
   "metadata": {
    "editable": true,
    "slideshow": {
     "slide_type": "fragment"
    },
    "tags": []
   },
   "outputs": [
    {
     "data": {
      "text/plain": [
       "{'contains(plot)': True,\n",
       " 'contains(:)': True,\n",
       " 'contains(two)': True,\n",
       " 'contains(teen)': False,\n",
       " 'contains(couples)': False,\n",
       " 'contains(go)': False,\n",
       " 'contains(to)': True,\n",
       " 'contains(a)': True,\n",
       " 'contains(church)': False,\n",
       " 'contains(party)': False,\n",
       " 'contains(,)': True,\n",
       " 'contains(drink)': False,\n",
       " 'contains(and)': True,\n",
       " 'contains(then)': True,\n",
       " 'contains(drive)': False,\n",
       " 'contains(.)': True,\n",
       " 'contains(they)': True,\n",
       " 'contains(get)': True,\n",
       " 'contains(into)': True,\n",
       " 'contains(an)': True,\n",
       " 'contains(accident)': False,\n",
       " 'contains(one)': True,\n",
       " 'contains(of)': True,\n",
       " 'contains(the)': True,\n",
       " 'contains(guys)': False,\n",
       " 'contains(dies)': False,\n",
       " 'contains(but)': True,\n",
       " 'contains(his)': True,\n",
       " 'contains(girlfriend)': True,\n",
       " 'contains(continues)': False,\n",
       " 'contains(see)': False,\n",
       " 'contains(him)': True,\n",
       " 'contains(in)': True,\n",
       " 'contains(her)': False,\n",
       " 'contains(life)': False,\n",
       " 'contains(has)': True,\n",
       " 'contains(nightmares)': False,\n",
       " 'contains(what)': True,\n",
       " \"contains(')\": True,\n",
       " 'contains(s)': True,\n",
       " 'contains(deal)': False,\n",
       " 'contains(?)': False,\n",
       " 'contains(watch)': True,\n",
       " 'contains(movie)': True,\n",
       " 'contains(\")': True,\n",
       " 'contains(sorta)': False,\n",
       " 'contains(find)': False,\n",
       " 'contains(out)': True,\n",
       " 'contains(critique)': False,\n",
       " 'contains(mind)': False,\n",
       " 'contains(-)': True,\n",
       " 'contains(fuck)': False,\n",
       " 'contains(for)': True,\n",
       " 'contains(generation)': False,\n",
       " 'contains(that)': True,\n",
       " 'contains(touches)': False,\n",
       " 'contains(on)': True,\n",
       " 'contains(very)': True,\n",
       " 'contains(cool)': False,\n",
       " 'contains(idea)': True,\n",
       " 'contains(presents)': False,\n",
       " 'contains(it)': True,\n",
       " 'contains(bad)': False,\n",
       " 'contains(package)': False,\n",
       " 'contains(which)': True,\n",
       " 'contains(is)': True,\n",
       " 'contains(makes)': False,\n",
       " 'contains(this)': True,\n",
       " 'contains(review)': False,\n",
       " 'contains(even)': False,\n",
       " 'contains(harder)': False,\n",
       " 'contains(write)': False,\n",
       " 'contains(since)': False,\n",
       " 'contains(i)': False,\n",
       " 'contains(generally)': False,\n",
       " 'contains(applaud)': False,\n",
       " 'contains(films)': False,\n",
       " 'contains(attempt)': False,\n",
       " 'contains(break)': False,\n",
       " 'contains(mold)': False,\n",
       " 'contains(mess)': False,\n",
       " 'contains(with)': True,\n",
       " 'contains(your)': False,\n",
       " 'contains(head)': False,\n",
       " 'contains(such)': False,\n",
       " 'contains(()': True,\n",
       " 'contains(lost)': False,\n",
       " 'contains(highway)': False,\n",
       " 'contains(&)': False,\n",
       " 'contains(memento)': False,\n",
       " 'contains())': True,\n",
       " 'contains(there)': True,\n",
       " 'contains(are)': True,\n",
       " 'contains(good)': False,\n",
       " 'contains(ways)': False,\n",
       " 'contains(making)': True,\n",
       " 'contains(all)': True,\n",
       " 'contains(types)': False,\n",
       " 'contains(these)': False,\n",
       " 'contains(folks)': False,\n",
       " 'contains(just)': True,\n",
       " 'contains(didn)': False,\n",
       " 'contains(t)': False,\n",
       " 'contains(correctly)': False,\n",
       " 'contains(seem)': False,\n",
       " 'contains(have)': True,\n",
       " 'contains(taken)': False,\n",
       " 'contains(pretty)': False,\n",
       " 'contains(neat)': False,\n",
       " 'contains(concept)': False,\n",
       " 'contains(executed)': False,\n",
       " 'contains(terribly)': False,\n",
       " 'contains(so)': False,\n",
       " 'contains(problems)': True,\n",
       " 'contains(well)': True,\n",
       " 'contains(its)': False,\n",
       " 'contains(main)': False,\n",
       " 'contains(problem)': False,\n",
       " 'contains(simply)': False,\n",
       " 'contains(too)': False,\n",
       " 'contains(jumbled)': False,\n",
       " 'contains(starts)': False,\n",
       " 'contains(off)': False,\n",
       " 'contains(normal)': False,\n",
       " 'contains(fantasy)': False,\n",
       " 'contains(world)': True,\n",
       " 'contains(you)': True,\n",
       " 'contains(as)': True,\n",
       " 'contains(audience)': False,\n",
       " 'contains(member)': False,\n",
       " 'contains(no)': False,\n",
       " 'contains(going)': False,\n",
       " 'contains(dreams)': False,\n",
       " 'contains(characters)': False,\n",
       " 'contains(coming)': False,\n",
       " 'contains(back)': False,\n",
       " 'contains(from)': True,\n",
       " 'contains(dead)': False,\n",
       " 'contains(others)': True,\n",
       " 'contains(who)': True,\n",
       " 'contains(look)': True,\n",
       " 'contains(like)': True,\n",
       " 'contains(strange)': False,\n",
       " 'contains(chase)': True,\n",
       " 'contains(scenes)': False,\n",
       " 'contains(tons)': False,\n",
       " 'contains(weird)': False,\n",
       " 'contains(things)': True,\n",
       " 'contains(happen)': False,\n",
       " 'contains(most)': True,\n",
       " 'contains(not)': True,\n",
       " 'contains(explained)': False,\n",
       " 'contains(now)': False,\n",
       " 'contains(personally)': False,\n",
       " 'contains(don)': False,\n",
       " 'contains(trying)': False,\n",
       " 'contains(unravel)': False,\n",
       " 'contains(film)': False,\n",
       " 'contains(every)': False,\n",
       " 'contains(when)': True,\n",
       " 'contains(does)': False,\n",
       " 'contains(give)': False,\n",
       " 'contains(me)': True,\n",
       " 'contains(same)': True,\n",
       " 'contains(clue)': False,\n",
       " 'contains(over)': False,\n",
       " 'contains(again)': False,\n",
       " 'contains(kind)': True,\n",
       " 'contains(fed)': False,\n",
       " 'contains(up)': False,\n",
       " 'contains(after)': False,\n",
       " 'contains(while)': True,\n",
       " 'contains(biggest)': False,\n",
       " 'contains(obviously)': False,\n",
       " 'contains(got)': True,\n",
       " 'contains(big)': False,\n",
       " 'contains(secret)': False,\n",
       " 'contains(hide)': False,\n",
       " 'contains(seems)': False,\n",
       " 'contains(want)': False,\n",
       " 'contains(completely)': False,\n",
       " 'contains(until)': False,\n",
       " 'contains(final)': False,\n",
       " 'contains(five)': False,\n",
       " 'contains(minutes)': False,\n",
       " 'contains(do)': True,\n",
       " 'contains(make)': True,\n",
       " 'contains(entertaining)': False,\n",
       " 'contains(thrilling)': False,\n",
       " 'contains(or)': False,\n",
       " 'contains(engaging)': False,\n",
       " 'contains(meantime)': False,\n",
       " 'contains(really)': False,\n",
       " 'contains(sad)': False,\n",
       " 'contains(part)': False,\n",
       " 'contains(arrow)': False,\n",
       " 'contains(both)': False,\n",
       " 'contains(dig)': False,\n",
       " 'contains(flicks)': False,\n",
       " 'contains(we)': False,\n",
       " 'contains(actually)': True,\n",
       " 'contains(figured)': False,\n",
       " 'contains(by)': True,\n",
       " 'contains(half)': False,\n",
       " 'contains(way)': True,\n",
       " 'contains(point)': False,\n",
       " 'contains(strangeness)': False,\n",
       " 'contains(did)': False,\n",
       " 'contains(start)': True,\n",
       " 'contains(little)': True,\n",
       " 'contains(bit)': False,\n",
       " 'contains(sense)': False,\n",
       " 'contains(still)': False,\n",
       " 'contains(more)': False,\n",
       " 'contains(guess)': False,\n",
       " 'contains(bottom)': False,\n",
       " 'contains(line)': False,\n",
       " 'contains(movies)': True,\n",
       " 'contains(should)': False,\n",
       " 'contains(always)': False,\n",
       " 'contains(sure)': False,\n",
       " 'contains(before)': False,\n",
       " 'contains(given)': False,\n",
       " 'contains(enter)': False,\n",
       " 'contains(understanding)': False,\n",
       " 'contains(mean)': False,\n",
       " 'contains(showing)': False,\n",
       " 'contains(melissa)': False,\n",
       " 'contains(sagemiller)': False,\n",
       " 'contains(running)': False,\n",
       " 'contains(away)': False,\n",
       " 'contains(visions)': False,\n",
       " 'contains(about)': True,\n",
       " 'contains(20)': False,\n",
       " 'contains(throughout)': False,\n",
       " 'contains(plain)': False,\n",
       " 'contains(lazy)': False,\n",
       " 'contains(!)': True,\n",
       " 'contains(okay)': False,\n",
       " 'contains(people)': False,\n",
       " 'contains(chasing)': False,\n",
       " 'contains(know)': False,\n",
       " 'contains(need)': False,\n",
       " 'contains(how)': True,\n",
       " 'contains(giving)': False,\n",
       " 'contains(us)': True,\n",
       " 'contains(different)': False,\n",
       " 'contains(offering)': False,\n",
       " 'contains(further)': False,\n",
       " 'contains(insight)': False,\n",
       " 'contains(down)': False,\n",
       " 'contains(apparently)': False,\n",
       " 'contains(studio)': False,\n",
       " 'contains(took)': False,\n",
       " 'contains(director)': False,\n",
       " 'contains(themselves)': False,\n",
       " 'contains(shows)': False,\n",
       " 'contains(might)': False,\n",
       " 'contains(ve)': False,\n",
       " 'contains(been)': False,\n",
       " 'contains(decent)': False,\n",
       " 'contains(here)': True,\n",
       " 'contains(somewhere)': False,\n",
       " 'contains(suits)': False,\n",
       " 'contains(decided)': False,\n",
       " 'contains(turning)': False,\n",
       " 'contains(music)': False,\n",
       " 'contains(video)': False,\n",
       " 'contains(edge)': False,\n",
       " 'contains(would)': False,\n",
       " 'contains(actors)': False,\n",
       " 'contains(although)': False,\n",
       " 'contains(wes)': False,\n",
       " 'contains(bentley)': False,\n",
       " 'contains(seemed)': False,\n",
       " 'contains(be)': True,\n",
       " 'contains(playing)': True,\n",
       " 'contains(exact)': False,\n",
       " 'contains(character)': False,\n",
       " 'contains(he)': True,\n",
       " 'contains(american)': False,\n",
       " 'contains(beauty)': False,\n",
       " 'contains(only)': True,\n",
       " 'contains(new)': False,\n",
       " 'contains(neighborhood)': False,\n",
       " 'contains(my)': False,\n",
       " 'contains(kudos)': False,\n",
       " 'contains(holds)': False,\n",
       " 'contains(own)': True,\n",
       " 'contains(entire)': False,\n",
       " 'contains(feeling)': False,\n",
       " 'contains(overall)': False,\n",
       " 'contains(doesn)': False,\n",
       " 'contains(stick)': False,\n",
       " 'contains(because)': False,\n",
       " 'contains(entertain)': False,\n",
       " 'contains(confusing)': False,\n",
       " 'contains(rarely)': False,\n",
       " 'contains(feels)': False,\n",
       " 'contains(redundant)': False,\n",
       " 'contains(runtime)': False,\n",
       " 'contains(despite)': False,\n",
       " 'contains(ending)': False,\n",
       " 'contains(explanation)': False,\n",
       " 'contains(came)': False,\n",
       " 'contains(oh)': False,\n",
       " 'contains(horror)': False,\n",
       " 'contains(slasher)': False,\n",
       " 'contains(flick)': False,\n",
       " 'contains(someone)': False,\n",
       " 'contains(assuming)': False,\n",
       " 'contains(genre)': False,\n",
       " 'contains(hot)': False,\n",
       " 'contains(kids)': False,\n",
       " 'contains(also)': True,\n",
       " 'contains(wrapped)': False,\n",
       " 'contains(production)': False,\n",
       " 'contains(years)': False,\n",
       " 'contains(ago)': False,\n",
       " 'contains(sitting)': False,\n",
       " 'contains(shelves)': False,\n",
       " 'contains(ever)': True,\n",
       " 'contains(whatever)': False,\n",
       " 'contains(skip)': False,\n",
       " 'contains(where)': True,\n",
       " 'contains(joblo)': False,\n",
       " 'contains(nightmare)': False,\n",
       " 'contains(elm)': False,\n",
       " 'contains(street)': False,\n",
       " 'contains(3)': False,\n",
       " 'contains(7)': False,\n",
       " 'contains(/)': False,\n",
       " 'contains(10)': False,\n",
       " 'contains(blair)': False,\n",
       " 'contains(witch)': False,\n",
       " 'contains(2)': False,\n",
       " 'contains(crow)': False,\n",
       " 'contains(9)': False,\n",
       " 'contains(salvation)': False,\n",
       " 'contains(4)': False,\n",
       " 'contains(stir)': False,\n",
       " 'contains(echoes)': False,\n",
       " 'contains(8)': False,\n",
       " 'contains(happy)': False,\n",
       " 'contains(bastard)': False,\n",
       " 'contains(quick)': True,\n",
       " 'contains(damn)': False,\n",
       " 'contains(bug)': False,\n",
       " 'contains(starring)': False,\n",
       " 'contains(jamie)': False,\n",
       " 'contains(lee)': False,\n",
       " 'contains(curtis)': False,\n",
       " 'contains(another)': False,\n",
       " 'contains(baldwin)': False,\n",
       " 'contains(brother)': False,\n",
       " 'contains(william)': False,\n",
       " 'contains(time)': False,\n",
       " 'contains(story)': False,\n",
       " 'contains(regarding)': False,\n",
       " 'contains(crew)': False,\n",
       " 'contains(comes)': False,\n",
       " 'contains(across)': False,\n",
       " 'contains(deserted)': False,\n",
       " 'contains(russian)': False,\n",
       " 'contains(tech)': False,\n",
       " 'contains(ship)': False,\n",
       " 'contains(kick)': False,\n",
       " 'contains(power)': False,\n",
       " 'contains(within)': False,\n",
       " 'contains(gore)': False,\n",
       " 'contains(bringing)': False,\n",
       " 'contains(few)': False,\n",
       " 'contains(action)': True,\n",
       " 'contains(sequences)': False,\n",
       " 'contains(virus)': False,\n",
       " 'contains(empty)': False,\n",
       " 'contains(flash)': False,\n",
       " 'contains(substance)': False,\n",
       " 'contains(why)': False,\n",
       " 'contains(was)': False,\n",
       " 'contains(middle)': False,\n",
       " 'contains(nowhere)': False,\n",
       " 'contains(origin)': False,\n",
       " 'contains(pink)': False,\n",
       " 'contains(flashy)': False,\n",
       " 'contains(thing)': False,\n",
       " 'contains(hit)': False,\n",
       " 'contains(mir)': False,\n",
       " 'contains(course)': True,\n",
       " 'contains(donald)': False,\n",
       " 'contains(sutherland)': False,\n",
       " 'contains(stumbling)': False,\n",
       " 'contains(around)': False,\n",
       " 'contains(hey)': False,\n",
       " 'contains(let)': False,\n",
       " 'contains(some)': False,\n",
       " 'contains(robots)': False,\n",
       " 'contains(acting)': False,\n",
       " 'contains(below)': False,\n",
       " 'contains(average)': False,\n",
       " 'contains(likes)': False,\n",
       " 'contains(re)': True,\n",
       " 'contains(likely)': False,\n",
       " 'contains(work)': False,\n",
       " 'contains(halloween)': False,\n",
       " 'contains(h20)': False,\n",
       " 'contains(wasted)': False,\n",
       " 'contains(real)': False,\n",
       " 'contains(star)': False,\n",
       " 'contains(stan)': False,\n",
       " 'contains(robot)': False,\n",
       " 'contains(design)': False,\n",
       " 'contains(cgi)': False,\n",
       " 'contains(occasional)': False,\n",
       " 'contains(shot)': False,\n",
       " 'contains(picking)': False,\n",
       " 'contains(brain)': False,\n",
       " 'contains(if)': True,\n",
       " 'contains(body)': False,\n",
       " 'contains(parts)': False,\n",
       " 'contains(turn)': False,\n",
       " 'contains(otherwise)': False,\n",
       " 'contains(much)': False,\n",
       " 'contains(jaded)': False,\n",
       " 'contains(viewer)': False,\n",
       " 'contains(thankful)': False,\n",
       " 'contains(invention)': False,\n",
       " 'contains(based)': False,\n",
       " 'contains(late)': False,\n",
       " 'contains(1960)': False,\n",
       " 'contains(television)': False,\n",
       " 'contains(show)': False,\n",
       " 'contains(name)': False,\n",
       " 'contains(mod)': False,\n",
       " 'contains(squad)': False,\n",
       " 'contains(tells)': False,\n",
       " 'contains(tale)': False,\n",
       " 'contains(three)': False,\n",
       " 'contains(reformed)': False,\n",
       " 'contains(criminals)': False,\n",
       " 'contains(under)': False,\n",
       " 'contains(employ)': False,\n",
       " 'contains(police)': False,\n",
       " 'contains(undercover)': True,\n",
       " 'contains(however)': True,\n",
       " 'contains(wrong)': True,\n",
       " 'contains(evidence)': False,\n",
       " 'contains(gets)': True,\n",
       " 'contains(stolen)': False,\n",
       " 'contains(immediately)': False,\n",
       " 'contains(suspicion)': False,\n",
       " 'contains(ads)': False,\n",
       " 'contains(cuts)': False,\n",
       " 'contains(claire)': False,\n",
       " 'contains(nice)': False,\n",
       " 'contains(hair)': False,\n",
       " 'contains(cute)': False,\n",
       " 'contains(outfits)': False,\n",
       " 'contains(car)': False,\n",
       " 'contains(chases)': False,\n",
       " 'contains(stuff)': False,\n",
       " 'contains(blowing)': False,\n",
       " 'contains(sounds)': False,\n",
       " 'contains(first)': False,\n",
       " 'contains(fifteen)': False,\n",
       " 'contains(quickly)': False,\n",
       " 'contains(becomes)': False,\n",
       " 'contains(apparent)': False,\n",
       " 'contains(certainly)': False,\n",
       " 'contains(slick)': False,\n",
       " 'contains(looking)': False,\n",
       " 'contains(complete)': False,\n",
       " 'contains(costumes)': False,\n",
       " 'contains(isn)': False,\n",
       " 'contains(enough)': False,\n",
       " 'contains(best)': True,\n",
       " 'contains(described)': False,\n",
       " 'contains(cross)': False,\n",
       " 'contains(between)': True,\n",
       " 'contains(hour)': False,\n",
       " 'contains(long)': False,\n",
       " 'contains(cop)': False,\n",
       " 'contains(stretched)': False,\n",
       " 'contains(span)': False,\n",
       " 'contains(single)': False,\n",
       " 'contains(clich)': False,\n",
       " 'contains(matter)': False,\n",
       " 'contains(elements)': False,\n",
       " 'contains(recycled)': False,\n",
       " 'contains(everything)': True,\n",
       " 'contains(already)': False,\n",
       " 'contains(seen)': False,\n",
       " 'contains(nothing)': False,\n",
       " 'contains(spectacular)': False,\n",
       " 'contains(sometimes)': False,\n",
       " 'contains(bordering)': False,\n",
       " 'contains(wooden)': False,\n",
       " 'contains(danes)': False,\n",
       " 'contains(omar)': False,\n",
       " 'contains(epps)': False,\n",
       " 'contains(deliver)': False,\n",
       " 'contains(their)': False,\n",
       " 'contains(lines)': False,\n",
       " 'contains(bored)': False,\n",
       " 'contains(onto)': False,\n",
       " 'contains(escape)': False,\n",
       " 'contains(relatively)': False,\n",
       " 'contains(unscathed)': False,\n",
       " 'contains(giovanni)': False,\n",
       " 'contains(ribisi)': False,\n",
       " 'contains(plays)': False,\n",
       " 'contains(resident)': False,\n",
       " 'contains(crazy)': False,\n",
       " 'contains(man)': False,\n",
       " 'contains(ultimately)': False,\n",
       " 'contains(being)': False,\n",
       " 'contains(worth)': True,\n",
       " 'contains(watching)': False,\n",
       " 'contains(unfortunately)': False,\n",
       " 'contains(save)': False,\n",
       " 'contains(convoluted)': False,\n",
       " 'contains(apart)': False,\n",
       " 'contains(screen)': True,\n",
       " 'contains(young)': False,\n",
       " 'contains(cast)': False,\n",
       " 'contains(clothes)': False,\n",
       " 'contains(hip)': False,\n",
       " 'contains(soundtrack)': False,\n",
       " 'contains(appears)': False,\n",
       " 'contains(geared)': False,\n",
       " 'contains(towards)': False,\n",
       " 'contains(teenage)': False,\n",
       " 'contains(mindset)': False,\n",
       " 'contains(r)': False,\n",
       " 'contains(rating)': False,\n",
       " 'contains(content)': False,\n",
       " 'contains(justify)': False,\n",
       " 'contains(juvenile)': False,\n",
       " 'contains(older)': False,\n",
       " 'contains(information)': False,\n",
       " 'contains(literally)': False,\n",
       " 'contains(spoon)': False,\n",
       " 'contains(hard)': False,\n",
       " 'contains(instead)': False,\n",
       " 'contains(telling)': False,\n",
       " 'contains(dialogue)': False,\n",
       " 'contains(poorly)': False,\n",
       " 'contains(written)': False,\n",
       " 'contains(extremely)': False,\n",
       " 'contains(predictable)': False,\n",
       " 'contains(progresses)': False,\n",
       " 'contains(won)': False,\n",
       " 'contains(care)': False,\n",
       " 'contains(heroes)': False,\n",
       " 'contains(any)': False,\n",
       " 'contains(jeopardy)': False,\n",
       " 'contains(ll)': False,\n",
       " 'contains(aren)': False,\n",
       " 'contains(nobody)': False,\n",
       " 'contains(remembers)': False,\n",
       " 'contains(questionable)': False,\n",
       " 'contains(wisdom)': False,\n",
       " 'contains(especially)': True,\n",
       " 'contains(considers)': False,\n",
       " 'contains(target)': False,\n",
       " 'contains(fact)': False,\n",
       " 'contains(number)': False,\n",
       " 'contains(memorable)': False,\n",
       " 'contains(can)': False,\n",
       " 'contains(counted)': False,\n",
       " 'contains(hand)': False,\n",
       " 'contains(missing)': False,\n",
       " 'contains(finger)': False,\n",
       " 'contains(times)': False,\n",
       " 'contains(checked)': False,\n",
       " 'contains(six)': False,\n",
       " 'contains(clear)': False,\n",
       " 'contains(indication)': False,\n",
       " 'contains(them)': True,\n",
       " 'contains(than)': False,\n",
       " 'contains(cash)': False,\n",
       " 'contains(spending)': False,\n",
       " 'contains(dollar)': False,\n",
       " 'contains(judging)': False,\n",
       " 'contains(rash)': False,\n",
       " 'contains(awful)': False,\n",
       " 'contains(seeing)': True,\n",
       " 'contains(avoid)': False,\n",
       " 'contains(at)': False,\n",
       " 'contains(costs)': False,\n",
       " 'contains(quest)': False,\n",
       " 'contains(camelot)': False,\n",
       " 'contains(warner)': False,\n",
       " 'contains(bros)': False,\n",
       " 'contains(feature)': False,\n",
       " 'contains(length)': False,\n",
       " 'contains(fully)': False,\n",
       " 'contains(animated)': False,\n",
       " 'contains(steal)': False,\n",
       " 'contains(clout)': False,\n",
       " 'contains(disney)': False,\n",
       " 'contains(cartoon)': False,\n",
       " 'contains(empire)': False,\n",
       " 'contains(mouse)': False,\n",
       " 'contains(reason)': False,\n",
       " 'contains(worried)': False,\n",
       " 'contains(other)': True,\n",
       " 'contains(recent)': False,\n",
       " 'contains(throne)': False,\n",
       " 'contains(last)': False,\n",
       " 'contains(fall)': False,\n",
       " 'contains(promising)': False,\n",
       " 'contains(flawed)': False,\n",
       " 'contains(20th)': False,\n",
       " 'contains(century)': False,\n",
       " 'contains(fox)': False,\n",
       " 'contains(anastasia)': False,\n",
       " 'contains(hercules)': False,\n",
       " 'contains(lively)': False,\n",
       " 'contains(colorful)': False,\n",
       " 'contains(had)': False,\n",
       " 'contains(beat)': False,\n",
       " 'contains(hands)': False,\n",
       " 'contains(crown)': False,\n",
       " 'contains(1997)': False,\n",
       " 'contains(piece)': False,\n",
       " 'contains(animation)': False,\n",
       " 'contains(year)': False,\n",
       " 'contains(contest)': False,\n",
       " 'contains(arrival)': False,\n",
       " 'contains(magic)': False,\n",
       " 'contains(kingdom)': False,\n",
       " 'contains(mediocre)': False,\n",
       " 'contains(--)': True,\n",
       " 'contains(d)': False,\n",
       " 'contains(pocahontas)': False,\n",
       " 'contains(those)': False,\n",
       " 'contains(keeping)': False,\n",
       " 'contains(score)': False,\n",
       " 'contains(nearly)': False,\n",
       " 'contains(dull)': False,\n",
       " 'contains(revolves)': False,\n",
       " 'contains(adventures)': False,\n",
       " 'contains(free)': False,\n",
       " 'contains(spirited)': False,\n",
       " 'contains(voiced)': False,\n",
       " 'contains(early)': True,\n",
       " 'contains(daughter)': False,\n",
       " 'contains(knight)': False,\n",
       " 'contains(king)': False,\n",
       " 'contains(arthur)': False,\n",
       " 'contains(round)': False,\n",
       " 'contains(table)': False,\n",
       " 'contains(dream)': False,\n",
       " 'contains(follow)': False,\n",
       " 'contains(father)': False,\n",
       " 'contains(footsteps)': False,\n",
       " 'contains(she)': True,\n",
       " 'contains(chance)': False,\n",
       " 'contains(evil)': False,\n",
       " 'contains(gary)': False,\n",
       " 'contains(oldman)': False,\n",
       " 'contains(ex)': False,\n",
       " 'contains(gone)': False,\n",
       " 'contains(steals)': False,\n",
       " 'contains(magical)': False,\n",
       " 'contains(sword)': False,\n",
       " 'contains(accidentally)': False,\n",
       " 'contains(loses)': False,\n",
       " 'contains(dangerous)': True,\n",
       " 'contains(trapped)': False,\n",
       " 'contains(forest)': False,\n",
       " 'contains(help)': True,\n",
       " 'contains(hunky)': False,\n",
       " 'contains(blind)': False,\n",
       " 'contains(garrett)': False,\n",
       " 'contains(carey)': False,\n",
       " 'contains(elwes)': False,\n",
       " 'contains(headed)': False,\n",
       " 'contains(dragon)': False,\n",
       " 'contains(eric)': False,\n",
       " 'contains(idle)': False,\n",
       " 'contains(arguing)': False,\n",
       " 'contains(itself)': False,\n",
       " 'contains(able)': False,\n",
       " 'contains(medieval)': False,\n",
       " 'contains(sexist)': False,\n",
       " 'contains(prove)': False,\n",
       " 'contains(fighter)': False,\n",
       " 'contains(side)': False,\n",
       " 'contains(pure)': False,\n",
       " 'contains(essential)': False,\n",
       " 'contains(element)': False,\n",
       " 'contains(expected)': False,\n",
       " 'contains(climb)': False,\n",
       " 'contains(high)': False,\n",
       " 'contains(ranks)': False,\n",
       " 'contains(something)': False,\n",
       " 'contains(saturday)': False,\n",
       " 'contains(morning)': False,\n",
       " 'contains(instantly)': False,\n",
       " 'contains(forgettable)': False,\n",
       " 'contains(songs)': False,\n",
       " 'contains(integrated)': False,\n",
       " 'contains(footage)': False,\n",
       " 'contains(compare)': False,\n",
       " 'contains(run)': False,\n",
       " 'contains(angry)': False,\n",
       " 'contains(ogre)': False,\n",
       " 'contains(battle)': False,\n",
       " 'contains(rest)': False,\n",
       " 'contains(case)': False,\n",
       " 'contains(none)': False,\n",
       " 'contains(remotely)': False,\n",
       " 'contains(interesting)': False,\n",
       " 'contains(race)': False,\n",
       " 'contains(bland)': False,\n",
       " 'contains(end)': False,\n",
       " 'contains(tie)': False,\n",
       " 'contains(win)': False,\n",
       " 'contains(comedy)': True,\n",
       " 'contains(shtick)': False,\n",
       " 'contains(awfully)': False,\n",
       " 'contains(least)': True,\n",
       " 'contains(signs)': False,\n",
       " 'contains(pulse)': False,\n",
       " 'contains(fans)': False,\n",
       " 'contains(90s)': False,\n",
       " 'contains(will)': True,\n",
       " 'contains(thrilled)': False,\n",
       " 'contains(white)': False,\n",
       " 'contains(bronson)': False,\n",
       " 'contains(sharing)': False,\n",
       " 'contains(nicely)': False,\n",
       " 'contains(realized)': False,\n",
       " 'contains(though)': False,\n",
       " 'contains(m)': False,\n",
       " 'contains(loss)': False,\n",
       " 'contains(recall)': False,\n",
       " 'contains(specific)': False,\n",
       " 'contains(providing)': False,\n",
       " 'contains(voice)': False,\n",
       " 'contains(talent)': False,\n",
       " 'contains(enthusiastic)': False,\n",
       " 'contains(paired)': False,\n",
       " 'contains(singers)': False,\n",
       " 'contains(sound)': False,\n",
       " 'contains(musical)': False,\n",
       " 'contains(moments)': False,\n",
       " 'contains(jane)': False,\n",
       " 'contains(seymour)': False,\n",
       " 'contains(celine)': False,\n",
       " 'contains(must)': False,\n",
       " 'contains(strain)': False,\n",
       " 'contains(through)': False,\n",
       " 'contains(aside)': False,\n",
       " 'contains(children)': False,\n",
       " 'contains(probably)': False,\n",
       " 'contains(adults)': False,\n",
       " 'contains(error)': False,\n",
       " 'contains(lack)': False,\n",
       " 'contains(personality)': False,\n",
       " 'contains(learn)': False,\n",
       " 'contains(goes)': False,\n",
       " 'contains(synopsis)': False,\n",
       " 'contains(mentally)': False,\n",
       " 'contains(unstable)': False,\n",
       " 'contains(saves)': False,\n",
       " 'contains(boy)': False,\n",
       " 'contains(potentially)': False,\n",
       " 'contains(fatal)': False,\n",
       " 'contains(falls)': False,\n",
       " 'contains(love)': False,\n",
       " 'contains(mother)': False,\n",
       " 'contains(fledgling)': False,\n",
       " 'contains(unsuccessfully)': False,\n",
       " 'contains(attempting)': False,\n",
       " 'contains(gain)': False,\n",
       " 'contains(woman)': True,\n",
       " 'contains(favor)': False,\n",
       " 'contains(takes)': False,\n",
       " 'contains(pictures)': False,\n",
       " 'contains(kills)': False,\n",
       " 'contains(comments)': True,\n",
       " 'contains(stalked)': False,\n",
       " 'contains(yet)': False,\n",
       " 'contains(seemingly)': False,\n",
       " 'contains(endless)': True,\n",
       " 'contains(string)': False,\n",
       " 'contains(getting)': True,\n",
       " 'contains(revenge)': False,\n",
       " 'contains(type)': False,\n",
       " 'contains(stable)': False,\n",
       " 'contains(category)': False,\n",
       " 'contains(1990s)': False,\n",
       " 'contains(industry)': False,\n",
       " 'contains(theatrical)': False,\n",
       " 'contains(direct)': False,\n",
       " 'contains(may)': False,\n",
       " 'contains(due)': False,\n",
       " 'contains(typically)': False,\n",
       " 'contains(produce)': False,\n",
       " 'contains(special)': False,\n",
       " 'contains(effects)': False,\n",
       " 'contains(stars)': False,\n",
       " 'contains(serve)': False,\n",
       " 'contains(vehicles)': False,\n",
       " 'contains(nudity)': False,\n",
       " 'contains(allowing)': False,\n",
       " 'contains(frequent)': False,\n",
       " 'contains(night)': False,\n",
       " 'contains(cable)': False,\n",
       " 'contains(slightly)': False,\n",
       " 'contains(norm)': False,\n",
       " 'contains(respect)': False,\n",
       " 'contains(psycho)': False,\n",
       " 'contains(never)': True,\n",
       " 'contains(affair)': False,\n",
       " 'contains(;)': False,\n",
       " 'contains(contrary)': False,\n",
       " 'contains(rejected)': False,\n",
       " 'contains(rather)': False,\n",
       " 'contains(lover)': False,\n",
       " 'contains(wife)': True,\n",
       " 'contains(husband)': False,\n",
       " 'contains(entry)': False,\n",
       " 'contains(doomed)': False,\n",
       " 'contains(collect)': False,\n",
       " 'contains(dust)': False,\n",
       " 'contains(viewed)': False,\n",
       " 'contains(midnight)': False,\n",
       " 'contains(provide)': False,\n",
       " 'contains(suspense)': False,\n",
       " 'contains(sets)': False,\n",
       " 'contains(opening)': False,\n",
       " 'contains(credits)': False,\n",
       " 'contains(instance)': False,\n",
       " 'contains(serious)': False,\n",
       " 'contains(sounding)': False,\n",
       " 'contains(narrator)': False,\n",
       " 'contains(ponders)': False,\n",
       " 'contains(cause)': False,\n",
       " 'contains(implied)': False,\n",
       " 'contains(men)': False,\n",
       " 'contains(shown)': False,\n",
       " 'contains(actor)': False,\n",
       " 'contains(jay)': False,\n",
       " 'contains(underwood)': False,\n",
       " 'contains(states)': False,\n",
       " 'contains(daryl)': False,\n",
       " 'contains(stalker)': False,\n",
       " 'contains(brooke)': False,\n",
       " 'contains(daniels)': False,\n",
       " 'contains(meant)': False,\n",
       " 'contains(called)': False,\n",
       " 'contains(required)': False,\n",
       " 'contains(proceeds)': False,\n",
       " 'contains(begins)': False,\n",
       " 'contains(obvious)': False,\n",
       " 'contains(sequence)': False,\n",
       " 'contains(contrived)': False,\n",
       " 'contains(quite)': False,\n",
       " 'contains(brings)': False,\n",
       " 'contains(victim)': False,\n",
       " 'contains(together)': False,\n",
       " 'contains(follows)': False,\n",
       " 'contains(tries)': True,\n",
       " 'contains(woo)': False,\n",
       " 'contains(plans)': False,\n",
       " 'contains(become)': False,\n",
       " 'contains(desperate)': False,\n",
       " 'contains(elaborate)': False,\n",
       " 'contains(include)': False,\n",
       " 'contains(cliche)': False,\n",
       " 'contains(murdered)': False,\n",
       " 'contains(pet)': False,\n",
       " 'contains(require)': False,\n",
       " 'contains(found)': False,\n",
       " 'contains(exception)': False,\n",
       " 'contains(cat)': False,\n",
       " 'contains(shower)': False,\n",
       " 'contains(events)': False,\n",
       " 'contains(lead)': True,\n",
       " 'contains(inevitable)': False,\n",
       " 'contains(showdown)': False,\n",
       " 'contains(survives)': False,\n",
       " 'contains(invariably)': False,\n",
       " 'contains(conclusion)': False,\n",
       " 'contains(turkey)': False,\n",
       " 'contains(uniformly)': False,\n",
       " 'contains(adequate)': False,\n",
       " 'contains(anything)': False,\n",
       " 'contains(home)': False,\n",
       " 'contains(either)': False,\n",
       " 'contains(turns)': False,\n",
       " 'contains(toward)': False,\n",
       " 'contains(melodrama)': False,\n",
       " 'contains(words)': False,\n",
       " 'contains(manages)': False,\n",
       " 'contains(creepy)': False,\n",
       " 'contains(pass)': False,\n",
       " 'contains(demands)': False,\n",
       " 'contains(close)': False,\n",
       " 'contains(played)': True,\n",
       " 'contains(bond)': False,\n",
       " 'contains(chick)': False,\n",
       " 'contains(living)': False,\n",
       " 'contains(equally)': False,\n",
       " 'contains(title)': False,\n",
       " 'contains(ditzy)': False,\n",
       " 'contains(strong)': False,\n",
       " 'contains(independent)': False,\n",
       " 'contains(business)': False,\n",
       " 'contains(owner)': False,\n",
       " 'contains(needs)': False,\n",
       " 'contains(proceed)': False,\n",
       " 'contains(example)': False,\n",
       " 'contains(ensure)': False,\n",
       " 'contains(use)': False,\n",
       " 'contains(excuse)': False,\n",
       " 'contains(decides)': False,\n",
       " 'contains(return)': False,\n",
       " 'contains(left)': False,\n",
       " 'contains(place)': True,\n",
       " 'contains(house)': False,\n",
       " 'contains(leave)': False,\n",
       " 'contains(door)': False,\n",
       " 'contains(answers)': False,\n",
       " 'contains(opens)': False,\n",
       " 'contains(wanders)': False,\n",
       " 'contains(returns)': False,\n",
       " 'contains(enters)': False,\n",
       " 'contains(our)': False,\n",
       " 'contains(heroine)': False,\n",
       " 'contains(danger)': False,\n",
       " 'contains(somehow)': False,\n",
       " 'contains(front)': False,\n",
       " 'contains(right)': False,\n",
       " 'contains(oblivious)': False,\n",
       " 'contains(presence)': False,\n",
       " 'contains(inside)': False,\n",
       " 'contains(whole)': False,\n",
       " 'contains(episode)': False,\n",
       " 'contains(places)': False,\n",
       " 'contains(incredible)': False,\n",
       " 'contains(suspension)': False,\n",
       " 'contains(disbelief)': False,\n",
       " 'contains(questions)': False,\n",
       " 'contains(intelligence)': False,\n",
       " 'contains(receives)': False,\n",
       " 'contains(highly)': False,\n",
       " 'contains(derivative)': False,\n",
       " 'contains(somewhat)': False,\n",
       " 'contains(boring)': False,\n",
       " 'contains(cannot)': False,\n",
       " 'contains(watched)': False,\n",
       " 'contains(rated)': False,\n",
       " 'contains(mostly)': False,\n",
       " 'contains(several)': False,\n",
       " 'contains(murder)': False,\n",
       " 'contains(brief)': True,\n",
       " 'contains(strip)': False,\n",
       " 'contains(bar)': False,\n",
       " 'contains(offensive)': False,\n",
       " 'contains(many)': True,\n",
       " 'contains(thrillers)': False,\n",
       " 'contains(mood)': False,\n",
       " 'contains(stake)': False,\n",
       " 'contains(else)': False,\n",
       " 'contains(capsule)': True,\n",
       " 'contains(planet)': False,\n",
       " 'contains(mars)': False,\n",
       " 'contains(taking)': False,\n",
       " 'contains(custody)': False,\n",
       " 'contains(accused)': False,\n",
       " 'contains(murderer)': False,\n",
       " 'contains(face)': False,\n",
       " 'contains(menace)': False,\n",
       " 'contains(lot)': False,\n",
       " 'contains(fighting)': False,\n",
       " 'contains(john)': False,\n",
       " 'contains(carpenter)': False,\n",
       " 'contains(reprises)': False,\n",
       " 'contains(ideas)': False,\n",
       " 'contains(previous)': False,\n",
       " 'contains(assault)': False,\n",
       " 'contains(precinct)': False,\n",
       " 'contains(13)': False,\n",
       " 'contains(homage)': False,\n",
       " 'contains(himself)': False,\n",
       " 'contains(0)': False,\n",
       " 'contains(+)': False,\n",
       " 'contains(believes)': False,\n",
       " 'contains(fight)': True,\n",
       " 'contains(horrible)': False,\n",
       " 'contains(writer)': False,\n",
       " 'contains(supposedly)': False,\n",
       " 'contains(expert)': False,\n",
       " 'contains(mistake)': False,\n",
       " 'contains(ghosts)': False,\n",
       " ...}"
      ]
     },
     "execution_count": 389,
     "metadata": {},
     "output_type": "execute_result"
    }
   ],
   "source": [
    "document_features(movie_reviews.words('pos/cv957_8737.txt'))"
   ]
  },
  {
   "cell_type": "markdown",
   "metadata": {
    "editable": true,
    "slideshow": {
     "slide_type": "subslide"
    },
    "tags": []
   },
   "source": [
    "* Now we have tuple of `({features}, label)`"
   ]
  },
  {
   "cell_type": "code",
   "execution_count": 374,
   "metadata": {
    "editable": true,
    "slideshow": {
     "slide_type": "fragment"
    },
    "tags": []
   },
   "outputs": [],
   "source": [
    "train_docs = documents[:1000]\n",
    "test_docs = documents[1000:1500]\n",
    "train_set = [(document_features(d), c) for (d,c) in train_docs]\n",
    "test_set = [(document_features(d), c) for (d,c) in test_docs]\n",
    "classifier = nltk.NaiveBayesClassifier.train(train_set)"
   ]
  },
  {
   "cell_type": "code",
   "execution_count": 375,
   "metadata": {
    "editable": true,
    "slideshow": {
     "slide_type": "fragment"
    },
    "tags": []
   },
   "outputs": [
    {
     "name": "stdout",
     "output_type": "stream",
     "text": [
      "0.762\n"
     ]
    }
   ],
   "source": [
    "print(nltk.classify.accuracy(classifier, test_set))"
   ]
  },
  {
   "cell_type": "code",
   "execution_count": 376,
   "metadata": {
    "editable": true,
    "slideshow": {
     "slide_type": "subslide"
    },
    "tags": []
   },
   "outputs": [
    {
     "name": "stdout",
     "output_type": "stream",
     "text": [
      "Most Informative Features\n",
      "   contains(outstanding) = True              pos : neg    =     19.7 : 1.0\n",
      "        contains(sloppy) = True              neg : pos    =     12.4 : 1.0\n",
      "      contains(lifeless) = True              neg : pos    =     11.0 : 1.0\n",
      "        contains(asleep) = True              neg : pos    =     10.3 : 1.0\n",
      "      contains(chilling) = True              pos : neg    =      9.7 : 1.0\n",
      "     contains(acclaimed) = True              pos : neg    =      9.1 : 1.0\n",
      "         contains(legal) = True              pos : neg    =      9.1 : 1.0\n",
      "        contains(smooth) = True              pos : neg    =      9.1 : 1.0\n",
      "           contains(era) = True              pos : neg    =      8.7 : 1.0\n",
      "      contains(flawless) = True              pos : neg    =      8.4 : 1.0\n"
     ]
    }
   ],
   "source": [
    "classifier.show_most_informative_features(10)"
   ]
  },
  {
   "cell_type": "code",
   "execution_count": 377,
   "metadata": {
    "editable": true,
    "slideshow": {
     "slide_type": "skip"
    },
    "tags": []
   },
   "outputs": [],
   "source": [
    "# Copyright of the original version:\n",
    "\n",
    "# Copyright (c) 2014 Matt Dickenson\n",
    "# \n",
    "# Permission is hereby granted, free of charge, to any person obtaining a copy\n",
    "# of this software and associated documentation files (the \"Software\"), to deal\n",
    "# in the Software without restriction, including without limitation the rights\n",
    "# to use, copy, modify, merge, publish, distribute, sublicense, and/or sell\n",
    "# copies of the Software, and to permit persons to whom the Software is\n",
    "# furnished to do so, subject to the following conditions:\n",
    "# \n",
    "# The above copyright notice and this permission notice shall be included in all\n",
    "# copies or substantial portions of the Software.\n",
    "# \n",
    "# THE SOFTWARE IS PROVIDED \"AS IS\", WITHOUT WARRANTY OF ANY KIND, EXPRESS OR\n",
    "# IMPLIED, INCLUDING BUT NOT LIMITED TO THE WARRANTIES OF MERCHANTABILITY,\n",
    "# FITNESS FOR A PARTICULAR PURPOSE AND NONINFRINGEMENT. IN NO EVENT SHALL THE\n",
    "# AUTHORS OR COPYRIGHT HOLDERS BE LIABLE FOR ANY CLAIM, DAMAGES OR OTHER\n",
    "# LIABILITY, WHETHER IN AN ACTION OF CONTRACT, TORT OR OTHERWISE, ARISING FROM,\n",
    "# OUT OF OR IN CONNECTION WITH THE SOFTWARE OR THE USE OR OTHER DEALINGS IN THE\n",
    "# SOFTWARE.\n"
   ]
  }
 ],
 "metadata": {
  "kernelspec": {
   "display_name": "Python 3",
   "language": "python",
   "name": "python3"
  },
  "language_info": {
   "codemirror_mode": {
    "name": "ipython",
    "version": 3
   },
   "file_extension": ".py",
   "mimetype": "text/x-python",
   "name": "python",
   "nbconvert_exporter": "python",
   "pygments_lexer": "ipython3",
   "version": "3.13.6"
  }
 },
 "nbformat": 4,
 "nbformat_minor": 4
}
