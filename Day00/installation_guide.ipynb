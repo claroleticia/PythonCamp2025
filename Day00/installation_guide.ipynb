{
 "cells": [
  {
   "cell_type": "markdown",
   "id": "a7695826-594c-4c0f-9799-6ad899027a7c",
   "metadata": {},
   "source": [
    "### Part 1: Git and Github \n",
    "\n",
    "- Git is a version control system that allows developers or programmers to track changes in their code. \n",
    "- GitHub is a web-based hosting service for git repositories. \n",
    "\n",
    "<br>\n",
    "\n",
    "For this course, you will need to use GitHub to get the course materials and submit your homework assignments to be graded. \n",
    "\n",
    "\n",
    "1. Install GitHub\n",
    "    - Go to www.github.com\n",
    "    - Create an account if you do not already have one. \n",
    "    - Follow these instructions (https://github.com/git-guides/install-git) to install git on any OS. \n",
    "        - For mac users, follow the \"Install Git from Homebrew\" section is the easiest. \n",
    "\n",
    "<br>\n",
    "\n",
    "2. Open up your Terminal / Commandline. Make sure you know where it is, since we will use it very often!\n",
    "\n",
    "3. Go to our class repository on GitHub (i.e., click the link here):\n",
    "   https://github.com/river-jeon/PythonCamp2025 \n",
    "\n",
    "4. `fork` the class repository:\n",
    "    - Click on the `fork` in the top right corner. This will launch an animation, after which, you should end up on your own forked repository. \n",
    "    - This url should read like https://github.com/YOURUSERNAME/PythonCamp2025\n",
    "\n",
    "<br>    \n",
    "\n",
    "5. `clone` your repository: \n",
    "    - Click the green `code` button and click the clipboard icon next to the url. \n",
    "    - Open terminal and use `cd` to go to the folder where you want to clone the repository. (Might be the easiest to have it on your Desktop? Just make sure you know where it is and you can find it.)\n",
    "    - Type `git clone LINK_YOU_JUST_COPIED_FROM_THE_WEBSITE` and then hit enter.\n",
    "\n",
    "#### 👏  Great job! You now have your own repository for the course!\n",
    "\n",
    "<br>\n",
    "\n",
    "Now you need to let GitHub know that _my_ repository is the origin repository so you can pull down changes later (where I will share all the course materials).\n",
    "\n",
    "1. `cd` to the folder you just created. In terminal, type `git remote -v` and you will likely see: \n",
    "    - origin https://github.com/YOUR_USERNAME/YOUR_FORK.git (fetch)\n",
    "    - origin https://github.com/YOUR_USERNAME/YOUR_FORK.git (push)\n",
    "\n",
    "<br>\n",
    "\n",
    "2. In terminal, type `git remote add upstream LINK_YOU_COPIED_FROM_MY_REPOSITORY`\n",
    "    - This tells GitHub that my repository is the origin\n",
    "\n",
    "<br>\n",
    "\n",
    "3. If you did this correctly, when you type `git remote -v`, you should see something like:\n",
    "    - origin https://github.com/YOUR_USERNAME/YOUR_FORK.git (fetch)\n",
    "    - origin https://github.com/YOUR_USERNAME/YOUR_FORK.git (push)\n",
    "    - upstream https://github.com/ORIGINAL_OWNER/ORIGINAL_REPOSITORY.git (fetch) \n",
    "    - upstream https://github.com/ORIGINAL_OWNER/ORIGINAL_REPOSITORY.git (push)\n",
    "\n",
    "\n",
    "Once you have this folder on your computer, you can work on files within it or save new files to it. \n",
    "\n",
    "However, any changes you make locally will not sync to GitHub until you **push** them.\n",
    "\n",
    "\n",
    "<br>\n",
    "\n",
    "### After making changes to files, e.g., working on exercises, labs, or HW, it is crucial to add, commit, and push your changes to your forked repo.\n",
    "\n",
    "#### To Push changes to GitHub: \n",
    "1. Use `cd` to navigate to the folder on your computer. \n",
    "2. `git status` allows you to check your uncommitted changes. \n",
    "3. `git add --all` or `git add *` adds all of your changes to be committed.\n",
    "4. `git add FILENAME` adds just one file \n",
    "5. `git commit -m \"YOUR SHORT MESSAGE\"` commits the changes. Please put infromative message here.\n",
    "6. `git push` pushes your changes to GitHub remotely where everyone could see it (of course, if it is public).\n",
    "\n",
    "\n",
    "#### To Pull changes to GitHub: \n",
    "Pulling will add changes from the upstream (i.e. my repository, when I share new materials) to your repository. It will only overwrite anything you have added on your end if we edit the same files, but I will try to minimize this on my end.\n",
    "1. In Terminal, navigate to the local repository on your computer using `cd`.\n",
    "2. Check that my repo, https://github.com/river-jeon/PythonCamp2025.git, is set as the upstream using `git remote -v`\n",
    "    - If it is *not*, you will need to add it using `git remote add upstream https://github.com/river-jeon/PythonCamp2025.git`\n",
    "3. Type `git fetch upstream`\n",
    "4. Type `git checkout main`\n",
    "5. Type `git merge upstream/main`\n",
    "\n",
    "### If there are conflicts...\n",
    "1. Don't panic! GitHub will tell you which files contain the conflict(s) in your Terminal.\n",
    "2. You will need to manually resolve the conflicts by opening them in a text editor and searching for the git markings that look like `=====` or `>>>>`.\n",
    "3. Edit your file in the text editor to keep the changes you want. Save them.\n",
    "4. Now, run `git status` to see the change you made to resolve the conflict. Add them, using `git add`, and commit them using `git commit -m\"fixing conflicts\"` or similar commit message.\n",
    "5. Push changes with `git push`. \n",
    "6. FINALLY, now run `git merge upstream/main`. Hopefully it runs now! \n",
    "\n",
    "<br>\n",
    "\n",
    "***"
   ]
  },
  {
   "cell_type": "markdown",
   "id": "3be8cc36-009a-406a-88ab-2023c4c6f427",
   "metadata": {},
   "source": [
    "### Part 2: Python\n",
    "\n",
    "##### *MAKE SURE YOU INSTALL PYTHON 3!*\n",
    "- Beyond this, you can choose among several installation options. It is worth reading about the benefits/drawbacks of some of these, and considering how you plan to use Python beyond this camp.\n",
    "\n",
    "Options to consider:\n",
    "- The \"straightforward\" way:\n",
    "    - https://www.python.org/downloads/\n",
    "- Using brew for mac OS\n",
    "    - https://mac.install.guide/python/brew\n",
    "- Using Pyenv to manage multiple versions (my current choice)\n",
    "    - https://github.com/pyenv/pyenv?tab=readme-ov-file\n",
    "    - https://realpython.com/intro-to-pyenv/#why-use-pyenv\n",
    "- Using Anaconda to manage environments, packages, versions (have used this in the past)\n",
    "    - https://www.anaconda.com/\n",
    "    - https://www.bairesdev.com/blog/anaconda-vs-python-programming/ (goes over pros and cons)\n",
    "\n",
    "<br>\n",
    "\n",
    "***\n"
   ]
  },
  {
   "cell_type": "markdown",
   "id": "95eb1431-6e32-4c38-8c99-e53630a55b9e",
   "metadata": {},
   "source": [
    "#### Testing your installation"
   ]
  },
  {
   "cell_type": "markdown",
   "id": "408ad90a-a705-4f19-a1be-976356cefe76",
   "metadata": {},
   "source": [
    "Regardless of the method you choose, make sure to test your installation. Here are some ways you can do this in your terminal or commandline."
   ]
  },
  {
   "cell_type": "code",
   "execution_count": 18,
   "id": "30890634-0128-4dd1-893d-89fe12f3a53c",
   "metadata": {},
   "outputs": [
    {
     "name": "stdout",
     "output_type": "stream",
     "text": [
      "Python 3.12.4\n"
     ]
    }
   ],
   "source": [
    "### check which version is installed\n",
    "! python -V\n",
    "### run without the exclamation mark; this lets you run commandline in python"
   ]
  },
  {
   "cell_type": "code",
   "execution_count": 10,
   "id": "8363e018-e0ba-4569-b013-bd843d25ed44",
   "metadata": {
    "scrolled": true
   },
   "outputs": [
    {
     "ename": "SyntaxError",
     "evalue": "Missing parentheses in call to 'print'. Did you mean print(...)? (4269434532.py, line 2)",
     "output_type": "error",
     "traceback": [
      "\u001b[0;36m  Cell \u001b[0;32mIn[10], line 2\u001b[0;36m\u001b[0m\n\u001b[0;31m    print \"Hello world\"\u001b[0m\n\u001b[0m    ^\u001b[0m\n\u001b[0;31mSyntaxError\u001b[0m\u001b[0;31m:\u001b[0m Missing parentheses in call to 'print'. Did you mean print(...)?\n"
     ]
    }
   ],
   "source": [
    "### this should produce an error; it's using Python 2x syntax\n",
    "print \"Hello world\""
   ]
  },
  {
   "cell_type": "code",
   "execution_count": 11,
   "id": "9f729d06-cddc-42f8-b7cc-dd69cfe80b18",
   "metadata": {},
   "outputs": [
    {
     "name": "stdout",
     "output_type": "stream",
     "text": [
      "Hello world\n"
     ]
    }
   ],
   "source": [
    "### this should run\n",
    "print(\"Hello world\")"
   ]
  },
  {
   "cell_type": "markdown",
   "id": "449d2520-dd3b-4541-861c-0ad9c9a6f359",
   "metadata": {},
   "source": [
    "### Part 3: Choose an IDE"
   ]
  },
  {
   "cell_type": "markdown",
   "id": "5df073cf-e529-4cca-b746-5de194c7ad89",
   "metadata": {},
   "source": [
    "###### *MORE CHOICES!*\n",
    "\n",
    "\n",
    "I recommend the following (I have used these and can help with issues!)\n",
    "- Jupyter notebook (My lectures will be given in this IDE)\n",
    "    - https://jupyter.org/\n",
    "- Spyder (Most similar to R Studio)\n",
    "    - https://www.spyder-ide.org/\n",
    "Other popular ones\n",
    "- VS Code (Used by many developers, very customizable)\n",
    "    - https://code.visualstudio.com/\n",
    "- PyCharm\n",
    "    - https://www.jetbrains.com/pycharm/\n",
    "Again, I recommend reading about these and considering their pros and cons, and the sort of stuff you'd like to do with Python.\n",
    "\n",
    "<br>\n",
    "\n",
    "***\n"
   ]
  },
  {
   "cell_type": "markdown",
   "id": "535722ae-85a3-4298-9647-f4c2ffca32b8",
   "metadata": {},
   "source": [
    "#### Congratulations, you are ready for camp!  🎉"
   ]
  }
 ],
 "metadata": {
  "kernelspec": {
   "display_name": "Python 3 (ipykernel)",
   "language": "python",
   "name": "python3"
  },
  "language_info": {
   "codemirror_mode": {
    "name": "ipython",
    "version": 3
   },
   "file_extension": ".py",
   "mimetype": "text/x-python",
   "name": "python",
   "nbconvert_exporter": "python",
   "pygments_lexer": "ipython3",
   "version": "3.12.4"
  }
 },
 "nbformat": 4,
 "nbformat_minor": 5
}
