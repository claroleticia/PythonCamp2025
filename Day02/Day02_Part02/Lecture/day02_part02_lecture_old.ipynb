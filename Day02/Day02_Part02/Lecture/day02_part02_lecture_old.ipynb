{
 "cells": [
  {
   "cell_type": "markdown",
   "metadata": {
    "editable": true,
    "slideshow": {
     "slide_type": "slide"
    },
    "tags": []
   },
   "source": [
    "# Web Scraping + File I/O"
   ]
  },
  {
   "cell_type": "markdown",
   "metadata": {
    "editable": true,
    "slideshow": {
     "slide_type": "slide"
    },
    "tags": []
   },
   "source": [
    "##### Today's Topics:\n",
    "1. Urllib and Beautiful Soup\n",
    "2. Selenium\n",
    "3. File Input/Output"
   ]
  },
  {
   "cell_type": "markdown",
   "metadata": {
    "editable": true,
    "slideshow": {
     "slide_type": "fragment"
    },
    "tags": []
   },
   "source": [
    "* This is likely the most important day in the course (along with day05 on APIs).  \n",
    "* You will use all the modules here if you want to scrape the internet.\n",
    "\n",
    "***"
   ]
  },
  {
   "cell_type": "markdown",
   "metadata": {
    "editable": true,
    "slideshow": {
     "slide_type": "slide"
    },
    "tags": []
   },
   "source": [
    "### 1. Web Scraping (without APIs)"
   ]
  },
  {
   "cell_type": "markdown",
   "metadata": {
    "editable": true,
    "slideshow": {
     "slide_type": "fragment"
    },
    "tags": []
   },
   "source": [
    "* Web scraping is the art of extracting data from websites and delivering it in formats like JSON, CSV, HTML, PDF, etc.\n",
    "* Web scraping can be done either by using coding languages like Python, or by using data extraction APIs (Day 5)."
   ]
  },
  {
   "cell_type": "markdown",
   "metadata": {
    "editable": true,
    "slideshow": {
     "slide_type": "subslide"
    },
    "tags": []
   },
   "source": [
    "##### Benefits \n",
    "\n",
    "1. Time-saving\n",
    "2. Data accuracy\n",
    "3. Cost-effective "
   ]
  },
  {
   "cell_type": "markdown",
   "metadata": {
    "editable": true,
    "slideshow": {
     "slide_type": ""
    },
    "tags": []
   },
   "source": [
    "##### Ethics \n",
    "\n",
    "- Use a Public API when available and avoid scraping all together if the data you are looking if available through the API\n",
    "- Only scrape when it is legal! \n",
    "    - NOT all sites can be legally scraped. Please don't get sued. \n",
    "    - Always check terms of service.\n",
    "    - When in doubt, ask or don't do it. \n",
    "- Be polite and don't break websites\n",
    "    - Scrape your data at a reasonable rate and control the number of requests per second. \n",
    "    - You don't want the website owner to think it as a DDoS attack. "
   ]
  },
  {
   "cell_type": "markdown",
   "metadata": {
    "editable": true,
    "slideshow": {
     "slide_type": "subslide"
    },
    "tags": []
   },
   "source": [
    "##### Overview of Web Scraping (without APIs)"
   ]
  },
  {
   "cell_type": "markdown",
   "metadata": {
    "editable": true,
    "slideshow": {
     "slide_type": "fragment"
    },
    "tags": []
   },
   "source": [
    "1. Call the website and open it\n",
    "2. Extract or load all the html code (you can store it locally for later use)\n",
    "3. Retrieve information using the names of the tags, ids, etc. \n",
    "4. Store the data in to files (like csv)"
   ]
  },
  {
   "cell_type": "markdown",
   "metadata": {
    "editable": true,
    "slideshow": {
     "slide_type": "slide"
    },
    "tags": []
   },
   "source": [
    "#### 1.1 The Skeleton HTML Layout"
   ]
  },
  {
   "cell_type": "code",
   "execution_count": 4,
   "metadata": {
    "editable": true,
    "slideshow": {
     "slide_type": "fragment"
    },
    "tags": []
   },
   "outputs": [],
   "source": [
    "# <!DOCTYPE html> <html>\n",
    "# <head>\n",
    "# <title> Page Title </title>\n",
    "# </head>\n",
    "# <body>\n",
    "\n",
    "# <h1>My first heading </h1>\n",
    "# <p>My first paragraph. </p>\n",
    "\n",
    "# </body> \n",
    "# </html>"
   ]
  },
  {
   "cell_type": "markdown",
   "metadata": {
    "editable": true,
    "slideshow": {
     "slide_type": "fragment"
    },
    "tags": []
   },
   "source": [
    "_See https://www.w3schools.com/tags/default.asp for a list of HTML tags_"
   ]
  },
  {
   "cell_type": "markdown",
   "metadata": {
    "editable": true,
    "slideshow": {
     "slide_type": "subslide"
    },
    "tags": []
   },
   "source": [
    "##### Let's look at some source code!"
   ]
  },
  {
   "cell_type": "markdown",
   "metadata": {
    "editable": true,
    "slideshow": {
     "slide_type": "fragment"
    },
    "tags": []
   },
   "source": [
    "* Now go to https://polisci.wustl.edu/people/88/ \n",
    "* Click right, then View Page Source or (more likely) Inspect"
   ]
  },
  {
   "cell_type": "markdown",
   "metadata": {
    "editable": true,
    "slideshow": {
     "slide_type": ""
    },
    "tags": []
   },
   "source": [
    "##### "
   ]
  },
  {
   "cell_type": "markdown",
   "metadata": {
    "editable": true,
    "slideshow": {
     "slide_type": "slide"
    },
    "tags": []
   },
   "source": [
    "#### 1.2 Web Crawlers"
   ]
  },
  {
   "cell_type": "markdown",
   "metadata": {
    "editable": true,
    "slideshow": {
     "slide_type": "fragment"
    },
    "tags": []
   },
   "source": [
    "##### We mainly use two libraries: `urllib` and `BeautifulSoup`\n",
    "\n",
    "1. `urllib`:\n",
    "    - web crawler \n",
    "    - navigates to a url\n",
    "2. `BeautifulSoup`\n",
    "    - parses a downloaded HTML\n"
   ]
  },
  {
   "cell_type": "markdown",
   "metadata": {
    "editable": true,
    "slideshow": {
     "slide_type": "fragment"
    },
    "tags": []
   },
   "source": [
    "Useful when:\n",
    "- Info is contained in HTML (not served by JavaScript)\n",
    "- Encoded HTML follows predictable pattern\n",
    "- Example: https://www.presidency.ucsb.edu/documents/app-categories/presidential"
   ]
  },
  {
   "cell_type": "markdown",
   "metadata": {
    "editable": true,
    "slideshow": {
     "slide_type": "subslide"
    },
    "tags": []
   },
   "source": [
    "Beautiful Soup documentation: \n",
    "http://www.crummy.com/software/BeautifulSoup/bs4/doc/"
   ]
  },
  {
   "cell_type": "markdown",
   "metadata": {
    "editable": true,
    "slideshow": {
     "slide_type": "fragment"
    },
    "tags": []
   },
   "source": [
    "* Run the line below in a Jupyter cell if not installed alreay"
   ]
  },
  {
   "cell_type": "code",
   "execution_count": 5,
   "metadata": {
    "editable": true,
    "slideshow": {
     "slide_type": "fragment"
    },
    "tags": []
   },
   "outputs": [],
   "source": [
    "# ! pip install beautifulsoup4"
   ]
  },
  {
   "cell_type": "code",
   "execution_count": 3,
   "metadata": {
    "editable": true,
    "slideshow": {
     "slide_type": "fragment"
    },
    "tags": []
   },
   "outputs": [],
   "source": [
    "from bs4 import BeautifulSoup\n",
    "import urllib.request"
   ]
  },
  {
   "cell_type": "markdown",
   "metadata": {
    "editable": true,
    "slideshow": {
     "slide_type": "slide"
    },
    "tags": []
   },
   "source": [
    "#### 1.3 Example (WUSTL Political Science Webpage):"
   ]
  },
  {
   "cell_type": "markdown",
   "metadata": {
    "editable": true,
    "slideshow": {
     "slide_type": "fragment"
    },
    "tags": []
   },
   "source": [
    "1. Open a web page"
   ]
  },
  {
   "cell_type": "code",
   "execution_count": 47,
   "metadata": {
    "editable": true,
    "slideshow": {
     "slide_type": "fragment"
    },
    "tags": []
   },
   "outputs": [
    {
     "data": {
      "text/plain": [
       "<http.client.HTTPResponse at 0x10f5f74f0>"
      ]
     },
     "execution_count": 47,
     "metadata": {},
     "output_type": "execute_result"
    }
   ],
   "source": [
    "#web_address = 'https://polisci.wustl.edu/people'\n",
    "#web_page = urllib.request.urlopen(web_address)\n",
    "#web_page #stored on machine\n",
    "\n",
    "import ssl\n",
    "web_address = 'https://polisci.wustl.edu/people'\n",
    "context = ssl._create_unverified_context()\n",
    "web_page = urllib.request.urlopen(web_address, context=context)\n",
    "web_page  # stored on machine"
   ]
  },
  {
   "cell_type": "markdown",
   "metadata": {},
   "source": [
    "* Try these alternative lines if the above didn't run"
   ]
  },
  {
   "cell_type": "code",
   "execution_count": 1,
   "metadata": {},
   "outputs": [
    {
     "name": "stderr",
     "output_type": "stream",
     "text": [
      "/Users/claro/Library/Python/3.13/lib/python/site-packages/urllib3/connectionpool.py:1097: InsecureRequestWarning: Unverified HTTPS request is being made to host 'polisci.wustl.edu'. Adding certificate verification is strongly advised. See: https://urllib3.readthedocs.io/en/latest/advanced-usage.html#tls-warnings\n",
      "  warnings.warn(\n"
     ]
    },
    {
     "data": {
      "text/plain": [
       "'\\n<!DOCTYPE html>\\n<html lang=\"en\" dir=\"ltr\" prefix=\"og: https://ogp.me/ns#\" class=\"no-js\">\\n  <head>\\n    <meta charset=\"utf-8\" />\\n<noscript><style>form.antibot * :not(.antibot-message) { display: none !important; }</style>\\n</noscript><style>/* @see https://github.com/aFarkas/lazysizes#broken-image-symbol */.js img.lazyload:not([src]) { visibility: hidden; }/* @see https://github.com/aFarkas/lazysizes#automatically-setting-the-sizes-attribute */.js img.lazyloaded[data-sizes=auto] { display: block; width: 100%; }/* Transition effect. */.js .lazyload, .js .lazyloading { opacity: 0; }.js .lazyloaded { opacity: 1; -webkit-transition: opacity 2000ms; transition: opacity 2000ms; }</style>\\n<meta name=\"description\" content=\"Description\" />\\n<link rel=\"shortlink\" href=\"https://polisci.wustl.edu/node/50\" />\\n<link rel=\"canonical\" href=\"https://polisci.wustl.edu/people\" />\\n<meta name=\"robots\" content=\"index, follow\" />\\n<meta name=\"author\" content=\"asdrupal\" />\\n<meta name=\"generator\" content=\"Drupal 10 (http://drupal.org)\" />\\n<meta property=\"og:site_name\" content=\"Department of Political Science\" />\\n<meta property=\"og:type\" content=\"profile\" />\\n<meta property=\"og:url\" content=\"https://polisci.wustl.edu/people\" />\\n<meta property=\"og:title\" content=\"Our People\" />\\n<meta property=\"og:description\" content=\"\" />\\n<meta property=\"og:updated_time\" content=\"2025-04-14T10:48:12-05:00\" />\\n<meta property=\"article:published_time\" content=\"2017-02-24T09:30:04-06:00\" />\\n<meta property=\"article:modified_time\" content=\"2025-04-14T10:48:12-05:00\" />\\n<meta name=\"twitter:card\" content=\"summary\" />\\n<meta name=\"twitter:title\" content=\"Our People\" />\\n<meta name=\"twitter:creator\" content=\"@washuartsci\" />\\n<meta name=\"Generator\" content=\"Drupal 10 (https://www.drupal.org)\" />\\n<meta name=\"MobileOptimized\" content=\"width\" />\\n<meta name=\"HandheldFriendly\" content=\"true\" />\\n<meta name=\"viewport\" content=\"width=device-width, initial-scale=1.0\" />\\n<script type=\"application/ld+json\">{\\n    \"@context\": \"https://schema.org\",\\n    \"@graph\": [\\n        {\\n            \"@type\": \"Article\",\\n            \"@id\": \"https://polisci.wustl.edu/people\",\\n            \"name\": \"Our People\",\\n            \"datePublished\": \"2017-02-24T09:30:04-06:00\",\\n            \"dateModified\": \"2025-04-14T10:48:12-05:00\"\\n        }\\n    ]\\n}</script>\\n<meta name=\"web-author\" content=\"Arts and Sciences olympian theme (https://artsci.washu.edu)\" />\\n<link rel=\"icon\" href=\"/themes/custom/olympian9/favicon.ico\" type=\"image/vnd.microsoft.icon\" />\\n\\n    <title>Our People | Department of Political Science</title>\\n    <link rel=\"stylesheet\" media=\"all\" href=\"/sites/polisci.wustl.edu/files/css/css_laVHCAl1j12T2TNejVx2BfsqZQXvF7HZxbvdB0UspWo.css?delta=0&amp;language=en&amp;theme=olympian9&amp;include=eJxtkFGOgzAMRC9E4HtPgwxxgysnjuwEmtsvpV3BVv2yZp5kj2fCUlBHfGQx9OONeJc2BEyowN0sioPXmoF7uMOjE24xE6SfYQLDi0ywUoBCklxWiqDtAhXDE7ibyL7-C1gQ_D9QYLKrlOxsVmG-mCvhZu4dfd-tcb8Ac-XSXIZwphuPN8BHSk5WVCWP9kEDpdOJ6AnGrRltLQzv2WVQCAp5sb9KTqevKdeJyRb0nTUrGF8NHSFfUfsovjL-AjFbkCY\" />\\n<link rel=\"stylesheet\" media=\"all\" href=\"/sites/polisci.wustl.edu/files/css/css_e2tigoaArJ9DCMbxBHz-NKlVcrWAS9PKne90KsINOTU.css?delta=1&amp;language=en&amp;theme=olympian9&amp;include=eJxtkFGOgzAMRC9E4HtPgwxxgysnjuwEmtsvpV3BVv2yZp5kj2fCUlBHfGQx9OONeJc2BEyowN0sioPXmoF7uMOjE24xE6SfYQLDi0ywUoBCklxWiqDtAhXDE7ibyL7-C1gQ_D9QYLKrlOxsVmG-mCvhZu4dfd-tcb8Ac-XSXIZwphuPN8BHSk5WVCWP9kEDpdOJ6AnGrRltLQzv2WVQCAp5sb9KTqevKdeJyRb0nTUrGF8NHSFfUfsovjL-AjFbkCY\" />\\n<link rel=\"stylesheet\" media=\"all\" href=\"/themes/custom/olympian9/assets/css/components/top-scroll.css?t0jlcf\" />\\n<link rel=\"stylesheet\" media=\"all\" href=\"/sites/polisci.wustl.edu/files/css/css_UVctl2B_3fLqmEvuBheSYiv4B7QMEjy03bRGfaU8vmI.css?delta=3&amp;language=en&amp;theme=olympian9&amp;include=eJxtkFGOgzAMRC9E4HtPgwxxgysnjuwEmtsvpV3BVv2yZp5kj2fCUlBHfGQx9OONeJc2BEyowN0sioPXmoF7uMOjE24xE6SfYQLDi0ywUoBCklxWiqDtAhXDE7ibyL7-C1gQ_D9QYLKrlOxsVmG-mCvhZu4dfd-tcb8Ac-XSXIZwphuPN8BHSk5WVCWP9kEDpdOJ6AnGrRltLQzv2WVQCAp5sb9KTqevKdeJyRb0nTUrGF8NHSFfUfsovjL-AjFbkCY\" />\\n\\n    <script type=\"application/json\" data-drupal-selector=\"drupal-settings-json\">{\"path\":{\"baseUrl\":\"\\\\/\",\"pathPrefix\":\"\",\"currentPath\":\"node\\\\/50\",\"currentPathIsAdmin\":false,\"isFront\":false,\"currentLanguage\":\"en\"},\"pluralDelimiter\":\"\\\\u0003\",\"suppressDeprecationErrors\":true,\"gtag\":{\"tagId\":\"G-BFRZ21PBX1\",\"consentMode\":false,\"otherIds\":[],\"events\":[],\"additionalConfigInfo\":[]},\"ajaxPageState\":{\"libraries\":\"eJx1kd1yhCAMhV9Il-s-DRMli2kDYRJcS5--Wp1Z1-neEM75MpAf0GojucgyAPc2KpVq3YC1onr8LmIY_J14leZgruJtHhLVdykRMyrwO2zIOFYPzD5Lxi6KREZfIbq4Hld9g0_4fjVTx_DT3HZ0WQL6BSlO1W33_doJt1QI8ocbwPAk7zDOXFvPkAPl2BeIZ0y5qoR5rCT5ZGd4UITN7ItSAm0nqBg30N9F1gb_ARNCeAEVBjtLKdvYhflkPggX64_hrW9rWn84in8p2o-i6CAkyr08UJUC2oVGyhen6Lqd5tddJMz1mm9M49fTSxgI_NKMlhbdEbsCClGhTOaCzgX49nRucy7zwGQThs6aVUz7Jv7a2pvbN3s20jp6PnL8Rv1EVkWbO-KBWCD4tBV60b8fchhm\",\"theme\":\"olympian9\",\"theme_token\":null},\"ajaxTrustedUrl\":{\"\\\\/people\":true,\"form_action_p_pvdeGsVG5zNF_XLGPTvYSKCf43t8qZYSwcfZl2uzM\":true},\"gtm\":{\"tagId\":null,\"settings\":{\"data_layer\":\"dataLayer\",\"include_classes\":false,\"allowlist_classes\":\"\",\"blocklist_classes\":\"\",\"include_environment\":false,\"environment_id\":\"\",\"environment_token\":\"\"},\"tagIds\":[\"GTM-KWNP4D65\"]},\"lazy\":{\"lazysizes\":{\"lazyClass\":\"lazyload\",\"loadedClass\":\"lazyloaded\",\"loadingClass\":\"lazyloading\",\"preloadClass\":\"lazypreload\",\"errorClass\":\"lazyerror\",\"autosizesClass\":\"lazyautosizes\",\"srcAttr\":\"data-src\",\"srcsetAttr\":\"data-srcset\",\"sizesAttr\":\"data-sizes\",\"minSize\":40,\"customMedia\":[],\"init\":true,\"expFactor\":1.5,\"hFac\":0.8,\"loadMode\":2,\"loadHidden\":true,\"ricTimeout\":0,\"throttleDelay\":125,\"plugins\":{\"aspectratio\":\"aspectratio\\\\/ls.aspectratio\"}},\"placeholderSrc\":\"\",\"preferNative\":false,\"minified\":false,\"libraryPath\":\"\\\\/libraries\\\\/lazysizes\"},\"artsci\":{\"version\":\"olympian\"},\"viewsAjaxHistory\":{\"renderPageItem\":0,\"initialExposedInput\":{\"views_dom_id:b2e4e1a13b9aa40a9abdb9c3a042f488db7ac276a1e73c81d7fa7a063c3e000f\":null,\"views_dom_id:d0fd63a2b15e742bf48eb461fccdb99bd596cfc234716dc9e9ce2932f1fb3431\":null}},\"views\":{\"ajax_path\":\"\\\\/views\\\\/ajax\",\"ajaxViews\":{\"views_dom_id:b2e4e1a13b9aa40a9abdb9c3a042f488db7ac276a1e73c81d7fa7a063c3e000f\":{\"view_name\":\"faculty\",\"view_display_id\":\"block_grid2\",\"view_args\":\"\",\"view_path\":\"\\\\/node\\\\/50\",\"view_base_path\":\"people\\\\/list\",\"view_dom_id\":\"b2e4e1a13b9aa40a9abdb9c3a042f488db7ac276a1e73c81d7fa7a063c3e000f\",\"pager_element\":0},\"views_dom_id:d0fd63a2b15e742bf48eb461fccdb99bd596cfc234716dc9e9ce2932f1fb3431\":{\"view_name\":\"faculty\",\"view_display_id\":\"attachment_1\",\"view_args\":\"\",\"view_path\":\"\\\\/node\\\\/50\",\"view_base_path\":\"people\\\\/list\",\"view_dom_id\":\"d0fd63a2b15e742bf48eb461fccdb99bd596cfc234716dc9e9ce2932f1fb3431\",\"pager_element\":0}}},\"better_exposed_filters\":{\"autosubmit_exclude_textfield\":true},\"user\":{\"uid\":0,\"permissionsHash\":\"61819293daa9ba9dd9f5d79756c6740effd70d9df3ad9f543661e4a7d27b5e26\"}}</script>\\n<script src=\"/sites/polisci.wustl.edu/files/js/js_a5KIeZ0Mi76kMqulMXm4vRZoAIbqdnlQ_wS57wUPjY4.js?scope=header&amp;delta=0&amp;language=en&amp;theme=olympian9&amp;include=eJx1kNFuwzAIRX_Inp_3NYgkxKXCxjKkbfb1a5pIyyr1Bd_DBSzA7jZyyqIDSrSxc3MLA7lTB3o0NZpgZnmiJVxcwZahsH8qyVSpo3yyjYRGBxSBqpVCVs1C4JhTfoZ3_sIrPv4nSxD8WdMWQtWJ4E6cL542vcugspbGWL_TgEYnrHjjjM5aY-tcsK8n03GwM2rbzqEip-SN6W7xWCrO2kuMM46L-Bob5r-_YNROCafCNeqNeueJLLza9yH7Zi8Jm4QLm2tf0_EelihOULZZb_wLAE2sow\"></script>\\n<script src=\"/modules/contrib/google_tag/js/gtag.js?t0jlcf\"></script>\\n<script src=\"/modules/contrib/google_tag/js/gtm.js?t0jlcf\"></script>\\n\\n  </head>\\n  <body class=\"top-scroll is-always-mobile-nav our-people toggle-list-class user-logged-out lighttheme-wu path-node page-node-type-faculty-landing-page\">\\n\\n<div class=\"skip-link-region\" role=\"region\" aria-label=\"skip-link\">\\n  <a href=\"#main-content\" class=\"visually-hidden focusable skip-link\" role=\"link\" aria-label=\"skip to main content\">\\n    Skip to main content\\n  </a>\\n</div>\\n\\n\\n<noscript><iframe src=\"https://www.googletagmanager.com/ns.html?id=GTM-KWNP4D65\"\\n                  height=\"0\" width=\"0\" style=\"display:none;visibility:hidden\"></iframe></noscript>\\n\\n  <div class=\"dialog-off-canvas-main-canvas\" data-off-canvas-main-canvas>\\n    \\n\\n\\n\\n\\n    \\n\\n<div id=\"viewport\">\\n  <header id=\"header\" class=\"flex light\" role=\"banner\">\\n          \\n\\n        \\n\\n  <a class=\"logo\" href=\"https://artsci.washu.edu\">\\n    <picture>\\n\\n              <source media=\"(min-width: 767px)\" srcset=\"/themes/custom/olympian9/svg/logo-art-sci-vert-color.svg\">\\n        <img src=\"/themes/custom/olympian9/svg/logo-art-sci-color.svg\" alt=\"Washington University in St. Louis\">\\n          </picture>\\n  </a>\\n\\n  <div class=\"department light\">\\n\\n              <a alt=\" Department of Political Science  front page\" href=\"/\"> Department of Political Science </a>\\n\\n  </div>\\n\\n  <div class=\"header-nav-overlay\" data-drupal-selector=\"header-nav-overlay\"></div>\\n\\n        <button type=\"button\" id=\"main-nav-toggle\" aria-label=\"Menu\"\\n            aria-controls=\"main-nav\">\\n      <span class=\"open\">Menu</span>\\n      <span class=\"close\">\\n        <svg class=\"icon\"><use xlink:href=\"#close\"></use></svg>\\n        <span>Close</span>\\n      </span>\\n    </button>\\n          \\n<nav id=\"main-nav\" class=\"flex togglee\">\\n  <div class=\"inner flex\">\\n    <div class=\"column\">\\n      <div class=\"search\">\\n        <div id=\"block-olympian-search-form-narrow\" class=\"block block-search\">\\n  \\n    \\n      <div class=\"content container-inline\">\\n      <form class=\"olympian-search-api-form-block form-inline clearfix olympian-search-form olympian9-content search-form olympian-search-api-form\" data-drupal-selector=\"olympian-search-api-form-block\" action=\"/people\" method=\"post\" id=\"olympian-search-api-form-block\" accept-charset=\"UTF-8\">\\n  <input data-drupal-selector=\"edit-search-config\" type=\"hidden\" name=\"search_config\" value=\"/search search\" />\\n<div class=\"js-form-item form-item js-form-type-search form-type-search js-form-item-search form-item-search olympian-search\">\\n      \\n        <input data-drupal-selector=\"edit-search\" type=\"search\" id=\"edit-search\" name=\"search\" value=\"\" size=\"25\" maxlength=\"255\" placeholder=\"WHAT ARE YOU LOOKING FOR?\" class=\"form-search\" />\\n\\n        </div>\\n<input autocomplete=\"off\" data-drupal-selector=\"form-ka-o9rqj20yqd4toaugvddamy2czdgibtnza9g5y4l8\" type=\"hidden\" name=\"form_build_id\" value=\"form-KA-O9rqj20YQD4toAUgVddAmY2CZdGIbTnZa9G5Y4L8\" />\\n<input data-drupal-selector=\"edit-olympian-search-api-form-block\" type=\"hidden\" name=\"form_id\" value=\"olympian_search_api_form_block\" />\\n\\n<input data-drupal-selector=\"edit-submit\" type=\"submit\" id=\"edit-submit\" name=\"op\" value=\"\" class=\"button js-form-submit form-submit\" />\\n\\n<button class=\"search-button\" href=\"/search\"><svg class=\"icon\"><use xlink:href=\"#icon-search\"></use></svg></a></button>\\n</form>\\n\\n    </div>\\n  </div>\\n\\n      </div>\\n              <nav id=\"primary-nav\" role=\"navigation\" aria-label=\"Main Menu\">\\n                        <ul class=\"menu\">\\n                                                      <li class=\"primary-nav__menu-link primary-nav__menu-link--link primary-nav__menu-link--level-1\">\\n        <a href=\"/undergraduate\" data-drupal-link-system-path=\"node/13357\">Undergraduate Program</a>\\n        \\n      </li>\\n                <li class=\"primary-nav__menu-link primary-nav__menu-link--link primary-nav__menu-link--level-1 primary-nav__menu-item--has-children\">\\n        <a href=\"/graduate-program\" data-drupal-link-system-path=\"node/13340\">Graduate Program</a>\\n                                                                      <button class=\"primary-nav primary-nav__button-toggle\" data-drupal-selector=\"primary-nav-submenu-toggle-button\" aria-controls=\"2\" aria-expanded=\"false\" aria-hidden=\"true\" tabindex=\"-1\">\\n                  <span class=\"visually-hidden\">Graduate Program sub-navigation</span>\\n                  <span class=\"icon--menu-toggle\">\\n                    <svg class=\"icon\"><use xlink:href=\"#nav-arrow\"></use></svg>\\n                    </span>\\n                </button>\\n  <ul id=\"submenu-2\" aria-hidden=\"true\" aria-expanded=\"false\" aria-selected=\"false\" role=\"menu\" class=\"submenu-link\" aria-labelledby=\"2\" style=\"display: none;\">\\n                  <ul class=\"menu\">\\n                                                      <li class=\"primary-nav__menu-link primary-nav__menu-link--link primary-nav__menu-link--level-2\">\\n        <a href=\"/masters-degree-statistics-political-science-phd-students\" data-drupal-link-system-path=\"node/14467\">Master’s Degree in Statistics for Political Science Ph.D. Students</a>\\n        \\n      </li>\\n        </ul>\\n  \\n  </ul>\\n\\n      </li>\\n                <li class=\"primary-nav__menu-link primary-nav__menu-link--link primary-nav__menu-link--level-1\">\\n        <a href=\"/research\" data-drupal-link-system-path=\"node/13198\">Research</a>\\n        \\n      </li>\\n                <li class=\"primary-nav__menu-link primary-nav__menu-link--link primary-nav__menu-link--level-1 menu-item--active-trail\">\\n        <a href=\"/people\" data-drupal-link-system-path=\"node/50\" class=\"is-active\" aria-current=\"page\">Our People</a>\\n        \\n      </li>\\n                <li class=\"primary-nav__menu-link primary-nav__menu-link--link primary-nav__menu-link--level-1\">\\n        <a href=\"/resources\" data-drupal-link-system-path=\"node/61\">Resources</a>\\n        \\n      </li>\\n                <li class=\"primary-nav__menu-link primary-nav__menu-link--link primary-nav__menu-link--level-1\">\\n        <a href=\"https://gifts.wustl.edu/index.html?other_designation_description=Political%20Science\">Make a Gift to Political Science</a>\\n        \\n      </li>\\n        </ul>\\n  \\n\\n\\n        </nav>\\n          </div>\\n    <div class=\"column\">\\n              <div class=\"callout\">\\n                      <p>Let your curiosity lead the way:</p>\\n                    <p>\\n                          <a class=\"button top-left-menu solid red\" target=\"_blank\" href=\"https://artsci.washu.edu/apply\">Apply Today\\n               <svg class=\"icon\"><use xlink:href=\"#link-out\"></use></svg>\\n                             </a>\\n                      </p>\\n        </div>\\n                    <nav id=\"secondary-nav\" role=\"navigation\">\\n          \\n          <ul  class=\"menu menu--level-1\">\\n            \\n                          \\n        \\n        \\n        <li class=\"menu__item menu__item--link menu__item--level-1\">\\n                    \\n          <a href=\"/\" title=\"\" class=\"menu__link menu__link--link menu__link--level-1\" data-drupal-link-system-path=\"&lt;front&gt;\">Home</a>\\n\\n          \\n        </li>\\n      \\n                          \\n        \\n        \\n        <li class=\"menu__item menu__item--link menu__item--level-1\">\\n                    \\n          <a href=\"/events\" title=\"\" class=\"menu__link menu__link--link menu__link--level-1\" data-drupal-link-system-path=\"node/21\">Upcoming Events</a>\\n\\n          \\n        </li>\\n      \\n                          \\n        \\n        \\n        <li class=\"menu__item menu__item--link menu__item--level-1\">\\n                    \\n          <a href=\"/news\" title=\"\" class=\"menu__link menu__link--link menu__link--level-1\" data-drupal-link-system-path=\"node/3323\">Recent News</a>\\n\\n          \\n        </li>\\n      \\n                          \\n        \\n        \\n        <li class=\"menu__item menu__item--link menu__item--level-1\">\\n                    \\n          <a href=\"/contact-us\" title=\"\" class=\"menu__link menu__link--link menu__link--level-1\" data-drupal-link-system-path=\"node/68\">Contact Us</a>\\n\\n          \\n        </li>\\n      \\n                          \\n        \\n        \\n        <li class=\"menu__item menu__item--link menu__item--level-1\">\\n                    \\n          <a href=\"/courses\" class=\"menu__link menu__link--link menu__link--level-1\" data-drupal-link-system-path=\"node/14902\">Courses</a>\\n\\n          \\n        </li>\\n          </ul>\\n  \\n\\n\\n        </nav>\\n              <ul class=\"other-schools\">\\n            <li>\\n              <a href=\"https://artsci.washu.edu\" target=\"_blank\">\\n                <svg class=\"icon\"><use xlink:href=\"#link-out\"></use></svg>\\n                Arts & Sciences\\n              </a>\\n            </li>\\n\\n            <li>\\n              <a href=\"https://gradstudies.artsci.wustl.edu/\" target=\"_blank\">\\n                <svg class=\"icon\"><use xlink:href=\"#link-out\"></use></svg>\\n                Graduate Studies in A&S\\n              </a>\\n            </li>\\n        </ul>\\n    </div>\\n  </div>\\n   <div class=\"ampersand\"><svg><use xlink:href=\"#ampersand\"></use></svg></div>\\n</nav>\\n\\n      </header>\\n  <main role=\"main\"  class=\"content__container olympian__container\">\\n    <a id=\"main-content\" tabindex=\"-1\"></a>\\n\\n    <div class=\"main-local-actions\">\\n              \\n  <div data-drupal-messages-fallback class=\"hidden\"></div>\\n\\n\\n    \\n      \\n              <div class=\"layout-tabs\">\\n          \\n\\n        </div>\\n      \\n      <div class=\"visually-hidden\">\\n                  \\n  <div class=\"region region--page-title\">\\n      <div id=\"block-olympian9-pagetitle\" class=\"block block-core block-page-title-block\">\\n    \\n        \\n          \\n<div  class=\"visually-hidden headline--serif page-title\">\\n  \\n      <h1>Our People</h1>\\n    \\n</div>\\n\\n      </div>\\n\\n  </div>\\n\\n              </div>\\n    </div>\\n    \\n\\n  <div class=\"region region--content grid-full layout--pass--content-medium ie11-autorow\" id=\"content\">\\n    \\n\\n\\n<div data-history-node-id=\"50\" class=\"node node--type-faculty-landing-page node--view-mode-full\">\\n        \\n\\n  <div class=\"introduction-header-img\">\\n    <section id=\"photo-header\" class=\"dark\"\\n             aria-label=\"introduction header with image\">\\n              <div class=\"image\">\\n                      <img loading=\"eager\" srcset=\"https://polisci.wustl.edu/sites/polisci.wustl.edu/files/styles/landscape_16_9_320w/public/170309_jjn_trump_symposium_004_0.jpg.webp 320w, https://polisci.wustl.edu/sites/polisci.wustl.edu/files/styles/landscape_16_9_448w/public/170309_jjn_trump_symposium_004_0.jpg.webp 448w, https://polisci.wustl.edu/sites/polisci.wustl.edu/files/styles/landscape_16_9_600w/public/170309_jjn_trump_symposium_004_0.jpg.webp 600w, https://polisci.wustl.edu/sites/polisci.wustl.edu/files/styles/landscape_16_9_944w/public/170309_jjn_trump_symposium_004_0.jpg.webp 944w, https://polisci.wustl.edu/sites/polisci.wustl.edu/files/styles/background_image/public/170309_jjn_trump_symposium_004_0.jpg.webp 1366w\" sizes=\"(max-width:480px) 85vw, 100vw\" width=\"1366\" height=\"480\" src=\"/sites/polisci.wustl.edu/files/styles/background_image/public/170309_jjn_trump_symposium_004_0.jpg.webp\" alt=\"&quot;&quot;\" />\\n\\n\\n        </div>\\n                    <div class=\"container\">\\n                      <h1>Our People</h1>\\n        \\n              </div>\\n          </section>\\n  </div>\\n\\n  \\n        \\n            \\n\\n    \\n\\n  <section class=\"people-search\">\\n          <div\\n        class=\"two-column-filter\">\\n      </section>\\n  <br>\\n  <div id=\"block-exposedformfacultyblockgrid2\" class=\"block block-views block-views-exposed-filter-blockfaculty-block-grid2\">\\n    \\n        \\n          <form class=\"views-exposed-form bef-exposed-form people-filter\" data-drupal-target-view=\"faculty-block_grid2\" data-bef-auto-submit-full-form=\"\" data-bef-auto-submit=\"\" data-bef-auto-submit-delay=\"0\" data-bef-auto-submit-minimum-length=\"3\" data-drupal-selector=\"views-exposed-form-faculty-block-grid2\" action=\"/people\" method=\"get\" id=\"views-exposed-form-faculty-block-grid2\" accept-charset=\"UTF-8\">\\n  \\n<div class=\"container\">\\n    <br>\\n  <section id=\"filter\" class=\"our-people search with-filter\"\\n           aria-label=\"faculty search\">\\n    <h2>Search for People:</h2>\\n    <div class=\"search-form\">\\n        <svg class=\"icon\">\\n          <use xlink:href=\"#icon-search\"></use>\\n        </svg> <div class=\"js-form-item form-item js-form-type-textfield form-type-textfield js-form-item-keys form-item-keys\">\\n      \\n        <input placeholder=\"Who are you looking for?\" data-drupal-selector=\"edit-keys\" type=\"text\" id=\"edit-keys\" name=\"keys\" value=\"\" size=\"30\" maxlength=\"128\" class=\"form-text\" />\\n\\n        </div>\\n\\n      </div>\\n      <div class=\"two-column-filter\">\\n        <div class=\"filter-options flex\">\\n          <form class=\"options-list\" aria-labelledby=\"people_filter_label\">\\n            <div class=\"filter-list-column\">\\n              <h3>Select a Person Type</h3>\\n              <ul class=\"list\"><fieldset data-drupal-selector=\"edit-cat\" id=\"edit-cat--wrapper\" class=\"fieldgroup form-composite js-form-item form-item js-form-wrapper form-wrapper\">\\n      <legend>\\n    <span class=\"fieldset-legend\">Select a Person Type</span>\\n  </legend>\\n  <div class=\"fieldset-wrapper\">\\n            <div id=\"edit-cat\" class=\"form-boolean-group form-radios\"><div class=\"form-radios\">\\n                  <div class=\"js-form-item form-item js-form-type-radio form-type-radio js-form-item-cat form-item-cat\">\\n        <input data-drupal-selector=\"edit-cat-all\" type=\"radio\" id=\"edit-cat-all\" name=\"cat\" value=\"All\" class=\"form-radio\" />\\n\\n        <label for=\"edit-cat-all\" class=\"option\">All</label>\\n      </div>\\n\\n                    <div class=\"js-form-item form-item js-form-type-radio form-type-radio js-form-item-cat form-item-cat\">\\n        <input data-drupal-selector=\"edit-cat-39\" type=\"radio\" id=\"edit-cat-39\" name=\"cat\" value=\"39\" checked=\"checked\" class=\"form-radio\" />\\n\\n        <label for=\"edit-cat-39\" class=\"option\">Departmental Leadership</label>\\n      </div>\\n\\n                    <div class=\"js-form-item form-item js-form-type-radio form-type-radio js-form-item-cat form-item-cat\">\\n        <input data-drupal-selector=\"edit-cat-88\" type=\"radio\" id=\"edit-cat-88\" name=\"cat\" value=\"88\" class=\"form-radio\" />\\n\\n        <label for=\"edit-cat-88\" class=\"option\">Current Faculty</label>\\n      </div>\\n\\n                    <div class=\"js-form-item form-item js-form-type-radio form-type-radio js-form-item-cat form-item-cat\">\\n        <input data-drupal-selector=\"edit-cat-476\" type=\"radio\" id=\"edit-cat-476\" name=\"cat\" value=\"476\" class=\"form-radio\" />\\n\\n        <label for=\"edit-cat-476\" class=\"option\">New Colleagues</label>\\n      </div>\\n\\n                    <div class=\"js-form-item form-item js-form-type-radio form-type-radio js-form-item-cat form-item-cat\">\\n        <input data-drupal-selector=\"edit-cat-91\" type=\"radio\" id=\"edit-cat-91\" name=\"cat\" value=\"91\" class=\"form-radio\" />\\n\\n        <label for=\"edit-cat-91\" class=\"option\">Affiliated Faculty</label>\\n      </div>\\n\\n                    <div class=\"js-form-item form-item js-form-type-radio form-type-radio js-form-item-cat form-item-cat\">\\n        <input data-drupal-selector=\"edit-cat-94\" type=\"radio\" id=\"edit-cat-94\" name=\"cat\" value=\"94\" class=\"form-radio\" />\\n\\n        <label for=\"edit-cat-94\" class=\"option\">Emeriti</label>\\n      </div>\\n\\n                    <div class=\"js-form-item form-item js-form-type-radio form-type-radio js-form-item-cat form-item-cat\">\\n        <input data-drupal-selector=\"edit-cat-428\" type=\"radio\" id=\"edit-cat-428\" name=\"cat\" value=\"428\" class=\"form-radio\" />\\n\\n        <label for=\"edit-cat-428\" class=\"option\">Postdocs and Visiting Faculty</label>\\n      </div>\\n\\n                    <div class=\"js-form-item form-item js-form-type-radio form-type-radio js-form-item-cat form-item-cat\">\\n        <input data-drupal-selector=\"edit-cat-42\" type=\"radio\" id=\"edit-cat-42\" name=\"cat\" value=\"42\" class=\"form-radio\" />\\n\\n        <label for=\"edit-cat-42\" class=\"option\">Staff</label>\\n      </div>\\n\\n                    <div class=\"js-form-item form-item js-form-type-radio form-type-radio js-form-item-cat form-item-cat\">\\n        <input data-drupal-selector=\"edit-cat-100\" type=\"radio\" id=\"edit-cat-100\" name=\"cat\" value=\"100\" class=\"form-radio\" />\\n\\n        <label for=\"edit-cat-100\" class=\"option\">Graduate Students</label>\\n      </div>\\n\\n                    <div class=\"js-form-item form-item js-form-type-radio form-type-radio js-form-item-cat form-item-cat\">\\n        <input data-drupal-selector=\"edit-cat-435\" type=\"radio\" id=\"edit-cat-435\" name=\"cat\" value=\"435\" class=\"form-radio\" />\\n\\n        <label for=\"edit-cat-435\" class=\"option\">1st Year Grad Students</label>\\n      </div>\\n\\n                    <div class=\"js-form-item form-item js-form-type-radio form-type-radio js-form-item-cat form-item-cat\">\\n        <input data-drupal-selector=\"edit-cat-438\" type=\"radio\" id=\"edit-cat-438\" name=\"cat\" value=\"438\" class=\"form-radio\" />\\n\\n        <label for=\"edit-cat-438\" class=\"option\">2nd Year Grad Students</label>\\n      </div>\\n\\n                    <div class=\"js-form-item form-item js-form-type-radio form-type-radio js-form-item-cat form-item-cat\">\\n        <input data-drupal-selector=\"edit-cat-441\" type=\"radio\" id=\"edit-cat-441\" name=\"cat\" value=\"441\" class=\"form-radio\" />\\n\\n        <label for=\"edit-cat-441\" class=\"option\">3rd Year Grad Students</label>\\n      </div>\\n\\n                    <div class=\"js-form-item form-item js-form-type-radio form-type-radio js-form-item-cat form-item-cat\">\\n        <input data-drupal-selector=\"edit-cat-444\" type=\"radio\" id=\"edit-cat-444\" name=\"cat\" value=\"444\" class=\"form-radio\" />\\n\\n        <label for=\"edit-cat-444\" class=\"option\">4th Year Grad Students</label>\\n      </div>\\n\\n                    <div class=\"js-form-item form-item js-form-type-radio form-type-radio js-form-item-cat form-item-cat\">\\n        <input data-drupal-selector=\"edit-cat-447\" type=\"radio\" id=\"edit-cat-447\" name=\"cat\" value=\"447\" class=\"form-radio\" />\\n\\n        <label for=\"edit-cat-447\" class=\"option\">5th Year Grad Students</label>\\n      </div>\\n\\n                    <div class=\"js-form-item form-item js-form-type-radio form-type-radio js-form-item-cat form-item-cat\">\\n        <input data-drupal-selector=\"edit-cat-450\" type=\"radio\" id=\"edit-cat-450\" name=\"cat\" value=\"450\" class=\"form-radio\" />\\n\\n        <label for=\"edit-cat-450\" class=\"option\">6th Year Grad Students</label>\\n      </div>\\n\\n                    <div class=\"js-form-item form-item js-form-type-radio form-type-radio js-form-item-cat form-item-cat\">\\n        <input data-drupal-selector=\"edit-cat-453\" type=\"radio\" id=\"edit-cat-453\" name=\"cat\" value=\"453\" class=\"form-radio\" />\\n\\n        <label for=\"edit-cat-453\" class=\"option\">ABD Status</label>\\n      </div>\\n\\n                    <div class=\"js-form-item form-item js-form-type-radio form-type-radio js-form-item-cat form-item-cat\">\\n        <input data-drupal-selector=\"edit-cat-430\" type=\"radio\" id=\"edit-cat-430\" name=\"cat\" value=\"430\" class=\"form-radio\" />\\n\\n        <label for=\"edit-cat-430\" class=\"option\">Job Market</label>\\n      </div>\\n\\n      </div>\\n</div>\\n\\n          </div>\\n</fieldset>\\n</ul>\\n            </div>\\n                          <div class=\"filter-list-column\">\\n                <h3>Areas of Interest</h3>\\n                <fieldset data-drupal-selector=\"edit-areas\" id=\"edit-areas--wrapper\" class=\"fieldgroup form-composite js-form-item form-item js-form-wrapper form-wrapper\">\\n      <legend>\\n    <span class=\"fieldset-legend\"></span>\\n  </legend>\\n  <div class=\"fieldset-wrapper\">\\n            <div id=\"edit-areas\" class=\"form-boolean-group form-checkboxes\"><div class=\"form-checkboxes bef-checkboxes\">\\n                  <div class=\"js-form-item form-item js-form-type-checkbox form-type-checkbox js-form-item-areas-455 form-item-areas-455\">\\n        <input data-drupal-selector=\"edit-areas-455\" type=\"checkbox\" id=\"edit-areas-455\" name=\"areas[455]\" value=\"455\" class=\"form-checkbox\" />\\n\\n        <label for=\"edit-areas-455\" class=\"option\">American</label>\\n      </div>\\n\\n                    <div class=\"js-form-item form-item js-form-type-checkbox form-type-checkbox js-form-item-areas-458 form-item-areas-458\">\\n        <input data-drupal-selector=\"edit-areas-458\" type=\"checkbox\" id=\"edit-areas-458\" name=\"areas[458]\" value=\"458\" class=\"form-checkbox\" />\\n\\n        <label for=\"edit-areas-458\" class=\"option\">Comparative</label>\\n      </div>\\n\\n                    <div class=\"js-form-item form-item js-form-type-checkbox form-type-checkbox js-form-item-areas-461 form-item-areas-461\">\\n        <input data-drupal-selector=\"edit-areas-461\" type=\"checkbox\" id=\"edit-areas-461\" name=\"areas[461]\" value=\"461\" class=\"form-checkbox\" />\\n\\n        <label for=\"edit-areas-461\" class=\"option\">Formal Theory</label>\\n      </div>\\n\\n                    <div class=\"js-form-item form-item js-form-type-checkbox form-type-checkbox js-form-item-areas-464 form-item-areas-464\">\\n        <input data-drupal-selector=\"edit-areas-464\" type=\"checkbox\" id=\"edit-areas-464\" name=\"areas[464]\" value=\"464\" class=\"form-checkbox\" />\\n\\n        <label for=\"edit-areas-464\" class=\"option\">International Conflict</label>\\n      </div>\\n\\n                    <div class=\"js-form-item form-item js-form-type-checkbox form-type-checkbox js-form-item-areas-467 form-item-areas-467\">\\n        <input data-drupal-selector=\"edit-areas-467\" type=\"checkbox\" id=\"edit-areas-467\" name=\"areas[467]\" value=\"467\" class=\"form-checkbox\" />\\n\\n        <label for=\"edit-areas-467\" class=\"option\">International Political Economy</label>\\n      </div>\\n\\n                    <div class=\"js-form-item form-item js-form-type-checkbox form-type-checkbox js-form-item-areas-470 form-item-areas-470\">\\n        <input data-drupal-selector=\"edit-areas-470\" type=\"checkbox\" id=\"edit-areas-470\" name=\"areas[470]\" value=\"470\" class=\"form-checkbox\" />\\n\\n        <label for=\"edit-areas-470\" class=\"option\">Methodology</label>\\n      </div>\\n\\n                    <div class=\"js-form-item form-item js-form-type-checkbox form-type-checkbox js-form-item-areas-473 form-item-areas-473\">\\n        <input data-drupal-selector=\"edit-areas-473\" type=\"checkbox\" id=\"edit-areas-473\" name=\"areas[473]\" value=\"473\" class=\"form-checkbox\" />\\n\\n        <label for=\"edit-areas-473\" class=\"option\">Political Theory</label>\\n      </div>\\n\\n                    <div class=\"js-form-item form-item js-form-type-checkbox form-type-checkbox js-form-item-areas-511 form-item-areas-511\">\\n        <input data-drupal-selector=\"edit-areas-511\" type=\"checkbox\" id=\"edit-areas-511\" name=\"areas[511]\" value=\"511\" class=\"form-checkbox\" />\\n\\n        <label for=\"edit-areas-511\" class=\"option\">Environmental Policy</label>\\n      </div>\\n\\n      </div>\\n</div>\\n\\n          </div>\\n</fieldset>\\n\\n\\n              </div>\\n                      </form>\\n        </div>\\n      </div>\\n  </section>\\n\\n  <div class=\"bottom-filter\">\\n    <div class=\"pre-filter\">\\n      <div class=\"view-alpha-block\">\\n        <div class=\"view-alpha\" id=\"view-alpha\"><fieldset data-drupal-selector=\"edit-letter\" id=\"edit-letter--wrapper\" class=\"fieldgroup form-composite js-form-item form-item js-form-wrapper form-wrapper\">\\n      <legend>\\n    <span class=\"fieldset-legend\"></span>\\n  </legend>\\n  <div class=\"fieldset-wrapper\">\\n            <div id=\"edit-letter\" class=\"form-boolean-group form-radios\"><div class=\"form-radios\">\\n                  <div class=\"js-form-item form-item js-form-type-radio form-type-radio js-form-item-letter form-item-letter form-no-label\">\\n        \\n<div class=\"pretty-element\">\\n  <input data-drupal-selector=\"edit-letter-all\" type=\"radio\" id=\"edit-letter-all\" name=\"letter\" value=\"All\" checked=\"checked\" class=\"form-radio\" />\\n  <label for=edit-letter-all>ALL</label>\\n</div>\\n\\n        </div>\\n\\n                    <div class=\"js-form-item form-item js-form-type-radio form-type-radio js-form-item-letter form-item-letter form-no-label\">\\n        \\n<div class=\"pretty-element\">\\n  <input data-drupal-selector=\"edit-letter-a\" type=\"radio\" id=\"edit-letter-a\" name=\"letter\" value=\"A\" class=\"form-radio\" />\\n  <label for=edit-letter-a>A</label>\\n</div>\\n\\n        </div>\\n\\n                    <div class=\"js-form-item form-item js-form-type-radio form-type-radio js-form-item-letter form-item-letter form-no-label\">\\n        \\n<div class=\"pretty-element\">\\n  <input data-drupal-selector=\"edit-letter-b\" type=\"radio\" id=\"edit-letter-b\" name=\"letter\" value=\"B\" class=\"form-radio\" />\\n  <label for=edit-letter-b>B</label>\\n</div>\\n\\n        </div>\\n\\n                    <div class=\"js-form-item form-item js-form-type-radio form-type-radio js-form-item-letter form-item-letter form-no-label\">\\n        \\n<div class=\"pretty-element\">\\n  <input data-drupal-selector=\"edit-letter-c\" type=\"radio\" id=\"edit-letter-c\" name=\"letter\" value=\"C\" class=\"form-radio\" />\\n  <label for=edit-letter-c>C</label>\\n</div>\\n\\n        </div>\\n\\n                    <div class=\"js-form-item form-item js-form-type-radio form-type-radio js-form-item-letter form-item-letter form-no-label\">\\n        \\n<div class=\"pretty-element\">\\n  <input data-drupal-selector=\"edit-letter-d\" type=\"radio\" id=\"edit-letter-d\" name=\"letter\" value=\"D\" class=\"form-radio\" />\\n  <label for=edit-letter-d>D</label>\\n</div>\\n\\n        </div>\\n\\n                    <div class=\"js-form-item form-item js-form-type-radio form-type-radio js-form-item-letter form-item-letter form-no-label\">\\n        \\n<div class=\"pretty-element\">\\n  <input data-drupal-selector=\"edit-letter-e\" type=\"radio\" id=\"edit-letter-e\" name=\"letter\" value=\"E\" class=\"form-radio\" />\\n  <label for=edit-letter-e>E</label>\\n</div>\\n\\n        </div>\\n\\n                    <div class=\"js-form-item form-item js-form-type-radio form-type-radio js-form-item-letter form-item-letter form-no-label\">\\n        \\n<div class=\"pretty-element\">\\n  <input data-drupal-selector=\"edit-letter-f\" type=\"radio\" id=\"edit-letter-f\" name=\"letter\" value=\"F\" class=\"form-radio\" />\\n  <label for=edit-letter-f>F</label>\\n</div>\\n\\n        </div>\\n\\n                    <div class=\"js-form-item form-item js-form-type-radio form-type-radio js-form-item-letter form-item-letter form-no-label\">\\n        \\n<div class=\"pretty-element\">\\n  <input data-drupal-selector=\"edit-letter-g\" type=\"radio\" id=\"edit-letter-g\" name=\"letter\" value=\"G\" class=\"form-radio\" />\\n  <label for=edit-letter-g>G</label>\\n</div>\\n\\n        </div>\\n\\n                    <div class=\"js-form-item form-item js-form-type-radio form-type-radio js-form-item-letter form-item-letter form-no-label\">\\n        \\n<div class=\"pretty-element\">\\n  <input data-drupal-selector=\"edit-letter-h\" type=\"radio\" id=\"edit-letter-h\" name=\"letter\" value=\"H\" class=\"form-radio\" />\\n  <label for=edit-letter-h>H</label>\\n</div>\\n\\n        </div>\\n\\n                    <div class=\"js-form-item form-item js-form-type-radio form-type-radio js-form-item-letter form-item-letter form-no-label\">\\n        \\n<div class=\"pretty-element\">\\n  <input data-drupal-selector=\"edit-letter-i\" type=\"radio\" id=\"edit-letter-i\" name=\"letter\" value=\"I\" class=\"form-radio\" />\\n  <label for=edit-letter-i>I</label>\\n</div>\\n\\n        </div>\\n\\n                    <div class=\"js-form-item form-item js-form-type-radio form-type-radio js-form-item-letter form-item-letter form-no-label\">\\n        \\n<div class=\"pretty-element\">\\n  <input data-drupal-selector=\"edit-letter-j\" type=\"radio\" id=\"edit-letter-j\" name=\"letter\" value=\"J\" class=\"form-radio\" />\\n  <label for=edit-letter-j>J</label>\\n</div>\\n\\n        </div>\\n\\n                    <div class=\"js-form-item form-item js-form-type-radio form-type-radio js-form-item-letter form-item-letter form-no-label\">\\n        \\n<div class=\"pretty-element\">\\n  <input data-drupal-selector=\"edit-letter-k\" type=\"radio\" id=\"edit-letter-k\" name=\"letter\" value=\"K\" class=\"form-radio\" />\\n  <label for=edit-letter-k>K</label>\\n</div>\\n\\n        </div>\\n\\n                    <div class=\"js-form-item form-item js-form-type-radio form-type-radio js-form-item-letter form-item-letter form-no-label\">\\n        \\n<div class=\"pretty-element\">\\n  <input data-drupal-selector=\"edit-letter-l\" type=\"radio\" id=\"edit-letter-l\" name=\"letter\" value=\"L\" class=\"form-radio\" />\\n  <label for=edit-letter-l>L</label>\\n</div>\\n\\n        </div>\\n\\n                    <div class=\"js-form-item form-item js-form-type-radio form-type-radio js-form-item-letter form-item-letter form-no-label\">\\n        \\n<div class=\"pretty-element\">\\n  <input data-drupal-selector=\"edit-letter-m\" type=\"radio\" id=\"edit-letter-m\" name=\"letter\" value=\"M\" class=\"form-radio\" />\\n  <label for=edit-letter-m>M</label>\\n</div>\\n\\n        </div>\\n\\n                    <div class=\"js-form-item form-item js-form-type-radio form-type-radio js-form-item-letter form-item-letter form-no-label\">\\n        \\n<div class=\"pretty-element\">\\n  <input data-drupal-selector=\"edit-letter-n\" type=\"radio\" id=\"edit-letter-n\" name=\"letter\" value=\"N\" class=\"form-radio\" />\\n  <label for=edit-letter-n>N</label>\\n</div>\\n\\n        </div>\\n\\n                    <div class=\"js-form-item form-item js-form-type-radio form-type-radio js-form-item-letter form-item-letter form-no-label\">\\n        \\n<div class=\"pretty-element\">\\n  <input data-drupal-selector=\"edit-letter-o\" type=\"radio\" id=\"edit-letter-o\" name=\"letter\" value=\"O\" class=\"form-radio\" />\\n  <label for=edit-letter-o>O</label>\\n</div>\\n\\n        </div>\\n\\n                    <div class=\"js-form-item form-item js-form-type-radio form-type-radio js-form-item-letter form-item-letter form-no-label\">\\n        \\n<div class=\"pretty-element\">\\n  <input data-drupal-selector=\"edit-letter-p\" type=\"radio\" id=\"edit-letter-p\" name=\"letter\" value=\"P\" class=\"form-radio\" />\\n  <label for=edit-letter-p>P</label>\\n</div>\\n\\n        </div>\\n\\n                    <div class=\"js-form-item form-item js-form-type-radio form-type-radio js-form-item-letter form-item-letter form-no-label\">\\n        \\n<div class=\"pretty-element\">\\n  <input data-drupal-selector=\"edit-letter-q\" type=\"radio\" id=\"edit-letter-q\" name=\"letter\" value=\"Q\" class=\"form-radio\" />\\n  <label for=edit-letter-q>Q</label>\\n</div>\\n\\n        </div>\\n\\n                    <div class=\"js-form-item form-item js-form-type-radio form-type-radio js-form-item-letter form-item-letter form-no-label\">\\n        \\n<div class=\"pretty-element\">\\n  <input data-drupal-selector=\"edit-letter-r\" type=\"radio\" id=\"edit-letter-r\" name=\"letter\" value=\"R\" class=\"form-radio\" />\\n  <label for=edit-letter-r>R</label>\\n</div>\\n\\n        </div>\\n\\n                    <div class=\"js-form-item form-item js-form-type-radio form-type-radio js-form-item-letter form-item-letter form-no-label\">\\n        \\n<div class=\"pretty-element\">\\n  <input data-drupal-selector=\"edit-letter-s\" type=\"radio\" id=\"edit-letter-s\" name=\"letter\" value=\"S\" class=\"form-radio\" />\\n  <label for=edit-letter-s>S</label>\\n</div>\\n\\n        </div>\\n\\n                    <div class=\"js-form-item form-item js-form-type-radio form-type-radio js-form-item-letter form-item-letter form-no-label\">\\n        \\n<div class=\"pretty-element\">\\n  <input data-drupal-selector=\"edit-letter-t\" type=\"radio\" id=\"edit-letter-t\" name=\"letter\" value=\"T\" class=\"form-radio\" />\\n  <label for=edit-letter-t>T</label>\\n</div>\\n\\n        </div>\\n\\n                    <div class=\"js-form-item form-item js-form-type-radio form-type-radio js-form-item-letter form-item-letter form-no-label\">\\n        \\n<div class=\"pretty-element\">\\n  <input data-drupal-selector=\"edit-letter-u\" type=\"radio\" id=\"edit-letter-u\" name=\"letter\" value=\"U\" class=\"form-radio\" />\\n  <label for=edit-letter-u>U</label>\\n</div>\\n\\n        </div>\\n\\n                    <div class=\"js-form-item form-item js-form-type-radio form-type-radio js-form-item-letter form-item-letter form-no-label\">\\n        \\n<div class=\"pretty-element\">\\n  <input data-drupal-selector=\"edit-letter-v\" type=\"radio\" id=\"edit-letter-v\" name=\"letter\" value=\"V\" class=\"form-radio\" />\\n  <label for=edit-letter-v>V</label>\\n</div>\\n\\n        </div>\\n\\n                    <div class=\"js-form-item form-item js-form-type-radio form-type-radio js-form-item-letter form-item-letter form-no-label\">\\n        \\n<div class=\"pretty-element\">\\n  <input data-drupal-selector=\"edit-letter-w\" type=\"radio\" id=\"edit-letter-w\" name=\"letter\" value=\"W\" class=\"form-radio\" />\\n  <label for=edit-letter-w>W</label>\\n</div>\\n\\n        </div>\\n\\n                    <div class=\"js-form-item form-item js-form-type-radio form-type-radio js-form-item-letter form-item-letter form-no-label\">\\n        \\n<div class=\"pretty-element\">\\n  <input data-drupal-selector=\"edit-letter-x\" type=\"radio\" id=\"edit-letter-x\" name=\"letter\" value=\"X\" class=\"form-radio\" />\\n  <label for=edit-letter-x>X</label>\\n</div>\\n\\n        </div>\\n\\n                    <div class=\"js-form-item form-item js-form-type-radio form-type-radio js-form-item-letter form-item-letter form-no-label\">\\n        \\n<div class=\"pretty-element\">\\n  <input data-drupal-selector=\"edit-letter-y\" type=\"radio\" id=\"edit-letter-y\" name=\"letter\" value=\"Y\" class=\"form-radio\" />\\n  <label for=edit-letter-y>Y</label>\\n</div>\\n\\n        </div>\\n\\n                    <div class=\"js-form-item form-item js-form-type-radio form-type-radio js-form-item-letter form-item-letter form-no-label\">\\n        \\n<div class=\"pretty-element\">\\n  <input data-drupal-selector=\"edit-letter-z\" type=\"radio\" id=\"edit-letter-z\" name=\"letter\" value=\"Z\" class=\"form-radio\" />\\n  <label for=edit-letter-z>Z</label>\\n</div>\\n\\n        </div>\\n\\n      </div>\\n</div>\\n\\n          </div>\\n</fieldset>\\n</div>\\n      </div>\\n      <div class=\"category-term-clear\">\\n<input data-bef-auto-submit-click=\"\" class=\"js-hide button js-form-submit form-submit\" data-drupal-selector=\"edit-submit-faculty\" type=\"submit\" id=\"edit-submit-faculty\" value=\"Apply\" />\\n<input data-drupal-selector=\"edit-reset-faculty\" type=\"submit\" id=\"edit-reset-faculty\" name=\"reset\" value=\"CLEAR FILTER\" class=\"button js-form-submit form-submit\" />\\n\\n</div>\\n    </div>\\n  </div>\\n</div>\\n\\n</form>\\n\\n      </div>\\n\\n  \\n\\n\\n\\n\\n<div class=\"view view-faculty view-id-faculty view-display-id-block_grid2 js-view-dom-id-b2e4e1a13b9aa40a9abdb9c3a042f488db7ac276a1e73c81d7fa7a063c3e000f\">\\n  <div class=\"container\">\\n    <ul class=\"filtered-view\" id=\"filtered-toggle-icons\">\\n      <li>\\n        <button onclick=\"azFunction()\" class=\"view-alpha-text\">Filter\\n          Alphabetically\\n        </button>\\n      </li>\\n      <li>\\n        <button onclick=\"gridFunction()\" id=\"active-grid-icon-tab\">\\n          <svg class=\"icon\" aria-label=\"grid layout\">\\n            <use xlink:href=\"#icon-grid\"></use>\\n          </svg>\\n        </button>\\n      </li>\\n      <li>\\n        <button onclick=\"listFunction()\" id=\"active-list-icon-tab\">\\n          <svg class=\"icon\" aria-label=\"list layout\">\\n            <use xlink:href=\"#icon-list\"></use>\\n          </svg>\\n        </button>\\n      </li>\\n    </ul>\\n    \\n        \\n              \\n              <div id=\"Grid\" class=\"tabcontent\">\\n          <div\\n            class=\"container filtered-cards faculty-cards flex js-load-container\">\\n            \\n\\n    \\n        <a href=\"/people/federico-acosta-y-lara\" id=\"faculty-card-container\" class=\"card\" aria-label=\"View Federico Acosta y Lara\">\\n      <article class=\"faculty-post\">\\n        <div class=\"image\">\\n                        <img srcset=\"https://polisci.wustl.edu/sites/polisci.wustl.edu/files/styles/square_1_1_190w/public/People/Polisci_Acosta%20Y%20Lara_F-1010531_0.jpg.webp 190w, https://polisci.wustl.edu/sites/polisci.wustl.edu/files/styles/square_1_1_320w/public/People/Polisci_Acosta%20Y%20Lara_F-1010531_0.jpg.webp 320w, https://polisci.wustl.edu/sites/polisci.wustl.edu/files/styles/square_1_1_480w/public/People/Polisci_Acosta%20Y%20Lara_F-1010531_0.jpg.webp 480w\" sizes=\"(max-width:480px) 85vw, 290px\" width=\"320\" height=\"320\" src=\"/sites/polisci.wustl.edu/files/styles/square_1_1_320w/public/People/Polisci_Acosta%20Y%20Lara_F-1010531_0.jpg.webp\" alt=\"Federico Acosta y Lara\" loading=\"lazy\" />\\n\\n\\n                                <h3>\\n            <div><span>Federico</span></div>\\n            <div><span>Acosta y Lara</span></div>\\n          </h3>\\n        </div>\\n        <div class=\"dept\">\\n                                Third Year Graduate Student\\n                            </div>\\n      </article>\\n    </a>\\n\\n\\n\\n        <a href=\"/people/deniz-aksoy\" id=\"faculty-card-container\" class=\"card\" aria-label=\"View Deniz Aksoy\">\\n      <article class=\"faculty-post\">\\n        <div class=\"image\">\\n                        <img srcset=\"https://polisci.wustl.edu/sites/polisci.wustl.edu/files/styles/square_1_1_190w/public/People/Polisci_Aksoy_D_P1013892_0.jpg.webp 190w, https://polisci.wustl.edu/sites/polisci.wustl.edu/files/styles/square_1_1_320w/public/People/Polisci_Aksoy_D_P1013892_0.jpg.webp 320w, https://polisci.wustl.edu/sites/polisci.wustl.edu/files/styles/square_1_1_480w/public/People/Polisci_Aksoy_D_P1013892_0.jpg.webp 480w\" sizes=\"(max-width:480px) 85vw, 290px\" width=\"320\" height=\"320\" src=\"/sites/polisci.wustl.edu/files/styles/square_1_1_320w/public/People/Polisci_Aksoy_D_P1013892_0.jpg.webp\" alt=\"Deniz Aksoy\" loading=\"lazy\" />\\n\\n\\n                                <h3>\\n            <div><span>Deniz</span></div>\\n            <div><span>Aksoy</span></div>\\n          </h3>\\n        </div>\\n        <div class=\"dept\">\\n                                Associate Professor of Political Science\\n                            </div>\\n      </article>\\n    </a>\\n\\n\\n\\n        <a href=\"/people/lukas-alexander\" id=\"faculty-card-container\" class=\"card\" aria-label=\"View Lukas Alexander\">\\n      <article class=\"faculty-post\">\\n        <div class=\"image\">\\n                        <img srcset=\"https://polisci.wustl.edu/sites/polisci.wustl.edu/files/styles/square_1_1_190w/public/2025-04/weidenbaum-alexander_l-1090702.jpg.webp 190w, https://polisci.wustl.edu/sites/polisci.wustl.edu/files/styles/square_1_1_320w/public/2025-04/weidenbaum-alexander_l-1090702.jpg.webp 320w, https://polisci.wustl.edu/sites/polisci.wustl.edu/files/styles/square_1_1_480w/public/2025-04/weidenbaum-alexander_l-1090702.jpg.webp 480w\" sizes=\"(max-width:480px) 85vw, 290px\" width=\"320\" height=\"320\" src=\"/sites/polisci.wustl.edu/files/styles/square_1_1_320w/public/2025-04/weidenbaum-alexander_l-1090702.jpg.webp\" alt=\"Photo of Lukas Alexander smiling to camera in a tan blazer and white button up shirt\" loading=\"lazy\" />\\n\\n\\n                                <h3>\\n            <div><span>Lukas</span></div>\\n            <div><span>Alexander</span></div>\\n          </h3>\\n        </div>\\n        <div class=\"dept\">\\n                                Third Year Graduate Student\\n                                  Weidenbaum Center Graduate Research Affiliate\\n                  </div>\\n      </article>\\n    </a>\\n\\n\\n\\n        <a href=\"/people/alex-avery\" id=\"faculty-card-container\" class=\"card\" aria-label=\"View Alex Avery\">\\n      <article class=\"faculty-post\">\\n        <div class=\"image\">\\n                        <img srcset=\"https://polisci.wustl.edu/sites/polisci.wustl.edu/files/styles/square_1_1_190w/public/Polisci_Avery_A_P1014185_0.jpg.webp 190w, https://polisci.wustl.edu/sites/polisci.wustl.edu/files/styles/square_1_1_320w/public/Polisci_Avery_A_P1014185_0.jpg.webp 320w, https://polisci.wustl.edu/sites/polisci.wustl.edu/files/styles/square_1_1_480w/public/Polisci_Avery_A_P1014185_0.jpg.webp 480w\" sizes=\"(max-width:480px) 85vw, 290px\" width=\"320\" height=\"320\" src=\"/sites/polisci.wustl.edu/files/styles/square_1_1_320w/public/Polisci_Avery_A_P1014185_0.jpg.webp\" alt=\"Alex Avery\" loading=\"lazy\" />\\n\\n\\n                                <h3>\\n            <div><span>Alex</span></div>\\n            <div><span>Avery</span></div>\\n          </h3>\\n        </div>\\n        <div class=\"dept\">\\n                                Fifth Year Graduate Student\\n                                  Weidenbaum Center Graduate Fellow\\n                  </div>\\n      </article>\\n    </a>\\n\\n\\n\\n        <a href=\"/people/timm-betz\" id=\"faculty-card-container\" class=\"card\" aria-label=\"View Timm Betz\">\\n      <article class=\"faculty-post\">\\n        <div class=\"image\">\\n                        <img srcset=\"https://polisci.wustl.edu/sites/polisci.wustl.edu/files/styles/square_1_1_190w/public/People/Timm%20Betz_0.jpg.webp 190w, https://polisci.wustl.edu/sites/polisci.wustl.edu/files/styles/square_1_1_320w/public/People/Timm%20Betz_0.jpg.webp 320w, https://polisci.wustl.edu/sites/polisci.wustl.edu/files/styles/square_1_1_480w/public/People/Timm%20Betz_0.jpg.webp 480w\" sizes=\"(max-width:480px) 85vw, 290px\" width=\"320\" height=\"320\" src=\"/sites/polisci.wustl.edu/files/styles/square_1_1_320w/public/People/Timm%20Betz_0.jpg.webp\" alt=\"Timm Betz\" loading=\"lazy\" />\\n\\n\\n                                <h3>\\n            <div><span>Timm</span></div>\\n            <div><span>Betz</span></div>\\n          </h3>\\n        </div>\\n        <div class=\"dept\">\\n                                Associate Professor of Political Science\\n                            </div>\\n      </article>\\n    </a>\\n\\n\\n\\n        <a href=\"/people/zachary-bowersox\" id=\"faculty-card-container\" class=\"card\" aria-label=\"View Zachary Bowersox\">\\n      <article class=\"faculty-post\">\\n        <div class=\"image\">\\n                        <img srcset=\"https://polisci.wustl.edu/sites/polisci.wustl.edu/files/styles/square_1_1_190w/public/Polisci_Bowersox_Z_P1002669_0.jpg.webp 190w, https://polisci.wustl.edu/sites/polisci.wustl.edu/files/styles/square_1_1_320w/public/Polisci_Bowersox_Z_P1002669_0.jpg.webp 320w, https://polisci.wustl.edu/sites/polisci.wustl.edu/files/styles/square_1_1_480w/public/Polisci_Bowersox_Z_P1002669_0.jpg.webp 480w\" sizes=\"(max-width:480px) 85vw, 290px\" width=\"320\" height=\"320\" src=\"/sites/polisci.wustl.edu/files/styles/square_1_1_320w/public/Polisci_Bowersox_Z_P1002669_0.jpg.webp\" alt=\"Zachary Bowersox\" loading=\"lazy\" />\\n\\n\\n                                <h3>\\n            <div><span>Zachary</span></div>\\n            <div><span>Bowersox</span></div>\\n          </h3>\\n        </div>\\n        <div class=\"dept\">\\n                                Lecturer in Political Science\\n                            </div>\\n      </article>\\n    </a>\\n\\n\\n\\n        <a href=\"/people/christina-l-boyd\" id=\"faculty-card-container\" class=\"card\" aria-label=\"View Christina L. Boyd\">\\n      <article class=\"faculty-post\">\\n        <div class=\"image\">\\n                        <img srcset=\"https://polisci.wustl.edu/sites/polisci.wustl.edu/files/styles/square_1_1_190w/public/People/boyd%20headshot_0.png.webp 190w, https://polisci.wustl.edu/sites/polisci.wustl.edu/files/styles/square_1_1_320w/public/People/boyd%20headshot_0.png.webp 320w, https://polisci.wustl.edu/sites/polisci.wustl.edu/files/styles/square_1_1_480w/public/People/boyd%20headshot_0.png.webp 480w\" sizes=\"(max-width:480px) 85vw, 290px\" width=\"320\" height=\"320\" src=\"/sites/polisci.wustl.edu/files/styles/square_1_1_320w/public/People/boyd%20headshot_0.png.webp\" alt=\"Christy Boyd decorative image\" loading=\"lazy\" />\\n\\n\\n                                <h3>\\n            <div><span>Christina L.</span></div>\\n            <div><span>Boyd</span></div>\\n          </h3>\\n        </div>\\n        <div class=\"dept\">\\n                                Professor of Law and Political Science\\n                            </div>\\n      </article>\\n    </a>\\n\\n\\n\\n      <a href=\"https://rap.wustl.edu/people/ryan-burge/\" class=\"card\" id=\"faculty-card\"\\n        aria-label=\"View Ryan Burge\">\\n      <article class=\"faculty-post\">\\n        <div class=\"image\">\\n                        <img srcset=\"https://polisci.wustl.edu/sites/polisci.wustl.edu/files/styles/square_1_1_190w/public/2025-07/burge12.jpg.webp 190w, https://polisci.wustl.edu/sites/polisci.wustl.edu/files/styles/square_1_1_320w/public/2025-07/burge12.jpg.webp 320w, https://polisci.wustl.edu/sites/polisci.wustl.edu/files/styles/square_1_1_480w/public/2025-07/burge12.jpg.webp 480w\" sizes=\"(max-width:480px) 85vw, 290px\" width=\"320\" height=\"320\" src=\"/sites/polisci.wustl.edu/files/styles/square_1_1_320w/public/2025-07/burge12.jpg.webp\" alt=\"Ryan Burge\" loading=\"lazy\" />\\n\\n\\n                                <h3>\\n            <div><span>Ryan</span></div>\\n            <div><span>Burge</span></div>\\n          </h3>\\n        </div>\\n        <div class=\"dept\">\\n                                Professor of Practice\\n                            </div>\\n      </article>\\n    </a>\\n\\n\\n\\n        <a href=\"/people/daniel-butler\" id=\"faculty-card-container\" class=\"card\" aria-label=\"View Daniel  Butler\">\\n      <article class=\"faculty-post\">\\n        <div class=\"image\">\\n                        <img srcset=\"https://polisci.wustl.edu/sites/polisci.wustl.edu/files/styles/square_1_1_190w/public/dmbutler19_0.jpg.webp 190w, https://polisci.wustl.edu/sites/polisci.wustl.edu/files/styles/square_1_1_320w/public/dmbutler19_0.jpg.webp 320w, https://polisci.wustl.edu/sites/polisci.wustl.edu/files/styles/square_1_1_480w/public/dmbutler19_0.jpg.webp 480w\" sizes=\"(max-width:480px) 85vw, 290px\" width=\"320\" height=\"320\" src=\"/sites/polisci.wustl.edu/files/styles/square_1_1_320w/public/dmbutler19_0.jpg.webp\" alt=\"Daniel  Butler\" loading=\"lazy\" />\\n\\n\\n                                <h3>\\n            <div><span>Daniel </span></div>\\n            <div><span>Butler</span></div>\\n          </h3>\\n        </div>\\n        <div class=\"dept\">\\n                                Professor of Political Science\\n                                  Director of Undergraduate Studies in Political Science\\n                  </div>\\n      </article>\\n    </a>\\n\\n\\n\\n              <a href=\"/people/anthony-buzzacco\" id=\"faculty-card-container\" class=\"card\" aria-label=\"View Anthony Buzzacco\">\\n          <article class=\"faculty-post\">\\n        <div class=\"image\">\\n                      <img loading=\"lazy\" src=\"https://insideartsci.wustl.edu/sites/insideartsci.wustl.edu/files/styles/square_1_1_680w/public/People/Anthony_0.jpg.webp\" alt=\"Anthony Buzzacco\" width=\"320\" height=\"320\">\\n                    <h3>\\n            <div><span>Anthony</span></div>\\n            <div><span>Buzzacco</span></div>\\n          </h3>\\n        </div>\\n        <div class=\"dept\">\\n                                Academic & Administrative Cluster Supervisor\\n                            </div>\\n      </article>\\n    </a>\\n  \\n\\n        <a href=\"/people/randall-calvert\" id=\"faculty-card-container\" class=\"card\" aria-label=\"View Randall Calvert\">\\n      <article class=\"faculty-post\">\\n        <div class=\"image\">\\n                        <img srcset=\"https://polisci.wustl.edu/sites/polisci.wustl.edu/files/styles/square_1_1_190w/public/People/Polisci_Calvert_R_P1013968_0.jpg.webp 190w, https://polisci.wustl.edu/sites/polisci.wustl.edu/files/styles/square_1_1_320w/public/People/Polisci_Calvert_R_P1013968_0.jpg.webp 320w, https://polisci.wustl.edu/sites/polisci.wustl.edu/files/styles/square_1_1_480w/public/People/Polisci_Calvert_R_P1013968_0.jpg.webp 480w\" sizes=\"(max-width:480px) 85vw, 290px\" width=\"320\" height=\"320\" src=\"/sites/polisci.wustl.edu/files/styles/square_1_1_320w/public/People/Polisci_Calvert_R_P1013968_0.jpg.webp\" alt=\"Randall Calvert\" loading=\"lazy\" />\\n\\n\\n                                <h3>\\n            <div><span>Randall</span></div>\\n            <div><span>Calvert</span></div>\\n          </h3>\\n        </div>\\n        <div class=\"dept\">\\n                                Thomas F. Eagleton University Professor of Public Affairs and Political Science , Professor Emeritus of Political Science\\n                            </div>\\n      </article>\\n    </a>\\n\\n\\n\\n        <a href=\"/people/michael-cannon\" id=\"faculty-card-container\" class=\"card\" aria-label=\"View Michael Cannon\">\\n      <article class=\"faculty-post\">\\n        <div class=\"image\">\\n                        <img srcset=\"https://polisci.wustl.edu/sites/polisci.wustl.edu/files/styles/square_1_1_190w/public/thumbnail_image001_0_0.jpg.webp 190w, https://polisci.wustl.edu/sites/polisci.wustl.edu/files/styles/square_1_1_320w/public/thumbnail_image001_0_0.jpg.webp 320w, https://polisci.wustl.edu/sites/polisci.wustl.edu/files/styles/square_1_1_480w/public/thumbnail_image001_0_0.jpg.webp 480w\" sizes=\"(max-width:480px) 85vw, 290px\" width=\"320\" height=\"320\" src=\"/sites/polisci.wustl.edu/files/styles/square_1_1_320w/public/thumbnail_image001_0_0.jpg.webp\" alt=\"Michael Cannon\" loading=\"lazy\" />\\n\\n\\n                                <h3>\\n            <div><span>Michael</span></div>\\n            <div><span>Cannon</span></div>\\n          </h3>\\n        </div>\\n        <div class=\"dept\">\\n                                Professor of the Practice\\n                            </div>\\n      </article>\\n    </a>\\n\\n\\n\\n        <a href=\"/people/taylor-carlson\" id=\"faculty-card-container\" class=\"card\" aria-label=\"View Taylor Carlson\">\\n      <article class=\"faculty-post\">\\n        <div class=\"image\">\\n                        <img srcset=\"https://polisci.wustl.edu/sites/polisci.wustl.edu/files/styles/square_1_1_190w/public/PoliSci_Carlson_T_P1322772_0.jpg.webp 190w, https://polisci.wustl.edu/sites/polisci.wustl.edu/files/styles/square_1_1_320w/public/PoliSci_Carlson_T_P1322772_0.jpg.webp 320w, https://polisci.wustl.edu/sites/polisci.wustl.edu/files/styles/square_1_1_480w/public/PoliSci_Carlson_T_P1322772_0.jpg.webp 480w\" sizes=\"(max-width:480px) 85vw, 290px\" width=\"320\" height=\"320\" src=\"/sites/polisci.wustl.edu/files/styles/square_1_1_320w/public/PoliSci_Carlson_T_P1322772_0.jpg.webp\" alt=\"Taylor Carlson\" loading=\"lazy\" />\\n\\n\\n                                <h3>\\n            <div><span>Taylor</span></div>\\n            <div><span>Carlson</span></div>\\n          </h3>\\n        </div>\\n        <div class=\"dept\">\\n                                Director of Graduate Studies Political Science\\n                                  Associate Professor of Political Science<br />\\r\\nWeidenbaum Center Director of Survey Research\\n                  </div>\\n      </article>\\n    </a>\\n\\n\\n\\n        <a href=\"/people/david-carter\" id=\"faculty-card-container\" class=\"card\" aria-label=\"View David Carter\">\\n      <article class=\"faculty-post\">\\n        <div class=\"image\">\\n                        <img srcset=\"https://polisci.wustl.edu/sites/polisci.wustl.edu/files/styles/square_1_1_190w/public/People/Polisci_Carter_D_P1044474_0.jpg.webp 190w, https://polisci.wustl.edu/sites/polisci.wustl.edu/files/styles/square_1_1_320w/public/People/Polisci_Carter_D_P1044474_0.jpg.webp 320w, https://polisci.wustl.edu/sites/polisci.wustl.edu/files/styles/square_1_1_480w/public/People/Polisci_Carter_D_P1044474_0.jpg.webp 480w\" sizes=\"(max-width:480px) 85vw, 290px\" width=\"320\" height=\"320\" src=\"/sites/polisci.wustl.edu/files/styles/square_1_1_320w/public/People/Polisci_Carter_D_P1044474_0.jpg.webp\" alt=\"David Carter\" loading=\"lazy\" />\\n\\n\\n                                <h3>\\n            <div><span>David</span></div>\\n            <div><span>Carter</span></div>\\n          </h3>\\n        </div>\\n        <div class=\"dept\">\\n                                Professor of Political Science\\n                            </div>\\n      </article>\\n    </a>\\n\\n\\n\\n        <a href=\"/people/zeynep-ceren-topac\" id=\"faculty-card-container\" class=\"card\" aria-label=\"View Zeynep Ceren Topac\">\\n      <article class=\"faculty-post\">\\n        <div class=\"image\">\\n                        <img srcset=\"https://polisci.wustl.edu/sites/polisci.wustl.edu/files/styles/square_1_1_190w/public/Polisci_Pyo_S-1058751_0.jpg.webp 190w, https://polisci.wustl.edu/sites/polisci.wustl.edu/files/styles/square_1_1_320w/public/Polisci_Pyo_S-1058751_0.jpg.webp 320w, https://polisci.wustl.edu/sites/polisci.wustl.edu/files/styles/square_1_1_480w/public/Polisci_Pyo_S-1058751_0.jpg.webp 480w\" sizes=\"(max-width:480px) 85vw, 290px\" width=\"320\" height=\"320\" src=\"/sites/polisci.wustl.edu/files/styles/square_1_1_320w/public/Polisci_Pyo_S-1058751_0.jpg.webp\" alt=\"Photo of Zeynep Ceren smiling in a black jacket and black top\" loading=\"lazy\" />\\n\\n\\n                                <h3>\\n            <div><span>Zeynep</span></div>\\n            <div><span>Ceren Topac</span></div>\\n          </h3>\\n        </div>\\n        <div class=\"dept\">\\n                                Second Year Graduate Student\\n                            </div>\\n      </article>\\n    </a>\\n\\n\\n\\n        <a href=\"/people/amaan-charaniya\" id=\"faculty-card-container\" class=\"card\" aria-label=\"View Amaan Charaniya\">\\n      <article class=\"faculty-post\">\\n        <div class=\"image\">\\n                        <img srcset=\"https://polisci.wustl.edu/sites/polisci.wustl.edu/files/styles/square_1_1_190w/public/2025-04/amaancharaniya.png.webp 190w, https://polisci.wustl.edu/sites/polisci.wustl.edu/files/styles/square_1_1_320w/public/2025-04/amaancharaniya.png.webp 320w, https://polisci.wustl.edu/sites/polisci.wustl.edu/files/styles/square_1_1_480w/public/2025-04/amaancharaniya.png.webp 480w\" sizes=\"(max-width:480px) 85vw, 290px\" width=\"320\" height=\"320\" src=\"/sites/polisci.wustl.edu/files/styles/square_1_1_320w/public/2025-04/amaancharaniya.png.webp\" alt=\"Amaan Charaniya\" loading=\"lazy\" />\\n\\n\\n                                <h3>\\n            <div><span>Amaan</span></div>\\n            <div><span>Charaniya</span></div>\\n          </h3>\\n        </div>\\n        <div class=\"dept\">\\n                                Sixth Year Graduate Student\\n                            </div>\\n      </article>\\n    </a>\\n\\n\\n\\n        <a href=\"/people/tian-chen\" id=\"faculty-card-container\" class=\"card\" aria-label=\"View Tian Chen\">\\n      <article class=\"faculty-post\">\\n        <div class=\"image\">\\n                        <img srcset=\"https://polisci.wustl.edu/sites/polisci.wustl.edu/files/styles/square_1_1_190w/public/People/Tian%20Chen_0.jpg.webp 190w, https://polisci.wustl.edu/sites/polisci.wustl.edu/files/styles/square_1_1_320w/public/People/Tian%20Chen_0.jpg.webp 320w, https://polisci.wustl.edu/sites/polisci.wustl.edu/files/styles/square_1_1_480w/public/People/Tian%20Chen_0.jpg.webp 480w\" sizes=\"(max-width:480px) 85vw, 290px\" width=\"320\" height=\"320\" src=\"/sites/polisci.wustl.edu/files/styles/square_1_1_320w/public/People/Tian%20Chen_0.jpg.webp\" alt=\"Tian Chen\" loading=\"lazy\" />\\n\\n\\n                                <h3>\\n            <div><span>Tian</span></div>\\n            <div><span>Chen</span></div>\\n          </h3>\\n        </div>\\n        <div class=\"dept\">\\n                                Fourth Year Graduate Student\\n                            </div>\\n      </article>\\n    </a>\\n\\n\\n\\n        <a href=\"/people/dino-p-christenson\" id=\"faculty-card-container\" class=\"card\" aria-label=\"View Dino P. Christenson\">\\n      <article class=\"faculty-post\">\\n        <div class=\"image\">\\n                        <img srcset=\"https://polisci.wustl.edu/sites/polisci.wustl.edu/files/styles/square_1_1_190w/public/People/dino%20christenson_0.jpg.webp 190w, https://polisci.wustl.edu/sites/polisci.wustl.edu/files/styles/square_1_1_320w/public/People/dino%20christenson_0.jpg.webp 320w, https://polisci.wustl.edu/sites/polisci.wustl.edu/files/styles/square_1_1_480w/public/People/dino%20christenson_0.jpg.webp 480w\" sizes=\"(max-width:480px) 85vw, 290px\" width=\"320\" height=\"320\" src=\"/sites/polisci.wustl.edu/files/styles/square_1_1_320w/public/People/dino%20christenson_0.jpg.webp\" alt=\"Dino P. Christenson\" loading=\"lazy\" />\\n\\n\\n                                <h3>\\n            <div><span>Dino P.</span></div>\\n            <div><span>Christenson</span></div>\\n          </h3>\\n        </div>\\n        <div class=\"dept\">\\n                                Professor of Political Science\\n                                  Director of the Environmental Policy Major\\n                  </div>\\n      </article>\\n    </a>\\n\\n\\n\\n        <a href=\"/people/leticia-claro-oliveira\" id=\"faculty-card-container\" class=\"card\" aria-label=\"View Leticia Claro Oliveira\">\\n      <article class=\"faculty-post\">\\n        <div class=\"image\">\\n                        <img srcset=\"https://polisci.wustl.edu/sites/polisci.wustl.edu/files/styles/square_1_1_190w/public/People/Polisci_Oliveira_L-1010648_0.jpg.webp 190w, https://polisci.wustl.edu/sites/polisci.wustl.edu/files/styles/square_1_1_320w/public/People/Polisci_Oliveira_L-1010648_0.jpg.webp 320w, https://polisci.wustl.edu/sites/polisci.wustl.edu/files/styles/square_1_1_480w/public/People/Polisci_Oliveira_L-1010648_0.jpg.webp 480w\" sizes=\"(max-width:480px) 85vw, 290px\" width=\"320\" height=\"320\" src=\"/sites/polisci.wustl.edu/files/styles/square_1_1_320w/public/People/Polisci_Oliveira_L-1010648_0.jpg.webp\" alt=\"Leticia Claro Oliveira\" loading=\"lazy\" />\\n\\n\\n                                <h3>\\n            <div><span>Leticia</span></div>\\n            <div><span>Claro Oliveira</span></div>\\n          </h3>\\n        </div>\\n        <div class=\"dept\">\\n                                Fourth Year Graduate Student\\n                                  Dean&#039;s Distinguished Graduate Fellow\\n                  </div>\\n      </article>\\n    </a>\\n\\n\\n\\n        <a href=\"/people/brian-f-crisp\" id=\"faculty-card-container\" class=\"card\" aria-label=\"View Brian F. Crisp\">\\n      <article class=\"faculty-post\">\\n        <div class=\"image\">\\n                        <img srcset=\"https://polisci.wustl.edu/sites/polisci.wustl.edu/files/styles/square_1_1_190w/public/People/PoliticalScience_Crisp_B-1277761_0.jpg.webp 190w, https://polisci.wustl.edu/sites/polisci.wustl.edu/files/styles/square_1_1_320w/public/People/PoliticalScience_Crisp_B-1277761_0.jpg.webp 320w, https://polisci.wustl.edu/sites/polisci.wustl.edu/files/styles/square_1_1_480w/public/People/PoliticalScience_Crisp_B-1277761_0.jpg.webp 480w\" sizes=\"(max-width:480px) 85vw, 290px\" width=\"320\" height=\"320\" src=\"/sites/polisci.wustl.edu/files/styles/square_1_1_320w/public/People/PoliticalScience_Crisp_B-1277761_0.jpg.webp\" alt=\"Brian F. Crisp\" loading=\"lazy\" />\\n\\n\\n                                <h3>\\n            <div><span>Brian F.</span></div>\\n            <div><span>Crisp</span></div>\\n          </h3>\\n        </div>\\n        <div class=\"dept\">\\n                                Professor Emeritus of Political Science\\n                            </div>\\n      </article>\\n    </a>\\n\\n\\n\\n        <a href=\"/people/bowen-damask\" id=\"faculty-card-container\" class=\"card\" aria-label=\"View Bowen Damask\">\\n      <article class=\"faculty-post\">\\n        <div class=\"image\">\\n                      <img loading=\"lazy\" src=\"/themes/custom/olympian9/images/default-person.png\" alt=\"default person image\" width=\"320\" height=\"320\">\\n                    <h3>\\n            <div><span>Bowen</span></div>\\n            <div><span>Damask</span></div>\\n          </h3>\\n        </div>\\n        <div class=\"dept\">\\n                                First Year Graduate Student\\n                            </div>\\n      </article>\\n    </a>\\n\\n\\n\\n        <a href=\"/people/niko-dawson\" id=\"faculty-card-container\" class=\"card\" aria-label=\"View Niko Dawson\">\\n      <article class=\"faculty-post\">\\n        <div class=\"image\">\\n                        <img srcset=\"https://polisci.wustl.edu/sites/polisci.wustl.edu/files/styles/square_1_1_190w/public/Polisci_Dawson_N-1058506_0.jpg.webp 190w, https://polisci.wustl.edu/sites/polisci.wustl.edu/files/styles/square_1_1_320w/public/Polisci_Dawson_N-1058506_0.jpg.webp 320w, https://polisci.wustl.edu/sites/polisci.wustl.edu/files/styles/square_1_1_480w/public/Polisci_Dawson_N-1058506_0.jpg.webp 480w\" sizes=\"(max-width:480px) 85vw, 290px\" width=\"320\" height=\"320\" src=\"/sites/polisci.wustl.edu/files/styles/square_1_1_320w/public/Polisci_Dawson_N-1058506_0.jpg.webp\" alt=\"Photo of Niko Dawson smiling in a button up shirt\" loading=\"lazy\" />\\n\\n\\n                                <h3>\\n            <div><span>Niko</span></div>\\n            <div><span>Dawson</span></div>\\n          </h3>\\n        </div>\\n        <div class=\"dept\">\\n                                Second Year Graduate Student\\n                            </div>\\n      </article>\\n    </a>\\n\\n\\n\\n        <a href=\"/people/rex-weiye-deng\" id=\"faculty-card-container\" class=\"card\" aria-label=\"View Rex Weiye Deng\">\\n      <article class=\"faculty-post\">\\n        <div class=\"image\">\\n                        <img srcset=\"https://polisci.wustl.edu/sites/polisci.wustl.edu/files/styles/square_1_1_190w/public/Polisci_Deng_W_P1014162_0.jpg.webp 190w, https://polisci.wustl.edu/sites/polisci.wustl.edu/files/styles/square_1_1_320w/public/Polisci_Deng_W_P1014162_0.jpg.webp 320w, https://polisci.wustl.edu/sites/polisci.wustl.edu/files/styles/square_1_1_480w/public/Polisci_Deng_W_P1014162_0.jpg.webp 480w\" sizes=\"(max-width:480px) 85vw, 290px\" width=\"320\" height=\"320\" src=\"/sites/polisci.wustl.edu/files/styles/square_1_1_320w/public/Polisci_Deng_W_P1014162_0.jpg.webp\" alt=\"Rex Weiye Deng\" loading=\"lazy\" />\\n\\n\\n                                <h3>\\n            <div><span>Rex Weiye</span></div>\\n            <div><span>Deng</span></div>\\n          </h3>\\n        </div>\\n        <div class=\"dept\">\\n                                Sixth Year Graduate Student\\n                            </div>\\n      </article>\\n    </a>\\n\\n\\n\\n        <a href=\"/people/juan-dodyk\" id=\"faculty-card-container\" class=\"card\" aria-label=\"View Juan Dodyk\">\\n      <article class=\"faculty-post\">\\n        <div class=\"image\">\\n                        <img srcset=\"https://polisci.wustl.edu/sites/polisci.wustl.edu/files/styles/square_1_1_190w/public/Dodyk_Juan011R_cropped_0.jpg.webp 190w, https://polisci.wustl.edu/sites/polisci.wustl.edu/files/styles/square_1_1_320w/public/Dodyk_Juan011R_cropped_0.jpg.webp 320w, https://polisci.wustl.edu/sites/polisci.wustl.edu/files/styles/square_1_1_480w/public/Dodyk_Juan011R_cropped_0.jpg.webp 480w\" sizes=\"(max-width:480px) 85vw, 290px\" width=\"320\" height=\"320\" src=\"/sites/polisci.wustl.edu/files/styles/square_1_1_320w/public/Dodyk_Juan011R_cropped_0.jpg.webp\" alt=\"Photo of Juan Dodyk smiling in a blue button up shirt wearing glasses\" loading=\"lazy\" />\\n\\n\\n                                <h3>\\n            <div><span>Juan</span></div>\\n            <div><span>Dodyk</span></div>\\n          </h3>\\n        </div>\\n        <div class=\"dept\">\\n                                Assistant Professor of Political Science\\n                            </div>\\n      </article>\\n    </a>\\n\\n\\n\\n          </div>\\n        </div>\\n            \\n              <div id=\"List\" class=\"tabcontent\">\\n          <div class=\"container filtered-names js-load-container\">\\n            \\n  \\n    \\n          \\n      \\n\\n    \\n      <article class=\"faculty-post\" id=\"faculty-list\">\\n              <h3 class=\"column name\"><a href=\"/people/federico-acosta-y-lara\"\\n                                   aria-label=\"View Federico&nbsp;Acosta y Lara\">Federico\\n            &nbsp;Acosta y Lara</a></h3>\\n                    <ul class=\"column depts\">\\n                                <li>Third Year Graduate Student</li>\\n                            </ul>\\n                    <div class=\"column room\">\\n          <p class=\"empty\">&nbsp;</p>\\n        </div>\\n            <ul class=\"column contact\">\\n                              <li>Email: <a href=\"mailto:acostaylara@wustl.edu\">acostaylara@wustl.edu</a></li>\\n                                            </ul>\\n    </article>\\n  \\n      <article class=\"faculty-post\" id=\"faculty-list\">\\n              <h3 class=\"column name\"><a href=\"/people/deniz-aksoy\"\\n                                   aria-label=\"View Deniz&nbsp;Aksoy\">Deniz\\n            &nbsp;Aksoy</a></h3>\\n                    <ul class=\"column depts\">\\n                                <li>Associate Professor of Political Science</li>\\n                            </ul>\\n                    <div class=\"column room\">\\n          <p>Seigle 231</p>\\n        </div>\\n            <ul class=\"column contact\">\\n                              <li>Email: <a href=\"mailto:denizaksoy@wustl.edu\">denizaksoy@wustl.edu</a></li>\\n                                            </ul>\\n    </article>\\n  \\n      <article class=\"faculty-post\" id=\"faculty-list\">\\n              <h3 class=\"column name\"><a href=\"/people/lukas-alexander\"\\n                                   aria-label=\"View Lukas&nbsp;Alexander\">Lukas\\n            &nbsp;Alexander</a></h3>\\n                    <ul class=\"column depts\">\\n                                <li>Third Year Graduate Student</li>\\n                                <li>Weidenbaum Center Graduate Research Affiliate</li>\\n                  </ul>\\n                    <div class=\"column room\">\\n          <p class=\"empty\">&nbsp;</p>\\n        </div>\\n            <ul class=\"column contact\">\\n                              <li>Email: <a href=\"mailto:a.lukas@wustl.edu\">a.lukas@wustl.edu</a></li>\\n                                            </ul>\\n    </article>\\n  \\n      <article class=\"faculty-post\" id=\"faculty-list\">\\n              <h3 class=\"column name\"><a href=\"/people/alex-avery\"\\n                                   aria-label=\"View Alex&nbsp;Avery\">Alex\\n            &nbsp;Avery</a></h3>\\n                    <ul class=\"column depts\">\\n                                <li>Fifth Year Graduate Student</li>\\n                                <li>Weidenbaum Center Graduate Fellow</li>\\n                  </ul>\\n                    <div class=\"column room\">\\n          <p class=\"empty\">&nbsp;</p>\\n        </div>\\n            <ul class=\"column contact\">\\n                              <li>Email: <a href=\"mailto:a.d.avery@wustl.edu\">a.d.avery@wustl.edu</a></li>\\n                                            </ul>\\n    </article>\\n  \\n      <article class=\"faculty-post\" id=\"faculty-list\">\\n              <h3 class=\"column name\"><a href=\"/people/timm-betz\"\\n                                   aria-label=\"View Timm&nbsp;Betz\">Timm\\n            &nbsp;Betz</a></h3>\\n                    <ul class=\"column depts\">\\n                                <li>Associate Professor of Political Science</li>\\n                            </ul>\\n                    <div class=\"column room\">\\n          <p>Seigle 232</p>\\n        </div>\\n            <ul class=\"column contact\">\\n                              <li>Email: <a href=\"mailto:betzt@wustl.edu\">betzt@wustl.edu</a></li>\\n                                            </ul>\\n    </article>\\n  \\n      <article class=\"faculty-post\" id=\"faculty-list\">\\n              <h3 class=\"column name\"><a href=\"/people/zachary-bowersox\"\\n                                   aria-label=\"View Zachary&nbsp;Bowersox\">Zachary\\n            &nbsp;Bowersox</a></h3>\\n                    <ul class=\"column depts\">\\n                                <li>Lecturer in Political Science</li>\\n                            </ul>\\n                    <div class=\"column room\">\\n          <p>Seigle Hall 273</p>\\n        </div>\\n            <ul class=\"column contact\">\\n                              <li>Email: <a href=\"mailto:bowersox@wustl.edu\">bowersox@wustl.edu</a></li>\\n                                            </ul>\\n    </article>\\n  \\n      <article class=\"faculty-post\" id=\"faculty-list\">\\n              <h3 class=\"column name\"><a href=\"/people/christina-l-boyd\"\\n                                   aria-label=\"View Christina L.&nbsp;Boyd\">Christina L.\\n            &nbsp;Boyd</a></h3>\\n                    <ul class=\"column depts\">\\n                                <li>Professor of Law and Political Science</li>\\n                            </ul>\\n                    <div class=\"column room\">\\n          <p>Anheuser-Busch Hall 566</p>\\n        </div>\\n            <ul class=\"column contact\">\\n                              <li>Email: <a href=\"mailto:clboyd@wustl.edu\">clboyd@wustl.edu</a></li>\\n                                            </ul>\\n    </article>\\n  \\n      <article class=\"faculty-post\" id=\"faculty-list\">\\n              <h3 class=\"column name\"><a\\n            href=\"https://rap.wustl.edu/people/ryan-burge/\"\\n            aria-label=\"Opens Ryan&nbsp;Burge in new window\">Ryan\\n            &nbsp;Burge</a></h3>\\n                    <ul class=\"column depts\">\\n                                <li>Professor of Practice</li>\\n                            </ul>\\n                    <div class=\"column room\">\\n          <p class=\"empty\">&nbsp;</p>\\n        </div>\\n            <ul class=\"column contact\">\\n                  <li class=\"empty\"> &nbsp;</li>\\n              </ul>\\n    </article>\\n  \\n      <article class=\"faculty-post\" id=\"faculty-list\">\\n              <h3 class=\"column name\"><a href=\"/people/daniel-butler\"\\n                                   aria-label=\"View Daniel &nbsp;Butler\">Daniel \\n            &nbsp;Butler</a></h3>\\n                    <ul class=\"column depts\">\\n                                <li>Professor of Political Science</li>\\n                                <li>Director of Undergraduate Studies in Political Science</li>\\n                  </ul>\\n                    <div class=\"column room\">\\n          <p>Seigle Hall 287</p>\\n        </div>\\n            <ul class=\"column contact\">\\n                              <li>Email: <a href=\"mailto:daniel.butler@wustl.edu\">daniel.butler@wustl.edu</a></li>\\n                                            </ul>\\n    </article>\\n  \\n      <article class=\"faculty-post\" id=\"faculty-list\">\\n              <h3 class=\"column name\"><a href=\"/people/anthony-buzzacco\"\\n                                   aria-label=\"View Anthony&nbsp;Buzzacco\">Anthony\\n            &nbsp;Buzzacco</a></h3>\\n                    <ul class=\"column depts\">\\n                                <li>Academic & Administrative Cluster Supervisor</li>\\n                            </ul>\\n                    <div class=\"column room\">\\n          <p class=\"empty\">&nbsp;</p>\\n        </div>\\n            <ul class=\"column contact\">\\n                              <li>Email: <a href=\"mailto:anthonyb@wustl.edu\">anthonyb@wustl.edu</a></li>\\n                                <li>Phone: 314-935-8577</li>\\n                                  </ul>\\n    </article>\\n  \\n      <article class=\"faculty-post\" id=\"faculty-list\">\\n              <h3 class=\"column name\"><a href=\"/people/randall-calvert\"\\n                                   aria-label=\"View Randall&nbsp;Calvert\">Randall\\n            &nbsp;Calvert</a></h3>\\n                    <ul class=\"column depts\">\\n                      <li>Thomas F. Eagleton University Professor of Public Affairs and Political Science</li>\\n                                <li>Professor Emeritus of Political Science</li>\\n                            </ul>\\n                    <div class=\"column room\">\\n          <p class=\"empty\">&nbsp;</p>\\n        </div>\\n            <ul class=\"column contact\">\\n                              <li>Email: <a href=\"mailto:calvert@wustl.edu\">calvert@wustl.edu</a></li>\\n                                            </ul>\\n    </article>\\n  \\n      <article class=\"faculty-post\" id=\"faculty-list\">\\n              <h3 class=\"column name\"><a href=\"/people/michael-cannon\"\\n                                   aria-label=\"View Michael&nbsp;Cannon\">Michael\\n            &nbsp;Cannon</a></h3>\\n                    <ul class=\"column depts\">\\n                                <li>Professor of the Practice</li>\\n                            </ul>\\n                    <div class=\"column room\">\\n          <p class=\"empty\">&nbsp;</p>\\n        </div>\\n            <ul class=\"column contact\">\\n                              <li>Email: <a href=\"mailto:mrcannon@wustl.edu\">mrcannon@wustl.edu</a></li>\\n                                            </ul>\\n    </article>\\n  \\n      <article class=\"faculty-post\" id=\"faculty-list\">\\n              <h3 class=\"column name\"><a href=\"/people/taylor-carlson\"\\n                                   aria-label=\"View Taylor&nbsp;Carlson\">Taylor\\n            &nbsp;Carlson</a></h3>\\n                    <ul class=\"column depts\">\\n                                <li>Director of Graduate Studies Political Science</li>\\n                                <li>Associate Professor of Political Science<br />\\r\\nWeidenbaum Center Director of Survey Research</li>\\n                  </ul>\\n                    <div class=\"column room\">\\n          <p>Seigle 289</p>\\n        </div>\\n            <ul class=\"column contact\">\\n                              <li>Email: <a href=\"mailto:tncarlson@wustl.edu\">tncarlson@wustl.edu</a></li>\\n                                            </ul>\\n    </article>\\n  \\n      <article class=\"faculty-post\" id=\"faculty-list\">\\n              <h3 class=\"column name\"><a href=\"/people/david-carter\"\\n                                   aria-label=\"View David&nbsp;Carter\">David\\n            &nbsp;Carter</a></h3>\\n                    <ul class=\"column depts\">\\n                                <li>Professor of Political Science</li>\\n                            </ul>\\n                    <div class=\"column room\">\\n          <p>Seigle 286</p>\\n        </div>\\n            <ul class=\"column contact\">\\n                              <li>Email: <a href=\"mailto:davidcarter@wustl.edu\">davidcarter@wustl.edu</a></li>\\n                                            </ul>\\n    </article>\\n  \\n      <article class=\"faculty-post\" id=\"faculty-list\">\\n              <h3 class=\"column name\"><a href=\"/people/zeynep-ceren-topac\"\\n                                   aria-label=\"View Zeynep&nbsp;Ceren Topac\">Zeynep\\n            &nbsp;Ceren Topac</a></h3>\\n                    <ul class=\"column depts\">\\n                                <li>Second Year Graduate Student</li>\\n                            </ul>\\n                    <div class=\"column room\">\\n          <p class=\"empty\">&nbsp;</p>\\n        </div>\\n            <ul class=\"column contact\">\\n                              <li>Email: <a href=\"mailto:t.zeynep@wustl.edu\">t.zeynep@wustl.edu</a></li>\\n                                            </ul>\\n    </article>\\n  \\n      <article class=\"faculty-post\" id=\"faculty-list\">\\n              <h3 class=\"column name\"><a href=\"/people/amaan-charaniya\"\\n                                   aria-label=\"View Amaan&nbsp;Charaniya\">Amaan\\n            &nbsp;Charaniya</a></h3>\\n                    <ul class=\"column depts\">\\n                                <li>Sixth Year Graduate Student</li>\\n                            </ul>\\n                    <div class=\"column room\">\\n          <p class=\"empty\">&nbsp;</p>\\n        </div>\\n            <ul class=\"column contact\">\\n                              <li>Email: <a href=\"mailto:a.charaniya@wustl.edu\">a.charaniya@wustl.edu</a></li>\\n                                            </ul>\\n    </article>\\n  \\n      <article class=\"faculty-post\" id=\"faculty-list\">\\n              <h3 class=\"column name\"><a href=\"/people/tian-chen\"\\n                                   aria-label=\"View Tian&nbsp;Chen\">Tian\\n            &nbsp;Chen</a></h3>\\n                    <ul class=\"column depts\">\\n                                <li>Fourth Year Graduate Student</li>\\n                            </ul>\\n                    <div class=\"column room\">\\n          <p class=\"empty\">&nbsp;</p>\\n        </div>\\n            <ul class=\"column contact\">\\n                              <li>Email: <a href=\"mailto:chen.tian@wustl.edu\">chen.tian@wustl.edu</a></li>\\n                                            </ul>\\n    </article>\\n  \\n      <article class=\"faculty-post\" id=\"faculty-list\">\\n              <h3 class=\"column name\"><a href=\"/people/dino-p-christenson\"\\n                                   aria-label=\"View Dino P.&nbsp;Christenson\">Dino P.\\n            &nbsp;Christenson</a></h3>\\n                    <ul class=\"column depts\">\\n                                <li>Professor of Political Science</li>\\n                                <li>Director of the Environmental Policy Major</li>\\n                  </ul>\\n                    <div class=\"column room\">\\n          <p>Seigle 234</p>\\n        </div>\\n            <ul class=\"column contact\">\\n                              <li>Email: <a href=\"mailto:dinopc@wustl.edu\">dinopc@wustl.edu</a></li>\\n                                            </ul>\\n    </article>\\n  \\n      <article class=\"faculty-post\" id=\"faculty-list\">\\n              <h3 class=\"column name\"><a href=\"/people/leticia-claro-oliveira\"\\n                                   aria-label=\"View Leticia&nbsp;Claro Oliveira\">Leticia\\n            &nbsp;Claro Oliveira</a></h3>\\n                    <ul class=\"column depts\">\\n                                <li>Fourth Year Graduate Student</li>\\n                                <li>Dean&#039;s Distinguished Graduate Fellow</li>\\n                  </ul>\\n                    <div class=\"column room\">\\n          <p class=\"empty\">&nbsp;</p>\\n        </div>\\n            <ul class=\"column contact\">\\n                              <li>Email: <a href=\"mailto:m.l.oliveira@wustl.edu\">m.l.oliveira@wustl.edu</a></li>\\n                                            </ul>\\n    </article>\\n  \\n      <article class=\"faculty-post\" id=\"faculty-list\">\\n              <h3 class=\"column name\"><a href=\"/people/brian-f-crisp\"\\n                                   aria-label=\"View Brian F.&nbsp;Crisp\">Brian F.\\n            &nbsp;Crisp</a></h3>\\n                    <ul class=\"column depts\">\\n                                <li>Professor Emeritus of Political Science</li>\\n                            </ul>\\n                    <div class=\"column room\">\\n          <p>Seigle 291</p>\\n        </div>\\n            <ul class=\"column contact\">\\n                              <li>Email: <a href=\"mailto:crisp@wustl.edu\">crisp@wustl.edu</a></li>\\n                                            </ul>\\n    </article>\\n  \\n      <article class=\"faculty-post\" id=\"faculty-list\">\\n              <h3 class=\"column name\"><a href=\"/people/bowen-damask\"\\n                                   aria-label=\"View Bowen&nbsp;Damask\">Bowen\\n            &nbsp;Damask</a></h3>\\n                    <ul class=\"column depts\">\\n                                <li>First Year Graduate Student</li>\\n                            </ul>\\n                    <div class=\"column room\">\\n          <p class=\"empty\">&nbsp;</p>\\n        </div>\\n            <ul class=\"column contact\">\\n                              <li>Email: <a href=\"mailto:bdamask@wustl.edu\">bdamask@wustl.edu</a></li>\\n                                            </ul>\\n    </article>\\n  \\n      <article class=\"faculty-post\" id=\"faculty-list\">\\n              <h3 class=\"column name\"><a href=\"/people/niko-dawson\"\\n                                   aria-label=\"View Niko&nbsp;Dawson\">Niko\\n            &nbsp;Dawson</a></h3>\\n                    <ul class=\"column depts\">\\n                                <li>Second Year Graduate Student</li>\\n                            </ul>\\n                    <div class=\"column room\">\\n          <p class=\"empty\">&nbsp;</p>\\n        </div>\\n            <ul class=\"column contact\">\\n                              <li>Email: <a href=\"mailto:a.dawson@wustl.edu\">a.dawson@wustl.edu</a></li>\\n                                            </ul>\\n    </article>\\n  \\n      <article class=\"faculty-post\" id=\"faculty-list\">\\n              <h3 class=\"column name\"><a href=\"/people/rex-weiye-deng\"\\n                                   aria-label=\"View Rex Weiye&nbsp;Deng\">Rex Weiye\\n            &nbsp;Deng</a></h3>\\n                    <ul class=\"column depts\">\\n                                <li>Sixth Year Graduate Student</li>\\n                            </ul>\\n                    <div class=\"column room\">\\n          <p class=\"empty\">&nbsp;</p>\\n        </div>\\n            <ul class=\"column contact\">\\n                              <li>Email: <a href=\"mailto:weiye.deng@wustl.edu\">weiye.deng@wustl.edu</a></li>\\n                                            </ul>\\n    </article>\\n  \\n      <article class=\"faculty-post\" id=\"faculty-list\">\\n              <h3 class=\"column name\"><a href=\"/people/juan-dodyk\"\\n                                   aria-label=\"View Juan&nbsp;Dodyk\">Juan\\n            &nbsp;Dodyk</a></h3>\\n                    <ul class=\"column depts\">\\n                                <li>Assistant Professor of Political Science</li>\\n                            </ul>\\n                    <div class=\"column room\">\\n          <p>Seigle 230H</p>\\n        </div>\\n            <ul class=\"column contact\">\\n                              <li>Email: <a href=\"mailto:juandodyk@wustl.edu\">juandodyk@wustl.edu</a></li>\\n                                            </ul>\\n    </article>\\n  \\n\\n  \\n          \\n\\n\\n          </div>\\n        </div>\\n                  <div class=\"load-more flex\">\\n                <nav class=\"pager pager--load-more\" role=\"navigation\" aria-labelledby=\"pagination-heading\">\\n    <h4 id=\"pagination-heading\" class=\"visually-hidden\">Pagination</h4>\\n          <ul class=\"pager__items js-pager__items\">\\n        <li class=\"pager__item\">\\n          <a href=\"/people?page=1\">Load more</a>\\n        </li>\\n      </ul>\\n      </nav>\\n\\n            </div>\\n      \\n                </div>\\n  </div>\\n\\n\\n</div>\\n\\n  </div>\\n\\n          \\n<nav class=\"top-scroll-container\" id=\"top-scroll\" role=\"navigation\"\\n     aria-label=\"Back to top of page\">\\n  <ul>\\n    <li>\\n      <a class=\"v-dot-link\" href=\"#\" aria-labelledby=\"top-scroll\">\\n        <span role=\"presentation\" class=\"fas fa-arrow-up\"></span>\\n      </a>\\n    </li>\\n  </ul>\\n</nav>\\n      </main>\\n          \\n<footer id=\"footer\" role=\"contentinfo\">\\n  <div class=\"footer-top flex\">\\n    \\n\\n  <div class=\"footer-nav flex\">\\n    <div class=\"column half\">\\n      <h3>Quick Links</h3>\\n      <div class=\"quick-links\">\\n        \\n          <ul class=\"menu quicklinks\">\\n                <li>\\n        <a href=\"/resources\" title=\"\" data-drupal-link-system-path=\"node/61\">Resources</a>\\n              </li>\\n                <li>\\n        <a href=\"/events\" title=\"\" data-drupal-link-system-path=\"node/21\">Events</a>\\n              </li>\\n                <li class=\"active-trail active\">\\n        <a href=\"/people\" title=\"\" data-drupal-link-system-path=\"node/50\" class=\"is-active\" aria-current=\"page\">Our People</a>\\n              </li>\\n                <li>\\n        <a href=\"/contact-us\" data-drupal-link-system-path=\"node/68\">Contact Us</a>\\n              </li>\\n        </ul>\\n  \\n\\n\\n      </div>\\n    </div>\\n          <div class=\"column half\">\\n        <h3>Additional information</h3>\\n        <ul class=\"additional-links\">\\n                      <li>\\n              <a href=\"https://artsci.washu.edu\">\\n                <svg class=\"icon\"><use xlink:href=\"#link-out\"></use></svg> Arts & Sciences\\n              </a>\\n            </li>\\n          \\n                      <li>\\n              <a href=\"https://gradstudies.artsci.wustl.edu/\">\\n                <svg class=\"icon\"><use xlink:href=\"#link-out\"></use></svg> Graduate Studies in A&S\\n              </a>\\n            </li>\\n                  </ul>\\n        <p class=\"copyright\"><em>Copyright © 2025 by:</em> Arts &amp; Sciences at Washington University in St. Louis</p>\\n      </div>\\n        </div>\\n    <div class=\"column callout flex center\">\\n      <div class=\"inner\">\\n                <h3>Follow Us</h3>\\n          <ul class=\"social-links solid\">\\n                          <li>\\n                  <a href=\"http://instagram.com/washupolisci\">Instagram<svg><use xlink:href=\"#instagram\" xmlns:xlink=\"http://www.w3.org/1999/xlink\"></use></svg></a>\\n              </li>\\n                                      <li>\\n                  <a href=\"https://www.facebook.com/WashUPoliSci\">Facebook<svg><use xlink:href=\"#facebook\" xmlns:xlink=\"http://www.w3.org/1999/xlink\"></use></svg></a>\\n              </li>\\n                                      <li>\\n                  <a href=\"https://twitter.com/WashUPoliSci\">X<svg xmlns=\"http://www.w3.org/2000/svg\" viewBox=\"0 0 512 512\"><!--!Font Awesome Free 6.5.1 by @fontawesome - https://fontawesome.com License - https://fontawesome.com/license/free Copyright 2024 Fonticons, Inc.--><path d=\"M389.2 48h70.6L305.6 224.2 487 464H345L233.7 318.6 106.5 464H35.8L200.7 275.5 26.8 48H172.4L272.9 180.9 389.2 48zM364.4 421.8h39.1L151.1 88h-42L364.4 421.8z\"/></svg></a>\\n              </li>\\n                                                  <li>\\n                  <a href=\"http://www.linkedin.com/company/washupolisci\">LinkedIn<svg xmlns=\"http://www.w3.org/2000/svg\" viewBox=\"0 0 448 512\"><!--!Font Awesome Free 6.5.1 by @fontawesome - https://fontawesome.com License - https://fontawesome.com/license/free Copyright 2024 Fonticons, Inc.--><path d=\"M100.3 448H7.4V148.9h92.9zM53.8 108.1C24.1 108.1 0 83.5 0 53.8a53.8 53.8 0 0 1 107.6 0c0 29.7-24.1 54.3-53.8 54.3zM447.9 448h-92.7V302.4c0-34.7-.7-79.2-48.3-79.2-48.3 0-55.7 37.7-55.7 76.7V448h-92.8V148.9h89.1v40.8h1.3c12.4-23.5 42.7-48.3 87.9-48.3 94 0 111.3 61.9 111.3 142.3V448z\"/></svg></a>\\n              </li>\\n                      </ul>\\n                    <p>\\n            <em>Contact Us:</em>\\n               Department of Political Science \\n              <a href=\"mailto:polisci@wustl.edu\">polisci@wustl.edu</a>\\n          </p>\\n        </div>\\n    </div>\\n  </div>\\n  <div class=\"footer-bottom flex\">\\n    <div class=\"column wustl flex\">\\n      <div class=\"inner\">\\n        <a class=\"logo\" href=\"https://wustl.edu\">\\n          <svg class=\"logo\"><use xlink:href=\"#logo-wu\"></use></svg>\\n        </a>\\n        <address>1 Brookings Drive / St. Louis, MO 63130 / wustl.edu</address>\\n      </div>\\n      <div class=\"masquerade flex center\">\\n        \\n      </div>\\n    </div>\\n    \\n  </div>\\n</footer>\\n\\n      \\n  <div class=\"overlay\" data-drupal-selector=\"overlay\"></div>\\n</div>\\n\\n  </div>\\n\\n<div  class=\"olympian__container\"><span class=\"hidden\"><svg style=\"display: none;\">\\n<symbol id=\"icon-search\" viewBox=\"0 0 100 100\">\\n<path d=\"M87.3,12.1C72-3.2,47.1-3.2,31.8,12.1c-7.4,7.4-11.5,17.3-11.5,27.8c0,9.1,3.1,17.7,8.7,24.7L1.2,92.4l7,7l27.9-27.9\\n\\tc6.9,5.2,15.2,7.8,23.5,7.8c10.1,0,20.1-3.8,27.8-11.5C102.6,52.4,102.6,27.5,87.3,12.1z M81,61.4c-11.9,11.9-31.1,11.9-43,0\\n\\tc-5.7-5.7-8.9-13.4-8.9-21.5s3.2-15.8,8.9-21.5c5.9-5.9,13.7-8.9,21.5-8.9c7.8,0,15.6,3,21.5,8.9C92.9,30.3,92.9,49.6,81,61.4z\"/>\\n</symbol>\\n<symbol id=\"email\" viewBox=\"0 0 64 64\">\\n      <path d=\"M32 35.077l18.462-16h-36.924zM27.013 33.307l4.987 4.091 4.909-4.093 13.553 11.617h-36.924zM12.307 43.693v-23.386l13.539 11.693zM51.693 43.693v-23.386l-13.539 11.693z\"></path>\\n    </symbol>\\n<symbol id=\"ampersand\" viewBox=\"0 0 531.1 626.6\">\\n\\t<path d=\"M497.7,196.4c-11.6-7.9-24.9-11.6-38.5-10.9c-0.1,0-0.2,0-0.3,0c-27.1-0.1-49.1,21.8-49.2,48.9\\n\\t\\tc-0.1,27.1,21.8,49.1,48.9,49.2c17.1,0,32.2-9.2,41-22.5C497.9,288.7,475,310,447,310H270.1h-0.3c-26.3,0-51.1,10.5-69.8,29.1\\n\\t\\tc-18.7,18.6-29.1,43.6-29.2,70c-0.1,27.2,12,51.1,33.1,65.5c12.8,8.7,27.6,13.2,43.2,13.2c4.2,0,8.5-0.4,12.8-1.1\\n\\t\\tc31.3-2.6,55.9-28.7,55.9-60.7c0.1-33.7-27.2-61.1-60.9-61.2c-22.8-0.1-42.7,12.4-53.2,30.9c2.7-13.3,9.2-25.5,19.1-35.4\\n\\t\\tc13.1-13,30.5-20.2,49-20.2h0.2H342h0c0.2,0-0.1,0,0.1,0l27.7,0.1v84.1c0,93.2-75.3,169-168.5,169c-93.2,0-168.8-75.8-168.8-169\\n\\t\\tc0-93.2,76-169,169.2-169c8.6,0,15.6-7,15.6-15.6s-6.9-15.6-15.5-15.6c-1.6,0-3.1,0.1-4.7,0.1c-0.4,0-0.8-0.1-1.2-0.1\\n\\t\\tc-52.7,0-95.6-42.9-95.6-95.6c0-52.7,42.9-95.6,95.6-95.6s95.6,42.9,95.6,95.6c0,8.6-1.2,17.2-3.5,25.6\\n\\t\\tc-2.3,8.3,2.6,16.9,10.8,19.2c8.3,2.3,16.9-2.6,19.2-10.8c3.1-11.1,4.6-22.5,4.6-33.9C322.6,58.8,265.8,2,195.9,2\\n\\t\\tC126.1,2,69.2,58.8,69.2,128.7c0,46.1,24.7,86.5,61.6,108.6C55.4,266.1,1.7,339.1,1.7,424.4c0,110.4,90.6,200.2,200.9,200.2\\n\\t\\ts200.9-89.8,200.9-200.2v-84l43.3-0.2h0.2c45.3,0,82.3-36.7,82.4-82C529.5,233.4,517.3,209.8,497.7,196.4\"/>\\n</symbol>\\n<view id=\"close-view\" viewBox=\"0 240 24 24\"/><symbol id=\"drop\" viewBox=\"0 0 24 24\"><path d=\"m4 8 8 8 8-8\" fill=\"none\" stroke=\"currentColor\" stroke-width=\"3\" stroke-linecap=\"round\" stroke-linejoin=\"round\"/></symbol><use xlink:href=\"#drop\" y=\"264\" width=\"24\" height=\"24\"/>\\n<symbol id=\"logo-wu\" viewBox=\"0 0 331.5 27.8\">\\n<g>\\n\\t<path d=\"M240.1,7.9c0.3,0,1.1-1.2,1.1-1.6c0-0.4-0.8-1.6-1.1-1.6c-0.3,0-1.1,1.3-1.1,1.6C239,6.6,239.7,7.9,240.1,7.9\"/>\\n\\t<path d=\"M254.3,20.3V15c0-2.4-0.8-6-4.4-6c-2.6,0-3.9,2.5-3.9,2.1V9.3c0-0.3-0.2-0.5-0.3-0.5c-0.6,0-1.1,1-3.2,1.7\\n\\t\\tc-0.1,0-0.5,0-0.5,0.3c0,0.7,2.1-0.9,2.1,1.7v7.9c0,1.5-0.7,1.6-1.3,1.7c0,0-0.1,0-0.1,0c-0.5,0-1.7-0.2-1.7-1.4V9.3\\n\\t\\tc0-0.3-0.2-0.5-0.3-0.5c-0.6,0-1,1.1-2.7,1.7c-0.1,0-0.4,0.1-0.4,0.2c0,0.7,1.5-0.6,1.5,1.7V20c0.1,1.9-1,2.1-1.6,2.1\\n\\t\\tc-0.9,0-0.7,0.1-0.7,0.4c0,0.3,0.5,0.3,1.4,0.3c0.3,0,1-0.1,1.9-0.1c1.1,0,1.9,0.1,2.5,0.1c0.3,0,1.2-0.1,2.6-0.1\\n\\t\\tc1.6,0,2.1,0.1,2.5,0.1c0.4,0,0.9-0.2,0.6-0.4c-0.4-0.4-2.4,0.1-2.4-2.1V13c0-0.5,0.9-2.5,3.2-2.5c2.2,0,3.1,2.4,3.1,4v6\\n\\t\\tc0,2.3-0.8,1.6-1.2,2.1c-0.2,0.3,0.1,0.4,0.5,0.4c0.3,0,0.9-0.1,1.9-0.1c1.3,0,1.9,0.1,2.2,0.1c0.3,0,0.8-0.2,0.5-0.4\\n\\t\\tC255.6,21.9,254.3,22.7,254.3,20.3\"/>\\n\\t<path d=\"M50.5,1.9c0.4-0.1,0.6-0.2,0.6-0.2c0-0.3-0.1-0.3-0.4-0.3c-0.7,0-1.1,0.1-1.8,0.1c-0.7,0-1.3-0.1-1.9-0.1\\n\\t\\tc-0.3,0-0.3,0.1-0.3,0.3c0,0.2,0.7,0.1,1.1,0.9c0.2,0.4,0.1,1.4-0.1,2l-5.2,14.2l-2.2-6.3l-0.9-2.3c0,0-0.1,0.1,0.5-1.8l1.2-3.6\\n\\t\\tC41.7,2.9,42.3,2,43,2c1,0,1-0.6,0.2-0.6s-1.2,0.1-1.8,0.1c-0.7,0-1-0.1-1.8-0.1c-0.3,0-0.6,0.1-0.5,0.3c0,0.2,0.4,0.1,0.7,0.3\\n\\t\\tc0.5,0.3,0.8,1.3,0.5,2.4L38.9,9l-1.6-4.3c-0.3-0.8-0.8-2.6,0-2.8c0.8-0.2,0.7-0.5,0.2-0.5c-0.9,0-1.4,0.1-2.2,0.1\\n\\t\\tc-0.9,0-1.6-0.1-2.5-0.1c-0.2,0-0.5,0-0.4,0.4c0.1,0.2,0.5,0.1,0.8,0.3c1.1,0.7,1.3,1.6,1.7,2.6l2.4,6.7c0.4,1.2,0.5,0.8,0.1,1.8\\n\\t\\tl-2.1,5.7L30.1,4.3c-0.4-1.1-0.6-1.9,0.3-2.3c0.4-0.2,0.5-0.2,0.5-0.3c0-0.1,0.1-0.3-0.5-0.3c-0.9,0-1.5,0.1-2.4,0.1\\n\\t\\tc-1,0-1.6-0.1-2.5-0.1c-0.3,0-0.4,0.1-0.4,0.4c0,0.3,0.7,0.1,1.3,0.8c0.4,0.4,1,1.7,1.2,2.2l6.1,17.7c0.1,0.3,0.1,0.8,0.5,0.8\\n\\t\\tc0.3,0,0.3-0.6,0.4-0.8l3.2-8.9l3.2,8.4c0.1,0.3,0.3,1.3,0.6,1.3c0.3,0,0.4-0.4,0.5-0.9L48.4,5C48.9,3.6,49.5,2.1,50.5,1.9\"/>\\n\\t<path d=\"M118.1,8.8c-3.4,0-6,3.4-6,7.4c0,2,0.5,3.6,1.5,4.8c-0.3,0.2-0.9,0.7-2.2,0.7c-1.1,0-1.7-0.7-1.8-2.1V11c0,0,3.3,0,3.5,0\\n\\t\\tc0.2,0,0.7-1.5,0.7-1.6c0-0.2,0.1-0.3,0.1-0.5c0-0.3-0.2-0.3-0.4,0c-0.2,0.2-0.3,0.6-1,0.6h-2.9c0-2.5,0-3.6-0.4-3.6\\n\\t\\tc-0.4,0-0.3,0.1-0.7,1.2c-0.5,1.5-1.8,2.3-2.7,2.8c-0.4,0.1-0.8,0.1-1.3,0c-0.8-0.2-1.7-1.1-3.9-1.1c-2.5,0-4.6,2-4.6,4.7\\n\\t\\tc0,1.5,0.6,2.8,1.8,3.6c-0.2,0.1-1.6,1.3-1.4,2.6c0,0,0,1.4,1.1,1.9c-0.3,0.1-0.7,0.4-1,0.7c-0.7-0.3-1.8-0.1-1.8-2V15\\n\\t\\tc0-2.4-0.8-6-4.4-6c-2.6,0-3.9,2.5-3.9,2.1V9.3c0-0.3-0.2-0.5-0.3-0.5c-0.6,0-0.7,1-3,1.6c-0.1,0-0.4,0.1-0.4,0.3\\n\\t\\tc0,0.7,1.8-0.7,1.8,1.7v7.9c0,1.7-1.3,1.7-1.6,1.7c-0.1,0-0.2,0-0.3,0C82,22.1,81,21.8,81,20.8V9.3c0-0.3-0.2-0.5-0.3-0.5\\n\\t\\tc-0.6,0-1,1.1-2.7,1.7c-0.1,0-0.4,0.1-0.4,0.2c0,0.7,1.5-0.6,1.5,1.7V20c0.1,1.8-0.9,2.1-1.5,2.1c-0.7-0.1-1.3-0.4-1.3-1.5v-5.3\\n\\t\\tc0-2.7-1-6.3-4.5-6.3c-1.5,0-2.8,0.8-3.9,2V1.9c0-0.3-0.2-0.5-0.3-0.5c-0.4,0-1.1,1.2-3.1,1.7c-0.1,0-0.6,0.1-0.6,0.3\\n\\t\\tC64,4,66,3,66,5.1v15.6c0,1.6-1.3,1.3-1.6,1.8c0,0.2,0.1,0.3,0.3,0.3c0.4,0,1.6-0.1,2.4-0.1c0.8,0,2.2,0.1,2.7,0.1\\n\\t\\tc0.3,0,0.5-0.1,0.5-0.4C70.1,21.9,68,22.7,68,20v-6.7c0-1.6,1.9-2.9,3.1-2.9c0.9,0,3.2,0.7,3.2,4.7v5.8c0,1.1-1.2,1.3-1.3,1.6\\n\\t\\tc0,0.3,0.2,0.3,0.4,0.3c0.3,0,1.2-0.1,2.2-0.1c0.6,0,1.1,0,1.6,0.1c0.2,0,0.6,0.1,1,0.1c0.3,0,1-0.1,1.9-0.1c0.8,0,1.5,0.1,2.1,0.1\\n\\t\\tc0.1,0,0.2,0,0.3,0c0,0,0.1,0,0.1,0c0,0,0,0,0,0c0.3,0,0.6,0,0.8,0c0.3,0,0.9-0.1,2.3-0.1c1.6,0,2.1,0.1,2.5,0.1\\n\\t\\tc0.4,0,0.9-0.2,0.6-0.4c-0.4-0.4-2.4,0.1-2.4-2.1V13c0-0.5,0.9-2.5,3.2-2.5c2.2,0,3.1,2.4,3.1,4v6c0,2.1-0.8,1.6-1.2,2.1\\n\\t\\tc-0.2,0.3,0.1,0.4,0.5,0.4c0.3,0,0.9-0.1,1.9-0.1c1,0,1.6,0.1,2,0.1c-0.3,0.4-0.5,0.9-0.5,1.4c-0.1,2.6,3,3.5,5.7,3.5\\n\\t\\tc5.3-0.1,6.8-3.7,5.7-5.7c-1.1-2-3.5-1.9-5.9-1.9c-4.3,0-3.5-2.7-1.8-2.6c0.4,0,0.2,0.1,1.6,0.1c2.5,0,4.9-1.7,4.8-4.5\\n\\t\\tc0-0.2,0.1-1.1-0.6-2.2c1.2,0,0.7,0,2.5,0l0,7.9c0,3.6,1.7,4.2,3,4.2c1.8,0,3.1-1.2,3.3-1.7c1.1,1.1,2.5,1.7,4.3,1.7\\n\\t\\tc3.3,0,5.8-3,5.8-7C123.9,10,120.1,8.8,118.1,8.8 M98.7,21.9c0.2,0,0.3,0.1,2.7,0.2c2.5,0.1,3.4,0.8,3.6,1.5\\n\\t\\tc0.3,1.2-0.5,3.6-4.2,3.4c-2.3-0.1-3-1.2-3.1-1.5C96.9,24.2,97.6,21.9,98.7,21.9 M100.8,17.1c-2.1,0-2.9-2.1-2.9-4\\n\\t\\tc0-2,0.6-3.7,2.8-3.7c2.2,0,3,2.2,3,4.2C103.8,15.6,102.9,17.1,100.8,17.1 M118.4,22.1c-3.1,0-4.4-3.9-4.4-7c0-2.7,1.1-5.3,3.7-5.3\\n\\t\\tc3.2,0,4.3,3.4,4.3,6.7C122,20.5,120.6,22.1,118.4,22.1\"/>\\n\\t<path d=\"M135.4,20.3V15c0-2.4-0.8-6-4.4-6c-2.6,0-3.9,2.5-3.9,2.1V9.3c0-0.3-0.2-0.5-0.3-0.5c-0.6,0-1.1,1-3.2,1.7\\n\\t\\tc-0.1,0-0.5,0-0.5,0.3c0,0.7,2.1-0.9,2.1,1.7v7.9c0,2.1-1.4,1.6-1.7,2.1c-0.2,0.3,0.3,0.3,0.6,0.3c0.3,0,0.9-0.1,2.3-0.1\\n\\t\\tc1.6,0,2.1,0.1,2.5,0.1c0.4,0,0.9-0.2,0.6-0.4c-0.4-0.4-2.4,0.1-2.4-2.1V13c0-0.5,0.9-2.5,3.2-2.5c2.2,0,3.1,2.4,3.1,4v6\\n\\t\\tc0,2.3-0.8,1.6-1.2,2.1c-0.2,0.3,0.1,0.4,0.5,0.4c0.3,0,0.9-0.1,1.9-0.1c1.3,0,1.9,0.1,2.2,0.1c0.3,0,0.8-0.2,0.5-0.4\\n\\t\\tC136.7,21.9,135.4,22.7,135.4,20.3\"/>\\n\\t<path d=\"M79.9,7.9c0.3,0,1.1-1.2,1.1-1.6c0-0.4-0.8-1.6-1.1-1.6c-0.3,0-1.1,1.3-1.1,1.6C78.8,6.6,79.6,7.9,79.9,7.9\"/>\\n\\t<path d=\"M62.1,15c-0.5-0.3-1.3-0.7-1.7-0.9c-1.7-0.9-2.3-1.5-2.4-2.4c-0.1-1.5,1.2-2.3,2.3-2.2c2.6,0,3,2.9,3.2,2.9\\n\\t\\tc0.4,0,0.3-0.4,0.3-1.2c0-0.2,0-1.3-0.1-1.6c-0.3-0.5-2.2-0.8-2.6-0.8c-0.1,0-0.5,0-0.6,0c-0.1,0-0.3,0-0.3,0\\n\\t\\tc-1.9,0-3.6,1.2-3.6,3.6c0.1,2.3,2.7,3.6,4.2,4.4c1.1,0.6,2.3,1.2,2.3,2.6c0,1.7-1.3,2.8-2.7,2.7c-3.3-0.1-2.8-4.1-3.4-4.1\\n\\t\\tc-0.4,0-0.3,1-0.3,1.6c0,0.5,0,1,0,1.4c-0.1,0.4-0.2,0.7-0.6,0.7c-1.3,0.1-1-2-1-3v-6.6c-0.1-2-1.6-3.4-3.9-3.4\\n\\t\\tc-3.2,0-5.5,3.9-4.4,5.2c0.3,0.3,1.3-0.8,1.4-0.9c0.1-0.1,0.1-0.1,0.1-0.1c0-1.3,1-3,2.4-3.2c1.6-0.2,2.5,1.1,2.5,2.7v2.2\\n\\t\\tC46.9,16,46,18,46,19.7c0,2.3,1.6,3.3,3.3,3.3c1.5,0,3-0.7,4.1-1.9c0.3,1.1,1,1.7,2.1,1.7c0.4,0,0.4,0.1,1.5-0.4\\n\\t\\tc0.4-0.1,0.4-0.1,0.8,0c0.6,0.2,1.4,0.6,2.7,0.6c2.1,0,4-1.9,4-4.3C64.5,17.2,64.1,16.3,62.1,15 M53.4,19.5c0,1.7-1.7,2.6-2.7,2.6\\n\\t\\tc-1.4,0-2.4-0.9-2.4-2.8c0-2.8,3.4-3.3,5.1-3.8V19.5z\"/>\\n\\t<path d=\"M280.5,19.7c-0.3,0-1.1,1.3-1.1,1.7c0,0.3,0.8,1.6,1.1,1.6c0.3,0,1.1-1.3,1.1-1.6S280.9,19.7,280.5,19.7\"/>\\n\\t<path d=\"M315.4,20.9V9.7c0-0.6-0.4-0.8-0.5-0.8c-0.4,0-0.6,0.1-0.9,0.2c-0.3,0.1-0.6,0.2-1.3,0.2c-0.1,0-0.8-0.1-0.8,0.3\\n\\t\\tc0,0.4,1.6,0.2,1.6,1.3v8.1c-0.1,1.4-1.3,3-2.7,3c-0.3,0-2.5-0.2-2.4-3.8V9.7c0-0.6-0.4-0.8-0.5-0.8c-0.4,0-0.6,0.1-0.9,0.2\\n\\t\\tc-0.3,0.1-0.6,0.2-1.4,0.2c-0.4,0-0.8-0.1-0.8,0.3c0.1,0.3,1.6,0,1.6,1.3v7.8c0,2.8,1.7,4.5,3.7,4.5c1.3,0,2.6-0.3,3.4-1.9h0.1v1.4\\n\\t\\tc0,0.1,0,0.5,0.2,0.5c0.4,0,0.6-0.3,0.9-0.4c0.3-0.1,0.4-0.3,1.3-0.4c0.4,0,0.9-0.2,0.9-0.5C316.7,21.1,315.4,21.7,315.4,20.9\"/>\\n\\t<path d=\"M299.6,8.8c-3.4,0-6,3.4-6,7.4c0,1.8,0.4,3.3,1.2,4.4c-0.8,0.6-2.3,1.1-5.1,1.1c-2.2,0-2-0.8-2-2.6V4.1\\n\\t\\tc0-2.8,2.1-2,2.1-2.5c0-0.3-0.3-0.3-0.6-0.3c-0.4,0-1.1,0.2-2.6,0.2c-1.3,0-2.4-0.1-3-0.1c-0.3,0-0.7,0.1-0.5,0.4\\n\\t\\tc0.3,0.6,2.2,0.1,2.2,1.7v15.6c0,1.5,0.2,2.4-0.5,2.8c-0.8,0.5-1.8,0.5-1.7,0.9c0.1,0.2,0.5,0.2,0.7,0.2c1,0,2.5-0.1,3.6-0.2\\n\\t\\tc2-0.1,4,0.1,6,0.1c1.2,0,1.4-0.2,2.3-1.4c0,0,0,0,0-0.1c1,1,2.4,1.5,4,1.5c3.3,0,5.8-3,5.8-7C305.4,10,301.6,8.8,299.6,8.8\\n\\t\\t M299.8,22.1c-3.1,0-4.4-3.9-4.4-7c0-2.7,1.1-5.3,3.7-5.3c3.2,0,4.3,3.4,4.3,6.7C303.5,20.5,302.1,22.1,299.8,22.1\"/>\\n\\t<path d=\"M266.7,11.3c-0.8-0.4-1.9-1.1-2.5-1.4c-2.4-1.4-3.4-2.3-3.5-3.6c-0.1-2.3,2.1-3.6,3.7-3.5c2,0,3.7,1.2,4.4,3.9\\n\\t\\tc0.1,0.3,0.3,0.9,0.6,0.9c0.2,0,0.3-0.2,0.2-0.5l-0.3-4.2c0-0.3-0.1-0.4-0.3-0.4c-0.2,0-0.4,0.3-0.6,0.3c-0.3,0-1.1-1.2-3.9-1.1\\n\\t\\tc-0.2,0-0.4,0-0.4,0c-2.7,0-5.3,1.8-5.2,5.6c0.1,3.5,4,5.5,6.1,6.8c1.6,0.9,3.2,2.4,3.1,4.1c-0.1,2.5-1.7,4.2-3.7,4.1\\n\\t\\tc-4.7-0.1-4.1-6.3-4.9-6.3c-0.6,0-0.5,1.6-0.5,2.4c0,2-0.1,3.6,0.1,3.9c0.1,0.1,0.3,0,0.8,0c0.9,0,2.1,1.1,4.8,1.1\\n\\t\\tc3.1,0,5.6-2.8,5.6-6.5C270.3,14.6,269.7,13.2,266.7,11.3\"/>\\n\\t<path d=\"M320.1,7.9c0.3,0,1.1-1.2,1.1-1.6c0-0.4-0.8-1.6-1.1-1.6c-0.3,0-1.1,1.3-1.1,1.6C319,6.6,319.8,7.9,320.1,7.9\"/>\\n\\t<path d=\"M322.9,22.2c-0.5,0-1.7-0.2-1.7-1.4V9.3c0-0.3-0.2-0.5-0.3-0.5c-0.6,0-1,1.1-2.7,1.7c-0.1,0-0.4,0.1-0.4,0.2\\n\\t\\tc0,0.7,1.5-0.6,1.5,1.8V20c0.1,1.9-1,2.1-1.6,2.1c-0.9,0-0.7,0.1-0.7,0.4c0,0.3,0.5,0.3,1.4,0.3c0.3,0,1-0.1,1.9-0.1\\n\\t\\tc1.1,0,1.9,0.1,2.5,0.1C323.1,22.9,323.6,22,322.9,22.2\"/>\\n\\t<path d=\"M329,15c-0.5-0.3-1.3-0.7-1.7-0.9c-1.7-0.9-2.3-1.5-2.4-2.4c-0.1-1.5,1.2-2.3,2.3-2.1c2.6,0,3,2.9,3.2,2.9\\n\\t\\tc0.4,0,0.3-0.4,0.3-1.2c0-0.2,0-1.3-0.1-1.6c-0.3-0.5-2.2-0.8-2.6-0.8c-0.1,0-0.5,0-0.6,0c-0.1,0-0.3,0-0.3,0\\n\\t\\tc-1.9,0-3.6,1.2-3.6,3.7c0.1,2.3,2.7,3.6,4.2,4.4c1.1,0.6,2.3,1.2,2.3,2.6c0,1.7-1.3,2.8-2.7,2.7c-3.3-0.1-2.8-4.1-3.4-4.1\\n\\t\\tc-0.4,0-0.3,1-0.3,1.6c0,1.3-0.1,2.3,0.1,2.5c0,0.1,0.2,0,0.5,0c0.6,0,1.4,0.7,3.3,0.7c2.1,0,4-1.9,4-4.3\\n\\t\\tC331.5,17.2,331,16.3,329,15\"/>\\n\\t<path d=\"M278.7,20.9c-0.3,0.1-0.9,0.8-2.3,0.8c-1.1,0-1.7-0.7-1.8-2.1v-9.1c0,0,3.3,0,3.5,0c0.2,0,0.7-1.5,0.7-1.6\\n\\t\\tc0-0.2,0.1-0.3,0.1-0.5c0-0.3-0.2-0.3-0.4,0c-0.2,0.2-0.3,0.6-1,0.6h-2.9c0-2.5,0-3.1-0.4-3.1c-0.4,0-0.3,0.1-0.7,1.2\\n\\t\\tc-0.6,1.9-2.6,2.7-3.2,3.1c-0.2,0.1-0.1,0.1-0.2,0.2c0,0.2,0.8,0.1,2.4,0.2l0,8.3c0,3.6,1.7,4.2,3,4.2c1.9,0,3.3-1.4,3.4-1.9\\n\\t\\tC278.9,20.9,278.9,20.9,278.7,20.9\"/>\\n\\t<path d=\"M194.7,19.8c-0.6,0-1.5,1.7-3.8,1.7c-1.6,0-4.3-1.6-4.3-6.9h7.1c0.6,0,0.9,0,0.9-0.5c0-1.3-1.4-5.1-4.7-5.1\\n\\t\\tc-3.3,0-5.3,3.4-5.3,7.5c0,2.1,1.4,6.6,5.4,6.6c2.4,0,4.7-2.3,4.7-3.1C194.8,19.9,194.8,19.8,194.7,19.8 M189.5,9.6\\n\\t\\tc1.5,0,3,1.6,3,3.4c0,0.5-0.2,0.6-0.5,0.6h-5.3C186.6,11.9,187.8,9.6,189.5,9.6\"/>\\n\\t<path d=\"M156.7,2.1c0.1-0.2-0.3-0.2-0.4-0.2c-0.4,0-1.4,0.1-1.9,0.1c-0.9,0-1.7-0.1-2.6-0.1c-0.1,0-0.5,0.1-0.5,0.2\\n\\t\\tc0,0.7,2.2-0.1,2.2,2.7v10.9c0,3.2-1,6.6-5.5,6.6c-3.2,0-4.9-2-4.9-6.4V4c0-2,1.5-1.5,1.6-2c0-0.4-1.4-0.2-1.5-0.2\\n\\t\\tc-0.7,0-1.2,0.1-2,0.1c-0.6,0-1.4-0.1-2-0.1c-0.1,0-0.6,0-0.6,0.2c-0.2,0.6,2,0.3,2,1.9v11.3c0,4.2,1.2,8.3,7.4,8.2\\n\\t\\tc7.4-0.1,7.2-6.8,7.2-8.1V4.7C155.3,2.2,156.5,2.4,156.7,2.1\"/>\\n\\t<path d=\"M185.9,9.5c0.2-0.2,0.2-0.5-0.6-0.5c-0.5,0-0.8,0.1-1.3,0.1c-0.6,0-0.7,0-1.3,0c-0.7,0-0.9,0.1-0.9,0.3\\n\\t\\tc0.1,0.6,1.6,0,1.4,1.9c-0.2,1.5-0.7,2.9-1.2,4.2l-1.8,4.8l-2.6-7.9c-0.3-1-0.5-1.5-0.5-1.6c0-1,1.2-0.8,1.5-1.2\\n\\t\\tc0.2-0.3-0.2-0.4-0.6-0.4c-0.3,0-0.7,0.1-1.7,0.1c-0.8,0-1.4,0-1.8,0c-0.9-0.2-0.9,0.3-0.5,0.5c0.3,0.2,0.5,0,0.9,1.4l4,11.4\\n\\t\\tc0.1,0.2,0.2,0.8,0.5,0.8c0.4,0,0.4-0.4,0.9-1.8c0,0,3.9-10.8,4.1-11.2C185.3,9.5,185.7,9.8,185.9,9.5\"/>\\n\\t<path d=\"M200.8,9c-1.1,0-1.9,1.3-2.4,2.2h-0.1v-2c0-0.3-0.2-0.5-0.3-0.5c-0.4,0-0.7,0.8-3,1.4c-0.1,0-0.5,0.1-0.5,0.3\\n\\t\\tc0,0.7,1.9-0.2,1.9,2v8.3c0,1.3-1.3,1.2-1.3,1.8c0,0.2,0.1,0.3,0.3,0.3c0.2,0,0.7-0.1,2.4-0.1c1.5,0,2.1,0.1,2.5,0.1\\n\\t\\tc0.3,0,0.4-0.1,0.4-0.3c0-1-2.3,0.5-2.3-2.4V13c0-0.4,0.6-1.9,1.7-1.9c0.9,0,1.1,0.7,1.5,0.7c0.3,0,0.9-0.9,0.9-1.4\\n\\t\\tC202.5,9.8,201.3,9,200.8,9\"/>\\n\\t<path d=\"M234.4,9.1c-0.3,0-1,0-1.6,0c-0.8,0-1.2-0.1-1.5-0.1c-0.5,0-1,0-0.9,0.3c0.1,0.4,1.8,0.2,1.8,2.1c0,0.2,0,0.5-0.3,1.8\\n\\t\\tl-2.2,6.8l-3-8.4c0,0-0.1-0.3-0.1-0.8c0-1.4,1.6-1.2,1.7-1.5c0.1-0.2-0.2-0.4-0.6-0.4c-0.4,0-1.1,0-2.1,0c-0.2,0-0.3,0-0.4,0\\n\\t\\tc0,0,0,0,0,0h-1.2c0,0,0,0,0,0h-2.9c0-2.5,0-3.1-0.4-3.1c-0.4,0-0.3,0.1-0.7,1.2c-0.6,1.9-2.6,2.7-3.2,3.1\\n\\t\\tc-0.2,0.1-0.1,0.1-0.2,0.2c0,0.2,0.8,0.1,2.4,0.2l0,8.3c0,3.6,1.7,4.2,3,4.2c1.9,0,3.3-1.4,3.4-1.9c0-0.3,0-0.3-0.2-0.3\\n\\t\\tc-0.3,0.1-0.9,0.8-2.3,0.8c-1.1,0-1.7-0.7-1.8-2.1v-9.1c0,0,2.6,0,3.3,0c0,0.1,0.1,0.1,0.1,0.2l3.1,8.7c0.3,0.7,0.4,0.9,0.7,2.2\\n\\t\\tc0.2,0.8,0.1,1.6,0.1,1.6c-0.3,1.3-1.1,2.1-2.3,4.5c-0.1,0.2,1.8,0,1.9-0.1c0.2,0,0.1-0.1,0.3-0.4l1.4-4.1l3.8-11.7\\n\\t\\tc0.6-2,1.4-1.7,1.6-2C234.9,9.3,234.8,9.1,234.4,9.1\"/>\\n\\t<polygon points=\"229.5,22.9 229.4,23.1 229.4,23.2 \\t\"/>\\n\\t<path d=\"M214.2,7.9c0.3,0,1.1-1.2,1.1-1.6c0-0.4-0.8-1.6-1.1-1.6c-0.3,0-1.1,1.3-1.1,1.6C213.1,6.6,213.9,7.9,214.2,7.9\"/>\\n\\t<path d=\"M217,22.2c-0.5,0-1.7-0.2-1.7-1.4V9.3c0-0.3-0.2-0.5-0.3-0.5c-0.6,0-1,1.1-2.7,1.7c-0.1,0-0.4,0.1-0.4,0.2\\n\\t\\tc0,0.7,1.5-0.6,1.5,1.8V20c0.1,1.9-1,2.1-1.6,2.1c-0.9,0-0.7,0.1-0.7,0.4c0,0.3,0.5,0.3,1.4,0.3c0.3,0,1-0.1,1.9-0.1\\n\\t\\tc1.1,0,1.9,0.1,2.5,0.1C217.2,22.9,217.7,22,217,22.2\"/>\\n\\t<path d=\"M172,7.9c0.3,0,1.1-1.2,1.1-1.6c0-0.4-0.8-1.6-1.1-1.6c-0.3,0-1.1,1.3-1.1,1.6C170.9,6.6,171.6,7.9,172,7.9\"/>\\n\\t<path d=\"M174.7,22.2c-0.5,0-1.7-0.2-1.7-1.4V9.3c0-0.3-0.2-0.5-0.3-0.5c-0.6,0-1,1.1-2.7,1.7c-0.1,0-0.4,0.1-0.4,0.2\\n\\t\\tc0,0.7,1.5-0.6,1.5,1.8V20c0.1,1.9-1,2.1-1.6,2.1c-0.1,0-0.1,0-0.2,0c-0.6-0.1-1.1-0.3-1.1-1.9V15c0-2.4-0.8-6-4.4-6\\n\\t\\tc-2.6,0-3.9,2.5-3.9,2.1V9.3c0-0.3-0.2-0.5-0.3-0.5c-0.6,0-1.1,1-3.2,1.7c-0.1,0-0.5,0-0.5,0.3c0,0.7,2.1-0.9,2.1,1.7v7.9\\n\\t\\tc0,2.1-1.4,1.6-1.7,2.1c-0.2,0.3,0.3,0.3,0.6,0.3c0.3,0,0.9-0.1,2.3-0.1c1.6,0,2.1,0.1,2.5,0.1c0.4,0,0.9-0.2,0.6-0.4\\n\\t\\tc-0.4-0.4-2.4,0.1-2.4-2.1V13c0-0.5,0.9-2.5,3.2-2.5c2.2,0,3.1,2.4,3.1,4v6c0,2.3-0.8,1.6-1.2,2.1c-0.2,0.3,0.1,0.4,0.5,0.4\\n\\t\\tc0.3,0,0.9-0.1,1.9-0.1c1.3,0,1.9,0.1,2.2,0.1c0,0,0.1,0,0.1,0c0.1,0,0.2,0,0.4,0c0.3,0,1-0.1,1.9-0.1c1.1,0,1.9,0.1,2.5,0.1\\n\\t\\tC175,22.9,175.4,22,174.7,22.2\"/>\\n\\t<path d=\"M208.5,15c-0.5-0.3-1.3-0.7-1.7-0.9c-1.7-0.9-2.3-1.5-2.4-2.4c-0.1-1.5,1.2-2.3,2.3-2.2c2.6,0,3,2.9,3.2,2.9\\n\\t\\tc0.4,0,0.3-0.4,0.3-1.2c0-0.2,0-1.3-0.1-1.6c-0.3-0.5-2.2-0.8-2.6-0.8c-0.1,0-0.5,0-0.6,0c-0.1,0-0.3,0-0.3,0\\n\\t\\tc-1.9,0-3.6,1.2-3.6,3.7c0.1,2.3,2.7,3.6,4.2,4.4c1.1,0.6,2.3,1.2,2.3,2.6c0,1.7-1.3,2.8-2.7,2.7c-3.3-0.1-2.8-4.1-3.4-4.1\\n\\t\\tc-0.4,0-0.3,1-0.3,1.6c0,1.3-0.1,2.4,0.1,2.5c0,0.1,0.2,0,0.5,0c0.6,0,1.4,0.7,3.3,0.7c2.1,0,4-1.9,4-4.3\\n\\t\\tC210.9,17.2,210.5,16.3,208.5,15\"/>\\n\\t<path d=\"M10.8,1.3L10.8,1.3L10.8,1.3L10.8,1.3C10.7,1.3,6.2,1.3,0,0v18v0c0,0.3,0,0.5,0,0.5l0,0v0c0,0.8,0.3,1.5,0.8,2.1\\n\\t\\tc0.3,0.4,0.8,0.7,1.4,1.1c0.2,0.1,0.4,0.2,0.6,0.3c0.2,0.1,0.3,0.1,0.5,0.2c0.1,0.1,0.6,0.2,0.7,0.3l6.8,2.6l6.8-2.6\\n\\t\\tc0.1-0.1,0.6-0.2,0.7-0.3h0c0.2-0.1,0.3-0.1,0.5-0.2c0.2-0.1,0.4-0.2,0.6-0.3c0.6-0.4,1.1-0.7,1.4-1.1c0.5-0.6,0.7-1.2,0.8-2.1l0,0\\n\\t\\tv0c0,0,0-0.2,0-0.5v0V0C15.4,1.3,10.9,1.3,10.8,1.3 M20.7,17.6L20.7,17.6c0,0.3,0,0.5,0,0.5v0l0,0c0,0.8-0.3,1.4-0.7,1.9\\n\\t\\tc-0.3,0.3-0.7,0.7-1.3,1c-0.2,0.1-0.3,0.2-0.5,0.3c-0.1,0.1-0.3,0.1-0.4,0.2l0,0c-0.1,0.1-0.5,0.2-0.7,0.3l-6.2,2.4l-6.2-2.4\\n\\t\\tc-0.1,0-0.5-0.2-0.7-0.3l0,0c-0.2-0.1-0.3-0.1-0.4-0.2C3.3,21.2,3.1,21.1,3,21c-0.6-0.3-1-0.7-1.3-1c-0.5-0.5-0.7-1.1-0.7-1.9l0,0\\n\\t\\tv0c0,0,0-0.2,0-0.4v0V1.2c5.7,1.2,9.8,1.1,9.9,1.1h0h0c0.1,0,4.2,0,9.9-1.1V17.6z\"/>\\n\\t<path d=\"M10.8,3.3L10.8,3.3L10.8,3.3c-0.1,0-3.8,0-9-1v4.2c5.2,1.1,8.9,1,9,1l0,0h0c0.1,0,3.8,0,9-1V2.3\\n\\t\\tC14.6,3.3,10.9,3.3,10.8,3.3 M6,6.6L5,5.8L3.9,6.6l0.4-1.3L3.2,4.5l1.3,0L5,3.2l0.4,1.3l1.3,0L5.6,5.3L6,6.6z M16.2,4.5l0.4-1.3\\n\\t\\tl0.4,1.3l1.3,0l-1.1,0.8l0.4,1.3l-1.1-0.8l-1.1,0.8L16,5.3l-1.1-0.8L16.2,4.5z M12.6,5l-1.1,0.8l0.4,1.3l-1.1-0.8L9.7,7.1l0.4-1.3\\n\\t\\tL9,5l1.3,0l0.4-1.3L11.2,5L12.6,5z\"/>\\n\\t<path d=\"M10.8,16.9L10.8,16.9C10.8,16.9,10.8,16.9,10.8,16.9c-0.1,0-3.8,0-9-1v1.5c0,0.2,0,0.4,0,0.4l0,0v0c0,0.7,0.2,1.3,0.7,1.7\\n\\t\\tc0.3,0.3,0.7,0.6,1.2,0.9c0.1,0.1,0.3,0.2,0.5,0.2c0.1,0.1,0.3,0.1,0.4,0.2v0c0.1,0,0.5,0.2,0.6,0.3l5.7,2.2l5.7-2.2\\n\\t\\tc0.1,0,0.5-0.2,0.6-0.3l0,0c0.1-0.1,0.3-0.1,0.4-0.2c0.2-0.1,0.3-0.2,0.5-0.2c0.5-0.3,0.9-0.6,1.2-0.9c0.4-0.5,0.6-1,0.7-1.7l0,0v0\\n\\t\\tc0,0,0-0.2,0-0.4v0v-1.5C14.6,16.9,10.9,16.9,10.8,16.9 M4.6,19.8l-0.2,0.2L4,19.8v-0.3h0.6V19.8z M4.6,19.2H4.2v-0.5l-0.3-0.3\\n\\t\\tl-0.4,0.3l-0.3-0.3V18h0.9l0.4,0.4V19.2z M5,20.6l-0.3-0.4l0.2-0.3v-0.5h0.3v0.5l0.2,0.3L5,20.6z M5.3,18L5.3,18l-0.2,0.5v0.8H4.8\\n\\t\\tv-0.8L4.6,18v-0.9L5,16.7l0.3,0.3V18z M5.9,19.8l-0.4,0.3l-0.2-0.2v-0.4h0.6V19.8z M6.6,18.4l-0.3,0.3L6,18.4l-0.3,0.3v0.5H5.4\\n\\t\\tv-0.8L5.7,18h0.9V18.4z M10.2,21.6l-0.3,0.3l-0.5-0.4v-0.4h0.8V21.6z M10.2,20.7H9.8v-0.7l-0.4-0.5l-0.6,0.4l-0.4-0.4V19h1.3\\n\\t\\tl0.6,0.6V20.7z M10.8,22.8l-0.5-0.6l0.2-0.4v-0.7H11v0.7l0.2,0.4L10.8,22.8z M16.2,19.8L16,20.1l-0.4-0.3v-0.3h0.6V19.8z M17,18.4\\n\\t\\tl0.4-0.4h0.9v0.4l-0.3,0.3l-0.4-0.3l-0.3,0.3v0.5H17V18.4z M17,19.5h0.6v0.3l-0.4,0.3L17,19.8V19.5z M16.3,18L16.3,18v-0.9l0.3-0.3\\n\\t\\tl0.3,0.3V18l-0.2,0.5v0.8h-0.3v-0.8L16.3,18z M16.5,19.9v-0.5h0.3v0.5l0.2,0.3l-0.3,0.4l-0.3-0.4L16.5,19.9z M15,18h0.9l0.4,0.4\\n\\t\\tv0.8h-0.3v-0.5l-0.3-0.3l-0.4,0.3L15,18.4V18z M11.4,19.6l0.6-0.6h1.3v0.6l-0.4,0.4l-0.6-0.4l-0.4,0.5v0.7h-0.5V19.6z M11.4,21.1\\n\\t\\th0.8v0.4l-0.5,0.4l-0.3-0.3V21.1z M11.3,18.9L11.3,18.9L11,19.6v1.1h-0.5v-1.1l-0.2-0.7v-1.3l0.5-0.5l0.5,0.5V18.9z\"/>\\n\\t<polygon points=\"11.2,14.6 10.8,15 10.4,14.6 10.1,14.4 6.5,14.4 6.5,9 5.7,9.6 5.7,15.1 10,15.1 10.4,15.4 10.8,15.8 11.2,15.4\\n\\t\\t11.6,15.1 15.9,15.1 15.9,9.6 15.1,9 15.1,14.4 11.5,14.4 \\t\"/>\\n\\t<polygon points=\"10.4,8.7 10.2,8.5 7.3,8.5 7.3,13.6 10.2,13.6 10.4,13.8 10.8,14.1 11.2,13.8 11.4,13.6 14.3,13.6 14.3,8.5\\n\\t\\t11.4,8.5 11.2,8.7 10.8,9.1 \\t\"/>\\n\\t<path d=\"M16.6,13.5c1-0.1,2-0.3,3.2-0.6v-1.4v-2c-1.1,0.2-2.2,0.4-3.2,0.6V13.5z\"/>\\n\\t<path d=\"M5,10.1c-1-0.1-2-0.3-3.2-0.6v2V13C2.9,13.2,4,13.4,5,13.5V10.1z\"/>\\n</g>\\n</symbol>\\n\\n<symbol id=\"arrow-next\" viewBox=\"0 0 25 41\">\\n<path d=\"M1.7,40.9c-0.4,0-0.8-0.2-1.1-0.5C0,39.7,0,38.8,0.7,38.2l20-17.7L0.7,2.8C0,2.3,0,1.3,0.5,0.7C1.1,0,2.1,0,2.7,0.5L24,19.4\\n\\tc0.3,0.3,0.5,0.7,0.5,1.1c0,0.4-0.2,0.9-0.5,1.1L2.7,40.5C2.4,40.8,2,40.9,1.7,40.9z\"/>\\n</symbol>\\n\\n<symbol id=\"arrow-prev\" viewBox=\"0 0 25 41\">\\n<path d=\"M23.4,40.9c0.4,0,0.8-0.2,1.1-0.5c0.6-0.6,0.5-1.6-0.1-2.2l-20-17.7l20-17.7c0.6-0.6,0.7-1.5,0.1-2.2C24,0,23,0,22.4,0.5\\n\\tL1,19.4c-0.3,0.3-0.5,0.7-0.5,1.1c0,0.4,0.2,0.9,0.5,1.1l21.3,18.8C22.6,40.8,23,40.9,23.4,40.9z\"/>\\n</symbol>\\n\\n<symbol id=\"twitter\" viewBox=\"0 0 16.5 17\">\\n<path d=\"M14.6,5.3c0,0.1,0,0.3,0,0.4c0,4.3-3.3,9.2-9.2,9.2c-1.8,0-3.5-0.5-5-1.5c0.3,0,0.5,0,0.8,0c1.5,0,2.9-0.5,4-1.4\\n\\tc-1.4,0-2.6-1-3-2.2c0.2,0,0.4,0.1,0.6,0.1c0.3,0,0.6,0,0.9-0.1C2.2,9.5,1,8.2,1,6.6c0,0,0,0,0,0C1.5,6.8,2,7,2.5,7\\n\\tC1.6,6.4,1.1,5.4,1.1,4.3c0-0.6,0.2-1.2,0.4-1.6c1.6,2,4,3.3,6.7,3.4C8.1,5.8,8.1,5.6,8.1,5.3c0-1.8,1.4-3.2,3.2-3.2\\n\\tc0.9,0,1.8,0.4,2.4,1c0.7-0.1,1.4-0.4,2.1-0.8c-0.2,0.8-0.8,1.4-1.4,1.8C15,4,15.6,3.9,16.2,3.6C15.8,4.2,15.2,4.8,14.6,5.3z\"/>\\n</symbol>\\n\\n<symbol id=\"facebook\" viewBox=\"0 0 16.5 17\">\\n<path d=\"M12.4,2.9h-1.6c-1.2,0-1.5,0.6-1.5,1.4v1.9h2.9l-0.4,3H9.3v7.6H6.3V9.2H3.7v-3h2.6V4.1c0-2.5,1.6-3.9,3.8-3.9\\n\\tc1.1,0,2,0.1,2.3,0.1V2.9z\"/>\\n</symbol>\\n\\n<symbol id=\"instagram\" viewBox=\"0 0 16.5 17\">\\n\\t<path d=\"M8.2,1.9c2.2,0,2.4,0,3.3,0c0.8,0,1.2,0.2,1.5,0.3c0.4,0.1,0.6,0.3,0.9,0.6c0.3,0.3,0.5,0.6,0.6,0.9\\n\\t\\tc0.1,0.3,0.2,0.7,0.3,1.5c0,0.9,0,1.1,0,3.3s0,2.4,0,3.3c0,0.8-0.2,1.2-0.3,1.5c-0.1,0.4-0.3,0.6-0.6,0.9c-0.3,0.3-0.6,0.5-0.9,0.6\\n\\t\\tc-0.3,0.1-0.7,0.2-1.5,0.3c-0.9,0-1.1,0-3.3,0s-2.4,0-3.3,0c-0.8,0-1.2-0.2-1.5-0.3c-0.4-0.1-0.6-0.3-0.9-0.6\\n\\t\\tc-0.3-0.3-0.5-0.6-0.6-0.9c-0.1-0.3-0.2-0.7-0.3-1.5c0-0.9,0-1.1,0-3.3s0-2.4,0-3.3c0-0.8,0.2-1.2,0.3-1.5c0.1-0.4,0.3-0.6,0.6-0.9\\n\\t\\tc0.3-0.3,0.6-0.5,0.9-0.6C3.8,2.1,4.2,2,5,1.9C5.8,1.9,6.1,1.9,8.2,1.9 M8.2,0.4c-2.2,0-2.5,0-3.3,0c-0.9,0-1.4,0.2-2,0.4\\n\\t\\tC2.4,1,2,1.3,1.5,1.8C1.1,2.2,0.8,2.7,0.6,3.2c-0.2,0.5-0.3,1.1-0.4,2c0,0.9,0,1.1,0,3.3c0,2.2,0,2.5,0,3.3c0,0.9,0.2,1.4,0.4,2\\n\\t\\tc0.2,0.5,0.5,1,0.9,1.4C2,15.7,2.4,16,3,16.2c0.5,0.2,1.1,0.3,2,0.4c0.9,0,1.1,0,3.3,0s2.5,0,3.3,0c0.9,0,1.4-0.2,2-0.4\\n\\t\\tc0.5-0.2,1-0.5,1.4-0.9c0.4-0.4,0.7-0.9,0.9-1.4c0.2-0.5,0.3-1.1,0.4-2c0-0.9,0-1.1,0-3.3s0-2.5,0-3.3c0-0.9-0.2-1.4-0.4-2\\n\\t\\tc-0.2-0.5-0.5-1-0.9-1.4c-0.4-0.4-0.9-0.7-1.4-0.9c-0.5-0.2-1.1-0.3-2-0.4C10.7,0.4,10.4,0.4,8.2,0.4L8.2,0.4z\"/>\\n\\t<path d=\"M8.2,4.3C6,4.3,4.1,6.2,4.1,8.5s1.9,4.2,4.2,4.2s4.2-1.9,4.2-4.2S10.5,4.3,8.2,4.3z M8.2,11.2c-1.5,0-2.7-1.2-2.7-2.7\\n\\t\\ts1.2-2.7,2.7-2.7s2.7,1.2,2.7,2.7S9.7,11.2,8.2,11.2z\"/>\\n\\t<circle cx=\"12.6\" cy=\"4.2\" r=\"1\"/>\\n</symbol>\\n\\n<symbol id=\"linkedin\" viewBox=\"0 0 16.5 17\">\\n<path d=\"M2.4,4.6L2.4,4.6c-1.1,0-1.8-0.8-1.8-1.7c0-1,0.7-1.7,1.9-1.7c1.1,0,1.8,0.7,1.8,1.7C4.3,3.8,3.5,4.6,2.4,4.6z M4,15.9H0.7\\n\\tV5.9H4V15.9z M16,15.9h-3.3v-5.3c0-1.3-0.5-2.2-1.7-2.2c-0.9,0-1.5,0.6-1.7,1.2C9.2,9.7,9.2,10,9.2,10.3v5.6H5.9c0-9,0-9.9,0-9.9\\n\\th3.3v1.4h0c0.4-0.7,1.2-1.7,3-1.7c2.2,0,3.8,1.4,3.8,4.5V15.9z\"/>\\n</symbol>\\n\\n<symbol id=\"youtube\" viewBox=\"0 0 40 28.2\">\\n\\t<path d=\"M39.4,6.2c0,0-0.4-2.7-1.6-3.9c-1.5-1.6-3.2-1.6-4-1.7C28.3,0.2,20,0.2,20,0.2h0c0,0-8.3,0-13.8,0.4\\n\\t\\t\\tc-0.8,0.1-2.5,0.1-4,1.7C1,3.5,0.6,6.2,0.6,6.2s-0.4,3.2-0.4,6.4v3c0,3.2,0.4,6.4,0.4,6.4s0.4,2.7,1.6,3.9\\n\\t\\t\\tc1.5,1.6,3.5,1.5,4.4,1.7C9.7,27.9,20,28,20,28s8.3,0,13.8-0.4c0.8-0.1,2.5-0.1,4-1.7c1.2-1.2,1.6-3.9,1.6-3.9s0.4-3.2,0.4-6.4v-3\\n\\t\\t\\tC39.8,9.4,39.4,6.2,39.4,6.2z M15.9,19.2l0-11.1l10.7,5.6L15.9,19.2z\"/>\\n</symbol>\\n\\n<symbol id=\"link-arrow\" viewBox=\"0 0 40.4 23.8\">\\n<path d=\"M39.7,10.6l-9.9-9.9c-0.7-0.7-1.7-0.7-2.4,0c-0.7,0.7-0.7,1.7,0,2.4l7,7H1.9c-0.9,0-1.7,0.8-1.7,1.7c0,0.9,0.8,1.7,1.7,1.7\\n\\th32.5l-7,7c-0.7,0.7-0.7,1.7,0,2.4c0.3,0.3,0.8,0.5,1.2,0.5c0.4,0,0.9-0.2,1.2-0.5l9.9-9.9C40.4,12.4,40.4,11.3,39.7,10.6z\"/>\\n</symbol>\\n\\n<symbol id=\"video\" viewBox=\"0 0 82.9 82.7\">\\n\\t<path d=\"M56.2,43.8L34.8,56.2c-2,1.1-3.6,0.2-3.6-2.1l-0.1-25c0-2.3,1.6-3.2,3.5-2l21.6,12.6C58.2,40.8,58.2,42.6,56.2,43.8z\\n\\t\\t M62,77C42.3,88.4,17.1,81.6,5.8,61.9C-5.6,42.2,1.2,17,20.9,5.7C40.6-5.7,65.8,1.1,77.1,20.8C88.4,40.4,81.7,65.6,62,77z\\n\\t\\t M69.9,24.8C60.8,9,40.7,3.6,24.9,12.7c-15.8,9.1-21.2,29.2-12.1,45s29.2,21.2,45,12.1S79,40.6,69.9,24.8z\"/>\\n</symbol>\\n\\n<symbol id=\"time\" viewBox=\"0 0 28.5 28.4\">\\n<path d=\"M14.3,28.3c-3.6,0-7.2-1.4-10-4.1c-5.5-5.5-5.5-14.5,0-20c5.5-5.5,14.5-5.5,20,0c5.5,5.5,5.5,14.5,0,20\\n\\tC21.5,26.9,17.9,28.3,14.3,28.3z M14.3,3.5c-2.7,0-5.5,1-7.5,3.1c-4.2,4.2-4.2,10.9,0,15.1s10.9,4.2,15.1,0c4.2-4.2,4.2-10.9,0-15.1\\n\\tC19.7,4.6,17,3.5,14.3,3.5z\"/>\\n<path d=\"M15.7,16.2H9.5c-0.6,0-1-0.4-1-1s0.4-1,1-1h4.2V8.5c0-0.6,0.4-1,1-1s1,0.4,1,1V16.2z\"/>\\n</symbol>\\n\\n<symbol id=\"location\" viewBox=\"0 0 32 48\">\\n\\t<path d=\"M30.6,21.7L19.5,45.3c-0.6,1.3-2,2.2-3.5,2.2s-2.9-0.8-3.5-2.2L1.3,21.7c-0.8-1.7-1-3.6-1-5.5c0-8.7,7-15.7,15.7-15.7\\n\\t\\ts15.7,7,15.7,15.7C31.6,18.1,31.4,20,30.6,21.7z M16,8.4c-4.3,0-7.8,3.5-7.8,7.8S11.7,24,16,24s7.8-3.5,7.8-7.8S20.3,8.4,16,8.4z\"\\n\\t\\t/>\\n</symbol>\\n\\n<symbol id=\"calendar\" viewBox=\"0 0 25 25\">\\n\\t<path d=\"M24,23.1c0,1-0.8,1.8-1.8,1.8H2.8c-1,0-1.8-0.8-1.8-1.8V5.4c0-1,0.8-1.8,1.8-1.8h1.8V2.4c0-1.2,1-2.2,2.2-2.2h0.9\\n\\t\\tc1.2,0,2.2,1,2.2,2.2v1.3h5.3V2.4c0-1.2,1-2.2,2.2-2.2h0.9c1.2,0,2.2,1,2.2,2.2v1.3h1.8c1,0,1.8,0.8,1.8,1.8V23.1z M6.8,12.9V9h-4\\n\\t\\tv4H6.8z M6.8,18.2v-4.4h-4v4.4H6.8z M6.8,23.1v-4h-4v4H6.8z M8.1,2.4c0-0.2-0.2-0.4-0.4-0.4H6.8c-0.2,0-0.4,0.2-0.4,0.4v4\\n\\t\\tc0,0.2,0.2,0.4,0.4,0.4h0.9c0.2,0,0.4-0.2,0.4-0.4V2.4z M12.1,12.9V9H7.6v4H12.1z M12.1,18.2v-4.4H7.6v4.4H12.1z M12.1,23.1v-4H7.6\\n\\t\\tv4H12.1z M17.4,12.9V9h-4.4v4H17.4z M17.4,18.2v-4.4h-4.4v4.4H17.4z M17.4,23.1v-4h-4.4v4H17.4z M18.7,2.4c0-0.2-0.2-0.4-0.4-0.4\\n\\t\\th-0.9c-0.2,0-0.4,0.2-0.4,0.4v4c0,0.2,0.2,0.4,0.4,0.4h0.9c0.2,0,0.4-0.2,0.4-0.4V2.4z M22.2,12.9V9h-4v4H22.2z M22.2,18.2v-4.4h-4\\n\\t\\tv4.4H22.2z M22.2,23.1v-4h-4v4H22.2z\"/>\\n</symbol>\\n\\n<symbol id=\"academic-calendar\" viewBox=\"0 0 56.6 56.6\">\\n<path d=\"M53.9,0.8H2.7c-1.1,0-1.9,0.9-1.9,1.9v51.1c0,1.1,0.9,1.9,1.9,1.9h51.1c1.1,0,1.9-0.9,1.9-1.9V2.7\\n\\tC55.8,1.6,54.9,0.8,53.9,0.8z M45.4,10.1c0,1.5-1.2,2.7-2.7,2.7c-1.5,0-2.7-1.2-2.7-2.7s1.2-2.7,2.7-2.7\\n\\tC44.2,7.4,45.4,8.6,45.4,10.1z M16.5,10.1c0,1.5-1.2,2.7-2.7,2.7s-2.7-1.2-2.7-2.7s1.2-2.7,2.7-2.7S16.5,8.6,16.5,10.1z M40.5,49\\n\\tv-8.5H49L40.5,49z M38.6,36.6c-1.1,0-1.9,0.9-1.9,1.9v13.3h-32V17.9h47.3v18.8H38.6z\"/>\\n<rect y=\"0\" fill=\"none\" width=\"56.6\" height=\"56.6\"/>\\n</symbol>\\n\\n<symbol id=\"person-contact\" viewBox=\"0 0 6000 6000\">\\n\\t\\t<path d=\"M956 5643 c-12 -313 -27 -617 -47 -943 -10 -179 -22 -406 -25 -505 l-7 -180 41 -46 c49 -55 79 -72 447 -242 675 -312 821 -381 837 -396 9 -9 41 -80 73 -159 57 -145 90 -266 77 -287 -4 -7 -38 -39 -77 -72 -270 -231 -442 -534 -507 -892 -29 -162 -29 -419 0 -581 94 -521 431 -944 876 -1099 120 -42 236 -61 376 -61 333 0 621 127 865 381 201 210 335 481 391 794 12 71 18 151 18 275 0 194 -15 303 -65 475 -39 132 -152 358 -232 465 -76 100 -221 242 -301 295 -70 47 -70 55 -15 225 45 138 64 175 113 217 56 50 664 349 867 428 148 57 346 164 405 218 l54 49 0 97 c0 53 -5 182 -10 286 -18 335 -41 903 -46 1145 -3 129 -7 245 -10 258 l-4 22 -2044 0 -2044 0 -6 -167z\"/>\\n\\n</symbol>\\n\\n\\n<symbol id=\"link-out\" viewBox=\"0 0 25 25\">\\n<path d=\"M22.5,0.2H2.6c-1.3,0-2.3,1.1-2.3,2.3v19.9c0,1.3,1.1,2.3,2.3,2.3h19.9c1.3,0,2.3-1.1,2.3-2.3V2.5\\n\\tC24.8,1.2,23.8,0.2,22.5,0.2z M20,16.3c0,0.8-0.6,1.4-1.4,1.4s-1.4-0.6-1.4-1.4V9.9l-8.9,8.9c-0.3,0.3-0.6,0.4-1,0.4\\n\\tc-0.4,0-0.7-0.1-1-0.4c-0.5-0.5-0.5-1.4,0-2l8.9-8.9H8.8C8,7.9,7.3,7.3,7.3,6.5S8,5.1,8.8,5.1l10,0c0.1,0,0.2,0,0.4,0.1\\n\\tc0.3,0.1,0.6,0.4,0.8,0.8C19.9,6.1,20,6.3,20,6.5V16.3z\"/>\\n</symbol>\\n\\n<symbol id=\"circle-arrow\" viewBox=\"0 0 88 88\">\\n\\t<path d=\"M44,0.5C20,0.5,0.5,20,0.5,44S20,87.5,44,87.5C68,87.5,87.5,68,87.5,44S68,0.5,44,0.5 M69.3,47.5L52.2,64.6\\n\\t\\tc-1,1-2.3,1.5-3.5,1.5c-1.3,0-2.6-0.5-3.5-1.5c-2-2-2-5.1,0-7.1l8.6-8.6H22.2c-2.8,0-5-2.2-5-5c0-2.8,2.2-5,5-5h31.5l-8.6-8.6\\n\\t\\tc-2-2-2-5.1,0-7.1c2-2,5.1-2,7.1,0l17.1,17.1c0.9,0.9,1.5,2.2,1.5,3.5C70.8,45.3,70.2,46.6,69.3,47.5\"/>\\n</symbol>\\n\\n<symbol id=\"download\" viewBox=\"0 0 25 25\" >\\n<g>\\n\\t<path d=\"M15.4,12.5l-1.3,1.1V8c0-0.9-0.7-1.6-1.6-1.6c-0.9,0-1.6,0.7-1.6,1.6v5.6l-1.3-1.1C9,11.9,8,12,7.4,12.7\\n\\t\\tc-0.6,0.7-0.5,1.6,0.2,2.2l3.9,3.3c0.3,0.2,0.7,0.4,1,0.4s0.7-0.1,1-0.4l3.9-3.3c0.7-0.6,0.7-1.5,0.2-2.2C17,12,16,11.9,15.4,12.5z\\n\\t\\t\"/>\\n\\t<path d=\"M12.5,0.2C5.7,0.2,0.2,5.7,0.2,12.5s5.5,12.3,12.3,12.3c6.8,0,12.3-5.5,12.3-12.3S19.3,0.2,12.5,0.2z M12.5,21.7\\n\\t\\tc-5.1,0-9.2-4.1-9.2-9.2c0-5.1,4.1-9.2,9.2-9.2c5.1,0,9.2,4.1,9.2,9.2C21.7,17.6,17.6,21.7,12.5,21.7z\"/>\\n</g>\\n</symbol>\\n\\n<symbol id=\"close\" viewBox=\"0 0 25 25\">\\n<path d=\"M13.9,12.6L24.3,2.2c0.4-0.4,0.4-1,0-1.4s-1-0.4-1.4,0L12.5,11.2L2.1,0.8c-0.4-0.4-1-0.4-1.4,0s-0.4,1,0,1.4l10.4,10.4\\n\\tL0.7,23c-0.4,0.4-0.4,1,0,1.4c0.2,0.2,0.5,0.3,0.7,0.3s0.5-0.1,0.7-0.3L12.5,14l10.4,10.4c0.2,0.2,0.5,0.3,0.7,0.3s0.5-0.1,0.7-0.3\\n\\tc0.4-0.4,0.4-1,0-1.4L13.9,12.6z\"/>\\n</symbol>\\n\\n<symbol id=\"check\" viewBox=\"0 0 15.1 16.3\">\\n<path fill=\"#A31E22\" d=\"M3.8,16.2c-0.3,0-0.5-0.1-0.7-0.4l-2.8-4.1c-0.3-0.4-0.2-0.9,0.2-1.1c0.4-0.3,0.9-0.2,1.1,0.2l2.2,3.1\\n\\tl9.6-13.4c0.3-0.4,0.8-0.5,1.1-0.2c0.4,0.3,0.5,0.8,0.2,1.1L4.5,15.8C4.3,16,4.1,16.2,3.8,16.2z\"/>\\n</symbol>\\n\\n<symbol id=\"nav-arrow\" viewBox=\"0 0 25 25\">\\n<path d=\"M12.5,24.7c6.7,0,12.2-5.5,12.2-12.2S19.2,0.3,12.5,0.3S0.3,5.8,0.3,12.5S5.8,24.7,12.5,24.7z M9.4,8.8\\n\\tc-0.6-0.6-0.6-1.6,0-2.3c0.3-0.3,0.7-0.5,1.1-0.5s0.8,0.2,1.1,0.5l4.8,4.8c0.3,0.3,0.5,0.7,0.5,1.1s-0.2,0.8-0.5,1.1l-4.8,4.8\\n\\tc-0.6,0.6-1.6,0.6-2.3,0c-0.6-0.6-0.6-1.6,0-2.3l3.7-3.7L9.4,8.8z\"/>\\n</symbol>\\n\\n<symbol id=\"chevron\">\\n\\t<path d=\"M14.8,16.2L0.4,1.9c-0.4-0.4-0.4-1,0-1.4s1-0.4,1.4,0l12.9,13l13-13c0.4-0.4,1-0.4,1.4,0s0.4,1,0,1.4L14.8,16.2z\"/>\\n</symbol>\\n\\n<symbol id=\"podcast\" viewBox=\"0 0 50 50\">\\n\\t<g>\\n\\t\\t<path d=\"M3,49.4c-1.4,0-2.4-1.1-2.4-2.4V17.5c0-1.4,1.1-2.4,2.4-2.4s2.4,1.1,2.4,2.4V47C5.4,48.3,4.3,49.4,3,49.4z\"/>\\n\\t\\t<path d=\"M14,49.4c-1.4,0-2.4-1.1-2.4-2.4V26.7c0-1.4,1.1-2.4,2.4-2.4s2.4,1.1,2.4,2.4V47C16.4,48.3,15.3,49.4,14,49.4z\"/>\\n\\t\\t<path d=\"M25,49.4c-1.4,0-2.4-1.1-2.4-2.4V2.8c0-1.4,1.1-2.4,2.4-2.4s2.4,1.1,2.4,2.4V47C27.4,48.3,26.4,49.4,25,49.4z\"/>\\n\\t\\t<path d=\"M36,49.4c-1.4,0-2.4-1.1-2.4-2.4V12c0-1.4,1.1-2.4,2.4-2.4c1.4,0,2.4,1.1,2.4,2.4V47C38.5,48.3,37.4,49.4,36,49.4z\"/>\\n\\t\\t<path d=\"M47,49.4c-1.4,0-2.4-1.1-2.4-2.4V28.6c0-1.4,1.1-2.4,2.4-2.4s2.4,1.1,2.4,2.4V47C49.5,48.3,48.4,49.4,47,49.4z\"/>\\n\\t</g>\\n</symbol>\\n\\n<symbol id=\"share\" viewBox=\"0 0 69.1 85\">\\n\\t<path d=\"M56.3,25.3c6.8,0,12.3-5.5,12.3-12.3c0-6.8-5.5-12.3-12.3-12.3S44,6.1,44,12.9c0,1.5,0.3,3,0.8,4.3L21.9,34.1\\n\\t\\tc-2.3-2.5-5.5-4-9.1-4C6,30.1,0.5,35.6,0.5,42.4c0,6.8,5.5,12.3,12.3,12.3c3.5,0,6.8-1.6,9.1-4l22.8,17c-0.5,1.4-0.8,2.8-0.8,4.3\\n\\t\\tc0,6.8,5.5,12.3,12.3,12.3c6.8,0,12.3-5.5,12.3-12.3S63,59.7,56.2,59.7c-3.5,0-6.7,1.5-8.9,3.8l-22.9-17c0.5-1.3,0.7-2.7,0.7-4\\n\\t\\tc0-1.5-0.3-2.8-0.7-4l22.9-16.9C49.6,23.8,52.7,25.3,56.3,25.3\"/>\\n</symbol>\\n\\n<symbol id=\"icon-grid\" viewBox=\"0 0 20 20\">\\n\\t<rect x=\"0.1\" y=\"0.1\" width=\"7.9\" height=\"7.9\"/>\\n\\t<rect x=\"12\" y=\"0.1\" width=\"7.9\" height=\"7.9\"/>\\n\\t<rect x=\"0.1\" y=\"12\" width=\"7.9\" height=\"7.9\"/>\\n\\t<rect x=\"12\" y=\"12\" width=\"7.9\" height=\"7.9\"/>\\n</symbol>\\n\\n<symbol id=\"icon-list\" viewBox=\"0 0 23 20\">\\n\\t<rect x=\"7\" y=\"0.1\" width=\"15.9\" height=\"3.6\"/>\\n\\t<rect x=\"7\" y=\"8.2\" width=\"15.9\" height=\"3.6\"/>\\n\\t<rect x=\"7\" y=\"16.3\" width=\"15.9\" height=\"3.6\"/>\\n\\t<rect x=\"0.1\" y=\"0.1\" width=\"3.7\" height=\"3.6\"/>\\n\\t<rect x=\"0.1\" y=\"8.2\" width=\"3.7\" height=\"3.6\"/>\\n\\t<rect x=\"0.1\" y=\"16.3\" width=\"3.7\" height=\"3.6\"/>\\n</symbol>\\n\\n<symbol id=\"eye\" viewBox=\"0 0 41 22\">\\n\\t<path d=\"M40.6,10.3c-0.3-0.4-7.4-9.9-20.1-9.9C7.8,0.3,0.7,9.9,0.4,10.3c-0.3,0.4-0.3,1,0,1.5c0.3,0.4,7.4,9.9,20.1,9.9\\n\\t\\tc12.7,0,19.8-9.5,20.1-9.9C40.9,11.3,40.9,10.7,40.6,10.3z M20.5,18.9c-4.4,0-7.9-3.6-7.9-7.9c0-4.4,3.6-7.9,7.9-7.9\\n\\t\\tc4.4,0,7.9,3.6,7.9,7.9C28.4,15.4,24.9,18.9,20.5,18.9z M3.1,11c1.3-1.4,4.5-4.7,9.4-6.6C11,6.2,10.1,8.5,10.1,11\\n\\t\\tc0,2.5,0.9,4.8,2.4,6.6C7.6,15.7,4.3,12.4,3.1,11z M28.6,17.6c1.5-1.8,2.4-4.1,2.4-6.6c0-2.5-0.9-4.8-2.4-6.6\\n\\t\\tc4.9,1.9,8.1,5.2,9.4,6.6C36.7,12.4,33.4,15.7,28.6,17.6z\"/>\\n\\t<path d=\"M23.7,9.5c-1.2,0-2.1-0.9-2.1-2.1c0-0.6,0.3-1.2,0.7-1.6c-0.6-0.2-1.2-0.3-1.8-0.3C17.5,5.5,15,8,15,11\\n\\t\\tc0,3,2.5,5.5,5.5,5.5c3,0,5.5-2.5,5.5-5.5c0-0.9-0.2-1.7-0.6-2.4C25,9.1,24.4,9.5,23.7,9.5z\"/>\\n</symbol>\\n\\n<symbol id=\"print\" viewBox=\"0 0 40 40\">\\n\\t<path d=\"M34.7,6.5h-3.3v-5c0-0.4-0.3-0.7-0.7-0.7H9.2c-0.4,0-0.7,0.3-0.7,0.7v5H5.3c-2.8,0-5,2.3-5,5v16.3c0,0.4,0.3,0.7,0.7,0.7\\n\\t\\th7.6v9.9c0,0.4,0.3,0.7,0.7,0.7h21.5c0.4,0,0.7-0.3,0.7-0.7v-9.9h7.6c0.4,0,0.7-0.3,0.7-0.7V11.6C39.8,8.8,37.5,6.5,34.7,6.5z\\n\\t\\t M10,2.2h20v4.3H10V2.2z M8.5,19.2H7.3v-0.7h1.2V19.2z M30,37.8H10V18.6h20V37.8z M32.7,18.6v0.7h-1.2v-0.7H32.7z M38.3,27.2h-6.8\\n\\t\\tv-6.5h1.9c0.4,0,0.7-0.3,0.7-0.7v-2.1c0-0.4-0.3-0.7-0.7-0.7h-2.7H9.2H6.6c-0.4,0-0.7,0.3-0.7,0.7V20c0,0.4,0.3,0.7,0.7,0.7h1.9\\n\\t\\tv6.5H1.7V11.6c0-2,1.6-3.6,3.6-3.6h29.5c2,0,3.6,1.6,3.6,3.6V27.2z\"/>\\n\\t<circle cx=\"34.1\" cy=\"12.1\" r=\"1.3\"/>\\n\\t<path d=\"M27.2,21.2H12.8c-0.4,0-0.7,0.3-0.7,0.7s0.3,0.7,0.7,0.7h14.3c0.4,0,0.7-0.3,0.7-0.7S27.6,21.2,27.2,21.2z\"/>\\n\\t<path d=\"M12.8,25.8h5c0.4,0,0.7-0.3,0.7-0.7s-0.3-0.7-0.7-0.7h-5c-0.4,0-0.7,0.3-0.7,0.7S12.4,25.8,12.8,25.8z\"/>\\n\\t<path d=\"M26.8,27.5h-14c-0.4,0-0.7,0.3-0.7,0.7s0.3,0.7,0.7,0.7h14c0.4,0,0.7-0.3,0.7-0.7S27.2,27.5,26.8,27.5z\"/>\\n\\t<path d=\"M25,30.7H12.8c-0.4,0-0.7,0.3-0.7,0.7s0.3,0.7,0.7,0.7H25c0.4,0,0.7-0.3,0.7-0.7S25.5,30.7,25,30.7z\"/>\\n\\t<path d=\"M15.6,33.9h-2.8c-0.4,0-0.7,0.3-0.7,0.7s0.3,0.7,0.7,0.7h2.8c0.4,0,0.7-0.3,0.7-0.7S16,33.9,15.6,33.9z\"/>\\n\\t<path d=\"M23.8,12.2h-7.6c-0.4,0-0.7,0.3-0.7,0.7s0.3,0.7,0.7,0.7h7.6c0.4,0,0.7-0.3,0.7-0.7S24.2,12.2,23.8,12.2z\"/>\\n</symbol>\\n\\n<symbol id=\"logo-art-sci\" viewBox=\"0 0 408.2 64\">\\n<g>\\n\\t\\t<g>\\n\\t\\t\\t<g>\\n\\t\\t\\t\\t<line x1=\"37.3\" y1=\"40.2\" x2=\"407.4\" y2=\"40.2\"/>\\n\\t\\t\\t\\t<rect x=\"37.3\" y=\"39.8\" width=\"370.1\" height=\"0.9\"/>\\n\\t\\t\\t</g>\\n\\t\\t\\t<g>\\n\\t\\t\\t\\t<path d=\"M295.3,10.6c0.4,0,1.3-1.5,1.3-2c0-0.5-0.9-2-1.3-2c-0.4,0-1.3,1.6-1.3,2S294.9,10.6,295.3,10.6z\"/>\\n\\t\\t\\t\\t<path d=\"M312.8,25.9v-6.4c0-3-1-7.3-5.3-7.3c-3.2,0-4.8,3-4.8,2.6v-2.2c0-0.4-0.2-0.6-0.4-0.6\\n\\t\\t\\t\\t\\tc-0.8,0-1.3,1.3-3.9,2.1c-0.2,0-0.6,0-0.7,0.3c0,0.8,2.6-1.1,2.5,2.1V26c0,1.8-0.9,2-1.5,2.1c0,0-0.1,0-0.1,0\\n\\t\\t\\t\\t\\tc-0.7,0-2.1-0.3-2.1-1.7v-14c0-0.4-0.2-0.6-0.4-0.6c-0.8,0-1.2,1.4-3.3,2.1c-0.2,0-0.5,0.1-0.5,0.3c0,0.8,1.9-0.8,1.8,2.1v9.2\\n\\t\\t\\t\\t\\tc0.1,2.4-1.2,2.6-1.9,2.6c-1.1,0-0.8,0.1-0.8,0.5c0,0.4,0.7,0.4,1.7,0.4c0.4,0,1.3-0.1,2.3-0.1c1.3,0,2.4,0.2,3.1,0.2\\n\\t\\t\\t\\t\\tc0.4,0,1.5-0.2,3.2-0.2c1.9,0,2.6,0.2,3.1,0.2c0.5,0,1.1-0.2,0.7-0.5c-0.5-0.5-2.9,0.1-2.9-2.6v-9c0-0.6,1.1-3,3.9-3\\n\\t\\t\\t\\t\\tc2.7,0,3.8,2.9,3.8,4.9V26c0,2.9-1,2-1.4,2.5c-0.2,0.3,0.2,0.5,0.6,0.5c0.4,0,1.1-0.2,2.4-0.2c1.6,0,2.3,0.1,2.7,0.1\\n\\t\\t\\t\\t\\tc0.3,0,0.9-0.3,0.6-0.5C314.4,27.8,312.8,28.8,312.8,25.9z\"/>\\n\\t\\t\\t\\t<path d=\"M62.8,3.3c0.5-0.1,0.7-0.2,0.7-0.2c0-0.3-0.1-0.4-0.5-0.4c-0.8,0-1.3,0.1-2.1,0.1\\n\\t\\t\\t\\t\\tc-0.9,0-1.6-0.1-2.3-0.1c-0.4,0-0.4,0.1-0.4,0.4c0,0.3,0.8,0.1,1.3,1.1c0.3,0.5,0.2,1.7-0.1,2.4l-6.3,17.4l-2.7-7.7l-1.1-2.8\\n\\t\\t\\t\\t\\tc0,0-0.2,0.1,0.6-2.3l1.5-4.5c0.7-2.2,1.5-3.3,2.4-3.4c1.2,0,1.2-0.7,0.3-0.7c-0.9,0-1.4,0.1-2.2,0.1c-0.8,0-1.3-0.1-2.1-0.1\\n\\t\\t\\t\\t\\tc-0.3,0-0.7,0.1-0.7,0.4c0,0.3,0.5,0.2,0.9,0.4c0.6,0.3,1,1.6,0.6,2.9L48.6,12l-2-5.2c-0.4-1-0.9-3.2,0-3.4\\n\\t\\t\\t\\t\\tc0.9-0.2,0.8-0.7,0.2-0.7c-1.1,0-1.7,0.1-2.7,0.1c-1.2,0-2-0.1-3.1-0.1c-0.2,0-0.7,0-0.5,0.5c0.1,0.3,0.6,0.2,1,0.4\\n\\t\\t\\t\\t\\tc1.3,0.9,1.6,2,2,3.2l2.9,8.2c0.5,1.5,0.6,0.9,0.1,2.2l-2.5,7L37.8,6.2C37.3,4.9,37,4,38.1,3.5c0.5-0.2,0.6-0.3,0.7-0.4\\n\\t\\t\\t\\t\\tc0.1-0.1,0.1-0.4-0.6-0.4c-1.1,0-1.8,0.1-2.9,0.1c-1.2,0-2-0.1-3.1-0.1c-0.4,0-0.4,0.2-0.4,0.4c0,0.4,0.9,0.1,1.7,1\\n\\t\\t\\t\\t\\tc0.4,0.5,1.3,2.1,1.5,2.7l7.5,21.7c0.1,0.3,0.2,1,0.6,1c0.3,0,0.4-0.7,0.5-1l4-10.9l3.9,10.3c0.2,0.4,0.4,1.5,0.8,1.5\\n\\t\\t\\t\\t\\tc0.3,0,0.5-0.5,0.6-1.1l7.5-21.4C60.9,5.4,61.6,3.5,62.8,3.3z\"/>\\n\\t\\t\\t\\t<path d=\"M145.7,11.8c-4.1,0-7.3,4.2-7.3,9c0,2.5,0.7,4.4,1.8,5.9c-0.4,0.3-1.2,0.9-2.7,0.9\\n\\t\\t\\t\\t\\tc-1.4,0-2.1-0.8-2.2-2.5V14.5c0,0,4.1,0,4.3,0c0.3,0,0.8-1.8,0.8-1.9c0-0.2,0.1-0.4,0.2-0.6c0.1-0.3-0.2-0.4-0.5,0\\n\\t\\t\\t\\t\\tc-0.2,0.2-0.4,0.7-1.3,0.7h-3.6c0-3.1,0-4.4-0.4-4.4c-0.5,0-0.4,0.1-0.8,1.5c-0.6,1.8-2.3,2.8-3.3,3.4c-0.5,0.1-1,0.1-1.6,0\\n\\t\\t\\t\\t\\tc-0.9-0.2-2-1.3-4.8-1.3c-3,0-5.6,2.5-5.6,5.8c0,1.8,0.8,3.5,2.2,4.4c-0.3,0.2-1.9,1.6-1.7,3.2c0,0,0,1.7,1.3,2.3\\n\\t\\t\\t\\t\\tc-0.4,0.2-0.8,0.4-1.2,0.8c-0.9-0.3-2.2-0.1-2.2-2.4v-6.4c0-3-1-7.3-5.3-7.3c-3.2,0-4.8,3-4.8,2.5v-2.2c0-0.4-0.2-0.6-0.4-0.6\\n\\t\\t\\t\\t\\tc-0.8,0-0.9,1.3-3.7,2c-0.2,0-0.5,0.1-0.6,0.4c0,0.8,2.2-0.9,2.2,2.1V26c0,2.1-1.7,2.1-1.9,2.1c-0.1,0-0.2,0-0.4,0\\n\\t\\t\\t\\t\\tc-0.7-0.1-1.9-0.4-1.9-1.7v-14c0-0.4-0.2-0.6-0.4-0.6c-0.8,0-1.2,1.4-3.3,2.1c-0.2,0-0.5,0.1-0.5,0.3c0,0.8,1.9-0.8,1.8,2.1v9.2\\n\\t\\t\\t\\t\\tc0.1,2.3-1.1,2.6-1.8,2.6c-0.9-0.1-1.5-0.5-1.5-1.8v-6.5c0-3.4-1.3-7.7-5.5-7.7c-1.9,0-3.5,1-4.7,2.4V3.3c0-0.4-0.2-0.6-0.4-0.6\\n\\t\\t\\t\\t\\tc-0.5,0-1.4,1.5-3.7,2.1c-0.2,0-0.8,0.1-0.8,0.3c0,0.8,2.5-0.4,2.5,2.1v19.1c0,1.9-1.6,1.7-1.9,2.3C79.8,28.9,80,29,80.2,29\\n\\t\\t\\t\\t\\tc0.5,0,2-0.2,3-0.2c1,0,2.7,0.2,3.3,0.2c0.4,0,0.6-0.1,0.6-0.5c-0.3-0.7-2.9,0.4-2.9-3v-8.2c0-2,2.4-3.5,3.8-3.5\\n\\t\\t\\t\\t\\tc1.1,0,4,0.9,4,5.7v7.1c0,1.4-1.5,1.6-1.6,2c0,0.3,0.2,0.4,0.5,0.4c0.4,0,1.4-0.2,2.7-0.2c0.7,0,1.4,0,1.9,0.1\\n\\t\\t\\t\\t\\tc0.3,0.1,0.7,0.1,1.2,0.1c0.4,0,1.3-0.1,2.3-0.1c1,0,1.9,0.1,2.5,0.1c0.1,0,0.3,0,0.4,0c0,0,0.1,0,0.1,0c0,0,0,0,0,0\\n\\t\\t\\t\\t\\tc0.4,0,0.8,0,0.9,0c0.4,0,1.1-0.2,2.8-0.2c1.9,0,2.6,0.2,3.1,0.2c0.5,0,1.1-0.2,0.7-0.5c-0.5-0.5-2.9,0.1-2.9-2.6v-9\\n\\t\\t\\t\\t\\tc0-0.6,1.1-3,3.9-3c2.7,0,3.8,2.9,3.8,4.9V26c0,2.5-1,2-1.4,2.5c-0.2,0.3,0.2,0.5,0.6,0.5c0.4,0,1.1-0.2,2.4-0.2\\n\\t\\t\\t\\t\\tc1.2,0,1.9,0.1,2.4,0.1c-0.4,0.5-0.6,1.1-0.6,1.8c-0.2,3.2,3.7,4.3,7,4.3c6.5-0.1,8.3-4.6,7-7c-1.4-2.5-4.4-2.4-7.2-2.4\\n\\t\\t\\t\\t\\tc-5.3,0-4.3-3.3-2.1-3.2c0.5,0,0.3,0.2,2,0.2c3.1,0,6-2.1,5.9-5.5c0-0.3,0.1-1.3-0.7-2.7c1.4,0,0.9,0,3.1,0l0,9.7\\n\\t\\t\\t\\t\\tc0,4.4,2.1,5.1,3.6,5.1c2.2,0,3.8-1.5,4.1-2.1c1.3,1.4,3.1,2.1,5.2,2.1c4,0,7.1-3.7,7.1-8.6C152.8,13.3,148.2,11.8,145.7,11.8z\\n\\t\\t\\t\\t\\t M121.9,27.8c0.3,0,0.3,0.1,3.3,0.2c3.1,0.1,4.2,1,4.4,1.8c0.3,1.4-0.7,4.5-5.1,4.2c-2.8-0.2-3.6-1.5-3.8-1.8\\n\\t\\t\\t\\t\\tC119.7,30.7,120.5,27.9,121.9,27.8z M124.5,22c-2.6,0-3.5-2.5-3.5-4.9c0-2.5,0.7-4.5,3.4-4.5c2.7,0,3.7,2.7,3.7,5.1\\n\\t\\t\\t\\t\\tC128.1,20.1,127,22,124.5,22z M146,28.1c-3.8,0-5.3-4.8-5.3-8.6c0-3.4,1.3-6.5,4.5-6.5c3.9,0,5.3,4.2,5.3,8.2\\n\\t\\t\\t\\t\\tC150.5,26.1,148.8,28.1,146,28.1z\"/>\\n\\t\\t\\t\\t<path d=\"M166.9,25.9v-6.4c0-3-1-7.3-5.3-7.3c-3.2,0-4.8,3-4.8,2.6v-2.2c0-0.4-0.2-0.6-0.4-0.6\\n\\t\\t\\t\\t\\tc-0.8,0-1.3,1.3-3.9,2.1c-0.2,0-0.6,0-0.7,0.3c0,0.8,2.6-1.1,2.5,2.1V26c0,2.5-1.7,1.9-2.1,2.6c-0.2,0.3,0.3,0.4,0.7,0.4\\n\\t\\t\\t\\t\\tc0.4,0,1-0.2,2.8-0.2c1.9,0,2.6,0.2,3.1,0.2c0.5,0,1.1-0.2,0.7-0.5c-0.5-0.5-2.9,0.1-2.9-2.6v-9c0-0.6,1.1-3,3.9-3\\n\\t\\t\\t\\t\\tc2.7,0,3.8,2.9,3.8,4.9V26c0,2.9-1,2-1.4,2.5c-0.2,0.3,0.2,0.5,0.6,0.5c0.4,0,1.1-0.2,2.4-0.2c1.6,0,2.3,0.1,2.7,0.1\\n\\t\\t\\t\\t\\tc0.3,0,0.9-0.3,0.6-0.5C168.5,27.8,166.9,28.8,166.9,25.9z\"/>\\n\\t\\t\\t\\t<path d=\"M98.9,10.6c0.4,0,1.3-1.5,1.3-2c0-0.5-0.9-2-1.3-2c-0.4,0-1.3,1.6-1.3,2S98.5,10.6,98.9,10.6z\"/>\\n\\t\\t\\t\\t<path d=\"M77,19.4c-0.6-0.3-1.6-0.9-2.1-1.1c-2.1-1.1-2.9-1.9-2.9-2.9c-0.1-1.8,1.5-2.8,2.8-2.6\\n\\t\\t\\t\\t\\tc3.2-0.1,3.6,3.5,4,3.5c0.5,0,0.4-0.5,0.4-1.5c0-0.3,0-1.6-0.2-1.9c-0.4-0.6-2.7-0.9-3.2-0.9c-0.1,0-0.7,0-0.8,0\\n\\t\\t\\t\\t\\tc-0.2,0-0.4,0-0.4,0c-2.3,0-4.4,1.4-4.4,4.5c0.1,2.8,3.3,4.4,5.1,5.4c1.3,0.7,2.9,1.5,2.8,3.2c0,2-1.6,3.4-3.3,3.3\\n\\t\\t\\t\\t\\tc-4-0.1-3.4-5.1-4.2-5.1c-0.5,0-0.4,1.3-0.4,1.9c0,0.6,0,1.2,0,1.7c-0.1,0.5-0.3,0.9-0.7,0.9c-1.6,0.1-1.2-2.4-1.2-3.7V16\\n\\t\\t\\t\\t\\tc-0.1-2.5-2-4.1-4.8-4.1c-3.9,0-6.7,4.8-5.4,6.3c0.3,0.4,1.6-1,1.7-1.1C60,17,60,16.9,60,16.9c0-1.6,1.2-3.7,3-3.9\\n\\t\\t\\t\\t\\tc2-0.2,3,1.3,3,3.4V19c-7.7,1.5-8.8,4.1-8.8,6.2c0,2.8,2,4,4.1,4c1.8,0,3.6-0.9,5-2.3c0.4,1.3,1.3,2.1,2.6,2\\n\\t\\t\\t\\t\\tc0.4,0,0.5,0.1,1.9-0.5c0.5-0.1,0.4-0.1,1,0c0.7,0.2,1.7,0.7,3.4,0.7c2.6,0,4.9-2.3,4.9-5.3C80,22.1,79.5,21,77,19.4z\\n\\t\\t\\t\\t\\t M66.3,24.9c0,2.1-2.1,3.2-3.3,3.2c-1.7,0-3-1.1-3-3.4c0-3.5,4.2-4.1,6.3-4.6V24.9z\"/>\\n\\t\\t\\t\\t<path d=\"M345,25.2c-0.4,0-1.4,1.6-1.4,2.1c0,0.4,1,2,1.4,2c0.4,0,1.4-1.6,1.4-2C346.3,26.7,345.4,25.2,345,25.2z\\n\\t\\t\\t\\t\\t\"/>\\n\\t\\t\\t\\t<path d=\"M387.7,26.6V12.8c0-0.8-0.4-1-0.6-1c-0.5,0-0.8,0.1-1.1,0.2c-0.3,0.1-0.7,0.3-1.6,0.3\\n\\t\\t\\t\\t\\tc-0.2,0-1-0.1-1,0.3c0.1,0.5,2,0.2,2,1.6v9.9c-0.2,1.7-1.6,3.6-3.4,3.6c-0.4,0-3-0.3-3-4.6V12.8c0-0.8-0.4-1-0.6-1\\n\\t\\t\\t\\t\\tc-0.5,0-0.8,0.1-1.1,0.2c-0.3,0.1-0.8,0.3-1.7,0.2c-0.5,0-1-0.1-0.9,0.4c0.1,0.4,2,0,2,1.6v9.5c0,3.5,2,5.5,4.5,5.5\\n\\t\\t\\t\\t\\tc1.6,0,3.2-0.4,4.1-2.3h0.1v1.7c0,0.2,0,0.6,0.3,0.6c0.5,0,0.7-0.4,1.1-0.5c0.4-0.1,0.5-0.4,1.6-0.5c0.5,0,1-0.3,1-0.6\\n\\t\\t\\t\\t\\tC389.3,26.9,387.7,27.6,387.7,26.6z\"/>\\n\\t\\t\\t\\t<path d=\"M368.3,11.8c-4.1,0-7.3,4.2-7.3,9c0,2.2,0.5,4,1.4,5.4c-1,0.7-2.8,1.4-6.3,1.4c-2.7,0-2.4-0.9-2.4-3.2\\n\\t\\t\\t\\t\\tV6.1c0-3.4,2.5-2.4,2.6-3c0-0.4-0.4-0.3-0.8-0.3c-0.5,0-1.4,0.2-3.2,0.2c-1.6,0-3-0.1-3.6-0.1c-0.4,0-0.8,0.1-0.7,0.4\\n\\t\\t\\t\\t\\tc0.3,0.7,2.7,0.1,2.7,2.1v19.1c0,1.8,0.3,3-0.6,3.5c-1,0.6-2.2,0.7-2.1,1.1c0.1,0.3,0.6,0.3,0.9,0.3c1.3,0,3.1-0.2,4.4-0.2\\n\\t\\t\\t\\t\\tc2.4-0.1,4.9,0.2,7.3,0.2c1.4,0,1.8-0.3,2.8-1.7c0,0,0,0,0-0.1c1.3,1.2,3,1.8,4.9,1.8c4,0,7.1-3.7,7.1-8.6\\n\\t\\t\\t\\t\\tC375.4,13.3,370.8,11.8,368.3,11.8z M368.6,28.1c-3.8,0-5.3-4.8-5.3-8.6c0-3.4,1.3-6.5,4.5-6.5c3.9,0,5.3,4.2,5.3,8.2\\n\\t\\t\\t\\t\\tC373.1,26.1,371.4,28.1,368.6,28.1z\"/>\\n\\t\\t\\t\\t<path d=\"M328,14.8c-0.9-0.5-2.3-1.3-3-1.7c-3-1.7-4.2-2.9-4.3-4.5c-0.1-2.8,2.6-4.5,4.5-4.2\\n\\t\\t\\t\\t\\tc2.5,0,4.5,1.5,5.4,4.7c0.1,0.3,0.4,1.1,0.7,1.1c0.3,0,0.3-0.3,0.3-0.6l-0.4-5.1c0-0.4-0.2-0.5-0.3-0.5c-0.3,0-0.5,0.4-0.7,0.4\\n\\t\\t\\t\\t\\tc-0.4,0-1.4-1.4-4.8-1.4c-0.2,0-0.5,0-0.5,0c-3.3-0.1-6.5,2.2-6.4,6.8c0.1,4.3,4.9,6.7,7.5,8.3c1.9,1.1,3.9,3,3.8,5\\n\\t\\t\\t\\t\\tc-0.1,3.1-2.1,5.2-4.5,5c-5.8-0.1-5-7.8-6.1-7.8c-0.7,0-0.6,1.9-0.6,2.9c0,2.4-0.1,4.4,0.2,4.8c0.1,0.1,0.4,0.1,0.9,0.1\\n\\t\\t\\t\\t\\tc1.1,0,2.5,1.3,5.9,1.3c3.7,0.1,6.8-3.4,6.8-7.9C332.4,18.9,331.7,17.2,328,14.8z\"/>\\n\\t\\t\\t\\t<path d=\"M393.5,10.6c0.4,0,1.3-1.5,1.3-2c0-0.5-0.9-2-1.3-2c-0.4,0-1.3,1.6-1.3,2S393.1,10.6,393.5,10.6z\"/>\\n\\t\\t\\t\\t<path d=\"M396.8,28.2c-0.7,0-2.1-0.3-2.1-1.7v-14c0-0.4-0.2-0.6-0.4-0.6c-0.8,0-1.2,1.4-3.3,2.1\\n\\t\\t\\t\\t\\tc-0.2,0-0.5,0.1-0.5,0.3c0,0.8,1.9-0.8,1.8,2.1v9.2c0.1,2.4-1.2,2.6-1.9,2.6c-1.1,0-0.8,0.1-0.8,0.5c0,0.4,0.7,0.4,1.7,0.4\\n\\t\\t\\t\\t\\tc0.4,0,1.3-0.1,2.3-0.1c1.3,0,2.4,0.2,3,0.2C397.2,29,397.7,28,396.8,28.2z\"/>\\n\\t\\t\\t\\t<path d=\"M404.4,19.4c-0.6-0.3-1.6-0.9-2.1-1.1c-2.1-1.1-2.9-1.9-2.9-2.9c-0.1-1.8,1.5-2.8,2.8-2.6\\n\\t\\t\\t\\t\\tc3.2-0.1,3.6,3.5,4,3.5c0.5,0,0.4-0.5,0.4-1.5c0-0.3,0-1.6-0.2-1.9c-0.4-0.6-2.7-0.9-3.2-0.9c-0.1,0-0.7,0-0.8,0\\n\\t\\t\\t\\t\\tc-0.2,0-0.4,0-0.4,0c-2.3,0-4.4,1.4-4.4,4.5c0.1,2.8,3.3,4.4,5.1,5.4c1.3,0.7,2.9,1.5,2.8,3.2c0,2-1.6,3.4-3.3,3.3\\n\\t\\t\\t\\t\\tc-4-0.1-3.4-5.1-4.2-5.1c-0.5,0-0.4,1.3-0.4,1.9c0,1.6-0.1,2.9,0.1,3.1c0.1,0.1,0.3,0,0.6,0c0.8,0,1.7,0.9,4,0.9\\n\\t\\t\\t\\t\\tc2.6,0,4.9-2.3,4.9-5.3C407.4,22.1,406.9,21,404.4,19.4z\"/>\\n\\t\\t\\t\\t<path d=\"M342.7,26.6c-0.3,0.2-1.1,1-2.9,1c-1.4,0-2.1-0.8-2.2-2.5V13.9c0,0,4.1,0,4.3,0c0.3,0,0.8-1.8,0.8-1.9\\n\\t\\t\\t\\t\\tc0-0.2,0.1-0.4,0.2-0.6c0.1-0.3-0.2-0.4-0.5,0c-0.2,0.2-0.4,0.7-1.3,0.7h-3.6c0-3,0-3.8-0.4-3.8c-0.5,0-0.4,0.1-0.8,1.5\\n\\t\\t\\t\\t\\tc-0.7,2.3-3.2,3.3-4,3.8c-0.2,0.1-0.2,0.1-0.2,0.2c0,0.3,0.9,0.2,2.9,0.2l0,10.2c0,4.4,2.1,5.1,3.6,5.1c2.4,0,4.1-1.7,4.2-2.3\\n\\t\\t\\t\\t\\tC342.9,26.6,342.9,26.6,342.7,26.6z\"/>\\n\\t\\t\\t\\t<path d=\"M239.7,25.2c-0.7,0-1.8,2.1-4.6,2.1c-2,0-5.3-1.9-5.3-8.4h8.7c0.8,0,1.1,0,1.1-0.7\\n\\t\\t\\t\\t\\tc0-1.6-1.8-6.3-5.8-6.3c-4.1,0-6.4,4.2-6.4,9.3c0,2.6,1.7,8.1,6.6,8.1c3,0,5.8-2.8,5.8-3.7C239.8,25.4,239.8,25.2,239.7,25.2z\\n\\t\\t\\t\\t\\t M233.2,12.8c1.8,0,3.6,2,3.6,4.2c0,0.6-0.2,0.8-0.7,0.8h-6.5C229.8,15.6,231.2,12.8,233.2,12.8z\"/>\\n\\t\\t\\t\\t<path d=\"M193.1,3.5c0.1-0.2-0.3-0.3-0.5-0.3c-0.5,0-1.7,0.1-2.3,0.1c-1.1,0-2.1-0.1-3.2-0.1\\n\\t\\t\\t\\t\\tc-0.1,0-0.6,0.1-0.6,0.2c0,0.8,2.7-0.1,2.7,3.3v13.4c0,4-1.2,8.1-6.7,8.1c-3.9,0-6-2.4-6-7.8V5.9c0-2.4,1.9-1.9,1.9-2.4\\n\\t\\t\\t\\t\\tc0-0.5-1.7-0.2-1.8-0.2c-0.9,0-1.5,0.1-2.5,0.1c-0.8,0-1.7-0.1-2.5-0.1c-0.1,0-0.7,0-0.8,0.2c-0.3,0.7,2.4,0.3,2.4,2.3v13.8\\n\\t\\t\\t\\t\\tc0,5.2,1.5,10.2,9.1,10.1c9-0.2,8.9-8.3,8.9-9.9V6.8C191.3,3.7,192.8,4,193.1,3.5z\"/>\\n\\t\\t\\t\\t<path d=\"M228.8,12.7c0.2-0.3,0.3-0.7-0.7-0.6c-0.6,0-1,0.1-1.5,0.1c-0.7,0-0.9,0-1.5-0.1c-0.9,0-1.1,0.1-1,0.3\\n\\t\\t\\t\\t\\tc0.1,0.8,2,0,1.7,2.3c-0.2,1.9-0.8,3.5-1.4,5.2l-2.2,5.8l-3.2-9.7c-0.4-1.2-0.6-1.9-0.6-2c0-1.2,1.5-0.9,1.8-1.5\\n\\t\\t\\t\\t\\tc0.2-0.3-0.2-0.5-0.7-0.5c-0.4,0-0.8,0.1-2.1,0.2c-1,0-1.7,0-2.2-0.1c-1.1-0.2-1,0.4-0.6,0.6c0.4,0.2,0.6,0,1.2,1.7l5,14\\n\\t\\t\\t\\t\\tc0.1,0.3,0.2,1,0.7,1c0.5,0,0.5-0.5,1.1-2.2c0,0,4.7-13.3,5.1-13.7C228.1,12.6,228.6,13,228.8,12.7z\"/>\\n\\t\\t\\t\\t<path d=\"M247.1,12.1c-1.3,0-2.3,1.6-3,2.7h-0.1v-2.4c0-0.4-0.2-0.6-0.4-0.6c-0.5,0-0.9,1-3.6,1.7\\n\\t\\t\\t\\t\\tc-0.2,0-0.6,0.1-0.6,0.4c0,0.8,2.3-0.2,2.3,2.4v10.2c0,1.6-1.6,1.4-1.6,2.2c0,0.2,0.1,0.3,0.4,0.3c0.2,0,0.8-0.2,2.9-0.2\\n\\t\\t\\t\\t\\tc1.8,0,2.6,0.2,3,0.2c0.3,0,0.5-0.1,0.5-0.4c0-1.2-2.8,0.6-2.8-3v-8.7c0-0.5,0.8-2.3,2.1-2.3c1.1,0,1.3,0.9,1.9,0.9\\n\\t\\t\\t\\t\\tc0.4,0,1.1-1.2,1.1-1.7C249.2,13.1,247.8,12.1,247.1,12.1z\"/>\\n\\t\\t\\t\\t<path d=\"M288.4,12.2c-0.3,0-1.2,0.1-2,0.1c-1,0-1.4-0.1-1.8-0.1c-0.6,0-1.2,0-1.1,0.4c0.1,0.5,2.2,0.3,2.2,2.6\\n\\t\\t\\t\\t\\tc0,0.3,0,0.7-0.4,2.2l-2.6,8.4l-3.7-10.3c0,0-0.2-0.3-0.2-1c0-1.7,2-1.5,2-1.8c0.1-0.2-0.3-0.5-0.8-0.5c-0.5,0-1.4,0-2.6,0\\n\\t\\t\\t\\t\\tc-0.2,0-0.4,0-0.5,0c0,0,0,0,0,0h-1.5c0,0,0,0-0.1,0h-3.6c0-3.1,0-3.8-0.4-3.8c-0.5,0-0.4,0.1-0.8,1.5c-0.7,2.3-3.2,3.3-4,3.8\\n\\t\\t\\t\\t\\tc-0.2,0.1-0.2,0.1-0.2,0.2c0,0.3,1,0.2,2.9,0.2l0,10.2c0,4.4,2.1,5.1,3.6,5.1c2.4,0,4.1-1.7,4.2-2.3c0-0.3,0-0.4-0.2-0.3\\n\\t\\t\\t\\t\\tc-0.3,0.2-1.1,1-2.9,1c-1.4,0-2.1-0.8-2.2-2.5V13.9c0,0,3.2,0,4.1,0c0,0.1,0.1,0.2,0.1,0.2l3.8,10.7c0.3,0.9,0.5,1.2,0.9,2.7\\n\\t\\t\\t\\t\\tc0.2,1,0.2,1.9,0.2,1.9c-0.4,1.6-1.4,2.5-2.9,5.5c-0.1,0.3,2.2,0,2.3-0.1c0.2-0.1,0.2-0.1,0.4-0.5l1.7-5l4.7-14.4\\n\\t\\t\\t\\t\\tc0.7-2.5,1.8-2.1,1.9-2.4C288.9,12.4,288.8,12.2,288.4,12.2z\"/>\\n\\t\\t\\t\\t<polygon points=\"282.3,29.1 282.2,29.4 282.2,29.4 \\t\\t\\t\\t\"/>\\n\\t\\t\\t\\t<path d=\"M263.6,10.6c0.4,0,1.3-1.5,1.3-2c0-0.5-0.9-2-1.3-2c-0.4,0-1.3,1.6-1.3,2S263.2,10.6,263.6,10.6z\"/>\\n\\t\\t\\t\\t<path d=\"M267,28.2c-0.7,0-2.1-0.3-2.1-1.7v-14c0-0.4-0.2-0.6-0.4-0.6c-0.8,0-1.2,1.4-3.3,2.1\\n\\t\\t\\t\\t\\tc-0.2,0-0.5,0.1-0.5,0.3c0,0.8,1.9-0.8,1.8,2.1v9.2c0.1,2.4-1.2,2.6-1.9,2.6c-1.1,0-0.8,0.1-0.8,0.5c0,0.4,0.7,0.4,1.7,0.4\\n\\t\\t\\t\\t\\tc0.4,0,1.3-0.1,2.3-0.1c1.3,0,2.4,0.2,3,0.2C267.3,29,267.8,28,267,28.2z\"/>\\n\\t\\t\\t\\t<path d=\"M211.8,10.6c0.4,0,1.3-1.5,1.3-2c0-0.5-0.9-2-1.3-2c-0.4,0-1.3,1.6-1.3,2S211.4,10.6,211.8,10.6z\"/>\\n\\t\\t\\t\\t<path d=\"M215.1,28.2c-0.7,0-2.1-0.3-2.1-1.7v-14c0-0.4-0.2-0.6-0.4-0.6c-0.8,0-1.2,1.4-3.3,2.1\\n\\t\\t\\t\\t\\tc-0.2,0-0.5,0.1-0.5,0.3c0,0.8,1.9-0.8,1.8,2.1v9.2c0.1,2.4-1.2,2.6-1.9,2.6c-0.1,0-0.2,0-0.2,0c-0.7-0.1-1.3-0.4-1.3-2.3v-6.4\\n\\t\\t\\t\\t\\tc0-3-1-7.3-5.3-7.3c-3.2,0-4.8,3-4.8,2.6v-2.2c0-0.4-0.2-0.6-0.4-0.6c-0.8,0-1.3,1.3-3.9,2.1c-0.2,0-0.6,0-0.7,0.3\\n\\t\\t\\t\\t\\tc0,0.8,2.6-1.1,2.5,2.1V26c0,2.5-1.7,1.9-2.1,2.6c-0.2,0.3,0.3,0.4,0.7,0.4c0.4,0,1.1-0.2,2.8-0.2c1.9,0,2.6,0.2,3.1,0.2\\n\\t\\t\\t\\t\\tc0.5,0,1.1-0.2,0.7-0.5c-0.5-0.5-2.9,0.1-2.9-2.6v-9c0-0.6,1.1-3,3.9-3c2.7,0,3.8,2.9,3.8,4.9V26c0,2.9-1,2-1.4,2.5\\n\\t\\t\\t\\t\\tc-0.2,0.3,0.2,0.5,0.6,0.5c0.4,0,1.1-0.2,2.4-0.2c1.6,0,2.3,0.1,2.7,0.1c0,0,0.1,0,0.2,0c0.1,0,0.3,0,0.4,0\\n\\t\\t\\t\\t\\tc0.4,0,1.3-0.1,2.3-0.1c1.3,0,2.4,0.2,3.1,0.2C215.4,29,216,28,215.1,28.2z\"/>\\n\\t\\t\\t\\t<path d=\"M256.6,19.4c-0.6-0.3-1.6-0.9-2.1-1.1c-2.1-1.1-2.9-1.9-2.9-2.9c-0.1-1.8,1.5-2.8,2.8-2.6\\n\\t\\t\\t\\t\\tc3.2-0.1,3.6,3.5,4,3.5c0.5,0,0.4-0.5,0.4-1.5c0-0.3,0-1.6-0.2-1.9c-0.4-0.6-2.7-0.9-3.2-0.9c-0.1,0-0.7,0-0.8,0\\n\\t\\t\\t\\t\\tc-0.2,0-0.4,0-0.4,0c-2.3,0-4.4,1.4-4.4,4.5c0.1,2.8,3.3,4.4,5.1,5.4c1.3,0.7,2.9,1.5,2.8,3.2c0,2-1.6,3.4-3.3,3.3\\n\\t\\t\\t\\t\\tc-4-0.1-3.4-5.1-4.2-5.1c-0.5,0-0.4,1.3-0.4,1.9c0,1.6-0.1,2.9,0.1,3.1c0.1,0.1,0.3,0,0.6,0c0.8,0,1.7,0.9,4,0.9\\n\\t\\t\\t\\t\\tc2.6,0,4.9-2.3,4.9-5.3C259.6,22.1,259,21,256.6,19.4z\"/>\\n\\t\\t\\t</g>\\n\\t\\t</g>\\n\\t\\t<g>\\n\\t\\t\\t<path d=\"M14.1,2.5L14.1,2.5L14.1,2.5L14.1,2.5L14.1,2.5C14,2.5,8.5,2.6,0.8,1V23v0c0,0.3,0,0.6,0,0.6l0,0l0,0\\n\\t\\t\\t\\tc0,1,0.4,1.8,1,2.5c0.4,0.4,1,0.9,1.7,1.3c0.2,0.1,0.4,0.2,0.7,0.4c0.2,0.1,0.4,0.2,0.6,0.3v0l0,0c0.2,0.1,0.7,0.3,0.9,0.4\\n\\t\\t\\t\\tl8.4,3.2v0l0,0l0,0v0l8.4-3.2c0.2-0.1,0.7-0.3,0.9-0.4l0,0v0c0.2-0.1,0.4-0.2,0.6-0.3c0.3-0.1,0.5-0.2,0.7-0.4\\n\\t\\t\\t\\tc0.8-0.4,1.3-0.9,1.7-1.3c0.6-0.7,0.9-1.5,1-2.5l0,0l0,0c0,0,0-0.3,0-0.6v0V1C19.7,2.6,14.2,2.5,14.1,2.5z M26.2,22.6L26.2,22.6\\n\\t\\t\\t\\tc0,0.4,0,0.6,0,0.6l0,0l0,0c0,0.9-0.3,1.7-0.9,2.3c-0.4,0.4-0.9,0.8-1.6,1.2c-0.2,0.1-0.4,0.2-0.6,0.3c-0.2,0.1-0.4,0.2-0.5,0.2\\n\\t\\t\\t\\tv0l0,0c-0.2,0.1-0.6,0.3-0.8,0.3l-7.6,2.9v0l0,0l0,0v0l-7.6-2.9c-0.2-0.1-0.7-0.3-0.8-0.3l0,0v0c-0.2-0.1-0.4-0.2-0.5-0.2\\n\\t\\t\\t\\tc-0.2-0.1-0.4-0.2-0.6-0.3c-0.7-0.4-1.2-0.8-1.6-1.2C2.3,24.9,2,24.2,2,23.2l0,0l0,0c0,0,0-0.2,0-0.5v0V2.4\\n\\t\\t\\t\\tc7,1.5,12,1.4,12.1,1.4v0l0,0l0,0v0c0.1,0,5.1,0,12.1-1.4V22.6z\"/>\\n\\t\\t\\t<path d=\"M14.1,5L14.1,5L14.1,5L14.1,5L14.1,5C14,5,9.4,5.1,3,3.7v5.2c6.4,1.3,11,1.3,11.1,1.3v0l0,0l0,0v0\\n\\t\\t\\t\\tc0.1,0,4.7,0,11.1-1.3V3.7C18.7,5.1,14.2,5,14.1,5z M8.2,9.1L6.9,8.1L5.6,9.1l0.5-1.6l-1.3-1l1.6,0L6.9,5l0.5,1.6l1.6,0l-1.3,1\\n\\t\\t\\t\\tL8.2,9.1z M20.7,6.5L21.2,5l0.5,1.6l1.6,0l-1.3,1l0.5,1.6l-1.3-0.9l-1.3,0.9l0.5-1.6l-1.3-1L20.7,6.5z M16.2,7.1l-1.3,1l0.5,1.6\\n\\t\\t\\t\\tl-1.3-0.9l-1.3,0.9l0.5-1.6l-1.3-1l1.6,0l0.5-1.6l0.5,1.6L16.2,7.1z\"/>\\n\\t\\t\\t<path d=\"M14.1,21.7L14.1,21.7L14.1,21.7L14.1,21.7L14.1,21.7c-0.1,0-4.7,0-11.1-1.3v1.8c0,0.3,0,0.5,0,0.5l0,0\\n\\t\\t\\t\\tl0,0c0,0.9,0.3,1.5,0.8,2.1c0.3,0.4,0.8,0.7,1.5,1.1c0.2,0.1,0.4,0.2,0.6,0.3c0.2,0.1,0.3,0.1,0.5,0.2v0l0,0\\n\\t\\t\\t\\tc0.1,0.1,0.6,0.3,0.7,0.3l7,2.6v0l0,0l0,0v0l7-2.6c0.1-0.1,0.6-0.3,0.7-0.3l0,0v0c0.2-0.1,0.3-0.1,0.5-0.2\\n\\t\\t\\t\\tc0.2-0.1,0.4-0.2,0.6-0.3c0.7-0.4,1.1-0.7,1.5-1.1c0.5-0.6,0.8-1.3,0.8-2.1l0,0l0,0c0,0,0-0.2,0-0.5v0v-1.8\\n\\t\\t\\t\\tC18.7,21.7,14.2,21.7,14.1,21.7z M6.4,25.3l-0.3,0.3l-0.5-0.4v-0.4h0.7V25.3z M6.4,24.6H6V24l-0.4-0.4l0,0l-0.5,0.3l-0.3-0.3\\n\\t\\t\\t\\tv-0.5h1.1l0.5,0.5V24.6z M6.9,26.3l-0.4-0.5l0.2-0.4v-0.6h0.4v0.6l0.2,0.4L6.9,26.3z M7.3,23L7.3,23l-0.2,0.6v1H6.7v-1L6.5,23h0\\n\\t\\t\\t\\tv0l0,0v-1.1h0l0.4-0.4l0.4,0.4V23z M8.1,25.2l-0.5,0.4l-0.3-0.3v-0.4h0.7V25.2z M9,23.6l-0.3,0.3l-0.5-0.3l0,0L7.8,24v0.6H7.4v-1\\n\\t\\t\\t\\tl0.5-0.5H9V23.6z M13.4,27.5L13,27.9l-0.6-0.5v-0.5h1V27.5z M13.4,26.4h-0.6v-0.8L12.3,25l0,0l-0.7,0.4L11.2,25v-0.7h1.5l0.7,0.8\\n\\t\\t\\t\\tV26.4z M14.1,28.9l-0.6-0.7l0.3-0.5v-0.8h0.6v0.8l0.3,0.5L14.1,28.9z M20.8,25.3l-0.3,0.3L20,25.2v-0.4h0.7V25.3z M21.7,23.6\\n\\t\\t\\t\\tl0.5-0.5h1.1v0.5L23,23.9l-0.5-0.3l0,0L22.1,24v0.6h-0.4V23.6z M21.7,24.8h0.7v0.4L22,25.6l-0.3-0.3V24.8z M20.8,23L20.8,23v-1.1\\n\\t\\t\\t\\tl0,0l0.4-0.4l0.4,0.4V23h0l-0.2,0.6v1h-0.4v-1L20.8,23L20.8,23L20.8,23z M21.1,25.4v-0.6h0.4v0.6l0.2,0.4l-0.4,0.5l-0.4-0.5\\n\\t\\t\\t\\tL21.1,25.4z M19.2,23.1h1.1l0.5,0.5v1h-0.4V24L20,23.6l0,0l-0.5,0.3l-0.3-0.3V23.1z M14.8,25l0.7-0.8H17V25l-0.4,0.4L15.9,25l0,0\\n\\t\\t\\t\\tl-0.5,0.6v0.8h-0.6V25z M14.8,26.8h1v0.5l-0.6,0.5l-0.4-0.4V26.8z M14.7,24.2L14.7,24.2L14.4,25v1.4h-0.6V25l-0.3-0.8h0v0l0,0\\n\\t\\t\\t\\tl0,0v-1.6l0,0l0.6-0.6l0.6,0.6V24.2z\"/>\\n\\t\\t\\t<polygon points=\"14.6,18.9 14.1,19.3 13.5,18.9 13.2,18.6 8.8,18.6 8.8,12 7.9,12.7 7.9,19.5 13.1,19.5\\n\\t\\t\\t\\t13.5,19.9 14.1,20.4 14.6,19.9 15.1,19.5 20.3,19.5 20.3,12.7 19.4,12 19.4,18.6 14.9,18.6 \\t\\t\\t\"/>\\n\\t\\t\\t<polygon points=\"13.5,11.6 13.4,11.5 9.7,11.5 9.7,17.7 13.4,17.7 13.6,17.9 14.1,18.3 14.5,17.9 14.8,17.7\\n\\t\\t\\t\\t18.4,17.7 18.4,11.5 14.8,11.5 14.6,11.6 14.1,12.1 \\t\\t\\t\"/>\\n\\t\\t\\t<path d=\"M21.2,17.6c1.2-0.2,2.5-0.4,3.9-0.7v-1.7v-2.5c-1.4,0.3-2.7,0.5-3.9,0.7V17.6z\"/>\\n\\t\\t\\t<path d=\"M6.9,13.4C5.7,13.2,4.4,13,3,12.7v2.5v1.7c1.4,0.3,2.7,0.5,3.9,0.7V13.4z\"/>\\n\\t\\t</g>\\n\\t</g>\\n\\t<g>\\n\\t\\t<path fill-rule=\"evenodd\" clip-rule=\"evenodd\" d=\"M91.3,52.7c0,0,2.1-1.2,2-3.4c-0.1-2.1-1.2-2.8-2-2.8\\n\\t\\t\\tc-0.8,0-1.8,0.6-1.9,2.5C89.2,51.2,91.3,52.7,91.3,52.7L91.3,52.7z M94.4,58.7c-0.8-1.1-1.6-2.1-2.6-3.1c-0.7-0.8-1.4-1.4-1.4-1.4\\n\\t\\t\\ts-0.8,0.6-1.3,1.1c-0.5,0.5-1.2,1.7-1,3.4c0.3,2.4,1.9,3,3.4,2.8c1.5-0.2,3-2.7,3-2.7L94.4,58.7L94.4,58.7z M99.3,62.9h-2.2\\n\\t\\t\\tl-0.2-0.3l-0.5-0.8c-0.2-0.4-0.7-1.1-1.5-2.3c-1.6,2.3-2.7,3.4-4.5,3.4c-3,0-3.9-2.4-3.9-4.5c0-1.3,0.5-2.4,1.3-3.3\\n\\t\\t\\tc0.5-0.6,1.1-1.1,2-1.6c-1.1-1-1.9-2-1.9-3.5c0-2.7,1.7-4.5,3.5-4.5c1.7,0,3.2,1.5,3.2,3.8c0,1.1-0.4,1.7-1,2.4\\n\\t\\t\\tc-0.3,0.4-1,1.1-1.6,1.6c-0.1,0.1,1.5,1.7,1.6,1.9l1.8,2.1c0,0,2-3.9,1.6-4.5c-0.3-0.5-1.7-0.6-1.7-0.6l0-0.7h5l0,0.7\\n\\t\\t\\tc-0.4,0-1.2,0.1-1.8,0.8c-0.3,0.3-2.6,4.8-2.6,4.8s1.7,2.4,1.8,2.6c0,0,0.3,0.4,0.4,0.6l0.1,0.2C98.9,62,98.9,62.1,99.3,62.9\\n\\t\\t\\tL99.3,62.9z\"/>\\n\\t\\t<path fill-rule=\"evenodd\" clip-rule=\"evenodd\" d=\"M55.3,51.8c0-0.8,0-0.8,1.1-0.8c1.2,0,2.3,0.8,2.3,2.6\\n\\t\\t\\tc0,0.9-0.2,1.9-0.8,2.4c-0.5,0.4-1,0.4-1.5,0.4h-1V51.8L55.3,51.8z M55.3,57.2H56c0.6,0,0.8,0.1,1.1,0.7c0.4,0.8,1,2.1,1.6,3\\n\\t\\t\\tc0.6,1,1.4,1.7,3.3,1.7h0.3l0.1-0.6c-0.5-0.2-0.9-0.5-1.2-0.8c-0.4-0.4-0.8-1-1.3-2c-0.5-0.8-1.2-2.1-1.5-2.7\\n\\t\\t\\tc1.3-0.6,2.2-1.5,2.2-3.2c0-1.2-0.5-2.1-1.1-2.5c-0.7-0.5-1.5-0.6-2.6-0.6H52v0.6c1.4,0.1,1.5,0.2,1.5,2.3v6.4\\n\\t\\t\\tc0,2-0.1,2.1-1.6,2.3v0.6h4.9v-0.6c-1.4-0.1-1.6-0.3-1.6-2.3V57.2L55.3,57.2z\"/>\\n\\t\\t<path d=\"M66.3,59.6c0,2-0.1,2.1-1.7,2.3v0.6h5.2v-0.6c-1.6-0.1-1.8-0.3-1.8-2.3v-8.5h1c1,0,1.5,0.2,1.8,0.5\\n\\t\\t\\tc0.2,0.3,0.4,0.8,0.6,1.9l0.6-0.1c-0.1-1.2-0.2-2.9-0.2-3.7h-0.3c-0.2,0.4-0.3,0.5-0.8,0.5h-7c-0.4,0-0.6-0.1-0.9-0.5h-0.3\\n\\t\\t\\tc0,1-0.1,2.3-0.2,3.7H63c0.2-1,0.4-1.5,0.6-1.8c0.2-0.3,0.7-0.6,2-0.6h0.7V59.6L66.3,59.6z\"/>\\n\\t\\t<path d=\"M72.8,58.6c0.2,1.2,0.4,2.8,0.5,3.2c0.4,0.3,1.4,1,2.9,1c2.2,0,3.8-1.6,3.8-3.9c0-2.3-1.6-3.2-3.2-3.9\\n\\t\\t\\tc-1-0.5-2.1-1-2.1-2.4c0-1,0.6-2,1.8-2c1.3,0,2.1,1.2,2.4,2.8l0.6-0.1c-0.2-1.3-0.2-2.3-0.4-3.1c-0.4-0.1-1.2-0.5-2.2-0.5\\n\\t\\t\\tc-2.2,0-3.6,1.5-3.6,3.7c0,2.1,1.8,3,2.9,3.6c1,0.5,2.2,1.1,2.2,2.7c0,1.3-0.8,2.2-2,2.2c-1.5,0-2.7-1.9-3-3.4L72.8,58.6\\n\\t\\t\\tL72.8,58.6z\"/>\\n\\t\\t<path fill-rule=\"evenodd\" clip-rule=\"evenodd\" d=\"M44.1,48.7l2,5.9l-3.9,0L44.1,48.7L44.1,48.7z M43,49.8l-3.2,9.3\\n\\t\\t\\tc-0.8,2.5-1,2.6-2.4,2.8v0.6h4.8v-0.6l-0.8-0.1c-1-0.1-1.2-0.4-0.8-2c0.3-1.2,1.1-3.3,1.3-4.1l4.5,0c0.6,2,1.3,4.1,1.4,4.8\\n\\t\\t\\tc0.2,0.9,0.1,1.2-0.7,1.3l-0.7,0.1v0.6h5.5v-0.6c-1.4-0.1-1.7-0.3-2.4-2.6C48.6,56.4,45,45.5,45,45.5l-0.5,0.2L43,49.8L43,49.8z\"\\n\\t\\t\\t/>\\n\\t\\t<path d=\"M105.2,58.1c0.2,1.4,0.4,3.2,0.6,3.9c0.3,0.1,0.6,0.3,1.2,0.5c0.5,0.2,1.2,0.4,2,0.4\\n\\t\\t\\tc2.7,0,4.7-2.3,4.7-5.3c0-3.2-2.2-4.4-3.6-5.1c-1.6-0.9-2.7-1.5-2.7-3.4c0-1.5,0.7-2.8,2.2-2.8c1.9,0,2.6,1.7,2.9,3.3l0.5-0.1\\n\\t\\t\\tc-0.2-1.5-0.3-2.6-0.4-3.5c-0.2-0.1-0.5-0.2-0.8-0.3c-0.4-0.2-1.2-0.3-1.7-0.3c-2.8,0-4.3,2.2-4.3,4.7c0,3.1,2.9,4.4,3.6,4.8\\n\\t\\t\\tc1.3,0.8,2.7,1.6,2.7,3.8c0,2-1.2,3.3-2.8,3.3c-2.2,0-3.1-2.8-3.4-4L105.2,58.1L105.2,58.1z\"/>\\n\\t\\t<path d=\"M124.4,53.5c-0.1-1.2-0.2-2.2-0.3-3.3c-0.6-0.2-1.7-0.5-3.2-0.5c-3.4,0-6.1,2.7-6.1,6.6\\n\\t\\t\\tc0,3.1,1.9,6.3,5.9,6.3c1.2,0,2.7-0.4,3.2-0.5c0.2-0.7,0.6-2.4,0.8-3.4l-0.6-0.1c-0.8,2.1-1.7,3.2-3.4,3.2c-2.4,0-4-2.4-4-5.9\\n\\t\\t\\tc0-3.1,1.4-5.4,3.8-5.4c1.6,0,2.7,0.7,3.2,3L124.4,53.5L124.4,53.5z\"/>\\n\\t\\t<path d=\"M129.4,53c0-2,0.1-2.1,1.6-2.3v-0.6h-4.9v0.6c1.4,0.1,1.6,0.2,1.6,2.3v6.4c0,2-0.1,2.1-1.6,2.3v0.6h4.9\\n\\t\\t\\tv-0.6c-1.4-0.1-1.6-0.3-1.6-2.3V53L129.4,53z\"/>\\n\\t\\t<path d=\"M134,59.4c0,2-0.1,2.2-1.7,2.3v0.6h8.5c0.1-0.5,0.5-2.5,0.6-3.2l-0.6-0.1c-0.2,0.9-0.5,1.5-0.8,1.9\\n\\t\\t\\tc-0.4,0.4-1.1,0.6-2,0.6c-1,0-1.5,0-1.8-0.2c-0.3-0.2-0.4-0.8-0.4-1.9v-3h1.8c1.4,0,1.5,0.1,1.6,1.6h0.6v-4h-0.6\\n\\t\\t\\tc-0.2,1.4-0.2,1.5-1.6,1.5h-1.8v-3.9c0-0.7,0-0.7,0.7-0.7h1.3c1.1,0,1.6,0.3,1.8,0.6c0.2,0.3,0.4,0.8,0.6,1.8l0.6-0.1\\n\\t\\t\\tc-0.1-1.3-0.2-2.6-0.2-3.1h-8v0.6c1.4,0.1,1.5,0.2,1.5,2.3V59.4L134,59.4z\"/>\\n\\t\\t<path d=\"M152.5,55.3c0-2,0.1-2.9,0.1-3.6c0.1-0.7,0.6-1,1.5-1v-0.6h-4.3v0.6c1.1,0.1,1.6,0.4,1.7,1\\n\\t\\t\\tc0.1,0.6,0.1,1.6,0.1,3.6v3.8h0l-6.7-9h-2.8v0.6c1.5,0.1,1.9,0.6,1.9,2.8v3.7c0,2-0.1,2.9-0.1,3.5c-0.1,0.7-0.6,1-1.5,1v0.6h4.3\\n\\t\\t\\tv-0.6c-1.1-0.1-1.6-0.4-1.7-1c-0.1-0.6-0.1-1.5-0.1-3.5v-4h0l6.9,9.4h0.7V55.3L152.5,55.3z\"/>\\n\\t\\t<path d=\"M164.1,53.5c-0.1-1.2-0.2-2.2-0.3-3.3c-0.6-0.2-1.7-0.5-3.2-0.5c-3.4,0-6.1,2.7-6.1,6.6\\n\\t\\t\\tc0,3.1,1.9,6.3,5.9,6.3c1.2,0,2.7-0.4,3.2-0.5c0.2-0.7,0.6-2.4,0.8-3.4l-0.6-0.1c-0.8,2.1-1.7,3.2-3.4,3.2c-2.4,0-4-2.4-4-5.9\\n\\t\\t\\tc0-3.1,1.4-5.4,3.8-5.4c1.6,0,2.7,0.7,3.2,3L164.1,53.5L164.1,53.5z\"/>\\n\\t\\t<path d=\"M166.9,59.4c0,2-0.1,2.2-1.7,2.3v0.6h8.5c0.1-0.5,0.5-2.5,0.6-3.2l-0.6-0.1c-0.2,0.9-0.5,1.5-0.8,1.9\\n\\t\\t\\tc-0.4,0.4-1.1,0.6-2,0.6c-1,0-1.5,0-1.8-0.2c-0.3-0.2-0.4-0.8-0.4-1.9v-3h1.8c1.4,0,1.5,0.1,1.6,1.6h0.6v-4h-0.6\\n\\t\\t\\tc-0.2,1.4-0.2,1.5-1.6,1.5h-1.8v-3.9c0-0.7,0-0.7,0.7-0.7h1.3c1.1,0,1.6,0.3,1.8,0.6c0.2,0.3,0.4,0.8,0.6,1.8l0.6-0.1\\n\\t\\t\\tc-0.1-1.3-0.2-2.6-0.2-3.1h-8v0.6c1.4,0.1,1.5,0.2,1.5,2.3V59.4L166.9,59.4z\"/>\\n\\t\\t<path d=\"M175.4,58.6c0.2,1.2,0.4,2.8,0.5,3.2c0.4,0.3,1.4,1,2.9,1c2.2,0,3.8-1.6,3.8-3.9c0-2.3-1.6-3.2-3.2-3.9\\n\\t\\t\\tc-1-0.5-2.1-1-2.1-2.4c0-1,0.6-2,1.8-2c1.3,0,2.1,1.2,2.4,2.8l0.6-0.1c-0.2-1.3-0.2-2.3-0.4-3.1c-0.4-0.1-1.2-0.5-2.2-0.5\\n\\t\\t\\tc-2.2,0-3.6,1.5-3.6,3.7c0,2.1,1.8,3,2.9,3.6c1,0.5,2.2,1.1,2.2,2.7c0,1.3-0.8,2.2-2,2.2c-1.5,0-2.7-1.9-3-3.4L175.4,58.6\\n\\t\\t\\tL175.4,58.6z\"/>\\n\\t</g>\\n</symbol>\\n<symbol id=\"circle\" viewBox=\"0 0 512 512\">\\n<path d=\"M256 512c141.4 0 256-114.6 256-256S397.4 0 256 0S0 114.6 0 256S114.6 512 256 512z\"/>\\n</symbol>\\n</svg>\\n<?xml version=\"1.0\" encoding=\"UTF-8\"?>\\n<!--!\\nFont Awesome Pro 6.4.0 by @fontawesome - https://fontawesome.com\\nLicense - https://fontawesome.com/license (Commercial License)\\nCopyright 2023 Fonticons, Inc.\\n-->\\n<svg xmlns=\"http://www.w3.org/2000/svg\" style=\"display: none;\">\\n<symbol id=\"file-doc\" viewBox=\"0 0 512 512\">\\n<path d=\"M48 464H96v48H48 0V464 48 0H48 256L384 128V288H336V160H224V48H48V464zM176 352h32c26.5 0 48 21.5 48 48v64c0 26.5-21.5 48-48 48H176 160V496 368 352h16zm16 128h16c8.8 0 16-7.2 16-16V400c0-8.8-7.2-16-16-16H192v96zM456 352h16c22.1 0 40 17.9 40 40v8 16H480V400v-8c0-4.4-3.6-8-8-8H456c-4.4 0-8 3.6-8 8v80c0 4.4 3.6 8 8 8h16c4.4 0 8-3.6 8-8v-8V448h32v16 8c0 22.1-17.9 40-40 40H456c-22.1 0-40-17.9-40-40V392c0-22.1 17.9-40 40-40zM288 392c0-22.1 17.9-40 40-40h16c22.1 0 40 17.9 40 40v80c0 22.1-17.9 40-40 40H328c-22.1 0-40-17.9-40-40V392zm40-8c-4.4 0-8 3.6-8 8v80c0 4.4 3.6 8 8 8h16c4.4 0 8-3.6 8-8V392c0-4.4-3.6-8-8-8H328z\"/>\\n</symbol>\\n<symbol id=\"eye\" viewBox=\"0 0 576 512\">\\n<path d=\"M129.1 361.4C93.6 327.2 67.7 286.9 52.5 256c15.1-30.9 41-71.2 76.6-105.4C171.8 109.5 224.9 80 288 80s116.2 29.5 158.9 70.6c35.6 34.3 61.5 74.5 76.6 105.4c-15.1 30.9-41 71.2-76.6 105.4C404.2 402.5 351.1 432 288 432s-116.2-29.5-158.9-70.6zM288 480c158.4 0 258-149.3 288-224C546 181.3 446.4 32 288 32S30 181.3 0 256c30 74.7 129.6 224 288 224zm0-144c-44.2 0-80-35.8-80-80c0-5.4 .5-10.6 1.5-15.7L288 256l-15.7-78.5c5.1-1 10.3-1.5 15.7-1.5c44.2 0 80 35.8 80 80s-35.8 80-80 80zM160 256c0 70.7 57.3 128 128 128s128-57.3 128-128s-57.3-128-128-128c-8.6 0-17 .8-25.1 2.5c-50.3 10-90 49.5-100.3 99.7l-.1 .7c-1.6 8.1-2.5 16.5-2.5 25.1z\"/>\\n</symbol>\\n</svg>\\n</span></div>\\n\\n<script type=\"text/javascript\" id=\"hs-script-loader\" async defer src=\"//js.hs-scripts.com/44596675.js\"></script>\\n  <script src=\"/sites/polisci.wustl.edu/files/js/js_liA0erCkpwJsdipZ3faNWGvcZ1HTDodrqYejE-txNA0.js?scope=footer&amp;delta=0&amp;language=en&amp;theme=olympian9&amp;include=eJx1kNFuwzAIRX_Inp_3NYgkxKXCxjKkbfb1a5pIyyr1Bd_DBSzA7jZyyqIDSrSxc3MLA7lTB3o0NZpgZnmiJVxcwZahsH8qyVSpo3yyjYRGBxSBqpVCVs1C4JhTfoZ3_sIrPv4nSxD8WdMWQtWJ4E6cL542vcugspbGWL_TgEYnrHjjjM5aY-tcsK8n03GwM2rbzqEip-SN6W7xWCrO2kuMM46L-Bob5r-_YNROCafCNeqNeueJLLza9yH7Zi8Jm4QLm2tf0_EelihOULZZb_wLAE2sow\"></script>\\n<script src=\"/themes/custom/olympian9/js/olympian9.status-messages.js?v=1.x\"></script>\\n<script src=\"/sites/polisci.wustl.edu/files/js/js_4jP17UYGUAeS2AXZ-r4-2TzFn5X52qmrHcAQpuSC8BA.js?scope=footer&amp;delta=2&amp;language=en&amp;theme=olympian9&amp;include=eJx1kNFuwzAIRX_Inp_3NYgkxKXCxjKkbfb1a5pIyyr1Bd_DBSzA7jZyyqIDSrSxc3MLA7lTB3o0NZpgZnmiJVxcwZahsH8qyVSpo3yyjYRGBxSBqpVCVs1C4JhTfoZ3_sIrPv4nSxD8WdMWQtWJ4E6cL542vcugspbGWL_TgEYnrHjjjM5aY-tcsK8n03GwM2rbzqEip-SN6W7xWCrO2kuMM46L-Bob5r-_YNROCafCNeqNeueJLLza9yH7Zi8Jm4QLm2tf0_EelihOULZZb_wLAE2sow\"></script>\\n<script src=\"/themes/custom/olympian9/js/tabs.js?t0jlcf\"></script>\\n<script src=\"/themes/custom/olympian9/js/top-scroll.js?t0jlcf\"></script>\\n<script src=\"/themes/custom/olympian9/js/view-toggle.js?t0jlcf\"></script>\\n<script src=\"/sites/polisci.wustl.edu/files/js/js_4t78B7PbLBJNuaNj2LpPy6GW4Bk8BS5z1bvQnB7R74A.js?scope=footer&amp;delta=6&amp;language=en&amp;theme=olympian9&amp;include=eJx1kNFuwzAIRX_Inp_3NYgkxKXCxjKkbfb1a5pIyyr1Bd_DBSzA7jZyyqIDSrSxc3MLA7lTB3o0NZpgZnmiJVxcwZahsH8qyVSpo3yyjYRGBxSBqpVCVs1C4JhTfoZ3_sIrPv4nSxD8WdMWQtWJ4E6cL542vcugspbGWL_TgEYnrHjjjM5aY-tcsK8n03GwM2rbzqEip-SN6W7xWCrO2kuMM46L-Bob5r-_YNROCafCNeqNeueJLLza9yH7Zi8Jm4QLm2tf0_EelihOULZZb_wLAE2sow\"></script>\\n</body>\\n</html>\\n'"
      ]
     },
     "execution_count": 1,
     "metadata": {},
     "output_type": "execute_result"
    }
   ],
   "source": [
    "import requests\n",
    "web_address = 'https://polisci.wustl.edu/people'\n",
    "response = requests.get(web_address, verify=False)\n",
    "web_page = response.text\n",
    "web_page  # HTML content as string"
   ]
  },
  {
   "cell_type": "markdown",
   "metadata": {
    "editable": true,
    "slideshow": {
     "slide_type": "subslide"
    },
    "tags": []
   },
   "source": [
    "2. Parse it"
   ]
  },
  {
   "cell_type": "code",
   "execution_count": 5,
   "metadata": {},
   "outputs": [],
   "source": [
    "from bs4 import BeautifulSoup\n",
    "soup = BeautifulSoup(web_page, 'html.parser')\n",
    "# print(soup)\n",
    "# print(soup.prettify()) # enable us to view how tags are nested in the document"
   ]
  },
  {
   "cell_type": "code",
   "execution_count": 6,
   "metadata": {
    "editable": true,
    "scrolled": true,
    "slideshow": {
     "slide_type": ""
    },
    "tags": []
   },
   "outputs": [
    {
     "data": {
      "text/plain": [
       "'<!DOCTYPE html>\\n<html class=\"no-js\" dir=\"ltr\" lang=\"en\" prefix=\"og: https://ogp.me/ns#\">\\n <head>\\n  <meta charset=\"utf-8\"/>\\n  <noscript>\\n   <style>\\n    form.antibot * :not(.antibot-message) { display: none !important; }\\n   </style>\\n  </noscript>\\n  <style>\\n   /* @see https://github.com/aFarkas/lazysizes#broken-image-symbol */.js img.lazyload:not([src]) { visibility: hidden; }/* @see https://github.com/aFarkas/lazysizes#automatically-setting-the-sizes-attribute */.js img.lazyloaded[data-sizes=auto] { display: block; width: 100%; }/* Transition effect. */.js .lazyload, .js .lazyloading { opacity: 0; }.js .lazyloaded { opacity: 1; -webkit-transition: opacity 2000ms; transition: opacity 2000ms; }\\n  </style>\\n  <meta content=\"Description\" name=\"description\"/>\\n  <link href=\"https://polisci.wustl.edu/node/50\" rel=\"shortlink\"/>\\n  <link href=\"https://polisci.wustl.edu/people\" rel=\"canonical\"/>\\n  <meta content=\"index, follow\" name=\"robots\"/>\\n  <meta content=\"asdrupal\" name=\"author\"/>\\n  <meta content=\"Drupal 10 (http://drupal.org)\" name=\"generator\"/>\\n  <meta content=\"Department of Political Science\" property=\"og:site_name\"/>\\n  <meta content=\"profile\" property=\"og:type\"/>\\n  <meta content=\"https://polisci.wustl.edu/people\" property=\"og:url\"/>\\n  <meta content=\"Our People\" property=\"og:title\"/>\\n  <meta content=\"\" property=\"og:description\"/>\\n  <meta content=\"2025-04-14T10:48:12-05:00\" property=\"og:updated_time\"/>\\n  <meta content=\"2017-02-24T09:30:04-06:00\" property=\"article:published_time\"/>\\n  <meta content=\"2025-04-14T10:48:12-05:00\" property=\"article:modified_time\"/>\\n  <meta content=\"summary\" name=\"twitter:card\"/>\\n  <meta content=\"Our People\" name=\"twitter:title\"/>\\n  <meta content=\"@washuartsci\" name=\"twitter:creator\"/>\\n  <meta content=\"Drupal 10 (https://www.drupal.org)\" name=\"Generator\"/>\\n  <meta content=\"width\" name=\"MobileOptimized\"/>\\n  <meta content=\"true\" name=\"HandheldFriendly\"/>\\n  <meta content=\"width=device-width, initial-scale=1.0\" name=\"viewport\"/>\\n  <script type=\"application/ld+json\">\\n   {\\n    \"@context\": \"https://schema.org\",\\n    \"@graph\": [\\n        {\\n            \"@type\": \"Article\",\\n            \"@id\": \"https://polisci.wustl.edu/people\",\\n            \"name\": \"Our People\",\\n            \"datePublished\": \"2017-02-24T09:30:04-06:00\",\\n            \"dateModified\": \"2025-04-14T10:48:12-05:00\"\\n        }\\n    ]\\n}\\n  </script>\\n  <meta content=\"Arts and Sciences olympian theme (https://artsci.washu.edu)\" name=\"web-author\"/>\\n  <link href=\"/themes/custom/olympian9/favicon.ico\" rel=\"icon\" type=\"image/vnd.microsoft.icon\"/>\\n  <title>\\n   Our People | Department of Political Science\\n  </title>\\n  <link href=\"/sites/polisci.wustl.edu/files/css/css_laVHCAl1j12T2TNejVx2BfsqZQXvF7HZxbvdB0UspWo.css?delta=0&amp;language=en&amp;theme=olympian9&amp;include=eJxtkFGOgzAMRC9E4HtPgwxxgysnjuwEmtsvpV3BVv2yZp5kj2fCUlBHfGQx9OONeJc2BEyowN0sioPXmoF7uMOjE24xE6SfYQLDi0ywUoBCklxWiqDtAhXDE7ibyL7-C1gQ_D9QYLKrlOxsVmG-mCvhZu4dfd-tcb8Ac-XSXIZwphuPN8BHSk5WVCWP9kEDpdOJ6AnGrRltLQzv2WVQCAp5sb9KTqevKdeJyRb0nTUrGF8NHSFfUfsovjL-AjFbkCY\" media=\"all\" rel=\"stylesheet\"/>\\n  <link href=\"/sites/polisci.wustl.edu/files/css/css_e2tigoaArJ9DCMbxBHz-NKlVcrWAS9PKne90KsINOTU.css?delta=1&amp;language=en&amp;theme=olympian9&amp;include=eJxtkFGOgzAMRC9E4HtPgwxxgysnjuwEmtsvpV3BVv2yZp5kj2fCUlBHfGQx9OONeJc2BEyowN0sioPXmoF7uMOjE24xE6SfYQLDi0ywUoBCklxWiqDtAhXDE7ibyL7-C1gQ_D9QYLKrlOxsVmG-mCvhZu4dfd-tcb8Ac-XSXIZwphuPN8BHSk5WVCWP9kEDpdOJ6AnGrRltLQzv2WVQCAp5sb9KTqevKdeJyRb0nTUrGF8NHSFfUfsovjL-AjFbkCY\" media=\"all\" rel=\"stylesheet\"/>\\n  <link href=\"/themes/custom/olympian9/assets/css/components/top-scroll.css?t0jlcf\" media=\"all\" rel=\"stylesheet\"/>\\n  <link href=\"/sites/polisci.wustl.edu/files/css/css_UVctl2B_3fLqmEvuBheSYiv4B7QMEjy03bRGfaU8vmI.css?delta=3&amp;language=en&amp;theme=olympian9&amp;include=eJxtkFGOgzAMRC9E4HtPgwxxgysnjuwEmtsvpV3BVv2yZp5kj2fCUlBHfGQx9OONeJc2BEyowN0sioPXmoF7uMOjE24xE6SfYQLDi0ywUoBCklxWiqDtAhXDE7ibyL7-C1gQ_D9QYLKrlOxsVmG-mCvhZu4dfd-tcb8Ac-XSXIZwphuPN8BHSk5WVCWP9kEDpdOJ6AnGrRltLQzv2WVQCAp5sb9KTqevKdeJyRb0nTUrGF8NHSFfUfsovjL-AjFbkCY\" media=\"all\" rel=\"stylesheet\"/>\\n  <script data-drupal-selector=\"drupal-settings-json\" type=\"application/json\">\\n   {\"path\":{\"baseUrl\":\"\\\\/\",\"pathPrefix\":\"\",\"currentPath\":\"node\\\\/50\",\"currentPathIsAdmin\":false,\"isFront\":false,\"currentLanguage\":\"en\"},\"pluralDelimiter\":\"\\\\u0003\",\"suppressDeprecationErrors\":true,\"gtag\":{\"tagId\":\"G-BFRZ21PBX1\",\"consentMode\":false,\"otherIds\":[],\"events\":[],\"additionalConfigInfo\":[]},\"ajaxPageState\":{\"libraries\":\"eJx1kd1yhCAMhV9Il-s-DRMli2kDYRJcS5--Wp1Z1-neEM75MpAf0GojucgyAPc2KpVq3YC1onr8LmIY_J14leZgruJtHhLVdykRMyrwO2zIOFYPzD5Lxi6KREZfIbq4Hld9g0_4fjVTx_DT3HZ0WQL6BSlO1W33_doJt1QI8ocbwPAk7zDOXFvPkAPl2BeIZ0y5qoR5rCT5ZGd4UITN7ItSAm0nqBg30N9F1gb_ARNCeAEVBjtLKdvYhflkPggX64_hrW9rWn84in8p2o-i6CAkyr08UJUC2oVGyhen6Lqd5tddJMz1mm9M49fTSxgI_NKMlhbdEbsCClGhTOaCzgX49nRucy7zwGQThs6aVUz7Jv7a2pvbN3s20jp6PnL8Rv1EVkWbO-KBWCD4tBV60b8fchhm\",\"theme\":\"olympian9\",\"theme_token\":null},\"ajaxTrustedUrl\":{\"\\\\/people\":true,\"form_action_p_pvdeGsVG5zNF_XLGPTvYSKCf43t8qZYSwcfZl2uzM\":true},\"gtm\":{\"tagId\":null,\"settings\":{\"data_layer\":\"dataLayer\",\"include_classes\":false,\"allowlist_classes\":\"\",\"blocklist_classes\":\"\",\"include_environment\":false,\"environment_id\":\"\",\"environment_token\":\"\"},\"tagIds\":[\"GTM-KWNP4D65\"]},\"lazy\":{\"lazysizes\":{\"lazyClass\":\"lazyload\",\"loadedClass\":\"lazyloaded\",\"loadingClass\":\"lazyloading\",\"preloadClass\":\"lazypreload\",\"errorClass\":\"lazyerror\",\"autosizesClass\":\"lazyautosizes\",\"srcAttr\":\"data-src\",\"srcsetAttr\":\"data-srcset\",\"sizesAttr\":\"data-sizes\",\"minSize\":40,\"customMedia\":[],\"init\":true,\"expFactor\":1.5,\"hFac\":0.8,\"loadMode\":2,\"loadHidden\":true,\"ricTimeout\":0,\"throttleDelay\":125,\"plugins\":{\"aspectratio\":\"aspectratio\\\\/ls.aspectratio\"}},\"placeholderSrc\":\"\",\"preferNative\":false,\"minified\":false,\"libraryPath\":\"\\\\/libraries\\\\/lazysizes\"},\"artsci\":{\"version\":\"olympian\"},\"viewsAjaxHistory\":{\"renderPageItem\":0,\"initialExposedInput\":{\"views_dom_id:b2e4e1a13b9aa40a9abdb9c3a042f488db7ac276a1e73c81d7fa7a063c3e000f\":null,\"views_dom_id:d0fd63a2b15e742bf48eb461fccdb99bd596cfc234716dc9e9ce2932f1fb3431\":null}},\"views\":{\"ajax_path\":\"\\\\/views\\\\/ajax\",\"ajaxViews\":{\"views_dom_id:b2e4e1a13b9aa40a9abdb9c3a042f488db7ac276a1e73c81d7fa7a063c3e000f\":{\"view_name\":\"faculty\",\"view_display_id\":\"block_grid2\",\"view_args\":\"\",\"view_path\":\"\\\\/node\\\\/50\",\"view_base_path\":\"people\\\\/list\",\"view_dom_id\":\"b2e4e1a13b9aa40a9abdb9c3a042f488db7ac276a1e73c81d7fa7a063c3e000f\",\"pager_element\":0},\"views_dom_id:d0fd63a2b15e742bf48eb461fccdb99bd596cfc234716dc9e9ce2932f1fb3431\":{\"view_name\":\"faculty\",\"view_display_id\":\"attachment_1\",\"view_args\":\"\",\"view_path\":\"\\\\/node\\\\/50\",\"view_base_path\":\"people\\\\/list\",\"view_dom_id\":\"d0fd63a2b15e742bf48eb461fccdb99bd596cfc234716dc9e9ce2932f1fb3431\",\"pager_element\":0}}},\"better_exposed_filters\":{\"autosubmit_exclude_textfield\":true},\"user\":{\"uid\":0,\"permissionsHash\":\"61819293daa9ba9dd9f5d79756c6740effd70d9df3ad9f543661e4a7d27b5e26\"}}\\n  </script>\\n  <script src=\"/sites/polisci.wustl.edu/files/js/js_a5KIeZ0Mi76kMqulMXm4vRZoAIbqdnlQ_wS57wUPjY4.js?scope=header&amp;delta=0&amp;language=en&amp;theme=olympian9&amp;include=eJx1kNFuwzAIRX_Inp_3NYgkxKXCxjKkbfb1a5pIyyr1Bd_DBSzA7jZyyqIDSrSxc3MLA7lTB3o0NZpgZnmiJVxcwZahsH8qyVSpo3yyjYRGBxSBqpVCVs1C4JhTfoZ3_sIrPv4nSxD8WdMWQtWJ4E6cL542vcugspbGWL_TgEYnrHjjjM5aY-tcsK8n03GwM2rbzqEip-SN6W7xWCrO2kuMM46L-Bob5r-_YNROCafCNeqNeueJLLza9yH7Zi8Jm4QLm2tf0_EelihOULZZb_wLAE2sow\">\\n  </script>\\n  <script src=\"/modules/contrib/google_tag/js/gtag.js?t0jlcf\">\\n  </script>\\n  <script src=\"/modules/contrib/google_tag/js/gtm.js?t0jlcf\">\\n  </script>\\n </head>\\n <body class=\"top-scroll is-always-mobile-nav our-people toggle-list-class user-logged-out lighttheme-wu path-node page-node-type-faculty-landing-page\">\\n  <div aria-label=\"skip-link\" class=\"skip-link-region\" role=\"region\">\\n   <a aria-label=\"skip to main content\" class=\"visually-hidden focusable skip-link\" href=\"#main-content\" role=\"link\">\\n    Skip to main content\\n   </a>\\n  </div>\\n  <noscript>\\n   <iframe height=\"0\" src=\"https://www.googletagmanager.com/ns.html?id=GTM-KWNP4D65\" style=\"display:none;visibility:hidden\" width=\"0\">\\n   </iframe>\\n  </noscript>\\n  <div class=\"dialog-off-canvas-main-canvas\" data-off-canvas-main-canvas=\"\">\\n   <div id=\"viewport\">\\n    <header class=\"flex light\" id=\"header\" role=\"banner\">\\n     <a class=\"logo\" href=\"https://artsci.washu.edu\">\\n      <picture>\\n       <source media=\"(min-width: 767px)\" srcset=\"/themes/custom/olympian9/svg/logo-art-sci-vert-color.svg\"/>\\n       <img alt=\"Washington University in St. Louis\" src=\"/themes/custom/olympian9/svg/logo-art-sci-color.svg\"/>\\n      </picture>\\n     </a>\\n     <div class=\"department light\">\\n      <a alt=\" Department of Political Science  front page\" href=\"/\">\\n       Department of Political Science\\n      </a>\\n     </div>\\n     <div class=\"header-nav-overlay\" data-drupal-selector=\"header-nav-overlay\">\\n     </div>\\n     <button aria-controls=\"main-nav\" aria-label=\"Menu\" id=\"main-nav-toggle\" type=\"button\">\\n      <span class=\"open\">\\n       Menu\\n      </span>\\n      <span class=\"close\">\\n       <svg class=\"icon\">\\n        <use xlink:href=\"#close\">\\n        </use>\\n       </svg>\\n       <span>\\n        Close\\n       </span>\\n      </span>\\n     </button>\\n     <nav class=\"flex togglee\" id=\"main-nav\">\\n      <div class=\"inner flex\">\\n       <div class=\"column\">\\n        <div class=\"search\">\\n         <div class=\"block block-search\" id=\"block-olympian-search-form-narrow\">\\n          <div class=\"content container-inline\">\\n           <form accept-charset=\"UTF-8\" action=\"/people\" class=\"olympian-search-api-form-block form-inline clearfix olympian-search-form olympian9-content search-form olympian-search-api-form\" data-drupal-selector=\"olympian-search-api-form-block\" id=\"olympian-search-api-form-block\" method=\"post\">\\n            <input data-drupal-selector=\"edit-search-config\" name=\"search_config\" type=\"hidden\" value=\"/search search\"/>\\n            <div class=\"js-form-item form-item js-form-type-search form-type-search js-form-item-search form-item-search olympian-search\">\\n             <input class=\"form-search\" data-drupal-selector=\"edit-search\" id=\"edit-search\" maxlength=\"255\" name=\"search\" placeholder=\"WHAT ARE YOU LOOKING FOR?\" size=\"25\" type=\"search\" value=\"\"/>\\n            </div>\\n            <input autocomplete=\"off\" data-drupal-selector=\"form-ka-o9rqj20yqd4toaugvddamy2czdgibtnza9g5y4l8\" name=\"form_build_id\" type=\"hidden\" value=\"form-KA-O9rqj20YQD4toAUgVddAmY2CZdGIbTnZa9G5Y4L8\"/>\\n            <input data-drupal-selector=\"edit-olympian-search-api-form-block\" name=\"form_id\" type=\"hidden\" value=\"olympian_search_api_form_block\"/>\\n            <input class=\"button js-form-submit form-submit\" data-drupal-selector=\"edit-submit\" id=\"edit-submit\" name=\"op\" type=\"submit\" value=\"\"/>\\n            <button class=\"search-button\" href=\"/search\">\\n             <svg class=\"icon\">\\n              <use xlink:href=\"#icon-search\">\\n              </use>\\n             </svg>\\n            </button>\\n           </form>\\n          </div>\\n         </div>\\n        </div>\\n        <nav aria-label=\"Main Menu\" id=\"primary-nav\" role=\"navigation\">\\n         <ul class=\"menu\">\\n          <li class=\"primary-nav__menu-link primary-nav__menu-link--link primary-nav__menu-link--level-1\">\\n           <a data-drupal-link-system-path=\"node/13357\" href=\"/undergraduate\">\\n            Undergraduate Program\\n           </a>\\n          </li>\\n          <li class=\"primary-nav__menu-link primary-nav__menu-link--link primary-nav__menu-link--level-1 primary-nav__menu-item--has-children\">\\n           <a data-drupal-link-system-path=\"node/13340\" href=\"/graduate-program\">\\n            Graduate Program\\n           </a>\\n           <button aria-controls=\"2\" aria-expanded=\"false\" aria-hidden=\"true\" class=\"primary-nav primary-nav__button-toggle\" data-drupal-selector=\"primary-nav-submenu-toggle-button\" tabindex=\"-1\">\\n            <span class=\"visually-hidden\">\\n             Graduate Program sub-navigation\\n            </span>\\n            <span class=\"icon--menu-toggle\">\\n             <svg class=\"icon\">\\n              <use xlink:href=\"#nav-arrow\">\\n              </use>\\n             </svg>\\n            </span>\\n           </button>\\n           <ul aria-expanded=\"false\" aria-hidden=\"true\" aria-labelledby=\"2\" aria-selected=\"false\" class=\"submenu-link\" id=\"submenu-2\" role=\"menu\" style=\"display: none;\">\\n            <ul class=\"menu\">\\n             <li class=\"primary-nav__menu-link primary-nav__menu-link--link primary-nav__menu-link--level-2\">\\n              <a data-drupal-link-system-path=\"node/14467\" href=\"/masters-degree-statistics-political-science-phd-students\">\\n               Master’s Degree in Statistics for Political Science Ph.D. Students\\n              </a>\\n             </li>\\n            </ul>\\n           </ul>\\n          </li>\\n          <li class=\"primary-nav__menu-link primary-nav__menu-link--link primary-nav__menu-link--level-1\">\\n           <a data-drupal-link-system-path=\"node/13198\" href=\"/research\">\\n            Research\\n           </a>\\n          </li>\\n          <li class=\"primary-nav__menu-link primary-nav__menu-link--link primary-nav__menu-link--level-1 menu-item--active-trail\">\\n           <a aria-current=\"page\" class=\"is-active\" data-drupal-link-system-path=\"node/50\" href=\"/people\">\\n            Our People\\n           </a>\\n          </li>\\n          <li class=\"primary-nav__menu-link primary-nav__menu-link--link primary-nav__menu-link--level-1\">\\n           <a data-drupal-link-system-path=\"node/61\" href=\"/resources\">\\n            Resources\\n           </a>\\n          </li>\\n          <li class=\"primary-nav__menu-link primary-nav__menu-link--link primary-nav__menu-link--level-1\">\\n           <a href=\"https://gifts.wustl.edu/index.html?other_designation_description=Political%20Science\">\\n            Make a Gift to Political Science\\n           </a>\\n          </li>\\n         </ul>\\n        </nav>\\n       </div>\\n       <div class=\"column\">\\n        <div class=\"callout\">\\n         <p>\\n          Let your curiosity lead the way:\\n         </p>\\n         <p>\\n          <a class=\"button top-left-menu solid red\" href=\"https://artsci.washu.edu/apply\" target=\"_blank\">\\n           Apply Today\\n           <svg class=\"icon\">\\n            <use xlink:href=\"#link-out\">\\n            </use>\\n           </svg>\\n          </a>\\n         </p>\\n        </div>\\n        <nav id=\"secondary-nav\" role=\"navigation\">\\n         <ul class=\"menu menu--level-1\">\\n          <li class=\"menu__item menu__item--link menu__item--level-1\">\\n           <a class=\"menu__link menu__link--link menu__link--level-1\" data-drupal-link-system-path=\"&lt;front&gt;\" href=\"/\" title=\"\">\\n            Home\\n           </a>\\n          </li>\\n          <li class=\"menu__item menu__item--link menu__item--level-1\">\\n           <a class=\"menu__link menu__link--link menu__link--level-1\" data-drupal-link-system-path=\"node/21\" href=\"/events\" title=\"\">\\n            Upcoming Events\\n           </a>\\n          </li>\\n          <li class=\"menu__item menu__item--link menu__item--level-1\">\\n           <a class=\"menu__link menu__link--link menu__link--level-1\" data-drupal-link-system-path=\"node/3323\" href=\"/news\" title=\"\">\\n            Recent News\\n           </a>\\n          </li>\\n          <li class=\"menu__item menu__item--link menu__item--level-1\">\\n           <a class=\"menu__link menu__link--link menu__link--level-1\" data-drupal-link-system-path=\"node/68\" href=\"/contact-us\" title=\"\">\\n            Contact Us\\n           </a>\\n          </li>\\n          <li class=\"menu__item menu__item--link menu__item--level-1\">\\n           <a class=\"menu__link menu__link--link menu__link--level-1\" data-drupal-link-system-path=\"node/14902\" href=\"/courses\">\\n            Courses\\n           </a>\\n          </li>\\n         </ul>\\n        </nav>\\n        <ul class=\"other-schools\">\\n         <li>\\n          <a href=\"https://artsci.washu.edu\" target=\"_blank\">\\n           <svg class=\"icon\">\\n            <use xlink:href=\"#link-out\">\\n            </use>\\n           </svg>\\n           Arts &amp; Sciences\\n          </a>\\n         </li>\\n         <li>\\n          <a href=\"https://gradstudies.artsci.wustl.edu/\" target=\"_blank\">\\n           <svg class=\"icon\">\\n            <use xlink:href=\"#link-out\">\\n            </use>\\n           </svg>\\n           Graduate Studies in A&amp;S\\n          </a>\\n         </li>\\n        </ul>\\n       </div>\\n      </div>\\n      <div class=\"ampersand\">\\n       <svg>\\n        <use xlink:href=\"#ampersand\">\\n        </use>\\n       </svg>\\n      </div>\\n     </nav>\\n    </header>\\n    <main class=\"content__container olympian__container\" role=\"main\">\\n     <a id=\"main-content\" tabindex=\"-1\">\\n     </a>\\n     <div class=\"main-local-actions\">\\n      <div class=\"hidden\" data-drupal-messages-fallback=\"\">\\n      </div>\\n      <div class=\"layout-tabs\">\\n      </div>\\n      <div class=\"visually-hidden\">\\n       <div class=\"region region--page-title\">\\n        <div class=\"block block-core block-page-title-block\" id=\"block-olympian9-pagetitle\">\\n         <div class=\"visually-hidden headline--serif page-title\">\\n          <h1>\\n           Our People\\n          </h1>\\n         </div>\\n        </div>\\n       </div>\\n      </div>\\n     </div>\\n     <div class=\"region region--content grid-full layout--pass--content-medium ie11-autorow\" id=\"content\">\\n      <div class=\"node node--type-faculty-landing-page node--view-mode-full\" data-history-node-id=\"50\">\\n       <div class=\"introduction-header-img\">\\n        <section aria-label=\"introduction header with image\" class=\"dark\" id=\"photo-header\">\\n         <div class=\"image\">\\n          <img alt=\\'\"\"\\' height=\"480\" loading=\"eager\" sizes=\"(max-width:480px) 85vw, 100vw\" src=\"/sites/polisci.wustl.edu/files/styles/background_image/public/170309_jjn_trump_symposium_004_0.jpg.webp\" srcset=\"https://polisci.wustl.edu/sites/polisci.wustl.edu/files/styles/landscape_16_9_320w/public/170309_jjn_trump_symposium_004_0.jpg.webp 320w, https://polisci.wustl.edu/sites/polisci.wustl.edu/files/styles/landscape_16_9_448w/public/170309_jjn_trump_symposium_004_0.jpg.webp 448w, https://polisci.wustl.edu/sites/polisci.wustl.edu/files/styles/landscape_16_9_600w/public/170309_jjn_trump_symposium_004_0.jpg.webp 600w, https://polisci.wustl.edu/sites/polisci.wustl.edu/files/styles/landscape_16_9_944w/public/170309_jjn_trump_symposium_004_0.jpg.webp 944w, https://polisci.wustl.edu/sites/polisci.wustl.edu/files/styles/background_image/public/170309_jjn_trump_symposium_004_0.jpg.webp 1366w\" width=\"1366\">\\n          </img>\\n         </div>\\n         <div class=\"container\">\\n          <h1>\\n           Our People\\n          </h1>\\n         </div>\\n        </section>\\n       </div>\\n       <section class=\"people-search\">\\n        <div class=\"two-column-filter\">\\n        </div>\\n       </section>\\n       <br/>\\n       <div class=\"block block-views block-views-exposed-filter-blockfaculty-block-grid2\" id=\"block-exposedformfacultyblockgrid2\">\\n        <form accept-charset=\"UTF-8\" action=\"/people\" class=\"views-exposed-form bef-exposed-form people-filter\" data-bef-auto-submit=\"\" data-bef-auto-submit-delay=\"0\" data-bef-auto-submit-full-form=\"\" data-bef-auto-submit-minimum-length=\"3\" data-drupal-selector=\"views-exposed-form-faculty-block-grid2\" data-drupal-target-view=\"faculty-block_grid2\" id=\"views-exposed-form-faculty-block-grid2\" method=\"get\">\\n         <div class=\"container\">\\n          <br/>\\n          <section aria-label=\"faculty search\" class=\"our-people search with-filter\" id=\"filter\">\\n           <h2>\\n            Search for People:\\n           </h2>\\n           <div class=\"search-form\">\\n            <svg class=\"icon\">\\n             <use xlink:href=\"#icon-search\">\\n             </use>\\n            </svg>\\n            <div class=\"js-form-item form-item js-form-type-textfield form-type-textfield js-form-item-keys form-item-keys\">\\n             <input class=\"form-text\" data-drupal-selector=\"edit-keys\" id=\"edit-keys\" maxlength=\"128\" name=\"keys\" placeholder=\"Who are you looking for?\" size=\"30\" type=\"text\" value=\"\"/>\\n            </div>\\n           </div>\\n           <div class=\"two-column-filter\">\\n            <div class=\"filter-options flex\">\\n             <form aria-labelledby=\"people_filter_label\" class=\"options-list\">\\n              <div class=\"filter-list-column\">\\n               <h3>\\n                Select a Person Type\\n               </h3>\\n               <ul class=\"list\">\\n                <fieldset class=\"fieldgroup form-composite js-form-item form-item js-form-wrapper form-wrapper\" data-drupal-selector=\"edit-cat\" id=\"edit-cat--wrapper\">\\n                 <legend>\\n                  <span class=\"fieldset-legend\">\\n                   Select a Person Type\\n                  </span>\\n                 </legend>\\n                 <div class=\"fieldset-wrapper\">\\n                  <div class=\"form-boolean-group form-radios\" id=\"edit-cat\">\\n                   <div class=\"form-radios\">\\n                    <div class=\"js-form-item form-item js-form-type-radio form-type-radio js-form-item-cat form-item-cat\">\\n                     <input class=\"form-radio\" data-drupal-selector=\"edit-cat-all\" id=\"edit-cat-all\" name=\"cat\" type=\"radio\" value=\"All\"/>\\n                     <label class=\"option\" for=\"edit-cat-all\">\\n                      All\\n                     </label>\\n                    </div>\\n                    <div class=\"js-form-item form-item js-form-type-radio form-type-radio js-form-item-cat form-item-cat\">\\n                     <input checked=\"checked\" class=\"form-radio\" data-drupal-selector=\"edit-cat-39\" id=\"edit-cat-39\" name=\"cat\" type=\"radio\" value=\"39\"/>\\n                     <label class=\"option\" for=\"edit-cat-39\">\\n                      Departmental Leadership\\n                     </label>\\n                    </div>\\n                    <div class=\"js-form-item form-item js-form-type-radio form-type-radio js-form-item-cat form-item-cat\">\\n                     <input class=\"form-radio\" data-drupal-selector=\"edit-cat-88\" id=\"edit-cat-88\" name=\"cat\" type=\"radio\" value=\"88\"/>\\n                     <label class=\"option\" for=\"edit-cat-88\">\\n                      Current Faculty\\n                     </label>\\n                    </div>\\n                    <div class=\"js-form-item form-item js-form-type-radio form-type-radio js-form-item-cat form-item-cat\">\\n                     <input class=\"form-radio\" data-drupal-selector=\"edit-cat-476\" id=\"edit-cat-476\" name=\"cat\" type=\"radio\" value=\"476\"/>\\n                     <label class=\"option\" for=\"edit-cat-476\">\\n                      New Colleagues\\n                     </label>\\n                    </div>\\n                    <div class=\"js-form-item form-item js-form-type-radio form-type-radio js-form-item-cat form-item-cat\">\\n                     <input class=\"form-radio\" data-drupal-selector=\"edit-cat-91\" id=\"edit-cat-91\" name=\"cat\" type=\"radio\" value=\"91\"/>\\n                     <label class=\"option\" for=\"edit-cat-91\">\\n                      Affiliated Faculty\\n                     </label>\\n                    </div>\\n                    <div class=\"js-form-item form-item js-form-type-radio form-type-radio js-form-item-cat form-item-cat\">\\n                     <input class=\"form-radio\" data-drupal-selector=\"edit-cat-94\" id=\"edit-cat-94\" name=\"cat\" type=\"radio\" value=\"94\"/>\\n                     <label class=\"option\" for=\"edit-cat-94\">\\n                      Emeriti\\n                     </label>\\n                    </div>\\n                    <div class=\"js-form-item form-item js-form-type-radio form-type-radio js-form-item-cat form-item-cat\">\\n                     <input class=\"form-radio\" data-drupal-selector=\"edit-cat-428\" id=\"edit-cat-428\" name=\"cat\" type=\"radio\" value=\"428\"/>\\n                     <label class=\"option\" for=\"edit-cat-428\">\\n                      Postdocs and Visiting Faculty\\n                     </label>\\n                    </div>\\n                    <div class=\"js-form-item form-item js-form-type-radio form-type-radio js-form-item-cat form-item-cat\">\\n                     <input class=\"form-radio\" data-drupal-selector=\"edit-cat-42\" id=\"edit-cat-42\" name=\"cat\" type=\"radio\" value=\"42\"/>\\n                     <label class=\"option\" for=\"edit-cat-42\">\\n                      Staff\\n                     </label>\\n                    </div>\\n                    <div class=\"js-form-item form-item js-form-type-radio form-type-radio js-form-item-cat form-item-cat\">\\n                     <input class=\"form-radio\" data-drupal-selector=\"edit-cat-100\" id=\"edit-cat-100\" name=\"cat\" type=\"radio\" value=\"100\"/>\\n                     <label class=\"option\" for=\"edit-cat-100\">\\n                      Graduate Students\\n                     </label>\\n                    </div>\\n                    <div class=\"js-form-item form-item js-form-type-radio form-type-radio js-form-item-cat form-item-cat\">\\n                     <input class=\"form-radio\" data-drupal-selector=\"edit-cat-435\" id=\"edit-cat-435\" name=\"cat\" type=\"radio\" value=\"435\"/>\\n                     <label class=\"option\" for=\"edit-cat-435\">\\n                      1st Year Grad Students\\n                     </label>\\n                    </div>\\n                    <div class=\"js-form-item form-item js-form-type-radio form-type-radio js-form-item-cat form-item-cat\">\\n                     <input class=\"form-radio\" data-drupal-selector=\"edit-cat-438\" id=\"edit-cat-438\" name=\"cat\" type=\"radio\" value=\"438\"/>\\n                     <label class=\"option\" for=\"edit-cat-438\">\\n                      2nd Year Grad Students\\n                     </label>\\n                    </div>\\n                    <div class=\"js-form-item form-item js-form-type-radio form-type-radio js-form-item-cat form-item-cat\">\\n                     <input class=\"form-radio\" data-drupal-selector=\"edit-cat-441\" id=\"edit-cat-441\" name=\"cat\" type=\"radio\" value=\"441\"/>\\n                     <label class=\"option\" for=\"edit-cat-441\">\\n                      3rd Year Grad Students\\n                     </label>\\n                    </div>\\n                    <div class=\"js-form-item form-item js-form-type-radio form-type-radio js-form-item-cat form-item-cat\">\\n                     <input class=\"form-radio\" data-drupal-selector=\"edit-cat-444\" id=\"edit-cat-444\" name=\"cat\" type=\"radio\" value=\"444\"/>\\n                     <label class=\"option\" for=\"edit-cat-444\">\\n                      4th Year Grad Students\\n                     </label>\\n                    </div>\\n                    <div class=\"js-form-item form-item js-form-type-radio form-type-radio js-form-item-cat form-item-cat\">\\n                     <input class=\"form-radio\" data-drupal-selector=\"edit-cat-447\" id=\"edit-cat-447\" name=\"cat\" type=\"radio\" value=\"447\"/>\\n                     <label class=\"option\" for=\"edit-cat-447\">\\n                      5th Year Grad Students\\n                     </label>\\n                    </div>\\n                    <div class=\"js-form-item form-item js-form-type-radio form-type-radio js-form-item-cat form-item-cat\">\\n                     <input class=\"form-radio\" data-drupal-selector=\"edit-cat-450\" id=\"edit-cat-450\" name=\"cat\" type=\"radio\" value=\"450\"/>\\n                     <label class=\"option\" for=\"edit-cat-450\">\\n                      6th Year Grad Students\\n                     </label>\\n                    </div>\\n                    <div class=\"js-form-item form-item js-form-type-radio form-type-radio js-form-item-cat form-item-cat\">\\n                     <input class=\"form-radio\" data-drupal-selector=\"edit-cat-453\" id=\"edit-cat-453\" name=\"cat\" type=\"radio\" value=\"453\"/>\\n                     <label class=\"option\" for=\"edit-cat-453\">\\n                      ABD Status\\n                     </label>\\n                    </div>\\n                    <div class=\"js-form-item form-item js-form-type-radio form-type-radio js-form-item-cat form-item-cat\">\\n                     <input class=\"form-radio\" data-drupal-selector=\"edit-cat-430\" id=\"edit-cat-430\" name=\"cat\" type=\"radio\" value=\"430\"/>\\n                     <label class=\"option\" for=\"edit-cat-430\">\\n                      Job Market\\n                     </label>\\n                    </div>\\n                   </div>\\n                  </div>\\n                 </div>\\n                </fieldset>\\n               </ul>\\n              </div>\\n              <div class=\"filter-list-column\">\\n               <h3>\\n                Areas of Interest\\n               </h3>\\n               <fieldset class=\"fieldgroup form-composite js-form-item form-item js-form-wrapper form-wrapper\" data-drupal-selector=\"edit-areas\" id=\"edit-areas--wrapper\">\\n                <legend>\\n                 <span class=\"fieldset-legend\">\\n                 </span>\\n                </legend>\\n                <div class=\"fieldset-wrapper\">\\n                 <div class=\"form-boolean-group form-checkboxes\" id=\"edit-areas\">\\n                  <div class=\"form-checkboxes bef-checkboxes\">\\n                   <div class=\"js-form-item form-item js-form-type-checkbox form-type-checkbox js-form-item-areas-455 form-item-areas-455\">\\n                    <input class=\"form-checkbox\" data-drupal-selector=\"edit-areas-455\" id=\"edit-areas-455\" name=\"areas[455]\" type=\"checkbox\" value=\"455\"/>\\n                    <label class=\"option\" for=\"edit-areas-455\">\\n                     American\\n                    </label>\\n                   </div>\\n                   <div class=\"js-form-item form-item js-form-type-checkbox form-type-checkbox js-form-item-areas-458 form-item-areas-458\">\\n                    <input class=\"form-checkbox\" data-drupal-selector=\"edit-areas-458\" id=\"edit-areas-458\" name=\"areas[458]\" type=\"checkbox\" value=\"458\"/>\\n                    <label class=\"option\" for=\"edit-areas-458\">\\n                     Comparative\\n                    </label>\\n                   </div>\\n                   <div class=\"js-form-item form-item js-form-type-checkbox form-type-checkbox js-form-item-areas-461 form-item-areas-461\">\\n                    <input class=\"form-checkbox\" data-drupal-selector=\"edit-areas-461\" id=\"edit-areas-461\" name=\"areas[461]\" type=\"checkbox\" value=\"461\"/>\\n                    <label class=\"option\" for=\"edit-areas-461\">\\n                     Formal Theory\\n                    </label>\\n                   </div>\\n                   <div class=\"js-form-item form-item js-form-type-checkbox form-type-checkbox js-form-item-areas-464 form-item-areas-464\">\\n                    <input class=\"form-checkbox\" data-drupal-selector=\"edit-areas-464\" id=\"edit-areas-464\" name=\"areas[464]\" type=\"checkbox\" value=\"464\"/>\\n                    <label class=\"option\" for=\"edit-areas-464\">\\n                     International Conflict\\n                    </label>\\n                   </div>\\n                   <div class=\"js-form-item form-item js-form-type-checkbox form-type-checkbox js-form-item-areas-467 form-item-areas-467\">\\n                    <input class=\"form-checkbox\" data-drupal-selector=\"edit-areas-467\" id=\"edit-areas-467\" name=\"areas[467]\" type=\"checkbox\" value=\"467\"/>\\n                    <label class=\"option\" for=\"edit-areas-467\">\\n                     International Political Economy\\n                    </label>\\n                   </div>\\n                   <div class=\"js-form-item form-item js-form-type-checkbox form-type-checkbox js-form-item-areas-470 form-item-areas-470\">\\n                    <input class=\"form-checkbox\" data-drupal-selector=\"edit-areas-470\" id=\"edit-areas-470\" name=\"areas[470]\" type=\"checkbox\" value=\"470\"/>\\n                    <label class=\"option\" for=\"edit-areas-470\">\\n                     Methodology\\n                    </label>\\n                   </div>\\n                   <div class=\"js-form-item form-item js-form-type-checkbox form-type-checkbox js-form-item-areas-473 form-item-areas-473\">\\n                    <input class=\"form-checkbox\" data-drupal-selector=\"edit-areas-473\" id=\"edit-areas-473\" name=\"areas[473]\" type=\"checkbox\" value=\"473\"/>\\n                    <label class=\"option\" for=\"edit-areas-473\">\\n                     Political Theory\\n                    </label>\\n                   </div>\\n                   <div class=\"js-form-item form-item js-form-type-checkbox form-type-checkbox js-form-item-areas-511 form-item-areas-511\">\\n                    <input class=\"form-checkbox\" data-drupal-selector=\"edit-areas-511\" id=\"edit-areas-511\" name=\"areas[511]\" type=\"checkbox\" value=\"511\"/>\\n                    <label class=\"option\" for=\"edit-areas-511\">\\n                     Environmental Policy\\n                    </label>\\n                   </div>\\n                  </div>\\n                 </div>\\n                </div>\\n               </fieldset>\\n              </div>\\n             </form>\\n            </div>\\n           </div>\\n          </section>\\n          <div class=\"bottom-filter\">\\n           <div class=\"pre-filter\">\\n            <div class=\"view-alpha-block\">\\n             <div class=\"view-alpha\" id=\"view-alpha\">\\n              <fieldset class=\"fieldgroup form-composite js-form-item form-item js-form-wrapper form-wrapper\" data-drupal-selector=\"edit-letter\" id=\"edit-letter--wrapper\">\\n               <legend>\\n                <span class=\"fieldset-legend\">\\n                </span>\\n               </legend>\\n               <div class=\"fieldset-wrapper\">\\n                <div class=\"form-boolean-group form-radios\" id=\"edit-letter\">\\n                 <div class=\"form-radios\">\\n                  <div class=\"js-form-item form-item js-form-type-radio form-type-radio js-form-item-letter form-item-letter form-no-label\">\\n                   <div class=\"pretty-element\">\\n                    <input checked=\"checked\" class=\"form-radio\" data-drupal-selector=\"edit-letter-all\" id=\"edit-letter-all\" name=\"letter\" type=\"radio\" value=\"All\"/>\\n                    <label for=\"edit-letter-all\">\\n                     ALL\\n                    </label>\\n                   </div>\\n                  </div>\\n                  <div class=\"js-form-item form-item js-form-type-radio form-type-radio js-form-item-letter form-item-letter form-no-label\">\\n                   <div class=\"pretty-element\">\\n                    <input class=\"form-radio\" data-drupal-selector=\"edit-letter-a\" id=\"edit-letter-a\" name=\"letter\" type=\"radio\" value=\"A\"/>\\n                    <label for=\"edit-letter-a\">\\n                     A\\n                    </label>\\n                   </div>\\n                  </div>\\n                  <div class=\"js-form-item form-item js-form-type-radio form-type-radio js-form-item-letter form-item-letter form-no-label\">\\n                   <div class=\"pretty-element\">\\n                    <input class=\"form-radio\" data-drupal-selector=\"edit-letter-b\" id=\"edit-letter-b\" name=\"letter\" type=\"radio\" value=\"B\"/>\\n                    <label for=\"edit-letter-b\">\\n                     B\\n                    </label>\\n                   </div>\\n                  </div>\\n                  <div class=\"js-form-item form-item js-form-type-radio form-type-radio js-form-item-letter form-item-letter form-no-label\">\\n                   <div class=\"pretty-element\">\\n                    <input class=\"form-radio\" data-drupal-selector=\"edit-letter-c\" id=\"edit-letter-c\" name=\"letter\" type=\"radio\" value=\"C\"/>\\n                    <label for=\"edit-letter-c\">\\n                     C\\n                    </label>\\n                   </div>\\n                  </div>\\n                  <div class=\"js-form-item form-item js-form-type-radio form-type-radio js-form-item-letter form-item-letter form-no-label\">\\n                   <div class=\"pretty-element\">\\n                    <input class=\"form-radio\" data-drupal-selector=\"edit-letter-d\" id=\"edit-letter-d\" name=\"letter\" type=\"radio\" value=\"D\"/>\\n                    <label for=\"edit-letter-d\">\\n                     D\\n                    </label>\\n                   </div>\\n                  </div>\\n                  <div class=\"js-form-item form-item js-form-type-radio form-type-radio js-form-item-letter form-item-letter form-no-label\">\\n                   <div class=\"pretty-element\">\\n                    <input class=\"form-radio\" data-drupal-selector=\"edit-letter-e\" id=\"edit-letter-e\" name=\"letter\" type=\"radio\" value=\"E\"/>\\n                    <label for=\"edit-letter-e\">\\n                     E\\n                    </label>\\n                   </div>\\n                  </div>\\n                  <div class=\"js-form-item form-item js-form-type-radio form-type-radio js-form-item-letter form-item-letter form-no-label\">\\n                   <div class=\"pretty-element\">\\n                    <input class=\"form-radio\" data-drupal-selector=\"edit-letter-f\" id=\"edit-letter-f\" name=\"letter\" type=\"radio\" value=\"F\"/>\\n                    <label for=\"edit-letter-f\">\\n                     F\\n                    </label>\\n                   </div>\\n                  </div>\\n                  <div class=\"js-form-item form-item js-form-type-radio form-type-radio js-form-item-letter form-item-letter form-no-label\">\\n                   <div class=\"pretty-element\">\\n                    <input class=\"form-radio\" data-drupal-selector=\"edit-letter-g\" id=\"edit-letter-g\" name=\"letter\" type=\"radio\" value=\"G\"/>\\n                    <label for=\"edit-letter-g\">\\n                     G\\n                    </label>\\n                   </div>\\n                  </div>\\n                  <div class=\"js-form-item form-item js-form-type-radio form-type-radio js-form-item-letter form-item-letter form-no-label\">\\n                   <div class=\"pretty-element\">\\n                    <input class=\"form-radio\" data-drupal-selector=\"edit-letter-h\" id=\"edit-letter-h\" name=\"letter\" type=\"radio\" value=\"H\"/>\\n                    <label for=\"edit-letter-h\">\\n                     H\\n                    </label>\\n                   </div>\\n                  </div>\\n                  <div class=\"js-form-item form-item js-form-type-radio form-type-radio js-form-item-letter form-item-letter form-no-label\">\\n                   <div class=\"pretty-element\">\\n                    <input class=\"form-radio\" data-drupal-selector=\"edit-letter-i\" id=\"edit-letter-i\" name=\"letter\" type=\"radio\" value=\"I\"/>\\n                    <label for=\"edit-letter-i\">\\n                     I\\n                    </label>\\n                   </div>\\n                  </div>\\n                  <div class=\"js-form-item form-item js-form-type-radio form-type-radio js-form-item-letter form-item-letter form-no-label\">\\n                   <div class=\"pretty-element\">\\n                    <input class=\"form-radio\" data-drupal-selector=\"edit-letter-j\" id=\"edit-letter-j\" name=\"letter\" type=\"radio\" value=\"J\"/>\\n                    <label for=\"edit-letter-j\">\\n                     J\\n                    </label>\\n                   </div>\\n                  </div>\\n                  <div class=\"js-form-item form-item js-form-type-radio form-type-radio js-form-item-letter form-item-letter form-no-label\">\\n                   <div class=\"pretty-element\">\\n                    <input class=\"form-radio\" data-drupal-selector=\"edit-letter-k\" id=\"edit-letter-k\" name=\"letter\" type=\"radio\" value=\"K\"/>\\n                    <label for=\"edit-letter-k\">\\n                     K\\n                    </label>\\n                   </div>\\n                  </div>\\n                  <div class=\"js-form-item form-item js-form-type-radio form-type-radio js-form-item-letter form-item-letter form-no-label\">\\n                   <div class=\"pretty-element\">\\n                    <input class=\"form-radio\" data-drupal-selector=\"edit-letter-l\" id=\"edit-letter-l\" name=\"letter\" type=\"radio\" value=\"L\"/>\\n                    <label for=\"edit-letter-l\">\\n                     L\\n                    </label>\\n                   </div>\\n                  </div>\\n                  <div class=\"js-form-item form-item js-form-type-radio form-type-radio js-form-item-letter form-item-letter form-no-label\">\\n                   <div class=\"pretty-element\">\\n                    <input class=\"form-radio\" data-drupal-selector=\"edit-letter-m\" id=\"edit-letter-m\" name=\"letter\" type=\"radio\" value=\"M\"/>\\n                    <label for=\"edit-letter-m\">\\n                     M\\n                    </label>\\n                   </div>\\n                  </div>\\n                  <div class=\"js-form-item form-item js-form-type-radio form-type-radio js-form-item-letter form-item-letter form-no-label\">\\n                   <div class=\"pretty-element\">\\n                    <input class=\"form-radio\" data-drupal-selector=\"edit-letter-n\" id=\"edit-letter-n\" name=\"letter\" type=\"radio\" value=\"N\"/>\\n                    <label for=\"edit-letter-n\">\\n                     N\\n                    </label>\\n                   </div>\\n                  </div>\\n                  <div class=\"js-form-item form-item js-form-type-radio form-type-radio js-form-item-letter form-item-letter form-no-label\">\\n                   <div class=\"pretty-element\">\\n                    <input class=\"form-radio\" data-drupal-selector=\"edit-letter-o\" id=\"edit-letter-o\" name=\"letter\" type=\"radio\" value=\"O\"/>\\n                    <label for=\"edit-letter-o\">\\n                     O\\n                    </label>\\n                   </div>\\n                  </div>\\n                  <div class=\"js-form-item form-item js-form-type-radio form-type-radio js-form-item-letter form-item-letter form-no-label\">\\n                   <div class=\"pretty-element\">\\n                    <input class=\"form-radio\" data-drupal-selector=\"edit-letter-p\" id=\"edit-letter-p\" name=\"letter\" type=\"radio\" value=\"P\"/>\\n                    <label for=\"edit-letter-p\">\\n                     P\\n                    </label>\\n                   </div>\\n                  </div>\\n                  <div class=\"js-form-item form-item js-form-type-radio form-type-radio js-form-item-letter form-item-letter form-no-label\">\\n                   <div class=\"pretty-element\">\\n                    <input class=\"form-radio\" data-drupal-selector=\"edit-letter-q\" id=\"edit-letter-q\" name=\"letter\" type=\"radio\" value=\"Q\"/>\\n                    <label for=\"edit-letter-q\">\\n                     Q\\n                    </label>\\n                   </div>\\n                  </div>\\n                  <div class=\"js-form-item form-item js-form-type-radio form-type-radio js-form-item-letter form-item-letter form-no-label\">\\n                   <div class=\"pretty-element\">\\n                    <input class=\"form-radio\" data-drupal-selector=\"edit-letter-r\" id=\"edit-letter-r\" name=\"letter\" type=\"radio\" value=\"R\"/>\\n                    <label for=\"edit-letter-r\">\\n                     R\\n                    </label>\\n                   </div>\\n                  </div>\\n                  <div class=\"js-form-item form-item js-form-type-radio form-type-radio js-form-item-letter form-item-letter form-no-label\">\\n                   <div class=\"pretty-element\">\\n                    <input class=\"form-radio\" data-drupal-selector=\"edit-letter-s\" id=\"edit-letter-s\" name=\"letter\" type=\"radio\" value=\"S\"/>\\n                    <label for=\"edit-letter-s\">\\n                     S\\n                    </label>\\n                   </div>\\n                  </div>\\n                  <div class=\"js-form-item form-item js-form-type-radio form-type-radio js-form-item-letter form-item-letter form-no-label\">\\n                   <div class=\"pretty-element\">\\n                    <input class=\"form-radio\" data-drupal-selector=\"edit-letter-t\" id=\"edit-letter-t\" name=\"letter\" type=\"radio\" value=\"T\"/>\\n                    <label for=\"edit-letter-t\">\\n                     T\\n                    </label>\\n                   </div>\\n                  </div>\\n                  <div class=\"js-form-item form-item js-form-type-radio form-type-radio js-form-item-letter form-item-letter form-no-label\">\\n                   <div class=\"pretty-element\">\\n                    <input class=\"form-radio\" data-drupal-selector=\"edit-letter-u\" id=\"edit-letter-u\" name=\"letter\" type=\"radio\" value=\"U\"/>\\n                    <label for=\"edit-letter-u\">\\n                     U\\n                    </label>\\n                   </div>\\n                  </div>\\n                  <div class=\"js-form-item form-item js-form-type-radio form-type-radio js-form-item-letter form-item-letter form-no-label\">\\n                   <div class=\"pretty-element\">\\n                    <input class=\"form-radio\" data-drupal-selector=\"edit-letter-v\" id=\"edit-letter-v\" name=\"letter\" type=\"radio\" value=\"V\"/>\\n                    <label for=\"edit-letter-v\">\\n                     V\\n                    </label>\\n                   </div>\\n                  </div>\\n                  <div class=\"js-form-item form-item js-form-type-radio form-type-radio js-form-item-letter form-item-letter form-no-label\">\\n                   <div class=\"pretty-element\">\\n                    <input class=\"form-radio\" data-drupal-selector=\"edit-letter-w\" id=\"edit-letter-w\" name=\"letter\" type=\"radio\" value=\"W\"/>\\n                    <label for=\"edit-letter-w\">\\n                     W\\n                    </label>\\n                   </div>\\n                  </div>\\n                  <div class=\"js-form-item form-item js-form-type-radio form-type-radio js-form-item-letter form-item-letter form-no-label\">\\n                   <div class=\"pretty-element\">\\n                    <input class=\"form-radio\" data-drupal-selector=\"edit-letter-x\" id=\"edit-letter-x\" name=\"letter\" type=\"radio\" value=\"X\"/>\\n                    <label for=\"edit-letter-x\">\\n                     X\\n                    </label>\\n                   </div>\\n                  </div>\\n                  <div class=\"js-form-item form-item js-form-type-radio form-type-radio js-form-item-letter form-item-letter form-no-label\">\\n                   <div class=\"pretty-element\">\\n                    <input class=\"form-radio\" data-drupal-selector=\"edit-letter-y\" id=\"edit-letter-y\" name=\"letter\" type=\"radio\" value=\"Y\"/>\\n                    <label for=\"edit-letter-y\">\\n                     Y\\n                    </label>\\n                   </div>\\n                  </div>\\n                  <div class=\"js-form-item form-item js-form-type-radio form-type-radio js-form-item-letter form-item-letter form-no-label\">\\n                   <div class=\"pretty-element\">\\n                    <input class=\"form-radio\" data-drupal-selector=\"edit-letter-z\" id=\"edit-letter-z\" name=\"letter\" type=\"radio\" value=\"Z\"/>\\n                    <label for=\"edit-letter-z\">\\n                     Z\\n                    </label>\\n                   </div>\\n                  </div>\\n                 </div>\\n                </div>\\n               </div>\\n              </fieldset>\\n             </div>\\n            </div>\\n            <div class=\"category-term-clear\">\\n             <input class=\"js-hide button js-form-submit form-submit\" data-bef-auto-submit-click=\"\" data-drupal-selector=\"edit-submit-faculty\" id=\"edit-submit-faculty\" type=\"submit\" value=\"Apply\"/>\\n             <input class=\"button js-form-submit form-submit\" data-drupal-selector=\"edit-reset-faculty\" id=\"edit-reset-faculty\" name=\"reset\" type=\"submit\" value=\"CLEAR FILTER\"/>\\n            </div>\\n           </div>\\n          </div>\\n         </div>\\n        </form>\\n       </div>\\n       <div class=\"view view-faculty view-id-faculty view-display-id-block_grid2 js-view-dom-id-b2e4e1a13b9aa40a9abdb9c3a042f488db7ac276a1e73c81d7fa7a063c3e000f\">\\n        <div class=\"container\">\\n         <ul class=\"filtered-view\" id=\"filtered-toggle-icons\">\\n          <li>\\n           <button class=\"view-alpha-text\" onclick=\"azFunction()\">\\n            Filter\\n          Alphabetically\\n           </button>\\n          </li>\\n          <li>\\n           <button id=\"active-grid-icon-tab\" onclick=\"gridFunction()\">\\n            <svg aria-label=\"grid layout\" class=\"icon\">\\n             <use xlink:href=\"#icon-grid\">\\n             </use>\\n            </svg>\\n           </button>\\n          </li>\\n          <li>\\n           <button id=\"active-list-icon-tab\" onclick=\"listFunction()\">\\n            <svg aria-label=\"list layout\" class=\"icon\">\\n             <use xlink:href=\"#icon-list\">\\n             </use>\\n            </svg>\\n           </button>\\n          </li>\\n         </ul>\\n         <div class=\"tabcontent\" id=\"Grid\">\\n          <div class=\"container filtered-cards faculty-cards flex js-load-container\">\\n           <a aria-label=\"View Federico Acosta y Lara\" class=\"card\" href=\"/people/federico-acosta-y-lara\" id=\"faculty-card-container\">\\n            <article class=\"faculty-post\">\\n             <div class=\"image\">\\n              <img alt=\"Federico Acosta y Lara\" height=\"320\" loading=\"lazy\" sizes=\"(max-width:480px) 85vw, 290px\" src=\"/sites/polisci.wustl.edu/files/styles/square_1_1_320w/public/People/Polisci_Acosta%20Y%20Lara_F-1010531_0.jpg.webp\" srcset=\"https://polisci.wustl.edu/sites/polisci.wustl.edu/files/styles/square_1_1_190w/public/People/Polisci_Acosta%20Y%20Lara_F-1010531_0.jpg.webp 190w, https://polisci.wustl.edu/sites/polisci.wustl.edu/files/styles/square_1_1_320w/public/People/Polisci_Acosta%20Y%20Lara_F-1010531_0.jpg.webp 320w, https://polisci.wustl.edu/sites/polisci.wustl.edu/files/styles/square_1_1_480w/public/People/Polisci_Acosta%20Y%20Lara_F-1010531_0.jpg.webp 480w\" width=\"320\"/>\\n              <h3>\\n               <div>\\n                <span>\\n                 Federico\\n                </span>\\n               </div>\\n               <div>\\n                <span>\\n                 Acosta y Lara\\n                </span>\\n               </div>\\n              </h3>\\n             </div>\\n             <div class=\"dept\">\\n              Third Year Graduate Student\\n             </div>\\n            </article>\\n           </a>\\n           <a aria-label=\"View Deniz Aksoy\" class=\"card\" href=\"/people/deniz-aksoy\" id=\"faculty-card-container\">\\n            <article class=\"faculty-post\">\\n             <div class=\"image\">\\n              <img alt=\"Deniz Aksoy\" height=\"320\" loading=\"lazy\" sizes=\"(max-width:480px) 85vw, 290px\" src=\"/sites/polisci.wustl.edu/files/styles/square_1_1_320w/public/People/Polisci_Aksoy_D_P1013892_0.jpg.webp\" srcset=\"https://polisci.wustl.edu/sites/polisci.wustl.edu/files/styles/square_1_1_190w/public/People/Polisci_Aksoy_D_P1013892_0.jpg.webp 190w, https://polisci.wustl.edu/sites/polisci.wustl.edu/files/styles/square_1_1_320w/public/People/Polisci_Aksoy_D_P1013892_0.jpg.webp 320w, https://polisci.wustl.edu/sites/polisci.wustl.edu/files/styles/square_1_1_480w/public/People/Polisci_Aksoy_D_P1013892_0.jpg.webp 480w\" width=\"320\"/>\\n              <h3>\\n               <div>\\n                <span>\\n                 Deniz\\n                </span>\\n               </div>\\n               <div>\\n                <span>\\n                 Aksoy\\n                </span>\\n               </div>\\n              </h3>\\n             </div>\\n             <div class=\"dept\">\\n              Associate Professor of Political Science\\n             </div>\\n            </article>\\n           </a>\\n           <a aria-label=\"View Lukas Alexander\" class=\"card\" href=\"/people/lukas-alexander\" id=\"faculty-card-container\">\\n            <article class=\"faculty-post\">\\n             <div class=\"image\">\\n              <img alt=\"Photo of Lukas Alexander smiling to camera in a tan blazer and white button up shirt\" height=\"320\" loading=\"lazy\" sizes=\"(max-width:480px) 85vw, 290px\" src=\"/sites/polisci.wustl.edu/files/styles/square_1_1_320w/public/2025-04/weidenbaum-alexander_l-1090702.jpg.webp\" srcset=\"https://polisci.wustl.edu/sites/polisci.wustl.edu/files/styles/square_1_1_190w/public/2025-04/weidenbaum-alexander_l-1090702.jpg.webp 190w, https://polisci.wustl.edu/sites/polisci.wustl.edu/files/styles/square_1_1_320w/public/2025-04/weidenbaum-alexander_l-1090702.jpg.webp 320w, https://polisci.wustl.edu/sites/polisci.wustl.edu/files/styles/square_1_1_480w/public/2025-04/weidenbaum-alexander_l-1090702.jpg.webp 480w\" width=\"320\"/>\\n              <h3>\\n               <div>\\n                <span>\\n                 Lukas\\n                </span>\\n               </div>\\n               <div>\\n                <span>\\n                 Alexander\\n                </span>\\n               </div>\\n              </h3>\\n             </div>\\n             <div class=\"dept\">\\n              Third Year Graduate Student\\n                                  Weidenbaum Center Graduate Research Affiliate\\n             </div>\\n            </article>\\n           </a>\\n           <a aria-label=\"View Alex Avery\" class=\"card\" href=\"/people/alex-avery\" id=\"faculty-card-container\">\\n            <article class=\"faculty-post\">\\n             <div class=\"image\">\\n              <img alt=\"Alex Avery\" height=\"320\" loading=\"lazy\" sizes=\"(max-width:480px) 85vw, 290px\" src=\"/sites/polisci.wustl.edu/files/styles/square_1_1_320w/public/Polisci_Avery_A_P1014185_0.jpg.webp\" srcset=\"https://polisci.wustl.edu/sites/polisci.wustl.edu/files/styles/square_1_1_190w/public/Polisci_Avery_A_P1014185_0.jpg.webp 190w, https://polisci.wustl.edu/sites/polisci.wustl.edu/files/styles/square_1_1_320w/public/Polisci_Avery_A_P1014185_0.jpg.webp 320w, https://polisci.wustl.edu/sites/polisci.wustl.edu/files/styles/square_1_1_480w/public/Polisci_Avery_A_P1014185_0.jpg.webp 480w\" width=\"320\"/>\\n              <h3>\\n               <div>\\n                <span>\\n                 Alex\\n                </span>\\n               </div>\\n               <div>\\n                <span>\\n                 Avery\\n                </span>\\n               </div>\\n              </h3>\\n             </div>\\n             <div class=\"dept\">\\n              Fifth Year Graduate Student\\n                                  Weidenbaum Center Graduate Fellow\\n             </div>\\n            </article>\\n           </a>\\n           <a aria-label=\"View Timm Betz\" class=\"card\" href=\"/people/timm-betz\" id=\"faculty-card-container\">\\n            <article class=\"faculty-post\">\\n             <div class=\"image\">\\n              <img alt=\"Timm Betz\" height=\"320\" loading=\"lazy\" sizes=\"(max-width:480px) 85vw, 290px\" src=\"/sites/polisci.wustl.edu/files/styles/square_1_1_320w/public/People/Timm%20Betz_0.jpg.webp\" srcset=\"https://polisci.wustl.edu/sites/polisci.wustl.edu/files/styles/square_1_1_190w/public/People/Timm%20Betz_0.jpg.webp 190w, https://polisci.wustl.edu/sites/polisci.wustl.edu/files/styles/square_1_1_320w/public/People/Timm%20Betz_0.jpg.webp 320w, https://polisci.wustl.edu/sites/polisci.wustl.edu/files/styles/square_1_1_480w/public/People/Timm%20Betz_0.jpg.webp 480w\" width=\"320\"/>\\n              <h3>\\n               <div>\\n                <span>\\n                 Timm\\n                </span>\\n               </div>\\n               <div>\\n                <span>\\n                 Betz\\n                </span>\\n               </div>\\n              </h3>\\n             </div>\\n             <div class=\"dept\">\\n              Associate Professor of Political Science\\n             </div>\\n            </article>\\n           </a>\\n           <a aria-label=\"View Zachary Bowersox\" class=\"card\" href=\"/people/zachary-bowersox\" id=\"faculty-card-container\">\\n            <article class=\"faculty-post\">\\n             <div class=\"image\">\\n              <img alt=\"Zachary Bowersox\" height=\"320\" loading=\"lazy\" sizes=\"(max-width:480px) 85vw, 290px\" src=\"/sites/polisci.wustl.edu/files/styles/square_1_1_320w/public/Polisci_Bowersox_Z_P1002669_0.jpg.webp\" srcset=\"https://polisci.wustl.edu/sites/polisci.wustl.edu/files/styles/square_1_1_190w/public/Polisci_Bowersox_Z_P1002669_0.jpg.webp 190w, https://polisci.wustl.edu/sites/polisci.wustl.edu/files/styles/square_1_1_320w/public/Polisci_Bowersox_Z_P1002669_0.jpg.webp 320w, https://polisci.wustl.edu/sites/polisci.wustl.edu/files/styles/square_1_1_480w/public/Polisci_Bowersox_Z_P1002669_0.jpg.webp 480w\" width=\"320\"/>\\n              <h3>\\n               <div>\\n                <span>\\n                 Zachary\\n                </span>\\n               </div>\\n               <div>\\n                <span>\\n                 Bowersox\\n                </span>\\n               </div>\\n              </h3>\\n             </div>\\n             <div class=\"dept\">\\n              Lecturer in Political Science\\n             </div>\\n            </article>\\n           </a>\\n           <a aria-label=\"View Christina L. Boyd\" class=\"card\" href=\"/people/christina-l-boyd\" id=\"faculty-card-container\">\\n            <article class=\"faculty-post\">\\n             <div class=\"image\">\\n              <img alt=\"Christy Boyd decorative image\" height=\"320\" loading=\"lazy\" sizes=\"(max-width:480px) 85vw, 290px\" src=\"/sites/polisci.wustl.edu/files/styles/square_1_1_320w/public/People/boyd%20headshot_0.png.webp\" srcset=\"https://polisci.wustl.edu/sites/polisci.wustl.edu/files/styles/square_1_1_190w/public/People/boyd%20headshot_0.png.webp 190w, https://polisci.wustl.edu/sites/polisci.wustl.edu/files/styles/square_1_1_320w/public/People/boyd%20headshot_0.png.webp 320w, https://polisci.wustl.edu/sites/polisci.wustl.edu/files/styles/square_1_1_480w/public/People/boyd%20headshot_0.png.webp 480w\" width=\"320\"/>\\n              <h3>\\n               <div>\\n                <span>\\n                 Christina L.\\n                </span>\\n               </div>\\n               <div>\\n                <span>\\n                 Boyd\\n                </span>\\n               </div>\\n              </h3>\\n             </div>\\n             <div class=\"dept\">\\n              Professor of Law and Political Science\\n             </div>\\n            </article>\\n           </a>\\n           <a aria-label=\"View Ryan Burge\" class=\"card\" href=\"https://rap.wustl.edu/people/ryan-burge/\" id=\"faculty-card\">\\n            <article class=\"faculty-post\">\\n             <div class=\"image\">\\n              <img alt=\"Ryan Burge\" height=\"320\" loading=\"lazy\" sizes=\"(max-width:480px) 85vw, 290px\" src=\"/sites/polisci.wustl.edu/files/styles/square_1_1_320w/public/2025-07/burge12.jpg.webp\" srcset=\"https://polisci.wustl.edu/sites/polisci.wustl.edu/files/styles/square_1_1_190w/public/2025-07/burge12.jpg.webp 190w, https://polisci.wustl.edu/sites/polisci.wustl.edu/files/styles/square_1_1_320w/public/2025-07/burge12.jpg.webp 320w, https://polisci.wustl.edu/sites/polisci.wustl.edu/files/styles/square_1_1_480w/public/2025-07/burge12.jpg.webp 480w\" width=\"320\"/>\\n              <h3>\\n               <div>\\n                <span>\\n                 Ryan\\n                </span>\\n               </div>\\n               <div>\\n                <span>\\n                 Burge\\n                </span>\\n               </div>\\n              </h3>\\n             </div>\\n             <div class=\"dept\">\\n              Professor of Practice\\n             </div>\\n            </article>\\n           </a>\\n           <a aria-label=\"View Daniel  Butler\" class=\"card\" href=\"/people/daniel-butler\" id=\"faculty-card-container\">\\n            <article class=\"faculty-post\">\\n             <div class=\"image\">\\n              <img alt=\"Daniel  Butler\" height=\"320\" loading=\"lazy\" sizes=\"(max-width:480px) 85vw, 290px\" src=\"/sites/polisci.wustl.edu/files/styles/square_1_1_320w/public/dmbutler19_0.jpg.webp\" srcset=\"https://polisci.wustl.edu/sites/polisci.wustl.edu/files/styles/square_1_1_190w/public/dmbutler19_0.jpg.webp 190w, https://polisci.wustl.edu/sites/polisci.wustl.edu/files/styles/square_1_1_320w/public/dmbutler19_0.jpg.webp 320w, https://polisci.wustl.edu/sites/polisci.wustl.edu/files/styles/square_1_1_480w/public/dmbutler19_0.jpg.webp 480w\" width=\"320\"/>\\n              <h3>\\n               <div>\\n                <span>\\n                 Daniel\\n                </span>\\n               </div>\\n               <div>\\n                <span>\\n                 Butler\\n                </span>\\n               </div>\\n              </h3>\\n             </div>\\n             <div class=\"dept\">\\n              Professor of Political Science\\n                                  Director of Undergraduate Studies in Political Science\\n             </div>\\n            </article>\\n           </a>\\n           <a aria-label=\"View Anthony Buzzacco\" class=\"card\" href=\"/people/anthony-buzzacco\" id=\"faculty-card-container\">\\n            <article class=\"faculty-post\">\\n             <div class=\"image\">\\n              <img alt=\"Anthony Buzzacco\" height=\"320\" loading=\"lazy\" src=\"https://insideartsci.wustl.edu/sites/insideartsci.wustl.edu/files/styles/square_1_1_680w/public/People/Anthony_0.jpg.webp\" width=\"320\"/>\\n              <h3>\\n               <div>\\n                <span>\\n                 Anthony\\n                </span>\\n               </div>\\n               <div>\\n                <span>\\n                 Buzzacco\\n                </span>\\n               </div>\\n              </h3>\\n             </div>\\n             <div class=\"dept\">\\n              Academic &amp; Administrative Cluster Supervisor\\n             </div>\\n            </article>\\n           </a>\\n           <a aria-label=\"View Randall Calvert\" class=\"card\" href=\"/people/randall-calvert\" id=\"faculty-card-container\">\\n            <article class=\"faculty-post\">\\n             <div class=\"image\">\\n              <img alt=\"Randall Calvert\" height=\"320\" loading=\"lazy\" sizes=\"(max-width:480px) 85vw, 290px\" src=\"/sites/polisci.wustl.edu/files/styles/square_1_1_320w/public/People/Polisci_Calvert_R_P1013968_0.jpg.webp\" srcset=\"https://polisci.wustl.edu/sites/polisci.wustl.edu/files/styles/square_1_1_190w/public/People/Polisci_Calvert_R_P1013968_0.jpg.webp 190w, https://polisci.wustl.edu/sites/polisci.wustl.edu/files/styles/square_1_1_320w/public/People/Polisci_Calvert_R_P1013968_0.jpg.webp 320w, https://polisci.wustl.edu/sites/polisci.wustl.edu/files/styles/square_1_1_480w/public/People/Polisci_Calvert_R_P1013968_0.jpg.webp 480w\" width=\"320\">\\n               <h3>\\n                <div>\\n                 <span>\\n                  Randall\\n                 </span>\\n                </div>\\n                <div>\\n                 <span>\\n                  Calvert\\n                 </span>\\n                </div>\\n               </h3>\\n              </img>\\n             </div>\\n             <div class=\"dept\">\\n              Thomas F. Eagleton University Professor of Public Affairs and Political Science , Professor Emeritus of Political Science\\n             </div>\\n            </article>\\n           </a>\\n           <a aria-label=\"View Michael Cannon\" class=\"card\" href=\"/people/michael-cannon\" id=\"faculty-card-container\">\\n            <article class=\"faculty-post\">\\n             <div class=\"image\">\\n              <img alt=\"Michael Cannon\" height=\"320\" loading=\"lazy\" sizes=\"(max-width:480px) 85vw, 290px\" src=\"/sites/polisci.wustl.edu/files/styles/square_1_1_320w/public/thumbnail_image001_0_0.jpg.webp\" srcset=\"https://polisci.wustl.edu/sites/polisci.wustl.edu/files/styles/square_1_1_190w/public/thumbnail_image001_0_0.jpg.webp 190w, https://polisci.wustl.edu/sites/polisci.wustl.edu/files/styles/square_1_1_320w/public/thumbnail_image001_0_0.jpg.webp 320w, https://polisci.wustl.edu/sites/polisci.wustl.edu/files/styles/square_1_1_480w/public/thumbnail_image001_0_0.jpg.webp 480w\" width=\"320\"/>\\n              <h3>\\n               <div>\\n                <span>\\n                 Michael\\n                </span>\\n               </div>\\n               <div>\\n                <span>\\n                 Cannon\\n                </span>\\n               </div>\\n              </h3>\\n             </div>\\n             <div class=\"dept\">\\n              Professor of the Practice\\n             </div>\\n            </article>\\n           </a>\\n           <a aria-label=\"View Taylor Carlson\" class=\"card\" href=\"/people/taylor-carlson\" id=\"faculty-card-container\">\\n            <article class=\"faculty-post\">\\n             <div class=\"image\">\\n              <img alt=\"Taylor Carlson\" height=\"320\" loading=\"lazy\" sizes=\"(max-width:480px) 85vw, 290px\" src=\"/sites/polisci.wustl.edu/files/styles/square_1_1_320w/public/PoliSci_Carlson_T_P1322772_0.jpg.webp\" srcset=\"https://polisci.wustl.edu/sites/polisci.wustl.edu/files/styles/square_1_1_190w/public/PoliSci_Carlson_T_P1322772_0.jpg.webp 190w, https://polisci.wustl.edu/sites/polisci.wustl.edu/files/styles/square_1_1_320w/public/PoliSci_Carlson_T_P1322772_0.jpg.webp 320w, https://polisci.wustl.edu/sites/polisci.wustl.edu/files/styles/square_1_1_480w/public/PoliSci_Carlson_T_P1322772_0.jpg.webp 480w\" width=\"320\"/>\\n              <h3>\\n               <div>\\n                <span>\\n                 Taylor\\n                </span>\\n               </div>\\n               <div>\\n                <span>\\n                 Carlson\\n                </span>\\n               </div>\\n              </h3>\\n             </div>\\n             <div class=\"dept\">\\n              Director of Graduate Studies Political Science\\n                                  Associate Professor of Political Science\\n              <br>\\n               Weidenbaum Center Director of Survey Research\\n              </br>\\n             </div>\\n            </article>\\n           </a>\\n           <a aria-label=\"View David Carter\" class=\"card\" href=\"/people/david-carter\" id=\"faculty-card-container\">\\n            <article class=\"faculty-post\">\\n             <div class=\"image\">\\n              <img alt=\"David Carter\" height=\"320\" loading=\"lazy\" sizes=\"(max-width:480px) 85vw, 290px\" src=\"/sites/polisci.wustl.edu/files/styles/square_1_1_320w/public/People/Polisci_Carter_D_P1044474_0.jpg.webp\" srcset=\"https://polisci.wustl.edu/sites/polisci.wustl.edu/files/styles/square_1_1_190w/public/People/Polisci_Carter_D_P1044474_0.jpg.webp 190w, https://polisci.wustl.edu/sites/polisci.wustl.edu/files/styles/square_1_1_320w/public/People/Polisci_Carter_D_P1044474_0.jpg.webp 320w, https://polisci.wustl.edu/sites/polisci.wustl.edu/files/styles/square_1_1_480w/public/People/Polisci_Carter_D_P1044474_0.jpg.webp 480w\" width=\"320\"/>\\n              <h3>\\n               <div>\\n                <span>\\n                 David\\n                </span>\\n               </div>\\n               <div>\\n                <span>\\n                 Carter\\n                </span>\\n               </div>\\n              </h3>\\n             </div>\\n             <div class=\"dept\">\\n              Professor of Political Science\\n             </div>\\n            </article>\\n           </a>\\n           <a aria-label=\"View Zeynep Ceren Topac\" class=\"card\" href=\"/people/zeynep-ceren-topac\" id=\"faculty-card-container\">\\n            <article class=\"faculty-post\">\\n             <div class=\"image\">\\n              <img alt=\"Photo of Zeynep Ceren smiling in a black jacket and black top\" height=\"320\" loading=\"lazy\" sizes=\"(max-width:480px) 85vw, 290px\" src=\"/sites/polisci.wustl.edu/files/styles/square_1_1_320w/public/Polisci_Pyo_S-1058751_0.jpg.webp\" srcset=\"https://polisci.wustl.edu/sites/polisci.wustl.edu/files/styles/square_1_1_190w/public/Polisci_Pyo_S-1058751_0.jpg.webp 190w, https://polisci.wustl.edu/sites/polisci.wustl.edu/files/styles/square_1_1_320w/public/Polisci_Pyo_S-1058751_0.jpg.webp 320w, https://polisci.wustl.edu/sites/polisci.wustl.edu/files/styles/square_1_1_480w/public/Polisci_Pyo_S-1058751_0.jpg.webp 480w\" width=\"320\"/>\\n              <h3>\\n               <div>\\n                <span>\\n                 Zeynep\\n                </span>\\n               </div>\\n               <div>\\n                <span>\\n                 Ceren Topac\\n                </span>\\n               </div>\\n              </h3>\\n             </div>\\n             <div class=\"dept\">\\n              Second Year Graduate Student\\n             </div>\\n            </article>\\n           </a>\\n           <a aria-label=\"View Amaan Charaniya\" class=\"card\" href=\"/people/amaan-charaniya\" id=\"faculty-card-container\">\\n            <article class=\"faculty-post\">\\n             <div class=\"image\">\\n              <img alt=\"Amaan Charaniya\" height=\"320\" loading=\"lazy\" sizes=\"(max-width:480px) 85vw, 290px\" src=\"/sites/polisci.wustl.edu/files/styles/square_1_1_320w/public/2025-04/amaancharaniya.png.webp\" srcset=\"https://polisci.wustl.edu/sites/polisci.wustl.edu/files/styles/square_1_1_190w/public/2025-04/amaancharaniya.png.webp 190w, https://polisci.wustl.edu/sites/polisci.wustl.edu/files/styles/square_1_1_320w/public/2025-04/amaancharaniya.png.webp 320w, https://polisci.wustl.edu/sites/polisci.wustl.edu/files/styles/square_1_1_480w/public/2025-04/amaancharaniya.png.webp 480w\" width=\"320\"/>\\n              <h3>\\n               <div>\\n                <span>\\n                 Amaan\\n                </span>\\n               </div>\\n               <div>\\n                <span>\\n                 Charaniya\\n                </span>\\n               </div>\\n              </h3>\\n             </div>\\n             <div class=\"dept\">\\n              Sixth Year Graduate Student\\n             </div>\\n            </article>\\n           </a>\\n           <a aria-label=\"View Tian Chen\" class=\"card\" href=\"/people/tian-chen\" id=\"faculty-card-container\">\\n            <article class=\"faculty-post\">\\n             <div class=\"image\">\\n              <img alt=\"Tian Chen\" height=\"320\" loading=\"lazy\" sizes=\"(max-width:480px) 85vw, 290px\" src=\"/sites/polisci.wustl.edu/files/styles/square_1_1_320w/public/People/Tian%20Chen_0.jpg.webp\" srcset=\"https://polisci.wustl.edu/sites/polisci.wustl.edu/files/styles/square_1_1_190w/public/People/Tian%20Chen_0.jpg.webp 190w, https://polisci.wustl.edu/sites/polisci.wustl.edu/files/styles/square_1_1_320w/public/People/Tian%20Chen_0.jpg.webp 320w, https://polisci.wustl.edu/sites/polisci.wustl.edu/files/styles/square_1_1_480w/public/People/Tian%20Chen_0.jpg.webp 480w\" width=\"320\"/>\\n              <h3>\\n               <div>\\n                <span>\\n                 Tian\\n                </span>\\n               </div>\\n               <div>\\n                <span>\\n                 Chen\\n                </span>\\n               </div>\\n              </h3>\\n             </div>\\n             <div class=\"dept\">\\n              Fourth Year Graduate Student\\n             </div>\\n            </article>\\n           </a>\\n           <a aria-label=\"View Dino P. Christenson\" class=\"card\" href=\"/people/dino-p-christenson\" id=\"faculty-card-container\">\\n            <article class=\"faculty-post\">\\n             <div class=\"image\">\\n              <img alt=\"Dino P. Christenson\" height=\"320\" loading=\"lazy\" sizes=\"(max-width:480px) 85vw, 290px\" src=\"/sites/polisci.wustl.edu/files/styles/square_1_1_320w/public/People/dino%20christenson_0.jpg.webp\" srcset=\"https://polisci.wustl.edu/sites/polisci.wustl.edu/files/styles/square_1_1_190w/public/People/dino%20christenson_0.jpg.webp 190w, https://polisci.wustl.edu/sites/polisci.wustl.edu/files/styles/square_1_1_320w/public/People/dino%20christenson_0.jpg.webp 320w, https://polisci.wustl.edu/sites/polisci.wustl.edu/files/styles/square_1_1_480w/public/People/dino%20christenson_0.jpg.webp 480w\" width=\"320\"/>\\n              <h3>\\n               <div>\\n                <span>\\n                 Dino P.\\n                </span>\\n               </div>\\n               <div>\\n                <span>\\n                 Christenson\\n                </span>\\n               </div>\\n              </h3>\\n             </div>\\n             <div class=\"dept\">\\n              Professor of Political Science\\n                                  Director of the Environmental Policy Major\\n             </div>\\n            </article>\\n           </a>\\n           <a aria-label=\"View Leticia Claro Oliveira\" class=\"card\" href=\"/people/leticia-claro-oliveira\" id=\"faculty-card-container\">\\n            <article class=\"faculty-post\">\\n             <div class=\"image\">\\n              <img alt=\"Leticia Claro Oliveira\" height=\"320\" loading=\"lazy\" sizes=\"(max-width:480px) 85vw, 290px\" src=\"/sites/polisci.wustl.edu/files/styles/square_1_1_320w/public/People/Polisci_Oliveira_L-1010648_0.jpg.webp\" srcset=\"https://polisci.wustl.edu/sites/polisci.wustl.edu/files/styles/square_1_1_190w/public/People/Polisci_Oliveira_L-1010648_0.jpg.webp 190w, https://polisci.wustl.edu/sites/polisci.wustl.edu/files/styles/square_1_1_320w/public/People/Polisci_Oliveira_L-1010648_0.jpg.webp 320w, https://polisci.wustl.edu/sites/polisci.wustl.edu/files/styles/square_1_1_480w/public/People/Polisci_Oliveira_L-1010648_0.jpg.webp 480w\" width=\"320\"/>\\n              <h3>\\n               <div>\\n                <span>\\n                 Leticia\\n                </span>\\n               </div>\\n               <div>\\n                <span>\\n                 Claro Oliveira\\n                </span>\\n               </div>\\n              </h3>\\n             </div>\\n             <div class=\"dept\">\\n              Fourth Year Graduate Student\\n                                  Dean\\'s Distinguished Graduate Fellow\\n             </div>\\n            </article>\\n           </a>\\n           <a aria-label=\"View Brian F. Crisp\" class=\"card\" href=\"/people/brian-f-crisp\" id=\"faculty-card-container\">\\n            <article class=\"faculty-post\">\\n             <div class=\"image\">\\n              <img alt=\"Brian F. Crisp\" height=\"320\" loading=\"lazy\" sizes=\"(max-width:480px) 85vw, 290px\" src=\"/sites/polisci.wustl.edu/files/styles/square_1_1_320w/public/People/PoliticalScience_Crisp_B-1277761_0.jpg.webp\" srcset=\"https://polisci.wustl.edu/sites/polisci.wustl.edu/files/styles/square_1_1_190w/public/People/PoliticalScience_Crisp_B-1277761_0.jpg.webp 190w, https://polisci.wustl.edu/sites/polisci.wustl.edu/files/styles/square_1_1_320w/public/People/PoliticalScience_Crisp_B-1277761_0.jpg.webp 320w, https://polisci.wustl.edu/sites/polisci.wustl.edu/files/styles/square_1_1_480w/public/People/PoliticalScience_Crisp_B-1277761_0.jpg.webp 480w\" width=\"320\"/>\\n              <h3>\\n               <div>\\n                <span>\\n                 Brian F.\\n                </span>\\n               </div>\\n               <div>\\n                <span>\\n                 Crisp\\n                </span>\\n               </div>\\n              </h3>\\n             </div>\\n             <div class=\"dept\">\\n              Professor Emeritus of Political Science\\n             </div>\\n            </article>\\n           </a>\\n           <a aria-label=\"View Bowen Damask\" class=\"card\" href=\"/people/bowen-damask\" id=\"faculty-card-container\">\\n            <article class=\"faculty-post\">\\n             <div class=\"image\">\\n              <img alt=\"default person image\" height=\"320\" loading=\"lazy\" src=\"/themes/custom/olympian9/images/default-person.png\" width=\"320\"/>\\n              <h3>\\n               <div>\\n                <span>\\n                 Bowen\\n                </span>\\n               </div>\\n               <div>\\n                <span>\\n                 Damask\\n                </span>\\n               </div>\\n              </h3>\\n             </div>\\n             <div class=\"dept\">\\n              First Year Graduate Student\\n             </div>\\n            </article>\\n           </a>\\n           <a aria-label=\"View Niko Dawson\" class=\"card\" href=\"/people/niko-dawson\" id=\"faculty-card-container\">\\n            <article class=\"faculty-post\">\\n             <div class=\"image\">\\n              <img alt=\"Photo of Niko Dawson smiling in a button up shirt\" height=\"320\" loading=\"lazy\" sizes=\"(max-width:480px) 85vw, 290px\" src=\"/sites/polisci.wustl.edu/files/styles/square_1_1_320w/public/Polisci_Dawson_N-1058506_0.jpg.webp\" srcset=\"https://polisci.wustl.edu/sites/polisci.wustl.edu/files/styles/square_1_1_190w/public/Polisci_Dawson_N-1058506_0.jpg.webp 190w, https://polisci.wustl.edu/sites/polisci.wustl.edu/files/styles/square_1_1_320w/public/Polisci_Dawson_N-1058506_0.jpg.webp 320w, https://polisci.wustl.edu/sites/polisci.wustl.edu/files/styles/square_1_1_480w/public/Polisci_Dawson_N-1058506_0.jpg.webp 480w\" width=\"320\">\\n               <h3>\\n                <div>\\n                 <span>\\n                  Niko\\n                 </span>\\n                </div>\\n                <div>\\n                 <span>\\n                  Dawson\\n                 </span>\\n                </div>\\n               </h3>\\n              </img>\\n             </div>\\n             <div class=\"dept\">\\n              Second Year Graduate Student\\n             </div>\\n            </article>\\n           </a>\\n           <a aria-label=\"View Rex Weiye Deng\" class=\"card\" href=\"/people/rex-weiye-deng\" id=\"faculty-card-container\">\\n            <article class=\"faculty-post\">\\n             <div class=\"image\">\\n              <img alt=\"Rex Weiye Deng\" height=\"320\" loading=\"lazy\" sizes=\"(max-width:480px) 85vw, 290px\" src=\"/sites/polisci.wustl.edu/files/styles/square_1_1_320w/public/Polisci_Deng_W_P1014162_0.jpg.webp\" srcset=\"https://polisci.wustl.edu/sites/polisci.wustl.edu/files/styles/square_1_1_190w/public/Polisci_Deng_W_P1014162_0.jpg.webp 190w, https://polisci.wustl.edu/sites/polisci.wustl.edu/files/styles/square_1_1_320w/public/Polisci_Deng_W_P1014162_0.jpg.webp 320w, https://polisci.wustl.edu/sites/polisci.wustl.edu/files/styles/square_1_1_480w/public/Polisci_Deng_W_P1014162_0.jpg.webp 480w\" width=\"320\"/>\\n              <h3>\\n               <div>\\n                <span>\\n                 Rex Weiye\\n                </span>\\n               </div>\\n               <div>\\n                <span>\\n                 Deng\\n                </span>\\n               </div>\\n              </h3>\\n             </div>\\n             <div class=\"dept\">\\n              Sixth Year Graduate Student\\n             </div>\\n            </article>\\n           </a>\\n           <a aria-label=\"View Juan Dodyk\" class=\"card\" href=\"/people/juan-dodyk\" id=\"faculty-card-container\">\\n            <article class=\"faculty-post\">\\n             <div class=\"image\">\\n              <img alt=\"Photo of Juan Dodyk smiling in a blue button up shirt wearing glasses\" height=\"320\" loading=\"lazy\" sizes=\"(max-width:480px) 85vw, 290px\" src=\"/sites/polisci.wustl.edu/files/styles/square_1_1_320w/public/Dodyk_Juan011R_cropped_0.jpg.webp\" srcset=\"https://polisci.wustl.edu/sites/polisci.wustl.edu/files/styles/square_1_1_190w/public/Dodyk_Juan011R_cropped_0.jpg.webp 190w, https://polisci.wustl.edu/sites/polisci.wustl.edu/files/styles/square_1_1_320w/public/Dodyk_Juan011R_cropped_0.jpg.webp 320w, https://polisci.wustl.edu/sites/polisci.wustl.edu/files/styles/square_1_1_480w/public/Dodyk_Juan011R_cropped_0.jpg.webp 480w\" width=\"320\"/>\\n              <h3>\\n               <div>\\n                <span>\\n                 Juan\\n                </span>\\n               </div>\\n               <div>\\n                <span>\\n                 Dodyk\\n                </span>\\n               </div>\\n              </h3>\\n             </div>\\n             <div class=\"dept\">\\n              Assistant Professor of Political Science\\n             </div>\\n            </article>\\n           </a>\\n          </div>\\n         </div>\\n         <div class=\"tabcontent\" id=\"List\">\\n          <div class=\"container filtered-names js-load-container\">\\n           <article class=\"faculty-post\" id=\"faculty-list\">\\n            <h3 class=\"column name\">\\n             <a aria-label=\"View Federico\\xa0Acosta y Lara\" href=\"/people/federico-acosta-y-lara\">\\n              Federico\\n            \\xa0Acosta y Lara\\n             </a>\\n            </h3>\\n            <ul class=\"column depts\">\\n             <li>\\n              Third Year Graduate Student\\n             </li>\\n            </ul>\\n            <div class=\"column room\">\\n             <p class=\"empty\">\\n             </p>\\n            </div>\\n            <ul class=\"column contact\">\\n             <li>\\n              Email:\\n              <a href=\"mailto:acostaylara@wustl.edu\">\\n               acostaylara@wustl.edu\\n              </a>\\n             </li>\\n            </ul>\\n           </article>\\n           <article class=\"faculty-post\" id=\"faculty-list\">\\n            <h3 class=\"column name\">\\n             <a aria-label=\"View Deniz\\xa0Aksoy\" href=\"/people/deniz-aksoy\">\\n              Deniz\\n            \\xa0Aksoy\\n             </a>\\n            </h3>\\n            <ul class=\"column depts\">\\n             <li>\\n              Associate Professor of Political Science\\n             </li>\\n            </ul>\\n            <div class=\"column room\">\\n             <p>\\n              Seigle 231\\n             </p>\\n            </div>\\n            <ul class=\"column contact\">\\n             <li>\\n              Email:\\n              <a href=\"mailto:denizaksoy@wustl.edu\">\\n               denizaksoy@wustl.edu\\n              </a>\\n             </li>\\n            </ul>\\n           </article>\\n           <article class=\"faculty-post\" id=\"faculty-list\">\\n            <h3 class=\"column name\">\\n             <a aria-label=\"View Lukas\\xa0Alexander\" href=\"/people/lukas-alexander\">\\n              Lukas\\n            \\xa0Alexander\\n             </a>\\n            </h3>\\n            <ul class=\"column depts\">\\n             <li>\\n              Third Year Graduate Student\\n             </li>\\n             <li>\\n              Weidenbaum Center Graduate Research Affiliate\\n             </li>\\n            </ul>\\n            <div class=\"column room\">\\n             <p class=\"empty\">\\n             </p>\\n            </div>\\n            <ul class=\"column contact\">\\n             <li>\\n              Email:\\n              <a href=\"mailto:a.lukas@wustl.edu\">\\n               a.lukas@wustl.edu\\n              </a>\\n             </li>\\n            </ul>\\n           </article>\\n           <article class=\"faculty-post\" id=\"faculty-list\">\\n            <h3 class=\"column name\">\\n             <a aria-label=\"View Alex\\xa0Avery\" href=\"/people/alex-avery\">\\n              Alex\\n            \\xa0Avery\\n             </a>\\n            </h3>\\n            <ul class=\"column depts\">\\n             <li>\\n              Fifth Year Graduate Student\\n             </li>\\n             <li>\\n              Weidenbaum Center Graduate Fellow\\n             </li>\\n            </ul>\\n            <div class=\"column room\">\\n             <p class=\"empty\">\\n             </p>\\n            </div>\\n            <ul class=\"column contact\">\\n             <li>\\n              Email:\\n              <a href=\"mailto:a.d.avery@wustl.edu\">\\n               a.d.avery@wustl.edu\\n              </a>\\n             </li>\\n            </ul>\\n           </article>\\n           <article class=\"faculty-post\" id=\"faculty-list\">\\n            <h3 class=\"column name\">\\n             <a aria-label=\"View Timm\\xa0Betz\" href=\"/people/timm-betz\">\\n              Timm\\n            \\xa0Betz\\n             </a>\\n            </h3>\\n            <ul class=\"column depts\">\\n             <li>\\n              Associate Professor of Political Science\\n             </li>\\n            </ul>\\n            <div class=\"column room\">\\n             <p>\\n              Seigle 232\\n             </p>\\n            </div>\\n            <ul class=\"column contact\">\\n             <li>\\n              Email:\\n              <a href=\"mailto:betzt@wustl.edu\">\\n               betzt@wustl.edu\\n              </a>\\n             </li>\\n            </ul>\\n           </article>\\n           <article class=\"faculty-post\" id=\"faculty-list\">\\n            <h3 class=\"column name\">\\n             <a aria-label=\"View Zachary\\xa0Bowersox\" href=\"/people/zachary-bowersox\">\\n              Zachary\\n            \\xa0Bowersox\\n             </a>\\n            </h3>\\n            <ul class=\"column depts\">\\n             <li>\\n              Lecturer in Political Science\\n             </li>\\n            </ul>\\n            <div class=\"column room\">\\n             <p>\\n              Seigle Hall 273\\n             </p>\\n            </div>\\n            <ul class=\"column contact\">\\n             <li>\\n              Email:\\n              <a href=\"mailto:bowersox@wustl.edu\">\\n               bowersox@wustl.edu\\n              </a>\\n             </li>\\n            </ul>\\n           </article>\\n           <article class=\"faculty-post\" id=\"faculty-list\">\\n            <h3 class=\"column name\">\\n             <a aria-label=\"View Christina L.\\xa0Boyd\" href=\"/people/christina-l-boyd\">\\n              Christina L.\\n            \\xa0Boyd\\n             </a>\\n            </h3>\\n            <ul class=\"column depts\">\\n             <li>\\n              Professor of Law and Political Science\\n             </li>\\n            </ul>\\n            <div class=\"column room\">\\n             <p>\\n              Anheuser-Busch Hall 566\\n             </p>\\n            </div>\\n            <ul class=\"column contact\">\\n             <li>\\n              Email:\\n              <a href=\"mailto:clboyd@wustl.edu\">\\n               clboyd@wustl.edu\\n              </a>\\n             </li>\\n            </ul>\\n           </article>\\n           <article class=\"faculty-post\" id=\"faculty-list\">\\n            <h3 class=\"column name\">\\n             <a aria-label=\"Opens Ryan\\xa0Burge in new window\" href=\"https://rap.wustl.edu/people/ryan-burge/\">\\n              Ryan\\n            \\xa0Burge\\n             </a>\\n            </h3>\\n            <ul class=\"column depts\">\\n             <li>\\n              Professor of Practice\\n             </li>\\n            </ul>\\n            <div class=\"column room\">\\n             <p class=\"empty\">\\n             </p>\\n            </div>\\n            <ul class=\"column contact\">\\n             <li class=\"empty\">\\n             </li>\\n            </ul>\\n           </article>\\n           <article class=\"faculty-post\" id=\"faculty-list\">\\n            <h3 class=\"column name\">\\n             <a aria-label=\"View Daniel \\xa0Butler\" href=\"/people/daniel-butler\">\\n              Daniel \\n            \\xa0Butler\\n             </a>\\n            </h3>\\n            <ul class=\"column depts\">\\n             <li>\\n              Professor of Political Science\\n             </li>\\n             <li>\\n              Director of Undergraduate Studies in Political Science\\n             </li>\\n            </ul>\\n            <div class=\"column room\">\\n             <p>\\n              Seigle Hall 287\\n             </p>\\n            </div>\\n            <ul class=\"column contact\">\\n             <li>\\n              Email:\\n              <a href=\"mailto:daniel.butler@wustl.edu\">\\n               daniel.butler@wustl.edu\\n              </a>\\n             </li>\\n            </ul>\\n           </article>\\n           <article class=\"faculty-post\" id=\"faculty-list\">\\n            <h3 class=\"column name\">\\n             <a aria-label=\"View Anthony\\xa0Buzzacco\" href=\"/people/anthony-buzzacco\">\\n              Anthony\\n            \\xa0Buzzacco\\n             </a>\\n            </h3>\\n            <ul class=\"column depts\">\\n             <li>\\n              Academic &amp; Administrative Cluster Supervisor\\n             </li>\\n            </ul>\\n            <div class=\"column room\">\\n             <p class=\"empty\">\\n             </p>\\n            </div>\\n            <ul class=\"column contact\">\\n             <li>\\n              Email:\\n              <a href=\"mailto:anthonyb@wustl.edu\">\\n               anthonyb@wustl.edu\\n              </a>\\n             </li>\\n             <li>\\n              Phone: 314-935-8577\\n             </li>\\n            </ul>\\n           </article>\\n           <article class=\"faculty-post\" id=\"faculty-list\">\\n            <h3 class=\"column name\">\\n             <a aria-label=\"View Randall\\xa0Calvert\" href=\"/people/randall-calvert\">\\n              Randall\\n            \\xa0Calvert\\n             </a>\\n            </h3>\\n            <ul class=\"column depts\">\\n             <li>\\n              Thomas F. Eagleton University Professor of Public Affairs and Political Science\\n             </li>\\n             <li>\\n              Professor Emeritus of Political Science\\n             </li>\\n            </ul>\\n            <div class=\"column room\">\\n             <p class=\"empty\">\\n             </p>\\n            </div>\\n            <ul class=\"column contact\">\\n             <li>\\n              Email:\\n              <a href=\"mailto:calvert@wustl.edu\">\\n               calvert@wustl.edu\\n              </a>\\n             </li>\\n            </ul>\\n           </article>\\n           <article class=\"faculty-post\" id=\"faculty-list\">\\n            <h3 class=\"column name\">\\n             <a aria-label=\"View Michael\\xa0Cannon\" href=\"/people/michael-cannon\">\\n              Michael\\n            \\xa0Cannon\\n             </a>\\n            </h3>\\n            <ul class=\"column depts\">\\n             <li>\\n              Professor of the Practice\\n             </li>\\n            </ul>\\n            <div class=\"column room\">\\n             <p class=\"empty\">\\n             </p>\\n            </div>\\n            <ul class=\"column contact\">\\n             <li>\\n              Email:\\n              <a href=\"mailto:mrcannon@wustl.edu\">\\n               mrcannon@wustl.edu\\n              </a>\\n             </li>\\n            </ul>\\n           </article>\\n           <article class=\"faculty-post\" id=\"faculty-list\">\\n            <h3 class=\"column name\">\\n             <a aria-label=\"View Taylor\\xa0Carlson\" href=\"/people/taylor-carlson\">\\n              Taylor\\n            \\xa0Carlson\\n             </a>\\n            </h3>\\n            <ul class=\"column depts\">\\n             <li>\\n              Director of Graduate Studies Political Science\\n             </li>\\n             <li>\\n              Associate Professor of Political Science\\n              <br>\\n               Weidenbaum Center Director of Survey Research\\n              </br>\\n             </li>\\n            </ul>\\n            <div class=\"column room\">\\n             <p>\\n              Seigle 289\\n             </p>\\n            </div>\\n            <ul class=\"column contact\">\\n             <li>\\n              Email:\\n              <a href=\"mailto:tncarlson@wustl.edu\">\\n               tncarlson@wustl.edu\\n              </a>\\n             </li>\\n            </ul>\\n           </article>\\n           <article class=\"faculty-post\" id=\"faculty-list\">\\n            <h3 class=\"column name\">\\n             <a aria-label=\"View David\\xa0Carter\" href=\"/people/david-carter\">\\n              David\\n            \\xa0Carter\\n             </a>\\n            </h3>\\n            <ul class=\"column depts\">\\n             <li>\\n              Professor of Political Science\\n             </li>\\n            </ul>\\n            <div class=\"column room\">\\n             <p>\\n              Seigle 286\\n             </p>\\n            </div>\\n            <ul class=\"column contact\">\\n             <li>\\n              Email:\\n              <a href=\"mailto:davidcarter@wustl.edu\">\\n               davidcarter@wustl.edu\\n              </a>\\n             </li>\\n            </ul>\\n           </article>\\n           <article class=\"faculty-post\" id=\"faculty-list\">\\n            <h3 class=\"column name\">\\n             <a aria-label=\"View Zeynep\\xa0Ceren Topac\" href=\"/people/zeynep-ceren-topac\">\\n              Zeynep\\n            \\xa0Ceren Topac\\n             </a>\\n            </h3>\\n            <ul class=\"column depts\">\\n             <li>\\n              Second Year Graduate Student\\n             </li>\\n            </ul>\\n            <div class=\"column room\">\\n             <p class=\"empty\">\\n             </p>\\n            </div>\\n            <ul class=\"column contact\">\\n             <li>\\n              Email:\\n              <a href=\"mailto:t.zeynep@wustl.edu\">\\n               t.zeynep@wustl.edu\\n              </a>\\n             </li>\\n            </ul>\\n           </article>\\n           <article class=\"faculty-post\" id=\"faculty-list\">\\n            <h3 class=\"column name\">\\n             <a aria-label=\"View Amaan\\xa0Charaniya\" href=\"/people/amaan-charaniya\">\\n              Amaan\\n            \\xa0Charaniya\\n             </a>\\n            </h3>\\n            <ul class=\"column depts\">\\n             <li>\\n              Sixth Year Graduate Student\\n             </li>\\n            </ul>\\n            <div class=\"column room\">\\n             <p class=\"empty\">\\n             </p>\\n            </div>\\n            <ul class=\"column contact\">\\n             <li>\\n              Email:\\n              <a href=\"mailto:a.charaniya@wustl.edu\">\\n               a.charaniya@wustl.edu\\n              </a>\\n             </li>\\n            </ul>\\n           </article>\\n           <article class=\"faculty-post\" id=\"faculty-list\">\\n            <h3 class=\"column name\">\\n             <a aria-label=\"View Tian\\xa0Chen\" href=\"/people/tian-chen\">\\n              Tian\\n            \\xa0Chen\\n             </a>\\n            </h3>\\n            <ul class=\"column depts\">\\n             <li>\\n              Fourth Year Graduate Student\\n             </li>\\n            </ul>\\n            <div class=\"column room\">\\n             <p class=\"empty\">\\n             </p>\\n            </div>\\n            <ul class=\"column contact\">\\n             <li>\\n              Email:\\n              <a href=\"mailto:chen.tian@wustl.edu\">\\n               chen.tian@wustl.edu\\n              </a>\\n             </li>\\n            </ul>\\n           </article>\\n           <article class=\"faculty-post\" id=\"faculty-list\">\\n            <h3 class=\"column name\">\\n             <a aria-label=\"View Dino P.\\xa0Christenson\" href=\"/people/dino-p-christenson\">\\n              Dino P.\\n            \\xa0Christenson\\n             </a>\\n            </h3>\\n            <ul class=\"column depts\">\\n             <li>\\n              Professor of Political Science\\n             </li>\\n             <li>\\n              Director of the Environmental Policy Major\\n             </li>\\n            </ul>\\n            <div class=\"column room\">\\n             <p>\\n              Seigle 234\\n             </p>\\n            </div>\\n            <ul class=\"column contact\">\\n             <li>\\n              Email:\\n              <a href=\"mailto:dinopc@wustl.edu\">\\n               dinopc@wustl.edu\\n              </a>\\n             </li>\\n            </ul>\\n           </article>\\n           <article class=\"faculty-post\" id=\"faculty-list\">\\n            <h3 class=\"column name\">\\n             <a aria-label=\"View Leticia\\xa0Claro Oliveira\" href=\"/people/leticia-claro-oliveira\">\\n              Leticia\\n            \\xa0Claro Oliveira\\n             </a>\\n            </h3>\\n            <ul class=\"column depts\">\\n             <li>\\n              Fourth Year Graduate Student\\n             </li>\\n             <li>\\n              Dean\\'s Distinguished Graduate Fellow\\n             </li>\\n            </ul>\\n            <div class=\"column room\">\\n             <p class=\"empty\">\\n             </p>\\n            </div>\\n            <ul class=\"column contact\">\\n             <li>\\n              Email:\\n              <a href=\"mailto:m.l.oliveira@wustl.edu\">\\n               m.l.oliveira@wustl.edu\\n              </a>\\n             </li>\\n            </ul>\\n           </article>\\n           <article class=\"faculty-post\" id=\"faculty-list\">\\n            <h3 class=\"column name\">\\n             <a aria-label=\"View Brian F.\\xa0Crisp\" href=\"/people/brian-f-crisp\">\\n              Brian F.\\n            \\xa0Crisp\\n             </a>\\n            </h3>\\n            <ul class=\"column depts\">\\n             <li>\\n              Professor Emeritus of Political Science\\n             </li>\\n            </ul>\\n            <div class=\"column room\">\\n             <p>\\n              Seigle 291\\n             </p>\\n            </div>\\n            <ul class=\"column contact\">\\n             <li>\\n              Email:\\n              <a href=\"mailto:crisp@wustl.edu\">\\n               crisp@wustl.edu\\n              </a>\\n             </li>\\n            </ul>\\n           </article>\\n           <article class=\"faculty-post\" id=\"faculty-list\">\\n            <h3 class=\"column name\">\\n             <a aria-label=\"View Bowen\\xa0Damask\" href=\"/people/bowen-damask\">\\n              Bowen\\n            \\xa0Damask\\n             </a>\\n            </h3>\\n            <ul class=\"column depts\">\\n             <li>\\n              First Year Graduate Student\\n             </li>\\n            </ul>\\n            <div class=\"column room\">\\n             <p class=\"empty\">\\n             </p>\\n            </div>\\n            <ul class=\"column contact\">\\n             <li>\\n              Email:\\n              <a href=\"mailto:bdamask@wustl.edu\">\\n               bdamask@wustl.edu\\n              </a>\\n             </li>\\n            </ul>\\n           </article>\\n           <article class=\"faculty-post\" id=\"faculty-list\">\\n            <h3 class=\"column name\">\\n             <a aria-label=\"View Niko\\xa0Dawson\" href=\"/people/niko-dawson\">\\n              Niko\\n            \\xa0Dawson\\n             </a>\\n            </h3>\\n            <ul class=\"column depts\">\\n             <li>\\n              Second Year Graduate Student\\n             </li>\\n            </ul>\\n            <div class=\"column room\">\\n             <p class=\"empty\">\\n             </p>\\n            </div>\\n            <ul class=\"column contact\">\\n             <li>\\n              Email:\\n              <a href=\"mailto:a.dawson@wustl.edu\">\\n               a.dawson@wustl.edu\\n              </a>\\n             </li>\\n            </ul>\\n           </article>\\n           <article class=\"faculty-post\" id=\"faculty-list\">\\n            <h3 class=\"column name\">\\n             <a aria-label=\"View Rex Weiye\\xa0Deng\" href=\"/people/rex-weiye-deng\">\\n              Rex Weiye\\n            \\xa0Deng\\n             </a>\\n            </h3>\\n            <ul class=\"column depts\">\\n             <li>\\n              Sixth Year Graduate Student\\n             </li>\\n            </ul>\\n            <div class=\"column room\">\\n             <p class=\"empty\">\\n             </p>\\n            </div>\\n            <ul class=\"column contact\">\\n             <li>\\n              Email:\\n              <a href=\"mailto:weiye.deng@wustl.edu\">\\n               weiye.deng@wustl.edu\\n              </a>\\n             </li>\\n            </ul>\\n           </article>\\n           <article class=\"faculty-post\" id=\"faculty-list\">\\n            <h3 class=\"column name\">\\n             <a aria-label=\"View Juan\\xa0Dodyk\" href=\"/people/juan-dodyk\">\\n              Juan\\n            \\xa0Dodyk\\n             </a>\\n            </h3>\\n            <ul class=\"column depts\">\\n             <li>\\n              Assistant Professor of Political Science\\n             </li>\\n            </ul>\\n            <div class=\"column room\">\\n             <p>\\n              Seigle 230H\\n             </p>\\n            </div>\\n            <ul class=\"column contact\">\\n             <li>\\n              Email:\\n              <a href=\"mailto:juandodyk@wustl.edu\">\\n               juandodyk@wustl.edu\\n              </a>\\n             </li>\\n            </ul>\\n           </article>\\n          </div>\\n         </div>\\n         <div class=\"load-more flex\">\\n          <nav aria-labelledby=\"pagination-heading\" class=\"pager pager--load-more\" role=\"navigation\">\\n           <h4 class=\"visually-hidden\" id=\"pagination-heading\">\\n            Pagination\\n           </h4>\\n           <ul class=\"pager__items js-pager__items\">\\n            <li class=\"pager__item\">\\n             <a href=\"/people?page=1\">\\n              Load more\\n             </a>\\n            </li>\\n           </ul>\\n          </nav>\\n         </div>\\n        </div>\\n       </div>\\n      </div>\\n     </div>\\n     <nav aria-label=\"Back to top of page\" class=\"top-scroll-container\" id=\"top-scroll\" role=\"navigation\">\\n      <ul>\\n       <li>\\n        <a aria-labelledby=\"top-scroll\" class=\"v-dot-link\" href=\"#\">\\n         <span class=\"fas fa-arrow-up\" role=\"presentation\">\\n         </span>\\n        </a>\\n       </li>\\n      </ul>\\n     </nav>\\n    </main>\\n    <footer id=\"footer\" role=\"contentinfo\">\\n     <div class=\"footer-top flex\">\\n      <div class=\"footer-nav flex\">\\n       <div class=\"column half\">\\n        <h3>\\n         Quick Links\\n        </h3>\\n        <div class=\"quick-links\">\\n         <ul class=\"menu quicklinks\">\\n          <li>\\n           <a data-drupal-link-system-path=\"node/61\" href=\"/resources\" title=\"\">\\n            Resources\\n           </a>\\n          </li>\\n          <li>\\n           <a data-drupal-link-system-path=\"node/21\" href=\"/events\" title=\"\">\\n            Events\\n           </a>\\n          </li>\\n          <li class=\"active-trail active\">\\n           <a aria-current=\"page\" class=\"is-active\" data-drupal-link-system-path=\"node/50\" href=\"/people\" title=\"\">\\n            Our People\\n           </a>\\n          </li>\\n          <li>\\n           <a data-drupal-link-system-path=\"node/68\" href=\"/contact-us\">\\n            Contact Us\\n           </a>\\n          </li>\\n         </ul>\\n        </div>\\n       </div>\\n       <div class=\"column half\">\\n        <h3>\\n         Additional information\\n        </h3>\\n        <ul class=\"additional-links\">\\n         <li>\\n          <a href=\"https://artsci.washu.edu\">\\n           <svg class=\"icon\">\\n            <use xlink:href=\"#link-out\">\\n            </use>\\n           </svg>\\n           Arts &amp; Sciences\\n          </a>\\n         </li>\\n         <li>\\n          <a href=\"https://gradstudies.artsci.wustl.edu/\">\\n           <svg class=\"icon\">\\n            <use xlink:href=\"#link-out\">\\n            </use>\\n           </svg>\\n           Graduate Studies in A&amp;S\\n          </a>\\n         </li>\\n        </ul>\\n        <p class=\"copyright\">\\n         <em>\\n          Copyright © 2025 by:\\n         </em>\\n         Arts &amp; Sciences at Washington University in St. Louis\\n        </p>\\n       </div>\\n      </div>\\n      <div class=\"column callout flex center\">\\n       <div class=\"inner\">\\n        <h3>\\n         Follow Us\\n        </h3>\\n        <ul class=\"social-links solid\">\\n         <li>\\n          <a href=\"http://instagram.com/washupolisci\">\\n           Instagram\\n           <svg>\\n            <use xlink:href=\"#instagram\" xmlns:xlink=\"http://www.w3.org/1999/xlink\">\\n            </use>\\n           </svg>\\n          </a>\\n         </li>\\n         <li>\\n          <a href=\"https://www.facebook.com/WashUPoliSci\">\\n           Facebook\\n           <svg>\\n            <use xlink:href=\"#facebook\" xmlns:xlink=\"http://www.w3.org/1999/xlink\">\\n            </use>\\n           </svg>\\n          </a>\\n         </li>\\n         <li>\\n          <a href=\"https://twitter.com/WashUPoliSci\">\\n           X\\n           <svg viewbox=\"0 0 512 512\" xmlns=\"http://www.w3.org/2000/svg\">\\n            <!--!Font Awesome Free 6.5.1 by @fontawesome - https://fontawesome.com License - https://fontawesome.com/license/free Copyright 2024 Fonticons, Inc.-->\\n            <path d=\"M389.2 48h70.6L305.6 224.2 487 464H345L233.7 318.6 106.5 464H35.8L200.7 275.5 26.8 48H172.4L272.9 180.9 389.2 48zM364.4 421.8h39.1L151.1 88h-42L364.4 421.8z\">\\n            </path>\\n           </svg>\\n          </a>\\n         </li>\\n         <li>\\n          <a href=\"http://www.linkedin.com/company/washupolisci\">\\n           LinkedIn\\n           <svg viewbox=\"0 0 448 512\" xmlns=\"http://www.w3.org/2000/svg\">\\n            <!--!Font Awesome Free 6.5.1 by @fontawesome - https://fontawesome.com License - https://fontawesome.com/license/free Copyright 2024 Fonticons, Inc.-->\\n            <path d=\"M100.3 448H7.4V148.9h92.9zM53.8 108.1C24.1 108.1 0 83.5 0 53.8a53.8 53.8 0 0 1 107.6 0c0 29.7-24.1 54.3-53.8 54.3zM447.9 448h-92.7V302.4c0-34.7-.7-79.2-48.3-79.2-48.3 0-55.7 37.7-55.7 76.7V448h-92.8V148.9h89.1v40.8h1.3c12.4-23.5 42.7-48.3 87.9-48.3 94 0 111.3 61.9 111.3 142.3V448z\">\\n            </path>\\n           </svg>\\n          </a>\\n         </li>\\n        </ul>\\n        <p>\\n         <em>\\n          Contact Us:\\n         </em>\\n         Department of Political Science\\n         <a href=\"mailto:polisci@wustl.edu\">\\n          polisci@wustl.edu\\n         </a>\\n        </p>\\n       </div>\\n      </div>\\n     </div>\\n     <div class=\"footer-bottom flex\">\\n      <div class=\"column wustl flex\">\\n       <div class=\"inner\">\\n        <a class=\"logo\" href=\"https://wustl.edu\">\\n         <svg class=\"logo\">\\n          <use xlink:href=\"#logo-wu\">\\n          </use>\\n         </svg>\\n        </a>\\n        <address>\\n         1 Brookings Drive / St. Louis, MO 63130 / wustl.edu\\n        </address>\\n       </div>\\n       <div class=\"masquerade flex center\">\\n       </div>\\n      </div>\\n     </div>\\n    </footer>\\n    <div class=\"overlay\" data-drupal-selector=\"overlay\">\\n    </div>\\n   </div>\\n  </div>\\n  <div class=\"olympian__container\">\\n   <span class=\"hidden\">\\n    <svg style=\"display: none;\">\\n     <symbol id=\"icon-search\" viewbox=\"0 0 100 100\">\\n      <path d=\"M87.3,12.1C72-3.2,47.1-3.2,31.8,12.1c-7.4,7.4-11.5,17.3-11.5,27.8c0,9.1,3.1,17.7,8.7,24.7L1.2,92.4l7,7l27.9-27.9\\n\\tc6.9,5.2,15.2,7.8,23.5,7.8c10.1,0,20.1-3.8,27.8-11.5C102.6,52.4,102.6,27.5,87.3,12.1z M81,61.4c-11.9,11.9-31.1,11.9-43,0\\n\\tc-5.7-5.7-8.9-13.4-8.9-21.5s3.2-15.8,8.9-21.5c5.9-5.9,13.7-8.9,21.5-8.9c7.8,0,15.6,3,21.5,8.9C92.9,30.3,92.9,49.6,81,61.4z\">\\n      </path>\\n     </symbol>\\n     <symbol id=\"email\" viewbox=\"0 0 64 64\">\\n      <path d=\"M32 35.077l18.462-16h-36.924zM27.013 33.307l4.987 4.091 4.909-4.093 13.553 11.617h-36.924zM12.307 43.693v-23.386l13.539 11.693zM51.693 43.693v-23.386l-13.539 11.693z\">\\n      </path>\\n     </symbol>\\n     <symbol id=\"ampersand\" viewbox=\"0 0 531.1 626.6\">\\n      <path d=\"M497.7,196.4c-11.6-7.9-24.9-11.6-38.5-10.9c-0.1,0-0.2,0-0.3,0c-27.1-0.1-49.1,21.8-49.2,48.9\\n\\t\\tc-0.1,27.1,21.8,49.1,48.9,49.2c17.1,0,32.2-9.2,41-22.5C497.9,288.7,475,310,447,310H270.1h-0.3c-26.3,0-51.1,10.5-69.8,29.1\\n\\t\\tc-18.7,18.6-29.1,43.6-29.2,70c-0.1,27.2,12,51.1,33.1,65.5c12.8,8.7,27.6,13.2,43.2,13.2c4.2,0,8.5-0.4,12.8-1.1\\n\\t\\tc31.3-2.6,55.9-28.7,55.9-60.7c0.1-33.7-27.2-61.1-60.9-61.2c-22.8-0.1-42.7,12.4-53.2,30.9c2.7-13.3,9.2-25.5,19.1-35.4\\n\\t\\tc13.1-13,30.5-20.2,49-20.2h0.2H342h0c0.2,0-0.1,0,0.1,0l27.7,0.1v84.1c0,93.2-75.3,169-168.5,169c-93.2,0-168.8-75.8-168.8-169\\n\\t\\tc0-93.2,76-169,169.2-169c8.6,0,15.6-7,15.6-15.6s-6.9-15.6-15.5-15.6c-1.6,0-3.1,0.1-4.7,0.1c-0.4,0-0.8-0.1-1.2-0.1\\n\\t\\tc-52.7,0-95.6-42.9-95.6-95.6c0-52.7,42.9-95.6,95.6-95.6s95.6,42.9,95.6,95.6c0,8.6-1.2,17.2-3.5,25.6\\n\\t\\tc-2.3,8.3,2.6,16.9,10.8,19.2c8.3,2.3,16.9-2.6,19.2-10.8c3.1-11.1,4.6-22.5,4.6-33.9C322.6,58.8,265.8,2,195.9,2\\n\\t\\tC126.1,2,69.2,58.8,69.2,128.7c0,46.1,24.7,86.5,61.6,108.6C55.4,266.1,1.7,339.1,1.7,424.4c0,110.4,90.6,200.2,200.9,200.2\\n\\t\\ts200.9-89.8,200.9-200.2v-84l43.3-0.2h0.2c45.3,0,82.3-36.7,82.4-82C529.5,233.4,517.3,209.8,497.7,196.4\">\\n      </path>\\n     </symbol>\\n     <view id=\"close-view\" viewbox=\"0 240 24 24\">\\n     </view>\\n     <symbol id=\"drop\" viewbox=\"0 0 24 24\">\\n      <path d=\"m4 8 8 8 8-8\" fill=\"none\" stroke=\"currentColor\" stroke-linecap=\"round\" stroke-linejoin=\"round\" stroke-width=\"3\">\\n      </path>\\n     </symbol>\\n     <use height=\"24\" width=\"24\" xlink:href=\"#drop\" y=\"264\">\\n     </use>\\n     <symbol id=\"logo-wu\" viewbox=\"0 0 331.5 27.8\">\\n      <g>\\n       <path d=\"M240.1,7.9c0.3,0,1.1-1.2,1.1-1.6c0-0.4-0.8-1.6-1.1-1.6c-0.3,0-1.1,1.3-1.1,1.6C239,6.6,239.7,7.9,240.1,7.9\">\\n       </path>\\n       <path d=\"M254.3,20.3V15c0-2.4-0.8-6-4.4-6c-2.6,0-3.9,2.5-3.9,2.1V9.3c0-0.3-0.2-0.5-0.3-0.5c-0.6,0-1.1,1-3.2,1.7\\n\\t\\tc-0.1,0-0.5,0-0.5,0.3c0,0.7,2.1-0.9,2.1,1.7v7.9c0,1.5-0.7,1.6-1.3,1.7c0,0-0.1,0-0.1,0c-0.5,0-1.7-0.2-1.7-1.4V9.3\\n\\t\\tc0-0.3-0.2-0.5-0.3-0.5c-0.6,0-1,1.1-2.7,1.7c-0.1,0-0.4,0.1-0.4,0.2c0,0.7,1.5-0.6,1.5,1.7V20c0.1,1.9-1,2.1-1.6,2.1\\n\\t\\tc-0.9,0-0.7,0.1-0.7,0.4c0,0.3,0.5,0.3,1.4,0.3c0.3,0,1-0.1,1.9-0.1c1.1,0,1.9,0.1,2.5,0.1c0.3,0,1.2-0.1,2.6-0.1\\n\\t\\tc1.6,0,2.1,0.1,2.5,0.1c0.4,0,0.9-0.2,0.6-0.4c-0.4-0.4-2.4,0.1-2.4-2.1V13c0-0.5,0.9-2.5,3.2-2.5c2.2,0,3.1,2.4,3.1,4v6\\n\\t\\tc0,2.3-0.8,1.6-1.2,2.1c-0.2,0.3,0.1,0.4,0.5,0.4c0.3,0,0.9-0.1,1.9-0.1c1.3,0,1.9,0.1,2.2,0.1c0.3,0,0.8-0.2,0.5-0.4\\n\\t\\tC255.6,21.9,254.3,22.7,254.3,20.3\">\\n       </path>\\n       <path d=\"M50.5,1.9c0.4-0.1,0.6-0.2,0.6-0.2c0-0.3-0.1-0.3-0.4-0.3c-0.7,0-1.1,0.1-1.8,0.1c-0.7,0-1.3-0.1-1.9-0.1\\n\\t\\tc-0.3,0-0.3,0.1-0.3,0.3c0,0.2,0.7,0.1,1.1,0.9c0.2,0.4,0.1,1.4-0.1,2l-5.2,14.2l-2.2-6.3l-0.9-2.3c0,0-0.1,0.1,0.5-1.8l1.2-3.6\\n\\t\\tC41.7,2.9,42.3,2,43,2c1,0,1-0.6,0.2-0.6s-1.2,0.1-1.8,0.1c-0.7,0-1-0.1-1.8-0.1c-0.3,0-0.6,0.1-0.5,0.3c0,0.2,0.4,0.1,0.7,0.3\\n\\t\\tc0.5,0.3,0.8,1.3,0.5,2.4L38.9,9l-1.6-4.3c-0.3-0.8-0.8-2.6,0-2.8c0.8-0.2,0.7-0.5,0.2-0.5c-0.9,0-1.4,0.1-2.2,0.1\\n\\t\\tc-0.9,0-1.6-0.1-2.5-0.1c-0.2,0-0.5,0-0.4,0.4c0.1,0.2,0.5,0.1,0.8,0.3c1.1,0.7,1.3,1.6,1.7,2.6l2.4,6.7c0.4,1.2,0.5,0.8,0.1,1.8\\n\\t\\tl-2.1,5.7L30.1,4.3c-0.4-1.1-0.6-1.9,0.3-2.3c0.4-0.2,0.5-0.2,0.5-0.3c0-0.1,0.1-0.3-0.5-0.3c-0.9,0-1.5,0.1-2.4,0.1\\n\\t\\tc-1,0-1.6-0.1-2.5-0.1c-0.3,0-0.4,0.1-0.4,0.4c0,0.3,0.7,0.1,1.3,0.8c0.4,0.4,1,1.7,1.2,2.2l6.1,17.7c0.1,0.3,0.1,0.8,0.5,0.8\\n\\t\\tc0.3,0,0.3-0.6,0.4-0.8l3.2-8.9l3.2,8.4c0.1,0.3,0.3,1.3,0.6,1.3c0.3,0,0.4-0.4,0.5-0.9L48.4,5C48.9,3.6,49.5,2.1,50.5,1.9\">\\n       </path>\\n       <path d=\"M118.1,8.8c-3.4,0-6,3.4-6,7.4c0,2,0.5,3.6,1.5,4.8c-0.3,0.2-0.9,0.7-2.2,0.7c-1.1,0-1.7-0.7-1.8-2.1V11c0,0,3.3,0,3.5,0\\n\\t\\tc0.2,0,0.7-1.5,0.7-1.6c0-0.2,0.1-0.3,0.1-0.5c0-0.3-0.2-0.3-0.4,0c-0.2,0.2-0.3,0.6-1,0.6h-2.9c0-2.5,0-3.6-0.4-3.6\\n\\t\\tc-0.4,0-0.3,0.1-0.7,1.2c-0.5,1.5-1.8,2.3-2.7,2.8c-0.4,0.1-0.8,0.1-1.3,0c-0.8-0.2-1.7-1.1-3.9-1.1c-2.5,0-4.6,2-4.6,4.7\\n\\t\\tc0,1.5,0.6,2.8,1.8,3.6c-0.2,0.1-1.6,1.3-1.4,2.6c0,0,0,1.4,1.1,1.9c-0.3,0.1-0.7,0.4-1,0.7c-0.7-0.3-1.8-0.1-1.8-2V15\\n\\t\\tc0-2.4-0.8-6-4.4-6c-2.6,0-3.9,2.5-3.9,2.1V9.3c0-0.3-0.2-0.5-0.3-0.5c-0.6,0-0.7,1-3,1.6c-0.1,0-0.4,0.1-0.4,0.3\\n\\t\\tc0,0.7,1.8-0.7,1.8,1.7v7.9c0,1.7-1.3,1.7-1.6,1.7c-0.1,0-0.2,0-0.3,0C82,22.1,81,21.8,81,20.8V9.3c0-0.3-0.2-0.5-0.3-0.5\\n\\t\\tc-0.6,0-1,1.1-2.7,1.7c-0.1,0-0.4,0.1-0.4,0.2c0,0.7,1.5-0.6,1.5,1.7V20c0.1,1.8-0.9,2.1-1.5,2.1c-0.7-0.1-1.3-0.4-1.3-1.5v-5.3\\n\\t\\tc0-2.7-1-6.3-4.5-6.3c-1.5,0-2.8,0.8-3.9,2V1.9c0-0.3-0.2-0.5-0.3-0.5c-0.4,0-1.1,1.2-3.1,1.7c-0.1,0-0.6,0.1-0.6,0.3\\n\\t\\tC64,4,66,3,66,5.1v15.6c0,1.6-1.3,1.3-1.6,1.8c0,0.2,0.1,0.3,0.3,0.3c0.4,0,1.6-0.1,2.4-0.1c0.8,0,2.2,0.1,2.7,0.1\\n\\t\\tc0.3,0,0.5-0.1,0.5-0.4C70.1,21.9,68,22.7,68,20v-6.7c0-1.6,1.9-2.9,3.1-2.9c0.9,0,3.2,0.7,3.2,4.7v5.8c0,1.1-1.2,1.3-1.3,1.6\\n\\t\\tc0,0.3,0.2,0.3,0.4,0.3c0.3,0,1.2-0.1,2.2-0.1c0.6,0,1.1,0,1.6,0.1c0.2,0,0.6,0.1,1,0.1c0.3,0,1-0.1,1.9-0.1c0.8,0,1.5,0.1,2.1,0.1\\n\\t\\tc0.1,0,0.2,0,0.3,0c0,0,0.1,0,0.1,0c0,0,0,0,0,0c0.3,0,0.6,0,0.8,0c0.3,0,0.9-0.1,2.3-0.1c1.6,0,2.1,0.1,2.5,0.1\\n\\t\\tc0.4,0,0.9-0.2,0.6-0.4c-0.4-0.4-2.4,0.1-2.4-2.1V13c0-0.5,0.9-2.5,3.2-2.5c2.2,0,3.1,2.4,3.1,4v6c0,2.1-0.8,1.6-1.2,2.1\\n\\t\\tc-0.2,0.3,0.1,0.4,0.5,0.4c0.3,0,0.9-0.1,1.9-0.1c1,0,1.6,0.1,2,0.1c-0.3,0.4-0.5,0.9-0.5,1.4c-0.1,2.6,3,3.5,5.7,3.5\\n\\t\\tc5.3-0.1,6.8-3.7,5.7-5.7c-1.1-2-3.5-1.9-5.9-1.9c-4.3,0-3.5-2.7-1.8-2.6c0.4,0,0.2,0.1,1.6,0.1c2.5,0,4.9-1.7,4.8-4.5\\n\\t\\tc0-0.2,0.1-1.1-0.6-2.2c1.2,0,0.7,0,2.5,0l0,7.9c0,3.6,1.7,4.2,3,4.2c1.8,0,3.1-1.2,3.3-1.7c1.1,1.1,2.5,1.7,4.3,1.7\\n\\t\\tc3.3,0,5.8-3,5.8-7C123.9,10,120.1,8.8,118.1,8.8 M98.7,21.9c0.2,0,0.3,0.1,2.7,0.2c2.5,0.1,3.4,0.8,3.6,1.5\\n\\t\\tc0.3,1.2-0.5,3.6-4.2,3.4c-2.3-0.1-3-1.2-3.1-1.5C96.9,24.2,97.6,21.9,98.7,21.9 M100.8,17.1c-2.1,0-2.9-2.1-2.9-4\\n\\t\\tc0-2,0.6-3.7,2.8-3.7c2.2,0,3,2.2,3,4.2C103.8,15.6,102.9,17.1,100.8,17.1 M118.4,22.1c-3.1,0-4.4-3.9-4.4-7c0-2.7,1.1-5.3,3.7-5.3\\n\\t\\tc3.2,0,4.3,3.4,4.3,6.7C122,20.5,120.6,22.1,118.4,22.1\">\\n       </path>\\n       <path d=\"M135.4,20.3V15c0-2.4-0.8-6-4.4-6c-2.6,0-3.9,2.5-3.9,2.1V9.3c0-0.3-0.2-0.5-0.3-0.5c-0.6,0-1.1,1-3.2,1.7\\n\\t\\tc-0.1,0-0.5,0-0.5,0.3c0,0.7,2.1-0.9,2.1,1.7v7.9c0,2.1-1.4,1.6-1.7,2.1c-0.2,0.3,0.3,0.3,0.6,0.3c0.3,0,0.9-0.1,2.3-0.1\\n\\t\\tc1.6,0,2.1,0.1,2.5,0.1c0.4,0,0.9-0.2,0.6-0.4c-0.4-0.4-2.4,0.1-2.4-2.1V13c0-0.5,0.9-2.5,3.2-2.5c2.2,0,3.1,2.4,3.1,4v6\\n\\t\\tc0,2.3-0.8,1.6-1.2,2.1c-0.2,0.3,0.1,0.4,0.5,0.4c0.3,0,0.9-0.1,1.9-0.1c1.3,0,1.9,0.1,2.2,0.1c0.3,0,0.8-0.2,0.5-0.4\\n\\t\\tC136.7,21.9,135.4,22.7,135.4,20.3\">\\n       </path>\\n       <path d=\"M79.9,7.9c0.3,0,1.1-1.2,1.1-1.6c0-0.4-0.8-1.6-1.1-1.6c-0.3,0-1.1,1.3-1.1,1.6C78.8,6.6,79.6,7.9,79.9,7.9\">\\n       </path>\\n       <path d=\"M62.1,15c-0.5-0.3-1.3-0.7-1.7-0.9c-1.7-0.9-2.3-1.5-2.4-2.4c-0.1-1.5,1.2-2.3,2.3-2.2c2.6,0,3,2.9,3.2,2.9\\n\\t\\tc0.4,0,0.3-0.4,0.3-1.2c0-0.2,0-1.3-0.1-1.6c-0.3-0.5-2.2-0.8-2.6-0.8c-0.1,0-0.5,0-0.6,0c-0.1,0-0.3,0-0.3,0\\n\\t\\tc-1.9,0-3.6,1.2-3.6,3.6c0.1,2.3,2.7,3.6,4.2,4.4c1.1,0.6,2.3,1.2,2.3,2.6c0,1.7-1.3,2.8-2.7,2.7c-3.3-0.1-2.8-4.1-3.4-4.1\\n\\t\\tc-0.4,0-0.3,1-0.3,1.6c0,0.5,0,1,0,1.4c-0.1,0.4-0.2,0.7-0.6,0.7c-1.3,0.1-1-2-1-3v-6.6c-0.1-2-1.6-3.4-3.9-3.4\\n\\t\\tc-3.2,0-5.5,3.9-4.4,5.2c0.3,0.3,1.3-0.8,1.4-0.9c0.1-0.1,0.1-0.1,0.1-0.1c0-1.3,1-3,2.4-3.2c1.6-0.2,2.5,1.1,2.5,2.7v2.2\\n\\t\\tC46.9,16,46,18,46,19.7c0,2.3,1.6,3.3,3.3,3.3c1.5,0,3-0.7,4.1-1.9c0.3,1.1,1,1.7,2.1,1.7c0.4,0,0.4,0.1,1.5-0.4\\n\\t\\tc0.4-0.1,0.4-0.1,0.8,0c0.6,0.2,1.4,0.6,2.7,0.6c2.1,0,4-1.9,4-4.3C64.5,17.2,64.1,16.3,62.1,15 M53.4,19.5c0,1.7-1.7,2.6-2.7,2.6\\n\\t\\tc-1.4,0-2.4-0.9-2.4-2.8c0-2.8,3.4-3.3,5.1-3.8V19.5z\">\\n       </path>\\n       <path d=\"M280.5,19.7c-0.3,0-1.1,1.3-1.1,1.7c0,0.3,0.8,1.6,1.1,1.6c0.3,0,1.1-1.3,1.1-1.6S280.9,19.7,280.5,19.7\">\\n       </path>\\n       <path d=\"M315.4,20.9V9.7c0-0.6-0.4-0.8-0.5-0.8c-0.4,0-0.6,0.1-0.9,0.2c-0.3,0.1-0.6,0.2-1.3,0.2c-0.1,0-0.8-0.1-0.8,0.3\\n\\t\\tc0,0.4,1.6,0.2,1.6,1.3v8.1c-0.1,1.4-1.3,3-2.7,3c-0.3,0-2.5-0.2-2.4-3.8V9.7c0-0.6-0.4-0.8-0.5-0.8c-0.4,0-0.6,0.1-0.9,0.2\\n\\t\\tc-0.3,0.1-0.6,0.2-1.4,0.2c-0.4,0-0.8-0.1-0.8,0.3c0.1,0.3,1.6,0,1.6,1.3v7.8c0,2.8,1.7,4.5,3.7,4.5c1.3,0,2.6-0.3,3.4-1.9h0.1v1.4\\n\\t\\tc0,0.1,0,0.5,0.2,0.5c0.4,0,0.6-0.3,0.9-0.4c0.3-0.1,0.4-0.3,1.3-0.4c0.4,0,0.9-0.2,0.9-0.5C316.7,21.1,315.4,21.7,315.4,20.9\">\\n       </path>\\n       <path d=\"M299.6,8.8c-3.4,0-6,3.4-6,7.4c0,1.8,0.4,3.3,1.2,4.4c-0.8,0.6-2.3,1.1-5.1,1.1c-2.2,0-2-0.8-2-2.6V4.1\\n\\t\\tc0-2.8,2.1-2,2.1-2.5c0-0.3-0.3-0.3-0.6-0.3c-0.4,0-1.1,0.2-2.6,0.2c-1.3,0-2.4-0.1-3-0.1c-0.3,0-0.7,0.1-0.5,0.4\\n\\t\\tc0.3,0.6,2.2,0.1,2.2,1.7v15.6c0,1.5,0.2,2.4-0.5,2.8c-0.8,0.5-1.8,0.5-1.7,0.9c0.1,0.2,0.5,0.2,0.7,0.2c1,0,2.5-0.1,3.6-0.2\\n\\t\\tc2-0.1,4,0.1,6,0.1c1.2,0,1.4-0.2,2.3-1.4c0,0,0,0,0-0.1c1,1,2.4,1.5,4,1.5c3.3,0,5.8-3,5.8-7C305.4,10,301.6,8.8,299.6,8.8\\n\\t\\t M299.8,22.1c-3.1,0-4.4-3.9-4.4-7c0-2.7,1.1-5.3,3.7-5.3c3.2,0,4.3,3.4,4.3,6.7C303.5,20.5,302.1,22.1,299.8,22.1\">\\n       </path>\\n       <path d=\"M266.7,11.3c-0.8-0.4-1.9-1.1-2.5-1.4c-2.4-1.4-3.4-2.3-3.5-3.6c-0.1-2.3,2.1-3.6,3.7-3.5c2,0,3.7,1.2,4.4,3.9\\n\\t\\tc0.1,0.3,0.3,0.9,0.6,0.9c0.2,0,0.3-0.2,0.2-0.5l-0.3-4.2c0-0.3-0.1-0.4-0.3-0.4c-0.2,0-0.4,0.3-0.6,0.3c-0.3,0-1.1-1.2-3.9-1.1\\n\\t\\tc-0.2,0-0.4,0-0.4,0c-2.7,0-5.3,1.8-5.2,5.6c0.1,3.5,4,5.5,6.1,6.8c1.6,0.9,3.2,2.4,3.1,4.1c-0.1,2.5-1.7,4.2-3.7,4.1\\n\\t\\tc-4.7-0.1-4.1-6.3-4.9-6.3c-0.6,0-0.5,1.6-0.5,2.4c0,2-0.1,3.6,0.1,3.9c0.1,0.1,0.3,0,0.8,0c0.9,0,2.1,1.1,4.8,1.1\\n\\t\\tc3.1,0,5.6-2.8,5.6-6.5C270.3,14.6,269.7,13.2,266.7,11.3\">\\n       </path>\\n       <path d=\"M320.1,7.9c0.3,0,1.1-1.2,1.1-1.6c0-0.4-0.8-1.6-1.1-1.6c-0.3,0-1.1,1.3-1.1,1.6C319,6.6,319.8,7.9,320.1,7.9\">\\n       </path>\\n       <path d=\"M322.9,22.2c-0.5,0-1.7-0.2-1.7-1.4V9.3c0-0.3-0.2-0.5-0.3-0.5c-0.6,0-1,1.1-2.7,1.7c-0.1,0-0.4,0.1-0.4,0.2\\n\\t\\tc0,0.7,1.5-0.6,1.5,1.8V20c0.1,1.9-1,2.1-1.6,2.1c-0.9,0-0.7,0.1-0.7,0.4c0,0.3,0.5,0.3,1.4,0.3c0.3,0,1-0.1,1.9-0.1\\n\\t\\tc1.1,0,1.9,0.1,2.5,0.1C323.1,22.9,323.6,22,322.9,22.2\">\\n       </path>\\n       <path d=\"M329,15c-0.5-0.3-1.3-0.7-1.7-0.9c-1.7-0.9-2.3-1.5-2.4-2.4c-0.1-1.5,1.2-2.3,2.3-2.1c2.6,0,3,2.9,3.2,2.9\\n\\t\\tc0.4,0,0.3-0.4,0.3-1.2c0-0.2,0-1.3-0.1-1.6c-0.3-0.5-2.2-0.8-2.6-0.8c-0.1,0-0.5,0-0.6,0c-0.1,0-0.3,0-0.3,0\\n\\t\\tc-1.9,0-3.6,1.2-3.6,3.7c0.1,2.3,2.7,3.6,4.2,4.4c1.1,0.6,2.3,1.2,2.3,2.6c0,1.7-1.3,2.8-2.7,2.7c-3.3-0.1-2.8-4.1-3.4-4.1\\n\\t\\tc-0.4,0-0.3,1-0.3,1.6c0,1.3-0.1,2.3,0.1,2.5c0,0.1,0.2,0,0.5,0c0.6,0,1.4,0.7,3.3,0.7c2.1,0,4-1.9,4-4.3\\n\\t\\tC331.5,17.2,331,16.3,329,15\">\\n       </path>\\n       <path d=\"M278.7,20.9c-0.3,0.1-0.9,0.8-2.3,0.8c-1.1,0-1.7-0.7-1.8-2.1v-9.1c0,0,3.3,0,3.5,0c0.2,0,0.7-1.5,0.7-1.6\\n\\t\\tc0-0.2,0.1-0.3,0.1-0.5c0-0.3-0.2-0.3-0.4,0c-0.2,0.2-0.3,0.6-1,0.6h-2.9c0-2.5,0-3.1-0.4-3.1c-0.4,0-0.3,0.1-0.7,1.2\\n\\t\\tc-0.6,1.9-2.6,2.7-3.2,3.1c-0.2,0.1-0.1,0.1-0.2,0.2c0,0.2,0.8,0.1,2.4,0.2l0,8.3c0,3.6,1.7,4.2,3,4.2c1.9,0,3.3-1.4,3.4-1.9\\n\\t\\tC278.9,20.9,278.9,20.9,278.7,20.9\">\\n       </path>\\n       <path d=\"M194.7,19.8c-0.6,0-1.5,1.7-3.8,1.7c-1.6,0-4.3-1.6-4.3-6.9h7.1c0.6,0,0.9,0,0.9-0.5c0-1.3-1.4-5.1-4.7-5.1\\n\\t\\tc-3.3,0-5.3,3.4-5.3,7.5c0,2.1,1.4,6.6,5.4,6.6c2.4,0,4.7-2.3,4.7-3.1C194.8,19.9,194.8,19.8,194.7,19.8 M189.5,9.6\\n\\t\\tc1.5,0,3,1.6,3,3.4c0,0.5-0.2,0.6-0.5,0.6h-5.3C186.6,11.9,187.8,9.6,189.5,9.6\">\\n       </path>\\n       <path d=\"M156.7,2.1c0.1-0.2-0.3-0.2-0.4-0.2c-0.4,0-1.4,0.1-1.9,0.1c-0.9,0-1.7-0.1-2.6-0.1c-0.1,0-0.5,0.1-0.5,0.2\\n\\t\\tc0,0.7,2.2-0.1,2.2,2.7v10.9c0,3.2-1,6.6-5.5,6.6c-3.2,0-4.9-2-4.9-6.4V4c0-2,1.5-1.5,1.6-2c0-0.4-1.4-0.2-1.5-0.2\\n\\t\\tc-0.7,0-1.2,0.1-2,0.1c-0.6,0-1.4-0.1-2-0.1c-0.1,0-0.6,0-0.6,0.2c-0.2,0.6,2,0.3,2,1.9v11.3c0,4.2,1.2,8.3,7.4,8.2\\n\\t\\tc7.4-0.1,7.2-6.8,7.2-8.1V4.7C155.3,2.2,156.5,2.4,156.7,2.1\">\\n       </path>\\n       <path d=\"M185.9,9.5c0.2-0.2,0.2-0.5-0.6-0.5c-0.5,0-0.8,0.1-1.3,0.1c-0.6,0-0.7,0-1.3,0c-0.7,0-0.9,0.1-0.9,0.3\\n\\t\\tc0.1,0.6,1.6,0,1.4,1.9c-0.2,1.5-0.7,2.9-1.2,4.2l-1.8,4.8l-2.6-7.9c-0.3-1-0.5-1.5-0.5-1.6c0-1,1.2-0.8,1.5-1.2\\n\\t\\tc0.2-0.3-0.2-0.4-0.6-0.4c-0.3,0-0.7,0.1-1.7,0.1c-0.8,0-1.4,0-1.8,0c-0.9-0.2-0.9,0.3-0.5,0.5c0.3,0.2,0.5,0,0.9,1.4l4,11.4\\n\\t\\tc0.1,0.2,0.2,0.8,0.5,0.8c0.4,0,0.4-0.4,0.9-1.8c0,0,3.9-10.8,4.1-11.2C185.3,9.5,185.7,9.8,185.9,9.5\">\\n       </path>\\n       <path d=\"M200.8,9c-1.1,0-1.9,1.3-2.4,2.2h-0.1v-2c0-0.3-0.2-0.5-0.3-0.5c-0.4,0-0.7,0.8-3,1.4c-0.1,0-0.5,0.1-0.5,0.3\\n\\t\\tc0,0.7,1.9-0.2,1.9,2v8.3c0,1.3-1.3,1.2-1.3,1.8c0,0.2,0.1,0.3,0.3,0.3c0.2,0,0.7-0.1,2.4-0.1c1.5,0,2.1,0.1,2.5,0.1\\n\\t\\tc0.3,0,0.4-0.1,0.4-0.3c0-1-2.3,0.5-2.3-2.4V13c0-0.4,0.6-1.9,1.7-1.9c0.9,0,1.1,0.7,1.5,0.7c0.3,0,0.9-0.9,0.9-1.4\\n\\t\\tC202.5,9.8,201.3,9,200.8,9\">\\n       </path>\\n       <path d=\"M234.4,9.1c-0.3,0-1,0-1.6,0c-0.8,0-1.2-0.1-1.5-0.1c-0.5,0-1,0-0.9,0.3c0.1,0.4,1.8,0.2,1.8,2.1c0,0.2,0,0.5-0.3,1.8\\n\\t\\tl-2.2,6.8l-3-8.4c0,0-0.1-0.3-0.1-0.8c0-1.4,1.6-1.2,1.7-1.5c0.1-0.2-0.2-0.4-0.6-0.4c-0.4,0-1.1,0-2.1,0c-0.2,0-0.3,0-0.4,0\\n\\t\\tc0,0,0,0,0,0h-1.2c0,0,0,0,0,0h-2.9c0-2.5,0-3.1-0.4-3.1c-0.4,0-0.3,0.1-0.7,1.2c-0.6,1.9-2.6,2.7-3.2,3.1\\n\\t\\tc-0.2,0.1-0.1,0.1-0.2,0.2c0,0.2,0.8,0.1,2.4,0.2l0,8.3c0,3.6,1.7,4.2,3,4.2c1.9,0,3.3-1.4,3.4-1.9c0-0.3,0-0.3-0.2-0.3\\n\\t\\tc-0.3,0.1-0.9,0.8-2.3,0.8c-1.1,0-1.7-0.7-1.8-2.1v-9.1c0,0,2.6,0,3.3,0c0,0.1,0.1,0.1,0.1,0.2l3.1,8.7c0.3,0.7,0.4,0.9,0.7,2.2\\n\\t\\tc0.2,0.8,0.1,1.6,0.1,1.6c-0.3,1.3-1.1,2.1-2.3,4.5c-0.1,0.2,1.8,0,1.9-0.1c0.2,0,0.1-0.1,0.3-0.4l1.4-4.1l3.8-11.7\\n\\t\\tc0.6-2,1.4-1.7,1.6-2C234.9,9.3,234.8,9.1,234.4,9.1\">\\n       </path>\\n       <polygon points=\"229.5,22.9 229.4,23.1 229.4,23.2 \\t\">\\n       </polygon>\\n       <path d=\"M214.2,7.9c0.3,0,1.1-1.2,1.1-1.6c0-0.4-0.8-1.6-1.1-1.6c-0.3,0-1.1,1.3-1.1,1.6C213.1,6.6,213.9,7.9,214.2,7.9\">\\n       </path>\\n       <path d=\"M217,22.2c-0.5,0-1.7-0.2-1.7-1.4V9.3c0-0.3-0.2-0.5-0.3-0.5c-0.6,0-1,1.1-2.7,1.7c-0.1,0-0.4,0.1-0.4,0.2\\n\\t\\tc0,0.7,1.5-0.6,1.5,1.8V20c0.1,1.9-1,2.1-1.6,2.1c-0.9,0-0.7,0.1-0.7,0.4c0,0.3,0.5,0.3,1.4,0.3c0.3,0,1-0.1,1.9-0.1\\n\\t\\tc1.1,0,1.9,0.1,2.5,0.1C217.2,22.9,217.7,22,217,22.2\">\\n       </path>\\n       <path d=\"M172,7.9c0.3,0,1.1-1.2,1.1-1.6c0-0.4-0.8-1.6-1.1-1.6c-0.3,0-1.1,1.3-1.1,1.6C170.9,6.6,171.6,7.9,172,7.9\">\\n       </path>\\n       <path d=\"M174.7,22.2c-0.5,0-1.7-0.2-1.7-1.4V9.3c0-0.3-0.2-0.5-0.3-0.5c-0.6,0-1,1.1-2.7,1.7c-0.1,0-0.4,0.1-0.4,0.2\\n\\t\\tc0,0.7,1.5-0.6,1.5,1.8V20c0.1,1.9-1,2.1-1.6,2.1c-0.1,0-0.1,0-0.2,0c-0.6-0.1-1.1-0.3-1.1-1.9V15c0-2.4-0.8-6-4.4-6\\n\\t\\tc-2.6,0-3.9,2.5-3.9,2.1V9.3c0-0.3-0.2-0.5-0.3-0.5c-0.6,0-1.1,1-3.2,1.7c-0.1,0-0.5,0-0.5,0.3c0,0.7,2.1-0.9,2.1,1.7v7.9\\n\\t\\tc0,2.1-1.4,1.6-1.7,2.1c-0.2,0.3,0.3,0.3,0.6,0.3c0.3,0,0.9-0.1,2.3-0.1c1.6,0,2.1,0.1,2.5,0.1c0.4,0,0.9-0.2,0.6-0.4\\n\\t\\tc-0.4-0.4-2.4,0.1-2.4-2.1V13c0-0.5,0.9-2.5,3.2-2.5c2.2,0,3.1,2.4,3.1,4v6c0,2.3-0.8,1.6-1.2,2.1c-0.2,0.3,0.1,0.4,0.5,0.4\\n\\t\\tc0.3,0,0.9-0.1,1.9-0.1c1.3,0,1.9,0.1,2.2,0.1c0,0,0.1,0,0.1,0c0.1,0,0.2,0,0.4,0c0.3,0,1-0.1,1.9-0.1c1.1,0,1.9,0.1,2.5,0.1\\n\\t\\tC175,22.9,175.4,22,174.7,22.2\">\\n       </path>\\n       <path d=\"M208.5,15c-0.5-0.3-1.3-0.7-1.7-0.9c-1.7-0.9-2.3-1.5-2.4-2.4c-0.1-1.5,1.2-2.3,2.3-2.2c2.6,0,3,2.9,3.2,2.9\\n\\t\\tc0.4,0,0.3-0.4,0.3-1.2c0-0.2,0-1.3-0.1-1.6c-0.3-0.5-2.2-0.8-2.6-0.8c-0.1,0-0.5,0-0.6,0c-0.1,0-0.3,0-0.3,0\\n\\t\\tc-1.9,0-3.6,1.2-3.6,3.7c0.1,2.3,2.7,3.6,4.2,4.4c1.1,0.6,2.3,1.2,2.3,2.6c0,1.7-1.3,2.8-2.7,2.7c-3.3-0.1-2.8-4.1-3.4-4.1\\n\\t\\tc-0.4,0-0.3,1-0.3,1.6c0,1.3-0.1,2.4,0.1,2.5c0,0.1,0.2,0,0.5,0c0.6,0,1.4,0.7,3.3,0.7c2.1,0,4-1.9,4-4.3\\n\\t\\tC210.9,17.2,210.5,16.3,208.5,15\">\\n       </path>\\n       <path d=\"M10.8,1.3L10.8,1.3L10.8,1.3L10.8,1.3C10.7,1.3,6.2,1.3,0,0v18v0c0,0.3,0,0.5,0,0.5l0,0v0c0,0.8,0.3,1.5,0.8,2.1\\n\\t\\tc0.3,0.4,0.8,0.7,1.4,1.1c0.2,0.1,0.4,0.2,0.6,0.3c0.2,0.1,0.3,0.1,0.5,0.2c0.1,0.1,0.6,0.2,0.7,0.3l6.8,2.6l6.8-2.6\\n\\t\\tc0.1-0.1,0.6-0.2,0.7-0.3h0c0.2-0.1,0.3-0.1,0.5-0.2c0.2-0.1,0.4-0.2,0.6-0.3c0.6-0.4,1.1-0.7,1.4-1.1c0.5-0.6,0.7-1.2,0.8-2.1l0,0\\n\\t\\tv0c0,0,0-0.2,0-0.5v0V0C15.4,1.3,10.9,1.3,10.8,1.3 M20.7,17.6L20.7,17.6c0,0.3,0,0.5,0,0.5v0l0,0c0,0.8-0.3,1.4-0.7,1.9\\n\\t\\tc-0.3,0.3-0.7,0.7-1.3,1c-0.2,0.1-0.3,0.2-0.5,0.3c-0.1,0.1-0.3,0.1-0.4,0.2l0,0c-0.1,0.1-0.5,0.2-0.7,0.3l-6.2,2.4l-6.2-2.4\\n\\t\\tc-0.1,0-0.5-0.2-0.7-0.3l0,0c-0.2-0.1-0.3-0.1-0.4-0.2C3.3,21.2,3.1,21.1,3,21c-0.6-0.3-1-0.7-1.3-1c-0.5-0.5-0.7-1.1-0.7-1.9l0,0\\n\\t\\tv0c0,0,0-0.2,0-0.4v0V1.2c5.7,1.2,9.8,1.1,9.9,1.1h0h0c0.1,0,4.2,0,9.9-1.1V17.6z\">\\n       </path>\\n       <path d=\"M10.8,3.3L10.8,3.3L10.8,3.3c-0.1,0-3.8,0-9-1v4.2c5.2,1.1,8.9,1,9,1l0,0h0c0.1,0,3.8,0,9-1V2.3\\n\\t\\tC14.6,3.3,10.9,3.3,10.8,3.3 M6,6.6L5,5.8L3.9,6.6l0.4-1.3L3.2,4.5l1.3,0L5,3.2l0.4,1.3l1.3,0L5.6,5.3L6,6.6z M16.2,4.5l0.4-1.3\\n\\t\\tl0.4,1.3l1.3,0l-1.1,0.8l0.4,1.3l-1.1-0.8l-1.1,0.8L16,5.3l-1.1-0.8L16.2,4.5z M12.6,5l-1.1,0.8l0.4,1.3l-1.1-0.8L9.7,7.1l0.4-1.3\\n\\t\\tL9,5l1.3,0l0.4-1.3L11.2,5L12.6,5z\">\\n       </path>\\n       <path d=\"M10.8,16.9L10.8,16.9C10.8,16.9,10.8,16.9,10.8,16.9c-0.1,0-3.8,0-9-1v1.5c0,0.2,0,0.4,0,0.4l0,0v0c0,0.7,0.2,1.3,0.7,1.7\\n\\t\\tc0.3,0.3,0.7,0.6,1.2,0.9c0.1,0.1,0.3,0.2,0.5,0.2c0.1,0.1,0.3,0.1,0.4,0.2v0c0.1,0,0.5,0.2,0.6,0.3l5.7,2.2l5.7-2.2\\n\\t\\tc0.1,0,0.5-0.2,0.6-0.3l0,0c0.1-0.1,0.3-0.1,0.4-0.2c0.2-0.1,0.3-0.2,0.5-0.2c0.5-0.3,0.9-0.6,1.2-0.9c0.4-0.5,0.6-1,0.7-1.7l0,0v0\\n\\t\\tc0,0,0-0.2,0-0.4v0v-1.5C14.6,16.9,10.9,16.9,10.8,16.9 M4.6,19.8l-0.2,0.2L4,19.8v-0.3h0.6V19.8z M4.6,19.2H4.2v-0.5l-0.3-0.3\\n\\t\\tl-0.4,0.3l-0.3-0.3V18h0.9l0.4,0.4V19.2z M5,20.6l-0.3-0.4l0.2-0.3v-0.5h0.3v0.5l0.2,0.3L5,20.6z M5.3,18L5.3,18l-0.2,0.5v0.8H4.8\\n\\t\\tv-0.8L4.6,18v-0.9L5,16.7l0.3,0.3V18z M5.9,19.8l-0.4,0.3l-0.2-0.2v-0.4h0.6V19.8z M6.6,18.4l-0.3,0.3L6,18.4l-0.3,0.3v0.5H5.4\\n\\t\\tv-0.8L5.7,18h0.9V18.4z M10.2,21.6l-0.3,0.3l-0.5-0.4v-0.4h0.8V21.6z M10.2,20.7H9.8v-0.7l-0.4-0.5l-0.6,0.4l-0.4-0.4V19h1.3\\n\\t\\tl0.6,0.6V20.7z M10.8,22.8l-0.5-0.6l0.2-0.4v-0.7H11v0.7l0.2,0.4L10.8,22.8z M16.2,19.8L16,20.1l-0.4-0.3v-0.3h0.6V19.8z M17,18.4\\n\\t\\tl0.4-0.4h0.9v0.4l-0.3,0.3l-0.4-0.3l-0.3,0.3v0.5H17V18.4z M17,19.5h0.6v0.3l-0.4,0.3L17,19.8V19.5z M16.3,18L16.3,18v-0.9l0.3-0.3\\n\\t\\tl0.3,0.3V18l-0.2,0.5v0.8h-0.3v-0.8L16.3,18z M16.5,19.9v-0.5h0.3v0.5l0.2,0.3l-0.3,0.4l-0.3-0.4L16.5,19.9z M15,18h0.9l0.4,0.4\\n\\t\\tv0.8h-0.3v-0.5l-0.3-0.3l-0.4,0.3L15,18.4V18z M11.4,19.6l0.6-0.6h1.3v0.6l-0.4,0.4l-0.6-0.4l-0.4,0.5v0.7h-0.5V19.6z M11.4,21.1\\n\\t\\th0.8v0.4l-0.5,0.4l-0.3-0.3V21.1z M11.3,18.9L11.3,18.9L11,19.6v1.1h-0.5v-1.1l-0.2-0.7v-1.3l0.5-0.5l0.5,0.5V18.9z\">\\n       </path>\\n       <polygon points=\"11.2,14.6 10.8,15 10.4,14.6 10.1,14.4 6.5,14.4 6.5,9 5.7,9.6 5.7,15.1 10,15.1 10.4,15.4 10.8,15.8 11.2,15.4\\n\\t\\t11.6,15.1 15.9,15.1 15.9,9.6 15.1,9 15.1,14.4 11.5,14.4 \\t\">\\n       </polygon>\\n       <polygon points=\"10.4,8.7 10.2,8.5 7.3,8.5 7.3,13.6 10.2,13.6 10.4,13.8 10.8,14.1 11.2,13.8 11.4,13.6 14.3,13.6 14.3,8.5\\n\\t\\t11.4,8.5 11.2,8.7 10.8,9.1 \\t\">\\n       </polygon>\\n       <path d=\"M16.6,13.5c1-0.1,2-0.3,3.2-0.6v-1.4v-2c-1.1,0.2-2.2,0.4-3.2,0.6V13.5z\">\\n       </path>\\n       <path d=\"M5,10.1c-1-0.1-2-0.3-3.2-0.6v2V13C2.9,13.2,4,13.4,5,13.5V10.1z\">\\n       </path>\\n      </g>\\n     </symbol>\\n     <symbol id=\"arrow-next\" viewbox=\"0 0 25 41\">\\n      <path d=\"M1.7,40.9c-0.4,0-0.8-0.2-1.1-0.5C0,39.7,0,38.8,0.7,38.2l20-17.7L0.7,2.8C0,2.3,0,1.3,0.5,0.7C1.1,0,2.1,0,2.7,0.5L24,19.4\\n\\tc0.3,0.3,0.5,0.7,0.5,1.1c0,0.4-0.2,0.9-0.5,1.1L2.7,40.5C2.4,40.8,2,40.9,1.7,40.9z\">\\n      </path>\\n     </symbol>\\n     <symbol id=\"arrow-prev\" viewbox=\"0 0 25 41\">\\n      <path d=\"M23.4,40.9c0.4,0,0.8-0.2,1.1-0.5c0.6-0.6,0.5-1.6-0.1-2.2l-20-17.7l20-17.7c0.6-0.6,0.7-1.5,0.1-2.2C24,0,23,0,22.4,0.5\\n\\tL1,19.4c-0.3,0.3-0.5,0.7-0.5,1.1c0,0.4,0.2,0.9,0.5,1.1l21.3,18.8C22.6,40.8,23,40.9,23.4,40.9z\">\\n      </path>\\n     </symbol>\\n     <symbol id=\"twitter\" viewbox=\"0 0 16.5 17\">\\n      <path d=\"M14.6,5.3c0,0.1,0,0.3,0,0.4c0,4.3-3.3,9.2-9.2,9.2c-1.8,0-3.5-0.5-5-1.5c0.3,0,0.5,0,0.8,0c1.5,0,2.9-0.5,4-1.4\\n\\tc-1.4,0-2.6-1-3-2.2c0.2,0,0.4,0.1,0.6,0.1c0.3,0,0.6,0,0.9-0.1C2.2,9.5,1,8.2,1,6.6c0,0,0,0,0,0C1.5,6.8,2,7,2.5,7\\n\\tC1.6,6.4,1.1,5.4,1.1,4.3c0-0.6,0.2-1.2,0.4-1.6c1.6,2,4,3.3,6.7,3.4C8.1,5.8,8.1,5.6,8.1,5.3c0-1.8,1.4-3.2,3.2-3.2\\n\\tc0.9,0,1.8,0.4,2.4,1c0.7-0.1,1.4-0.4,2.1-0.8c-0.2,0.8-0.8,1.4-1.4,1.8C15,4,15.6,3.9,16.2,3.6C15.8,4.2,15.2,4.8,14.6,5.3z\">\\n      </path>\\n     </symbol>\\n     <symbol id=\"facebook\" viewbox=\"0 0 16.5 17\">\\n      <path d=\"M12.4,2.9h-1.6c-1.2,0-1.5,0.6-1.5,1.4v1.9h2.9l-0.4,3H9.3v7.6H6.3V9.2H3.7v-3h2.6V4.1c0-2.5,1.6-3.9,3.8-3.9\\n\\tc1.1,0,2,0.1,2.3,0.1V2.9z\">\\n      </path>\\n     </symbol>\\n     <symbol id=\"instagram\" viewbox=\"0 0 16.5 17\">\\n      <path d=\"M8.2,1.9c2.2,0,2.4,0,3.3,0c0.8,0,1.2,0.2,1.5,0.3c0.4,0.1,0.6,0.3,0.9,0.6c0.3,0.3,0.5,0.6,0.6,0.9\\n\\t\\tc0.1,0.3,0.2,0.7,0.3,1.5c0,0.9,0,1.1,0,3.3s0,2.4,0,3.3c0,0.8-0.2,1.2-0.3,1.5c-0.1,0.4-0.3,0.6-0.6,0.9c-0.3,0.3-0.6,0.5-0.9,0.6\\n\\t\\tc-0.3,0.1-0.7,0.2-1.5,0.3c-0.9,0-1.1,0-3.3,0s-2.4,0-3.3,0c-0.8,0-1.2-0.2-1.5-0.3c-0.4-0.1-0.6-0.3-0.9-0.6\\n\\t\\tc-0.3-0.3-0.5-0.6-0.6-0.9c-0.1-0.3-0.2-0.7-0.3-1.5c0-0.9,0-1.1,0-3.3s0-2.4,0-3.3c0-0.8,0.2-1.2,0.3-1.5c0.1-0.4,0.3-0.6,0.6-0.9\\n\\t\\tc0.3-0.3,0.6-0.5,0.9-0.6C3.8,2.1,4.2,2,5,1.9C5.8,1.9,6.1,1.9,8.2,1.9 M8.2,0.4c-2.2,0-2.5,0-3.3,0c-0.9,0-1.4,0.2-2,0.4\\n\\t\\tC2.4,1,2,1.3,1.5,1.8C1.1,2.2,0.8,2.7,0.6,3.2c-0.2,0.5-0.3,1.1-0.4,2c0,0.9,0,1.1,0,3.3c0,2.2,0,2.5,0,3.3c0,0.9,0.2,1.4,0.4,2\\n\\t\\tc0.2,0.5,0.5,1,0.9,1.4C2,15.7,2.4,16,3,16.2c0.5,0.2,1.1,0.3,2,0.4c0.9,0,1.1,0,3.3,0s2.5,0,3.3,0c0.9,0,1.4-0.2,2-0.4\\n\\t\\tc0.5-0.2,1-0.5,1.4-0.9c0.4-0.4,0.7-0.9,0.9-1.4c0.2-0.5,0.3-1.1,0.4-2c0-0.9,0-1.1,0-3.3s0-2.5,0-3.3c0-0.9-0.2-1.4-0.4-2\\n\\t\\tc-0.2-0.5-0.5-1-0.9-1.4c-0.4-0.4-0.9-0.7-1.4-0.9c-0.5-0.2-1.1-0.3-2-0.4C10.7,0.4,10.4,0.4,8.2,0.4L8.2,0.4z\">\\n      </path>\\n      <path d=\"M8.2,4.3C6,4.3,4.1,6.2,4.1,8.5s1.9,4.2,4.2,4.2s4.2-1.9,4.2-4.2S10.5,4.3,8.2,4.3z M8.2,11.2c-1.5,0-2.7-1.2-2.7-2.7\\n\\t\\ts1.2-2.7,2.7-2.7s2.7,1.2,2.7,2.7S9.7,11.2,8.2,11.2z\">\\n      </path>\\n      <circle cx=\"12.6\" cy=\"4.2\" r=\"1\">\\n      </circle>\\n     </symbol>\\n     <symbol id=\"linkedin\" viewbox=\"0 0 16.5 17\">\\n      <path d=\"M2.4,4.6L2.4,4.6c-1.1,0-1.8-0.8-1.8-1.7c0-1,0.7-1.7,1.9-1.7c1.1,0,1.8,0.7,1.8,1.7C4.3,3.8,3.5,4.6,2.4,4.6z M4,15.9H0.7\\n\\tV5.9H4V15.9z M16,15.9h-3.3v-5.3c0-1.3-0.5-2.2-1.7-2.2c-0.9,0-1.5,0.6-1.7,1.2C9.2,9.7,9.2,10,9.2,10.3v5.6H5.9c0-9,0-9.9,0-9.9\\n\\th3.3v1.4h0c0.4-0.7,1.2-1.7,3-1.7c2.2,0,3.8,1.4,3.8,4.5V15.9z\">\\n      </path>\\n     </symbol>\\n     <symbol id=\"youtube\" viewbox=\"0 0 40 28.2\">\\n      <path d=\"M39.4,6.2c0,0-0.4-2.7-1.6-3.9c-1.5-1.6-3.2-1.6-4-1.7C28.3,0.2,20,0.2,20,0.2h0c0,0-8.3,0-13.8,0.4\\n\\t\\t\\tc-0.8,0.1-2.5,0.1-4,1.7C1,3.5,0.6,6.2,0.6,6.2s-0.4,3.2-0.4,6.4v3c0,3.2,0.4,6.4,0.4,6.4s0.4,2.7,1.6,3.9\\n\\t\\t\\tc1.5,1.6,3.5,1.5,4.4,1.7C9.7,27.9,20,28,20,28s8.3,0,13.8-0.4c0.8-0.1,2.5-0.1,4-1.7c1.2-1.2,1.6-3.9,1.6-3.9s0.4-3.2,0.4-6.4v-3\\n\\t\\t\\tC39.8,9.4,39.4,6.2,39.4,6.2z M15.9,19.2l0-11.1l10.7,5.6L15.9,19.2z\">\\n      </path>\\n     </symbol>\\n     <symbol id=\"link-arrow\" viewbox=\"0 0 40.4 23.8\">\\n      <path d=\"M39.7,10.6l-9.9-9.9c-0.7-0.7-1.7-0.7-2.4,0c-0.7,0.7-0.7,1.7,0,2.4l7,7H1.9c-0.9,0-1.7,0.8-1.7,1.7c0,0.9,0.8,1.7,1.7,1.7\\n\\th32.5l-7,7c-0.7,0.7-0.7,1.7,0,2.4c0.3,0.3,0.8,0.5,1.2,0.5c0.4,0,0.9-0.2,1.2-0.5l9.9-9.9C40.4,12.4,40.4,11.3,39.7,10.6z\">\\n      </path>\\n     </symbol>\\n     <symbol id=\"video\" viewbox=\"0 0 82.9 82.7\">\\n      <path d=\"M56.2,43.8L34.8,56.2c-2,1.1-3.6,0.2-3.6-2.1l-0.1-25c0-2.3,1.6-3.2,3.5-2l21.6,12.6C58.2,40.8,58.2,42.6,56.2,43.8z\\n\\t\\t M62,77C42.3,88.4,17.1,81.6,5.8,61.9C-5.6,42.2,1.2,17,20.9,5.7C40.6-5.7,65.8,1.1,77.1,20.8C88.4,40.4,81.7,65.6,62,77z\\n\\t\\t M69.9,24.8C60.8,9,40.7,3.6,24.9,12.7c-15.8,9.1-21.2,29.2-12.1,45s29.2,21.2,45,12.1S79,40.6,69.9,24.8z\">\\n      </path>\\n     </symbol>\\n     <symbol id=\"time\" viewbox=\"0 0 28.5 28.4\">\\n      <path d=\"M14.3,28.3c-3.6,0-7.2-1.4-10-4.1c-5.5-5.5-5.5-14.5,0-20c5.5-5.5,14.5-5.5,20,0c5.5,5.5,5.5,14.5,0,20\\n\\tC21.5,26.9,17.9,28.3,14.3,28.3z M14.3,3.5c-2.7,0-5.5,1-7.5,3.1c-4.2,4.2-4.2,10.9,0,15.1s10.9,4.2,15.1,0c4.2-4.2,4.2-10.9,0-15.1\\n\\tC19.7,4.6,17,3.5,14.3,3.5z\">\\n      </path>\\n      <path d=\"M15.7,16.2H9.5c-0.6,0-1-0.4-1-1s0.4-1,1-1h4.2V8.5c0-0.6,0.4-1,1-1s1,0.4,1,1V16.2z\">\\n      </path>\\n     </symbol>\\n     <symbol id=\"location\" viewbox=\"0 0 32 48\">\\n      <path d=\"M30.6,21.7L19.5,45.3c-0.6,1.3-2,2.2-3.5,2.2s-2.9-0.8-3.5-2.2L1.3,21.7c-0.8-1.7-1-3.6-1-5.5c0-8.7,7-15.7,15.7-15.7\\n\\t\\ts15.7,7,15.7,15.7C31.6,18.1,31.4,20,30.6,21.7z M16,8.4c-4.3,0-7.8,3.5-7.8,7.8S11.7,24,16,24s7.8-3.5,7.8-7.8S20.3,8.4,16,8.4z\">\\n      </path>\\n     </symbol>\\n     <symbol id=\"calendar\" viewbox=\"0 0 25 25\">\\n      <path d=\"M24,23.1c0,1-0.8,1.8-1.8,1.8H2.8c-1,0-1.8-0.8-1.8-1.8V5.4c0-1,0.8-1.8,1.8-1.8h1.8V2.4c0-1.2,1-2.2,2.2-2.2h0.9\\n\\t\\tc1.2,0,2.2,1,2.2,2.2v1.3h5.3V2.4c0-1.2,1-2.2,2.2-2.2h0.9c1.2,0,2.2,1,2.2,2.2v1.3h1.8c1,0,1.8,0.8,1.8,1.8V23.1z M6.8,12.9V9h-4\\n\\t\\tv4H6.8z M6.8,18.2v-4.4h-4v4.4H6.8z M6.8,23.1v-4h-4v4H6.8z M8.1,2.4c0-0.2-0.2-0.4-0.4-0.4H6.8c-0.2,0-0.4,0.2-0.4,0.4v4\\n\\t\\tc0,0.2,0.2,0.4,0.4,0.4h0.9c0.2,0,0.4-0.2,0.4-0.4V2.4z M12.1,12.9V9H7.6v4H12.1z M12.1,18.2v-4.4H7.6v4.4H12.1z M12.1,23.1v-4H7.6\\n\\t\\tv4H12.1z M17.4,12.9V9h-4.4v4H17.4z M17.4,18.2v-4.4h-4.4v4.4H17.4z M17.4,23.1v-4h-4.4v4H17.4z M18.7,2.4c0-0.2-0.2-0.4-0.4-0.4\\n\\t\\th-0.9c-0.2,0-0.4,0.2-0.4,0.4v4c0,0.2,0.2,0.4,0.4,0.4h0.9c0.2,0,0.4-0.2,0.4-0.4V2.4z M22.2,12.9V9h-4v4H22.2z M22.2,18.2v-4.4h-4\\n\\t\\tv4.4H22.2z M22.2,23.1v-4h-4v4H22.2z\">\\n      </path>\\n     </symbol>\\n     <symbol id=\"academic-calendar\" viewbox=\"0 0 56.6 56.6\">\\n      <path d=\"M53.9,0.8H2.7c-1.1,0-1.9,0.9-1.9,1.9v51.1c0,1.1,0.9,1.9,1.9,1.9h51.1c1.1,0,1.9-0.9,1.9-1.9V2.7\\n\\tC55.8,1.6,54.9,0.8,53.9,0.8z M45.4,10.1c0,1.5-1.2,2.7-2.7,2.7c-1.5,0-2.7-1.2-2.7-2.7s1.2-2.7,2.7-2.7\\n\\tC44.2,7.4,45.4,8.6,45.4,10.1z M16.5,10.1c0,1.5-1.2,2.7-2.7,2.7s-2.7-1.2-2.7-2.7s1.2-2.7,2.7-2.7S16.5,8.6,16.5,10.1z M40.5,49\\n\\tv-8.5H49L40.5,49z M38.6,36.6c-1.1,0-1.9,0.9-1.9,1.9v13.3h-32V17.9h47.3v18.8H38.6z\">\\n      </path>\\n      <rect fill=\"none\" height=\"56.6\" width=\"56.6\" y=\"0\">\\n      </rect>\\n     </symbol>\\n     <symbol id=\"person-contact\" viewbox=\"0 0 6000 6000\">\\n      <path d=\"M956 5643 c-12 -313 -27 -617 -47 -943 -10 -179 -22 -406 -25 -505 l-7 -180 41 -46 c49 -55 79 -72 447 -242 675 -312 821 -381 837 -396 9 -9 41 -80 73 -159 57 -145 90 -266 77 -287 -4 -7 -38 -39 -77 -72 -270 -231 -442 -534 -507 -892 -29 -162 -29 -419 0 -581 94 -521 431 -944 876 -1099 120 -42 236 -61 376 -61 333 0 621 127 865 381 201 210 335 481 391 794 12 71 18 151 18 275 0 194 -15 303 -65 475 -39 132 -152 358 -232 465 -76 100 -221 242 -301 295 -70 47 -70 55 -15 225 45 138 64 175 113 217 56 50 664 349 867 428 148 57 346 164 405 218 l54 49 0 97 c0 53 -5 182 -10 286 -18 335 -41 903 -46 1145 -3 129 -7 245 -10 258 l-4 22 -2044 0 -2044 0 -6 -167z\">\\n      </path>\\n     </symbol>\\n     <symbol id=\"link-out\" viewbox=\"0 0 25 25\">\\n      <path d=\"M22.5,0.2H2.6c-1.3,0-2.3,1.1-2.3,2.3v19.9c0,1.3,1.1,2.3,2.3,2.3h19.9c1.3,0,2.3-1.1,2.3-2.3V2.5\\n\\tC24.8,1.2,23.8,0.2,22.5,0.2z M20,16.3c0,0.8-0.6,1.4-1.4,1.4s-1.4-0.6-1.4-1.4V9.9l-8.9,8.9c-0.3,0.3-0.6,0.4-1,0.4\\n\\tc-0.4,0-0.7-0.1-1-0.4c-0.5-0.5-0.5-1.4,0-2l8.9-8.9H8.8C8,7.9,7.3,7.3,7.3,6.5S8,5.1,8.8,5.1l10,0c0.1,0,0.2,0,0.4,0.1\\n\\tc0.3,0.1,0.6,0.4,0.8,0.8C19.9,6.1,20,6.3,20,6.5V16.3z\">\\n      </path>\\n     </symbol>\\n     <symbol id=\"circle-arrow\" viewbox=\"0 0 88 88\">\\n      <path d=\"M44,0.5C20,0.5,0.5,20,0.5,44S20,87.5,44,87.5C68,87.5,87.5,68,87.5,44S68,0.5,44,0.5 M69.3,47.5L52.2,64.6\\n\\t\\tc-1,1-2.3,1.5-3.5,1.5c-1.3,0-2.6-0.5-3.5-1.5c-2-2-2-5.1,0-7.1l8.6-8.6H22.2c-2.8,0-5-2.2-5-5c0-2.8,2.2-5,5-5h31.5l-8.6-8.6\\n\\t\\tc-2-2-2-5.1,0-7.1c2-2,5.1-2,7.1,0l17.1,17.1c0.9,0.9,1.5,2.2,1.5,3.5C70.8,45.3,70.2,46.6,69.3,47.5\">\\n      </path>\\n     </symbol>\\n     <symbol id=\"download\" viewbox=\"0 0 25 25\">\\n      <g>\\n       <path d=\"M15.4,12.5l-1.3,1.1V8c0-0.9-0.7-1.6-1.6-1.6c-0.9,0-1.6,0.7-1.6,1.6v5.6l-1.3-1.1C9,11.9,8,12,7.4,12.7\\n\\t\\tc-0.6,0.7-0.5,1.6,0.2,2.2l3.9,3.3c0.3,0.2,0.7,0.4,1,0.4s0.7-0.1,1-0.4l3.9-3.3c0.7-0.6,0.7-1.5,0.2-2.2C17,12,16,11.9,15.4,12.5z\\n\\t\\t\">\\n       </path>\\n       <path d=\"M12.5,0.2C5.7,0.2,0.2,5.7,0.2,12.5s5.5,12.3,12.3,12.3c6.8,0,12.3-5.5,12.3-12.3S19.3,0.2,12.5,0.2z M12.5,21.7\\n\\t\\tc-5.1,0-9.2-4.1-9.2-9.2c0-5.1,4.1-9.2,9.2-9.2c5.1,0,9.2,4.1,9.2,9.2C21.7,17.6,17.6,21.7,12.5,21.7z\">\\n       </path>\\n      </g>\\n     </symbol>\\n     <symbol id=\"close\" viewbox=\"0 0 25 25\">\\n      <path d=\"M13.9,12.6L24.3,2.2c0.4-0.4,0.4-1,0-1.4s-1-0.4-1.4,0L12.5,11.2L2.1,0.8c-0.4-0.4-1-0.4-1.4,0s-0.4,1,0,1.4l10.4,10.4\\n\\tL0.7,23c-0.4,0.4-0.4,1,0,1.4c0.2,0.2,0.5,0.3,0.7,0.3s0.5-0.1,0.7-0.3L12.5,14l10.4,10.4c0.2,0.2,0.5,0.3,0.7,0.3s0.5-0.1,0.7-0.3\\n\\tc0.4-0.4,0.4-1,0-1.4L13.9,12.6z\">\\n      </path>\\n     </symbol>\\n     <symbol id=\"check\" viewbox=\"0 0 15.1 16.3\">\\n      <path d=\"M3.8,16.2c-0.3,0-0.5-0.1-0.7-0.4l-2.8-4.1c-0.3-0.4-0.2-0.9,0.2-1.1c0.4-0.3,0.9-0.2,1.1,0.2l2.2,3.1\\n\\tl9.6-13.4c0.3-0.4,0.8-0.5,1.1-0.2c0.4,0.3,0.5,0.8,0.2,1.1L4.5,15.8C4.3,16,4.1,16.2,3.8,16.2z\" fill=\"#A31E22\">\\n      </path>\\n     </symbol>\\n     <symbol id=\"nav-arrow\" viewbox=\"0 0 25 25\">\\n      <path d=\"M12.5,24.7c6.7,0,12.2-5.5,12.2-12.2S19.2,0.3,12.5,0.3S0.3,5.8,0.3,12.5S5.8,24.7,12.5,24.7z M9.4,8.8\\n\\tc-0.6-0.6-0.6-1.6,0-2.3c0.3-0.3,0.7-0.5,1.1-0.5s0.8,0.2,1.1,0.5l4.8,4.8c0.3,0.3,0.5,0.7,0.5,1.1s-0.2,0.8-0.5,1.1l-4.8,4.8\\n\\tc-0.6,0.6-1.6,0.6-2.3,0c-0.6-0.6-0.6-1.6,0-2.3l3.7-3.7L9.4,8.8z\">\\n      </path>\\n     </symbol>\\n     <symbol id=\"chevron\">\\n      <path d=\"M14.8,16.2L0.4,1.9c-0.4-0.4-0.4-1,0-1.4s1-0.4,1.4,0l12.9,13l13-13c0.4-0.4,1-0.4,1.4,0s0.4,1,0,1.4L14.8,16.2z\">\\n      </path>\\n     </symbol>\\n     <symbol id=\"podcast\" viewbox=\"0 0 50 50\">\\n      <g>\\n       <path d=\"M3,49.4c-1.4,0-2.4-1.1-2.4-2.4V17.5c0-1.4,1.1-2.4,2.4-2.4s2.4,1.1,2.4,2.4V47C5.4,48.3,4.3,49.4,3,49.4z\">\\n       </path>\\n       <path d=\"M14,49.4c-1.4,0-2.4-1.1-2.4-2.4V26.7c0-1.4,1.1-2.4,2.4-2.4s2.4,1.1,2.4,2.4V47C16.4,48.3,15.3,49.4,14,49.4z\">\\n       </path>\\n       <path d=\"M25,49.4c-1.4,0-2.4-1.1-2.4-2.4V2.8c0-1.4,1.1-2.4,2.4-2.4s2.4,1.1,2.4,2.4V47C27.4,48.3,26.4,49.4,25,49.4z\">\\n       </path>\\n       <path d=\"M36,49.4c-1.4,0-2.4-1.1-2.4-2.4V12c0-1.4,1.1-2.4,2.4-2.4c1.4,0,2.4,1.1,2.4,2.4V47C38.5,48.3,37.4,49.4,36,49.4z\">\\n       </path>\\n       <path d=\"M47,49.4c-1.4,0-2.4-1.1-2.4-2.4V28.6c0-1.4,1.1-2.4,2.4-2.4s2.4,1.1,2.4,2.4V47C49.5,48.3,48.4,49.4,47,49.4z\">\\n       </path>\\n      </g>\\n     </symbol>\\n     <symbol id=\"share\" viewbox=\"0 0 69.1 85\">\\n      <path d=\"M56.3,25.3c6.8,0,12.3-5.5,12.3-12.3c0-6.8-5.5-12.3-12.3-12.3S44,6.1,44,12.9c0,1.5,0.3,3,0.8,4.3L21.9,34.1\\n\\t\\tc-2.3-2.5-5.5-4-9.1-4C6,30.1,0.5,35.6,0.5,42.4c0,6.8,5.5,12.3,12.3,12.3c3.5,0,6.8-1.6,9.1-4l22.8,17c-0.5,1.4-0.8,2.8-0.8,4.3\\n\\t\\tc0,6.8,5.5,12.3,12.3,12.3c6.8,0,12.3-5.5,12.3-12.3S63,59.7,56.2,59.7c-3.5,0-6.7,1.5-8.9,3.8l-22.9-17c0.5-1.3,0.7-2.7,0.7-4\\n\\t\\tc0-1.5-0.3-2.8-0.7-4l22.9-16.9C49.6,23.8,52.7,25.3,56.3,25.3\">\\n      </path>\\n     </symbol>\\n     <symbol id=\"icon-grid\" viewbox=\"0 0 20 20\">\\n      <rect height=\"7.9\" width=\"7.9\" x=\"0.1\" y=\"0.1\">\\n      </rect>\\n      <rect height=\"7.9\" width=\"7.9\" x=\"12\" y=\"0.1\">\\n      </rect>\\n      <rect height=\"7.9\" width=\"7.9\" x=\"0.1\" y=\"12\">\\n      </rect>\\n      <rect height=\"7.9\" width=\"7.9\" x=\"12\" y=\"12\">\\n      </rect>\\n     </symbol>\\n     <symbol id=\"icon-list\" viewbox=\"0 0 23 20\">\\n      <rect height=\"3.6\" width=\"15.9\" x=\"7\" y=\"0.1\">\\n      </rect>\\n      <rect height=\"3.6\" width=\"15.9\" x=\"7\" y=\"8.2\">\\n      </rect>\\n      <rect height=\"3.6\" width=\"15.9\" x=\"7\" y=\"16.3\">\\n      </rect>\\n      <rect height=\"3.6\" width=\"3.7\" x=\"0.1\" y=\"0.1\">\\n      </rect>\\n      <rect height=\"3.6\" width=\"3.7\" x=\"0.1\" y=\"8.2\">\\n      </rect>\\n      <rect height=\"3.6\" width=\"3.7\" x=\"0.1\" y=\"16.3\">\\n      </rect>\\n     </symbol>\\n     <symbol id=\"eye\" viewbox=\"0 0 41 22\">\\n      <path d=\"M40.6,10.3c-0.3-0.4-7.4-9.9-20.1-9.9C7.8,0.3,0.7,9.9,0.4,10.3c-0.3,0.4-0.3,1,0,1.5c0.3,0.4,7.4,9.9,20.1,9.9\\n\\t\\tc12.7,0,19.8-9.5,20.1-9.9C40.9,11.3,40.9,10.7,40.6,10.3z M20.5,18.9c-4.4,0-7.9-3.6-7.9-7.9c0-4.4,3.6-7.9,7.9-7.9\\n\\t\\tc4.4,0,7.9,3.6,7.9,7.9C28.4,15.4,24.9,18.9,20.5,18.9z M3.1,11c1.3-1.4,4.5-4.7,9.4-6.6C11,6.2,10.1,8.5,10.1,11\\n\\t\\tc0,2.5,0.9,4.8,2.4,6.6C7.6,15.7,4.3,12.4,3.1,11z M28.6,17.6c1.5-1.8,2.4-4.1,2.4-6.6c0-2.5-0.9-4.8-2.4-6.6\\n\\t\\tc4.9,1.9,8.1,5.2,9.4,6.6C36.7,12.4,33.4,15.7,28.6,17.6z\">\\n      </path>\\n      <path d=\"M23.7,9.5c-1.2,0-2.1-0.9-2.1-2.1c0-0.6,0.3-1.2,0.7-1.6c-0.6-0.2-1.2-0.3-1.8-0.3C17.5,5.5,15,8,15,11\\n\\t\\tc0,3,2.5,5.5,5.5,5.5c3,0,5.5-2.5,5.5-5.5c0-0.9-0.2-1.7-0.6-2.4C25,9.1,24.4,9.5,23.7,9.5z\">\\n      </path>\\n     </symbol>\\n     <symbol id=\"print\" viewbox=\"0 0 40 40\">\\n      <path d=\"M34.7,6.5h-3.3v-5c0-0.4-0.3-0.7-0.7-0.7H9.2c-0.4,0-0.7,0.3-0.7,0.7v5H5.3c-2.8,0-5,2.3-5,5v16.3c0,0.4,0.3,0.7,0.7,0.7\\n\\t\\th7.6v9.9c0,0.4,0.3,0.7,0.7,0.7h21.5c0.4,0,0.7-0.3,0.7-0.7v-9.9h7.6c0.4,0,0.7-0.3,0.7-0.7V11.6C39.8,8.8,37.5,6.5,34.7,6.5z\\n\\t\\t M10,2.2h20v4.3H10V2.2z M8.5,19.2H7.3v-0.7h1.2V19.2z M30,37.8H10V18.6h20V37.8z M32.7,18.6v0.7h-1.2v-0.7H32.7z M38.3,27.2h-6.8\\n\\t\\tv-6.5h1.9c0.4,0,0.7-0.3,0.7-0.7v-2.1c0-0.4-0.3-0.7-0.7-0.7h-2.7H9.2H6.6c-0.4,0-0.7,0.3-0.7,0.7V20c0,0.4,0.3,0.7,0.7,0.7h1.9\\n\\t\\tv6.5H1.7V11.6c0-2,1.6-3.6,3.6-3.6h29.5c2,0,3.6,1.6,3.6,3.6V27.2z\">\\n      </path>\\n      <circle cx=\"34.1\" cy=\"12.1\" r=\"1.3\">\\n      </circle>\\n      <path d=\"M27.2,21.2H12.8c-0.4,0-0.7,0.3-0.7,0.7s0.3,0.7,0.7,0.7h14.3c0.4,0,0.7-0.3,0.7-0.7S27.6,21.2,27.2,21.2z\">\\n      </path>\\n      <path d=\"M12.8,25.8h5c0.4,0,0.7-0.3,0.7-0.7s-0.3-0.7-0.7-0.7h-5c-0.4,0-0.7,0.3-0.7,0.7S12.4,25.8,12.8,25.8z\">\\n      </path>\\n      <path d=\"M26.8,27.5h-14c-0.4,0-0.7,0.3-0.7,0.7s0.3,0.7,0.7,0.7h14c0.4,0,0.7-0.3,0.7-0.7S27.2,27.5,26.8,27.5z\">\\n      </path>\\n      <path d=\"M25,30.7H12.8c-0.4,0-0.7,0.3-0.7,0.7s0.3,0.7,0.7,0.7H25c0.4,0,0.7-0.3,0.7-0.7S25.5,30.7,25,30.7z\">\\n      </path>\\n      <path d=\"M15.6,33.9h-2.8c-0.4,0-0.7,0.3-0.7,0.7s0.3,0.7,0.7,0.7h2.8c0.4,0,0.7-0.3,0.7-0.7S16,33.9,15.6,33.9z\">\\n      </path>\\n      <path d=\"M23.8,12.2h-7.6c-0.4,0-0.7,0.3-0.7,0.7s0.3,0.7,0.7,0.7h7.6c0.4,0,0.7-0.3,0.7-0.7S24.2,12.2,23.8,12.2z\">\\n      </path>\\n     </symbol>\\n     <symbol id=\"logo-art-sci\" viewbox=\"0 0 408.2 64\">\\n      <g>\\n       <g>\\n        <g>\\n         <line x1=\"37.3\" x2=\"407.4\" y1=\"40.2\" y2=\"40.2\">\\n         </line>\\n         <rect height=\"0.9\" width=\"370.1\" x=\"37.3\" y=\"39.8\">\\n         </rect>\\n        </g>\\n        <g>\\n         <path d=\"M295.3,10.6c0.4,0,1.3-1.5,1.3-2c0-0.5-0.9-2-1.3-2c-0.4,0-1.3,1.6-1.3,2S294.9,10.6,295.3,10.6z\">\\n         </path>\\n         <path d=\"M312.8,25.9v-6.4c0-3-1-7.3-5.3-7.3c-3.2,0-4.8,3-4.8,2.6v-2.2c0-0.4-0.2-0.6-0.4-0.6\\n\\t\\t\\t\\t\\tc-0.8,0-1.3,1.3-3.9,2.1c-0.2,0-0.6,0-0.7,0.3c0,0.8,2.6-1.1,2.5,2.1V26c0,1.8-0.9,2-1.5,2.1c0,0-0.1,0-0.1,0\\n\\t\\t\\t\\t\\tc-0.7,0-2.1-0.3-2.1-1.7v-14c0-0.4-0.2-0.6-0.4-0.6c-0.8,0-1.2,1.4-3.3,2.1c-0.2,0-0.5,0.1-0.5,0.3c0,0.8,1.9-0.8,1.8,2.1v9.2\\n\\t\\t\\t\\t\\tc0.1,2.4-1.2,2.6-1.9,2.6c-1.1,0-0.8,0.1-0.8,0.5c0,0.4,0.7,0.4,1.7,0.4c0.4,0,1.3-0.1,2.3-0.1c1.3,0,2.4,0.2,3.1,0.2\\n\\t\\t\\t\\t\\tc0.4,0,1.5-0.2,3.2-0.2c1.9,0,2.6,0.2,3.1,0.2c0.5,0,1.1-0.2,0.7-0.5c-0.5-0.5-2.9,0.1-2.9-2.6v-9c0-0.6,1.1-3,3.9-3\\n\\t\\t\\t\\t\\tc2.7,0,3.8,2.9,3.8,4.9V26c0,2.9-1,2-1.4,2.5c-0.2,0.3,0.2,0.5,0.6,0.5c0.4,0,1.1-0.2,2.4-0.2c1.6,0,2.3,0.1,2.7,0.1\\n\\t\\t\\t\\t\\tc0.3,0,0.9-0.3,0.6-0.5C314.4,27.8,312.8,28.8,312.8,25.9z\">\\n         </path>\\n         <path d=\"M62.8,3.3c0.5-0.1,0.7-0.2,0.7-0.2c0-0.3-0.1-0.4-0.5-0.4c-0.8,0-1.3,0.1-2.1,0.1\\n\\t\\t\\t\\t\\tc-0.9,0-1.6-0.1-2.3-0.1c-0.4,0-0.4,0.1-0.4,0.4c0,0.3,0.8,0.1,1.3,1.1c0.3,0.5,0.2,1.7-0.1,2.4l-6.3,17.4l-2.7-7.7l-1.1-2.8\\n\\t\\t\\t\\t\\tc0,0-0.2,0.1,0.6-2.3l1.5-4.5c0.7-2.2,1.5-3.3,2.4-3.4c1.2,0,1.2-0.7,0.3-0.7c-0.9,0-1.4,0.1-2.2,0.1c-0.8,0-1.3-0.1-2.1-0.1\\n\\t\\t\\t\\t\\tc-0.3,0-0.7,0.1-0.7,0.4c0,0.3,0.5,0.2,0.9,0.4c0.6,0.3,1,1.6,0.6,2.9L48.6,12l-2-5.2c-0.4-1-0.9-3.2,0-3.4\\n\\t\\t\\t\\t\\tc0.9-0.2,0.8-0.7,0.2-0.7c-1.1,0-1.7,0.1-2.7,0.1c-1.2,0-2-0.1-3.1-0.1c-0.2,0-0.7,0-0.5,0.5c0.1,0.3,0.6,0.2,1,0.4\\n\\t\\t\\t\\t\\tc1.3,0.9,1.6,2,2,3.2l2.9,8.2c0.5,1.5,0.6,0.9,0.1,2.2l-2.5,7L37.8,6.2C37.3,4.9,37,4,38.1,3.5c0.5-0.2,0.6-0.3,0.7-0.4\\n\\t\\t\\t\\t\\tc0.1-0.1,0.1-0.4-0.6-0.4c-1.1,0-1.8,0.1-2.9,0.1c-1.2,0-2-0.1-3.1-0.1c-0.4,0-0.4,0.2-0.4,0.4c0,0.4,0.9,0.1,1.7,1\\n\\t\\t\\t\\t\\tc0.4,0.5,1.3,2.1,1.5,2.7l7.5,21.7c0.1,0.3,0.2,1,0.6,1c0.3,0,0.4-0.7,0.5-1l4-10.9l3.9,10.3c0.2,0.4,0.4,1.5,0.8,1.5\\n\\t\\t\\t\\t\\tc0.3,0,0.5-0.5,0.6-1.1l7.5-21.4C60.9,5.4,61.6,3.5,62.8,3.3z\">\\n         </path>\\n         <path d=\"M145.7,11.8c-4.1,0-7.3,4.2-7.3,9c0,2.5,0.7,4.4,1.8,5.9c-0.4,0.3-1.2,0.9-2.7,0.9\\n\\t\\t\\t\\t\\tc-1.4,0-2.1-0.8-2.2-2.5V14.5c0,0,4.1,0,4.3,0c0.3,0,0.8-1.8,0.8-1.9c0-0.2,0.1-0.4,0.2-0.6c0.1-0.3-0.2-0.4-0.5,0\\n\\t\\t\\t\\t\\tc-0.2,0.2-0.4,0.7-1.3,0.7h-3.6c0-3.1,0-4.4-0.4-4.4c-0.5,0-0.4,0.1-0.8,1.5c-0.6,1.8-2.3,2.8-3.3,3.4c-0.5,0.1-1,0.1-1.6,0\\n\\t\\t\\t\\t\\tc-0.9-0.2-2-1.3-4.8-1.3c-3,0-5.6,2.5-5.6,5.8c0,1.8,0.8,3.5,2.2,4.4c-0.3,0.2-1.9,1.6-1.7,3.2c0,0,0,1.7,1.3,2.3\\n\\t\\t\\t\\t\\tc-0.4,0.2-0.8,0.4-1.2,0.8c-0.9-0.3-2.2-0.1-2.2-2.4v-6.4c0-3-1-7.3-5.3-7.3c-3.2,0-4.8,3-4.8,2.5v-2.2c0-0.4-0.2-0.6-0.4-0.6\\n\\t\\t\\t\\t\\tc-0.8,0-0.9,1.3-3.7,2c-0.2,0-0.5,0.1-0.6,0.4c0,0.8,2.2-0.9,2.2,2.1V26c0,2.1-1.7,2.1-1.9,2.1c-0.1,0-0.2,0-0.4,0\\n\\t\\t\\t\\t\\tc-0.7-0.1-1.9-0.4-1.9-1.7v-14c0-0.4-0.2-0.6-0.4-0.6c-0.8,0-1.2,1.4-3.3,2.1c-0.2,0-0.5,0.1-0.5,0.3c0,0.8,1.9-0.8,1.8,2.1v9.2\\n\\t\\t\\t\\t\\tc0.1,2.3-1.1,2.6-1.8,2.6c-0.9-0.1-1.5-0.5-1.5-1.8v-6.5c0-3.4-1.3-7.7-5.5-7.7c-1.9,0-3.5,1-4.7,2.4V3.3c0-0.4-0.2-0.6-0.4-0.6\\n\\t\\t\\t\\t\\tc-0.5,0-1.4,1.5-3.7,2.1c-0.2,0-0.8,0.1-0.8,0.3c0,0.8,2.5-0.4,2.5,2.1v19.1c0,1.9-1.6,1.7-1.9,2.3C79.8,28.9,80,29,80.2,29\\n\\t\\t\\t\\t\\tc0.5,0,2-0.2,3-0.2c1,0,2.7,0.2,3.3,0.2c0.4,0,0.6-0.1,0.6-0.5c-0.3-0.7-2.9,0.4-2.9-3v-8.2c0-2,2.4-3.5,3.8-3.5\\n\\t\\t\\t\\t\\tc1.1,0,4,0.9,4,5.7v7.1c0,1.4-1.5,1.6-1.6,2c0,0.3,0.2,0.4,0.5,0.4c0.4,0,1.4-0.2,2.7-0.2c0.7,0,1.4,0,1.9,0.1\\n\\t\\t\\t\\t\\tc0.3,0.1,0.7,0.1,1.2,0.1c0.4,0,1.3-0.1,2.3-0.1c1,0,1.9,0.1,2.5,0.1c0.1,0,0.3,0,0.4,0c0,0,0.1,0,0.1,0c0,0,0,0,0,0\\n\\t\\t\\t\\t\\tc0.4,0,0.8,0,0.9,0c0.4,0,1.1-0.2,2.8-0.2c1.9,0,2.6,0.2,3.1,0.2c0.5,0,1.1-0.2,0.7-0.5c-0.5-0.5-2.9,0.1-2.9-2.6v-9\\n\\t\\t\\t\\t\\tc0-0.6,1.1-3,3.9-3c2.7,0,3.8,2.9,3.8,4.9V26c0,2.5-1,2-1.4,2.5c-0.2,0.3,0.2,0.5,0.6,0.5c0.4,0,1.1-0.2,2.4-0.2\\n\\t\\t\\t\\t\\tc1.2,0,1.9,0.1,2.4,0.1c-0.4,0.5-0.6,1.1-0.6,1.8c-0.2,3.2,3.7,4.3,7,4.3c6.5-0.1,8.3-4.6,7-7c-1.4-2.5-4.4-2.4-7.2-2.4\\n\\t\\t\\t\\t\\tc-5.3,0-4.3-3.3-2.1-3.2c0.5,0,0.3,0.2,2,0.2c3.1,0,6-2.1,5.9-5.5c0-0.3,0.1-1.3-0.7-2.7c1.4,0,0.9,0,3.1,0l0,9.7\\n\\t\\t\\t\\t\\tc0,4.4,2.1,5.1,3.6,5.1c2.2,0,3.8-1.5,4.1-2.1c1.3,1.4,3.1,2.1,5.2,2.1c4,0,7.1-3.7,7.1-8.6C152.8,13.3,148.2,11.8,145.7,11.8z\\n\\t\\t\\t\\t\\t M121.9,27.8c0.3,0,0.3,0.1,3.3,0.2c3.1,0.1,4.2,1,4.4,1.8c0.3,1.4-0.7,4.5-5.1,4.2c-2.8-0.2-3.6-1.5-3.8-1.8\\n\\t\\t\\t\\t\\tC119.7,30.7,120.5,27.9,121.9,27.8z M124.5,22c-2.6,0-3.5-2.5-3.5-4.9c0-2.5,0.7-4.5,3.4-4.5c2.7,0,3.7,2.7,3.7,5.1\\n\\t\\t\\t\\t\\tC128.1,20.1,127,22,124.5,22z M146,28.1c-3.8,0-5.3-4.8-5.3-8.6c0-3.4,1.3-6.5,4.5-6.5c3.9,0,5.3,4.2,5.3,8.2\\n\\t\\t\\t\\t\\tC150.5,26.1,148.8,28.1,146,28.1z\">\\n         </path>\\n         <path d=\"M166.9,25.9v-6.4c0-3-1-7.3-5.3-7.3c-3.2,0-4.8,3-4.8,2.6v-2.2c0-0.4-0.2-0.6-0.4-0.6\\n\\t\\t\\t\\t\\tc-0.8,0-1.3,1.3-3.9,2.1c-0.2,0-0.6,0-0.7,0.3c0,0.8,2.6-1.1,2.5,2.1V26c0,2.5-1.7,1.9-2.1,2.6c-0.2,0.3,0.3,0.4,0.7,0.4\\n\\t\\t\\t\\t\\tc0.4,0,1-0.2,2.8-0.2c1.9,0,2.6,0.2,3.1,0.2c0.5,0,1.1-0.2,0.7-0.5c-0.5-0.5-2.9,0.1-2.9-2.6v-9c0-0.6,1.1-3,3.9-3\\n\\t\\t\\t\\t\\tc2.7,0,3.8,2.9,3.8,4.9V26c0,2.9-1,2-1.4,2.5c-0.2,0.3,0.2,0.5,0.6,0.5c0.4,0,1.1-0.2,2.4-0.2c1.6,0,2.3,0.1,2.7,0.1\\n\\t\\t\\t\\t\\tc0.3,0,0.9-0.3,0.6-0.5C168.5,27.8,166.9,28.8,166.9,25.9z\">\\n         </path>\\n         <path d=\"M98.9,10.6c0.4,0,1.3-1.5,1.3-2c0-0.5-0.9-2-1.3-2c-0.4,0-1.3,1.6-1.3,2S98.5,10.6,98.9,10.6z\">\\n         </path>\\n         <path d=\"M77,19.4c-0.6-0.3-1.6-0.9-2.1-1.1c-2.1-1.1-2.9-1.9-2.9-2.9c-0.1-1.8,1.5-2.8,2.8-2.6\\n\\t\\t\\t\\t\\tc3.2-0.1,3.6,3.5,4,3.5c0.5,0,0.4-0.5,0.4-1.5c0-0.3,0-1.6-0.2-1.9c-0.4-0.6-2.7-0.9-3.2-0.9c-0.1,0-0.7,0-0.8,0\\n\\t\\t\\t\\t\\tc-0.2,0-0.4,0-0.4,0c-2.3,0-4.4,1.4-4.4,4.5c0.1,2.8,3.3,4.4,5.1,5.4c1.3,0.7,2.9,1.5,2.8,3.2c0,2-1.6,3.4-3.3,3.3\\n\\t\\t\\t\\t\\tc-4-0.1-3.4-5.1-4.2-5.1c-0.5,0-0.4,1.3-0.4,1.9c0,0.6,0,1.2,0,1.7c-0.1,0.5-0.3,0.9-0.7,0.9c-1.6,0.1-1.2-2.4-1.2-3.7V16\\n\\t\\t\\t\\t\\tc-0.1-2.5-2-4.1-4.8-4.1c-3.9,0-6.7,4.8-5.4,6.3c0.3,0.4,1.6-1,1.7-1.1C60,17,60,16.9,60,16.9c0-1.6,1.2-3.7,3-3.9\\n\\t\\t\\t\\t\\tc2-0.2,3,1.3,3,3.4V19c-7.7,1.5-8.8,4.1-8.8,6.2c0,2.8,2,4,4.1,4c1.8,0,3.6-0.9,5-2.3c0.4,1.3,1.3,2.1,2.6,2\\n\\t\\t\\t\\t\\tc0.4,0,0.5,0.1,1.9-0.5c0.5-0.1,0.4-0.1,1,0c0.7,0.2,1.7,0.7,3.4,0.7c2.6,0,4.9-2.3,4.9-5.3C80,22.1,79.5,21,77,19.4z\\n\\t\\t\\t\\t\\t M66.3,24.9c0,2.1-2.1,3.2-3.3,3.2c-1.7,0-3-1.1-3-3.4c0-3.5,4.2-4.1,6.3-4.6V24.9z\">\\n         </path>\\n         <path d=\"M345,25.2c-0.4,0-1.4,1.6-1.4,2.1c0,0.4,1,2,1.4,2c0.4,0,1.4-1.6,1.4-2C346.3,26.7,345.4,25.2,345,25.2z\\n\\t\\t\\t\\t\\t\">\\n         </path>\\n         <path d=\"M387.7,26.6V12.8c0-0.8-0.4-1-0.6-1c-0.5,0-0.8,0.1-1.1,0.2c-0.3,0.1-0.7,0.3-1.6,0.3\\n\\t\\t\\t\\t\\tc-0.2,0-1-0.1-1,0.3c0.1,0.5,2,0.2,2,1.6v9.9c-0.2,1.7-1.6,3.6-3.4,3.6c-0.4,0-3-0.3-3-4.6V12.8c0-0.8-0.4-1-0.6-1\\n\\t\\t\\t\\t\\tc-0.5,0-0.8,0.1-1.1,0.2c-0.3,0.1-0.8,0.3-1.7,0.2c-0.5,0-1-0.1-0.9,0.4c0.1,0.4,2,0,2,1.6v9.5c0,3.5,2,5.5,4.5,5.5\\n\\t\\t\\t\\t\\tc1.6,0,3.2-0.4,4.1-2.3h0.1v1.7c0,0.2,0,0.6,0.3,0.6c0.5,0,0.7-0.4,1.1-0.5c0.4-0.1,0.5-0.4,1.6-0.5c0.5,0,1-0.3,1-0.6\\n\\t\\t\\t\\t\\tC389.3,26.9,387.7,27.6,387.7,26.6z\">\\n         </path>\\n         <path d=\"M368.3,11.8c-4.1,0-7.3,4.2-7.3,9c0,2.2,0.5,4,1.4,5.4c-1,0.7-2.8,1.4-6.3,1.4c-2.7,0-2.4-0.9-2.4-3.2\\n\\t\\t\\t\\t\\tV6.1c0-3.4,2.5-2.4,2.6-3c0-0.4-0.4-0.3-0.8-0.3c-0.5,0-1.4,0.2-3.2,0.2c-1.6,0-3-0.1-3.6-0.1c-0.4,0-0.8,0.1-0.7,0.4\\n\\t\\t\\t\\t\\tc0.3,0.7,2.7,0.1,2.7,2.1v19.1c0,1.8,0.3,3-0.6,3.5c-1,0.6-2.2,0.7-2.1,1.1c0.1,0.3,0.6,0.3,0.9,0.3c1.3,0,3.1-0.2,4.4-0.2\\n\\t\\t\\t\\t\\tc2.4-0.1,4.9,0.2,7.3,0.2c1.4,0,1.8-0.3,2.8-1.7c0,0,0,0,0-0.1c1.3,1.2,3,1.8,4.9,1.8c4,0,7.1-3.7,7.1-8.6\\n\\t\\t\\t\\t\\tC375.4,13.3,370.8,11.8,368.3,11.8z M368.6,28.1c-3.8,0-5.3-4.8-5.3-8.6c0-3.4,1.3-6.5,4.5-6.5c3.9,0,5.3,4.2,5.3,8.2\\n\\t\\t\\t\\t\\tC373.1,26.1,371.4,28.1,368.6,28.1z\">\\n         </path>\\n         <path d=\"M328,14.8c-0.9-0.5-2.3-1.3-3-1.7c-3-1.7-4.2-2.9-4.3-4.5c-0.1-2.8,2.6-4.5,4.5-4.2\\n\\t\\t\\t\\t\\tc2.5,0,4.5,1.5,5.4,4.7c0.1,0.3,0.4,1.1,0.7,1.1c0.3,0,0.3-0.3,0.3-0.6l-0.4-5.1c0-0.4-0.2-0.5-0.3-0.5c-0.3,0-0.5,0.4-0.7,0.4\\n\\t\\t\\t\\t\\tc-0.4,0-1.4-1.4-4.8-1.4c-0.2,0-0.5,0-0.5,0c-3.3-0.1-6.5,2.2-6.4,6.8c0.1,4.3,4.9,6.7,7.5,8.3c1.9,1.1,3.9,3,3.8,5\\n\\t\\t\\t\\t\\tc-0.1,3.1-2.1,5.2-4.5,5c-5.8-0.1-5-7.8-6.1-7.8c-0.7,0-0.6,1.9-0.6,2.9c0,2.4-0.1,4.4,0.2,4.8c0.1,0.1,0.4,0.1,0.9,0.1\\n\\t\\t\\t\\t\\tc1.1,0,2.5,1.3,5.9,1.3c3.7,0.1,6.8-3.4,6.8-7.9C332.4,18.9,331.7,17.2,328,14.8z\">\\n         </path>\\n         <path d=\"M393.5,10.6c0.4,0,1.3-1.5,1.3-2c0-0.5-0.9-2-1.3-2c-0.4,0-1.3,1.6-1.3,2S393.1,10.6,393.5,10.6z\">\\n         </path>\\n         <path d=\"M396.8,28.2c-0.7,0-2.1-0.3-2.1-1.7v-14c0-0.4-0.2-0.6-0.4-0.6c-0.8,0-1.2,1.4-3.3,2.1\\n\\t\\t\\t\\t\\tc-0.2,0-0.5,0.1-0.5,0.3c0,0.8,1.9-0.8,1.8,2.1v9.2c0.1,2.4-1.2,2.6-1.9,2.6c-1.1,0-0.8,0.1-0.8,0.5c0,0.4,0.7,0.4,1.7,0.4\\n\\t\\t\\t\\t\\tc0.4,0,1.3-0.1,2.3-0.1c1.3,0,2.4,0.2,3,0.2C397.2,29,397.7,28,396.8,28.2z\">\\n         </path>\\n         <path d=\"M404.4,19.4c-0.6-0.3-1.6-0.9-2.1-1.1c-2.1-1.1-2.9-1.9-2.9-2.9c-0.1-1.8,1.5-2.8,2.8-2.6\\n\\t\\t\\t\\t\\tc3.2-0.1,3.6,3.5,4,3.5c0.5,0,0.4-0.5,0.4-1.5c0-0.3,0-1.6-0.2-1.9c-0.4-0.6-2.7-0.9-3.2-0.9c-0.1,0-0.7,0-0.8,0\\n\\t\\t\\t\\t\\tc-0.2,0-0.4,0-0.4,0c-2.3,0-4.4,1.4-4.4,4.5c0.1,2.8,3.3,4.4,5.1,5.4c1.3,0.7,2.9,1.5,2.8,3.2c0,2-1.6,3.4-3.3,3.3\\n\\t\\t\\t\\t\\tc-4-0.1-3.4-5.1-4.2-5.1c-0.5,0-0.4,1.3-0.4,1.9c0,1.6-0.1,2.9,0.1,3.1c0.1,0.1,0.3,0,0.6,0c0.8,0,1.7,0.9,4,0.9\\n\\t\\t\\t\\t\\tc2.6,0,4.9-2.3,4.9-5.3C407.4,22.1,406.9,21,404.4,19.4z\">\\n         </path>\\n         <path d=\"M342.7,26.6c-0.3,0.2-1.1,1-2.9,1c-1.4,0-2.1-0.8-2.2-2.5V13.9c0,0,4.1,0,4.3,0c0.3,0,0.8-1.8,0.8-1.9\\n\\t\\t\\t\\t\\tc0-0.2,0.1-0.4,0.2-0.6c0.1-0.3-0.2-0.4-0.5,0c-0.2,0.2-0.4,0.7-1.3,0.7h-3.6c0-3,0-3.8-0.4-3.8c-0.5,0-0.4,0.1-0.8,1.5\\n\\t\\t\\t\\t\\tc-0.7,2.3-3.2,3.3-4,3.8c-0.2,0.1-0.2,0.1-0.2,0.2c0,0.3,0.9,0.2,2.9,0.2l0,10.2c0,4.4,2.1,5.1,3.6,5.1c2.4,0,4.1-1.7,4.2-2.3\\n\\t\\t\\t\\t\\tC342.9,26.6,342.9,26.6,342.7,26.6z\">\\n         </path>\\n         <path d=\"M239.7,25.2c-0.7,0-1.8,2.1-4.6,2.1c-2,0-5.3-1.9-5.3-8.4h8.7c0.8,0,1.1,0,1.1-0.7\\n\\t\\t\\t\\t\\tc0-1.6-1.8-6.3-5.8-6.3c-4.1,0-6.4,4.2-6.4,9.3c0,2.6,1.7,8.1,6.6,8.1c3,0,5.8-2.8,5.8-3.7C239.8,25.4,239.8,25.2,239.7,25.2z\\n\\t\\t\\t\\t\\t M233.2,12.8c1.8,0,3.6,2,3.6,4.2c0,0.6-0.2,0.8-0.7,0.8h-6.5C229.8,15.6,231.2,12.8,233.2,12.8z\">\\n         </path>\\n         <path d=\"M193.1,3.5c0.1-0.2-0.3-0.3-0.5-0.3c-0.5,0-1.7,0.1-2.3,0.1c-1.1,0-2.1-0.1-3.2-0.1\\n\\t\\t\\t\\t\\tc-0.1,0-0.6,0.1-0.6,0.2c0,0.8,2.7-0.1,2.7,3.3v13.4c0,4-1.2,8.1-6.7,8.1c-3.9,0-6-2.4-6-7.8V5.9c0-2.4,1.9-1.9,1.9-2.4\\n\\t\\t\\t\\t\\tc0-0.5-1.7-0.2-1.8-0.2c-0.9,0-1.5,0.1-2.5,0.1c-0.8,0-1.7-0.1-2.5-0.1c-0.1,0-0.7,0-0.8,0.2c-0.3,0.7,2.4,0.3,2.4,2.3v13.8\\n\\t\\t\\t\\t\\tc0,5.2,1.5,10.2,9.1,10.1c9-0.2,8.9-8.3,8.9-9.9V6.8C191.3,3.7,192.8,4,193.1,3.5z\">\\n         </path>\\n         <path d=\"M228.8,12.7c0.2-0.3,0.3-0.7-0.7-0.6c-0.6,0-1,0.1-1.5,0.1c-0.7,0-0.9,0-1.5-0.1c-0.9,0-1.1,0.1-1,0.3\\n\\t\\t\\t\\t\\tc0.1,0.8,2,0,1.7,2.3c-0.2,1.9-0.8,3.5-1.4,5.2l-2.2,5.8l-3.2-9.7c-0.4-1.2-0.6-1.9-0.6-2c0-1.2,1.5-0.9,1.8-1.5\\n\\t\\t\\t\\t\\tc0.2-0.3-0.2-0.5-0.7-0.5c-0.4,0-0.8,0.1-2.1,0.2c-1,0-1.7,0-2.2-0.1c-1.1-0.2-1,0.4-0.6,0.6c0.4,0.2,0.6,0,1.2,1.7l5,14\\n\\t\\t\\t\\t\\tc0.1,0.3,0.2,1,0.7,1c0.5,0,0.5-0.5,1.1-2.2c0,0,4.7-13.3,5.1-13.7C228.1,12.6,228.6,13,228.8,12.7z\">\\n         </path>\\n         <path d=\"M247.1,12.1c-1.3,0-2.3,1.6-3,2.7h-0.1v-2.4c0-0.4-0.2-0.6-0.4-0.6c-0.5,0-0.9,1-3.6,1.7\\n\\t\\t\\t\\t\\tc-0.2,0-0.6,0.1-0.6,0.4c0,0.8,2.3-0.2,2.3,2.4v10.2c0,1.6-1.6,1.4-1.6,2.2c0,0.2,0.1,0.3,0.4,0.3c0.2,0,0.8-0.2,2.9-0.2\\n\\t\\t\\t\\t\\tc1.8,0,2.6,0.2,3,0.2c0.3,0,0.5-0.1,0.5-0.4c0-1.2-2.8,0.6-2.8-3v-8.7c0-0.5,0.8-2.3,2.1-2.3c1.1,0,1.3,0.9,1.9,0.9\\n\\t\\t\\t\\t\\tc0.4,0,1.1-1.2,1.1-1.7C249.2,13.1,247.8,12.1,247.1,12.1z\">\\n         </path>\\n         <path d=\"M288.4,12.2c-0.3,0-1.2,0.1-2,0.1c-1,0-1.4-0.1-1.8-0.1c-0.6,0-1.2,0-1.1,0.4c0.1,0.5,2.2,0.3,2.2,2.6\\n\\t\\t\\t\\t\\tc0,0.3,0,0.7-0.4,2.2l-2.6,8.4l-3.7-10.3c0,0-0.2-0.3-0.2-1c0-1.7,2-1.5,2-1.8c0.1-0.2-0.3-0.5-0.8-0.5c-0.5,0-1.4,0-2.6,0\\n\\t\\t\\t\\t\\tc-0.2,0-0.4,0-0.5,0c0,0,0,0,0,0h-1.5c0,0,0,0-0.1,0h-3.6c0-3.1,0-3.8-0.4-3.8c-0.5,0-0.4,0.1-0.8,1.5c-0.7,2.3-3.2,3.3-4,3.8\\n\\t\\t\\t\\t\\tc-0.2,0.1-0.2,0.1-0.2,0.2c0,0.3,1,0.2,2.9,0.2l0,10.2c0,4.4,2.1,5.1,3.6,5.1c2.4,0,4.1-1.7,4.2-2.3c0-0.3,0-0.4-0.2-0.3\\n\\t\\t\\t\\t\\tc-0.3,0.2-1.1,1-2.9,1c-1.4,0-2.1-0.8-2.2-2.5V13.9c0,0,3.2,0,4.1,0c0,0.1,0.1,0.2,0.1,0.2l3.8,10.7c0.3,0.9,0.5,1.2,0.9,2.7\\n\\t\\t\\t\\t\\tc0.2,1,0.2,1.9,0.2,1.9c-0.4,1.6-1.4,2.5-2.9,5.5c-0.1,0.3,2.2,0,2.3-0.1c0.2-0.1,0.2-0.1,0.4-0.5l1.7-5l4.7-14.4\\n\\t\\t\\t\\t\\tc0.7-2.5,1.8-2.1,1.9-2.4C288.9,12.4,288.8,12.2,288.4,12.2z\">\\n         </path>\\n         <polygon points=\"282.3,29.1 282.2,29.4 282.2,29.4 \\t\\t\\t\\t\">\\n         </polygon>\\n         <path d=\"M263.6,10.6c0.4,0,1.3-1.5,1.3-2c0-0.5-0.9-2-1.3-2c-0.4,0-1.3,1.6-1.3,2S263.2,10.6,263.6,10.6z\">\\n         </path>\\n         <path d=\"M267,28.2c-0.7,0-2.1-0.3-2.1-1.7v-14c0-0.4-0.2-0.6-0.4-0.6c-0.8,0-1.2,1.4-3.3,2.1\\n\\t\\t\\t\\t\\tc-0.2,0-0.5,0.1-0.5,0.3c0,0.8,1.9-0.8,1.8,2.1v9.2c0.1,2.4-1.2,2.6-1.9,2.6c-1.1,0-0.8,0.1-0.8,0.5c0,0.4,0.7,0.4,1.7,0.4\\n\\t\\t\\t\\t\\tc0.4,0,1.3-0.1,2.3-0.1c1.3,0,2.4,0.2,3,0.2C267.3,29,267.8,28,267,28.2z\">\\n         </path>\\n         <path d=\"M211.8,10.6c0.4,0,1.3-1.5,1.3-2c0-0.5-0.9-2-1.3-2c-0.4,0-1.3,1.6-1.3,2S211.4,10.6,211.8,10.6z\">\\n         </path>\\n         <path d=\"M215.1,28.2c-0.7,0-2.1-0.3-2.1-1.7v-14c0-0.4-0.2-0.6-0.4-0.6c-0.8,0-1.2,1.4-3.3,2.1\\n\\t\\t\\t\\t\\tc-0.2,0-0.5,0.1-0.5,0.3c0,0.8,1.9-0.8,1.8,2.1v9.2c0.1,2.4-1.2,2.6-1.9,2.6c-0.1,0-0.2,0-0.2,0c-0.7-0.1-1.3-0.4-1.3-2.3v-6.4\\n\\t\\t\\t\\t\\tc0-3-1-7.3-5.3-7.3c-3.2,0-4.8,3-4.8,2.6v-2.2c0-0.4-0.2-0.6-0.4-0.6c-0.8,0-1.3,1.3-3.9,2.1c-0.2,0-0.6,0-0.7,0.3\\n\\t\\t\\t\\t\\tc0,0.8,2.6-1.1,2.5,2.1V26c0,2.5-1.7,1.9-2.1,2.6c-0.2,0.3,0.3,0.4,0.7,0.4c0.4,0,1.1-0.2,2.8-0.2c1.9,0,2.6,0.2,3.1,0.2\\n\\t\\t\\t\\t\\tc0.5,0,1.1-0.2,0.7-0.5c-0.5-0.5-2.9,0.1-2.9-2.6v-9c0-0.6,1.1-3,3.9-3c2.7,0,3.8,2.9,3.8,4.9V26c0,2.9-1,2-1.4,2.5\\n\\t\\t\\t\\t\\tc-0.2,0.3,0.2,0.5,0.6,0.5c0.4,0,1.1-0.2,2.4-0.2c1.6,0,2.3,0.1,2.7,0.1c0,0,0.1,0,0.2,0c0.1,0,0.3,0,0.4,0\\n\\t\\t\\t\\t\\tc0.4,0,1.3-0.1,2.3-0.1c1.3,0,2.4,0.2,3.1,0.2C215.4,29,216,28,215.1,28.2z\">\\n         </path>\\n         <path d=\"M256.6,19.4c-0.6-0.3-1.6-0.9-2.1-1.1c-2.1-1.1-2.9-1.9-2.9-2.9c-0.1-1.8,1.5-2.8,2.8-2.6\\n\\t\\t\\t\\t\\tc3.2-0.1,3.6,3.5,4,3.5c0.5,0,0.4-0.5,0.4-1.5c0-0.3,0-1.6-0.2-1.9c-0.4-0.6-2.7-0.9-3.2-0.9c-0.1,0-0.7,0-0.8,0\\n\\t\\t\\t\\t\\tc-0.2,0-0.4,0-0.4,0c-2.3,0-4.4,1.4-4.4,4.5c0.1,2.8,3.3,4.4,5.1,5.4c1.3,0.7,2.9,1.5,2.8,3.2c0,2-1.6,3.4-3.3,3.3\\n\\t\\t\\t\\t\\tc-4-0.1-3.4-5.1-4.2-5.1c-0.5,0-0.4,1.3-0.4,1.9c0,1.6-0.1,2.9,0.1,3.1c0.1,0.1,0.3,0,0.6,0c0.8,0,1.7,0.9,4,0.9\\n\\t\\t\\t\\t\\tc2.6,0,4.9-2.3,4.9-5.3C259.6,22.1,259,21,256.6,19.4z\">\\n         </path>\\n        </g>\\n       </g>\\n       <g>\\n        <path d=\"M14.1,2.5L14.1,2.5L14.1,2.5L14.1,2.5L14.1,2.5C14,2.5,8.5,2.6,0.8,1V23v0c0,0.3,0,0.6,0,0.6l0,0l0,0\\n\\t\\t\\t\\tc0,1,0.4,1.8,1,2.5c0.4,0.4,1,0.9,1.7,1.3c0.2,0.1,0.4,0.2,0.7,0.4c0.2,0.1,0.4,0.2,0.6,0.3v0l0,0c0.2,0.1,0.7,0.3,0.9,0.4\\n\\t\\t\\t\\tl8.4,3.2v0l0,0l0,0v0l8.4-3.2c0.2-0.1,0.7-0.3,0.9-0.4l0,0v0c0.2-0.1,0.4-0.2,0.6-0.3c0.3-0.1,0.5-0.2,0.7-0.4\\n\\t\\t\\t\\tc0.8-0.4,1.3-0.9,1.7-1.3c0.6-0.7,0.9-1.5,1-2.5l0,0l0,0c0,0,0-0.3,0-0.6v0V1C19.7,2.6,14.2,2.5,14.1,2.5z M26.2,22.6L26.2,22.6\\n\\t\\t\\t\\tc0,0.4,0,0.6,0,0.6l0,0l0,0c0,0.9-0.3,1.7-0.9,2.3c-0.4,0.4-0.9,0.8-1.6,1.2c-0.2,0.1-0.4,0.2-0.6,0.3c-0.2,0.1-0.4,0.2-0.5,0.2\\n\\t\\t\\t\\tv0l0,0c-0.2,0.1-0.6,0.3-0.8,0.3l-7.6,2.9v0l0,0l0,0v0l-7.6-2.9c-0.2-0.1-0.7-0.3-0.8-0.3l0,0v0c-0.2-0.1-0.4-0.2-0.5-0.2\\n\\t\\t\\t\\tc-0.2-0.1-0.4-0.2-0.6-0.3c-0.7-0.4-1.2-0.8-1.6-1.2C2.3,24.9,2,24.2,2,23.2l0,0l0,0c0,0,0-0.2,0-0.5v0V2.4\\n\\t\\t\\t\\tc7,1.5,12,1.4,12.1,1.4v0l0,0l0,0v0c0.1,0,5.1,0,12.1-1.4V22.6z\">\\n        </path>\\n        <path d=\"M14.1,5L14.1,5L14.1,5L14.1,5L14.1,5C14,5,9.4,5.1,3,3.7v5.2c6.4,1.3,11,1.3,11.1,1.3v0l0,0l0,0v0\\n\\t\\t\\t\\tc0.1,0,4.7,0,11.1-1.3V3.7C18.7,5.1,14.2,5,14.1,5z M8.2,9.1L6.9,8.1L5.6,9.1l0.5-1.6l-1.3-1l1.6,0L6.9,5l0.5,1.6l1.6,0l-1.3,1\\n\\t\\t\\t\\tL8.2,9.1z M20.7,6.5L21.2,5l0.5,1.6l1.6,0l-1.3,1l0.5,1.6l-1.3-0.9l-1.3,0.9l0.5-1.6l-1.3-1L20.7,6.5z M16.2,7.1l-1.3,1l0.5,1.6\\n\\t\\t\\t\\tl-1.3-0.9l-1.3,0.9l0.5-1.6l-1.3-1l1.6,0l0.5-1.6l0.5,1.6L16.2,7.1z\">\\n        </path>\\n        <path d=\"M14.1,21.7L14.1,21.7L14.1,21.7L14.1,21.7L14.1,21.7c-0.1,0-4.7,0-11.1-1.3v1.8c0,0.3,0,0.5,0,0.5l0,0\\n\\t\\t\\t\\tl0,0c0,0.9,0.3,1.5,0.8,2.1c0.3,0.4,0.8,0.7,1.5,1.1c0.2,0.1,0.4,0.2,0.6,0.3c0.2,0.1,0.3,0.1,0.5,0.2v0l0,0\\n\\t\\t\\t\\tc0.1,0.1,0.6,0.3,0.7,0.3l7,2.6v0l0,0l0,0v0l7-2.6c0.1-0.1,0.6-0.3,0.7-0.3l0,0v0c0.2-0.1,0.3-0.1,0.5-0.2\\n\\t\\t\\t\\tc0.2-0.1,0.4-0.2,0.6-0.3c0.7-0.4,1.1-0.7,1.5-1.1c0.5-0.6,0.8-1.3,0.8-2.1l0,0l0,0c0,0,0-0.2,0-0.5v0v-1.8\\n\\t\\t\\t\\tC18.7,21.7,14.2,21.7,14.1,21.7z M6.4,25.3l-0.3,0.3l-0.5-0.4v-0.4h0.7V25.3z M6.4,24.6H6V24l-0.4-0.4l0,0l-0.5,0.3l-0.3-0.3\\n\\t\\t\\t\\tv-0.5h1.1l0.5,0.5V24.6z M6.9,26.3l-0.4-0.5l0.2-0.4v-0.6h0.4v0.6l0.2,0.4L6.9,26.3z M7.3,23L7.3,23l-0.2,0.6v1H6.7v-1L6.5,23h0\\n\\t\\t\\t\\tv0l0,0v-1.1h0l0.4-0.4l0.4,0.4V23z M8.1,25.2l-0.5,0.4l-0.3-0.3v-0.4h0.7V25.2z M9,23.6l-0.3,0.3l-0.5-0.3l0,0L7.8,24v0.6H7.4v-1\\n\\t\\t\\t\\tl0.5-0.5H9V23.6z M13.4,27.5L13,27.9l-0.6-0.5v-0.5h1V27.5z M13.4,26.4h-0.6v-0.8L12.3,25l0,0l-0.7,0.4L11.2,25v-0.7h1.5l0.7,0.8\\n\\t\\t\\t\\tV26.4z M14.1,28.9l-0.6-0.7l0.3-0.5v-0.8h0.6v0.8l0.3,0.5L14.1,28.9z M20.8,25.3l-0.3,0.3L20,25.2v-0.4h0.7V25.3z M21.7,23.6\\n\\t\\t\\t\\tl0.5-0.5h1.1v0.5L23,23.9l-0.5-0.3l0,0L22.1,24v0.6h-0.4V23.6z M21.7,24.8h0.7v0.4L22,25.6l-0.3-0.3V24.8z M20.8,23L20.8,23v-1.1\\n\\t\\t\\t\\tl0,0l0.4-0.4l0.4,0.4V23h0l-0.2,0.6v1h-0.4v-1L20.8,23L20.8,23L20.8,23z M21.1,25.4v-0.6h0.4v0.6l0.2,0.4l-0.4,0.5l-0.4-0.5\\n\\t\\t\\t\\tL21.1,25.4z M19.2,23.1h1.1l0.5,0.5v1h-0.4V24L20,23.6l0,0l-0.5,0.3l-0.3-0.3V23.1z M14.8,25l0.7-0.8H17V25l-0.4,0.4L15.9,25l0,0\\n\\t\\t\\t\\tl-0.5,0.6v0.8h-0.6V25z M14.8,26.8h1v0.5l-0.6,0.5l-0.4-0.4V26.8z M14.7,24.2L14.7,24.2L14.4,25v1.4h-0.6V25l-0.3-0.8h0v0l0,0\\n\\t\\t\\t\\tl0,0v-1.6l0,0l0.6-0.6l0.6,0.6V24.2z\">\\n        </path>\\n        <polygon points=\"14.6,18.9 14.1,19.3 13.5,18.9 13.2,18.6 8.8,18.6 8.8,12 7.9,12.7 7.9,19.5 13.1,19.5\\n\\t\\t\\t\\t13.5,19.9 14.1,20.4 14.6,19.9 15.1,19.5 20.3,19.5 20.3,12.7 19.4,12 19.4,18.6 14.9,18.6 \\t\\t\\t\">\\n        </polygon>\\n        <polygon points=\"13.5,11.6 13.4,11.5 9.7,11.5 9.7,17.7 13.4,17.7 13.6,17.9 14.1,18.3 14.5,17.9 14.8,17.7\\n\\t\\t\\t\\t18.4,17.7 18.4,11.5 14.8,11.5 14.6,11.6 14.1,12.1 \\t\\t\\t\">\\n        </polygon>\\n        <path d=\"M21.2,17.6c1.2-0.2,2.5-0.4,3.9-0.7v-1.7v-2.5c-1.4,0.3-2.7,0.5-3.9,0.7V17.6z\">\\n        </path>\\n        <path d=\"M6.9,13.4C5.7,13.2,4.4,13,3,12.7v2.5v1.7c1.4,0.3,2.7,0.5,3.9,0.7V13.4z\">\\n        </path>\\n       </g>\\n      </g>\\n      <g>\\n       <path clip-rule=\"evenodd\" d=\"M91.3,52.7c0,0,2.1-1.2,2-3.4c-0.1-2.1-1.2-2.8-2-2.8\\n\\t\\t\\tc-0.8,0-1.8,0.6-1.9,2.5C89.2,51.2,91.3,52.7,91.3,52.7L91.3,52.7z M94.4,58.7c-0.8-1.1-1.6-2.1-2.6-3.1c-0.7-0.8-1.4-1.4-1.4-1.4\\n\\t\\t\\ts-0.8,0.6-1.3,1.1c-0.5,0.5-1.2,1.7-1,3.4c0.3,2.4,1.9,3,3.4,2.8c1.5-0.2,3-2.7,3-2.7L94.4,58.7L94.4,58.7z M99.3,62.9h-2.2\\n\\t\\t\\tl-0.2-0.3l-0.5-0.8c-0.2-0.4-0.7-1.1-1.5-2.3c-1.6,2.3-2.7,3.4-4.5,3.4c-3,0-3.9-2.4-3.9-4.5c0-1.3,0.5-2.4,1.3-3.3\\n\\t\\t\\tc0.5-0.6,1.1-1.1,2-1.6c-1.1-1-1.9-2-1.9-3.5c0-2.7,1.7-4.5,3.5-4.5c1.7,0,3.2,1.5,3.2,3.8c0,1.1-0.4,1.7-1,2.4\\n\\t\\t\\tc-0.3,0.4-1,1.1-1.6,1.6c-0.1,0.1,1.5,1.7,1.6,1.9l1.8,2.1c0,0,2-3.9,1.6-4.5c-0.3-0.5-1.7-0.6-1.7-0.6l0-0.7h5l0,0.7\\n\\t\\t\\tc-0.4,0-1.2,0.1-1.8,0.8c-0.3,0.3-2.6,4.8-2.6,4.8s1.7,2.4,1.8,2.6c0,0,0.3,0.4,0.4,0.6l0.1,0.2C98.9,62,98.9,62.1,99.3,62.9\\n\\t\\t\\tL99.3,62.9z\" fill-rule=\"evenodd\">\\n       </path>\\n       <path clip-rule=\"evenodd\" d=\"M55.3,51.8c0-0.8,0-0.8,1.1-0.8c1.2,0,2.3,0.8,2.3,2.6\\n\\t\\t\\tc0,0.9-0.2,1.9-0.8,2.4c-0.5,0.4-1,0.4-1.5,0.4h-1V51.8L55.3,51.8z M55.3,57.2H56c0.6,0,0.8,0.1,1.1,0.7c0.4,0.8,1,2.1,1.6,3\\n\\t\\t\\tc0.6,1,1.4,1.7,3.3,1.7h0.3l0.1-0.6c-0.5-0.2-0.9-0.5-1.2-0.8c-0.4-0.4-0.8-1-1.3-2c-0.5-0.8-1.2-2.1-1.5-2.7\\n\\t\\t\\tc1.3-0.6,2.2-1.5,2.2-3.2c0-1.2-0.5-2.1-1.1-2.5c-0.7-0.5-1.5-0.6-2.6-0.6H52v0.6c1.4,0.1,1.5,0.2,1.5,2.3v6.4\\n\\t\\t\\tc0,2-0.1,2.1-1.6,2.3v0.6h4.9v-0.6c-1.4-0.1-1.6-0.3-1.6-2.3V57.2L55.3,57.2z\" fill-rule=\"evenodd\">\\n       </path>\\n       <path d=\"M66.3,59.6c0,2-0.1,2.1-1.7,2.3v0.6h5.2v-0.6c-1.6-0.1-1.8-0.3-1.8-2.3v-8.5h1c1,0,1.5,0.2,1.8,0.5\\n\\t\\t\\tc0.2,0.3,0.4,0.8,0.6,1.9l0.6-0.1c-0.1-1.2-0.2-2.9-0.2-3.7h-0.3c-0.2,0.4-0.3,0.5-0.8,0.5h-7c-0.4,0-0.6-0.1-0.9-0.5h-0.3\\n\\t\\t\\tc0,1-0.1,2.3-0.2,3.7H63c0.2-1,0.4-1.5,0.6-1.8c0.2-0.3,0.7-0.6,2-0.6h0.7V59.6L66.3,59.6z\">\\n       </path>\\n       <path d=\"M72.8,58.6c0.2,1.2,0.4,2.8,0.5,3.2c0.4,0.3,1.4,1,2.9,1c2.2,0,3.8-1.6,3.8-3.9c0-2.3-1.6-3.2-3.2-3.9\\n\\t\\t\\tc-1-0.5-2.1-1-2.1-2.4c0-1,0.6-2,1.8-2c1.3,0,2.1,1.2,2.4,2.8l0.6-0.1c-0.2-1.3-0.2-2.3-0.4-3.1c-0.4-0.1-1.2-0.5-2.2-0.5\\n\\t\\t\\tc-2.2,0-3.6,1.5-3.6,3.7c0,2.1,1.8,3,2.9,3.6c1,0.5,2.2,1.1,2.2,2.7c0,1.3-0.8,2.2-2,2.2c-1.5,0-2.7-1.9-3-3.4L72.8,58.6\\n\\t\\t\\tL72.8,58.6z\">\\n       </path>\\n       <path clip-rule=\"evenodd\" d=\"M44.1,48.7l2,5.9l-3.9,0L44.1,48.7L44.1,48.7z M43,49.8l-3.2,9.3\\n\\t\\t\\tc-0.8,2.5-1,2.6-2.4,2.8v0.6h4.8v-0.6l-0.8-0.1c-1-0.1-1.2-0.4-0.8-2c0.3-1.2,1.1-3.3,1.3-4.1l4.5,0c0.6,2,1.3,4.1,1.4,4.8\\n\\t\\t\\tc0.2,0.9,0.1,1.2-0.7,1.3l-0.7,0.1v0.6h5.5v-0.6c-1.4-0.1-1.7-0.3-2.4-2.6C48.6,56.4,45,45.5,45,45.5l-0.5,0.2L43,49.8L43,49.8z\" fill-rule=\"evenodd\">\\n       </path>\\n       <path d=\"M105.2,58.1c0.2,1.4,0.4,3.2,0.6,3.9c0.3,0.1,0.6,0.3,1.2,0.5c0.5,0.2,1.2,0.4,2,0.4\\n\\t\\t\\tc2.7,0,4.7-2.3,4.7-5.3c0-3.2-2.2-4.4-3.6-5.1c-1.6-0.9-2.7-1.5-2.7-3.4c0-1.5,0.7-2.8,2.2-2.8c1.9,0,2.6,1.7,2.9,3.3l0.5-0.1\\n\\t\\t\\tc-0.2-1.5-0.3-2.6-0.4-3.5c-0.2-0.1-0.5-0.2-0.8-0.3c-0.4-0.2-1.2-0.3-1.7-0.3c-2.8,0-4.3,2.2-4.3,4.7c0,3.1,2.9,4.4,3.6,4.8\\n\\t\\t\\tc1.3,0.8,2.7,1.6,2.7,3.8c0,2-1.2,3.3-2.8,3.3c-2.2,0-3.1-2.8-3.4-4L105.2,58.1L105.2,58.1z\">\\n       </path>\\n       <path d=\"M124.4,53.5c-0.1-1.2-0.2-2.2-0.3-3.3c-0.6-0.2-1.7-0.5-3.2-0.5c-3.4,0-6.1,2.7-6.1,6.6\\n\\t\\t\\tc0,3.1,1.9,6.3,5.9,6.3c1.2,0,2.7-0.4,3.2-0.5c0.2-0.7,0.6-2.4,0.8-3.4l-0.6-0.1c-0.8,2.1-1.7,3.2-3.4,3.2c-2.4,0-4-2.4-4-5.9\\n\\t\\t\\tc0-3.1,1.4-5.4,3.8-5.4c1.6,0,2.7,0.7,3.2,3L124.4,53.5L124.4,53.5z\">\\n       </path>\\n       <path d=\"M129.4,53c0-2,0.1-2.1,1.6-2.3v-0.6h-4.9v0.6c1.4,0.1,1.6,0.2,1.6,2.3v6.4c0,2-0.1,2.1-1.6,2.3v0.6h4.9\\n\\t\\t\\tv-0.6c-1.4-0.1-1.6-0.3-1.6-2.3V53L129.4,53z\">\\n       </path>\\n       <path d=\"M134,59.4c0,2-0.1,2.2-1.7,2.3v0.6h8.5c0.1-0.5,0.5-2.5,0.6-3.2l-0.6-0.1c-0.2,0.9-0.5,1.5-0.8,1.9\\n\\t\\t\\tc-0.4,0.4-1.1,0.6-2,0.6c-1,0-1.5,0-1.8-0.2c-0.3-0.2-0.4-0.8-0.4-1.9v-3h1.8c1.4,0,1.5,0.1,1.6,1.6h0.6v-4h-0.6\\n\\t\\t\\tc-0.2,1.4-0.2,1.5-1.6,1.5h-1.8v-3.9c0-0.7,0-0.7,0.7-0.7h1.3c1.1,0,1.6,0.3,1.8,0.6c0.2,0.3,0.4,0.8,0.6,1.8l0.6-0.1\\n\\t\\t\\tc-0.1-1.3-0.2-2.6-0.2-3.1h-8v0.6c1.4,0.1,1.5,0.2,1.5,2.3V59.4L134,59.4z\">\\n       </path>\\n       <path d=\"M152.5,55.3c0-2,0.1-2.9,0.1-3.6c0.1-0.7,0.6-1,1.5-1v-0.6h-4.3v0.6c1.1,0.1,1.6,0.4,1.7,1\\n\\t\\t\\tc0.1,0.6,0.1,1.6,0.1,3.6v3.8h0l-6.7-9h-2.8v0.6c1.5,0.1,1.9,0.6,1.9,2.8v3.7c0,2-0.1,2.9-0.1,3.5c-0.1,0.7-0.6,1-1.5,1v0.6h4.3\\n\\t\\t\\tv-0.6c-1.1-0.1-1.6-0.4-1.7-1c-0.1-0.6-0.1-1.5-0.1-3.5v-4h0l6.9,9.4h0.7V55.3L152.5,55.3z\">\\n       </path>\\n       <path d=\"M164.1,53.5c-0.1-1.2-0.2-2.2-0.3-3.3c-0.6-0.2-1.7-0.5-3.2-0.5c-3.4,0-6.1,2.7-6.1,6.6\\n\\t\\t\\tc0,3.1,1.9,6.3,5.9,6.3c1.2,0,2.7-0.4,3.2-0.5c0.2-0.7,0.6-2.4,0.8-3.4l-0.6-0.1c-0.8,2.1-1.7,3.2-3.4,3.2c-2.4,0-4-2.4-4-5.9\\n\\t\\t\\tc0-3.1,1.4-5.4,3.8-5.4c1.6,0,2.7,0.7,3.2,3L164.1,53.5L164.1,53.5z\">\\n       </path>\\n       <path d=\"M166.9,59.4c0,2-0.1,2.2-1.7,2.3v0.6h8.5c0.1-0.5,0.5-2.5,0.6-3.2l-0.6-0.1c-0.2,0.9-0.5,1.5-0.8,1.9\\n\\t\\t\\tc-0.4,0.4-1.1,0.6-2,0.6c-1,0-1.5,0-1.8-0.2c-0.3-0.2-0.4-0.8-0.4-1.9v-3h1.8c1.4,0,1.5,0.1,1.6,1.6h0.6v-4h-0.6\\n\\t\\t\\tc-0.2,1.4-0.2,1.5-1.6,1.5h-1.8v-3.9c0-0.7,0-0.7,0.7-0.7h1.3c1.1,0,1.6,0.3,1.8,0.6c0.2,0.3,0.4,0.8,0.6,1.8l0.6-0.1\\n\\t\\t\\tc-0.1-1.3-0.2-2.6-0.2-3.1h-8v0.6c1.4,0.1,1.5,0.2,1.5,2.3V59.4L166.9,59.4z\">\\n       </path>\\n       <path d=\"M175.4,58.6c0.2,1.2,0.4,2.8,0.5,3.2c0.4,0.3,1.4,1,2.9,1c2.2,0,3.8-1.6,3.8-3.9c0-2.3-1.6-3.2-3.2-3.9\\n\\t\\t\\tc-1-0.5-2.1-1-2.1-2.4c0-1,0.6-2,1.8-2c1.3,0,2.1,1.2,2.4,2.8l0.6-0.1c-0.2-1.3-0.2-2.3-0.4-3.1c-0.4-0.1-1.2-0.5-2.2-0.5\\n\\t\\t\\tc-2.2,0-3.6,1.5-3.6,3.7c0,2.1,1.8,3,2.9,3.6c1,0.5,2.2,1.1,2.2,2.7c0,1.3-0.8,2.2-2,2.2c-1.5,0-2.7-1.9-3-3.4L175.4,58.6\\n\\t\\t\\tL175.4,58.6z\">\\n       </path>\\n      </g>\\n     </symbol>\\n     <symbol id=\"circle\" viewbox=\"0 0 512 512\">\\n      <path d=\"M256 512c141.4 0 256-114.6 256-256S397.4 0 256 0S0 114.6 0 256S114.6 512 256 512z\">\\n      </path>\\n     </symbol>\\n    </svg>\\n    <?xml version=\"1.0\" encoding=\"UTF-8\"?>\\n    <!--!\\nFont Awesome Pro 6.4.0 by @fontawesome - https://fontawesome.com\\nLicense - https://fontawesome.com/license (Commercial License)\\nCopyright 2023 Fonticons, Inc.\\n-->\\n    <svg style=\"display: none;\" xmlns=\"http://www.w3.org/2000/svg\">\\n     <symbol id=\"file-doc\" viewbox=\"0 0 512 512\">\\n      <path d=\"M48 464H96v48H48 0V464 48 0H48 256L384 128V288H336V160H224V48H48V464zM176 352h32c26.5 0 48 21.5 48 48v64c0 26.5-21.5 48-48 48H176 160V496 368 352h16zm16 128h16c8.8 0 16-7.2 16-16V400c0-8.8-7.2-16-16-16H192v96zM456 352h16c22.1 0 40 17.9 40 40v8 16H480V400v-8c0-4.4-3.6-8-8-8H456c-4.4 0-8 3.6-8 8v80c0 4.4 3.6 8 8 8h16c4.4 0 8-3.6 8-8v-8V448h32v16 8c0 22.1-17.9 40-40 40H456c-22.1 0-40-17.9-40-40V392c0-22.1 17.9-40 40-40zM288 392c0-22.1 17.9-40 40-40h16c22.1 0 40 17.9 40 40v80c0 22.1-17.9 40-40 40H328c-22.1 0-40-17.9-40-40V392zm40-8c-4.4 0-8 3.6-8 8v80c0 4.4 3.6 8 8 8h16c4.4 0 8-3.6 8-8V392c0-4.4-3.6-8-8-8H328z\">\\n      </path>\\n     </symbol>\\n     <symbol id=\"eye\" viewbox=\"0 0 576 512\">\\n      <path d=\"M129.1 361.4C93.6 327.2 67.7 286.9 52.5 256c15.1-30.9 41-71.2 76.6-105.4C171.8 109.5 224.9 80 288 80s116.2 29.5 158.9 70.6c35.6 34.3 61.5 74.5 76.6 105.4c-15.1 30.9-41 71.2-76.6 105.4C404.2 402.5 351.1 432 288 432s-116.2-29.5-158.9-70.6zM288 480c158.4 0 258-149.3 288-224C546 181.3 446.4 32 288 32S30 181.3 0 256c30 74.7 129.6 224 288 224zm0-144c-44.2 0-80-35.8-80-80c0-5.4 .5-10.6 1.5-15.7L288 256l-15.7-78.5c5.1-1 10.3-1.5 15.7-1.5c44.2 0 80 35.8 80 80s-35.8 80-80 80zM160 256c0 70.7 57.3 128 128 128s128-57.3 128-128s-57.3-128-128-128c-8.6 0-17 .8-25.1 2.5c-50.3 10-90 49.5-100.3 99.7l-.1 .7c-1.6 8.1-2.5 16.5-2.5 25.1z\">\\n      </path>\\n     </symbol>\\n    </svg>\\n   </span>\\n  </div>\\n  <script async=\"\" defer=\"\" id=\"hs-script-loader\" src=\"//js.hs-scripts.com/44596675.js\" type=\"text/javascript\">\\n  </script>\\n  <script src=\"/sites/polisci.wustl.edu/files/js/js_liA0erCkpwJsdipZ3faNWGvcZ1HTDodrqYejE-txNA0.js?scope=footer&amp;delta=0&amp;language=en&amp;theme=olympian9&amp;include=eJx1kNFuwzAIRX_Inp_3NYgkxKXCxjKkbfb1a5pIyyr1Bd_DBSzA7jZyyqIDSrSxc3MLA7lTB3o0NZpgZnmiJVxcwZahsH8qyVSpo3yyjYRGBxSBqpVCVs1C4JhTfoZ3_sIrPv4nSxD8WdMWQtWJ4E6cL542vcugspbGWL_TgEYnrHjjjM5aY-tcsK8n03GwM2rbzqEip-SN6W7xWCrO2kuMM46L-Bob5r-_YNROCafCNeqNeueJLLza9yH7Zi8Jm4QLm2tf0_EelihOULZZb_wLAE2sow\">\\n  </script>\\n  <script src=\"/themes/custom/olympian9/js/olympian9.status-messages.js?v=1.x\">\\n  </script>\\n  <script src=\"/sites/polisci.wustl.edu/files/js/js_4jP17UYGUAeS2AXZ-r4-2TzFn5X52qmrHcAQpuSC8BA.js?scope=footer&amp;delta=2&amp;language=en&amp;theme=olympian9&amp;include=eJx1kNFuwzAIRX_Inp_3NYgkxKXCxjKkbfb1a5pIyyr1Bd_DBSzA7jZyyqIDSrSxc3MLA7lTB3o0NZpgZnmiJVxcwZahsH8qyVSpo3yyjYRGBxSBqpVCVs1C4JhTfoZ3_sIrPv4nSxD8WdMWQtWJ4E6cL542vcugspbGWL_TgEYnrHjjjM5aY-tcsK8n03GwM2rbzqEip-SN6W7xWCrO2kuMM46L-Bob5r-_YNROCafCNeqNeueJLLza9yH7Zi8Jm4QLm2tf0_EelihOULZZb_wLAE2sow\">\\n  </script>\\n  <script src=\"/themes/custom/olympian9/js/tabs.js?t0jlcf\">\\n  </script>\\n  <script src=\"/themes/custom/olympian9/js/top-scroll.js?t0jlcf\">\\n  </script>\\n  <script src=\"/themes/custom/olympian9/js/view-toggle.js?t0jlcf\">\\n  </script>\\n  <script src=\"/sites/polisci.wustl.edu/files/js/js_4t78B7PbLBJNuaNj2LpPy6GW4Bk8BS5z1bvQnB7R74A.js?scope=footer&amp;delta=6&amp;language=en&amp;theme=olympian9&amp;include=eJx1kNFuwzAIRX_Inp_3NYgkxKXCxjKkbfb1a5pIyyr1Bd_DBSzA7jZyyqIDSrSxc3MLA7lTB3o0NZpgZnmiJVxcwZahsH8qyVSpo3yyjYRGBxSBqpVCVs1C4JhTfoZ3_sIrPv4nSxD8WdMWQtWJ4E6cL542vcugspbGWL_TgEYnrHjjjM5aY-tcsK8n03GwM2rbzqEip-SN6W7xWCrO2kuMM46L-Bob5r-_YNROCafCNeqNeueJLLza9yH7Zi8Jm4QLm2tf0_EelihOULZZb_wLAE2sow\">\\n  </script>\\n </body>\\n</html>\\n'"
      ]
     },
     "execution_count": 6,
     "metadata": {},
     "output_type": "execute_result"
    }
   ],
   "source": [
    " str(soup.prettify()) # enable us to view how tags are nested in the document"
   ]
  },
  {
   "cell_type": "code",
   "execution_count": 7,
   "metadata": {
    "editable": true,
    "slideshow": {
     "slide_type": "subslide"
    },
    "tags": []
   },
   "outputs": [
    {
     "data": {
      "text/plain": [
       "'<!DOCTYPE html>\\n<html class=\"no-js\" dir=\"ltr\" lang=\"en\" prefix=\"og: https://ogp.me/ns#\">\\n <head>\\n  <meta charset=\"utf-8\"/>\\n  <noscript>\\n   <style>\\n    form.antibot * :not(.antibot-message) { display: none !important; }\\n   </style>\\n  </noscript>\\n  <style>\\n   /* @see https://github.com/aFarkas/lazysizes#broken-image-symbol */.js img.lazyload:not([src]) { visibility: hidden; }/* @see https://github.com/aFarkas/lazysizes#automatically-setting-the-sizes-attribute */.js img.lazyloaded[data-sizes=auto] { display: block; width: 100%; }/* Transition effect. */.js .lazyload, .js .lazyloading { opacity: 0; }.js .lazyloaded { opacity: 1; -webkit-transition: opacity 2000ms; transition: opacity 2000ms; }\\n  </style>\\n  <meta content=\"Description\" name=\"description\"/>\\n  <link href=\"https://polisci.wustl.edu/node/50\" rel=\"shortlink\"/>\\n  <link href=\"https://polisci.wustl.edu/people\" rel=\"canonical\"/>\\n  <meta content=\"index, follow\" name=\"robots\"/>\\n  <meta content=\"asdrupal\" name=\"author\"/>\\n  <meta content=\"Drupal 10 (http://drupal.org)\" name=\"generator\"/>\\n  <meta content=\"Department of Political Science\" property=\"og:site_name\"/>\\n  <meta content=\"profile\" property=\"og:type\"/>\\n  <meta content=\"https://polisci.wustl.edu/people\" property=\"og:url\"/>\\n  <meta content=\"Our People\" property=\"og:title\"/>\\n  <meta content=\"\" property=\"og:description\"/>\\n  <meta content=\"2025-04-14T10:48:12-05:00\" property=\"og:updated_time\"/>\\n  <meta content=\"2017-02-24T09:30:04-06:00\" property=\"article:published_time\"/>\\n  '"
      ]
     },
     "execution_count": 7,
     "metadata": {},
     "output_type": "execute_result"
    }
   ],
   "source": [
    "str(soup.prettify())[0:1500]"
   ]
  },
  {
   "cell_type": "markdown",
   "metadata": {
    "editable": true,
    "slideshow": {
     "slide_type": "subslide"
    },
    "tags": []
   },
   "source": [
    "3. Find all cases of a certain tag 'a'"
   ]
  },
  {
   "cell_type": "code",
   "execution_count": 8,
   "metadata": {
    "editable": true,
    "slideshow": {
     "slide_type": "fragment"
    },
    "tags": []
   },
   "outputs": [
    {
     "data": {
      "text/plain": [
       "[<a alt=\" Department of Political Science  front page\" href=\"/\"> Department of Political Science </a>,\n",
       " <a data-drupal-link-system-path=\"node/13357\" href=\"/undergraduate\">Undergraduate Program</a>,\n",
       " <a data-drupal-link-system-path=\"node/13340\" href=\"/graduate-program\">Graduate Program</a>,\n",
       " <a data-drupal-link-system-path=\"node/14467\" href=\"/masters-degree-statistics-political-science-phd-students\">Master’s Degree in Statistics for Political Science Ph.D. Students</a>,\n",
       " <a data-drupal-link-system-path=\"node/13198\" href=\"/research\">Research</a>,\n",
       " <a aria-current=\"page\" class=\"is-active\" data-drupal-link-system-path=\"node/50\" href=\"/people\">Our People</a>,\n",
       " <a data-drupal-link-system-path=\"node/61\" href=\"/resources\">Resources</a>,\n",
       " <a href=\"https://gifts.wustl.edu/index.html?other_designation_description=Political%20Science\">Make a Gift to Political Science</a>]"
      ]
     },
     "execution_count": 8,
     "metadata": {},
     "output_type": "execute_result"
    }
   ],
   "source": [
    "soup.find_all('a')[2:10] # Returns a list... remember this!"
   ]
  },
  {
   "cell_type": "markdown",
   "metadata": {
    "editable": true,
    "slideshow": {
     "slide_type": "subslide"
    },
    "tags": []
   },
   "source": [
    "4. Find all cases of a certain tag `<h3>`"
   ]
  },
  {
   "cell_type": "code",
   "execution_count": 9,
   "metadata": {
    "editable": true,
    "slideshow": {
     "slide_type": "fragment"
    },
    "tags": []
   },
   "outputs": [
    {
     "data": {
      "text/plain": [
       "[<h3>\n",
       " <div><span>Federico</span></div>\n",
       " <div><span>Acosta y Lara</span></div>\n",
       " </h3>,\n",
       " <h3>\n",
       " <div><span>Deniz</span></div>\n",
       " <div><span>Aksoy</span></div>\n",
       " </h3>,\n",
       " <h3>\n",
       " <div><span>Lukas</span></div>\n",
       " <div><span>Alexander</span></div>\n",
       " </h3>,\n",
       " <h3>\n",
       " <div><span>Alex</span></div>\n",
       " <div><span>Avery</span></div>\n",
       " </h3>,\n",
       " <h3>\n",
       " <div><span>Timm</span></div>\n",
       " <div><span>Betz</span></div>\n",
       " </h3>,\n",
       " <h3>\n",
       " <div><span>Zachary</span></div>\n",
       " <div><span>Bowersox</span></div>\n",
       " </h3>,\n",
       " <h3>\n",
       " <div><span>Christina L.</span></div>\n",
       " <div><span>Boyd</span></div>\n",
       " </h3>,\n",
       " <h3>\n",
       " <div><span>Ryan</span></div>\n",
       " <div><span>Burge</span></div>\n",
       " </h3>,\n",
       " <h3>\n",
       " <div><span>Daniel </span></div>\n",
       " <div><span>Butler</span></div>\n",
       " </h3>,\n",
       " <h3>\n",
       " <div><span>Anthony</span></div>\n",
       " <div><span>Buzzacco</span></div>\n",
       " </h3>]"
      ]
     },
     "execution_count": 9,
     "metadata": {},
     "output_type": "execute_result"
    }
   ],
   "source": [
    "soup.find_all('h3')[2:12]"
   ]
  },
  {
   "cell_type": "markdown",
   "metadata": {
    "editable": true,
    "slideshow": {
     "slide_type": "subslide"
    },
    "tags": []
   },
   "source": [
    "5. Extract text from the tag"
   ]
  },
  {
   "cell_type": "code",
   "execution_count": 10,
   "metadata": {
    "editable": true,
    "slideshow": {
     "slide_type": "fragment"
    },
    "tags": []
   },
   "outputs": [
    {
     "data": {
      "text/plain": [
       "['\\nFederico\\nAcosta y Lara\\n',\n",
       " '\\nDeniz\\nAksoy\\n',\n",
       " '\\nLukas\\nAlexander\\n',\n",
       " '\\nAlex\\nAvery\\n',\n",
       " '\\nTimm\\nBetz\\n',\n",
       " '\\nZachary\\nBowersox\\n',\n",
       " '\\nChristina L.\\nBoyd\\n',\n",
       " '\\nRyan\\nBurge\\n']"
      ]
     },
     "execution_count": 10,
     "metadata": {},
     "output_type": "execute_result"
    }
   ],
   "source": [
    "names = soup.find_all('h3') # list of html entries\n",
    "[i.text for i in names][2:10] # grab just the text from each one"
   ]
  },
  {
   "cell_type": "markdown",
   "metadata": {
    "editable": true,
    "slideshow": {
     "slide_type": "subslide"
    },
    "tags": []
   },
   "source": [
    "* We can create an object containing all elements with the tag `<a>`. Then, get the attributes"
   ]
  },
  {
   "cell_type": "code",
   "execution_count": 11,
   "metadata": {
    "editable": true,
    "slideshow": {
     "slide_type": "fragment"
    },
    "tags": []
   },
   "outputs": [
    {
     "data": {
      "text/plain": [
       "{'href': '/people/dino-p-christenson',\n",
       " 'id': 'faculty-card-container',\n",
       " 'class': ['card'],\n",
       " 'aria-label': 'View Dino P. Christenson'}"
      ]
     },
     "execution_count": 11,
     "metadata": {},
     "output_type": "execute_result"
    }
   ],
   "source": [
    "all_a_tags = soup.find_all('a')\n",
    "# all_a_tags\n",
    "all_a_tags[36].attrs  # returns a dictionary with the attributes"
   ]
  },
  {
   "cell_type": "markdown",
   "metadata": {
    "editable": true,
    "slideshow": {
     "slide_type": "subslide"
    },
    "tags": []
   },
   "source": [
    "* Access the attributes with key-value syntax"
   ]
  },
  {
   "cell_type": "code",
   "execution_count": 12,
   "metadata": {
    "editable": true,
    "slideshow": {
     "slide_type": ""
    },
    "tags": []
   },
   "outputs": [
    {
     "data": {
      "text/plain": [
       "dict_keys(['href', 'id', 'class', 'aria-label'])"
      ]
     },
     "execution_count": 12,
     "metadata": {},
     "output_type": "execute_result"
    }
   ],
   "source": [
    "all_a_tags[36].attrs.keys()"
   ]
  },
  {
   "cell_type": "code",
   "execution_count": 13,
   "metadata": {
    "editable": true,
    "slideshow": {
     "slide_type": "fragment"
    },
    "tags": []
   },
   "outputs": [
    {
     "data": {
      "text/plain": [
       "'/people/dino-p-christenson'"
      ]
     },
     "execution_count": 13,
     "metadata": {},
     "output_type": "execute_result"
    }
   ],
   "source": [
    "all_a_tags[36]['href']"
   ]
  },
  {
   "cell_type": "code",
   "execution_count": 14,
   "metadata": {
    "editable": true,
    "slideshow": {
     "slide_type": "fragment"
    },
    "tags": []
   },
   "outputs": [
    {
     "data": {
      "text/plain": [
       "['card']"
      ]
     },
     "execution_count": 14,
     "metadata": {},
     "output_type": "execute_result"
    }
   ],
   "source": [
    "all_a_tags[36]['class']"
   ]
  },
  {
   "cell_type": "code",
   "execution_count": 15,
   "metadata": {
    "editable": true,
    "slideshow": {
     "slide_type": "fragment"
    },
    "tags": []
   },
   "outputs": [
    {
     "name": "stdout",
     "output_type": "stream",
     "text": [
      "/people/amaan-charaniya\n",
      "/people/tian-chen\n",
      "/people/dino-p-christenson\n",
      "/people/leticia-claro-oliveira\n",
      "/people/brian-f-crisp\n",
      "/people/bowen-damask\n"
     ]
    }
   ],
   "source": [
    "for i in range(34,40):\n",
    "  print(all_a_tags[i]['href'])"
   ]
  },
  {
   "cell_type": "markdown",
   "metadata": {
    "editable": true,
    "slideshow": {
     "slide_type": "subslide"
    },
    "tags": []
   },
   "source": [
    "##### Some notes"
   ]
  },
  {
   "cell_type": "markdown",
   "metadata": {
    "editable": true,
    "slideshow": {
     "slide_type": "fragment"
    },
    "tags": []
   },
   "source": [
    "*  Careful for the first and last tags—these can often be different than the others"
   ]
  },
  {
   "cell_type": "code",
   "execution_count": 16,
   "metadata": {
    "editable": true,
    "slideshow": {
     "slide_type": "fragment"
    },
    "tags": []
   },
   "outputs": [
    {
     "data": {
      "text/plain": [
       "{'href': '#main-content',\n",
       " 'class': ['visually-hidden', 'focusable', 'skip-link'],\n",
       " 'role': 'link',\n",
       " 'aria-label': 'skip to main content'}"
      ]
     },
     "execution_count": 16,
     "metadata": {},
     "output_type": "execute_result"
    }
   ],
   "source": [
    "all_a_tags[0].attrs"
   ]
  },
  {
   "cell_type": "markdown",
   "metadata": {
    "editable": true,
    "slideshow": {
     "slide_type": "fragment"
    },
    "tags": []
   },
   "source": [
    "* Because `all_a_tags` is a list, we need to index the element(s) we're interested in\n",
    "* If we are interested in the first instance of the tag `<a>`, we can use"
   ]
  },
  {
   "cell_type": "code",
   "execution_count": 17,
   "metadata": {
    "editable": true,
    "slideshow": {
     "slide_type": "fragment"
    },
    "tags": []
   },
   "outputs": [
    {
     "data": {
      "text/plain": [
       "<a aria-label=\"skip to main content\" class=\"visually-hidden focusable skip-link\" href=\"#main-content\" role=\"link\">\n",
       "    Skip to main content\n",
       "  </a>"
      ]
     },
     "execution_count": 17,
     "metadata": {},
     "output_type": "execute_result"
    }
   ],
   "source": [
    "soup.find('a')"
   ]
  },
  {
   "cell_type": "code",
   "execution_count": 18,
   "metadata": {
    "editable": true,
    "slideshow": {
     "slide_type": "fragment"
    },
    "tags": []
   },
   "outputs": [
    {
     "data": {
      "text/plain": [
       "{'href': '#main-content',\n",
       " 'class': ['visually-hidden', 'focusable', 'skip-link'],\n",
       " 'role': 'link',\n",
       " 'aria-label': 'skip to main content'}"
      ]
     },
     "execution_count": 18,
     "metadata": {},
     "output_type": "execute_result"
    }
   ],
   "source": [
    "soup.find('a').attrs "
   ]
  },
  {
   "cell_type": "markdown",
   "metadata": {
    "editable": true,
    "slideshow": {
     "slide_type": "subslide"
    },
    "tags": []
   },
   "source": [
    "We can use a loop (for or while) to get and re-organize all the data."
   ]
  },
  {
   "cell_type": "code",
   "execution_count": 19,
   "metadata": {
    "editable": true,
    "slideshow": {
     "slide_type": "fragment"
    },
    "tags": []
   },
   "outputs": [
    {
     "name": "stdout",
     "output_type": "stream",
     "text": [
      "{'class': [['card'], ['card'], ['card'], ['card'], ['card'], ['card'], ['card'], ['card'], ['card'], ['card'], ['card'], ['card'], ['card'], ['card'], ['card'], ['card'], ['card'], ['card'], ['card'], ['card'], ['card'], ['card'], ['card']], 'href': ['/people/deniz-aksoy', '/people/lukas-alexander', '/people/alex-avery', '/people/timm-betz', '/people/zachary-bowersox', '/people/christina-l-boyd', 'https://rap.wustl.edu/people/ryan-burge/', '/people/daniel-butler', '/people/anthony-buzzacco', '/people/randall-calvert', '/people/michael-cannon', '/people/taylor-carlson', '/people/david-carter', '/people/zeynep-ceren-topac', '/people/amaan-charaniya', '/people/tian-chen', '/people/dino-p-christenson', '/people/leticia-claro-oliveira', '/people/brian-f-crisp', '/people/bowen-damask', '/people/niko-dawson', '/people/rex-weiye-deng', '/people/juan-dodyk']}\n"
     ]
    }
   ],
   "source": [
    "l = {\"class\" : [], \"href\" : []} # create a dictionary\n",
    "for p in range(20,43):\n",
    "    l[\"class\"].append(all_a_tags[p].attrs[\"class\"]) \n",
    "    l[\"href\"].append(all_a_tags[p].attrs[\"href\"]) \n",
    "\n",
    "print(l)"
   ]
  },
  {
   "cell_type": "markdown",
   "metadata": {
    "editable": true,
    "slideshow": {
     "slide_type": "subslide"
    },
    "tags": []
   },
   "source": [
    "##### If we are interested only in the attributes of `class = card` nested within tag 'a', we can specify this in our initial `find_all()` call:"
   ]
  },
  {
   "cell_type": "code",
   "execution_count": 20,
   "metadata": {
    "editable": true,
    "slideshow": {
     "slide_type": "fragment"
    },
    "tags": []
   },
   "outputs": [
    {
     "data": {
      "text/plain": [
       "[<a aria-label=\"View Federico Acosta y Lara\" class=\"card\" href=\"/people/federico-acosta-y-lara\" id=\"faculty-card-container\">\n",
       " <article class=\"faculty-post\">\n",
       " <div class=\"image\">\n",
       " <img alt=\"Federico Acosta y Lara\" height=\"320\" loading=\"lazy\" sizes=\"(max-width:480px) 85vw, 290px\" src=\"/sites/polisci.wustl.edu/files/styles/square_1_1_320w/public/People/Polisci_Acosta%20Y%20Lara_F-1010531_0.jpg.webp\" srcset=\"https://polisci.wustl.edu/sites/polisci.wustl.edu/files/styles/square_1_1_190w/public/People/Polisci_Acosta%20Y%20Lara_F-1010531_0.jpg.webp 190w, https://polisci.wustl.edu/sites/polisci.wustl.edu/files/styles/square_1_1_320w/public/People/Polisci_Acosta%20Y%20Lara_F-1010531_0.jpg.webp 320w, https://polisci.wustl.edu/sites/polisci.wustl.edu/files/styles/square_1_1_480w/public/People/Polisci_Acosta%20Y%20Lara_F-1010531_0.jpg.webp 480w\" width=\"320\"/>\n",
       " <h3>\n",
       " <div><span>Federico</span></div>\n",
       " <div><span>Acosta y Lara</span></div>\n",
       " </h3>\n",
       " </div>\n",
       " <div class=\"dept\">\n",
       "                                 Third Year Graduate Student\n",
       "                             </div>\n",
       " </article>\n",
       " </a>,\n",
       " <a aria-label=\"View Deniz Aksoy\" class=\"card\" href=\"/people/deniz-aksoy\" id=\"faculty-card-container\">\n",
       " <article class=\"faculty-post\">\n",
       " <div class=\"image\">\n",
       " <img alt=\"Deniz Aksoy\" height=\"320\" loading=\"lazy\" sizes=\"(max-width:480px) 85vw, 290px\" src=\"/sites/polisci.wustl.edu/files/styles/square_1_1_320w/public/People/Polisci_Aksoy_D_P1013892_0.jpg.webp\" srcset=\"https://polisci.wustl.edu/sites/polisci.wustl.edu/files/styles/square_1_1_190w/public/People/Polisci_Aksoy_D_P1013892_0.jpg.webp 190w, https://polisci.wustl.edu/sites/polisci.wustl.edu/files/styles/square_1_1_320w/public/People/Polisci_Aksoy_D_P1013892_0.jpg.webp 320w, https://polisci.wustl.edu/sites/polisci.wustl.edu/files/styles/square_1_1_480w/public/People/Polisci_Aksoy_D_P1013892_0.jpg.webp 480w\" width=\"320\"/>\n",
       " <h3>\n",
       " <div><span>Deniz</span></div>\n",
       " <div><span>Aksoy</span></div>\n",
       " </h3>\n",
       " </div>\n",
       " <div class=\"dept\">\n",
       "                                 Associate Professor of Political Science\n",
       "                             </div>\n",
       " </article>\n",
       " </a>]"
      ]
     },
     "execution_count": 20,
     "metadata": {},
     "output_type": "execute_result"
    }
   ],
   "source": [
    "soup.find_all('a', {'class' : \"card\"})[0:2] # returns a list"
   ]
  },
  {
   "cell_type": "markdown",
   "metadata": {
    "editable": true,
    "slideshow": {
     "slide_type": "subslide"
    },
    "tags": []
   },
   "source": [
    "##### Commonly, you will need to go level by level in an exporatory exercise to access nested tags. Here is an example:"
   ]
  },
  {
   "cell_type": "markdown",
   "metadata": {
    "editable": true,
    "slideshow": {
     "slide_type": "fragment"
    },
    "tags": []
   },
   "source": [
    "* First get all tags `<div>`"
   ]
  },
  {
   "cell_type": "code",
   "execution_count": 21,
   "metadata": {
    "editable": true,
    "slideshow": {
     "slide_type": "fragment"
    },
    "tags": []
   },
   "outputs": [
    {
     "data": {
      "text/plain": [
       "268"
      ]
     },
     "execution_count": 21,
     "metadata": {},
     "output_type": "execute_result"
    }
   ],
   "source": [
    "sections = soup.find_all('div') \n",
    "len(sections) # check the size of the object"
   ]
  },
  {
   "cell_type": "markdown",
   "metadata": {
    "editable": true,
    "slideshow": {
     "slide_type": "fragment"
    },
    "tags": []
   },
   "source": [
    "* View the FIRST `<a>` tag within the first valid `<div>` tag "
   ]
  },
  {
   "cell_type": "code",
   "execution_count": 22,
   "metadata": {
    "editable": true,
    "slideshow": {
     "slide_type": ""
    },
    "tags": []
   },
   "outputs": [
    {
     "data": {
      "text/plain": [
       "<a class=\"logo\" href=\"https://artsci.washu.edu\">\n",
       "<picture>\n",
       "<source media=\"(min-width: 767px)\" srcset=\"/themes/custom/olympian9/svg/logo-art-sci-vert-color.svg\"/>\n",
       "<img alt=\"Washington University in St. Louis\" src=\"/themes/custom/olympian9/svg/logo-art-sci-color.svg\"/>\n",
       "</picture>\n",
       "</a>"
      ]
     },
     "execution_count": 22,
     "metadata": {},
     "output_type": "execute_result"
    }
   ],
   "source": [
    "sections[2].a"
   ]
  },
  {
   "cell_type": "markdown",
   "metadata": {
    "editable": true,
    "slideshow": {
     "slide_type": "fragment"
    },
    "tags": []
   },
   "source": [
    "* Or, equivalently:"
   ]
  },
  {
   "cell_type": "code",
   "execution_count": 23,
   "metadata": {
    "editable": true,
    "slideshow": {
     "slide_type": "fragment"
    },
    "tags": []
   },
   "outputs": [
    {
     "data": {
      "text/plain": [
       "<a class=\"logo\" href=\"https://artsci.washu.edu\">\n",
       "<picture>\n",
       "<source media=\"(min-width: 767px)\" srcset=\"/themes/custom/olympian9/svg/logo-art-sci-vert-color.svg\"/>\n",
       "<img alt=\"Washington University in St. Louis\" src=\"/themes/custom/olympian9/svg/logo-art-sci-color.svg\"/>\n",
       "</picture>\n",
       "</a>"
      ]
     },
     "execution_count": 23,
     "metadata": {},
     "output_type": "execute_result"
    }
   ],
   "source": [
    "sections[2].find('a') "
   ]
  },
  {
   "cell_type": "markdown",
   "metadata": {
    "editable": true,
    "slideshow": {
     "slide_type": "subslide"
    },
    "tags": []
   },
   "source": [
    "* This gives us ALL `<a>` tags within the first valid `<div>` tag "
   ]
  },
  {
   "cell_type": "code",
   "execution_count": 24,
   "metadata": {
    "editable": true,
    "slideshow": {
     "slide_type": "fragment"
    },
    "tags": []
   },
   "outputs": [
    {
     "data": {
      "text/plain": [
       "[<a class=\"logo\" href=\"https://artsci.washu.edu\">\n",
       " <picture>\n",
       " <source media=\"(min-width: 767px)\" srcset=\"/themes/custom/olympian9/svg/logo-art-sci-vert-color.svg\"/>\n",
       " <img alt=\"Washington University in St. Louis\" src=\"/themes/custom/olympian9/svg/logo-art-sci-color.svg\"/>\n",
       " </picture>\n",
       " </a>,\n",
       " <a alt=\" Department of Political Science  front page\" href=\"/\"> Department of Political Science </a>,\n",
       " <a data-drupal-link-system-path=\"node/13357\" href=\"/undergraduate\">Undergraduate Program</a>,\n",
       " <a data-drupal-link-system-path=\"node/13340\" href=\"/graduate-program\">Graduate Program</a>,\n",
       " <a data-drupal-link-system-path=\"node/14467\" href=\"/masters-degree-statistics-political-science-phd-students\">Master’s Degree in Statistics for Political Science Ph.D. Students</a>,\n",
       " <a data-drupal-link-system-path=\"node/13198\" href=\"/research\">Research</a>,\n",
       " <a aria-current=\"page\" class=\"is-active\" data-drupal-link-system-path=\"node/50\" href=\"/people\">Our People</a>,\n",
       " <a data-drupal-link-system-path=\"node/61\" href=\"/resources\">Resources</a>,\n",
       " <a href=\"https://gifts.wustl.edu/index.html?other_designation_description=Political%20Science\">Make a Gift to Political Science</a>,\n",
       " <a class=\"button top-left-menu solid red\" href=\"https://artsci.washu.edu/apply\" target=\"_blank\">Apply Today\n",
       "                <svg class=\"icon\"><use xlink:href=\"#link-out\"></use></svg>\n",
       " </a>]"
      ]
     },
     "execution_count": 24,
     "metadata": {},
     "output_type": "execute_result"
    }
   ],
   "source": [
    "sections[2].find_all('a')[0:10] "
   ]
  },
  {
   "cell_type": "markdown",
   "metadata": {
    "editable": true,
    "slideshow": {
     "slide_type": "subslide"
    },
    "tags": []
   },
   "source": [
    "* This gives us ALL `<a>` tags within the first valid `<div>` tag where `class` is 'first-level'"
   ]
  },
  {
   "cell_type": "code",
   "execution_count": 25,
   "metadata": {
    "editable": true,
    "slideshow": {
     "slide_type": "fragment"
    },
    "tags": []
   },
   "outputs": [
    {
     "data": {
      "text/plain": [
       "[]"
      ]
     },
     "execution_count": 25,
     "metadata": {},
     "output_type": "execute_result"
    }
   ],
   "source": [
    "sections[2].find_all('a', {'class' : 'first-level'}) "
   ]
  },
  {
   "cell_type": "markdown",
   "metadata": {
    "editable": true,
    "slideshow": {
     "slide_type": "subslide"
    },
    "tags": []
   },
   "source": [
    "##### We can also create a tree of objects. Here is an example: "
   ]
  },
  {
   "cell_type": "markdown",
   "metadata": {
    "editable": true,
    "slideshow": {
     "slide_type": "fragment"
    },
    "tags": []
   },
   "source": [
    "Let's find Prof. Taylor Carlson's profile on the department website. \n",
    "1. Find all `<a>` tags where `class` is 'card'"
   ]
  },
  {
   "cell_type": "code",
   "execution_count": 26,
   "metadata": {
    "editable": true,
    "scrolled": true,
    "slideshow": {
     "slide_type": "subslide"
    },
    "tags": []
   },
   "outputs": [
    {
     "name": "stdout",
     "output_type": "stream",
     "text": [
      "<a aria-label=\"View Taylor Carlson\" class=\"card\" href=\"/people/taylor-carlson\" id=\"faculty-card-container\">\n",
      "<article class=\"faculty-post\">\n",
      "<div class=\"image\">\n",
      "<img alt=\"Taylor Carlson\" height=\"320\" loading=\"lazy\" sizes=\"(max-width:480px) 85vw, 290px\" src=\"/sites/polisci.wustl.edu/files/styles/square_1_1_320w/public/PoliSci_Carlson_T_P1322772_0.jpg.webp\" srcset=\"https://polisci.wustl.edu/sites/polisci.wustl.edu/files/styles/square_1_1_190w/public/PoliSci_Carlson_T_P1322772_0.jpg.webp 190w, https://polisci.wustl.edu/sites/polisci.wustl.edu/files/styles/square_1_1_320w/public/PoliSci_Carlson_T_P1322772_0.jpg.webp 320w, https://polisci.wustl.edu/sites/polisci.wustl.edu/files/styles/square_1_1_480w/public/PoliSci_Carlson_T_P1322772_0.jpg.webp 480w\" width=\"320\"/>\n",
      "<h3>\n",
      "<div><span>Taylor</span></div>\n",
      "<div><span>Carlson</span></div>\n",
      "</h3>\n",
      "</div>\n",
      "<div class=\"dept\">\n",
      "                                Director of Graduate Studies Political Science\n",
      "                                  Associate Professor of Political Science<br>\n",
      "Weidenbaum Center Director of Survey Research\n",
      "                  </br></div>\n",
      "</article>\n",
      "</a>\n"
     ]
    }
   ],
   "source": [
    "taylor = soup.find(\"a\", {\"aria-label\": lambda x: x and \"Taylor Carlson\" in x})\n",
    "print(taylor)\n",
    "\n"
   ]
  },
  {
   "cell_type": "markdown",
   "metadata": {
    "editable": true,
    "slideshow": {
     "slide_type": "subslide"
    },
    "tags": []
   },
   "source": [
    "2. Manually examine where Prof. Carlson is located at. "
   ]
  },
  {
   "cell_type": "code",
   "execution_count": 27,
   "metadata": {
    "editable": true,
    "slideshow": {
     "slide_type": "fragment"
    },
    "tags": []
   },
   "outputs": [],
   "source": [
    "# all_people = soup.find_all('a', {'class' : \"card\"})\n",
    "# taylor = all_people[6]\n",
    "# taylor"
   ]
  },
  {
   "cell_type": "markdown",
   "metadata": {
    "editable": true,
    "slideshow": {
     "slide_type": "fragment"
    },
    "tags": []
   },
   "source": [
    "3. Find the heading that contains Prof. Carlson's first and last name."
   ]
  },
  {
   "cell_type": "code",
   "execution_count": 28,
   "metadata": {
    "editable": true,
    "slideshow": {
     "slide_type": "fragment"
    },
    "tags": []
   },
   "outputs": [
    {
     "data": {
      "text/plain": [
       "[<h3>\n",
       " <div><span>Taylor</span></div>\n",
       " <div><span>Carlson</span></div>\n",
       " </h3>]"
      ]
     },
     "execution_count": 28,
     "metadata": {},
     "output_type": "execute_result"
    }
   ],
   "source": [
    "taylor.find_all('h3')\n",
    "# taylor.find('h3').text"
   ]
  },
  {
   "cell_type": "markdown",
   "metadata": {
    "editable": true,
    "slideshow": {
     "slide_type": "subslide"
    },
    "tags": []
   },
   "source": [
    "4. Check the contents contained within this `<a>` tag for Prof. Carlson. \n",
    "Notice that this is basically the same output as above, but without the `<a></a>` tags. So it is returning everything nested within the 'a' tag."
   ]
  },
  {
   "cell_type": "code",
   "execution_count": 29,
   "metadata": {
    "editable": true,
    "slideshow": {
     "slide_type": "fragment"
    },
    "tags": []
   },
   "outputs": [
    {
     "data": {
      "text/plain": [
       "['\\n',\n",
       " <article class=\"faculty-post\">\n",
       " <div class=\"image\">\n",
       " <img alt=\"Taylor Carlson\" height=\"320\" loading=\"lazy\" sizes=\"(max-width:480px) 85vw, 290px\" src=\"/sites/polisci.wustl.edu/files/styles/square_1_1_320w/public/PoliSci_Carlson_T_P1322772_0.jpg.webp\" srcset=\"https://polisci.wustl.edu/sites/polisci.wustl.edu/files/styles/square_1_1_190w/public/PoliSci_Carlson_T_P1322772_0.jpg.webp 190w, https://polisci.wustl.edu/sites/polisci.wustl.edu/files/styles/square_1_1_320w/public/PoliSci_Carlson_T_P1322772_0.jpg.webp 320w, https://polisci.wustl.edu/sites/polisci.wustl.edu/files/styles/square_1_1_480w/public/PoliSci_Carlson_T_P1322772_0.jpg.webp 480w\" width=\"320\"/>\n",
       " <h3>\n",
       " <div><span>Taylor</span></div>\n",
       " <div><span>Carlson</span></div>\n",
       " </h3>\n",
       " </div>\n",
       " <div class=\"dept\">\n",
       "                                 Director of Graduate Studies Political Science\n",
       "                                   Associate Professor of Political Science<br>\n",
       " Weidenbaum Center Director of Survey Research\n",
       "                   </br></div>\n",
       " </article>,\n",
       " '\\n']"
      ]
     },
     "execution_count": 29,
     "metadata": {},
     "output_type": "execute_result"
    }
   ],
   "source": [
    "taylor.contents"
   ]
  },
  {
   "cell_type": "markdown",
   "metadata": {
    "editable": true,
    "slideshow": {
     "slide_type": "subslide"
    },
    "tags": []
   },
   "source": [
    "* This is an iterator\n",
    "* Remember: iterators are objects that we access with loops"
   ]
  },
  {
   "cell_type": "code",
   "execution_count": 30,
   "metadata": {
    "editable": true,
    "slideshow": {
     "slide_type": "fragment"
    },
    "tags": []
   },
   "outputs": [
    {
     "data": {
      "text/plain": [
       "<generator object Tag.children.<locals>.<genexpr> at 0x114d61900>"
      ]
     },
     "execution_count": 30,
     "metadata": {},
     "output_type": "execute_result"
    }
   ],
   "source": [
    "taylor.children"
   ]
  },
  {
   "cell_type": "markdown",
   "metadata": {
    "editable": true,
    "slideshow": {
     "slide_type": "fragment"
    },
    "tags": []
   },
   "source": [
    "5. Print all nested elements within 'taylor'"
   ]
  },
  {
   "cell_type": "code",
   "execution_count": 31,
   "metadata": {
    "editable": true,
    "slideshow": {
     "slide_type": "fragment"
    },
    "tags": []
   },
   "outputs": [
    {
     "name": "stdout",
     "output_type": "stream",
     "text": [
      "Child 0: \n",
      " \n",
      "\n",
      "Child 1: <article class=\"faculty-post\">\n",
      "<div class=\"image\">\n",
      "<img alt=\"Taylor Carlson\" height=\"320\" loading=\"lazy\" sizes=\"(max-width:480px) 85vw, 290px\" src=\"/sites/polisci.wustl.edu/files/styles/square_1_1_320w/public/PoliSci_Carlson_T_P1322772_0.jpg.webp\" srcset=\"https://polisci.wustl.edu/sites/polisci.wustl.edu/files/styles/square_1_1_190w/public/PoliSci_Carlson_T_P1322772_0.jpg.webp 190w, https://polisci.wustl.edu/sites/polisci.wustl.edu/files/styles/square_1_1_320w/public/PoliSci_Carlson_T_P1322772_0.jpg.webp 320w, https://polisci.wustl.edu/sites/polisci.wustl.edu/files/styles/square_1_1_480w/public/PoliSci_Carlson_T_P1322772_0.jpg.webp 480w\" width=\"320\"/>\n",
      "<h3>\n",
      "<div><span>Taylor</span></div>\n",
      "<div><span>Carlson</span></div>\n",
      "</h3>\n",
      "</div>\n",
      "<div class=\"dept\">\n",
      "                                Director of Graduate Studies Political Science\n",
      "                                  Associate Professor of Political Science<br>\n",
      "Weidenbaum Center Director of Survey Research\n",
      "                  </br></div>\n",
      "</article> \n",
      "\n",
      "Child 2: \n",
      " \n",
      "\n"
     ]
    }
   ],
   "source": [
    "# there is only one child element in this case\n",
    "for i, child in enumerate(taylor.children):\n",
    "    print(\"Child %d: %s\" % (i,child), '\\n') "
   ]
  },
  {
   "cell_type": "markdown",
   "metadata": {
    "editable": true,
    "slideshow": {
     "slide_type": "subslide"
    },
    "tags": []
   },
   "source": [
    "##### Let's now look at sibling tags of `taylor`"
   ]
  },
  {
   "cell_type": "code",
   "execution_count": 32,
   "metadata": {
    "editable": true,
    "slideshow": {
     "slide_type": "fragment"
    },
    "tags": []
   },
   "outputs": [],
   "source": [
    "# Siblings (Example):\n",
    "\n",
    "# <html>\n",
    "#   <body>\n",
    "#       <a>\n",
    "#         <b>\n",
    "#          text1\n",
    "#         </b>\n",
    "#         <c>\n",
    "#          text2\n",
    "#         </c>\n",
    "#       </a>\n",
    "#   </body>\n",
    "# </html>\n",
    "\n",
    "\n",
    "# Which two tags are on the same level? "
   ]
  },
  {
   "cell_type": "markdown",
   "metadata": {
    "editable": true,
    "slideshow": {
     "slide_type": "subslide"
    },
    "tags": []
   },
   "source": [
    "* See siblings *after* `taylor` in the sequence of `<a>` tags"
   ]
  },
  {
   "cell_type": "code",
   "execution_count": 33,
   "metadata": {},
   "outputs": [
    {
     "name": "stdout",
     "output_type": "stream",
     "text": [
      "a View David Carter /people/david-carter\n",
      "a View Zeynep Ceren Topac /people/zeynep-ceren-topac\n"
     ]
    }
   ],
   "source": [
    "from bs4 import NavigableString\n",
    "\n",
    "\n",
    "siblings = [s for s in taylor.next_siblings if not isinstance(s, NavigableString)]\n",
    "for sib in siblings[:2]:\n",
    "    print(sib.name, sib.get(\"aria-label\"), sib.get(\"href\"))"
   ]
  },
  {
   "cell_type": "markdown",
   "metadata": {
    "editable": true,
    "slideshow": {
     "slide_type": "subslide"
    },
    "tags": []
   },
   "source": [
    "* Or see siblings *before* `taylor` in the sequence of `<a>` tags"
   ]
  },
  {
   "cell_type": "code",
   "execution_count": 34,
   "metadata": {},
   "outputs": [
    {
     "name": "stdout",
     "output_type": "stream",
     "text": [
      "a View Daniel  Butler /people/daniel-butler\n",
      "a View Christina L. Boyd /people/christina-l-boyd\n"
     ]
    }
   ],
   "source": [
    "siblings2 = [s for s in taylor.previous_siblings if not isinstance(s, NavigableString)]\n",
    "for sib in [siblings2[3], siblings2[5]]:\n",
    "    print(sib.name, sib.get(\"aria-label\"), sib.get(\"href\"))"
   ]
  },
  {
   "cell_type": "markdown",
   "metadata": {
    "editable": true,
    "slideshow": {
     "slide_type": "slide"
    },
    "tags": []
   },
   "source": [
    "#### 1.4 Crawler Detection"
   ]
  },
  {
   "cell_type": "markdown",
   "metadata": {
    "editable": true,
    "slideshow": {
     "slide_type": ""
    },
    "tags": []
   },
   "source": [
    "##### Crawlers are incredibly fast, but also easier to detect and block. "
   ]
  },
  {
   "cell_type": "markdown",
   "metadata": {
    "editable": true,
    "slideshow": {
     "slide_type": "fragment"
    },
    "tags": []
   },
   "source": [
    "You can incorporate some pauses to avoid detection. Strategies include: \n",
    "\n",
    "1. Using a random number generator to sleep for a random number of seconds\n",
    "2. After each iteration, sleep for a fixed number of seconds"
   ]
  },
  {
   "cell_type": "markdown",
   "metadata": {
    "editable": true,
    "slideshow": {
     "slide_type": "subslide"
    },
    "tags": []
   },
   "source": [
    "##### Import module `random` to generate random numbers, and module `time` to control the pauses in your code"
   ]
  },
  {
   "cell_type": "markdown",
   "metadata": {
    "editable": true,
    "slideshow": {
     "slide_type": "fragment"
    },
    "tags": []
   },
   "source": [
    "* Random-second pause approach"
   ]
  },
  {
   "cell_type": "code",
   "execution_count": 35,
   "metadata": {
    "editable": true,
    "slideshow": {
     "slide_type": "fragment"
    },
    "tags": []
   },
   "outputs": [
    {
     "name": "stdout",
     "output_type": "stream",
     "text": [
      "Pause Ended\n"
     ]
    }
   ],
   "source": [
    "import random\n",
    "import time\n",
    "\n",
    "# Script will pause for n seconds\n",
    "time.sleep(random.uniform(1, 5))\n",
    "print('Pause Ended')"
   ]
  },
  {
   "cell_type": "markdown",
   "metadata": {
    "editable": true,
    "slideshow": {
     "slide_type": "fragment"
    },
    "tags": []
   },
   "source": [
    "* Fixed-second pause approach"
   ]
  },
  {
   "cell_type": "code",
   "execution_count": 36,
   "metadata": {
    "editable": true,
    "slideshow": {
     "slide_type": "fragment"
    },
    "tags": []
   },
   "outputs": [
    {
     "name": "stdout",
     "output_type": "stream",
     "text": [
      "done\n"
     ]
    }
   ],
   "source": [
    "time.sleep(5)\n",
    "print('done')"
   ]
  },
  {
   "cell_type": "markdown",
   "metadata": {
    "editable": true,
    "slideshow": {
     "slide_type": "slide"
    },
    "tags": []
   },
   "source": [
    "#### 1.5 Remote Drivers"
   ]
  },
  {
   "cell_type": "markdown",
   "metadata": {
    "editable": true,
    "slideshow": {
     "slide_type": "fragment"
    },
    "tags": []
   },
   "source": [
    "##### Selenium is a “remote driver” of your favorite browser. "
   ]
  },
  {
   "cell_type": "markdown",
   "metadata": {
    "editable": true,
    "slideshow": {
     "slide_type": "fragment"
    },
    "tags": []
   },
   "source": [
    "* You can pretty much simulate behavior of a human “surfing the web”. \n",
    "* With the right tricks, the likelihood of tracking and blocking your “bot” decreases.\n",
    "* It also offers flexibility in terms of “unknown” items: you can even look by name of buttons in the page. "
   ]
  },
  {
   "cell_type": "markdown",
   "metadata": {
    "editable": true,
    "slideshow": {
     "slide_type": "fragment"
    },
    "tags": []
   },
   "source": [
    "##### There are some downsides though...\n",
    "  - It is slower\n",
    "  - It is dependent on your internet connection quality"
   ]
  },
  {
   "cell_type": "markdown",
   "metadata": {
    "editable": true,
    "slideshow": {
     "slide_type": "subslide"
    },
    "tags": []
   },
   "source": [
    "##### Let's walk through an example using Selenium"
   ]
  },
  {
   "cell_type": "markdown",
   "metadata": {
    "editable": true,
    "slideshow": {
     "slide_type": "fragment"
    },
    "tags": []
   },
   "source": [
    "* If you haven't already, make sure to install `Selenium` by running\n",
    "    * `pip install selenium` in terminal or command line, or\n",
    "    * `!pip install selenium` in a Jupyter notebook cell\n",
    "\n",
    "download appropriate web driver from browser, e.g. https://chromedriver.chromium.org/downloads\n"
   ]
  },
  {
   "cell_type": "code",
   "execution_count": 65,
   "metadata": {
    "editable": true,
    "slideshow": {
     "slide_type": "fragment"
    },
    "tags": []
   },
   "outputs": [],
   "source": [
    "from selenium import webdriver\n",
    "from selenium.webdriver.chrome.options import Options\n",
    "from selenium.webdriver.chrome.service import Service\n",
    "from selenium.webdriver.common.keys import Keys"
   ]
  },
  {
   "cell_type": "markdown",
   "metadata": {
    "editable": true,
    "slideshow": {
     "slide_type": "subslide"
    },
    "tags": []
   },
   "source": [
    "1. Give the path to your driver."
   ]
  },
  {
   "cell_type": "code",
   "execution_count": 66,
   "metadata": {
    "editable": true,
    "slideshow": {
     "slide_type": ""
    },
    "tags": []
   },
   "outputs": [],
   "source": [
    "import os"
   ]
  },
  {
   "cell_type": "code",
   "execution_count": 67,
   "metadata": {
    "editable": true,
    "slideshow": {
     "slide_type": ""
    },
    "tags": []
   },
   "outputs": [
    {
     "data": {
      "text/plain": [
       "'/Users/claro/Desktop/PythonCamp2025/Day02/Day02_Part02/Lecture'"
      ]
     },
     "execution_count": 67,
     "metadata": {},
     "output_type": "execute_result"
    }
   ],
   "source": [
    "os.getcwd()"
   ]
  },
  {
   "cell_type": "code",
   "execution_count": 68,
   "metadata": {
    "editable": true,
    "slideshow": {
     "slide_type": "fragment"
    },
    "tags": []
   },
   "outputs": [],
   "source": [
    "# # Interactive example:\n",
    "# driver_path = Service('/Users/almavelazquez/Documents/GitHub/PythonCamp2024/Day04/Lecture/chromedriver')\n",
    "# # if on Windows, may need to add '.exe' at the end of path\n",
    "# driver = webdriver.Chrome(service = driver_path)\n",
    "\n",
    "import time \n",
    "driver = webdriver.Chrome()"
   ]
  },
  {
   "cell_type": "markdown",
   "metadata": {
    "editable": true,
    "slideshow": {
     "slide_type": "fragment"
    },
    "tags": []
   },
   "source": [
    "2. Start the web driver"
   ]
  },
  {
   "cell_type": "code",
   "execution_count": 69,
   "metadata": {
    "editable": true,
    "slideshow": {
     "slide_type": "fragment"
    },
    "tags": []
   },
   "outputs": [],
   "source": [
    "driver.get('https://www.google.com')\n",
    "time.sleep(2) "
   ]
  },
  {
   "cell_type": "markdown",
   "metadata": {
    "editable": true,
    "slideshow": {
     "slide_type": "subslide"
    },
    "tags": []
   },
   "source": [
    "3. Find the search element and enter text"
   ]
  },
  {
   "cell_type": "code",
   "execution_count": 70,
   "metadata": {
    "editable": true,
    "slideshow": {
     "slide_type": "fragment"
    },
    "tags": []
   },
   "outputs": [],
   "source": [
    "search = driver.find_element(\"name\", \"q\")\n",
    "search.send_keys('WUSTL Political Science')\n",
    "time.sleep(2)\n",
    "# just go to the target site: https://polisci.wustl.edu/people/ \n",
    "# or use bing (less stricter)\n",
    "# or use google custom search \n",
    "# or.. at the risk of being blocked you could use undetected-chromedriver"
   ]
  },
  {
   "cell_type": "markdown",
   "metadata": {
    "editable": true,
    "slideshow": {
     "slide_type": "fragment"
    },
    "tags": []
   },
   "source": [
    "4. press Enter / Return (simulate this action using your driver)"
   ]
  },
  {
   "cell_type": "code",
   "execution_count": 71,
   "metadata": {
    "editable": true,
    "slideshow": {
     "slide_type": "fragment"
    },
    "tags": []
   },
   "outputs": [],
   "source": [
    "search.submit()\n",
    "time.sleep(4) "
   ]
  },
  {
   "cell_type": "markdown",
   "metadata": {
    "editable": true,
    "slideshow": {
     "slide_type": "fragment"
    },
    "tags": []
   },
   "source": [
    "5. Close the browser (make sure to always close your browser after web scraping)"
   ]
  },
  {
   "cell_type": "code",
   "execution_count": 72,
   "metadata": {
    "editable": true,
    "slideshow": {
     "slide_type": "fragment"
    },
    "tags": []
   },
   "outputs": [],
   "source": [
    "driver.close()"
   ]
  },
  {
   "cell_type": "markdown",
   "metadata": {
    "editable": true,
    "slideshow": {
     "slide_type": "subslide"
    },
    "tags": []
   },
   "source": [
    "##### Scraping Tips\n",
    "- Google Chrome is better to track nodes and page sources\n",
    "- Inspect the source and get to know your document/website!\n",
    "- Selenium—Use the ’Copy Xpath’ command if you’re having troubles (Find it in \"Inspect\" in Google Chrome)\n",
    "- Use time breaks to avoid being blocked and be polite\n",
    "- Check the Terms of Service (whether you obey them or not). Please don't get sued. \n",
    "\n",
    "\n",
    "##### More on Selenium: https://selenium-python.readthedocs.io/locating-elements.html"
   ]
  },
  {
   "cell_type": "markdown",
   "metadata": {
    "editable": true,
    "slideshow": {
     "slide_type": "slide"
    },
    "tags": []
   },
   "source": [
    "### 2. Reading and Writing Files "
   ]
  },
  {
   "cell_type": "markdown",
   "metadata": {
    "editable": true,
    "slideshow": {
     "slide_type": "fragment"
    },
    "tags": []
   },
   "source": [
    "#### 2.1 Reading Files"
   ]
  },
  {
   "cell_type": "markdown",
   "metadata": {
    "editable": true,
    "slideshow": {
     "slide_type": "fragment"
    },
    "tags": []
   },
   "source": [
    "1. Import libraries"
   ]
  },
  {
   "cell_type": "code",
   "execution_count": 12,
   "metadata": {
    "editable": true,
    "slideshow": {
     "slide_type": "fragment"
    },
    "tags": []
   },
   "outputs": [],
   "source": [
    "import os"
   ]
  },
  {
   "cell_type": "markdown",
   "metadata": {
    "editable": true,
    "slideshow": {
     "slide_type": "fragment"
    },
    "tags": []
   },
   "source": [
    "2. View your working directory"
   ]
  },
  {
   "cell_type": "code",
   "execution_count": 13,
   "metadata": {
    "editable": true,
    "slideshow": {
     "slide_type": "fragment"
    },
    "tags": []
   },
   "outputs": [],
   "source": [
    "os.getcwd()\n",
    "import sys\n"
   ]
  },
  {
   "cell_type": "markdown",
   "metadata": {
    "editable": true,
    "slideshow": {
     "slide_type": "fragment"
    },
    "tags": []
   },
   "source": [
    "3. Set your working directory "
   ]
  },
  {
   "cell_type": "code",
   "execution_count": 19,
   "metadata": {
    "editable": true,
    "slideshow": {
     "slide_type": "fragment"
    },
    "tags": []
   },
   "outputs": [],
   "source": [
    "os.chdir('/Users/claro/Desktop/PythonCamp2025/Day02/Day02_Part02/Lecture')"
   ]
  },
  {
   "cell_type": "markdown",
   "metadata": {
    "editable": true,
    "slideshow": {
     "slide_type": "subslide"
    },
    "tags": []
   },
   "source": [
    "4. Read lines from the file"
   ]
  },
  {
   "cell_type": "code",
   "execution_count": 20,
   "metadata": {
    "editable": true,
    "slideshow": {
     "slide_type": "fragment"
    },
    "tags": []
   },
   "outputs": [
    {
     "name": "stdout",
     "output_type": "stream",
     "text": [
      "Here is line 1.\n",
      "Here is line 2.\n",
      "This is the final line.\n"
     ]
    }
   ],
   "source": [
    "# Read all lines as one string\n",
    "with open('readfile.txt') as f:\n",
    "  the_whole_thing = f.read()\n",
    "  print(the_whole_thing)"
   ]
  },
  {
   "cell_type": "code",
   "execution_count": 21,
   "metadata": {
    "editable": true,
    "slideshow": {
     "slide_type": "fragment"
    },
    "tags": []
   },
   "outputs": [
    {
     "name": "stdout",
     "output_type": "stream",
     "text": [
      "Here is line 1.\n",
      "\n",
      "Here is line 2.\n",
      "\n",
      "This is the final line.\n"
     ]
    }
   ],
   "source": [
    "# Read line by line\n",
    "with open('readfile.txt') as f:\n",
    "  lines_list = f.readlines()\n",
    "  for l in lines_list:\n",
    "    print(l)"
   ]
  },
  {
   "cell_type": "code",
   "execution_count": 22,
   "metadata": {
    "editable": true,
    "slideshow": {
     "slide_type": "subslide"
    },
    "tags": []
   },
   "outputs": [
    {
     "name": "stdout",
     "output_type": "stream",
     "text": [
      "Here is line 1.\n",
      "\n",
      "Here is line 2.\n",
      "\n",
      "This is the final line.\n"
     ]
    }
   ],
   "source": [
    "# More efficiently, we can loop over the file object (i.e. we don't need the variable lines)\n",
    "with open('readfile.txt') as f:   \n",
    "  for l in f:\n",
    "    print(l)"
   ]
  },
  {
   "cell_type": "code",
   "execution_count": 23,
   "metadata": {
    "editable": true,
    "slideshow": {
     "slide_type": "fragment"
    },
    "tags": []
   },
   "outputs": [
    {
     "name": "stdout",
     "output_type": "stream",
     "text": [
      "Here is line 1.\n",
      "Here is line 2.\n",
      "This is the final line.\n"
     ]
    }
   ],
   "source": [
    "# We can also manually open and close files\n",
    "# I never do this\n",
    "f =  open('readfile.txt')\n",
    "print(f.read())\n",
    "f.close()"
   ]
  },
  {
   "cell_type": "markdown",
   "metadata": {
    "editable": true,
    "slideshow": {
     "slide_type": "subslide"
    },
    "tags": []
   },
   "source": [
    "Tips: \n",
    "- Try to minimize the number of times you open and close flies\n",
    "- It is very expensive and consumes limited resources --> if too many, it leads to errors \n",
    "\n",
    "_Source: https://www.geeksforgeeks.org/context-manager-in-python/_\n"
   ]
  },
  {
   "cell_type": "code",
   "execution_count": 24,
   "metadata": {
    "editable": true,
    "slideshow": {
     "slide_type": "skip"
    },
    "tags": []
   },
   "outputs": [
    {
     "ename": "OSError",
     "evalue": "[Errno 24] Too many open files: 'readfile.txt'",
     "output_type": "error",
     "traceback": [
      "\u001b[31m---------------------------------------------------------------------------\u001b[39m",
      "\u001b[31mOSError\u001b[39m                                   Traceback (most recent call last)",
      "\u001b[36mCell\u001b[39m\u001b[36m \u001b[39m\u001b[32mIn[24]\u001b[39m\u001b[32m, line 3\u001b[39m\n\u001b[32m      1\u001b[39m file_descriptors = [] \n\u001b[32m      2\u001b[39m \u001b[38;5;28;01mfor\u001b[39;00m x \u001b[38;5;129;01min\u001b[39;00m \u001b[38;5;28mrange\u001b[39m(\u001b[32m100000000000\u001b[39m): \n\u001b[32m----> \u001b[39m\u001b[32m3\u001b[39m     file_descriptors.append(\u001b[38;5;28;43mopen\u001b[39;49m\u001b[43m(\u001b[49m\u001b[33;43m'\u001b[39;49m\u001b[33;43mreadfile.txt\u001b[39;49m\u001b[33;43m'\u001b[39;49m\u001b[43m)\u001b[49m) \n",
      "\u001b[36mFile \u001b[39m\u001b[32m~/Library/Python/3.13/lib/python/site-packages/IPython/core/interactiveshell.py:343\u001b[39m, in \u001b[36m_modified_open\u001b[39m\u001b[34m(file, *args, **kwargs)\u001b[39m\n\u001b[32m    336\u001b[39m \u001b[38;5;28;01mif\u001b[39;00m file \u001b[38;5;129;01min\u001b[39;00m {\u001b[32m0\u001b[39m, \u001b[32m1\u001b[39m, \u001b[32m2\u001b[39m}:\n\u001b[32m    337\u001b[39m     \u001b[38;5;28;01mraise\u001b[39;00m \u001b[38;5;167;01mValueError\u001b[39;00m(\n\u001b[32m    338\u001b[39m         \u001b[33mf\u001b[39m\u001b[33m\"\u001b[39m\u001b[33mIPython won\u001b[39m\u001b[33m'\u001b[39m\u001b[33mt let you open fd=\u001b[39m\u001b[38;5;132;01m{\u001b[39;00mfile\u001b[38;5;132;01m}\u001b[39;00m\u001b[33m by default \u001b[39m\u001b[33m\"\u001b[39m\n\u001b[32m    339\u001b[39m         \u001b[33m\"\u001b[39m\u001b[33mas it is likely to crash IPython. If you know what you are doing, \u001b[39m\u001b[33m\"\u001b[39m\n\u001b[32m    340\u001b[39m         \u001b[33m\"\u001b[39m\u001b[33myou can use builtins\u001b[39m\u001b[33m'\u001b[39m\u001b[33m open.\u001b[39m\u001b[33m\"\u001b[39m\n\u001b[32m    341\u001b[39m     )\n\u001b[32m--> \u001b[39m\u001b[32m343\u001b[39m \u001b[38;5;28;01mreturn\u001b[39;00m \u001b[43mio_open\u001b[49m\u001b[43m(\u001b[49m\u001b[43mfile\u001b[49m\u001b[43m,\u001b[49m\u001b[43m \u001b[49m\u001b[43m*\u001b[49m\u001b[43margs\u001b[49m\u001b[43m,\u001b[49m\u001b[43m \u001b[49m\u001b[43m*\u001b[49m\u001b[43m*\u001b[49m\u001b[43mkwargs\u001b[49m\u001b[43m)\u001b[49m\n",
      "\u001b[31mOSError\u001b[39m: [Errno 24] Too many open files: 'readfile.txt'"
     ]
    }
   ],
   "source": [
    " file_descriptors = [] \n",
    " for x in range(100000000000): \n",
    "     file_descriptors.append(open('readfile.txt')) "
   ]
  },
  {
   "cell_type": "markdown",
   "metadata": {
    "editable": true,
    "slideshow": {
     "slide_type": "slide"
    },
    "tags": []
   },
   "source": [
    "#### 2.2 Writing Files"
   ]
  },
  {
   "cell_type": "markdown",
   "metadata": {
    "editable": true,
    "slideshow": {
     "slide_type": "fragment"
    },
    "tags": []
   },
   "source": [
    "1. Writing files is easy, but be careful not to overwrite the content you actually want\n",
    "2. See https://stackabuse.com/file-handling-in-python/ for more options"
   ]
  },
  {
   "cell_type": "markdown",
   "metadata": {
    "editable": true,
    "slideshow": {
     "slide_type": "fragment"
    },
    "tags": []
   },
   "source": [
    "* We need to use the option 'w'"
   ]
  },
  {
   "cell_type": "code",
   "execution_count": 29,
   "metadata": {
    "editable": true,
    "slideshow": {
     "slide_type": "fragment"
    },
    "tags": []
   },
   "outputs": [
    {
     "ename": "OSError",
     "evalue": "[Errno 24] Too many open files: 'test_writefile.txt'",
     "output_type": "error",
     "traceback": [
      "\u001b[31m---------------------------------------------------------------------------\u001b[39m",
      "\u001b[31mOSError\u001b[39m                                   Traceback (most recent call last)",
      "\u001b[36mCell\u001b[39m\u001b[36m \u001b[39m\u001b[32mIn[29]\u001b[39m\u001b[32m, line 1\u001b[39m\n\u001b[32m----> \u001b[39m\u001b[32m1\u001b[39m \u001b[38;5;28;01mwith\u001b[39;00m \u001b[38;5;28;43mopen\u001b[39;49m\u001b[43m(\u001b[49m\u001b[33;43m'\u001b[39;49m\u001b[33;43mtest_writefile.txt\u001b[39;49m\u001b[33;43m'\u001b[39;49m\u001b[43m,\u001b[49m\u001b[43m \u001b[49m\u001b[33;43m'\u001b[39;49m\u001b[33;43mw\u001b[39;49m\u001b[33;43m'\u001b[39;49m\u001b[43m)\u001b[49m \u001b[38;5;28;01mas\u001b[39;00m f:\n\u001b[32m      2\u001b[39m     f.write(\u001b[33m\"\u001b[39m\u001b[33mHi guys.\u001b[39m\u001b[38;5;130;01m\\n\u001b[39;00m\u001b[33m\"\u001b[39m)\n\u001b[32m      3\u001b[39m     f.write(\u001b[33m\"\u001b[39m\u001b[33mDoes this go on the second line?\u001b[39m\u001b[38;5;130;01m\\n\u001b[39;00m\u001b[33m\"\u001b[39m)\n",
      "\u001b[36mFile \u001b[39m\u001b[32m~/Library/Python/3.13/lib/python/site-packages/IPython/core/interactiveshell.py:343\u001b[39m, in \u001b[36m_modified_open\u001b[39m\u001b[34m(file, *args, **kwargs)\u001b[39m\n\u001b[32m    336\u001b[39m \u001b[38;5;28;01mif\u001b[39;00m file \u001b[38;5;129;01min\u001b[39;00m {\u001b[32m0\u001b[39m, \u001b[32m1\u001b[39m, \u001b[32m2\u001b[39m}:\n\u001b[32m    337\u001b[39m     \u001b[38;5;28;01mraise\u001b[39;00m \u001b[38;5;167;01mValueError\u001b[39;00m(\n\u001b[32m    338\u001b[39m         \u001b[33mf\u001b[39m\u001b[33m\"\u001b[39m\u001b[33mIPython won\u001b[39m\u001b[33m'\u001b[39m\u001b[33mt let you open fd=\u001b[39m\u001b[38;5;132;01m{\u001b[39;00mfile\u001b[38;5;132;01m}\u001b[39;00m\u001b[33m by default \u001b[39m\u001b[33m\"\u001b[39m\n\u001b[32m    339\u001b[39m         \u001b[33m\"\u001b[39m\u001b[33mas it is likely to crash IPython. If you know what you are doing, \u001b[39m\u001b[33m\"\u001b[39m\n\u001b[32m    340\u001b[39m         \u001b[33m\"\u001b[39m\u001b[33myou can use builtins\u001b[39m\u001b[33m'\u001b[39m\u001b[33m open.\u001b[39m\u001b[33m\"\u001b[39m\n\u001b[32m    341\u001b[39m     )\n\u001b[32m--> \u001b[39m\u001b[32m343\u001b[39m \u001b[38;5;28;01mreturn\u001b[39;00m \u001b[43mio_open\u001b[49m\u001b[43m(\u001b[49m\u001b[43mfile\u001b[49m\u001b[43m,\u001b[49m\u001b[43m \u001b[49m\u001b[43m*\u001b[49m\u001b[43margs\u001b[49m\u001b[43m,\u001b[49m\u001b[43m \u001b[49m\u001b[43m*\u001b[49m\u001b[43m*\u001b[49m\u001b[43mkwargs\u001b[49m\u001b[43m)\u001b[49m\n",
      "\u001b[31mOSError\u001b[39m: [Errno 24] Too many open files: 'test_writefile.txt'"
     ]
    }
   ],
   "source": [
    "with open('test_writefile.txt', 'w') as f:\n",
    "    f.write(\"Hi guys.\\n\")\n",
    "    f.write(\"Does this go on the second line?\\n\")\n",
    "    f.writelines(['a\\n', 'b\\n', 'c\\n'])"
   ]
  },
  {
   "cell_type": "code",
   "execution_count": null,
   "metadata": {
    "editable": true,
    "slideshow": {
     "slide_type": ""
    },
    "tags": []
   },
   "outputs": [],
   "source": [
    "# We use 'a' to append new information to it\n",
    "with open('test_writefile.txt', 'a') as f:\n",
    "  f.write(\"I got appended!\")"
   ]
  },
  {
   "cell_type": "markdown",
   "metadata": {
    "editable": true,
    "slideshow": {
     "slide_type": "subslide"
    },
    "tags": []
   },
   "source": [
    "##### Writing CSV files (pre-pandas)"
   ]
  },
  {
   "cell_type": "markdown",
   "metadata": {
    "editable": true,
    "slideshow": {
     "slide_type": "fragment"
    },
    "tags": []
   },
   "source": [
    "1. Import csv"
   ]
  },
  {
   "cell_type": "code",
   "execution_count": null,
   "metadata": {
    "editable": true,
    "slideshow": {
     "slide_type": "fragment"
    },
    "tags": []
   },
   "outputs": [],
   "source": [
    "import csv"
   ]
  },
  {
   "cell_type": "markdown",
   "metadata": {
    "editable": true,
    "slideshow": {
     "slide_type": "fragment"
    },
    "tags": []
   },
   "source": [
    "2. Open a file stream and create a `csv` writer object"
   ]
  },
  {
   "cell_type": "code",
   "execution_count": null,
   "metadata": {
    "editable": true,
    "slideshow": {
     "slide_type": "fragment"
    },
    "tags": []
   },
   "outputs": [],
   "source": [
    "# Open a file stream and create a CSV writer object\n",
    "with open('test_writecsv.csv', 'w') as f:\n",
    "  my_writer = csv.writer(f)\n",
    "  for i in range(1, 100):\n",
    "    my_writer.writerow([i, i-1])"
   ]
  },
  {
   "cell_type": "markdown",
   "metadata": {
    "editable": true,
    "slideshow": {
     "slide_type": "subslide"
    },
    "tags": []
   },
   "source": [
    "3. Now read the `csv` file"
   ]
  },
  {
   "cell_type": "code",
   "execution_count": null,
   "metadata": {
    "editable": true,
    "scrolled": true,
    "slideshow": {
     "slide_type": "fragment"
    },
    "tags": []
   },
   "outputs": [
    {
     "name": "stdout",
     "output_type": "stream",
     "text": [
      "['1', '0'] \n",
      " ['2', '1'] \n",
      " ['3', '2'] \n",
      " ['4', '3']\n"
     ]
    }
   ],
   "source": [
    "with open('test_writecsv.csv', 'r') as f:\n",
    "  my_reader = csv.reader(f)\n",
    "  mydat = []\n",
    "  for row in my_reader:\n",
    "    mydat.append(row)\n",
    "print(mydat[0],\"\\n\", mydat[1],\"\\n\", mydat[2],\"\\n\", mydat[3])"
   ]
  },
  {
   "cell_type": "markdown",
   "metadata": {
    "editable": true,
    "slideshow": {
     "slide_type": "fragment"
    },
    "tags": []
   },
   "source": [
    "4. Add column names "
   ]
  },
  {
   "cell_type": "code",
   "execution_count": null,
   "metadata": {
    "editable": true,
    "slideshow": {
     "slide_type": "fragment"
    },
    "tags": []
   },
   "outputs": [],
   "source": [
    "# Note that we are writing a new file\n",
    "with open('test_csvfields.csv', 'w') as f:\n",
    "  my_writer = csv.DictWriter(f, fieldnames = (\"A\", \"B\"))\n",
    "  my_writer.writeheader()\n",
    "  for i in range(1, 100):\n",
    "    my_writer.writerow({\"B\":i, \"A\":i-1})"
   ]
  },
  {
   "cell_type": "markdown",
   "metadata": {
    "editable": true,
    "slideshow": {
     "slide_type": "subslide"
    },
    "tags": []
   },
   "source": [
    "5. Read the new file"
   ]
  },
  {
   "cell_type": "code",
   "execution_count": null,
   "metadata": {
    "editable": true,
    "scrolled": true,
    "slideshow": {
     "slide_type": "fragment"
    },
    "tags": []
   },
   "outputs": [
    {
     "name": "stdout",
     "output_type": "stream",
     "text": [
      "{'A': '0', 'B': '1'}\n",
      "{'A': '1', 'B': '2'}\n",
      "{'A': '2', 'B': '3'}\n",
      "{'A': '3', 'B': '4'}\n",
      "{'A': '4', 'B': '5'}\n"
     ]
    }
   ],
   "source": [
    "b = 0\n",
    "with open('test_csvfields.csv', 'r') as f:\n",
    "  my_reader = csv.DictReader(f)\n",
    "  for row in my_reader:\n",
    "      if b<5:\n",
    "          print(row)\n",
    "          b +=1"
   ]
  },
  {
   "cell_type": "markdown",
   "metadata": {
    "editable": true,
    "slideshow": {
     "slide_type": "subslide"
    },
    "tags": []
   },
   "source": [
    "##### Some Tips"
   ]
  },
  {
   "cell_type": "markdown",
   "metadata": {
    "editable": true,
    "slideshow": {
     "slide_type": "fragment"
    },
    "tags": []
   },
   "source": [
    "- Tip 1: We may find useful to save webpages for collecting data (to `.html` files)"
   ]
  },
  {
   "cell_type": "code",
   "execution_count": null,
   "metadata": {
    "editable": true,
    "slideshow": {
     "slide_type": "fragment"
    },
    "tags": []
   },
   "outputs": [],
   "source": [
    "import os"
   ]
  },
  {
   "cell_type": "code",
   "execution_count": null,
   "metadata": {},
   "outputs": [
    {
     "ename": "HTTPError",
     "evalue": "503 Server Error: Service Unavailable for url: https://polisci.wustl.edu/people/",
     "output_type": "error",
     "traceback": [
      "\u001b[31m---------------------------------------------------------------------------\u001b[39m",
      "\u001b[31mHTTPError\u001b[39m                                 Traceback (most recent call last)",
      "\u001b[36mCell\u001b[39m\u001b[36m \u001b[39m\u001b[32mIn[236]\u001b[39m\u001b[32m, line 16\u001b[39m\n\u001b[32m     13\u001b[39m     \u001b[38;5;28;01melse\u001b[39;00m:\n\u001b[32m     14\u001b[39m         \u001b[38;5;28mprint\u001b[39m(\u001b[33m\"\u001b[39m\u001b[33mCan\u001b[39m\u001b[33m'\u001b[39m\u001b[33mt overwrite file \u001b[39m\u001b[33m\"\u001b[39m + filename)\n\u001b[32m---> \u001b[39m\u001b[32m16\u001b[39m \u001b[43mdownload_page\u001b[49m\u001b[43m(\u001b[49m\u001b[33;43m\"\u001b[39;49m\u001b[33;43mhttps://polisci.wustl.edu/people/\u001b[39;49m\u001b[33;43m\"\u001b[39;49m\u001b[43m,\u001b[49m\u001b[43m \u001b[49m\u001b[33;43m\"\u001b[39;49m\u001b[33;43mpolisci_ppl.html\u001b[39;49m\u001b[33;43m\"\u001b[39;49m\u001b[43m)\u001b[49m\n",
      "\u001b[36mCell\u001b[39m\u001b[36m \u001b[39m\u001b[32mIn[236]\u001b[39m\u001b[32m, line 7\u001b[39m, in \u001b[36mdownload_page\u001b[39m\u001b[34m(address, filename, wait)\u001b[39m\n\u001b[32m      5\u001b[39m headers = {\u001b[33m\"\u001b[39m\u001b[33mUser-Agent\u001b[39m\u001b[33m\"\u001b[39m: \u001b[33m\"\u001b[39m\u001b[33mMozilla/5.0 Chrome/124 Safari/537.36\u001b[39m\u001b[33m\"\u001b[39m}\n\u001b[32m      6\u001b[39m r = requests.get(address, headers=headers)\n\u001b[32m----> \u001b[39m\u001b[32m7\u001b[39m \u001b[43mr\u001b[49m\u001b[43m.\u001b[49m\u001b[43mraise_for_status\u001b[49m\u001b[43m(\u001b[49m\u001b[43m)\u001b[49m  \u001b[38;5;66;03m# throw if error (e.g., 503)\u001b[39;00m\n\u001b[32m      9\u001b[39m \u001b[38;5;28;01mif\u001b[39;00m \u001b[38;5;129;01mnot\u001b[39;00m os.path.exists(filename):\n\u001b[32m     10\u001b[39m     \u001b[38;5;28;01mwith\u001b[39;00m \u001b[38;5;28mopen\u001b[39m(filename, \u001b[33m\"\u001b[39m\u001b[33mwb\u001b[39m\u001b[33m\"\u001b[39m) \u001b[38;5;28;01mas\u001b[39;00m f:\n",
      "\u001b[36mFile \u001b[39m\u001b[32m/Library/Frameworks/Python.framework/Versions/3.13/lib/python3.13/site-packages/requests/models.py:1026\u001b[39m, in \u001b[36mResponse.raise_for_status\u001b[39m\u001b[34m(self)\u001b[39m\n\u001b[32m   1021\u001b[39m     http_error_msg = (\n\u001b[32m   1022\u001b[39m         \u001b[33mf\u001b[39m\u001b[33m\"\u001b[39m\u001b[38;5;132;01m{\u001b[39;00m\u001b[38;5;28mself\u001b[39m.status_code\u001b[38;5;132;01m}\u001b[39;00m\u001b[33m Server Error: \u001b[39m\u001b[38;5;132;01m{\u001b[39;00mreason\u001b[38;5;132;01m}\u001b[39;00m\u001b[33m for url: \u001b[39m\u001b[38;5;132;01m{\u001b[39;00m\u001b[38;5;28mself\u001b[39m.url\u001b[38;5;132;01m}\u001b[39;00m\u001b[33m\"\u001b[39m\n\u001b[32m   1023\u001b[39m     )\n\u001b[32m   1025\u001b[39m \u001b[38;5;28;01mif\u001b[39;00m http_error_msg:\n\u001b[32m-> \u001b[39m\u001b[32m1026\u001b[39m     \u001b[38;5;28;01mraise\u001b[39;00m HTTPError(http_error_msg, response=\u001b[38;5;28mself\u001b[39m)\n",
      "\u001b[31mHTTPError\u001b[39m: 503 Server Error: Service Unavailable for url: https://polisci.wustl.edu/people/"
     ]
    }
   ],
   "source": [
    "import requests, time, random, os\n",
    "\n",
    "def download_page(address, filename, wait=5):\n",
    "    time.sleep(random.uniform(0, wait))\n",
    "    headers = {\"User-Agent\": \"Mozilla/5.0 Chrome/124 Safari/537.36\"}\n",
    "    r = requests.get(address, headers=headers)\n",
    "    r.raise_for_status()  # throw if error (e.g., 503)\n",
    "    \n",
    "    if not os.path.exists(filename):\n",
    "        with open(filename, \"wb\") as f:\n",
    "            f.write(r.content)\n",
    "        print(f\"Saved -> {filename}\")\n",
    "    else:\n",
    "        print(\"Can't overwrite file \" + filename)\n",
    "\n",
    "download_page(\"https://polisci.wustl.edu/people/\", \"polisci_ppl.html\")\n"
   ]
  },
  {
   "cell_type": "code",
   "execution_count": null,
   "metadata": {
    "editable": true,
    "slideshow": {
     "slide_type": "fragment"
    },
    "tags": []
   },
   "outputs": [
    {
     "ename": "HTTPError",
     "evalue": "HTTP Error 503: Service Unavailable",
     "output_type": "error",
     "traceback": [
      "\u001b[31m---------------------------------------------------------------------------\u001b[39m",
      "\u001b[31mHTTPError\u001b[39m                                 Traceback (most recent call last)",
      "\u001b[36mCell\u001b[39m\u001b[36m \u001b[39m\u001b[32mIn[151]\u001b[39m\u001b[32m, line 11\u001b[39m\n\u001b[32m      8\u001b[39m   \u001b[38;5;28;01melse\u001b[39;00m:\n\u001b[32m      9\u001b[39m     \u001b[38;5;28mprint\u001b[39m(\u001b[33m\"\u001b[39m\u001b[33mCan\u001b[39m\u001b[33m'\u001b[39m\u001b[33mt overwrite file \u001b[39m\u001b[33m\"\u001b[39m + filename)\n\u001b[32m---> \u001b[39m\u001b[32m11\u001b[39m \u001b[43mdownload_page\u001b[49m\u001b[43m(\u001b[49m\u001b[33;43m'\u001b[39;49m\u001b[33;43mhttps://polisci.wustl.edu/people/\u001b[39;49m\u001b[33;43m'\u001b[39;49m\u001b[43m,\u001b[49m\u001b[43m \u001b[49m\u001b[33;43m\"\u001b[39;49m\u001b[33;43mpolisci_ppl.html\u001b[39;49m\u001b[33;43m\"\u001b[39;49m\u001b[43m)\u001b[49m\n",
      "\u001b[36mCell\u001b[39m\u001b[36m \u001b[39m\u001b[32mIn[151]\u001b[39m\u001b[32m, line 3\u001b[39m, in \u001b[36mdownload_page\u001b[39m\u001b[34m(address, filename, wait)\u001b[39m\n\u001b[32m      1\u001b[39m \u001b[38;5;28;01mdef\u001b[39;00m\u001b[38;5;250m \u001b[39m\u001b[34mdownload_page\u001b[39m(address, filename, wait = \u001b[32m5\u001b[39m):\n\u001b[32m      2\u001b[39m   time.sleep(random.uniform(\u001b[32m0\u001b[39m,wait))\n\u001b[32m----> \u001b[39m\u001b[32m3\u001b[39m   page = \u001b[43murllib\u001b[49m\u001b[43m.\u001b[49m\u001b[43mrequest\u001b[49m\u001b[43m.\u001b[49m\u001b[43murlopen\u001b[49m\u001b[43m(\u001b[49m\u001b[43maddress\u001b[49m\u001b[43m)\u001b[49m\n\u001b[32m      4\u001b[39m   page_content = page.read()\n\u001b[32m      5\u001b[39m   \u001b[38;5;28;01mif\u001b[39;00m os.path.exists(filename) == \u001b[38;5;28;01mFalse\u001b[39;00m:\n",
      "\u001b[36mFile \u001b[39m\u001b[32m/Library/Frameworks/Python.framework/Versions/3.13/lib/python3.13/urllib/request.py:189\u001b[39m, in \u001b[36murlopen\u001b[39m\u001b[34m(url, data, timeout, context)\u001b[39m\n\u001b[32m    187\u001b[39m \u001b[38;5;28;01melse\u001b[39;00m:\n\u001b[32m    188\u001b[39m     opener = _opener\n\u001b[32m--> \u001b[39m\u001b[32m189\u001b[39m \u001b[38;5;28;01mreturn\u001b[39;00m \u001b[43mopener\u001b[49m\u001b[43m.\u001b[49m\u001b[43mopen\u001b[49m\u001b[43m(\u001b[49m\u001b[43murl\u001b[49m\u001b[43m,\u001b[49m\u001b[43m \u001b[49m\u001b[43mdata\u001b[49m\u001b[43m,\u001b[49m\u001b[43m \u001b[49m\u001b[43mtimeout\u001b[49m\u001b[43m)\u001b[49m\n",
      "\u001b[36mFile \u001b[39m\u001b[32m/Library/Frameworks/Python.framework/Versions/3.13/lib/python3.13/urllib/request.py:495\u001b[39m, in \u001b[36mOpenerDirector.open\u001b[39m\u001b[34m(self, fullurl, data, timeout)\u001b[39m\n\u001b[32m    493\u001b[39m \u001b[38;5;28;01mfor\u001b[39;00m processor \u001b[38;5;129;01min\u001b[39;00m \u001b[38;5;28mself\u001b[39m.process_response.get(protocol, []):\n\u001b[32m    494\u001b[39m     meth = \u001b[38;5;28mgetattr\u001b[39m(processor, meth_name)\n\u001b[32m--> \u001b[39m\u001b[32m495\u001b[39m     response = \u001b[43mmeth\u001b[49m\u001b[43m(\u001b[49m\u001b[43mreq\u001b[49m\u001b[43m,\u001b[49m\u001b[43m \u001b[49m\u001b[43mresponse\u001b[49m\u001b[43m)\u001b[49m\n\u001b[32m    497\u001b[39m \u001b[38;5;28;01mreturn\u001b[39;00m response\n",
      "\u001b[36mFile \u001b[39m\u001b[32m/Library/Frameworks/Python.framework/Versions/3.13/lib/python3.13/urllib/request.py:604\u001b[39m, in \u001b[36mHTTPErrorProcessor.http_response\u001b[39m\u001b[34m(self, request, response)\u001b[39m\n\u001b[32m    601\u001b[39m \u001b[38;5;66;03m# According to RFC 2616, \"2xx\" code indicates that the client's\u001b[39;00m\n\u001b[32m    602\u001b[39m \u001b[38;5;66;03m# request was successfully received, understood, and accepted.\u001b[39;00m\n\u001b[32m    603\u001b[39m \u001b[38;5;28;01mif\u001b[39;00m \u001b[38;5;129;01mnot\u001b[39;00m (\u001b[32m200\u001b[39m <= code < \u001b[32m300\u001b[39m):\n\u001b[32m--> \u001b[39m\u001b[32m604\u001b[39m     response = \u001b[38;5;28;43mself\u001b[39;49m\u001b[43m.\u001b[49m\u001b[43mparent\u001b[49m\u001b[43m.\u001b[49m\u001b[43merror\u001b[49m\u001b[43m(\u001b[49m\n\u001b[32m    605\u001b[39m \u001b[43m        \u001b[49m\u001b[33;43m'\u001b[39;49m\u001b[33;43mhttp\u001b[39;49m\u001b[33;43m'\u001b[39;49m\u001b[43m,\u001b[49m\u001b[43m \u001b[49m\u001b[43mrequest\u001b[49m\u001b[43m,\u001b[49m\u001b[43m \u001b[49m\u001b[43mresponse\u001b[49m\u001b[43m,\u001b[49m\u001b[43m \u001b[49m\u001b[43mcode\u001b[49m\u001b[43m,\u001b[49m\u001b[43m \u001b[49m\u001b[43mmsg\u001b[49m\u001b[43m,\u001b[49m\u001b[43m \u001b[49m\u001b[43mhdrs\u001b[49m\u001b[43m)\u001b[49m\n\u001b[32m    607\u001b[39m \u001b[38;5;28;01mreturn\u001b[39;00m response\n",
      "\u001b[36mFile \u001b[39m\u001b[32m/Library/Frameworks/Python.framework/Versions/3.13/lib/python3.13/urllib/request.py:533\u001b[39m, in \u001b[36mOpenerDirector.error\u001b[39m\u001b[34m(self, proto, *args)\u001b[39m\n\u001b[32m    531\u001b[39m \u001b[38;5;28;01mif\u001b[39;00m http_err:\n\u001b[32m    532\u001b[39m     args = (\u001b[38;5;28mdict\u001b[39m, \u001b[33m'\u001b[39m\u001b[33mdefault\u001b[39m\u001b[33m'\u001b[39m, \u001b[33m'\u001b[39m\u001b[33mhttp_error_default\u001b[39m\u001b[33m'\u001b[39m) + orig_args\n\u001b[32m--> \u001b[39m\u001b[32m533\u001b[39m     \u001b[38;5;28;01mreturn\u001b[39;00m \u001b[38;5;28;43mself\u001b[39;49m\u001b[43m.\u001b[49m\u001b[43m_call_chain\u001b[49m\u001b[43m(\u001b[49m\u001b[43m*\u001b[49m\u001b[43margs\u001b[49m\u001b[43m)\u001b[49m\n",
      "\u001b[36mFile \u001b[39m\u001b[32m/Library/Frameworks/Python.framework/Versions/3.13/lib/python3.13/urllib/request.py:466\u001b[39m, in \u001b[36mOpenerDirector._call_chain\u001b[39m\u001b[34m(self, chain, kind, meth_name, *args)\u001b[39m\n\u001b[32m    464\u001b[39m \u001b[38;5;28;01mfor\u001b[39;00m handler \u001b[38;5;129;01min\u001b[39;00m handlers:\n\u001b[32m    465\u001b[39m     func = \u001b[38;5;28mgetattr\u001b[39m(handler, meth_name)\n\u001b[32m--> \u001b[39m\u001b[32m466\u001b[39m     result = \u001b[43mfunc\u001b[49m\u001b[43m(\u001b[49m\u001b[43m*\u001b[49m\u001b[43margs\u001b[49m\u001b[43m)\u001b[49m\n\u001b[32m    467\u001b[39m     \u001b[38;5;28;01mif\u001b[39;00m result \u001b[38;5;129;01mis\u001b[39;00m \u001b[38;5;129;01mnot\u001b[39;00m \u001b[38;5;28;01mNone\u001b[39;00m:\n\u001b[32m    468\u001b[39m         \u001b[38;5;28;01mreturn\u001b[39;00m result\n",
      "\u001b[36mFile \u001b[39m\u001b[32m/Library/Frameworks/Python.framework/Versions/3.13/lib/python3.13/urllib/request.py:613\u001b[39m, in \u001b[36mHTTPDefaultErrorHandler.http_error_default\u001b[39m\u001b[34m(self, req, fp, code, msg, hdrs)\u001b[39m\n\u001b[32m    612\u001b[39m \u001b[38;5;28;01mdef\u001b[39;00m\u001b[38;5;250m \u001b[39m\u001b[34mhttp_error_default\u001b[39m(\u001b[38;5;28mself\u001b[39m, req, fp, code, msg, hdrs):\n\u001b[32m--> \u001b[39m\u001b[32m613\u001b[39m     \u001b[38;5;28;01mraise\u001b[39;00m HTTPError(req.full_url, code, msg, hdrs, fp)\n",
      "\u001b[31mHTTPError\u001b[39m: HTTP Error 503: Service Unavailable"
     ]
    }
   ],
   "source": [
    "def download_page(address, filename, wait = 5):\n",
    "  time.sleep(random.uniform(0,wait))\n",
    "  \n",
    "  page = urllib.request.urlopen(address)\n",
    "  page_content = page.read()\n",
    "  if os.path.exists(filename) == False:\n",
    "    with open(filename, 'w') as p_html:\n",
    "      p_html.write(str(page_content)) # needed to cast as string\n",
    "  else:\n",
    "    print(\"Can't overwrite file \" + filename)\n",
    "\n",
    "download_page('https://polisci.wustl.edu/people/', \"polisci_ppl.html\")"
   ]
  },
  {
   "cell_type": "code",
   "execution_count": 58,
   "metadata": {},
   "outputs": [
    {
     "name": "stdout",
     "output_type": "stream",
     "text": [
      "HTTP error: 503 Server Error: Service Unavailable for url: https://polisci.wustl.edu/people/\n"
     ]
    }
   ],
   "source": [
    "import requests, time, random, os\n",
    "\n",
    "def download_page(address, filename, wait=5):\n",
    "    time.sleep(random.uniform(0, wait))\n",
    "    headers = {\"User-Agent\": \"Mozilla/5.0 Chrome/124 Safari/537.36\"}\n",
    "    try:\n",
    "        r = requests.get(address, headers=headers)\n",
    "        r.raise_for_status()  # throw if error (e.g., 503)\n",
    "        if not os.path.exists(filename):\n",
    "            with open(filename, \"wb\") as f:\n",
    "                f.write(r.content)\n",
    "            print(f\"Saved -> {filename}\")\n",
    "        else:\n",
    "            print(\"Can't overwrite file \" + filename)\n",
    "    except requests.exceptions.HTTPError as e:\n",
    "        print(f\"HTTP error: {e}\")\n",
    "    except Exception as e:\n",
    "        print(f\"Other error: {e}\")\n",
    "\n",
    "download_page(\"https://polisci.wustl.edu/people/\", \"polisci_ppl.html\")"
   ]
  },
  {
   "cell_type": "code",
   "execution_count": 63,
   "metadata": {},
   "outputs": [
    {
     "name": "stdout",
     "output_type": "stream",
     "text": [
      "Collecting playwright\n",
      "  Downloading playwright-1.54.0-py3-none-macosx_11_0_arm64.whl.metadata (3.5 kB)\n",
      "  Downloading playwright-1.54.0-py3-none-macosx_11_0_arm64.whl.metadata (3.5 kB)\n",
      "Collecting pyee<14,>=13 (from playwright)\n",
      "Collecting pyee<14,>=13 (from playwright)\n",
      "  Downloading pyee-13.0.0-py3-none-any.whl.metadata (2.9 kB)\n",
      "  Downloading pyee-13.0.0-py3-none-any.whl.metadata (2.9 kB)\n",
      "Collecting greenlet<4.0.0,>=3.1.1 (from playwright)\n",
      "Collecting greenlet<4.0.0,>=3.1.1 (from playwright)\n",
      "  Downloading greenlet-3.2.4-cp313-cp313-macosx_11_0_universal2.whl.metadata (4.1 kB)\n",
      "Requirement already satisfied: typing-extensions in /Library/Frameworks/Python.framework/Versions/3.13/lib/python3.13/site-packages (from pyee<14,>=13->playwright) (4.14.1)\n",
      "  Downloading greenlet-3.2.4-cp313-cp313-macosx_11_0_universal2.whl.metadata (4.1 kB)\n",
      "Requirement already satisfied: typing-extensions in /Library/Frameworks/Python.framework/Versions/3.13/lib/python3.13/site-packages (from pyee<14,>=13->playwright) (4.14.1)\n",
      "Downloading playwright-1.54.0-py3-none-macosx_11_0_arm64.whl (38.7 MB)\n",
      "\u001b[?25l   \u001b[90m━━━━━━━━━━━━━━━━━━━━━━━━━━━━━━━━━━━━━━━━\u001b[0m \u001b[32m0.0/38.7 MB\u001b[0m \u001b[31m?\u001b[0m eta \u001b[36m-:--:--\u001b[0mDownloading playwright-1.54.0-py3-none-macosx_11_0_arm64.whl (38.7 MB)\n",
      "\u001b[2K   \u001b[90m━━━━━━━━━━━━━━━━━━━━━━━━━━━━━━━━━━━━━━━━\u001b[0m \u001b[32m38.7/38.7 MB\u001b[0m \u001b[31m49.0 MB/s\u001b[0m eta \u001b[36m0:00:00\u001b[0ma \u001b[36m0:00:01\u001b[0m\n",
      "\u001b[?25hDownloading greenlet-3.2.4-cp313-cp313-macosx_11_0_universal2.whl (272 kB)\n",
      "\u001b[2K   \u001b[90m━━━━━━━━━━━━━━━━━━━━━━━━━━━━━━━━━━━━━━━━\u001b[0m \u001b[32m38.7/38.7 MB\u001b[0m \u001b[31m49.0 MB/s\u001b[0m eta \u001b[36m0:00:00\u001b[0m\n",
      "\u001b[?25hDownloading greenlet-3.2.4-cp313-cp313-macosx_11_0_universal2.whl (272 kB)\n",
      "Downloading pyee-13.0.0-py3-none-any.whl (15 kB)\n",
      "Downloading pyee-13.0.0-py3-none-any.whl (15 kB)\n",
      "Installing collected packages: pyee, greenlet, playwright\n",
      "Installing collected packages: pyee, greenlet, playwright\n",
      "Successfully installed greenlet-3.2.4 playwright-1.54.0 pyee-13.0.0\n",
      "\n",
      "\u001b[1m[\u001b[0m\u001b[34;49mnotice\u001b[0m\u001b[1;39;49m]\u001b[0m\u001b[39;49m A new release of pip is available: \u001b[0m\u001b[31;49m25.0.1\u001b[0m\u001b[39;49m -> \u001b[0m\u001b[32;49m25.2\u001b[0m\n",
      "\u001b[1m[\u001b[0m\u001b[34;49mnotice\u001b[0m\u001b[1;39;49m]\u001b[0m\u001b[39;49m To update, run: \u001b[0m\u001b[32;49mpip install --upgrade pip\u001b[0m\n",
      "Successfully installed greenlet-3.2.4 playwright-1.54.0 pyee-13.0.0\n",
      "\n",
      "\u001b[1m[\u001b[0m\u001b[34;49mnotice\u001b[0m\u001b[1;39;49m]\u001b[0m\u001b[39;49m A new release of pip is available: \u001b[0m\u001b[31;49m25.0.1\u001b[0m\u001b[39;49m -> \u001b[0m\u001b[32;49m25.2\u001b[0m\n",
      "\u001b[1m[\u001b[0m\u001b[34;49mnotice\u001b[0m\u001b[1;39;49m]\u001b[0m\u001b[39;49m To update, run: \u001b[0m\u001b[32;49mpip install --upgrade pip\u001b[0m\n",
      "Downloading Chromium 139.0.7258.5 (playwright build v1181)\u001b[2m from https://cdn.playwright.dev/dbazure/download/playwright/builds/chromium/1181/chromium-mac-arm64.zip\u001b[22m\n",
      "Downloading Chromium 139.0.7258.5 (playwright build v1181)\u001b[2m from https://cdn.playwright.dev/dbazure/download/playwright/builds/chromium/1181/chromium-mac-arm64.zip\u001b[22m\n",
      "\u001b[1G128.4 MiB [                    ] 0% 0.0s\u001b[0K\u001b[1G128.4 MiB [                    ] 0% 0.0s\u001b[0K\u001b[1G128.4 MiB [                    ] 0% 109.4s\u001b[0K\u001b[1G128.4 MiB [                    ] 0% 72.8s\u001b[0K\u001b[1G128.4 MiB [                    ] 0% 109.4s\u001b[0K\u001b[1G128.4 MiB [                    ] 0% 72.8s\u001b[0K\u001b[1G128.4 MiB [                    ] 0% 45.5s\u001b[0K\u001b[1G128.4 MiB [                    ] 0% 45.7s\u001b[0K\u001b[1G128.4 MiB [                    ] 0% 30.2s\u001b[0K\u001b[1G128.4 MiB [                    ] 0% 45.5s\u001b[0K\u001b[1G128.4 MiB [                    ] 0% 45.7s\u001b[0K\u001b[1G128.4 MiB [                    ] 0% 30.2s\u001b[0K\u001b[1G128.4 MiB [                    ] 0% 26.9s\u001b[0K\u001b[1G128.4 MiB [                    ] 0% 19.7s\u001b[0K\u001b[1G128.4 MiB [                    ] 0% 26.9s\u001b[0K\u001b[1G128.4 MiB [                    ] 0% 19.7s\u001b[0K\u001b[1G128.4 MiB [                    ] 1% 12.9s\u001b[0K\u001b[1G128.4 MiB [                    ] 1% 11.6s\u001b[0K\u001b[1G128.4 MiB [                    ] 2% 9.1s\u001b[0K\u001b[1G128.4 MiB [                    ] 1% 12.9s\u001b[0K\u001b[1G128.4 MiB [                    ] 1% 11.6s\u001b[0K\u001b[1G128.4 MiB [                    ] 2% 9.1s\u001b[0K\u001b[1G128.4 MiB [=                   ] 2% 7.3s\u001b[0K\u001b[1G128.4 MiB [=                   ] 3% 6.5s\u001b[0K\u001b[1G128.4 MiB [=                   ] 4% 5.7s\u001b[0K\u001b[1G128.4 MiB [=                   ] 4% 5.2s\u001b[0K\u001b[1G128.4 MiB [=                   ] 2% 7.3s\u001b[0K\u001b[1G128.4 MiB [=                   ] 3% 6.5s\u001b[0K\u001b[1G128.4 MiB [=                   ] 4% 5.7s\u001b[0K\u001b[1G128.4 MiB [=                   ] 4% 5.2s\u001b[0K\u001b[1G128.4 MiB [=                   ] 5% 4.9s\u001b[0K\u001b[1G128.4 MiB [=                   ] 6% 4.5s\u001b[0K\u001b[1G128.4 MiB [=                   ] 6% 4.3s\u001b[0K\u001b[1G128.4 MiB [=                   ] 5% 4.9s\u001b[0K\u001b[1G128.4 MiB [=                   ] 6% 4.5s\u001b[0K\u001b[1G128.4 MiB [=                   ] 6% 4.3s\u001b[0K\u001b[1G128.4 MiB [=                   ] 7% 4.1s\u001b[0K\u001b[1G128.4 MiB [==                  ] 8% 3.9s\u001b[0K\u001b[1G128.4 MiB [==                  ] 8% 3.8s\u001b[0K\u001b[1G128.4 MiB [=                   ] 7% 4.1s\u001b[0K\u001b[1G128.4 MiB [==                  ] 8% 3.9s\u001b[0K\u001b[1G128.4 MiB [==                  ] 8% 3.8s\u001b[0K\u001b[1G128.4 MiB [==                  ] 9% 3.6s\u001b[0K\u001b[1G128.4 MiB [==                  ] 10% 3.5s\u001b[0K\u001b[1G128.4 MiB [==                  ] 10% 3.4s\u001b[0K\u001b[1G128.4 MiB [==                  ] 9% 3.6s\u001b[0K\u001b[1G128.4 MiB [==                  ] 10% 3.5s\u001b[0K\u001b[1G128.4 MiB [==                  ] 10% 3.4s\u001b[0K\u001b[1G128.4 MiB [==                  ] 11% 3.3s\u001b[0K\u001b[1G128.4 MiB [==                  ] 12% 3.2s\u001b[0K\u001b[1G128.4 MiB [===                 ] 12% 3.1s\u001b[0K\u001b[1G128.4 MiB [==                  ] 11% 3.3s\u001b[0K\u001b[1G128.4 MiB [==                  ] 12% 3.2s\u001b[0K\u001b[1G128.4 MiB [===                 ] 12% 3.1s\u001b[0K\u001b[1G128.4 MiB [===                 ] 13% 3.0s\u001b[0K\u001b[1G128.4 MiB [===                 ] 14% 3.0s\u001b[0K\u001b[1G128.4 MiB [===                 ] 14% 2.9s\u001b[0K\u001b[1G128.4 MiB [===                 ] 15% 2.8s\u001b[0K\u001b[1G128.4 MiB [===                 ] 13% 3.0s\u001b[0K\u001b[1G128.4 MiB [===                 ] 14% 3.0s\u001b[0K\u001b[1G128.4 MiB [===                 ] 14% 2.9s\u001b[0K\u001b[1G128.4 MiB [===                 ] 15% 2.8s\u001b[0K\u001b[1G128.4 MiB [===                 ] 16% 2.8s\u001b[0K\u001b[1G128.4 MiB [===                 ] 16% 2.7s\u001b[0K\u001b[1G128.4 MiB [====                ] 17% 2.7s\u001b[0K\u001b[1G128.4 MiB [===                 ] 16% 2.8s\u001b[0K\u001b[1G128.4 MiB [===                 ] 16% 2.7s\u001b[0K\u001b[1G128.4 MiB [====                ] 17% 2.7s\u001b[0K\u001b[1G128.4 MiB [====                ] 18% 2.6s\u001b[0K\u001b[1G128.4 MiB [====                ] 19% 2.6s\u001b[0K\u001b[1G128.4 MiB [====                ] 19% 2.5s\u001b[0K\u001b[1G128.4 MiB [====                ] 18% 2.6s\u001b[0K\u001b[1G128.4 MiB [====                ] 19% 2.6s\u001b[0K\u001b[1G128.4 MiB [====                ] 19% 2.5s\u001b[0K\u001b[1G128.4 MiB [====                ] 20% 2.5s\u001b[0K\u001b[1G128.4 MiB [====                ] 21% 2.4s\u001b[0K\u001b[1G128.4 MiB [====                ] 20% 2.5s\u001b[0K\u001b[1G128.4 MiB [====                ] 21% 2.4s\u001b[0K\u001b[1G128.4 MiB [=====               ] 22% 2.4s\u001b[0K\u001b[1G128.4 MiB [=====               ] 23% 2.3s\u001b[0K\u001b[1G128.4 MiB [=====               ] 24% 2.3s\u001b[0K\u001b[1G128.4 MiB [=====               ] 22% 2.4s\u001b[0K\u001b[1G128.4 MiB [=====               ] 23% 2.3s\u001b[0K\u001b[1G128.4 MiB [=====               ] 24% 2.3s\u001b[0K\u001b[1G128.4 MiB [=====               ] 24% 2.2s\u001b[0K\u001b[1G128.4 MiB [=====               ] 25% 2.2s\u001b[0K\u001b[1G128.4 MiB [=====               ] 26% 2.2s\u001b[0K\u001b[1G128.4 MiB [=====               ] 24% 2.2s\u001b[0K\u001b[1G128.4 MiB [=====               ] 25% 2.2s\u001b[0K\u001b[1G128.4 MiB [=====               ] 26% 2.2s\u001b[0K\u001b[1G128.4 MiB [=====               ] 26% 2.1s\u001b[0K\u001b[1G128.4 MiB [======              ] 27% 2.1s\u001b[0K\u001b[1G128.4 MiB [======              ] 28% 2.1s\u001b[0K\u001b[1G128.4 MiB [======              ] 28% 2.0s\u001b[0K\u001b[1G128.4 MiB [=====               ] 26% 2.1s\u001b[0K\u001b[1G128.4 MiB [======              ] 27% 2.1s\u001b[0K\u001b[1G128.4 MiB [======              ] 28% 2.1s\u001b[0K\u001b[1G128.4 MiB [======              ] 28% 2.0s\u001b[0K\u001b[1G128.4 MiB [======              ] 29% 2.0s\u001b[0K\u001b[1G128.4 MiB [======              ] 30% 2.0s\u001b[0K\u001b[1G128.4 MiB [======              ] 29% 2.0s\u001b[0K\u001b[1G128.4 MiB [======              ] 30% 2.0s\u001b[0K\u001b[1G128.4 MiB [======              ] 31% 1.9s\u001b[0K\u001b[1G128.4 MiB [======              ] 32% 1.9s\u001b[0K\u001b[1G128.4 MiB [=======             ] 32% 1.9s\u001b[0K\u001b[1G128.4 MiB [======              ] 31% 1.9s\u001b[0K\u001b[1G128.4 MiB [======              ] 32% 1.9s\u001b[0K\u001b[1G128.4 MiB [=======             ] 32% 1.9s\u001b[0K\u001b[1G128.4 MiB [=======             ] 33% 1.9s\u001b[0K\u001b[1G128.4 MiB [=======             ] 34% 1.9s\u001b[0K\u001b[1G128.4 MiB [=======             ] 34% 1.8s\u001b[0K\u001b[1G128.4 MiB [=======             ] 33% 1.9s\u001b[0K\u001b[1G128.4 MiB [=======             ] 34% 1.9s\u001b[0K\u001b[1G128.4 MiB [=======             ] 34% 1.8s\u001b[0K\u001b[1G128.4 MiB [=======             ] 35% 1.8s\u001b[0K\u001b[1G128.4 MiB [=======             ] 36% 1.8s\u001b[0K\u001b[1G128.4 MiB [=======             ] 37% 1.7s\u001b[0K\u001b[1G128.4 MiB [=======             ] 35% 1.8s\u001b[0K\u001b[1G128.4 MiB [=======             ] 36% 1.8s\u001b[0K\u001b[1G128.4 MiB [=======             ] 37% 1.7s\u001b[0K\u001b[1G128.4 MiB [========            ] 37% 1.7s\u001b[0K\u001b[1G128.4 MiB [========            ] 38% 1.7s\u001b[0K\u001b[1G128.4 MiB [========            ] 39% 1.7s\u001b[0K\u001b[1G128.4 MiB [========            ] 37% 1.7s\u001b[0K\u001b[1G128.4 MiB [========            ] 38% 1.7s\u001b[0K\u001b[1G128.4 MiB [========            ] 39% 1.7s\u001b[0K\u001b[1G128.4 MiB [========            ] 40% 1.6s\u001b[0K\u001b[1G128.4 MiB [========            ] 41% 1.6s\u001b[0K\u001b[1G128.4 MiB [========            ] 40% 1.6s\u001b[0K\u001b[1G128.4 MiB [========            ] 41% 1.6s\u001b[0K\u001b[1G128.4 MiB [=========           ] 42% 1.6s\u001b[0K\u001b[1G128.4 MiB [=========           ] 43% 1.5s\u001b[0K\u001b[1G128.4 MiB [=========           ] 42% 1.6s\u001b[0K\u001b[1G128.4 MiB [=========           ] 43% 1.5s\u001b[0K\u001b[1G128.4 MiB [=========           ] 44% 1.5s\u001b[0K\u001b[1G128.4 MiB [=========           ] 45% 1.5s\u001b[0K\u001b[1G128.4 MiB [=========           ] 44% 1.5s\u001b[0K\u001b[1G128.4 MiB [=========           ] 45% 1.5s\u001b[0K\u001b[1G128.4 MiB [=========           ] 46% 1.4s\u001b[0K\u001b[1G128.4 MiB [=========           ] 47% 1.4s\u001b[0K\u001b[1G128.4 MiB [==========          ] 47% 1.4s\u001b[0K\u001b[1G128.4 MiB [=========           ] 46% 1.4s\u001b[0K\u001b[1G128.4 MiB [=========           ] 47% 1.4s\u001b[0K\u001b[1G128.4 MiB [==========          ] 47% 1.4s\u001b[0K\u001b[1G128.4 MiB [==========          ] 48% 1.4s\u001b[0K\u001b[1G128.4 MiB [==========          ] 49% 1.3s\u001b[0K\u001b[1G128.4 MiB [==========          ] 50% 1.3s\u001b[0K\u001b[1G128.4 MiB [==========          ] 48% 1.4s\u001b[0K\u001b[1G128.4 MiB [==========          ] 49% 1.3s\u001b[0K\u001b[1G128.4 MiB [==========          ] 50% 1.3s\u001b[0K\u001b[1G128.4 MiB [==========          ] 51% 1.3s\u001b[0K\u001b[1G128.4 MiB [==========          ] 52% 1.3s\u001b[0K\u001b[1G128.4 MiB [===========         ] 52% 1.3s\u001b[0K\u001b[1G128.4 MiB [==========          ] 51% 1.3s\u001b[0K\u001b[1G128.4 MiB [==========          ] 52% 1.3s\u001b[0K\u001b[1G128.4 MiB [===========         ] 52% 1.3s\u001b[0K\u001b[1G128.4 MiB [===========         ] 53% 1.2s\u001b[0K\u001b[1G128.4 MiB [===========         ] 54% 1.2s\u001b[0K\u001b[1G128.4 MiB [===========         ] 53% 1.2s\u001b[0K\u001b[1G128.4 MiB [===========         ] 54% 1.2s\u001b[0K\u001b[1G128.4 MiB [===========         ] 55% 1.2s\u001b[0K\u001b[1G128.4 MiB [===========         ] 56% 1.2s\u001b[0K\u001b[1G128.4 MiB [===========         ] 56% 1.1s\u001b[0K\u001b[1G128.4 MiB [===========         ] 55% 1.2s\u001b[0K\u001b[1G128.4 MiB [===========         ] 56% 1.2s\u001b[0K\u001b[1G128.4 MiB [===========         ] 56% 1.1s\u001b[0K\u001b[1G128.4 MiB [===========         ] 57% 1.1s\u001b[0K\u001b[1G128.4 MiB [============        ] 58% 1.1s\u001b[0K\u001b[1G128.4 MiB [===========         ] 57% 1.1s\u001b[0K\u001b[1G128.4 MiB [============        ] 58% 1.1s\u001b[0K\u001b[1G128.4 MiB [============        ] 59% 1.1s\u001b[0K\u001b[1G128.4 MiB [============        ] 60% 1.0s\u001b[0K\u001b[1G128.4 MiB [============        ] 61% 1.0s\u001b[0K\u001b[1G128.4 MiB [============        ] 59% 1.1s\u001b[0K\u001b[1G128.4 MiB [============        ] 60% 1.0s\u001b[0K\u001b[1G128.4 MiB [============        ] 61% 1.0s\u001b[0K\u001b[1G128.4 MiB [============        ] 62% 1.0s\u001b[0K\u001b[1G128.4 MiB [=============       ] 62% 1.0s\u001b[0K\u001b[1G128.4 MiB [=============       ] 63% 0.9s\u001b[0K\u001b[1G128.4 MiB [============        ] 62% 1.0s\u001b[0K\u001b[1G128.4 MiB [=============       ] 62% 1.0s\u001b[0K\u001b[1G128.4 MiB [=============       ] 63% 0.9s\u001b[0K\u001b[1G128.4 MiB [=============       ] 64% 0.9s\u001b[0K\u001b[1G128.4 MiB [=============       ] 65% 0.9s\u001b[0K\u001b[1G128.4 MiB [=============       ] 64% 0.9s\u001b[0K\u001b[1G128.4 MiB [=============       ] 65% 0.9s\u001b[0K\u001b[1G128.4 MiB [=============       ] 66% 0.9s\u001b[0K\u001b[1G128.4 MiB [==============      ] 67% 0.8s\u001b[0K\u001b[1G128.4 MiB [=============       ] 66% 0.9s\u001b[0K\u001b[1G128.4 MiB [==============      ] 67% 0.8s\u001b[0K\u001b[1G128.4 MiB [==============      ] 68% 0.8s\u001b[0K\u001b[1G128.4 MiB [==============      ] 69% 0.8s\u001b[0K\u001b[1G128.4 MiB [==============      ] 68% 0.8s\u001b[0K\u001b[1G128.4 MiB [==============      ] 69% 0.8s\u001b[0K\u001b[1G128.4 MiB [==============      ] 70% 0.8s\u001b[0K\u001b[1G128.4 MiB [==============      ] 71% 0.7s\u001b[0K\u001b[1G128.4 MiB [==============      ] 70% 0.8s\u001b[0K\u001b[1G128.4 MiB [==============      ] 71% 0.7s\u001b[0K\u001b[1G128.4 MiB [==============      ] 72% 0.7s\u001b[0K\u001b[1G128.4 MiB [===============     ] 73% 0.7s\u001b[0K\u001b[1G128.4 MiB [===============     ] 74% 0.7s\u001b[0K\u001b[1G128.4 MiB [==============      ] 72% 0.7s\u001b[0K\u001b[1G128.4 MiB [===============     ] 73% 0.7s\u001b[0K\u001b[1G128.4 MiB [===============     ] 74% 0.7s\u001b[0K\u001b[1G128.4 MiB [===============     ] 75% 0.6s\u001b[0K\u001b[1G128.4 MiB [===============     ] 76% 0.6s\u001b[0K\u001b[1G128.4 MiB [===============     ] 75% 0.6s\u001b[0K\u001b[1G128.4 MiB [===============     ] 76% 0.6s\u001b[0K\u001b[1G128.4 MiB [================    ] 77% 0.6s\u001b[0K\u001b[1G128.4 MiB [================    ] 78% 0.6s\u001b[0K\u001b[1G128.4 MiB [================    ] 77% 0.6s\u001b[0K\u001b[1G128.4 MiB [================    ] 78% 0.6s\u001b[0K\u001b[1G128.4 MiB [================    ] 78% 0.5s\u001b[0K\u001b[1G128.4 MiB [================    ] 79% 0.5s\u001b[0K\u001b[1G128.4 MiB [================    ] 80% 0.5s\u001b[0K\u001b[1G128.4 MiB [================    ] 78% 0.5s\u001b[0K\u001b[1G128.4 MiB [================    ] 79% 0.5s\u001b[0K\u001b[1G128.4 MiB [================    ] 80% 0.5s\u001b[0K\u001b[1G128.4 MiB [================    ] 81% 0.5s\u001b[0K\u001b[1G128.4 MiB [================    ] 82% 0.5s\u001b[0K\u001b[1G128.4 MiB [=================   ] 82% 0.4s\u001b[0K\u001b[1G128.4 MiB [================    ] 81% 0.5s\u001b[0K\u001b[1G128.4 MiB [================    ] 82% 0.5s\u001b[0K\u001b[1G128.4 MiB [=================   ] 82% 0.4s\u001b[0K\u001b[1G128.4 MiB [=================   ] 83% 0.4s\u001b[0K\u001b[1G128.4 MiB [=================   ] 84% 0.4s\u001b[0K\u001b[1G128.4 MiB [=================   ] 85% 0.4s\u001b[0K\u001b[1G128.4 MiB [=================   ] 83% 0.4s\u001b[0K\u001b[1G128.4 MiB [=================   ] 84% 0.4s\u001b[0K\u001b[1G128.4 MiB [=================   ] 85% 0.4s\u001b[0K\u001b[1G128.4 MiB [=================   ] 86% 0.3s\u001b[0K\u001b[1G128.4 MiB [=================   ] 87% 0.3s\u001b[0K\u001b[1G128.4 MiB [=================   ] 86% 0.3s\u001b[0K\u001b[1G128.4 MiB [=================   ] 87% 0.3s\u001b[0K\u001b[1G128.4 MiB [==================  ] 87% 0.3s\u001b[0K\u001b[1G128.4 MiB [==================  ] 88% 0.3s\u001b[0K\u001b[1G128.4 MiB [==================  ] 89% 0.3s\u001b[0K\u001b[1G128.4 MiB [==================  ] 87% 0.3s\u001b[0K\u001b[1G128.4 MiB [==================  ] 88% 0.3s\u001b[0K\u001b[1G128.4 MiB [==================  ] 89% 0.3s\u001b[0K\u001b[1G128.4 MiB [==================  ] 90% 0.2s\u001b[0K\u001b[1G128.4 MiB [==================  ] 91% 0.2s\u001b[0K\u001b[1G128.4 MiB [==================  ] 90% 0.2s\u001b[0K\u001b[1G128.4 MiB [==================  ] 91% 0.2s\u001b[0K\u001b[1G128.4 MiB [==================  ] 92% 0.2s\u001b[0K\u001b[1G128.4 MiB [=================== ] 93% 0.2s\u001b[0K\u001b[1G128.4 MiB [==================  ] 92% 0.2s\u001b[0K\u001b[1G128.4 MiB [=================== ] 93% 0.2s\u001b[0K\u001b[1G128.4 MiB [=================== ] 94% 0.1s\u001b[0K\u001b[1G128.4 MiB [=================== ] 95% 0.1s\u001b[0K\u001b[1G128.4 MiB [=================== ] 94% 0.1s\u001b[0K\u001b[1G128.4 MiB [=================== ] 95% 0.1s\u001b[0K\u001b[1G128.4 MiB [=================== ] 96% 0.1s\u001b[0K\u001b[1G128.4 MiB [=================== ] 97% 0.1s\u001b[0K\u001b[1G128.4 MiB [====================] 97% 0.1s\u001b[0K\u001b[1G128.4 MiB [====================] 98% 0.0s\u001b[0K\u001b[1G128.4 MiB [=================== ] 96% 0.1s\u001b[0K\u001b[1G128.4 MiB [=================== ] 97% 0.1s\u001b[0K\u001b[1G128.4 MiB [====================] 97% 0.1s\u001b[0K\u001b[1G128.4 MiB [====================] 98% 0.0s\u001b[0K\u001b[1G128.4 MiB [====================] 99% 0.0s\u001b[0K\u001b[1G128.4 MiB [====================] 100% 0.0s\u001b[0K\n",
      "\u001b[1G128.4 MiB [====================] 99% 0.0s\u001b[0K\u001b[1G128.4 MiB [====================] 100% 0.0s\u001b[0K\n",
      "Chromium 139.0.7258.5 (playwright build v1181) downloaded to /Users/claro/Library/Caches/ms-playwright/chromium-1181\n",
      "Downloading FFMPEG playwright build v1011\u001b[2m from https://cdn.playwright.dev/dbazure/download/playwright/builds/ffmpeg/1011/ffmpeg-mac-arm64.zip\u001b[22m\n",
      "Chromium 139.0.7258.5 (playwright build v1181) downloaded to /Users/claro/Library/Caches/ms-playwright/chromium-1181\n",
      "Downloading FFMPEG playwright build v1011\u001b[2m from https://cdn.playwright.dev/dbazure/download/playwright/builds/ffmpeg/1011/ffmpeg-mac-arm64.zip\u001b[22m\n",
      "\u001b[1G1 MiB [                    ] 0% 0.0s\u001b[0K\u001b[1G1 MiB [=                   ] 3% 1.0s\u001b[0K\u001b[1G1 MiB [                    ] 0% 0.0s\u001b[0K\u001b[1G1 MiB [=                   ] 3% 1.0s\u001b[0K\u001b[1G1 MiB [==                  ] 10% 0.6s\u001b[0K\u001b[1G1 MiB [==                  ] 10% 0.6s\u001b[0K\u001b[1G1 MiB [====                ] 20% 0.3s\u001b[0K\u001b[1G1 MiB [=====               ] 23% 0.3s\u001b[0K\u001b[1G1 MiB [========            ] 41% 0.2s\u001b[0K\u001b[1G1 MiB [====                ] 20% 0.3s\u001b[0K\u001b[1G1 MiB [=====               ] 23% 0.3s\u001b[0K\u001b[1G1 MiB [========            ] 41% 0.2s\u001b[0K\u001b[1G1 MiB [==========          ] 49% 0.2s\u001b[0K\u001b[1G1 MiB [=================   ] 83% 0.0s\u001b[0K\u001b[1G1 MiB [====================] 98% 0.0s\u001b[0K\u001b[1G1 MiB [====================] 100% 0.0s\u001b[0K\n",
      "\u001b[1G1 MiB [==========          ] 49% 0.2s\u001b[0K\u001b[1G1 MiB [=================   ] 83% 0.0s\u001b[0K\u001b[1G1 MiB [====================] 98% 0.0s\u001b[0K\u001b[1G1 MiB [====================] 100% 0.0s\u001b[0K\n",
      "FFMPEG playwright build v1011 downloaded to /Users/claro/Library/Caches/ms-playwright/ffmpeg-1011\n",
      "Downloading Chromium Headless Shell 139.0.7258.5 (playwright build v1181)\u001b[2m from https://cdn.playwright.dev/dbazure/download/playwright/builds/chromium/1181/chromium-headless-shell-mac-arm64.zip\u001b[22m\n",
      "FFMPEG playwright build v1011 downloaded to /Users/claro/Library/Caches/ms-playwright/ffmpeg-1011\n",
      "Downloading Chromium Headless Shell 139.0.7258.5 (playwright build v1181)\u001b[2m from https://cdn.playwright.dev/dbazure/download/playwright/builds/chromium/1181/chromium-headless-shell-mac-arm64.zip\u001b[22m\n",
      "\u001b[1G81.7 MiB [                    ] 0% 0.0s\u001b[0K\u001b[1G81.7 MiB [                    ] 0% 0.0s\u001b[0K\u001b[1G81.7 MiB [                    ] 0% 72.3s\u001b[0K\u001b[1G81.7 MiB [                    ] 0% 72.3s\u001b[0K\u001b[1G81.7 MiB [                    ] 0% 46.5s\u001b[0K\u001b[1G81.7 MiB [                    ] 0% 32.7s\u001b[0K\u001b[1G81.7 MiB [                    ] 0% 20.4s\u001b[0K\u001b[1G81.7 MiB [                    ] 0% 46.5s\u001b[0K\u001b[1G81.7 MiB [                    ] 0% 32.7s\u001b[0K\u001b[1G81.7 MiB [                    ] 0% 20.4s\u001b[0K\u001b[1G81.7 MiB [                    ] 0% 18.9s\u001b[0K\u001b[1G81.7 MiB [                    ] 1% 12.8s\u001b[0K\u001b[1G81.7 MiB [                    ] 0% 18.9s\u001b[0K\u001b[1G81.7 MiB [                    ] 1% 12.8s\u001b[0K\u001b[1G81.7 MiB [                    ] 1% 8.5s\u001b[0K\u001b[1G81.7 MiB [                    ] 2% 7.5s\u001b[0K\u001b[1G81.7 MiB [=                   ] 3% 5.7s\u001b[0K\u001b[1G81.7 MiB [                    ] 1% 8.5s\u001b[0K\u001b[1G81.7 MiB [                    ] 2% 7.5s\u001b[0K\u001b[1G81.7 MiB [=                   ] 3% 5.7s\u001b[0K\u001b[1G81.7 MiB [=                   ] 4% 4.8s\u001b[0K\u001b[1G81.7 MiB [=                   ] 5% 4.3s\u001b[0K\u001b[1G81.7 MiB [=                   ] 6% 3.8s\u001b[0K\u001b[1G\u001b[1G81.7 MiB [=                   ] 4% 4.8s\u001b[0K\u001b[1G81.7 MiB [=                   ] 5% 4.3s\u001b[0K\u001b[1G81.7 MiB [=                   ] 6% 3.8s\u001b[0K\u001b[1G81.7 MiB [=                   ] 7% 3.5s\u001b[0K\u001b[1G81.7 MiB [==                  ] 8% 3.2s\u001b[0K\u001b[1G81.7 MiB [==                  ] 9% 2.9s\u001b[0K\u001b[1G81.7 MiB [==                  ] 10% 2.7s\u001b[0K81.7 MiB [=                   ] 7% 3.5s\u001b[0K\u001b[1G81.7 MiB [==                  ] 8% 3.2s\u001b[0K\u001b[1G81.7 MiB [==                  ] 9% 2.9s\u001b[0K\u001b[1G81.7 MiB [==                  ] 10% 2.7s\u001b[0K\u001b[1G81.7 MiB [==                  ] 11% 2.6s\u001b[0K\u001b[1G81.7 MiB [==                  ] 12% 2.5s\u001b[0K\u001b[1G81.7 MiB [===                 ] 13% 2.3s\u001b[0K\u001b[1G81.7 MiB [==                  ] 11% 2.6s\u001b[0K\u001b[1G81.7 MiB [==                  ] 12% 2.5s\u001b[0K\u001b[1G81.7 MiB [===                 ] 13% 2.3s\u001b[0K\u001b[1G81.7 MiB [===                 ] 14% 2.3s\u001b[0K\u001b[1G81.7 MiB [===                 ] 15% 2.2s\u001b[0K\u001b[1G81.7 MiB [===                 ] 14% 2.3s\u001b[0K\u001b[1G81.7 MiB [===                 ] 15% 2.2s\u001b[0K\u001b[1G81.7 MiB [===                 ] 16% 2.3s\u001b[0K\u001b[1G81.7 MiB [====                ] 19% 1.9s\u001b[0K\u001b[1G81.7 MiB [====                ] 20% 1.8s\u001b[0K\u001b[1G81.7 MiB [====                ] 21% 1.8s\u001b[0K\u001b[1G81.7 MiB [===                 ] 16% 2.3s\u001b[0K\u001b[1G81.7 MiB [====                ] 19% 1.9s\u001b[0K\u001b[1G81.7 MiB [====                ] 20% 1.8s\u001b[0K\u001b[1G81.7 MiB [====                ] 21% 1.8s\u001b[0K\u001b[1G81.7 MiB [====                ] 22% 1.7s\u001b[0K\u001b[1G81.7 MiB [=====               ] 23% 1.7s\u001b[0K\u001b[1G81.7 MiB [=====               ] 24% 1.6s\u001b[0K\u001b[1G81.7 MiB [====                ] 22% 1.7s\u001b[0K\u001b[1G81.7 MiB [=====               ] 23% 1.7s\u001b[0K\u001b[1G81.7 MiB [=====               ] 24% 1.6s\u001b[0K\u001b[1G81.7 MiB [=====               ] 25% 1.6s\u001b[0K\u001b[1G81.7 MiB [=====               ] 26% 1.5s\u001b[0K\u001b[1G81.7 MiB [======              ] 27% 1.5s\u001b[0K\u001b[1G81.7 MiB [=====               ] 25% 1.6s\u001b[0K\u001b[1G81.7 MiB [=====               ] 26% 1.5s\u001b[0K\u001b[1G81.7 MiB [======              ] 27% 1.5s\u001b[0K\u001b[1G81.7 MiB [======              ] 28% 1.5s\u001b[0K\u001b[1G81.7 MiB [======              ] 29% 1.4s\u001b[0K\u001b[1G81.7 MiB [======              ] 30% 1.4s\u001b[0K\u001b[1G81.7 MiB [======              ] 28% 1.5s\u001b[0K\u001b[1G81.7 MiB [======              ] 29% 1.4s\u001b[0K\u001b[1G81.7 MiB [======              ] 30% 1.4s\u001b[0K\u001b[1G81.7 MiB [======              ] 31% 1.4s\u001b[0K\u001b[1G81.7 MiB [=======             ] 32% 1.4s\u001b[0K\u001b[1G81.7 MiB [=======             ] 33% 1.3s\u001b[0K\u001b[1G81.7 MiB [======              ] 31% 1.4s\u001b[0K\u001b[1G81.7 MiB [=======             ] 32% 1.4s\u001b[0K\u001b[1G81.7 MiB [=======             ] 33% 1.3s\u001b[0K\u001b[1G81.7 MiB [=======             ] 34% 1.3s\u001b[0K\u001b[1G81.7 MiB [=======             ] 35% 1.3s\u001b[0K\u001b[1G81.7 MiB [=======             ] 36% 1.2s\u001b[0K\u001b[1G81.7 MiB [========            ] 38% 1.2s\u001b[0K\u001b[1G81.7 MiB [=======             ] 34% 1.3s\u001b[0K\u001b[1G81.7 MiB [=======             ] 35% 1.3s\u001b[0K\u001b[1G81.7 MiB [=======             ] 36% 1.2s\u001b[0K\u001b[1G81.7 MiB [========            ] 38% 1.2s\u001b[0K\u001b[1G81.7 MiB [========            ] 39% 1.2s\u001b[0K\u001b[1G81.7 MiB [========            ] 40% 1.1s\u001b[0K\u001b[1G81.7 MiB [========            ] 41% 1.1s\u001b[0K\u001b[1G81.7 MiB [========            ] 39% 1.2s\u001b[0K\u001b[1G81.7 MiB [========            ] 40% 1.1s\u001b[0K\u001b[1G81.7 MiB [========            ] 41% 1.1s\u001b[0K\u001b[1G81.7 MiB [========            ] 42% 1.1s\u001b[0K\u001b[1G81.7 MiB [=========           ] 43% 1.1s\u001b[0K\u001b[1G81.7 MiB [=========           ] 44% 1.0s\u001b[0K\u001b[1G81.7 MiB [========            ] 42% 1.1s\u001b[0K\u001b[1G81.7 MiB [=========           ] 43% 1.1s\u001b[0K\u001b[1G81.7 MiB [=========           ] 44% 1.0s\u001b[0K\u001b[1G81.7 MiB [=========           ] 45% 1.0s\u001b[0K\u001b[1G81.7 MiB [=========           ] 46% 1.0s\u001b[0K\u001b[1G81.7 MiB [==========          ] 47% 1.0s\u001b[0K\u001b[1G81.7 MiB [=========           ] 45% 1.0s\u001b[0K\u001b[1G81.7 MiB [=========           ] 46% 1.0s\u001b[0K\u001b[1G81.7 MiB [==========          ] 47% 1.0s\u001b[0K\u001b[1G81.7 MiB [==========          ] 48% 1.0s\u001b[0K\u001b[1G81.7 MiB [==========          ] 49% 0.9s\u001b[0K\u001b[1G81.7 MiB [==========          ] 50% 0.9s\u001b[0K\u001b[1G81.7 MiB [==========          ] 48% 1.0s\u001b[0K\u001b[1G81.7 MiB [==========          ] 49% 0.9s\u001b[0K\u001b[1G81.7 MiB [==========          ] 50% 0.9s\u001b[0K\u001b[1G81.7 MiB [==========          ] 52% 0.9s\u001b[0K\u001b[1G81.7 MiB [===========         ] 53% 0.9s\u001b[0K\u001b[1G81.7 MiB [===========         ] 54% 0.8s\u001b[0K\u001b[1G81.7 MiB [==========          ] 52% 0.9s\u001b[0K\u001b[1G81.7 MiB [===========         ] 53% 0.9s\u001b[0K\u001b[1G81.7 MiB [===========         ] 54% 0.8s\u001b[0K\u001b[1G81.7 MiB [===========         ] 55% 0.8s\u001b[0K\u001b[1G81.7 MiB [===========         ] 56% 0.8s\u001b[0K\u001b[1G81.7 MiB [============        ] 57% 0.8s\u001b[0K\u001b[1G81.7 MiB [===========         ] 55% 0.8s\u001b[0K\u001b[1G81.7 MiB [===========         ] 56% 0.8s\u001b[0K\u001b[1G81.7 MiB [============        ] 57% 0.8s\u001b[0K\u001b[1G81.7 MiB [============        ] 58% 0.7s\u001b[0K\u001b[1G81.7 MiB [============        ] 59% 0.7s\u001b[0K\u001b[1G81.7 MiB [============        ] 60% 0.7s\u001b[0K\u001b[1G81.7 MiB [============        ] 58% 0.7s\u001b[0K\u001b[1G81.7 MiB [============        ] 59% 0.7s\u001b[0K\u001b[1G81.7 MiB [============        ] 60% 0.7s\u001b[0K\u001b[1G81.7 MiB [============        ] 61% 0.7s\u001b[0K\u001b[1G81.7 MiB [=============       ] 62% 0.7s\u001b[0K\u001b[1G81.7 MiB [=============       ] 64% 0.6s\u001b[0K\u001b[1G81.7 MiB [=============       ] 65% 0.6s\u001b[0K\u001b[1G81.7 MiB [============        ] 61% 0.7s\u001b[0K\u001b[1G81.7 MiB [=============       ] 62% 0.7s\u001b[0K\u001b[1G81.7 MiB [=============       ] 64% 0.6s\u001b[0K\u001b[1G81.7 MiB [=============       ] 65% 0.6s\u001b[0K\u001b[1G81.7 MiB [=============       ] 66% 0.6s\u001b[0K\u001b[1G81.7 MiB [=============       ] 67% 0.6s\u001b[0K\u001b[1G81.7 MiB [==============      ] 68% 0.6s\u001b[0K\u001b[1G81.7 MiB [=============       ] 66% 0.6s\u001b[0K\u001b[1G81.7 MiB [=============       ] 67% 0.6s\u001b[0K\u001b[1G81.7 MiB [==============      ] 68% 0.6s\u001b[0K\u001b[1G81.7 MiB [==============      ] 69% 0.5s\u001b[0K\u001b[1G81.7 MiB [==============      ] 70% 0.5s\u001b[0K\u001b[1G81.7 MiB [==============      ] 69% 0.5s\u001b[0K\u001b[1G81.7 MiB [==============      ] 70% 0.5s\u001b[0K\u001b[1G81.7 MiB [==============      ] 71% 0.5s\u001b[0K\u001b[1G81.7 MiB [==============      ] 72% 0.5s\u001b[0K\u001b[1G81.7 MiB [===============     ] 72% 0.5s\u001b[0K\u001b[1G81.7 MiB [==============      ] 71% 0.5s\u001b[0K\u001b[1G81.7 MiB [==============      ] 72% 0.5s\u001b[0K\u001b[1G81.7 MiB [===============     ] 72% 0.5s\u001b[0K\u001b[1G81.7 MiB [===============     ] 73% 0.5s\u001b[0K\u001b[1G81.7 MiB [===============     ] 74% 0.5s\u001b[0K\u001b[1G81.7 MiB [===============     ] 75% 0.4s\u001b[0K\u001b[1G81.7 MiB [===============     ] 73% 0.5s\u001b[0K\u001b[1G81.7 MiB [===============     ] 74% 0.5s\u001b[0K\u001b[1G81.7 MiB [===============     ] 75% 0.4s\u001b[0K\u001b[1G81.7 MiB [===============     ] 76% 0.4s\u001b[0K\u001b[1G81.7 MiB [===============     ] 77% 0.4s\u001b[0K\u001b[1G81.7 MiB [===============     ] 76% 0.4s\u001b[0K\u001b[1G81.7 MiB [===============     ] 77% 0.4s\u001b[0K\u001b[1G81.7 MiB [================    ] 78% 0.4s\u001b[0K\u001b[1G81.7 MiB [================    ] 80% 0.4s\u001b[0K\u001b[1G81.7 MiB [================    ] 78% 0.4s\u001b[0K\u001b[1G81.7 MiB [================    ] 80% 0.4s\u001b[0K\u001b[1G81.7 MiB [================    ] 80% 0.3s\u001b[0K\u001b[1G81.7 MiB [================    ] 81% 0.3s\u001b[0K\u001b[1G81.7 MiB [=================   ] 82% 0.3s\u001b[0K\u001b[1G81.7 MiB [================    ] 80% 0.3s\u001b[0K\u001b[1G81.7 MiB [================    ] 81% 0.3s\u001b[0K\u001b[1G81.7 MiB [=================   ] 82% 0.3s\u001b[0K\u001b[1G81.7 MiB [=================   ] 83% 0.3s\u001b[0K\u001b[1G81.7 MiB [=================   ] 84% 0.3s\u001b[0K\u001b[1G81.7 MiB [=================   ] 85% 0.3s\u001b[0K\u001b[1G81.7 MiB [=================   ] 86% 0.2s\u001b[0K\u001b[1G81.7 MiB [=================   ] 83% 0.3s\u001b[0K\u001b[1G81.7 MiB [=================   ] 84% 0.3s\u001b[0K\u001b[1G81.7 MiB [=================   ] 85% 0.3s\u001b[0K\u001b[1G81.7 MiB [=================   ] 86% 0.2s\u001b[0K\u001b[1G81.7 MiB [=================   ] 87% 0.2s\u001b[0K\u001b[1G81.7 MiB [==================  ] 88% 0.2s\u001b[0K\u001b[1G81.7 MiB [==================  ] 89% 0.2s\u001b[0K\u001b[1G81.7 MiB [=================   ] 87% 0.2s\u001b[0K\u001b[1G81.7 MiB [==================  ] 88% 0.2s\u001b[0K\u001b[1G81.7 MiB [==================  ] 89% 0.2s\u001b[0K\u001b[1G81.7 MiB [==================  ] 90% 0.2s\u001b[0K\u001b[1G81.7 MiB [==================  ] 91% 0.2s\u001b[0K\u001b[1G81.7 MiB [==================  ] 92% 0.1s\u001b[0K\u001b[1G81.7 MiB [==================  ] 90% 0.2s\u001b[0K\u001b[1G81.7 MiB [==================  ] 91% 0.2s\u001b[0K\u001b[1G81.7 MiB [==================  ] 92% 0.1s\u001b[0K\u001b[1G81.7 MiB [=================== ] 93% 0.1s\u001b[0K\u001b[1G81.7 MiB [=================== ] 94% 0.1s\u001b[0K\u001b[1G81.7 MiB [=================== ] 95% 0.1s\u001b[0K\u001b[1G81.7 MiB [=================== ] 93% 0.1s\u001b[0K\u001b[1G81.7 MiB [=================== ] 94% 0.1s\u001b[0K\u001b[1G81.7 MiB [=================== ] 95% 0.1s\u001b[0K\u001b[1G81.7 MiB [=================== ] 96% 0.1s\u001b[0K\u001b[1G81.7 MiB [=================== ] 97% 0.0s\u001b[0K\u001b[1G81.7 MiB [====================] 98% 0.0s\u001b[0K\u001b[1G81.7 MiB [=================== ] 96% 0.1s\u001b[0K\u001b[1G81.7 MiB [=================== ] 97% 0.0s\u001b[0K\u001b[1G81.7 MiB [====================] 98% 0.0s\u001b[0K\u001b[1G81.7 MiB [====================] 99% 0.0s\u001b[0K\u001b[1G81.7 MiB [====================] 100% 0.0s\u001b[0K\n",
      "\u001b[1G81.7 MiB [====================] 99% 0.0s\u001b[0K\u001b[1G81.7 MiB [====================] 100% 0.0s\u001b[0K\n",
      "Chromium Headless Shell 139.0.7258.5 (playwright build v1181) downloaded to /Users/claro/Library/Caches/ms-playwright/chromium_headless_shell-1181\n",
      "Chromium Headless Shell 139.0.7258.5 (playwright build v1181) downloaded to /Users/claro/Library/Caches/ms-playwright/chromium_headless_shell-1181\n"
     ]
    }
   ],
   "source": [
    "! pip install playwright\n",
    "! playwright install chromium"
   ]
  },
  {
   "cell_type": "code",
   "execution_count": 64,
   "metadata": {},
   "outputs": [
    {
     "ename": "RuntimeError",
     "evalue": "asyncio.run() cannot be called from a running event loop",
     "output_type": "error",
     "traceback": [
      "\u001b[31m---------------------------------------------------------------------------\u001b[39m",
      "\u001b[31mRuntimeError\u001b[39m                              Traceback (most recent call last)",
      "\u001b[36mCell\u001b[39m\u001b[36m \u001b[39m\u001b[32mIn[64]\u001b[39m\u001b[32m, line 25\u001b[39m\n\u001b[32m     22\u001b[39m         \u001b[38;5;28;01mawait\u001b[39;00m browser.close()\n\u001b[32m     24\u001b[39m \u001b[38;5;28;01mif\u001b[39;00m \u001b[34m__name__\u001b[39m == \u001b[33m\"\u001b[39m\u001b[33m__main__\u001b[39m\u001b[33m\"\u001b[39m:\n\u001b[32m---> \u001b[39m\u001b[32m25\u001b[39m     \u001b[43masyncio\u001b[49m\u001b[43m.\u001b[49m\u001b[43mrun\u001b[49m\u001b[43m(\u001b[49m\u001b[43msave_page\u001b[49m\u001b[43m(\u001b[49m\u001b[33;43m\"\u001b[39;49m\u001b[33;43mhttps://polisci.wustl.edu/people/\u001b[39;49m\u001b[33;43m\"\u001b[39;49m\u001b[43m,\u001b[49m\u001b[43m \u001b[49m\u001b[33;43m\"\u001b[39;49m\u001b[33;43mpolisci_ppl.html\u001b[39;49m\u001b[33;43m\"\u001b[39;49m\u001b[43m)\u001b[49m\u001b[43m)\u001b[49m\n",
      "\u001b[36mFile \u001b[39m\u001b[32m/Library/Frameworks/Python.framework/Versions/3.13/lib/python3.13/asyncio/runners.py:190\u001b[39m, in \u001b[36mrun\u001b[39m\u001b[34m(main, debug, loop_factory)\u001b[39m\n\u001b[32m    161\u001b[39m \u001b[38;5;250m\u001b[39m\u001b[33;03m\"\"\"Execute the coroutine and return the result.\u001b[39;00m\n\u001b[32m    162\u001b[39m \n\u001b[32m    163\u001b[39m \u001b[33;03mThis function runs the passed coroutine, taking care of\u001b[39;00m\n\u001b[32m   (...)\u001b[39m\u001b[32m    186\u001b[39m \u001b[33;03m    asyncio.run(main())\u001b[39;00m\n\u001b[32m    187\u001b[39m \u001b[33;03m\"\"\"\u001b[39;00m\n\u001b[32m    188\u001b[39m \u001b[38;5;28;01mif\u001b[39;00m events._get_running_loop() \u001b[38;5;129;01mis\u001b[39;00m \u001b[38;5;129;01mnot\u001b[39;00m \u001b[38;5;28;01mNone\u001b[39;00m:\n\u001b[32m    189\u001b[39m     \u001b[38;5;66;03m# fail fast with short traceback\u001b[39;00m\n\u001b[32m--> \u001b[39m\u001b[32m190\u001b[39m     \u001b[38;5;28;01mraise\u001b[39;00m \u001b[38;5;167;01mRuntimeError\u001b[39;00m(\n\u001b[32m    191\u001b[39m         \u001b[33m\"\u001b[39m\u001b[33masyncio.run() cannot be called from a running event loop\u001b[39m\u001b[33m\"\u001b[39m)\n\u001b[32m    193\u001b[39m \u001b[38;5;28;01mwith\u001b[39;00m Runner(debug=debug, loop_factory=loop_factory) \u001b[38;5;28;01mas\u001b[39;00m runner:\n\u001b[32m    194\u001b[39m     \u001b[38;5;28;01mreturn\u001b[39;00m runner.run(main)\n",
      "\u001b[31mRuntimeError\u001b[39m: asyncio.run() cannot be called from a running event loop"
     ]
    }
   ],
   "source": [
    "import asyncio, os\n",
    "from playwright.async_api import async_playwright\n",
    "\n",
    "async def save_page(url, filename, wait_state=\"networkidle\", timeout_ms=60000):\n",
    "    os.makedirs(os.path.dirname(filename) or \".\", exist_ok=True)\n",
    "    async with async_playwright() as p:\n",
    "        browser = await p.chromium.launch(headless=True)\n",
    "        context = await browser.new_context(\n",
    "            user_agent=(\"Mozilla/5.0 (Macintosh; Intel Mac OS X) AppleWebKit/537.36 \"\n",
    "                        \"(KHTML, like Gecko) Chrome/124.0.0.0 Safari/537.36)\"),\n",
    "            java_script_enabled=True,\n",
    "        )\n",
    "        page = await context.new_page()\n",
    "        await page.route(\"**/*\", lambda route: route.continue_())  # keep default\n",
    "        await page.goto(url, wait_until=\"domcontentloaded\", timeout=timeout_ms)\n",
    "        # Give the page time to finish loading assets / client-side rendering\n",
    "        await page.wait_for_load_state(wait_state, timeout=timeout_ms)\n",
    "        html = await page.content()\n",
    "        with open(filename, \"w\", encoding=\"utf-8\") as f:\n",
    "            f.write(html)\n",
    "        print(f\"Saved -> {filename}\")\n",
    "        await browser.close()\n",
    "\n",
    "if __name__ == \"__main__\":\n",
    "    asyncio.run(save_page(\"https://polisci.wustl.edu/people/\", \"polisci_ppl.html\"))\n"
   ]
  },
  {
   "cell_type": "markdown",
   "metadata": {
    "editable": true,
    "slideshow": {
     "slide_type": "subslide"
    },
    "tags": []
   },
   "source": [
    "Then, we can parse a page that is already saved on your computer even without access to internet. "
   ]
  },
  {
   "cell_type": "code",
   "execution_count": null,
   "metadata": {
    "editable": true,
    "scrolled": true,
    "slideshow": {
     "slide_type": "fragment"
    },
    "tags": []
   },
   "outputs": [],
   "source": [
    "with open('polisci_ppl.html') as f:\n",
    "  myfile = f.read()\n",
    "  soup = BeautifulSoup(myfile)\n",
    "# soup.prettify()"
   ]
  },
  {
   "cell_type": "markdown",
   "metadata": {
    "editable": true,
    "slideshow": {
     "slide_type": "fragment"
    },
    "tags": []
   },
   "source": [
    "- Tip 2: You may also write directly from a website to a `csv` file. This is good practice as it ensures a break 10 hours into the process does not erase all of your data. \n",
    "- Tip 3: Use Exception Handling techniques that we covered in Day03"
   ]
  },
  {
   "cell_type": "code",
   "execution_count": null,
   "metadata": {
    "editable": true,
    "slideshow": {
     "slide_type": "subslide"
    },
    "tags": []
   },
   "outputs": [],
   "source": [
    "with open('iceland_test.csv', 'w') as f: # set up with the writer\n",
    "  w = csv.DictWriter(f, fieldnames = (\"name\", \"party\", \"phone\")) # define column names\n",
    "  w.writeheader() # write the header\n",
    "  web_address='https://www.althingi.is/altext/cv/en/' # the web address\n",
    "  web_page = urllib.request.urlopen(web_address) # open the web page\n",
    "  soup = BeautifulSoup(web_page.read()) # soup the web page\n",
    "  all_members = soup.find_all('tr') # find the list of names and parties\n",
    "  for i in range(1,3): # for members 1 and 2 (member 0 is just the table heading)\n",
    "    # you should also add try/except language to ensure a weird item doesn't break your whole scraper\n",
    "    try:\n",
    "      member = {} ## empty dictionary to fill in\n",
    "      member_i = all_members[i].find_all('td') # subset lower to each individual item\n",
    "      member[\"name\"] = member_i[0].text # member's name\n",
    "      member['party'] =  member_i[1].text # member's party\n",
    "      inner_page_url = web_address + member_i[0].a['href'] # get the extension to their personal page\n",
    "      inner_page = urllib.request.urlopen(inner_page_url) # open the personal page\n",
    "      inner_soup = BeautifulSoup(inner_page.read()) # soup the personal page\n",
    "      member['phone'] = inner_soup.find('a', {'class' : 'tel'}).text # get phone number\n",
    "    except:\n",
    "      member['name'] = 'NA'\n",
    "      member['party'] = 'NA'\n",
    "      member['phone'] = 'NA'\n",
    "    w.writerow(member) # write the row for this specific member\n",
    "    time.sleep(random.uniform(1, 5)) # be polite, sleep!"
   ]
  },
  {
   "cell_type": "code",
   "execution_count": null,
   "metadata": {
    "editable": true,
    "slideshow": {
     "slide_type": "skip"
    },
    "tags": []
   },
   "outputs": [],
   "source": [
    "# Copyright of the original version:\n",
    "\n",
    "# Copyright (c) 2014 Matt Dickenson\n",
    "# \n",
    "# Permission is hereby granted, free of charge, to any person obtaining a copy\n",
    "# of this software and associated documentation files (the \"Software\"), to deal\n",
    "# in the Software without restriction, including without limitation the rights\n",
    "# to use, copy, modify, merge, publish, distribute, sublicense, and/or sell\n",
    "# copies of the Software, and to permit persons to whom the Software is\n",
    "# furnished to do so, subject to the following conditions:\n",
    "# \n",
    "# The above copyright notice and this permission notice shall be included in all\n",
    "# copies or substantial portions of the Software.\n",
    "# \n",
    "# THE SOFTWARE IS PROVIDED \"AS IS\", WITHOUT WARRANTY OF ANY KIND, EXPRESS OR\n",
    "# IMPLIED, INCLUDING BUT NOT LIMITED TO THE WARRANTIES OF MERCHANTABILITY,\n",
    "# FITNESS FOR A PARTICULAR PURPOSE AND NONINFRINGEMENT. IN NO EVENT SHALL THE\n",
    "# AUTHORS OR COPYRIGHT HOLDERS BE LIABLE FOR ANY CLAIM, DAMAGES OR OTHER\n",
    "# LIABILITY, WHETHER IN AN ACTION OF CONTRACT, TORT OR OTHERWISE, ARISING FROM,\n",
    "# OUT OF OR IN CONNECTION WITH THE SOFTWARE OR THE USE OR OTHER DEALINGS IN THE\n",
    "# SOFTWARE."
   ]
  }
 ],
 "metadata": {
  "kernelspec": {
   "display_name": "Python 3",
   "language": "python",
   "name": "python3"
  },
  "language_info": {
   "codemirror_mode": {
    "name": "ipython",
    "version": 3
   },
   "file_extension": ".py",
   "mimetype": "text/x-python",
   "name": "python",
   "nbconvert_exporter": "python",
   "pygments_lexer": "ipython3",
   "version": "3.13.1"
  }
 },
 "nbformat": 4,
 "nbformat_minor": 4
}
