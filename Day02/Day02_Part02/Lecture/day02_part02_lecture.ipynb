{
 "cells": [
  {
   "cell_type": "markdown",
   "metadata": {
    "editable": true,
    "slideshow": {
     "slide_type": "slide"
    },
    "tags": []
   },
   "source": [
    "# Web Scraping + File I/O"
   ]
  },
  {
   "cell_type": "markdown",
   "metadata": {
    "editable": true,
    "slideshow": {
     "slide_type": "slide"
    },
    "tags": []
   },
   "source": [
    "##### Today's Topics:\n",
    "1. Urllib and Beautiful Soup\n",
    "2. Selenium\n",
    "3. File Input/Output"
   ]
  },
  {
   "cell_type": "markdown",
   "metadata": {
    "editable": true,
    "slideshow": {
     "slide_type": "fragment"
    },
    "tags": []
   },
   "source": [
    "* This is likely the most important day in the course (along with day05 on APIs).  \n",
    "* You will use all the modules here if you want to scrape the internet.\n",
    "\n",
    "***"
   ]
  },
  {
   "cell_type": "markdown",
   "metadata": {
    "editable": true,
    "slideshow": {
     "slide_type": "slide"
    },
    "tags": []
   },
   "source": [
    "### 1. Web Scraping (without APIs)"
   ]
  },
  {
   "cell_type": "markdown",
   "metadata": {
    "editable": true,
    "slideshow": {
     "slide_type": "fragment"
    },
    "tags": []
   },
   "source": [
    "* Web scraping is the art of extracting data from websites and delivering it in formats like JSON, CSV, HTML, PDF, etc.\n",
    "* Web scraping can be done either by using coding languages like Python, or by using data extraction APIs (Day 5)."
   ]
  },
  {
   "cell_type": "markdown",
   "metadata": {
    "editable": true,
    "slideshow": {
     "slide_type": "subslide"
    },
    "tags": []
   },
   "source": [
    "##### Benefits \n",
    "\n",
    "1. Time-saving\n",
    "2. Data accuracy\n",
    "3. Cost-effective "
   ]
  },
  {
   "cell_type": "markdown",
   "metadata": {
    "editable": true,
    "slideshow": {
     "slide_type": ""
    },
    "tags": []
   },
   "source": [
    "##### Ethics \n",
    "\n",
    "- Use a Public API when available and avoid scraping all together if the data you are looking if available through the API\n",
    "- Only scrape when it is legal! \n",
    "    - NOT all sites can be legally scraped. Please don't get sued. \n",
    "    - Always check terms of service.\n",
    "    - When in doubt, ask or don't do it. \n",
    "- Be polite and don't break websites\n",
    "    - Scrape your data at a reasonable rate and control the number of requests per second. \n",
    "    - You don't want the website owner to think it as a DDoS attack. "
   ]
  },
  {
   "cell_type": "markdown",
   "metadata": {
    "editable": true,
    "slideshow": {
     "slide_type": "subslide"
    },
    "tags": []
   },
   "source": [
    "##### Overview of Web Scraping (without APIs)"
   ]
  },
  {
   "cell_type": "markdown",
   "metadata": {
    "editable": true,
    "slideshow": {
     "slide_type": "fragment"
    },
    "tags": []
   },
   "source": [
    "1. Call the website and open it\n",
    "2. Extract or load all the html code (you can store it locally for later use)\n",
    "3. Retrieve information using the names of the tags, ids, etc. \n",
    "4. Store the data in to files (like csv)"
   ]
  },
  {
   "cell_type": "markdown",
   "metadata": {
    "editable": true,
    "slideshow": {
     "slide_type": "slide"
    },
    "tags": []
   },
   "source": [
    "#### 1.1 The Skeleton HTML Layout"
   ]
  },
  {
   "cell_type": "code",
   "execution_count": 1,
   "metadata": {
    "editable": true,
    "slideshow": {
     "slide_type": "fragment"
    },
    "tags": []
   },
   "outputs": [],
   "source": [
    "# <!DOCTYPE html> <html>\n",
    "# <head>\n",
    "# <title> Page Title </title>\n",
    "# </head>\n",
    "# <body>\n",
    "\n",
    "# <h1>My first heading </h1>\n",
    "# <p>My first paragraph. </p>\n",
    "\n",
    "# </body> \n",
    "# </html>"
   ]
  },
  {
   "cell_type": "markdown",
   "metadata": {
    "editable": true,
    "slideshow": {
     "slide_type": "fragment"
    },
    "tags": []
   },
   "source": [
    "_See https://www.w3schools.com/tags/default.asp for a list of HTML tags_"
   ]
  },
  {
   "cell_type": "markdown",
   "metadata": {
    "editable": true,
    "slideshow": {
     "slide_type": "subslide"
    },
    "tags": []
   },
   "source": [
    "##### Let's look at some source code!"
   ]
  },
  {
   "cell_type": "markdown",
   "metadata": {
    "editable": true,
    "slideshow": {
     "slide_type": "fragment"
    },
    "tags": []
   },
   "source": [
    "* Now go to https://polisci.wustl.edu/people/88/ \n",
    "* Click right, then View Page Source or (more likely) Inspect"
   ]
  },
  {
   "cell_type": "markdown",
   "metadata": {
    "editable": true,
    "slideshow": {
     "slide_type": ""
    },
    "tags": []
   },
   "source": [
    "##### "
   ]
  },
  {
   "cell_type": "markdown",
   "metadata": {
    "editable": true,
    "slideshow": {
     "slide_type": "slide"
    },
    "tags": []
   },
   "source": [
    "#### 1.2 Web Crawlers"
   ]
  },
  {
   "cell_type": "markdown",
   "metadata": {
    "editable": true,
    "slideshow": {
     "slide_type": "fragment"
    },
    "tags": []
   },
   "source": [
    "##### We mainly use two libraries: `urllib` and `BeautifulSoup`\n",
    "\n",
    "1. `urllib`:\n",
    "    - web crawler \n",
    "    - navigates to a url\n",
    "2. `BeautifulSoup`\n",
    "    - parses a downloaded HTML\n"
   ]
  },
  {
   "cell_type": "markdown",
   "metadata": {
    "editable": true,
    "slideshow": {
     "slide_type": "fragment"
    },
    "tags": []
   },
   "source": [
    "Useful when:\n",
    "- Info is contained in HTML (not served by JavaScript)\n",
    "- Encoded HTML follows predictable pattern\n",
    "- Example: https://www.presidency.ucsb.edu/documents/app-categories/presidential"
   ]
  },
  {
   "cell_type": "markdown",
   "metadata": {
    "editable": true,
    "slideshow": {
     "slide_type": "subslide"
    },
    "tags": []
   },
   "source": [
    "Beautiful Soup documentation: \n",
    "http://www.crummy.com/software/BeautifulSoup/bs4/doc/"
   ]
  },
  {
   "cell_type": "markdown",
   "metadata": {
    "editable": true,
    "slideshow": {
     "slide_type": "fragment"
    },
    "tags": []
   },
   "source": [
    "* Run the line below in a Jupyter cell if not installed alreay"
   ]
  },
  {
   "cell_type": "code",
   "execution_count": 2,
   "metadata": {
    "editable": true,
    "slideshow": {
     "slide_type": "fragment"
    },
    "tags": []
   },
   "outputs": [],
   "source": [
    "# ! pip install beautifulsoup4"
   ]
  },
  {
   "cell_type": "code",
   "execution_count": 3,
   "metadata": {
    "editable": true,
    "slideshow": {
     "slide_type": "fragment"
    },
    "tags": []
   },
   "outputs": [],
   "source": [
    "from bs4 import BeautifulSoup\n",
    "import urllib.request"
   ]
  },
  {
   "cell_type": "markdown",
   "metadata": {
    "editable": true,
    "slideshow": {
     "slide_type": "slide"
    },
    "tags": []
   },
   "source": [
    "#### 1.3 Example (WUSTL Political Science Webpage):"
   ]
  },
  {
   "cell_type": "markdown",
   "metadata": {
    "editable": true,
    "slideshow": {
     "slide_type": "fragment"
    },
    "tags": []
   },
   "source": [
    "1. Open a web page"
   ]
  },
  {
   "cell_type": "code",
   "execution_count": 5,
   "metadata": {
    "editable": true,
    "slideshow": {
     "slide_type": "fragment"
    },
    "tags": []
   },
   "outputs": [
    {
     "data": {
      "text/plain": [
       "<http.client.HTTPResponse at 0x1068f2b90>"
      ]
     },
     "execution_count": 5,
     "metadata": {},
     "output_type": "execute_result"
    }
   ],
   "source": [
    "web_address = 'https://polisci.wustl.edu/people'\n",
    "web_page = urllib.request.urlopen(web_address)\n",
    "web_page #stored on machine"
   ]
  },
  {
   "cell_type": "markdown",
   "metadata": {},
   "source": [
    "* Try these alternative lines if the above didn't run"
   ]
  },
  {
   "cell_type": "code",
   "execution_count": 6,
   "metadata": {},
   "outputs": [],
   "source": [
    "# import requests\n",
    "\n",
    "# response = requests.get(web_address, verify=False)\n",
    "# web_page = response.text"
   ]
  },
  {
   "cell_type": "markdown",
   "metadata": {
    "editable": true,
    "slideshow": {
     "slide_type": "subslide"
    },
    "tags": []
   },
   "source": [
    "2. Parse it"
   ]
  },
  {
   "cell_type": "code",
   "execution_count": 7,
   "metadata": {
    "editable": true,
    "slideshow": {
     "slide_type": "fragment"
    },
    "tags": []
   },
   "outputs": [],
   "source": [
    "soup = BeautifulSoup(web_page.read())\n",
    "# print(soup)\n",
    "# print(soup.prettify()) # enable us to view how tags are nested in the document"
   ]
  },
  {
   "cell_type": "code",
   "execution_count": 8,
   "metadata": {
    "editable": true,
    "scrolled": true,
    "slideshow": {
     "slide_type": ""
    },
    "tags": []
   },
   "outputs": [],
   "source": [
    "# str(soup.prettify()) # enable us to view how tags are nested in the document"
   ]
  },
  {
   "cell_type": "code",
   "execution_count": 9,
   "metadata": {
    "editable": true,
    "slideshow": {
     "slide_type": "subslide"
    },
    "tags": []
   },
   "outputs": [
    {
     "data": {
      "text/plain": [
       "'<!DOCTYPE html>\\n<html class=\"no-js\" dir=\"ltr\" lang=\"en\" prefix=\"og: https://ogp.me/ns#\">\\n <head>\\n  <meta charset=\"utf-8\"/>\\n  <noscript>\\n   <style>\\n    form.antibot * :not(.antibot-message) { display: none !important; }\\n   </style>\\n  </noscript>\\n  <style>\\n   /* @see https://github.com/aFarkas/lazysizes#broken-image-symbol */.js img.lazyload:not([src]) { visibility: hidden; }/* @see https://github.com/aFarkas/lazysizes#automatically-setting-the-sizes-attribute */.js img.lazyloaded[data-sizes=auto] { display: block; width: 100%; }/* Transition effect. */.js .lazyload, .js .lazyloading { opacity: 0; }.js .lazyloaded { opacity: 1; -webkit-transition: opacity 2000ms; transition: opacity 2000ms; }\\n  </style>\\n  <meta content=\"Description\" name=\"description\"/>\\n  <link href=\"https://polisci.wustl.edu/node/50\" rel=\"shortlink\"/>\\n  <link href=\"https://polisci.wustl.edu/people\" rel=\"canonical\"/>\\n  <meta content=\"index, follow\" name=\"robots\"/>\\n  <meta content=\"asdrupal\" name=\"author\"/>\\n  <meta content=\"Drupal 10 (http://drupal.org)\" name=\"generator\"/>\\n  <meta content=\"Department of Political Science\" property=\"og:site_name\"/>\\n  <meta content=\"profile\" property=\"og:type\"/>\\n  <meta content=\"https://polisci.wustl.edu/people\" property=\"og:url\"/>\\n  <meta content=\"Our People\" property=\"og:title\"/>\\n  <meta content=\"\" property=\"og:description\"/>\\n  <meta content=\"2025-04-14T10:48:12-05:00\" property=\"og:updated_time\"/>\\n  <meta content=\"2017-02-24T09:30:04-06:00\" property=\"article:published_time\"/>\\n  '"
      ]
     },
     "execution_count": 9,
     "metadata": {},
     "output_type": "execute_result"
    }
   ],
   "source": [
    "str(soup.prettify())[0:1500]"
   ]
  },
  {
   "cell_type": "markdown",
   "metadata": {
    "editable": true,
    "slideshow": {
     "slide_type": "subslide"
    },
    "tags": []
   },
   "source": [
    "3. Find all cases of a certain tag 'a'"
   ]
  },
  {
   "cell_type": "code",
   "execution_count": 10,
   "metadata": {
    "editable": true,
    "slideshow": {
     "slide_type": "fragment"
    },
    "tags": []
   },
   "outputs": [
    {
     "data": {
      "text/plain": [
       "[<a alt=\" Department of Political Science  front page\" href=\"/\"> Department of Political Science </a>,\n",
       " <a data-drupal-link-system-path=\"node/13357\" href=\"/undergraduate\">Undergraduate Program</a>,\n",
       " <a data-drupal-link-system-path=\"node/13340\" href=\"/graduate-program\">Graduate Program</a>,\n",
       " <a data-drupal-link-system-path=\"node/14467\" href=\"/masters-degree-statistics-political-science-phd-students\">Master’s Degree in Statistics for Political Science Ph.D. Students</a>,\n",
       " <a data-drupal-link-system-path=\"node/13198\" href=\"/research\">Research</a>,\n",
       " <a aria-current=\"page\" class=\"is-active\" data-drupal-link-system-path=\"node/50\" href=\"/people\">Our People</a>,\n",
       " <a data-drupal-link-system-path=\"node/61\" href=\"/resources\">Resources</a>,\n",
       " <a href=\"https://gifts.wustl.edu/index.html?other_designation_description=Political%20Science\">Make a Gift to Political Science</a>]"
      ]
     },
     "execution_count": 10,
     "metadata": {},
     "output_type": "execute_result"
    }
   ],
   "source": [
    "soup.find_all('a')[2:10] # Returns a list... remember this!"
   ]
  },
  {
   "cell_type": "markdown",
   "metadata": {
    "editable": true,
    "slideshow": {
     "slide_type": "subslide"
    },
    "tags": []
   },
   "source": [
    "4. Find all cases of a certain tag `<h3>`"
   ]
  },
  {
   "cell_type": "code",
   "execution_count": 11,
   "metadata": {
    "editable": true,
    "slideshow": {
     "slide_type": "fragment"
    },
    "tags": []
   },
   "outputs": [
    {
     "data": {
      "text/plain": [
       "[<h3>\n",
       " <div><span>Federico</span></div>\n",
       " <div><span>Acosta y Lara</span></div>\n",
       " </h3>,\n",
       " <h3>\n",
       " <div><span>Deniz</span></div>\n",
       " <div><span>Aksoy</span></div>\n",
       " </h3>,\n",
       " <h3>\n",
       " <div><span>Lukas</span></div>\n",
       " <div><span>Alexander</span></div>\n",
       " </h3>,\n",
       " <h3>\n",
       " <div><span>Alex</span></div>\n",
       " <div><span>Avery</span></div>\n",
       " </h3>,\n",
       " <h3>\n",
       " <div><span>Timm</span></div>\n",
       " <div><span>Betz</span></div>\n",
       " </h3>,\n",
       " <h3>\n",
       " <div><span>Zachary</span></div>\n",
       " <div><span>Bowersox</span></div>\n",
       " </h3>,\n",
       " <h3>\n",
       " <div><span>Christina L.</span></div>\n",
       " <div><span>Boyd</span></div>\n",
       " </h3>,\n",
       " <h3>\n",
       " <div><span>Ryan</span></div>\n",
       " <div><span>Burge</span></div>\n",
       " </h3>,\n",
       " <h3>\n",
       " <div><span>Daniel </span></div>\n",
       " <div><span>Butler</span></div>\n",
       " </h3>,\n",
       " <h3>\n",
       " <div><span>Anthony</span></div>\n",
       " <div><span>Buzzacco</span></div>\n",
       " </h3>]"
      ]
     },
     "execution_count": 11,
     "metadata": {},
     "output_type": "execute_result"
    }
   ],
   "source": [
    "soup.find_all('h3')[2:12]"
   ]
  },
  {
   "cell_type": "markdown",
   "metadata": {
    "editable": true,
    "slideshow": {
     "slide_type": "subslide"
    },
    "tags": []
   },
   "source": [
    "5. Extract text from the tag"
   ]
  },
  {
   "cell_type": "code",
   "execution_count": 43,
   "metadata": {
    "editable": true,
    "slideshow": {
     "slide_type": "fragment"
    },
    "tags": []
   },
   "outputs": [
    {
     "data": {
      "text/plain": [
       "['\\nFederico\\nAcosta y Lara\\n',\n",
       " '\\nDeniz\\nAksoy\\n',\n",
       " '\\nLukas\\nAlexander\\n',\n",
       " '\\nAlex\\nAvery\\n',\n",
       " '\\nTimm\\nBetz\\n',\n",
       " '\\nZachary\\nBowersox\\n',\n",
       " '\\nChristina L.\\nBoyd\\n',\n",
       " '\\nRyan\\nBurge\\n']"
      ]
     },
     "execution_count": 43,
     "metadata": {},
     "output_type": "execute_result"
    }
   ],
   "source": [
    "names = soup.find_all('h3') # list of html entries\n",
    "[i.text for i in names][2:10] # grab just the text from each one"
   ]
  },
  {
   "cell_type": "markdown",
   "metadata": {
    "editable": true,
    "slideshow": {
     "slide_type": "subslide"
    },
    "tags": []
   },
   "source": [
    "* We can create an object containing all elements with the tag `<a>`. Then, get the attributes"
   ]
  },
  {
   "cell_type": "code",
   "execution_count": 44,
   "metadata": {
    "editable": true,
    "slideshow": {
     "slide_type": "fragment"
    },
    "tags": []
   },
   "outputs": [
    {
     "data": {
      "text/plain": [
       "{'href': '/people/dino-p-christenson',\n",
       " 'id': 'faculty-card-container',\n",
       " 'class': ['card'],\n",
       " 'aria-label': 'View Dino P. Christenson'}"
      ]
     },
     "execution_count": 44,
     "metadata": {},
     "output_type": "execute_result"
    }
   ],
   "source": [
    "all_a_tags = soup.find_all('a')\n",
    "# all_a_tags\n",
    "all_a_tags[36].attrs  # returns a dictionary with the attributes"
   ]
  },
  {
   "cell_type": "markdown",
   "metadata": {
    "editable": true,
    "slideshow": {
     "slide_type": "subslide"
    },
    "tags": []
   },
   "source": [
    "* Access the attributes with key-value syntax"
   ]
  },
  {
   "cell_type": "code",
   "execution_count": 45,
   "metadata": {
    "editable": true,
    "slideshow": {
     "slide_type": ""
    },
    "tags": []
   },
   "outputs": [
    {
     "data": {
      "text/plain": [
       "dict_keys(['href', 'id', 'class', 'aria-label'])"
      ]
     },
     "execution_count": 45,
     "metadata": {},
     "output_type": "execute_result"
    }
   ],
   "source": [
    "all_a_tags[36].attrs.keys()"
   ]
  },
  {
   "cell_type": "code",
   "execution_count": 46,
   "metadata": {
    "editable": true,
    "slideshow": {
     "slide_type": "fragment"
    },
    "tags": []
   },
   "outputs": [
    {
     "data": {
      "text/plain": [
       "'/people/dino-p-christenson'"
      ]
     },
     "execution_count": 46,
     "metadata": {},
     "output_type": "execute_result"
    }
   ],
   "source": [
    "all_a_tags[36]['href']"
   ]
  },
  {
   "cell_type": "code",
   "execution_count": 47,
   "metadata": {
    "editable": true,
    "slideshow": {
     "slide_type": "fragment"
    },
    "tags": []
   },
   "outputs": [
    {
     "data": {
      "text/plain": [
       "['card']"
      ]
     },
     "execution_count": 47,
     "metadata": {},
     "output_type": "execute_result"
    }
   ],
   "source": [
    "all_a_tags[36]['class']"
   ]
  },
  {
   "cell_type": "code",
   "execution_count": 48,
   "metadata": {
    "editable": true,
    "slideshow": {
     "slide_type": "fragment"
    },
    "tags": []
   },
   "outputs": [
    {
     "name": "stdout",
     "output_type": "stream",
     "text": [
      "/people/amaan-charaniya\n",
      "/people/tian-chen\n",
      "/people/dino-p-christenson\n",
      "/people/leticia-claro-oliveira\n",
      "/people/brian-f-crisp\n",
      "/people/bowen-damask\n"
     ]
    }
   ],
   "source": [
    "for i in range(34,40):\n",
    "  print(all_a_tags[i]['href'])"
   ]
  },
  {
   "cell_type": "markdown",
   "metadata": {
    "editable": true,
    "slideshow": {
     "slide_type": "subslide"
    },
    "tags": []
   },
   "source": [
    "##### Some notes"
   ]
  },
  {
   "cell_type": "markdown",
   "metadata": {
    "editable": true,
    "slideshow": {
     "slide_type": "fragment"
    },
    "tags": []
   },
   "source": [
    "*  Careful for the first and last tags—these can often be different than the others"
   ]
  },
  {
   "cell_type": "code",
   "execution_count": 49,
   "metadata": {
    "editable": true,
    "slideshow": {
     "slide_type": "fragment"
    },
    "tags": []
   },
   "outputs": [
    {
     "data": {
      "text/plain": [
       "{'href': '#main-content',\n",
       " 'class': ['visually-hidden', 'focusable', 'skip-link'],\n",
       " 'role': 'link',\n",
       " 'aria-label': 'skip to main content'}"
      ]
     },
     "execution_count": 49,
     "metadata": {},
     "output_type": "execute_result"
    }
   ],
   "source": [
    "all_a_tags[0].attrs"
   ]
  },
  {
   "cell_type": "markdown",
   "metadata": {
    "editable": true,
    "slideshow": {
     "slide_type": "fragment"
    },
    "tags": []
   },
   "source": [
    "* Because `all_a_tags` is a list, we need to index the element(s) we're interested in\n",
    "* If we are interested in the first instance of the tag `<a>`, we can use"
   ]
  },
  {
   "cell_type": "code",
   "execution_count": 50,
   "metadata": {
    "editable": true,
    "slideshow": {
     "slide_type": "fragment"
    },
    "tags": []
   },
   "outputs": [
    {
     "data": {
      "text/plain": [
       "<a aria-label=\"skip to main content\" class=\"visually-hidden focusable skip-link\" href=\"#main-content\" role=\"link\">\n",
       "    Skip to main content\n",
       "  </a>"
      ]
     },
     "execution_count": 50,
     "metadata": {},
     "output_type": "execute_result"
    }
   ],
   "source": [
    "soup.find('a')"
   ]
  },
  {
   "cell_type": "code",
   "execution_count": 51,
   "metadata": {
    "editable": true,
    "slideshow": {
     "slide_type": "fragment"
    },
    "tags": []
   },
   "outputs": [
    {
     "data": {
      "text/plain": [
       "{'href': '#main-content',\n",
       " 'class': ['visually-hidden', 'focusable', 'skip-link'],\n",
       " 'role': 'link',\n",
       " 'aria-label': 'skip to main content'}"
      ]
     },
     "execution_count": 51,
     "metadata": {},
     "output_type": "execute_result"
    }
   ],
   "source": [
    "soup.find('a').attrs "
   ]
  },
  {
   "cell_type": "markdown",
   "metadata": {
    "editable": true,
    "slideshow": {
     "slide_type": "subslide"
    },
    "tags": []
   },
   "source": [
    "We can use a loop (for or while) to get and re-organize all the data."
   ]
  },
  {
   "cell_type": "code",
   "execution_count": 52,
   "metadata": {
    "editable": true,
    "slideshow": {
     "slide_type": "fragment"
    },
    "tags": []
   },
   "outputs": [
    {
     "name": "stdout",
     "output_type": "stream",
     "text": [
      "{'class': [['card'], ['card'], ['card'], ['card'], ['card'], ['card'], ['card'], ['card'], ['card'], ['card'], ['card'], ['card'], ['card'], ['card'], ['card'], ['card'], ['card'], ['card'], ['card'], ['card'], ['card'], ['card'], ['card']], 'href': ['/people/deniz-aksoy', '/people/lukas-alexander', '/people/alex-avery', '/people/timm-betz', '/people/zachary-bowersox', '/people/christina-l-boyd', 'https://rap.wustl.edu/people/ryan-burge/', '/people/daniel-butler', '/people/anthony-buzzacco', '/people/randall-calvert', '/people/michael-cannon', '/people/taylor-carlson', '/people/david-carter', '/people/zeynep-ceren-topac', '/people/amaan-charaniya', '/people/tian-chen', '/people/dino-p-christenson', '/people/leticia-claro-oliveira', '/people/brian-f-crisp', '/people/bowen-damask', '/people/niko-dawson', '/people/rex-weiye-deng', '/people/juan-dodyk']}\n"
     ]
    }
   ],
   "source": [
    "l = {\"class\" : [], \"href\" : []} # create a dictionary\n",
    "for p in range(20,43):\n",
    "    l[\"class\"].append(all_a_tags[p].attrs[\"class\"]) \n",
    "    l[\"href\"].append(all_a_tags[p].attrs[\"href\"]) \n",
    "\n",
    "print(l)"
   ]
  },
  {
   "cell_type": "markdown",
   "metadata": {
    "editable": true,
    "slideshow": {
     "slide_type": "subslide"
    },
    "tags": []
   },
   "source": [
    "##### If we are interested only in the attributes of `class = card` nested within tag 'a', we can specify this in our initial `find_all()` call:"
   ]
  },
  {
   "cell_type": "code",
   "execution_count": 53,
   "metadata": {
    "editable": true,
    "slideshow": {
     "slide_type": "fragment"
    },
    "tags": []
   },
   "outputs": [
    {
     "data": {
      "text/plain": [
       "[<a aria-label=\"View Federico Acosta y Lara\" class=\"card\" href=\"/people/federico-acosta-y-lara\" id=\"faculty-card-container\">\n",
       " <article class=\"faculty-post\">\n",
       " <div class=\"image\">\n",
       " <img alt=\"Federico Acosta y Lara\" height=\"320\" loading=\"lazy\" sizes=\"(max-width:480px) 85vw, 290px\" src=\"/sites/polisci.wustl.edu/files/styles/square_1_1_320w/public/People/Polisci_Acosta%20Y%20Lara_F-1010531_0.jpg.webp\" srcset=\"https://polisci.wustl.edu/sites/polisci.wustl.edu/files/styles/square_1_1_190w/public/People/Polisci_Acosta%20Y%20Lara_F-1010531_0.jpg.webp 190w, https://polisci.wustl.edu/sites/polisci.wustl.edu/files/styles/square_1_1_320w/public/People/Polisci_Acosta%20Y%20Lara_F-1010531_0.jpg.webp 320w, https://polisci.wustl.edu/sites/polisci.wustl.edu/files/styles/square_1_1_480w/public/People/Polisci_Acosta%20Y%20Lara_F-1010531_0.jpg.webp 480w\" width=\"320\"/>\n",
       " <h3>\n",
       " <div><span>Federico</span></div>\n",
       " <div><span>Acosta y Lara</span></div>\n",
       " </h3>\n",
       " </div>\n",
       " <div class=\"dept\">\n",
       "                                 Third Year Graduate Student\n",
       "                             </div>\n",
       " </article>\n",
       " </a>,\n",
       " <a aria-label=\"View Deniz Aksoy\" class=\"card\" href=\"/people/deniz-aksoy\" id=\"faculty-card-container\">\n",
       " <article class=\"faculty-post\">\n",
       " <div class=\"image\">\n",
       " <img alt=\"Deniz Aksoy\" height=\"320\" loading=\"lazy\" sizes=\"(max-width:480px) 85vw, 290px\" src=\"/sites/polisci.wustl.edu/files/styles/square_1_1_320w/public/People/Polisci_Aksoy_D_P1013892_0.jpg.webp\" srcset=\"https://polisci.wustl.edu/sites/polisci.wustl.edu/files/styles/square_1_1_190w/public/People/Polisci_Aksoy_D_P1013892_0.jpg.webp 190w, https://polisci.wustl.edu/sites/polisci.wustl.edu/files/styles/square_1_1_320w/public/People/Polisci_Aksoy_D_P1013892_0.jpg.webp 320w, https://polisci.wustl.edu/sites/polisci.wustl.edu/files/styles/square_1_1_480w/public/People/Polisci_Aksoy_D_P1013892_0.jpg.webp 480w\" width=\"320\"/>\n",
       " <h3>\n",
       " <div><span>Deniz</span></div>\n",
       " <div><span>Aksoy</span></div>\n",
       " </h3>\n",
       " </div>\n",
       " <div class=\"dept\">\n",
       "                                 Associate Professor of Political Science\n",
       "                             </div>\n",
       " </article>\n",
       " </a>]"
      ]
     },
     "execution_count": 53,
     "metadata": {},
     "output_type": "execute_result"
    }
   ],
   "source": [
    "soup.find_all('a', {'class' : \"card\"})[0:2] # returns a list"
   ]
  },
  {
   "cell_type": "markdown",
   "metadata": {
    "editable": true,
    "slideshow": {
     "slide_type": "subslide"
    },
    "tags": []
   },
   "source": [
    "##### Commonly, you will need to go level by level in an exporatory exercise to access nested tags. Here is an example:"
   ]
  },
  {
   "cell_type": "markdown",
   "metadata": {
    "editable": true,
    "slideshow": {
     "slide_type": "fragment"
    },
    "tags": []
   },
   "source": [
    "* First get all tags `<div>`"
   ]
  },
  {
   "cell_type": "code",
   "execution_count": 54,
   "metadata": {
    "editable": true,
    "slideshow": {
     "slide_type": "fragment"
    },
    "tags": []
   },
   "outputs": [
    {
     "data": {
      "text/plain": [
       "268"
      ]
     },
     "execution_count": 54,
     "metadata": {},
     "output_type": "execute_result"
    }
   ],
   "source": [
    "sections = soup.find_all('div') \n",
    "len(sections) # check the size of the object"
   ]
  },
  {
   "cell_type": "markdown",
   "metadata": {
    "editable": true,
    "slideshow": {
     "slide_type": "fragment"
    },
    "tags": []
   },
   "source": [
    "* View the FIRST `<a>` tag within the first valid `<div>` tag "
   ]
  },
  {
   "cell_type": "code",
   "execution_count": 55,
   "metadata": {
    "editable": true,
    "slideshow": {
     "slide_type": ""
    },
    "tags": []
   },
   "outputs": [
    {
     "data": {
      "text/plain": [
       "<a class=\"logo\" href=\"https://artsci.washu.edu\">\n",
       "<picture>\n",
       "<source media=\"(min-width: 767px)\" srcset=\"/themes/custom/olympian9/svg/logo-art-sci-vert-color.svg\"/>\n",
       "<img alt=\"Washington University in St. Louis\" src=\"/themes/custom/olympian9/svg/logo-art-sci-color.svg\"/>\n",
       "</picture>\n",
       "</a>"
      ]
     },
     "execution_count": 55,
     "metadata": {},
     "output_type": "execute_result"
    }
   ],
   "source": [
    "sections[2].a"
   ]
  },
  {
   "cell_type": "markdown",
   "metadata": {
    "editable": true,
    "slideshow": {
     "slide_type": "fragment"
    },
    "tags": []
   },
   "source": [
    "* Or, equivalently:"
   ]
  },
  {
   "cell_type": "code",
   "execution_count": 56,
   "metadata": {
    "editable": true,
    "slideshow": {
     "slide_type": "fragment"
    },
    "tags": []
   },
   "outputs": [
    {
     "data": {
      "text/plain": [
       "<a class=\"logo\" href=\"https://artsci.washu.edu\">\n",
       "<picture>\n",
       "<source media=\"(min-width: 767px)\" srcset=\"/themes/custom/olympian9/svg/logo-art-sci-vert-color.svg\"/>\n",
       "<img alt=\"Washington University in St. Louis\" src=\"/themes/custom/olympian9/svg/logo-art-sci-color.svg\"/>\n",
       "</picture>\n",
       "</a>"
      ]
     },
     "execution_count": 56,
     "metadata": {},
     "output_type": "execute_result"
    }
   ],
   "source": [
    "sections[2].find('a') "
   ]
  },
  {
   "cell_type": "markdown",
   "metadata": {
    "editable": true,
    "slideshow": {
     "slide_type": "subslide"
    },
    "tags": []
   },
   "source": [
    "* This gives us ALL `<a>` tags within the first valid `<div>` tag "
   ]
  },
  {
   "cell_type": "code",
   "execution_count": 57,
   "metadata": {
    "editable": true,
    "slideshow": {
     "slide_type": "fragment"
    },
    "tags": []
   },
   "outputs": [
    {
     "data": {
      "text/plain": [
       "[<a class=\"logo\" href=\"https://artsci.washu.edu\">\n",
       " <picture>\n",
       " <source media=\"(min-width: 767px)\" srcset=\"/themes/custom/olympian9/svg/logo-art-sci-vert-color.svg\"/>\n",
       " <img alt=\"Washington University in St. Louis\" src=\"/themes/custom/olympian9/svg/logo-art-sci-color.svg\"/>\n",
       " </picture>\n",
       " </a>,\n",
       " <a alt=\" Department of Political Science  front page\" href=\"/\"> Department of Political Science </a>,\n",
       " <a data-drupal-link-system-path=\"node/13357\" href=\"/undergraduate\">Undergraduate Program</a>,\n",
       " <a data-drupal-link-system-path=\"node/13340\" href=\"/graduate-program\">Graduate Program</a>,\n",
       " <a data-drupal-link-system-path=\"node/14467\" href=\"/masters-degree-statistics-political-science-phd-students\">Master’s Degree in Statistics for Political Science Ph.D. Students</a>,\n",
       " <a data-drupal-link-system-path=\"node/13198\" href=\"/research\">Research</a>,\n",
       " <a aria-current=\"page\" class=\"is-active\" data-drupal-link-system-path=\"node/50\" href=\"/people\">Our People</a>,\n",
       " <a data-drupal-link-system-path=\"node/61\" href=\"/resources\">Resources</a>,\n",
       " <a href=\"https://gifts.wustl.edu/index.html?other_designation_description=Political%20Science\">Make a Gift to Political Science</a>,\n",
       " <a class=\"button top-left-menu solid red\" href=\"https://artsci.washu.edu/apply\" target=\"_blank\">Apply Today\n",
       "                <svg class=\"icon\"><use xlink:href=\"#link-out\"></use></svg>\n",
       " </a>]"
      ]
     },
     "execution_count": 57,
     "metadata": {},
     "output_type": "execute_result"
    }
   ],
   "source": [
    "sections[2].find_all('a')[0:10] "
   ]
  },
  {
   "cell_type": "markdown",
   "metadata": {
    "editable": true,
    "slideshow": {
     "slide_type": "subslide"
    },
    "tags": []
   },
   "source": [
    "* This gives us ALL `<a>` tags within the first valid `<div>` tag where `class` is 'first-level'"
   ]
  },
  {
   "cell_type": "code",
   "execution_count": 58,
   "metadata": {
    "editable": true,
    "slideshow": {
     "slide_type": "fragment"
    },
    "tags": []
   },
   "outputs": [
    {
     "data": {
      "text/plain": [
       "[]"
      ]
     },
     "execution_count": 58,
     "metadata": {},
     "output_type": "execute_result"
    }
   ],
   "source": [
    "sections[2].find_all('a', {'class' : 'first-level'}) "
   ]
  },
  {
   "cell_type": "markdown",
   "metadata": {
    "editable": true,
    "slideshow": {
     "slide_type": "subslide"
    },
    "tags": []
   },
   "source": [
    "##### We can also create a tree of objects. Here is an example: "
   ]
  },
  {
   "cell_type": "markdown",
   "metadata": {
    "editable": true,
    "slideshow": {
     "slide_type": "fragment"
    },
    "tags": []
   },
   "source": [
    "Let's find Prof. Taylor Carlson's profile on the department website. \n",
    "1. Find all `<a>` tags where `class` is 'card'"
   ]
  },
  {
   "cell_type": "code",
   "execution_count": 79,
   "metadata": {
    "editable": true,
    "scrolled": true,
    "slideshow": {
     "slide_type": "subslide"
    },
    "tags": []
   },
   "outputs": [
    {
     "name": "stdout",
     "output_type": "stream",
     "text": [
      "<a aria-label=\"View Taylor Carlson\" class=\"card\" href=\"/people/taylor-carlson\" id=\"faculty-card-container\">\n",
      "<article class=\"faculty-post\">\n",
      "<div class=\"image\">\n",
      "<img alt=\"Taylor Carlson\" height=\"320\" loading=\"lazy\" sizes=\"(max-width:480px) 85vw, 290px\" src=\"/sites/polisci.wustl.edu/files/styles/square_1_1_320w/public/PoliSci_Carlson_T_P1322772_0.jpg.webp\" srcset=\"https://polisci.wustl.edu/sites/polisci.wustl.edu/files/styles/square_1_1_190w/public/PoliSci_Carlson_T_P1322772_0.jpg.webp 190w, https://polisci.wustl.edu/sites/polisci.wustl.edu/files/styles/square_1_1_320w/public/PoliSci_Carlson_T_P1322772_0.jpg.webp 320w, https://polisci.wustl.edu/sites/polisci.wustl.edu/files/styles/square_1_1_480w/public/PoliSci_Carlson_T_P1322772_0.jpg.webp 480w\" width=\"320\"/>\n",
      "<h3>\n",
      "<div><span>Taylor</span></div>\n",
      "<div><span>Carlson</span></div>\n",
      "</h3>\n",
      "</div>\n",
      "<div class=\"dept\">\n",
      "                                Director of Graduate Studies Political Science\n",
      "                                  Associate Professor of Political Science<br>\n",
      "Weidenbaum Center Director of Survey Research\n",
      "                  </br></div>\n",
      "</article>\n",
      "</a>\n"
     ]
    }
   ],
   "source": [
    "taylor = soup.find(\"a\", {\"aria-label\": lambda x: x and \"Taylor Carlson\" in x})\n",
    "print(taylor)\n",
    "\n"
   ]
  },
  {
   "cell_type": "markdown",
   "metadata": {
    "editable": true,
    "slideshow": {
     "slide_type": "subslide"
    },
    "tags": []
   },
   "source": [
    "2. Manually examine where Prof. Carlson is located at. "
   ]
  },
  {
   "cell_type": "code",
   "execution_count": null,
   "metadata": {
    "editable": true,
    "slideshow": {
     "slide_type": "fragment"
    },
    "tags": []
   },
   "outputs": [
    {
     "data": {
      "text/plain": [
       "<a aria-label=\"View Christina L. Boyd\" class=\"card\" href=\"/people/christina-l-boyd\" id=\"faculty-card-container\">\n",
       "<article class=\"faculty-post\">\n",
       "<div class=\"image\">\n",
       "<img alt=\"Christy Boyd decorative image\" height=\"320\" loading=\"lazy\" sizes=\"(max-width:480px) 85vw, 290px\" src=\"/sites/polisci.wustl.edu/files/styles/square_1_1_320w/public/People/boyd%20headshot_0.png.webp\" srcset=\"https://polisci.wustl.edu/sites/polisci.wustl.edu/files/styles/square_1_1_190w/public/People/boyd%20headshot_0.png.webp 190w, https://polisci.wustl.edu/sites/polisci.wustl.edu/files/styles/square_1_1_320w/public/People/boyd%20headshot_0.png.webp 320w, https://polisci.wustl.edu/sites/polisci.wustl.edu/files/styles/square_1_1_480w/public/People/boyd%20headshot_0.png.webp 480w\" width=\"320\"/>\n",
       "<h3>\n",
       "<div><span>Christina L.</span></div>\n",
       "<div><span>Boyd</span></div>\n",
       "</h3>\n",
       "</div>\n",
       "<div class=\"dept\">\n",
       "                                Professor of Law and Political Science\n",
       "                            </div>\n",
       "</article>\n",
       "</a>"
      ]
     },
     "execution_count": 60,
     "metadata": {},
     "output_type": "execute_result"
    }
   ],
   "source": [
    "# all_people = soup.find_all('a', {'class' : \"card\"})\n",
    "# taylor = all_people[6]\n",
    "# taylor"
   ]
  },
  {
   "cell_type": "markdown",
   "metadata": {
    "editable": true,
    "slideshow": {
     "slide_type": "fragment"
    },
    "tags": []
   },
   "source": [
    "3. Find the heading that contains Prof. Carlson's first and last name."
   ]
  },
  {
   "cell_type": "code",
   "execution_count": 81,
   "metadata": {
    "editable": true,
    "slideshow": {
     "slide_type": "fragment"
    },
    "tags": []
   },
   "outputs": [
    {
     "data": {
      "text/plain": [
       "[<h3>\n",
       " <div><span>Taylor</span></div>\n",
       " <div><span>Carlson</span></div>\n",
       " </h3>]"
      ]
     },
     "execution_count": 81,
     "metadata": {},
     "output_type": "execute_result"
    }
   ],
   "source": [
    "taylor.find_all('h3')\n",
    "# taylor.find('h3').text"
   ]
  },
  {
   "cell_type": "markdown",
   "metadata": {
    "editable": true,
    "slideshow": {
     "slide_type": "subslide"
    },
    "tags": []
   },
   "source": [
    "4. Check the contents contained within this `<a>` tag for Prof. Carlson. \n",
    "Notice that this is basically the same output as above, but without the `<a></a>` tags. So it is returning everything nested within the 'a' tag."
   ]
  },
  {
   "cell_type": "code",
   "execution_count": 82,
   "metadata": {
    "editable": true,
    "slideshow": {
     "slide_type": "fragment"
    },
    "tags": []
   },
   "outputs": [
    {
     "data": {
      "text/plain": [
       "['\\n',\n",
       " <article class=\"faculty-post\">\n",
       " <div class=\"image\">\n",
       " <img alt=\"Taylor Carlson\" height=\"320\" loading=\"lazy\" sizes=\"(max-width:480px) 85vw, 290px\" src=\"/sites/polisci.wustl.edu/files/styles/square_1_1_320w/public/PoliSci_Carlson_T_P1322772_0.jpg.webp\" srcset=\"https://polisci.wustl.edu/sites/polisci.wustl.edu/files/styles/square_1_1_190w/public/PoliSci_Carlson_T_P1322772_0.jpg.webp 190w, https://polisci.wustl.edu/sites/polisci.wustl.edu/files/styles/square_1_1_320w/public/PoliSci_Carlson_T_P1322772_0.jpg.webp 320w, https://polisci.wustl.edu/sites/polisci.wustl.edu/files/styles/square_1_1_480w/public/PoliSci_Carlson_T_P1322772_0.jpg.webp 480w\" width=\"320\"/>\n",
       " <h3>\n",
       " <div><span>Taylor</span></div>\n",
       " <div><span>Carlson</span></div>\n",
       " </h3>\n",
       " </div>\n",
       " <div class=\"dept\">\n",
       "                                 Director of Graduate Studies Political Science\n",
       "                                   Associate Professor of Political Science<br>\n",
       " Weidenbaum Center Director of Survey Research\n",
       "                   </br></div>\n",
       " </article>,\n",
       " '\\n']"
      ]
     },
     "execution_count": 82,
     "metadata": {},
     "output_type": "execute_result"
    }
   ],
   "source": [
    "taylor.contents"
   ]
  },
  {
   "cell_type": "markdown",
   "metadata": {
    "editable": true,
    "slideshow": {
     "slide_type": "subslide"
    },
    "tags": []
   },
   "source": [
    "* This is an iterator\n",
    "* Remember: iterators are objects that we access with loops"
   ]
  },
  {
   "cell_type": "code",
   "execution_count": 83,
   "metadata": {
    "editable": true,
    "slideshow": {
     "slide_type": "fragment"
    },
    "tags": []
   },
   "outputs": [
    {
     "data": {
      "text/plain": [
       "<generator object Tag.children.<locals>.<genexpr> at 0x107b5fdc0>"
      ]
     },
     "execution_count": 83,
     "metadata": {},
     "output_type": "execute_result"
    }
   ],
   "source": [
    "taylor.children"
   ]
  },
  {
   "cell_type": "markdown",
   "metadata": {
    "editable": true,
    "slideshow": {
     "slide_type": "fragment"
    },
    "tags": []
   },
   "source": [
    "5. Print all nested elements within 'taylor'"
   ]
  },
  {
   "cell_type": "code",
   "execution_count": 84,
   "metadata": {
    "editable": true,
    "slideshow": {
     "slide_type": "fragment"
    },
    "tags": []
   },
   "outputs": [
    {
     "name": "stdout",
     "output_type": "stream",
     "text": [
      "Child 0: \n",
      " \n",
      "\n",
      "Child 1: <article class=\"faculty-post\">\n",
      "<div class=\"image\">\n",
      "<img alt=\"Taylor Carlson\" height=\"320\" loading=\"lazy\" sizes=\"(max-width:480px) 85vw, 290px\" src=\"/sites/polisci.wustl.edu/files/styles/square_1_1_320w/public/PoliSci_Carlson_T_P1322772_0.jpg.webp\" srcset=\"https://polisci.wustl.edu/sites/polisci.wustl.edu/files/styles/square_1_1_190w/public/PoliSci_Carlson_T_P1322772_0.jpg.webp 190w, https://polisci.wustl.edu/sites/polisci.wustl.edu/files/styles/square_1_1_320w/public/PoliSci_Carlson_T_P1322772_0.jpg.webp 320w, https://polisci.wustl.edu/sites/polisci.wustl.edu/files/styles/square_1_1_480w/public/PoliSci_Carlson_T_P1322772_0.jpg.webp 480w\" width=\"320\"/>\n",
      "<h3>\n",
      "<div><span>Taylor</span></div>\n",
      "<div><span>Carlson</span></div>\n",
      "</h3>\n",
      "</div>\n",
      "<div class=\"dept\">\n",
      "                                Director of Graduate Studies Political Science\n",
      "                                  Associate Professor of Political Science<br>\n",
      "Weidenbaum Center Director of Survey Research\n",
      "                  </br></div>\n",
      "</article> \n",
      "\n",
      "Child 2: \n",
      " \n",
      "\n"
     ]
    }
   ],
   "source": [
    "# there is only one child element in this case\n",
    "for i, child in enumerate(taylor.children):\n",
    "    print(\"Child %d: %s\" % (i,child), '\\n') "
   ]
  },
  {
   "cell_type": "markdown",
   "metadata": {
    "editable": true,
    "slideshow": {
     "slide_type": "subslide"
    },
    "tags": []
   },
   "source": [
    "##### Let's now look at sibling tags of `taylor`"
   ]
  },
  {
   "cell_type": "code",
   "execution_count": 85,
   "metadata": {
    "editable": true,
    "slideshow": {
     "slide_type": "fragment"
    },
    "tags": []
   },
   "outputs": [],
   "source": [
    "# Siblings (Example):\n",
    "\n",
    "# <html>\n",
    "#   <body>\n",
    "#       <a>\n",
    "#         <b>\n",
    "#          text1\n",
    "#         </b>\n",
    "#         <c>\n",
    "#          text2\n",
    "#         </c>\n",
    "#       </a>\n",
    "#   </body>\n",
    "# </html>\n",
    "\n",
    "\n",
    "# Which two tags are on the same level? "
   ]
  },
  {
   "cell_type": "markdown",
   "metadata": {
    "editable": true,
    "slideshow": {
     "slide_type": "subslide"
    },
    "tags": []
   },
   "source": [
    "* See siblings *after* `taylor` in the sequence of `<a>` tags"
   ]
  },
  {
   "cell_type": "code",
   "execution_count": 101,
   "metadata": {},
   "outputs": [
    {
     "name": "stdout",
     "output_type": "stream",
     "text": [
      "a View David Carter /people/david-carter\n",
      "a View Zeynep Ceren Topac /people/zeynep-ceren-topac\n"
     ]
    }
   ],
   "source": [
    "from bs4 import NavigableString\n",
    "\n",
    "\n",
    "siblings = [s for s in taylor.next_siblings if not isinstance(s, NavigableString)]\n",
    "for sib in siblings[:2]:\n",
    "    print(sib.name, sib.get(\"aria-label\"), sib.get(\"href\"))"
   ]
  },
  {
   "cell_type": "markdown",
   "metadata": {
    "editable": true,
    "slideshow": {
     "slide_type": "subslide"
    },
    "tags": []
   },
   "source": [
    "* Or see siblings *before* `taylor` in the sequence of `<a>` tags"
   ]
  },
  {
   "cell_type": "code",
   "execution_count": 109,
   "metadata": {},
   "outputs": [
    {
     "name": "stdout",
     "output_type": "stream",
     "text": [
      "a View Daniel  Butler /people/daniel-butler\n",
      "a View Christina L. Boyd /people/christina-l-boyd\n"
     ]
    }
   ],
   "source": [
    "siblings2 = [s for s in taylor.previous_siblings if not isinstance(s, NavigableString)]\n",
    "for sib in [siblings2[3], siblings2[5]]:\n",
    "    print(sib.name, sib.get(\"aria-label\"), sib.get(\"href\"))"
   ]
  },
  {
   "cell_type": "markdown",
   "metadata": {
    "editable": true,
    "slideshow": {
     "slide_type": "slide"
    },
    "tags": []
   },
   "source": [
    "#### 1.4 Crawler Detection"
   ]
  },
  {
   "cell_type": "markdown",
   "metadata": {
    "editable": true,
    "slideshow": {
     "slide_type": ""
    },
    "tags": []
   },
   "source": [
    "##### Crawlers are incredibly fast, but also easier to detect and block. "
   ]
  },
  {
   "cell_type": "markdown",
   "metadata": {
    "editable": true,
    "slideshow": {
     "slide_type": "fragment"
    },
    "tags": []
   },
   "source": [
    "You can incorporate some pauses to avoid detection. Strategies include: \n",
    "\n",
    "1. Using a random number generator to sleep for a random number of seconds\n",
    "2. After each iteration, sleep for a fixed number of seconds"
   ]
  },
  {
   "cell_type": "markdown",
   "metadata": {
    "editable": true,
    "slideshow": {
     "slide_type": "subslide"
    },
    "tags": []
   },
   "source": [
    "##### Import module `random` to generate random numbers, and module `time` to control the pauses in your code"
   ]
  },
  {
   "cell_type": "markdown",
   "metadata": {
    "editable": true,
    "slideshow": {
     "slide_type": "fragment"
    },
    "tags": []
   },
   "source": [
    "* Random-second pause approach"
   ]
  },
  {
   "cell_type": "code",
   "execution_count": 88,
   "metadata": {
    "editable": true,
    "slideshow": {
     "slide_type": "fragment"
    },
    "tags": []
   },
   "outputs": [
    {
     "name": "stdout",
     "output_type": "stream",
     "text": [
      "Pause Ended\n"
     ]
    }
   ],
   "source": [
    "import random\n",
    "import time\n",
    "\n",
    "# Script will pause for n seconds\n",
    "time.sleep(random.uniform(1, 5))\n",
    "print('Pause Ended')"
   ]
  },
  {
   "cell_type": "markdown",
   "metadata": {
    "editable": true,
    "slideshow": {
     "slide_type": "fragment"
    },
    "tags": []
   },
   "source": [
    "* Fixed-second pause approach"
   ]
  },
  {
   "cell_type": "code",
   "execution_count": 89,
   "metadata": {
    "editable": true,
    "slideshow": {
     "slide_type": "fragment"
    },
    "tags": []
   },
   "outputs": [
    {
     "name": "stdout",
     "output_type": "stream",
     "text": [
      "done\n"
     ]
    }
   ],
   "source": [
    "time.sleep(5)\n",
    "print('done')"
   ]
  },
  {
   "cell_type": "markdown",
   "metadata": {
    "editable": true,
    "slideshow": {
     "slide_type": "slide"
    },
    "tags": []
   },
   "source": [
    "#### 1.5 Remote Drivers"
   ]
  },
  {
   "cell_type": "markdown",
   "metadata": {
    "editable": true,
    "slideshow": {
     "slide_type": "fragment"
    },
    "tags": []
   },
   "source": [
    "##### Selenium is a “remote driver” of your favorite browser. "
   ]
  },
  {
   "cell_type": "markdown",
   "metadata": {
    "editable": true,
    "slideshow": {
     "slide_type": "fragment"
    },
    "tags": []
   },
   "source": [
    "* You can pretty much simulate behavior of a human “surfing the web”. \n",
    "* With the right tricks, the likelihood of tracking and blocking your “bot” decreases.\n",
    "* It also offers flexibility in terms of “unknown” items: you can even look by name of buttons in the page. "
   ]
  },
  {
   "cell_type": "markdown",
   "metadata": {
    "editable": true,
    "slideshow": {
     "slide_type": "fragment"
    },
    "tags": []
   },
   "source": [
    "##### There are some downsides though...\n",
    "  - It is slower\n",
    "  - It is dependent on your internet connection quality"
   ]
  },
  {
   "cell_type": "markdown",
   "metadata": {
    "editable": true,
    "slideshow": {
     "slide_type": "subslide"
    },
    "tags": []
   },
   "source": [
    "##### Let's walk through an example using Selenium"
   ]
  },
  {
   "cell_type": "markdown",
   "metadata": {
    "editable": true,
    "slideshow": {
     "slide_type": "fragment"
    },
    "tags": []
   },
   "source": [
    "* If you haven't already, make sure to install `Selenium` by running\n",
    "    * `pip install selenium` in terminal or command line, or\n",
    "    * `!pip install selenium` in a Jupyter notebook cell\n",
    "\n",
    "download appropriate web driver from browser, e.g. https://chromedriver.chromium.org/downloads\n"
   ]
  },
  {
   "cell_type": "code",
   "execution_count": 90,
   "metadata": {
    "editable": true,
    "slideshow": {
     "slide_type": "fragment"
    },
    "tags": []
   },
   "outputs": [],
   "source": [
    "from selenium import webdriver\n",
    "from selenium.webdriver.chrome.options import Options\n",
    "from selenium.webdriver.chrome.service import Service\n",
    "from selenium.webdriver.common.keys import Keys"
   ]
  },
  {
   "cell_type": "markdown",
   "metadata": {
    "editable": true,
    "slideshow": {
     "slide_type": "subslide"
    },
    "tags": []
   },
   "source": [
    "1. Give the path to your driver."
   ]
  },
  {
   "cell_type": "code",
   "execution_count": 91,
   "metadata": {
    "editable": true,
    "slideshow": {
     "slide_type": ""
    },
    "tags": []
   },
   "outputs": [],
   "source": [
    "import os"
   ]
  },
  {
   "cell_type": "code",
   "execution_count": 92,
   "metadata": {
    "editable": true,
    "slideshow": {
     "slide_type": ""
    },
    "tags": []
   },
   "outputs": [
    {
     "data": {
      "text/plain": [
       "'/Users/riverjeon/Documents/github/PythonCamp2025/Day02/Day02_Part02/Lecture'"
      ]
     },
     "execution_count": 92,
     "metadata": {},
     "output_type": "execute_result"
    }
   ],
   "source": [
    "os.getcwd()"
   ]
  },
  {
   "cell_type": "code",
   "execution_count": 93,
   "metadata": {
    "editable": true,
    "slideshow": {
     "slide_type": "fragment"
    },
    "tags": []
   },
   "outputs": [
    {
     "ename": "NoSuchDriverException",
     "evalue": "Message: Unable to obtain driver for chrome; For documentation on this error, please visit: https://www.selenium.dev/documentation/webdriver/troubleshooting/errors/driver_location\n",
     "output_type": "error",
     "traceback": [
      "\u001b[31m---------------------------------------------------------------------------\u001b[39m",
      "\u001b[31mValueError\u001b[39m                                Traceback (most recent call last)",
      "\u001b[36mFile \u001b[39m\u001b[32m/Library/Frameworks/Python.framework/Versions/3.13/lib/python3.13/site-packages/selenium/webdriver/common/driver_finder.py:64\u001b[39m, in \u001b[36mDriverFinder._binary_paths\u001b[39m\u001b[34m(self)\u001b[39m\n\u001b[32m     63\u001b[39m \u001b[38;5;28;01mif\u001b[39;00m \u001b[38;5;129;01mnot\u001b[39;00m Path(path).is_file():\n\u001b[32m---> \u001b[39m\u001b[32m64\u001b[39m     \u001b[38;5;28;01mraise\u001b[39;00m \u001b[38;5;167;01mValueError\u001b[39;00m(\u001b[33mf\u001b[39m\u001b[33m\"\u001b[39m\u001b[33mThe path is not a valid file: \u001b[39m\u001b[38;5;132;01m{\u001b[39;00mpath\u001b[38;5;132;01m}\u001b[39;00m\u001b[33m\"\u001b[39m)\n\u001b[32m     65\u001b[39m \u001b[38;5;28mself\u001b[39m._paths[\u001b[33m\"\u001b[39m\u001b[33mdriver_path\u001b[39m\u001b[33m\"\u001b[39m] = path\n",
      "\u001b[31mValueError\u001b[39m: The path is not a valid file: /Users/almavelazquez/Documents/GitHub/PythonCamp2024/Day04/Lecture/chromedriver",
      "\nThe above exception was the direct cause of the following exception:\n",
      "\u001b[31mNoSuchDriverException\u001b[39m                     Traceback (most recent call last)",
      "\u001b[36mCell\u001b[39m\u001b[36m \u001b[39m\u001b[32mIn[93]\u001b[39m\u001b[32m, line 4\u001b[39m\n\u001b[32m      2\u001b[39m driver_path = Service(\u001b[33m'\u001b[39m\u001b[33m/Users/almavelazquez/Documents/GitHub/PythonCamp2024/Day04/Lecture/chromedriver\u001b[39m\u001b[33m'\u001b[39m)\n\u001b[32m      3\u001b[39m \u001b[38;5;66;03m# if on Windows, may need to add '.exe' at the end of path\u001b[39;00m\n\u001b[32m----> \u001b[39m\u001b[32m4\u001b[39m driver = \u001b[43mwebdriver\u001b[49m\u001b[43m.\u001b[49m\u001b[43mChrome\u001b[49m\u001b[43m(\u001b[49m\u001b[43mservice\u001b[49m\u001b[43m \u001b[49m\u001b[43m=\u001b[49m\u001b[43m \u001b[49m\u001b[43mdriver_path\u001b[49m\u001b[43m)\u001b[49m\n",
      "\u001b[36mFile \u001b[39m\u001b[32m/Library/Frameworks/Python.framework/Versions/3.13/lib/python3.13/site-packages/selenium/webdriver/chrome/webdriver.py:47\u001b[39m, in \u001b[36mWebDriver.__init__\u001b[39m\u001b[34m(self, options, service, keep_alive)\u001b[39m\n\u001b[32m     44\u001b[39m service = service \u001b[38;5;28;01mif\u001b[39;00m service \u001b[38;5;28;01melse\u001b[39;00m Service()\n\u001b[32m     45\u001b[39m options = options \u001b[38;5;28;01mif\u001b[39;00m options \u001b[38;5;28;01melse\u001b[39;00m Options()\n\u001b[32m---> \u001b[39m\u001b[32m47\u001b[39m \u001b[38;5;28;43msuper\u001b[39;49m\u001b[43m(\u001b[49m\u001b[43m)\u001b[49m\u001b[43m.\u001b[49m\u001b[34;43m__init__\u001b[39;49m\u001b[43m(\u001b[49m\n\u001b[32m     48\u001b[39m \u001b[43m    \u001b[49m\u001b[43mbrowser_name\u001b[49m\u001b[43m=\u001b[49m\u001b[43mDesiredCapabilities\u001b[49m\u001b[43m.\u001b[49m\u001b[43mCHROME\u001b[49m\u001b[43m[\u001b[49m\u001b[33;43m\"\u001b[39;49m\u001b[33;43mbrowserName\u001b[39;49m\u001b[33;43m\"\u001b[39;49m\u001b[43m]\u001b[49m\u001b[43m,\u001b[49m\n\u001b[32m     49\u001b[39m \u001b[43m    \u001b[49m\u001b[43mvendor_prefix\u001b[49m\u001b[43m=\u001b[49m\u001b[33;43m\"\u001b[39;49m\u001b[33;43mgoog\u001b[39;49m\u001b[33;43m\"\u001b[39;49m\u001b[43m,\u001b[49m\n\u001b[32m     50\u001b[39m \u001b[43m    \u001b[49m\u001b[43moptions\u001b[49m\u001b[43m=\u001b[49m\u001b[43moptions\u001b[49m\u001b[43m,\u001b[49m\n\u001b[32m     51\u001b[39m \u001b[43m    \u001b[49m\u001b[43mservice\u001b[49m\u001b[43m=\u001b[49m\u001b[43mservice\u001b[49m\u001b[43m,\u001b[49m\n\u001b[32m     52\u001b[39m \u001b[43m    \u001b[49m\u001b[43mkeep_alive\u001b[49m\u001b[43m=\u001b[49m\u001b[43mkeep_alive\u001b[49m\u001b[43m,\u001b[49m\n\u001b[32m     53\u001b[39m \u001b[43m\u001b[49m\u001b[43m)\u001b[49m\n",
      "\u001b[36mFile \u001b[39m\u001b[32m/Library/Frameworks/Python.framework/Versions/3.13/lib/python3.13/site-packages/selenium/webdriver/chromium/webdriver.py:53\u001b[39m, in \u001b[36mChromiumDriver.__init__\u001b[39m\u001b[34m(self, browser_name, vendor_prefix, options, service, keep_alive)\u001b[39m\n\u001b[32m     50\u001b[39m \u001b[38;5;28mself\u001b[39m.service = service\n\u001b[32m     52\u001b[39m finder = DriverFinder(\u001b[38;5;28mself\u001b[39m.service, options)\n\u001b[32m---> \u001b[39m\u001b[32m53\u001b[39m \u001b[38;5;28;01mif\u001b[39;00m \u001b[43mfinder\u001b[49m\u001b[43m.\u001b[49m\u001b[43mget_browser_path\u001b[49m\u001b[43m(\u001b[49m\u001b[43m)\u001b[49m:\n\u001b[32m     54\u001b[39m     options.binary_location = finder.get_browser_path()\n\u001b[32m     55\u001b[39m     options.browser_version = \u001b[38;5;28;01mNone\u001b[39;00m\n",
      "\u001b[36mFile \u001b[39m\u001b[32m/Library/Frameworks/Python.framework/Versions/3.13/lib/python3.13/site-packages/selenium/webdriver/common/driver_finder.py:47\u001b[39m, in \u001b[36mDriverFinder.get_browser_path\u001b[39m\u001b[34m(self)\u001b[39m\n\u001b[32m     46\u001b[39m \u001b[38;5;28;01mdef\u001b[39;00m\u001b[38;5;250m \u001b[39m\u001b[34mget_browser_path\u001b[39m(\u001b[38;5;28mself\u001b[39m) -> \u001b[38;5;28mstr\u001b[39m:\n\u001b[32m---> \u001b[39m\u001b[32m47\u001b[39m     \u001b[38;5;28;01mreturn\u001b[39;00m \u001b[38;5;28;43mself\u001b[39;49m\u001b[43m.\u001b[49m\u001b[43m_binary_paths\u001b[49m\u001b[43m(\u001b[49m\u001b[43m)\u001b[49m[\u001b[33m\"\u001b[39m\u001b[33mbrowser_path\u001b[39m\u001b[33m\"\u001b[39m]\n",
      "\u001b[36mFile \u001b[39m\u001b[32m/Library/Frameworks/Python.framework/Versions/3.13/lib/python3.13/site-packages/selenium/webdriver/common/driver_finder.py:78\u001b[39m, in \u001b[36mDriverFinder._binary_paths\u001b[39m\u001b[34m(self)\u001b[39m\n\u001b[32m     76\u001b[39m \u001b[38;5;28;01mexcept\u001b[39;00m \u001b[38;5;167;01mException\u001b[39;00m \u001b[38;5;28;01mas\u001b[39;00m err:\n\u001b[32m     77\u001b[39m     msg = \u001b[33mf\u001b[39m\u001b[33m\"\u001b[39m\u001b[33mUnable to obtain driver for \u001b[39m\u001b[38;5;132;01m{\u001b[39;00mbrowser\u001b[38;5;132;01m}\u001b[39;00m\u001b[33m\"\u001b[39m\n\u001b[32m---> \u001b[39m\u001b[32m78\u001b[39m     \u001b[38;5;28;01mraise\u001b[39;00m NoSuchDriverException(msg) \u001b[38;5;28;01mfrom\u001b[39;00m\u001b[38;5;250m \u001b[39m\u001b[34;01merr\u001b[39;00m\n\u001b[32m     79\u001b[39m \u001b[38;5;28;01mreturn\u001b[39;00m \u001b[38;5;28mself\u001b[39m._paths\n",
      "\u001b[31mNoSuchDriverException\u001b[39m: Message: Unable to obtain driver for chrome; For documentation on this error, please visit: https://www.selenium.dev/documentation/webdriver/troubleshooting/errors/driver_location\n"
     ]
    }
   ],
   "source": [
    "# Interactive example:\n",
    "driver_path = Service('/Users/almavelazquez/Documents/GitHub/PythonCamp2024/Day04/Lecture/chromedriver')\n",
    "# if on Windows, may need to add '.exe' at the end of path\n",
    "driver = webdriver.Chrome(service = driver_path)"
   ]
  },
  {
   "cell_type": "markdown",
   "metadata": {
    "editable": true,
    "slideshow": {
     "slide_type": "fragment"
    },
    "tags": []
   },
   "source": [
    "2. Start the web driver"
   ]
  },
  {
   "cell_type": "code",
   "execution_count": null,
   "metadata": {
    "editable": true,
    "slideshow": {
     "slide_type": "fragment"
    },
    "tags": []
   },
   "outputs": [],
   "source": [
    "driver.get('https://www.google.com')"
   ]
  },
  {
   "cell_type": "markdown",
   "metadata": {
    "editable": true,
    "slideshow": {
     "slide_type": "subslide"
    },
    "tags": []
   },
   "source": [
    "3. Find the search element and enter text"
   ]
  },
  {
   "cell_type": "code",
   "execution_count": null,
   "metadata": {
    "editable": true,
    "slideshow": {
     "slide_type": "fragment"
    },
    "tags": []
   },
   "outputs": [],
   "source": [
    "search = driver.find_element(\"name\", \"q\")\n",
    "search.send_keys('WUSTL Political Science')"
   ]
  },
  {
   "cell_type": "markdown",
   "metadata": {
    "editable": true,
    "slideshow": {
     "slide_type": "fragment"
    },
    "tags": []
   },
   "source": [
    "4. press Enter / Return (simulate this action using your driver)"
   ]
  },
  {
   "cell_type": "code",
   "execution_count": null,
   "metadata": {
    "editable": true,
    "slideshow": {
     "slide_type": "fragment"
    },
    "tags": []
   },
   "outputs": [],
   "source": [
    "search.submit()"
   ]
  },
  {
   "cell_type": "markdown",
   "metadata": {
    "editable": true,
    "slideshow": {
     "slide_type": "fragment"
    },
    "tags": []
   },
   "source": [
    "5. Close the browser (make sure to always close your browser after web scraping)"
   ]
  },
  {
   "cell_type": "code",
   "execution_count": null,
   "metadata": {
    "editable": true,
    "slideshow": {
     "slide_type": "fragment"
    },
    "tags": []
   },
   "outputs": [],
   "source": [
    "driver.close()"
   ]
  },
  {
   "cell_type": "markdown",
   "metadata": {
    "editable": true,
    "slideshow": {
     "slide_type": "slide"
    },
    "tags": []
   },
   "source": [
    "### 2. Combining Approaches"
   ]
  },
  {
   "cell_type": "markdown",
   "metadata": {
    "editable": true,
    "slideshow": {
     "slide_type": "fragment"
    },
    "tags": []
   },
   "source": [
    "##### Let's combine the approaches and scrape some data from the Iceland Parliament! "
   ]
  },
  {
   "cell_type": "code",
   "execution_count": null,
   "metadata": {
    "editable": true,
    "slideshow": {
     "slide_type": "fragment"
    },
    "tags": []
   },
   "outputs": [
    {
     "data": {
      "text/plain": [
       "[<a href=\"?nfaerslunr=179\">Andrés Ingi Jónsson</a>,\n",
       " <a href=\"?nfaerslunr=223\">Arndís Anna Kristínardóttir Gunnarsdóttir</a>,\n",
       " <a href=\"?nfaerslunr=224\">Ágúst Bjarni Garðarsson</a>,\n",
       " <a href=\"?nfaerslunr=182\">Áslaug Arna Sigurbjörnsdóttir</a>,\n",
       " <a href=\"?nfaerslunr=121\">Ásmundur Einar Daðason</a>,\n",
       " <a href=\"?nfaerslunr=167\">Ásmundur Friðriksson</a>,\n",
       " <a href=\"?nfaerslunr=245\">Ásthildur Lóa Þórsdóttir</a>,\n",
       " <a href=\"?nfaerslunr=225\">Berglind Ósk Guðmundsdóttir</a>,\n",
       " <a href=\"?nfaerslunr=213\">Bergþór Ólason</a>,\n",
       " <a href=\"?nfaerslunr=36\">Birgir Ármannsson</a>]"
      ]
     },
     "execution_count": 99,
     "metadata": {},
     "output_type": "execute_result"
    }
   ],
   "source": [
    "# Define Webpage\n",
    "url = \"https://www.althingi.is/altext/cv/en/\"\n",
    "# Use a crawler to get all pages for MPs\n",
    "web_page = urllib.request.urlopen(url)\n",
    "# Parse the HTML\n",
    "soup = BeautifulSoup(web_page.read())#, \"html.parser\") # html.parser severs as a basis for parsing text files in HTML format\n",
    "# Get all urls\n",
    "mps = soup.find('table').find_all('a', href = True)\n",
    "mps[0:10]"
   ]
  },
  {
   "cell_type": "markdown",
   "metadata": {
    "editable": true,
    "slideshow": {
     "slide_type": "subslide"
    },
    "tags": []
   },
   "source": [
    "* Create objects to store the data"
   ]
  },
  {
   "cell_type": "code",
   "execution_count": null,
   "metadata": {
    "editable": true,
    "slideshow": {
     "slide_type": "fragment"
    },
    "tags": []
   },
   "outputs": [],
   "source": [
    "page = []\n",
    "name = []\n",
    "party = []\n",
    "email = []"
   ]
  },
  {
   "cell_type": "markdown",
   "metadata": {
    "editable": true,
    "slideshow": {
     "slide_type": "fragment"
    },
    "tags": []
   },
   "source": [
    "* Run the following process for the first 2 cases"
   ]
  },
  {
   "cell_type": "code",
   "execution_count": null,
   "metadata": {
    "editable": true,
    "slideshow": {
     "slide_type": "fragment"
    },
    "tags": []
   },
   "outputs": [
    {
     "name": "stdout",
     "output_type": "stream",
     "text": [
      "0\n",
      "1\n"
     ]
    }
   ],
   "source": [
    "for i in range(0, 2):\n",
    "  print(i)\n",
    "  page.append(url + mps[i]['href'])\n",
    "  driver = webdriver.Chrome(service = driver_path)\n",
    "  driver.get(page[i])\n",
    "  html = driver.page_source\n",
    "  driver.close()\n",
    "  soup = BeautifulSoup(html)\n",
    "  name.append(soup.find(class_ = 'article box news').find('h1').text)\n",
    "  soup = soup.find(class_ = 'article box news').find('div', class_ = 'person')\n",
    "  party.append(soup.find(class_ = 'office').find_all('li')[1].text)\n",
    "  email.append(soup.find(class_ = 'contactinfo first notexternal').find('a', href = True)['href'].split(\":\")[1])\n",
    "  # time.sleep(5)"
   ]
  },
  {
   "cell_type": "markdown",
   "metadata": {
    "editable": true,
    "slideshow": {
     "slide_type": "subslide"
    },
    "tags": []
   },
   "source": [
    "* Examine the outputs"
   ]
  },
  {
   "cell_type": "code",
   "execution_count": null,
   "metadata": {
    "editable": true,
    "slideshow": {
     "slide_type": "fragment"
    },
    "tags": []
   },
   "outputs": [
    {
     "data": {
      "text/plain": [
       "['andresingi@althingi.is', 'arndisanna@althingi.is']"
      ]
     },
     "execution_count": 103,
     "metadata": {},
     "output_type": "execute_result"
    }
   ],
   "source": [
    "email"
   ]
  },
  {
   "cell_type": "code",
   "execution_count": null,
   "metadata": {
    "editable": true,
    "slideshow": {
     "slide_type": "fragment"
    },
    "tags": []
   },
   "outputs": [
    {
     "data": {
      "text/plain": [
       "['Party: Pirate Party', 'Party: Pirate Party']"
      ]
     },
     "execution_count": 104,
     "metadata": {},
     "output_type": "execute_result"
    }
   ],
   "source": [
    "party"
   ]
  },
  {
   "cell_type": "markdown",
   "metadata": {
    "editable": true,
    "slideshow": {
     "slide_type": "subslide"
    },
    "tags": []
   },
   "source": [
    "##### Scraping Tips\n",
    "- Google Chrome is better to track nodes and page sources\n",
    "- Inspect the source and get to know your document/website!\n",
    "- Selenium—Use the ’Copy Xpath’ command if you’re having troubles (Find it in \"Inspect\" in Google Chrome)\n",
    "- Use time breaks to avoid being blocked and be polite\n",
    "- Check the Terms of Service (whether you obey them or not). Please don't get sued. \n",
    "\n",
    "\n",
    "##### More on Selenium: https://selenium-python.readthedocs.io/locating-elements.html"
   ]
  },
  {
   "cell_type": "markdown",
   "metadata": {
    "editable": true,
    "slideshow": {
     "slide_type": "slide"
    },
    "tags": []
   },
   "source": [
    "### 3. Reading and Writing Files "
   ]
  },
  {
   "cell_type": "markdown",
   "metadata": {
    "editable": true,
    "slideshow": {
     "slide_type": "fragment"
    },
    "tags": []
   },
   "source": [
    "#### 3.1 Reading Files"
   ]
  },
  {
   "cell_type": "markdown",
   "metadata": {
    "editable": true,
    "slideshow": {
     "slide_type": "fragment"
    },
    "tags": []
   },
   "source": [
    "1. Import libraries"
   ]
  },
  {
   "cell_type": "code",
   "execution_count": null,
   "metadata": {
    "editable": true,
    "slideshow": {
     "slide_type": "fragment"
    },
    "tags": []
   },
   "outputs": [],
   "source": [
    "# import sys\n",
    "import os"
   ]
  },
  {
   "cell_type": "markdown",
   "metadata": {
    "editable": true,
    "slideshow": {
     "slide_type": "fragment"
    },
    "tags": []
   },
   "source": [
    "2. View your working directory"
   ]
  },
  {
   "cell_type": "code",
   "execution_count": null,
   "metadata": {
    "editable": true,
    "slideshow": {
     "slide_type": "fragment"
    },
    "tags": []
   },
   "outputs": [
    {
     "data": {
      "text/plain": [
       "'/Users/almavelazquez/Documents/GitHub/PythonCamp2024/Day04/Lecture'"
      ]
     },
     "execution_count": 109,
     "metadata": {},
     "output_type": "execute_result"
    }
   ],
   "source": [
    "os.getcwd()"
   ]
  },
  {
   "cell_type": "markdown",
   "metadata": {
    "editable": true,
    "slideshow": {
     "slide_type": "fragment"
    },
    "tags": []
   },
   "source": [
    "3. Set your working directory "
   ]
  },
  {
   "cell_type": "code",
   "execution_count": null,
   "metadata": {
    "editable": true,
    "slideshow": {
     "slide_type": "fragment"
    },
    "tags": []
   },
   "outputs": [],
   "source": [
    "os.chdir('/Users/almavelazquez/Documents/GitHub/PythonCamp2024/Day04/Lecture')"
   ]
  },
  {
   "cell_type": "markdown",
   "metadata": {
    "editable": true,
    "slideshow": {
     "slide_type": "subslide"
    },
    "tags": []
   },
   "source": [
    "3. Read lines from the file"
   ]
  },
  {
   "cell_type": "code",
   "execution_count": null,
   "metadata": {
    "editable": true,
    "slideshow": {
     "slide_type": "fragment"
    },
    "tags": []
   },
   "outputs": [
    {
     "name": "stdout",
     "output_type": "stream",
     "text": [
      "Here is line 1.\n",
      "Here is line 2.\n",
      "This is the final line.\n"
     ]
    }
   ],
   "source": [
    "# Read all lines as one string\n",
    "with open('readfile.txt') as f:\n",
    "  the_whole_thing = f.read()\n",
    "  print(the_whole_thing)"
   ]
  },
  {
   "cell_type": "code",
   "execution_count": null,
   "metadata": {
    "editable": true,
    "slideshow": {
     "slide_type": "fragment"
    },
    "tags": []
   },
   "outputs": [
    {
     "name": "stdout",
     "output_type": "stream",
     "text": [
      "Here is line 1.\n",
      "\n",
      "Here is line 2.\n",
      "\n",
      "This is the final line.\n"
     ]
    }
   ],
   "source": [
    "# Read line by line\n",
    "with open('readfile.txt') as f:\n",
    "  lines_list = f.readlines()\n",
    "  for l in lines_list:\n",
    "    print(l)"
   ]
  },
  {
   "cell_type": "code",
   "execution_count": null,
   "metadata": {
    "editable": true,
    "slideshow": {
     "slide_type": "subslide"
    },
    "tags": []
   },
   "outputs": [
    {
     "name": "stdout",
     "output_type": "stream",
     "text": [
      "Here is line 1.\n",
      "\n",
      "Here is line 2.\n",
      "\n",
      "This is the final line.\n"
     ]
    }
   ],
   "source": [
    "# More efficiently, we can loop over the file object (i.e. we don't need the variable lines)\n",
    "with open('readfile.txt') as f:   \n",
    "  for l in f:\n",
    "    print(l)"
   ]
  },
  {
   "cell_type": "code",
   "execution_count": null,
   "metadata": {
    "editable": true,
    "slideshow": {
     "slide_type": "fragment"
    },
    "tags": []
   },
   "outputs": [
    {
     "name": "stdout",
     "output_type": "stream",
     "text": [
      "Here is line 1.\n",
      "Here is line 2.\n",
      "This is the final line.\n"
     ]
    }
   ],
   "source": [
    "# We can also manually open and close files\n",
    "# I never do this\n",
    "f =  open('readfile.txt')\n",
    "print(f.read())\n",
    "f.close()"
   ]
  },
  {
   "cell_type": "markdown",
   "metadata": {
    "editable": true,
    "slideshow": {
     "slide_type": "subslide"
    },
    "tags": []
   },
   "source": [
    "Tips: \n",
    "- Try to minimize the number of times you open and close flies\n",
    "- It is very expensive and consumes limited resources --> if too many, it leads to errors \n",
    "\n",
    "_Source: https://www.geeksforgeeks.org/context-manager-in-python/_\n"
   ]
  },
  {
   "cell_type": "code",
   "execution_count": null,
   "metadata": {
    "editable": true,
    "slideshow": {
     "slide_type": "skip"
    },
    "tags": []
   },
   "outputs": [],
   "source": [
    "# file_descriptors = [] \n",
    "# for x in range(100000000000): \n",
    "#     file_descriptors.append(open('readfile.txt')) "
   ]
  },
  {
   "cell_type": "markdown",
   "metadata": {
    "editable": true,
    "slideshow": {
     "slide_type": "slide"
    },
    "tags": []
   },
   "source": [
    "#### 3.2 Writing Files"
   ]
  },
  {
   "cell_type": "markdown",
   "metadata": {
    "editable": true,
    "slideshow": {
     "slide_type": "fragment"
    },
    "tags": []
   },
   "source": [
    "1. Writing files is easy, but be careful not to overwrite the content you actually want\n",
    "2. See https://stackabuse.com/file-handling-in-python/ for more options"
   ]
  },
  {
   "cell_type": "markdown",
   "metadata": {
    "editable": true,
    "slideshow": {
     "slide_type": "fragment"
    },
    "tags": []
   },
   "source": [
    "* We need to use the option 'w'"
   ]
  },
  {
   "cell_type": "code",
   "execution_count": null,
   "metadata": {
    "editable": true,
    "slideshow": {
     "slide_type": "fragment"
    },
    "tags": []
   },
   "outputs": [],
   "source": [
    "with open('test_writefile.txt', 'w') as f:\n",
    "  ## wipes the file clean and opens it\n",
    "  f.write(\"Hi guys.\")\n",
    "  f.write(\"Does this go on the second line?\")\n",
    "  f.writelines(['a\\n', 'b\\n', 'c\\n'])"
   ]
  },
  {
   "cell_type": "code",
   "execution_count": null,
   "metadata": {
    "editable": true,
    "slideshow": {
     "slide_type": ""
    },
    "tags": []
   },
   "outputs": [],
   "source": [
    "# We use 'a' to append new information to it\n",
    "with open('test_writefile.txt', 'a') as f:\n",
    "  f.write(\"I got appended!\")"
   ]
  },
  {
   "cell_type": "markdown",
   "metadata": {
    "editable": true,
    "slideshow": {
     "slide_type": "subslide"
    },
    "tags": []
   },
   "source": [
    "##### Writing CSV files (pre-pandas)"
   ]
  },
  {
   "cell_type": "markdown",
   "metadata": {
    "editable": true,
    "slideshow": {
     "slide_type": "fragment"
    },
    "tags": []
   },
   "source": [
    "1. Import csv"
   ]
  },
  {
   "cell_type": "code",
   "execution_count": null,
   "metadata": {
    "editable": true,
    "slideshow": {
     "slide_type": "fragment"
    },
    "tags": []
   },
   "outputs": [],
   "source": [
    "import csv"
   ]
  },
  {
   "cell_type": "markdown",
   "metadata": {
    "editable": true,
    "slideshow": {
     "slide_type": "fragment"
    },
    "tags": []
   },
   "source": [
    "2. Open a file stream and create a `csv` writer object"
   ]
  },
  {
   "cell_type": "code",
   "execution_count": null,
   "metadata": {
    "editable": true,
    "slideshow": {
     "slide_type": "fragment"
    },
    "tags": []
   },
   "outputs": [],
   "source": [
    "# Open a file stream and create a CSV writer object\n",
    "with open('test_writecsv.csv', 'w') as f:\n",
    "  my_writer = csv.writer(f)\n",
    "  for i in range(1, 100):\n",
    "    my_writer.writerow([i, i-1])"
   ]
  },
  {
   "cell_type": "markdown",
   "metadata": {
    "editable": true,
    "slideshow": {
     "slide_type": "subslide"
    },
    "tags": []
   },
   "source": [
    "3. Now read the `csv` file"
   ]
  },
  {
   "cell_type": "code",
   "execution_count": null,
   "metadata": {
    "editable": true,
    "scrolled": true,
    "slideshow": {
     "slide_type": "fragment"
    },
    "tags": []
   },
   "outputs": [
    {
     "name": "stdout",
     "output_type": "stream",
     "text": [
      "['1', '0'] \n",
      " ['2', '1'] \n",
      " ['3', '2'] \n",
      " ['4', '3']\n"
     ]
    }
   ],
   "source": [
    "with open('test_writecsv.csv', 'r') as f:\n",
    "  my_reader = csv.reader(f)\n",
    "  mydat = []\n",
    "  for row in my_reader:\n",
    "    mydat.append(row)\n",
    "print(mydat[0],\"\\n\", mydat[1],\"\\n\", mydat[2],\"\\n\", mydat[3])"
   ]
  },
  {
   "cell_type": "markdown",
   "metadata": {
    "editable": true,
    "slideshow": {
     "slide_type": "fragment"
    },
    "tags": []
   },
   "source": [
    "4. Add column names "
   ]
  },
  {
   "cell_type": "code",
   "execution_count": null,
   "metadata": {
    "editable": true,
    "slideshow": {
     "slide_type": "fragment"
    },
    "tags": []
   },
   "outputs": [],
   "source": [
    "# Note that we are writing a new file\n",
    "with open('test_csvfields.csv', 'w') as f:\n",
    "  my_writer = csv.DictWriter(f, fieldnames = (\"A\", \"B\"))\n",
    "  my_writer.writeheader()\n",
    "  for i in range(1, 100):\n",
    "    my_writer.writerow({\"B\":i, \"A\":i-1})"
   ]
  },
  {
   "cell_type": "markdown",
   "metadata": {
    "editable": true,
    "slideshow": {
     "slide_type": "subslide"
    },
    "tags": []
   },
   "source": [
    "5. Read the new file"
   ]
  },
  {
   "cell_type": "code",
   "execution_count": null,
   "metadata": {
    "editable": true,
    "scrolled": true,
    "slideshow": {
     "slide_type": "fragment"
    },
    "tags": []
   },
   "outputs": [
    {
     "name": "stdout",
     "output_type": "stream",
     "text": [
      "{'A': '0', 'B': '1'}\n",
      "{'A': '1', 'B': '2'}\n",
      "{'A': '2', 'B': '3'}\n",
      "{'A': '3', 'B': '4'}\n",
      "{'A': '4', 'B': '5'}\n"
     ]
    }
   ],
   "source": [
    "b = 0\n",
    "with open('test_csvfields.csv', 'r') as f:\n",
    "  my_reader = csv.DictReader(f)\n",
    "  for row in my_reader:\n",
    "      if b<5:\n",
    "          print(row)\n",
    "          b +=1"
   ]
  },
  {
   "cell_type": "markdown",
   "metadata": {
    "editable": true,
    "slideshow": {
     "slide_type": "subslide"
    },
    "tags": []
   },
   "source": [
    "##### Some Tips"
   ]
  },
  {
   "cell_type": "markdown",
   "metadata": {
    "editable": true,
    "slideshow": {
     "slide_type": "fragment"
    },
    "tags": []
   },
   "source": [
    "- Tip 1: We may find useful to save webpages for collecting data (to `.html` files)"
   ]
  },
  {
   "cell_type": "code",
   "execution_count": null,
   "metadata": {
    "editable": true,
    "slideshow": {
     "slide_type": "fragment"
    },
    "tags": []
   },
   "outputs": [],
   "source": [
    "import os"
   ]
  },
  {
   "cell_type": "code",
   "execution_count": null,
   "metadata": {
    "editable": true,
    "slideshow": {
     "slide_type": "fragment"
    },
    "tags": []
   },
   "outputs": [],
   "source": [
    "def download_page(address, filename, wait = 5):\n",
    "  time.sleep(random.uniform(0,wait))\n",
    "  page = urllib.request.urlopen(address)\n",
    "  page_content = page.read()\n",
    "  if os.path.exists(filename) == False:\n",
    "    with open(filename, 'w') as p_html:\n",
    "      p_html.write(str(page_content)) # needed to cast as string\n",
    "  else:\n",
    "    print(\"Can't overwrite file \" + filename)\n",
    "\n",
    "download_page('https://polisci.wustl.edu/people/88/', \"polisci_ppl.html\")"
   ]
  },
  {
   "cell_type": "markdown",
   "metadata": {
    "editable": true,
    "slideshow": {
     "slide_type": "subslide"
    },
    "tags": []
   },
   "source": [
    "Then, we can parse a page that is already saved on your computer even without access to internet. "
   ]
  },
  {
   "cell_type": "code",
   "execution_count": null,
   "metadata": {
    "editable": true,
    "scrolled": true,
    "slideshow": {
     "slide_type": "fragment"
    },
    "tags": []
   },
   "outputs": [],
   "source": [
    "with open('polisci_ppl.html') as f:\n",
    "  myfile = f.read()\n",
    "  soup = BeautifulSoup(myfile)\n",
    "# soup.prettify()"
   ]
  },
  {
   "cell_type": "markdown",
   "metadata": {
    "editable": true,
    "slideshow": {
     "slide_type": "fragment"
    },
    "tags": []
   },
   "source": [
    "- Tip 2: You may also write directly from a website to a `csv` file. This is good practice as it ensures a break 10 hours into the process does not erase all of your data. \n",
    "- Tip 3: Use Exception Handling techniques that we covered in Day03"
   ]
  },
  {
   "cell_type": "code",
   "execution_count": null,
   "metadata": {
    "editable": true,
    "slideshow": {
     "slide_type": "subslide"
    },
    "tags": []
   },
   "outputs": [],
   "source": [
    "with open('iceland_test.csv', 'w') as f: # set up with the writer\n",
    "  w = csv.DictWriter(f, fieldnames = (\"name\", \"party\", \"phone\")) # define column names\n",
    "  w.writeheader() # write the header\n",
    "  web_address='https://www.althingi.is/altext/cv/en/' # the web address\n",
    "  web_page = urllib.request.urlopen(web_address) # open the web page\n",
    "  soup = BeautifulSoup(web_page.read()) # soup the web page\n",
    "  all_members = soup.find_all('tr') # find the list of names and parties\n",
    "  for i in range(1,3): # for members 1 and 2 (member 0 is just the table heading)\n",
    "    # you should also add try/except language to ensure a weird item doesn't break your whole scraper\n",
    "    try:\n",
    "      member = {} ## empty dictionary to fill in\n",
    "      member_i = all_members[i].find_all('td') # subset lower to each individual item\n",
    "      member[\"name\"] = member_i[0].text # member's name\n",
    "      member['party'] =  member_i[1].text # member's party\n",
    "      inner_page_url = web_address + member_i[0].a['href'] # get the extension to their personal page\n",
    "      inner_page = urllib.request.urlopen(inner_page_url) # open the personal page\n",
    "      inner_soup = BeautifulSoup(inner_page.read()) # soup the personal page\n",
    "      member['phone'] = inner_soup.find('a', {'class' : 'tel'}).text # get phone number\n",
    "    except:\n",
    "      member['name'] = 'NA'\n",
    "      member['party'] = 'NA'\n",
    "      member['phone'] = 'NA'\n",
    "    w.writerow(member) # write the row for this specific member\n",
    "    time.sleep(random.uniform(1, 5)) # be polite, sleep!"
   ]
  },
  {
   "cell_type": "code",
   "execution_count": null,
   "metadata": {
    "editable": true,
    "slideshow": {
     "slide_type": "skip"
    },
    "tags": []
   },
   "outputs": [],
   "source": [
    "# Copyright of the original version:\n",
    "\n",
    "# Copyright (c) 2014 Matt Dickenson\n",
    "# \n",
    "# Permission is hereby granted, free of charge, to any person obtaining a copy\n",
    "# of this software and associated documentation files (the \"Software\"), to deal\n",
    "# in the Software without restriction, including without limitation the rights\n",
    "# to use, copy, modify, merge, publish, distribute, sublicense, and/or sell\n",
    "# copies of the Software, and to permit persons to whom the Software is\n",
    "# furnished to do so, subject to the following conditions:\n",
    "# \n",
    "# The above copyright notice and this permission notice shall be included in all\n",
    "# copies or substantial portions of the Software.\n",
    "# \n",
    "# THE SOFTWARE IS PROVIDED \"AS IS\", WITHOUT WARRANTY OF ANY KIND, EXPRESS OR\n",
    "# IMPLIED, INCLUDING BUT NOT LIMITED TO THE WARRANTIES OF MERCHANTABILITY,\n",
    "# FITNESS FOR A PARTICULAR PURPOSE AND NONINFRINGEMENT. IN NO EVENT SHALL THE\n",
    "# AUTHORS OR COPYRIGHT HOLDERS BE LIABLE FOR ANY CLAIM, DAMAGES OR OTHER\n",
    "# LIABILITY, WHETHER IN AN ACTION OF CONTRACT, TORT OR OTHERWISE, ARISING FROM,\n",
    "# OUT OF OR IN CONNECTION WITH THE SOFTWARE OR THE USE OR OTHER DEALINGS IN THE\n",
    "# SOFTWARE."
   ]
  }
 ],
 "metadata": {
  "kernelspec": {
   "display_name": "Python 3",
   "language": "python",
   "name": "python3"
  },
  "language_info": {
   "codemirror_mode": {
    "name": "ipython",
    "version": 3
   },
   "file_extension": ".py",
   "mimetype": "text/x-python",
   "name": "python",
   "nbconvert_exporter": "python",
   "pygments_lexer": "ipython3",
   "version": "3.13.6"
  }
 },
 "nbformat": 4,
 "nbformat_minor": 4
}
