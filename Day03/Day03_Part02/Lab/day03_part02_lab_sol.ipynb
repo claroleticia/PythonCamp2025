{
 "cells": [
  {
   "cell_type": "markdown",
   "metadata": {},
   "source": [
    "1. Change to your working directory. Open text file of 2008 NH primary Obama speech"
   ]
  },
  {
   "cell_type": "code",
   "execution_count": 2,
   "metadata": {},
   "outputs": [],
   "source": [
    "import re\n",
    "import os\n",
    "\n",
    "os.chdir('/Users/almavelazquez/Documents/GitHub/PythonCamp2024/Day06/Lecture')\n",
    "\n",
    "# YOUR CODE HERE\n",
    "with open(\"obama-nh.txt\", \"r\") as f:\n",
    "\tobama = f.readlines()\n"
   ]
  },
  {
   "cell_type": "markdown",
   "metadata": {},
   "source": [
    "2. Print lines that do NOT contain 'the' using what we learned today. \n",
    "\n",
    "(Although you might think you could do something like `[l for l in obama if \"the\" not in l]`)"
   ]
  },
  {
   "cell_type": "code",
   "execution_count": 3,
   "metadata": {},
   "outputs": [
    {
     "data": {
      "text/plain": [
       "87"
      ]
     },
     "execution_count": 3,
     "metadata": {},
     "output_type": "execute_result"
    }
   ],
   "source": [
    "nothe = [] \n",
    "for l in obama:\n",
    "\tif len(re.findall(r'\\b[Tt]he\\b', l)) == 0:\n",
    "\t\tnothe.append(l)\n",
    "# nothe\n",
    "len(nothe)"
   ]
  },
  {
   "cell_type": "markdown",
   "metadata": {},
   "source": [
    "3. Print lines that contain a word of any length starting with `s` and ending with `e`"
   ]
  },
  {
   "cell_type": "code",
   "execution_count": 4,
   "metadata": {},
   "outputs": [
    {
     "data": {
      "text/plain": [
       "['out and spoke up for change. And with your voices and your votes, you\\n',\n",
       " \"better, there's no problem we can't solve - no destiny we cannot\\n\",\n",
       " 'We can stop sending our children to schools with corridors of shame and\\n',\n",
       " 'entrepreneurs to free this nation from the tyranny of oil and save our\\n',\n",
       " 'way to scare up votes, because it is not a tactic to win an election, it\\n',\n",
       " 'All of the candidates in this race share these goals. All have good\\n',\n",
       " 'ideas. And all are patriots who serve this country honorably.\\n',\n",
       " \"we can't, generations of Americans have responded with a simple creed\\n\",\n",
       " 'of the little girl who goes to a crumbling school in Dillon are the same\\n']"
      ]
     },
     "execution_count": 4,
     "metadata": {},
     "output_type": "execute_result"
    }
   ],
   "source": [
    "se_patt = re.compile(r'\\b[Ss][a-z]*e\\b')\n",
    "[l for l in obama if se_patt.findall(l)]"
   ]
  },
  {
   "cell_type": "markdown",
   "metadata": {},
   "source": [
    "4. Naive Bayes Classification\n",
    "- Analyze the names that were wrongly predicted by our Naive Bayes classifier. \n",
    "- Identify at least one more features to extract. \n",
    "- Train the classifier again with your new feature extraction function. \n",
    "- Check whether the accuracy improved.  "
   ]
  },
  {
   "cell_type": "code",
   "execution_count": 11,
   "metadata": {},
   "outputs": [],
   "source": [
    "# Pre-requisite code need to be executed before running the code below: \n",
    "import nltk\n",
    "from nltk.corpus import names\n",
    "import random\n",
    "\n",
    "names = ([(name, 'male') for name in names.words('male.txt')] +\n",
    "        [(name, 'female') for name in names.words('female.txt')])\n",
    "\n",
    "random.shuffle(names)\n",
    "train_size = 5000\n",
    "\n",
    "train_names = names[:train_size]\n",
    "test_names = names[train_size:]\n",
    "\n",
    "def g_features2(name):\n",
    "  features = {}\n",
    "  features[\"firstletter\"] = name[0].lower()\n",
    "  features[\"lastletter\"] = name[-1].lower()\n",
    "  for letter in 'abcdefghijklmnopqrstuvwxyz':\n",
    "      features[\"count(%s)\" % letter] = name.lower().count(letter)\n",
    "      features[\"has(%s)\" % letter] = (letter in name.lower())\n",
    "  return features"
   ]
  },
  {
   "cell_type": "code",
   "execution_count": 14,
   "metadata": {},
   "outputs": [],
   "source": [
    "# What should we do here?\n",
    "def g_features3(name):\n",
    "  features = {}\n",
    "  if name[-2:] == \"ie\" or name[-1] == \"y\":\n",
    "    features[\"last_ie\"] = True\n",
    "  else:\n",
    "    features[\"last_ie\"] = False\n",
    "  if name[-1] == \"k\":\n",
    "    features[\"last_k\"] = True\n",
    "  else:\n",
    "    features[\"last_k\"] = False\n",
    "\n",
    "  return g_features2(name)"
   ]
  },
  {
   "cell_type": "code",
   "execution_count": 15,
   "metadata": {},
   "outputs": [],
   "source": [
    "train_set = [(g_features3(n), g) for (n,g) in train_names]\n",
    "test_set = [(g_features3(n), g) for (n,g) in test_names]\n",
    "classifier3 = nltk.NaiveBayesClassifier.train(train_set)"
   ]
  },
  {
   "cell_type": "code",
   "execution_count": 16,
   "metadata": {},
   "outputs": [
    {
     "name": "stdout",
     "output_type": "stream",
     "text": [
      "0.7567934782608695\n"
     ]
    }
   ],
   "source": [
    "print(nltk.classify.accuracy(classifier3, test_set))"
   ]
  },
  {
   "cell_type": "code",
   "execution_count": 18,
   "metadata": {},
   "outputs": [
    {
     "name": "stdout",
     "output_type": "stream",
     "text": [
      "Most Informative Features\n",
      "              lastletter = 'a'            female : male   =     39.8 : 1.0\n",
      "              lastletter = 'k'              male : female =     22.8 : 1.0\n",
      "              lastletter = 'p'              male : female =     16.2 : 1.0\n",
      "              lastletter = 'v'              male : female =     11.7 : 1.0\n",
      "              lastletter = 'f'              male : female =     10.4 : 1.0\n",
      "              lastletter = 'd'              male : female =      9.4 : 1.0\n",
      "              lastletter = 'o'              male : female =      9.2 : 1.0\n",
      "              lastletter = 'm'              male : female =      8.4 : 1.0\n",
      "              lastletter = 'g'              male : female =      7.6 : 1.0\n",
      "              lastletter = 'r'              male : female =      7.2 : 1.0\n",
      "                count(a) = 3              female : male   =      5.4 : 1.0\n",
      "              lastletter = 'w'              male : female =      5.0 : 1.0\n",
      "             firstletter = 'w'              male : female =      4.7 : 1.0\n",
      "                count(w) = 1                male : female =      4.5 : 1.0\n",
      "                  has(w) = True             male : female =      4.4 : 1.0\n"
     ]
    }
   ],
   "source": [
    "classifier3.show_most_informative_features(15)"
   ]
  }
 ],
 "metadata": {
  "kernelspec": {
   "display_name": "Python 3 (ipykernel)",
   "language": "python",
   "name": "python3"
  },
  "language_info": {
   "codemirror_mode": {
    "name": "ipython",
    "version": 3
   },
   "file_extension": ".py",
   "mimetype": "text/x-python",
   "name": "python",
   "nbconvert_exporter": "python",
   "pygments_lexer": "ipython3",
   "version": "3.12.4"
  }
 },
 "nbformat": 4,
 "nbformat_minor": 4
}
