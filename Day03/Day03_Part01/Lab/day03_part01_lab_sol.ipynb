{
 "cells": [
  {
   "cell_type": "markdown",
   "metadata": {},
   "source": [
    "# Lab Solutions: APIs"
   ]
  },
  {
   "cell_type": "markdown",
   "metadata": {},
   "source": [
    "##### Instructions: \n",
    "\n",
    "Write your own Python script to answer the following questions: \n",
    "1. Which of these embassies is closest to the White House in meters? What is the address? \n",
    "2. If I wanted to hold a morning meeting there, which cafe would you suggest (best rating and closest)?\n",
    "3. If I wanted to hold an upscale evening meeting there, which fancy bar would you suggest? \n",
    "\n",
    "Hint: \n",
    "- You will need to enable the `Google Places API`.\n",
    "- You may find this page useful to learn about different findinging nearby places https://www.geeksforgeeks.org/python-fetch-nearest-hospital-locations-using-googlemaps-api/"
   ]
  },
  {
   "cell_type": "code",
   "execution_count": 37,
   "metadata": {},
   "outputs": [],
   "source": [
    "import importlib\n",
    "import os\n",
    "import googlemaps"
   ]
  },
  {
   "cell_type": "code",
   "execution_count": 38,
   "metadata": {},
   "outputs": [
    {
     "data": {
      "text/plain": [
       "'/Users/almavelazquez/Documents/GitHub/PythonCamp2024/Day05/Lecture'"
      ]
     },
     "execution_count": 38,
     "metadata": {},
     "output_type": "execute_result"
    }
   ],
   "source": [
    "os.getcwd()"
   ]
  },
  {
   "cell_type": "code",
   "execution_count": 8,
   "metadata": {},
   "outputs": [],
   "source": [
    "os.chdir('/Users/almavelazquez/Documents/GitHub/PythonCamp2024/Day05/Lecture')\n",
    "imported_items = importlib.import_module('start_google')\n",
    "gmaps = imported_items.client\n",
    "\n",
    "whitehouse = '1600 Pennsylvania Avenue, Washington, DC'\n",
    "\n",
    "embassies = [[38.917228,-77.0522365], \n",
    "\t[38.9076502, -77.0370427], \n",
    "\t[38.916944, -77.048739] ]\n"
   ]
  },
  {
   "cell_type": "markdown",
   "metadata": {},
   "source": [
    "1. Which of these embassies is closest to the White House in meters? "
   ]
  },
  {
   "cell_type": "code",
   "execution_count": 39,
   "metadata": {},
   "outputs": [],
   "source": [
    "# save whitehouse geocode object\n",
    "wh = gmaps.geocode(whitehouse)"
   ]
  },
  {
   "cell_type": "markdown",
   "metadata": {},
   "source": [
    "##### Exploratory work\n",
    "* Find distance to embassies"
   ]
  },
  {
   "cell_type": "code",
   "execution_count": 40,
   "metadata": {},
   "outputs": [],
   "source": [
    "test_dist = gmaps.distance_matrix(wh[0]['geometry']['location'], embassies)"
   ]
  },
  {
   "cell_type": "code",
   "execution_count": 20,
   "metadata": {},
   "outputs": [
    {
     "data": {
      "text/plain": [
       "{'destination_addresses': ['2341 Wyoming Ave NW, Washington, DC 20008, USA',\n",
       "  '1601 Massachusetts Ave NW, Washington, DC 20036, USA',\n",
       "  '2144 Wyoming Ave NW, Washington, DC 20008, USA'],\n",
       " 'origin_addresses': ['1600 Pennsylvania Avenue NW, Washington, DC 20500, USA'],\n",
       " 'rows': [{'elements': [{'distance': {'text': '4.3 km', 'value': 4299},\n",
       "     'duration': {'text': '15 mins', 'value': 873},\n",
       "     'status': 'OK'},\n",
       "    {'distance': {'text': '3.0 km', 'value': 2957},\n",
       "     'duration': {'text': '11 mins', 'value': 660},\n",
       "     'status': 'OK'},\n",
       "    {'distance': {'text': '3.9 km', 'value': 3943},\n",
       "     'duration': {'text': '14 mins', 'value': 823},\n",
       "     'status': 'OK'}]}],\n",
       " 'status': 'OK'}"
      ]
     },
     "execution_count": 20,
     "metadata": {},
     "output_type": "execute_result"
    }
   ],
   "source": [
    "test_dist"
   ]
  },
  {
   "cell_type": "code",
   "execution_count": 22,
   "metadata": {},
   "outputs": [
    {
     "data": {
      "text/plain": [
       "[{'distance': {'text': '4.3 km', 'value': 4299},\n",
       "  'duration': {'text': '15 mins', 'value': 873},\n",
       "  'status': 'OK'},\n",
       " {'distance': {'text': '3.0 km', 'value': 2957},\n",
       "  'duration': {'text': '11 mins', 'value': 660},\n",
       "  'status': 'OK'},\n",
       " {'distance': {'text': '3.9 km', 'value': 3943},\n",
       "  'duration': {'text': '14 mins', 'value': 823},\n",
       "  'status': 'OK'}]"
      ]
     },
     "execution_count": 22,
     "metadata": {},
     "output_type": "execute_result"
    }
   ],
   "source": [
    "test_dist['rows'][0]['elements']"
   ]
  },
  {
   "cell_type": "markdown",
   "metadata": {},
   "source": [
    "* Each dictionary in this list corresponds to each embassy in the list"
   ]
  },
  {
   "cell_type": "code",
   "execution_count": 23,
   "metadata": {},
   "outputs": [
    {
     "data": {
      "text/plain": [
       "{'distance': {'text': '4.3 km', 'value': 4299},\n",
       " 'duration': {'text': '15 mins', 'value': 873},\n",
       " 'status': 'OK'}"
      ]
     },
     "execution_count": 23,
     "metadata": {},
     "output_type": "execute_result"
    }
   ],
   "source": [
    "test_dist['rows'][0]['elements'][0]"
   ]
  },
  {
   "cell_type": "code",
   "execution_count": 25,
   "metadata": {},
   "outputs": [
    {
     "data": {
      "text/plain": [
       "4299"
      ]
     },
     "execution_count": 25,
     "metadata": {},
     "output_type": "execute_result"
    }
   ],
   "source": [
    "test_dist['rows'][0]['elements'][0]['distance']['value']"
   ]
  },
  {
   "cell_type": "markdown",
   "metadata": {},
   "source": [
    "##### Put it all together in a function"
   ]
  },
  {
   "cell_type": "code",
   "execution_count": 28,
   "metadata": {},
   "outputs": [
    {
     "data": {
      "text/plain": [
       "[38.917228, -77.0522365]"
      ]
     },
     "execution_count": 28,
     "metadata": {},
     "output_type": "execute_result"
    }
   ],
   "source": [
    "# define function to calculate distance to each embassy\n",
    "def dist_finder(dest, origin = wh): # takes argument for destination (lat/lng), and origin with wh default\n",
    "\t\n",
    "    # access origin latitude & longitude\n",
    "    orig_lat_long = origin[0]['geometry']['location']\n",
    "\t\n",
    "    # use distance API to calculate distance between the destination and origin lat/lngs\n",
    "    dist = gmaps.distance_matrix(orig_lat_long, dest)\n",
    "\n",
    "    # instantiate empty list\n",
    "    meters=[]\n",
    "    \n",
    "    # for 1, 2, 3 of the embassies\n",
    "    for i in range(3):\n",
    "        # add the following to the empty list\n",
    "        meters.append(float(dist['rows'][0]['elements'][i]['distance']['value']))\n",
    "        \n",
    "        return dest[meters.index(min(meters))]\n",
    "\n",
    "# find closest embassy\n",
    "closest = dist_finder(dest = embassies)\n",
    "\n",
    "closest"
   ]
  },
  {
   "cell_type": "markdown",
   "metadata": {},
   "source": [
    "What is the address? "
   ]
  },
  {
   "cell_type": "code",
   "execution_count": 41,
   "metadata": {},
   "outputs": [
    {
     "data": {
      "text/plain": [
       "'2341 Wyoming Ave NW, Washington, DC 20008, USA'"
      ]
     },
     "execution_count": 41,
     "metadata": {},
     "output_type": "execute_result"
    }
   ],
   "source": [
    "# address of closest\n",
    "closest_address = gmaps.reverse_geocode(closest)[0]['formatted_address']\n",
    "closest_address"
   ]
  },
  {
   "cell_type": "markdown",
   "metadata": {},
   "source": [
    "2. If I wanted to hold a morning meeting there, which cafes would you suggest for breakfast (best rating and closest)?"
   ]
  },
  {
   "cell_type": "code",
   "execution_count": 30,
   "metadata": {},
   "outputs": [],
   "source": [
    "bfast = gmaps.places_nearby(closest, type = 'cafe', \n",
    "                            rank_by = \"distance\", \n",
    "                            keyword = 'breakfast')['results']"
   ]
  },
  {
   "cell_type": "code",
   "execution_count": 31,
   "metadata": {
    "scrolled": true
   },
   "outputs": [
    {
     "data": {
      "text/plain": [
       "[{'business_status': 'OPERATIONAL',\n",
       "  'geometry': {'location': {'lat': 38.9237209, 'lng': -77.0523722},\n",
       "   'viewport': {'northeast': {'lat': 38.92499947989272,\n",
       "     'lng': -77.05114142010729},\n",
       "    'southwest': {'lat': 38.92229982010728, 'lng': -77.05384107989272}}},\n",
       "  'icon': 'https://maps.gstatic.com/mapfiles/place_api/icons/v1/png_71/restaurant-71.png',\n",
       "  'icon_background_color': '#FF9E67',\n",
       "  'icon_mask_base_uri': 'https://maps.gstatic.com/mapfiles/place_api/icons/v2/restaurant_pinlet',\n",
       "  'name': 'Open City',\n",
       "  'opening_hours': {'open_now': True},\n",
       "  'photos': [{'height': 2736,\n",
       "    'html_attributions': ['<a href=\"https://maps.google.com/maps/contrib/100676619916060645946\">nakhun 41</a>'],\n",
       "    'photo_reference': 'AelY_CuK4bgrUAA2B0ZLqHl9mGTyLacE57-UH0TnfntbmpXk3FUDlKlhHDhj8OxA-76xC86uuoPoSmB8Pah0GCyjdypWQDdEEJN_LaFkF4d-89VCdTLtFjbBWSaqfra-c4qM-tb5dOuVErNJLf6iOxK-8VtPTFOmEloVOs3TG-UssjTwwB76',\n",
       "    'width': 3648}],\n",
       "  'place_id': 'ChIJFaK2ddS3t4kR4LLXUHpoLC0',\n",
       "  'plus_code': {'compound_code': 'WWFX+F3 Washington, District of Columbia',\n",
       "   'global_code': '87C4WWFX+F3'},\n",
       "  'price_level': 2,\n",
       "  'rating': 4.2,\n",
       "  'reference': 'ChIJFaK2ddS3t4kR4LLXUHpoLC0',\n",
       "  'scope': 'GOOGLE',\n",
       "  'types': ['restaurant',\n",
       "   'cafe',\n",
       "   'store',\n",
       "   'food',\n",
       "   'point_of_interest',\n",
       "   'establishment'],\n",
       "  'user_ratings_total': 2285,\n",
       "  'vicinity': '2331 Calvert St NW, Washington'},\n",
       " {'business_status': 'OPERATIONAL',\n",
       "  'geometry': {'location': {'lat': 38.9137046, 'lng': -77.0450309},\n",
       "   'viewport': {'northeast': {'lat': 38.91505392989271,\n",
       "     'lng': -77.04362407010728},\n",
       "    'southwest': {'lat': 38.91235427010727, 'lng': -77.04632372989273}}},\n",
       "  'icon': 'https://maps.gstatic.com/mapfiles/place_api/icons/v1/png_71/cafe-71.png',\n",
       "  'icon_background_color': '#FF9E67',\n",
       "  'icon_mask_base_uri': 'https://maps.gstatic.com/mapfiles/place_api/icons/v2/cafe_pinlet',\n",
       "  'name': 'Emissary',\n",
       "  'opening_hours': {'open_now': True},\n",
       "  'photos': [{'height': 4032,\n",
       "    'html_attributions': ['<a href=\"https://maps.google.com/maps/contrib/114885430617564576442\">Diana Milena Lopez Avila</a>'],\n",
       "    'photo_reference': 'AelY_CvexXL_Msa_P-596xtQWFzCLHHasbqLLx-UKocc-20gTVoWTj2kSQAPKR0k8YgKBBifnEr-6KxdxN5O29ffE0Wx-xLYlplXguprrVPMdVuK2zE6x1a5mgx8GwLN1VE8rQ3wpgB0T9ZAEJiJEqigrC7-Ne9ATpeOCxSbXwZAGeq9cYPj',\n",
       "    'width': 3024}],\n",
       "  'place_id': 'ChIJ0T2d-8m3t4kR_J3zoWxHmSw',\n",
       "  'plus_code': {'compound_code': 'WX73+FX Washington, District of Columbia',\n",
       "   'global_code': '87C4WX73+FX'},\n",
       "  'price_level': 2,\n",
       "  'rating': 4.3,\n",
       "  'reference': 'ChIJ0T2d-8m3t4kR_J3zoWxHmSw',\n",
       "  'scope': 'GOOGLE',\n",
       "  'types': ['cafe', 'store', 'food', 'point_of_interest', 'establishment'],\n",
       "  'user_ratings_total': 148,\n",
       "  'vicinity': '1726 20th St NW, Washington'},\n",
       " {'business_status': 'OPERATIONAL',\n",
       "  'geometry': {'location': {'lat': 38.912772, 'lng': -77.045816},\n",
       "   'viewport': {'northeast': {'lat': 38.91404037989271,\n",
       "     'lng': -77.04446682010727},\n",
       "    'southwest': {'lat': 38.91134072010727, 'lng': -77.04716647989272}}},\n",
       "  'icon': 'https://maps.gstatic.com/mapfiles/place_api/icons/v1/png_71/cafe-71.png',\n",
       "  'icon_background_color': '#FF9E67',\n",
       "  'icon_mask_base_uri': 'https://maps.gstatic.com/mapfiles/place_api/icons/v2/cafe_pinlet',\n",
       "  'name': 'Teaism Dupont Circle',\n",
       "  'opening_hours': {'open_now': True},\n",
       "  'photos': [{'height': 2250,\n",
       "    'html_attributions': ['<a href=\"https://maps.google.com/maps/contrib/102596274109283254379\">Joan Manel Parrilla Gutiérrez</a>'],\n",
       "    'photo_reference': 'AelY_CsxQa625bAltFW5-sKEyWpbEMFonYmKdjKoC580s7jvIu_wCtRGLTLFwEJ1cPj_ng6HmrbZv0TVnm0oJD64ZXaDRQS3N7NBn7p9R5-zPgmq0q7sllpYwzEFJqlzC8AFxjONMymQVMcF2JM7CgeRgIYItY4po_iZDm4UXAZROeJxBTCR',\n",
       "    'width': 4000}],\n",
       "  'place_id': 'ChIJu9YSTc-3t4kRWcD2pLsGRSI',\n",
       "  'plus_code': {'compound_code': 'WX73+4M Washington, District of Columbia',\n",
       "   'global_code': '87C4WX73+4M'},\n",
       "  'price_level': 2,\n",
       "  'rating': 4.5,\n",
       "  'reference': 'ChIJu9YSTc-3t4kRWcD2pLsGRSI',\n",
       "  'scope': 'GOOGLE',\n",
       "  'types': ['cafe',\n",
       "   'store',\n",
       "   'restaurant',\n",
       "   'food',\n",
       "   'point_of_interest',\n",
       "   'establishment'],\n",
       "  'user_ratings_total': 690,\n",
       "  'vicinity': '2009 R St NW, Washington'},\n",
       " {'business_status': 'OPERATIONAL',\n",
       "  'geometry': {'location': {'lat': 38.9250786, 'lng': -77.0521064},\n",
       "   'viewport': {'northeast': {'lat': 38.92639047989272,\n",
       "     'lng': -77.05088632010728},\n",
       "    'southwest': {'lat': 38.92369082010728, 'lng': -77.05358597989272}}},\n",
       "  'icon': 'https://maps.gstatic.com/mapfiles/place_api/icons/v1/png_71/restaurant-71.png',\n",
       "  'icon_background_color': '#FF9E67',\n",
       "  'icon_mask_base_uri': 'https://maps.gstatic.com/mapfiles/place_api/icons/v2/restaurant_pinlet',\n",
       "  'name': 'Petit Monde Cafe',\n",
       "  'opening_hours': {'open_now': True},\n",
       "  'photos': [{'height': 4032,\n",
       "    'html_attributions': ['<a href=\"https://maps.google.com/maps/contrib/111392927595809743668\">dante sanaei</a>'],\n",
       "    'photo_reference': 'AelY_Ctpo6dOvmES9IWJ5Itsdbhmqe2HH3Jt0aIRIoG4S7rMHFPGFKsYkXJW3Hkr-ydd1PAtGeI5f_yZmeLPgKp3dyutqRdeJveF0dtmYyxWpK7ZfQU1xtLkFTk1sT1ticWpPSm723UNEqZjFmmJ4ox14WMvwZpbeSLLtJ9hzOlK6BrF4YlS',\n",
       "    'width': 3024}],\n",
       "  'place_id': 'ChIJw_O5UJG3t4kRAfmM28v6ZVw',\n",
       "  'plus_code': {'compound_code': 'WWGX+25 Washington, District of Columbia',\n",
       "   'global_code': '87C4WWGX+25'},\n",
       "  'price_level': 2,\n",
       "  'rating': 4.4,\n",
       "  'reference': 'ChIJw_O5UJG3t4kRAfmM28v6ZVw',\n",
       "  'scope': 'GOOGLE',\n",
       "  'types': ['restaurant',\n",
       "   'cafe',\n",
       "   'store',\n",
       "   'food',\n",
       "   'point_of_interest',\n",
       "   'establishment'],\n",
       "  'user_ratings_total': 170,\n",
       "  'vicinity': '2653 Connecticut Ave NW, Washington'},\n",
       " {'business_status': 'OPERATIONAL',\n",
       "  'geometry': {'location': {'lat': 38.9190714, 'lng': -77.0418289},\n",
       "   'viewport': {'northeast': {'lat': 38.92048402989272,\n",
       "     'lng': -77.04046537010728},\n",
       "    'southwest': {'lat': 38.91778437010728, 'lng': -77.04316502989272}}},\n",
       "  'icon': 'https://maps.gstatic.com/mapfiles/place_api/icons/v1/png_71/restaurant-71.png',\n",
       "  'icon_background_color': '#FF9E67',\n",
       "  'icon_mask_base_uri': 'https://maps.gstatic.com/mapfiles/place_api/icons/v2/restaurant_pinlet',\n",
       "  'name': 'Yerevan Cafe',\n",
       "  'opening_hours': {'open_now': True},\n",
       "  'photos': [{'height': 2268,\n",
       "    'html_attributions': ['<a href=\"https://maps.google.com/maps/contrib/104647953283381944289\">Rolando Jaimez</a>'],\n",
       "    'photo_reference': 'AelY_CvoRjweQLWmGpLVP6IJ-n12lRUQZfaaIprLNKlSAj5ouDEPQ4V9DX3UF_yDObkacwIL-MVDY3T_B93Il8Uqs58Omq5Pr8w3l-SNbBTOlfsvdg3Evp9brj3EW6WtCoGP0roVUEVDzIqPGTloBCs6vj4Jbhzao0jOFRgixkLbferXtDzQ',\n",
       "    'width': 4032}],\n",
       "  'place_id': 'ChIJs2NrP_m3t4kRzSiLx9Y42oU',\n",
       "  'plus_code': {'compound_code': 'WX95+J7 Washington, District of Columbia',\n",
       "   'global_code': '87C4WX95+J7'},\n",
       "  'price_level': 2,\n",
       "  'rating': 4.7,\n",
       "  'reference': 'ChIJs2NrP_m3t4kRzSiLx9Y42oU',\n",
       "  'scope': 'GOOGLE',\n",
       "  'types': ['cafe',\n",
       "   'liquor_store',\n",
       "   'bakery',\n",
       "   'bar',\n",
       "   'store',\n",
       "   'restaurant',\n",
       "   'food',\n",
       "   'point_of_interest',\n",
       "   'establishment'],\n",
       "  'user_ratings_total': 250,\n",
       "  'vicinity': '2204 18th St NW, Washington'},\n",
       " {'business_status': 'OPERATIONAL',\n",
       "  'geometry': {'location': {'lat': 38.90943250000001, 'lng': -77.0463887},\n",
       "   'viewport': {'northeast': {'lat': 38.91089087989273,\n",
       "     'lng': -77.04512307010728},\n",
       "    'southwest': {'lat': 38.90819122010728, 'lng': -77.04782272989273}}},\n",
       "  'icon': 'https://maps.gstatic.com/mapfiles/place_api/icons/v1/png_71/cafe-71.png',\n",
       "  'icon_background_color': '#FF9E67',\n",
       "  'icon_mask_base_uri': 'https://maps.gstatic.com/mapfiles/place_api/icons/v2/cafe_pinlet',\n",
       "  'name': 'Emissary',\n",
       "  'opening_hours': {'open_now': True},\n",
       "  'photos': [{'height': 2448,\n",
       "    'html_attributions': ['<a href=\"https://maps.google.com/maps/contrib/103822638389051843240\">Nathan Arnold</a>'],\n",
       "    'photo_reference': 'AelY_CvP452jsf9rMSNqrQLSVoTU-V8-rTzQlzs6Mbwbc_Bpl1N6-VpgVVb9Bhkaa5ngKQ42VmQHTS3CxZTnEwMLJ91-GIosJ_IrYlyCz85vaUH0emdp_Rs3QTj2W0kFnJ_Ed1xoHgRgWfelu1bePy9u9dtQMAmD9NWzxBbe707pJjhFqtCV',\n",
       "    'width': 3264}],\n",
       "  'place_id': 'ChIJDQh-Xci3t4kRxEH6stdddvY',\n",
       "  'plus_code': {'compound_code': 'WX53+QC Washington, District of Columbia',\n",
       "   'global_code': '87C4WX53+QC'},\n",
       "  'price_level': 2,\n",
       "  'rating': 4.2,\n",
       "  'reference': 'ChIJDQh-Xci3t4kRxEH6stdddvY',\n",
       "  'scope': 'GOOGLE',\n",
       "  'types': ['cafe',\n",
       "   'bar',\n",
       "   'store',\n",
       "   'food',\n",
       "   'point_of_interest',\n",
       "   'establishment'],\n",
       "  'user_ratings_total': 960,\n",
       "  'vicinity': '2032 P St NW, Washington'},\n",
       " {'business_status': 'OPERATIONAL',\n",
       "  'geometry': {'location': {'lat': 38.92197700000001, 'lng': -77.042091},\n",
       "   'viewport': {'northeast': {'lat': 38.92330997989272,\n",
       "     'lng': -77.04091867010729},\n",
       "    'southwest': {'lat': 38.92061032010728, 'lng': -77.04361832989272}}},\n",
       "  'icon': 'https://maps.gstatic.com/mapfiles/place_api/icons/v1/png_71/cafe-71.png',\n",
       "  'icon_background_color': '#FF9E67',\n",
       "  'icon_mask_base_uri': 'https://maps.gstatic.com/mapfiles/place_api/icons/v2/cafe_pinlet',\n",
       "  'name': 'Tryst',\n",
       "  'opening_hours': {'open_now': True},\n",
       "  'photos': [{'height': 4032,\n",
       "    'html_attributions': ['<a href=\"https://maps.google.com/maps/contrib/104775145716167001269\">Lana Kushnir</a>'],\n",
       "    'photo_reference': 'AelY_Csc9jpyeGXQsWRs7S6ROmiWLfO4LmjHitvhipC-ABGWsATMG1jCdW16qyzktWrMI_lTodMBCc7cveqDFV64lFQe2UibZ55hh7Ie7Sd5Ui99Fqb8qg0coM80fcHznz3OJANVGt9dB4_EANudTMTHjyGfS5y428VHzUXK059CRWF3Y7Rv',\n",
       "    'width': 3024}],\n",
       "  'place_id': 'ChIJZ1xnLNq3t4kRMWSzJo7OC6k',\n",
       "  'plus_code': {'compound_code': 'WXC5+Q5 Washington, District of Columbia',\n",
       "   'global_code': '87C4WXC5+Q5'},\n",
       "  'price_level': 2,\n",
       "  'rating': 4.4,\n",
       "  'reference': 'ChIJZ1xnLNq3t4kRMWSzJo7OC6k',\n",
       "  'scope': 'GOOGLE',\n",
       "  'types': ['cafe',\n",
       "   'night_club',\n",
       "   'art_gallery',\n",
       "   'bar',\n",
       "   'store',\n",
       "   'restaurant',\n",
       "   'food',\n",
       "   'point_of_interest',\n",
       "   'establishment'],\n",
       "  'user_ratings_total': 2135,\n",
       "  'vicinity': '2459 18th St NW, Washington'},\n",
       " {'business_status': 'OPERATIONAL',\n",
       "  'geometry': {'location': {'lat': 38.9223723, 'lng': -77.0423582},\n",
       "   'viewport': {'northeast': {'lat': 38.92370607989272,\n",
       "     'lng': -77.04111147010728},\n",
       "    'southwest': {'lat': 38.92100642010728, 'lng': -77.04381112989273}}},\n",
       "  'icon': 'https://maps.gstatic.com/mapfiles/place_api/icons/v1/png_71/cafe-71.png',\n",
       "  'icon_background_color': '#FF9E67',\n",
       "  'icon_mask_base_uri': 'https://maps.gstatic.com/mapfiles/place_api/icons/v2/cafe_pinlet',\n",
       "  'name': 'D Light Cafe & Bakery',\n",
       "  'opening_hours': {'open_now': True},\n",
       "  'photos': [{'height': 1589,\n",
       "    'html_attributions': ['<a href=\"https://maps.google.com/maps/contrib/114701999512026537430\">A Google User</a>'],\n",
       "    'photo_reference': 'AelY_CtgRlLSLFCc-jHseS58dTZWaW8xe1j0dAOgnFZ3RYtFBrPHlhyINbgDTtpV7mC501rLkLk7awrI5jKRa0Lv1E9SwMD5YSdtIeP8xHmqLPP8jAkGrNKg15zLswnmQryrCtRsAVbeMPPkDy-D-QuP9KOSA9bPf86AzhXKNkrn8g6gXGg1',\n",
       "    'width': 2383}],\n",
       "  'place_id': 'ChIJT-k6KJK3t4kReFnSF5hhnzI',\n",
       "  'plus_code': {'compound_code': 'WXC5+W3 Washington, District of Columbia',\n",
       "   'global_code': '87C4WXC5+W3'},\n",
       "  'price_level': 2,\n",
       "  'rating': 4.8,\n",
       "  'reference': 'ChIJT-k6KJK3t4kReFnSF5hhnzI',\n",
       "  'scope': 'GOOGLE',\n",
       "  'types': ['cafe',\n",
       "   'night_club',\n",
       "   'bakery',\n",
       "   'bar',\n",
       "   'store',\n",
       "   'restaurant',\n",
       "   'food',\n",
       "   'point_of_interest',\n",
       "   'establishment'],\n",
       "  'user_ratings_total': 420,\n",
       "  'vicinity': '2475 18th St NW, Washington'},\n",
       " {'business_status': 'OPERATIONAL',\n",
       "  'geometry': {'location': {'lat': 38.9098007, 'lng': -77.0451494},\n",
       "   'viewport': {'northeast': {'lat': 38.91107607989272,\n",
       "     'lng': -77.04379197010728},\n",
       "    'southwest': {'lat': 38.90837642010727, 'lng': -77.04649162989271}}},\n",
       "  'icon': 'https://maps.gstatic.com/mapfiles/place_api/icons/v1/png_71/restaurant-71.png',\n",
       "  'icon_background_color': '#FF9E67',\n",
       "  'icon_mask_base_uri': 'https://maps.gstatic.com/mapfiles/place_api/icons/v2/restaurant_pinlet',\n",
       "  'name': 'Le Pain Quotidien',\n",
       "  'opening_hours': {'open_now': True},\n",
       "  'photos': [{'height': 4032,\n",
       "    'html_attributions': ['<a href=\"https://maps.google.com/maps/contrib/107263683701261827476\">Warren A</a>'],\n",
       "    'photo_reference': 'AelY_Cvl1ttX9KExz37jFktksHSJjKcoIBAyKpyd0Pcq_J0wftL6gfD_vzaA2hNQ0ahiHrtln--ke0p1ewa9dEqsgoSMEiB8jleSgx2l28ocsfuNOmoDZ-6Nj1BjT5KpylaJqm_gYnjN5xqbRl41SwHChV-DF44BALNgiUf97M8ZnMqu3BIw',\n",
       "    'width': 3024}],\n",
       "  'place_id': 'ChIJQ74bKsa3t4kR4aYKYoTqib8',\n",
       "  'plus_code': {'compound_code': 'WX53+WW Washington, District of Columbia',\n",
       "   'global_code': '87C4WX53+WW'},\n",
       "  'price_level': 2,\n",
       "  'rating': 4.1,\n",
       "  'reference': 'ChIJQ74bKsa3t4kR4aYKYoTqib8',\n",
       "  'scope': 'GOOGLE',\n",
       "  'types': ['restaurant',\n",
       "   'cafe',\n",
       "   'bakery',\n",
       "   'store',\n",
       "   'food',\n",
       "   'point_of_interest',\n",
       "   'establishment'],\n",
       "  'user_ratings_total': 822,\n",
       "  'vicinity': '2000 P St NW, Washington'},\n",
       " {'business_status': 'OPERATIONAL',\n",
       "  'geometry': {'location': {'lat': 38.911466, 'lng': -77.0387513},\n",
       "   'viewport': {'northeast': {'lat': 38.91287272989272,\n",
       "     'lng': -77.03735792010727},\n",
       "    'southwest': {'lat': 38.91017307010728, 'lng': -77.04005757989272}}},\n",
       "  'icon': 'https://maps.gstatic.com/mapfiles/place_api/icons/v1/png_71/cafe-71.png',\n",
       "  'icon_background_color': '#FF9E67',\n",
       "  'icon_mask_base_uri': 'https://maps.gstatic.com/mapfiles/place_api/icons/v2/cafe_pinlet',\n",
       "  'name': 'Au Lait',\n",
       "  'opening_hours': {'open_now': True},\n",
       "  'photos': [{'height': 1868,\n",
       "    'html_attributions': ['<a href=\"https://maps.google.com/maps/contrib/115585456431548509376\">Ahmed Alhelal</a>'],\n",
       "    'photo_reference': 'AelY_Cu2pxweFzWwZEG9_vApkzk2TDrZbD5XFiGF99njokFOpjHauJTmSgMjRM3YCKAruuIdkfOj7QqcmaTYGjTElXttu4HyefAMrhLTqQOOjh0b_31r5bR-vZe9y29iPAQ4e7CaHVn2XDMT1SGOvjqRbj3FhlVQbxN5PQQDEj5e04SrVxty',\n",
       "    'width': 4000}],\n",
       "  'place_id': 'ChIJc0cMx0K3t4kRxOSgDnbu0ik',\n",
       "  'plus_code': {'compound_code': 'WX66+HF Washington, District of Columbia',\n",
       "   'global_code': '87C4WX66+HF'},\n",
       "  'price_level': 1,\n",
       "  'rating': 4.7,\n",
       "  'reference': 'ChIJc0cMx0K3t4kRxOSgDnbu0ik',\n",
       "  'scope': 'GOOGLE',\n",
       "  'types': ['cafe',\n",
       "   'bakery',\n",
       "   'store',\n",
       "   'restaurant',\n",
       "   'food',\n",
       "   'point_of_interest',\n",
       "   'establishment'],\n",
       "  'user_ratings_total': 155,\n",
       "  'vicinity': '1608 17th St NW, Washington'},\n",
       " {'business_status': 'OPERATIONAL',\n",
       "  'geometry': {'location': {'lat': 38.9054535, 'lng': -77.0476982},\n",
       "   'viewport': {'northeast': {'lat': 38.90670927989272,\n",
       "     'lng': -77.04640317010728},\n",
       "    'southwest': {'lat': 38.90400962010728, 'lng': -77.04910282989272}}},\n",
       "  'icon': 'https://maps.gstatic.com/mapfiles/place_api/icons/v1/png_71/restaurant-71.png',\n",
       "  'icon_background_color': '#FF9E67',\n",
       "  'icon_mask_base_uri': 'https://maps.gstatic.com/mapfiles/place_api/icons/v2/restaurant_pinlet',\n",
       "  'name': 'Tatte Bakery & Cafe | West End',\n",
       "  'opening_hours': {'open_now': True},\n",
       "  'photos': [{'height': 4000,\n",
       "    'html_attributions': ['<a href=\"https://maps.google.com/maps/contrib/105210236460944979932\">Elena</a>'],\n",
       "    'photo_reference': 'AelY_CvNBF0sdwEH1O_vuFJndNpEuKzJGGpksus8VTcpbMJeNLFpuKBFt1BCN_gdSkvwtQUg9b-ymiI8TIuPOig8CDkWm2lX5Hl-CRPjk8AONFwMSf-tBUechCT9zeq3ACJ8xqc3ukLbx5nvfhY8ttzHJQCTDrwlV8pSTKrQAK6m7p_jSntN',\n",
       "    'width': 3000}],\n",
       "  'place_id': 'ChIJO-c0Wuy3t4kRsJtiRpJJJ6U',\n",
       "  'plus_code': {'compound_code': 'WX42+5W Washington, District of Columbia',\n",
       "   'global_code': '87C4WX42+5W'},\n",
       "  'price_level': 2,\n",
       "  'rating': 4.4,\n",
       "  'reference': 'ChIJO-c0Wuy3t4kRsJtiRpJJJ6U',\n",
       "  'scope': 'GOOGLE',\n",
       "  'types': ['restaurant',\n",
       "   'cafe',\n",
       "   'bakery',\n",
       "   'store',\n",
       "   'food',\n",
       "   'point_of_interest',\n",
       "   'establishment'],\n",
       "  'user_ratings_total': 1712,\n",
       "  'vicinity': '1200 New Hampshire Ave NW, Washington'},\n",
       " {'business_status': 'OPERATIONAL',\n",
       "  'geometry': {'location': {'lat': 38.9048165, 'lng': -77.0516694},\n",
       "   'viewport': {'northeast': {'lat': 38.90638592989272,\n",
       "     'lng': -77.05064217010727},\n",
       "    'southwest': {'lat': 38.90368627010727, 'lng': -77.05334182989272}}},\n",
       "  'icon': 'https://maps.gstatic.com/mapfiles/place_api/icons/v1/png_71/cafe-71.png',\n",
       "  'icon_background_color': '#FF9E67',\n",
       "  'icon_mask_base_uri': 'https://maps.gstatic.com/mapfiles/place_api/icons/v2/cafe_pinlet',\n",
       "  'name': 'Uptowner Cafe',\n",
       "  'opening_hours': {'open_now': True},\n",
       "  'photos': [{'height': 2184,\n",
       "    'html_attributions': ['<a href=\"https://maps.google.com/maps/contrib/114842150743663432279\">A Google User</a>'],\n",
       "    'photo_reference': 'AelY_CtpHmcXQjq-fFPH_7piXAhIhfSGUFSRJjg4SPaRR3xWnfaXqhzeTbyxPfBjBma5bSP_N-OgitxIMt6_sSvZJgEMdaYa0tZiKEhyxnItOBe8V0TdZLFjbttZj-DR6F7Nqg3JRLNssoHa93RbLN8a8PLkx0_v6gV9ZbTA3oZXT7Qmvels',\n",
       "    'width': 4608}],\n",
       "  'place_id': 'ChIJVwwnMrS3t4kR9seag_PJM2A',\n",
       "  'plus_code': {'compound_code': 'WW3X+W8 Washington, District of Columbia',\n",
       "   'global_code': '87C4WW3X+W8'},\n",
       "  'price_level': 1,\n",
       "  'rating': 4.4,\n",
       "  'reference': 'ChIJVwwnMrS3t4kR9seag_PJM2A',\n",
       "  'scope': 'GOOGLE',\n",
       "  'types': ['cafe', 'store', 'food', 'point_of_interest', 'establishment'],\n",
       "  'user_ratings_total': 204,\n",
       "  'vicinity': '2400 M St NW, Washington'},\n",
       " {'business_status': 'OPERATIONAL',\n",
       "  'geometry': {'location': {'lat': 38.9075824, 'lng': -77.0418784},\n",
       "   'viewport': {'northeast': {'lat': 38.90895432989272,\n",
       "     'lng': -77.04066677010728},\n",
       "    'southwest': {'lat': 38.90625467010728, 'lng': -77.04336642989271}}},\n",
       "  'icon': 'https://maps.gstatic.com/mapfiles/place_api/icons/v1/png_71/restaurant-71.png',\n",
       "  'icon_background_color': '#FF9E67',\n",
       "  'icon_mask_base_uri': 'https://maps.gstatic.com/mapfiles/place_api/icons/v2/restaurant_pinlet',\n",
       "  'name': 'Tatte Bakery & Cafe | Dupont Circle',\n",
       "  'opening_hours': {'open_now': True},\n",
       "  'photos': [{'height': 4000,\n",
       "    'html_attributions': ['<a href=\"https://maps.google.com/maps/contrib/114586970223986403147\">Abdulrahman Al-Kandari</a>'],\n",
       "    'photo_reference': 'AelY_Ctl01Bj3TDqdP_fFtR3RiajIZVA0wvhpTEQs8NHpT5CM-bcgvA0hDXAguhnHQW_5C3wqrXanMCyFLCVUO9Gfx1m4CMMI9EPafsVyRE9x9FRMVppD0rbx8Su0AFVdMbJjXVRbPeBVNtDEfnlBGJ4tsVM3411D-kGe1AXr8bxoEKMMkjy',\n",
       "    'width': 3000}],\n",
       "  'place_id': 'ChIJlTQ22PG3t4kR1c3hkRvqB1M',\n",
       "  'plus_code': {'compound_code': 'WX55+26 Washington, District of Columbia',\n",
       "   'global_code': '87C4WX55+26'},\n",
       "  'price_level': 2,\n",
       "  'rating': 4.3,\n",
       "  'reference': 'ChIJlTQ22PG3t4kR1c3hkRvqB1M',\n",
       "  'scope': 'GOOGLE',\n",
       "  'types': ['restaurant',\n",
       "   'cafe',\n",
       "   'bakery',\n",
       "   'store',\n",
       "   'food',\n",
       "   'point_of_interest',\n",
       "   'establishment'],\n",
       "  'user_ratings_total': 1060,\n",
       "  'vicinity': '1301 Connecticut Ave NW, Washington'},\n",
       " {'business_status': 'OPERATIONAL',\n",
       "  'geometry': {'location': {'lat': 38.90799519999999, 'lng': -77.063433},\n",
       "   'viewport': {'northeast': {'lat': 38.90931442989273,\n",
       "     'lng': -77.06217837010729},\n",
       "    'southwest': {'lat': 38.90661477010728, 'lng': -77.06487802989272}}},\n",
       "  'icon': 'https://maps.gstatic.com/mapfiles/place_api/icons/v1/png_71/cafe-71.png',\n",
       "  'icon_background_color': '#FF9E67',\n",
       "  'icon_mask_base_uri': 'https://maps.gstatic.com/mapfiles/place_api/icons/v2/cafe_pinlet',\n",
       "  'name': 'maman',\n",
       "  'opening_hours': {'open_now': True},\n",
       "  'photos': [{'height': 2992,\n",
       "    'html_attributions': ['<a href=\"https://maps.google.com/maps/contrib/116287621135255725299\">Farxad Alizada</a>'],\n",
       "    'photo_reference': 'AelY_CtW-sxJEfYLEQ5va7dwQf8SulPrJM_wvbhnD0LrzzTX15F75rDUQGvXj2oa8TeF93aB5598nZ1WbYLK9FF42i88A0sXjopx2Y3MT9Q_D-KK9A-cDE8yJ3stLsKpJsxKx74CZdH9uG6WDBkUgJuCtuRoc7gWyEYft0fFQasrWJ00WNFl',\n",
       "    'width': 2992}],\n",
       "  'place_id': 'ChIJfWsEP-O3t4kRgXIF4SMD7VI',\n",
       "  'plus_code': {'compound_code': 'WW5P+5J Washington, District of Columbia',\n",
       "   'global_code': '87C4WW5P+5J'},\n",
       "  'price_level': 2,\n",
       "  'rating': 4.4,\n",
       "  'reference': 'ChIJfWsEP-O3t4kRgXIF4SMD7VI',\n",
       "  'scope': 'GOOGLE',\n",
       "  'types': ['cafe',\n",
       "   'store',\n",
       "   'restaurant',\n",
       "   'food',\n",
       "   'point_of_interest',\n",
       "   'establishment'],\n",
       "  'user_ratings_total': 443,\n",
       "  'vicinity': '1353 Wisconsin Ave NW, Washington'},\n",
       " {'business_status': 'OPERATIONAL',\n",
       "  'geometry': {'location': {'lat': 38.9069259, 'lng': -77.062675},\n",
       "   'viewport': {'northeast': {'lat': 38.90821072989272,\n",
       "     'lng': -77.06133482010726},\n",
       "    'southwest': {'lat': 38.90551107010727, 'lng': -77.06403447989271}}},\n",
       "  'icon': 'https://maps.gstatic.com/mapfiles/place_api/icons/v1/png_71/cafe-71.png',\n",
       "  'icon_background_color': '#FF9E67',\n",
       "  'icon_mask_base_uri': 'https://maps.gstatic.com/mapfiles/place_api/icons/v2/cafe_pinlet',\n",
       "  'name': 'Café Georgetown',\n",
       "  'opening_hours': {'open_now': True},\n",
       "  'photos': [{'height': 4032,\n",
       "    'html_attributions': ['<a href=\"https://maps.google.com/maps/contrib/105830223079310869115\">Busra Sonmez</a>'],\n",
       "    'photo_reference': 'AelY_Cs17aUP6pHUdBvn2PukRu_2d3iM1cx0VaM6GTukdVkkvu8JGsmMv8Hi9MjSMnIeSARSTCdZfpAKQP2xxeGo_O_CE907QKjFu8CoAERpEzS_nQHHx-Dn6mms1RVDw8du66fYxGy7ZZNRuis7lc2W7ZVSHwieQecovh7Lt0V5B6zpTIrE',\n",
       "    'width': 3024}],\n",
       "  'place_id': 'ChIJg0mxg0m2t4kROYz_h-e6JjM',\n",
       "  'plus_code': {'compound_code': 'WW4P+QW Washington, District of Columbia',\n",
       "   'global_code': '87C4WW4P+QW'},\n",
       "  'price_level': 2,\n",
       "  'rating': 4.3,\n",
       "  'reference': 'ChIJg0mxg0m2t4kROYz_h-e6JjM',\n",
       "  'scope': 'GOOGLE',\n",
       "  'types': ['cafe',\n",
       "   'bakery',\n",
       "   'bar',\n",
       "   'store',\n",
       "   'food',\n",
       "   'point_of_interest',\n",
       "   'establishment'],\n",
       "  'user_ratings_total': 541,\n",
       "  'vicinity': '3141 N St NW, Washington'},\n",
       " {'business_status': 'OPERATIONAL',\n",
       "  'geometry': {'location': {'lat': 38.9030095, 'lng': -77.0521031},\n",
       "   'viewport': {'northeast': {'lat': 38.90444902989272,\n",
       "     'lng': -77.05070347010728},\n",
       "    'southwest': {'lat': 38.90174937010728, 'lng': -77.05340312989271}}},\n",
       "  'icon': 'https://maps.gstatic.com/mapfiles/place_api/icons/v1/png_71/restaurant-71.png',\n",
       "  'icon_background_color': '#FF9E67',\n",
       "  'icon_mask_base_uri': 'https://maps.gstatic.com/mapfiles/place_api/icons/v2/restaurant_pinlet',\n",
       "  'name': 'Fabulous Market And Cafe',\n",
       "  'opening_hours': {'open_now': True},\n",
       "  'photos': [{'height': 621,\n",
       "    'html_attributions': ['<a href=\"https://maps.google.com/maps/contrib/116573596213053789640\">Esmee Kroon</a>'],\n",
       "    'photo_reference': 'AelY_CvBDhHsOeS73YPN1sIse5hcxeuC8BioAf8ijo9smKo1-EBlmILRdeJI_Gbzdu78yMr0SCxbqP3y4jaX9KyWae6HEUyrMnpnXZBVyKEPocQUMoEbCTODyHS8GDvSP1or9gEa_or8D1HvfRm0t4CL466GG9PQpU662xfSy8NKuHzY4FaB',\n",
       "    'width': 828}],\n",
       "  'place_id': 'ChIJmeWKirO3t4kRkSXhguvbQxI',\n",
       "  'plus_code': {'compound_code': 'WW3X+65 Washington, District of Columbia',\n",
       "   'global_code': '87C4WW3X+65'},\n",
       "  'price_level': 1,\n",
       "  'rating': 4.2,\n",
       "  'reference': 'ChIJmeWKirO3t4kRkSXhguvbQxI',\n",
       "  'scope': 'GOOGLE',\n",
       "  'types': ['cafe',\n",
       "   'meal_takeaway',\n",
       "   'grocery_or_supermarket',\n",
       "   'store',\n",
       "   'restaurant',\n",
       "   'food',\n",
       "   'point_of_interest',\n",
       "   'establishment'],\n",
       "  'user_ratings_total': 87,\n",
       "  'vicinity': '2424 Pennsylvania Avenue NW #109, Washington'},\n",
       " {'business_status': 'OPERATIONAL',\n",
       "  'geometry': {'location': {'lat': 38.9008234, 'lng': -77.0477034},\n",
       "   'viewport': {'northeast': {'lat': 38.90212297989271,\n",
       "     'lng': -77.04635382010727},\n",
       "    'southwest': {'lat': 38.89942332010727, 'lng': -77.0490534798927}}},\n",
       "  'icon': 'https://maps.gstatic.com/mapfiles/place_api/icons/v1/png_71/cafe-71.png',\n",
       "  'icon_background_color': '#FF9E67',\n",
       "  'icon_mask_base_uri': 'https://maps.gstatic.com/mapfiles/place_api/icons/v2/cafe_pinlet',\n",
       "  'name': 'Tatte Bakery & Cafe | Foggy Bottom',\n",
       "  'opening_hours': {'open_now': True},\n",
       "  'photos': [{'height': 1342,\n",
       "    'html_attributions': ['<a href=\"https://maps.google.com/maps/contrib/111678738186075808264\">A Google User</a>'],\n",
       "    'photo_reference': 'AelY_CuPiC3dT5CK_C7bGlVhvBAYTcBujUc-jy-3yGSNM-1LFboNORRhGTb4eY6Z89dwsDO_emCUgVhbNOJDZTaRgvCrqqMoJXWAASRvGeSxRp5_dYBqHn1nQdqBjDImaMxOM4pl1Msfde5-mya3TljTif9rSDnb2t1J2ECKazxM14OBy7o7',\n",
       "    'width': 1284}],\n",
       "  'place_id': 'ChIJ22tcuXK3t4kRkilKPpkvhQk',\n",
       "  'plus_code': {'compound_code': 'WX22+8W Washington, District of Columbia',\n",
       "   'global_code': '87C4WX22+8W'},\n",
       "  'price_level': 2,\n",
       "  'rating': 4.4,\n",
       "  'reference': 'ChIJ22tcuXK3t4kRkilKPpkvhQk',\n",
       "  'scope': 'GOOGLE',\n",
       "  'types': ['cafe',\n",
       "   'bakery',\n",
       "   'store',\n",
       "   'restaurant',\n",
       "   'food',\n",
       "   'point_of_interest',\n",
       "   'establishment'],\n",
       "  'user_ratings_total': 300,\n",
       "  'vicinity': '2129 I St NW, Washington'},\n",
       " {'business_status': 'OPERATIONAL',\n",
       "  'geometry': {'location': {'lat': 38.90423699999999,\n",
       "    'lng': -77.03824980000002},\n",
       "   'viewport': {'northeast': {'lat': 38.90556597989273,\n",
       "     'lng': -77.03702772010729},\n",
       "    'southwest': {'lat': 38.90286632010729, 'lng': -77.03972737989274}}},\n",
       "  'icon': 'https://maps.gstatic.com/mapfiles/place_api/icons/v1/png_71/cafe-71.png',\n",
       "  'icon_background_color': '#FF9E67',\n",
       "  'icon_mask_base_uri': 'https://maps.gstatic.com/mapfiles/place_api/icons/v2/cafe_pinlet',\n",
       "  'name': 'City Place Cafe',\n",
       "  'opening_hours': {'open_now': False},\n",
       "  'photos': [{'height': 1024,\n",
       "    'html_attributions': ['<a href=\"https://maps.google.com/maps/contrib/104517797622778758110\">A Google User</a>'],\n",
       "    'photo_reference': 'AelY_CswPqaJqRt5mSFYbv7Czt3sQQBfGzniUxsCC_Gbmlas3BtvadmwBEwrCfPdTHPPZOo_wWXpoUEShix5nXk-Szbd93LK7PeeBfcjJe9IWKfKcIkjHAZEV4a6HJLAKldBKfg3lZXbU2gCFyvw4jI5ieChWS2me0Tvz-cbjha5Waxes3do',\n",
       "    'width': 768}],\n",
       "  'place_id': 'ChIJtZtGJ7-3t4kRV0HM2IPjPRU',\n",
       "  'plus_code': {'compound_code': 'WX36+MP Washington, District of Columbia',\n",
       "   'global_code': '87C4WX36+MP'},\n",
       "  'price_level': 1,\n",
       "  'rating': 4.6,\n",
       "  'reference': 'ChIJtZtGJ7-3t4kRV0HM2IPjPRU',\n",
       "  'scope': 'GOOGLE',\n",
       "  'types': ['cafe',\n",
       "   'store',\n",
       "   'restaurant',\n",
       "   'food',\n",
       "   'point_of_interest',\n",
       "   'establishment'],\n",
       "  'user_ratings_total': 193,\n",
       "  'vicinity': '1101 17th St NW, Washington'},\n",
       " {'business_status': 'OPERATIONAL',\n",
       "  'geometry': {'location': {'lat': 38.9009204, 'lng': -77.03972139999999},\n",
       "   'viewport': {'northeast': {'lat': 38.90225677989272,\n",
       "     'lng': -77.03824957010727},\n",
       "    'southwest': {'lat': 38.89955712010727, 'lng': -77.0409492298927}}},\n",
       "  'icon': 'https://maps.gstatic.com/mapfiles/place_api/icons/v1/png_71/restaurant-71.png',\n",
       "  'icon_background_color': '#FF9E67',\n",
       "  'icon_mask_base_uri': 'https://maps.gstatic.com/mapfiles/place_api/icons/v2/restaurant_pinlet',\n",
       "  'name': 'Le Pain Quotidien',\n",
       "  'opening_hours': {'open_now': True},\n",
       "  'photos': [{'height': 1868,\n",
       "    'html_attributions': ['<a href=\"https://maps.google.com/maps/contrib/112931577851041699334\">Navin S</a>'],\n",
       "    'photo_reference': 'AelY_CuXIYsYIEAMw_c3mId4kMjkg76MtaC3THwzUSayQdkX9-04VfAbCrRHebeaNwAu9IRSRQNjv9bc4idWP--8-1LCor6BzXCXl2d_A1YZHZaC1JHM15aS-1z6RIicP0S52MTOgsOHuKvAR7Gp9eCfEnsZnq3OWJS2iZbwpzS5q3DAShqf',\n",
       "    'width': 4000}],\n",
       "  'place_id': 'ChIJl-dg8ru3t4kR99vU9Xsr0_Y',\n",
       "  'plus_code': {'compound_code': 'WX26+94 Washington, District of Columbia',\n",
       "   'global_code': '87C4WX26+94'},\n",
       "  'price_level': 2,\n",
       "  'rating': 4.2,\n",
       "  'reference': 'ChIJl-dg8ru3t4kR99vU9Xsr0_Y',\n",
       "  'scope': 'GOOGLE',\n",
       "  'types': ['restaurant',\n",
       "   'cafe',\n",
       "   'bakery',\n",
       "   'store',\n",
       "   'food',\n",
       "   'point_of_interest',\n",
       "   'establishment'],\n",
       "  'user_ratings_total': 525,\n",
       "  'vicinity': '800 17th St NW, Washington'},\n",
       " {'business_status': 'OPERATIONAL',\n",
       "  'geometry': {'location': {'lat': 38.93617649999999, 'lng': -77.0591287},\n",
       "   'viewport': {'northeast': {'lat': 38.93757547989272,\n",
       "     'lng': -77.05770287010728},\n",
       "    'southwest': {'lat': 38.93487582010727, 'lng': -77.06040252989271}}},\n",
       "  'icon': 'https://maps.gstatic.com/mapfiles/place_api/icons/v1/png_71/cafe-71.png',\n",
       "  'icon_background_color': '#FF9E67',\n",
       "  'icon_mask_base_uri': 'https://maps.gstatic.com/mapfiles/place_api/icons/v2/cafe_pinlet',\n",
       "  'name': 'Dolan Coffee',\n",
       "  'opening_hours': {'open_now': True},\n",
       "  'photos': [{'height': 1580,\n",
       "    'html_attributions': ['<a href=\"https://maps.google.com/maps/contrib/108435528983554298058\">A Google User</a>'],\n",
       "    'photo_reference': 'AelY_CtV_6cqzGLrw1YmafST31UajuKjrMeTXoJWYs6TzapcXQJ8Hs81oHfpSxoY6AWNGhwMQoQ0lRAlskycru43BJ6kbFiuoOHaFHjjLHLl36vYCW6eUEKkHAYMVqpnObRV6EDeARAMYu4sq0UFRiIREr-R3vgfLgARh4VIzXIkLmWGRgff',\n",
       "    'width': 2370}],\n",
       "  'place_id': 'ChIJQWdBmMnJt4kR_7W5-BvkQso',\n",
       "  'plus_code': {'compound_code': 'WWPR+F8 Washington, District of Columbia',\n",
       "   'global_code': '87C4WWPR+F8'},\n",
       "  'price_level': 1,\n",
       "  'rating': 5,\n",
       "  'reference': 'ChIJQWdBmMnJt4kR_7W5-BvkQso',\n",
       "  'scope': 'GOOGLE',\n",
       "  'types': ['cafe',\n",
       "   'store',\n",
       "   'restaurant',\n",
       "   'food',\n",
       "   'point_of_interest',\n",
       "   'establishment'],\n",
       "  'user_ratings_total': 43,\n",
       "  'vicinity': '3518 Connecticut Ave NW Unit D, Washington'}]"
      ]
     },
     "execution_count": 31,
     "metadata": {},
     "output_type": "execute_result"
    }
   ],
   "source": [
    "bfast"
   ]
  },
  {
   "cell_type": "code",
   "execution_count": 33,
   "metadata": {},
   "outputs": [
    {
     "data": {
      "text/plain": [
       "20"
      ]
     },
     "execution_count": 33,
     "metadata": {},
     "output_type": "execute_result"
    }
   ],
   "source": [
    "len(bfast)"
   ]
  },
  {
   "cell_type": "markdown",
   "metadata": {},
   "source": [
    "##### Closest"
   ]
  },
  {
   "cell_type": "code",
   "execution_count": 32,
   "metadata": {},
   "outputs": [
    {
     "name": "stdout",
     "output_type": "stream",
     "text": [
      "Closest breakfast place is Open City at 2331 Calvert St NW, Washington\n"
     ]
    }
   ],
   "source": [
    "print('Closest breakfast place is {} at {}'.format(bfast[0]['name'], bfast[0]['vicinity'])) # closest"
   ]
  },
  {
   "cell_type": "code",
   "execution_count": 34,
   "metadata": {},
   "outputs": [],
   "source": [
    "# highest rated\n",
    "rating = []\n",
    "for i in range(len(bfast)):\n",
    "\ttry:\n",
    "\t\trating.append(bfast[i]['rating'])\n",
    "\texcept:\n",
    "\t\trating.append(0)\n",
    "best_bfast = bfast[rating.index(max(rating))]"
   ]
  },
  {
   "cell_type": "markdown",
   "metadata": {},
   "source": [
    "##### Best-rated"
   ]
  },
  {
   "cell_type": "code",
   "execution_count": 42,
   "metadata": {},
   "outputs": [
    {
     "name": "stdout",
     "output_type": "stream",
     "text": [
      "Best breakfast place is Dolan Coffee at 3518 Connecticut Ave NW Unit D, Washington with 5\n"
     ]
    }
   ],
   "source": [
    "print('Best breakfast place is {} at {} with {}'.format(best_bfast['name'], \n",
    "                                                best_bfast['vicinity'], best_bfast['rating'])) # highest rated"
   ]
  },
  {
   "cell_type": "markdown",
   "metadata": {},
   "source": [
    "3. If I wanted to hold an upscale evening meeting there, which fancy bar would you suggest? "
   ]
  },
  {
   "cell_type": "code",
   "execution_count": 43,
   "metadata": {},
   "outputs": [
    {
     "name": "stdout",
     "output_type": "stream",
     "text": [
      "Fanciest bar is Jack Rose Dining Saloon at 2007 18th St NW, Washington, DC 20009, United States\n"
     ]
    }
   ],
   "source": [
    "# using a slightly different method than for bfast\n",
    "bars = gmaps.places('bars near ' + '2341 Wyoming Ave NW, Washington, DC 20008, USA')\n",
    "\n",
    "dollar = []\n",
    "for i in range(0, len(bars)):\n",
    "\ttry:\n",
    "\t    dollar.append(bars['results'][i]['price_level'])\n",
    "\texcept:\n",
    "\t    dollar.append(0)\n",
    "fancy_bar = bars['results'][dollar.index(max(dollar))]\n",
    "\n",
    "print('Fanciest bar is {} at {}'.format(fancy_bar['name'], fancy_bar['formatted_address'])) # fanciest"
   ]
  }
 ],
 "metadata": {
  "kernelspec": {
   "display_name": "Python 3 (ipykernel)",
   "language": "python",
   "name": "python3"
  },
  "language_info": {
   "codemirror_mode": {
    "name": "ipython",
    "version": 3
   },
   "file_extension": ".py",
   "mimetype": "text/x-python",
   "name": "python",
   "nbconvert_exporter": "python",
   "pygments_lexer": "ipython3",
   "version": "3.12.4"
  }
 },
 "nbformat": 4,
 "nbformat_minor": 4
}
