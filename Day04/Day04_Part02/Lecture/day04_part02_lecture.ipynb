{
 "cells": [
  {
   "cell_type": "markdown",
   "metadata": {
    "editable": true,
    "slideshow": {
     "slide_type": "slide"
    },
    "tags": []
   },
   "source": [
    "# SQL and Databases"
   ]
  },
  {
   "cell_type": "markdown",
   "metadata": {
    "editable": true,
    "slideshow": {
     "slide_type": "subslide"
    },
    "tags": []
   },
   "source": [
    "What is a database? \n",
    "- A database is a collection of information that is organized so that it can be easily accessed, managed, and updated.\n",
    "- In a relational database, digital information about a specific customer is organized into rows, columns, and tables which are indexed to make it easier to find relevant information through SQL queries.\n",
    "- Source: https://searchsqlserver.techtarget.com/definition/database\n"
   ]
  },
  {
   "cell_type": "markdown",
   "metadata": {
    "editable": true,
    "slideshow": {
     "slide_type": "subslide"
    },
    "tags": []
   },
   "source": [
    "Why create a relational database?\n",
    "- Flexible, can add new data and new relationships easily\n",
    "- Eliminates redundancies (e.g., a csv with several rows of repeated data)\n",
    "- Source: https://www.ibm.com/cloud/learn/relational-databases\n",
    "- Example: https://www.pragimtech.com/blog/contribute/article_images/2220211210231003/what-is-a-relational-database.jpg"
   ]
  },
  {
   "cell_type": "markdown",
   "metadata": {
    "editable": true,
    "slideshow": {
     "slide_type": "subslide"
    },
    "tags": []
   },
   "source": [
    "What is ORM? \n",
    "- ORM stands for Object Relational Mapping. \n",
    "- ORM is a technique used in creating a \"bridge\" between OOP and relational databases. \n",
    "- An ORM tool is a software designed to help OOP (like Python) to interact with relational databases. \n",
    "<br>\n",
    "<br>"
   ]
  },
  {
   "cell_type": "markdown",
   "metadata": {
    "editable": true,
    "slideshow": {
     "slide_type": "slide"
    },
    "tags": []
   },
   "source": [
    "#### Python offers several ORM tools that help us to do that! "
   ]
  },
  {
   "cell_type": "markdown",
   "metadata": {
    "editable": true,
    "slideshow": {
     "slide_type": "fragment"
    },
    "tags": []
   },
   "source": [
    "* Here is an example of SQL code that retrieves information about a particular user from a database: "
   ]
  },
  {
   "cell_type": "markdown",
   "metadata": {
    "editable": true,
    "slideshow": {
     "slide_type": "fragment"
    },
    "tags": []
   },
   "source": [
    "`SELECT id, name, email, country, phone_number`"
   ]
  },
  {
   "cell_type": "markdown",
   "metadata": {
    "editable": true,
    "slideshow": {
     "slide_type": "fragment"
    },
    "tags": []
   },
   "source": [
    "`FROM users`"
   ]
  },
  {
   "cell_type": "markdown",
   "metadata": {
    "editable": true,
    "slideshow": {
     "slide_type": "fragment"
    },
    "tags": []
   },
   "source": [
    "`WHERE id = 20`"
   ]
  },
  {
   "cell_type": "markdown",
   "metadata": {
    "editable": true,
    "slideshow": {
     "slide_type": "fragment"
    },
    "tags": []
   },
   "source": [
    "* This code returns specified information about this user from a table called `users`, using the `WHERE` clause where we specified that `id = 20` for this user.\n",
    "* On the other hand, an ORM tool can do the exact same query with much shorter code! \n",
    "`users.GetById(20)`"
   ]
  },
  {
   "cell_type": "markdown",
   "metadata": {
    "editable": true,
    "slideshow": {
     "slide_type": "subslide"
    },
    "tags": []
   },
   "source": [
    "##### Let's install `sqlite` first! "
   ]
  },
  {
   "cell_type": "markdown",
   "metadata": {
    "editable": true,
    "slideshow": {
     "slide_type": "fragment"
    },
    "tags": []
   },
   "source": [
    "- On **Mac**: open terminal, then run `brew install sqlite3`\n",
    "- On **Windows**: follow https://www.guru99.com/download-install-sqlite.html"
   ]
  },
  {
   "cell_type": "markdown",
   "metadata": {
    "editable": true,
    "slideshow": {
     "slide_type": "fragment"
    },
    "tags": []
   },
   "source": [
    "##### Now we can install this library `sqlalchemy` for python. "
   ]
  },
  {
   "cell_type": "code",
   "execution_count": 1,
   "metadata": {
    "editable": true,
    "slideshow": {
     "slide_type": "fragment"
    },
    "tags": []
   },
   "outputs": [],
   "source": [
    "# !pip3 install sqlalchemy"
   ]
  },
  {
   "cell_type": "markdown",
   "metadata": {
    "editable": true,
    "slideshow": {
     "slide_type": "fragment"
    },
    "tags": []
   },
   "source": [
    "- Check tutorial: http://pythoncentral.io/introductory-tutorial-python-sqlalchemy/\n",
    "- Find documentation: https://www.kite.com/python/docs/"
   ]
  },
  {
   "cell_type": "code",
   "execution_count": null,
   "metadata": {
    "editable": true,
    "slideshow": {
     "slide_type": "fragment"
    },
    "tags": []
   },
   "outputs": [],
   "source": [
    "import sqlalchemy # working with SQL\n",
    "\n",
    "# fun trick!\n",
    "import warnings\n",
    "warnings.filterwarnings('ignore') # ignore warnings"
   ]
  },
  {
   "cell_type": "markdown",
   "metadata": {
    "editable": true,
    "slideshow": {
     "slide_type": "subslide"
    },
    "tags": []
   },
   "source": [
    "#### 1. Establish connectivity using the Engine "
   ]
  },
  {
   "cell_type": "markdown",
   "metadata": {
    "editable": true,
    "slideshow": {
     "slide_type": "fragment"
    },
    "tags": []
   },
   "source": [
    "* The engine is typically a global object created using `create_engine()` just once for a particular database."
   ]
  },
  {
   "cell_type": "code",
   "execution_count": null,
   "metadata": {
    "editable": true,
    "slideshow": {
     "slide_type": "fragment"
    },
    "tags": []
   },
   "outputs": [],
   "source": [
    "# Make sure to change to your directory\n",
    "engine = sqlalchemy.create_engine('sqlite:///players.db')\n",
    "\n",
    "# egine tells you what kind of database you’re using (SQLite, Postgres, MySQL, etc.), where it’s located, how to connect to it\n",
    "# relative path to the database file"
   ]
  },
  {
   "cell_type": "markdown",
   "metadata": {
    "editable": true,
    "slideshow": {
     "slide_type": "fragment"
    },
    "tags": []
   },
   "source": [
    "* The parameter `echo = True` makes SQLAlchemy log all SQL commands it is doing while you apply commands.\n",
    "* For now, I'm just turning it off to make the cell output cleaner. \n",
    "\n",
    "The database will be intact, until you execute the commands. "
   ]
  },
  {
   "cell_type": "markdown",
   "metadata": {
    "editable": true,
    "slideshow": {
     "slide_type": "subslide"
    },
    "tags": []
   },
   "source": [
    "#### 2. Instantiate a Base"
   ]
  },
  {
   "cell_type": "markdown",
   "metadata": {
    "editable": true,
    "slideshow": {
     "slide_type": "fragment"
    },
    "tags": []
   },
   "source": [
    "* With the help of ORM tools, we don't need to write SQL queries anymore.\n",
    "* Everything is done using a declarative system.\n",
    "* The `Base` class maintains a catalog of all the tables and classes (i.e. structures of the database). \n",
    "\n",
    "Tables -> classes, columns -> attributes, rows -> objects\n",
    "\n",
    "More information: https://stackoverflow.com/questions/1279613/what-is-an-orm-how-does-it-work-and-how-should-i-use-one"
   ]
  },
  {
   "cell_type": "code",
   "execution_count": null,
   "metadata": {
    "editable": true,
    "slideshow": {
     "slide_type": "fragment"
    },
    "tags": []
   },
   "outputs": [],
   "source": [
    "from sqlalchemy.ext.declarative import declarative_base\n",
    "\n",
    "Base = declarative_base() # declare your tables as Python classes"
   ]
  },
  {
   "cell_type": "markdown",
   "metadata": {
    "editable": true,
    "slideshow": {
     "slide_type": "fragment"
    },
    "tags": []
   },
   "source": [
    "* In our database, each class is a table. Each attribute is a column in the table. "
   ]
  },
  {
   "cell_type": "markdown",
   "metadata": {
    "editable": true,
    "slideshow": {
     "slide_type": "subslide"
    },
    "tags": []
   },
   "source": [
    "##### Table relations in SQL"
   ]
  },
  {
   "cell_type": "markdown",
   "metadata": {
    "editable": true,
    "slideshow": {
     "slide_type": "fragment"
    },
    "tags": []
   },
   "source": [
    "1. One-to-one: a record in one table is linked to max one record in another table. \n",
    "    - A student can have only one student ID and only one grade for a particular course. \n",
    "2. One-to-many: a single record in one table can be mapped to multiple rows of another table. \n",
    "    - A student can have multiple email addresses of different types, e.g. school email, personal email, etc. \n",
    "3. Many-to-many: each row in a table can map to multiple rows in another table and vice versa. \n",
    "    - A student can know how to use several programming languages like R, Python, Julia. \n",
    "    - And one programming language (e.g. Python) can be mapped to multiple students who have the same skills. "
   ]
  },
  {
   "cell_type": "markdown",
   "metadata": {
    "editable": true,
    "slideshow": {
     "slide_type": "fragment"
    },
    "tags": []
   },
   "source": [
    "A **primary key** uniquely identifies a record (row/orbservation) in a table. A **foreign key** links the record in a table to one in another table."
   ]
  },
  {
   "cell_type": "markdown",
   "metadata": {
    "editable": true,
    "slideshow": {
     "slide_type": "subslide"
    },
    "tags": []
   },
   "source": [
    "#### 3. Create our tables"
   ]
  },
  {
   "cell_type": "markdown",
   "metadata": {
    "editable": true,
    "slideshow": {
     "slide_type": "fragment"
    },
    "tags": []
   },
   "source": [
    "##### Let's create a one-to-many example"
   ]
  },
  {
   "cell_type": "markdown",
   "metadata": {
    "editable": true,
    "slideshow": {
     "slide_type": "fragment"
    },
    "tags": []
   },
   "source": [
    "* Basketball teams can have many players in each, but one player can only play for one basketball team. \n",
    "\n",
    "We need: \n",
    "1. Two tables: one for **players**, and one for **teams**\n",
    "2. Foreign key on **players** to reference unique team IDs (primary key on **teams**)\n",
    "3. Use `relationship()` method to specify "
   ]
  },
  {
   "cell_type": "code",
   "execution_count": 5,
   "metadata": {
    "editable": true,
    "slideshow": {
     "slide_type": "fragment"
    },
    "tags": []
   },
   "outputs": [],
   "source": [
    "from sqlalchemy import Column, Integer, String, ForeignKey"
   ]
  },
  {
   "cell_type": "markdown",
   "metadata": {
    "editable": true,
    "slideshow": {
     "slide_type": "subslide"
    },
    "tags": []
   },
   "source": [
    "##### Defining the `Player` table as a class"
   ]
  },
  {
   "cell_type": "code",
   "execution_count": null,
   "metadata": {
    "editable": true,
    "slideshow": {
     "slide_type": "skip"
    },
    "tags": []
   },
   "outputs": [],
   "source": [
    "# Create a table for Players\n",
    "# with 4 columns: ID, Name, Number, and Team ID\n",
    "class Player(Base):\n",
    "    __tablename__ = 'players'\n",
    "    ## At first, only specify data types for the columns\n",
    "    ## primary_key is unique, non-nullable identifier for row\n",
    "    ## Have an ID column because player attributes (name, etc) are not unique\n",
    "    ## At least 1 primary_key per table\n",
    "    id = Column(Integer, primary_key = True) \n",
    "    name = Column(String)\n",
    "    number = Column(Integer)\n",
    "    ## ForeignKey tells us we have a relationship with another table (\"teams\") by the (\"id\") variable\n",
    "    ## This info constrained to only come from that table\n",
    "    ## What we are referencing is usually the primary key for that table\n",
    "    team_id = Column(Integer, ForeignKey(\"teams.id\")) \n",
    "    ## Populate non-ID fields in the table through the constructor\n",
    "    def __init__(self, name, number, team=None):\n",
    "        self.name = name\n",
    "        self.number = number\n",
    "        self.team = team\n",
    "    # Optional to define the representation (what gets returned when you enter this object)\n",
    "    def __repr__(self): # returns a string representation of the object\n",
    "        return \"<Player('%s', '%s')>\" % (self.name, self.number)"
   ]
  },
  {
   "cell_type": "markdown",
   "metadata": {
    "editable": true,
    "slideshow": {
     "slide_type": "subslide"
    },
    "tags": []
   },
   "source": [
    "##### Reviewing the keys on this table"
   ]
  },
  {
   "cell_type": "markdown",
   "metadata": {
    "editable": true,
    "slideshow": {
     "slide_type": "fragment"
    },
    "tags": []
   },
   "source": [
    "* We defined the column `id` as a primary key for the `players` table . \n",
    "\n",
    "- It will uniquely identify a row in the table.\n",
    "- a foreign key (here `team_id`) will link two tables together by referencing the primary key of the related table. \n",
    "- A primary key *cannot* take on NULL values, where foreign keys *can*. "
   ]
  },
  {
   "cell_type": "markdown",
   "metadata": {
    "editable": true,
    "slideshow": {
     "slide_type": "subslide"
    },
    "tags": []
   },
   "source": [
    "##### Defining the `Team` table as a class"
   ]
  },
  {
   "cell_type": "code",
   "execution_count": 8,
   "metadata": {
    "editable": true,
    "slideshow": {
     "slide_type": "fragment"
    },
    "tags": []
   },
   "outputs": [],
   "source": [
    "from sqlalchemy.orm import relationship"
   ]
  },
  {
   "cell_type": "code",
   "execution_count": null,
   "metadata": {
    "editable": true,
    "slideshow": {
     "slide_type": "fragment"
    },
    "tags": []
   },
   "outputs": [],
   "source": [
    "class Team(Base):\n",
    "  __tablename__ = \"teams\"\n",
    "  \n",
    "  id = Column(Integer, primary_key=True)\n",
    "  name = Column(String)\n",
    "\n",
    "\n",
    "  ## - relationship() tells us another table wants to reference us\n",
    "  ## - now notice we use \"Player\" object syntax and \"team\" member variable syntax\n",
    "  ## - Note: this is NOT a column\n",
    "  ##          but we can call <team obj>.players\n",
    "  ##          or <player obj>.team\n",
    "  players = relationship(\"Player\", backref=\"team\")\n",
    "  # There is another table (Player) that has a ForeignKey pointing to me\n",
    "  # backref=\"team\" allows us to access the team from the player object\n",
    "  \n",
    "  def __init__(self, name):\n",
    "    self.name = name\n",
    "  \n",
    "  def __repr__(self):\n",
    "    return \"<team('%s')>\" % (self.name)"
   ]
  },
  {
   "cell_type": "markdown",
   "metadata": {
    "editable": true,
    "slideshow": {
     "slide_type": "subslide"
    },
    "tags": []
   },
   "source": [
    "#### 4. Issue commands to database"
   ]
  },
  {
   "cell_type": "markdown",
   "metadata": {
    "editable": true,
    "slideshow": {
     "slide_type": "fragment"
    },
    "tags": []
   },
   "source": [
    "- Create tables for the first time.\n",
    "- The `metadata` is a registry which includes the ability to make schema commands to database.\n",
    "- Our SQLite database does not actually have a `players` table present, so we use `metadata` to issue the SQL \"CREATE TABLE\" command to the database for all tables that don’t yet exist."
   ]
  },
  {
   "cell_type": "code",
   "execution_count": 448,
   "metadata": {
    "editable": true,
    "slideshow": {
     "slide_type": "fragment"
    },
    "tags": []
   },
   "outputs": [],
   "source": [
    "Base.metadata.create_all(engine)\n",
    "# .metadata is a catalog that remembers all the tables and schemas you defined in your classes.\n",
    "# create_all() creates the tables in the database if they don't exist\n"
   ]
  },
  {
   "cell_type": "markdown",
   "metadata": {
    "editable": true,
    "slideshow": {
     "slide_type": "fragment"
    },
    "tags": []
   },
   "source": [
    "* Now we should see our database \"player.db\" in our working directory! "
   ]
  },
  {
   "cell_type": "markdown",
   "metadata": {
    "editable": true,
    "slideshow": {
     "slide_type": "subslide"
    },
    "tags": []
   },
   "source": [
    "##### Let's check what columns we have in the tables"
   ]
  },
  {
   "cell_type": "markdown",
   "metadata": {
    "editable": true,
    "slideshow": {
     "slide_type": "fragment"
    },
    "tags": []
   },
   "source": [
    "- SQLAlchemy represents info for specific table with Table attribute"
   ]
  },
  {
   "cell_type": "code",
   "execution_count": 449,
   "metadata": {
    "editable": true,
    "slideshow": {
     "slide_type": "fragment"
    },
    "tags": []
   },
   "outputs": [
    {
     "data": {
      "text/plain": [
       "Table('players', MetaData(), Column('id', Integer(), table=<players>, primary_key=True, nullable=False), Column('name', String(), table=<players>), Column('number', Integer(), table=<players>), Column('team_id', Integer(), ForeignKey('teams.id'), table=<players>), schema=None)"
      ]
     },
     "execution_count": 449,
     "metadata": {},
     "output_type": "execute_result"
    }
   ],
   "source": [
    "Player.__table__ "
   ]
  },
  {
   "cell_type": "code",
   "execution_count": 450,
   "metadata": {
    "editable": true,
    "slideshow": {
     "slide_type": "fragment"
    },
    "tags": []
   },
   "outputs": [
    {
     "data": {
      "text/plain": [
       "Table('teams', MetaData(), Column('id', Integer(), table=<teams>, primary_key=True, nullable=False), Column('name', String(), table=<teams>), schema=None)"
      ]
     },
     "execution_count": 450,
     "metadata": {},
     "output_type": "execute_result"
    }
   ],
   "source": [
    "Team.__table__"
   ]
  },
  {
   "cell_type": "markdown",
   "metadata": {
    "editable": true,
    "slideshow": {
     "slide_type": "subslide"
    },
    "tags": []
   },
   "source": [
    "#### 5. Create records for each table"
   ]
  },
  {
   "cell_type": "markdown",
   "metadata": {
    "editable": true,
    "slideshow": {
     "slide_type": "fragment"
    },
    "tags": []
   },
   "source": [
    "* Very similar syntax to what we've done before with creating class instances\n",
    "* Let's create one \"instance\" for each table"
   ]
  },
  {
   "cell_type": "code",
   "execution_count": 451,
   "metadata": {
    "editable": true,
    "slideshow": {
     "slide_type": ""
    },
    "tags": []
   },
   "outputs": [],
   "source": [
    "p1 = Player(name = \"Soyeon\", number = 17)"
   ]
  },
  {
   "cell_type": "code",
   "execution_count": 452,
   "metadata": {
    "editable": true,
    "slideshow": {
     "slide_type": ""
    },
    "tags": []
   },
   "outputs": [],
   "source": [
    "t1 = Team(name = \"WashU\")"
   ]
  },
  {
   "cell_type": "markdown",
   "metadata": {
    "editable": true,
    "slideshow": {
     "slide_type": "subslide"
    },
    "tags": []
   },
   "source": [
    "* **Note**: `p1` and `t1` are not yet connected "
   ]
  },
  {
   "cell_type": "code",
   "execution_count": 453,
   "metadata": {
    "editable": true,
    "slideshow": {
     "slide_type": "fragment"
    },
    "tags": []
   },
   "outputs": [
    {
     "data": {
      "text/plain": [
       "[]"
      ]
     },
     "execution_count": 453,
     "metadata": {},
     "output_type": "execute_result"
    }
   ],
   "source": [
    "t1.players"
   ]
  },
  {
   "cell_type": "markdown",
   "metadata": {
    "editable": true,
    "slideshow": {
     "slide_type": "fragment"
    },
    "tags": []
   },
   "source": [
    "* To fix this, add a `team` reference to `p1`  "
   ]
  },
  {
   "cell_type": "code",
   "execution_count": 454,
   "metadata": {
    "editable": true,
    "slideshow": {
     "slide_type": "fragment"
    },
    "tags": []
   },
   "outputs": [],
   "source": [
    "p1.team = t1"
   ]
  },
  {
   "cell_type": "markdown",
   "metadata": {
    "editable": true,
    "slideshow": {
     "slide_type": "fragment"
    },
    "tags": []
   },
   "source": [
    "* Now `p1` is part of team object `t1`"
   ]
  },
  {
   "cell_type": "code",
   "execution_count": 455,
   "metadata": {
    "editable": true,
    "slideshow": {
     "slide_type": "fragment"
    },
    "tags": []
   },
   "outputs": [
    {
     "data": {
      "text/plain": [
       "[<Player('Soyeon', '17')>]"
      ]
     },
     "execution_count": 455,
     "metadata": {},
     "output_type": "execute_result"
    }
   ],
   "source": [
    "t1.players"
   ]
  },
  {
   "cell_type": "code",
   "execution_count": 456,
   "metadata": {
    "editable": true,
    "slideshow": {
     "slide_type": "fragment"
    },
    "tags": []
   },
   "outputs": [
    {
     "data": {
      "text/plain": [
       "<team('WashU')>"
      ]
     },
     "execution_count": 456,
     "metadata": {},
     "output_type": "execute_result"
    }
   ],
   "source": [
    "p1.team"
   ]
  },
  {
   "cell_type": "markdown",
   "metadata": {
    "editable": true,
    "slideshow": {
     "slide_type": "subslide"
    },
    "tags": []
   },
   "source": [
    "##### Let's create another Player! "
   ]
  },
  {
   "cell_type": "code",
   "execution_count": 457,
   "metadata": {
    "editable": true,
    "slideshow": {
     "slide_type": "fragment"
    },
    "tags": []
   },
   "outputs": [],
   "source": [
    "p2 = Player(\"Leticia\", 18)"
   ]
  },
  {
   "cell_type": "markdown",
   "metadata": {
    "editable": true,
    "slideshow": {
     "slide_type": "fragment"
    },
    "tags": []
   },
   "source": [
    "* Let's print the ID"
   ]
  },
  {
   "cell_type": "code",
   "execution_count": 458,
   "metadata": {
    "editable": true,
    "slideshow": {
     "slide_type": "fragment"
    },
    "tags": []
   },
   "outputs": [
    {
     "name": "stdout",
     "output_type": "stream",
     "text": [
      "None\n"
     ]
    }
   ],
   "source": [
    "print(p2.id)"
   ]
  },
  {
   "cell_type": "markdown",
   "metadata": {
    "editable": true,
    "slideshow": {
     "slide_type": "fragment"
    },
    "tags": []
   },
   "source": [
    "##### Nothing..."
   ]
  },
  {
   "cell_type": "markdown",
   "metadata": {
    "editable": true,
    "slideshow": {
     "slide_type": "fragment"
    },
    "tags": []
   },
   "source": [
    "- Even though we didn’t specify it in the constructor, the `id` attribute still produces a value of `None` when we access it (as opposed to Python’s usual behavior of raising AttributeError for an undefined attribute).\n",
    "- When we actually write the `p2` object to the db a real ID will be assigned."
   ]
  },
  {
   "cell_type": "markdown",
   "metadata": {
    "editable": true,
    "slideshow": {
     "slide_type": "subslide"
    },
    "tags": []
   },
   "source": [
    "#### 6. Create a `Session` to actually store things into the database"
   ]
  },
  {
   "cell_type": "markdown",
   "metadata": {
    "editable": true,
    "slideshow": {
     "slide_type": "fragment"
    },
    "tags": []
   },
   "source": [
    "* A Session is a \"holding zone\" for all the objects and associations we have created. \n",
    "The Session will hold objects until we commit or close. "
   ]
  },
  {
   "cell_type": "code",
   "execution_count": 459,
   "metadata": {
    "editable": true,
    "slideshow": {
     "slide_type": "fragment"
    },
    "tags": []
   },
   "outputs": [],
   "source": [
    "from sqlalchemy.orm import sessionmaker\n",
    "\n",
    "# sessionmaker object\n",
    "Session = sessionmaker(engine) # workspace / staging area for all your database operations\n",
    "# Session object\n",
    "session = Session() "
   ]
  },
  {
   "cell_type": "markdown",
   "metadata": {
    "editable": true,
    "slideshow": {
     "slide_type": "subslide"
    },
    "tags": []
   },
   "source": [
    "* Add both players to the session"
   ]
  },
  {
   "cell_type": "code",
   "execution_count": 460,
   "metadata": {
    "editable": true,
    "slideshow": {
     "slide_type": "fragment"
    },
    "tags": []
   },
   "outputs": [],
   "source": [
    "session.add(p1)\n",
    "session.add(p2)"
   ]
  },
  {
   "cell_type": "markdown",
   "metadata": {
    "editable": true,
    "slideshow": {
     "slide_type": "fragment"
    },
    "tags": []
   },
   "source": [
    "##### Let's add multiple players"
   ]
  },
  {
   "cell_type": "code",
   "execution_count": 461,
   "metadata": {
    "editable": true,
    "slideshow": {
     "slide_type": "fragment"
    },
    "tags": []
   },
   "outputs": [],
   "source": [
    "session.add_all([Player(\"Zeynep\", 7),\n",
    "                 Player(\"Bort\", 9),\n",
    "                 Player(\"Sunkyung\", 21),\n",
    "                 Player(\"Taesung\", 33),\n",
    "                 Player(\"Jose\", 29),\n",
    "                 Player(\"Maryam\", 44)])"
   ]
  },
  {
   "cell_type": "markdown",
   "metadata": {
    "editable": true,
    "slideshow": {
     "slide_type": "fragment"
    },
    "tags": []
   },
   "source": [
    "* See what we've done this session"
   ]
  },
  {
   "cell_type": "code",
   "execution_count": 462,
   "metadata": {
    "editable": true,
    "slideshow": {
     "slide_type": "fragment"
    },
    "tags": []
   },
   "outputs": [
    {
     "data": {
      "text/plain": [
       "IdentitySet([<Player('Soyeon', '17')>, <team('WashU')>, <Player('Leticia', '18')>, <Player('Zeynep', '7')>, <Player('Bort', '9')>, <Player('Sunkyung', '21')>, <Player('Taesung', '33')>, <Player('Jose', '29')>, <Player('Maryam', '44')>])"
      ]
     },
     "execution_count": 462,
     "metadata": {},
     "output_type": "execute_result"
    }
   ],
   "source": [
    "session.new "
   ]
  },
  {
   "cell_type": "markdown",
   "metadata": {
    "editable": true,
    "slideshow": {
     "slide_type": "subslide"
    },
    "tags": []
   },
   "source": [
    "##### Before we commit, if we made a mistake, we can correct it using `session.rollback()` to roll back all changes"
   ]
  },
  {
   "cell_type": "markdown",
   "metadata": {
    "editable": true,
    "slideshow": {
     "slide_type": ""
    },
    "tags": []
   },
   "source": [
    "* Now, make changes to actual db"
   ]
  },
  {
   "cell_type": "code",
   "execution_count": 463,
   "metadata": {
    "editable": true,
    "slideshow": {
     "slide_type": "fragment"
    },
    "tags": []
   },
   "outputs": [],
   "source": [
    "session.commit()"
   ]
  },
  {
   "cell_type": "markdown",
   "metadata": {
    "editable": true,
    "slideshow": {
     "slide_type": "subslide"
    },
    "tags": []
   },
   "source": [
    "##### Now that we created the database, let's make some queries!"
   ]
  },
  {
   "cell_type": "markdown",
   "metadata": {
    "editable": true,
    "slideshow": {
     "slide_type": "fragment"
    },
    "tags": []
   },
   "source": [
    "* Let's look for ID again\n",
    "* ID count will preserve the order in which records entered the database"
   ]
  },
  {
   "cell_type": "code",
   "execution_count": 464,
   "metadata": {
    "editable": true,
    "slideshow": {
     "slide_type": "fragment"
    },
    "tags": []
   },
   "outputs": [
    {
     "name": "stdout",
     "output_type": "stream",
     "text": [
      "ID: 2\n",
      "ID: 1\n"
     ]
    }
   ],
   "source": [
    "print('ID: ' + str(p2.id))\n",
    "print('ID: ' + str(p1.id))"
   ]
  },
  {
   "cell_type": "markdown",
   "metadata": {
    "editable": true,
    "slideshow": {
     "slide_type": "subslide"
    },
    "tags": []
   },
   "source": [
    "* A sample query\n",
    "    * you can think of the syntax as...`session.query(TABLE).order_by(COLUMN)`"
   ]
  },
  {
   "cell_type": "code",
   "execution_count": 465,
   "metadata": {
    "editable": true,
    "slideshow": {
     "slide_type": "fragment"
    },
    "tags": []
   },
   "outputs": [
    {
     "name": "stdout",
     "output_type": "stream",
     "text": [
      "7 Zeynep 3\n",
      "9 Bort 4\n",
      "17 Soyeon 1\n",
      "18 Leticia 2\n",
      "21 Sunkyung 5\n",
      "29 Jose 7\n",
      "33 Taesung 6\n",
      "44 Maryam 8\n"
     ]
    }
   ],
   "source": [
    "for player in session.query(Player).order_by(Player.number): # .asc() .desc()\n",
    "  print(player.number, player.name, player.id)"
   ]
  },
  {
   "cell_type": "markdown",
   "metadata": {
    "editable": true,
    "slideshow": {
     "slide_type": "subslide"
    },
    "tags": []
   },
   "source": [
    "##### Using `.filter()`"
   ]
  },
  {
   "cell_type": "markdown",
   "metadata": {
    "editable": true,
    "slideshow": {
     "slide_type": "fragment"
    },
    "tags": []
   },
   "source": [
    "Source: https://docs.sqlalchemy.org/en/20/tutorial/index.html#unified-tutorial"
   ]
  },
  {
   "cell_type": "code",
   "execution_count": 466,
   "metadata": {
    "editable": true,
    "slideshow": {
     "slide_type": "fragment"
    },
    "tags": []
   },
   "outputs": [
    {
     "name": "stdout",
     "output_type": "stream",
     "text": [
      "17 Soyeon\n"
     ]
    }
   ],
   "source": [
    "for player in session.query(Player).filter(Player.name == \"Soyeon\").order_by(Player.number):\n",
    "  print(player.number, player.name)"
   ]
  },
  {
   "cell_type": "code",
   "execution_count": 467,
   "metadata": {
    "editable": true,
    "slideshow": {
     "slide_type": "fragment"
    },
    "tags": []
   },
   "outputs": [
    {
     "name": "stdout",
     "output_type": "stream",
     "text": [
      "7 Zeynep\n",
      "9 Bort\n",
      "18 Leticia\n",
      "21 Sunkyung\n",
      "29 Jose\n",
      "33 Taesung\n",
      "44 Maryam\n"
     ]
    }
   ],
   "source": [
    "for player in session.query(Player).filter(Player.name != \"Soyeon\").order_by(Player.number):\n",
    "  print(player.number, player.name)"
   ]
  },
  {
   "cell_type": "code",
   "execution_count": 468,
   "metadata": {
    "editable": true,
    "slideshow": {
     "slide_type": "subslide"
    },
    "tags": []
   },
   "outputs": [
    {
     "name": "stdout",
     "output_type": "stream",
     "text": [
      "17 Soyeon\n",
      "18 Leticia\n",
      "21 Sunkyung\n",
      "29 Jose\n",
      "33 Taesung\n",
      "44 Maryam\n"
     ]
    }
   ],
   "source": [
    "for player in session.query(Player).filter(Player.number > 10).order_by(Player.number):\n",
    "  print(player.number, player.name)"
   ]
  },
  {
   "cell_type": "markdown",
   "metadata": {
    "editable": true,
    "slideshow": {
     "slide_type": "fragment"
    },
    "tags": []
   },
   "source": [
    "##### Using `or_()`"
   ]
  },
  {
   "cell_type": "code",
   "execution_count": 469,
   "metadata": {
    "editable": true,
    "slideshow": {
     "slide_type": "fragment"
    },
    "tags": []
   },
   "outputs": [],
   "source": [
    "from sqlalchemy import or_"
   ]
  },
  {
   "cell_type": "code",
   "execution_count": 470,
   "metadata": {
    "editable": true,
    "slideshow": {
     "slide_type": "fragment"
    },
    "tags": []
   },
   "outputs": [
    {
     "name": "stdout",
     "output_type": "stream",
     "text": [
      "17 Soyeon\n",
      "18 Leticia\n"
     ]
    }
   ],
   "source": [
    "for player in session.query(Player).filter(or_(Player.name == \"Soyeon\", \n",
    "                                               Player.name == \"Leticia\")).order_by(Player.number):\n",
    "  print(player.number, player.name)"
   ]
  },
  {
   "cell_type": "markdown",
   "metadata": {
    "editable": true,
    "slideshow": {
     "slide_type": "subslide"
    },
    "tags": []
   },
   "source": [
    "##### Using `.like()`"
   ]
  },
  {
   "cell_type": "markdown",
   "metadata": {
    "editable": true,
    "slideshow": {
     "slide_type": "fragment"
    },
    "tags": []
   },
   "source": [
    "* Return all the records where the 'name' column contains a partial string"
   ]
  },
  {
   "cell_type": "code",
   "execution_count": 471,
   "metadata": {
    "editable": true,
    "slideshow": {
     "slide_type": "fragment"
    },
    "tags": []
   },
   "outputs": [
    {
     "name": "stdout",
     "output_type": "stream",
     "text": [
      "21 Sunkyung\n",
      "33 Taesung\n"
     ]
    }
   ],
   "source": [
    "for player in session.query(Player).filter(Player.name.like(\"%un%\")).order_by(Player.number):\n",
    "  print(player.number, player.name)\n",
    "\n",
    "# Find rows where the name contains the substring ri"
   ]
  },
  {
   "cell_type": "markdown",
   "metadata": {
    "editable": true,
    "slideshow": {
     "slide_type": "fragment"
    },
    "tags": []
   },
   "source": [
    "##### Using `.and()`"
   ]
  },
  {
   "cell_type": "code",
   "execution_count": 472,
   "metadata": {
    "editable": true,
    "slideshow": {
     "slide_type": "fragment"
    },
    "tags": []
   },
   "outputs": [
    {
     "name": "stdout",
     "output_type": "stream",
     "text": [
      "33 Taesung\n"
     ]
    }
   ],
   "source": [
    "from sqlalchemy import and_\n",
    "for player in session.query(Player).filter(and_(Player.name.like(\"%un%\"), Player.number > 21)).order_by(Player.number):\n",
    "  print(player.number, player.name)"
   ]
  },
  {
   "cell_type": "markdown",
   "metadata": {
    "editable": true,
    "slideshow": {
     "slide_type": "subslide"
    },
    "tags": []
   },
   "source": [
    "##### Functions"
   ]
  },
  {
   "cell_type": "markdown",
   "metadata": {
    "editable": true,
    "slideshow": {
     "slide_type": "fragment"
    },
    "tags": []
   },
   "source": [
    "* We can also apply functions using the `func` package"
   ]
  },
  {
   "cell_type": "code",
   "execution_count": 473,
   "metadata": {
    "editable": true,
    "slideshow": {
     "slide_type": "fragment"
    },
    "tags": []
   },
   "outputs": [],
   "source": [
    "from sqlalchemy import func"
   ]
  },
  {
   "cell_type": "markdown",
   "metadata": {
    "editable": true,
    "slideshow": {
     "slide_type": "fragment"
    },
    "tags": []
   },
   "source": [
    "* Note that you need to query the columns I want back"
   ]
  },
  {
   "cell_type": "code",
   "execution_count": 474,
   "metadata": {
    "editable": true,
    "slideshow": {
     "slide_type": "fragment"
    },
    "tags": []
   },
   "outputs": [
    {
     "name": "stdout",
     "output_type": "stream",
     "text": [
      "Maryam 44\n"
     ]
    }
   ],
   "source": [
    "for player in session.query(Player.name, Player.number, func.max(Player.number)):\n",
    "  print(player.name, player.number)"
   ]
  },
  {
   "cell_type": "markdown",
   "metadata": {
    "editable": true,
    "slideshow": {
     "slide_type": "subslide"
    },
    "tags": []
   },
   "source": [
    "##### Results can be indexed as lists"
   ]
  },
  {
   "cell_type": "code",
   "execution_count": 475,
   "metadata": {
    "editable": true,
    "slideshow": {
     "slide_type": "fragment"
    },
    "tags": []
   },
   "outputs": [],
   "source": [
    "results = session.query(Player).filter(and_(Player.name.like(\"%un%\"), \n",
    "                                            Player.number > 10)).order_by(Player.number)"
   ]
  },
  {
   "cell_type": "code",
   "execution_count": 476,
   "metadata": {
    "editable": true,
    "slideshow": {
     "slide_type": "fragment"
    },
    "tags": []
   },
   "outputs": [
    {
     "data": {
      "text/plain": [
       "<Player('Sunkyung', '21')>"
      ]
     },
     "execution_count": 476,
     "metadata": {},
     "output_type": "execute_result"
    }
   ],
   "source": [
    "results.first()"
   ]
  },
  {
   "cell_type": "markdown",
   "metadata": {
    "editable": true,
    "slideshow": {
     "slide_type": "fragment"
    },
    "tags": []
   },
   "source": [
    "* Check the number of elements in results"
   ]
  },
  {
   "cell_type": "code",
   "execution_count": 477,
   "metadata": {
    "editable": true,
    "slideshow": {
     "slide_type": "fragment"
    },
    "tags": []
   },
   "outputs": [
    {
     "data": {
      "text/plain": [
       "2"
      ]
     },
     "execution_count": 477,
     "metadata": {},
     "output_type": "execute_result"
    }
   ],
   "source": [
    "# len(results)\n",
    "results.count()"
   ]
  },
  {
   "cell_type": "code",
   "execution_count": 478,
   "metadata": {
    "editable": true,
    "slideshow": {
     "slide_type": "fragment"
    },
    "tags": []
   },
   "outputs": [
    {
     "data": {
      "text/plain": [
       "<Player('Taesung', '33')>"
      ]
     },
     "execution_count": 478,
     "metadata": {},
     "output_type": "execute_result"
    }
   ],
   "source": [
    "results[1]"
   ]
  },
  {
   "cell_type": "markdown",
   "metadata": {
    "editable": true,
    "slideshow": {
     "slide_type": "subslide"
    },
    "tags": []
   },
   "source": [
    "Let's create a new team, and assign some players to that team!"
   ]
  },
  {
   "cell_type": "code",
   "execution_count": 479,
   "metadata": {
    "editable": true,
    "slideshow": {
     "slide_type": "fragment"
    },
    "tags": []
   },
   "outputs": [],
   "source": [
    "duke = Team('Duke')"
   ]
  },
  {
   "cell_type": "markdown",
   "metadata": {
    "editable": true,
    "slideshow": {
     "slide_type": "fragment"
    },
    "tags": []
   },
   "source": [
    "* Query all players"
   ]
  },
  {
   "cell_type": "code",
   "execution_count": 480,
   "metadata": {
    "editable": true,
    "slideshow": {
     "slide_type": "fragment"
    },
    "tags": []
   },
   "outputs": [
    {
     "data": {
      "text/plain": [
       "[<Player('Soyeon', '17')>,\n",
       " <Player('Leticia', '18')>,\n",
       " <Player('Zeynep', '7')>,\n",
       " <Player('Bort', '9')>,\n",
       " <Player('Sunkyung', '21')>,\n",
       " <Player('Taesung', '33')>,\n",
       " <Player('Jose', '29')>,\n",
       " <Player('Maryam', '44')>]"
      ]
     },
     "execution_count": 480,
     "metadata": {},
     "output_type": "execute_result"
    }
   ],
   "source": [
    "players = session.query(Player).all()\n",
    "players"
   ]
  },
  {
   "cell_type": "markdown",
   "metadata": {
    "editable": true,
    "slideshow": {
     "slide_type": "subslide"
    },
    "tags": []
   },
   "source": [
    "* Assign someone to Duke"
   ]
  },
  {
   "cell_type": "code",
   "execution_count": 481,
   "metadata": {
    "editable": true,
    "slideshow": {
     "slide_type": "fragment"
    },
    "tags": []
   },
   "outputs": [],
   "source": [
    "p2.team = duke"
   ]
  },
  {
   "cell_type": "markdown",
   "metadata": {
    "editable": true,
    "slideshow": {
     "slide_type": "fragment"
    },
    "tags": []
   },
   "source": [
    "* Assign someone else"
   ]
  },
  {
   "cell_type": "code",
   "execution_count": 482,
   "metadata": {
    "editable": true,
    "slideshow": {
     "slide_type": "fragment"
    },
    "tags": []
   },
   "outputs": [
    {
     "name": "stdout",
     "output_type": "stream",
     "text": [
      "<Player('Zeynep', '7')>\n"
     ]
    },
    {
     "data": {
      "text/plain": [
       "<team('Duke')>"
      ]
     },
     "execution_count": 482,
     "metadata": {},
     "output_type": "execute_result"
    }
   ],
   "source": [
    "print(players[2])\n",
    "\n",
    "players[2].team = duke\n",
    "players[2].team"
   ]
  },
  {
   "cell_type": "code",
   "execution_count": 483,
   "metadata": {
    "editable": true,
    "slideshow": {
     "slide_type": "fragment"
    },
    "tags": []
   },
   "outputs": [],
   "source": [
    "players[3].team = t1\n",
    "players[4].team = duke\n",
    "players[5].team = duke\n",
    "players[6].team = t1\n",
    "players[7].team = duke"
   ]
  },
  {
   "cell_type": "markdown",
   "metadata": {
    "editable": true,
    "slideshow": {
     "slide_type": "subslide"
    },
    "tags": []
   },
   "source": [
    "* Check Duke's players"
   ]
  },
  {
   "cell_type": "code",
   "execution_count": 484,
   "metadata": {
    "editable": true,
    "slideshow": {
     "slide_type": "fragment"
    },
    "tags": []
   },
   "outputs": [
    {
     "data": {
      "text/plain": [
       "[<Player('Leticia', '18')>,\n",
       " <Player('Zeynep', '7')>,\n",
       " <Player('Sunkyung', '21')>,\n",
       " <Player('Taesung', '33')>,\n",
       " <Player('Maryam', '44')>]"
      ]
     },
     "execution_count": 484,
     "metadata": {},
     "output_type": "execute_result"
    }
   ],
   "source": [
    "duke.players"
   ]
  },
  {
   "cell_type": "code",
   "execution_count": 485,
   "metadata": {
    "editable": true,
    "slideshow": {
     "slide_type": "fragment"
    },
    "tags": []
   },
   "outputs": [
    {
     "data": {
      "text/plain": [
       "[<Player('Soyeon', '17')>, <Player('Bort', '9')>, <Player('Jose', '29')>]"
      ]
     },
     "execution_count": 485,
     "metadata": {},
     "output_type": "execute_result"
    }
   ],
   "source": [
    "t1.players"
   ]
  },
  {
   "cell_type": "markdown",
   "metadata": {
    "editable": true,
    "slideshow": {
     "slide_type": "fragment"
    },
    "tags": []
   },
   "source": [
    "##### Let's check the players' teams"
   ]
  },
  {
   "cell_type": "code",
   "execution_count": 486,
   "metadata": {
    "editable": true,
    "slideshow": {
     "slide_type": "fragment"
    },
    "tags": []
   },
   "outputs": [
    {
     "data": {
      "text/plain": [
       "<team('Duke')>"
      ]
     },
     "execution_count": 486,
     "metadata": {},
     "output_type": "execute_result"
    }
   ],
   "source": [
    "players[5].team"
   ]
  },
  {
   "cell_type": "markdown",
   "metadata": {
    "editable": true,
    "slideshow": {
     "slide_type": "subslide"
    },
    "tags": []
   },
   "source": [
    "* We can get the roster from one of the player's team's (other) players"
   ]
  },
  {
   "cell_type": "code",
   "execution_count": 487,
   "metadata": {
    "editable": true,
    "slideshow": {
     "slide_type": "fragment"
    },
    "tags": []
   },
   "outputs": [
    {
     "data": {
      "text/plain": [
       "[<Player('Leticia', '18')>,\n",
       " <Player('Zeynep', '7')>,\n",
       " <Player('Sunkyung', '21')>,\n",
       " <Player('Taesung', '33')>,\n",
       " <Player('Maryam', '44')>]"
      ]
     },
     "execution_count": 487,
     "metadata": {},
     "output_type": "execute_result"
    }
   ],
   "source": [
    "players[5].team.players"
   ]
  },
  {
   "cell_type": "markdown",
   "metadata": {
    "editable": true,
    "slideshow": {
     "slide_type": "fragment"
    },
    "tags": []
   },
   "source": [
    "* Now note the id"
   ]
  },
  {
   "cell_type": "code",
   "execution_count": 488,
   "metadata": {
    "editable": true,
    "slideshow": {
     "slide_type": "fragment"
    },
    "tags": []
   },
   "outputs": [
    {
     "data": {
      "text/plain": [
       "2"
      ]
     },
     "execution_count": 488,
     "metadata": {},
     "output_type": "execute_result"
    }
   ],
   "source": [
    "players[5].team_id"
   ]
  },
  {
   "cell_type": "code",
   "execution_count": 489,
   "metadata": {
    "editable": true,
    "slideshow": {
     "slide_type": "fragment"
    },
    "tags": []
   },
   "outputs": [
    {
     "data": {
      "text/plain": [
       "1"
      ]
     },
     "execution_count": 489,
     "metadata": {},
     "output_type": "execute_result"
    }
   ],
   "source": [
    "p1.team_id"
   ]
  },
  {
   "cell_type": "markdown",
   "metadata": {
    "editable": true,
    "slideshow": {
     "slide_type": "subslide"
    },
    "tags": []
   },
   "source": [
    "* Let's commit the changes! "
   ]
  },
  {
   "cell_type": "code",
   "execution_count": 490,
   "metadata": {
    "editable": true,
    "slideshow": {
     "slide_type": "fragment"
    },
    "tags": []
   },
   "outputs": [],
   "source": [
    "session.commit()"
   ]
  },
  {
   "cell_type": "markdown",
   "metadata": {
    "editable": true,
    "slideshow": {
     "slide_type": "fragment"
    },
    "tags": []
   },
   "source": [
    "Load the two tables together using: \n",
    "\n",
    "`query(Table1).join(Table2)`"
   ]
  },
  {
   "cell_type": "code",
   "execution_count": 491,
   "metadata": {
    "editable": true,
    "slideshow": {
     "slide_type": "fragment"
    },
    "tags": []
   },
   "outputs": [
    {
     "name": "stdout",
     "output_type": "stream",
     "text": [
      "17 Soyeon WashU\n"
     ]
    }
   ],
   "source": [
    "for i in session.query(Player).join(Team).filter(Player.name == \"Soyeon\").filter(Team.name == \"WashU\").order_by(Player.number):\n",
    "  print(i.number, i.name, i.team.name)"
   ]
  },
  {
   "cell_type": "markdown",
   "metadata": {
    "editable": true,
    "slideshow": {
     "slide_type": "fragment"
    },
    "tags": []
   },
   "source": [
    "* Equivalently, using `and_()`"
   ]
  },
  {
   "cell_type": "code",
   "execution_count": 492,
   "metadata": {
    "editable": true,
    "slideshow": {
     "slide_type": "fragment"
    },
    "tags": []
   },
   "outputs": [
    {
     "name": "stdout",
     "output_type": "stream",
     "text": [
      "17 Soyeon WashU\n"
     ]
    }
   ],
   "source": [
    "for i in session.query(Player).join(Team).filter(and_(Player.name==\"Soyeon\", Team.name==\"WashU\")).order_by(Player.number):\n",
    "  print(i.number, i.name, i.team.name)"
   ]
  },
  {
   "cell_type": "markdown",
   "metadata": {
    "editable": true,
    "slideshow": {
     "slide_type": "subslide"
    },
    "tags": []
   },
   "source": [
    "##### Deletion"
   ]
  },
  {
   "cell_type": "code",
   "execution_count": 493,
   "metadata": {
    "editable": true,
    "slideshow": {
     "slide_type": "fragment"
    },
    "tags": []
   },
   "outputs": [
    {
     "data": {
      "text/plain": [
       "[<Player('Soyeon', '17')>,\n",
       " <Player('Leticia', '18')>,\n",
       " <Player('Zeynep', '7')>,\n",
       " <Player('Bort', '9')>,\n",
       " <Player('Sunkyung', '21')>,\n",
       " <Player('Taesung', '33')>,\n",
       " <Player('Jose', '29')>,\n",
       " <Player('Maryam', '44')>]"
      ]
     },
     "execution_count": 493,
     "metadata": {},
     "output_type": "execute_result"
    }
   ],
   "source": [
    "# list we queried above\n",
    "players"
   ]
  },
  {
   "cell_type": "code",
   "execution_count": 494,
   "metadata": {
    "editable": true,
    "slideshow": {
     "slide_type": ""
    },
    "tags": []
   },
   "outputs": [
    {
     "data": {
      "text/plain": [
       "1"
      ]
     },
     "execution_count": 494,
     "metadata": {},
     "output_type": "execute_result"
    }
   ],
   "source": [
    "session.query(Player).filter(Player.number == 17).count()"
   ]
  },
  {
   "cell_type": "code",
   "execution_count": 495,
   "metadata": {
    "editable": true,
    "slideshow": {
     "slide_type": "fragment"
    },
    "tags": []
   },
   "outputs": [],
   "source": [
    "soyeon = session.query(Player).filter(Player.number == 17).first()"
   ]
  },
  {
   "cell_type": "code",
   "execution_count": 496,
   "metadata": {
    "editable": true,
    "slideshow": {
     "slide_type": "subslide"
    },
    "tags": []
   },
   "outputs": [],
   "source": [
    "# now we can delete alma\n",
    "session.delete(soyeon)"
   ]
  },
  {
   "cell_type": "code",
   "execution_count": 497,
   "metadata": {
    "editable": true,
    "slideshow": {
     "slide_type": "fragment"
    },
    "tags": []
   },
   "outputs": [
    {
     "data": {
      "text/plain": [
       "0"
      ]
     },
     "execution_count": 497,
     "metadata": {},
     "output_type": "execute_result"
    }
   ],
   "source": [
    "# it's gone!\n",
    "session.query(Player).filter(Player.number == 17).count()"
   ]
  },
  {
   "cell_type": "markdown",
   "metadata": {
    "editable": true,
    "slideshow": {
     "slide_type": "subslide"
    },
    "tags": []
   },
   "source": [
    "* But it's  still in our object `players`"
   ]
  },
  {
   "cell_type": "code",
   "execution_count": 498,
   "metadata": {
    "editable": true,
    "slideshow": {
     "slide_type": "fragment"
    },
    "tags": []
   },
   "outputs": [
    {
     "data": {
      "text/plain": [
       "[<Player('Soyeon', '17')>,\n",
       " <Player('Leticia', '18')>,\n",
       " <Player('Zeynep', '7')>,\n",
       " <Player('Bort', '9')>,\n",
       " <Player('Sunkyung', '21')>,\n",
       " <Player('Taesung', '33')>,\n",
       " <Player('Jose', '29')>,\n",
       " <Player('Maryam', '44')>]"
      ]
     },
     "execution_count": 498,
     "metadata": {},
     "output_type": "execute_result"
    }
   ],
   "source": [
    "players"
   ]
  },
  {
   "cell_type": "markdown",
   "metadata": {
    "editable": true,
    "slideshow": {
     "slide_type": "subslide"
    },
    "tags": []
   },
   "source": [
    "* Let's update our players variable"
   ]
  },
  {
   "cell_type": "code",
   "execution_count": 499,
   "metadata": {
    "editable": true,
    "slideshow": {
     "slide_type": "fragment"
    },
    "tags": []
   },
   "outputs": [],
   "source": [
    "players = session.query(Player).all()"
   ]
  },
  {
   "cell_type": "code",
   "execution_count": 500,
   "metadata": {
    "editable": true,
    "slideshow": {
     "slide_type": ""
    },
    "tags": []
   },
   "outputs": [
    {
     "data": {
      "text/plain": [
       "[<Player('Leticia', '18')>,\n",
       " <Player('Zeynep', '7')>,\n",
       " <Player('Bort', '9')>,\n",
       " <Player('Sunkyung', '21')>,\n",
       " <Player('Taesung', '33')>,\n",
       " <Player('Jose', '29')>,\n",
       " <Player('Maryam', '44')>]"
      ]
     },
     "execution_count": 500,
     "metadata": {},
     "output_type": "execute_result"
    }
   ],
   "source": [
    "players"
   ]
  },
  {
   "cell_type": "code",
   "execution_count": 501,
   "metadata": {
    "editable": true,
    "slideshow": {
     "slide_type": "fragment"
    },
    "tags": []
   },
   "outputs": [],
   "source": [
    "# commit our changes\n",
    "session.commit()"
   ]
  },
  {
   "cell_type": "code",
   "execution_count": 502,
   "metadata": {
    "editable": true,
    "slideshow": {
     "slide_type": "fragment"
    },
    "tags": []
   },
   "outputs": [
    {
     "data": {
      "text/plain": [
       "[2, 3, 4, 5, 6, 7, 8]"
      ]
     },
     "execution_count": 502,
     "metadata": {},
     "output_type": "execute_result"
    }
   ],
   "source": [
    "# print IDs \n",
    "[p.id for p in players]"
   ]
  },
  {
   "cell_type": "markdown",
   "metadata": {
    "editable": true,
    "slideshow": {
     "slide_type": "subslide"
    },
    "tags": []
   },
   "source": [
    "* Add Alma again"
   ]
  },
  {
   "cell_type": "code",
   "execution_count": 503,
   "metadata": {
    "editable": true,
    "slideshow": {
     "slide_type": "fragment"
    },
    "tags": []
   },
   "outputs": [],
   "source": [
    "alma = Player(name = \"Soyeon\", number = 9)\n",
    "session.add(alma)"
   ]
  },
  {
   "cell_type": "code",
   "execution_count": 504,
   "metadata": {
    "editable": true,
    "slideshow": {
     "slide_type": "fragment"
    },
    "tags": []
   },
   "outputs": [],
   "source": [
    "session.commit()"
   ]
  },
  {
   "cell_type": "code",
   "execution_count": 505,
   "metadata": {
    "editable": true,
    "slideshow": {
     "slide_type": "fragment"
    },
    "tags": []
   },
   "outputs": [],
   "source": [
    "players = session.query(Player).all()"
   ]
  },
  {
   "cell_type": "code",
   "execution_count": 506,
   "metadata": {
    "editable": true,
    "slideshow": {
     "slide_type": "fragment"
    },
    "tags": []
   },
   "outputs": [
    {
     "data": {
      "text/plain": [
       "[<Player('Leticia', '18')>,\n",
       " <Player('Zeynep', '7')>,\n",
       " <Player('Bort', '9')>,\n",
       " <Player('Sunkyung', '21')>,\n",
       " <Player('Taesung', '33')>,\n",
       " <Player('Jose', '29')>,\n",
       " <Player('Maryam', '44')>,\n",
       " <Player('Soyeon', '9')>]"
      ]
     },
     "execution_count": 506,
     "metadata": {},
     "output_type": "execute_result"
    }
   ],
   "source": [
    "players"
   ]
  },
  {
   "cell_type": "markdown",
   "metadata": {
    "editable": true,
    "slideshow": {
     "slide_type": "subslide"
    },
    "tags": []
   },
   "source": [
    "* How to convert data to csv"
   ]
  },
  {
   "cell_type": "code",
   "execution_count": 507,
   "metadata": {
    "editable": true,
    "slideshow": {
     "slide_type": "fragment"
    },
    "tags": []
   },
   "outputs": [
    {
     "name": "stdout",
     "output_type": "stream",
     "text": [
      "Leticia 18 <team('Duke')> 2\n",
      "Zeynep 7 <team('Duke')> 3\n",
      "Bort 9 <team('WashU')> 4\n",
      "Sunkyung 21 <team('Duke')> 5\n",
      "Taesung 33 <team('Duke')> 6\n",
      "Jose 29 <team('WashU')> 7\n",
      "Maryam 44 <team('Duke')> 8\n",
      "Soyeon 9 None 9\n"
     ]
    }
   ],
   "source": [
    "for player in players:\n",
    "  ## apply skills we've learned already\n",
    "  print(player.name, player.number, player.team, player.id)"
   ]
  },
  {
   "cell_type": "markdown",
   "metadata": {
    "editable": true,
    "slideshow": {
     "slide_type": "subslide"
    },
    "tags": []
   },
   "source": [
    " * A more complete example"
   ]
  },
  {
   "cell_type": "code",
   "execution_count": 508,
   "metadata": {
    "editable": true,
    "slideshow": {
     "slide_type": "fragment"
    },
    "tags": []
   },
   "outputs": [],
   "source": [
    "import csv\n",
    "with open(\"players.csv\", 'w') as f:\n",
    "    my_writer = csv.DictWriter(f, fieldnames = (\"name\", \"number\", \"team\"))\n",
    "    my_writer.writeheader()\n",
    "    for player in players:\n",
    "        try:\n",
    "            my_writer.writerow({\"name\":player.name, \"number\":player.number, \"team\":player.team.name})\n",
    "        except AttributeError:\n",
    "            my_writer.writerow({\"name\":player.name, \"number\":player.number, \"team\":\"\"})"
   ]
  },
  {
   "cell_type": "markdown",
   "metadata": {
    "editable": true,
    "slideshow": {
     "slide_type": "subslide"
    },
    "tags": []
   },
   "source": [
    "##### Using pandas"
   ]
  },
  {
   "cell_type": "code",
   "execution_count": 509,
   "metadata": {
    "editable": true,
    "slideshow": {
     "slide_type": "fragment"
    },
    "tags": []
   },
   "outputs": [],
   "source": [
    "import pandas as pd"
   ]
  },
  {
   "cell_type": "code",
   "execution_count": 510,
   "metadata": {
    "editable": true,
    "slideshow": {
     "slide_type": "fragment"
    },
    "tags": []
   },
   "outputs": [],
   "source": [
    "player_dict = {'name': [],\n",
    "              'number': [],\n",
    "              'team': []}"
   ]
  },
  {
   "cell_type": "code",
   "execution_count": 511,
   "metadata": {
    "editable": true,
    "slideshow": {
     "slide_type": "fragment"
    },
    "tags": []
   },
   "outputs": [],
   "source": [
    "for player in players:\n",
    "    player_dict['name'].append(player.name)\n",
    "    player_dict['number'].append(player.number)\n",
    "    try:\n",
    "        player_dict['team'].append(player.team.name)\n",
    "    except AttributeError:\n",
    "        player_dict['team'].append(\"None\")"
   ]
  },
  {
   "cell_type": "code",
   "execution_count": 512,
   "metadata": {
    "editable": true,
    "slideshow": {
     "slide_type": "subslide"
    },
    "tags": []
   },
   "outputs": [],
   "source": [
    "player_df = pd.DataFrame(player_dict)"
   ]
  },
  {
   "cell_type": "code",
   "execution_count": 513,
   "metadata": {
    "editable": true,
    "slideshow": {
     "slide_type": "fragment"
    },
    "tags": []
   },
   "outputs": [
    {
     "data": {
      "text/html": [
       "<div>\n",
       "<style scoped>\n",
       "    .dataframe tbody tr th:only-of-type {\n",
       "        vertical-align: middle;\n",
       "    }\n",
       "\n",
       "    .dataframe tbody tr th {\n",
       "        vertical-align: top;\n",
       "    }\n",
       "\n",
       "    .dataframe thead th {\n",
       "        text-align: right;\n",
       "    }\n",
       "</style>\n",
       "<table border=\"1\" class=\"dataframe\">\n",
       "  <thead>\n",
       "    <tr style=\"text-align: right;\">\n",
       "      <th></th>\n",
       "      <th>name</th>\n",
       "      <th>number</th>\n",
       "      <th>team</th>\n",
       "    </tr>\n",
       "  </thead>\n",
       "  <tbody>\n",
       "    <tr>\n",
       "      <th>0</th>\n",
       "      <td>Leticia</td>\n",
       "      <td>18</td>\n",
       "      <td>Duke</td>\n",
       "    </tr>\n",
       "    <tr>\n",
       "      <th>1</th>\n",
       "      <td>Zeynep</td>\n",
       "      <td>7</td>\n",
       "      <td>Duke</td>\n",
       "    </tr>\n",
       "    <tr>\n",
       "      <th>2</th>\n",
       "      <td>Bort</td>\n",
       "      <td>9</td>\n",
       "      <td>WashU</td>\n",
       "    </tr>\n",
       "    <tr>\n",
       "      <th>3</th>\n",
       "      <td>Sunkyung</td>\n",
       "      <td>21</td>\n",
       "      <td>Duke</td>\n",
       "    </tr>\n",
       "    <tr>\n",
       "      <th>4</th>\n",
       "      <td>Taesung</td>\n",
       "      <td>33</td>\n",
       "      <td>Duke</td>\n",
       "    </tr>\n",
       "  </tbody>\n",
       "</table>\n",
       "</div>"
      ],
      "text/plain": [
       "       name  number   team\n",
       "0   Leticia      18   Duke\n",
       "1    Zeynep       7   Duke\n",
       "2      Bort       9  WashU\n",
       "3  Sunkyung      21   Duke\n",
       "4   Taesung      33   Duke"
      ]
     },
     "execution_count": 513,
     "metadata": {},
     "output_type": "execute_result"
    }
   ],
   "source": [
    "player_df.head()"
   ]
  },
  {
   "cell_type": "code",
   "execution_count": 514,
   "metadata": {
    "editable": true,
    "slideshow": {
     "slide_type": "fragment"
    },
    "tags": []
   },
   "outputs": [],
   "source": [
    "player_df.to_csv('players2.csv', index=False)"
   ]
  },
  {
   "cell_type": "code",
   "execution_count": 515,
   "metadata": {
    "editable": true,
    "slideshow": {
     "slide_type": "skip"
    },
    "tags": []
   },
   "outputs": [],
   "source": [
    "# Copyright of the original version:\n",
    "\n",
    "# Copyright (c) 2014 Matt Dickenson\n",
    "# \n",
    "# Permission is hereby granted, free of charge, to any person obtaining a copy\n",
    "# of this software and associated documentation files (the \"Software\"), to deal\n",
    "# in the Software without restriction, including without limitation the rights\n",
    "# to use, copy, modify, merge, publish, distribute, sublicense, and/or sell\n",
    "# copies of the Software, and to permit persons to whom the Software is\n",
    "# furnished to do so, subject to the following conditions:\n",
    "# \n",
    "# The above copyright notice and this permission notice shall be included in all\n",
    "# copies or substantial portions of the Software.\n",
    "# \n",
    "# THE SOFTWARE IS PROVIDED \"AS IS\", WITHOUT WARRANTY OF ANY KIND, EXPRESS OR\n",
    "# IMPLIED, INCLUDING BUT NOT LIMITED TO THE WARRANTIES OF MERCHANTABILITY,\n",
    "# FITNESS FOR A PARTICULAR PURPOSE AND NONINFRINGEMENT. IN NO EVENT SHALL THE\n",
    "# AUTHORS OR COPYRIGHT HOLDERS BE LIABLE FOR ANY CLAIM, DAMAGES OR OTHER\n",
    "# LIABILITY, WHETHER IN AN ACTION OF CONTRACT, TORT OR OTHERWISE, ARISING FROM,\n",
    "# OUT OF OR IN CONNECTION WITH THE SOFTWARE OR THE USE OR OTHER DEALINGS IN THE\n",
    "# SOFTWARE."
   ]
  }
 ],
 "metadata": {
  "kernelspec": {
   "display_name": "Python 3",
   "language": "python",
   "name": "python3"
  },
  "language_info": {
   "codemirror_mode": {
    "name": "ipython",
    "version": 3
   },
   "file_extension": ".py",
   "mimetype": "text/x-python",
   "name": "python",
   "nbconvert_exporter": "python",
   "pygments_lexer": "ipython3",
   "version": "3.13.6"
  }
 },
 "nbformat": 4,
 "nbformat_minor": 4
}
