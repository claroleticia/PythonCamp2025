{
 "cells": [
  {
   "cell_type": "markdown",
   "metadata": {
    "editable": true,
    "slideshow": {
     "slide_type": "slide"
    },
    "tags": []
   },
   "source": [
    "# Web Scraping + File I/O"
   ]
  },
  {
   "cell_type": "markdown",
   "metadata": {
    "editable": true,
    "slideshow": {
     "slide_type": "slide"
    },
    "tags": []
   },
   "source": [
    "##### Today's Topics:\n",
    "1. Urllib and Beautiful Soup\n",
    "2. Selenium\n",
    "3. File Input/Output"
   ]
  },
  {
   "cell_type": "markdown",
   "metadata": {
    "editable": true,
    "slideshow": {
     "slide_type": "fragment"
    },
    "tags": []
   },
   "source": [
    "* This is likely the most important day in the course (along with day05 on APIs).  \n",
    "* You will use all the modules here if you want to scrape the internet.\n",
    "\n",
    "***"
   ]
  },
  {
   "cell_type": "markdown",
   "metadata": {
    "editable": true,
    "slideshow": {
     "slide_type": "slide"
    },
    "tags": []
   },
   "source": [
    "### 1. Web Scraping (without APIs)"
   ]
  },
  {
   "cell_type": "markdown",
   "metadata": {
    "editable": true,
    "slideshow": {
     "slide_type": "fragment"
    },
    "tags": []
   },
   "source": [
    "* Web scraping is the art of extracting data from websites and delivering it in formats like JSON, CSV, HTML, PDF, etc.\n",
    "* Web scraping can be done either by using coding languages like Python, or by using data extraction APIs (Day 5)."
   ]
  },
  {
   "cell_type": "markdown",
   "metadata": {
    "editable": true,
    "slideshow": {
     "slide_type": "subslide"
    },
    "tags": []
   },
   "source": [
    "##### Benefits \n",
    "\n",
    "1. Time-saving\n",
    "2. Data accuracy\n",
    "3. Cost-effective "
   ]
  },
  {
   "cell_type": "markdown",
   "metadata": {
    "editable": true,
    "slideshow": {
     "slide_type": ""
    },
    "tags": []
   },
   "source": [
    "##### Ethics \n",
    "\n",
    "- Use a Public API when available and avoid scraping all together if the data you are looking if available through the API\n",
    "- Only scrape when it is legal! \n",
    "    - NOT all sites can be legally scraped. Please don't get sued. \n",
    "    - Always check terms of service.\n",
    "    - When in doubt, ask or don't do it. \n",
    "- Be polite and don't break websites\n",
    "    - Scrape your data at a reasonable rate and control the number of requests per second. \n",
    "    - You don't want the website owner to think it as a DDoS attack. "
   ]
  },
  {
   "cell_type": "markdown",
   "metadata": {
    "editable": true,
    "slideshow": {
     "slide_type": "subslide"
    },
    "tags": []
   },
   "source": [
    "##### Overview of Web Scraping (without APIs)"
   ]
  },
  {
   "cell_type": "markdown",
   "metadata": {
    "editable": true,
    "slideshow": {
     "slide_type": "fragment"
    },
    "tags": []
   },
   "source": [
    "1. Call the website and open it\n",
    "2. Extract or load all the html code (you can store it locally for later use)\n",
    "3. Retrieve information using the names of the tags, ids, etc. \n",
    "4. Store the data in to files (like csv)"
   ]
  },
  {
   "cell_type": "markdown",
   "metadata": {
    "editable": true,
    "slideshow": {
     "slide_type": "slide"
    },
    "tags": []
   },
   "source": [
    "#### 1.1 The Skeleton HTML Layout"
   ]
  },
  {
   "cell_type": "code",
   "execution_count": 244,
   "metadata": {
    "editable": true,
    "slideshow": {
     "slide_type": "fragment"
    },
    "tags": []
   },
   "outputs": [],
   "source": [
    "# <!DOCTYPE html> <html>\n",
    "# <head>\n",
    "# <title> Page Title </title>\n",
    "# </head>\n",
    "# <body>\n",
    "\n",
    "# <h1>My first heading </h1>\n",
    "# <p>My first paragraph. </p>\n",
    "\n",
    "# </body> \n",
    "# </html>"
   ]
  },
  {
   "cell_type": "markdown",
   "metadata": {
    "editable": true,
    "slideshow": {
     "slide_type": "fragment"
    },
    "tags": []
   },
   "source": [
    "_See https://www.w3schools.com/tags/default.asp for a list of HTML tags_"
   ]
  },
  {
   "cell_type": "markdown",
   "metadata": {
    "editable": true,
    "slideshow": {
     "slide_type": "subslide"
    },
    "tags": []
   },
   "source": [
    "##### Let's look at some source code!"
   ]
  },
  {
   "cell_type": "markdown",
   "metadata": {
    "editable": true,
    "slideshow": {
     "slide_type": "fragment"
    },
    "tags": []
   },
   "source": [
    "* Now go to https://polisci.wustl.edu/people/88/ \n",
    "* Click right, then View Page Source or (more likely) Inspect"
   ]
  },
  {
   "cell_type": "markdown",
   "metadata": {
    "editable": true,
    "slideshow": {
     "slide_type": ""
    },
    "tags": []
   },
   "source": [
    "##### "
   ]
  },
  {
   "cell_type": "markdown",
   "metadata": {
    "editable": true,
    "slideshow": {
     "slide_type": "slide"
    },
    "tags": []
   },
   "source": [
    "#### 1.2 Web Crawlers"
   ]
  },
  {
   "cell_type": "markdown",
   "metadata": {
    "editable": true,
    "slideshow": {
     "slide_type": "fragment"
    },
    "tags": []
   },
   "source": [
    "##### We mainly use two libraries: `urllib` and `BeautifulSoup`\n",
    "\n",
    "1. `urllib`:\n",
    "    - web crawler \n",
    "    - navigates to a url\n",
    "2. `BeautifulSoup`\n",
    "    - parses a downloaded HTML\n"
   ]
  },
  {
   "cell_type": "markdown",
   "metadata": {
    "editable": true,
    "slideshow": {
     "slide_type": "fragment"
    },
    "tags": []
   },
   "source": [
    "Useful when:\n",
    "- Info is contained in HTML (not served by JavaScript)\n",
    "- Encoded HTML follows predictable pattern\n",
    "- Example: https://www.presidency.ucsb.edu/documents/app-categories/presidential"
   ]
  },
  {
   "cell_type": "markdown",
   "metadata": {
    "editable": true,
    "slideshow": {
     "slide_type": "subslide"
    },
    "tags": []
   },
   "source": [
    "Beautiful Soup documentation: \n",
    "http://www.crummy.com/software/BeautifulSoup/bs4/doc/"
   ]
  },
  {
   "cell_type": "markdown",
   "metadata": {
    "editable": true,
    "slideshow": {
     "slide_type": "fragment"
    },
    "tags": []
   },
   "source": [
    "* Run the line below in a Jupyter cell if not installed alreay"
   ]
  },
  {
   "cell_type": "code",
   "execution_count": 245,
   "metadata": {
    "editable": true,
    "slideshow": {
     "slide_type": "fragment"
    },
    "tags": []
   },
   "outputs": [],
   "source": [
    "# ! pip install beautifulsoup4"
   ]
  },
  {
   "cell_type": "code",
   "execution_count": 78,
   "metadata": {},
   "outputs": [
    {
     "name": "stdout",
     "output_type": "stream",
     "text": [
      "Requirement already satisfied: urllib3 in /Users/claro/Library/Python/3.13/lib/python/site-packages (2.5.0)\n",
      "\n",
      "\u001b[1m[\u001b[0m\u001b[34;49mnotice\u001b[0m\u001b[1;39;49m]\u001b[0m\u001b[39;49m A new release of pip is available: \u001b[0m\u001b[31;49m25.0.1\u001b[0m\u001b[39;49m -> \u001b[0m\u001b[32;49m25.2\u001b[0m\n",
      "\u001b[1m[\u001b[0m\u001b[34;49mnotice\u001b[0m\u001b[1;39;49m]\u001b[0m\u001b[39;49m To update, run: \u001b[0m\u001b[32;49mpip install --upgrade pip\u001b[0m\n"
     ]
    }
   ],
   "source": [
    "! pip install urllib3"
   ]
  },
  {
   "cell_type": "code",
   "execution_count": null,
   "metadata": {
    "editable": true,
    "slideshow": {
     "slide_type": "fragment"
    },
    "tags": []
   },
   "outputs": [],
   "source": [
    "from bs4 import BeautifulSoup"
   ]
  },
  {
   "cell_type": "code",
   "execution_count": 4,
   "metadata": {},
   "outputs": [],
   "source": [
    "import urllib.request"
   ]
  },
  {
   "cell_type": "markdown",
   "metadata": {
    "editable": true,
    "slideshow": {
     "slide_type": "slide"
    },
    "tags": []
   },
   "source": [
    "#### 1.3 Example (WUSTL Political Science Webpage):"
   ]
  },
  {
   "cell_type": "markdown",
   "metadata": {
    "editable": true,
    "slideshow": {
     "slide_type": "fragment"
    },
    "tags": []
   },
   "source": [
    "1. Open a web page"
   ]
  },
  {
   "cell_type": "code",
   "execution_count": 24,
   "metadata": {},
   "outputs": [
    {
     "ename": "URLError",
     "evalue": "<urlopen error [SSL: CERTIFICATE_VERIFY_FAILED] certificate verify failed: unable to get local issuer certificate (_ssl.c:1018)>",
     "output_type": "error",
     "traceback": [
      "\u001b[31m---------------------------------------------------------------------------\u001b[39m",
      "\u001b[31mSSLCertVerificationError\u001b[39m                  Traceback (most recent call last)",
      "\u001b[36mFile \u001b[39m\u001b[32m/Library/Frameworks/Python.framework/Versions/3.13/lib/python3.13/urllib/request.py:1319\u001b[39m, in \u001b[36mAbstractHTTPHandler.do_open\u001b[39m\u001b[34m(self, http_class, req, **http_conn_args)\u001b[39m\n\u001b[32m   1318\u001b[39m \u001b[38;5;28;01mtry\u001b[39;00m:\n\u001b[32m-> \u001b[39m\u001b[32m1319\u001b[39m     \u001b[43mh\u001b[49m\u001b[43m.\u001b[49m\u001b[43mrequest\u001b[49m\u001b[43m(\u001b[49m\u001b[43mreq\u001b[49m\u001b[43m.\u001b[49m\u001b[43mget_method\u001b[49m\u001b[43m(\u001b[49m\u001b[43m)\u001b[49m\u001b[43m,\u001b[49m\u001b[43m \u001b[49m\u001b[43mreq\u001b[49m\u001b[43m.\u001b[49m\u001b[43mselector\u001b[49m\u001b[43m,\u001b[49m\u001b[43m \u001b[49m\u001b[43mreq\u001b[49m\u001b[43m.\u001b[49m\u001b[43mdata\u001b[49m\u001b[43m,\u001b[49m\u001b[43m \u001b[49m\u001b[43mheaders\u001b[49m\u001b[43m,\u001b[49m\n\u001b[32m   1320\u001b[39m \u001b[43m              \u001b[49m\u001b[43mencode_chunked\u001b[49m\u001b[43m=\u001b[49m\u001b[43mreq\u001b[49m\u001b[43m.\u001b[49m\u001b[43mhas_header\u001b[49m\u001b[43m(\u001b[49m\u001b[33;43m'\u001b[39;49m\u001b[33;43mTransfer-encoding\u001b[39;49m\u001b[33;43m'\u001b[39;49m\u001b[43m)\u001b[49m\u001b[43m)\u001b[49m\n\u001b[32m   1321\u001b[39m \u001b[38;5;28;01mexcept\u001b[39;00m \u001b[38;5;167;01mOSError\u001b[39;00m \u001b[38;5;28;01mas\u001b[39;00m err: \u001b[38;5;66;03m# timeout error\u001b[39;00m\n",
      "\u001b[36mFile \u001b[39m\u001b[32m/Library/Frameworks/Python.framework/Versions/3.13/lib/python3.13/http/client.py:1336\u001b[39m, in \u001b[36mHTTPConnection.request\u001b[39m\u001b[34m(self, method, url, body, headers, encode_chunked)\u001b[39m\n\u001b[32m   1335\u001b[39m \u001b[38;5;250m\u001b[39m\u001b[33;03m\"\"\"Send a complete request to the server.\"\"\"\u001b[39;00m\n\u001b[32m-> \u001b[39m\u001b[32m1336\u001b[39m \u001b[38;5;28;43mself\u001b[39;49m\u001b[43m.\u001b[49m\u001b[43m_send_request\u001b[49m\u001b[43m(\u001b[49m\u001b[43mmethod\u001b[49m\u001b[43m,\u001b[49m\u001b[43m \u001b[49m\u001b[43murl\u001b[49m\u001b[43m,\u001b[49m\u001b[43m \u001b[49m\u001b[43mbody\u001b[49m\u001b[43m,\u001b[49m\u001b[43m \u001b[49m\u001b[43mheaders\u001b[49m\u001b[43m,\u001b[49m\u001b[43m \u001b[49m\u001b[43mencode_chunked\u001b[49m\u001b[43m)\u001b[49m\n",
      "\u001b[36mFile \u001b[39m\u001b[32m/Library/Frameworks/Python.framework/Versions/3.13/lib/python3.13/http/client.py:1382\u001b[39m, in \u001b[36mHTTPConnection._send_request\u001b[39m\u001b[34m(self, method, url, body, headers, encode_chunked)\u001b[39m\n\u001b[32m   1381\u001b[39m     body = _encode(body, \u001b[33m'\u001b[39m\u001b[33mbody\u001b[39m\u001b[33m'\u001b[39m)\n\u001b[32m-> \u001b[39m\u001b[32m1382\u001b[39m \u001b[38;5;28;43mself\u001b[39;49m\u001b[43m.\u001b[49m\u001b[43mendheaders\u001b[49m\u001b[43m(\u001b[49m\u001b[43mbody\u001b[49m\u001b[43m,\u001b[49m\u001b[43m \u001b[49m\u001b[43mencode_chunked\u001b[49m\u001b[43m=\u001b[49m\u001b[43mencode_chunked\u001b[49m\u001b[43m)\u001b[49m\n",
      "\u001b[36mFile \u001b[39m\u001b[32m/Library/Frameworks/Python.framework/Versions/3.13/lib/python3.13/http/client.py:1331\u001b[39m, in \u001b[36mHTTPConnection.endheaders\u001b[39m\u001b[34m(self, message_body, encode_chunked)\u001b[39m\n\u001b[32m   1330\u001b[39m     \u001b[38;5;28;01mraise\u001b[39;00m CannotSendHeader()\n\u001b[32m-> \u001b[39m\u001b[32m1331\u001b[39m \u001b[38;5;28;43mself\u001b[39;49m\u001b[43m.\u001b[49m\u001b[43m_send_output\u001b[49m\u001b[43m(\u001b[49m\u001b[43mmessage_body\u001b[49m\u001b[43m,\u001b[49m\u001b[43m \u001b[49m\u001b[43mencode_chunked\u001b[49m\u001b[43m=\u001b[49m\u001b[43mencode_chunked\u001b[49m\u001b[43m)\u001b[49m\n",
      "\u001b[36mFile \u001b[39m\u001b[32m/Library/Frameworks/Python.framework/Versions/3.13/lib/python3.13/http/client.py:1091\u001b[39m, in \u001b[36mHTTPConnection._send_output\u001b[39m\u001b[34m(self, message_body, encode_chunked)\u001b[39m\n\u001b[32m   1090\u001b[39m \u001b[38;5;28;01mdel\u001b[39;00m \u001b[38;5;28mself\u001b[39m._buffer[:]\n\u001b[32m-> \u001b[39m\u001b[32m1091\u001b[39m \u001b[38;5;28;43mself\u001b[39;49m\u001b[43m.\u001b[49m\u001b[43msend\u001b[49m\u001b[43m(\u001b[49m\u001b[43mmsg\u001b[49m\u001b[43m)\u001b[49m\n\u001b[32m   1093\u001b[39m \u001b[38;5;28;01mif\u001b[39;00m message_body \u001b[38;5;129;01mis\u001b[39;00m \u001b[38;5;129;01mnot\u001b[39;00m \u001b[38;5;28;01mNone\u001b[39;00m:\n\u001b[32m   1094\u001b[39m \n\u001b[32m   1095\u001b[39m     \u001b[38;5;66;03m# create a consistent interface to message_body\u001b[39;00m\n",
      "\u001b[36mFile \u001b[39m\u001b[32m/Library/Frameworks/Python.framework/Versions/3.13/lib/python3.13/http/client.py:1035\u001b[39m, in \u001b[36mHTTPConnection.send\u001b[39m\u001b[34m(self, data)\u001b[39m\n\u001b[32m   1034\u001b[39m \u001b[38;5;28;01mif\u001b[39;00m \u001b[38;5;28mself\u001b[39m.auto_open:\n\u001b[32m-> \u001b[39m\u001b[32m1035\u001b[39m     \u001b[38;5;28;43mself\u001b[39;49m\u001b[43m.\u001b[49m\u001b[43mconnect\u001b[49m\u001b[43m(\u001b[49m\u001b[43m)\u001b[49m\n\u001b[32m   1036\u001b[39m \u001b[38;5;28;01melse\u001b[39;00m:\n",
      "\u001b[36mFile \u001b[39m\u001b[32m/Library/Frameworks/Python.framework/Versions/3.13/lib/python3.13/http/client.py:1477\u001b[39m, in \u001b[36mHTTPSConnection.connect\u001b[39m\u001b[34m(self)\u001b[39m\n\u001b[32m   1475\u001b[39m     server_hostname = \u001b[38;5;28mself\u001b[39m.host\n\u001b[32m-> \u001b[39m\u001b[32m1477\u001b[39m \u001b[38;5;28mself\u001b[39m.sock = \u001b[38;5;28;43mself\u001b[39;49m\u001b[43m.\u001b[49m\u001b[43m_context\u001b[49m\u001b[43m.\u001b[49m\u001b[43mwrap_socket\u001b[49m\u001b[43m(\u001b[49m\u001b[38;5;28;43mself\u001b[39;49m\u001b[43m.\u001b[49m\u001b[43msock\u001b[49m\u001b[43m,\u001b[49m\n\u001b[32m   1478\u001b[39m \u001b[43m                                      \u001b[49m\u001b[43mserver_hostname\u001b[49m\u001b[43m=\u001b[49m\u001b[43mserver_hostname\u001b[49m\u001b[43m)\u001b[49m\n",
      "\u001b[36mFile \u001b[39m\u001b[32m/Library/Frameworks/Python.framework/Versions/3.13/lib/python3.13/ssl.py:455\u001b[39m, in \u001b[36mSSLContext.wrap_socket\u001b[39m\u001b[34m(self, sock, server_side, do_handshake_on_connect, suppress_ragged_eofs, server_hostname, session)\u001b[39m\n\u001b[32m    449\u001b[39m \u001b[38;5;28;01mdef\u001b[39;00m\u001b[38;5;250m \u001b[39m\u001b[34mwrap_socket\u001b[39m(\u001b[38;5;28mself\u001b[39m, sock, server_side=\u001b[38;5;28;01mFalse\u001b[39;00m,\n\u001b[32m    450\u001b[39m                 do_handshake_on_connect=\u001b[38;5;28;01mTrue\u001b[39;00m,\n\u001b[32m    451\u001b[39m                 suppress_ragged_eofs=\u001b[38;5;28;01mTrue\u001b[39;00m,\n\u001b[32m    452\u001b[39m                 server_hostname=\u001b[38;5;28;01mNone\u001b[39;00m, session=\u001b[38;5;28;01mNone\u001b[39;00m):\n\u001b[32m    453\u001b[39m     \u001b[38;5;66;03m# SSLSocket class handles server_hostname encoding before it calls\u001b[39;00m\n\u001b[32m    454\u001b[39m     \u001b[38;5;66;03m# ctx._wrap_socket()\u001b[39;00m\n\u001b[32m--> \u001b[39m\u001b[32m455\u001b[39m     \u001b[38;5;28;01mreturn\u001b[39;00m \u001b[38;5;28;43mself\u001b[39;49m\u001b[43m.\u001b[49m\u001b[43msslsocket_class\u001b[49m\u001b[43m.\u001b[49m\u001b[43m_create\u001b[49m\u001b[43m(\u001b[49m\n\u001b[32m    456\u001b[39m \u001b[43m        \u001b[49m\u001b[43msock\u001b[49m\u001b[43m=\u001b[49m\u001b[43msock\u001b[49m\u001b[43m,\u001b[49m\n\u001b[32m    457\u001b[39m \u001b[43m        \u001b[49m\u001b[43mserver_side\u001b[49m\u001b[43m=\u001b[49m\u001b[43mserver_side\u001b[49m\u001b[43m,\u001b[49m\n\u001b[32m    458\u001b[39m \u001b[43m        \u001b[49m\u001b[43mdo_handshake_on_connect\u001b[49m\u001b[43m=\u001b[49m\u001b[43mdo_handshake_on_connect\u001b[49m\u001b[43m,\u001b[49m\n\u001b[32m    459\u001b[39m \u001b[43m        \u001b[49m\u001b[43msuppress_ragged_eofs\u001b[49m\u001b[43m=\u001b[49m\u001b[43msuppress_ragged_eofs\u001b[49m\u001b[43m,\u001b[49m\n\u001b[32m    460\u001b[39m \u001b[43m        \u001b[49m\u001b[43mserver_hostname\u001b[49m\u001b[43m=\u001b[49m\u001b[43mserver_hostname\u001b[49m\u001b[43m,\u001b[49m\n\u001b[32m    461\u001b[39m \u001b[43m        \u001b[49m\u001b[43mcontext\u001b[49m\u001b[43m=\u001b[49m\u001b[38;5;28;43mself\u001b[39;49m\u001b[43m,\u001b[49m\n\u001b[32m    462\u001b[39m \u001b[43m        \u001b[49m\u001b[43msession\u001b[49m\u001b[43m=\u001b[49m\u001b[43msession\u001b[49m\n\u001b[32m    463\u001b[39m \u001b[43m    \u001b[49m\u001b[43m)\u001b[49m\n",
      "\u001b[36mFile \u001b[39m\u001b[32m/Library/Frameworks/Python.framework/Versions/3.13/lib/python3.13/ssl.py:1076\u001b[39m, in \u001b[36mSSLSocket._create\u001b[39m\u001b[34m(cls, sock, server_side, do_handshake_on_connect, suppress_ragged_eofs, server_hostname, context, session)\u001b[39m\n\u001b[32m   1075\u001b[39m                 \u001b[38;5;28;01mraise\u001b[39;00m \u001b[38;5;167;01mValueError\u001b[39;00m(\u001b[33m\"\u001b[39m\u001b[33mdo_handshake_on_connect should not be specified for non-blocking sockets\u001b[39m\u001b[33m\"\u001b[39m)\n\u001b[32m-> \u001b[39m\u001b[32m1076\u001b[39m             \u001b[38;5;28;43mself\u001b[39;49m\u001b[43m.\u001b[49m\u001b[43mdo_handshake\u001b[49m\u001b[43m(\u001b[49m\u001b[43m)\u001b[49m\n\u001b[32m   1077\u001b[39m \u001b[38;5;28;01mexcept\u001b[39;00m:\n",
      "\u001b[36mFile \u001b[39m\u001b[32m/Library/Frameworks/Python.framework/Versions/3.13/lib/python3.13/ssl.py:1372\u001b[39m, in \u001b[36mSSLSocket.do_handshake\u001b[39m\u001b[34m(self, block)\u001b[39m\n\u001b[32m   1371\u001b[39m         \u001b[38;5;28mself\u001b[39m.settimeout(\u001b[38;5;28;01mNone\u001b[39;00m)\n\u001b[32m-> \u001b[39m\u001b[32m1372\u001b[39m     \u001b[38;5;28;43mself\u001b[39;49m\u001b[43m.\u001b[49m\u001b[43m_sslobj\u001b[49m\u001b[43m.\u001b[49m\u001b[43mdo_handshake\u001b[49m\u001b[43m(\u001b[49m\u001b[43m)\u001b[49m\n\u001b[32m   1373\u001b[39m \u001b[38;5;28;01mfinally\u001b[39;00m:\n",
      "\u001b[31mSSLCertVerificationError\u001b[39m: [SSL: CERTIFICATE_VERIFY_FAILED] certificate verify failed: unable to get local issuer certificate (_ssl.c:1018)",
      "\nDuring handling of the above exception, another exception occurred:\n",
      "\u001b[31mURLError\u001b[39m                                  Traceback (most recent call last)",
      "\u001b[36mCell\u001b[39m\u001b[36m \u001b[39m\u001b[32mIn[24]\u001b[39m\u001b[32m, line 2\u001b[39m\n\u001b[32m      1\u001b[39m web_address = \u001b[33m'\u001b[39m\u001b[33mhttps://polisci.wustl.edu/people\u001b[39m\u001b[33m'\u001b[39m\n\u001b[32m----> \u001b[39m\u001b[32m2\u001b[39m web_page = \u001b[43murllib\u001b[49m\u001b[43m.\u001b[49m\u001b[43mrequest\u001b[49m\u001b[43m.\u001b[49m\u001b[43murlopen\u001b[49m\u001b[43m(\u001b[49m\u001b[43mweb_address\u001b[49m\u001b[43m)\u001b[49m\n\u001b[32m      3\u001b[39m web_page \u001b[38;5;66;03m#stored on machine\u001b[39;00m\n",
      "\u001b[36mFile \u001b[39m\u001b[32m/Library/Frameworks/Python.framework/Versions/3.13/lib/python3.13/urllib/request.py:189\u001b[39m, in \u001b[36murlopen\u001b[39m\u001b[34m(url, data, timeout, context)\u001b[39m\n\u001b[32m    187\u001b[39m \u001b[38;5;28;01melse\u001b[39;00m:\n\u001b[32m    188\u001b[39m     opener = _opener\n\u001b[32m--> \u001b[39m\u001b[32m189\u001b[39m \u001b[38;5;28;01mreturn\u001b[39;00m \u001b[43mopener\u001b[49m\u001b[43m.\u001b[49m\u001b[43mopen\u001b[49m\u001b[43m(\u001b[49m\u001b[43murl\u001b[49m\u001b[43m,\u001b[49m\u001b[43m \u001b[49m\u001b[43mdata\u001b[49m\u001b[43m,\u001b[49m\u001b[43m \u001b[49m\u001b[43mtimeout\u001b[49m\u001b[43m)\u001b[49m\n",
      "\u001b[36mFile \u001b[39m\u001b[32m/Library/Frameworks/Python.framework/Versions/3.13/lib/python3.13/urllib/request.py:489\u001b[39m, in \u001b[36mOpenerDirector.open\u001b[39m\u001b[34m(self, fullurl, data, timeout)\u001b[39m\n\u001b[32m    486\u001b[39m     req = meth(req)\n\u001b[32m    488\u001b[39m sys.audit(\u001b[33m'\u001b[39m\u001b[33murllib.Request\u001b[39m\u001b[33m'\u001b[39m, req.full_url, req.data, req.headers, req.get_method())\n\u001b[32m--> \u001b[39m\u001b[32m489\u001b[39m response = \u001b[38;5;28;43mself\u001b[39;49m\u001b[43m.\u001b[49m\u001b[43m_open\u001b[49m\u001b[43m(\u001b[49m\u001b[43mreq\u001b[49m\u001b[43m,\u001b[49m\u001b[43m \u001b[49m\u001b[43mdata\u001b[49m\u001b[43m)\u001b[49m\n\u001b[32m    491\u001b[39m \u001b[38;5;66;03m# post-process response\u001b[39;00m\n\u001b[32m    492\u001b[39m meth_name = protocol+\u001b[33m\"\u001b[39m\u001b[33m_response\u001b[39m\u001b[33m\"\u001b[39m\n",
      "\u001b[36mFile \u001b[39m\u001b[32m/Library/Frameworks/Python.framework/Versions/3.13/lib/python3.13/urllib/request.py:506\u001b[39m, in \u001b[36mOpenerDirector._open\u001b[39m\u001b[34m(self, req, data)\u001b[39m\n\u001b[32m    503\u001b[39m     \u001b[38;5;28;01mreturn\u001b[39;00m result\n\u001b[32m    505\u001b[39m protocol = req.type\n\u001b[32m--> \u001b[39m\u001b[32m506\u001b[39m result = \u001b[38;5;28;43mself\u001b[39;49m\u001b[43m.\u001b[49m\u001b[43m_call_chain\u001b[49m\u001b[43m(\u001b[49m\u001b[38;5;28;43mself\u001b[39;49m\u001b[43m.\u001b[49m\u001b[43mhandle_open\u001b[49m\u001b[43m,\u001b[49m\u001b[43m \u001b[49m\u001b[43mprotocol\u001b[49m\u001b[43m,\u001b[49m\u001b[43m \u001b[49m\u001b[43mprotocol\u001b[49m\u001b[43m \u001b[49m\u001b[43m+\u001b[49m\n\u001b[32m    507\u001b[39m \u001b[43m                          \u001b[49m\u001b[33;43m'\u001b[39;49m\u001b[33;43m_open\u001b[39;49m\u001b[33;43m'\u001b[39;49m\u001b[43m,\u001b[49m\u001b[43m \u001b[49m\u001b[43mreq\u001b[49m\u001b[43m)\u001b[49m\n\u001b[32m    508\u001b[39m \u001b[38;5;28;01mif\u001b[39;00m result:\n\u001b[32m    509\u001b[39m     \u001b[38;5;28;01mreturn\u001b[39;00m result\n",
      "\u001b[36mFile \u001b[39m\u001b[32m/Library/Frameworks/Python.framework/Versions/3.13/lib/python3.13/urllib/request.py:466\u001b[39m, in \u001b[36mOpenerDirector._call_chain\u001b[39m\u001b[34m(self, chain, kind, meth_name, *args)\u001b[39m\n\u001b[32m    464\u001b[39m \u001b[38;5;28;01mfor\u001b[39;00m handler \u001b[38;5;129;01min\u001b[39;00m handlers:\n\u001b[32m    465\u001b[39m     func = \u001b[38;5;28mgetattr\u001b[39m(handler, meth_name)\n\u001b[32m--> \u001b[39m\u001b[32m466\u001b[39m     result = \u001b[43mfunc\u001b[49m\u001b[43m(\u001b[49m\u001b[43m*\u001b[49m\u001b[43margs\u001b[49m\u001b[43m)\u001b[49m\n\u001b[32m    467\u001b[39m     \u001b[38;5;28;01mif\u001b[39;00m result \u001b[38;5;129;01mis\u001b[39;00m \u001b[38;5;129;01mnot\u001b[39;00m \u001b[38;5;28;01mNone\u001b[39;00m:\n\u001b[32m    468\u001b[39m         \u001b[38;5;28;01mreturn\u001b[39;00m result\n",
      "\u001b[36mFile \u001b[39m\u001b[32m/Library/Frameworks/Python.framework/Versions/3.13/lib/python3.13/urllib/request.py:1367\u001b[39m, in \u001b[36mHTTPSHandler.https_open\u001b[39m\u001b[34m(self, req)\u001b[39m\n\u001b[32m   1366\u001b[39m \u001b[38;5;28;01mdef\u001b[39;00m\u001b[38;5;250m \u001b[39m\u001b[34mhttps_open\u001b[39m(\u001b[38;5;28mself\u001b[39m, req):\n\u001b[32m-> \u001b[39m\u001b[32m1367\u001b[39m     \u001b[38;5;28;01mreturn\u001b[39;00m \u001b[38;5;28;43mself\u001b[39;49m\u001b[43m.\u001b[49m\u001b[43mdo_open\u001b[49m\u001b[43m(\u001b[49m\u001b[43mhttp\u001b[49m\u001b[43m.\u001b[49m\u001b[43mclient\u001b[49m\u001b[43m.\u001b[49m\u001b[43mHTTPSConnection\u001b[49m\u001b[43m,\u001b[49m\u001b[43m \u001b[49m\u001b[43mreq\u001b[49m\u001b[43m,\u001b[49m\n\u001b[32m   1368\u001b[39m \u001b[43m                        \u001b[49m\u001b[43mcontext\u001b[49m\u001b[43m=\u001b[49m\u001b[38;5;28;43mself\u001b[39;49m\u001b[43m.\u001b[49m\u001b[43m_context\u001b[49m\u001b[43m)\u001b[49m\n",
      "\u001b[36mFile \u001b[39m\u001b[32m/Library/Frameworks/Python.framework/Versions/3.13/lib/python3.13/urllib/request.py:1322\u001b[39m, in \u001b[36mAbstractHTTPHandler.do_open\u001b[39m\u001b[34m(self, http_class, req, **http_conn_args)\u001b[39m\n\u001b[32m   1319\u001b[39m         h.request(req.get_method(), req.selector, req.data, headers,\n\u001b[32m   1320\u001b[39m                   encode_chunked=req.has_header(\u001b[33m'\u001b[39m\u001b[33mTransfer-encoding\u001b[39m\u001b[33m'\u001b[39m))\n\u001b[32m   1321\u001b[39m     \u001b[38;5;28;01mexcept\u001b[39;00m \u001b[38;5;167;01mOSError\u001b[39;00m \u001b[38;5;28;01mas\u001b[39;00m err: \u001b[38;5;66;03m# timeout error\u001b[39;00m\n\u001b[32m-> \u001b[39m\u001b[32m1322\u001b[39m         \u001b[38;5;28;01mraise\u001b[39;00m URLError(err)\n\u001b[32m   1323\u001b[39m     r = h.getresponse()\n\u001b[32m   1324\u001b[39m \u001b[38;5;28;01mexcept\u001b[39;00m:\n",
      "\u001b[31mURLError\u001b[39m: <urlopen error [SSL: CERTIFICATE_VERIFY_FAILED] certificate verify failed: unable to get local issuer certificate (_ssl.c:1018)>"
     ]
    }
   ],
   "source": [
    "web_address = 'https://polisci.wustl.edu/people'\n",
    "web_page = urllib.request.urlopen(web_address)\n",
    "web_page #stored on machine"
   ]
  },
  {
   "cell_type": "code",
   "execution_count": 17,
   "metadata": {},
   "outputs": [],
   "source": [
    "ssl_context = ssl.create_default_context(cafile=certifi.where())\n",
    "web_address = \"https://polisci.wustl.edu/people\"\n",
    "web_page = urllib.request.urlopen(web_address, context=ssl_context)\n",
    "html = web_page.read()"
   ]
  },
  {
   "cell_type": "code",
   "execution_count": 21,
   "metadata": {
    "editable": true,
    "slideshow": {
     "slide_type": "fragment"
    },
    "tags": []
   },
   "outputs": [
    {
     "name": "stdout",
     "output_type": "stream",
     "text": [
      "b'\\n\n",
      "<!DOCTYPE html>\n",
      "\\n\n",
      "<html class=\"no-js\" dir=\"ltr\" lang=\"en\" prefix=\"og: https://ogp.me/ns#\">\n",
      " \\n\n",
      " <head>\n",
      "  \\n\n",
      "  <meta charset=\"utf-8\"/>\n",
      "  \\n\n",
      "  <noscript>\n",
      "   <style>\n",
      "    form.antibot * :not(.antibot-message) { display: none !important; }\n",
      "   </style>\n",
      "   \\n\n",
      "  </noscript>\n",
      "  <style>\n",
      "   /* @see https://github.com/aFarkas/lazysizes#broken-image-symbol */.js img.lazyload:not([src]) { visibility: hidden; }/* @see https://github.com/aFarkas/lazysizes#automatically-setting-the-sizes-attribute */.js img.lazyloaded[data-sizes=auto] { display: block; width: 100%; }/* Transition effect. */.js .lazyload, .js .lazyloading { opacity: 0; }.js .lazyloaded { opacity: 1; -webkit-transition: opacity 2000ms; transition: opacity 2000ms; }\n",
      "  </style>\n",
      "  \\n\n",
      "  <meta content=\"Description\" name=\"description\"/>\n",
      "  \\n\n",
      "  <link href=\"https://polisci.wustl.edu/node/50\" rel=\"shortlink\"/>\n",
      "  \\n\n",
      "  <link href=\"https://polisci.wustl.edu/people\" rel=\"canonical\"/>\n",
      "  \\n\n",
      "  <meta content=\"index, follow\" name=\"robots\"/>\n",
      "  \\n\n",
      "  <m\n"
     ]
    }
   ],
   "source": [
    "from bs4 import BeautifulSoup\n",
    "# Instead of live scraping, parse a saved HTML file\n",
    "with open('polisci_ppl.html') as f:\n",
    "    html_content = f.read()\n",
    "    soup = BeautifulSoup(html_content, 'html.parser')\n",
    "    print(soup.prettify()[:1000])  # Print first 1000 characters for preview"
   ]
  },
  {
   "cell_type": "markdown",
   "metadata": {},
   "source": [
    "* Try these alternative lines if the above didn't run"
   ]
  },
  {
   "cell_type": "code",
   "execution_count": 25,
   "metadata": {},
   "outputs": [
    {
     "name": "stderr",
     "output_type": "stream",
     "text": [
      "/Users/claro/Library/Python/3.13/lib/python/site-packages/urllib3/connectionpool.py:1097: InsecureRequestWarning: Unverified HTTPS request is being made to host 'polisci.wustl.edu'. Adding certificate verification is strongly advised. See: https://urllib3.readthedocs.io/en/latest/advanced-usage.html#tls-warnings\n",
      "  warnings.warn(\n"
     ]
    }
   ],
   "source": [
    "import requests\n",
    "\n",
    "response = requests.get(web_address, verify=False)\n",
    "web_page = response.text"
   ]
  },
  {
   "cell_type": "markdown",
   "metadata": {
    "editable": true,
    "slideshow": {
     "slide_type": "subslide"
    },
    "tags": []
   },
   "source": [
    "2. Parse it"
   ]
  },
  {
   "cell_type": "code",
   "execution_count": null,
   "metadata": {
    "editable": true,
    "slideshow": {
     "slide_type": "fragment"
    },
    "tags": []
   },
   "outputs": [
    {
     "ename": "AttributeError",
     "evalue": "'str' object has no attribute 'read'",
     "output_type": "error",
     "traceback": [
      "\u001b[31m---------------------------------------------------------------------------\u001b[39m",
      "\u001b[31mAttributeError\u001b[39m                            Traceback (most recent call last)",
      "\u001b[36mCell\u001b[39m\u001b[36m \u001b[39m\u001b[32mIn[26]\u001b[39m\u001b[32m, line 1\u001b[39m\n\u001b[32m----> \u001b[39m\u001b[32m1\u001b[39m soup = BeautifulSoup(\u001b[43mweb_page\u001b[49m\u001b[43m.\u001b[49m\u001b[43mread\u001b[49m())\n\u001b[32m      2\u001b[39m \u001b[38;5;66;03m# print(soup)\u001b[39;00m\n\u001b[32m      3\u001b[39m \u001b[38;5;66;03m# print(soup.prettify()) # enable us to view how tags are nested in the document\u001b[39;00m\n",
      "\u001b[31mAttributeError\u001b[39m: 'str' object has no attribute 'read'"
     ]
    }
   ],
   "source": [
    "# soup = BeautifulSoup(web_page.read())\n",
    "# print(soup)\n",
    "# print(soup.prettify()) # enable us to view how tags are nested in the document"
   ]
  },
  {
   "cell_type": "code",
   "execution_count": 27,
   "metadata": {
    "editable": true,
    "scrolled": true,
    "slideshow": {
     "slide_type": ""
    },
    "tags": []
   },
   "outputs": [],
   "source": [
    "# str(soup.prettify()) # enable us to view how tags are nested in the document"
   ]
  },
  {
   "cell_type": "code",
   "execution_count": 28,
   "metadata": {
    "editable": true,
    "slideshow": {
     "slide_type": "subslide"
    },
    "tags": []
   },
   "outputs": [
    {
     "data": {
      "text/plain": [
       "'b\\'\\\\n\\n<!DOCTYPE html>\\n\\\\n\\n<html class=\"no-js\" dir=\"ltr\" lang=\"en\" prefix=\"og: https://ogp.me/ns#\">\\n \\\\n\\n <head>\\n  \\\\n\\n  <meta charset=\"utf-8\"/>\\n  \\\\n\\n  <noscript>\\n   <style>\\n    form.antibot * :not(.antibot-message) { display: none !important; }\\n   </style>\\n   \\\\n\\n  </noscript>\\n  <style>\\n   /* @see https://github.com/aFarkas/lazysizes#broken-image-symbol */.js img.lazyload:not([src]) { visibility: hidden; }/* @see https://github.com/aFarkas/lazysizes#automatically-setting-the-sizes-attribute */.js img.lazyloaded[data-sizes=auto] { display: block; width: 100%; }/* Transition effect. */.js .lazyload, .js .lazyloading { opacity: 0; }.js .lazyloaded { opacity: 1; -webkit-transition: opacity 2000ms; transition: opacity 2000ms; }\\n  </style>\\n  \\\\n\\n  <meta content=\"Description\" name=\"description\"/>\\n  \\\\n\\n  <link href=\"https://polisci.wustl.edu/node/50\" rel=\"shortlink\"/>\\n  \\\\n\\n  <link href=\"https://polisci.wustl.edu/people\" rel=\"canonical\"/>\\n  \\\\n\\n  <meta content=\"index, follow\" name=\"robots\"/>\\n  \\\\n\\n  <meta content=\"asdrupal\" name=\"author\"/>\\n  \\\\n\\n  <meta content=\"Drupal 10 (http://drupal.org)\" name=\"generator\"/>\\n  \\\\n\\n  <meta content=\"Department of Political Science\" property=\"og:site_name\"/>\\n  \\\\n\\n  <meta content=\"profile\" property=\"og:type\"/>\\n  \\\\n\\n  <meta content=\"https://polisci.wustl.edu/people\" property=\"og:url\"/>\\n  \\\\n\\n  <meta content=\"Our People\" property=\"og:title\"/>\\n  \\\\n\\n  <meta content=\"\" property=\"og:description\"/>\\n  \\\\n\\n  <meta content=\"2025-04-14T10:48:12-05:00\" property=\"og:updated_ti'"
      ]
     },
     "execution_count": 28,
     "metadata": {},
     "output_type": "execute_result"
    }
   ],
   "source": [
    "str(soup.prettify())[0:1500]"
   ]
  },
  {
   "cell_type": "markdown",
   "metadata": {
    "editable": true,
    "slideshow": {
     "slide_type": "subslide"
    },
    "tags": []
   },
   "source": [
    "3. Find all cases of a certain tag 'a'"
   ]
  },
  {
   "cell_type": "code",
   "execution_count": 29,
   "metadata": {
    "editable": true,
    "slideshow": {
     "slide_type": "fragment"
    },
    "tags": []
   },
   "outputs": [
    {
     "data": {
      "text/plain": [
       "[<a alt=\" Department of Political Science  front page\" href=\"/\"> Department of Political Science </a>,\n",
       " <a data-drupal-link-system-path=\"node/13357\" href=\"/undergraduate\">Undergraduate Program</a>,\n",
       " <a data-drupal-link-system-path=\"node/13340\" href=\"/graduate-program\">Graduate Program</a>,\n",
       " <a data-drupal-link-system-path=\"node/14467\" href=\"/masters-degree-statistics-political-science-phd-students\">Master\\xe2\\x80\\x99s Degree in Statistics for Political Science Ph.D. Students</a>,\n",
       " <a data-drupal-link-system-path=\"node/13198\" href=\"/research\">Research</a>,\n",
       " <a aria-current=\"page\" class=\"is-active\" data-drupal-link-system-path=\"node/50\" href=\"/people\">Our People</a>,\n",
       " <a data-drupal-link-system-path=\"node/61\" href=\"/resources\">Resources</a>,\n",
       " <a href=\"https://gifts.wustl.edu/index.html?other_designation_description=Political%20Science\">Make a Gift to Political Science</a>]"
      ]
     },
     "execution_count": 29,
     "metadata": {},
     "output_type": "execute_result"
    }
   ],
   "source": [
    "soup.find_all('a')[2:10] # Returns a list... remember this! # a is for anchor tag"
   ]
  },
  {
   "cell_type": "markdown",
   "metadata": {
    "editable": true,
    "slideshow": {
     "slide_type": "subslide"
    },
    "tags": []
   },
   "source": [
    "4. Find all cases of a certain tag `<h3>`"
   ]
  },
  {
   "cell_type": "code",
   "execution_count": 30,
   "metadata": {
    "editable": true,
    "slideshow": {
     "slide_type": "fragment"
    },
    "tags": []
   },
   "outputs": [
    {
     "data": {
      "text/plain": [
       "[<h3>\\n            <div><span>Federico</span></div>\\n            <div><span>Acosta y Lara</span></div>\\n          </h3>,\n",
       " <h3>\\n            <div><span>Deniz</span></div>\\n            <div><span>Aksoy</span></div>\\n          </h3>,\n",
       " <h3>\\n            <div><span>Lukas</span></div>\\n            <div><span>Alexander</span></div>\\n          </h3>,\n",
       " <h3>\\n            <div><span>Alex</span></div>\\n            <div><span>Avery</span></div>\\n          </h3>,\n",
       " <h3>\\n            <div><span>Timm</span></div>\\n            <div><span>Betz</span></div>\\n          </h3>,\n",
       " <h3>\\n            <div><span>Zachary</span></div>\\n            <div><span>Bowersox</span></div>\\n          </h3>,\n",
       " <h3>\\n            <div><span>Christina L.</span></div>\\n            <div><span>Boyd</span></div>\\n          </h3>,\n",
       " <h3>\\n            <div><span>Ryan</span></div>\\n            <div><span>Burge</span></div>\\n          </h3>,\n",
       " <h3>\\n            <div><span>Daniel </span></div>\\n            <div><span>Butler</span></div>\\n          </h3>,\n",
       " <h3>\\n            <div><span>Anthony</span></div>\\n            <div><span>Buzzacco</span></div>\\n          </h3>]"
      ]
     },
     "execution_count": 30,
     "metadata": {},
     "output_type": "execute_result"
    }
   ],
   "source": [
    "soup.find_all('h3')[2:12]"
   ]
  },
  {
   "cell_type": "markdown",
   "metadata": {
    "editable": true,
    "slideshow": {
     "slide_type": "subslide"
    },
    "tags": []
   },
   "source": [
    "5. Extract text from the tag"
   ]
  },
  {
   "cell_type": "code",
   "execution_count": 31,
   "metadata": {
    "editable": true,
    "slideshow": {
     "slide_type": "fragment"
    },
    "tags": []
   },
   "outputs": [
    {
     "data": {
      "text/plain": [
       "['\\\\n            Federico\\\\n            Acosta y Lara\\\\n          ',\n",
       " '\\\\n            Deniz\\\\n            Aksoy\\\\n          ',\n",
       " '\\\\n            Lukas\\\\n            Alexander\\\\n          ',\n",
       " '\\\\n            Alex\\\\n            Avery\\\\n          ',\n",
       " '\\\\n            Timm\\\\n            Betz\\\\n          ',\n",
       " '\\\\n            Zachary\\\\n            Bowersox\\\\n          ',\n",
       " '\\\\n            Christina L.\\\\n            Boyd\\\\n          ',\n",
       " '\\\\n            Ryan\\\\n            Burge\\\\n          ']"
      ]
     },
     "execution_count": 31,
     "metadata": {},
     "output_type": "execute_result"
    }
   ],
   "source": [
    "names = soup.find_all('h3') # list of html entries\n",
    "[i.text for i in names][2:10] # grab just the text from each one"
   ]
  },
  {
   "cell_type": "markdown",
   "metadata": {
    "editable": true,
    "slideshow": {
     "slide_type": "subslide"
    },
    "tags": []
   },
   "source": [
    "* We can create an object containing all elements with the tag `<a>`. Then, get the attributes"
   ]
  },
  {
   "cell_type": "code",
   "execution_count": 32,
   "metadata": {
    "editable": true,
    "slideshow": {
     "slide_type": "fragment"
    },
    "tags": []
   },
   "outputs": [
    {
     "data": {
      "text/plain": [
       "{'href': '/people/dino-p-christenson',\n",
       " 'id': 'faculty-card-container',\n",
       " 'class': ['card'],\n",
       " 'aria-label': 'View Dino P. Christenson'}"
      ]
     },
     "execution_count": 32,
     "metadata": {},
     "output_type": "execute_result"
    }
   ],
   "source": [
    "all_a_tags = soup.find_all('a')\n",
    "# all_a_tags\n",
    "all_a_tags[36].attrs  # returns a dictionary with the attributes"
   ]
  },
  {
   "cell_type": "markdown",
   "metadata": {
    "editable": true,
    "slideshow": {
     "slide_type": "subslide"
    },
    "tags": []
   },
   "source": [
    "* Access the attributes with key-value syntax"
   ]
  },
  {
   "cell_type": "code",
   "execution_count": 33,
   "metadata": {
    "editable": true,
    "slideshow": {
     "slide_type": ""
    },
    "tags": []
   },
   "outputs": [
    {
     "data": {
      "text/plain": [
       "dict_keys(['href', 'id', 'class', 'aria-label'])"
      ]
     },
     "execution_count": 33,
     "metadata": {},
     "output_type": "execute_result"
    }
   ],
   "source": [
    "all_a_tags[36].attrs.keys()"
   ]
  },
  {
   "cell_type": "code",
   "execution_count": 34,
   "metadata": {
    "editable": true,
    "slideshow": {
     "slide_type": "fragment"
    },
    "tags": []
   },
   "outputs": [
    {
     "data": {
      "text/plain": [
       "'/people/dino-p-christenson'"
      ]
     },
     "execution_count": 34,
     "metadata": {},
     "output_type": "execute_result"
    }
   ],
   "source": [
    "all_a_tags[36]['href']"
   ]
  },
  {
   "cell_type": "code",
   "execution_count": 35,
   "metadata": {
    "editable": true,
    "slideshow": {
     "slide_type": "fragment"
    },
    "tags": []
   },
   "outputs": [
    {
     "data": {
      "text/plain": [
       "['card']"
      ]
     },
     "execution_count": 35,
     "metadata": {},
     "output_type": "execute_result"
    }
   ],
   "source": [
    "all_a_tags[36]['class']"
   ]
  },
  {
   "cell_type": "code",
   "execution_count": 36,
   "metadata": {
    "editable": true,
    "slideshow": {
     "slide_type": "fragment"
    },
    "tags": []
   },
   "outputs": [
    {
     "name": "stdout",
     "output_type": "stream",
     "text": [
      "/people/amaan-charaniya\n",
      "/people/tian-chen\n",
      "/people/dino-p-christenson\n",
      "/people/leticia-claro-oliveira\n",
      "/people/brian-f-crisp\n",
      "/people/bowen-damask\n"
     ]
    }
   ],
   "source": [
    "for i in range(34,40):\n",
    "  print(all_a_tags[i]['href'])"
   ]
  },
  {
   "cell_type": "markdown",
   "metadata": {
    "editable": true,
    "slideshow": {
     "slide_type": "subslide"
    },
    "tags": []
   },
   "source": [
    "##### Some notes"
   ]
  },
  {
   "cell_type": "markdown",
   "metadata": {
    "editable": true,
    "slideshow": {
     "slide_type": "fragment"
    },
    "tags": []
   },
   "source": [
    "*  Careful for the first and last tags—these can often be different than the others"
   ]
  },
  {
   "cell_type": "code",
   "execution_count": 37,
   "metadata": {
    "editable": true,
    "slideshow": {
     "slide_type": "fragment"
    },
    "tags": []
   },
   "outputs": [
    {
     "data": {
      "text/plain": [
       "{'href': '#main-content',\n",
       " 'class': ['visually-hidden', 'focusable', 'skip-link'],\n",
       " 'role': 'link',\n",
       " 'aria-label': 'skip to main content'}"
      ]
     },
     "execution_count": 37,
     "metadata": {},
     "output_type": "execute_result"
    }
   ],
   "source": [
    "all_a_tags[0].attrs"
   ]
  },
  {
   "cell_type": "markdown",
   "metadata": {
    "editable": true,
    "slideshow": {
     "slide_type": "fragment"
    },
    "tags": []
   },
   "source": [
    "* Because `all_a_tags` is a list, we need to index the element(s) we're interested in\n",
    "* If we are interested in the first instance of the tag `<a>`, we can use"
   ]
  },
  {
   "cell_type": "code",
   "execution_count": 38,
   "metadata": {
    "editable": true,
    "slideshow": {
     "slide_type": "fragment"
    },
    "tags": []
   },
   "outputs": [
    {
     "data": {
      "text/plain": [
       "<a aria-label=\"skip to main content\" class=\"visually-hidden focusable skip-link\" href=\"#main-content\" role=\"link\">\\n    Skip to main content\\n  </a>"
      ]
     },
     "execution_count": 38,
     "metadata": {},
     "output_type": "execute_result"
    }
   ],
   "source": [
    "soup.find('a')"
   ]
  },
  {
   "cell_type": "code",
   "execution_count": 39,
   "metadata": {
    "editable": true,
    "slideshow": {
     "slide_type": "fragment"
    },
    "tags": []
   },
   "outputs": [
    {
     "data": {
      "text/plain": [
       "{'href': '#main-content',\n",
       " 'class': ['visually-hidden', 'focusable', 'skip-link'],\n",
       " 'role': 'link',\n",
       " 'aria-label': 'skip to main content'}"
      ]
     },
     "execution_count": 39,
     "metadata": {},
     "output_type": "execute_result"
    }
   ],
   "source": [
    "soup.find('a').attrs # meta data instead of the whole chunk"
   ]
  },
  {
   "cell_type": "markdown",
   "metadata": {
    "editable": true,
    "slideshow": {
     "slide_type": "subslide"
    },
    "tags": []
   },
   "source": [
    "We can use a loop (for or while) to get and re-organize all the data."
   ]
  },
  {
   "cell_type": "code",
   "execution_count": 40,
   "metadata": {
    "editable": true,
    "slideshow": {
     "slide_type": "fragment"
    },
    "tags": []
   },
   "outputs": [
    {
     "name": "stdout",
     "output_type": "stream",
     "text": [
      "{'class': [['card'], ['card'], ['card'], ['card'], ['card'], ['card'], ['card'], ['card'], ['card'], ['card'], ['card'], ['card'], ['card'], ['card'], ['card'], ['card'], ['card'], ['card'], ['card'], ['card'], ['card'], ['card'], ['card']], 'href': ['/people/deniz-aksoy', '/people/lukas-alexander', '/people/alex-avery', '/people/timm-betz', '/people/zachary-bowersox', '/people/christina-l-boyd', 'https://rap.wustl.edu/people/ryan-burge/', '/people/daniel-butler', '/people/anthony-buzzacco', '/people/randall-calvert', '/people/michael-cannon', '/people/taylor-carlson', '/people/david-carter', '/people/zeynep-ceren-topac', '/people/amaan-charaniya', '/people/tian-chen', '/people/dino-p-christenson', '/people/leticia-claro-oliveira', '/people/brian-f-crisp', '/people/bowen-damask', '/people/niko-dawson', '/people/rex-weiye-deng', '/people/juan-dodyk']}\n"
     ]
    }
   ],
   "source": [
    "l = {\"class\" : [], \"href\" : []} # create a dictionary\n",
    "for p in range(20,43):\n",
    "    l[\"class\"].append(all_a_tags[p].attrs[\"class\"]) \n",
    "    l[\"href\"].append(all_a_tags[p].attrs[\"href\"]) \n",
    "\n",
    "print(l)"
   ]
  },
  {
   "cell_type": "markdown",
   "metadata": {
    "editable": true,
    "slideshow": {
     "slide_type": "subslide"
    },
    "tags": []
   },
   "source": [
    "##### If we are interested only in the attributes of `class = card` nested within tag 'a', we can specify this in our initial `find_all()` call:"
   ]
  },
  {
   "cell_type": "code",
   "execution_count": 41,
   "metadata": {
    "editable": true,
    "slideshow": {
     "slide_type": "fragment"
    },
    "tags": []
   },
   "outputs": [
    {
     "data": {
      "text/plain": [
       "[<a aria-label=\"View Federico Acosta y Lara\" class=\"card\" href=\"/people/federico-acosta-y-lara\" id=\"faculty-card-container\">\\n      <article class=\"faculty-post\">\\n        <div class=\"image\">\\n                        <img alt=\"Federico Acosta y Lara\" height=\"320\" loading=\"lazy\" sizes=\"(max-width:480px) 85vw, 290px\" src=\"/sites/polisci.wustl.edu/files/styles/square_1_1_320w/public/People/Polisci_Acosta%20Y%20Lara_F-1010531_0.jpg.webp\" srcset=\"https://polisci.wustl.edu/sites/polisci.wustl.edu/files/styles/square_1_1_190w/public/People/Polisci_Acosta%20Y%20Lara_F-1010531_0.jpg.webp 190w, https://polisci.wustl.edu/sites/polisci.wustl.edu/files/styles/square_1_1_320w/public/People/Polisci_Acosta%20Y%20Lara_F-1010531_0.jpg.webp 320w, https://polisci.wustl.edu/sites/polisci.wustl.edu/files/styles/square_1_1_480w/public/People/Polisci_Acosta%20Y%20Lara_F-1010531_0.jpg.webp 480w\" width=\"320\"/>\\n\\n\\n                                <h3>\\n            <div><span>Federico</span></div>\\n            <div><span>Acosta y Lara</span></div>\\n          </h3>\\n        </div>\\n        <div class=\"dept\">\\n                                Third Year Graduate Student\\n                            </div>\\n      </article>\\n    </a>,\n",
       " <a aria-label=\"View Deniz Aksoy\" class=\"card\" href=\"/people/deniz-aksoy\" id=\"faculty-card-container\">\\n      <article class=\"faculty-post\">\\n        <div class=\"image\">\\n                        <img alt=\"Deniz Aksoy\" height=\"320\" loading=\"lazy\" sizes=\"(max-width:480px) 85vw, 290px\" src=\"/sites/polisci.wustl.edu/files/styles/square_1_1_320w/public/People/Polisci_Aksoy_D_P1013892_0.jpg.webp\" srcset=\"https://polisci.wustl.edu/sites/polisci.wustl.edu/files/styles/square_1_1_190w/public/People/Polisci_Aksoy_D_P1013892_0.jpg.webp 190w, https://polisci.wustl.edu/sites/polisci.wustl.edu/files/styles/square_1_1_320w/public/People/Polisci_Aksoy_D_P1013892_0.jpg.webp 320w, https://polisci.wustl.edu/sites/polisci.wustl.edu/files/styles/square_1_1_480w/public/People/Polisci_Aksoy_D_P1013892_0.jpg.webp 480w\" width=\"320\"/>\\n\\n\\n                                <h3>\\n            <div><span>Deniz</span></div>\\n            <div><span>Aksoy</span></div>\\n          </h3>\\n        </div>\\n        <div class=\"dept\">\\n                                Associate Professor of Political Science\\n                            </div>\\n      </article>\\n    </a>]"
      ]
     },
     "execution_count": 41,
     "metadata": {},
     "output_type": "execute_result"
    }
   ],
   "source": [
    "soup.find_all('a', {'class' : \"card\"})[0:2] # returns a list"
   ]
  },
  {
   "cell_type": "markdown",
   "metadata": {
    "editable": true,
    "slideshow": {
     "slide_type": "subslide"
    },
    "tags": []
   },
   "source": [
    "##### Commonly, you will need to go level by level in an exporatory exercise to access nested tags. Here is an example:"
   ]
  },
  {
   "cell_type": "markdown",
   "metadata": {
    "editable": true,
    "slideshow": {
     "slide_type": "fragment"
    },
    "tags": []
   },
   "source": [
    "* First get all tags `<div>`"
   ]
  },
  {
   "cell_type": "code",
   "execution_count": 42,
   "metadata": {
    "editable": true,
    "slideshow": {
     "slide_type": "fragment"
    },
    "tags": []
   },
   "outputs": [
    {
     "data": {
      "text/plain": [
       "266"
      ]
     },
     "execution_count": 42,
     "metadata": {},
     "output_type": "execute_result"
    }
   ],
   "source": [
    "sections = soup.find_all('div') \n",
    "len(sections) # check the size of the object"
   ]
  },
  {
   "cell_type": "markdown",
   "metadata": {
    "editable": true,
    "slideshow": {
     "slide_type": "fragment"
    },
    "tags": []
   },
   "source": [
    "* View the FIRST `<a>` tag within the first valid `<div>` tag "
   ]
  },
  {
   "cell_type": "code",
   "execution_count": 43,
   "metadata": {
    "editable": true,
    "slideshow": {
     "slide_type": ""
    },
    "tags": []
   },
   "outputs": [
    {
     "data": {
      "text/plain": [
       "<a class=\"logo\" href=\"https://artsci.washu.edu\">\\n    <picture>\\n\\n              <source media=\"(min-width: 767px)\" srcset=\"/themes/custom/olympian9/svg/logo-art-sci-vert-color.svg\"/>\\n        <img alt=\"Washington University in St. Louis\" src=\"/themes/custom/olympian9/svg/logo-art-sci-color.svg\"/>\\n          </picture>\\n  </a>"
      ]
     },
     "execution_count": 43,
     "metadata": {},
     "output_type": "execute_result"
    }
   ],
   "source": [
    "sections[2].a"
   ]
  },
  {
   "cell_type": "markdown",
   "metadata": {
    "editable": true,
    "slideshow": {
     "slide_type": "fragment"
    },
    "tags": []
   },
   "source": [
    "* Or, equivalently:"
   ]
  },
  {
   "cell_type": "code",
   "execution_count": 44,
   "metadata": {
    "editable": true,
    "slideshow": {
     "slide_type": "fragment"
    },
    "tags": []
   },
   "outputs": [
    {
     "data": {
      "text/plain": [
       "<a class=\"logo\" href=\"https://artsci.washu.edu\">\\n    <picture>\\n\\n              <source media=\"(min-width: 767px)\" srcset=\"/themes/custom/olympian9/svg/logo-art-sci-vert-color.svg\"/>\\n        <img alt=\"Washington University in St. Louis\" src=\"/themes/custom/olympian9/svg/logo-art-sci-color.svg\"/>\\n          </picture>\\n  </a>"
      ]
     },
     "execution_count": 44,
     "metadata": {},
     "output_type": "execute_result"
    }
   ],
   "source": [
    "sections[2].find('a') "
   ]
  },
  {
   "cell_type": "markdown",
   "metadata": {
    "editable": true,
    "slideshow": {
     "slide_type": "subslide"
    },
    "tags": []
   },
   "source": [
    "* This gives us ALL `<a>` tags within the first valid `<div>` tag "
   ]
  },
  {
   "cell_type": "code",
   "execution_count": 45,
   "metadata": {
    "editable": true,
    "slideshow": {
     "slide_type": "fragment"
    },
    "tags": []
   },
   "outputs": [
    {
     "data": {
      "text/plain": [
       "[<a class=\"logo\" href=\"https://artsci.washu.edu\">\\n    <picture>\\n\\n              <source media=\"(min-width: 767px)\" srcset=\"/themes/custom/olympian9/svg/logo-art-sci-vert-color.svg\"/>\\n        <img alt=\"Washington University in St. Louis\" src=\"/themes/custom/olympian9/svg/logo-art-sci-color.svg\"/>\\n          </picture>\\n  </a>,\n",
       " <a alt=\" Department of Political Science  front page\" href=\"/\"> Department of Political Science </a>,\n",
       " <a data-drupal-link-system-path=\"node/13357\" href=\"/undergraduate\">Undergraduate Program</a>,\n",
       " <a data-drupal-link-system-path=\"node/13340\" href=\"/graduate-program\">Graduate Program</a>,\n",
       " <a data-drupal-link-system-path=\"node/14467\" href=\"/masters-degree-statistics-political-science-phd-students\">Master\\xe2\\x80\\x99s Degree in Statistics for Political Science Ph.D. Students</a>,\n",
       " <a data-drupal-link-system-path=\"node/13198\" href=\"/research\">Research</a>,\n",
       " <a aria-current=\"page\" class=\"is-active\" data-drupal-link-system-path=\"node/50\" href=\"/people\">Our People</a>,\n",
       " <a data-drupal-link-system-path=\"node/61\" href=\"/resources\">Resources</a>,\n",
       " <a href=\"https://gifts.wustl.edu/index.html?other_designation_description=Political%20Science\">Make a Gift to Political Science</a>,\n",
       " <a class=\"button top-left-menu solid red\" href=\"https://artsci.washu.edu/apply\" target=\"_blank\">Apply Today\\n               <svg class=\"icon\"><use xlink:href=\"#link-out\"></use></svg>\\n                             </a>]"
      ]
     },
     "execution_count": 45,
     "metadata": {},
     "output_type": "execute_result"
    }
   ],
   "source": [
    "sections[2].find_all('a')[0:10] "
   ]
  },
  {
   "cell_type": "markdown",
   "metadata": {
    "editable": true,
    "slideshow": {
     "slide_type": "subslide"
    },
    "tags": []
   },
   "source": [
    "* This gives us ALL `<a>` tags within the first valid `<div>` tag where `class` is 'first-level'"
   ]
  },
  {
   "cell_type": "code",
   "execution_count": 46,
   "metadata": {
    "editable": true,
    "slideshow": {
     "slide_type": "fragment"
    },
    "tags": []
   },
   "outputs": [
    {
     "data": {
      "text/plain": [
       "[<a class=\"logo\" href=\"https://artsci.washu.edu\">\\n    <picture>\\n\\n              <source media=\"(min-width: 767px)\" srcset=\"/themes/custom/olympian9/svg/logo-art-sci-vert-color.svg\"/>\\n        <img alt=\"Washington University in St. Louis\" src=\"/themes/custom/olympian9/svg/logo-art-sci-color.svg\"/>\\n          </picture>\\n  </a>]"
      ]
     },
     "execution_count": 46,
     "metadata": {},
     "output_type": "execute_result"
    }
   ],
   "source": [
    "sections[2].find_all('a', {'class' : 'logo'}) "
   ]
  },
  {
   "cell_type": "markdown",
   "metadata": {
    "editable": true,
    "slideshow": {
     "slide_type": "subslide"
    },
    "tags": []
   },
   "source": [
    "##### We can also create a tree of objects. Here is an example: "
   ]
  },
  {
   "cell_type": "markdown",
   "metadata": {
    "editable": true,
    "slideshow": {
     "slide_type": "fragment"
    },
    "tags": []
   },
   "source": [
    "Let's find Prof. Taylor Carlson's profile on the department website. \n",
    "1. Find all `<a>` tags where `class` is 'card'"
   ]
  },
  {
   "cell_type": "code",
   "execution_count": 47,
   "metadata": {
    "editable": true,
    "scrolled": true,
    "slideshow": {
     "slide_type": "subslide"
    },
    "tags": []
   },
   "outputs": [
    {
     "name": "stdout",
     "output_type": "stream",
     "text": [
      "<a aria-label=\"View Taylor Carlson\" class=\"card\" href=\"/people/taylor-carlson\" id=\"faculty-card-container\">\\n      <article class=\"faculty-post\">\\n        <div class=\"image\">\\n                        <img alt=\"Taylor Carlson\" height=\"320\" loading=\"lazy\" sizes=\"(max-width:480px) 85vw, 290px\" src=\"/sites/polisci.wustl.edu/files/styles/square_1_1_320w/public/PoliSci_Carlson_T_P1322772_0.jpg.webp\" srcset=\"https://polisci.wustl.edu/sites/polisci.wustl.edu/files/styles/square_1_1_190w/public/PoliSci_Carlson_T_P1322772_0.jpg.webp 190w, https://polisci.wustl.edu/sites/polisci.wustl.edu/files/styles/square_1_1_320w/public/PoliSci_Carlson_T_P1322772_0.jpg.webp 320w, https://polisci.wustl.edu/sites/polisci.wustl.edu/files/styles/square_1_1_480w/public/PoliSci_Carlson_T_P1322772_0.jpg.webp 480w\" width=\"320\"/>\\n\\n\\n                                <h3>\\n            <div><span>Taylor</span></div>\\n            <div><span>Carlson</span></div>\\n          </h3>\\n        </div>\\n        <div class=\"dept\">\\n                                Director of Graduate Studies Political Science\\n                                  Associate Professor of Political Science<br>\\r\\nWeidenbaum Center Director of Survey Research\\n                  </br></div>\\n      </article>\\n    </a>\n"
     ]
    }
   ],
   "source": [
    "taylor = soup.find(\"a\", {\"aria-label\": lambda x: x and \"Taylor Carlson\" in x}) # x exists and contains \"Taylor Carlson\"\n",
    "print(taylor)\n"
   ]
  },
  {
   "cell_type": "markdown",
   "metadata": {
    "editable": true,
    "slideshow": {
     "slide_type": "subslide"
    },
    "tags": []
   },
   "source": [
    "2. Manually examine where Prof. Carlson is located at. "
   ]
  },
  {
   "cell_type": "markdown",
   "metadata": {
    "editable": true,
    "slideshow": {
     "slide_type": "fragment"
    },
    "tags": []
   },
   "source": [
    "3. Find the heading that contains Prof. Carlson's first and last name."
   ]
  },
  {
   "cell_type": "code",
   "execution_count": 48,
   "metadata": {
    "editable": true,
    "slideshow": {
     "slide_type": "fragment"
    },
    "tags": []
   },
   "outputs": [
    {
     "data": {
      "text/plain": [
       "[<h3>\\n            <div><span>Taylor</span></div>\\n            <div><span>Carlson</span></div>\\n          </h3>]"
      ]
     },
     "execution_count": 48,
     "metadata": {},
     "output_type": "execute_result"
    }
   ],
   "source": [
    "taylor.find_all('h3')\n",
    "# taylor.find('h3').text"
   ]
  },
  {
   "cell_type": "markdown",
   "metadata": {
    "editable": true,
    "slideshow": {
     "slide_type": "subslide"
    },
    "tags": []
   },
   "source": [
    "4. Check the contents contained within this `<a>` tag for Prof. Carlson. \n",
    "Notice that this is basically the same output as above, but without the `<a></a>` tags. So it is returning everything nested within the 'a' tag."
   ]
  },
  {
   "cell_type": "code",
   "execution_count": 49,
   "metadata": {
    "editable": true,
    "slideshow": {
     "slide_type": "fragment"
    },
    "tags": []
   },
   "outputs": [
    {
     "data": {
      "text/plain": [
       "['\\\\n      ',\n",
       " <article class=\"faculty-post\">\\n        <div class=\"image\">\\n                        <img alt=\"Taylor Carlson\" height=\"320\" loading=\"lazy\" sizes=\"(max-width:480px) 85vw, 290px\" src=\"/sites/polisci.wustl.edu/files/styles/square_1_1_320w/public/PoliSci_Carlson_T_P1322772_0.jpg.webp\" srcset=\"https://polisci.wustl.edu/sites/polisci.wustl.edu/files/styles/square_1_1_190w/public/PoliSci_Carlson_T_P1322772_0.jpg.webp 190w, https://polisci.wustl.edu/sites/polisci.wustl.edu/files/styles/square_1_1_320w/public/PoliSci_Carlson_T_P1322772_0.jpg.webp 320w, https://polisci.wustl.edu/sites/polisci.wustl.edu/files/styles/square_1_1_480w/public/PoliSci_Carlson_T_P1322772_0.jpg.webp 480w\" width=\"320\"/>\\n\\n\\n                                <h3>\\n            <div><span>Taylor</span></div>\\n            <div><span>Carlson</span></div>\\n          </h3>\\n        </div>\\n        <div class=\"dept\">\\n                                Director of Graduate Studies Political Science\\n                                  Associate Professor of Political Science<br>\\r\\nWeidenbaum Center Director of Survey Research\\n                  </br></div>\\n      </article>,\n",
       " '\\\\n    ']"
      ]
     },
     "execution_count": 49,
     "metadata": {},
     "output_type": "execute_result"
    }
   ],
   "source": [
    "taylor.contents"
   ]
  },
  {
   "cell_type": "markdown",
   "metadata": {
    "editable": true,
    "slideshow": {
     "slide_type": "subslide"
    },
    "tags": []
   },
   "source": [
    "* This is an iterator\n",
    "* Remember: iterators are objects that we access with loops"
   ]
  },
  {
   "cell_type": "code",
   "execution_count": 51,
   "metadata": {
    "editable": true,
    "slideshow": {
     "slide_type": "fragment"
    },
    "tags": []
   },
   "outputs": [
    {
     "data": {
      "text/plain": [
       "<generator object Tag.children.<locals>.<genexpr> at 0x105e4ac80>"
      ]
     },
     "execution_count": 51,
     "metadata": {},
     "output_type": "execute_result"
    }
   ],
   "source": [
    "taylor.children"
   ]
  },
  {
   "cell_type": "markdown",
   "metadata": {
    "editable": true,
    "slideshow": {
     "slide_type": "fragment"
    },
    "tags": []
   },
   "source": [
    "5. Print all nested elements within 'taylor'"
   ]
  },
  {
   "cell_type": "code",
   "execution_count": 52,
   "metadata": {
    "editable": true,
    "slideshow": {
     "slide_type": "fragment"
    },
    "tags": []
   },
   "outputs": [
    {
     "name": "stdout",
     "output_type": "stream",
     "text": [
      "Child 0: \\n       \n",
      "\n",
      "Child 1: <article class=\"faculty-post\">\\n        <div class=\"image\">\\n                        <img alt=\"Taylor Carlson\" height=\"320\" loading=\"lazy\" sizes=\"(max-width:480px) 85vw, 290px\" src=\"/sites/polisci.wustl.edu/files/styles/square_1_1_320w/public/PoliSci_Carlson_T_P1322772_0.jpg.webp\" srcset=\"https://polisci.wustl.edu/sites/polisci.wustl.edu/files/styles/square_1_1_190w/public/PoliSci_Carlson_T_P1322772_0.jpg.webp 190w, https://polisci.wustl.edu/sites/polisci.wustl.edu/files/styles/square_1_1_320w/public/PoliSci_Carlson_T_P1322772_0.jpg.webp 320w, https://polisci.wustl.edu/sites/polisci.wustl.edu/files/styles/square_1_1_480w/public/PoliSci_Carlson_T_P1322772_0.jpg.webp 480w\" width=\"320\"/>\\n\\n\\n                                <h3>\\n            <div><span>Taylor</span></div>\\n            <div><span>Carlson</span></div>\\n          </h3>\\n        </div>\\n        <div class=\"dept\">\\n                                Director of Graduate Studies Political Science\\n                                  Associate Professor of Political Science<br>\\r\\nWeidenbaum Center Director of Survey Research\\n                  </br></div>\\n      </article> \n",
      "\n",
      "Child 2: \\n     \n",
      "\n"
     ]
    }
   ],
   "source": [
    "# there is only one child element in this case\n",
    "for i, child in enumerate(taylor.children):\n",
    "    print(\"Child %d: %s\" % (i,child), '\\n') "
   ]
  },
  {
   "cell_type": "markdown",
   "metadata": {
    "editable": true,
    "slideshow": {
     "slide_type": "subslide"
    },
    "tags": []
   },
   "source": [
    "##### Let's now look at sibling tags of `taylor`"
   ]
  },
  {
   "cell_type": "code",
   "execution_count": 53,
   "metadata": {
    "editable": true,
    "slideshow": {
     "slide_type": "fragment"
    },
    "tags": []
   },
   "outputs": [],
   "source": [
    "# Siblings (Example):\n",
    "\n",
    "# <html>\n",
    "#   <body>\n",
    "#       <a>\n",
    "#         <b>\n",
    "#          text1\n",
    "#         </b>\n",
    "#         <c>\n",
    "#          text2\n",
    "#         </c>\n",
    "#       </a>\n",
    "#   </body>\n",
    "# </html>\n",
    "\n",
    "\n",
    "# Which two tags are on the same level? "
   ]
  },
  {
   "cell_type": "markdown",
   "metadata": {
    "editable": true,
    "slideshow": {
     "slide_type": "subslide"
    },
    "tags": []
   },
   "source": [
    "* See siblings *after* `taylor` in the sequence of `<a>` tags"
   ]
  },
  {
   "cell_type": "code",
   "execution_count": 54,
   "metadata": {},
   "outputs": [
    {
     "name": "stdout",
     "output_type": "stream",
     "text": [
      "a View David Carter /people/david-carter\n",
      "a View Zeynep Ceren Topac /people/zeynep-ceren-topac\n"
     ]
    }
   ],
   "source": [
    "from bs4 import NavigableString\n",
    "\n",
    "\n",
    "siblings = [s for s in taylor.next_siblings if not isinstance(s, NavigableString)]\n",
    "for sib in siblings[:2]:\n",
    "    print(sib.name, sib.get(\"aria-label\"), sib.get(\"href\"))"
   ]
  },
  {
   "cell_type": "markdown",
   "metadata": {
    "editable": true,
    "slideshow": {
     "slide_type": "subslide"
    },
    "tags": []
   },
   "source": [
    "* Or see siblings *before* `taylor` in the sequence of `<a>` tags"
   ]
  },
  {
   "cell_type": "code",
   "execution_count": 55,
   "metadata": {},
   "outputs": [
    {
     "name": "stdout",
     "output_type": "stream",
     "text": [
      "a View Daniel  Butler /people/daniel-butler\n",
      "a View Christina L. Boyd /people/christina-l-boyd\n"
     ]
    }
   ],
   "source": [
    "siblings2 = [s for s in taylor.previous_siblings if not isinstance(s, NavigableString)]\n",
    "for sib in [siblings2[3], siblings2[5]]:\n",
    "    print(sib.name, sib.get(\"aria-label\"), sib.get(\"href\"))"
   ]
  },
  {
   "cell_type": "markdown",
   "metadata": {
    "editable": true,
    "slideshow": {
     "slide_type": "slide"
    },
    "tags": []
   },
   "source": [
    "#### 1.4 Crawler Detection"
   ]
  },
  {
   "cell_type": "markdown",
   "metadata": {
    "editable": true,
    "slideshow": {
     "slide_type": ""
    },
    "tags": []
   },
   "source": [
    "##### Crawlers are incredibly fast, but also easier to detect and block. "
   ]
  },
  {
   "cell_type": "markdown",
   "metadata": {
    "editable": true,
    "slideshow": {
     "slide_type": "fragment"
    },
    "tags": []
   },
   "source": [
    "You can incorporate some pauses to avoid detection. Strategies include: \n",
    "\n",
    "1. Using a random number generator to sleep for a random number of seconds\n",
    "2. After each iteration, sleep for a fixed number of seconds"
   ]
  },
  {
   "cell_type": "markdown",
   "metadata": {
    "editable": true,
    "slideshow": {
     "slide_type": "subslide"
    },
    "tags": []
   },
   "source": [
    "##### Import module `random` to generate random numbers, and module `time` to control the pauses in your code"
   ]
  },
  {
   "cell_type": "markdown",
   "metadata": {
    "editable": true,
    "slideshow": {
     "slide_type": "fragment"
    },
    "tags": []
   },
   "source": [
    "* Random-second pause approach"
   ]
  },
  {
   "cell_type": "code",
   "execution_count": 56,
   "metadata": {
    "editable": true,
    "slideshow": {
     "slide_type": "fragment"
    },
    "tags": []
   },
   "outputs": [
    {
     "name": "stdout",
     "output_type": "stream",
     "text": [
      "Pause Ended\n"
     ]
    }
   ],
   "source": [
    "import random\n",
    "import time\n",
    "\n",
    "# Script will pause for n seconds\n",
    "time.sleep(random.uniform(1, 5))\n",
    "print('Pause Ended')"
   ]
  },
  {
   "cell_type": "markdown",
   "metadata": {
    "editable": true,
    "slideshow": {
     "slide_type": "fragment"
    },
    "tags": []
   },
   "source": [
    "* Fixed-second pause approach"
   ]
  },
  {
   "cell_type": "code",
   "execution_count": 57,
   "metadata": {
    "editable": true,
    "slideshow": {
     "slide_type": "fragment"
    },
    "tags": []
   },
   "outputs": [
    {
     "name": "stdout",
     "output_type": "stream",
     "text": [
      "done\n"
     ]
    }
   ],
   "source": [
    "time.sleep(5)\n",
    "print('done')"
   ]
  },
  {
   "cell_type": "markdown",
   "metadata": {
    "editable": true,
    "slideshow": {
     "slide_type": "slide"
    },
    "tags": []
   },
   "source": [
    "#### 1.5 Remote Drivers"
   ]
  },
  {
   "cell_type": "markdown",
   "metadata": {
    "editable": true,
    "slideshow": {
     "slide_type": "fragment"
    },
    "tags": []
   },
   "source": [
    "##### Selenium is a “remote driver” of your favorite browser. "
   ]
  },
  {
   "cell_type": "markdown",
   "metadata": {
    "editable": true,
    "slideshow": {
     "slide_type": "fragment"
    },
    "tags": []
   },
   "source": [
    "* You can pretty much simulate behavior of a human “surfing the web”. \n",
    "* With the right tricks, the likelihood of tracking and blocking your “bot” decreases.\n",
    "* It also offers flexibility in terms of “unknown” items: you can even look by name of buttons in the page. "
   ]
  },
  {
   "cell_type": "markdown",
   "metadata": {
    "editable": true,
    "slideshow": {
     "slide_type": "fragment"
    },
    "tags": []
   },
   "source": [
    "##### There are some downsides though...\n",
    "  - It is slower\n",
    "  - It is dependent on your internet connection quality"
   ]
  },
  {
   "cell_type": "markdown",
   "metadata": {
    "editable": true,
    "slideshow": {
     "slide_type": "subslide"
    },
    "tags": []
   },
   "source": [
    "##### Let's walk through an example using Selenium"
   ]
  },
  {
   "cell_type": "markdown",
   "metadata": {
    "editable": true,
    "slideshow": {
     "slide_type": "fragment"
    },
    "tags": []
   },
   "source": [
    "* If you haven't already, make sure to install `Selenium` by running\n",
    "    * `pip install selenium` in terminal or command line, or\n",
    "    * `!pip install selenium` in a Jupyter notebook cell\n",
    "\n",
    "download appropriate web driver from browser, e.g. https://chromedriver.chromium.org/downloads\n"
   ]
  },
  {
   "cell_type": "code",
   "execution_count": 58,
   "metadata": {
    "editable": true,
    "slideshow": {
     "slide_type": "fragment"
    },
    "tags": []
   },
   "outputs": [],
   "source": [
    "from selenium import webdriver\n",
    "from selenium.webdriver.chrome.options import Options\n",
    "from selenium.webdriver.chrome.service import Service\n",
    "from selenium.webdriver.common.keys import Keys"
   ]
  },
  {
   "cell_type": "markdown",
   "metadata": {
    "editable": true,
    "slideshow": {
     "slide_type": "subslide"
    },
    "tags": []
   },
   "source": [
    "1. Give the path to your driver."
   ]
  },
  {
   "cell_type": "code",
   "execution_count": 59,
   "metadata": {
    "editable": true,
    "slideshow": {
     "slide_type": ""
    },
    "tags": []
   },
   "outputs": [],
   "source": [
    "import os"
   ]
  },
  {
   "cell_type": "code",
   "execution_count": 60,
   "metadata": {
    "editable": true,
    "slideshow": {
     "slide_type": ""
    },
    "tags": []
   },
   "outputs": [
    {
     "data": {
      "text/plain": [
       "'/Users/claro/Desktop/PythonCamp2025/Day02/Day02_Part02/Lecture'"
      ]
     },
     "execution_count": 60,
     "metadata": {},
     "output_type": "execute_result"
    }
   ],
   "source": [
    "os.getcwd()"
   ]
  },
  {
   "cell_type": "code",
   "execution_count": 61,
   "metadata": {
    "editable": true,
    "slideshow": {
     "slide_type": "fragment"
    },
    "tags": []
   },
   "outputs": [],
   "source": [
    "# # Interactive example:\n",
    "# driver_path = Service('/Users/almavelazquez/Documents/GitHub/PythonCamp2024/Day04/Lecture/chromedriver')\n",
    "# # if on Windows, may need to add '.exe' at the end of path\n",
    "# driver = webdriver.Chrome(service = driver_path)\n",
    "\n",
    "import time \n",
    "driver = webdriver.Chrome()"
   ]
  },
  {
   "cell_type": "markdown",
   "metadata": {
    "editable": true,
    "slideshow": {
     "slide_type": "fragment"
    },
    "tags": []
   },
   "source": [
    "2. Start the web driver"
   ]
  },
  {
   "cell_type": "code",
   "execution_count": 62,
   "metadata": {
    "editable": true,
    "slideshow": {
     "slide_type": "fragment"
    },
    "tags": []
   },
   "outputs": [],
   "source": [
    "driver.get('https://www.google.com')\n",
    "time.sleep(2) "
   ]
  },
  {
   "cell_type": "markdown",
   "metadata": {
    "editable": true,
    "slideshow": {
     "slide_type": "subslide"
    },
    "tags": []
   },
   "source": [
    "3. Find the search element and enter text"
   ]
  },
  {
   "cell_type": "code",
   "execution_count": 63,
   "metadata": {
    "editable": true,
    "slideshow": {
     "slide_type": "fragment"
    },
    "tags": []
   },
   "outputs": [],
   "source": [
    "search = driver.find_element(\"name\", \"q\")\n",
    "search.send_keys('WUSTL Political Science')\n",
    "time.sleep(2)\n",
    "# just go to the target site: https://polisci.wustl.edu/people/ \n",
    "# or use bing (less stricter)\n",
    "# or use google custom search \n",
    "# or.. at the risk of being blocked you could use undetected-chromedriver"
   ]
  },
  {
   "cell_type": "markdown",
   "metadata": {
    "editable": true,
    "slideshow": {
     "slide_type": "fragment"
    },
    "tags": []
   },
   "source": [
    "4. press Enter / Return (simulate this action using your driver)"
   ]
  },
  {
   "cell_type": "code",
   "execution_count": 64,
   "metadata": {
    "editable": true,
    "slideshow": {
     "slide_type": "fragment"
    },
    "tags": []
   },
   "outputs": [],
   "source": [
    "search.submit()\n",
    "time.sleep(4) "
   ]
  },
  {
   "cell_type": "markdown",
   "metadata": {
    "editable": true,
    "slideshow": {
     "slide_type": "fragment"
    },
    "tags": []
   },
   "source": [
    "5. Close the browser (make sure to always close your browser after web scraping)"
   ]
  },
  {
   "cell_type": "code",
   "execution_count": 65,
   "metadata": {
    "editable": true,
    "slideshow": {
     "slide_type": "fragment"
    },
    "tags": []
   },
   "outputs": [],
   "source": [
    "driver.close()"
   ]
  },
  {
   "cell_type": "markdown",
   "metadata": {
    "editable": true,
    "slideshow": {
     "slide_type": "subslide"
    },
    "tags": []
   },
   "source": [
    "##### Scraping Tips\n",
    "- Google Chrome is better to track nodes and page sources\n",
    "- Inspect the source and get to know your document/website!\n",
    "- Selenium—Use the ’Copy Xpath’ command if you’re having troubles (Find it in \"Inspect\" in Google Chrome)\n",
    "- Use time breaks to avoid being blocked and be polite\n",
    "- Check the Terms of Service (whether you obey them or not). Please don't get sued. \n",
    "\n",
    "\n",
    "##### More on Selenium: https://selenium-python.readthedocs.io/locating-elements.html"
   ]
  },
  {
   "cell_type": "markdown",
   "metadata": {
    "editable": true,
    "slideshow": {
     "slide_type": "slide"
    },
    "tags": []
   },
   "source": [
    "### 2. Reading and Writing Files "
   ]
  },
  {
   "cell_type": "markdown",
   "metadata": {
    "editable": true,
    "slideshow": {
     "slide_type": "fragment"
    },
    "tags": []
   },
   "source": [
    "#### 2.1 Reading Files"
   ]
  },
  {
   "cell_type": "markdown",
   "metadata": {
    "editable": true,
    "slideshow": {
     "slide_type": "fragment"
    },
    "tags": []
   },
   "source": [
    "1. Import libraries"
   ]
  },
  {
   "cell_type": "code",
   "execution_count": 66,
   "metadata": {
    "editable": true,
    "slideshow": {
     "slide_type": "fragment"
    },
    "tags": []
   },
   "outputs": [],
   "source": [
    "import os"
   ]
  },
  {
   "cell_type": "markdown",
   "metadata": {
    "editable": true,
    "slideshow": {
     "slide_type": "fragment"
    },
    "tags": []
   },
   "source": [
    "2. View your working directory"
   ]
  },
  {
   "cell_type": "code",
   "execution_count": 67,
   "metadata": {
    "editable": true,
    "slideshow": {
     "slide_type": "fragment"
    },
    "tags": []
   },
   "outputs": [],
   "source": [
    "os.getcwd()\n",
    "import sys\n"
   ]
  },
  {
   "cell_type": "markdown",
   "metadata": {
    "editable": true,
    "slideshow": {
     "slide_type": "fragment"
    },
    "tags": []
   },
   "source": [
    "3. Set your working directory "
   ]
  },
  {
   "cell_type": "code",
   "execution_count": 291,
   "metadata": {
    "editable": true,
    "slideshow": {
     "slide_type": "fragment"
    },
    "tags": []
   },
   "outputs": [],
   "source": [
    "# os.chdir('/Users/almavelazquez/Documents/GitHub/PythonCamp2024/Day04/Lecture')"
   ]
  },
  {
   "cell_type": "markdown",
   "metadata": {
    "editable": true,
    "slideshow": {
     "slide_type": "subslide"
    },
    "tags": []
   },
   "source": [
    "4. Read lines from the file"
   ]
  },
  {
   "cell_type": "code",
   "execution_count": 68,
   "metadata": {
    "editable": true,
    "slideshow": {
     "slide_type": "fragment"
    },
    "tags": []
   },
   "outputs": [
    {
     "name": "stdout",
     "output_type": "stream",
     "text": [
      "Here is line 1.\n",
      "Here is line 2.\n",
      "This is the final line.\n"
     ]
    }
   ],
   "source": [
    "# Read all lines as one string\n",
    "with open('readfile.txt') as f:\n",
    "  the_whole_thing = f.read()\n",
    "  print(the_whole_thing)"
   ]
  },
  {
   "cell_type": "code",
   "execution_count": 69,
   "metadata": {
    "editable": true,
    "slideshow": {
     "slide_type": "fragment"
    },
    "tags": []
   },
   "outputs": [
    {
     "name": "stdout",
     "output_type": "stream",
     "text": [
      "Here is line 1.\n",
      "\n",
      "Here is line 2.\n",
      "\n",
      "This is the final line.\n"
     ]
    }
   ],
   "source": [
    "# Read line by line\n",
    "with open('readfile.txt') as f:\n",
    "  lines_list = f.readlines()\n",
    "  for l in lines_list:\n",
    "    print(l)"
   ]
  },
  {
   "cell_type": "code",
   "execution_count": 70,
   "metadata": {
    "editable": true,
    "slideshow": {
     "slide_type": "subslide"
    },
    "tags": []
   },
   "outputs": [
    {
     "name": "stdout",
     "output_type": "stream",
     "text": [
      "Here is line 1.\n",
      "\n",
      "Here is line 2.\n",
      "\n",
      "This is the final line.\n"
     ]
    }
   ],
   "source": [
    "# More efficiently, we can loop over the file object (i.e. we don't need the variable lines)\n",
    "with open('readfile.txt') as f:   \n",
    "  for l in f:\n",
    "    print(l)"
   ]
  },
  {
   "cell_type": "code",
   "execution_count": 71,
   "metadata": {
    "editable": true,
    "slideshow": {
     "slide_type": "fragment"
    },
    "tags": []
   },
   "outputs": [
    {
     "name": "stdout",
     "output_type": "stream",
     "text": [
      "Here is line 1.\n",
      "Here is line 2.\n",
      "This is the final line.\n"
     ]
    }
   ],
   "source": [
    "# We can also manually open and close files\n",
    "# I never do this\n",
    "f =  open('readfile.txt')\n",
    "print(f.read())\n",
    "f.close()"
   ]
  },
  {
   "cell_type": "markdown",
   "metadata": {
    "editable": true,
    "slideshow": {
     "slide_type": "subslide"
    },
    "tags": []
   },
   "source": [
    "Tips: \n",
    "- Try to minimize the number of times you open and close flies\n",
    "- It is very expensive and consumes limited resources --> if too many, it leads to errors \n",
    "\n",
    "_Source: https://www.geeksforgeeks.org/context-manager-in-python/_\n"
   ]
  },
  {
   "cell_type": "code",
   "execution_count": 72,
   "metadata": {
    "editable": true,
    "slideshow": {
     "slide_type": "skip"
    },
    "tags": []
   },
   "outputs": [],
   "source": [
    "# file_descriptors = [] \n",
    "# for x in range(100000000000): \n",
    "#     file_descriptors.append(open('readfile.txt')) "
   ]
  },
  {
   "cell_type": "markdown",
   "metadata": {
    "editable": true,
    "slideshow": {
     "slide_type": "slide"
    },
    "tags": []
   },
   "source": [
    "#### 2.2 Writing Files"
   ]
  },
  {
   "cell_type": "markdown",
   "metadata": {
    "editable": true,
    "slideshow": {
     "slide_type": "fragment"
    },
    "tags": []
   },
   "source": [
    "1. Writing files is easy, but be careful not to overwrite the content you actually want\n",
    "2. See https://stackabuse.com/file-handling-in-python/ for more options"
   ]
  },
  {
   "cell_type": "markdown",
   "metadata": {
    "editable": true,
    "slideshow": {
     "slide_type": "fragment"
    },
    "tags": []
   },
   "source": [
    "* We need to use the option 'w'"
   ]
  },
  {
   "cell_type": "code",
   "execution_count": 73,
   "metadata": {
    "editable": true,
    "slideshow": {
     "slide_type": "fragment"
    },
    "tags": []
   },
   "outputs": [],
   "source": [
    "with open('test_writefile.txt', 'w') as f:\n",
    "  ## wipes the file clean and opens it\n",
    "  f.write(\"Hi guys.\")\n",
    "  f.write(\"Does this go on the second line?\")\n",
    "  f.writelines(['a\\n', 'b\\n', 'c\\n'])"
   ]
  },
  {
   "cell_type": "code",
   "execution_count": 74,
   "metadata": {
    "editable": true,
    "slideshow": {
     "slide_type": ""
    },
    "tags": []
   },
   "outputs": [],
   "source": [
    "# We use 'a' to append new information to it\n",
    "with open('test_writefile.txt', 'a') as f:\n",
    "  f.write(\"I got appended!\")"
   ]
  },
  {
   "cell_type": "markdown",
   "metadata": {
    "editable": true,
    "slideshow": {
     "slide_type": "subslide"
    },
    "tags": []
   },
   "source": [
    "##### Writing CSV files (pre-pandas)"
   ]
  },
  {
   "cell_type": "markdown",
   "metadata": {
    "editable": true,
    "slideshow": {
     "slide_type": "fragment"
    },
    "tags": []
   },
   "source": [
    "1. Import csv"
   ]
  },
  {
   "cell_type": "code",
   "execution_count": 75,
   "metadata": {
    "editable": true,
    "slideshow": {
     "slide_type": "fragment"
    },
    "tags": []
   },
   "outputs": [],
   "source": [
    "import csv"
   ]
  },
  {
   "cell_type": "markdown",
   "metadata": {
    "editable": true,
    "slideshow": {
     "slide_type": "fragment"
    },
    "tags": []
   },
   "source": [
    "2. Open a file stream and create a `csv` writer object"
   ]
  },
  {
   "cell_type": "code",
   "execution_count": 76,
   "metadata": {
    "editable": true,
    "slideshow": {
     "slide_type": "fragment"
    },
    "tags": []
   },
   "outputs": [],
   "source": [
    "# Open a file stream and create a CSV writer object\n",
    "with open('test_writecsv.csv', 'w') as f:\n",
    "  my_writer = csv.writer(f)\n",
    "  for i in range(1, 100):\n",
    "    my_writer.writerow([i, i-1])"
   ]
  },
  {
   "cell_type": "markdown",
   "metadata": {
    "editable": true,
    "slideshow": {
     "slide_type": "subslide"
    },
    "tags": []
   },
   "source": [
    "3. Now read the `csv` file"
   ]
  },
  {
   "cell_type": "code",
   "execution_count": 77,
   "metadata": {
    "editable": true,
    "scrolled": true,
    "slideshow": {
     "slide_type": "fragment"
    },
    "tags": []
   },
   "outputs": [
    {
     "name": "stdout",
     "output_type": "stream",
     "text": [
      "['1', '0'] \n",
      " ['2', '1'] \n",
      " ['3', '2'] \n",
      " ['4', '3']\n"
     ]
    }
   ],
   "source": [
    "with open('test_writecsv.csv', 'r') as f:\n",
    "  my_reader = csv.reader(f)\n",
    "  mydat = []\n",
    "  for row in my_reader:\n",
    "    mydat.append(row)\n",
    "print(mydat[0],\"\\n\", mydat[1],\"\\n\", mydat[2],\"\\n\", mydat[3])"
   ]
  },
  {
   "cell_type": "markdown",
   "metadata": {
    "editable": true,
    "slideshow": {
     "slide_type": "fragment"
    },
    "tags": []
   },
   "source": [
    "4. Add column names "
   ]
  },
  {
   "cell_type": "code",
   "execution_count": 78,
   "metadata": {
    "editable": true,
    "slideshow": {
     "slide_type": "fragment"
    },
    "tags": []
   },
   "outputs": [],
   "source": [
    "# Note that we are writing a new file\n",
    "with open('test_csvfields.csv', 'w') as f:\n",
    "  my_writer = csv.DictWriter(f, fieldnames = (\"A\", \"B\"))\n",
    "  my_writer.writeheader()\n",
    "  for i in range(1, 100):\n",
    "    my_writer.writerow({\"B\":i, \"A\":i-1})"
   ]
  },
  {
   "cell_type": "markdown",
   "metadata": {
    "editable": true,
    "slideshow": {
     "slide_type": "subslide"
    },
    "tags": []
   },
   "source": [
    "5. Read the new file"
   ]
  },
  {
   "cell_type": "code",
   "execution_count": 79,
   "metadata": {
    "editable": true,
    "scrolled": true,
    "slideshow": {
     "slide_type": "fragment"
    },
    "tags": []
   },
   "outputs": [
    {
     "name": "stdout",
     "output_type": "stream",
     "text": [
      "{'A': '0', 'B': '1'}\n",
      "{'A': '1', 'B': '2'}\n",
      "{'A': '2', 'B': '3'}\n",
      "{'A': '3', 'B': '4'}\n",
      "{'A': '4', 'B': '5'}\n"
     ]
    }
   ],
   "source": [
    "b = 0\n",
    "with open('test_csvfields.csv', 'r') as f:\n",
    "  my_reader = csv.DictReader(f)\n",
    "  for row in my_reader:\n",
    "      if b<5:\n",
    "          print(row)\n",
    "          b +=1"
   ]
  },
  {
   "cell_type": "markdown",
   "metadata": {
    "editable": true,
    "slideshow": {
     "slide_type": "subslide"
    },
    "tags": []
   },
   "source": [
    "##### Some Tips"
   ]
  },
  {
   "cell_type": "markdown",
   "metadata": {
    "editable": true,
    "slideshow": {
     "slide_type": "fragment"
    },
    "tags": []
   },
   "source": [
    "- Tip 1: We may find useful to save webpages for collecting data (to `.html` files)"
   ]
  },
  {
   "cell_type": "code",
   "execution_count": 80,
   "metadata": {
    "editable": true,
    "slideshow": {
     "slide_type": "fragment"
    },
    "tags": []
   },
   "outputs": [],
   "source": [
    "import os"
   ]
  },
  {
   "cell_type": "code",
   "execution_count": 82,
   "metadata": {},
   "outputs": [
    {
     "name": "stdout",
     "output_type": "stream",
     "text": [
      "Saved -> polisci_ppl.html\n"
     ]
    }
   ],
   "source": [
    "import requests, time, random, os\n",
    "\n",
    "def download_page(address, filename, wait=5):\n",
    "    time.sleep(random.uniform(0, wait))\n",
    "    headers = {\"User-Agent\": \"Mozilla/5.0 Chrome/124 Safari/537.36\"}\n",
    "    r = requests.get(address, headers=headers)\n",
    "    r.raise_for_status()  # throw if error (e.g., 503)\n",
    "    \n",
    "    if not os.path.exists(filename):\n",
    "        with open(filename, \"wb\") as f:\n",
    "            f.write(r.content)\n",
    "        print(f\"Saved -> {filename}\")\n",
    "    else:\n",
    "        print(\"Can't overwrite file \" + filename)\n",
    "\n",
    "download_page(\"https://polisci.wustl.edu/people\", \"polisci_ppl.html\")\n"
   ]
  },
  {
   "cell_type": "code",
   "execution_count": 84,
   "metadata": {},
   "outputs": [
    {
     "name": "stdout",
     "output_type": "stream",
     "text": [
      "Can't overwrite file polisci_ppl.html\n"
     ]
    }
   ],
   "source": [
    "import requests, time, random, os\n",
    "\n",
    "def download_page(address, filename, wait=5):\n",
    "    time.sleep(random.uniform(0, wait))\n",
    "    headers = {\"User-Agent\": \"Mozilla/5.0 Chrome/124 Safari/537.36\"}\n",
    "    r = requests.get(address, headers=headers)\n",
    "    r.raise_for_status()  # throw if error (e.g., 503)\n",
    "    if not os.path.exists(filename):\n",
    "        with open(filename, \"wb\") as f:\n",
    "            f.write(r.content)\n",
    "        print(f\"Saved -> {filename}\")\n",
    "    else:\n",
    "        print(\"Can't overwrite file \" + filename)\n",
    "\n",
    "download_page(\"https://polisci.wustl.edu/people\", \"polisci_ppl.html\")"
   ]
  },
  {
   "cell_type": "code",
   "execution_count": null,
   "metadata": {
    "editable": true,
    "slideshow": {
     "slide_type": "fragment"
    },
    "tags": []
   },
   "outputs": [],
   "source": [
    "#def download_page(address, filename, wait = 5):\n",
    "#  time.sleep(random.uniform(0,wait))\n",
    "  \n",
    " # page = urllib.request.urlopen(address)\n",
    "  #page_content = page.read()\n",
    "  #if os.path.exists(filename) == False:\n",
    "  #  with open(filename, 'w') as p_html:\n",
    "  #    p_html.write(str(page_content)) # needed to cast as string\n",
    "  #else:\n",
    "  #  print(\"Can't overwrite file \" + filename)\n",
    "\n",
    "#download_page('https://polisci.wustl.edu/people', \"polisci_ppl.html\")"
   ]
  },
  {
   "cell_type": "markdown",
   "metadata": {
    "editable": true,
    "slideshow": {
     "slide_type": "subslide"
    },
    "tags": []
   },
   "source": [
    "Then, we can parse a page that is already saved on your computer even without access to internet. "
   ]
  },
  {
   "cell_type": "code",
   "execution_count": 85,
   "metadata": {
    "editable": true,
    "scrolled": true,
    "slideshow": {
     "slide_type": "fragment"
    },
    "tags": []
   },
   "outputs": [],
   "source": [
    "with open('polisci_ppl.html') as f:\n",
    "  myfile = f.read()\n",
    "  soup = BeautifulSoup(myfile)\n",
    "# soup.prettify()"
   ]
  },
  {
   "cell_type": "markdown",
   "metadata": {
    "editable": true,
    "slideshow": {
     "slide_type": "fragment"
    },
    "tags": []
   },
   "source": [
    "- Tip 2: You may also write directly from a website to a `csv` file. This is good practice as it ensures a break 10 hours into the process does not erase all of your data. \n",
    "- Tip 3: Use Exception Handling techniques that we covered in Day03"
   ]
  },
  {
   "cell_type": "code",
   "execution_count": 308,
   "metadata": {
    "editable": true,
    "slideshow": {
     "slide_type": "skip"
    },
    "tags": []
   },
   "outputs": [],
   "source": [
    "# Copyright of the original version:\n",
    "\n",
    "# Copyright (c) 2014 Matt Dickenson\n",
    "# \n",
    "# Permission is hereby granted, free of charge, to any person obtaining a copy\n",
    "# of this software and associated documentation files (the \"Software\"), to deal\n",
    "# in the Software without restriction, including without limitation the rights\n",
    "# to use, copy, modify, merge, publish, distribute, sublicense, and/or sell\n",
    "# copies of the Software, and to permit persons to whom the Software is\n",
    "# furnished to do so, subject to the following conditions:\n",
    "# \n",
    "# The above copyright notice and this permission notice shall be included in all\n",
    "# copies or substantial portions of the Software.\n",
    "# \n",
    "# THE SOFTWARE IS PROVIDED \"AS IS\", WITHOUT WARRANTY OF ANY KIND, EXPRESS OR\n",
    "# IMPLIED, INCLUDING BUT NOT LIMITED TO THE WARRANTIES OF MERCHANTABILITY,\n",
    "# FITNESS FOR A PARTICULAR PURPOSE AND NONINFRINGEMENT. IN NO EVENT SHALL THE\n",
    "# AUTHORS OR COPYRIGHT HOLDERS BE LIABLE FOR ANY CLAIM, DAMAGES OR OTHER\n",
    "# LIABILITY, WHETHER IN AN ACTION OF CONTRACT, TORT OR OTHERWISE, ARISING FROM,\n",
    "# OUT OF OR IN CONNECTION WITH THE SOFTWARE OR THE USE OR OTHER DEALINGS IN THE\n",
    "# SOFTWARE."
   ]
  }
 ],
 "metadata": {
  "kernelspec": {
   "display_name": "Python 3",
   "language": "python",
   "name": "python3"
  },
  "language_info": {
   "codemirror_mode": {
    "name": "ipython",
    "version": 3
   },
   "file_extension": ".py",
   "mimetype": "text/x-python",
   "name": "python",
   "nbconvert_exporter": "python",
   "pygments_lexer": "ipython3",
   "version": "3.13.6"
  }
 },
 "nbformat": 4,
 "nbformat_minor": 4
}
