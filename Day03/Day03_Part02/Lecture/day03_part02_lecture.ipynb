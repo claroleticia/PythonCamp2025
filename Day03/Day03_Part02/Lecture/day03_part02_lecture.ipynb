{
 "cells": [
  {
   "cell_type": "markdown",
   "metadata": {
    "editable": true,
    "slideshow": {
     "slide_type": "slide"
    },
    "tags": []
   },
   "source": [
    "# Regular Expressions and Naive Bayes Classification"
   ]
  },
  {
   "cell_type": "markdown",
   "metadata": {
    "editable": true,
    "slideshow": {
     "slide_type": "slide"
    },
    "tags": []
   },
   "source": [
    "### 1. Regular Expressions"
   ]
  },
  {
   "cell_type": "markdown",
   "metadata": {
    "editable": true,
    "slideshow": {
     "slide_type": "fragment"
    },
    "tags": []
   },
   "source": [
    "- Regular expressions are useful for extracting information from text.\n",
    "- Set of “rules” to identify or match a particular sequence of characters.\n",
    "- Most text in utf-8 or utf-16: letters, digits, punctuation and symbols\n",
    "- In Python, mainly through library `re`"
   ]
  },
  {
   "cell_type": "code",
   "execution_count": null,
   "metadata": {
    "editable": true,
    "slideshow": {
     "slide_type": "fragment"
    },
    "tags": []
   },
   "outputs": [],
   "source": [
    "# Set Directory\n",
    "import os\n",
    "# os.getcwd()\n",
    "# os.chdir('/Users/almavelazquez/Documents/GitHub/PythonCamp2024/Day06/Lecture')"
   ]
  },
  {
   "cell_type": "code",
   "execution_count": 1,
   "metadata": {
    "editable": true,
    "slideshow": {
     "slide_type": "fragment"
    },
    "tags": []
   },
   "outputs": [],
   "source": [
    "# For regular expressions\n",
    "import re "
   ]
  },
  {
   "cell_type": "markdown",
   "metadata": {
    "editable": true,
    "slideshow": {
     "slide_type": "subslide"
    },
    "tags": []
   },
   "source": [
    "* As a demonstration, we will work with Obama's 2008 concession speech from New Hampshire primary.\n",
    "* Read in the sample text, and remember:\n",
    "    * `readlines` makes a list of each line break in file"
   ]
  },
  {
   "cell_type": "code",
   "execution_count": 2,
   "metadata": {
    "editable": true,
    "slideshow": {
     "slide_type": "fragment"
    },
    "tags": []
   },
   "outputs": [],
   "source": [
    "with open(\"obama-nh.txt\", \"r\") as f:\n",
    "  text = f.readlines()"
   ]
  },
  {
   "cell_type": "markdown",
   "metadata": {
    "editable": true,
    "slideshow": {
     "slide_type": "fragment"
    },
    "tags": []
   },
   "source": [
    "* Let's take a look at how this file is structured "
   ]
  },
  {
   "cell_type": "code",
   "execution_count": 3,
   "metadata": {
    "editable": true,
    "slideshow": {
     "slide_type": "fragment"
    },
    "tags": []
   },
   "outputs": [
    {
     "name": "stdout",
     "output_type": "stream",
     "text": [
      "I want to congratulate Senator Clinton on a hard-fought victory here in\n",
      "\n",
      "New Hampshire.\n",
      "\n",
      "\n",
      "\n",
      "['I want to congratulate Senator Clinton on a hard-fought victory here in\\n', 'New Hampshire.\\n', '\\n']\n"
     ]
    }
   ],
   "source": [
    "print(text[0])\n",
    "print(text[1])\n",
    "print(text[2])\n",
    "\n",
    "print(text[0:3])"
   ]
  },
  {
   "cell_type": "markdown",
   "metadata": {
    "editable": true,
    "slideshow": {
     "slide_type": "subslide"
    },
    "tags": []
   },
   "source": [
    "* We can also join all lines into one string"
   ]
  },
  {
   "cell_type": "code",
   "execution_count": 4,
   "metadata": {
    "editable": true,
    "slideshow": {
     "slide_type": "fragment"
    },
    "tags": []
   },
   "outputs": [],
   "source": [
    "alltext = ''.join(text) "
   ]
  },
  {
   "cell_type": "markdown",
   "metadata": {
    "editable": true,
    "slideshow": {
     "slide_type": "fragment"
    },
    "tags": []
   },
   "source": [
    "* What could we have done at the outset instead?"
   ]
  },
  {
   "cell_type": "code",
   "execution_count": 5,
   "metadata": {
    "editable": true,
    "slideshow": {
     "slide_type": "fragment"
    },
    "tags": []
   },
   "outputs": [
    {
     "name": "stdout",
     "output_type": "stream",
     "text": [
      "I want to congratulate Senator Clinton on a hard-fought victory here in\n",
      "New Hampshire.\n",
      "\n",
      "A few weeks ago, no one imagined that we'd have accomplished what we did\n",
      "here tonight. For most of this campaign, we were far behind, and we\n",
      "always knew our climb would be steep. But in record numbers, you came\n",
      "out and spoke up for change. And with your voices and your votes, you\n",
      "made it clear that at this moment - in this election - there is\n",
      "something happening in America.\n",
      "\n",
      "There is something happening when men and women in Des Moines and\n",
      "Davenport; in Lebanon and Concord come out in the snows of January to\n",
      "wait in lines that stretch block after block because they believe in\n",
      "what this country can be.\n",
      "\n",
      "There is something happening when Americans who are young in age and in\n",
      "spirit - who have never before participated in politics - turn out in\n",
      "numbers we've never seen because they know in their hearts that this\n",
      "time must be different.\n",
      "\n",
      "There is something happening when people vote not just for the party\n",
      "they belong to but the hopes they hold in common - that whether we are\n",
      "rich or poor; black or white; Latino or Asian; whether we hail from Iowa\n",
      "or New Hampshire, Nevada or South Carolina, we are ready to take this\n",
      "country in a fundamentally new direction. That is what's happening in\n",
      "America right now. Change is what's happening in America.\n",
      "\n",
      "You can be the new majority who can lead this nation out of a long\n",
      "political darkness - Democrats, Independents and Republicans who are\n",
      "tired of the division and distraction that has clouded Washington; who\n",
      "know that we can disagree without being disagreeable; who understand\n",
      "that if we mobilize our voices to challenge the money and influence\n",
      "that's stood in our way and challenge ourselves to reach for something\n",
      "better, there's no problem we can't solve - no destiny we cannot\n",
      "fulfill.\n",
      "\n",
      "Our new American majority can end the outrage of unaffordable,\n",
      "unavailable health care in our time. We can bring doctors and patients;\n",
      "workers and businesses, Democrats and Republicans together; and we can\n",
      "tell the drug and insurance industry that while they'll get a seat at\n",
      "the table, they don't get to buy every chair. Not this time. Not\n",
      "now. Our new majority can end the tax breaks for corporations that ship\n",
      "our jobs overseas and put a middle-class tax cut into the pockets of the\n",
      "working Americans who deserve it.\n",
      "\n",
      "We can stop sending our children to schools with corridors of shame and\n",
      "start putting them on a pathway to success. We can stop talking about\n",
      "how great teachers are and start rewarding them for their greatness. We\n",
      "can do this with our new majority.\n",
      "\n",
      "We can harness the ingenuity of farmers and scientists; citizens and\n",
      "entrepreneurs to free this nation from the tyranny of oil and save our\n",
      "planet from a point of no return. And when I am President, we will end\n",
      "this war in Iraq and bring our troops home; we will finish the job\n",
      "against al Qaeda in Afghanistan; we will care for our veterans; we will\n",
      "restore our moral standing in the world; and we will never use 9/11 as a\n",
      "way to scare up votes, because it is not a tactic to win an election, it\n",
      "is a challenge that should unite America and the world against the\n",
      "common threats of the twenty-first century: terrorism and nuclear\n",
      "weapons; climate change and poverty; genocide and disease.\n",
      "\n",
      "All of the candidates in this race share these goals. All have good\n",
      "ideas. And all are patriots who serve this country honorably.\n",
      "\n",
      "But the reason our campaign has always been different is because it's\n",
      "not just about what I will do as President, it's also about what you,\n",
      "the people who love this country, can do to change it.\n",
      "\n",
      "That's why tonight belongs to you.\n",
      "\n",
      "It belongs to the organizers and the volunteers and the staff who\n",
      "believed in our improbable journey and rallied so many others to join.\n",
      "\n",
      "We know the battle ahead will be long, but always remember that no\n",
      "matter what obstacles stand in our way, nothing can withstand the power\n",
      "of millions of voices calling for change. We have been told we cannot do\n",
      "this by a chorus of cynics who will only grow louder and more dissonant\n",
      "in the weeks to come.\n",
      "\n",
      "We've been asked to pause for a reality check. We've been warned against\n",
      "offering the people of this nation false hope.\n",
      "\n",
      "But in the unlikely story that is America, there has never been anything\n",
      "false about hope. For when we have faced down impossible odds; when\n",
      "we've been told that we're not ready, or that we shouldn't try, or that\n",
      "we can't, generations of Americans have responded with a simple creed\n",
      "that sums up the spirit of a people.\n",
      "\n",
      "Yes we can.\n",
      "\n",
      "It was a creed written into the founding documents that declared the\n",
      "destiny of a nation.\n",
      "\n",
      "Yes we can.\n",
      "\n",
      "It was whispered by slaves and abolitionists as they blazed a trail\n",
      "toward freedom through the darkest of nights.\n",
      "\n",
      "Yes we can.\n",
      "\n",
      "It was sung by immigrants as they struck out from distant shores and\n",
      "pioneers who pushed westward against an unforgiving wilderness.\n",
      "\n",
      "Yes we can.\n",
      "\n",
      "It was the call of workers who organized; women who reached for the\n",
      "ballot; a President who chose the moon as our new frontier; and a King\n",
      "who took us to the mountaintop and pointed the way to the Promised Land.\n",
      "\n",
      "Yes we can to justice and equality. Yes we can to opportunity and\n",
      "prosperity. Yes we can heal this nation. Yes we can repair this\n",
      "world. Yes we can.\n",
      "\n",
      "And so tomorrow, as we take this campaign South and West; as we learn\n",
      "that the struggles of the textile worker in Spartanburg are not so\n",
      "different than the plight of the dishwasher in Las Vegas; that the hopes\n",
      "of the little girl who goes to a crumbling school in Dillon are the same\n",
      "as the dreams of the boy who learns on the streets of LA; we will\n",
      "remember that there is something happening in America; that we are not\n",
      "as divided as our politics suggests; that we are one people; we are one\n",
      "nation; and together, we will begin the next great chapter in America's\n",
      "story with three words that will ring from coast to coast; from sea to\n",
      "shining sea - Yes. We. Can.\n",
      "\\Backslash\n",
      "\n"
     ]
    }
   ],
   "source": [
    "with open(\"obama-nh.txt\", \"r\") as f:\n",
    "  alltext = f.read()\n",
    "  print(alltext)"
   ]
  },
  {
   "cell_type": "markdown",
   "metadata": {
    "editable": true,
    "jp-MarkdownHeadingCollapsed": true,
    "slideshow": {
     "slide_type": "slide"
    },
    "tags": []
   },
   "source": [
    "#### 1.1 Useful functions from the `re` module:"
   ]
  },
  {
   "cell_type": "markdown",
   "metadata": {
    "editable": true,
    "slideshow": {
     "slide_type": "fragment"
    },
    "tags": []
   },
   "source": [
    "- `re.findall`: Return all non-overlapping matches of pattern \n",
    "            in string, as a list of strings\n",
    "- `re.split`: Split string by the occurrences of pattern.\n",
    "- `re.match`: Search the beginning of the string for a\n",
    "          regular expression and return the first occurrence.\n",
    "          Returns a match object.\n",
    "- `re.search`: Like re.match, but will check all lines of the input string. (first match)\n",
    "- `re.compile`: Compile a regular expression pattern into a regular \n",
    "            expression object, which can be used for matching using\n",
    "            match(), search() and other methods\n",
    "\n",
    "Source: https://docs.python.org/3/library/re.html"
   ]
  },
  {
   "cell_type": "markdown",
   "metadata": {
    "editable": true,
    "slideshow": {
     "slide_type": "subslide"
    },
    "tags": []
   },
   "source": [
    "Let's run some examples!"
   ]
  },
  {
   "cell_type": "markdown",
   "metadata": {
    "editable": true,
    "slideshow": {
     "slide_type": "fragment"
    },
    "tags": []
   },
   "source": [
    "* Both lines find all instances of \"Yes we can\""
   ]
  },
  {
   "cell_type": "code",
   "execution_count": 6,
   "metadata": {
    "editable": true,
    "slideshow": {
     "slide_type": "fragment"
    },
    "tags": []
   },
   "outputs": [
    {
     "data": {
      "text/plain": [
       "['Yes we can',\n",
       " 'Yes we can',\n",
       " 'Yes we can',\n",
       " 'Yes we can',\n",
       " 'Yes we can',\n",
       " 'Yes we can',\n",
       " 'Yes we can',\n",
       " 'Yes we can',\n",
       " 'Yes we can']"
      ]
     },
     "execution_count": 6,
     "metadata": {},
     "output_type": "execute_result"
    }
   ],
   "source": [
    "# re.findall(pattern = \"Yes we can\", string= alltext) \n",
    "re.findall(\"Yes we can\", alltext) "
   ]
  },
  {
   "cell_type": "markdown",
   "metadata": {
    "editable": true,
    "slideshow": {
     "slide_type": "subslide"
    },
    "tags": []
   },
   "source": [
    "* Here we find all instances of \"American\""
   ]
  },
  {
   "cell_type": "code",
   "execution_count": 7,
   "metadata": {
    "editable": true,
    "slideshow": {
     "slide_type": "fragment"
    },
    "tags": []
   },
   "outputs": [
    {
     "data": {
      "text/plain": [
       "['American', 'American', 'American', 'American']"
      ]
     },
     "execution_count": 7,
     "metadata": {},
     "output_type": "execute_result"
    }
   ],
   "source": [
    "re.findall(\"American\", alltext)"
   ]
  },
  {
   "cell_type": "markdown",
   "metadata": {
    "editable": true,
    "slideshow": {
     "slide_type": "fragment"
    },
    "tags": []
   },
   "source": [
    "* ...And of all breaklines"
   ]
  },
  {
   "cell_type": "code",
   "execution_count": 8,
   "metadata": {
    "editable": true,
    "slideshow": {
     "slide_type": "fragment"
    },
    "tags": []
   },
   "outputs": [
    {
     "data": {
      "text/plain": [
       "['\\n', '\\n', '\\n', '\\n']"
      ]
     },
     "execution_count": 8,
     "metadata": {},
     "output_type": "execute_result"
    }
   ],
   "source": [
    "re.findall(\"\\n\", alltext)[0:4] #...but only print 4"
   ]
  },
  {
   "cell_type": "markdown",
   "metadata": {
    "editable": true,
    "slideshow": {
     "slide_type": "subslide"
    },
    "tags": []
   },
   "source": [
    "* Example of `re.split()`"
   ]
  },
  {
   "cell_type": "code",
   "execution_count": 9,
   "metadata": {
    "editable": true,
    "slideshow": {
     "slide_type": "fragment"
    },
    "tags": []
   },
   "outputs": [
    {
     "data": {
      "text/plain": [
       "[\" in\\nspirit - who have never before participated in politics - turn out in\\nnumbers we've never seen because they know in their hearts that this\\ntime must be different.\\n\\nThere is something happening when people vote not just for the party\\nthey belong to but the hopes they hold in common - that whether we are\\nrich or poor; black or white; Latino or Asian; whether we hail from Iowa\\nor New Hampshire, Nevada or South Carolina, we are ready to take this\\ncountry in a fundamentally new direction. That is what's happening in\\nAmerica right now. Change is what's happening in America.\\n\\nYou can be the new majority who can lead this nation out of a long\\npolitical darkness - Democrats, Independents \",\n",
       " ' Republicans who are\\ntired of the division ',\n",
       " ' distraction that has clouded Washington; who\\nknow that we can disagree without being disagreeable; who underst',\n",
       " '\\nthat if we mobilize our voices to challenge the money ',\n",
       " \" influence\\nthat's stood in our way \"]"
      ]
     },
     "execution_count": 9,
     "metadata": {},
     "output_type": "execute_result"
    }
   ],
   "source": [
    "re.split(\"and\", alltext)[7:12]"
   ]
  },
  {
   "cell_type": "markdown",
   "metadata": {
    "editable": true,
    "slideshow": {
     "slide_type": "subslide"
    },
    "tags": []
   },
   "source": [
    "#### 1.2 Backslash Characters"
   ]
  },
  {
   "cell_type": "markdown",
   "metadata": {
    "editable": true,
    "slideshow": {
     "slide_type": "fragment"
    },
    "tags": []
   },
   "source": [
    "* Regular expressions use the backslash character `\\` to indicte special forms, or to allow special characters to be used without invoking their special meaning. \n",
    "* This collides with Python's usage of the same character for the same purpose in string literals "
   ]
  },
  {
   "cell_type": "markdown",
   "metadata": {
    "editable": true,
    "slideshow": {
     "slide_type": "subslide"
    },
    "tags": []
   },
   "source": [
    "* How do we find the literal character `\\` in our file?\n",
    "* First 2 will give errors"
   ]
  },
  {
   "cell_type": "code",
   "execution_count": 10,
   "metadata": {
    "editable": true,
    "slideshow": {
     "slide_type": "fragment"
    },
    "tags": []
   },
   "outputs": [
    {
     "data": {
      "text/plain": [
       "['\\\\']"
      ]
     },
     "execution_count": 10,
     "metadata": {},
     "output_type": "execute_result"
    }
   ],
   "source": [
    "# re.findall(\"\\\", alltext)\n",
    "# re.findall(\"\\\\\", alltext)\n",
    "re.findall(\"\\\\\\\\\", alltext) \n",
    "# regrex engine sees a single backslash as an escape character, so to match a single backslash, we need to escape it with another backslash.   \n",
    "# regrex engine sees \\\\, which means a single backslash.\n",
    "# output is a string representation of a single backslash"
   ]
  },
  {
   "cell_type": "markdown",
   "metadata": {
    "editable": true,
    "slideshow": {
     "slide_type": "subslide"
    },
    "tags": []
   },
   "source": [
    "##### Instead of typing 4 backslashes every time we need to find one..."
   ]
  },
  {
   "cell_type": "markdown",
   "metadata": {
    "editable": true,
    "slideshow": {
     "slide_type": "fragment"
    },
    "tags": []
   },
   "source": [
    "* Another way to address this is to use Python's *raw string notation* for regular expression patterns.\n",
    "* This looks like this`r\"\"`\n",
    "* Backslashes are not handled in any special way in a string prefixed with `r`.  "
   ]
  },
  {
   "cell_type": "markdown",
   "metadata": {
    "editable": true,
    "slideshow": {
     "slide_type": "fragment"
    },
    "tags": []
   },
   "source": [
    "##### So equivalently:"
   ]
  },
  {
   "cell_type": "code",
   "execution_count": 11,
   "metadata": {
    "editable": true,
    "slideshow": {
     "slide_type": "fragment"
    },
    "tags": []
   },
   "outputs": [
    {
     "data": {
      "text/plain": [
       "['\\\\']"
      ]
     },
     "execution_count": 11,
     "metadata": {},
     "output_type": "execute_result"
    }
   ],
   "source": [
    "re.findall(r\"\\\\\", alltext)"
   ]
  },
  {
   "cell_type": "markdown",
   "metadata": {
    "editable": true,
    "slideshow": {
     "slide_type": "subslide"
    },
    "tags": []
   },
   "source": [
    "##### We can also see it in action here:"
   ]
  },
  {
   "cell_type": "markdown",
   "metadata": {
    "editable": true,
    "slideshow": {
     "slide_type": "fragment"
    },
    "tags": []
   },
   "source": [
    "* Prints an actual linebreak"
   ]
  },
  {
   "cell_type": "code",
   "execution_count": 12,
   "metadata": {
    "editable": true,
    "slideshow": {
     "slide_type": "fragment"
    },
    "tags": []
   },
   "outputs": [
    {
     "name": "stdout",
     "output_type": "stream",
     "text": [
      "\n",
      "\n"
     ]
    }
   ],
   "source": [
    "print(\"\\n\")"
   ]
  },
  {
   "cell_type": "markdown",
   "metadata": {
    "editable": true,
    "slideshow": {
     "slide_type": "fragment"
    },
    "tags": []
   },
   "source": [
    "* Prints the character \"\\n\""
   ]
  },
  {
   "cell_type": "code",
   "execution_count": 13,
   "metadata": {
    "editable": true,
    "slideshow": {
     "slide_type": "fragment"
    },
    "tags": []
   },
   "outputs": [
    {
     "name": "stdout",
     "output_type": "stream",
     "text": [
      "\\n\n"
     ]
    }
   ],
   "source": [
    "print(r\"\\n\")"
   ]
  },
  {
   "cell_type": "markdown",
   "metadata": {
    "editable": true,
    "slideshow": {
     "slide_type": "fragment"
    },
    "tags": []
   },
   "source": [
    "* Also prints the character \"\\n\""
   ]
  },
  {
   "cell_type": "code",
   "execution_count": 14,
   "metadata": {
    "editable": true,
    "slideshow": {
     "slide_type": "fragment"
    },
    "tags": []
   },
   "outputs": [
    {
     "name": "stdout",
     "output_type": "stream",
     "text": [
      "\\n\n"
     ]
    }
   ],
   "source": [
    "print(\"\\\\n\")"
   ]
  },
  {
   "cell_type": "markdown",
   "metadata": {
    "editable": true,
    "jp-MarkdownHeadingCollapsed": true,
    "slideshow": {
     "slide_type": "slide"
    },
    "tags": []
   },
   "source": [
    "#### 1.3 Basic special characters"
   ]
  },
  {
   "cell_type": "markdown",
   "metadata": {
    "editable": true,
    "slideshow": {
     "slide_type": "fragment"
    },
    "tags": []
   },
   "source": [
    "* `\\d`: any decimal digit, equivalent to [0-9]"
   ]
  },
  {
   "cell_type": "code",
   "execution_count": 15,
   "metadata": {
    "editable": true,
    "slideshow": {
     "slide_type": "fragment"
    },
    "tags": []
   },
   "outputs": [
    {
     "data": {
      "text/plain": [
       "['9', '1', '1']"
      ]
     },
     "execution_count": 15,
     "metadata": {},
     "output_type": "execute_result"
    }
   ],
   "source": [
    "re.findall(r\"\\d\", alltext) "
   ]
  },
  {
   "cell_type": "markdown",
   "metadata": {
    "editable": true,
    "slideshow": {
     "slide_type": "fragment"
    },
    "tags": []
   },
   "source": [
    "* `\\D`: any character that is NOT a decimal digit, equivalent to ^[0-9]"
   ]
  },
  {
   "cell_type": "code",
   "execution_count": null,
   "metadata": {
    "editable": true,
    "slideshow": {
     "slide_type": "fragment"
    },
    "tags": []
   },
   "outputs": [
    {
     "data": {
      "text/plain": [
       "['I',\n",
       " ' ',\n",
       " 'w',\n",
       " 'a',\n",
       " 'n',\n",
       " 't',\n",
       " ' ',\n",
       " 't',\n",
       " 'o',\n",
       " ' ',\n",
       " 'c',\n",
       " 'o',\n",
       " 'n',\n",
       " 'g',\n",
       " 'r',\n",
       " 'a',\n",
       " 't',\n",
       " 'u',\n",
       " 'l',\n",
       " 'a',\n",
       " 't',\n",
       " 'e',\n",
       " ' ',\n",
       " 'S',\n",
       " 'e',\n",
       " 'n',\n",
       " 'a',\n",
       " 't',\n",
       " 'o',\n",
       " 'r',\n",
       " ' ',\n",
       " 'C',\n",
       " 'l',\n",
       " 'i',\n",
       " 'n',\n",
       " 't',\n",
       " 'o',\n",
       " 'n',\n",
       " ' ',\n",
       " 'o',\n",
       " 'n',\n",
       " ' ',\n",
       " 'a',\n",
       " ' ',\n",
       " 'h',\n",
       " 'a',\n",
       " 'r',\n",
       " 'd',\n",
       " '-',\n",
       " 'f',\n",
       " 'o',\n",
       " 'u',\n",
       " 'g',\n",
       " 'h',\n",
       " 't',\n",
       " ' ',\n",
       " 'v',\n",
       " 'i',\n",
       " 'c',\n",
       " 't',\n",
       " 'o',\n",
       " 'r',\n",
       " 'y',\n",
       " ' ',\n",
       " 'h',\n",
       " 'e',\n",
       " 'r',\n",
       " 'e',\n",
       " ' ',\n",
       " 'i',\n",
       " 'n',\n",
       " '\\n',\n",
       " 'N',\n",
       " 'e',\n",
       " 'w',\n",
       " ' ',\n",
       " 'H',\n",
       " 'a',\n",
       " 'm',\n",
       " 'p',\n",
       " 's',\n",
       " 'h',\n",
       " 'i',\n",
       " 'r',\n",
       " 'e',\n",
       " '.',\n",
       " '\\n',\n",
       " '\\n',\n",
       " 'A',\n",
       " ' ',\n",
       " 'f',\n",
       " 'e',\n",
       " 'w',\n",
       " ' ',\n",
       " 'w',\n",
       " 'e',\n",
       " 'e',\n",
       " 'k',\n",
       " 's',\n",
       " ' ',\n",
       " 'a',\n",
       " 'g',\n",
       " 'o',\n",
       " ',',\n",
       " ' ',\n",
       " 'n',\n",
       " 'o',\n",
       " ' ',\n",
       " 'o',\n",
       " 'n',\n",
       " 'e',\n",
       " ' ',\n",
       " 'i',\n",
       " 'm',\n",
       " 'a',\n",
       " 'g',\n",
       " 'i',\n",
       " 'n',\n",
       " 'e',\n",
       " 'd',\n",
       " ' ',\n",
       " 't',\n",
       " 'h',\n",
       " 'a',\n",
       " 't',\n",
       " ' ',\n",
       " 'w',\n",
       " 'e',\n",
       " \"'\",\n",
       " 'd',\n",
       " ' ',\n",
       " 'h',\n",
       " 'a',\n",
       " 'v',\n",
       " 'e',\n",
       " ' ',\n",
       " 'a',\n",
       " 'c',\n",
       " 'c',\n",
       " 'o',\n",
       " 'm',\n",
       " 'p',\n",
       " 'l',\n",
       " 'i',\n",
       " 's',\n",
       " 'h',\n",
       " 'e',\n",
       " 'd',\n",
       " ' ',\n",
       " 'w',\n",
       " 'h',\n",
       " 'a',\n",
       " 't',\n",
       " ' ',\n",
       " 'w',\n",
       " 'e',\n",
       " ' ',\n",
       " 'd',\n",
       " 'i',\n",
       " 'd',\n",
       " '\\n',\n",
       " 'h',\n",
       " 'e',\n",
       " 'r',\n",
       " 'e',\n",
       " ' ',\n",
       " 't',\n",
       " 'o',\n",
       " 'n',\n",
       " 'i',\n",
       " 'g',\n",
       " 'h',\n",
       " 't',\n",
       " '.',\n",
       " ' ',\n",
       " 'F',\n",
       " 'o',\n",
       " 'r',\n",
       " ' ',\n",
       " 'm',\n",
       " 'o',\n",
       " 's',\n",
       " 't',\n",
       " ' ',\n",
       " 'o',\n",
       " 'f',\n",
       " ' ',\n",
       " 't',\n",
       " 'h',\n",
       " 'i',\n",
       " 's',\n",
       " ' ',\n",
       " 'c',\n",
       " 'a',\n",
       " 'm',\n",
       " 'p',\n",
       " 'a',\n",
       " 'i',\n",
       " 'g',\n",
       " 'n',\n",
       " ',',\n",
       " ' ',\n",
       " 'w',\n",
       " 'e',\n",
       " ' ',\n",
       " 'w',\n",
       " 'e',\n",
       " 'r',\n",
       " 'e',\n",
       " ' ',\n",
       " 'f',\n",
       " 'a',\n",
       " 'r',\n",
       " ' ',\n",
       " 'b',\n",
       " 'e',\n",
       " 'h',\n",
       " 'i',\n",
       " 'n',\n",
       " 'd',\n",
       " ',',\n",
       " ' ',\n",
       " 'a',\n",
       " 'n',\n",
       " 'd',\n",
       " ' ',\n",
       " 'w',\n",
       " 'e',\n",
       " '\\n',\n",
       " 'a',\n",
       " 'l',\n",
       " 'w',\n",
       " 'a',\n",
       " 'y',\n",
       " 's',\n",
       " ' ',\n",
       " 'k',\n",
       " 'n',\n",
       " 'e',\n",
       " 'w',\n",
       " ' ',\n",
       " 'o',\n",
       " 'u',\n",
       " 'r',\n",
       " ' ',\n",
       " 'c',\n",
       " 'l',\n",
       " 'i',\n",
       " 'm',\n",
       " 'b',\n",
       " ' ',\n",
       " 'w',\n",
       " 'o',\n",
       " 'u',\n",
       " 'l',\n",
       " 'd',\n",
       " ' ',\n",
       " 'b',\n",
       " 'e',\n",
       " ' ',\n",
       " 's',\n",
       " 't',\n",
       " 'e',\n",
       " 'e',\n",
       " 'p',\n",
       " '.',\n",
       " ' ',\n",
       " 'B',\n",
       " 'u',\n",
       " 't',\n",
       " ' ',\n",
       " 'i',\n",
       " 'n',\n",
       " ' ',\n",
       " 'r',\n",
       " 'e',\n",
       " 'c',\n",
       " 'o',\n",
       " 'r',\n",
       " 'd',\n",
       " ' ',\n",
       " 'n',\n",
       " 'u',\n",
       " 'm',\n",
       " 'b',\n",
       " 'e',\n",
       " 'r',\n",
       " 's',\n",
       " ',',\n",
       " ' ',\n",
       " 'y',\n",
       " 'o',\n",
       " 'u',\n",
       " ' ',\n",
       " 'c',\n",
       " 'a',\n",
       " 'm',\n",
       " 'e',\n",
       " '\\n',\n",
       " 'o',\n",
       " 'u',\n",
       " 't',\n",
       " ' ',\n",
       " 'a',\n",
       " 'n',\n",
       " 'd',\n",
       " ' ',\n",
       " 's',\n",
       " 'p',\n",
       " 'o',\n",
       " 'k',\n",
       " 'e',\n",
       " ' ',\n",
       " 'u',\n",
       " 'p',\n",
       " ' ',\n",
       " 'f',\n",
       " 'o',\n",
       " 'r',\n",
       " ' ',\n",
       " 'c',\n",
       " 'h',\n",
       " 'a',\n",
       " 'n',\n",
       " 'g',\n",
       " 'e',\n",
       " '.',\n",
       " ' ',\n",
       " 'A',\n",
       " 'n',\n",
       " 'd',\n",
       " ' ',\n",
       " 'w',\n",
       " 'i',\n",
       " 't',\n",
       " 'h',\n",
       " ' ',\n",
       " 'y',\n",
       " 'o',\n",
       " 'u',\n",
       " 'r',\n",
       " ' ',\n",
       " 'v',\n",
       " 'o',\n",
       " 'i',\n",
       " 'c',\n",
       " 'e',\n",
       " 's',\n",
       " ' ',\n",
       " 'a',\n",
       " 'n',\n",
       " 'd',\n",
       " ' ',\n",
       " 'y',\n",
       " 'o',\n",
       " 'u',\n",
       " 'r',\n",
       " ' ',\n",
       " 'v',\n",
       " 'o',\n",
       " 't',\n",
       " 'e',\n",
       " 's',\n",
       " ',',\n",
       " ' ',\n",
       " 'y',\n",
       " 'o',\n",
       " 'u',\n",
       " '\\n',\n",
       " 'm',\n",
       " 'a',\n",
       " 'd',\n",
       " 'e',\n",
       " ' ',\n",
       " 'i',\n",
       " 't',\n",
       " ' ',\n",
       " 'c',\n",
       " 'l',\n",
       " 'e',\n",
       " 'a',\n",
       " 'r',\n",
       " ' ',\n",
       " 't',\n",
       " 'h',\n",
       " 'a',\n",
       " 't',\n",
       " ' ',\n",
       " 'a',\n",
       " 't',\n",
       " ' ',\n",
       " 't',\n",
       " 'h',\n",
       " 'i',\n",
       " 's',\n",
       " ' ',\n",
       " 'm',\n",
       " 'o',\n",
       " 'm',\n",
       " 'e',\n",
       " 'n',\n",
       " 't',\n",
       " ' ',\n",
       " '-',\n",
       " ' ',\n",
       " 'i',\n",
       " 'n',\n",
       " ' ',\n",
       " 't',\n",
       " 'h',\n",
       " 'i',\n",
       " 's',\n",
       " ' ',\n",
       " 'e',\n",
       " 'l',\n",
       " 'e',\n",
       " 'c',\n",
       " 't',\n",
       " 'i',\n",
       " 'o',\n",
       " 'n',\n",
       " ' ',\n",
       " '-',\n",
       " ' ',\n",
       " 't',\n",
       " 'h',\n",
       " 'e',\n",
       " 'r',\n",
       " 'e',\n",
       " ' ',\n",
       " 'i',\n",
       " 's',\n",
       " '\\n',\n",
       " 's',\n",
       " 'o',\n",
       " 'm',\n",
       " 'e',\n",
       " 't',\n",
       " 'h',\n",
       " 'i',\n",
       " 'n',\n",
       " 'g',\n",
       " ' ',\n",
       " 'h',\n",
       " 'a',\n",
       " 'p',\n",
       " 'p',\n",
       " 'e',\n",
       " 'n',\n",
       " 'i',\n",
       " 'n',\n",
       " 'g',\n",
       " ' ',\n",
       " 'i',\n",
       " 'n',\n",
       " ' ',\n",
       " 'A',\n",
       " 'm',\n",
       " 'e',\n",
       " 'r',\n",
       " 'i',\n",
       " 'c',\n",
       " 'a',\n",
       " '.',\n",
       " '\\n',\n",
       " '\\n',\n",
       " 'T',\n",
       " 'h',\n",
       " 'e',\n",
       " 'r',\n",
       " 'e',\n",
       " ' ',\n",
       " 'i',\n",
       " 's',\n",
       " ' ',\n",
       " 's',\n",
       " 'o',\n",
       " 'm',\n",
       " 'e',\n",
       " 't',\n",
       " 'h',\n",
       " 'i',\n",
       " 'n',\n",
       " 'g',\n",
       " ' ',\n",
       " 'h',\n",
       " 'a',\n",
       " 'p',\n",
       " 'p',\n",
       " 'e',\n",
       " 'n',\n",
       " 'i',\n",
       " 'n',\n",
       " 'g',\n",
       " ' ',\n",
       " 'w',\n",
       " 'h',\n",
       " 'e',\n",
       " 'n',\n",
       " ' ',\n",
       " 'm',\n",
       " 'e',\n",
       " 'n',\n",
       " ' ',\n",
       " 'a',\n",
       " 'n',\n",
       " 'd',\n",
       " ' ',\n",
       " 'w',\n",
       " 'o',\n",
       " 'm',\n",
       " 'e',\n",
       " 'n',\n",
       " ' ',\n",
       " 'i',\n",
       " 'n',\n",
       " ' ',\n",
       " 'D',\n",
       " 'e',\n",
       " 's',\n",
       " ' ',\n",
       " 'M',\n",
       " 'o',\n",
       " 'i',\n",
       " 'n',\n",
       " 'e',\n",
       " 's',\n",
       " ' ',\n",
       " 'a',\n",
       " 'n',\n",
       " 'd',\n",
       " '\\n',\n",
       " 'D',\n",
       " 'a',\n",
       " 'v',\n",
       " 'e',\n",
       " 'n',\n",
       " 'p',\n",
       " 'o',\n",
       " 'r',\n",
       " 't',\n",
       " ';',\n",
       " ' ',\n",
       " 'i',\n",
       " 'n',\n",
       " ' ',\n",
       " 'L',\n",
       " 'e',\n",
       " 'b',\n",
       " 'a',\n",
       " 'n',\n",
       " 'o',\n",
       " 'n',\n",
       " ' ',\n",
       " 'a',\n",
       " 'n',\n",
       " 'd',\n",
       " ' ',\n",
       " 'C',\n",
       " 'o',\n",
       " 'n',\n",
       " 'c',\n",
       " 'o',\n",
       " 'r',\n",
       " 'd',\n",
       " ' ',\n",
       " 'c',\n",
       " 'o',\n",
       " 'm',\n",
       " 'e',\n",
       " ' ',\n",
       " 'o',\n",
       " 'u',\n",
       " 't',\n",
       " ' ',\n",
       " 'i',\n",
       " 'n',\n",
       " ' ',\n",
       " 't',\n",
       " 'h',\n",
       " 'e',\n",
       " ' ',\n",
       " 's',\n",
       " 'n',\n",
       " 'o',\n",
       " 'w',\n",
       " 's',\n",
       " ' ',\n",
       " 'o',\n",
       " 'f',\n",
       " ' ',\n",
       " 'J',\n",
       " 'a',\n",
       " 'n',\n",
       " 'u',\n",
       " 'a',\n",
       " 'r',\n",
       " 'y',\n",
       " ' ',\n",
       " 't',\n",
       " 'o',\n",
       " '\\n',\n",
       " 'w',\n",
       " 'a',\n",
       " 'i',\n",
       " 't',\n",
       " ' ',\n",
       " 'i',\n",
       " 'n',\n",
       " ' ',\n",
       " 'l',\n",
       " 'i',\n",
       " 'n',\n",
       " 'e',\n",
       " 's',\n",
       " ' ',\n",
       " 't',\n",
       " 'h',\n",
       " 'a',\n",
       " 't',\n",
       " ' ',\n",
       " 's',\n",
       " 't',\n",
       " 'r',\n",
       " 'e',\n",
       " 't',\n",
       " 'c',\n",
       " 'h',\n",
       " ' ',\n",
       " 'b',\n",
       " 'l',\n",
       " 'o',\n",
       " 'c',\n",
       " 'k',\n",
       " ' ',\n",
       " 'a',\n",
       " 'f',\n",
       " 't',\n",
       " 'e',\n",
       " 'r',\n",
       " ' ',\n",
       " 'b',\n",
       " 'l',\n",
       " 'o',\n",
       " 'c',\n",
       " 'k',\n",
       " ' ',\n",
       " 'b',\n",
       " 'e',\n",
       " 'c',\n",
       " 'a',\n",
       " 'u',\n",
       " 's',\n",
       " 'e',\n",
       " ' ',\n",
       " 't',\n",
       " 'h',\n",
       " 'e',\n",
       " 'y',\n",
       " ' ',\n",
       " 'b',\n",
       " 'e',\n",
       " 'l',\n",
       " 'i',\n",
       " 'e',\n",
       " 'v',\n",
       " 'e',\n",
       " ' ',\n",
       " 'i',\n",
       " 'n',\n",
       " '\\n',\n",
       " 'w',\n",
       " 'h',\n",
       " 'a',\n",
       " 't',\n",
       " ' ',\n",
       " 't',\n",
       " 'h',\n",
       " 'i',\n",
       " 's',\n",
       " ' ',\n",
       " 'c',\n",
       " 'o',\n",
       " 'u',\n",
       " 'n',\n",
       " 't',\n",
       " 'r',\n",
       " 'y',\n",
       " ' ',\n",
       " 'c',\n",
       " 'a',\n",
       " 'n',\n",
       " ' ',\n",
       " 'b',\n",
       " 'e',\n",
       " '.',\n",
       " '\\n',\n",
       " '\\n',\n",
       " 'T',\n",
       " 'h',\n",
       " 'e',\n",
       " 'r',\n",
       " 'e',\n",
       " ' ',\n",
       " 'i',\n",
       " 's',\n",
       " ' ',\n",
       " 's',\n",
       " 'o',\n",
       " 'm',\n",
       " 'e',\n",
       " 't',\n",
       " 'h',\n",
       " 'i',\n",
       " 'n',\n",
       " 'g',\n",
       " ' ',\n",
       " 'h',\n",
       " 'a',\n",
       " 'p',\n",
       " 'p',\n",
       " 'e',\n",
       " 'n',\n",
       " 'i',\n",
       " 'n',\n",
       " 'g',\n",
       " ' ',\n",
       " 'w',\n",
       " 'h',\n",
       " 'e',\n",
       " 'n',\n",
       " ' ',\n",
       " 'A',\n",
       " 'm',\n",
       " 'e',\n",
       " 'r',\n",
       " 'i',\n",
       " 'c',\n",
       " 'a',\n",
       " 'n',\n",
       " 's',\n",
       " ' ',\n",
       " 'w',\n",
       " 'h',\n",
       " 'o',\n",
       " ' ',\n",
       " 'a',\n",
       " 'r',\n",
       " 'e',\n",
       " ' ',\n",
       " 'y',\n",
       " 'o',\n",
       " 'u',\n",
       " 'n',\n",
       " 'g',\n",
       " ' ',\n",
       " 'i',\n",
       " 'n',\n",
       " ' ',\n",
       " 'a',\n",
       " 'g',\n",
       " 'e',\n",
       " ' ',\n",
       " 'a',\n",
       " 'n',\n",
       " 'd',\n",
       " ' ',\n",
       " 'i',\n",
       " 'n',\n",
       " '\\n',\n",
       " 's',\n",
       " 'p',\n",
       " 'i',\n",
       " 'r',\n",
       " 'i',\n",
       " 't',\n",
       " ' ',\n",
       " '-',\n",
       " ' ',\n",
       " 'w',\n",
       " 'h',\n",
       " 'o',\n",
       " ' ',\n",
       " 'h',\n",
       " 'a',\n",
       " 'v',\n",
       " 'e',\n",
       " ' ',\n",
       " 'n',\n",
       " 'e',\n",
       " 'v',\n",
       " 'e',\n",
       " 'r',\n",
       " ' ',\n",
       " 'b',\n",
       " 'e',\n",
       " 'f',\n",
       " 'o',\n",
       " 'r',\n",
       " 'e',\n",
       " ' ',\n",
       " 'p',\n",
       " 'a',\n",
       " 'r',\n",
       " 't',\n",
       " 'i',\n",
       " 'c',\n",
       " 'i',\n",
       " 'p',\n",
       " 'a',\n",
       " 't',\n",
       " 'e',\n",
       " 'd',\n",
       " ' ',\n",
       " 'i',\n",
       " 'n',\n",
       " ' ',\n",
       " 'p',\n",
       " 'o',\n",
       " 'l',\n",
       " 'i',\n",
       " 't',\n",
       " 'i',\n",
       " 'c',\n",
       " 's',\n",
       " ' ',\n",
       " '-',\n",
       " ' ',\n",
       " 't',\n",
       " 'u',\n",
       " 'r',\n",
       " 'n',\n",
       " ' ',\n",
       " 'o',\n",
       " 'u',\n",
       " 't',\n",
       " ' ',\n",
       " 'i',\n",
       " 'n',\n",
       " '\\n',\n",
       " 'n',\n",
       " 'u',\n",
       " 'm',\n",
       " 'b',\n",
       " 'e',\n",
       " 'r',\n",
       " 's',\n",
       " ' ',\n",
       " 'w',\n",
       " 'e',\n",
       " \"'\",\n",
       " 'v',\n",
       " 'e',\n",
       " ' ',\n",
       " 'n',\n",
       " 'e',\n",
       " 'v',\n",
       " 'e',\n",
       " 'r',\n",
       " ' ',\n",
       " 's',\n",
       " 'e',\n",
       " 'e',\n",
       " 'n',\n",
       " ' ',\n",
       " 'b',\n",
       " 'e',\n",
       " 'c',\n",
       " 'a',\n",
       " 'u',\n",
       " 's',\n",
       " 'e',\n",
       " ' ',\n",
       " 't',\n",
       " 'h',\n",
       " 'e',\n",
       " 'y',\n",
       " ' ',\n",
       " 'k',\n",
       " 'n',\n",
       " 'o',\n",
       " 'w',\n",
       " ' ',\n",
       " 'i',\n",
       " 'n',\n",
       " ' ',\n",
       " 't',\n",
       " 'h',\n",
       " 'e',\n",
       " 'i',\n",
       " 'r',\n",
       " ' ',\n",
       " 'h',\n",
       " 'e',\n",
       " 'a',\n",
       " 'r',\n",
       " 't',\n",
       " 's',\n",
       " ' ',\n",
       " 't',\n",
       " 'h',\n",
       " 'a',\n",
       " 't',\n",
       " ' ',\n",
       " 't',\n",
       " 'h',\n",
       " 'i',\n",
       " 's',\n",
       " '\\n',\n",
       " 't',\n",
       " 'i',\n",
       " 'm',\n",
       " 'e',\n",
       " ' ',\n",
       " 'm',\n",
       " 'u',\n",
       " 's',\n",
       " 't',\n",
       " ' ',\n",
       " 'b',\n",
       " 'e',\n",
       " ' ',\n",
       " 'd',\n",
       " 'i',\n",
       " 'f',\n",
       " 'f',\n",
       " 'e',\n",
       " 'r',\n",
       " 'e',\n",
       " 'n',\n",
       " 't',\n",
       " '.',\n",
       " '\\n',\n",
       " '\\n',\n",
       " 'T',\n",
       " 'h',\n",
       " 'e',\n",
       " 'r',\n",
       " 'e',\n",
       " ' ',\n",
       " 'i',\n",
       " 's',\n",
       " ' ',\n",
       " 's',\n",
       " 'o',\n",
       " 'm',\n",
       " 'e',\n",
       " 't',\n",
       " 'h',\n",
       " 'i',\n",
       " 'n',\n",
       " 'g',\n",
       " ' ',\n",
       " 'h',\n",
       " 'a',\n",
       " 'p',\n",
       " 'p',\n",
       " 'e',\n",
       " 'n',\n",
       " 'i',\n",
       " 'n',\n",
       " 'g',\n",
       " ' ',\n",
       " 'w',\n",
       " 'h',\n",
       " 'e',\n",
       " 'n',\n",
       " ' ',\n",
       " 'p',\n",
       " 'e',\n",
       " 'o',\n",
       " 'p',\n",
       " 'l',\n",
       " 'e',\n",
       " ' ',\n",
       " 'v',\n",
       " 'o',\n",
       " 't',\n",
       " 'e',\n",
       " ' ',\n",
       " 'n',\n",
       " 'o',\n",
       " 't',\n",
       " ' ',\n",
       " 'j',\n",
       " 'u',\n",
       " 's',\n",
       " 't',\n",
       " ' ',\n",
       " 'f',\n",
       " 'o',\n",
       " 'r',\n",
       " ' ',\n",
       " 't',\n",
       " 'h',\n",
       " 'e',\n",
       " ' ',\n",
       " 'p',\n",
       " 'a',\n",
       " 'r',\n",
       " ...]"
      ]
     },
     "execution_count": 54,
     "metadata": {},
     "output_type": "execute_result"
    }
   ],
   "source": [
    "# re.findall(r\"\\D\", alltext) "
   ]
  },
  {
   "cell_type": "markdown",
   "metadata": {
    "editable": true,
    "slideshow": {
     "slide_type": "subslide"
    },
    "tags": []
   },
   "source": [
    "* `[]` can be used to indicate *a set* of characters\n",
    "* Line below returns all instances of *each* of the characters in `[]`"
   ]
  },
  {
   "cell_type": "code",
   "execution_count": 16,
   "metadata": {
    "editable": true,
    "slideshow": {
     "slide_type": "fragment"
    },
    "tags": []
   },
   "outputs": [
    {
     "data": {
      "text/plain": [
       "['a', 'r', 'a', 'a', 'a', 'r', 'a', 'a', 'r', 'r']"
      ]
     },
     "execution_count": 16,
     "metadata": {},
     "output_type": "execute_result"
    }
   ],
   "source": [
    "re.findall(\"[ar]\", alltext)[0:10]  # pull out all a, r"
   ]
  },
  {
   "cell_type": "markdown",
   "metadata": {
    "editable": true,
    "slideshow": {
     "slide_type": "fragment"
    },
    "tags": []
   },
   "source": [
    "* All instances of the form \"char1 to char2\" in `[char1-char2]`"
   ]
  },
  {
   "cell_type": "code",
   "execution_count": 17,
   "metadata": {
    "editable": true,
    "slideshow": {
     "slide_type": "fragment"
    },
    "tags": []
   },
   "outputs": [
    {
     "data": {
      "text/plain": [
       "['a', 'c', 'a', 'a', 'a', 'a', 'a', 'd', 'c', 'a']"
      ]
     },
     "execution_count": 17,
     "metadata": {},
     "output_type": "execute_result"
    }
   ],
   "source": [
    "re.findall(\"[a-d]\", alltext)[0:10] "
   ]
  },
  {
   "cell_type": "markdown",
   "metadata": {
    "editable": true,
    "slideshow": {
     "slide_type": "subslide"
    },
    "tags": []
   },
   "source": [
    "* Returns all characters, `^`: *except* for those of the form \"char 1 to char 2\" in [^char1-char2]"
   ]
  },
  {
   "cell_type": "code",
   "execution_count": 18,
   "metadata": {
    "editable": true,
    "slideshow": {
     "slide_type": "fragment"
    },
    "tags": []
   },
   "outputs": [
    {
     "data": {
      "text/plain": [
       "['I',\n",
       " ' ',\n",
       " ' ',\n",
       " ' ',\n",
       " ' ',\n",
       " 'S',\n",
       " ' ',\n",
       " 'C',\n",
       " ' ',\n",
       " ' ',\n",
       " ' ',\n",
       " '-',\n",
       " ' ',\n",
       " ' ',\n",
       " ' ',\n",
       " '\\n',\n",
       " 'N',\n",
       " ' ',\n",
       " 'H',\n",
       " '.']"
      ]
     },
     "execution_count": 18,
     "metadata": {},
     "output_type": "execute_result"
    }
   ],
   "source": [
    "re.findall(\"[^a-z]\", alltext)[0:20] "
   ]
  },
  {
   "cell_type": "markdown",
   "metadata": {
    "editable": true,
    "slideshow": {
     "slide_type": "subslide"
    },
    "tags": []
   },
   "source": [
    "* All characters and digits (alphanumeric)"
   ]
  },
  {
   "cell_type": "code",
   "execution_count": 19,
   "metadata": {
    "editable": true,
    "slideshow": {
     "slide_type": "fragment"
    },
    "tags": []
   },
   "outputs": [
    {
     "data": {
      "text/plain": [
       "['I',\n",
       " 'w',\n",
       " 'a',\n",
       " 'n',\n",
       " 't',\n",
       " 't',\n",
       " 'o',\n",
       " 'c',\n",
       " 'o',\n",
       " 'n',\n",
       " 'g',\n",
       " 'r',\n",
       " 'a',\n",
       " 't',\n",
       " 'u',\n",
       " 'l',\n",
       " 'a',\n",
       " 't',\n",
       " 'e']"
      ]
     },
     "execution_count": 19,
     "metadata": {},
     "output_type": "execute_result"
    }
   ],
   "source": [
    "re.findall(\"[a-zA-Z0-9]\", alltext)[0:19]"
   ]
  },
  {
   "cell_type": "markdown",
   "metadata": {
    "editable": true,
    "slideshow": {
     "slide_type": "subslide"
    },
    "tags": []
   },
   "source": [
    "* `\\w`: Any alphanumeric, one word character"
   ]
  },
  {
   "cell_type": "code",
   "execution_count": 20,
   "metadata": {
    "editable": true,
    "slideshow": {
     "slide_type": "fragment"
    },
    "tags": []
   },
   "outputs": [
    {
     "data": {
      "text/plain": [
       "['I',\n",
       " 'w',\n",
       " 'a',\n",
       " 'n',\n",
       " 't',\n",
       " 't',\n",
       " 'o',\n",
       " 'c',\n",
       " 'o',\n",
       " 'n',\n",
       " 'g',\n",
       " 'r',\n",
       " 'a',\n",
       " 't',\n",
       " 'u',\n",
       " 'l',\n",
       " 'a',\n",
       " 't',\n",
       " 'e']"
      ]
     },
     "execution_count": 20,
     "metadata": {},
     "output_type": "execute_result"
    }
   ],
   "source": [
    "re.findall(r\"\\w\", alltext)[0:19] # includes _"
   ]
  },
  {
   "cell_type": "markdown",
   "metadata": {
    "editable": true,
    "slideshow": {
     "slide_type": "subslide"
    },
    "tags": []
   },
   "source": [
    "*  `\\W`: non-alphanumeric, the inverse of `\\w`"
   ]
  },
  {
   "cell_type": "code",
   "execution_count": 21,
   "metadata": {
    "editable": true,
    "slideshow": {
     "slide_type": "fragment"
    },
    "tags": []
   },
   "outputs": [
    {
     "data": {
      "text/plain": [
       "[' ', ' ', ' ', ' ', ' ', ' ', ' ', ' ', '-', ' ', ' ', ' ', '\\n', ' ', '.']"
      ]
     },
     "execution_count": 21,
     "metadata": {},
     "output_type": "execute_result"
    }
   ],
   "source": [
    "re.findall(r\"\\W\", alltext)[0:15] # same as re.findall(r\"[^a-zA-Z0-9_]\", alltext)"
   ]
  },
  {
   "cell_type": "markdown",
   "metadata": {
    "editable": true,
    "slideshow": {
     "slide_type": "fragment"
    },
    "tags": []
   },
   "source": [
    "* `\\s`: whitespace"
   ]
  },
  {
   "cell_type": "code",
   "execution_count": 22,
   "metadata": {
    "editable": true,
    "slideshow": {
     "slide_type": "fragment"
    },
    "tags": []
   },
   "outputs": [
    {
     "data": {
      "text/plain": [
       "[' ', ' ', ' ', ' ', ' ']"
      ]
     },
     "execution_count": 22,
     "metadata": {},
     "output_type": "execute_result"
    }
   ],
   "source": [
    "re.findall(r\"\\s\", alltext)[0:5]"
   ]
  },
  {
   "cell_type": "markdown",
   "metadata": {
    "editable": true,
    "slideshow": {
     "slide_type": "fragment"
    },
    "tags": []
   },
   "source": [
    "* `\\S`: *non*-whitespace characters"
   ]
  },
  {
   "cell_type": "code",
   "execution_count": 23,
   "metadata": {
    "editable": true,
    "slideshow": {
     "slide_type": "fragment"
    },
    "tags": []
   },
   "outputs": [
    {
     "data": {
      "text/plain": [
       "['I', 'w', 'a', 'n', 't', 't', 'o']"
      ]
     },
     "execution_count": 23,
     "metadata": {},
     "output_type": "execute_result"
    }
   ],
   "source": [
    "re.findall(r\"\\S\", alltext)[0:7]"
   ]
  },
  {
   "cell_type": "markdown",
   "metadata": {
    "editable": true,
    "slideshow": {
     "slide_type": "subslide"
    },
    "tags": []
   },
   "source": [
    "* `.` any character (include white spaces, except a newline)"
   ]
  },
  {
   "cell_type": "code",
   "execution_count": 24,
   "metadata": {
    "editable": true,
    "scrolled": true,
    "slideshow": {
     "slide_type": "fragment"
    },
    "tags": []
   },
   "outputs": [
    {
     "data": {
      "text/plain": [
       "['I', ' ', 'w', 'a', 'n', 't', ' ', 't', 'o', ' ']"
      ]
     },
     "execution_count": 24,
     "metadata": {},
     "output_type": "execute_result"
    }
   ],
   "source": [
    "re.findall(\".\", alltext)[0:10]"
   ]
  },
  {
   "cell_type": "markdown",
   "metadata": {
    "editable": true,
    "slideshow": {
     "slide_type": "fragment"
    },
    "tags": []
   },
   "source": [
    " * `\\` is an escape character (`.` has a special use)"
   ]
  },
  {
   "cell_type": "code",
   "execution_count": 25,
   "metadata": {
    "editable": true,
    "slideshow": {
     "slide_type": "fragment"
    },
    "tags": []
   },
   "outputs": [
    {
     "data": {
      "text/plain": [
       "['.', '.', '.', '.', '.', '.', '.', '.', '.', '.']"
      ]
     },
     "execution_count": 25,
     "metadata": {},
     "output_type": "execute_result"
    }
   ],
   "source": [
    "re.findall(r\"\\.\", alltext)[0:10]"
   ]
  },
  {
   "cell_type": "markdown",
   "metadata": {
    "editable": true,
    "slideshow": {
     "slide_type": "subslide"
    },
    "tags": []
   },
   "source": [
    "* `?`: Makes the preceding expression optional; match 0 or 1 repetitions of the preceding expression"
   ]
  },
  {
   "cell_type": "code",
   "execution_count": 26,
   "metadata": {
    "editable": true,
    "slideshow": {
     "slide_type": "fragment"
    },
    "tags": []
   },
   "outputs": [
    {
     "data": {
      "text/plain": [
       "['A', 'A', 'Am', 'Am', 'A']"
      ]
     },
     "execution_count": 26,
     "metadata": {},
     "output_type": "execute_result"
    }
   ],
   "source": [
    "re.findall(\"Am?\", alltext)[0:5] # This would match A or Am where m is optional"
   ]
  },
  {
   "cell_type": "markdown",
   "metadata": {
    "editable": true,
    "slideshow": {
     "slide_type": "fragment"
    },
    "tags": []
   },
   "source": [
    "* `+`: match 1 or more repetitions of the preceding expression"
   ]
  },
  {
   "cell_type": "code",
   "execution_count": 27,
   "metadata": {
    "editable": true,
    "slideshow": {
     "slide_type": "fragment"
    },
    "tags": []
   },
   "outputs": [
    {
     "data": {
      "text/plain": [
       "['9', '11']"
      ]
     },
     "execution_count": 27,
     "metadata": {},
     "output_type": "execute_result"
    }
   ],
   "source": [
    "re.findall(r\"\\d+\", alltext)\n",
    "# re.findall(\"am+\", alltext)"
   ]
  },
  {
   "cell_type": "markdown",
   "metadata": {
    "editable": true,
    "slideshow": {
     "slide_type": "fragment"
    },
    "tags": []
   },
   "source": [
    "* `*`: match 0 or more repetitions of the preceding expression"
   ]
  },
  {
   "cell_type": "code",
   "execution_count": 28,
   "metadata": {
    "editable": true,
    "slideshow": {
     "slide_type": "fragment"
    },
    "tags": []
   },
   "outputs": [
    {
     "data": {
      "text/plain": [
       "['a', 'a', 'a', 'a', 'a', 'a', 'am', 'a']"
      ]
     },
     "execution_count": 28,
     "metadata": {},
     "output_type": "execute_result"
    }
   ],
   "source": [
    "re.findall(\"am*\", alltext)[0:8] # match a, am, or a followed by any number of m's "
   ]
  },
  {
   "cell_type": "markdown",
   "metadata": {
    "editable": true,
    "slideshow": {
     "slide_type": "subslide"
    },
    "tags": []
   },
   "source": [
    "* Get any word that starts with America"
   ]
  },
  {
   "cell_type": "code",
   "execution_count": 29,
   "metadata": {
    "editable": true,
    "slideshow": {
     "slide_type": "fragment"
    },
    "tags": []
   },
   "outputs": [
    {
     "data": {
      "text/plain": [
       "['America',\n",
       " 'Americans',\n",
       " 'America',\n",
       " 'America',\n",
       " 'American',\n",
       " 'Americans',\n",
       " 'America',\n",
       " 'America',\n",
       " 'Americans',\n",
       " 'America',\n",
       " 'America']"
      ]
     },
     "execution_count": 29,
     "metadata": {},
     "output_type": "execute_result"
    }
   ],
   "source": [
    "re.findall(r\"America[a-z]*\", alltext) "
   ]
  },
  {
   "cell_type": "markdown",
   "metadata": {
    "editable": true,
    "slideshow": {
     "slide_type": "subslide"
    },
    "tags": []
   },
   "source": [
    "* `{m}` specifies exactly m copies of the previous expression should be matched"
   ]
  },
  {
   "cell_type": "code",
   "execution_count": 30,
   "metadata": {
    "editable": true,
    "slideshow": {
     "slide_type": "fragment"
    },
    "tags": []
   },
   "outputs": [
    {
     "data": {
      "text/plain": [
       "['11']"
      ]
     },
     "execution_count": 30,
     "metadata": {},
     "output_type": "execute_result"
    }
   ],
   "source": [
    "# {x} exactly x times (numbers with exact number of digits)\n",
    "re.findall(r\"\\d{2}\", alltext) "
   ]
  },
  {
   "cell_type": "markdown",
   "metadata": {
    "editable": true,
    "slideshow": {
     "slide_type": "fragment"
    },
    "tags": []
   },
   "source": [
    "* `{m,n}` matches from m to n repetitions of the preceding expression, while attempting to match as many repetitions as possible"
   ]
  },
  {
   "cell_type": "code",
   "execution_count": 31,
   "metadata": {
    "editable": true,
    "slideshow": {
     "slide_type": "fragment"
    },
    "tags": []
   },
   "outputs": [
    {
     "data": {
      "text/plain": [
       "['oo', 'oo', 'oo', 'oo', 'oo', 'oo', 'oo', 'oo']"
      ]
     },
     "execution_count": 31,
     "metadata": {},
     "output_type": "execute_result"
    }
   ],
   "source": [
    "re.findall(\"o{2,3}\", alltext) "
   ]
  },
  {
   "cell_type": "markdown",
   "metadata": {
    "editable": true,
    "slideshow": {
     "slide_type": "subslide"
    },
    "tags": []
   },
   "source": [
    "- There are so many more special characters\n",
    "- Regex can be super powerful and complicated \n",
    "- Use parenthese to group things together when using operators like `+`, `*`, `?`, `^`"
   ]
  },
  {
   "cell_type": "markdown",
   "metadata": {
    "editable": true,
    "slideshow": {
     "slide_type": "fragment"
    },
    "tags": []
   },
   "source": [
    "##### Short Exercise: \n",
    "How would we grab 10/10 and 19/18 as they appear in the text using `re.findall()`? "
   ]
  },
  {
   "cell_type": "code",
   "execution_count": 34,
   "metadata": {
    "editable": true,
    "slideshow": {
     "slide_type": "fragment"
    },
    "tags": []
   },
   "outputs": [],
   "source": [
    "x = \"Hi 10/10 hello 19/18 asdf 7/6 and 1/10 or 10/1 \""
   ]
  },
  {
   "cell_type": "markdown",
   "metadata": {
    "editable": true,
    "slideshow": {
     "slide_type": "fragment"
    },
    "tags": []
   },
   "source": [
    "<br>\n",
    "<br>\n",
    "<br>\n",
    "<br>\n",
    "<br>\n",
    "<br>\n",
    "<br>\n",
    "<br>\n",
    "<br>\n",
    "<br>\n",
    "<br>\n",
    "<br>"
   ]
  },
  {
   "cell_type": "markdown",
   "metadata": {
    "editable": true,
    "slideshow": {
     "slide_type": "subslide"
    },
    "tags": []
   },
   "source": [
    "##### Answer"
   ]
  },
  {
   "cell_type": "code",
   "execution_count": 35,
   "metadata": {
    "editable": true,
    "slideshow": {
     "slide_type": "fragment"
    },
    "tags": []
   },
   "outputs": [
    {
     "data": {
      "text/plain": [
       "['10/10', '19/18']"
      ]
     },
     "execution_count": 35,
     "metadata": {},
     "output_type": "execute_result"
    }
   ],
   "source": [
    "re.findall(r\"\\d{2}/\\d{2}\", x) "
   ]
  },
  {
   "cell_type": "markdown",
   "metadata": {
    "editable": true,
    "slideshow": {
     "slide_type": "slide"
    },
    "tags": []
   },
   "source": [
    "#### 1.4 `re.split()`"
   ]
  },
  {
   "cell_type": "markdown",
   "metadata": {
    "editable": true,
    "slideshow": {
     "slide_type": "fragment"
    },
    "tags": []
   },
   "source": [
    "##### Split string by the occurrences of pattern. "
   ]
  },
  {
   "cell_type": "code",
   "execution_count": 32,
   "metadata": {
    "editable": true,
    "slideshow": {
     "slide_type": "fragment"
    },
    "tags": []
   },
   "outputs": [
    {
     "data": {
      "text/plain": [
       "['I want to congratulate Senat',\n",
       " ' Clinton on a hard-fought vict',\n",
       " \"y here in\\nNew Hampshire.\\n\\nA few weeks ago, no one imagined that we'd have accomplished what we did\\nhere tonight. F\",\n",
       " ' most of this campaign, we were far behind, and we\\nalways knew our climb would be steep. But in rec']"
      ]
     },
     "execution_count": 32,
     "metadata": {},
     "output_type": "execute_result"
    }
   ],
   "source": [
    "# splits at 'or', deletes 'or'\n",
    "re.split(\"or\", alltext)[0:4]"
   ]
  },
  {
   "cell_type": "code",
   "execution_count": 33,
   "metadata": {
    "editable": true,
    "slideshow": {
     "slide_type": "subslide"
    },
    "tags": []
   },
   "outputs": [
    {
     "data": {
      "text/plain": [
       "[\"I want to congratulate Senator Clinton on a hard-fought victory here in\\nNew Hampshire.\\n\\nA few weeks ago, no one imagined that we'd have accomplished what we did\\nhere tonight. For most of this campaign, we were far behind, and we\\nalways knew our climb would be steep. But in record numbers, you came\\nout and spoke up for change. And with your voices and your votes, you\\nmade it clear that at this moment - in this election - there is\\nsomething happening in \",\n",
       " '.\\n\\nThere is something happening when men and women in Des Moines and\\nDavenport; in Lebanon and Concord come out in the snows of January to\\nwait in lines that stretch block after block because they believe in\\nwhat this country can be.\\n\\nThere is something happening when ',\n",
       " \"ns who are young in age and in\\nspirit - who have never before participated in politics - turn out in\\nnumbers we've never seen because they know in their hearts that this\\ntime must be different.\\n\\nThere is something happening when people vote not just for the party\\nthey belong to but the hopes they hold in common - that whether we are\\nrich or poor; black or white; Latino or Asian; whether we hail from Iowa\\nor New Hampshire, Nevada or South Carolina, we are ready to take this\\ncountry in a fundamentally new direction. That is what's happening in\\n\"]"
      ]
     },
     "execution_count": 33,
     "metadata": {},
     "output_type": "execute_result"
    }
   ],
   "source": [
    "re.split(\"America*\", alltext)[0:3] # Americ, America, Americaa, ..."
   ]
  },
  {
   "cell_type": "markdown",
   "metadata": {
    "editable": true,
    "slideshow": {
     "slide_type": "slide"
    },
    "tags": []
   },
   "source": [
    "#### 1.5 `re.compile()`"
   ]
  },
  {
   "cell_type": "markdown",
   "metadata": {
    "editable": true,
    "slideshow": {
     "slide_type": "fragment"
    },
    "tags": []
   },
   "source": [
    "##### Compile a regular expression pattern into a RE object, which can then be used for matching using the `match()` and `search()` methods. "
   ]
  },
  {
   "cell_type": "code",
   "execution_count": 34,
   "metadata": {
    "editable": true,
    "slideshow": {
     "slide_type": "fragment"
    },
    "tags": []
   },
   "outputs": [],
   "source": [
    "keyword = re.compile(\"America[a-z]*\")"
   ]
  },
  {
   "cell_type": "code",
   "execution_count": 35,
   "metadata": {
    "editable": true,
    "slideshow": {
     "slide_type": "subslide"
    },
    "tags": []
   },
   "outputs": [
    {
     "name": "stdout",
     "output_type": "stream",
     "text": [
      "something happening in America.\n",
      "\n",
      "There is something happening when Americans who are young in age and in\n",
      "\n",
      "America right now. Change is what's happening in America.\n",
      "\n",
      "Our new American majority can end the outrage of unaffordable,\n",
      "\n",
      "working Americans who deserve it.\n",
      "\n",
      "is a challenge that should unite America and the world against the\n",
      "\n",
      "But in the unlikely story that is America, there has never been anything\n",
      "\n",
      "we can't, generations of Americans have responded with a simple creed\n",
      "\n",
      "remember that there is something happening in America; that we are not\n",
      "\n",
      "nation; and together, we will begin the next great chapter in America's\n",
      "\n"
     ]
    }
   ],
   "source": [
    "# search file for keyword in line by line version\n",
    "for l in text: \n",
    "    if keyword.search(l): # reuse the RE here\n",
    "        print(l)"
   ]
  },
  {
   "cell_type": "markdown",
   "metadata": {
    "editable": true,
    "slideshow": {
     "slide_type": "subslide"
    },
    "tags": []
   },
   "source": [
    "* Create a regex object"
   ]
  },
  {
   "cell_type": "code",
   "execution_count": 36,
   "metadata": {
    "editable": true,
    "slideshow": {
     "slide_type": "fragment"
    },
    "tags": []
   },
   "outputs": [],
   "source": [
    "pattern = re.compile(r'\\d+')"
   ]
  },
  {
   "cell_type": "code",
   "execution_count": 37,
   "metadata": {
    "editable": true,
    "slideshow": {
     "slide_type": "fragment"
    },
    "tags": []
   },
   "outputs": [
    {
     "data": {
      "text/plain": [
       "['9', '11']"
      ]
     },
     "execution_count": 37,
     "metadata": {},
     "output_type": "execute_result"
    }
   ],
   "source": [
    "pattern.findall(alltext) # equivalent to the earlier but longer version using RE"
   ]
  },
  {
   "cell_type": "code",
   "execution_count": 38,
   "metadata": {
    "editable": true,
    "slideshow": {
     "slide_type": "fragment"
    },
    "tags": []
   },
   "outputs": [
    {
     "data": {
      "text/plain": [
       "[\"I want to congratulate Senator Clinton on a hard-fought victory here in\\nNew Hampshire.\\n\\nA few weeks ago, no one imagined that we'd have accomplished what we did\\nhere tonight. For most of this campaign, we were far behind, and we\\nalways knew our climb would be steep. But in record numbers, you came\\nout and spoke up for change. And with your voices and your votes, you\\nmade it clear that at this moment - in this election - there is\\nsomething happening in America.\\n\\nThere is something happening when men and women in Des Moines and\\nDavenport; in Lebanon and Concord come out in the snows of January to\\nwait in lines that stretch block after block because they believe in\\nwhat this country can be.\\n\\nThere is something happening when Americans who are young in age and in\\nspirit - who have never before participated in politics - turn out in\\nnumbers we've never seen because they know in their hearts that this\\ntime must be different.\\n\\nThere is something happening when people vote not just for the party\\nthey belong to but the hopes they hold in common - that whether we are\\nrich or poor; black or white; Latino or Asian; whether we hail from Iowa\\nor New Hampshire, Nevada or South Carolina, we are ready to take this\\ncountry in a fundamentally new direction. That is what's happening in\\nAmerica right now. Change is what's happening in America.\\n\\nYou can be the new majority who can lead this nation out of a long\\npolitical darkness - Democrats, Independents and Republicans who are\\ntired of the division and distraction that has clouded Washington; who\\nknow that we can disagree without being disagreeable; who understand\\nthat if we mobilize our voices to challenge the money and influence\\nthat's stood in our way and challenge ourselves to reach for something\\nbetter, there's no problem we can't solve - no destiny we cannot\\nfulfill.\\n\\nOur new American majority can end the outrage of unaffordable,\\nunavailable health care in our time. We can bring doctors and patients;\\nworkers and businesses, Democrats and Republicans together; and we can\\ntell the drug and insurance industry that while they'll get a seat at\\nthe table, they don't get to buy every chair. Not this time. Not\\nnow. Our new majority can end the tax breaks for corporations that ship\\nour jobs overseas and put a middle-class tax cut into the pockets of the\\nworking Americans who deserve it.\\n\\nWe can stop sending our children to schools with corridors of shame and\\nstart putting them on a pathway to success. We can stop talking about\\nhow great teachers are and start rewarding them for their greatness. We\\ncan do this with our new majority.\\n\\nWe can harness the ingenuity of farmers and scientists; citizens and\\nentrepreneurs to free this nation from the tyranny of oil and save our\\nplanet from a point of no return. And when I am President, we will end\\nthis war in Iraq and bring our troops home; we will finish the job\\nagainst al Qaeda in Afghanistan; we will care for our veterans; we will\\nrestore our moral standing in the world; and we will never use \",\n",
       " '/',\n",
       " \" as a\\nway to scare up votes, because it is not a tactic to win an election, it\\nis a challenge that should unite America and the world against the\\ncommon threats of the twenty-first century: terrorism and nuclear\\nweapons; climate change and poverty; genocide and disease.\\n\\nAll of the candidates in this race share these goals. All have good\\nideas. And all are patriots who serve this country honorably.\\n\\nBut the reason our campaign has always been different is because it's\\nnot just about what I will do as President, it's also about what you,\\nthe people who love this country, can do to change it.\\n\\nThat's why tonight belongs to you.\\n\\nIt belongs to the organizers and the volunteers and the staff who\\nbelieved in our improbable journey and rallied so many others to join.\\n\\nWe know the battle ahead will be long, but always remember that no\\nmatter what obstacles stand in our way, nothing can withstand the power\\nof millions of voices calling for change. We have been told we cannot do\\nthis by a chorus of cynics who will only grow louder and more dissonant\\nin the weeks to come.\\n\\nWe've been asked to pause for a reality check. We've been warned against\\noffering the people of this nation false hope.\\n\\nBut in the unlikely story that is America, there has never been anything\\nfalse about hope. For when we have faced down impossible odds; when\\nwe've been told that we're not ready, or that we shouldn't try, or that\\nwe can't, generations of Americans have responded with a simple creed\\nthat sums up the spirit of a people.\\n\\nYes we can.\\n\\nIt was a creed written into the founding documents that declared the\\ndestiny of a nation.\\n\\nYes we can.\\n\\nIt was whispered by slaves and abolitionists as they blazed a trail\\ntoward freedom through the darkest of nights.\\n\\nYes we can.\\n\\nIt was sung by immigrants as they struck out from distant shores and\\npioneers who pushed westward against an unforgiving wilderness.\\n\\nYes we can.\\n\\nIt was the call of workers who organized; women who reached for the\\nballot; a President who chose the moon as our new frontier; and a King\\nwho took us to the mountaintop and pointed the way to the Promised Land.\\n\\nYes we can to justice and equality. Yes we can to opportunity and\\nprosperity. Yes we can heal this nation. Yes we can repair this\\nworld. Yes we can.\\n\\nAnd so tomorrow, as we take this campaign South and West; as we learn\\nthat the struggles of the textile worker in Spartanburg are not so\\ndifferent than the plight of the dishwasher in Las Vegas; that the hopes\\nof the little girl who goes to a crumbling school in Dillon are the same\\nas the dreams of the boy who learns on the streets of LA; we will\\nremember that there is something happening in America; that we are not\\nas divided as our politics suggests; that we are one people; we are one\\nnation; and together, we will begin the next great chapter in America's\\nstory with three words that will ring from coast to coast; from sea to\\nshining sea - Yes. We. Can.\\n\\\\Backslash\\n\"]"
      ]
     },
     "execution_count": 38,
     "metadata": {},
     "output_type": "execute_result"
    }
   ],
   "source": [
    "pattern.split(alltext)"
   ]
  },
  {
   "cell_type": "markdown",
   "metadata": {
    "editable": true,
    "jp-MarkdownHeadingCollapsed": true,
    "slideshow": {
     "slide_type": "slide"
    },
    "tags": []
   },
   "source": [
    "#### 1.6 `re.MULTILINE` or `re.M`"
   ]
  },
  {
   "cell_type": "markdown",
   "metadata": {
    "editable": true,
    "slideshow": {
     "slide_type": "fragment"
    },
    "tags": []
   },
   "source": [
    "\n",
    "\n",
    "##### When specified, it helps to search across lines in a single string. "
   ]
  },
  {
   "cell_type": "code",
   "execution_count": 39,
   "metadata": {
    "editable": true,
    "slideshow": {
     "slide_type": "fragment"
    },
    "tags": []
   },
   "outputs": [
    {
     "name": "stdout",
     "output_type": "stream",
     "text": [
      "python\n",
      "is\n",
      "fun\n"
     ]
    }
   ],
   "source": [
    "mline = \"python\\nis\\nfun\"\n",
    "print(mline)"
   ]
  },
  {
   "cell_type": "markdown",
   "metadata": {
    "editable": true,
    "slideshow": {
     "slide_type": "subslide"
    },
    "tags": []
   },
   "source": [
    "I want to search for \"fun\" in the third line, where it starts with an \"f\"\n",
    "\n",
    "- We can use `^` to search the start of a string\n",
    "- Be careful, `^` when used in `[]` means negating characters\n",
    "- `$` can be used to match the end of a string"
   ]
  },
  {
   "cell_type": "code",
   "execution_count": 40,
   "metadata": {
    "editable": true,
    "slideshow": {
     "slide_type": "fragment"
    },
    "tags": []
   },
   "outputs": [
    {
     "data": {
      "text/plain": [
       "[]"
      ]
     },
     "execution_count": 40,
     "metadata": {},
     "output_type": "execute_result"
    }
   ],
   "source": [
    "re.findall(r\"^f\\w*\", mline) # ^ match only start of string, \\w: word characters ([a-zA-Z0-9_]"
   ]
  },
  {
   "cell_type": "code",
   "execution_count": 41,
   "metadata": {
    "editable": true,
    "slideshow": {
     "slide_type": "fragment"
    },
    "tags": []
   },
   "outputs": [
    {
     "data": {
      "text/plain": [
       "['fun']"
      ]
     },
     "execution_count": 41,
     "metadata": {},
     "output_type": "execute_result"
    }
   ],
   "source": [
    "# re.findall(\"^f\\w*\", mline, re.M)\n",
    "re.findall(r\"^f\\w*\", mline, re.MULTILINE)"
   ]
  },
  {
   "cell_type": "markdown",
   "metadata": {
    "editable": true,
    "slideshow": {
     "slide_type": "slide"
    },
    "tags": []
   },
   "source": [
    "#### Short Exercise: \n",
    "\n",
    "What does the following code search for? "
   ]
  },
  {
   "cell_type": "code",
   "execution_count": 42,
   "metadata": {
    "editable": true,
    "slideshow": {
     "slide_type": "fragment"
    },
    "tags": []
   },
   "outputs": [
    {
     "data": {
      "text/plain": [
       "['New Hampshire.',\n",
       " 'something happening in America.',\n",
       " 'what this country can be.',\n",
       " 'time must be different.',\n",
       " \"America right now. Change is what's happening in America.\",\n",
       " 'fulfill.',\n",
       " 'working Americans who deserve it.',\n",
       " 'can do this with our new majority.',\n",
       " 'weapons; climate change and poverty; genocide and disease.',\n",
       " 'ideas. And all are patriots who serve this country honorably.',\n",
       " 'the people who love this country, can do to change it.',\n",
       " \"That's why tonight belongs to you.\",\n",
       " 'believed in our improbable journey and rallied so many others to join.',\n",
       " 'in the weeks to come.',\n",
       " 'offering the people of this nation false hope.']"
      ]
     },
     "execution_count": 42,
     "metadata": {},
     "output_type": "execute_result"
    }
   ],
   "source": [
    "re.findall(r\"^.*\\.$\", alltext, re.MULTILINE)[0:15]"
   ]
  },
  {
   "cell_type": "markdown",
   "metadata": {
    "editable": true,
    "slideshow": {
     "slide_type": "slide"
    },
    "tags": []
   },
   "source": [
    "### 2. Naive Bayes Classification"
   ]
  },
  {
   "cell_type": "markdown",
   "metadata": {
    "editable": true,
    "slideshow": {
     "slide_type": "fragment"
    },
    "tags": []
   },
   "source": [
    "* A conditional probability model that assigns probabilities for each class $k$ to an observation based on its $n$ features or $p(C_k|x_1, ...x_n)$.\n",
    "* The central assumption: all $n$ features are independent of each other, conditional on the class/category $C_k$.\n",
    "* Algorithm relies on Bayes' Theorem + a decision rule $$p(C_k|\\mathbf{x}) = \\dfrac{p(C_k)p(\\mathbf{x}|C_k)}{p(\\mathbf{x})}$$"
   ]
  },
  {
   "cell_type": "markdown",
   "metadata": {
    "editable": true,
    "slideshow": {
     "slide_type": "fragment"
    },
    "tags": []
   },
   "source": [
    "Read more about it: https://en.wikipedia.org/wiki/Naive_Bayes_classifier"
   ]
  },
  {
   "cell_type": "markdown",
   "metadata": {
    "editable": true,
    "slideshow": {
     "slide_type": "subslide"
    },
    "tags": []
   },
   "source": [
    "##### Why/When Naive Bayes"
   ]
  },
  {
   "cell_type": "markdown",
   "metadata": {
    "editable": true,
    "slideshow": {
     "slide_type": "fragment"
    },
    "tags": []
   },
   "source": [
    "* Great first classifier to try, relatively fast, requires less data than other classifiers, and can be very accurate provided assumptions hold\n",
    "* Popular in text classification problems"
   ]
  },
  {
   "cell_type": "markdown",
   "metadata": {
    "editable": true,
    "slideshow": {
     "slide_type": "fragment"
    },
    "tags": []
   },
   "source": [
    "More resources: https://www.analyticsvidhya.com/blog/2017/09/naive-bayes-explained/"
   ]
  },
  {
   "cell_type": "markdown",
   "metadata": {
    "editable": true,
    "slideshow": {
     "slide_type": "subslide"
    },
    "tags": []
   },
   "source": [
    "#### 2.1 Installation and Import Libraries"
   ]
  },
  {
   "cell_type": "code",
   "execution_count": 59,
   "metadata": {},
   "outputs": [
    {
     "name": "stdout",
     "output_type": "stream",
     "text": [
      "NLTK names corpus downloaded successfully.\n"
     ]
    },
    {
     "name": "stderr",
     "output_type": "stream",
     "text": [
      "[nltk_data] Error loading names: <urlopen error [SSL:\n",
      "[nltk_data]     CERTIFICATE_VERIFY_FAILED] certificate verify failed:\n",
      "[nltk_data]     unable to get local issuer certificate (_ssl.c:1018)>\n"
     ]
    }
   ],
   "source": [
    "# Install NLTK if not already installed\n",
    "try:\n",
    "    import nltk\n",
    "except ImportError:\n",
    "    import sys\n",
    "    !{sys.executable} -m pip install nltk\n",
    "    import nltk\n",
    "\n",
    "# SSL workaround for macOS\n",
    "import ssl\n",
    "try:\n",
    "    _create_unverified_https_context = ssl._create_unverified_context\n",
    "except AttributeError:\n",
    "    pass\n",
    "else:\n",
    "    ssl._create_default_https_context = _create_unverified_https_context\n",
    "\n",
    "# Try downloading the 'names' corpus\n",
    "try:\n",
    "    nltk.download('names')\n",
    "    print('NLTK names corpus downloaded successfully.')\n",
    "except Exception as e:\n",
    "    print('Error downloading NLTK names corpus:')\n",
    "    print(e)"
   ]
  },
  {
   "cell_type": "code",
   "execution_count": 63,
   "metadata": {
    "editable": true,
    "slideshow": {
     "slide_type": "fragment"
    },
    "tags": []
   },
   "outputs": [
    {
     "name": "stdout",
     "output_type": "stream",
     "text": [
      "Requirement already satisfied: nltk in /Library/Frameworks/Python.framework/Versions/3.13/lib/python3.13/site-packages (3.9.1)\n",
      "Requirement already satisfied: click in /Library/Frameworks/Python.framework/Versions/3.13/lib/python3.13/site-packages (from nltk) (8.2.1)\n",
      "Requirement already satisfied: joblib in /Library/Frameworks/Python.framework/Versions/3.13/lib/python3.13/site-packages (from nltk) (1.5.1)\n",
      "Requirement already satisfied: regex>=2021.8.3 in /Library/Frameworks/Python.framework/Versions/3.13/lib/python3.13/site-packages (from nltk) (2025.7.34)\n",
      "Requirement already satisfied: tqdm in /Library/Frameworks/Python.framework/Versions/3.13/lib/python3.13/site-packages (from nltk) (4.67.1)\n"
     ]
    }
   ],
   "source": [
    "!pip3 install nltk"
   ]
  },
  {
   "cell_type": "code",
   "execution_count": 3,
   "metadata": {},
   "outputs": [
    {
     "name": "stderr",
     "output_type": "stream",
     "text": [
      "[nltk_data] Downloading package names to /Users/claro/nltk_data...\n",
      "[nltk_data]   Unzipping corpora/names.zip.\n"
     ]
    },
    {
     "data": {
      "text/plain": [
       "True"
      ]
     },
     "execution_count": 3,
     "metadata": {},
     "output_type": "execute_result"
    }
   ],
   "source": [
    "import ssl\n",
    "import certifi\n",
    "import nltk\n",
    "\n",
    "ssl._create_default_https_context = lambda: ssl.create_default_context(cafile=certifi.where())\n",
    "\n",
    "nltk.download(\"names\")\n"
   ]
  },
  {
   "cell_type": "code",
   "execution_count": 4,
   "metadata": {
    "editable": true,
    "slideshow": {
     "slide_type": "fragment"
    },
    "tags": []
   },
   "outputs": [],
   "source": [
    "\n",
    "from nltk.corpus import names\n",
    "import random"
   ]
  },
  {
   "cell_type": "markdown",
   "metadata": {
    "editable": true,
    "slideshow": {
     "slide_type": "fragment"
    },
    "tags": []
   },
   "source": [
    "Docs for this library: https://www.nltk.org/api/nltk.classify.naivebayes.html"
   ]
  },
  {
   "cell_type": "markdown",
   "metadata": {
    "editable": true,
    "slideshow": {
     "slide_type": "subslide"
    },
    "tags": []
   },
   "source": [
    "* Create a list of tuples with names"
   ]
  },
  {
   "cell_type": "code",
   "execution_count": 5,
   "metadata": {
    "editable": true,
    "slideshow": {
     "slide_type": "fragment"
    },
    "tags": []
   },
   "outputs": [],
   "source": [
    "names = ([(name, 'male') for name in names.words('male.txt')] +\n",
    "        [(name, 'female') for name in names.words('female.txt')])\n",
    "\n",
    "# .words(fileid) reads the given file (male.txt or female.txt) and returns a Python list of words"
   ]
  },
  {
   "cell_type": "code",
   "execution_count": 6,
   "metadata": {
    "editable": true,
    "slideshow": {
     "slide_type": "subslide"
    },
    "tags": []
   },
   "outputs": [
    {
     "data": {
      "text/plain": [
       "[('Aamir', 'male'),\n",
       " ('Aaron', 'male'),\n",
       " ('Abbey', 'male'),\n",
       " ('Abbie', 'male'),\n",
       " ('Abbot', 'male'),\n",
       " ('Abbott', 'male'),\n",
       " ('Abby', 'male'),\n",
       " ('Abdel', 'male'),\n",
       " ('Abdul', 'male'),\n",
       " ('Abdulkarim', 'male'),\n",
       " ('Abdullah', 'male'),\n",
       " ('Abe', 'male'),\n",
       " ('Abel', 'male'),\n",
       " ('Abelard', 'male'),\n",
       " ('Abner', 'male'),\n",
       " ('Abraham', 'male'),\n",
       " ('Abram', 'male'),\n",
       " ('Ace', 'male'),\n",
       " ('Adair', 'male'),\n",
       " ('Adam', 'male')]"
      ]
     },
     "execution_count": 6,
     "metadata": {},
     "output_type": "execute_result"
    }
   ],
   "source": [
    "names[0:20]"
   ]
  },
  {
   "cell_type": "markdown",
   "metadata": {
    "editable": true,
    "slideshow": {
     "slide_type": "subslide"
    },
    "tags": []
   },
   "source": [
    "##### Now, we shuffle"
   ]
  },
  {
   "cell_type": "code",
   "execution_count": 7,
   "metadata": {
    "editable": true,
    "slideshow": {
     "slide_type": "fragment"
    },
    "tags": []
   },
   "outputs": [
    {
     "data": {
      "text/plain": [
       "[('Zora', 'female'),\n",
       " ('Mignon', 'female'),\n",
       " ('Arne', 'male'),\n",
       " ('Reiko', 'female'),\n",
       " ('Sue-elle', 'female')]"
      ]
     },
     "execution_count": 7,
     "metadata": {},
     "output_type": "execute_result"
    }
   ],
   "source": [
    "random.shuffle(names)\n",
    "names[0:5]"
   ]
  },
  {
   "cell_type": "markdown",
   "metadata": {
    "editable": true,
    "slideshow": {
     "slide_type": "subslide"
    },
    "tags": []
   },
   "source": [
    "#### 2.2 Split Training and Test Sets"
   ]
  },
  {
   "cell_type": "code",
   "execution_count": 8,
   "metadata": {
    "editable": true,
    "slideshow": {
     "slide_type": "fragment"
    },
    "tags": []
   },
   "outputs": [
    {
     "data": {
      "text/plain": [
       "7944"
      ]
     },
     "execution_count": 8,
     "metadata": {},
     "output_type": "execute_result"
    }
   ],
   "source": [
    "len(names) # N total observations\n",
    "# print(names)"
   ]
  },
  {
   "cell_type": "markdown",
   "metadata": {
    "editable": true,
    "slideshow": {
     "slide_type": "fragment"
    },
    "tags": []
   },
   "source": [
    "* Define training and test set sizes"
   ]
  },
  {
   "cell_type": "code",
   "execution_count": 9,
   "metadata": {
    "editable": true,
    "slideshow": {
     "slide_type": "fragment"
    },
    "tags": []
   },
   "outputs": [],
   "source": [
    "train_size = 5000"
   ]
  },
  {
   "cell_type": "markdown",
   "metadata": {
    "editable": true,
    "slideshow": {
     "slide_type": "fragment"
    },
    "tags": []
   },
   "source": [
    "* Split train and test objects"
   ]
  },
  {
   "cell_type": "code",
   "execution_count": 10,
   "metadata": {
    "editable": true,
    "slideshow": {
     "slide_type": "fragment"
    },
    "tags": []
   },
   "outputs": [],
   "source": [
    "train_names = names[:train_size]\n",
    "test_names = names[train_size:]"
   ]
  },
  {
   "cell_type": "markdown",
   "metadata": {
    "editable": true,
    "slideshow": {
     "slide_type": "subslide"
    },
    "tags": []
   },
   "source": [
    "#### 2.3 Define Features"
   ]
  },
  {
   "cell_type": "markdown",
   "metadata": {
    "editable": true,
    "slideshow": {
     "slide_type": "fragment"
    },
    "tags": []
   },
   "source": [
    "* A simple feature: get the last letter of the name"
   ]
  },
  {
   "cell_type": "code",
   "execution_count": 11,
   "metadata": {
    "editable": true,
    "slideshow": {
     "slide_type": "fragment"
    },
    "tags": []
   },
   "outputs": [],
   "source": [
    "def g_features1(name):\n",
    "  return {'last_letter': name[-1]}"
   ]
  },
  {
   "cell_type": "markdown",
   "metadata": {
    "editable": true,
    "slideshow": {
     "slide_type": "fragment"
    },
    "tags": []
   },
   "source": [
    "Tips: Python functions can return multiple values"
   ]
  },
  {
   "cell_type": "code",
   "execution_count": 12,
   "metadata": {
    "editable": true,
    "slideshow": {
     "slide_type": "fragment"
    },
    "tags": []
   },
   "outputs": [
    {
     "data": {
      "text/plain": [
       "(5, 10)"
      ]
     },
     "execution_count": 12,
     "metadata": {},
     "output_type": "execute_result"
    }
   ],
   "source": [
    "# Quick break — some syntax:\n",
    "def return_two():\n",
    "  return 5, 10\n",
    "\n",
    "# When a method returns two values, we can use this format: \n",
    "x, y = return_two()\n",
    "x, y"
   ]
  },
  {
   "cell_type": "markdown",
   "metadata": {
    "editable": true,
    "slideshow": {
     "slide_type": "subslide"
    },
    "tags": []
   },
   "source": [
    "#### 2.4 Data Preparation"
   ]
  },
  {
   "cell_type": "markdown",
   "metadata": {
    "editable": true,
    "slideshow": {
     "slide_type": "fragment"
    },
    "tags": []
   },
   "source": [
    "Loop over names, and return tuple of dictionary and label"
   ]
  },
  {
   "cell_type": "code",
   "execution_count": 13,
   "metadata": {
    "editable": true,
    "slideshow": {
     "slide_type": "fragment"
    },
    "tags": []
   },
   "outputs": [
    {
     "data": {
      "text/plain": [
       "({'last_letter': 'a'}, 'female')"
      ]
     },
     "execution_count": 13,
     "metadata": {},
     "output_type": "execute_result"
    }
   ],
   "source": [
    "def g_features1(name):\n",
    "  return {'last_letter': name[-1]}\n",
    "\n",
    "# print(train_names[:3]) # [('Del', 'female'), ('Lorrin', 'female'), ('Daren', 'male')]\n",
    "\n",
    "train_set = [(g_features1(n), g) for (n, g) in train_names] # predicting based on the last letter of the name\n",
    "test_set = [(g_features1(n), g) for (n,g) in test_names]\n",
    "\n",
    "train_set[0]"
   ]
  },
  {
   "cell_type": "markdown",
   "metadata": {
    "editable": true,
    "slideshow": {
     "slide_type": "subslide"
    },
    "tags": []
   },
   "source": [
    "#### 2.5 Train the Classifier"
   ]
  },
  {
   "cell_type": "markdown",
   "metadata": {
    "editable": true,
    "slideshow": {
     "slide_type": "fragment"
    },
    "tags": []
   },
   "source": [
    "##### Run the naive Bayes classifier for the train set"
   ]
  },
  {
   "cell_type": "code",
   "execution_count": 14,
   "metadata": {
    "editable": true,
    "slideshow": {
     "slide_type": "fragment"
    },
    "tags": []
   },
   "outputs": [],
   "source": [
    "classifier = nltk.NaiveBayesClassifier.train(train_set)"
   ]
  },
  {
   "cell_type": "markdown",
   "metadata": {
    "editable": true,
    "slideshow": {
     "slide_type": "subslide"
    },
    "tags": []
   },
   "source": [
    "#### 2.6 Test your Classifier"
   ]
  },
  {
   "cell_type": "markdown",
   "metadata": {
    "editable": true,
    "slideshow": {
     "slide_type": "fragment"
    },
    "tags": []
   },
   "source": [
    "* Apply the classifier to some names"
   ]
  },
  {
   "cell_type": "code",
   "execution_count": 15,
   "metadata": {
    "editable": true,
    "slideshow": {
     "slide_type": "fragment"
    },
    "tags": []
   },
   "outputs": [
    {
     "data": {
      "text/plain": [
       "'male'"
      ]
     },
     "execution_count": 15,
     "metadata": {},
     "output_type": "execute_result"
    }
   ],
   "source": [
    "classifier.classify(g_features1('Soyeon'))"
   ]
  },
  {
   "cell_type": "code",
   "execution_count": 16,
   "metadata": {
    "editable": true,
    "slideshow": {
     "slide_type": "fragment"
    },
    "tags": []
   },
   "outputs": [
    {
     "data": {
      "text/plain": [
       "'female'"
      ]
     },
     "execution_count": 16,
     "metadata": {},
     "output_type": "execute_result"
    }
   ],
   "source": [
    "classifier.classify(g_features1('Leticia'))"
   ]
  },
  {
   "cell_type": "code",
   "execution_count": 17,
   "metadata": {
    "editable": true,
    "slideshow": {
     "slide_type": "fragment"
    },
    "tags": []
   },
   "outputs": [
    {
     "data": {
      "text/plain": [
       "'male'"
      ]
     },
     "execution_count": 17,
     "metadata": {},
     "output_type": "execute_result"
    }
   ],
   "source": [
    "classifier.classify(g_features1('Jacob'))"
   ]
  },
  {
   "cell_type": "markdown",
   "metadata": {
    "editable": true,
    "slideshow": {
     "slide_type": "subslide"
    },
    "tags": []
   },
   "source": [
    "* Get probabilities"
   ]
  },
  {
   "cell_type": "code",
   "execution_count": 18,
   "metadata": {
    "editable": true,
    "slideshow": {
     "slide_type": "fragment"
    },
    "tags": []
   },
   "outputs": [
    {
     "data": {
      "text/plain": [
       "0.43369506638932254"
      ]
     },
     "execution_count": 18,
     "metadata": {},
     "output_type": "execute_result"
    }
   ],
   "source": [
    "classifier.prob_classify(g_features1('Soyeon')).prob(\"female\")"
   ]
  },
  {
   "cell_type": "code",
   "execution_count": 19,
   "metadata": {
    "editable": true,
    "slideshow": {
     "slide_type": "fragment"
    },
    "tags": []
   },
   "outputs": [
    {
     "data": {
      "text/plain": [
       "0.018926247985492417"
      ]
     },
     "execution_count": 19,
     "metadata": {},
     "output_type": "execute_result"
    }
   ],
   "source": [
    "classifier.prob_classify(g_features1('Leticia')).prob(\"male\")"
   ]
  },
  {
   "cell_type": "markdown",
   "metadata": {
    "editable": true,
    "slideshow": {
     "slide_type": "subslide"
    },
    "tags": []
   },
   "source": [
    "##### We can check the overall accuracy with our test set. \n",
    "\n",
    "More on accuracy, F1, precision, recall: https://towardsdatascience.com/accuracy-precision-recall-or-f1-331fb37c5cb9"
   ]
  },
  {
   "cell_type": "code",
   "execution_count": 20,
   "metadata": {
    "editable": true,
    "slideshow": {
     "slide_type": "fragment"
    },
    "tags": []
   },
   "outputs": [
    {
     "name": "stdout",
     "output_type": "stream",
     "text": [
      "0.7608695652173914\n"
     ]
    }
   ],
   "source": [
    "print(nltk.classify.accuracy(classifier, test_set))"
   ]
  },
  {
   "cell_type": "markdown",
   "metadata": {
    "editable": true,
    "slideshow": {
     "slide_type": "subslide"
    },
    "tags": []
   },
   "source": [
    "#### 2.7 Feature Attribution"
   ]
  },
  {
   "cell_type": "markdown",
   "metadata": {
    "editable": true,
    "slideshow": {
     "slide_type": "fragment"
    },
    "tags": []
   },
   "source": [
    "* Lets see what is driving this"
   ]
  },
  {
   "cell_type": "code",
   "execution_count": 21,
   "metadata": {
    "editable": true,
    "slideshow": {
     "slide_type": "fragment"
    },
    "tags": []
   },
   "outputs": [
    {
     "name": "stdout",
     "output_type": "stream",
     "text": [
      "Most Informative Features\n",
      "             last_letter = 'a'            female : male   =     30.9 : 1.0\n",
      "             last_letter = 'k'              male : female =     29.1 : 1.0\n",
      "             last_letter = 'v'              male : female =     13.9 : 1.0\n",
      "             last_letter = 'f'              male : female =      9.0 : 1.0\n",
      "             last_letter = 'd'              male : female =      8.9 : 1.0\n"
     ]
    }
   ],
   "source": [
    "classifier.show_most_informative_features(5)"
   ]
  },
  {
   "cell_type": "markdown",
   "metadata": {
    "editable": true,
    "slideshow": {
     "slide_type": "subslide"
    },
    "tags": []
   },
   "source": [
    "Let's be smarter and add more features!"
   ]
  },
  {
   "cell_type": "code",
   "execution_count": 22,
   "metadata": {
    "editable": true,
    "slideshow": {
     "slide_type": "fragment"
    },
    "tags": []
   },
   "outputs": [],
   "source": [
    "# What all are we including now?\n",
    "def g_features2(name):\n",
    "  features = {}\n",
    "  features[\"firstletter\"] = name[0].lower()\n",
    "  features[\"lastletter\"] = name[-1].lower()\n",
    "  for letter in 'abcdefghijklmnopqrstuvwxyz':\n",
    "      features[\"count(%s)\" % letter] = name.lower().count(letter)\n",
    "      features[\"has(%s)\" % letter] = (letter in name.lower())\n",
    "  return features"
   ]
  },
  {
   "cell_type": "code",
   "execution_count": 23,
   "metadata": {
    "editable": true,
    "scrolled": true,
    "slideshow": {
     "slide_type": "fragment"
    },
    "tags": []
   },
   "outputs": [
    {
     "data": {
      "text/plain": [
       "{'firstletter': 's',\n",
       " 'lastletter': 'n',\n",
       " 'count(a)': 0,\n",
       " 'has(a)': False,\n",
       " 'count(b)': 0,\n",
       " 'has(b)': False,\n",
       " 'count(c)': 0,\n",
       " 'has(c)': False,\n",
       " 'count(d)': 0,\n",
       " 'has(d)': False,\n",
       " 'count(e)': 1,\n",
       " 'has(e)': True,\n",
       " 'count(f)': 0,\n",
       " 'has(f)': False,\n",
       " 'count(g)': 0,\n",
       " 'has(g)': False,\n",
       " 'count(h)': 0,\n",
       " 'has(h)': False,\n",
       " 'count(i)': 0,\n",
       " 'has(i)': False,\n",
       " 'count(j)': 0,\n",
       " 'has(j)': False,\n",
       " 'count(k)': 0,\n",
       " 'has(k)': False,\n",
       " 'count(l)': 0,\n",
       " 'has(l)': False,\n",
       " 'count(m)': 0,\n",
       " 'has(m)': False,\n",
       " 'count(n)': 1,\n",
       " 'has(n)': True,\n",
       " 'count(o)': 2,\n",
       " 'has(o)': True,\n",
       " 'count(p)': 0,\n",
       " 'has(p)': False,\n",
       " 'count(q)': 0,\n",
       " 'has(q)': False,\n",
       " 'count(r)': 0,\n",
       " 'has(r)': False,\n",
       " 'count(s)': 1,\n",
       " 'has(s)': True,\n",
       " 'count(t)': 0,\n",
       " 'has(t)': False,\n",
       " 'count(u)': 0,\n",
       " 'has(u)': False,\n",
       " 'count(v)': 0,\n",
       " 'has(v)': False,\n",
       " 'count(w)': 0,\n",
       " 'has(w)': False,\n",
       " 'count(x)': 0,\n",
       " 'has(x)': False,\n",
       " 'count(y)': 1,\n",
       " 'has(y)': True,\n",
       " 'count(z)': 0,\n",
       " 'has(z)': False}"
      ]
     },
     "execution_count": 23,
     "metadata": {},
     "output_type": "execute_result"
    }
   ],
   "source": [
    "g_features2('Soyeon')"
   ]
  },
  {
   "cell_type": "markdown",
   "metadata": {
    "editable": true,
    "slideshow": {
     "slide_type": "subslide"
    },
    "tags": []
   },
   "source": [
    "* Run for train set"
   ]
  },
  {
   "cell_type": "code",
   "execution_count": 24,
   "metadata": {
    "editable": true,
    "slideshow": {
     "slide_type": "fragment"
    },
    "tags": []
   },
   "outputs": [],
   "source": [
    "train_set = [(g_features2(n), g) for (n,g) in train_names]"
   ]
  },
  {
   "cell_type": "markdown",
   "metadata": {
    "editable": true,
    "slideshow": {
     "slide_type": "fragment"
    },
    "tags": []
   },
   "source": [
    "* Run for test set"
   ]
  },
  {
   "cell_type": "code",
   "execution_count": 25,
   "metadata": {
    "editable": true,
    "slideshow": {
     "slide_type": "fragment"
    },
    "tags": []
   },
   "outputs": [],
   "source": [
    "test_set = [(g_features2(n), g) for (n,g) in test_names]"
   ]
  },
  {
   "cell_type": "markdown",
   "metadata": {
    "editable": true,
    "slideshow": {
     "slide_type": "fragment"
    },
    "tags": []
   },
   "source": [
    "* Run new classifier"
   ]
  },
  {
   "cell_type": "code",
   "execution_count": 26,
   "metadata": {
    "editable": true,
    "slideshow": {
     "slide_type": "fragment"
    },
    "tags": []
   },
   "outputs": [],
   "source": [
    "classifier_new = nltk.NaiveBayesClassifier.train(train_set)"
   ]
  },
  {
   "cell_type": "markdown",
   "metadata": {
    "editable": true,
    "slideshow": {
     "slide_type": "fragment"
    },
    "tags": []
   },
   "source": [
    "* Check the overall accuracy with test set"
   ]
  },
  {
   "cell_type": "code",
   "execution_count": 27,
   "metadata": {
    "editable": true,
    "slideshow": {
     "slide_type": "fragment"
    },
    "tags": []
   },
   "outputs": [
    {
     "name": "stdout",
     "output_type": "stream",
     "text": [
      "0.7822690217391305\n"
     ]
    }
   ],
   "source": [
    "print(nltk.classify.accuracy(classifier_new, test_set))"
   ]
  },
  {
   "cell_type": "markdown",
   "metadata": {
    "editable": true,
    "slideshow": {
     "slide_type": "subslide"
    },
    "tags": []
   },
   "source": [
    "* Lets see what is driving this"
   ]
  },
  {
   "cell_type": "code",
   "execution_count": 28,
   "metadata": {
    "editable": true,
    "slideshow": {
     "slide_type": "fragment"
    },
    "tags": []
   },
   "outputs": [
    {
     "name": "stdout",
     "output_type": "stream",
     "text": [
      "Most Informative Features\n",
      "              lastletter = 'a'            female : male   =     30.9 : 1.0\n",
      "              lastletter = 'k'              male : female =     29.1 : 1.0\n",
      "              lastletter = 'v'              male : female =     13.9 : 1.0\n",
      "              lastletter = 'f'              male : female =      9.0 : 1.0\n",
      "              lastletter = 'd'              male : female =      8.9 : 1.0\n",
      "              lastletter = 'm'              male : female =      7.7 : 1.0\n",
      "                count(v) = 2              female : male   =      7.4 : 1.0\n",
      "              lastletter = 'o'              male : female =      7.1 : 1.0\n",
      "              lastletter = 'r'              male : female =      6.4 : 1.0\n",
      "              lastletter = 'w'              male : female =      6.4 : 1.0\n",
      "                count(i) = 3                male : female =      6.1 : 1.0\n",
      "              lastletter = 's'              male : female =      4.5 : 1.0\n",
      "                count(o) = 2                male : female =      4.5 : 1.0\n",
      "                  has(w) = True             male : female =      4.3 : 1.0\n",
      "                count(w) = 1                male : female =      4.2 : 1.0\n",
      "                count(a) = 3              female : male   =      4.2 : 1.0\n",
      "              lastletter = 't'              male : female =      4.1 : 1.0\n",
      "              lastletter = 'i'            female : male   =      4.0 : 1.0\n",
      "              lastletter = 'g'              male : female =      3.9 : 1.0\n",
      "              lastletter = 'j'              male : female =      3.9 : 1.0\n"
     ]
    }
   ],
   "source": [
    "classifier_new.show_most_informative_features(20)"
   ]
  },
  {
   "cell_type": "code",
   "execution_count": 29,
   "metadata": {},
   "outputs": [
    {
     "data": {
      "text/plain": [
       "0.05451064890152398"
      ]
     },
     "execution_count": 29,
     "metadata": {},
     "output_type": "execute_result"
    }
   ],
   "source": [
    "classifier_new.prob_classify(g_features2('Soyeon')).prob(\"female\") # haha"
   ]
  },
  {
   "cell_type": "markdown",
   "metadata": {
    "editable": true,
    "slideshow": {
     "slide_type": "subslide"
    },
    "tags": []
   },
   "source": [
    "* Worse? Better? How can we refine?\n",
    "* Lets look at the errors from this model and see if we can do better"
   ]
  },
  {
   "cell_type": "code",
   "execution_count": 30,
   "metadata": {
    "editable": true,
    "slideshow": {
     "slide_type": "fragment"
    },
    "tags": []
   },
   "outputs": [],
   "source": [
    "errors = []\n",
    "for (name, label) in test_names:\n",
    "  guess = classifier.classify(g_features2(name)) # predicts male, female\n",
    "  if guess != label:\n",
    "    prob = classifier.prob_classify(g_features2(name)).prob(guess)\n",
    "    # prob_classify returns a probability distribution over the classes, e.g., {'male': 0.85, 'female': 0.15}\n",
    "    errors.append((label, guess, prob, name))"
   ]
  },
  {
   "cell_type": "code",
   "execution_count": 31,
   "metadata": {
    "editable": true,
    "slideshow": {
     "slide_type": "fragment"
    },
    "tags": []
   },
   "outputs": [
    {
     "name": "stdout",
     "output_type": "stream",
     "text": [
      "correct=male guess=female prob=0.63 name=Aaron\n",
      "correct=male guess=female prob=0.63 name=Abbot\n",
      "correct=male guess=female prob=0.63 name=Abbott\n",
      "correct=male guess=female prob=0.63 name=Abel\n",
      "correct=male guess=female prob=0.63 name=Abraham\n",
      "correct=male guess=female prob=0.63 name=Adair\n",
      "correct=male guess=female prob=0.63 name=Adam\n",
      "correct=male guess=female prob=0.63 name=Adnan\n",
      "correct=male guess=female prob=0.63 name=Adolph\n",
      "correct=male guess=female prob=0.63 name=Adolpho\n",
      "correct=male guess=female prob=0.63 name=Adrick\n",
      "correct=male guess=female prob=0.63 name=Ajai\n",
      "correct=male guess=female prob=0.63 name=Ajay\n",
      "correct=male guess=female prob=0.63 name=Alastair\n",
      "correct=male guess=female prob=0.63 name=Albrecht\n",
      "correct=male guess=female prob=0.63 name=Aldric\n",
      "correct=male guess=female prob=0.63 name=Aldrich\n",
      "correct=male guess=female prob=0.63 name=Alec\n",
      "correct=male guess=female prob=0.63 name=Aleks\n",
      "correct=male guess=female prob=0.63 name=Alexander\n",
      "correct=male guess=female prob=0.63 name=Alf\n",
      "correct=male guess=female prob=0.63 name=Alfonse\n",
      "correct=male guess=female prob=0.63 name=Algernon\n",
      "correct=male guess=female prob=0.63 name=Alic\n",
      "correct=male guess=female prob=0.63 name=Allah\n",
      "correct=male guess=female prob=0.63 name=Allen\n",
      "correct=male guess=female prob=0.63 name=Alley\n",
      "correct=male guess=female prob=0.63 name=Alonzo\n",
      "correct=male guess=female prob=0.63 name=Alphonse\n",
      "correct=male guess=female prob=0.63 name=Alton\n",
      "correct=male guess=female prob=0.63 name=Amadeus\n",
      "correct=male guess=female prob=0.63 name=Ambros\n",
      "correct=male guess=female prob=0.63 name=Ambrosi\n",
      "correct=male guess=female prob=0.63 name=Ambrosio\n",
      "correct=male guess=female prob=0.63 name=Amos\n",
      "correct=male guess=female prob=0.63 name=Anatol\n",
      "correct=male guess=female prob=0.63 name=Anatoly\n",
      "correct=male guess=female prob=0.63 name=Andres\n",
      "correct=male guess=female prob=0.63 name=Andrey\n",
      "correct=male guess=female prob=0.63 name=Andros\n",
      "correct=male guess=female prob=0.63 name=Andrus\n",
      "correct=male guess=female prob=0.63 name=Angelico\n",
      "correct=male guess=female prob=0.63 name=Angie\n",
      "correct=male guess=female prob=0.63 name=Ansell\n",
      "correct=male guess=female prob=0.63 name=Anthony\n",
      "correct=male guess=female prob=0.63 name=Antin\n",
      "correct=male guess=female prob=0.63 name=Antonino\n",
      "correct=male guess=female prob=0.63 name=Anurag\n",
      "correct=male guess=female prob=0.63 name=Apollo\n",
      "correct=male guess=female prob=0.63 name=Apostolos\n",
      "correct=male guess=female prob=0.63 name=Ari\n",
      "correct=male guess=female prob=0.63 name=Arie\n",
      "correct=male guess=female prob=0.63 name=Arlo\n",
      "correct=male guess=female prob=0.63 name=Armand\n",
      "correct=male guess=female prob=0.63 name=Armstrong\n",
      "correct=male guess=female prob=0.63 name=Arnie\n",
      "correct=male guess=female prob=0.63 name=Arnoldo\n",
      "correct=male guess=female prob=0.63 name=Arthur\n",
      "correct=male guess=female prob=0.63 name=Artie\n",
      "correct=male guess=female prob=0.63 name=Arvind\n",
      "correct=male guess=female prob=0.63 name=Ashby\n",
      "correct=male guess=female prob=0.63 name=Ashish\n",
      "correct=male guess=female prob=0.63 name=Ashley\n",
      "correct=male guess=female prob=0.63 name=Ashton\n",
      "correct=male guess=female prob=0.63 name=Aub\n",
      "correct=male guess=female prob=0.63 name=Aube\n",
      "correct=male guess=female prob=0.63 name=Aubrey\n",
      "correct=male guess=female prob=0.63 name=Augustine\n",
      "correct=male guess=female prob=0.63 name=Augusto\n",
      "correct=male guess=female prob=0.63 name=Austin\n",
      "correct=male guess=female prob=0.63 name=Avi\n",
      "correct=male guess=female prob=0.63 name=Avram\n",
      "correct=male guess=female prob=0.63 name=Avrom\n",
      "correct=male guess=female prob=0.63 name=Aylmer\n",
      "correct=male guess=female prob=0.63 name=Baillie\n",
      "correct=male guess=female prob=0.63 name=Baily\n",
      "correct=male guess=female prob=0.63 name=Bancroft\n",
      "correct=male guess=female prob=0.63 name=Barbabas\n",
      "correct=male guess=female prob=0.63 name=Barnabe\n",
      "correct=male guess=female prob=0.63 name=Barnard\n",
      "correct=male guess=female prob=0.63 name=Barnebas\n",
      "correct=male guess=female prob=0.63 name=Barnie\n",
      "correct=male guess=female prob=0.63 name=Barret\n",
      "correct=male guess=female prob=0.63 name=Barrie\n",
      "correct=male guess=female prob=0.63 name=Barris\n",
      "correct=male guess=female prob=0.63 name=Bart\n",
      "correct=male guess=female prob=0.63 name=Barth\n",
      "correct=male guess=female prob=0.63 name=Barthel\n",
      "correct=male guess=female prob=0.63 name=Bartholemy\n",
      "correct=male guess=female prob=0.63 name=Bartholomew\n",
      "correct=male guess=female prob=0.63 name=Bartie\n",
      "correct=male guess=female prob=0.63 name=Bartolemo\n",
      "correct=male guess=female prob=0.63 name=Bartolomeo\n",
      "correct=male guess=female prob=0.63 name=Barton\n",
      "correct=male guess=female prob=0.63 name=Basil\n",
      "correct=male guess=female prob=0.63 name=Bay\n",
      "correct=male guess=female prob=0.63 name=Bealle\n",
      "correct=male guess=female prob=0.63 name=Bear\n",
      "correct=male guess=female prob=0.63 name=Beauregard\n",
      "correct=male guess=female prob=0.63 name=Benedict\n",
      "correct=male guess=female prob=0.63 name=Benjie\n",
      "correct=male guess=female prob=0.63 name=Benjy\n",
      "correct=male guess=female prob=0.63 name=Bennett\n",
      "correct=male guess=female prob=0.63 name=Benson\n",
      "correct=male guess=female prob=0.63 name=Bentley\n",
      "correct=male guess=female prob=0.63 name=Beowulf\n",
      "correct=male guess=female prob=0.63 name=Berchtold\n",
      "correct=male guess=female prob=0.63 name=Bernard\n",
      "correct=male guess=female prob=0.63 name=Bernardo\n",
      "correct=male guess=female prob=0.63 name=Bernd\n",
      "correct=male guess=female prob=0.63 name=Bernhard\n",
      "correct=male guess=female prob=0.63 name=Bharat\n",
      "correct=male guess=female prob=0.63 name=Billie\n",
      "correct=male guess=female prob=0.63 name=Billy\n",
      "correct=male guess=female prob=0.63 name=Bing\n",
      "correct=male guess=female prob=0.63 name=Blayne\n",
      "correct=male guess=female prob=0.63 name=Bob\n",
      "correct=male guess=female prob=0.63 name=Bogart\n",
      "correct=male guess=female prob=0.63 name=Bogdan\n",
      "correct=male guess=female prob=0.63 name=Boris\n",
      "correct=male guess=female prob=0.63 name=Boyce\n",
      "correct=male guess=female prob=0.63 name=Brad\n",
      "correct=male guess=female prob=0.63 name=Bret\n",
      "correct=male guess=female prob=0.63 name=Brice\n",
      "correct=male guess=female prob=0.63 name=Briggs\n",
      "correct=male guess=female prob=0.63 name=Brock\n",
      "correct=male guess=female prob=0.63 name=Broddy\n",
      "correct=male guess=female prob=0.63 name=Broderic\n",
      "correct=male guess=female prob=0.63 name=Broderick\n",
      "correct=male guess=female prob=0.63 name=Brooke\n",
      "correct=male guess=female prob=0.63 name=Bryant\n",
      "correct=male guess=female prob=0.63 name=Bubba\n",
      "correct=male guess=female prob=0.63 name=Bucky\n",
      "correct=male guess=female prob=0.63 name=Burgess\n",
      "correct=male guess=female prob=0.63 name=Burt\n",
      "correct=male guess=female prob=0.63 name=Butler\n",
      "correct=male guess=female prob=0.63 name=Caesar\n",
      "correct=male guess=female prob=0.63 name=Caldwell\n",
      "correct=male guess=female prob=0.63 name=Cam\n",
      "correct=male guess=female prob=0.63 name=Cammy\n",
      "correct=male guess=female prob=0.63 name=Carey\n",
      "correct=male guess=female prob=0.63 name=Carleigh\n",
      "correct=male guess=female prob=0.63 name=Carmine\n",
      "correct=male guess=female prob=0.63 name=Casey\n",
      "correct=male guess=female prob=0.63 name=Caspar\n",
      "correct=male guess=female prob=0.63 name=Cecil\n",
      "correct=male guess=female prob=0.63 name=Cesar\n",
      "correct=male guess=female prob=0.63 name=Chaddy\n",
      "correct=male guess=female prob=0.63 name=Chan\n",
      "correct=male guess=female prob=0.63 name=Chanderjit\n",
      "correct=male guess=female prob=0.63 name=Chandler\n",
      "correct=male guess=female prob=0.63 name=Charlie\n",
      "correct=male guess=female prob=0.63 name=Chauncey\n",
      "correct=male guess=female prob=0.63 name=Chelton\n",
      "correct=male guess=female prob=0.63 name=Chet\n",
      "correct=male guess=female prob=0.63 name=Chevalier\n",
      "correct=male guess=female prob=0.63 name=Christiano\n",
      "correct=male guess=female prob=0.63 name=Christof\n",
      "correct=male guess=female prob=0.63 name=Christophe\n",
      "correct=male guess=female prob=0.63 name=Christopher\n",
      "correct=male guess=female prob=0.63 name=Christorpher\n",
      "correct=male guess=female prob=0.63 name=Christos\n",
      "correct=male guess=female prob=0.63 name=Christy\n",
      "correct=male guess=female prob=0.63 name=Chuck\n",
      "correct=male guess=female prob=0.63 name=Clark\n",
      "correct=male guess=female prob=0.63 name=Claude\n",
      "correct=male guess=female prob=0.63 name=Claus\n",
      "correct=male guess=female prob=0.63 name=Clay\n",
      "correct=male guess=female prob=0.63 name=Clement\n",
      "correct=male guess=female prob=0.63 name=Clemmie\n",
      "correct=male guess=female prob=0.63 name=Clinten\n",
      "correct=male guess=female prob=0.63 name=Clinton\n",
      "correct=male guess=female prob=0.63 name=Clive\n",
      "correct=male guess=female prob=0.63 name=Clyde\n",
      "correct=male guess=female prob=0.63 name=Cobby\n",
      "correct=male guess=female prob=0.63 name=Conan\n",
      "correct=male guess=female prob=0.63 name=Cooper\n",
      "correct=male guess=female prob=0.63 name=Corey\n",
      "correct=male guess=female prob=0.63 name=Corky\n",
      "correct=male guess=female prob=0.63 name=Corrie\n",
      "correct=male guess=female prob=0.63 name=Cory\n",
      "correct=male guess=female prob=0.63 name=Craig\n",
      "correct=male guess=female prob=0.63 name=Crawford\n",
      "correct=male guess=female prob=0.63 name=Creighton\n",
      "correct=male guess=female prob=0.63 name=Cy\n",
      "correct=male guess=female prob=0.63 name=Daffy\n",
      "correct=male guess=female prob=0.63 name=Dale\n",
      "correct=male guess=female prob=0.63 name=Dan\n",
      "correct=male guess=female prob=0.63 name=Dani\n",
      "correct=male guess=female prob=0.63 name=Dannie\n",
      "correct=male guess=female prob=0.63 name=Darian\n",
      "correct=male guess=female prob=0.63 name=Darius\n",
      "correct=male guess=female prob=0.63 name=Darren\n",
      "correct=male guess=female prob=0.63 name=Darrick\n",
      "correct=male guess=female prob=0.63 name=Darryl\n",
      "correct=male guess=female prob=0.63 name=Dave\n",
      "correct=male guess=female prob=0.63 name=Davidde\n",
      "correct=male guess=female prob=0.63 name=Davide\n",
      "correct=male guess=female prob=0.63 name=Davie\n",
      "correct=male guess=female prob=0.63 name=Davoud\n",
      "correct=male guess=female prob=0.63 name=Davy\n",
      "correct=male guess=female prob=0.63 name=Deane\n",
      "correct=male guess=female prob=0.63 name=Dennie\n",
      "correct=male guess=female prob=0.63 name=Dennis\n",
      "correct=male guess=female prob=0.63 name=Derick\n",
      "correct=male guess=female prob=0.63 name=Derrek\n",
      "correct=male guess=female prob=0.63 name=Derrol\n",
      "correct=male guess=female prob=0.63 name=Derron\n",
      "correct=male guess=female prob=0.63 name=Devin\n",
      "correct=male guess=female prob=0.63 name=Dewitt\n",
      "correct=male guess=female prob=0.63 name=Dexter\n",
      "correct=male guess=female prob=0.63 name=Dickey\n",
      "correct=male guess=female prob=0.63 name=Dietrich\n",
      "correct=male guess=female prob=0.63 name=Dimitrou\n",
      "correct=male guess=female prob=0.63 name=Dimitry\n",
      "correct=male guess=female prob=0.63 name=Dino\n",
      "correct=male guess=female prob=0.63 name=Dominic\n",
      "correct=male guess=female prob=0.63 name=Donny\n",
      "correct=male guess=female prob=0.63 name=Donovan\n",
      "correct=male guess=female prob=0.63 name=Dorian\n",
      "correct=male guess=female prob=0.63 name=Dory\n",
      "correct=male guess=female prob=0.63 name=Doug\n",
      "correct=male guess=female prob=0.63 name=Douggie\n",
      "correct=male guess=female prob=0.63 name=Drake\n",
      "correct=male guess=female prob=0.63 name=Dru\n",
      "correct=male guess=female prob=0.63 name=Dryke\n",
      "correct=male guess=female prob=0.63 name=Duncan\n",
      "correct=male guess=female prob=0.63 name=Dunstan\n",
      "correct=male guess=female prob=0.63 name=Durand\n",
      "correct=male guess=female prob=0.63 name=Durante\n",
      "correct=male guess=female prob=0.63 name=Dwayne\n",
      "correct=male guess=female prob=0.63 name=Dyson\n",
      "correct=male guess=female prob=0.63 name=Eben\n",
      "correct=male guess=female prob=0.63 name=Ebeneser\n",
      "correct=male guess=female prob=0.63 name=Eberhard\n",
      "correct=male guess=female prob=0.63 name=Eddy\n",
      "correct=male guess=female prob=0.63 name=Edmond\n",
      "correct=male guess=female prob=0.63 name=Edmund\n",
      "correct=male guess=female prob=0.63 name=Eduardo\n",
      "correct=male guess=female prob=0.63 name=Ehud\n",
      "correct=male guess=female prob=0.63 name=Eldon\n",
      "correct=male guess=female prob=0.63 name=Elihu\n",
      "correct=male guess=female prob=0.63 name=Eliot\n",
      "correct=male guess=female prob=0.63 name=Elmore\n",
      "correct=male guess=female prob=0.63 name=Elric\n",
      "correct=male guess=female prob=0.63 name=Elroy\n",
      "correct=male guess=female prob=0.63 name=Elwin\n",
      "correct=male guess=female prob=0.63 name=Elwyn\n",
      "correct=male guess=female prob=0.63 name=Emanuel\n",
      "correct=male guess=female prob=0.63 name=Emerson\n",
      "correct=male guess=female prob=0.63 name=Emmett\n",
      "correct=male guess=female prob=0.63 name=Emmit\n",
      "correct=male guess=female prob=0.63 name=Emmott\n",
      "correct=male guess=female prob=0.63 name=Emory\n",
      "correct=male guess=female prob=0.63 name=Engelbart\n",
      "correct=male guess=female prob=0.63 name=Englebert\n",
      "correct=male guess=female prob=0.63 name=Enrique\n",
      "correct=male guess=female prob=0.63 name=Erastus\n",
      "correct=male guess=female prob=0.63 name=Erek\n",
      "correct=male guess=female prob=0.63 name=Eric\n",
      "correct=male guess=female prob=0.63 name=Erl\n",
      "correct=male guess=female prob=0.63 name=Ervin\n",
      "correct=male guess=female prob=0.63 name=Erwin\n",
      "correct=male guess=female prob=0.63 name=Esau\n",
      "correct=male guess=female prob=0.63 name=Esteban\n",
      "correct=male guess=female prob=0.63 name=Ethan\n",
      "correct=male guess=female prob=0.63 name=Eustace\n",
      "correct=male guess=female prob=0.63 name=Evelyn\n",
      "correct=male guess=female prob=0.63 name=Everard\n",
      "correct=male guess=female prob=0.63 name=Everett\n",
      "correct=male guess=female prob=0.63 name=Ezechiel\n",
      "correct=male guess=female prob=0.63 name=Fabian\n",
      "correct=male guess=female prob=0.63 name=Fabio\n",
      "correct=male guess=female prob=0.63 name=Fairfax\n",
      "correct=male guess=female prob=0.63 name=Fazeel\n",
      "correct=male guess=female prob=0.63 name=Federico\n",
      "correct=male guess=female prob=0.63 name=Felice\n",
      "correct=male guess=female prob=0.63 name=Felix\n",
      "correct=male guess=female prob=0.63 name=Ferdy\n",
      "correct=male guess=female prob=0.63 name=Filip\n",
      "correct=male guess=female prob=0.63 name=Filipe\n",
      "correct=male guess=female prob=0.63 name=Fitz\n",
      "correct=male guess=female prob=0.63 name=Flem\n",
      "correct=male guess=female prob=0.63 name=Flin\n",
      "correct=male guess=female prob=0.63 name=Flinn\n",
      "correct=male guess=female prob=0.63 name=Fonz\n",
      "correct=male guess=female prob=0.63 name=Forest\n",
      "correct=male guess=female prob=0.63 name=Forester\n",
      "correct=male guess=female prob=0.63 name=Foster\n",
      "correct=male guess=female prob=0.63 name=Francesco\n",
      "correct=male guess=female prob=0.63 name=Francis\n",
      "correct=male guess=female prob=0.63 name=Franklin\n",
      "correct=male guess=female prob=0.63 name=Franz\n",
      "correct=male guess=female prob=0.63 name=Fraser\n",
      "correct=male guess=female prob=0.63 name=Fred\n",
      "correct=male guess=female prob=0.63 name=Fredrick\n",
      "correct=male guess=female prob=0.63 name=Freeman\n",
      "correct=male guess=female prob=0.63 name=Fremont\n",
      "correct=male guess=female prob=0.63 name=Fulton\n",
      "correct=male guess=female prob=0.63 name=Gabriel\n",
      "correct=male guess=female prob=0.63 name=Garcia\n",
      "correct=male guess=female prob=0.63 name=Gardener\n",
      "correct=male guess=female prob=0.63 name=Gardiner\n",
      "correct=male guess=female prob=0.63 name=Garfield\n",
      "correct=male guess=female prob=0.63 name=Garfinkel\n",
      "correct=male guess=female prob=0.63 name=Garp\n",
      "correct=male guess=female prob=0.63 name=Garrett\n",
      "correct=male guess=female prob=0.63 name=Garrot\n",
      "correct=male guess=female prob=0.63 name=Garrott\n",
      "correct=male guess=female prob=0.63 name=Garv\n",
      "correct=male guess=female prob=0.63 name=Garvin\n",
      "correct=male guess=female prob=0.63 name=Gasper\n",
      "correct=male guess=female prob=0.63 name=Gaston\n",
      "correct=male guess=female prob=0.63 name=Gaven\n",
      "correct=male guess=female prob=0.63 name=Gavriel\n",
      "correct=male guess=female prob=0.63 name=Gayle\n",
      "correct=male guess=female prob=0.63 name=Geof\n",
      "correct=male guess=female prob=0.63 name=Geoffry\n",
      "correct=male guess=female prob=0.63 name=Georges\n",
      "correct=male guess=female prob=0.63 name=Georgia\n",
      "correct=male guess=female prob=0.63 name=Georgy\n",
      "correct=male guess=female prob=0.63 name=Gerald\n",
      "correct=male guess=female prob=0.63 name=Geraldo\n",
      "correct=male guess=female prob=0.63 name=Gerhardt\n",
      "correct=male guess=female prob=0.63 name=Gerold\n",
      "correct=male guess=female prob=0.63 name=Gerome\n",
      "correct=male guess=female prob=0.63 name=Gerrard\n",
      "correct=male guess=female prob=0.63 name=Gershom\n",
      "correct=male guess=female prob=0.63 name=Giancarlo\n",
      "correct=male guess=female prob=0.63 name=Gibb\n",
      "correct=male guess=female prob=0.63 name=Giffard\n",
      "correct=male guess=female prob=0.63 name=Giffer\n",
      "correct=male guess=female prob=0.63 name=Giffy\n",
      "correct=male guess=female prob=0.63 name=Gil\n",
      "correct=male guess=female prob=0.63 name=Gilbert\n",
      "correct=male guess=female prob=0.63 name=Gilberto\n",
      "correct=male guess=female prob=0.63 name=Gilles\n",
      "correct=male guess=female prob=0.63 name=Giordano\n",
      "correct=male guess=female prob=0.63 name=Giovanne\n",
      "correct=male guess=female prob=0.63 name=Giraud\n",
      "correct=male guess=female prob=0.63 name=Giuseppe\n",
      "correct=male guess=female prob=0.63 name=Godard\n",
      "correct=male guess=female prob=0.63 name=Goddart\n",
      "correct=male guess=female prob=0.63 name=Godfrey\n",
      "correct=male guess=female prob=0.63 name=Gomer\n",
      "correct=male guess=female prob=0.63 name=Gonzalo\n",
      "correct=male guess=female prob=0.63 name=Goober\n",
      "correct=male guess=female prob=0.63 name=Grace\n",
      "correct=male guess=female prob=0.63 name=Graehme\n",
      "correct=male guess=female prob=0.63 name=Graham\n",
      "correct=male guess=female prob=0.63 name=Graig\n",
      "correct=male guess=female prob=0.63 name=Granville\n",
      "correct=male guess=female prob=0.63 name=Greg\n",
      "correct=male guess=female prob=0.63 name=Gregor\n",
      "correct=male guess=female prob=0.63 name=Gregorio\n",
      "correct=male guess=female prob=0.63 name=Griff\n",
      "correct=male guess=female prob=0.63 name=Griffin\n",
      "correct=male guess=female prob=0.63 name=Griffith\n",
      "correct=male guess=female prob=0.63 name=Grove\n",
      "correct=male guess=female prob=0.63 name=Grover\n",
      "correct=male guess=female prob=0.63 name=Gunner\n",
      "correct=male guess=female prob=0.63 name=Gunter\n",
      "correct=male guess=female prob=0.63 name=Gus\n",
      "correct=male guess=female prob=0.63 name=Gustaf\n",
      "correct=male guess=female prob=0.63 name=Gustavo\n",
      "correct=male guess=female prob=0.63 name=Guthrie\n",
      "correct=male guess=female prob=0.63 name=Guthry\n",
      "correct=male guess=female prob=0.63 name=Guy\n",
      "correct=male guess=female prob=0.63 name=Hadley\n",
      "correct=male guess=female prob=0.63 name=Hagen\n",
      "correct=male guess=female prob=0.63 name=Hakeem\n",
      "correct=male guess=female prob=0.63 name=Hale\n",
      "correct=male guess=female prob=0.63 name=Haleigh\n",
      "correct=male guess=female prob=0.63 name=Halvard\n",
      "correct=male guess=female prob=0.63 name=Hamel\n",
      "correct=male guess=female prob=0.63 name=Hamilton\n",
      "correct=male guess=female prob=0.63 name=Hamish\n",
      "correct=male guess=female prob=0.63 name=Hanan\n",
      "correct=male guess=female prob=0.63 name=Hannibal\n",
      "correct=male guess=female prob=0.63 name=Hans\n",
      "correct=male guess=female prob=0.63 name=Hans-Peter\n",
      "correct=male guess=female prob=0.63 name=Hansel\n",
      "correct=male guess=female prob=0.63 name=Harcourt\n",
      "correct=male guess=female prob=0.63 name=Harland\n",
      "correct=male guess=female prob=0.63 name=Harold\n",
      "correct=male guess=female prob=0.63 name=Harrold\n",
      "correct=male guess=female prob=0.63 name=Hart\n",
      "correct=male guess=female prob=0.63 name=Hartwell\n",
      "correct=male guess=female prob=0.63 name=Harvie\n",
      "correct=male guess=female prob=0.63 name=Hashim\n",
      "correct=male guess=female prob=0.63 name=Haskell\n",
      "correct=male guess=female prob=0.63 name=Hastings\n",
      "correct=male guess=female prob=0.63 name=Haven\n",
      "correct=male guess=female prob=0.63 name=Hayden\n",
      "correct=male guess=female prob=0.63 name=Haydon\n",
      "correct=male guess=female prob=0.63 name=Heath\n",
      "correct=male guess=female prob=0.63 name=Heathcliff\n",
      "correct=male guess=female prob=0.63 name=Heinrich\n",
      "correct=male guess=female prob=0.63 name=Heinz\n",
      "correct=male guess=female prob=0.63 name=Henri\n",
      "correct=male guess=female prob=0.63 name=Herby\n",
      "correct=male guess=female prob=0.63 name=Hercule\n",
      "correct=male guess=female prob=0.63 name=Hercules\n",
      "correct=male guess=female prob=0.63 name=Hermann\n",
      "correct=male guess=female prob=0.63 name=Hermy\n",
      "correct=male guess=female prob=0.63 name=Herrick\n",
      "correct=male guess=female prob=0.63 name=Herrmann\n",
      "correct=male guess=female prob=0.63 name=Hersh\n",
      "correct=male guess=female prob=0.63 name=Hervey\n",
      "correct=male guess=female prob=0.63 name=Hewe\n",
      "correct=male guess=female prob=0.63 name=Hewett\n",
      "correct=male guess=female prob=0.63 name=Hewie\n",
      "correct=male guess=female prob=0.63 name=Hewitt\n",
      "correct=male guess=female prob=0.63 name=Hilary\n",
      "correct=male guess=female prob=0.63 name=Hill\n",
      "correct=male guess=female prob=0.63 name=Hillary\n",
      "correct=male guess=female prob=0.63 name=Hiralal\n",
      "correct=male guess=female prob=0.63 name=Hiram\n",
      "correct=male guess=female prob=0.63 name=Hirsch\n",
      "correct=male guess=female prob=0.63 name=Horatio\n",
      "correct=male guess=female prob=0.63 name=Horst\n",
      "correct=male guess=female prob=0.63 name=Hoyt\n",
      "correct=male guess=female prob=0.63 name=Hudson\n",
      "correct=male guess=female prob=0.63 name=Hunter\n",
      "correct=male guess=female prob=0.63 name=Huntlee\n",
      "correct=male guess=female prob=0.63 name=Hurley\n",
      "correct=male guess=female prob=0.63 name=Husein\n",
      "correct=male guess=female prob=0.63 name=Hy\n",
      "correct=male guess=female prob=0.63 name=Hyatt\n",
      "correct=male guess=female prob=0.63 name=Ian\n",
      "correct=male guess=female prob=0.63 name=Ibrahim\n",
      "correct=male guess=female prob=0.63 name=Ichabod\n",
      "correct=male guess=female prob=0.63 name=Ignatius\n",
      "correct=male guess=female prob=0.63 name=Ignazio\n",
      "correct=male guess=female prob=0.63 name=Ike\n",
      "correct=male guess=female prob=0.63 name=Ikey\n",
      "correct=male guess=female prob=0.63 name=Ingemar\n",
      "correct=male guess=female prob=0.63 name=Ingram\n",
      "correct=male guess=female prob=0.63 name=Ira\n",
      "correct=male guess=female prob=0.63 name=Irvine\n",
      "correct=male guess=female prob=0.63 name=Isa\n",
      "correct=male guess=female prob=0.63 name=Isaac\n",
      "correct=male guess=female prob=0.63 name=Isador\n",
      "correct=male guess=female prob=0.63 name=Isaiah\n",
      "correct=male guess=female prob=0.63 name=Ismail\n",
      "correct=male guess=female prob=0.63 name=Istvan\n",
      "correct=male guess=female prob=0.63 name=Ivor\n",
      "correct=male guess=female prob=0.63 name=Jabez\n",
      "correct=male guess=female prob=0.63 name=Jacob\n",
      "correct=male guess=female prob=0.63 name=Jacques\n",
      "correct=male guess=female prob=0.63 name=Jameson\n",
      "correct=male guess=female prob=0.63 name=Jamey\n",
      "correct=male guess=female prob=0.63 name=Jamie\n",
      "correct=male guess=female prob=0.63 name=Jasper\n",
      "correct=male guess=female prob=0.63 name=Jay\n",
      "correct=male guess=female prob=0.63 name=Jean\n",
      "correct=male guess=female prob=0.63 name=Jean-Christophe\n",
      "correct=male guess=female prob=0.63 name=Jean-Francois\n",
      "correct=male guess=female prob=0.63 name=Jed\n",
      "correct=male guess=female prob=0.63 name=Jefferey\n",
      "correct=male guess=female prob=0.63 name=Jefferson\n",
      "correct=male guess=female prob=0.63 name=Jens\n",
      "correct=male guess=female prob=0.63 name=Jeramie\n",
      "correct=male guess=female prob=0.63 name=Jere\n",
      "correct=male guess=female prob=0.63 name=Jeremiah\n",
      "correct=male guess=female prob=0.63 name=Jeremie\n",
      "correct=male guess=female prob=0.63 name=Jeremy\n",
      "correct=male guess=female prob=0.63 name=Jermaine\n",
      "correct=male guess=female prob=0.63 name=Jermayne\n",
      "correct=male guess=female prob=0.63 name=Jerold\n",
      "correct=male guess=female prob=0.63 name=Jerome\n",
      "correct=male guess=female prob=0.63 name=Jerry\n",
      "correct=male guess=female prob=0.63 name=Jess\n",
      "correct=male guess=female prob=0.63 name=Jessie\n",
      "correct=male guess=female prob=0.63 name=Jesus\n",
      "correct=male guess=female prob=0.63 name=Jethro\n",
      "correct=male guess=female prob=0.63 name=Jimmy\n",
      "correct=male guess=female prob=0.63 name=Joachim\n",
      "correct=male guess=female prob=0.63 name=Joaquin\n",
      "correct=male guess=female prob=0.63 name=Job\n",
      "correct=male guess=female prob=0.63 name=Jock\n",
      "correct=male guess=female prob=0.63 name=Jodi\n",
      "correct=male guess=female prob=0.63 name=Jody\n",
      "correct=male guess=female prob=0.63 name=Joel\n",
      "correct=male guess=female prob=0.63 name=John-Patrick\n",
      "correct=male guess=female prob=0.63 name=Johnathan\n",
      "correct=male guess=female prob=0.63 name=Johnathon\n",
      "correct=male guess=female prob=0.63 name=Johnny\n",
      "correct=male guess=female prob=0.63 name=Jonathon\n",
      "correct=male guess=female prob=0.63 name=Jonny\n",
      "correct=male guess=female prob=0.63 name=Jordan\n",
      "correct=male guess=female prob=0.63 name=Jory\n",
      "correct=male guess=female prob=0.63 name=Joseph\n",
      "correct=male guess=female prob=0.63 name=Josephus\n",
      "correct=male guess=female prob=0.63 name=Judah\n",
      "correct=male guess=female prob=0.63 name=Judas\n",
      "correct=male guess=female prob=0.63 name=Judy\n",
      "correct=male guess=female prob=0.63 name=Jule\n",
      "correct=male guess=female prob=0.63 name=Kaiser\n",
      "correct=male guess=female prob=0.63 name=Kaleb\n",
      "correct=male guess=female prob=0.63 name=Kalil\n",
      "correct=male guess=female prob=0.63 name=Kalle\n",
      "correct=male guess=female prob=0.63 name=Karl\n",
      "correct=male guess=female prob=0.63 name=Keefe\n",
      "correct=male guess=female prob=0.63 name=Keene\n",
      "correct=male guess=female prob=0.63 name=Keil\n",
      "correct=male guess=female prob=0.63 name=Keith\n",
      "correct=male guess=female prob=0.63 name=Kelly\n",
      "correct=male guess=female prob=0.63 name=Kelvin\n",
      "correct=male guess=female prob=0.63 name=Kelwin\n",
      "correct=male guess=female prob=0.63 name=Ken\n",
      "correct=male guess=female prob=0.63 name=Kendal\n",
      "correct=male guess=female prob=0.63 name=Kenn\n",
      "correct=male guess=female prob=0.63 name=Kenny\n",
      "correct=male guess=female prob=0.63 name=Kermie\n",
      "correct=male guess=female prob=0.63 name=Kevan\n",
      "correct=male guess=female prob=0.63 name=Kimball\n",
      "correct=male guess=female prob=0.63 name=Kingston\n",
      "correct=male guess=female prob=0.63 name=Kirk\n",
      "correct=male guess=female prob=0.63 name=Kit\n",
      "correct=male guess=female prob=0.63 name=Klaus\n",
      "correct=male guess=female prob=0.63 name=Klee\n",
      "correct=male guess=female prob=0.63 name=Knox\n",
      "correct=male guess=female prob=0.63 name=Konstantin\n",
      "correct=male guess=female prob=0.63 name=Kory\n",
      "correct=male guess=female prob=0.63 name=Kristian\n",
      "correct=male guess=female prob=0.63 name=Kristopher\n",
      "correct=male guess=female prob=0.63 name=Kurt\n",
      "correct=male guess=female prob=0.63 name=Laird\n",
      "correct=male guess=female prob=0.63 name=Lamar\n",
      "correct=male guess=female prob=0.63 name=Lambert\n",
      "correct=male guess=female prob=0.63 name=Lance\n",
      "correct=male guess=female prob=0.63 name=Lanny\n",
      "correct=male guess=female prob=0.63 name=Larry\n",
      "correct=male guess=female prob=0.63 name=Laurence\n",
      "correct=male guess=female prob=0.63 name=Laurens\n",
      "correct=male guess=female prob=0.63 name=Laurent\n",
      "correct=male guess=female prob=0.63 name=Lawerence\n",
      "correct=male guess=female prob=0.63 name=Layton\n",
      "correct=male guess=female prob=0.63 name=Lazare\n",
      "correct=male guess=female prob=0.63 name=Lazaro\n",
      "correct=male guess=female prob=0.63 name=Lazarus\n",
      "correct=male guess=female prob=0.63 name=Leighton\n",
      "correct=male guess=female prob=0.63 name=Lemuel\n",
      "correct=male guess=female prob=0.63 name=Lenard\n",
      "correct=male guess=female prob=0.63 name=Lennie\n",
      "correct=male guess=female prob=0.63 name=Lenny\n",
      "correct=male guess=female prob=0.63 name=Leo\n",
      "correct=male guess=female prob=0.63 name=Leonard\n",
      "correct=male guess=female prob=0.63 name=Leonid\n",
      "correct=male guess=female prob=0.63 name=Leonidas\n",
      "correct=male guess=female prob=0.63 name=Leroy\n",
      "correct=male guess=female prob=0.63 name=Lesley\n",
      "correct=male guess=female prob=0.63 name=Levi\n",
      "correct=male guess=female prob=0.63 name=Levin\n",
      "correct=male guess=female prob=0.63 name=Lew\n",
      "correct=male guess=female prob=0.63 name=Lewis\n",
      "correct=male guess=female prob=0.63 name=Lincoln\n",
      "correct=male guess=female prob=0.63 name=Lindsey\n",
      "correct=male guess=female prob=0.63 name=Linus\n",
      "correct=male guess=female prob=0.63 name=Lionello\n",
      "correct=male guess=female prob=0.63 name=Lockwood\n",
      "correct=male guess=female prob=0.63 name=Logan\n",
      "correct=male guess=female prob=0.63 name=Lonnie\n",
      "correct=male guess=female prob=0.63 name=Lonny\n",
      "correct=male guess=female prob=0.63 name=Lorenzo\n",
      "correct=male guess=female prob=0.63 name=Louie\n",
      "correct=male guess=female prob=0.63 name=Louis\n",
      "correct=male guess=female prob=0.63 name=Lucian\n",
      "correct=male guess=female prob=0.63 name=Lucien\n",
      "correct=male guess=female prob=0.63 name=Luigi\n",
      "correct=male guess=female prob=0.63 name=Lukas\n",
      "correct=male guess=female prob=0.63 name=Luke\n",
      "correct=male guess=female prob=0.63 name=Lyn\n",
      "correct=male guess=female prob=0.63 name=Maddy\n",
      "correct=male guess=female prob=0.63 name=Madison\n",
      "correct=male guess=female prob=0.63 name=Magnum\n",
      "correct=male guess=female prob=0.63 name=Manfred\n",
      "correct=male guess=female prob=0.63 name=Marc\n",
      "correct=male guess=female prob=0.63 name=Marcello\n",
      "correct=male guess=female prob=0.63 name=Marcellus\n",
      "correct=male guess=female prob=0.63 name=Marchall\n",
      "correct=male guess=female prob=0.63 name=Marcio\n",
      "correct=male guess=female prob=0.63 name=Marcus\n",
      "correct=male guess=female prob=0.63 name=Mark\n",
      "correct=male guess=female prob=0.63 name=Markos\n",
      "correct=male guess=female prob=0.63 name=Marlow\n",
      "correct=male guess=female prob=0.63 name=Marshall\n",
      "correct=male guess=female prob=0.63 name=Mart\n",
      "correct=male guess=female prob=0.63 name=Martino\n",
      "correct=male guess=female prob=0.63 name=Marv\n",
      "correct=male guess=female prob=0.63 name=Matias\n",
      "correct=male guess=female prob=0.63 name=Matteo\n",
      "correct=male guess=female prob=0.63 name=Matthieu\n",
      "correct=male guess=female prob=0.63 name=Matthiew\n",
      "correct=male guess=female prob=0.63 name=Matty\n",
      "correct=male guess=female prob=0.63 name=Maurice\n",
      "correct=male guess=female prob=0.63 name=Mauritz\n",
      "correct=male guess=female prob=0.63 name=Maximilian\n",
      "correct=male guess=female prob=0.63 name=Maximilien\n",
      "correct=male guess=female prob=0.63 name=Meade\n",
      "correct=male guess=female prob=0.63 name=Meir\n",
      "correct=male guess=female prob=0.63 name=Melvin\n",
      "correct=male guess=female prob=0.63 name=Menard\n",
      "correct=male guess=female prob=0.63 name=Mendie\n",
      "correct=male guess=female prob=0.63 name=Meredeth\n",
      "correct=male guess=female prob=0.63 name=Merell\n",
      "correct=male guess=female prob=0.63 name=Merlin\n",
      "correct=male guess=female prob=0.63 name=Merry\n",
      "correct=male guess=female prob=0.63 name=Meyer\n",
      "correct=male guess=female prob=0.63 name=Micheal\n",
      "correct=male guess=female prob=0.63 name=Michel\n",
      "correct=male guess=female prob=0.63 name=Mickey\n",
      "correct=male guess=female prob=0.63 name=Mike\n",
      "correct=male guess=female prob=0.63 name=Milton\n",
      "correct=male guess=female prob=0.63 name=Mitch\n",
      "correct=male guess=female prob=0.63 name=Mitchel\n",
      "correct=male guess=female prob=0.63 name=Moe\n",
      "correct=male guess=female prob=0.63 name=Mohamad\n",
      "correct=male guess=female prob=0.63 name=Mohamed\n",
      "correct=male guess=female prob=0.63 name=Mohammad\n",
      "correct=male guess=female prob=0.63 name=Mohammed\n",
      "correct=male guess=female prob=0.63 name=Mohan\n",
      "correct=male guess=female prob=0.63 name=Moishe\n",
      "correct=male guess=female prob=0.63 name=Montague\n",
      "correct=male guess=female prob=0.63 name=Montgomery\n",
      "correct=male guess=female prob=0.63 name=Morrie\n",
      "correct=male guess=female prob=0.63 name=Morris\n",
      "correct=male guess=female prob=0.63 name=Morten\n",
      "correct=male guess=female prob=0.63 name=Mortimer\n",
      "correct=male guess=female prob=0.63 name=Morty\n",
      "correct=male guess=female prob=0.63 name=Moses\n",
      "correct=male guess=female prob=0.63 name=Muffin\n",
      "correct=male guess=female prob=0.63 name=Mugsy\n",
      "correct=male guess=female prob=0.63 name=Muhammad\n",
      "correct=male guess=female prob=0.63 name=Myke\n",
      "correct=male guess=female prob=0.63 name=Nahum\n",
      "correct=male guess=female prob=0.63 name=Nat\n",
      "correct=male guess=female prob=0.63 name=Nathanael\n",
      "correct=male guess=female prob=0.63 name=Neal\n",
      "correct=male guess=female prob=0.63 name=Neall\n",
      "correct=male guess=female prob=0.63 name=Nealon\n",
      "correct=male guess=female prob=0.63 name=Nealy\n",
      "correct=male guess=female prob=0.63 name=Ned\n",
      "correct=male guess=female prob=0.63 name=Neddy\n",
      "correct=male guess=female prob=0.63 name=Neel\n",
      "correct=male guess=female prob=0.63 name=Nester\n",
      "correct=male guess=female prob=0.63 name=Nev\n",
      "correct=male guess=female prob=0.63 name=Nevil\n",
      "correct=male guess=female prob=0.63 name=Niccolo\n",
      "correct=male guess=female prob=0.63 name=Nicholas\n",
      "correct=male guess=female prob=0.63 name=Nickey\n",
      "correct=male guess=female prob=0.63 name=Nickie\n",
      "correct=male guess=female prob=0.63 name=Nickolas\n",
      "correct=male guess=female prob=0.63 name=Niels\n",
      "correct=male guess=female prob=0.63 name=Niki\n",
      "correct=male guess=female prob=0.63 name=Nikki\n",
      "correct=male guess=female prob=0.63 name=Nikolai\n",
      "correct=male guess=female prob=0.63 name=Niven\n",
      "correct=male guess=female prob=0.63 name=Noach\n",
      "correct=male guess=female prob=0.63 name=Noah\n",
      "correct=male guess=female prob=0.63 name=Nolan\n",
      "correct=male guess=female prob=0.63 name=Noland\n",
      "correct=male guess=female prob=0.63 name=Northrop\n",
      "correct=male guess=female prob=0.63 name=Norwood\n",
      "correct=male guess=female prob=0.63 name=Nunzio\n",
      "correct=male guess=female prob=0.63 name=Obadiah\n",
      "correct=male guess=female prob=0.63 name=Oberon\n",
      "correct=male guess=female prob=0.63 name=Odie\n",
      "correct=male guess=female prob=0.63 name=Odin\n",
      "correct=male guess=female prob=0.63 name=Olaf\n",
      "correct=male guess=female prob=0.63 name=Oleg\n",
      "correct=male guess=female prob=0.63 name=Olivier\n",
      "correct=male guess=female prob=0.63 name=Olle\n",
      "correct=male guess=female prob=0.63 name=Oral\n",
      "correct=male guess=female prob=0.63 name=Orbadiah\n",
      "correct=male guess=female prob=0.63 name=Orin\n",
      "correct=male guess=female prob=0.63 name=Orson\n",
      "correct=male guess=female prob=0.63 name=Orton\n",
      "correct=male guess=female prob=0.63 name=Orville\n",
      "correct=male guess=female prob=0.63 name=Osborne\n",
      "correct=male guess=female prob=0.63 name=Osbourne\n",
      "correct=male guess=female prob=0.63 name=Osgood\n",
      "correct=male guess=female prob=0.63 name=Osmund\n",
      "correct=male guess=female prob=0.63 name=Oswald\n",
      "correct=male guess=female prob=0.63 name=Otes\n",
      "correct=male guess=female prob=0.63 name=Otis\n",
      "correct=male guess=female prob=0.63 name=Ozzie\n",
      "correct=male guess=female prob=0.63 name=Pablo\n",
      "correct=male guess=female prob=0.63 name=Paddie\n",
      "correct=male guess=female prob=0.63 name=Palmer\n",
      "correct=male guess=female prob=0.63 name=Parke\n",
      "correct=male guess=female prob=0.63 name=Parker\n",
      "correct=male guess=female prob=0.63 name=Pascal\n",
      "correct=male guess=female prob=0.63 name=Pat\n",
      "correct=male guess=female prob=0.63 name=Pate\n",
      "correct=male guess=female prob=0.63 name=Patin\n",
      "correct=male guess=female prob=0.63 name=Paton\n",
      "correct=male guess=female prob=0.63 name=Patrick\n",
      "correct=male guess=female prob=0.63 name=Paulo\n",
      "correct=male guess=female prob=0.63 name=Pavel\n",
      "correct=male guess=female prob=0.63 name=Pearce\n",
      "correct=male guess=female prob=0.63 name=Peirce\n",
      "correct=male guess=female prob=0.63 name=Pembroke\n",
      "correct=male guess=female prob=0.63 name=Pennie\n",
      "correct=male guess=female prob=0.63 name=Penrod\n",
      "correct=male guess=female prob=0.63 name=Pepillo\n",
      "correct=male guess=female prob=0.63 name=Perry\n",
      "correct=male guess=female prob=0.63 name=Pete\n",
      "correct=male guess=female prob=0.63 name=Peyter\n",
      "correct=male guess=female prob=0.63 name=Phillipe\n",
      "correct=male guess=female prob=0.63 name=Phineas\n",
      "correct=male guess=female prob=0.63 name=Phip\n",
      "correct=male guess=female prob=0.63 name=Pierce\n",
      "correct=male guess=female prob=0.63 name=Pieter\n",
      "correct=male guess=female prob=0.63 name=Pietro\n",
      "correct=male guess=female prob=0.63 name=Pincas\n",
      "correct=male guess=female prob=0.63 name=Pinchas\n",
      "correct=male guess=female prob=0.63 name=Pip\n",
      "correct=male guess=female prob=0.63 name=Poul\n",
      "correct=male guess=female prob=0.63 name=Prasad\n",
      "correct=male guess=female prob=0.63 name=Pyotr\n",
      "correct=male guess=female prob=0.63 name=Quent\n",
      "correct=male guess=female prob=0.63 name=Quigly\n",
      "correct=male guess=female prob=0.63 name=Quinn\n",
      "correct=male guess=female prob=0.63 name=Quint\n",
      "correct=male guess=female prob=0.63 name=Quintus\n",
      "correct=male guess=female prob=0.63 name=Rabbi\n",
      "correct=male guess=female prob=0.63 name=Raleigh\n",
      "correct=male guess=female prob=0.63 name=Ralf\n",
      "correct=male guess=female prob=0.63 name=Ralph\n",
      "correct=male guess=female prob=0.63 name=Ramon\n",
      "correct=male guess=female prob=0.63 name=Randal\n",
      "correct=male guess=female prob=0.63 name=Randell\n",
      "correct=male guess=female prob=0.63 name=Randy\n",
      "correct=male guess=female prob=0.63 name=Ransom\n",
      "correct=male guess=female prob=0.63 name=Raoul\n",
      "correct=male guess=female prob=0.63 name=Raphael\n",
      "correct=male guess=female prob=0.63 name=Ravi\n",
      "correct=male guess=female prob=0.63 name=Ravil\n",
      "correct=male guess=female prob=0.63 name=Rayner\n",
      "correct=male guess=female prob=0.63 name=Reagan\n",
      "correct=male guess=female prob=0.63 name=Red\n",
      "correct=male guess=female prob=0.63 name=Redmond\n",
      "correct=male guess=female prob=0.63 name=Reece\n",
      "correct=male guess=female prob=0.63 name=Reg\n",
      "correct=male guess=female prob=0.63 name=Regen\n",
      "correct=male guess=female prob=0.63 name=Reggie\n",
      "correct=male guess=female prob=0.63 name=Reggis\n",
      "correct=male guess=female prob=0.63 name=Reginauld\n",
      "correct=male guess=female prob=0.63 name=Remus\n",
      "correct=male guess=female prob=0.63 name=Renato\n",
      "correct=male guess=female prob=0.63 name=Renault\n",
      "correct=male guess=female prob=0.63 name=Rene\n",
      "correct=male guess=female prob=0.63 name=Reube\n",
      "correct=male guess=female prob=0.63 name=Reynolds\n",
      "correct=male guess=female prob=0.63 name=Reza\n",
      "correct=male guess=female prob=0.63 name=Rhett\n",
      "correct=male guess=female prob=0.63 name=Ricardo\n",
      "correct=male guess=female prob=0.63 name=Rice\n",
      "correct=male guess=female prob=0.63 name=Richardo\n",
      "correct=male guess=female prob=0.63 name=Richie\n",
      "correct=male guess=female prob=0.63 name=Rick\n",
      "correct=male guess=female prob=0.63 name=Rickey\n",
      "correct=male guess=female prob=0.63 name=Ricky\n",
      "correct=male guess=female prob=0.63 name=Rik\n",
      "correct=male guess=female prob=0.63 name=Rikki\n",
      "correct=male guess=female prob=0.63 name=Riley\n",
      "correct=male guess=female prob=0.63 name=Ritch\n",
      "correct=male guess=female prob=0.63 name=Robb\n",
      "correct=male guess=female prob=0.63 name=Roberto\n",
      "correct=male guess=female prob=0.63 name=Rod\n",
      "correct=male guess=female prob=0.63 name=Roderic\n",
      "correct=male guess=female prob=0.63 name=Rodge\n",
      "correct=male guess=female prob=0.63 name=Rodney\n",
      "correct=male guess=female prob=0.63 name=Rodrick\n",
      "correct=male guess=female prob=0.63 name=Roger\n",
      "correct=male guess=female prob=0.63 name=Roice\n",
      "correct=male guess=female prob=0.63 name=Rolf\n",
      "correct=male guess=female prob=0.63 name=Rolland\n",
      "correct=male guess=female prob=0.63 name=Rollins\n",
      "correct=male guess=female prob=0.63 name=Romain\n",
      "correct=male guess=female prob=0.63 name=Romeo\n",
      "correct=male guess=female prob=0.63 name=Ross\n",
      "correct=male guess=female prob=0.63 name=Ruben\n",
      "correct=male guess=female prob=0.63 name=Rubin\n",
      "correct=male guess=female prob=0.63 name=Rudd\n",
      "correct=male guess=female prob=0.63 name=Ruddy\n",
      "correct=male guess=female prob=0.63 name=Rudiger\n",
      "correct=male guess=female prob=0.63 name=Rudolfo\n",
      "correct=male guess=female prob=0.63 name=Rudy\n",
      "correct=male guess=female prob=0.63 name=Rudyard\n",
      "correct=male guess=female prob=0.63 name=Rufe\n",
      "correct=male guess=female prob=0.63 name=Rupert\n",
      "correct=male guess=female prob=0.63 name=Ruperto\n",
      "correct=male guess=female prob=0.63 name=Rutger\n",
      "correct=male guess=female prob=0.63 name=Rutherford\n",
      "correct=male guess=female prob=0.63 name=Ryan\n",
      "correct=male guess=female prob=0.63 name=Salman\n",
      "correct=male guess=female prob=0.63 name=Salmon\n",
      "correct=male guess=female prob=0.63 name=Salomon\n",
      "correct=male guess=female prob=0.63 name=Salvatore\n",
      "correct=male guess=female prob=0.63 name=Sam\n",
      "correct=male guess=female prob=0.63 name=Sammie\n",
      "correct=male guess=female prob=0.63 name=Samson\n",
      "correct=male guess=female prob=0.63 name=Sander\n",
      "correct=male guess=female prob=0.63 name=Sanderson\n",
      "correct=male guess=female prob=0.63 name=Sandor\n",
      "correct=male guess=female prob=0.63 name=Sandro\n",
      "correct=male guess=female prob=0.63 name=Sanson\n",
      "correct=male guess=female prob=0.63 name=Sargent\n",
      "correct=male guess=female prob=0.63 name=Sasha\n",
      "correct=male guess=female prob=0.63 name=Sauncho\n",
      "correct=male guess=female prob=0.63 name=Saunder\n",
      "correct=male guess=female prob=0.63 name=Saunderson\n",
      "correct=male guess=female prob=0.63 name=Saundra\n",
      "correct=male guess=female prob=0.63 name=Saxe\n",
      "correct=male guess=female prob=0.63 name=Sayers\n",
      "correct=male guess=female prob=0.63 name=Scarface\n",
      "correct=male guess=female prob=0.63 name=Scotti\n",
      "correct=male guess=female prob=0.63 name=Seamus\n",
      "correct=male guess=female prob=0.63 name=Sebastien\n",
      "correct=male guess=female prob=0.63 name=Selby\n",
      "correct=male guess=female prob=0.63 name=Serge\n",
      "correct=male guess=female prob=0.63 name=Sergei\n",
      "correct=male guess=female prob=0.63 name=Sergent\n",
      "correct=male guess=female prob=0.63 name=Shadow\n",
      "correct=male guess=female prob=0.63 name=Shannan\n",
      "correct=male guess=female prob=0.63 name=Shaun\n",
      "correct=male guess=female prob=0.63 name=Shaw\n",
      "correct=male guess=female prob=0.63 name=Sheff\n",
      "correct=male guess=female prob=0.63 name=Sheffy\n",
      "correct=male guess=female prob=0.63 name=Shelby\n",
      "correct=male guess=female prob=0.63 name=Sheldon\n",
      "correct=male guess=female prob=0.63 name=Shelley\n",
      "correct=male guess=female prob=0.63 name=Shepherd\n",
      "correct=male guess=female prob=0.63 name=Shepperd\n",
      "correct=male guess=female prob=0.63 name=Sherman\n",
      "correct=male guess=female prob=0.63 name=Sherwood\n",
      "correct=male guess=female prob=0.63 name=Shimon\n",
      "correct=male guess=female prob=0.63 name=Shorty\n",
      "correct=male guess=female prob=0.63 name=Shurlocke\n",
      "correct=male guess=female prob=0.63 name=Shurwood\n",
      "correct=male guess=female prob=0.63 name=Sibyl\n",
      "correct=male guess=female prob=0.63 name=Sidnee\n",
      "correct=male guess=female prob=0.63 name=Sig\n",
      "correct=male guess=female prob=0.63 name=Sigfried\n",
      "correct=male guess=female prob=0.63 name=Silvain\n",
      "correct=male guess=female prob=0.63 name=Silvio\n",
      "correct=male guess=female prob=0.63 name=Simon\n",
      "correct=male guess=female prob=0.63 name=Simone\n",
      "correct=male guess=female prob=0.63 name=Sinclare\n",
      "correct=male guess=female prob=0.63 name=Skelly\n",
      "correct=male guess=female prob=0.63 name=Skip\n",
      "correct=male guess=female prob=0.63 name=Sloan\n",
      "correct=male guess=female prob=0.63 name=Sly\n",
      "correct=male guess=female prob=0.63 name=Solly\n",
      "correct=male guess=female prob=0.63 name=Somerset\n",
      "correct=male guess=female prob=0.63 name=Sparky\n",
      "correct=male guess=female prob=0.63 name=Spence\n",
      "correct=male guess=female prob=0.63 name=Spense\n",
      "correct=male guess=female prob=0.63 name=Spenser\n",
      "correct=male guess=female prob=0.63 name=Spiro\n",
      "correct=male guess=female prob=0.63 name=Spud\n",
      "correct=male guess=female prob=0.63 name=Stacy\n",
      "correct=male guess=female prob=0.63 name=Staford\n",
      "correct=male guess=female prob=0.63 name=Stan\n",
      "correct=male guess=female prob=0.63 name=Standford\n",
      "correct=male guess=female prob=0.63 name=Stanleigh\n",
      "correct=male guess=female prob=0.63 name=Stavros\n",
      "correct=male guess=female prob=0.63 name=Stearn\n",
      "correct=male guess=female prob=0.63 name=Stefano\n",
      "correct=male guess=female prob=0.63 name=Stephan\n",
      "correct=male guess=female prob=0.63 name=Stephanus\n",
      "correct=male guess=female prob=0.63 name=Sterling\n",
      "correct=male guess=female prob=0.63 name=Stevy\n",
      "correct=male guess=female prob=0.63 name=Stew\n",
      "correct=male guess=female prob=0.63 name=Stewart\n",
      "correct=male guess=female prob=0.63 name=Sting\n",
      "correct=male guess=female prob=0.63 name=Sully\n",
      "correct=male guess=female prob=0.63 name=Sutton\n",
      "correct=male guess=female prob=0.63 name=Sydney\n",
      "correct=male guess=female prob=0.63 name=Sylvan\n",
      "correct=male guess=female prob=0.63 name=Tab\n",
      "correct=male guess=female prob=0.63 name=Tabor\n",
      "correct=male guess=female prob=0.63 name=Tadd\n",
      "correct=male guess=female prob=0.63 name=Taddeo\n",
      "correct=male guess=female prob=0.63 name=Tailor\n",
      "correct=male guess=female prob=0.63 name=Taite\n",
      "correct=male guess=female prob=0.63 name=Talbert\n",
      "correct=male guess=female prob=0.63 name=Talbot\n",
      "correct=male guess=female prob=0.63 name=Tamas\n",
      "correct=male guess=female prob=0.63 name=Tammy\n",
      "correct=male guess=female prob=0.63 name=Tanney\n",
      "correct=male guess=female prob=0.63 name=Tanny\n",
      "correct=male guess=female prob=0.63 name=Tarrance\n",
      "correct=male guess=female prob=0.63 name=Tate\n",
      "correct=male guess=female prob=0.63 name=Ted\n",
      "correct=male guess=female prob=0.63 name=Tedmund\n",
      "correct=male guess=female prob=0.63 name=Tedrick\n",
      "correct=male guess=female prob=0.63 name=Temp\n",
      "correct=male guess=female prob=0.63 name=Teodoor\n",
      "correct=male guess=female prob=0.63 name=Teodorico\n",
      "correct=male guess=female prob=0.63 name=Teodoro\n",
      "correct=male guess=female prob=0.63 name=Terence\n",
      "correct=male guess=female prob=0.63 name=Terencio\n",
      "correct=male guess=female prob=0.63 name=Terrance\n",
      "correct=male guess=female prob=0.63 name=Terrence\n",
      "correct=male guess=female prob=0.63 name=Terrill\n",
      "correct=male guess=female prob=0.63 name=Terry\n",
      "correct=male guess=female prob=0.63 name=Thacher\n",
      "correct=male guess=female prob=0.63 name=Thane\n",
      "correct=male guess=female prob=0.63 name=Tharen\n",
      "correct=male guess=female prob=0.63 name=Thatcher\n",
      "correct=male guess=female prob=0.63 name=Thaxter\n",
      "correct=male guess=female prob=0.63 name=Theodore\n",
      "correct=male guess=female prob=0.63 name=Theodoric\n",
      "correct=male guess=female prob=0.63 name=Thibaut\n",
      "correct=male guess=female prob=0.63 name=Thom\n",
      "correct=male guess=female prob=0.63 name=Thomas\n",
      "correct=male guess=female prob=0.63 name=Thornie\n",
      "correct=male guess=female prob=0.63 name=Thornton\n",
      "correct=male guess=female prob=0.63 name=Thorpe\n",
      "correct=male guess=female prob=0.63 name=Thorstein\n",
      "correct=male guess=female prob=0.63 name=Thorvald\n",
      "correct=male guess=female prob=0.63 name=Tiebold\n",
      "correct=male guess=female prob=0.63 name=Tiebout\n",
      "correct=male guess=female prob=0.63 name=Timmie\n",
      "correct=male guess=female prob=0.63 name=Timmy\n",
      "correct=male guess=female prob=0.63 name=Timothee\n",
      "correct=male guess=female prob=0.63 name=Timotheus\n",
      "correct=male guess=female prob=0.63 name=Titos\n",
      "correct=male guess=female prob=0.63 name=Tobias\n",
      "correct=male guess=female prob=0.63 name=Tobit\n",
      "correct=male guess=female prob=0.63 name=Toby\n",
      "correct=male guess=female prob=0.63 name=Toddy\n",
      "correct=male guess=female prob=0.63 name=Tome\n",
      "correct=male guess=female prob=0.63 name=Tomkin\n",
      "correct=male guess=female prob=0.63 name=Tomlin\n",
      "correct=male guess=female prob=0.63 name=Tommy\n",
      "correct=male guess=female prob=0.63 name=Torr\n",
      "correct=male guess=female prob=0.63 name=Torrance\n",
      "correct=male guess=female prob=0.63 name=Torrence\n",
      "correct=male guess=female prob=0.63 name=Torry\n",
      "correct=male guess=female prob=0.63 name=Townsend\n",
      "correct=male guess=female prob=0.63 name=Trace\n",
      "correct=male guess=female prob=0.63 name=Tracy\n",
      "correct=male guess=female prob=0.63 name=Travis\n",
      "correct=male guess=female prob=0.63 name=Tre\n",
      "correct=male guess=female prob=0.63 name=Tremaine\n",
      "correct=male guess=female prob=0.63 name=Trent\n",
      "correct=male guess=female prob=0.63 name=Tristan\n",
      "correct=male guess=female prob=0.63 name=Truman\n",
      "correct=male guess=female prob=0.63 name=Tudor\n",
      "correct=male guess=female prob=0.63 name=Tull\n",
      "correct=male guess=female prob=0.63 name=Tully\n",
      "correct=male guess=female prob=0.63 name=Turner\n",
      "correct=male guess=female prob=0.63 name=Ty\n",
      "correct=male guess=female prob=0.63 name=Tybalt\n",
      "correct=male guess=female prob=0.63 name=Tymon\n",
      "correct=male guess=female prob=0.63 name=Tymothy\n",
      "correct=male guess=female prob=0.63 name=Ugo\n",
      "correct=male guess=female prob=0.63 name=Ulick\n",
      "correct=male guess=female prob=0.63 name=Ulises\n",
      "correct=male guess=female prob=0.63 name=Ulric\n",
      "correct=male guess=female prob=0.63 name=Ulrick\n",
      "correct=male guess=female prob=0.63 name=Upton\n",
      "correct=male guess=female prob=0.63 name=Urbano\n",
      "correct=male guess=female prob=0.63 name=Uri\n",
      "correct=male guess=female prob=0.63 name=Valdemar\n",
      "correct=male guess=female prob=0.63 name=Valentin\n",
      "correct=male guess=female prob=0.63 name=Vance\n",
      "correct=male guess=female prob=0.63 name=Vasili\n",
      "correct=male guess=female prob=0.63 name=Vasilis\n",
      "correct=male guess=female prob=0.63 name=Vassili\n",
      "correct=male guess=female prob=0.63 name=Vaughn\n",
      "correct=male guess=female prob=0.63 name=Venkat\n",
      "correct=male guess=female prob=0.63 name=Vern\n",
      "correct=male guess=female prob=0.63 name=Verney\n",
      "correct=male guess=female prob=0.63 name=Vibhu\n",
      "correct=male guess=female prob=0.63 name=Vin\n",
      "correct=male guess=female prob=0.63 name=Vinnie\n",
      "correct=male guess=female prob=0.63 name=Vinod\n",
      "correct=male guess=female prob=0.63 name=Virge\n",
      "correct=male guess=female prob=0.63 name=Vito\n",
      "correct=male guess=female prob=0.63 name=Vladamir\n",
      "correct=male guess=female prob=0.63 name=Wain\n",
      "correct=male guess=female prob=0.63 name=Waine\n",
      "correct=male guess=female prob=0.63 name=Wait\n",
      "correct=male guess=female prob=0.63 name=Waiter\n",
      "correct=male guess=female prob=0.63 name=Wald\n",
      "correct=male guess=female prob=0.63 name=Walden\n",
      "correct=male guess=female prob=0.63 name=Waldon\n",
      "correct=male guess=female prob=0.63 name=Walker\n",
      "correct=male guess=female prob=0.63 name=Wallache\n",
      "correct=male guess=female prob=0.63 name=Wallas\n",
      "correct=male guess=female prob=0.63 name=Wallie\n",
      "correct=male guess=female prob=0.63 name=Wallis\n",
      "correct=male guess=female prob=0.63 name=Walsh\n",
      "correct=male guess=female prob=0.63 name=Walther\n",
      "correct=male guess=female prob=0.63 name=Wang\n",
      "correct=male guess=female prob=0.63 name=Warden\n",
      "correct=male guess=female prob=0.63 name=Ware\n",
      "correct=male guess=female prob=0.63 name=Waring\n",
      "correct=male guess=female prob=0.63 name=Washington\n",
      "correct=male guess=female prob=0.63 name=Wat\n",
      "correct=male guess=female prob=0.63 name=Waylan\n",
      "correct=male guess=female prob=0.63 name=Waylin\n",
      "correct=male guess=female prob=0.63 name=Waylon\n",
      "correct=male guess=female prob=0.63 name=Web\n",
      "correct=male guess=female prob=0.63 name=Webb\n",
      "correct=male guess=female prob=0.63 name=Weber\n",
      "correct=male guess=female prob=0.63 name=Weider\n",
      "correct=male guess=female prob=0.63 name=Welbie\n",
      "correct=male guess=female prob=0.63 name=Wells\n",
      "correct=male guess=female prob=0.63 name=Welsh\n",
      "correct=male guess=female prob=0.63 name=Wendel\n",
      "correct=male guess=female prob=0.63 name=Werner\n",
      "correct=male guess=female prob=0.63 name=Wesley\n",
      "correct=male guess=female prob=0.63 name=Weston\n",
      "correct=male guess=female prob=0.63 name=Whitaker\n",
      "correct=male guess=female prob=0.63 name=Whitby\n",
      "correct=male guess=female prob=0.63 name=Whitney\n",
      "correct=male guess=female prob=0.63 name=Whittaker\n",
      "correct=male guess=female prob=0.63 name=Wilber\n",
      "correct=male guess=female prob=0.63 name=Wilden\n",
      "correct=male guess=female prob=0.63 name=Wildon\n",
      "correct=male guess=female prob=0.63 name=Wilek\n",
      "correct=male guess=female prob=0.63 name=Wiley\n",
      "correct=male guess=female prob=0.63 name=Wilfrid\n",
      "correct=male guess=female prob=0.63 name=Willard\n",
      "correct=male guess=female prob=0.63 name=Willem\n",
      "correct=male guess=female prob=0.63 name=William\n",
      "correct=male guess=female prob=0.63 name=Willis\n",
      "correct=male guess=female prob=0.63 name=Willmott\n",
      "correct=male guess=female prob=0.63 name=Winford\n",
      "correct=male guess=female prob=0.63 name=Winfred\n",
      "correct=male guess=female prob=0.63 name=Winslow\n",
      "correct=male guess=female prob=0.63 name=Winston\n",
      "correct=male guess=female prob=0.63 name=Winthrop\n",
      "correct=male guess=female prob=0.63 name=Witold\n",
      "correct=male guess=female prob=0.63 name=Wittie\n",
      "correct=male guess=female prob=0.63 name=Witty\n",
      "correct=male guess=female prob=0.63 name=Wolf\n",
      "correct=male guess=female prob=0.63 name=Woodman\n",
      "correct=male guess=female prob=0.63 name=Woody\n",
      "correct=male guess=female prob=0.63 name=Worden\n",
      "correct=male guess=female prob=0.63 name=Worth\n",
      "correct=male guess=female prob=0.63 name=Worthy\n",
      "correct=male guess=female prob=0.63 name=Wright\n",
      "correct=male guess=female prob=0.63 name=Wyndham\n",
      "correct=male guess=female prob=0.63 name=Wynn\n",
      "correct=male guess=female prob=0.63 name=Xenos\n",
      "correct=male guess=female prob=0.63 name=Ximenes\n",
      "correct=male guess=female prob=0.63 name=Yaakov\n",
      "correct=male guess=female prob=0.63 name=Yale\n",
      "correct=male guess=female prob=0.63 name=Yancey\n",
      "correct=male guess=female prob=0.63 name=Yancy\n",
      "correct=male guess=female prob=0.63 name=Yank\n",
      "correct=male guess=female prob=0.63 name=Yard\n",
      "correct=male guess=female prob=0.63 name=Yardley\n",
      "correct=male guess=female prob=0.63 name=Yehudi\n",
      "correct=male guess=female prob=0.63 name=Zacharie\n",
      "correct=male guess=female prob=0.63 name=Zachery\n",
      "correct=male guess=female prob=0.63 name=Zack\n",
      "correct=male guess=female prob=0.63 name=Zalman\n",
      "correct=male guess=female prob=0.63 name=Zary\n",
      "correct=male guess=female prob=0.63 name=Zeb\n",
      "correct=male guess=female prob=0.63 name=Zebulon\n",
      "correct=male guess=female prob=0.63 name=Zechariah\n",
      "correct=male guess=female prob=0.63 name=Zeke\n",
      "correct=male guess=female prob=0.63 name=Zelig\n",
      "correct=male guess=female prob=0.63 name=Zerk\n",
      "correct=male guess=female prob=0.63 name=Zeus\n",
      "correct=male guess=female prob=0.63 name=Zollie\n"
     ]
    }
   ],
   "source": [
    "for (label, guess, prob, name) in sorted(errors):\n",
    "  print('correct={} guess={} prob={:.2f} name={}'.format(label, guess, prob, name))"
   ]
  },
  {
   "cell_type": "markdown",
   "metadata": {
    "editable": true,
    "slideshow": {
     "slide_type": "fragment"
    },
    "tags": []
   },
   "source": [
    "What could we do to improve it? (Lab Assignment)"
   ]
  },
  {
   "cell_type": "markdown",
   "metadata": {
    "editable": true,
    "slideshow": {
     "slide_type": "subslide"
    },
    "tags": []
   },
   "source": [
    "##### Now lets look at some bigger documents\n",
    "* This may take a while to download."
   ]
  },
  {
   "cell_type": "code",
   "execution_count": 32,
   "metadata": {
    "editable": true,
    "slideshow": {
     "slide_type": "fragment"
    },
    "tags": []
   },
   "outputs": [
    {
     "name": "stderr",
     "output_type": "stream",
     "text": [
      "[nltk_data] Downloading package movie_reviews to\n",
      "[nltk_data]     /Users/claro/nltk_data...\n",
      "[nltk_data]   Unzipping corpora/movie_reviews.zip.\n",
      "[nltk_data]   Unzipping corpora/movie_reviews.zip.\n"
     ]
    },
    {
     "data": {
      "text/plain": [
       "True"
      ]
     },
     "execution_count": 32,
     "metadata": {},
     "output_type": "execute_result"
    }
   ],
   "source": [
    "from nltk.corpus import movie_reviews\n",
    "nltk.download('movie_reviews')"
   ]
  },
  {
   "cell_type": "code",
   "execution_count": 33,
   "metadata": {
    "editable": true,
    "slideshow": {
     "slide_type": "fragment"
    },
    "tags": []
   },
   "outputs": [
    {
     "name": "stdout",
     "output_type": "stream",
     "text": [
      "['pos/cv000_29590.txt', 'pos/cv001_18431.txt', 'pos/cv002_15918.txt']\n"
     ]
    }
   ],
   "source": [
    "# list of tuples\n",
    "# ([words], label)\n",
    "documents = [(list(movie_reviews.words(fileid)), category) # movie_reviews.words('neg/cv000_29416.txt'), returns the tokenized words of the review file\n",
    "              for category in movie_reviews.categories() # categories are 'pos' and 'neg'\n",
    "              for fileid in movie_reviews.fileids(category)]  # For each category, it loops over all the file IDs belonging to that category.\n",
    "\n",
    "print(movie_reviews.fileids('pos')[:3])\n"
   ]
  },
  {
   "cell_type": "code",
   "execution_count": 34,
   "metadata": {
    "editable": true,
    "slideshow": {
     "slide_type": "fragment"
    },
    "tags": []
   },
   "outputs": [
    {
     "name": "stdout",
     "output_type": "stream",
     "text": [
      "<class 'list'>\n",
      "(['plot', ':', 'two', 'teen', 'couples', 'go', 'to', 'a', 'church', 'party', ',', 'drink', 'and', 'then', 'drive', '.', 'they', 'get', 'into', 'an', 'accident', '.', 'one', 'of', 'the', 'guys', 'dies', ',', 'but', 'his', 'girlfriend', 'continues', 'to', 'see', 'him', 'in', 'her', 'life', ',', 'and', 'has', 'nightmares', '.', 'what', \"'\", 's', 'the', 'deal', '?', 'watch', 'the', 'movie', 'and', '\"', 'sorta', '\"', 'find', 'out', '.', '.', '.', 'critique', ':', 'a', 'mind', '-', 'fuck', 'movie', 'for', 'the', 'teen', 'generation', 'that', 'touches', 'on', 'a', 'very', 'cool', 'idea', ',', 'but', 'presents', 'it', 'in', 'a', 'very', 'bad', 'package', '.', 'which', 'is', 'what', 'makes', 'this', 'review', 'an', 'even', 'harder', 'one', 'to', 'write', ',', 'since', 'i', 'generally', 'applaud', 'films', 'which', 'attempt', 'to', 'break', 'the', 'mold', ',', 'mess', 'with', 'your', 'head', 'and', 'such', '(', 'lost', 'highway', '&', 'memento', ')', ',', 'but', 'there', 'are', 'good', 'and', 'bad', 'ways', 'of', 'making', 'all', 'types', 'of', 'films', ',', 'and', 'these', 'folks', 'just', 'didn', \"'\", 't', 'snag', 'this', 'one', 'correctly', '.', 'they', 'seem', 'to', 'have', 'taken', 'this', 'pretty', 'neat', 'concept', ',', 'but', 'executed', 'it', 'terribly', '.', 'so', 'what', 'are', 'the', 'problems', 'with', 'the', 'movie', '?', 'well', ',', 'its', 'main', 'problem', 'is', 'that', 'it', \"'\", 's', 'simply', 'too', 'jumbled', '.', 'it', 'starts', 'off', '\"', 'normal', '\"', 'but', 'then', 'downshifts', 'into', 'this', '\"', 'fantasy', '\"', 'world', 'in', 'which', 'you', ',', 'as', 'an', 'audience', 'member', ',', 'have', 'no', 'idea', 'what', \"'\", 's', 'going', 'on', '.', 'there', 'are', 'dreams', ',', 'there', 'are', 'characters', 'coming', 'back', 'from', 'the', 'dead', ',', 'there', 'are', 'others', 'who', 'look', 'like', 'the', 'dead', ',', 'there', 'are', 'strange', 'apparitions', ',', 'there', 'are', 'disappearances', ',', 'there', 'are', 'a', 'looooot', 'of', 'chase', 'scenes', ',', 'there', 'are', 'tons', 'of', 'weird', 'things', 'that', 'happen', ',', 'and', 'most', 'of', 'it', 'is', 'simply', 'not', 'explained', '.', 'now', 'i', 'personally', 'don', \"'\", 't', 'mind', 'trying', 'to', 'unravel', 'a', 'film', 'every', 'now', 'and', 'then', ',', 'but', 'when', 'all', 'it', 'does', 'is', 'give', 'me', 'the', 'same', 'clue', 'over', 'and', 'over', 'again', ',', 'i', 'get', 'kind', 'of', 'fed', 'up', 'after', 'a', 'while', ',', 'which', 'is', 'this', 'film', \"'\", 's', 'biggest', 'problem', '.', 'it', \"'\", 's', 'obviously', 'got', 'this', 'big', 'secret', 'to', 'hide', ',', 'but', 'it', 'seems', 'to', 'want', 'to', 'hide', 'it', 'completely', 'until', 'its', 'final', 'five', 'minutes', '.', 'and', 'do', 'they', 'make', 'things', 'entertaining', ',', 'thrilling', 'or', 'even', 'engaging', ',', 'in', 'the', 'meantime', '?', 'not', 'really', '.', 'the', 'sad', 'part', 'is', 'that', 'the', 'arrow', 'and', 'i', 'both', 'dig', 'on', 'flicks', 'like', 'this', ',', 'so', 'we', 'actually', 'figured', 'most', 'of', 'it', 'out', 'by', 'the', 'half', '-', 'way', 'point', ',', 'so', 'all', 'of', 'the', 'strangeness', 'after', 'that', 'did', 'start', 'to', 'make', 'a', 'little', 'bit', 'of', 'sense', ',', 'but', 'it', 'still', 'didn', \"'\", 't', 'the', 'make', 'the', 'film', 'all', 'that', 'more', 'entertaining', '.', 'i', 'guess', 'the', 'bottom', 'line', 'with', 'movies', 'like', 'this', 'is', 'that', 'you', 'should', 'always', 'make', 'sure', 'that', 'the', 'audience', 'is', '\"', 'into', 'it', '\"', 'even', 'before', 'they', 'are', 'given', 'the', 'secret', 'password', 'to', 'enter', 'your', 'world', 'of', 'understanding', '.', 'i', 'mean', ',', 'showing', 'melissa', 'sagemiller', 'running', 'away', 'from', 'visions', 'for', 'about', '20', 'minutes', 'throughout', 'the', 'movie', 'is', 'just', 'plain', 'lazy', '!', '!', 'okay', ',', 'we', 'get', 'it', '.', '.', '.', 'there', 'are', 'people', 'chasing', 'her', 'and', 'we', 'don', \"'\", 't', 'know', 'who', 'they', 'are', '.', 'do', 'we', 'really', 'need', 'to', 'see', 'it', 'over', 'and', 'over', 'again', '?', 'how', 'about', 'giving', 'us', 'different', 'scenes', 'offering', 'further', 'insight', 'into', 'all', 'of', 'the', 'strangeness', 'going', 'down', 'in', 'the', 'movie', '?', 'apparently', ',', 'the', 'studio', 'took', 'this', 'film', 'away', 'from', 'its', 'director', 'and', 'chopped', 'it', 'up', 'themselves', ',', 'and', 'it', 'shows', '.', 'there', 'might', \"'\", 've', 'been', 'a', 'pretty', 'decent', 'teen', 'mind', '-', 'fuck', 'movie', 'in', 'here', 'somewhere', ',', 'but', 'i', 'guess', '\"', 'the', 'suits', '\"', 'decided', 'that', 'turning', 'it', 'into', 'a', 'music', 'video', 'with', 'little', 'edge', ',', 'would', 'make', 'more', 'sense', '.', 'the', 'actors', 'are', 'pretty', 'good', 'for', 'the', 'most', 'part', ',', 'although', 'wes', 'bentley', 'just', 'seemed', 'to', 'be', 'playing', 'the', 'exact', 'same', 'character', 'that', 'he', 'did', 'in', 'american', 'beauty', ',', 'only', 'in', 'a', 'new', 'neighborhood', '.', 'but', 'my', 'biggest', 'kudos', 'go', 'out', 'to', 'sagemiller', ',', 'who', 'holds', 'her', 'own', 'throughout', 'the', 'entire', 'film', ',', 'and', 'actually', 'has', 'you', 'feeling', 'her', 'character', \"'\", 's', 'unraveling', '.', 'overall', ',', 'the', 'film', 'doesn', \"'\", 't', 'stick', 'because', 'it', 'doesn', \"'\", 't', 'entertain', ',', 'it', \"'\", 's', 'confusing', ',', 'it', 'rarely', 'excites', 'and', 'it', 'feels', 'pretty', 'redundant', 'for', 'most', 'of', 'its', 'runtime', ',', 'despite', 'a', 'pretty', 'cool', 'ending', 'and', 'explanation', 'to', 'all', 'of', 'the', 'craziness', 'that', 'came', 'before', 'it', '.', 'oh', ',', 'and', 'by', 'the', 'way', ',', 'this', 'is', 'not', 'a', 'horror', 'or', 'teen', 'slasher', 'flick', '.', '.', '.', 'it', \"'\", 's', 'just', 'packaged', 'to', 'look', 'that', 'way', 'because', 'someone', 'is', 'apparently', 'assuming', 'that', 'the', 'genre', 'is', 'still', 'hot', 'with', 'the', 'kids', '.', 'it', 'also', 'wrapped', 'production', 'two', 'years', 'ago', 'and', 'has', 'been', 'sitting', 'on', 'the', 'shelves', 'ever', 'since', '.', 'whatever', '.', '.', '.', 'skip', 'it', '!', 'where', \"'\", 's', 'joblo', 'coming', 'from', '?', 'a', 'nightmare', 'of', 'elm', 'street', '3', '(', '7', '/', '10', ')', '-', 'blair', 'witch', '2', '(', '7', '/', '10', ')', '-', 'the', 'crow', '(', '9', '/', '10', ')', '-', 'the', 'crow', ':', 'salvation', '(', '4', '/', '10', ')', '-', 'lost', 'highway', '(', '10', '/', '10', ')', '-', 'memento', '(', '10', '/', '10', ')', '-', 'the', 'others', '(', '9', '/', '10', ')', '-', 'stir', 'of', 'echoes', '(', '8', '/', '10', ')'], 'neg')\n",
      "<class 'tuple'>\n"
     ]
    },
    {
     "data": {
      "text/plain": [
       "'neg'"
      ]
     },
     "execution_count": 34,
     "metadata": {},
     "output_type": "execute_result"
    }
   ],
   "source": [
    "print(type(documents))\n",
    "print(documents[0])\n",
    "\n",
    "print(type(documents[0]))\n",
    "# documents[0][0]\n",
    "documents[0][1] # only neg & pos\n"
   ]
  },
  {
   "cell_type": "code",
   "execution_count": 35,
   "metadata": {
    "editable": true,
    "slideshow": {
     "slide_type": "subslide"
    },
    "tags": []
   },
   "outputs": [],
   "source": [
    "random.shuffle(documents)"
   ]
  },
  {
   "cell_type": "markdown",
   "metadata": {
    "editable": true,
    "slideshow": {
     "slide_type": "fragment"
    },
    "tags": []
   },
   "source": [
    "* Dictionary of words and number of instances"
   ]
  },
  {
   "cell_type": "code",
   "execution_count": 36,
   "metadata": {
    "editable": true,
    "slideshow": {
     "slide_type": "fragment"
    },
    "tags": []
   },
   "outputs": [
    {
     "data": {
      "text/plain": [
       "39768"
      ]
     },
     "execution_count": 36,
     "metadata": {},
     "output_type": "execute_result"
    }
   ],
   "source": [
    "all_words = nltk.FreqDist(w.lower() for w in movie_reviews.words())\n",
    "len(all_words)"
   ]
  },
  {
   "cell_type": "code",
   "execution_count": 37,
   "metadata": {
    "editable": true,
    "slideshow": {
     "slide_type": "fragment"
    },
    "tags": []
   },
   "outputs": [
    {
     "data": {
      "text/plain": [
       "FreqDist({',': 77717, 'the': 76529, '.': 65876, 'a': 38106, 'and': 35576, 'of': 34123, 'to': 31937, \"'\": 30585, 'is': 25195, 'in': 21822, ...})"
      ]
     },
     "execution_count": 37,
     "metadata": {},
     "output_type": "execute_result"
    }
   ],
   "source": [
    "all_words"
   ]
  },
  {
   "cell_type": "markdown",
   "metadata": {
    "editable": true,
    "slideshow": {
     "slide_type": "subslide"
    },
    "tags": []
   },
   "source": [
    "* Check the frequency of `,`"
   ]
  },
  {
   "cell_type": "code",
   "execution_count": 38,
   "metadata": {
    "editable": true,
    "slideshow": {
     "slide_type": "fragment"
    },
    "tags": []
   },
   "outputs": [
    {
     "data": {
      "text/plain": [
       "77717"
      ]
     },
     "execution_count": 38,
     "metadata": {},
     "output_type": "execute_result"
    }
   ],
   "source": [
    "all_words[',']"
   ]
  },
  {
   "cell_type": "code",
   "execution_count": 39,
   "metadata": {
    "editable": true,
    "slideshow": {
     "slide_type": "fragment"
    },
    "tags": []
   },
   "outputs": [],
   "source": [
    "word_features = [k for k in all_words.keys() if all_words[k] > 5]"
   ]
  },
  {
   "cell_type": "code",
   "execution_count": 40,
   "metadata": {
    "editable": true,
    "slideshow": {
     "slide_type": "fragment"
    },
    "tags": []
   },
   "outputs": [
    {
     "data": {
      "text/plain": [
       "13214"
      ]
     },
     "execution_count": 40,
     "metadata": {},
     "output_type": "execute_result"
    }
   ],
   "source": [
    "len(word_features)"
   ]
  },
  {
   "cell_type": "markdown",
   "metadata": {
    "editable": true,
    "slideshow": {
     "slide_type": "subslide"
    },
    "tags": []
   },
   "source": [
    "* Define function to get document features"
   ]
  },
  {
   "cell_type": "code",
   "execution_count": 41,
   "metadata": {
    "editable": true,
    "slideshow": {
     "slide_type": "fragment"
    },
    "tags": []
   },
   "outputs": [],
   "source": [
    "def document_features(document):\n",
    "  document_words = set(document)\n",
    "  features = {}\n",
    "  for word in word_features: # word_features is a list of words that appear more than 5 times in the corpus\n",
    "      features['contains(%s)' % word] = (word in document_words)\n",
    "  return features"
   ]
  },
  {
   "cell_type": "code",
   "execution_count": 42,
   "metadata": {
    "editable": true,
    "slideshow": {
     "slide_type": "fragment"
    },
    "tags": []
   },
   "outputs": [
    {
     "data": {
      "text/plain": [
       "{'contains(plot)': False,\n",
       " 'contains(:)': False,\n",
       " 'contains(two)': False,\n",
       " 'contains(teen)': False,\n",
       " 'contains(couples)': False,\n",
       " 'contains(go)': False,\n",
       " 'contains(to)': False,\n",
       " 'contains(a)': True,\n",
       " 'contains(church)': False,\n",
       " 'contains(party)': False,\n",
       " 'contains(,)': False,\n",
       " 'contains(drink)': False,\n",
       " 'contains(and)': False,\n",
       " 'contains(then)': False,\n",
       " 'contains(drive)': False,\n",
       " 'contains(.)': False,\n",
       " 'contains(they)': False,\n",
       " 'contains(get)': False,\n",
       " 'contains(into)': False,\n",
       " 'contains(an)': False,\n",
       " 'contains(accident)': False,\n",
       " 'contains(one)': False,\n",
       " 'contains(of)': False,\n",
       " 'contains(the)': False,\n",
       " 'contains(guys)': False,\n",
       " 'contains(dies)': False,\n",
       " 'contains(but)': False,\n",
       " 'contains(his)': False,\n",
       " 'contains(girlfriend)': False,\n",
       " 'contains(continues)': False,\n",
       " 'contains(see)': False,\n",
       " 'contains(him)': False,\n",
       " 'contains(in)': False,\n",
       " 'contains(her)': False,\n",
       " 'contains(life)': False,\n",
       " 'contains(has)': False,\n",
       " 'contains(nightmares)': False,\n",
       " 'contains(what)': False,\n",
       " \"contains(')\": False,\n",
       " 'contains(s)': False,\n",
       " 'contains(deal)': False,\n",
       " 'contains(?)': False,\n",
       " 'contains(watch)': False,\n",
       " 'contains(movie)': True,\n",
       " 'contains(\")': False,\n",
       " 'contains(sorta)': False,\n",
       " 'contains(find)': False,\n",
       " 'contains(out)': False,\n",
       " 'contains(critique)': False,\n",
       " 'contains(mind)': False,\n",
       " 'contains(-)': False,\n",
       " 'contains(fuck)': False,\n",
       " 'contains(for)': False,\n",
       " 'contains(generation)': False,\n",
       " 'contains(that)': False,\n",
       " 'contains(touches)': False,\n",
       " 'contains(on)': False,\n",
       " 'contains(very)': False,\n",
       " 'contains(cool)': False,\n",
       " 'contains(idea)': False,\n",
       " 'contains(presents)': False,\n",
       " 'contains(it)': False,\n",
       " 'contains(bad)': False,\n",
       " 'contains(package)': False,\n",
       " 'contains(which)': False,\n",
       " 'contains(is)': True,\n",
       " 'contains(makes)': False,\n",
       " 'contains(this)': False,\n",
       " 'contains(review)': False,\n",
       " 'contains(even)': False,\n",
       " 'contains(harder)': False,\n",
       " 'contains(write)': False,\n",
       " 'contains(since)': False,\n",
       " 'contains(i)': False,\n",
       " 'contains(generally)': False,\n",
       " 'contains(applaud)': False,\n",
       " 'contains(films)': False,\n",
       " 'contains(attempt)': False,\n",
       " 'contains(break)': False,\n",
       " 'contains(mold)': False,\n",
       " 'contains(mess)': False,\n",
       " 'contains(with)': False,\n",
       " 'contains(your)': False,\n",
       " 'contains(head)': False,\n",
       " 'contains(such)': False,\n",
       " 'contains(()': False,\n",
       " 'contains(lost)': False,\n",
       " 'contains(highway)': False,\n",
       " 'contains(&)': False,\n",
       " 'contains(memento)': False,\n",
       " 'contains())': False,\n",
       " 'contains(there)': False,\n",
       " 'contains(are)': False,\n",
       " 'contains(good)': False,\n",
       " 'contains(ways)': False,\n",
       " 'contains(making)': False,\n",
       " 'contains(all)': False,\n",
       " 'contains(types)': False,\n",
       " 'contains(these)': False,\n",
       " 'contains(folks)': False,\n",
       " 'contains(just)': False,\n",
       " 'contains(didn)': False,\n",
       " 'contains(t)': False,\n",
       " 'contains(correctly)': False,\n",
       " 'contains(seem)': False,\n",
       " 'contains(have)': False,\n",
       " 'contains(taken)': False,\n",
       " 'contains(pretty)': False,\n",
       " 'contains(neat)': False,\n",
       " 'contains(concept)': False,\n",
       " 'contains(executed)': False,\n",
       " 'contains(terribly)': False,\n",
       " 'contains(so)': False,\n",
       " 'contains(problems)': False,\n",
       " 'contains(well)': False,\n",
       " 'contains(its)': False,\n",
       " 'contains(main)': False,\n",
       " 'contains(problem)': False,\n",
       " 'contains(simply)': False,\n",
       " 'contains(too)': False,\n",
       " 'contains(jumbled)': False,\n",
       " 'contains(starts)': False,\n",
       " 'contains(off)': False,\n",
       " 'contains(normal)': False,\n",
       " 'contains(fantasy)': False,\n",
       " 'contains(world)': False,\n",
       " 'contains(you)': False,\n",
       " 'contains(as)': False,\n",
       " 'contains(audience)': False,\n",
       " 'contains(member)': False,\n",
       " 'contains(no)': False,\n",
       " 'contains(going)': False,\n",
       " 'contains(dreams)': False,\n",
       " 'contains(characters)': False,\n",
       " 'contains(coming)': False,\n",
       " 'contains(back)': False,\n",
       " 'contains(from)': False,\n",
       " 'contains(dead)': False,\n",
       " 'contains(others)': False,\n",
       " 'contains(who)': False,\n",
       " 'contains(look)': False,\n",
       " 'contains(like)': False,\n",
       " 'contains(strange)': False,\n",
       " 'contains(chase)': False,\n",
       " 'contains(scenes)': False,\n",
       " 'contains(tons)': False,\n",
       " 'contains(weird)': False,\n",
       " 'contains(things)': False,\n",
       " 'contains(happen)': False,\n",
       " 'contains(most)': False,\n",
       " 'contains(not)': False,\n",
       " 'contains(explained)': False,\n",
       " 'contains(now)': False,\n",
       " 'contains(personally)': False,\n",
       " 'contains(don)': False,\n",
       " 'contains(trying)': False,\n",
       " 'contains(unravel)': False,\n",
       " 'contains(film)': False,\n",
       " 'contains(every)': False,\n",
       " 'contains(when)': False,\n",
       " 'contains(does)': False,\n",
       " 'contains(give)': False,\n",
       " 'contains(me)': False,\n",
       " 'contains(same)': False,\n",
       " 'contains(clue)': False,\n",
       " 'contains(over)': False,\n",
       " 'contains(again)': False,\n",
       " 'contains(kind)': False,\n",
       " 'contains(fed)': False,\n",
       " 'contains(up)': False,\n",
       " 'contains(after)': False,\n",
       " 'contains(while)': False,\n",
       " 'contains(biggest)': False,\n",
       " 'contains(obviously)': False,\n",
       " 'contains(got)': False,\n",
       " 'contains(big)': False,\n",
       " 'contains(secret)': False,\n",
       " 'contains(hide)': False,\n",
       " 'contains(seems)': False,\n",
       " 'contains(want)': False,\n",
       " 'contains(completely)': False,\n",
       " 'contains(until)': False,\n",
       " 'contains(final)': False,\n",
       " 'contains(five)': False,\n",
       " 'contains(minutes)': False,\n",
       " 'contains(do)': False,\n",
       " 'contains(make)': False,\n",
       " 'contains(entertaining)': False,\n",
       " 'contains(thrilling)': False,\n",
       " 'contains(or)': False,\n",
       " 'contains(engaging)': False,\n",
       " 'contains(meantime)': False,\n",
       " 'contains(really)': False,\n",
       " 'contains(sad)': False,\n",
       " 'contains(part)': False,\n",
       " 'contains(arrow)': False,\n",
       " 'contains(both)': False,\n",
       " 'contains(dig)': False,\n",
       " 'contains(flicks)': False,\n",
       " 'contains(we)': False,\n",
       " 'contains(actually)': False,\n",
       " 'contains(figured)': False,\n",
       " 'contains(by)': False,\n",
       " 'contains(half)': False,\n",
       " 'contains(way)': False,\n",
       " 'contains(point)': False,\n",
       " 'contains(strangeness)': False,\n",
       " 'contains(did)': False,\n",
       " 'contains(start)': False,\n",
       " 'contains(little)': False,\n",
       " 'contains(bit)': False,\n",
       " 'contains(sense)': False,\n",
       " 'contains(still)': False,\n",
       " 'contains(more)': False,\n",
       " 'contains(guess)': False,\n",
       " 'contains(bottom)': False,\n",
       " 'contains(line)': False,\n",
       " 'contains(movies)': False,\n",
       " 'contains(should)': False,\n",
       " 'contains(always)': False,\n",
       " 'contains(sure)': False,\n",
       " 'contains(before)': False,\n",
       " 'contains(given)': False,\n",
       " 'contains(enter)': False,\n",
       " 'contains(understanding)': False,\n",
       " 'contains(mean)': False,\n",
       " 'contains(showing)': False,\n",
       " 'contains(melissa)': False,\n",
       " 'contains(sagemiller)': False,\n",
       " 'contains(running)': False,\n",
       " 'contains(away)': False,\n",
       " 'contains(visions)': False,\n",
       " 'contains(about)': False,\n",
       " 'contains(20)': False,\n",
       " 'contains(throughout)': False,\n",
       " 'contains(plain)': False,\n",
       " 'contains(lazy)': False,\n",
       " 'contains(!)': False,\n",
       " 'contains(okay)': False,\n",
       " 'contains(people)': False,\n",
       " 'contains(chasing)': False,\n",
       " 'contains(know)': False,\n",
       " 'contains(need)': False,\n",
       " 'contains(how)': False,\n",
       " 'contains(giving)': False,\n",
       " 'contains(us)': False,\n",
       " 'contains(different)': False,\n",
       " 'contains(offering)': False,\n",
       " 'contains(further)': False,\n",
       " 'contains(insight)': False,\n",
       " 'contains(down)': False,\n",
       " 'contains(apparently)': False,\n",
       " 'contains(studio)': False,\n",
       " 'contains(took)': False,\n",
       " 'contains(director)': False,\n",
       " 'contains(themselves)': False,\n",
       " 'contains(shows)': False,\n",
       " 'contains(might)': False,\n",
       " 'contains(ve)': False,\n",
       " 'contains(been)': False,\n",
       " 'contains(decent)': False,\n",
       " 'contains(here)': False,\n",
       " 'contains(somewhere)': False,\n",
       " 'contains(suits)': False,\n",
       " 'contains(decided)': False,\n",
       " 'contains(turning)': False,\n",
       " 'contains(music)': False,\n",
       " 'contains(video)': False,\n",
       " 'contains(edge)': False,\n",
       " 'contains(would)': False,\n",
       " 'contains(actors)': False,\n",
       " 'contains(although)': False,\n",
       " 'contains(wes)': False,\n",
       " 'contains(bentley)': False,\n",
       " 'contains(seemed)': False,\n",
       " 'contains(be)': False,\n",
       " 'contains(playing)': False,\n",
       " 'contains(exact)': False,\n",
       " 'contains(character)': False,\n",
       " 'contains(he)': False,\n",
       " 'contains(american)': False,\n",
       " 'contains(beauty)': False,\n",
       " 'contains(only)': False,\n",
       " 'contains(new)': False,\n",
       " 'contains(neighborhood)': False,\n",
       " 'contains(my)': False,\n",
       " 'contains(kudos)': False,\n",
       " 'contains(holds)': False,\n",
       " 'contains(own)': False,\n",
       " 'contains(entire)': False,\n",
       " 'contains(feeling)': False,\n",
       " 'contains(overall)': False,\n",
       " 'contains(doesn)': False,\n",
       " 'contains(stick)': False,\n",
       " 'contains(because)': False,\n",
       " 'contains(entertain)': False,\n",
       " 'contains(confusing)': False,\n",
       " 'contains(rarely)': False,\n",
       " 'contains(feels)': False,\n",
       " 'contains(redundant)': False,\n",
       " 'contains(runtime)': False,\n",
       " 'contains(despite)': False,\n",
       " 'contains(ending)': False,\n",
       " 'contains(explanation)': False,\n",
       " 'contains(came)': False,\n",
       " 'contains(oh)': False,\n",
       " 'contains(horror)': False,\n",
       " 'contains(slasher)': False,\n",
       " 'contains(flick)': False,\n",
       " 'contains(someone)': False,\n",
       " 'contains(assuming)': False,\n",
       " 'contains(genre)': False,\n",
       " 'contains(hot)': False,\n",
       " 'contains(kids)': False,\n",
       " 'contains(also)': False,\n",
       " 'contains(wrapped)': False,\n",
       " 'contains(production)': False,\n",
       " 'contains(years)': False,\n",
       " 'contains(ago)': False,\n",
       " 'contains(sitting)': False,\n",
       " 'contains(shelves)': False,\n",
       " 'contains(ever)': False,\n",
       " 'contains(whatever)': False,\n",
       " 'contains(skip)': False,\n",
       " 'contains(where)': False,\n",
       " 'contains(joblo)': False,\n",
       " 'contains(nightmare)': False,\n",
       " 'contains(elm)': False,\n",
       " 'contains(street)': False,\n",
       " 'contains(3)': False,\n",
       " 'contains(7)': False,\n",
       " 'contains(/)': False,\n",
       " 'contains(10)': False,\n",
       " 'contains(blair)': False,\n",
       " 'contains(witch)': False,\n",
       " 'contains(2)': False,\n",
       " 'contains(crow)': False,\n",
       " 'contains(9)': False,\n",
       " 'contains(salvation)': False,\n",
       " 'contains(4)': False,\n",
       " 'contains(stir)': False,\n",
       " 'contains(echoes)': False,\n",
       " 'contains(8)': False,\n",
       " 'contains(happy)': False,\n",
       " 'contains(bastard)': False,\n",
       " 'contains(quick)': False,\n",
       " 'contains(damn)': False,\n",
       " 'contains(bug)': False,\n",
       " 'contains(starring)': False,\n",
       " 'contains(jamie)': False,\n",
       " 'contains(lee)': False,\n",
       " 'contains(curtis)': False,\n",
       " 'contains(another)': False,\n",
       " 'contains(baldwin)': False,\n",
       " 'contains(brother)': False,\n",
       " 'contains(william)': False,\n",
       " 'contains(time)': False,\n",
       " 'contains(story)': False,\n",
       " 'contains(regarding)': False,\n",
       " 'contains(crew)': False,\n",
       " 'contains(comes)': False,\n",
       " 'contains(across)': False,\n",
       " 'contains(deserted)': False,\n",
       " 'contains(russian)': False,\n",
       " 'contains(tech)': False,\n",
       " 'contains(ship)': False,\n",
       " 'contains(kick)': False,\n",
       " 'contains(power)': False,\n",
       " 'contains(within)': False,\n",
       " 'contains(gore)': False,\n",
       " 'contains(bringing)': False,\n",
       " 'contains(few)': False,\n",
       " 'contains(action)': False,\n",
       " 'contains(sequences)': False,\n",
       " 'contains(virus)': False,\n",
       " 'contains(empty)': False,\n",
       " 'contains(flash)': False,\n",
       " 'contains(substance)': False,\n",
       " 'contains(why)': False,\n",
       " 'contains(was)': False,\n",
       " 'contains(middle)': False,\n",
       " 'contains(nowhere)': False,\n",
       " 'contains(origin)': False,\n",
       " 'contains(pink)': False,\n",
       " 'contains(flashy)': False,\n",
       " 'contains(thing)': False,\n",
       " 'contains(hit)': False,\n",
       " 'contains(mir)': False,\n",
       " 'contains(course)': False,\n",
       " 'contains(donald)': False,\n",
       " 'contains(sutherland)': False,\n",
       " 'contains(stumbling)': False,\n",
       " 'contains(around)': False,\n",
       " 'contains(hey)': False,\n",
       " 'contains(let)': False,\n",
       " 'contains(some)': False,\n",
       " 'contains(robots)': False,\n",
       " 'contains(acting)': False,\n",
       " 'contains(below)': False,\n",
       " 'contains(average)': False,\n",
       " 'contains(likes)': False,\n",
       " 'contains(re)': False,\n",
       " 'contains(likely)': False,\n",
       " 'contains(work)': False,\n",
       " 'contains(halloween)': False,\n",
       " 'contains(h20)': False,\n",
       " 'contains(wasted)': False,\n",
       " 'contains(real)': False,\n",
       " 'contains(star)': False,\n",
       " 'contains(stan)': False,\n",
       " 'contains(robot)': False,\n",
       " 'contains(design)': False,\n",
       " 'contains(cgi)': False,\n",
       " 'contains(occasional)': False,\n",
       " 'contains(shot)': False,\n",
       " 'contains(picking)': False,\n",
       " 'contains(brain)': False,\n",
       " 'contains(if)': False,\n",
       " 'contains(body)': False,\n",
       " 'contains(parts)': False,\n",
       " 'contains(turn)': False,\n",
       " 'contains(otherwise)': False,\n",
       " 'contains(much)': False,\n",
       " 'contains(jaded)': False,\n",
       " 'contains(viewer)': False,\n",
       " 'contains(thankful)': False,\n",
       " 'contains(invention)': False,\n",
       " 'contains(based)': False,\n",
       " 'contains(late)': False,\n",
       " 'contains(1960)': False,\n",
       " 'contains(television)': False,\n",
       " 'contains(show)': False,\n",
       " 'contains(name)': False,\n",
       " 'contains(mod)': False,\n",
       " 'contains(squad)': False,\n",
       " 'contains(tells)': False,\n",
       " 'contains(tale)': False,\n",
       " 'contains(three)': False,\n",
       " 'contains(reformed)': False,\n",
       " 'contains(criminals)': False,\n",
       " 'contains(under)': False,\n",
       " 'contains(employ)': False,\n",
       " 'contains(police)': False,\n",
       " 'contains(undercover)': False,\n",
       " 'contains(however)': False,\n",
       " 'contains(wrong)': False,\n",
       " 'contains(evidence)': False,\n",
       " 'contains(gets)': False,\n",
       " 'contains(stolen)': False,\n",
       " 'contains(immediately)': False,\n",
       " 'contains(suspicion)': False,\n",
       " 'contains(ads)': False,\n",
       " 'contains(cuts)': False,\n",
       " 'contains(claire)': False,\n",
       " 'contains(nice)': False,\n",
       " 'contains(hair)': False,\n",
       " 'contains(cute)': False,\n",
       " 'contains(outfits)': False,\n",
       " 'contains(car)': False,\n",
       " 'contains(chases)': False,\n",
       " 'contains(stuff)': False,\n",
       " 'contains(blowing)': False,\n",
       " 'contains(sounds)': False,\n",
       " 'contains(first)': False,\n",
       " 'contains(fifteen)': False,\n",
       " 'contains(quickly)': False,\n",
       " 'contains(becomes)': False,\n",
       " 'contains(apparent)': False,\n",
       " 'contains(certainly)': False,\n",
       " 'contains(slick)': False,\n",
       " 'contains(looking)': False,\n",
       " 'contains(complete)': False,\n",
       " 'contains(costumes)': False,\n",
       " 'contains(isn)': False,\n",
       " 'contains(enough)': False,\n",
       " 'contains(best)': False,\n",
       " 'contains(described)': False,\n",
       " 'contains(cross)': False,\n",
       " 'contains(between)': False,\n",
       " 'contains(hour)': False,\n",
       " 'contains(long)': False,\n",
       " 'contains(cop)': False,\n",
       " 'contains(stretched)': False,\n",
       " 'contains(span)': False,\n",
       " 'contains(single)': False,\n",
       " 'contains(clich)': False,\n",
       " 'contains(matter)': False,\n",
       " 'contains(elements)': False,\n",
       " 'contains(recycled)': False,\n",
       " 'contains(everything)': False,\n",
       " 'contains(already)': False,\n",
       " 'contains(seen)': False,\n",
       " 'contains(nothing)': False,\n",
       " 'contains(spectacular)': False,\n",
       " 'contains(sometimes)': False,\n",
       " 'contains(bordering)': False,\n",
       " 'contains(wooden)': False,\n",
       " 'contains(danes)': False,\n",
       " 'contains(omar)': False,\n",
       " 'contains(epps)': False,\n",
       " 'contains(deliver)': False,\n",
       " 'contains(their)': False,\n",
       " 'contains(lines)': False,\n",
       " 'contains(bored)': False,\n",
       " 'contains(onto)': False,\n",
       " 'contains(escape)': False,\n",
       " 'contains(relatively)': False,\n",
       " 'contains(unscathed)': False,\n",
       " 'contains(giovanni)': False,\n",
       " 'contains(ribisi)': False,\n",
       " 'contains(plays)': False,\n",
       " 'contains(resident)': False,\n",
       " 'contains(crazy)': False,\n",
       " 'contains(man)': False,\n",
       " 'contains(ultimately)': False,\n",
       " 'contains(being)': False,\n",
       " 'contains(worth)': False,\n",
       " 'contains(watching)': False,\n",
       " 'contains(unfortunately)': False,\n",
       " 'contains(save)': False,\n",
       " 'contains(convoluted)': False,\n",
       " 'contains(apart)': False,\n",
       " 'contains(screen)': False,\n",
       " 'contains(young)': False,\n",
       " 'contains(cast)': False,\n",
       " 'contains(clothes)': False,\n",
       " 'contains(hip)': False,\n",
       " 'contains(soundtrack)': False,\n",
       " 'contains(appears)': False,\n",
       " 'contains(geared)': False,\n",
       " 'contains(towards)': False,\n",
       " 'contains(teenage)': False,\n",
       " 'contains(mindset)': False,\n",
       " 'contains(r)': False,\n",
       " 'contains(rating)': False,\n",
       " 'contains(content)': False,\n",
       " 'contains(justify)': False,\n",
       " 'contains(juvenile)': False,\n",
       " 'contains(older)': False,\n",
       " 'contains(information)': False,\n",
       " 'contains(literally)': False,\n",
       " 'contains(spoon)': False,\n",
       " 'contains(hard)': False,\n",
       " 'contains(instead)': False,\n",
       " 'contains(telling)': False,\n",
       " 'contains(dialogue)': False,\n",
       " 'contains(poorly)': False,\n",
       " 'contains(written)': False,\n",
       " 'contains(extremely)': False,\n",
       " 'contains(predictable)': False,\n",
       " 'contains(progresses)': False,\n",
       " 'contains(won)': False,\n",
       " 'contains(care)': False,\n",
       " 'contains(heroes)': False,\n",
       " 'contains(any)': False,\n",
       " 'contains(jeopardy)': False,\n",
       " 'contains(ll)': False,\n",
       " 'contains(aren)': False,\n",
       " 'contains(nobody)': False,\n",
       " 'contains(remembers)': False,\n",
       " 'contains(questionable)': False,\n",
       " 'contains(wisdom)': False,\n",
       " 'contains(especially)': False,\n",
       " 'contains(considers)': False,\n",
       " 'contains(target)': False,\n",
       " 'contains(fact)': False,\n",
       " 'contains(number)': False,\n",
       " 'contains(memorable)': False,\n",
       " 'contains(can)': False,\n",
       " 'contains(counted)': False,\n",
       " 'contains(hand)': False,\n",
       " 'contains(missing)': False,\n",
       " 'contains(finger)': False,\n",
       " 'contains(times)': False,\n",
       " 'contains(checked)': False,\n",
       " 'contains(six)': False,\n",
       " 'contains(clear)': False,\n",
       " 'contains(indication)': False,\n",
       " 'contains(them)': False,\n",
       " 'contains(than)': False,\n",
       " 'contains(cash)': False,\n",
       " 'contains(spending)': False,\n",
       " 'contains(dollar)': False,\n",
       " 'contains(judging)': False,\n",
       " 'contains(rash)': False,\n",
       " 'contains(awful)': False,\n",
       " 'contains(seeing)': False,\n",
       " 'contains(avoid)': False,\n",
       " 'contains(at)': False,\n",
       " 'contains(costs)': False,\n",
       " 'contains(quest)': False,\n",
       " 'contains(camelot)': False,\n",
       " 'contains(warner)': False,\n",
       " 'contains(bros)': False,\n",
       " 'contains(feature)': False,\n",
       " 'contains(length)': False,\n",
       " 'contains(fully)': False,\n",
       " 'contains(animated)': False,\n",
       " 'contains(steal)': False,\n",
       " 'contains(clout)': False,\n",
       " 'contains(disney)': False,\n",
       " 'contains(cartoon)': False,\n",
       " 'contains(empire)': False,\n",
       " 'contains(mouse)': False,\n",
       " 'contains(reason)': False,\n",
       " 'contains(worried)': False,\n",
       " 'contains(other)': False,\n",
       " 'contains(recent)': False,\n",
       " 'contains(throne)': False,\n",
       " 'contains(last)': False,\n",
       " 'contains(fall)': False,\n",
       " 'contains(promising)': False,\n",
       " 'contains(flawed)': False,\n",
       " 'contains(20th)': False,\n",
       " 'contains(century)': False,\n",
       " 'contains(fox)': False,\n",
       " 'contains(anastasia)': False,\n",
       " 'contains(hercules)': False,\n",
       " 'contains(lively)': False,\n",
       " 'contains(colorful)': False,\n",
       " 'contains(had)': False,\n",
       " 'contains(beat)': False,\n",
       " 'contains(hands)': False,\n",
       " 'contains(crown)': False,\n",
       " 'contains(1997)': False,\n",
       " 'contains(piece)': False,\n",
       " 'contains(animation)': False,\n",
       " 'contains(year)': False,\n",
       " 'contains(contest)': False,\n",
       " 'contains(arrival)': False,\n",
       " 'contains(magic)': False,\n",
       " 'contains(kingdom)': False,\n",
       " 'contains(mediocre)': False,\n",
       " 'contains(--)': False,\n",
       " 'contains(d)': False,\n",
       " 'contains(pocahontas)': False,\n",
       " 'contains(those)': False,\n",
       " 'contains(keeping)': False,\n",
       " 'contains(score)': False,\n",
       " 'contains(nearly)': False,\n",
       " 'contains(dull)': False,\n",
       " 'contains(revolves)': False,\n",
       " 'contains(adventures)': False,\n",
       " 'contains(free)': False,\n",
       " 'contains(spirited)': False,\n",
       " 'contains(voiced)': False,\n",
       " 'contains(early)': False,\n",
       " 'contains(daughter)': False,\n",
       " 'contains(knight)': False,\n",
       " 'contains(king)': False,\n",
       " 'contains(arthur)': False,\n",
       " 'contains(round)': False,\n",
       " 'contains(table)': False,\n",
       " 'contains(dream)': False,\n",
       " 'contains(follow)': False,\n",
       " 'contains(father)': False,\n",
       " 'contains(footsteps)': False,\n",
       " 'contains(she)': False,\n",
       " 'contains(chance)': False,\n",
       " 'contains(evil)': False,\n",
       " 'contains(gary)': False,\n",
       " 'contains(oldman)': False,\n",
       " 'contains(ex)': False,\n",
       " 'contains(gone)': False,\n",
       " 'contains(steals)': False,\n",
       " 'contains(magical)': False,\n",
       " 'contains(sword)': False,\n",
       " 'contains(accidentally)': False,\n",
       " 'contains(loses)': False,\n",
       " 'contains(dangerous)': False,\n",
       " 'contains(trapped)': False,\n",
       " 'contains(forest)': False,\n",
       " 'contains(help)': False,\n",
       " 'contains(hunky)': False,\n",
       " 'contains(blind)': False,\n",
       " 'contains(garrett)': False,\n",
       " 'contains(carey)': False,\n",
       " 'contains(elwes)': False,\n",
       " 'contains(headed)': False,\n",
       " 'contains(dragon)': False,\n",
       " 'contains(eric)': False,\n",
       " 'contains(idle)': False,\n",
       " 'contains(arguing)': False,\n",
       " 'contains(itself)': False,\n",
       " 'contains(able)': False,\n",
       " 'contains(medieval)': False,\n",
       " 'contains(sexist)': False,\n",
       " 'contains(prove)': False,\n",
       " 'contains(fighter)': False,\n",
       " 'contains(side)': False,\n",
       " 'contains(pure)': False,\n",
       " 'contains(essential)': False,\n",
       " 'contains(element)': False,\n",
       " 'contains(expected)': False,\n",
       " 'contains(climb)': False,\n",
       " 'contains(high)': False,\n",
       " 'contains(ranks)': False,\n",
       " 'contains(something)': False,\n",
       " 'contains(saturday)': False,\n",
       " 'contains(morning)': False,\n",
       " 'contains(instantly)': False,\n",
       " 'contains(forgettable)': False,\n",
       " 'contains(songs)': False,\n",
       " 'contains(integrated)': False,\n",
       " 'contains(footage)': False,\n",
       " 'contains(compare)': False,\n",
       " 'contains(run)': False,\n",
       " 'contains(angry)': False,\n",
       " 'contains(ogre)': False,\n",
       " 'contains(battle)': False,\n",
       " 'contains(rest)': False,\n",
       " 'contains(case)': False,\n",
       " 'contains(none)': False,\n",
       " 'contains(remotely)': False,\n",
       " 'contains(interesting)': False,\n",
       " 'contains(race)': False,\n",
       " 'contains(bland)': False,\n",
       " 'contains(end)': False,\n",
       " 'contains(tie)': False,\n",
       " 'contains(win)': False,\n",
       " 'contains(comedy)': False,\n",
       " 'contains(shtick)': False,\n",
       " 'contains(awfully)': False,\n",
       " 'contains(least)': False,\n",
       " 'contains(signs)': False,\n",
       " 'contains(pulse)': False,\n",
       " 'contains(fans)': False,\n",
       " 'contains(90s)': False,\n",
       " 'contains(will)': False,\n",
       " 'contains(thrilled)': False,\n",
       " 'contains(white)': False,\n",
       " 'contains(bronson)': False,\n",
       " 'contains(sharing)': False,\n",
       " 'contains(nicely)': False,\n",
       " 'contains(realized)': False,\n",
       " 'contains(though)': False,\n",
       " 'contains(m)': False,\n",
       " 'contains(loss)': False,\n",
       " 'contains(recall)': False,\n",
       " 'contains(specific)': False,\n",
       " 'contains(providing)': False,\n",
       " 'contains(voice)': False,\n",
       " 'contains(talent)': False,\n",
       " 'contains(enthusiastic)': False,\n",
       " 'contains(paired)': False,\n",
       " 'contains(singers)': False,\n",
       " 'contains(sound)': False,\n",
       " 'contains(musical)': False,\n",
       " 'contains(moments)': False,\n",
       " 'contains(jane)': False,\n",
       " 'contains(seymour)': False,\n",
       " 'contains(celine)': False,\n",
       " 'contains(must)': False,\n",
       " 'contains(strain)': False,\n",
       " 'contains(through)': False,\n",
       " 'contains(aside)': False,\n",
       " 'contains(children)': False,\n",
       " 'contains(probably)': False,\n",
       " 'contains(adults)': False,\n",
       " 'contains(error)': False,\n",
       " 'contains(lack)': False,\n",
       " 'contains(personality)': False,\n",
       " 'contains(learn)': False,\n",
       " 'contains(goes)': False,\n",
       " 'contains(synopsis)': False,\n",
       " 'contains(mentally)': False,\n",
       " 'contains(unstable)': False,\n",
       " 'contains(saves)': False,\n",
       " 'contains(boy)': False,\n",
       " 'contains(potentially)': False,\n",
       " 'contains(fatal)': False,\n",
       " 'contains(falls)': False,\n",
       " 'contains(love)': False,\n",
       " 'contains(mother)': False,\n",
       " 'contains(fledgling)': False,\n",
       " 'contains(unsuccessfully)': False,\n",
       " 'contains(attempting)': False,\n",
       " 'contains(gain)': False,\n",
       " 'contains(woman)': False,\n",
       " 'contains(favor)': False,\n",
       " 'contains(takes)': False,\n",
       " 'contains(pictures)': False,\n",
       " 'contains(kills)': False,\n",
       " 'contains(comments)': False,\n",
       " 'contains(stalked)': False,\n",
       " 'contains(yet)': False,\n",
       " 'contains(seemingly)': False,\n",
       " 'contains(endless)': False,\n",
       " 'contains(string)': False,\n",
       " 'contains(getting)': False,\n",
       " 'contains(revenge)': False,\n",
       " 'contains(type)': False,\n",
       " 'contains(stable)': False,\n",
       " 'contains(category)': False,\n",
       " 'contains(1990s)': False,\n",
       " 'contains(industry)': False,\n",
       " 'contains(theatrical)': False,\n",
       " 'contains(direct)': False,\n",
       " 'contains(may)': False,\n",
       " 'contains(due)': False,\n",
       " 'contains(typically)': False,\n",
       " 'contains(produce)': False,\n",
       " 'contains(special)': False,\n",
       " 'contains(effects)': False,\n",
       " 'contains(stars)': False,\n",
       " 'contains(serve)': False,\n",
       " 'contains(vehicles)': False,\n",
       " 'contains(nudity)': False,\n",
       " 'contains(allowing)': False,\n",
       " 'contains(frequent)': False,\n",
       " 'contains(night)': False,\n",
       " 'contains(cable)': False,\n",
       " 'contains(slightly)': False,\n",
       " 'contains(norm)': False,\n",
       " 'contains(respect)': False,\n",
       " 'contains(psycho)': False,\n",
       " 'contains(never)': False,\n",
       " 'contains(affair)': False,\n",
       " 'contains(;)': False,\n",
       " 'contains(contrary)': False,\n",
       " 'contains(rejected)': False,\n",
       " 'contains(rather)': False,\n",
       " 'contains(lover)': False,\n",
       " 'contains(wife)': False,\n",
       " 'contains(husband)': False,\n",
       " 'contains(entry)': False,\n",
       " 'contains(doomed)': False,\n",
       " 'contains(collect)': False,\n",
       " 'contains(dust)': False,\n",
       " 'contains(viewed)': False,\n",
       " 'contains(midnight)': False,\n",
       " 'contains(provide)': False,\n",
       " 'contains(suspense)': False,\n",
       " 'contains(sets)': False,\n",
       " 'contains(opening)': False,\n",
       " 'contains(credits)': False,\n",
       " 'contains(instance)': False,\n",
       " 'contains(serious)': False,\n",
       " 'contains(sounding)': False,\n",
       " 'contains(narrator)': False,\n",
       " 'contains(ponders)': False,\n",
       " 'contains(cause)': False,\n",
       " 'contains(implied)': False,\n",
       " 'contains(men)': False,\n",
       " 'contains(shown)': False,\n",
       " 'contains(actor)': False,\n",
       " 'contains(jay)': False,\n",
       " 'contains(underwood)': False,\n",
       " 'contains(states)': False,\n",
       " 'contains(daryl)': False,\n",
       " 'contains(stalker)': False,\n",
       " 'contains(brooke)': False,\n",
       " 'contains(daniels)': False,\n",
       " 'contains(meant)': False,\n",
       " 'contains(called)': False,\n",
       " 'contains(required)': False,\n",
       " 'contains(proceeds)': False,\n",
       " 'contains(begins)': False,\n",
       " 'contains(obvious)': False,\n",
       " 'contains(sequence)': False,\n",
       " 'contains(contrived)': False,\n",
       " 'contains(quite)': False,\n",
       " 'contains(brings)': False,\n",
       " 'contains(victim)': False,\n",
       " 'contains(together)': False,\n",
       " 'contains(follows)': False,\n",
       " 'contains(tries)': False,\n",
       " 'contains(woo)': False,\n",
       " 'contains(plans)': False,\n",
       " 'contains(become)': False,\n",
       " 'contains(desperate)': False,\n",
       " 'contains(elaborate)': False,\n",
       " 'contains(include)': False,\n",
       " 'contains(cliche)': False,\n",
       " 'contains(murdered)': False,\n",
       " 'contains(pet)': False,\n",
       " 'contains(require)': False,\n",
       " 'contains(found)': False,\n",
       " 'contains(exception)': False,\n",
       " 'contains(cat)': False,\n",
       " 'contains(shower)': False,\n",
       " 'contains(events)': False,\n",
       " 'contains(lead)': False,\n",
       " 'contains(inevitable)': False,\n",
       " 'contains(showdown)': False,\n",
       " 'contains(survives)': False,\n",
       " 'contains(invariably)': False,\n",
       " 'contains(conclusion)': False,\n",
       " 'contains(turkey)': False,\n",
       " 'contains(uniformly)': False,\n",
       " 'contains(adequate)': False,\n",
       " 'contains(anything)': False,\n",
       " 'contains(home)': False,\n",
       " 'contains(either)': False,\n",
       " 'contains(turns)': False,\n",
       " 'contains(toward)': False,\n",
       " 'contains(melodrama)': False,\n",
       " 'contains(words)': False,\n",
       " 'contains(manages)': False,\n",
       " 'contains(creepy)': False,\n",
       " 'contains(pass)': False,\n",
       " 'contains(demands)': False,\n",
       " 'contains(close)': False,\n",
       " 'contains(played)': False,\n",
       " 'contains(bond)': False,\n",
       " 'contains(chick)': False,\n",
       " 'contains(living)': False,\n",
       " 'contains(equally)': False,\n",
       " 'contains(title)': False,\n",
       " 'contains(ditzy)': False,\n",
       " 'contains(strong)': False,\n",
       " 'contains(independent)': False,\n",
       " 'contains(business)': False,\n",
       " 'contains(owner)': False,\n",
       " 'contains(needs)': False,\n",
       " 'contains(proceed)': False,\n",
       " 'contains(example)': False,\n",
       " 'contains(ensure)': False,\n",
       " 'contains(use)': False,\n",
       " 'contains(excuse)': False,\n",
       " 'contains(decides)': False,\n",
       " 'contains(return)': False,\n",
       " 'contains(left)': False,\n",
       " 'contains(place)': False,\n",
       " 'contains(house)': False,\n",
       " 'contains(leave)': False,\n",
       " 'contains(door)': False,\n",
       " 'contains(answers)': False,\n",
       " 'contains(opens)': False,\n",
       " 'contains(wanders)': False,\n",
       " 'contains(returns)': False,\n",
       " 'contains(enters)': False,\n",
       " 'contains(our)': False,\n",
       " 'contains(heroine)': False,\n",
       " 'contains(danger)': False,\n",
       " 'contains(somehow)': False,\n",
       " 'contains(front)': False,\n",
       " 'contains(right)': False,\n",
       " 'contains(oblivious)': False,\n",
       " 'contains(presence)': False,\n",
       " 'contains(inside)': False,\n",
       " 'contains(whole)': False,\n",
       " 'contains(episode)': False,\n",
       " 'contains(places)': False,\n",
       " 'contains(incredible)': False,\n",
       " 'contains(suspension)': False,\n",
       " 'contains(disbelief)': False,\n",
       " 'contains(questions)': False,\n",
       " 'contains(intelligence)': False,\n",
       " 'contains(receives)': False,\n",
       " 'contains(highly)': False,\n",
       " 'contains(derivative)': False,\n",
       " 'contains(somewhat)': False,\n",
       " 'contains(boring)': False,\n",
       " 'contains(cannot)': False,\n",
       " 'contains(watched)': False,\n",
       " 'contains(rated)': False,\n",
       " 'contains(mostly)': False,\n",
       " 'contains(several)': False,\n",
       " 'contains(murder)': False,\n",
       " 'contains(brief)': False,\n",
       " 'contains(strip)': False,\n",
       " 'contains(bar)': False,\n",
       " 'contains(offensive)': False,\n",
       " 'contains(many)': False,\n",
       " 'contains(thrillers)': False,\n",
       " 'contains(mood)': False,\n",
       " 'contains(stake)': False,\n",
       " 'contains(else)': False,\n",
       " 'contains(capsule)': False,\n",
       " 'contains(planet)': False,\n",
       " 'contains(mars)': False,\n",
       " 'contains(taking)': False,\n",
       " 'contains(custody)': False,\n",
       " 'contains(accused)': False,\n",
       " 'contains(murderer)': False,\n",
       " 'contains(face)': False,\n",
       " 'contains(menace)': False,\n",
       " 'contains(lot)': False,\n",
       " 'contains(fighting)': False,\n",
       " 'contains(john)': False,\n",
       " 'contains(carpenter)': False,\n",
       " 'contains(reprises)': False,\n",
       " 'contains(ideas)': False,\n",
       " 'contains(previous)': False,\n",
       " 'contains(assault)': False,\n",
       " 'contains(precinct)': False,\n",
       " 'contains(13)': False,\n",
       " 'contains(homage)': False,\n",
       " 'contains(himself)': False,\n",
       " 'contains(0)': False,\n",
       " 'contains(+)': False,\n",
       " 'contains(believes)': False,\n",
       " 'contains(fight)': False,\n",
       " 'contains(horrible)': True,\n",
       " 'contains(writer)': False,\n",
       " 'contains(supposedly)': False,\n",
       " 'contains(expert)': False,\n",
       " 'contains(mistake)': False,\n",
       " 'contains(ghosts)': False,\n",
       " ...}"
      ]
     },
     "execution_count": 42,
     "metadata": {},
     "output_type": "execute_result"
    }
   ],
   "source": [
    "document_features(['This', 'is', 'a', 'horrible', 'movie'])"
   ]
  },
  {
   "cell_type": "code",
   "execution_count": 43,
   "metadata": {
    "editable": true,
    "slideshow": {
     "slide_type": "fragment"
    },
    "tags": []
   },
   "outputs": [
    {
     "data": {
      "text/plain": [
       "{'contains(plot)': True,\n",
       " 'contains(:)': True,\n",
       " 'contains(two)': True,\n",
       " 'contains(teen)': False,\n",
       " 'contains(couples)': False,\n",
       " 'contains(go)': False,\n",
       " 'contains(to)': True,\n",
       " 'contains(a)': True,\n",
       " 'contains(church)': False,\n",
       " 'contains(party)': False,\n",
       " 'contains(,)': True,\n",
       " 'contains(drink)': False,\n",
       " 'contains(and)': True,\n",
       " 'contains(then)': True,\n",
       " 'contains(drive)': False,\n",
       " 'contains(.)': True,\n",
       " 'contains(they)': True,\n",
       " 'contains(get)': True,\n",
       " 'contains(into)': True,\n",
       " 'contains(an)': True,\n",
       " 'contains(accident)': False,\n",
       " 'contains(one)': True,\n",
       " 'contains(of)': True,\n",
       " 'contains(the)': True,\n",
       " 'contains(guys)': False,\n",
       " 'contains(dies)': False,\n",
       " 'contains(but)': True,\n",
       " 'contains(his)': True,\n",
       " 'contains(girlfriend)': True,\n",
       " 'contains(continues)': False,\n",
       " 'contains(see)': False,\n",
       " 'contains(him)': True,\n",
       " 'contains(in)': True,\n",
       " 'contains(her)': False,\n",
       " 'contains(life)': False,\n",
       " 'contains(has)': True,\n",
       " 'contains(nightmares)': False,\n",
       " 'contains(what)': True,\n",
       " \"contains(')\": True,\n",
       " 'contains(s)': True,\n",
       " 'contains(deal)': False,\n",
       " 'contains(?)': False,\n",
       " 'contains(watch)': True,\n",
       " 'contains(movie)': True,\n",
       " 'contains(\")': True,\n",
       " 'contains(sorta)': False,\n",
       " 'contains(find)': False,\n",
       " 'contains(out)': True,\n",
       " 'contains(critique)': False,\n",
       " 'contains(mind)': False,\n",
       " 'contains(-)': True,\n",
       " 'contains(fuck)': False,\n",
       " 'contains(for)': True,\n",
       " 'contains(generation)': False,\n",
       " 'contains(that)': True,\n",
       " 'contains(touches)': False,\n",
       " 'contains(on)': True,\n",
       " 'contains(very)': True,\n",
       " 'contains(cool)': False,\n",
       " 'contains(idea)': True,\n",
       " 'contains(presents)': False,\n",
       " 'contains(it)': True,\n",
       " 'contains(bad)': False,\n",
       " 'contains(package)': False,\n",
       " 'contains(which)': True,\n",
       " 'contains(is)': True,\n",
       " 'contains(makes)': False,\n",
       " 'contains(this)': True,\n",
       " 'contains(review)': False,\n",
       " 'contains(even)': False,\n",
       " 'contains(harder)': False,\n",
       " 'contains(write)': False,\n",
       " 'contains(since)': False,\n",
       " 'contains(i)': False,\n",
       " 'contains(generally)': False,\n",
       " 'contains(applaud)': False,\n",
       " 'contains(films)': False,\n",
       " 'contains(attempt)': False,\n",
       " 'contains(break)': False,\n",
       " 'contains(mold)': False,\n",
       " 'contains(mess)': False,\n",
       " 'contains(with)': True,\n",
       " 'contains(your)': False,\n",
       " 'contains(head)': False,\n",
       " 'contains(such)': False,\n",
       " 'contains(()': True,\n",
       " 'contains(lost)': False,\n",
       " 'contains(highway)': False,\n",
       " 'contains(&)': False,\n",
       " 'contains(memento)': False,\n",
       " 'contains())': True,\n",
       " 'contains(there)': True,\n",
       " 'contains(are)': True,\n",
       " 'contains(good)': False,\n",
       " 'contains(ways)': False,\n",
       " 'contains(making)': True,\n",
       " 'contains(all)': True,\n",
       " 'contains(types)': False,\n",
       " 'contains(these)': False,\n",
       " 'contains(folks)': False,\n",
       " 'contains(just)': True,\n",
       " 'contains(didn)': False,\n",
       " 'contains(t)': False,\n",
       " 'contains(correctly)': False,\n",
       " 'contains(seem)': False,\n",
       " 'contains(have)': True,\n",
       " 'contains(taken)': False,\n",
       " 'contains(pretty)': False,\n",
       " 'contains(neat)': False,\n",
       " 'contains(concept)': False,\n",
       " 'contains(executed)': False,\n",
       " 'contains(terribly)': False,\n",
       " 'contains(so)': False,\n",
       " 'contains(problems)': True,\n",
       " 'contains(well)': True,\n",
       " 'contains(its)': False,\n",
       " 'contains(main)': False,\n",
       " 'contains(problem)': False,\n",
       " 'contains(simply)': False,\n",
       " 'contains(too)': False,\n",
       " 'contains(jumbled)': False,\n",
       " 'contains(starts)': False,\n",
       " 'contains(off)': False,\n",
       " 'contains(normal)': False,\n",
       " 'contains(fantasy)': False,\n",
       " 'contains(world)': True,\n",
       " 'contains(you)': True,\n",
       " 'contains(as)': True,\n",
       " 'contains(audience)': False,\n",
       " 'contains(member)': False,\n",
       " 'contains(no)': False,\n",
       " 'contains(going)': False,\n",
       " 'contains(dreams)': False,\n",
       " 'contains(characters)': False,\n",
       " 'contains(coming)': False,\n",
       " 'contains(back)': False,\n",
       " 'contains(from)': True,\n",
       " 'contains(dead)': False,\n",
       " 'contains(others)': True,\n",
       " 'contains(who)': True,\n",
       " 'contains(look)': True,\n",
       " 'contains(like)': True,\n",
       " 'contains(strange)': False,\n",
       " 'contains(chase)': True,\n",
       " 'contains(scenes)': False,\n",
       " 'contains(tons)': False,\n",
       " 'contains(weird)': False,\n",
       " 'contains(things)': True,\n",
       " 'contains(happen)': False,\n",
       " 'contains(most)': True,\n",
       " 'contains(not)': True,\n",
       " 'contains(explained)': False,\n",
       " 'contains(now)': False,\n",
       " 'contains(personally)': False,\n",
       " 'contains(don)': False,\n",
       " 'contains(trying)': False,\n",
       " 'contains(unravel)': False,\n",
       " 'contains(film)': False,\n",
       " 'contains(every)': False,\n",
       " 'contains(when)': True,\n",
       " 'contains(does)': False,\n",
       " 'contains(give)': False,\n",
       " 'contains(me)': True,\n",
       " 'contains(same)': True,\n",
       " 'contains(clue)': False,\n",
       " 'contains(over)': False,\n",
       " 'contains(again)': False,\n",
       " 'contains(kind)': True,\n",
       " 'contains(fed)': False,\n",
       " 'contains(up)': False,\n",
       " 'contains(after)': False,\n",
       " 'contains(while)': True,\n",
       " 'contains(biggest)': False,\n",
       " 'contains(obviously)': False,\n",
       " 'contains(got)': True,\n",
       " 'contains(big)': False,\n",
       " 'contains(secret)': False,\n",
       " 'contains(hide)': False,\n",
       " 'contains(seems)': False,\n",
       " 'contains(want)': False,\n",
       " 'contains(completely)': False,\n",
       " 'contains(until)': False,\n",
       " 'contains(final)': False,\n",
       " 'contains(five)': False,\n",
       " 'contains(minutes)': False,\n",
       " 'contains(do)': True,\n",
       " 'contains(make)': True,\n",
       " 'contains(entertaining)': False,\n",
       " 'contains(thrilling)': False,\n",
       " 'contains(or)': False,\n",
       " 'contains(engaging)': False,\n",
       " 'contains(meantime)': False,\n",
       " 'contains(really)': False,\n",
       " 'contains(sad)': False,\n",
       " 'contains(part)': False,\n",
       " 'contains(arrow)': False,\n",
       " 'contains(both)': False,\n",
       " 'contains(dig)': False,\n",
       " 'contains(flicks)': False,\n",
       " 'contains(we)': False,\n",
       " 'contains(actually)': True,\n",
       " 'contains(figured)': False,\n",
       " 'contains(by)': True,\n",
       " 'contains(half)': False,\n",
       " 'contains(way)': True,\n",
       " 'contains(point)': False,\n",
       " 'contains(strangeness)': False,\n",
       " 'contains(did)': False,\n",
       " 'contains(start)': True,\n",
       " 'contains(little)': True,\n",
       " 'contains(bit)': False,\n",
       " 'contains(sense)': False,\n",
       " 'contains(still)': False,\n",
       " 'contains(more)': False,\n",
       " 'contains(guess)': False,\n",
       " 'contains(bottom)': False,\n",
       " 'contains(line)': False,\n",
       " 'contains(movies)': True,\n",
       " 'contains(should)': False,\n",
       " 'contains(always)': False,\n",
       " 'contains(sure)': False,\n",
       " 'contains(before)': False,\n",
       " 'contains(given)': False,\n",
       " 'contains(enter)': False,\n",
       " 'contains(understanding)': False,\n",
       " 'contains(mean)': False,\n",
       " 'contains(showing)': False,\n",
       " 'contains(melissa)': False,\n",
       " 'contains(sagemiller)': False,\n",
       " 'contains(running)': False,\n",
       " 'contains(away)': False,\n",
       " 'contains(visions)': False,\n",
       " 'contains(about)': True,\n",
       " 'contains(20)': False,\n",
       " 'contains(throughout)': False,\n",
       " 'contains(plain)': False,\n",
       " 'contains(lazy)': False,\n",
       " 'contains(!)': True,\n",
       " 'contains(okay)': False,\n",
       " 'contains(people)': False,\n",
       " 'contains(chasing)': False,\n",
       " 'contains(know)': False,\n",
       " 'contains(need)': False,\n",
       " 'contains(how)': True,\n",
       " 'contains(giving)': False,\n",
       " 'contains(us)': True,\n",
       " 'contains(different)': False,\n",
       " 'contains(offering)': False,\n",
       " 'contains(further)': False,\n",
       " 'contains(insight)': False,\n",
       " 'contains(down)': False,\n",
       " 'contains(apparently)': False,\n",
       " 'contains(studio)': False,\n",
       " 'contains(took)': False,\n",
       " 'contains(director)': False,\n",
       " 'contains(themselves)': False,\n",
       " 'contains(shows)': False,\n",
       " 'contains(might)': False,\n",
       " 'contains(ve)': False,\n",
       " 'contains(been)': False,\n",
       " 'contains(decent)': False,\n",
       " 'contains(here)': True,\n",
       " 'contains(somewhere)': False,\n",
       " 'contains(suits)': False,\n",
       " 'contains(decided)': False,\n",
       " 'contains(turning)': False,\n",
       " 'contains(music)': False,\n",
       " 'contains(video)': False,\n",
       " 'contains(edge)': False,\n",
       " 'contains(would)': False,\n",
       " 'contains(actors)': False,\n",
       " 'contains(although)': False,\n",
       " 'contains(wes)': False,\n",
       " 'contains(bentley)': False,\n",
       " 'contains(seemed)': False,\n",
       " 'contains(be)': True,\n",
       " 'contains(playing)': True,\n",
       " 'contains(exact)': False,\n",
       " 'contains(character)': False,\n",
       " 'contains(he)': True,\n",
       " 'contains(american)': False,\n",
       " 'contains(beauty)': False,\n",
       " 'contains(only)': True,\n",
       " 'contains(new)': False,\n",
       " 'contains(neighborhood)': False,\n",
       " 'contains(my)': False,\n",
       " 'contains(kudos)': False,\n",
       " 'contains(holds)': False,\n",
       " 'contains(own)': True,\n",
       " 'contains(entire)': False,\n",
       " 'contains(feeling)': False,\n",
       " 'contains(overall)': False,\n",
       " 'contains(doesn)': False,\n",
       " 'contains(stick)': False,\n",
       " 'contains(because)': False,\n",
       " 'contains(entertain)': False,\n",
       " 'contains(confusing)': False,\n",
       " 'contains(rarely)': False,\n",
       " 'contains(feels)': False,\n",
       " 'contains(redundant)': False,\n",
       " 'contains(runtime)': False,\n",
       " 'contains(despite)': False,\n",
       " 'contains(ending)': False,\n",
       " 'contains(explanation)': False,\n",
       " 'contains(came)': False,\n",
       " 'contains(oh)': False,\n",
       " 'contains(horror)': False,\n",
       " 'contains(slasher)': False,\n",
       " 'contains(flick)': False,\n",
       " 'contains(someone)': False,\n",
       " 'contains(assuming)': False,\n",
       " 'contains(genre)': False,\n",
       " 'contains(hot)': False,\n",
       " 'contains(kids)': False,\n",
       " 'contains(also)': True,\n",
       " 'contains(wrapped)': False,\n",
       " 'contains(production)': False,\n",
       " 'contains(years)': False,\n",
       " 'contains(ago)': False,\n",
       " 'contains(sitting)': False,\n",
       " 'contains(shelves)': False,\n",
       " 'contains(ever)': True,\n",
       " 'contains(whatever)': False,\n",
       " 'contains(skip)': False,\n",
       " 'contains(where)': True,\n",
       " 'contains(joblo)': False,\n",
       " 'contains(nightmare)': False,\n",
       " 'contains(elm)': False,\n",
       " 'contains(street)': False,\n",
       " 'contains(3)': False,\n",
       " 'contains(7)': False,\n",
       " 'contains(/)': False,\n",
       " 'contains(10)': False,\n",
       " 'contains(blair)': False,\n",
       " 'contains(witch)': False,\n",
       " 'contains(2)': False,\n",
       " 'contains(crow)': False,\n",
       " 'contains(9)': False,\n",
       " 'contains(salvation)': False,\n",
       " 'contains(4)': False,\n",
       " 'contains(stir)': False,\n",
       " 'contains(echoes)': False,\n",
       " 'contains(8)': False,\n",
       " 'contains(happy)': False,\n",
       " 'contains(bastard)': False,\n",
       " 'contains(quick)': True,\n",
       " 'contains(damn)': False,\n",
       " 'contains(bug)': False,\n",
       " 'contains(starring)': False,\n",
       " 'contains(jamie)': False,\n",
       " 'contains(lee)': False,\n",
       " 'contains(curtis)': False,\n",
       " 'contains(another)': False,\n",
       " 'contains(baldwin)': False,\n",
       " 'contains(brother)': False,\n",
       " 'contains(william)': False,\n",
       " 'contains(time)': False,\n",
       " 'contains(story)': False,\n",
       " 'contains(regarding)': False,\n",
       " 'contains(crew)': False,\n",
       " 'contains(comes)': False,\n",
       " 'contains(across)': False,\n",
       " 'contains(deserted)': False,\n",
       " 'contains(russian)': False,\n",
       " 'contains(tech)': False,\n",
       " 'contains(ship)': False,\n",
       " 'contains(kick)': False,\n",
       " 'contains(power)': False,\n",
       " 'contains(within)': False,\n",
       " 'contains(gore)': False,\n",
       " 'contains(bringing)': False,\n",
       " 'contains(few)': False,\n",
       " 'contains(action)': True,\n",
       " 'contains(sequences)': False,\n",
       " 'contains(virus)': False,\n",
       " 'contains(empty)': False,\n",
       " 'contains(flash)': False,\n",
       " 'contains(substance)': False,\n",
       " 'contains(why)': False,\n",
       " 'contains(was)': False,\n",
       " 'contains(middle)': False,\n",
       " 'contains(nowhere)': False,\n",
       " 'contains(origin)': False,\n",
       " 'contains(pink)': False,\n",
       " 'contains(flashy)': False,\n",
       " 'contains(thing)': False,\n",
       " 'contains(hit)': False,\n",
       " 'contains(mir)': False,\n",
       " 'contains(course)': True,\n",
       " 'contains(donald)': False,\n",
       " 'contains(sutherland)': False,\n",
       " 'contains(stumbling)': False,\n",
       " 'contains(around)': False,\n",
       " 'contains(hey)': False,\n",
       " 'contains(let)': False,\n",
       " 'contains(some)': False,\n",
       " 'contains(robots)': False,\n",
       " 'contains(acting)': False,\n",
       " 'contains(below)': False,\n",
       " 'contains(average)': False,\n",
       " 'contains(likes)': False,\n",
       " 'contains(re)': True,\n",
       " 'contains(likely)': False,\n",
       " 'contains(work)': False,\n",
       " 'contains(halloween)': False,\n",
       " 'contains(h20)': False,\n",
       " 'contains(wasted)': False,\n",
       " 'contains(real)': False,\n",
       " 'contains(star)': False,\n",
       " 'contains(stan)': False,\n",
       " 'contains(robot)': False,\n",
       " 'contains(design)': False,\n",
       " 'contains(cgi)': False,\n",
       " 'contains(occasional)': False,\n",
       " 'contains(shot)': False,\n",
       " 'contains(picking)': False,\n",
       " 'contains(brain)': False,\n",
       " 'contains(if)': True,\n",
       " 'contains(body)': False,\n",
       " 'contains(parts)': False,\n",
       " 'contains(turn)': False,\n",
       " 'contains(otherwise)': False,\n",
       " 'contains(much)': False,\n",
       " 'contains(jaded)': False,\n",
       " 'contains(viewer)': False,\n",
       " 'contains(thankful)': False,\n",
       " 'contains(invention)': False,\n",
       " 'contains(based)': False,\n",
       " 'contains(late)': False,\n",
       " 'contains(1960)': False,\n",
       " 'contains(television)': False,\n",
       " 'contains(show)': False,\n",
       " 'contains(name)': False,\n",
       " 'contains(mod)': False,\n",
       " 'contains(squad)': False,\n",
       " 'contains(tells)': False,\n",
       " 'contains(tale)': False,\n",
       " 'contains(three)': False,\n",
       " 'contains(reformed)': False,\n",
       " 'contains(criminals)': False,\n",
       " 'contains(under)': False,\n",
       " 'contains(employ)': False,\n",
       " 'contains(police)': False,\n",
       " 'contains(undercover)': True,\n",
       " 'contains(however)': True,\n",
       " 'contains(wrong)': True,\n",
       " 'contains(evidence)': False,\n",
       " 'contains(gets)': True,\n",
       " 'contains(stolen)': False,\n",
       " 'contains(immediately)': False,\n",
       " 'contains(suspicion)': False,\n",
       " 'contains(ads)': False,\n",
       " 'contains(cuts)': False,\n",
       " 'contains(claire)': False,\n",
       " 'contains(nice)': False,\n",
       " 'contains(hair)': False,\n",
       " 'contains(cute)': False,\n",
       " 'contains(outfits)': False,\n",
       " 'contains(car)': False,\n",
       " 'contains(chases)': False,\n",
       " 'contains(stuff)': False,\n",
       " 'contains(blowing)': False,\n",
       " 'contains(sounds)': False,\n",
       " 'contains(first)': False,\n",
       " 'contains(fifteen)': False,\n",
       " 'contains(quickly)': False,\n",
       " 'contains(becomes)': False,\n",
       " 'contains(apparent)': False,\n",
       " 'contains(certainly)': False,\n",
       " 'contains(slick)': False,\n",
       " 'contains(looking)': False,\n",
       " 'contains(complete)': False,\n",
       " 'contains(costumes)': False,\n",
       " 'contains(isn)': False,\n",
       " 'contains(enough)': False,\n",
       " 'contains(best)': True,\n",
       " 'contains(described)': False,\n",
       " 'contains(cross)': False,\n",
       " 'contains(between)': True,\n",
       " 'contains(hour)': False,\n",
       " 'contains(long)': False,\n",
       " 'contains(cop)': False,\n",
       " 'contains(stretched)': False,\n",
       " 'contains(span)': False,\n",
       " 'contains(single)': False,\n",
       " 'contains(clich)': False,\n",
       " 'contains(matter)': False,\n",
       " 'contains(elements)': False,\n",
       " 'contains(recycled)': False,\n",
       " 'contains(everything)': True,\n",
       " 'contains(already)': False,\n",
       " 'contains(seen)': False,\n",
       " 'contains(nothing)': False,\n",
       " 'contains(spectacular)': False,\n",
       " 'contains(sometimes)': False,\n",
       " 'contains(bordering)': False,\n",
       " 'contains(wooden)': False,\n",
       " 'contains(danes)': False,\n",
       " 'contains(omar)': False,\n",
       " 'contains(epps)': False,\n",
       " 'contains(deliver)': False,\n",
       " 'contains(their)': False,\n",
       " 'contains(lines)': False,\n",
       " 'contains(bored)': False,\n",
       " 'contains(onto)': False,\n",
       " 'contains(escape)': False,\n",
       " 'contains(relatively)': False,\n",
       " 'contains(unscathed)': False,\n",
       " 'contains(giovanni)': False,\n",
       " 'contains(ribisi)': False,\n",
       " 'contains(plays)': False,\n",
       " 'contains(resident)': False,\n",
       " 'contains(crazy)': False,\n",
       " 'contains(man)': False,\n",
       " 'contains(ultimately)': False,\n",
       " 'contains(being)': False,\n",
       " 'contains(worth)': True,\n",
       " 'contains(watching)': False,\n",
       " 'contains(unfortunately)': False,\n",
       " 'contains(save)': False,\n",
       " 'contains(convoluted)': False,\n",
       " 'contains(apart)': False,\n",
       " 'contains(screen)': True,\n",
       " 'contains(young)': False,\n",
       " 'contains(cast)': False,\n",
       " 'contains(clothes)': False,\n",
       " 'contains(hip)': False,\n",
       " 'contains(soundtrack)': False,\n",
       " 'contains(appears)': False,\n",
       " 'contains(geared)': False,\n",
       " 'contains(towards)': False,\n",
       " 'contains(teenage)': False,\n",
       " 'contains(mindset)': False,\n",
       " 'contains(r)': False,\n",
       " 'contains(rating)': False,\n",
       " 'contains(content)': False,\n",
       " 'contains(justify)': False,\n",
       " 'contains(juvenile)': False,\n",
       " 'contains(older)': False,\n",
       " 'contains(information)': False,\n",
       " 'contains(literally)': False,\n",
       " 'contains(spoon)': False,\n",
       " 'contains(hard)': False,\n",
       " 'contains(instead)': False,\n",
       " 'contains(telling)': False,\n",
       " 'contains(dialogue)': False,\n",
       " 'contains(poorly)': False,\n",
       " 'contains(written)': False,\n",
       " 'contains(extremely)': False,\n",
       " 'contains(predictable)': False,\n",
       " 'contains(progresses)': False,\n",
       " 'contains(won)': False,\n",
       " 'contains(care)': False,\n",
       " 'contains(heroes)': False,\n",
       " 'contains(any)': False,\n",
       " 'contains(jeopardy)': False,\n",
       " 'contains(ll)': False,\n",
       " 'contains(aren)': False,\n",
       " 'contains(nobody)': False,\n",
       " 'contains(remembers)': False,\n",
       " 'contains(questionable)': False,\n",
       " 'contains(wisdom)': False,\n",
       " 'contains(especially)': True,\n",
       " 'contains(considers)': False,\n",
       " 'contains(target)': False,\n",
       " 'contains(fact)': False,\n",
       " 'contains(number)': False,\n",
       " 'contains(memorable)': False,\n",
       " 'contains(can)': False,\n",
       " 'contains(counted)': False,\n",
       " 'contains(hand)': False,\n",
       " 'contains(missing)': False,\n",
       " 'contains(finger)': False,\n",
       " 'contains(times)': False,\n",
       " 'contains(checked)': False,\n",
       " 'contains(six)': False,\n",
       " 'contains(clear)': False,\n",
       " 'contains(indication)': False,\n",
       " 'contains(them)': True,\n",
       " 'contains(than)': False,\n",
       " 'contains(cash)': False,\n",
       " 'contains(spending)': False,\n",
       " 'contains(dollar)': False,\n",
       " 'contains(judging)': False,\n",
       " 'contains(rash)': False,\n",
       " 'contains(awful)': False,\n",
       " 'contains(seeing)': True,\n",
       " 'contains(avoid)': False,\n",
       " 'contains(at)': False,\n",
       " 'contains(costs)': False,\n",
       " 'contains(quest)': False,\n",
       " 'contains(camelot)': False,\n",
       " 'contains(warner)': False,\n",
       " 'contains(bros)': False,\n",
       " 'contains(feature)': False,\n",
       " 'contains(length)': False,\n",
       " 'contains(fully)': False,\n",
       " 'contains(animated)': False,\n",
       " 'contains(steal)': False,\n",
       " 'contains(clout)': False,\n",
       " 'contains(disney)': False,\n",
       " 'contains(cartoon)': False,\n",
       " 'contains(empire)': False,\n",
       " 'contains(mouse)': False,\n",
       " 'contains(reason)': False,\n",
       " 'contains(worried)': False,\n",
       " 'contains(other)': True,\n",
       " 'contains(recent)': False,\n",
       " 'contains(throne)': False,\n",
       " 'contains(last)': False,\n",
       " 'contains(fall)': False,\n",
       " 'contains(promising)': False,\n",
       " 'contains(flawed)': False,\n",
       " 'contains(20th)': False,\n",
       " 'contains(century)': False,\n",
       " 'contains(fox)': False,\n",
       " 'contains(anastasia)': False,\n",
       " 'contains(hercules)': False,\n",
       " 'contains(lively)': False,\n",
       " 'contains(colorful)': False,\n",
       " 'contains(had)': False,\n",
       " 'contains(beat)': False,\n",
       " 'contains(hands)': False,\n",
       " 'contains(crown)': False,\n",
       " 'contains(1997)': False,\n",
       " 'contains(piece)': False,\n",
       " 'contains(animation)': False,\n",
       " 'contains(year)': False,\n",
       " 'contains(contest)': False,\n",
       " 'contains(arrival)': False,\n",
       " 'contains(magic)': False,\n",
       " 'contains(kingdom)': False,\n",
       " 'contains(mediocre)': False,\n",
       " 'contains(--)': True,\n",
       " 'contains(d)': False,\n",
       " 'contains(pocahontas)': False,\n",
       " 'contains(those)': False,\n",
       " 'contains(keeping)': False,\n",
       " 'contains(score)': False,\n",
       " 'contains(nearly)': False,\n",
       " 'contains(dull)': False,\n",
       " 'contains(revolves)': False,\n",
       " 'contains(adventures)': False,\n",
       " 'contains(free)': False,\n",
       " 'contains(spirited)': False,\n",
       " 'contains(voiced)': False,\n",
       " 'contains(early)': True,\n",
       " 'contains(daughter)': False,\n",
       " 'contains(knight)': False,\n",
       " 'contains(king)': False,\n",
       " 'contains(arthur)': False,\n",
       " 'contains(round)': False,\n",
       " 'contains(table)': False,\n",
       " 'contains(dream)': False,\n",
       " 'contains(follow)': False,\n",
       " 'contains(father)': False,\n",
       " 'contains(footsteps)': False,\n",
       " 'contains(she)': True,\n",
       " 'contains(chance)': False,\n",
       " 'contains(evil)': False,\n",
       " 'contains(gary)': False,\n",
       " 'contains(oldman)': False,\n",
       " 'contains(ex)': False,\n",
       " 'contains(gone)': False,\n",
       " 'contains(steals)': False,\n",
       " 'contains(magical)': False,\n",
       " 'contains(sword)': False,\n",
       " 'contains(accidentally)': False,\n",
       " 'contains(loses)': False,\n",
       " 'contains(dangerous)': True,\n",
       " 'contains(trapped)': False,\n",
       " 'contains(forest)': False,\n",
       " 'contains(help)': True,\n",
       " 'contains(hunky)': False,\n",
       " 'contains(blind)': False,\n",
       " 'contains(garrett)': False,\n",
       " 'contains(carey)': False,\n",
       " 'contains(elwes)': False,\n",
       " 'contains(headed)': False,\n",
       " 'contains(dragon)': False,\n",
       " 'contains(eric)': False,\n",
       " 'contains(idle)': False,\n",
       " 'contains(arguing)': False,\n",
       " 'contains(itself)': False,\n",
       " 'contains(able)': False,\n",
       " 'contains(medieval)': False,\n",
       " 'contains(sexist)': False,\n",
       " 'contains(prove)': False,\n",
       " 'contains(fighter)': False,\n",
       " 'contains(side)': False,\n",
       " 'contains(pure)': False,\n",
       " 'contains(essential)': False,\n",
       " 'contains(element)': False,\n",
       " 'contains(expected)': False,\n",
       " 'contains(climb)': False,\n",
       " 'contains(high)': False,\n",
       " 'contains(ranks)': False,\n",
       " 'contains(something)': False,\n",
       " 'contains(saturday)': False,\n",
       " 'contains(morning)': False,\n",
       " 'contains(instantly)': False,\n",
       " 'contains(forgettable)': False,\n",
       " 'contains(songs)': False,\n",
       " 'contains(integrated)': False,\n",
       " 'contains(footage)': False,\n",
       " 'contains(compare)': False,\n",
       " 'contains(run)': False,\n",
       " 'contains(angry)': False,\n",
       " 'contains(ogre)': False,\n",
       " 'contains(battle)': False,\n",
       " 'contains(rest)': False,\n",
       " 'contains(case)': False,\n",
       " 'contains(none)': False,\n",
       " 'contains(remotely)': False,\n",
       " 'contains(interesting)': False,\n",
       " 'contains(race)': False,\n",
       " 'contains(bland)': False,\n",
       " 'contains(end)': False,\n",
       " 'contains(tie)': False,\n",
       " 'contains(win)': False,\n",
       " 'contains(comedy)': True,\n",
       " 'contains(shtick)': False,\n",
       " 'contains(awfully)': False,\n",
       " 'contains(least)': True,\n",
       " 'contains(signs)': False,\n",
       " 'contains(pulse)': False,\n",
       " 'contains(fans)': False,\n",
       " 'contains(90s)': False,\n",
       " 'contains(will)': True,\n",
       " 'contains(thrilled)': False,\n",
       " 'contains(white)': False,\n",
       " 'contains(bronson)': False,\n",
       " 'contains(sharing)': False,\n",
       " 'contains(nicely)': False,\n",
       " 'contains(realized)': False,\n",
       " 'contains(though)': False,\n",
       " 'contains(m)': False,\n",
       " 'contains(loss)': False,\n",
       " 'contains(recall)': False,\n",
       " 'contains(specific)': False,\n",
       " 'contains(providing)': False,\n",
       " 'contains(voice)': False,\n",
       " 'contains(talent)': False,\n",
       " 'contains(enthusiastic)': False,\n",
       " 'contains(paired)': False,\n",
       " 'contains(singers)': False,\n",
       " 'contains(sound)': False,\n",
       " 'contains(musical)': False,\n",
       " 'contains(moments)': False,\n",
       " 'contains(jane)': False,\n",
       " 'contains(seymour)': False,\n",
       " 'contains(celine)': False,\n",
       " 'contains(must)': False,\n",
       " 'contains(strain)': False,\n",
       " 'contains(through)': False,\n",
       " 'contains(aside)': False,\n",
       " 'contains(children)': False,\n",
       " 'contains(probably)': False,\n",
       " 'contains(adults)': False,\n",
       " 'contains(error)': False,\n",
       " 'contains(lack)': False,\n",
       " 'contains(personality)': False,\n",
       " 'contains(learn)': False,\n",
       " 'contains(goes)': False,\n",
       " 'contains(synopsis)': False,\n",
       " 'contains(mentally)': False,\n",
       " 'contains(unstable)': False,\n",
       " 'contains(saves)': False,\n",
       " 'contains(boy)': False,\n",
       " 'contains(potentially)': False,\n",
       " 'contains(fatal)': False,\n",
       " 'contains(falls)': False,\n",
       " 'contains(love)': False,\n",
       " 'contains(mother)': False,\n",
       " 'contains(fledgling)': False,\n",
       " 'contains(unsuccessfully)': False,\n",
       " 'contains(attempting)': False,\n",
       " 'contains(gain)': False,\n",
       " 'contains(woman)': True,\n",
       " 'contains(favor)': False,\n",
       " 'contains(takes)': False,\n",
       " 'contains(pictures)': False,\n",
       " 'contains(kills)': False,\n",
       " 'contains(comments)': True,\n",
       " 'contains(stalked)': False,\n",
       " 'contains(yet)': False,\n",
       " 'contains(seemingly)': False,\n",
       " 'contains(endless)': True,\n",
       " 'contains(string)': False,\n",
       " 'contains(getting)': True,\n",
       " 'contains(revenge)': False,\n",
       " 'contains(type)': False,\n",
       " 'contains(stable)': False,\n",
       " 'contains(category)': False,\n",
       " 'contains(1990s)': False,\n",
       " 'contains(industry)': False,\n",
       " 'contains(theatrical)': False,\n",
       " 'contains(direct)': False,\n",
       " 'contains(may)': False,\n",
       " 'contains(due)': False,\n",
       " 'contains(typically)': False,\n",
       " 'contains(produce)': False,\n",
       " 'contains(special)': False,\n",
       " 'contains(effects)': False,\n",
       " 'contains(stars)': False,\n",
       " 'contains(serve)': False,\n",
       " 'contains(vehicles)': False,\n",
       " 'contains(nudity)': False,\n",
       " 'contains(allowing)': False,\n",
       " 'contains(frequent)': False,\n",
       " 'contains(night)': False,\n",
       " 'contains(cable)': False,\n",
       " 'contains(slightly)': False,\n",
       " 'contains(norm)': False,\n",
       " 'contains(respect)': False,\n",
       " 'contains(psycho)': False,\n",
       " 'contains(never)': True,\n",
       " 'contains(affair)': False,\n",
       " 'contains(;)': False,\n",
       " 'contains(contrary)': False,\n",
       " 'contains(rejected)': False,\n",
       " 'contains(rather)': False,\n",
       " 'contains(lover)': False,\n",
       " 'contains(wife)': True,\n",
       " 'contains(husband)': False,\n",
       " 'contains(entry)': False,\n",
       " 'contains(doomed)': False,\n",
       " 'contains(collect)': False,\n",
       " 'contains(dust)': False,\n",
       " 'contains(viewed)': False,\n",
       " 'contains(midnight)': False,\n",
       " 'contains(provide)': False,\n",
       " 'contains(suspense)': False,\n",
       " 'contains(sets)': False,\n",
       " 'contains(opening)': False,\n",
       " 'contains(credits)': False,\n",
       " 'contains(instance)': False,\n",
       " 'contains(serious)': False,\n",
       " 'contains(sounding)': False,\n",
       " 'contains(narrator)': False,\n",
       " 'contains(ponders)': False,\n",
       " 'contains(cause)': False,\n",
       " 'contains(implied)': False,\n",
       " 'contains(men)': False,\n",
       " 'contains(shown)': False,\n",
       " 'contains(actor)': False,\n",
       " 'contains(jay)': False,\n",
       " 'contains(underwood)': False,\n",
       " 'contains(states)': False,\n",
       " 'contains(daryl)': False,\n",
       " 'contains(stalker)': False,\n",
       " 'contains(brooke)': False,\n",
       " 'contains(daniels)': False,\n",
       " 'contains(meant)': False,\n",
       " 'contains(called)': False,\n",
       " 'contains(required)': False,\n",
       " 'contains(proceeds)': False,\n",
       " 'contains(begins)': False,\n",
       " 'contains(obvious)': False,\n",
       " 'contains(sequence)': False,\n",
       " 'contains(contrived)': False,\n",
       " 'contains(quite)': False,\n",
       " 'contains(brings)': False,\n",
       " 'contains(victim)': False,\n",
       " 'contains(together)': False,\n",
       " 'contains(follows)': False,\n",
       " 'contains(tries)': True,\n",
       " 'contains(woo)': False,\n",
       " 'contains(plans)': False,\n",
       " 'contains(become)': False,\n",
       " 'contains(desperate)': False,\n",
       " 'contains(elaborate)': False,\n",
       " 'contains(include)': False,\n",
       " 'contains(cliche)': False,\n",
       " 'contains(murdered)': False,\n",
       " 'contains(pet)': False,\n",
       " 'contains(require)': False,\n",
       " 'contains(found)': False,\n",
       " 'contains(exception)': False,\n",
       " 'contains(cat)': False,\n",
       " 'contains(shower)': False,\n",
       " 'contains(events)': False,\n",
       " 'contains(lead)': True,\n",
       " 'contains(inevitable)': False,\n",
       " 'contains(showdown)': False,\n",
       " 'contains(survives)': False,\n",
       " 'contains(invariably)': False,\n",
       " 'contains(conclusion)': False,\n",
       " 'contains(turkey)': False,\n",
       " 'contains(uniformly)': False,\n",
       " 'contains(adequate)': False,\n",
       " 'contains(anything)': False,\n",
       " 'contains(home)': False,\n",
       " 'contains(either)': False,\n",
       " 'contains(turns)': False,\n",
       " 'contains(toward)': False,\n",
       " 'contains(melodrama)': False,\n",
       " 'contains(words)': False,\n",
       " 'contains(manages)': False,\n",
       " 'contains(creepy)': False,\n",
       " 'contains(pass)': False,\n",
       " 'contains(demands)': False,\n",
       " 'contains(close)': False,\n",
       " 'contains(played)': True,\n",
       " 'contains(bond)': False,\n",
       " 'contains(chick)': False,\n",
       " 'contains(living)': False,\n",
       " 'contains(equally)': False,\n",
       " 'contains(title)': False,\n",
       " 'contains(ditzy)': False,\n",
       " 'contains(strong)': False,\n",
       " 'contains(independent)': False,\n",
       " 'contains(business)': False,\n",
       " 'contains(owner)': False,\n",
       " 'contains(needs)': False,\n",
       " 'contains(proceed)': False,\n",
       " 'contains(example)': False,\n",
       " 'contains(ensure)': False,\n",
       " 'contains(use)': False,\n",
       " 'contains(excuse)': False,\n",
       " 'contains(decides)': False,\n",
       " 'contains(return)': False,\n",
       " 'contains(left)': False,\n",
       " 'contains(place)': True,\n",
       " 'contains(house)': False,\n",
       " 'contains(leave)': False,\n",
       " 'contains(door)': False,\n",
       " 'contains(answers)': False,\n",
       " 'contains(opens)': False,\n",
       " 'contains(wanders)': False,\n",
       " 'contains(returns)': False,\n",
       " 'contains(enters)': False,\n",
       " 'contains(our)': False,\n",
       " 'contains(heroine)': False,\n",
       " 'contains(danger)': False,\n",
       " 'contains(somehow)': False,\n",
       " 'contains(front)': False,\n",
       " 'contains(right)': False,\n",
       " 'contains(oblivious)': False,\n",
       " 'contains(presence)': False,\n",
       " 'contains(inside)': False,\n",
       " 'contains(whole)': False,\n",
       " 'contains(episode)': False,\n",
       " 'contains(places)': False,\n",
       " 'contains(incredible)': False,\n",
       " 'contains(suspension)': False,\n",
       " 'contains(disbelief)': False,\n",
       " 'contains(questions)': False,\n",
       " 'contains(intelligence)': False,\n",
       " 'contains(receives)': False,\n",
       " 'contains(highly)': False,\n",
       " 'contains(derivative)': False,\n",
       " 'contains(somewhat)': False,\n",
       " 'contains(boring)': False,\n",
       " 'contains(cannot)': False,\n",
       " 'contains(watched)': False,\n",
       " 'contains(rated)': False,\n",
       " 'contains(mostly)': False,\n",
       " 'contains(several)': False,\n",
       " 'contains(murder)': False,\n",
       " 'contains(brief)': True,\n",
       " 'contains(strip)': False,\n",
       " 'contains(bar)': False,\n",
       " 'contains(offensive)': False,\n",
       " 'contains(many)': True,\n",
       " 'contains(thrillers)': False,\n",
       " 'contains(mood)': False,\n",
       " 'contains(stake)': False,\n",
       " 'contains(else)': False,\n",
       " 'contains(capsule)': True,\n",
       " 'contains(planet)': False,\n",
       " 'contains(mars)': False,\n",
       " 'contains(taking)': False,\n",
       " 'contains(custody)': False,\n",
       " 'contains(accused)': False,\n",
       " 'contains(murderer)': False,\n",
       " 'contains(face)': False,\n",
       " 'contains(menace)': False,\n",
       " 'contains(lot)': False,\n",
       " 'contains(fighting)': False,\n",
       " 'contains(john)': False,\n",
       " 'contains(carpenter)': False,\n",
       " 'contains(reprises)': False,\n",
       " 'contains(ideas)': False,\n",
       " 'contains(previous)': False,\n",
       " 'contains(assault)': False,\n",
       " 'contains(precinct)': False,\n",
       " 'contains(13)': False,\n",
       " 'contains(homage)': False,\n",
       " 'contains(himself)': False,\n",
       " 'contains(0)': False,\n",
       " 'contains(+)': False,\n",
       " 'contains(believes)': False,\n",
       " 'contains(fight)': True,\n",
       " 'contains(horrible)': False,\n",
       " 'contains(writer)': False,\n",
       " 'contains(supposedly)': False,\n",
       " 'contains(expert)': False,\n",
       " 'contains(mistake)': False,\n",
       " 'contains(ghosts)': False,\n",
       " ...}"
      ]
     },
     "execution_count": 43,
     "metadata": {},
     "output_type": "execute_result"
    }
   ],
   "source": [
    "document_features(movie_reviews.words('pos/cv957_8737.txt'))"
   ]
  },
  {
   "cell_type": "markdown",
   "metadata": {
    "editable": true,
    "slideshow": {
     "slide_type": "subslide"
    },
    "tags": []
   },
   "source": [
    "* Now we have tuple of `({features}, label)`"
   ]
  },
  {
   "cell_type": "code",
   "execution_count": 44,
   "metadata": {
    "editable": true,
    "slideshow": {
     "slide_type": "fragment"
    },
    "tags": []
   },
   "outputs": [],
   "source": [
    "train_docs = documents[:1000]\n",
    "test_docs = documents[1000:1500]\n",
    "train_set = [(document_features(d), c) for (d,c) in train_docs]\n",
    "test_set = [(document_features(d), c) for (d,c) in test_docs]\n",
    "classifier = nltk.NaiveBayesClassifier.train(train_set)"
   ]
  },
  {
   "cell_type": "code",
   "execution_count": 375,
   "metadata": {
    "editable": true,
    "slideshow": {
     "slide_type": "fragment"
    },
    "tags": []
   },
   "outputs": [
    {
     "name": "stdout",
     "output_type": "stream",
     "text": [
      "0.762\n"
     ]
    }
   ],
   "source": [
    "print(nltk.classify.accuracy(classifier, test_set))"
   ]
  },
  {
   "cell_type": "code",
   "execution_count": 376,
   "metadata": {
    "editable": true,
    "slideshow": {
     "slide_type": "subslide"
    },
    "tags": []
   },
   "outputs": [
    {
     "name": "stdout",
     "output_type": "stream",
     "text": [
      "Most Informative Features\n",
      "   contains(outstanding) = True              pos : neg    =     19.7 : 1.0\n",
      "        contains(sloppy) = True              neg : pos    =     12.4 : 1.0\n",
      "      contains(lifeless) = True              neg : pos    =     11.0 : 1.0\n",
      "        contains(asleep) = True              neg : pos    =     10.3 : 1.0\n",
      "      contains(chilling) = True              pos : neg    =      9.7 : 1.0\n",
      "     contains(acclaimed) = True              pos : neg    =      9.1 : 1.0\n",
      "         contains(legal) = True              pos : neg    =      9.1 : 1.0\n",
      "        contains(smooth) = True              pos : neg    =      9.1 : 1.0\n",
      "           contains(era) = True              pos : neg    =      8.7 : 1.0\n",
      "      contains(flawless) = True              pos : neg    =      8.4 : 1.0\n"
     ]
    }
   ],
   "source": [
    "classifier.show_most_informative_features(10)"
   ]
  },
  {
   "cell_type": "code",
   "execution_count": 377,
   "metadata": {
    "editable": true,
    "slideshow": {
     "slide_type": "skip"
    },
    "tags": []
   },
   "outputs": [],
   "source": [
    "# Copyright of the original version:\n",
    "\n",
    "# Copyright (c) 2014 Matt Dickenson\n",
    "# \n",
    "# Permission is hereby granted, free of charge, to any person obtaining a copy\n",
    "# of this software and associated documentation files (the \"Software\"), to deal\n",
    "# in the Software without restriction, including without limitation the rights\n",
    "# to use, copy, modify, merge, publish, distribute, sublicense, and/or sell\n",
    "# copies of the Software, and to permit persons to whom the Software is\n",
    "# furnished to do so, subject to the following conditions:\n",
    "# \n",
    "# The above copyright notice and this permission notice shall be included in all\n",
    "# copies or substantial portions of the Software.\n",
    "# \n",
    "# THE SOFTWARE IS PROVIDED \"AS IS\", WITHOUT WARRANTY OF ANY KIND, EXPRESS OR\n",
    "# IMPLIED, INCLUDING BUT NOT LIMITED TO THE WARRANTIES OF MERCHANTABILITY,\n",
    "# FITNESS FOR A PARTICULAR PURPOSE AND NONINFRINGEMENT. IN NO EVENT SHALL THE\n",
    "# AUTHORS OR COPYRIGHT HOLDERS BE LIABLE FOR ANY CLAIM, DAMAGES OR OTHER\n",
    "# LIABILITY, WHETHER IN AN ACTION OF CONTRACT, TORT OR OTHERWISE, ARISING FROM,\n",
    "# OUT OF OR IN CONNECTION WITH THE SOFTWARE OR THE USE OR OTHER DEALINGS IN THE\n",
    "# SOFTWARE.\n"
   ]
  }
 ],
 "metadata": {
  "kernelspec": {
   "display_name": "Python 3",
   "language": "python",
   "name": "python3"
  },
  "language_info": {
   "codemirror_mode": {
    "name": "ipython",
    "version": 3
   },
   "file_extension": ".py",
   "mimetype": "text/x-python",
   "name": "python",
   "nbconvert_exporter": "python",
   "pygments_lexer": "ipython3",
   "version": "3.13.1"
  }
 },
 "nbformat": 4,
 "nbformat_minor": 4
}
